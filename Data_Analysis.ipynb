{
  "nbformat": 4,
  "nbformat_minor": 0,
  "metadata": {
    "colab": {
      "name": "Untitled0.ipynb",
      "provenance": [],
      "authorship_tag": "ABX9TyPbpY3LE/nTYedftUkTyeq4"
    },
    "kernelspec": {
      "name": "python3",
      "display_name": "Python 3"
    }
  },
  "cells": [
    {
      "cell_type": "markdown",
      "metadata": {
        "id": "t4WtytgX618o"
      },
      "source": [
        "Activar Librerias"
      ]
    },
    {
      "cell_type": "code",
      "metadata": {
        "id": "VSmQeVtx6R3G"
      },
      "source": [
        "import pandas as pd\n",
        "import seaborn as sns"
      ],
      "execution_count": 67,
      "outputs": []
    },
    {
      "cell_type": "code",
      "metadata": {
        "id": "KJqOgYPx7PEY"
      },
      "source": [
        "df = pd.read_csv(\"single_family_home_values.csv\", encoding=\"ISO-8859-1\")"
      ],
      "execution_count": 92,
      "outputs": []
    },
    {
      "cell_type": "code",
      "metadata": {
        "id": "-LtwbXLk785F"
      },
      "source": [
        "df.head()"
      ],
      "execution_count": null,
      "outputs": []
    },
    {
      "cell_type": "code",
      "metadata": {
        "id": "D_Xnq1UV8afr"
      },
      "source": [
        "df.columns"
      ],
      "execution_count": null,
      "outputs": []
    },
    {
      "cell_type": "code",
      "metadata": {
        "id": "--JCSDa-8fur"
      },
      "source": [
        "df.columns = [\"identificador\", \"direccion\", \"ciudad\", \"estado\", \"codigo zip\", \"latitude\", \"longitud\", \"numero_cuartos\", \"numero_banos\", \"cuartos\", \"pies_cuadrado_construccion\", \"tamano_lote\", \"anio_construccion\", \"fecha_ultima_venta\", \"valor_ultima_venta\", \"fecha_venta_previa\", \"precio_venta_previa\", \"valor_estimado\"]"
      ],
      "execution_count": 93,
      "outputs": []
    },
    {
      "cell_type": "code",
      "metadata": {
        "id": "9CnNjN9z9woH"
      },
      "source": [
        "df.head()"
      ],
      "execution_count": null,
      "outputs": []
    },
    {
      "cell_type": "code",
      "metadata": {
        "id": "RPTgSLov-C8F"
      },
      "source": [
        "df.rename(columns={\"identificador\" : \"id\"})"
      ],
      "execution_count": null,
      "outputs": []
    },
    {
      "cell_type": "code",
      "metadata": {
        "id": "Xns8SwN8-8DX"
      },
      "source": [
        "df.direccion"
      ],
      "execution_count": null,
      "outputs": []
    },
    {
      "cell_type": "code",
      "metadata": {
        "id": "SSxLDrmR_I28"
      },
      "source": [
        "df['direccion']"
      ],
      "execution_count": null,
      "outputs": []
    },
    {
      "cell_type": "code",
      "metadata": {
        "id": "RQknCXHy_YUL"
      },
      "source": [
        "df[['direccion',\"ciudad\", \"estado\"]]"
      ],
      "execution_count": null,
      "outputs": []
    },
    {
      "cell_type": "code",
      "metadata": {
        "id": "lPIXQMQN_uus"
      },
      "source": [
        "df[\"direccion_completa\"] = df.direccion + \", \" + df.ciudad +  \", \" + df.estado"
      ],
      "execution_count": 46,
      "outputs": []
    },
    {
      "cell_type": "code",
      "metadata": {
        "id": "9s4-o4xIAJ1x"
      },
      "source": [
        "df.head()"
      ],
      "execution_count": null,
      "outputs": []
    },
    {
      "cell_type": "code",
      "metadata": {
        "id": "d9AZBpRhAyLD"
      },
      "source": [
        "df.drop(\"direccion_completa\", axis=1, inplace=True)"
      ],
      "execution_count": 48,
      "outputs": []
    },
    {
      "cell_type": "code",
      "metadata": {
        "id": "fZb4ir3aBr61"
      },
      "source": [
        "df.head()"
      ],
      "execution_count": null,
      "outputs": []
    },
    {
      "cell_type": "code",
      "metadata": {
        "id": "gOeKbDOuCM1S"
      },
      "source": [
        "df.shape"
      ],
      "execution_count": null,
      "outputs": []
    },
    {
      "cell_type": "code",
      "metadata": {
        "id": "LFVE6ioBCZ8R"
      },
      "source": [
        "df.info()"
      ],
      "execution_count": null,
      "outputs": []
    },
    {
      "cell_type": "code",
      "metadata": {
        "id": "sycyhvrPDX36"
      },
      "source": [
        "df.describe()"
      ],
      "execution_count": null,
      "outputs": []
    },
    {
      "cell_type": "code",
      "metadata": {
        "id": "z8uP4Fx2EDCE"
      },
      "source": [
        "df2 = df.fillna(0)"
      ],
      "execution_count": 54,
      "outputs": []
    },
    {
      "cell_type": "code",
      "metadata": {
        "id": "FpjT2hR5EPs7"
      },
      "source": [
        "df2.info()"
      ],
      "execution_count": null,
      "outputs": []
    },
    {
      "cell_type": "code",
      "metadata": {
        "id": "Q8PdTDQDE-5t"
      },
      "source": [
        "df3 = df.fillna(df.mean)"
      ],
      "execution_count": 58,
      "outputs": []
    },
    {
      "cell_type": "code",
      "metadata": {
        "id": "OGRMFZowFM1k"
      },
      "source": [
        "df3.info()"
      ],
      "execution_count": null,
      "outputs": []
    },
    {
      "cell_type": "code",
      "metadata": {
        "id": "0Go-fPVsFgjE"
      },
      "source": [
        "df.dropna(inplace = True)"
      ],
      "execution_count": 97,
      "outputs": []
    },
    {
      "cell_type": "code",
      "metadata": {
        "id": "UXE5uJT-F3jP"
      },
      "source": [
        "df.info()"
      ],
      "execution_count": null,
      "outputs": []
    },
    {
      "cell_type": "code",
      "metadata": {
        "id": "XkY_xMmlGC1D"
      },
      "source": [
        "df.shape"
      ],
      "execution_count": null,
      "outputs": []
    },
    {
      "cell_type": "code",
      "metadata": {
        "id": "3m8lm9HfGnjs"
      },
      "source": [
        "sns.boxplot(df.valor_estimado)"
      ],
      "execution_count": null,
      "outputs": []
    },
    {
      "cell_type": "code",
      "metadata": {
        "id": "oj-jRzHKHXyR"
      },
      "source": [
        "df = df[df.valor_estimado < 800000]"
      ],
      "execution_count": 98,
      "outputs": []
    },
    {
      "cell_type": "code",
      "metadata": {
        "id": "HBSHG42wHwcL"
      },
      "source": [
        "df.shape"
      ],
      "execution_count": null,
      "outputs": []
    },
    {
      "cell_type": "code",
      "metadata": {
        "id": "PAcUZm15InXU"
      },
      "source": [
        "sns.boxplot(df.valor_estimado)"
      ],
      "execution_count": null,
      "outputs": []
    },
    {
      "cell_type": "code",
      "metadata": {
        "id": "oeMccJqJJn1Z"
      },
      "source": [
        "df.valor_estimado.hist()"
      ],
      "execution_count": null,
      "outputs": []
    }
  ]
}