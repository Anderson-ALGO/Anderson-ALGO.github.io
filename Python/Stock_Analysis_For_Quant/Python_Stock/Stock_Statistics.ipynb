{
  "cells": [
    {
      "cell_type": "markdown",
      "source": [
        "# Stock Statistics"
      ],
      "metadata": {}
    },
    {
      "cell_type": "markdown",
      "source": [
        "Statistics is a branch of applied mathematics concerned with collecting, organizing, and interpreting data. Statistics is also the mathematical study of the likelihood and probability of events occurring based on known quantitative data or a collection of data.\n",
        "\n",
        "http://www.icoachmath.com/math_dictionary/Statistics"
      ],
      "metadata": {}
    },
    {
      "cell_type": "code",
      "source": [
        "import numpy as np\n",
        "import pandas as pd\n",
        "import scipy.stats as stats\n",
        "import matplotlib.pyplot as plt\n",
        "\n",
        "import warnings\n",
        "warnings.filterwarnings(\"ignore\")\n",
        "\n",
        "# fix_yahoo_finance is used to fetch data \n",
        "import fix_yahoo_finance as yf\n",
        "yf.pdr_override()"
      ],
      "outputs": [],
      "execution_count": 1,
      "metadata": {
        "collapsed": false,
        "outputHidden": false,
        "inputHidden": false
      }
    },
    {
      "cell_type": "code",
      "source": [
        "# input\n",
        "symbol = 'AAPL'\n",
        "start = '2014-01-01'\n",
        "end = '2019-01-01'\n",
        "\n",
        "# Read data \n",
        "df = yf.download(symbol,start,end)\n",
        "\n",
        "# View Columns\n",
        "df.head()"
      ],
      "outputs": [
        {
          "output_type": "stream",
          "name": "stdout",
          "text": [
            "[*********************100%***********************]  1 of 1 downloaded\n"
          ]
        },
        {
          "output_type": "execute_result",
          "execution_count": 2,
          "data": {
            "text/plain": [
              "                 Open       High        Low      Close  Adj Close     Volume\n",
              "Date                                                                        \n",
              "2014-01-02  79.382858  79.575714  78.860001  79.018570  71.591667   58671200\n",
              "2014-01-03  78.980003  79.099998  77.204285  77.282860  70.019096   98116900\n",
              "2014-01-06  76.778572  78.114288  76.228569  77.704285  70.400902  103152700\n",
              "2014-01-07  77.760002  77.994286  76.845711  77.148575  69.897423   79302300\n",
              "2014-01-08  76.972855  77.937141  76.955711  77.637146  70.340096   64632400"
            ],
            "text/html": [
              "<div>\n",
              "<style scoped>\n",
              "    .dataframe tbody tr th:only-of-type {\n",
              "        vertical-align: middle;\n",
              "    }\n",
              "\n",
              "    .dataframe tbody tr th {\n",
              "        vertical-align: top;\n",
              "    }\n",
              "\n",
              "    .dataframe thead th {\n",
              "        text-align: right;\n",
              "    }\n",
              "</style>\n",
              "<table border=\"1\" class=\"dataframe\">\n",
              "  <thead>\n",
              "    <tr style=\"text-align: right;\">\n",
              "      <th></th>\n",
              "      <th>Open</th>\n",
              "      <th>High</th>\n",
              "      <th>Low</th>\n",
              "      <th>Close</th>\n",
              "      <th>Adj Close</th>\n",
              "      <th>Volume</th>\n",
              "    </tr>\n",
              "    <tr>\n",
              "      <th>Date</th>\n",
              "      <th></th>\n",
              "      <th></th>\n",
              "      <th></th>\n",
              "      <th></th>\n",
              "      <th></th>\n",
              "      <th></th>\n",
              "    </tr>\n",
              "  </thead>\n",
              "  <tbody>\n",
              "    <tr>\n",
              "      <th>2014-01-02</th>\n",
              "      <td>79.382858</td>\n",
              "      <td>79.575714</td>\n",
              "      <td>78.860001</td>\n",
              "      <td>79.018570</td>\n",
              "      <td>71.591667</td>\n",
              "      <td>58671200</td>\n",
              "    </tr>\n",
              "    <tr>\n",
              "      <th>2014-01-03</th>\n",
              "      <td>78.980003</td>\n",
              "      <td>79.099998</td>\n",
              "      <td>77.204285</td>\n",
              "      <td>77.282860</td>\n",
              "      <td>70.019096</td>\n",
              "      <td>98116900</td>\n",
              "    </tr>\n",
              "    <tr>\n",
              "      <th>2014-01-06</th>\n",
              "      <td>76.778572</td>\n",
              "      <td>78.114288</td>\n",
              "      <td>76.228569</td>\n",
              "      <td>77.704285</td>\n",
              "      <td>70.400902</td>\n",
              "      <td>103152700</td>\n",
              "    </tr>\n",
              "    <tr>\n",
              "      <th>2014-01-07</th>\n",
              "      <td>77.760002</td>\n",
              "      <td>77.994286</td>\n",
              "      <td>76.845711</td>\n",
              "      <td>77.148575</td>\n",
              "      <td>69.897423</td>\n",
              "      <td>79302300</td>\n",
              "    </tr>\n",
              "    <tr>\n",
              "      <th>2014-01-08</th>\n",
              "      <td>76.972855</td>\n",
              "      <td>77.937141</td>\n",
              "      <td>76.955711</td>\n",
              "      <td>77.637146</td>\n",
              "      <td>70.340096</td>\n",
              "      <td>64632400</td>\n",
              "    </tr>\n",
              "  </tbody>\n",
              "</table>\n",
              "</div>"
            ]
          },
          "metadata": {}
        }
      ],
      "execution_count": 2,
      "metadata": {
        "collapsed": false,
        "outputHidden": false,
        "inputHidden": false
      }
    },
    {
      "cell_type": "code",
      "source": [
        "returns = df['Adj Close'].pct_change()[1:].dropna()"
      ],
      "outputs": [],
      "execution_count": 3,
      "metadata": {
        "collapsed": false,
        "outputHidden": false,
        "inputHidden": false
      }
    },
    {
      "cell_type": "markdown",
      "source": [
        "### Mean is the average number, sum of the values divided by the number of values.\n",
        "### Median is the middle value in the list of numbers.\n",
        "### Mode is the value that occurs often."
      ],
      "metadata": {}
    },
    {
      "cell_type": "code",
      "source": [
        "import statistics as st\n",
        "\n",
        "print('Mean of returns:', st.mean(returns))\n",
        "print('Median of returns:', st.median(returns))\n",
        "print('Median Low of returns:', st.median_low(returns))\n",
        "print('Median High of returns:', st.median_high(returns))\n",
        "print('Median Grouped of returns:', st.median_grouped(returns))\n",
        "print('Mode of returns:', st.mode(returns))"
      ],
      "outputs": [
        {
          "output_type": "stream",
          "name": "stdout",
          "text": [
            "Mean of returns: 0.0007357373017012066\n",
            "Median of returns: 0.0006264819982997327\n",
            "Median Low of returns: 0.0006264819982997327\n",
            "Median High of returns: 0.0006264819982997327\n",
            "Median Grouped of returns: 0.0006264819982997327\n",
            "Mode of returns: 0.0\n"
          ]
        }
      ],
      "execution_count": 4,
      "metadata": {
        "collapsed": false,
        "outputHidden": false,
        "inputHidden": false
      }
    },
    {
      "cell_type": "code",
      "source": [
        "from statistics import mode\n",
        "\n",
        "print('Mode of returns:', mode(returns))\n",
        "# Since all of the returns are distinct, we use a frequency distribution to get an alternative mode.\n",
        "# np.histogram returns the frequency distribution over the bins as well as the endpoints of the bins\n",
        "hist, bins = np.histogram(returns, 20) # Break data up into 20 bins\n",
        "maxfreq = max(hist)\n",
        "# Find all of the bins that are hit with frequency maxfreq, then print the intervals corresponding to them\n",
        "print('Mode of bins:', [(bins[i], bins[i+1]) for i, j in enumerate(hist) if j == maxfreq])"
      ],
      "outputs": [
        {
          "output_type": "stream",
          "name": "stdout",
          "text": [
            "Mode of returns: 0.0\n",
            "Mode of bins: [(-0.0070681808335254365, 0.0010272794824504605)]\n"
          ]
        }
      ],
      "execution_count": 5,
      "metadata": {
        "collapsed": false,
        "outputHidden": false,
        "inputHidden": false
      }
    },
    {
      "cell_type": "markdown",
      "source": [
        "### Arithmetic Average Returns is average return on the the stock or investment"
      ],
      "metadata": {}
    },
    {
      "cell_type": "code",
      "source": [
        "print('Arithmetic average of returns:\\n')\n",
        "print(returns.mean())"
      ],
      "outputs": [
        {
          "output_type": "stream",
          "name": "stdout",
          "text": [
            "Arithmetic average of returns:\n",
            "\n",
            "0.0007357373017012073\n"
          ]
        }
      ],
      "execution_count": 6,
      "metadata": {
        "collapsed": false,
        "outputHidden": false,
        "inputHidden": false
      }
    },
    {
      "cell_type": "markdown",
      "source": [
        "### Geometric mean is the average of a set of products, the calculation of which is commonly used to determine the performance results of an investment or portfolio. It is technically defined as \"the nth root product of n numbers.\" The geometric mean must be used when working with percentages, which are derived from values, while the standard arithmetic mean works with the values themselves.  \n",
        "\n",
        "https://www.investopedia.com/terms/h/harmonicaverage.asp"
      ],
      "metadata": {}
    },
    {
      "cell_type": "code",
      "source": [
        "# Geometric mean\n",
        "from scipy.stats.mstats import gmean\n",
        "print('Geometric mean of stock:', gmean(returns))"
      ],
      "outputs": [
        {
          "output_type": "stream",
          "name": "stdout",
          "text": [
            "Geometric mean of stock: nan\n"
          ]
        }
      ],
      "execution_count": 7,
      "metadata": {
        "collapsed": false,
        "outputHidden": false,
        "inputHidden": false
      }
    },
    {
      "cell_type": "code",
      "source": [
        "ratios = returns + np.ones(len(returns))\n",
        "R_G = gmean(ratios) - 1\n",
        "print('Geometric mean of returns:', R_G)"
      ],
      "outputs": [
        {
          "output_type": "stream",
          "name": "stdout",
          "text": [
            "Geometric mean of returns: 0.000622187293129\n"
          ]
        }
      ],
      "execution_count": 8,
      "metadata": {
        "collapsed": false,
        "outputHidden": false,
        "inputHidden": false
      }
    },
    {
      "cell_type": "markdown",
      "source": [
        "### Standard deviation of returns is the risk of returns"
      ],
      "metadata": {}
    },
    {
      "cell_type": "code",
      "source": [
        "print('Standard deviation of returns')\n",
        "print(returns.std())"
      ],
      "outputs": [
        {
          "output_type": "stream",
          "name": "stdout",
          "text": [
            "Standard deviation of returns\n",
            "0.01507109969428369\n"
          ]
        }
      ],
      "execution_count": 9,
      "metadata": {
        "collapsed": false,
        "outputHidden": false,
        "inputHidden": false
      }
    },
    {
      "cell_type": "code",
      "source": [
        "T = len(returns)\n",
        "init_price = df['Adj Close'][0]\n",
        "final_price = df['Adj Close'][T]\n",
        "print('Initial price:', init_price)\n",
        "print('Final price:', final_price)\n",
        "print('Final price as computed with R_G:', init_price*(1 + R_G)**T)"
      ],
      "outputs": [
        {
          "output_type": "stream",
          "name": "stdout",
          "text": [
            "Initial price: 71.591667\n",
            "Final price: 156.463837\n",
            "Final price as computed with R_G: 156.463837\n"
          ]
        }
      ],
      "execution_count": 10,
      "metadata": {
        "collapsed": false,
        "outputHidden": false,
        "inputHidden": false
      }
    },
    {
      "cell_type": "markdown",
      "source": [
        "### Harmonic Mean is numerical average. \n",
        "\n",
        "Formula: A set of n numbers, add the reciprocals of the numbers in the set, divide the sum by n, then take the reciprocal of the result."
      ],
      "metadata": {}
    },
    {
      "cell_type": "code",
      "source": [
        "# Harmonic mean\n",
        "\n",
        "print('Harmonic mean of returns:', len(returns)/np.sum(1.0/returns))"
      ],
      "outputs": [
        {
          "output_type": "stream",
          "name": "stdout",
          "text": [
            "Harmonic mean of returns: 0.0\n"
          ]
        }
      ],
      "execution_count": 11,
      "metadata": {
        "collapsed": false,
        "outputHidden": false,
        "inputHidden": false
      }
    },
    {
      "cell_type": "code",
      "source": [
        "print('Skew:', stats.skew(returns))\n",
        "print('Mean:', np.mean(returns))\n",
        "print('Median:', np.median(returns))\n",
        "\n",
        "plt.hist(returns, 30); "
      ],
      "outputs": [
        {
          "output_type": "stream",
          "name": "stdout",
          "text": [
            "Skew: -0.06538797604571234\n",
            "Mean: 0.0007357373017012073\n",
            "Median: 0.0006264819983\n"
          ]
        },
        {
          "output_type": "display_data",
          "data": {
            "image/png": "[encoded data removed]",
            "text/plain": [
              "<Figure size 432x288 with 1 Axes>"
            ]
          },
          "metadata": {}
        }
      ],
      "execution_count": 12,
      "metadata": {
        "collapsed": false,
        "outputHidden": false,
        "inputHidden": false
      }
    },
    {
      "cell_type": "code",
      "source": [
        "# Plot some example distributions stock's returns\n",
        "xs = np.linspace(-6,6, 1257)\n",
        "normal = stats.norm.pdf(xs)\n",
        "plt.plot(returns,stats.laplace.pdf(returns), label='Leptokurtic')\n",
        "print('Excess kurtosis of leptokurtic distribution:', (stats.laplace.stats(returns)))\n",
        "plt.plot(returns, normal, label='Mesokurtic (normal)')\n",
        "print('Excess kurtosis of mesokurtic distribution:', (stats.norm.stats(returns)))\n",
        "plt.plot(returns,stats.cosine.pdf(returns), label='Platykurtic')\n",
        "print('Excess kurtosis of platykurtic distribution:', (stats.cosine.stats(returns)))\n",
        "plt.legend()"
      ],
      "outputs": [
        {
          "output_type": "stream",
          "name": "stdout",
          "text": [
            "Excess kurtosis of leptokurtic distribution: (array([-0.02196584,  0.00545288, -0.0071516 , ..., -0.0064898 ,\n",
            "        0.00051228,  0.00966536]), array([ 2.,  2.,  2., ...,  2.,  2.,  2.]))\n",
            "Excess kurtosis of mesokurtic distribution: (array([-0.02196584,  0.00545288, -0.0071516 , ..., -0.0064898 ,\n",
            "        0.00051228,  0.00966536]), array([ 1.,  1.,  1., ...,  1.,  1.,  1.]))\n",
            "Excess kurtosis of platykurtic distribution: (array([-0.02196584,  0.00545288, -0.0071516 , ..., -0.0064898 ,\n",
            "        0.00051228,  0.00966536]), array([ 1.28986813,  1.28986813,  1.28986813, ...,  1.28986813,\n",
            "        1.28986813,  1.28986813]))\n"
          ]
        },
        {
          "output_type": "execute_result",
          "execution_count": 13,
          "data": {
            "text/plain": [
              "<matplotlib.legend.Legend at 0x22b05769fd0>"
            ]
          },
          "metadata": {}
        },
        {
          "output_type": "display_data",
          "data": {
            "image/png": "[encoded data removed]",
            "text/plain": [
              "<Figure size 432x288 with 1 Axes>"
            ]
          },
          "metadata": {}
        }
      ],
      "execution_count": 13,
      "metadata": {
        "collapsed": false,
        "outputHidden": false,
        "inputHidden": false
      }
    },
    {
      "cell_type": "code",
      "source": [
        "print(\"Excess kurtosis of returns: \", stats.kurtosis(returns))"
      ],
      "outputs": [
        {
          "output_type": "stream",
          "name": "stdout",
          "text": [
            "Excess kurtosis of returns:  3.73675394710252\n"
          ]
        }
      ],
      "execution_count": 14,
      "metadata": {
        "collapsed": false,
        "outputHidden": false,
        "inputHidden": false
      }
    },
    {
      "cell_type": "code",
      "source": [
        "from statsmodels.stats.stattools import jarque_bera\n",
        "\n",
        "_, pvalue, _, _ = jarque_bera(returns)\n",
        "\n",
        "if pvalue > 0.05:\n",
        "    print('The returns are likely normal.')\n",
        "else:\n",
        "    print('The returns are likely not normal.')"
      ],
      "outputs": [
        {
          "output_type": "stream",
          "name": "stdout",
          "text": [
            "The returns are likely not normal.\n"
          ]
        }
      ],
      "execution_count": 15,
      "metadata": {
        "collapsed": false,
        "outputHidden": false,
        "inputHidden": false
      }
    }
  ],
  "metadata": {
    "kernel_info": {
      "name": "python3"
    },
    "language_info": {
      "file_extension": ".py",
      "pygments_lexer": "ipython3",
      "nbconvert_exporter": "python",
      "codemirror_mode": {
        "version": 3,
        "name": "ipython"
      },
      "version": "3.5.5",
      "name": "python",
      "mimetype": "text/x-python"
    },
    "kernelspec": {
      "name": "python3",
      "language": "python",
      "display_name": "Python 3"
    },
    "nteract": {
      "version": "0.14.3"
    }
  },
  "nbformat": 4,
  "nbformat_minor": 0
}