{
  "cells": [
    {
      "cell_type": "markdown",
      "source": [
        "# Stock Information"
      ],
      "metadata": {}
    },
    {
      "cell_type": "code",
      "source": [
        "# Libraries\n",
        "import numpy as np\n",
        "import pandas as pd\n",
        "import matplotlib\n",
        "import matplotlib.pyplot as plt\n",
        "import seaborn as sns\n",
        "%matplotlib inline\n",
        "\n",
        "import sys\n",
        "import warnings\n",
        "warnings.filterwarnings(\"ignore\")\n",
        "\n",
        "from pandas_datareader import data as pdr\n",
        "import yfinance as yf\n",
        "yf.pdr_override()"
      ],
      "outputs": [],
      "execution_count": 1,
      "metadata": {
        "collapsed": false,
        "outputHidden": false,
        "inputHidden": false
      }
    },
    {
      "cell_type": "code",
      "source": [
        "# Check versions of modules used \n",
        "print(\"numpy: {}\".format(np.__version__))\n",
        "print(\"pandas: {}\".format(pd.__version__))\n",
        "print(\"matplotlib: {}\".format(matplotlib.__version__))\n",
        "print(\"seaborn: {}\".format(sns.__version__))\n",
        "print(\"yahoo_finance: {}\".format(yf.__version__))\n",
        "print(\"python: {}\".format(sys.version))"
      ],
      "outputs": [
        {
          "output_type": "stream",
          "name": "stdout",
          "text": [
            "numpy: 1.17.2\n",
            "pandas: 0.24.2\n",
            "matplotlib: 3.0.3\n",
            "seaborn: 0.9.0\n",
            "yahoo_finance: 0.1.52\n",
            "python: 3.5.5 | packaged by conda-forge | (default, Jul 24 2018, 01:52:17) [MSC v.1900 64 bit (AMD64)]\n"
          ]
        }
      ],
      "execution_count": 2,
      "metadata": {
        "collapsed": false,
        "outputHidden": false,
        "inputHidden": false
      }
    },
    {
      "cell_type": "code",
      "source": [
        "stock = 'AMD'\n",
        "start = '2015-01-01' \n",
        "end = '2018-01-01'\n",
        "data = pdr.get_data_yahoo(stock, start, end)"
      ],
      "outputs": [
        {
          "output_type": "stream",
          "name": "stdout",
          "text": [
            "[*********************100%***********************]  1 of 1 completed\n"
          ]
        }
      ],
      "execution_count": 3,
      "metadata": {
        "collapsed": false,
        "outputHidden": false,
        "inputHidden": false
      }
    },
    {
      "cell_type": "code",
      "source": [
        "# Inspect the index \n",
        "data.index"
      ],
      "outputs": [
        {
          "output_type": "execute_result",
          "execution_count": 4,
          "data": {
            "text/plain": [
              "DatetimeIndex(['2015-01-02', '2015-01-05', '2015-01-06', '2015-01-07',\n",
              "               '2015-01-08', '2015-01-09', '2015-01-12', '2015-01-13',\n",
              "               '2015-01-14', '2015-01-15',\n",
              "               ...\n",
              "               '2017-12-15', '2017-12-18', '2017-12-19', '2017-12-20',\n",
              "               '2017-12-21', '2017-12-22', '2017-12-26', '2017-12-27',\n",
              "               '2017-12-28', '2017-12-29'],\n",
              "              dtype='datetime64[ns]', name='Date', length=755, freq=None)"
            ]
          },
          "metadata": {}
        }
      ],
      "execution_count": 4,
      "metadata": {
        "collapsed": false,
        "outputHidden": false,
        "inputHidden": false
      }
    },
    {
      "cell_type": "code",
      "source": [
        "# Inspect the columns\n",
        "data.columns"
      ],
      "outputs": [
        {
          "output_type": "execute_result",
          "execution_count": 5,
          "data": {
            "text/plain": [
              "Index(['Adj Close', 'Close', 'High', 'Low', 'Open', 'Volume'], dtype='object')"
            ]
          },
          "metadata": {}
        }
      ],
      "execution_count": 5,
      "metadata": {
        "collapsed": false,
        "outputHidden": false,
        "inputHidden": false
      }
    },
    {
      "cell_type": "code",
      "source": [
        "# Type of data\n",
        "type(data)"
      ],
      "outputs": [
        {
          "output_type": "execute_result",
          "execution_count": 6,
          "data": {
            "text/plain": [
              "pandas.core.frame.DataFrame"
            ]
          },
          "metadata": {}
        }
      ],
      "execution_count": 6,
      "metadata": {
        "collapsed": false,
        "outputHidden": false,
        "inputHidden": false
      }
    },
    {
      "cell_type": "code",
      "source": [
        "data = data.reset_index() # Date has a column"
      ],
      "outputs": [],
      "execution_count": 7,
      "metadata": {
        "collapsed": false,
        "outputHidden": false,
        "inputHidden": false
      }
    },
    {
      "cell_type": "code",
      "source": [
        "data.head() # First 5 rows"
      ],
      "outputs": [
        {
          "output_type": "execute_result",
          "execution_count": 8,
          "data": {
            "text/plain": [
              "        Date  Adj Close  Close  High   Low  Open    Volume\n",
              "0 2015-01-02       2.67   2.67  2.67  2.67  2.67         0\n",
              "1 2015-01-05       2.66   2.66  2.70  2.64  2.67   8878200\n",
              "2 2015-01-06       2.63   2.63  2.66  2.55  2.65  13912500\n",
              "3 2015-01-07       2.58   2.58  2.65  2.54  2.63  12377600\n",
              "4 2015-01-08       2.61   2.61  2.65  2.56  2.59  11136600"
            ],
            "text/html": [
              "<div>\n",
              "<style scoped>\n",
              "    .dataframe tbody tr th:only-of-type {\n",
              "        vertical-align: middle;\n",
              "    }\n",
              "\n",
              "    .dataframe tbody tr th {\n",
              "        vertical-align: top;\n",
              "    }\n",
              "\n",
              "    .dataframe thead th {\n",
              "        text-align: right;\n",
              "    }\n",
              "</style>\n",
              "<table border=\"1\" class=\"dataframe\">\n",
              "  <thead>\n",
              "    <tr style=\"text-align: right;\">\n",
              "      <th></th>\n",
              "      <th>Date</th>\n",
              "      <th>Adj Close</th>\n",
              "      <th>Close</th>\n",
              "      <th>High</th>\n",
              "      <th>Low</th>\n",
              "      <th>Open</th>\n",
              "      <th>Volume</th>\n",
              "    </tr>\n",
              "  </thead>\n",
              "  <tbody>\n",
              "    <tr>\n",
              "      <th>0</th>\n",
              "      <td>2015-01-02</td>\n",
              "      <td>2.67</td>\n",
              "      <td>2.67</td>\n",
              "      <td>2.67</td>\n",
              "      <td>2.67</td>\n",
              "      <td>2.67</td>\n",
              "      <td>0</td>\n",
              "    </tr>\n",
              "    <tr>\n",
              "      <th>1</th>\n",
              "      <td>2015-01-05</td>\n",
              "      <td>2.66</td>\n",
              "      <td>2.66</td>\n",
              "      <td>2.70</td>\n",
              "      <td>2.64</td>\n",
              "      <td>2.67</td>\n",
              "      <td>8878200</td>\n",
              "    </tr>\n",
              "    <tr>\n",
              "      <th>2</th>\n",
              "      <td>2015-01-06</td>\n",
              "      <td>2.63</td>\n",
              "      <td>2.63</td>\n",
              "      <td>2.66</td>\n",
              "      <td>2.55</td>\n",
              "      <td>2.65</td>\n",
              "      <td>13912500</td>\n",
              "    </tr>\n",
              "    <tr>\n",
              "      <th>3</th>\n",
              "      <td>2015-01-07</td>\n",
              "      <td>2.58</td>\n",
              "      <td>2.58</td>\n",
              "      <td>2.65</td>\n",
              "      <td>2.54</td>\n",
              "      <td>2.63</td>\n",
              "      <td>12377600</td>\n",
              "    </tr>\n",
              "    <tr>\n",
              "      <th>4</th>\n",
              "      <td>2015-01-08</td>\n",
              "      <td>2.61</td>\n",
              "      <td>2.61</td>\n",
              "      <td>2.65</td>\n",
              "      <td>2.56</td>\n",
              "      <td>2.59</td>\n",
              "      <td>11136600</td>\n",
              "    </tr>\n",
              "  </tbody>\n",
              "</table>\n",
              "</div>"
            ]
          },
          "metadata": {}
        }
      ],
      "execution_count": 8,
      "metadata": {
        "collapsed": false,
        "outputHidden": false,
        "inputHidden": false
      }
    },
    {
      "cell_type": "code",
      "source": [
        "data.tail() # Last 5 rows"
      ],
      "outputs": [
        {
          "output_type": "execute_result",
          "execution_count": 9,
          "data": {
            "text/plain": [
              "          Date  Adj Close  Close   High    Low   Open    Volume\n",
              "750 2017-12-22      10.54  10.54  10.77  10.20  10.75  50744500\n",
              "751 2017-12-26      10.46  10.46  10.58  10.34  10.38  20437900\n",
              "752 2017-12-27      10.53  10.53  10.74  10.40  10.45  22921800\n",
              "753 2017-12-28      10.55  10.55  10.64  10.43  10.57  18609400\n",
              "754 2017-12-29      10.28  10.28  10.58  10.27  10.57  26678900"
            ],
            "text/html": [
              "<div>\n",
              "<style scoped>\n",
              "    .dataframe tbody tr th:only-of-type {\n",
              "        vertical-align: middle;\n",
              "    }\n",
              "\n",
              "    .dataframe tbody tr th {\n",
              "        vertical-align: top;\n",
              "    }\n",
              "\n",
              "    .dataframe thead th {\n",
              "        text-align: right;\n",
              "    }\n",
              "</style>\n",
              "<table border=\"1\" class=\"dataframe\">\n",
              "  <thead>\n",
              "    <tr style=\"text-align: right;\">\n",
              "      <th></th>\n",
              "      <th>Date</th>\n",
              "      <th>Adj Close</th>\n",
              "      <th>Close</th>\n",
              "      <th>High</th>\n",
              "      <th>Low</th>\n",
              "      <th>Open</th>\n",
              "      <th>Volume</th>\n",
              "    </tr>\n",
              "  </thead>\n",
              "  <tbody>\n",
              "    <tr>\n",
              "      <th>750</th>\n",
              "      <td>2017-12-22</td>\n",
              "      <td>10.54</td>\n",
              "      <td>10.54</td>\n",
              "      <td>10.77</td>\n",
              "      <td>10.20</td>\n",
              "      <td>10.75</td>\n",
              "      <td>50744500</td>\n",
              "    </tr>\n",
              "    <tr>\n",
              "      <th>751</th>\n",
              "      <td>2017-12-26</td>\n",
              "      <td>10.46</td>\n",
              "      <td>10.46</td>\n",
              "      <td>10.58</td>\n",
              "      <td>10.34</td>\n",
              "      <td>10.38</td>\n",
              "      <td>20437900</td>\n",
              "    </tr>\n",
              "    <tr>\n",
              "      <th>752</th>\n",
              "      <td>2017-12-27</td>\n",
              "      <td>10.53</td>\n",
              "      <td>10.53</td>\n",
              "      <td>10.74</td>\n",
              "      <td>10.40</td>\n",
              "      <td>10.45</td>\n",
              "      <td>22921800</td>\n",
              "    </tr>\n",
              "    <tr>\n",
              "      <th>753</th>\n",
              "      <td>2017-12-28</td>\n",
              "      <td>10.55</td>\n",
              "      <td>10.55</td>\n",
              "      <td>10.64</td>\n",
              "      <td>10.43</td>\n",
              "      <td>10.57</td>\n",
              "      <td>18609400</td>\n",
              "    </tr>\n",
              "    <tr>\n",
              "      <th>754</th>\n",
              "      <td>2017-12-29</td>\n",
              "      <td>10.28</td>\n",
              "      <td>10.28</td>\n",
              "      <td>10.58</td>\n",
              "      <td>10.27</td>\n",
              "      <td>10.57</td>\n",
              "      <td>26678900</td>\n",
              "    </tr>\n",
              "  </tbody>\n",
              "</table>\n",
              "</div>"
            ]
          },
          "metadata": {}
        }
      ],
      "execution_count": 9,
      "metadata": {
        "collapsed": false,
        "outputHidden": false,
        "inputHidden": false
      }
    },
    {
      "cell_type": "code",
      "source": [
        "data.describe() # Statistics"
      ],
      "outputs": [
        {
          "output_type": "execute_result",
          "execution_count": 10,
          "data": {
            "text/plain": [
              "        Adj Close       Close        High         Low        Open  \\\n",
              "count  755.000000  755.000000  755.000000  755.000000  755.000000   \n",
              "mean     6.658503    6.658503    6.803576    6.512450    6.660927   \n",
              "std      4.559978    4.559978    4.650876    4.472189    4.572615   \n",
              "min      1.620000    1.620000    1.690000    1.610000    1.620000   \n",
              "25%      2.360000    2.360000    2.430000    2.315000    2.360000   \n",
              "50%      5.100000    5.100000    5.190000    5.000000    5.100000   \n",
              "75%     11.300000   11.300000   11.510000   11.125000   11.300000   \n",
              "max     15.200000   15.200000   15.650000   14.520000   15.450000   \n",
              "\n",
              "             Volume  \n",
              "count  7.550000e+02  \n",
              "mean   3.646362e+07  \n",
              "std    3.476847e+07  \n",
              "min    0.000000e+00  \n",
              "25%    1.146880e+07  \n",
              "50%    2.751560e+07  \n",
              "75%    4.981880e+07  \n",
              "max    2.683365e+08  "
            ],
            "text/html": [
              "<div>\n",
              "<style scoped>\n",
              "    .dataframe tbody tr th:only-of-type {\n",
              "        vertical-align: middle;\n",
              "    }\n",
              "\n",
              "    .dataframe tbody tr th {\n",
              "        vertical-align: top;\n",
              "    }\n",
              "\n",
              "    .dataframe thead th {\n",
              "        text-align: right;\n",
              "    }\n",
              "</style>\n",
              "<table border=\"1\" class=\"dataframe\">\n",
              "  <thead>\n",
              "    <tr style=\"text-align: right;\">\n",
              "      <th></th>\n",
              "      <th>Adj Close</th>\n",
              "      <th>Close</th>\n",
              "      <th>High</th>\n",
              "      <th>Low</th>\n",
              "      <th>Open</th>\n",
              "      <th>Volume</th>\n",
              "    </tr>\n",
              "  </thead>\n",
              "  <tbody>\n",
              "    <tr>\n",
              "      <th>count</th>\n",
              "      <td>755.000000</td>\n",
              "      <td>755.000000</td>\n",
              "      <td>755.000000</td>\n",
              "      <td>755.000000</td>\n",
              "      <td>755.000000</td>\n",
              "      <td>7.550000e+02</td>\n",
              "    </tr>\n",
              "    <tr>\n",
              "      <th>mean</th>\n",
              "      <td>6.658503</td>\n",
              "      <td>6.658503</td>\n",
              "      <td>6.803576</td>\n",
              "      <td>6.512450</td>\n",
              "      <td>6.660927</td>\n",
              "      <td>3.646362e+07</td>\n",
              "    </tr>\n",
              "    <tr>\n",
              "      <th>std</th>\n",
              "      <td>4.559978</td>\n",
              "      <td>4.559978</td>\n",
              "      <td>4.650876</td>\n",
              "      <td>4.472189</td>\n",
              "      <td>4.572615</td>\n",
              "      <td>3.476847e+07</td>\n",
              "    </tr>\n",
              "    <tr>\n",
              "      <th>min</th>\n",
              "      <td>1.620000</td>\n",
              "      <td>1.620000</td>\n",
              "      <td>1.690000</td>\n",
              "      <td>1.610000</td>\n",
              "      <td>1.620000</td>\n",
              "      <td>0.000000e+00</td>\n",
              "    </tr>\n",
              "    <tr>\n",
              "      <th>25%</th>\n",
              "      <td>2.360000</td>\n",
              "      <td>2.360000</td>\n",
              "      <td>2.430000</td>\n",
              "      <td>2.315000</td>\n",
              "      <td>2.360000</td>\n",
              "      <td>1.146880e+07</td>\n",
              "    </tr>\n",
              "    <tr>\n",
              "      <th>50%</th>\n",
              "      <td>5.100000</td>\n",
              "      <td>5.100000</td>\n",
              "      <td>5.190000</td>\n",
              "      <td>5.000000</td>\n",
              "      <td>5.100000</td>\n",
              "      <td>2.751560e+07</td>\n",
              "    </tr>\n",
              "    <tr>\n",
              "      <th>75%</th>\n",
              "      <td>11.300000</td>\n",
              "      <td>11.300000</td>\n",
              "      <td>11.510000</td>\n",
              "      <td>11.125000</td>\n",
              "      <td>11.300000</td>\n",
              "      <td>4.981880e+07</td>\n",
              "    </tr>\n",
              "    <tr>\n",
              "      <th>max</th>\n",
              "      <td>15.200000</td>\n",
              "      <td>15.200000</td>\n",
              "      <td>15.650000</td>\n",
              "      <td>14.520000</td>\n",
              "      <td>15.450000</td>\n",
              "      <td>2.683365e+08</td>\n",
              "    </tr>\n",
              "  </tbody>\n",
              "</table>\n",
              "</div>"
            ]
          },
          "metadata": {}
        }
      ],
      "execution_count": 10,
      "metadata": {
        "collapsed": false,
        "outputHidden": false,
        "inputHidden": false
      }
    },
    {
      "cell_type": "code",
      "source": [
        "prices = data['Adj Close']\n",
        "features = data.drop(['Date','Adj Close', 'Close'], axis = 1)"
      ],
      "outputs": [],
      "execution_count": 11,
      "metadata": {
        "collapsed": false,
        "outputHidden": false,
        "inputHidden": false
      }
    },
    {
      "cell_type": "code",
      "source": [
        "features.tail()"
      ],
      "outputs": [
        {
          "output_type": "execute_result",
          "execution_count": 12,
          "data": {
            "text/plain": [
              "      High    Low   Open    Volume\n",
              "750  10.77  10.20  10.75  50744500\n",
              "751  10.58  10.34  10.38  20437900\n",
              "752  10.74  10.40  10.45  22921800\n",
              "753  10.64  10.43  10.57  18609400\n",
              "754  10.58  10.27  10.57  26678900"
            ],
            "text/html": [
              "<div>\n",
              "<style scoped>\n",
              "    .dataframe tbody tr th:only-of-type {\n",
              "        vertical-align: middle;\n",
              "    }\n",
              "\n",
              "    .dataframe tbody tr th {\n",
              "        vertical-align: top;\n",
              "    }\n",
              "\n",
              "    .dataframe thead th {\n",
              "        text-align: right;\n",
              "    }\n",
              "</style>\n",
              "<table border=\"1\" class=\"dataframe\">\n",
              "  <thead>\n",
              "    <tr style=\"text-align: right;\">\n",
              "      <th></th>\n",
              "      <th>High</th>\n",
              "      <th>Low</th>\n",
              "      <th>Open</th>\n",
              "      <th>Volume</th>\n",
              "    </tr>\n",
              "  </thead>\n",
              "  <tbody>\n",
              "    <tr>\n",
              "      <th>750</th>\n",
              "      <td>10.77</td>\n",
              "      <td>10.20</td>\n",
              "      <td>10.75</td>\n",
              "      <td>50744500</td>\n",
              "    </tr>\n",
              "    <tr>\n",
              "      <th>751</th>\n",
              "      <td>10.58</td>\n",
              "      <td>10.34</td>\n",
              "      <td>10.38</td>\n",
              "      <td>20437900</td>\n",
              "    </tr>\n",
              "    <tr>\n",
              "      <th>752</th>\n",
              "      <td>10.74</td>\n",
              "      <td>10.40</td>\n",
              "      <td>10.45</td>\n",
              "      <td>22921800</td>\n",
              "    </tr>\n",
              "    <tr>\n",
              "      <th>753</th>\n",
              "      <td>10.64</td>\n",
              "      <td>10.43</td>\n",
              "      <td>10.57</td>\n",
              "      <td>18609400</td>\n",
              "    </tr>\n",
              "    <tr>\n",
              "      <th>754</th>\n",
              "      <td>10.58</td>\n",
              "      <td>10.27</td>\n",
              "      <td>10.57</td>\n",
              "      <td>26678900</td>\n",
              "    </tr>\n",
              "  </tbody>\n",
              "</table>\n",
              "</div>"
            ]
          },
          "metadata": {}
        }
      ],
      "execution_count": 12,
      "metadata": {
        "collapsed": false,
        "outputHidden": false,
        "inputHidden": false
      }
    },
    {
      "cell_type": "code",
      "source": [
        "print(\"Stock dataset has {} data points with {} variables each.\".format(*data.shape))"
      ],
      "outputs": [
        {
          "output_type": "stream",
          "name": "stdout",
          "text": [
            "Stock dataset has 755 data points with 7 variables each.\n"
          ]
        }
      ],
      "execution_count": 13,
      "metadata": {
        "collapsed": false,
        "outputHidden": false,
        "inputHidden": false
      }
    },
    {
      "cell_type": "code",
      "source": [
        "# TODO: Minimum price of the data\n",
        "minimum_price = np.min(prices)\n",
        "\n",
        "# TODO: Maximum price of the data\n",
        "maximum_price = np.max(prices)\n",
        "\n",
        "# TODO: Mean price of the data\n",
        "mean_price = np.mean(prices)\n",
        "\n",
        "# TODO: Median price of the data\n",
        "median_price = np.median(prices)\n",
        "\n",
        "# TODO: Standard deviation of prices of the data\n",
        "std_price = np.std(prices)\n",
        "\n",
        "# Show the calculated statistics\n",
        "print(\"Statistics for Stock dataset:\\n\")\n",
        "print(\"Minimum price: ${:,.2f}\".format(minimum_price))\n",
        "print(\"Maximum price: ${:,.2f}\".format(maximum_price))\n",
        "print(\"Mean price: ${:,.2f}\".format(mean_price))\n",
        "print(\"Median price ${:,.2f}\".format(median_price))\n",
        "print(\"Standard deviation of prices: ${:,.2f}\".format(std_price))"
      ],
      "outputs": [
        {
          "output_type": "stream",
          "name": "stdout",
          "text": [
            "Statistics for Stock dataset:\n",
            "\n",
            "Minimum price: $1.62\n",
            "Maximum price: $15.20\n",
            "Mean price: $6.66\n",
            "Median price $5.10\n",
            "Standard deviation of prices: $4.56\n"
          ]
        }
      ],
      "execution_count": 14,
      "metadata": {
        "collapsed": false,
        "outputHidden": false,
        "inputHidden": false
      }
    }
  ],
  "metadata": {
    "kernelspec": {
      "name": "python3",
      "language": "python",
      "display_name": "Python 3"
    },
    "kernel_info": {
      "name": "python3"
    },
    "language_info": {
      "nbconvert_exporter": "python",
      "mimetype": "text/x-python",
      "pygments_lexer": "ipython3",
      "codemirror_mode": {
        "version": 3,
        "name": "ipython"
      },
      "version": "3.5.5",
      "file_extension": ".py",
      "name": "python"
    },
    "nteract": {
      "version": "0.15.0"
    }
  },
  "nbformat": 4,
  "nbformat_minor": 4
}