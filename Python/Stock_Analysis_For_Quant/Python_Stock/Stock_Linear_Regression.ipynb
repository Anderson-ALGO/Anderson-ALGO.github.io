{
  "cells": [
    {
      "cell_type": "markdown",
      "source": [
        "# Stock Linear Regression"
      ],
      "metadata": {}
    },
    {
      "cell_type": "code",
      "source": [
        "import numpy as np\n",
        "import pandas as pd\n",
        "import matplotlib.pyplot as plt\n",
        "import math\n",
        "\n",
        "import warnings\n",
        "warnings.filterwarnings(\"ignore\")\n",
        "\n",
        "# fix_yahoo_finance is used to fetch data \n",
        "import fix_yahoo_finance as yf\n",
        "yf.pdr_override()"
      ],
      "outputs": [],
      "execution_count": 1,
      "metadata": {
        "collapsed": false,
        "outputHidden": false,
        "inputHidden": false
      }
    },
    {
      "cell_type": "code",
      "source": [
        "# input\n",
        "symbols = 'AMD'\n",
        "start = '2012-01-01'\n",
        "end = '2019-01-01'\n",
        "\n",
        "# Read data \n",
        "dataset = yf.download(symbols,start,end)\n",
        "\n",
        "# View Columns\n",
        "dataset.head()"
      ],
      "outputs": [
        {
          "output_type": "stream",
          "name": "stdout",
          "text": [
            "[*********************100%***********************]  1 of 1 downloaded\n"
          ]
        },
        {
          "output_type": "execute_result",
          "execution_count": 2,
          "data": {
            "text/plain": [
              "            Open  High   Low  Close  Adj Close    Volume\n",
              "Date                                                    \n",
              "2012-01-03  5.53  5.59  5.44   5.48       5.48  12675100\n",
              "2012-01-04  5.47  5.49  5.41   5.46       5.46   8034900\n",
              "2012-01-05  5.45  5.57  5.35   5.46       5.46  11476900\n",
              "2012-01-06  5.44  5.52  5.39   5.43       5.43  12938600\n",
              "2012-01-09  5.42  5.60  5.38   5.59       5.59  12585400"
            ],
            "text/html": [
              "<div>\n",
              "<style scoped>\n",
              "    .dataframe tbody tr th:only-of-type {\n",
              "        vertical-align: middle;\n",
              "    }\n",
              "\n",
              "    .dataframe tbody tr th {\n",
              "        vertical-align: top;\n",
              "    }\n",
              "\n",
              "    .dataframe thead th {\n",
              "        text-align: right;\n",
              "    }\n",
              "</style>\n",
              "<table border=\"1\" class=\"dataframe\">\n",
              "  <thead>\n",
              "    <tr style=\"text-align: right;\">\n",
              "      <th></th>\n",
              "      <th>Open</th>\n",
              "      <th>High</th>\n",
              "      <th>Low</th>\n",
              "      <th>Close</th>\n",
              "      <th>Adj Close</th>\n",
              "      <th>Volume</th>\n",
              "    </tr>\n",
              "    <tr>\n",
              "      <th>Date</th>\n",
              "      <th></th>\n",
              "      <th></th>\n",
              "      <th></th>\n",
              "      <th></th>\n",
              "      <th></th>\n",
              "      <th></th>\n",
              "    </tr>\n",
              "  </thead>\n",
              "  <tbody>\n",
              "    <tr>\n",
              "      <th>2012-01-03</th>\n",
              "      <td>5.53</td>\n",
              "      <td>5.59</td>\n",
              "      <td>5.44</td>\n",
              "      <td>5.48</td>\n",
              "      <td>5.48</td>\n",
              "      <td>12675100</td>\n",
              "    </tr>\n",
              "    <tr>\n",
              "      <th>2012-01-04</th>\n",
              "      <td>5.47</td>\n",
              "      <td>5.49</td>\n",
              "      <td>5.41</td>\n",
              "      <td>5.46</td>\n",
              "      <td>5.46</td>\n",
              "      <td>8034900</td>\n",
              "    </tr>\n",
              "    <tr>\n",
              "      <th>2012-01-05</th>\n",
              "      <td>5.45</td>\n",
              "      <td>5.57</td>\n",
              "      <td>5.35</td>\n",
              "      <td>5.46</td>\n",
              "      <td>5.46</td>\n",
              "      <td>11476900</td>\n",
              "    </tr>\n",
              "    <tr>\n",
              "      <th>2012-01-06</th>\n",
              "      <td>5.44</td>\n",
              "      <td>5.52</td>\n",
              "      <td>5.39</td>\n",
              "      <td>5.43</td>\n",
              "      <td>5.43</td>\n",
              "      <td>12938600</td>\n",
              "    </tr>\n",
              "    <tr>\n",
              "      <th>2012-01-09</th>\n",
              "      <td>5.42</td>\n",
              "      <td>5.60</td>\n",
              "      <td>5.38</td>\n",
              "      <td>5.59</td>\n",
              "      <td>5.59</td>\n",
              "      <td>12585400</td>\n",
              "    </tr>\n",
              "  </tbody>\n",
              "</table>\n",
              "</div>"
            ]
          },
          "metadata": {}
        }
      ],
      "execution_count": 2,
      "metadata": {
        "collapsed": false,
        "outputHidden": false,
        "inputHidden": false
      }
    },
    {
      "cell_type": "code",
      "source": [
        "dataset['Returns'] = np.log(dataset['Adj Close'] / dataset['Adj Close'].shift(1))"
      ],
      "outputs": [],
      "execution_count": 3,
      "metadata": {
        "collapsed": false,
        "outputHidden": false,
        "inputHidden": false
      }
    },
    {
      "cell_type": "code",
      "source": [
        "dataset = dataset.dropna()"
      ],
      "outputs": [],
      "execution_count": 4,
      "metadata": {
        "collapsed": false,
        "outputHidden": false,
        "inputHidden": false
      }
    },
    {
      "cell_type": "code",
      "source": [
        "X = dataset['Open']\n",
        "Y = dataset['Adj Close']"
      ],
      "outputs": [],
      "execution_count": 5,
      "metadata": {
        "collapsed": false,
        "outputHidden": false,
        "inputHidden": false
      }
    },
    {
      "cell_type": "code",
      "source": [
        "plt.scatter(X,Y)\n",
        "plt.xlabel('Open')\n",
        "plt.ylabel('Adj Close')\n",
        "plt.title('Stock Linear Regression')\n",
        "plt.show()"
      ],
      "outputs": [
        {
          "output_type": "display_data",
          "data": {
            "text/plain": [
              "<Figure size 432x288 with 1 Axes>"
            ],
            "image/png": "[encoded data removed]"
          },
          "metadata": {}
        }
      ],
      "execution_count": 6,
      "metadata": {
        "collapsed": false,
        "outputHidden": false,
        "inputHidden": false
      }
    },
    {
      "cell_type": "code",
      "source": [
        "from sklearn.model_selection import train_test_split"
      ],
      "outputs": [],
      "execution_count": 7,
      "metadata": {
        "collapsed": false,
        "outputHidden": false,
        "inputHidden": false
      }
    },
    {
      "cell_type": "code",
      "source": [
        "X_train,X_test,y_train,y_test=train_test_split(X,Y,test_size=0.2,random_state=0)"
      ],
      "outputs": [],
      "execution_count": 8,
      "metadata": {
        "collapsed": false,
        "outputHidden": false,
        "inputHidden": false
      }
    },
    {
      "cell_type": "code",
      "source": [
        "X_train = np.array(X_train).reshape(-1,1)\n",
        "y_train = np.array(y_train).reshape(-1,1)\n",
        "X_test = np.array(X_test).reshape(-1,1)\n",
        "y_test = np.array(y_test).reshape(-1,1)"
      ],
      "outputs": [],
      "execution_count": 9,
      "metadata": {
        "collapsed": false,
        "outputHidden": false,
        "inputHidden": false
      }
    },
    {
      "cell_type": "code",
      "source": [
        "X_train.shape"
      ],
      "outputs": [
        {
          "output_type": "execute_result",
          "execution_count": 10,
          "data": {
            "text/plain": [
              "(1407, 1)"
            ]
          },
          "metadata": {}
        }
      ],
      "execution_count": 10,
      "metadata": {
        "collapsed": false,
        "outputHidden": false,
        "inputHidden": false
      }
    },
    {
      "cell_type": "code",
      "source": [
        "from sklearn.linear_model import LinearRegression\n",
        "\n",
        "linregression=LinearRegression()\n",
        "linregression.fit(X_train,y_train)"
      ],
      "outputs": [
        {
          "output_type": "execute_result",
          "execution_count": 11,
          "data": {
            "text/plain": [
              "LinearRegression(copy_X=True, fit_intercept=True, n_jobs=None,\n",
              "         normalize=False)"
            ]
          },
          "metadata": {}
        }
      ],
      "execution_count": 11,
      "metadata": {
        "collapsed": false,
        "outputHidden": false,
        "inputHidden": false
      }
    },
    {
      "cell_type": "code",
      "source": [
        "y_pred = linregression.predict(X_test)\n",
        "y_pred"
      ],
      "outputs": [
        {
          "output_type": "execute_result",
          "execution_count": 12,
          "data": {
            "text/plain": [
              "array([[13.61630408],\n",
              "       [ 4.16396687],\n",
              "       [ 3.6559909 ],\n",
              "       [ 4.08428437],\n",
              "       [11.24574954],\n",
              "       [14.27368475],\n",
              "       [10.39912292],\n",
              "       [ 2.17190424],\n",
              "       [29.81177331],\n",
              "       [18.09844501],\n",
              "       [ 4.05440343],\n",
              "       [ 2.5205152 ],\n",
              "       [16.54463616],\n",
              "       [ 4.23368906],\n",
              "       [ 2.51055488],\n",
              "       [ 3.34722119],\n",
              "       [ 2.6001977 ],\n",
              "       [ 2.29142799],\n",
              "       [ 3.98468124],\n",
              "       [ 5.74765667],\n",
              "       [ 5.01059349],\n",
              "       [ 4.14404625],\n",
              "       [ 5.82733917],\n",
              "       [ 6.99269582],\n",
              "       [ 2.08226142],\n",
              "       [11.42503518],\n",
              "       [ 9.92102789],\n",
              "       [ 3.54642746],\n",
              "       [ 3.90499873],\n",
              "       [ 7.29150521],\n",
              "       [11.1361861 ],\n",
              "       [11.97285241],\n",
              "       [ 4.12412562],\n",
              "       [ 2.3711105 ],\n",
              "       [ 3.85519716],\n",
              "       [ 9.96086914],\n",
              "       [ 6.7536483 ],\n",
              "       [ 2.40099144],\n",
              "       [ 3.70579247],\n",
              "       [ 3.08825305],\n",
              "       [ 4.31337157],\n",
              "       [ 1.97269797],\n",
              "       [ 5.45880759],\n",
              "       [ 2.7496024 ],\n",
              "       [14.25376413],\n",
              "       [ 1.7635314 ],\n",
              "       [ 3.24761806],\n",
              "       [16.60439804],\n",
              "       [ 1.95277735],\n",
              "       [12.1919793 ],\n",
              "       [ 4.13408593],\n",
              "       [ 1.91293609],\n",
              "       [22.83955409],\n",
              "       [ 2.90896741],\n",
              "       [ 4.06436374],\n",
              "       [ 8.90507595],\n",
              "       [ 1.93285672],\n",
              "       [ 3.99464155],\n",
              "       [ 2.35118987],\n",
              "       [ 2.75956271],\n",
              "       [13.68602627],\n",
              "       [10.26963885],\n",
              "       [ 4.0344828 ],\n",
              "       [ 7.10225926],\n",
              "       [ 3.3571815 ],\n",
              "       [ 4.02452249],\n",
              "       [11.00670203],\n",
              "       [ 2.72968177],\n",
              "       [ 1.98265829],\n",
              "       [ 2.56035645],\n",
              "       [ 2.54043582],\n",
              "       [ 7.55047335],\n",
              "       [13.39717719],\n",
              "       [ 3.10817368],\n",
              "       [ 3.75559403],\n",
              "       [ 8.07836995],\n",
              "       [11.73380489],\n",
              "       [ 2.39103113],\n",
              "       [ 3.43686401],\n",
              "       [14.35336726],\n",
              "       [14.81154166],\n",
              "       [ 2.41095175],\n",
              "       [ 2.29142799],\n",
              "       [ 3.69583215],\n",
              "       [ 2.67988021],\n",
              "       [12.40114587],\n",
              "       [12.00273335],\n",
              "       [ 3.14801493],\n",
              "       [20.25983297],\n",
              "       [ 4.01456217],\n",
              "       [13.69598659],\n",
              "       [ 7.4309496 ],\n",
              "       [11.46487643],\n",
              "       [ 3.39702276],\n",
              "       [12.43102681],\n",
              "       [ 2.53047551],\n",
              "       [14.95098605],\n",
              "       [ 6.27555327],\n",
              "       [ 6.09626763],\n",
              "       [ 2.63007864],\n",
              "       [12.96888372],\n",
              "       [ 3.60618933],\n",
              "       [ 2.69980083],\n",
              "       [ 5.76757729],\n",
              "       [ 3.06833242],\n",
              "       [ 7.81940181],\n",
              "       [11.26567017],\n",
              "       [13.21789155],\n",
              "       [ 6.78352924],\n",
              "       [ 4.08428437],\n",
              "       [11.15610673],\n",
              "       [12.90912185],\n",
              "       [ 4.06436374],\n",
              "       [ 6.34527546],\n",
              "       [ 3.81535591],\n",
              "       [ 1.81333296],\n",
              "       [13.0983678 ],\n",
              "       [ 6.89309268],\n",
              "       [ 2.6001977 ],\n",
              "       [ 2.77948334],\n",
              "       [16.33546858],\n",
              "       [15.27967638],\n",
              "       [ 4.10420499],\n",
              "       [ 6.94289425],\n",
              "       [ 1.89301547],\n",
              "       [ 4.04444311],\n",
              "       [ 7.39110834],\n",
              "       [13.69598659],\n",
              "       [ 2.71972146],\n",
              "       [32.87955177],\n",
              "       [10.92701952],\n",
              "       [ 8.85527438],\n",
              "       [ 3.94483998],\n",
              "       [13.29757406],\n",
              "       [ 3.9548003 ],\n",
              "       [11.38519393],\n",
              "       [12.34138399],\n",
              "       [12.1222571 ],\n",
              "       [10.72781326],\n",
              "       [ 3.71575278],\n",
              "       [11.23578923],\n",
              "       [20.16022885],\n",
              "       [ 2.88904679],\n",
              "       [ 2.63007864],\n",
              "       [ 4.1838875 ],\n",
              "       [ 4.01456217],\n",
              "       [31.64447094],\n",
              "       [ 7.46083054],\n",
              "       [19.03471445],\n",
              "       [ 5.92694231],\n",
              "       [ 2.73964209],\n",
              "       [22.41126062],\n",
              "       [ 2.64003896],\n",
              "       [ 2.46075332],\n",
              "       [ 2.55039614],\n",
              "       [ 1.70376952],\n",
              "       [ 7.48075116],\n",
              "       [ 3.70579247],\n",
              "       [ 3.64603059],\n",
              "       [ 2.90896741],\n",
              "       [ 5.67793448],\n",
              "       [ 8.15805246],\n",
              "       [ 4.15400656],\n",
              "       [ 3.60618933],\n",
              "       [ 2.01253923],\n",
              "       [ 4.13408593],\n",
              "       [ 2.76952303],\n",
              "       [18.35741316],\n",
              "       [12.48082838],\n",
              "       [31.02693053],\n",
              "       [ 2.70976115],\n",
              "       [ 3.82531622],\n",
              "       [ 3.82531622],\n",
              "       [ 1.7635314 ],\n",
              "       [ 4.08428437],\n",
              "       [10.76765451],\n",
              "       [ 2.61015802],\n",
              "       [12.43102681],\n",
              "       [ 3.52650683],\n",
              "       [ 3.20777681],\n",
              "       [ 4.4129747 ],\n",
              "       [12.50074901],\n",
              "       [ 2.48067394],\n",
              "       [ 7.4309496 ],\n",
              "       [ 3.71575278],\n",
              "       [ 6.82337049],\n",
              "       [13.64618502],\n",
              "       [ 7.70983837],\n",
              "       [ 7.95884619],\n",
              "       [16.25578608],\n",
              "       [13.08840748],\n",
              "       [ 5.18987913],\n",
              "       [ 9.06444096],\n",
              "       [ 4.37313345],\n",
              "       [ 4.88110942],\n",
              "       [ 5.72773604],\n",
              "       [ 3.87511779],\n",
              "       [ 5.10023631],\n",
              "       [ 2.35118987],\n",
              "       [ 5.76757729],\n",
              "       [ 4.29345094],\n",
              "       [ 2.29142799],\n",
              "       [11.69396364],\n",
              "       [ 7.50067179],\n",
              "       [ 2.05238048],\n",
              "       [ 2.7496024 ],\n",
              "       [11.46487643],\n",
              "       [ 4.02452249],\n",
              "       [ 2.79940397],\n",
              "       [ 6.19587076],\n",
              "       [ 4.34325251],\n",
              "       [ 7.71979868],\n",
              "       [ 7.12217989],\n",
              "       [ 2.63007864],\n",
              "       [ 6.65404517],\n",
              "       [ 3.11813399],\n",
              "       [ 6.78352924],\n",
              "       [ 5.44884727],\n",
              "       [ 2.17190424],\n",
              "       [ 3.39702276],\n",
              "       [19.80165956],\n",
              "       [13.21789155],\n",
              "       [ 3.48666558],\n",
              "       [ 1.77349171],\n",
              "       [ 1.86313453],\n",
              "       [ 6.72376736],\n",
              "       [16.10638238],\n",
              "       [ 2.78944365],\n",
              "       [ 3.60618933],\n",
              "       [ 8.0385287 ],\n",
              "       [ 2.77948334],\n",
              "       [ 3.79543528],\n",
              "       [10.15011509],\n",
              "       [11.22582892],\n",
              "       [ 1.87309484],\n",
              "       [ 2.81932459],\n",
              "       [ 3.55638777],\n",
              "       [ 1.92289641],\n",
              "       [ 4.19384781],\n",
              "       [ 2.5205152 ],\n",
              "       [ 4.10420499],\n",
              "       [ 3.75559403],\n",
              "       [ 7.44090991],\n",
              "       [ 4.48269689],\n",
              "       [ 3.70579247],\n",
              "       [ 2.32130893],\n",
              "       [ 4.20380813],\n",
              "       [ 7.48075116],\n",
              "       [ 2.38107081],\n",
              "       [ 3.94483998],\n",
              "       [ 3.46674495],\n",
              "       [ 4.00460186],\n",
              "       [ 2.53047551],\n",
              "       [ 1.71372983],\n",
              "       [19.09447633],\n",
              "       [10.84733702],\n",
              "       [ 2.78944365],\n",
              "       [ 6.69388642],\n",
              "       [ 1.83325359],\n",
              "       [ 4.50261752],\n",
              "       [ 2.72968177],\n",
              "       [10.82741639],\n",
              "       [ 2.39103113],\n",
              "       [ 1.81333296],\n",
              "       [ 3.91495904],\n",
              "       [ 3.3571815 ],\n",
              "       [ 2.85916585],\n",
              "       [ 4.02452249],\n",
              "       [13.41709782],\n",
              "       [ 1.70376952],\n",
              "       [13.03860592],\n",
              "       [ 1.81333296],\n",
              "       [ 4.06436374],\n",
              "       [ 6.81341018],\n",
              "       [ 5.65801385],\n",
              "       [ 2.18186455],\n",
              "       [ 4.00460186],\n",
              "       [ 1.88305515],\n",
              "       [ 2.2217058 ],\n",
              "       [ 2.34122956],\n",
              "       [ 5.1699585 ],\n",
              "       [ 2.69980083],\n",
              "       [ 3.56634808],\n",
              "       [20.61840425],\n",
              "       [ 2.63007864],\n",
              "       [ 2.75956271],\n",
              "       [ 4.22372875],\n",
              "       [ 7.65007649],\n",
              "       [ 5.14007756],\n",
              "       [ 2.29142799],\n",
              "       [ 3.64603059],\n",
              "       [ 7.08233863],\n",
              "       [13.39717719],\n",
              "       [10.16007541],\n",
              "       [12.23182055],\n",
              "       [10.65809107],\n",
              "       [ 3.56634808],\n",
              "       [33.0488751 ],\n",
              "       [ 2.35118987],\n",
              "       [ 3.89503842],\n",
              "       [18.11836564],\n",
              "       [ 3.58626871],\n",
              "       [ 6.72376736],\n",
              "       [11.64416207],\n",
              "       [10.11027384],\n",
              "       [10.57840856],\n",
              "       [10.57840856],\n",
              "       [ 3.90499873],\n",
              "       [ 2.7496024 ],\n",
              "       [12.90912185],\n",
              "       [ 2.18186455],\n",
              "       [19.91122102],\n",
              "       [ 8.98475845],\n",
              "       [ 2.79940397],\n",
              "       [ 2.70976115],\n",
              "       [ 2.12210267],\n",
              "       [ 3.64603059],\n",
              "       [ 2.91892772],\n",
              "       [10.02063102],\n",
              "       [ 2.77948334],\n",
              "       [13.16808999],\n",
              "       [ 3.51654652],\n",
              "       [ 2.26154706],\n",
              "       [ 3.62610996],\n",
              "       [33.06879572],\n",
              "       [ 3.83527654],\n",
              "       [ 2.64003896],\n",
              "       [ 2.02249954],\n",
              "       [ 3.78547497],\n",
              "       [13.08840748],\n",
              "       [12.15213804],\n",
              "       [10.97682109],\n",
              "       [ 9.52261536],\n",
              "       [12.11229679],\n",
              "       [ 3.74563372],\n",
              "       [ 4.20380813],\n",
              "       [ 3.62610996],\n",
              "       [ 2.57031676],\n",
              "       [ 3.21773712],\n",
              "       [ 2.76952303],\n",
              "       [13.57646283],\n",
              "       [ 3.90499873],\n",
              "       [ 5.30940289],\n",
              "       [10.19991666],\n",
              "       [ 2.56035645],\n",
              "       [ 3.86515748],\n",
              "       [12.84935997],\n",
              "       [ 3.96476061],\n",
              "       [10.48876574],\n",
              "       [ 2.10218204],\n",
              "       [ 3.69583215],\n",
              "       [10.87721796]])"
            ]
          },
          "metadata": {}
        }
      ],
      "execution_count": 12,
      "metadata": {
        "collapsed": false,
        "outputHidden": false,
        "inputHidden": false
      }
    },
    {
      "cell_type": "code",
      "source": [
        "print('Intercept')\n",
        "linregression.intercept_"
      ],
      "outputs": [
        {
          "output_type": "stream",
          "name": "stdout",
          "text": [
            "Intercept\n"
          ]
        },
        {
          "output_type": "execute_result",
          "execution_count": 13,
          "data": {
            "text/plain": [
              "array([0.02047659])"
            ]
          },
          "metadata": {}
        }
      ],
      "execution_count": 13,
      "metadata": {
        "collapsed": false,
        "outputHidden": false,
        "inputHidden": false
      }
    },
    {
      "cell_type": "code",
      "source": [
        "print('Slope')\n",
        "linregression.coef_"
      ],
      "outputs": [
        {
          "output_type": "stream",
          "name": "stdout",
          "text": [
            "Slope\n"
          ]
        },
        {
          "output_type": "execute_result",
          "execution_count": 14,
          "data": {
            "text/plain": [
              "array([[0.99603132]])"
            ]
          },
          "metadata": {}
        }
      ],
      "execution_count": 14,
      "metadata": {
        "collapsed": false,
        "outputHidden": false,
        "inputHidden": false
      }
    },
    {
      "cell_type": "code",
      "source": [
        "import matplotlib.pyplot as plt\n",
        "\n",
        "plt.scatter(X_train,y_train)\n",
        "plt.plot(X_train,linregression.predict(X_train),'r')\n",
        "plt.xlabel('Open')\n",
        "plt.ylabel('Adj Close')\n",
        "plt.title('Stock Linear Regression')\n",
        "plt.show()"
      ],
      "outputs": [
        {
          "output_type": "display_data",
          "data": {
            "text/plain": [
              "<Figure size 432x288 with 1 Axes>"
            ],
            "image/png": "[encoded data removed]"
          },
          "metadata": {}
        }
      ],
      "execution_count": 15,
      "metadata": {
        "collapsed": false,
        "outputHidden": false,
        "inputHidden": false
      }
    }
  ],
  "metadata": {
    "kernel_info": {
      "name": "python3"
    },
    "language_info": {
      "pygments_lexer": "ipython3",
      "file_extension": ".py",
      "mimetype": "text/x-python",
      "name": "python",
      "codemirror_mode": {
        "version": 3,
        "name": "ipython"
      },
      "nbconvert_exporter": "python",
      "version": "3.5.5"
    },
    "kernelspec": {
      "name": "python3",
      "language": "python",
      "display_name": "Python 3"
    },
    "nteract": {
      "version": "0.15.0"
    }
  },
  "nbformat": 4,
  "nbformat_minor": 0
}