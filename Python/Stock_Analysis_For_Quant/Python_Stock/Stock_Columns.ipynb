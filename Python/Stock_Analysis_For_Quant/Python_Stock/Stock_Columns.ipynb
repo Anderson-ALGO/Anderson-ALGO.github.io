{
  "cells": [
    {
      "cell_type": "markdown",
      "source": [
        "Create Features for stock analysis"
      ],
      "metadata": {}
    },
    {
      "cell_type": "code",
      "source": [
        "# Libraries\n",
        "import pandas as pd\n",
        "import numpy as np\n",
        "\n",
        "import warnings\n",
        "warnings.filterwarnings(\"ignore\")\n",
        "\n",
        "import fix_yahoo_finance as yf\n",
        "from pandas_datareader import data as pdr\n",
        "yf.pdr_override()"
      ],
      "outputs": [],
      "execution_count": null,
      "metadata": {
        "collapsed": false,
        "outputHidden": false,
        "inputHidden": false
      }
    },
    {
      "cell_type": "code",
      "source": [
        "stock = 'MSFT'\n",
        "start = '2014-01-01' \n",
        "end = '2018-01-01'\n",
        "df = pdr.get_data_yahoo(stock, start, end)"
      ],
      "outputs": [],
      "execution_count": null,
      "metadata": {
        "collapsed": false,
        "outputHidden": false,
        "inputHidden": false
      }
    },
    {
      "cell_type": "code",
      "source": [
        "df = df.reset_index()\n",
        "df.head()"
      ],
      "outputs": [],
      "execution_count": null,
      "metadata": {
        "collapsed": false,
        "outputHidden": false,
        "inputHidden": false
      }
    },
    {
      "cell_type": "code",
      "source": [
        "# Drop date variable\n",
        "# df = df.drop(['Date'], 1)\n",
        "\n",
        "# Daily Returns\n",
        "df['Returns'] = round(df['Adj Close'].pct_change(), 4)\n",
        "df.head()"
      ],
      "outputs": [],
      "execution_count": null,
      "metadata": {
        "collapsed": false,
        "outputHidden": false,
        "inputHidden": false
      }
    },
    {
      "cell_type": "code",
      "source": [
        "# Log Returns\n",
        "df['Log Returns'] = np.log(df['Adj Close']) - np.log(df['Adj Close'].shift(1))\n",
        "df.head()"
      ],
      "outputs": [],
      "execution_count": null,
      "metadata": {
        "collapsed": false,
        "outputHidden": false,
        "inputHidden": false
      }
    },
    {
      "cell_type": "code",
      "source": [
        "# Calculate in Rows using axis=1\n",
        "df['Risk'] = round(df[['Open', 'High', 'Low','Adj Close']].std(axis=1), 4)\n",
        "df.head()"
      ],
      "outputs": [],
      "execution_count": null,
      "metadata": {
        "collapsed": false,
        "outputHidden": false,
        "inputHidden": false
      }
    },
    {
      "cell_type": "code",
      "source": [
        "# VWAP\n",
        "df['VWAP'] = round(np.cumsum(df['Volume']*(df['High']+df['Low'])/2) / np.cumsum(df['Volume']), 2)\n",
        "df.head()"
      ],
      "outputs": [],
      "execution_count": null,
      "metadata": {
        "collapsed": false,
        "outputHidden": false,
        "inputHidden": false
      }
    },
    {
      "cell_type": "code",
      "source": [
        "df['Mean'] = round(df[['Open', 'High', 'Low','Adj Close']].mean(axis=1), 2)\n",
        "df.head()"
      ],
      "outputs": [],
      "execution_count": null,
      "metadata": {
        "collapsed": false,
        "outputHidden": false,
        "inputHidden": false
      }
    },
    {
      "cell_type": "code",
      "source": [
        "df['Median'] = round(df[['Open', 'High', 'Low','Adj Close']].median(axis=1), 2)\n",
        "df.head()"
      ],
      "outputs": [],
      "execution_count": null,
      "metadata": {
        "collapsed": false,
        "outputHidden": false,
        "inputHidden": false
      }
    },
    {
      "cell_type": "code",
      "source": [
        "df['Mode'] = round(df[['Open', 'High', 'Low','Adj Close']].mode(axis=1), 2)\n",
        "df.head()"
      ],
      "outputs": [],
      "execution_count": null,
      "metadata": {
        "collapsed": false,
        "outputHidden": false,
        "inputHidden": false
      }
    },
    {
      "cell_type": "code",
      "source": [
        "df['Variance'] = round(df[['Open', 'High', 'Low','Adj Close']].var(axis=1), 4)\n",
        "df.head()"
      ],
      "outputs": [],
      "execution_count": null,
      "metadata": {
        "collapsed": false,
        "outputHidden": false,
        "inputHidden": false
      }
    },
    {
      "cell_type": "code",
      "source": [
        " df['Skew'] = round(df[['Open', 'High', 'Low','Adj Close']].skew(axis=1), 4)\n",
        " df.head()"
      ],
      "outputs": [],
      "execution_count": null,
      "metadata": {
        "collapsed": false,
        "outputHidden": false,
        "inputHidden": false
      }
    },
    {
      "cell_type": "code",
      "source": [
        " df['Skew'] = round(df[['Open', 'High', 'Low','Adj Close']].skew(axis=1), 4)\n",
        " df.head()"
      ],
      "outputs": [],
      "execution_count": null,
      "metadata": {
        "collapsed": false,
        "outputHidden": false,
        "inputHidden": false
      }
    },
    {
      "cell_type": "code",
      "source": [
        " df['Kurt'] = round(df[['Open', 'High', 'Low','Adj Close']].kurt(axis=1), 4)\n",
        " df.head()"
      ],
      "outputs": [],
      "execution_count": null,
      "metadata": {
        "collapsed": false,
        "outputHidden": false,
        "inputHidden": false
      }
    },
    {
      "cell_type": "code",
      "source": [
        "# Standard error of the mean\n",
        "df['Error'] = df[['Open', 'High', 'Low','Adj Close']].sem(axis=1)\n",
        "df.head()"
      ],
      "outputs": [],
      "execution_count": null,
      "metadata": {
        "collapsed": false,
        "outputHidden": false,
        "inputHidden": false
      }
    },
    {
      "cell_type": "code",
      "source": [
        "import talib as ta"
      ],
      "outputs": [],
      "execution_count": null,
      "metadata": {
        "collapsed": false,
        "outputHidden": false,
        "inputHidden": false
      }
    },
    {
      "cell_type": "code",
      "source": [
        "# Creating Indicators\n",
        "n=5\n",
        "df['RSI']=ta.RSI(np.array(df['Adj Close'].shift(1)), timeperiod=n)\n",
        "df['SMA']= pd.rolling_mean(df['Adj Close'].shift(1),window=n)\n",
        "df['Corr']= pd.rolling_corr(df['SMA'],df['Adj Close'].shift(1),window=n)\n",
        "df['SAR']=ta.SAR(np.array(df['High'].shift(1)),np.array(df['Low'].shift(1)),0.2,0.2)"
      ],
      "outputs": [],
      "execution_count": null,
      "metadata": {
        "collapsed": false,
        "outputHidden": false,
        "inputHidden": false
      }
    },
    {
      "cell_type": "code",
      "source": [
        "# Momemtum Indicator Functions\n",
        "df['ADX']=ta.ADX(np.array(df['High'].shift(1)),np.array(df['Low'].shift(1)), np.array(df['Open'].shift(1)), timeperiod=n)\n",
        "df['ADXR']=ta.ADXR(np.array(df['High'].shift(1)),np.array(df['Low'].shift(1)),np.array(df['Adj Close']), timeperiod=n)\n",
        "# df['APO']=ta.APO(np.array(df['Adj Close'].shift(1), fastperiod=12, slowperiod=26, matype=0))\n",
        "df['AROON_DOWN'], df['AROON_UP']=ta.AROON(np.array(df['High'].shift(1)),np.array(df['Low'].shift(1)), timeperiod=n)\n",
        "df['AROONOSC']=ta.AROONOSC(np.array(df['High'].shift(1)),np.array(df['Low'].shift(1)),timeperiod=n)\n",
        "df['BOP']=ta.BOP(np.array(df['Open'].shift(1)),np.array(df['High'].shift(1)),\\\n",
        "                  np.array(df['Low']),np.array(df['Adj Close'].shift(1)))\n",
        "df['CCI']=ta.CCI(np.array(df['High'].shift(1)),np.array(df['Low'].shift(1)),\\\n",
        "                  np.array(df['Adj Close'].shift(1)), timeperiod=n)\n",
        "df['CMO']=ta.CMO(np.array(df['Adj Close'].shift(1)), timeperiod=n)\t\t\t\t \n",
        "df['DX']=ta.DX(np.array(df['High'].shift(1)),np.array(df['Low'].shift(1)),\\\n",
        "                  np.array(df['Adj Close'].shift(1)), timeperiod=n)\n",
        "df['MACD'], df['MACD_SIGNAL'], df['MACD_HIST'] =ta.MACD(np.array(df['High'].shift(1)),fastperiod=12, slowperiod=26, signalperiod=9)\n",
        "# df['MACDEXT'], df['MACD_SIGNAL'], df['MACD_HIST'] =ta.MACDEXT(np.array(df['Adj Close'].shift(1)), fastperiod=12, fastmatype=0, slowperiod=26, slowmatype=0, signalperiod=9, signalmatype=0)\n",
        "# df['MACDFIX'], df['MACD_SIGNAL'], df['MACD_HIST'] =ta.MACDFIX(np.array(df['Adj Close'].shift(1)), signalperiod=9)\n",
        "df['MFI']=ta.MFI(np.array(df['High'].shift(1)),np.array(df['Low'].shift(1)),\\\n",
        "                  np.array(df['Adj Close'].shift(1)),np.array(df['Volume'].shift(1)) , timeperiod=n)\n",
        "df['MINUS_DI']=ta.MINUS_DI(np.array(df['High'].shift(1)),np.array(df['Low'].shift(1)),\\\n",
        "                  np.array(df['Adj Close'].shift(1)), timeperiod=n)\n",
        "df['MINUS_DM']=ta.MINUS_DM(np.array(df['High'].shift(1)),np.array(df['Low'].shift(1)), timeperiod=n)\n",
        "df['MOM']=ta.MOM(np.array(df['Adj Close'].shift(1)), timeperiod=n)\n",
        "df['PLUS_DI']=ta.PLUS_DI(np.array(df['High'].shift(1)),np.array(df['Low'].shift(1)),\\\n",
        "                  np.array(df['Adj Close'].shift(1)), timeperiod=n)\n",
        "df['PLUS_DM']=ta.PLUS_DM(np.array(df['High'].shift(1)),np.array(df['Low'].shift(1)), timeperiod=n)\n",
        "df['PPO']=ta.PPO(np.array(df['Adj Close'].shift(1)), fastperiod=12, slowperiod=26, matype=0)\n",
        "df['ROC']=ta.ROC(np.array(df['Adj Close'].shift(1)), timeperiod=n)\n",
        "df['ROCP']=ta.ROCP(np.array(df['Adj Close'].shift(1)), timeperiod=n)\n",
        "df['ROCR']=ta.ROCR(np.array(df['Adj Close'].shift(1)), timeperiod=n)\n",
        "df['ROCR100']=ta.ROCR100(np.array(df['Adj Close'].shift(1)), timeperiod=n)\n",
        "df['slowk'], df['slowd'] =ta.STOCH(np.array(df['High'].shift(1)),np.array(df['Low'].shift(1)),np.array(df['Adj Close']), fastk_period=5, slowk_period=3, slowk_matype=0, slowd_period=3, slowd_matype=0)\n",
        "df['fastk'], df['fastd'] =ta.STOCHF(np.array(df['High'].shift(1)),np.array(df['Low'].shift(1)),np.array(df['Adj Close']), fastk_period=5, fastd_period=3, fastd_matype=0)\n",
        "# df['fastk'], df['fastd'] =ta.STOCHRIS(np.array(df['Adj Close'].shift(1)), timeperiod=N, fastk_period=5, fastd_period=3, fastd_matype=0)\n",
        "df['TRIX']=ta.TRIX(np.array(df['Adj Close'].shift(1)), timeperiod=n)\n",
        "df['ULTOSC']=ta.ULTOSC(np.array(df['High'].shift(1)),np.array(df['Low'].shift(1)),\\\n",
        "                  np.array(df['Adj Close']), timeperiod1=7, timeperiod2=14, timeperiod3=28)\n",
        "df['WILLR']=ta.WILLR(np.array(df['High'].shift(1)),np.array(df['Low'].shift(1)),\\\n",
        "                  np.array(df['Adj Close'].shift(1)), timeperiod=n)\t\t"
      ],
      "outputs": [],
      "execution_count": null,
      "metadata": {
        "collapsed": false,
        "outputHidden": false,
        "inputHidden": false
      }
    },
    {
      "cell_type": "code",
      "source": [
        "# Volatility Indicator Functions\n",
        "df['ATR']=ta.ATR(np.array(df['High'].shift(1)),np.array(df['Low'].shift(1)),np.array(df['Adj Close'].shift(1)), timeperiod=n)\n",
        "df['NATR']=ta.NATR(np.array(df['High'].shift(1)),np.array(df['Low'].shift(1)),np.array(df['Adj Close'].shift(1)), timeperiod=n)\n",
        "df['TRANGE']=ta.TRANGE(np.array(df['High'].shift(1)),np.array(df['Low'].shift(1)),np.array(df['Adj Close'].shift(1)))"
      ],
      "outputs": [],
      "execution_count": null,
      "metadata": {
        "collapsed": false,
        "outputHidden": false,
        "inputHidden": false
      }
    },
    {
      "cell_type": "code",
      "source": [
        "# Volume Indicator Functions\n",
        "df['AD']=ta.AD(np.array(df['High'].shift(1)),np.array(df['Low'].shift(1)),np.array(df['Adj Close'].shift(1)),np.array(df['Volume'].shift(1)))\n",
        "df['ADOSC']=ta.ADOSC(np.array(df['High'].shift(1)),np.array(df['Low'].shift(1)),np.array(df['Adj Close'].shift(1)),np.array(df['Volume'].shift(1)),fastperiod=3, slowperiod=10)\n",
        "df['OBV']=ta.OBV(np.array(df['Adj Close'].shift(1)),np.array(df['Volume'].shift(1)))"
      ],
      "outputs": [],
      "execution_count": null,
      "metadata": {
        "collapsed": false,
        "outputHidden": false,
        "inputHidden": false
      }
    },
    {
      "cell_type": "code",
      "source": [
        "# Price Transform Functions\n",
        "df['AVGPRICE']=ta.AVGPRICE(np.array(df['Open'].shift(1)),np.array(df['High'].shift(1)),np.array(df['Low'].shift(1)), np.array(df['Adj Close'].shift(1)))\n",
        "df['MEDPRICE']=ta.MEDPRICE(np.array(df['High'].shift(1)),np.array(df['Low'].shift(1)))\n",
        "df['TYPPRICE']=ta.TYPPRICE(np.array(df['High'].shift(1)),np.array(df['Low'].shift(1)),np.array(df['Adj Close'].shift(1)))\n",
        "df['WCLPRICE']=ta.WCLPRICE(np.array(df['High'].shift(1)),np.array(df['Low'].shift(1)),np.array(df['Adj Close'].shift(1)))"
      ],
      "outputs": [],
      "execution_count": null,
      "metadata": {
        "collapsed": false,
        "outputHidden": false,
        "inputHidden": false
      }
    },
    {
      "cell_type": "code",
      "source": [
        "# Pattern Recognition Fuction\n",
        "df['Two_Crows'] = ta.CDL2CROWS(np.array(df['Open']), np.array(df['High']), np.array(df['Low']), np.array(df['Adj Close']))\n",
        "df['Three_Crows'] = ta.CDL3BLACKCROWS(np.array(df['Open']), np.array(df['High']), np.array(df['Low']), np.array(df['Adj Close']))\n",
        "df['Three_Inside_Up_Down'] = ta.CDL3INSIDE(np.array(df['Open']), np.array(df['High']), np.array(df['Low']), np.array(df['Adj Close']))\n",
        "df['Three_Line_Strike'] = ta.CDL3LINESTRIKE(np.array(df['Open']), np.array(df['High']), np.array(df['Low']), np.array(df['Adj Close']))\n",
        "df['Thre_Outside_Up_Down'] = ta.CDL3OUTSIDE(np.array(df['Open']), np.array(df['High']), np.array(df['Low']), np.array(df['Adj Close']))\n",
        "df['Thre_Stars_In_The_South'] = ta.CDL3STARSINSOUTH(np.array(df['Open']), np.array(df['High']), np.array(df['Low']), np.array(df['Adj Close']))\n",
        "df['Three_Advancing_White_Soldiers'] = ta.CDL3WHITESOLDIERS(np.array(df['Open']), np.array(df['High']), np.array(df['Low']), np.array(df['Adj Close']))\n",
        "df['Abandoned_Baby'] = ta.CDLABANDONEDBABY(np.array(df['Open']), np.array(df['High']), np.array(df['Low']), np.array(df['Adj Close']), penetration=0)\n",
        "df['Advanced_Block'] = ta.CDLADVANCEBLOCK(np.array(df['Open']), np.array(df['High']), np.array(df['Low']), np.array(df['Adj Close']))\n",
        "df['Belt_hold'] = ta.CDLBELTHOLD(np.array(df['Open']), np.array(df['High']), np.array(df['Low']), np.array(df['Adj Close']))\n",
        "df['Breakaway'] = ta.CDLBREAKAWAY(np.array(df['Open']), np.array(df['High']), np.array(df['Low']), np.array(df['Adj Close']))\n",
        "df['Closing_Marubozu'] = ta.CDLCLOSINGMARUBOZU(np.array(df['Open']), np.array(df['High']), np.array(df['Low']), np.array(df['Adj Close']))\n",
        "df['Concealing_Baby_Swallow'] = ta.CDLCONCEALBABYSWALL(np.array(df['Open']), np.array(df['High']), np.array(df['Low']), np.array(df['Adj Close']))\n",
        "df['Counterattack'] = ta.CDLCOUNTERATTACK(np.array(df['Open']), np.array(df['High']), np.array(df['Low']), np.array(df['Adj Close']))\n",
        "df['Dark_Cloud_Cover'] = ta.CDLDARKCLOUDCOVER(np.array(df['Open']), np.array(df['High']), np.array(df['Low']), np.array(df['Adj Close']), penetration=0)\n",
        "df['Doji'] = ta.CDLDOJI(np.array(df['Open']), np.array(df['High']), np.array(df['Low']), np.array(df['Adj Close']))\n",
        "df['Doji_Star'] = ta.CDLDOJISTAR(np.array(df['Open']), np.array(df['High']), np.array(df['Low']), np.array(df['Adj Close']))\n",
        "df['Dragonfly_Doji'] = ta.CDLDRAGONFLYDOJI(np.array(df['Open']), np.array(df['High']), np.array(df['Low']), np.array(df['Adj Close']))\n",
        "df['Engulfing_Pattern'] = ta.CDLENGULFING(np.array(df['Open']), np.array(df['High']), np.array(df['Low']), np.array(df['Adj Close']))\n",
        "df['Evening_Doji_Star'] = ta.CDLEVENINGDOJISTAR(np.array(df['Open']), np.array(df['High']), np.array(df['Low']), np.array(df['Adj Close']), penetration=0)\n",
        "df['Evening_Star'] = ta.CDLEVENINGSTAR(np.array(df['Open']), np.array(df['High']), np.array(df['Low']), np.array(df['Adj Close']), penetration=0)\n",
        "df['Up_Down_gap_side_by_side_white_lines'] = ta.CDLGAPSIDESIDEWHITE(np.array(df['Open']), np.array(df['High']), np.array(df['Low']), np.array(df['Adj Close']))\n",
        "df['Gravestone_Doji'] = ta.CDLGRAVESTONEDOJI(np.array(df['Open']), np.array(df['High']), np.array(df['Low']), np.array(df['Adj Close']))\n",
        "df['Hammer'] = ta.CDLHAMMER(np.array(df['Open']), np.array(df['High']), np.array(df['Low']), np.array(df['Adj Close']))\n",
        "df['Hanging_Man'] = ta.CDLHANGINGMAN(np.array(df['Open']), np.array(df['High']), np.array(df['Low']), np.array(df['Adj Close']))\n",
        "df['Harami_Pattern'] = ta.CDLHARAMI(np.array(df['Open']), np.array(df['High']), np.array(df['Low']), np.array(df['Adj Close']))\n",
        "df['Harami_Cross_Pattern'] = ta.CDLHARAMICROSS(np.array(df['Open']), np.array(df['High']), np.array(df['Low']), np.array(df['Adj Close']))\n",
        "df['High_Wave_Candle'] = ta.CDLHIGHWAVE(np.array(df['Open']), np.array(df['High']), np.array(df['Low']), np.array(df['Adj Close']))\n",
        "df['Hikkake_Pattern'] = ta.CDLHIKKAKE(np.array(df['Open']), np.array(df['High']), np.array(df['Low']), np.array(df['Adj Close']))\n",
        "df['Modified_Hikkake_Pattern'] = ta.CDLHIKKAKEMOD(np.array(df['Open']), np.array(df['High']), np.array(df['Low']), np.array(df['Adj Close']))\n",
        "df['Homing_Pigeon'] = ta.CDLHOMINGPIGEON(np.array(df['Open']), np.array(df['High']), np.array(df['Low']), np.array(df['Adj Close']))\n",
        "df['Identical_Three_Crows'] = ta.CDLIDENTICAL3CROWS(np.array(df['Open']), np.array(df['High']), np.array(df['Low']), np.array(df['Adj Close']))\n",
        "df['In_Neck_Pattern'] = ta.CDLINNECK(np.array(df['Open']), np.array(df['High']), np.array(df['Low']), np.array(df['Adj Close']))\n",
        "df['Inverted_Hammer'] = ta.CDLINVERTEDHAMMER(np.array(df['Open']), np.array(df['High']), np.array(df['Low']), np.array(df['Adj Close']))\n",
        "df['Kicking'] = ta.CDLKICKING(np.array(df['Open']), np.array(df['High']), np.array(df['Low']), np.array(df['Adj Close']))\n",
        "df['Kicking_Bull_Bear'] = ta.CDLKICKINGBYLENGTH(np.array(df['Open']), np.array(df['High']), np.array(df['Low']), np.array(df['Adj Close']))\n",
        "df['Ladder_Bottom'] = ta.CDLLADDERBOTTOM(np.array(df['Open']), np.array(df['High']), np.array(df['Low']), np.array(df['Adj Close']))\n",
        "df['Long_Legged_Doji'] = ta.CDLLONGLEGGEDDOJI(np.array(df['Open']), np.array(df['High']), np.array(df['Low']), np.array(df['Adj Close']))\n",
        "df['Long_line_Candle'] = ta.CDLLONGLINE(np.array(df['Open']), np.array(df['High']), np.array(df['Low']), np.array(df['Adj Close']))\n",
        "df['Marubozu'] = ta.CDLMARUBOZU(np.array(df['Open']), np.array(df['High']), np.array(df['Low']), np.array(df['Adj Close']))     \n",
        "df['Matching_Low'] = ta.CDLMATCHINGLOW(np.array(df['Open']), np.array(df['High']), np.array(df['Low']), np.array(df['Adj Close']))\n",
        "df['Mat_Hold'] = ta.CDLMATHOLD(np.array(df['Open']), np.array(df['High']), np.array(df['Low']), np.array(df['Adj Close']))\n",
        "df['Morning_Star'] = ta.CDLMORNINGSTAR(np.array(df['Open']), np.array(df['High']), np.array(df['Low']), np.array(df['Adj Close']))\n",
        "df['On_Neck_Pattern'] = ta.CDLONNECK(np.array(df['Open']), np.array(df['High']), np.array(df['Low']), np.array(df['Adj Close'])) \n",
        "df['Piercing_Pattern'] = ta.CDLPIERCING(np.array(df['Open']), np.array(df['High']), np.array(df['Low']), np.array(df['Adj Close']))\n",
        "df['Rickshaw_Man'] = ta.CDLRICKSHAWMAN(np.array(df['Open']), np.array(df['High']), np.array(df['Low']), np.array(df['Adj Close']))\n",
        "df['Rising_Falling_Three_Method'] = ta.CDLRISEFALL3METHODS(np.array(df['Open']), np.array(df['High']), np.array(df['Low']), np.array(df['Adj Close']))\n",
        "df['Separating_Lines'] = ta.CDLSEPARATINGLINES(np.array(df['Open']), np.array(df['High']), np.array(df['Low']), np.array(df['Adj Close']))\n",
        "df['Shooting_Star'] = ta.CDLSHOOTINGSTAR(np.array(df['Open']), np.array(df['High']), np.array(df['Low']), np.array(df['Adj Close']))\n",
        "df['Short_Line_Candle'] = ta.CDLSHORTLINE(np.array(df['Open']), np.array(df['High']), np.array(df['Low']), np.array(df['Adj Close']))\n",
        "df['Spinning_Top'] = ta.CDLSPINNINGTOP(np.array(df['Open']), np.array(df['High']), np.array(df['Low']), np.array(df['Adj Close']))\n",
        "df['Stalled_Pattern'] = ta.CDLSTALLEDPATTERN(np.array(df['Open']), np.array(df['High']), np.array(df['Low']), np.array(df['Adj Close']))\n",
        "df['Stick_Sandwich'] = ta.CDLSTICKSANDWICH(np.array(df['Open']), np.array(df['High']), np.array(df['Low']), np.array(df['Adj Close']))\n",
        "df['Takuri'] = ta.CDLTAKURI(np.array(df['Open']), np.array(df['High']), np.array(df['Low']), np.array(df['Adj Close']))\n",
        "df['Tasuki_Gap'] = ta.CDLTASUKIGAP(np.array(df['Open']), np.array(df['High']), np.array(df['Low']), np.array(df['Adj Close']))\n",
        "df['Thrusting_Pattern'] = ta.CDLTHRUSTING(np.array(df['Open']), np.array(df['High']), np.array(df['Low']), np.array(df['Adj Close']))\n",
        "df['Tristar_Pattern'] = ta.CDLTRISTAR(np.array(df['Open']), np.array(df['High']), np.array(df['Low']), np.array(df['Adj Close']))\n",
        "df['Unique_3_River'] = ta.CDLUNIQUE3RIVER(np.array(df['Open']), np.array(df['High']), np.array(df['Low']), np.array(df['Adj Close']))\n",
        "df['Upside_Gap_Two_Crows'] = ta.CDLUPSIDEGAP2CROWS(np.array(df['Open']), np.array(df['High']), np.array(df['Low']), np.array(df['Adj Close']))\n",
        "df['Upside_Downside_Gap_Three_Methods'] = ta.CDLXSIDEGAP3METHODS(np.array(df['Open']), np.array(df['High']), np.array(df['Low']), np.array(df['Adj Close']))"
      ],
      "outputs": [],
      "execution_count": null,
      "metadata": {
        "collapsed": false,
        "outputHidden": false,
        "inputHidden": false
      }
    },
    {
      "cell_type": "code",
      "source": [
        "# Cycle Indicator Functions\n",
        "df['HT_DCPERIOD']=ta.HT_DCPERIOD(np.array(df['Adj Close'].shift(1)))\n",
        "df['HT_DCPHASE']=ta.HT_DCPHASE(np.array(df['Adj Close'].shift(1)))\n",
        "df['inphase'], df['quadrature']=ta.HT_PHASOR(np.array(df['Adj Close'].shift(1)))\n",
        "df['sine'], df['leadsine']=ta.HT_SINE(np.array(df['Adj Close'].shift(1)))\t\t\n",
        "df['HT_TRENDMODE']=ta.HT_TRENDMODE(np.array(df['Adj Close'].shift(1)))\t\t\t\t\n",
        "\t\t\t\t\n",
        "df['ATR1']=abs(np.array(df['High'].shift(1)) - np.array(df['Low'].shift(1)))\n",
        "df['ATR2']=abs(np.array(df['High'].shift(1)) - np.array(df['Adj Close'].shift(1)))\n",
        "df['ATR3']=abs(np.array(df['Low'].shift(1)) - np.array(df['Adj Close'].shift(1)))\n",
        "df['AverageTrueRange'] = df[['ATR1', 'ATR2', 'ATR3']].max(axis=1)\n",
        "\ndf['EMA']=pd.Series(pd.ewma(df['Adj Close'], span = n, min_periods = n - 1))"
      ],
      "outputs": [],
      "execution_count": null,
      "metadata": {
        "collapsed": false,
        "outputHidden": false,
        "inputHidden": false
      }
    },
    {
      "cell_type": "code",
      "source": [
        "# Statistic Functions\n",
        "df['Beta']=ta.BETA(np.array(df['High'].shift(1)),np.array(df['Low'].shift(1)), timeperiod=n)\n",
        "df['CORREL']=ta.CORREL(np.array(df['High'].shift(1)),np.array(df['Low'].shift(1)), timeperiod=n)\n",
        "df['LINEARREG']=ta.LINEARREG(np.array(df['Adj Close'].shift(1)), timeperiod=n)\n",
        "df['LINEARREG_ANGLE']=ta.LINEARREG_ANGLE(np.array(df['Adj Close'].shift(1)), timeperiod=n)\n",
        "df['LINEARREG_INTERCEPT']=ta.LINEARREG_INTERCEPT(np.array(df['Adj Close'].shift(1)), timeperiod=n)\n",
        "df['LINEARREG_SLOPE']=ta.LINEARREG_SLOPE(np.array(df['Adj Close'].shift(1)), timeperiod=n)\n",
        "df['STDDEV']=ta.STDDEV(np.array(df['Adj Close'].shift(1)), timeperiod=n, nbdev=1)\n",
        "df['Time Series Forecast']=ta.TSF(np.array(df['Adj Close'].shift(1)), timeperiod=n)\n",
        "df['VAR']=ta.VAR(np.array(df['Adj Close'].shift(1)), timeperiod=n, nbdev=1)"
      ],
      "outputs": [],
      "execution_count": null,
      "metadata": {
        "collapsed": false,
        "outputHidden": false,
        "inputHidden": false
      }
    },
    {
      "cell_type": "code",
      "source": [
        "# Overlap Studies Functions\n",
        "df['upperband'], df['middleband'], df['lowerband']=ta.BBANDS(np.array(df['Adj Close'].shift(1)), timeperiod=n, nbdevup=2, nbdevdn=2, matype=0)\n",
        "df['DEMA']=ta.DEMA(np.array(df['Adj Close'].shift(1)), timeperiod=n)\n",
        "df['EMA']=ta.EMA(np.array(df['Adj Close'].shift(1)), timeperiod=n)\n",
        "df['HT_TRENDLINE']=ta.HT_TRENDLINE(np.array(df['Adj Close'].shift(1)))\n",
        "df['KAMA']=ta.KAMA(np.array(df['Adj Close'].shift(1)), timeperiod=n)\n",
        "df['MA']=ta.MA(np.array(df['Adj Close'].shift(1)), timeperiod=n, matype=0)\n",
        "df['mama'],df['fama'] = ta.MAMA(np.array(df['Adj Close'].shift(1)), fastlimit=0, slowlimit=0)\n",
        "df['MAVP'] =ta.MAVP(np.array(df['Adj Close'].shift(1)),periods, minperiod=2, maxperiod=30, matype=0)\n",
        "df['MIDPOINT']=ta.MIDPOINT(np.array(df['Adj Close'].shift(1)), timeperiod=n)\n",
        "df['MIDPRICE']=ta.MIDPRICE(np.array(df['High'].shift(1)),np.array(df['Low'].shift(1)), timeperiod=n)\n",
        "df['SAR']=ta.SAR(np.array(df['High'].shift(1)),np.array(df['Low'].shift(1)), acceleration=0, maximum=0)\n",
        "\n",
        "df['SAREXT']=ta.SAREXT(np.array(df['High'].shift(1)),np.array(df['Low'].shift(1)), startvalue=0, offsetonreverse=0, accelerationinitlong=0, accelerationlong=0, accelerationmaxlong=0, accelerationinitshort=0, accelerationshort=0, accelerationmaxshort=0)\n",
        "\n",
        "df['SMA']=ta.SMA(np.array(df['Adj Close'].shift(1)), timeperiod=n)\n",
        "df['T3']=ta.T3(np.array(df['Adj Close'].shift(1)), timeperiod=n, vfactor=0)\n",
        "df['TEMA']=ta.TEMA(np.array(df['Adj Close'].shift(1)), timeperiod=n)\n",
        "df['TRIMA']=ta.TRIMA(np.array(df['Adj Close'].shift(1)), timeperiod=n)\n",
        "df['WMA']=ta.WMA(np.array(df['Adj Close'].shift(1)), timeperiod=n)"
      ],
      "outputs": [],
      "execution_count": null,
      "metadata": {
        "collapsed": false,
        "outputHidden": false,
        "inputHidden": false
      }
    },
    {
      "cell_type": "code",
      "source": [
        "df['20d_ma'] = df['Adj Close'].shift(1).rolling(window=20).mean()\n",
        "df['50d_ma'] = df['Adj Close'].shift(1).rolling(window=50).mean()\n",
        "df['Bol_upper'] = df['Adj Close'].shift(1).rolling(window=20).mean() + 2* df['Adj Close'].shift(1).rolling(window=20).std()\n",
        "df['Bol_lower'] = df['Adj Close'].shift(1).rolling(window=20).mean() - 2* df['Adj Close'].shift(1).rolling(window=20).std()\n",
        "df['Bol_BW'] = ((df['Bol_upper'] - df['Bol_lower'])/df['20d_ma'])*100\n",
        "df['Bol_BW_200MA'] = df['Bol_BW'].shift(1).rolling(window=50).mean()\n",
        "df['Bol_BW_200MA'] = df['Bol_BW_200MA'].fillna(method='backfill')\n",
        "df['20d_ewma'] = df['Adj Close'].shift(1).ewm(span=20).mean()\n",
        "df['50d_ewma'] = df['Adj Close'].shift(1).ewm(span=50).mean()"
      ],
      "outputs": [],
      "execution_count": null,
      "metadata": {
        "collapsed": false,
        "outputHidden": false,
        "inputHidden": false
      }
    }
  ],
  "metadata": {
    "kernelspec": {
      "name": "python3",
      "language": "python",
      "display_name": "Python 3"
    },
    "kernel_info": {
      "name": "python3"
    },
    "language_info": {
      "pygments_lexer": "ipython3",
      "name": "python",
      "mimetype": "text/x-python",
      "codemirror_mode": {
        "version": 3,
        "name": "ipython"
      },
      "version": "3.5.5",
      "nbconvert_exporter": "python",
      "file_extension": ".py"
    },
    "nteract": {
      "version": "0.8.4"
    }
  },
  "nbformat": 4,
  "nbformat_minor": 4
}