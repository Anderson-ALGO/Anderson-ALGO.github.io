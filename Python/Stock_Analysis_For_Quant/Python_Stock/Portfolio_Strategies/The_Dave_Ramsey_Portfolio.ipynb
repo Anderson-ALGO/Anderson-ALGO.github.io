{
  "cells": [
    {
      "cell_type": "markdown",
      "source": [
        "# The Dave Ramsey Portfolio"
      ],
      "metadata": {}
    },
    {
      "cell_type": "markdown",
      "source": [
        "https://www.daveramsey.com/blog/daves-investing-philosophy"
      ],
      "metadata": {}
    },
    {
      "cell_type": "markdown",
      "source": [
        "Step 1: Set goals for your investments.  \n",
        "Step 2: Save 15% of your income for retirement.  \n",
        "Step 3: Choose good growth stock mutual funds.  \n",
        "Step 4: Invest with a long-term perspective.  \n",
        "Step 5: Get help from an investing professional.  "
      ],
      "metadata": {}
    },
    {
      "cell_type": "markdown",
      "source": [
        "Age: 38 Years Old  \n",
        "\n",
        "Reitrement: Have 1 million dollar by age 60\n",
        "\n",
        "College fund: Save $100,000 in ten years for daughter's tuition\n",
        "\n",
        "Buy a home: Buy a $500,000  "
      ],
      "metadata": {}
    },
    {
      "cell_type": "code",
      "source": [
        "import numpy as np\n",
        "import pandas as pd\n",
        "import matplotlib.pyplot as plt\n",
        "import seaborn as sns\n",
        "import math\n",
        "\n",
        "import warnings\n",
        "warnings.filterwarnings(\"ignore\")\n",
        "\n",
        "# fix_yahoo_finance is used to fetch data \n",
        "import fix_yahoo_finance as yf\n",
        "yf.pdr_override()"
      ],
      "outputs": [],
      "execution_count": 1,
      "metadata": {
        "collapsed": false,
        "outputHidden": false,
        "inputHidden": false
      }
    },
    {
      "cell_type": "code",
      "source": [
        "income_for_retirement = 5000 # Monthly\n",
        "save_15_percent = 5000 * 0.15"
      ],
      "outputs": [],
      "execution_count": 2,
      "metadata": {
        "collapsed": false,
        "outputHidden": false,
        "inputHidden": false
      }
    },
    {
      "cell_type": "code",
      "source": [
        "print('Save 15% of your income for retirement: ', save_15_percent)\n",
        "print('Save in a year: $', save_15_percent*12)\n",
        "print('Save in 2 years: $', save_15_percent*24)\n",
        "print('Save in 5 years: $', save_15_percent*60)\n",
        "print('Save in 10 years: $', save_15_percent*120)\n",
        "print('Save in 20 years: $', save_15_percent*240)\n",
        "print('Save in age of 60: $', save_15_percent*264)\n",
        "print('Save in age of 65: $', save_15_percent*324)"
      ],
      "outputs": [
        {
          "output_type": "stream",
          "name": "stdout",
          "text": [
            "Save 15% of your income for retirement:  750.0\n",
            "Save in a year: $ 9000.0\n",
            "Save in 2 years: $ 18000.0\n",
            "Save in 5 years: $ 45000.0\n",
            "Save in 10 years: $ 90000.0\n",
            "Save in 20 years: $ 180000.0\n",
            "Save in age of 60: $ 198000.0\n",
            "Save in age of 65: $ 243000.0\n"
          ]
        }
      ],
      "execution_count": 3,
      "metadata": {
        "collapsed": false,
        "outputHidden": false,
        "inputHidden": false
      }
    },
    {
      "cell_type": "code",
      "source": [
        "# input\n",
        "symbols = ['VTSAX','SPY','VGSLX','VSIAX']\n",
        "start = '2014-01-01'\n",
        "end = '2019-01-01'\n",
        "\n",
        "# Read data \n",
        "dataset = yf.download(symbols,start,end)['Adj Close']\n",
        "\n",
        "# View Columns\n",
        "dataset.head()"
      ],
      "outputs": [
        {
          "output_type": "stream",
          "name": "stdout",
          "text": [
            "[*********************100%***********************]  4 of 4 downloaded\n"
          ]
        },
        {
          "output_type": "execute_result",
          "execution_count": 4,
          "data": {
            "text/plain": [
              "                   SPY      VGSLX      VSIAX      VTSAX\n",
              "Date                                                   \n",
              "2014-01-02  163.383347  72.174324  36.409233  41.514381\n",
              "2014-01-03  163.356522  72.711060  36.523590  41.532322\n",
              "2014-01-06  162.883148  73.026787  36.286076  41.406715\n",
              "2014-01-07  163.883560  73.263588  36.549976  41.675892\n",
              "2014-01-08  163.919250  73.003120  36.567574  41.693832"
            ],
            "text/html": [
              "<div>\n",
              "<style scoped>\n",
              "    .dataframe tbody tr th:only-of-type {\n",
              "        vertical-align: middle;\n",
              "    }\n",
              "\n",
              "    .dataframe tbody tr th {\n",
              "        vertical-align: top;\n",
              "    }\n",
              "\n",
              "    .dataframe thead th {\n",
              "        text-align: right;\n",
              "    }\n",
              "</style>\n",
              "<table border=\"1\" class=\"dataframe\">\n",
              "  <thead>\n",
              "    <tr style=\"text-align: right;\">\n",
              "      <th></th>\n",
              "      <th>SPY</th>\n",
              "      <th>VGSLX</th>\n",
              "      <th>VSIAX</th>\n",
              "      <th>VTSAX</th>\n",
              "    </tr>\n",
              "    <tr>\n",
              "      <th>Date</th>\n",
              "      <th></th>\n",
              "      <th></th>\n",
              "      <th></th>\n",
              "      <th></th>\n",
              "    </tr>\n",
              "  </thead>\n",
              "  <tbody>\n",
              "    <tr>\n",
              "      <th>2014-01-02</th>\n",
              "      <td>163.383347</td>\n",
              "      <td>72.174324</td>\n",
              "      <td>36.409233</td>\n",
              "      <td>41.514381</td>\n",
              "    </tr>\n",
              "    <tr>\n",
              "      <th>2014-01-03</th>\n",
              "      <td>163.356522</td>\n",
              "      <td>72.711060</td>\n",
              "      <td>36.523590</td>\n",
              "      <td>41.532322</td>\n",
              "    </tr>\n",
              "    <tr>\n",
              "      <th>2014-01-06</th>\n",
              "      <td>162.883148</td>\n",
              "      <td>73.026787</td>\n",
              "      <td>36.286076</td>\n",
              "      <td>41.406715</td>\n",
              "    </tr>\n",
              "    <tr>\n",
              "      <th>2014-01-07</th>\n",
              "      <td>163.883560</td>\n",
              "      <td>73.263588</td>\n",
              "      <td>36.549976</td>\n",
              "      <td>41.675892</td>\n",
              "    </tr>\n",
              "    <tr>\n",
              "      <th>2014-01-08</th>\n",
              "      <td>163.919250</td>\n",
              "      <td>73.003120</td>\n",
              "      <td>36.567574</td>\n",
              "      <td>41.693832</td>\n",
              "    </tr>\n",
              "  </tbody>\n",
              "</table>\n",
              "</div>"
            ]
          },
          "metadata": {}
        }
      ],
      "execution_count": 4,
      "metadata": {
        "collapsed": false,
        "outputHidden": false,
        "inputHidden": false
      }
    },
    {
      "cell_type": "code",
      "source": [
        "dataset.tail()"
      ],
      "outputs": [
        {
          "output_type": "execute_result",
          "execution_count": 5,
          "data": {
            "text/plain": [
              "                   SPY       VGSLX      VSIAX      VTSAX\n",
              "Date                                                    \n",
              "2018-12-24  231.115768   99.095360  45.703533  57.410362\n",
              "2018-12-26  242.792862  102.520523  47.724945  60.261646\n",
              "2018-12-27  244.656876  102.657135  47.872852  60.745079\n",
              "2018-12-28  244.341248  102.949883  47.991177  60.725346\n",
              "2018-12-31  246.481415  103.164574  48.326435  61.258110"
            ],
            "text/html": [
              "<div>\n",
              "<style scoped>\n",
              "    .dataframe tbody tr th:only-of-type {\n",
              "        vertical-align: middle;\n",
              "    }\n",
              "\n",
              "    .dataframe tbody tr th {\n",
              "        vertical-align: top;\n",
              "    }\n",
              "\n",
              "    .dataframe thead th {\n",
              "        text-align: right;\n",
              "    }\n",
              "</style>\n",
              "<table border=\"1\" class=\"dataframe\">\n",
              "  <thead>\n",
              "    <tr style=\"text-align: right;\">\n",
              "      <th></th>\n",
              "      <th>SPY</th>\n",
              "      <th>VGSLX</th>\n",
              "      <th>VSIAX</th>\n",
              "      <th>VTSAX</th>\n",
              "    </tr>\n",
              "    <tr>\n",
              "      <th>Date</th>\n",
              "      <th></th>\n",
              "      <th></th>\n",
              "      <th></th>\n",
              "      <th></th>\n",
              "    </tr>\n",
              "  </thead>\n",
              "  <tbody>\n",
              "    <tr>\n",
              "      <th>2018-12-24</th>\n",
              "      <td>231.115768</td>\n",
              "      <td>99.095360</td>\n",
              "      <td>45.703533</td>\n",
              "      <td>57.410362</td>\n",
              "    </tr>\n",
              "    <tr>\n",
              "      <th>2018-12-26</th>\n",
              "      <td>242.792862</td>\n",
              "      <td>102.520523</td>\n",
              "      <td>47.724945</td>\n",
              "      <td>60.261646</td>\n",
              "    </tr>\n",
              "    <tr>\n",
              "      <th>2018-12-27</th>\n",
              "      <td>244.656876</td>\n",
              "      <td>102.657135</td>\n",
              "      <td>47.872852</td>\n",
              "      <td>60.745079</td>\n",
              "    </tr>\n",
              "    <tr>\n",
              "      <th>2018-12-28</th>\n",
              "      <td>244.341248</td>\n",
              "      <td>102.949883</td>\n",
              "      <td>47.991177</td>\n",
              "      <td>60.725346</td>\n",
              "    </tr>\n",
              "    <tr>\n",
              "      <th>2018-12-31</th>\n",
              "      <td>246.481415</td>\n",
              "      <td>103.164574</td>\n",
              "      <td>48.326435</td>\n",
              "      <td>61.258110</td>\n",
              "    </tr>\n",
              "  </tbody>\n",
              "</table>\n",
              "</div>"
            ]
          },
          "metadata": {}
        }
      ],
      "execution_count": 5,
      "metadata": {
        "collapsed": false,
        "outputHidden": false,
        "inputHidden": false
      }
    },
    {
      "cell_type": "code",
      "source": [
        "# Calculate Daily Returns\n",
        "returns = dataset.pct_change()\n",
        "returns = returns.dropna()"
      ],
      "outputs": [],
      "execution_count": 6,
      "metadata": {
        "collapsed": false,
        "outputHidden": false,
        "inputHidden": false
      }
    },
    {
      "cell_type": "code",
      "source": [
        "returns.head()"
      ],
      "outputs": [
        {
          "output_type": "execute_result",
          "execution_count": 7,
          "data": {
            "text/plain": [
              "                 SPY     VGSLX     VSIAX     VTSAX\n",
              "Date                                              \n",
              "2014-01-03 -0.000164  0.007437  0.003141  0.000432\n",
              "2014-01-06 -0.002898  0.004342 -0.006503 -0.003024\n",
              "2014-01-07  0.006142  0.003243  0.007273  0.006501\n",
              "2014-01-08  0.000218 -0.003555  0.000481  0.000430\n",
              "2014-01-09  0.000654  0.000324  0.001443  0.000645"
            ],
            "text/html": [
              "<div>\n",
              "<style scoped>\n",
              "    .dataframe tbody tr th:only-of-type {\n",
              "        vertical-align: middle;\n",
              "    }\n",
              "\n",
              "    .dataframe tbody tr th {\n",
              "        vertical-align: top;\n",
              "    }\n",
              "\n",
              "    .dataframe thead th {\n",
              "        text-align: right;\n",
              "    }\n",
              "</style>\n",
              "<table border=\"1\" class=\"dataframe\">\n",
              "  <thead>\n",
              "    <tr style=\"text-align: right;\">\n",
              "      <th></th>\n",
              "      <th>SPY</th>\n",
              "      <th>VGSLX</th>\n",
              "      <th>VSIAX</th>\n",
              "      <th>VTSAX</th>\n",
              "    </tr>\n",
              "    <tr>\n",
              "      <th>Date</th>\n",
              "      <th></th>\n",
              "      <th></th>\n",
              "      <th></th>\n",
              "      <th></th>\n",
              "    </tr>\n",
              "  </thead>\n",
              "  <tbody>\n",
              "    <tr>\n",
              "      <th>2014-01-03</th>\n",
              "      <td>-0.000164</td>\n",
              "      <td>0.007437</td>\n",
              "      <td>0.003141</td>\n",
              "      <td>0.000432</td>\n",
              "    </tr>\n",
              "    <tr>\n",
              "      <th>2014-01-06</th>\n",
              "      <td>-0.002898</td>\n",
              "      <td>0.004342</td>\n",
              "      <td>-0.006503</td>\n",
              "      <td>-0.003024</td>\n",
              "    </tr>\n",
              "    <tr>\n",
              "      <th>2014-01-07</th>\n",
              "      <td>0.006142</td>\n",
              "      <td>0.003243</td>\n",
              "      <td>0.007273</td>\n",
              "      <td>0.006501</td>\n",
              "    </tr>\n",
              "    <tr>\n",
              "      <th>2014-01-08</th>\n",
              "      <td>0.000218</td>\n",
              "      <td>-0.003555</td>\n",
              "      <td>0.000481</td>\n",
              "      <td>0.000430</td>\n",
              "    </tr>\n",
              "    <tr>\n",
              "      <th>2014-01-09</th>\n",
              "      <td>0.000654</td>\n",
              "      <td>0.000324</td>\n",
              "      <td>0.001443</td>\n",
              "      <td>0.000645</td>\n",
              "    </tr>\n",
              "  </tbody>\n",
              "</table>\n",
              "</div>"
            ]
          },
          "metadata": {}
        }
      ],
      "execution_count": 7,
      "metadata": {
        "collapsed": false,
        "outputHidden": false,
        "inputHidden": false
      }
    },
    {
      "cell_type": "code",
      "source": [
        "# Calculate mean returns\n",
        "meanDailyReturns = returns.mean()\n",
        "print(meanDailyReturns)"
      ],
      "outputs": [
        {
          "output_type": "stream",
          "name": "stdout",
          "text": [
            "SPY      0.000362\n",
            "VGSLX    0.000327\n",
            "VSIAX    0.000267\n",
            "VTSAX    0.000345\n",
            "dtype: float64\n"
          ]
        }
      ],
      "execution_count": 8,
      "metadata": {
        "collapsed": false,
        "outputHidden": false,
        "inputHidden": false
      }
    },
    {
      "cell_type": "code",
      "source": [
        "# Calculate std returns\n",
        "stdDailyReturns = returns.std()\n",
        "print(stdDailyReturns)"
      ],
      "outputs": [
        {
          "output_type": "stream",
          "name": "stdout",
          "text": [
            "SPY      0.008306\n",
            "VGSLX    0.009270\n",
            "VSIAX    0.009084\n",
            "VTSAX    0.008408\n",
            "dtype: float64\n"
          ]
        }
      ],
      "execution_count": 9,
      "metadata": {
        "collapsed": false,
        "outputHidden": false,
        "inputHidden": false
      }
    },
    {
      "cell_type": "code",
      "source": [
        "# Define weights for the portfolio\n",
        "weights = np.array([0.25, 0.25, 0.25, 0.25])"
      ],
      "outputs": [],
      "execution_count": 10,
      "metadata": {
        "collapsed": false,
        "outputHidden": false,
        "inputHidden": false
      }
    },
    {
      "cell_type": "code",
      "source": [
        "# Calculate the covariance matrix on daily returns\n",
        "cov_matrix = (returns.cov())*250\n",
        "print (cov_matrix)"
      ],
      "outputs": [
        {
          "output_type": "stream",
          "name": "stdout",
          "text": [
            "            SPY     VGSLX     VSIAX     VTSAX\n",
            "SPY    0.017247  0.011189  0.016896  0.017374\n",
            "VGSLX  0.011189  0.021483  0.012191  0.011465\n",
            "VSIAX  0.016896  0.012191  0.020630  0.017679\n",
            "VTSAX  0.017374  0.011465  0.017679  0.017674\n"
          ]
        }
      ],
      "execution_count": 11,
      "metadata": {
        "collapsed": false,
        "outputHidden": false,
        "inputHidden": false
      }
    },
    {
      "cell_type": "code",
      "source": [
        "# Calculate expected portfolio performance\n",
        "portReturn = np.sum(meanDailyReturns*weights)"
      ],
      "outputs": [],
      "execution_count": 12,
      "metadata": {
        "collapsed": false,
        "outputHidden": false,
        "inputHidden": false
      }
    },
    {
      "cell_type": "code",
      "source": [
        "# Print the portfolio return\n",
        "print(portReturn)"
      ],
      "outputs": [
        {
          "output_type": "stream",
          "name": "stdout",
          "text": [
            "0.00032514438021171376\n"
          ]
        }
      ],
      "execution_count": 13,
      "metadata": {
        "collapsed": false,
        "outputHidden": false,
        "inputHidden": false
      }
    },
    {
      "cell_type": "code",
      "source": [
        "# Create portfolio returns column\n",
        "returns['Portfolio'] = returns.dot(weights)"
      ],
      "outputs": [],
      "execution_count": 14,
      "metadata": {
        "collapsed": false,
        "outputHidden": false,
        "inputHidden": false
      }
    },
    {
      "cell_type": "code",
      "source": [
        "returns.head()"
      ],
      "outputs": [
        {
          "output_type": "execute_result",
          "execution_count": 15,
          "data": {
            "text/plain": [
              "                 SPY     VGSLX     VSIAX     VTSAX  Portfolio\n",
              "Date                                                         \n",
              "2014-01-03 -0.000164  0.007437  0.003141  0.000432   0.002711\n",
              "2014-01-06 -0.002898  0.004342 -0.006503 -0.003024  -0.002021\n",
              "2014-01-07  0.006142  0.003243  0.007273  0.006501   0.005790\n",
              "2014-01-08  0.000218 -0.003555  0.000481  0.000430  -0.000606\n",
              "2014-01-09  0.000654  0.000324  0.001443  0.000645   0.000767"
            ],
            "text/html": [
              "<div>\n",
              "<style scoped>\n",
              "    .dataframe tbody tr th:only-of-type {\n",
              "        vertical-align: middle;\n",
              "    }\n",
              "\n",
              "    .dataframe tbody tr th {\n",
              "        vertical-align: top;\n",
              "    }\n",
              "\n",
              "    .dataframe thead th {\n",
              "        text-align: right;\n",
              "    }\n",
              "</style>\n",
              "<table border=\"1\" class=\"dataframe\">\n",
              "  <thead>\n",
              "    <tr style=\"text-align: right;\">\n",
              "      <th></th>\n",
              "      <th>SPY</th>\n",
              "      <th>VGSLX</th>\n",
              "      <th>VSIAX</th>\n",
              "      <th>VTSAX</th>\n",
              "      <th>Portfolio</th>\n",
              "    </tr>\n",
              "    <tr>\n",
              "      <th>Date</th>\n",
              "      <th></th>\n",
              "      <th></th>\n",
              "      <th></th>\n",
              "      <th></th>\n",
              "      <th></th>\n",
              "    </tr>\n",
              "  </thead>\n",
              "  <tbody>\n",
              "    <tr>\n",
              "      <th>2014-01-03</th>\n",
              "      <td>-0.000164</td>\n",
              "      <td>0.007437</td>\n",
              "      <td>0.003141</td>\n",
              "      <td>0.000432</td>\n",
              "      <td>0.002711</td>\n",
              "    </tr>\n",
              "    <tr>\n",
              "      <th>2014-01-06</th>\n",
              "      <td>-0.002898</td>\n",
              "      <td>0.004342</td>\n",
              "      <td>-0.006503</td>\n",
              "      <td>-0.003024</td>\n",
              "      <td>-0.002021</td>\n",
              "    </tr>\n",
              "    <tr>\n",
              "      <th>2014-01-07</th>\n",
              "      <td>0.006142</td>\n",
              "      <td>0.003243</td>\n",
              "      <td>0.007273</td>\n",
              "      <td>0.006501</td>\n",
              "      <td>0.005790</td>\n",
              "    </tr>\n",
              "    <tr>\n",
              "      <th>2014-01-08</th>\n",
              "      <td>0.000218</td>\n",
              "      <td>-0.003555</td>\n",
              "      <td>0.000481</td>\n",
              "      <td>0.000430</td>\n",
              "      <td>-0.000606</td>\n",
              "    </tr>\n",
              "    <tr>\n",
              "      <th>2014-01-09</th>\n",
              "      <td>0.000654</td>\n",
              "      <td>0.000324</td>\n",
              "      <td>0.001443</td>\n",
              "      <td>0.000645</td>\n",
              "      <td>0.000767</td>\n",
              "    </tr>\n",
              "  </tbody>\n",
              "</table>\n",
              "</div>"
            ]
          },
          "metadata": {}
        }
      ],
      "execution_count": 15,
      "metadata": {
        "collapsed": false,
        "outputHidden": false,
        "inputHidden": false
      }
    },
    {
      "cell_type": "code",
      "source": [
        "returns.tail()"
      ],
      "outputs": [
        {
          "output_type": "execute_result",
          "execution_count": 16,
          "data": {
            "text/plain": [
              "                 SPY     VGSLX     VSIAX     VTSAX  Portfolio\n",
              "Date                                                         \n",
              "2018-12-24 -0.026423 -0.037350 -0.025442 -0.026435  -0.028912\n",
              "2018-12-26  0.050525  0.034564  0.044229  0.049665   0.044746\n",
              "2018-12-27  0.007677  0.001333  0.003099  0.008022   0.005033\n",
              "2018-12-28 -0.001290  0.002852  0.002472 -0.000325   0.000927\n",
              "2018-12-31  0.008759  0.002085  0.006986  0.008773   0.006651"
            ],
            "text/html": [
              "<div>\n",
              "<style scoped>\n",
              "    .dataframe tbody tr th:only-of-type {\n",
              "        vertical-align: middle;\n",
              "    }\n",
              "\n",
              "    .dataframe tbody tr th {\n",
              "        vertical-align: top;\n",
              "    }\n",
              "\n",
              "    .dataframe thead th {\n",
              "        text-align: right;\n",
              "    }\n",
              "</style>\n",
              "<table border=\"1\" class=\"dataframe\">\n",
              "  <thead>\n",
              "    <tr style=\"text-align: right;\">\n",
              "      <th></th>\n",
              "      <th>SPY</th>\n",
              "      <th>VGSLX</th>\n",
              "      <th>VSIAX</th>\n",
              "      <th>VTSAX</th>\n",
              "      <th>Portfolio</th>\n",
              "    </tr>\n",
              "    <tr>\n",
              "      <th>Date</th>\n",
              "      <th></th>\n",
              "      <th></th>\n",
              "      <th></th>\n",
              "      <th></th>\n",
              "      <th></th>\n",
              "    </tr>\n",
              "  </thead>\n",
              "  <tbody>\n",
              "    <tr>\n",
              "      <th>2018-12-24</th>\n",
              "      <td>-0.026423</td>\n",
              "      <td>-0.037350</td>\n",
              "      <td>-0.025442</td>\n",
              "      <td>-0.026435</td>\n",
              "      <td>-0.028912</td>\n",
              "    </tr>\n",
              "    <tr>\n",
              "      <th>2018-12-26</th>\n",
              "      <td>0.050525</td>\n",
              "      <td>0.034564</td>\n",
              "      <td>0.044229</td>\n",
              "      <td>0.049665</td>\n",
              "      <td>0.044746</td>\n",
              "    </tr>\n",
              "    <tr>\n",
              "      <th>2018-12-27</th>\n",
              "      <td>0.007677</td>\n",
              "      <td>0.001333</td>\n",
              "      <td>0.003099</td>\n",
              "      <td>0.008022</td>\n",
              "      <td>0.005033</td>\n",
              "    </tr>\n",
              "    <tr>\n",
              "      <th>2018-12-28</th>\n",
              "      <td>-0.001290</td>\n",
              "      <td>0.002852</td>\n",
              "      <td>0.002472</td>\n",
              "      <td>-0.000325</td>\n",
              "      <td>0.000927</td>\n",
              "    </tr>\n",
              "    <tr>\n",
              "      <th>2018-12-31</th>\n",
              "      <td>0.008759</td>\n",
              "      <td>0.002085</td>\n",
              "      <td>0.006986</td>\n",
              "      <td>0.008773</td>\n",
              "      <td>0.006651</td>\n",
              "    </tr>\n",
              "  </tbody>\n",
              "</table>\n",
              "</div>"
            ]
          },
          "metadata": {}
        }
      ],
      "execution_count": 16,
      "metadata": {
        "collapsed": false,
        "outputHidden": false,
        "inputHidden": false
      }
    },
    {
      "cell_type": "code",
      "source": [
        "# Calculate cumulative returns\n",
        "daily_cum_ret=(1+returns).cumprod()\n",
        "print(daily_cum_ret.tail())"
      ],
      "outputs": [
        {
          "output_type": "stream",
          "name": "stdout",
          "text": [
            "                 SPY     VGSLX     VSIAX     VTSAX  Portfolio\n",
            "Date                                                         \n",
            "2018-12-24  1.414561  1.373000  1.255273  1.382903   1.367353\n",
            "2018-12-26  1.486032  1.420457  1.310792  1.451585   1.428536\n",
            "2018-12-27  1.497441  1.422350  1.314855  1.463230   1.435726\n",
            "2018-12-28  1.495509  1.426406  1.318105  1.462754   1.437057\n",
            "2018-12-31  1.508608  1.429381  1.327313  1.475588   1.446615\n"
          ]
        }
      ],
      "execution_count": 17,
      "metadata": {
        "collapsed": false,
        "outputHidden": false,
        "inputHidden": false
      }
    },
    {
      "cell_type": "code",
      "source": [
        "returns['Portfolio'].hist()\n",
        "plt.show()"
      ],
      "outputs": [
        {
          "output_type": "display_data",
          "data": {
            "image/png": "[encoded data removed]",
            "text/plain": [
              "<Figure size 432x288 with 1 Axes>"
            ]
          },
          "metadata": {}
        }
      ],
      "execution_count": 18,
      "metadata": {
        "collapsed": false,
        "outputHidden": false,
        "inputHidden": false
      }
    },
    {
      "cell_type": "code",
      "source": [
        "import matplotlib.dates\n",
        "\n",
        "# Plot the portfolio cumulative returns only\n",
        "fig, ax = plt.subplots()\n",
        "ax.plot(daily_cum_ret.index, daily_cum_ret.Portfolio, color='purple', label=\"portfolio\")\n",
        "ax.xaxis.set_major_locator(matplotlib.dates.YearLocator())\n",
        "plt.legend()\n",
        "plt.show()"
      ],
      "outputs": [
        {
          "output_type": "display_data",
          "data": {
            "image/png": "[encoded data removed]",
            "text/plain": [
              "<Figure size 432x288 with 1 Axes>"
            ]
          },
          "metadata": {}
        }
      ],
      "execution_count": 19,
      "metadata": {
        "collapsed": false,
        "outputHidden": false,
        "inputHidden": false
      }
    },
    {
      "cell_type": "code",
      "source": [
        "# Print the mean\n",
        "print(\"mean : \", returns['Portfolio'].mean()*100)\n",
        "\n",
        "# Print the standard deviation\n",
        "print(\"Std. dev: \", returns['Portfolio'].std()*100)\n",
        "\n",
        "# Print the skewness\n",
        "print(\"skew: \", returns['Portfolio'].skew())\n",
        "\n",
        "# Print the kurtosis\n",
        "print(\"kurt: \", returns['Portfolio'].kurtosis())"
      ],
      "outputs": [
        {
          "output_type": "stream",
          "name": "stdout",
          "text": [
            "mean :  0.032514438021171314\n",
            "Std. dev:  0.7915524366523183\n",
            "skew:  -0.4078573639390761\n",
            "kurt:  3.007279112651302\n"
          ]
        }
      ],
      "execution_count": 20,
      "metadata": {
        "collapsed": false,
        "outputHidden": false,
        "inputHidden": false
      }
    },
    {
      "cell_type": "code",
      "source": [
        "# Calculate the standard deviation by taking the square root\n",
        "port_standard_dev = np.sqrt(np.dot(weights.T, np.dot(weights, cov_matrix)))\n",
        "\n",
        "# Print the results \n",
        "print(str(np.round(port_standard_dev, 4) * 100) + '%')"
      ],
      "outputs": [
        {
          "output_type": "stream",
          "name": "stdout",
          "text": [
            "12.520000000000001%\n"
          ]
        }
      ],
      "execution_count": 21,
      "metadata": {
        "collapsed": false,
        "outputHidden": false,
        "inputHidden": false
      }
    },
    {
      "cell_type": "code",
      "source": [
        "# Calculate the portfolio variance\n",
        "port_variance = np.dot(weights.T, np.dot(cov_matrix, weights))\n",
        "\n",
        "# Print the result\n",
        "print(str(np.round(port_variance, 4) * 100) + '%')"
      ],
      "outputs": [
        {
          "output_type": "stream",
          "name": "stdout",
          "text": [
            "1.5699999999999998%\n"
          ]
        }
      ],
      "execution_count": 22,
      "metadata": {
        "collapsed": false,
        "outputHidden": false,
        "inputHidden": false
      }
    },
    {
      "cell_type": "code",
      "source": [
        "# Calculate total return and annualized return from price data \n",
        "total_return = (returns['Portfolio'][-1] - returns['Portfolio'][0]) / returns['Portfolio'][0]\n",
        "\n",
        "# Annualize the total return over 5 year \n",
        "annualized_return = ((total_return + 1)**(1/5))-1"
      ],
      "outputs": [],
      "execution_count": 23,
      "metadata": {
        "collapsed": false,
        "outputHidden": false,
        "inputHidden": false
      }
    },
    {
      "cell_type": "code",
      "source": [
        "# Calculate annualized volatility from the standard deviation\n",
        "vol_port = returns['Portfolio'].std() * np.sqrt(250)"
      ],
      "outputs": [],
      "execution_count": 24,
      "metadata": {
        "collapsed": false,
        "outputHidden": false,
        "inputHidden": false
      }
    },
    {
      "cell_type": "code",
      "source": [
        "# Calculate the Sharpe ratio \n",
        "rf = 0.01\n",
        "sharpe_ratio = ((annualized_return - rf) / vol_port)\n",
        "print(sharpe_ratio)"
      ],
      "outputs": [
        {
          "output_type": "stream",
          "name": "stdout",
          "text": [
            "1.4906958426858135\n"
          ]
        }
      ],
      "execution_count": 25,
      "metadata": {
        "collapsed": false,
        "outputHidden": false,
        "inputHidden": false
      }
    },
    {
      "cell_type": "code",
      "source": [
        "# Create a downside return column with the negative returns only\n",
        "target = 0\n",
        "downside_returns = returns.loc[returns['Portfolio'] < target]\n",
        "\n",
        "# Calculate expected return and std dev of downside\n",
        "expected_return = returns['Portfolio'].mean()\n",
        "down_stdev = downside_returns.std()\n",
        "\n",
        "# Calculate the sortino ratio\n",
        "rf = 0.01\n",
        "sortino_ratio = (expected_return - rf)/down_stdev\n",
        "\n",
        "# Print the results\n",
        "print(\"Expected return: \", expected_return*100)\n",
        "print('-' * 50)\n",
        "print(\"Downside risk:\")\n",
        "print(down_stdev*100)\n",
        "print('-' * 50)\n",
        "print(\"Sortino ratio:\")\n",
        "print(sortino_ratio)"
      ],
      "outputs": [
        {
          "output_type": "stream",
          "name": "stdout",
          "text": [
            "Expected return:  0.032514438021171314\n",
            "--------------------------------------------------\n",
            "Downside risk:\n",
            "SPY          0.696336\n",
            "VGSLX        0.820082\n",
            "VSIAX        0.706179\n",
            "VTSAX        0.690994\n",
            "Portfolio    0.606737\n",
            "dtype: float64\n",
            "--------------------------------------------------\n",
            "Sortino ratio:\n",
            "SPY         -1.389394\n",
            "VGSLX       -1.179742\n",
            "VSIAX       -1.370028\n",
            "VTSAX       -1.400135\n",
            "Portfolio   -1.594573\n",
            "dtype: float64\n"
          ]
        }
      ],
      "execution_count": 26,
      "metadata": {
        "collapsed": false,
        "outputHidden": false,
        "inputHidden": false
      }
    },
    {
      "cell_type": "code",
      "source": [
        "# Calculate the max value \n",
        "roll_max = returns['Portfolio'].rolling(center=False,min_periods=1,window=252).max()\n",
        "\n",
        "# Calculate the daily draw-down relative to the max\n",
        "daily_draw_down = returns['Portfolio']/roll_max - 1.0\n",
        "\n",
        "# Calculate the minimum (negative) daily draw-down\n",
        "max_daily_draw_down = daily_draw_down.rolling(center=False,min_periods=1,window=252).min()\n",
        "\n",
        "# Plot the results\n",
        "plt.figure(figsize=(15,15))\n",
        "plt.plot(returns.index, daily_draw_down, label='Daily drawdown')\n",
        "plt.plot(returns.index, max_daily_draw_down, label='Maximum daily drawdown in time-window')\n",
        "plt.legend()\n",
        "plt.show()"
      ],
      "outputs": [
        {
          "output_type": "display_data",
          "data": {
            "image/png": "[encoded data removed]",
            "text/plain": [
              "<Figure size 1080x1080 with 1 Axes>"
            ]
          },
          "metadata": {}
        }
      ],
      "execution_count": 27,
      "metadata": {
        "collapsed": false,
        "outputHidden": false,
        "inputHidden": false
      }
    },
    {
      "cell_type": "code",
      "source": [
        "plt.figure(figsize=(7,7))\n",
        "corr = returns.corr()\n",
        "\n",
        "# plot the heatmap\n",
        "sns.heatmap(corr, \n",
        "        xticklabels=corr.columns,\n",
        "        yticklabels=corr.columns,\n",
        "            cmap=\"Blues\")"
      ],
      "outputs": [
        {
          "output_type": "execute_result",
          "execution_count": 28,
          "data": {
            "text/plain": [
              "<matplotlib.axes._subplots.AxesSubplot at 0x2448dd56550>"
            ]
          },
          "metadata": {}
        },
        {
          "output_type": "display_data",
          "data": {
            "image/png": "[encoded data removed]",
            "text/plain": [
              "<Figure size 504x504 with 2 Axes>"
            ]
          },
          "metadata": {}
        }
      ],
      "execution_count": 28,
      "metadata": {
        "collapsed": false,
        "outputHidden": false,
        "inputHidden": false
      }
    },
    {
      "cell_type": "code",
      "source": [
        "# Box plot\n",
        "returns.plot(kind='box')"
      ],
      "outputs": [
        {
          "output_type": "execute_result",
          "execution_count": 29,
          "data": {
            "text/plain": [
              "<matplotlib.axes._subplots.AxesSubplot at 0x2448de149b0>"
            ]
          },
          "metadata": {}
        },
        {
          "output_type": "display_data",
          "data": {
            "image/png": "[encoded data removed]",
            "text/plain": [
              "<Figure size 432x288 with 1 Axes>"
            ]
          },
          "metadata": {}
        }
      ],
      "execution_count": 29,
      "metadata": {
        "collapsed": false,
        "outputHidden": false,
        "inputHidden": false
      }
    },
    {
      "cell_type": "code",
      "source": [
        "rets = returns.dropna()\n",
        "\n",
        "colors=['red','green','blue','yellow','purple']\n",
        "plt.scatter(rets.mean(), rets.std(), c=colors,alpha = 0.5)\n",
        "\n",
        "plt.title('Stocks Risk & Returns')\n",
        "plt.xlabel('Expected returns')\n",
        "plt.ylabel('Risk')\n",
        "plt.grid(which='major')\n",
        "\n",
        "for label, x, y in zip(rets.columns, rets.mean(), rets.std()):\n",
        "    plt.annotate(\n",
        "        label, \n",
        "        xy = (x, y), xytext = (50, 50),\n",
        "        textcoords = 'offset points', ha = 'right', va = 'bottom',\n",
        "        arrowprops = dict(arrowstyle = '-', connectionstyle = 'arc3,rad=-0.3'))"
      ],
      "outputs": [
        {
          "output_type": "display_data",
          "data": {
            "image/png": "[encoded data removed]",
            "text/plain": [
              "<Figure size 432x288 with 1 Axes>"
            ]
          },
          "metadata": {}
        }
      ],
      "execution_count": 30,
      "metadata": {
        "collapsed": false,
        "outputHidden": false,
        "inputHidden": false
      }
    },
    {
      "cell_type": "code",
      "source": [
        "area = np.pi*10.0\n",
        "\n",
        "sns.set(style='darkgrid')\n",
        "plt.figure(figsize=(12,8))\n",
        "colors=['red','green','blue','yellow','purple']\n",
        "\n",
        "plt.scatter(rets.mean(), rets.std(), s=area, c=colors)\n",
        "plt.xlabel(\"Expected Return\", fontsize=15)\n",
        "plt.ylabel(\"Risk\", fontsize=15)\n",
        "plt.title(\"Return vs. Risk for Dave Ramsey Portfolio\", fontsize=20)\n",
        "\n",
        "for label, x, y in zip(rets.columns, rets.mean(), rets.std()):\n",
        "    plt.annotate(\n",
        "        label, \n",
        "        xy = (x, y), xytext = (50, 50),\n",
        "        textcoords = 'offset points', ha = 'right', va = 'bottom',\n",
        "        arrowprops = dict(arrowstyle = '->', connectionstyle = 'arc3,rad=0.2', color = 'black'))"
      ],
      "outputs": [
        {
          "output_type": "display_data",
          "data": {
            "image/png": "[encoded data removed]",
            "text/plain": [
              "<Figure size 864x576 with 1 Axes>"
            ]
          },
          "metadata": {}
        }
      ],
      "execution_count": 31,
      "metadata": {
        "collapsed": false,
        "outputHidden": false,
        "inputHidden": false
      }
    },
    {
      "cell_type": "code",
      "source": [
        "print(\"Stock returns: \")\n",
        "print(rets.mean())\n",
        "print('-' * 50)\n",
        "print(\"Stock risk:\")\n",
        "print(rets.std())"
      ],
      "outputs": [
        {
          "output_type": "stream",
          "name": "stdout",
          "text": [
            "Stock returns: \n",
            "SPY          0.000362\n",
            "VGSLX        0.000327\n",
            "VSIAX        0.000267\n",
            "VTSAX        0.000345\n",
            "Portfolio    0.000325\n",
            "dtype: float64\n",
            "--------------------------------------------------\n",
            "Stock risk:\n",
            "SPY          0.008306\n",
            "VGSLX        0.009270\n",
            "VSIAX        0.009084\n",
            "VTSAX        0.008408\n",
            "Portfolio    0.007916\n",
            "dtype: float64\n"
          ]
        }
      ],
      "execution_count": 32,
      "metadata": {
        "collapsed": false,
        "outputHidden": false,
        "inputHidden": false
      }
    },
    {
      "cell_type": "code",
      "source": [
        "table = pd.DataFrame()\n",
        "table['Returns'] = rets.mean()\n",
        "table['Risk'] = rets.std()\n",
        "table.sort_values(by='Returns')"
      ],
      "outputs": [
        {
          "output_type": "execute_result",
          "execution_count": 33,
          "data": {
            "text/plain": [
              "            Returns      Risk\n",
              "VSIAX      0.000267  0.009084\n",
              "Portfolio  0.000325  0.007916\n",
              "VGSLX      0.000327  0.009270\n",
              "VTSAX      0.000345  0.008408\n",
              "SPY        0.000362  0.008306"
            ],
            "text/html": [
              "<div>\n",
              "<style scoped>\n",
              "    .dataframe tbody tr th:only-of-type {\n",
              "        vertical-align: middle;\n",
              "    }\n",
              "\n",
              "    .dataframe tbody tr th {\n",
              "        vertical-align: top;\n",
              "    }\n",
              "\n",
              "    .dataframe thead th {\n",
              "        text-align: right;\n",
              "    }\n",
              "</style>\n",
              "<table border=\"1\" class=\"dataframe\">\n",
              "  <thead>\n",
              "    <tr style=\"text-align: right;\">\n",
              "      <th></th>\n",
              "      <th>Returns</th>\n",
              "      <th>Risk</th>\n",
              "    </tr>\n",
              "  </thead>\n",
              "  <tbody>\n",
              "    <tr>\n",
              "      <th>VSIAX</th>\n",
              "      <td>0.000267</td>\n",
              "      <td>0.009084</td>\n",
              "    </tr>\n",
              "    <tr>\n",
              "      <th>Portfolio</th>\n",
              "      <td>0.000325</td>\n",
              "      <td>0.007916</td>\n",
              "    </tr>\n",
              "    <tr>\n",
              "      <th>VGSLX</th>\n",
              "      <td>0.000327</td>\n",
              "      <td>0.009270</td>\n",
              "    </tr>\n",
              "    <tr>\n",
              "      <th>VTSAX</th>\n",
              "      <td>0.000345</td>\n",
              "      <td>0.008408</td>\n",
              "    </tr>\n",
              "    <tr>\n",
              "      <th>SPY</th>\n",
              "      <td>0.000362</td>\n",
              "      <td>0.008306</td>\n",
              "    </tr>\n",
              "  </tbody>\n",
              "</table>\n",
              "</div>"
            ]
          },
          "metadata": {}
        }
      ],
      "execution_count": 33,
      "metadata": {
        "collapsed": false,
        "outputHidden": false,
        "inputHidden": false
      }
    },
    {
      "cell_type": "code",
      "source": [
        "table.sort_values(by='Risk')"
      ],
      "outputs": [
        {
          "output_type": "execute_result",
          "execution_count": 34,
          "data": {
            "text/plain": [
              "            Returns      Risk\n",
              "Portfolio  0.000325  0.007916\n",
              "SPY        0.000362  0.008306\n",
              "VTSAX      0.000345  0.008408\n",
              "VSIAX      0.000267  0.009084\n",
              "VGSLX      0.000327  0.009270"
            ],
            "text/html": [
              "<div>\n",
              "<style scoped>\n",
              "    .dataframe tbody tr th:only-of-type {\n",
              "        vertical-align: middle;\n",
              "    }\n",
              "\n",
              "    .dataframe tbody tr th {\n",
              "        vertical-align: top;\n",
              "    }\n",
              "\n",
              "    .dataframe thead th {\n",
              "        text-align: right;\n",
              "    }\n",
              "</style>\n",
              "<table border=\"1\" class=\"dataframe\">\n",
              "  <thead>\n",
              "    <tr style=\"text-align: right;\">\n",
              "      <th></th>\n",
              "      <th>Returns</th>\n",
              "      <th>Risk</th>\n",
              "    </tr>\n",
              "  </thead>\n",
              "  <tbody>\n",
              "    <tr>\n",
              "      <th>Portfolio</th>\n",
              "      <td>0.000325</td>\n",
              "      <td>0.007916</td>\n",
              "    </tr>\n",
              "    <tr>\n",
              "      <th>SPY</th>\n",
              "      <td>0.000362</td>\n",
              "      <td>0.008306</td>\n",
              "    </tr>\n",
              "    <tr>\n",
              "      <th>VTSAX</th>\n",
              "      <td>0.000345</td>\n",
              "      <td>0.008408</td>\n",
              "    </tr>\n",
              "    <tr>\n",
              "      <th>VSIAX</th>\n",
              "      <td>0.000267</td>\n",
              "      <td>0.009084</td>\n",
              "    </tr>\n",
              "    <tr>\n",
              "      <th>VGSLX</th>\n",
              "      <td>0.000327</td>\n",
              "      <td>0.009270</td>\n",
              "    </tr>\n",
              "  </tbody>\n",
              "</table>\n",
              "</div>"
            ]
          },
          "metadata": {}
        }
      ],
      "execution_count": 34,
      "metadata": {
        "collapsed": false,
        "outputHidden": false,
        "inputHidden": false
      }
    },
    {
      "cell_type": "code",
      "source": [
        "rf = 0.01\n",
        "table['Sharpe_Ratio'] = (table['Returns'] - rf) / table['Risk']\n",
        "table"
      ],
      "outputs": [
        {
          "output_type": "execute_result",
          "execution_count": 35,
          "data": {
            "text/plain": [
              "            Returns      Risk  Sharpe_Ratio\n",
              "SPY        0.000362  0.008306     -1.160409\n",
              "VGSLX      0.000327  0.009270     -1.043439\n",
              "VSIAX      0.000267  0.009084     -1.071490\n",
              "VTSAX      0.000345  0.008408     -1.148292\n",
              "Portfolio  0.000325  0.007916     -1.222263"
            ],
            "text/html": [
              "<div>\n",
              "<style scoped>\n",
              "    .dataframe tbody tr th:only-of-type {\n",
              "        vertical-align: middle;\n",
              "    }\n",
              "\n",
              "    .dataframe tbody tr th {\n",
              "        vertical-align: top;\n",
              "    }\n",
              "\n",
              "    .dataframe thead th {\n",
              "        text-align: right;\n",
              "    }\n",
              "</style>\n",
              "<table border=\"1\" class=\"dataframe\">\n",
              "  <thead>\n",
              "    <tr style=\"text-align: right;\">\n",
              "      <th></th>\n",
              "      <th>Returns</th>\n",
              "      <th>Risk</th>\n",
              "      <th>Sharpe_Ratio</th>\n",
              "    </tr>\n",
              "  </thead>\n",
              "  <tbody>\n",
              "    <tr>\n",
              "      <th>SPY</th>\n",
              "      <td>0.000362</td>\n",
              "      <td>0.008306</td>\n",
              "      <td>-1.160409</td>\n",
              "    </tr>\n",
              "    <tr>\n",
              "      <th>VGSLX</th>\n",
              "      <td>0.000327</td>\n",
              "      <td>0.009270</td>\n",
              "      <td>-1.043439</td>\n",
              "    </tr>\n",
              "    <tr>\n",
              "      <th>VSIAX</th>\n",
              "      <td>0.000267</td>\n",
              "      <td>0.009084</td>\n",
              "      <td>-1.071490</td>\n",
              "    </tr>\n",
              "    <tr>\n",
              "      <th>VTSAX</th>\n",
              "      <td>0.000345</td>\n",
              "      <td>0.008408</td>\n",
              "      <td>-1.148292</td>\n",
              "    </tr>\n",
              "    <tr>\n",
              "      <th>Portfolio</th>\n",
              "      <td>0.000325</td>\n",
              "      <td>0.007916</td>\n",
              "      <td>-1.222263</td>\n",
              "    </tr>\n",
              "  </tbody>\n",
              "</table>\n",
              "</div>"
            ]
          },
          "metadata": {}
        }
      ],
      "execution_count": 35,
      "metadata": {
        "collapsed": false,
        "outputHidden": false,
        "inputHidden": false
      }
    },
    {
      "cell_type": "markdown",
      "source": [
        "Dave Ramsey Portfolio is the lowest risk with lowest returns. Compare other portfolio strategies, Dave Ramsey Portfolio is the safest strategies."
      ],
      "metadata": {}
    }
  ],
  "metadata": {
    "kernel_info": {
      "name": "python3"
    },
    "language_info": {
      "nbconvert_exporter": "python",
      "codemirror_mode": {
        "name": "ipython",
        "version": 3
      },
      "pygments_lexer": "ipython3",
      "file_extension": ".py",
      "name": "python",
      "version": "3.5.5",
      "mimetype": "text/x-python"
    },
    "kernelspec": {
      "name": "python3",
      "language": "python",
      "display_name": "Python 3"
    },
    "nteract": {
      "version": "0.15.0"
    }
  },
  "nbformat": 4,
  "nbformat_minor": 0
}