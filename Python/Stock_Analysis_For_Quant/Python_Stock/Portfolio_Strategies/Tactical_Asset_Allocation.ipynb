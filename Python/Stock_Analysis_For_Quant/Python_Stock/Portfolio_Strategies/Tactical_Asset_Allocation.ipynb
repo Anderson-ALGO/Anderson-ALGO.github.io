{
  "cells": [
    {
      "cell_type": "markdown",
      "source": [
        "# Tactical Asset Allocation"
      ],
      "metadata": {}
    },
    {
      "cell_type": "markdown",
      "source": [
        "https://www.investopedia.com/terms/t/tacticalassetallocation.asp"
      ],
      "metadata": {}
    },
    {
      "cell_type": "markdown",
      "source": [
        "### Tactical Asset Allocation (TAA) Basics \n",
        "Cash = 10%  \n",
        "Bonds = 35%  \n",
        "Stocks = 45%  \n",
        "Commodities = 10%  "
      ],
      "metadata": {}
    },
    {
      "cell_type": "markdown",
      "source": [
        "Cash = 5%  \n",
        "Bonds = 35%  \n",
        "Stocks = 45%  \n",
        "Commodities = 15%  "
      ],
      "metadata": {}
    },
    {
      "cell_type": "code",
      "source": [
        "import numpy as np\n",
        "import pandas as pd\n",
        "import matplotlib.pyplot as plt\n",
        "import seaborn as sns\n",
        "import math\n",
        "\n",
        "import warnings\n",
        "warnings.filterwarnings(\"ignore\")\n",
        "\n",
        "# yfinance is used to fetch data \n",
        "import yfinance as yf\n",
        "yf.pdr_override()"
      ],
      "outputs": [],
      "execution_count": 1,
      "metadata": {
        "collapsed": false,
        "outputHidden": false,
        "inputHidden": false,
        "execution": {
          "iopub.status.busy": "2020-06-26T00:41:37.936Z",
          "iopub.execute_input": "2020-06-26T00:41:37.945Z",
          "iopub.status.idle": "2020-06-26T00:41:38.873Z",
          "shell.execute_reply": "2020-06-26T00:41:39.104Z"
        }
      }
    },
    {
      "cell_type": "code",
      "source": [
        "Cash = 100000.00\n",
        "Cash_5 = Cash * 0.05"
      ],
      "outputs": [],
      "execution_count": 2,
      "metadata": {
        "collapsed": false,
        "outputHidden": false,
        "inputHidden": false,
        "execution": {
          "iopub.status.busy": "2020-06-26T00:41:38.897Z",
          "iopub.execute_input": "2020-06-26T00:41:38.909Z",
          "iopub.status.idle": "2020-06-26T00:41:38.928Z",
          "shell.execute_reply": "2020-06-26T00:41:39.111Z"
        }
      }
    },
    {
      "cell_type": "code",
      "source": [
        "print('How much cash left to invest?')\n",
        "cash_to_invest = Cash - Cash_5\n",
        "print(round(cash_to_invest, 2))"
      ],
      "outputs": [
        {
          "output_type": "stream",
          "name": "stdout",
          "text": [
            "How much cash left to invest?\n",
            "95000.0\n"
          ]
        }
      ],
      "execution_count": 3,
      "metadata": {
        "collapsed": false,
        "outputHidden": false,
        "inputHidden": false,
        "execution": {
          "iopub.status.busy": "2020-06-26T00:41:38.945Z",
          "iopub.execute_input": "2020-06-26T00:41:38.957Z",
          "iopub.status.idle": "2020-06-26T00:41:38.985Z",
          "shell.execute_reply": "2020-06-26T00:41:39.116Z"
        }
      }
    },
    {
      "cell_type": "code",
      "source": [
        "# input\n",
        "symbols = ['ZROZ','AAPL','SB']\n",
        "start = '2012-01-01'\n",
        "end = '2019-01-01'\n",
        "title = \"Tactical Asset Allocation\""
      ],
      "outputs": [],
      "execution_count": 4,
      "metadata": {
        "collapsed": false,
        "outputHidden": false,
        "inputHidden": false,
        "execution": {
          "iopub.status.busy": "2020-06-26T00:41:39.006Z",
          "iopub.execute_input": "2020-06-26T00:41:39.018Z",
          "iopub.status.idle": "2020-06-26T00:41:39.035Z",
          "shell.execute_reply": "2020-06-26T00:41:42.449Z"
        }
      }
    },
    {
      "cell_type": "code",
      "source": [
        "df = pd.DataFrame()\n",
        "for s in symbols:\n",
        "    df[s] = yf.download(s,start,end)['Adj Close']"
      ],
      "outputs": [
        {
          "output_type": "stream",
          "name": "stdout",
          "text": [
            "[*********************100%***********************]  1 of 1 completed\n",
            "[*********************100%***********************]  1 of 1 completed\n",
            "[*********************100%***********************]  1 of 1 completed\n"
          ]
        }
      ],
      "execution_count": 5,
      "metadata": {
        "collapsed": false,
        "outputHidden": false,
        "inputHidden": false,
        "execution": {
          "iopub.status.busy": "2020-06-26T00:41:39.056Z",
          "iopub.execute_input": "2020-06-26T00:41:39.068Z",
          "iopub.status.idle": "2020-06-26T00:41:40.746Z",
          "shell.execute_reply": "2020-06-26T00:41:42.456Z"
        }
      }
    },
    {
      "cell_type": "code",
      "source": [
        "from datetime import datetime\n",
        "from dateutil import relativedelta\n",
        "\n",
        "d1 = datetime.strptime(start, \"%Y-%m-%d\")\n",
        "d2 = datetime.strptime(end, \"%Y-%m-%d\")\n",
        "delta = relativedelta.relativedelta(d2,d1)\n",
        "print('How many years of investing?')\n",
        "print('%s years' % delta.years)"
      ],
      "outputs": [
        {
          "output_type": "stream",
          "name": "stdout",
          "text": [
            "How many years of investing?\n",
            "7 years\n"
          ]
        }
      ],
      "execution_count": 6,
      "metadata": {
        "collapsed": false,
        "outputHidden": false,
        "inputHidden": false,
        "execution": {
          "iopub.status.busy": "2020-06-26T00:41:40.762Z",
          "iopub.execute_input": "2020-06-26T00:41:40.778Z",
          "iopub.status.idle": "2020-06-26T00:41:40.801Z",
          "shell.execute_reply": "2020-06-26T00:41:42.462Z"
        }
      }
    },
    {
      "cell_type": "code",
      "source": [
        "df.head()"
      ],
      "outputs": [
        {
          "output_type": "execute_result",
          "execution_count": 7,
          "data": {
            "text/plain": [
              "                 ZROZ       AAPL        SB\n",
              "Date                                      \n",
              "2012-01-03  86.308502  50.857235  5.310326\n",
              "2012-01-04  85.031059  51.130558  5.412774\n",
              "2012-01-05  84.007576  51.698215  5.634750\n",
              "2012-01-06  85.086624  52.238651  5.566450\n",
              "2012-01-09  84.777161  52.155792  5.592062"
            ],
            "text/html": [
              "<div>\n",
              "<style scoped>\n",
              "    .dataframe tbody tr th:only-of-type {\n",
              "        vertical-align: middle;\n",
              "    }\n",
              "\n",
              "    .dataframe tbody tr th {\n",
              "        vertical-align: top;\n",
              "    }\n",
              "\n",
              "    .dataframe thead th {\n",
              "        text-align: right;\n",
              "    }\n",
              "</style>\n",
              "<table border=\"1\" class=\"dataframe\">\n",
              "  <thead>\n",
              "    <tr style=\"text-align: right;\">\n",
              "      <th></th>\n",
              "      <th>ZROZ</th>\n",
              "      <th>AAPL</th>\n",
              "      <th>SB</th>\n",
              "    </tr>\n",
              "    <tr>\n",
              "      <th>Date</th>\n",
              "      <th></th>\n",
              "      <th></th>\n",
              "      <th></th>\n",
              "    </tr>\n",
              "  </thead>\n",
              "  <tbody>\n",
              "    <tr>\n",
              "      <th>2012-01-03</th>\n",
              "      <td>86.308502</td>\n",
              "      <td>50.857235</td>\n",
              "      <td>5.310326</td>\n",
              "    </tr>\n",
              "    <tr>\n",
              "      <th>2012-01-04</th>\n",
              "      <td>85.031059</td>\n",
              "      <td>51.130558</td>\n",
              "      <td>5.412774</td>\n",
              "    </tr>\n",
              "    <tr>\n",
              "      <th>2012-01-05</th>\n",
              "      <td>84.007576</td>\n",
              "      <td>51.698215</td>\n",
              "      <td>5.634750</td>\n",
              "    </tr>\n",
              "    <tr>\n",
              "      <th>2012-01-06</th>\n",
              "      <td>85.086624</td>\n",
              "      <td>52.238651</td>\n",
              "      <td>5.566450</td>\n",
              "    </tr>\n",
              "    <tr>\n",
              "      <th>2012-01-09</th>\n",
              "      <td>84.777161</td>\n",
              "      <td>52.155792</td>\n",
              "      <td>5.592062</td>\n",
              "    </tr>\n",
              "  </tbody>\n",
              "</table>\n",
              "</div>"
            ]
          },
          "metadata": {}
        }
      ],
      "execution_count": 7,
      "metadata": {
        "collapsed": false,
        "outputHidden": false,
        "inputHidden": false,
        "execution": {
          "iopub.status.busy": "2020-06-26T00:41:40.819Z",
          "iopub.execute_input": "2020-06-26T00:41:40.831Z",
          "iopub.status.idle": "2020-06-26T00:41:40.854Z",
          "shell.execute_reply": "2020-06-26T00:41:42.468Z"
        }
      }
    },
    {
      "cell_type": "code",
      "source": [
        "df.tail()"
      ],
      "outputs": [
        {
          "output_type": "execute_result",
          "execution_count": 8,
          "data": {
            "text/plain": [
              "                  ZROZ        AAPL    SB\n",
              "Date                                    \n",
              "2018-12-24  110.195335  143.924454  1.72\n",
              "2018-12-26  108.613121  154.059814  1.79\n",
              "2018-12-27  108.159683  153.059998  1.78\n",
              "2018-12-28  108.685097  153.138428  1.74\n",
              "2018-12-31  109.453789  154.618546  1.78"
            ],
            "text/html": [
              "<div>\n",
              "<style scoped>\n",
              "    .dataframe tbody tr th:only-of-type {\n",
              "        vertical-align: middle;\n",
              "    }\n",
              "\n",
              "    .dataframe tbody tr th {\n",
              "        vertical-align: top;\n",
              "    }\n",
              "\n",
              "    .dataframe thead th {\n",
              "        text-align: right;\n",
              "    }\n",
              "</style>\n",
              "<table border=\"1\" class=\"dataframe\">\n",
              "  <thead>\n",
              "    <tr style=\"text-align: right;\">\n",
              "      <th></th>\n",
              "      <th>ZROZ</th>\n",
              "      <th>AAPL</th>\n",
              "      <th>SB</th>\n",
              "    </tr>\n",
              "    <tr>\n",
              "      <th>Date</th>\n",
              "      <th></th>\n",
              "      <th></th>\n",
              "      <th></th>\n",
              "    </tr>\n",
              "  </thead>\n",
              "  <tbody>\n",
              "    <tr>\n",
              "      <th>2018-12-24</th>\n",
              "      <td>110.195335</td>\n",
              "      <td>143.924454</td>\n",
              "      <td>1.72</td>\n",
              "    </tr>\n",
              "    <tr>\n",
              "      <th>2018-12-26</th>\n",
              "      <td>108.613121</td>\n",
              "      <td>154.059814</td>\n",
              "      <td>1.79</td>\n",
              "    </tr>\n",
              "    <tr>\n",
              "      <th>2018-12-27</th>\n",
              "      <td>108.159683</td>\n",
              "      <td>153.059998</td>\n",
              "      <td>1.78</td>\n",
              "    </tr>\n",
              "    <tr>\n",
              "      <th>2018-12-28</th>\n",
              "      <td>108.685097</td>\n",
              "      <td>153.138428</td>\n",
              "      <td>1.74</td>\n",
              "    </tr>\n",
              "    <tr>\n",
              "      <th>2018-12-31</th>\n",
              "      <td>109.453789</td>\n",
              "      <td>154.618546</td>\n",
              "      <td>1.78</td>\n",
              "    </tr>\n",
              "  </tbody>\n",
              "</table>\n",
              "</div>"
            ]
          },
          "metadata": {}
        }
      ],
      "execution_count": 8,
      "metadata": {
        "collapsed": false,
        "outputHidden": false,
        "inputHidden": false,
        "execution": {
          "iopub.status.busy": "2020-06-26T00:41:40.871Z",
          "iopub.execute_input": "2020-06-26T00:41:40.882Z",
          "iopub.status.idle": "2020-06-26T00:41:40.910Z",
          "shell.execute_reply": "2020-06-26T00:41:42.474Z"
        }
      }
    },
    {
      "cell_type": "code",
      "source": [
        "print('Percentage of invest:')\n",
        "percent_invest = [0.35, 0.45, 0.15]\n",
        "names = ['Bonds', 'Stocks', 'Commodities']\n",
        "for i, x in zip(names, percent_invest):\n",
        "    cost = x * cash_to_invest\n",
        "    print('{}: {}'.format(i, cost))"
      ],
      "outputs": [
        {
          "output_type": "stream",
          "name": "stdout",
          "text": [
            "Percentage of invest:\n",
            "Bonds: 33250.0\n",
            "Stocks: 42750.0\n",
            "Commodities: 14250.0\n"
          ]
        }
      ],
      "execution_count": 9,
      "metadata": {
        "collapsed": false,
        "outputHidden": false,
        "inputHidden": false,
        "execution": {
          "iopub.status.busy": "2020-06-26T00:41:40.927Z",
          "iopub.execute_input": "2020-06-26T00:41:40.938Z",
          "iopub.status.idle": "2020-06-26T00:41:40.960Z",
          "shell.execute_reply": "2020-06-26T00:41:42.480Z"
        }
      }
    },
    {
      "cell_type": "code",
      "source": [
        "df.iloc[0]"
      ],
      "outputs": [
        {
          "output_type": "execute_result",
          "execution_count": 10,
          "data": {
            "text/plain": [
              "ZROZ    86.308502\n",
              "AAPL    50.857235\n",
              "SB       5.310326\n",
              "Name: 2012-01-03 00:00:00, dtype: float64"
            ]
          },
          "metadata": {}
        }
      ],
      "execution_count": 10,
      "metadata": {
        "collapsed": false,
        "outputHidden": false,
        "inputHidden": false,
        "execution": {
          "iopub.status.busy": "2020-06-26T00:41:40.976Z",
          "iopub.execute_input": "2020-06-26T00:41:40.987Z",
          "iopub.status.idle": "2020-06-26T00:41:41.010Z",
          "shell.execute_reply": "2020-06-26T00:41:42.486Z"
        }
      }
    },
    {
      "cell_type": "code",
      "source": [
        "df.ix[-1]"
      ],
      "outputs": [
        {
          "output_type": "execute_result",
          "execution_count": 11,
          "data": {
            "text/plain": [
              "ZROZ    109.453789\n",
              "AAPL    154.618546\n",
              "SB        1.780000\n",
              "Name: 2018-12-31 00:00:00, dtype: float64"
            ]
          },
          "metadata": {}
        }
      ],
      "execution_count": 11,
      "metadata": {
        "collapsed": false,
        "outputHidden": false,
        "inputHidden": false,
        "execution": {
          "iopub.status.busy": "2020-06-26T00:41:41.024Z",
          "iopub.execute_input": "2020-06-26T00:41:41.034Z",
          "iopub.status.idle": "2020-06-26T00:41:41.053Z",
          "shell.execute_reply": "2020-06-26T00:41:42.493Z"
        }
      }
    },
    {
      "cell_type": "code",
      "source": [
        "print('Number of Shares:')\n",
        "percent_invest = [0.35, 0.45, 0.15]\n",
        "for i, x, y in zip(df.columns, percent_invest, df.iloc[0]):\n",
        "    cost = x * cash_to_invest\n",
        "    shares = int(cost/y)\n",
        "    print('{}: {}'.format(i, shares))"
      ],
      "outputs": [
        {
          "output_type": "stream",
          "name": "stdout",
          "text": [
            "Number of Shares:\n",
            "ZROZ: 385\n",
            "AAPL: 840\n",
            "SB: 2683\n"
          ]
        }
      ],
      "execution_count": 12,
      "metadata": {
        "collapsed": false,
        "outputHidden": false,
        "inputHidden": false,
        "execution": {
          "iopub.status.busy": "2020-06-26T00:41:41.066Z",
          "iopub.execute_input": "2020-06-26T00:41:41.076Z",
          "iopub.status.idle": "2020-06-26T00:41:41.099Z",
          "shell.execute_reply": "2020-06-26T00:41:42.498Z"
        }
      }
    },
    {
      "cell_type": "code",
      "source": [
        "print('Beginning Value:')\n",
        "percent_invest = [0.35, 0.45, 0.15]\n",
        "for i, x, y in zip(df.columns, percent_invest, df.iloc[0]):\n",
        "    cost = x * cash_to_invest\n",
        "    shares = int(cost/y)\n",
        "    Begin_Value = round(shares * y, 2)\n",
        "    print('{}: ${}'.format(i, Begin_Value))"
      ],
      "outputs": [
        {
          "output_type": "stream",
          "name": "stdout",
          "text": [
            "Beginning Value:\n",
            "ZROZ: $33228.77\n",
            "AAPL: $42720.08\n",
            "SB: $14247.6\n"
          ]
        }
      ],
      "execution_count": 13,
      "metadata": {
        "collapsed": false,
        "outputHidden": false,
        "inputHidden": false,
        "execution": {
          "iopub.status.busy": "2020-06-26T00:41:41.113Z",
          "iopub.execute_input": "2020-06-26T00:41:41.122Z",
          "iopub.status.idle": "2020-06-26T00:41:41.142Z",
          "shell.execute_reply": "2020-06-26T00:41:42.504Z"
        }
      }
    },
    {
      "cell_type": "code",
      "source": [
        "print('Current Value:')\n",
        "percent_invest = [0.35, 0.45, 0.15]\n",
        "for i, x, y, z in zip(df.columns, percent_invest, df.iloc[0], df.iloc[-1]):\n",
        "    shares = int(cost/x)\n",
        "    Begin_Value = round(shares * y, 2)\n",
        "    Current_Value = round(shares * z, 2)\n",
        "    print('{}: ${}'.format(i, Current_Value))"
      ],
      "outputs": [
        {
          "output_type": "stream",
          "name": "stdout",
          "text": [
            "Current Value:\n",
            "ZROZ: $4456301.56\n",
            "AAPL: $4896150.86\n",
            "SB: $169100.0\n"
          ]
        }
      ],
      "execution_count": 14,
      "metadata": {
        "collapsed": false,
        "outputHidden": false,
        "inputHidden": false,
        "execution": {
          "iopub.status.busy": "2020-06-26T00:41:41.158Z",
          "iopub.execute_input": "2020-06-26T00:41:41.169Z",
          "iopub.status.idle": "2020-06-26T00:41:41.194Z",
          "shell.execute_reply": "2020-06-26T00:41:42.511Z"
        }
      }
    },
    {
      "cell_type": "code",
      "source": [
        "result = []\n",
        "percent_invest = [0.35, 0.45, 0.15]\n",
        "for i, x, y, z in zip(df.columns, percent_invest, df.iloc[0], df.iloc[-1]):\n",
        "    shares = int(cost/x)\n",
        "    Begin_Value = round(shares * y, 2)\n",
        "    Current_Value = round(shares * z, 2)\n",
        "    result.append(Current_Value)\n",
        "print('Total Value: $%s' % round(sum(result),2))"
      ],
      "outputs": [
        {
          "output_type": "stream",
          "name": "stdout",
          "text": [
            "Total Value: $9521552.42\n"
          ]
        }
      ],
      "execution_count": 15,
      "metadata": {
        "collapsed": false,
        "outputHidden": false,
        "inputHidden": false,
        "execution": {
          "iopub.status.busy": "2020-06-26T00:41:41.210Z",
          "iopub.execute_input": "2020-06-26T00:41:41.220Z",
          "iopub.status.idle": "2020-06-26T00:41:41.240Z",
          "shell.execute_reply": "2020-06-26T00:41:42.517Z"
        }
      }
    },
    {
      "cell_type": "code",
      "source": [
        "# Calculate Daily Returns\n",
        "returns = df.pct_change()\n",
        "returns = returns.dropna()"
      ],
      "outputs": [],
      "execution_count": 16,
      "metadata": {
        "collapsed": false,
        "outputHidden": false,
        "inputHidden": false,
        "execution": {
          "iopub.status.busy": "2020-06-26T00:41:41.256Z",
          "iopub.execute_input": "2020-06-26T00:41:41.268Z",
          "iopub.status.idle": "2020-06-26T00:41:41.284Z",
          "shell.execute_reply": "2020-06-26T00:41:42.525Z"
        }
      }
    },
    {
      "cell_type": "code",
      "source": [
        "# Calculate mean returns\n",
        "meanDailyReturns = returns.mean()\n",
        "print(meanDailyReturns)"
      ],
      "outputs": [
        {
          "output_type": "stream",
          "name": "stdout",
          "text": [
            "ZROZ    0.000211\n",
            "AAPL    0.000761\n",
            "SB      0.000202\n",
            "dtype: float64\n"
          ]
        }
      ],
      "execution_count": 17,
      "metadata": {
        "collapsed": false,
        "outputHidden": false,
        "inputHidden": false,
        "execution": {
          "iopub.status.busy": "2020-06-26T00:41:41.302Z",
          "iopub.execute_input": "2020-06-26T00:41:41.312Z",
          "iopub.status.idle": "2020-06-26T00:41:41.333Z",
          "shell.execute_reply": "2020-06-26T00:41:42.533Z"
        }
      }
    },
    {
      "cell_type": "code",
      "source": [
        "# Calculate std returns\n",
        "stdDailyReturns = returns.std()\n",
        "print(stdDailyReturns)"
      ],
      "outputs": [
        {
          "output_type": "stream",
          "name": "stdout",
          "text": [
            "ZROZ    0.012353\n",
            "AAPL    0.016042\n",
            "SB      0.040456\n",
            "dtype: float64\n"
          ]
        }
      ],
      "execution_count": 18,
      "metadata": {
        "collapsed": false,
        "outputHidden": false,
        "inputHidden": false,
        "execution": {
          "iopub.status.busy": "2020-06-26T00:41:41.349Z",
          "iopub.execute_input": "2020-06-26T00:41:41.363Z",
          "iopub.status.idle": "2020-06-26T00:41:41.384Z",
          "shell.execute_reply": "2020-06-26T00:41:42.542Z"
        }
      }
    },
    {
      "cell_type": "code",
      "source": [
        "# Define weights for the portfolio\n",
        "weights = np.array([0.35, 0.45, 0.15])"
      ],
      "outputs": [],
      "execution_count": 19,
      "metadata": {
        "collapsed": false,
        "outputHidden": false,
        "inputHidden": false,
        "execution": {
          "iopub.status.busy": "2020-06-26T00:41:41.398Z",
          "iopub.execute_input": "2020-06-26T00:41:41.409Z",
          "iopub.status.idle": "2020-06-26T00:41:41.423Z",
          "shell.execute_reply": "2020-06-26T00:41:42.548Z"
        }
      }
    },
    {
      "cell_type": "code",
      "source": [
        "# Calculate the covariance matrix on daily returns\n",
        "cov_matrix = (returns.cov())*250\n",
        "print (cov_matrix)"
      ],
      "outputs": [
        {
          "output_type": "stream",
          "name": "stdout",
          "text": [
            "          ZROZ      AAPL        SB\n",
            "ZROZ  0.038151 -0.009752 -0.018241\n",
            "AAPL -0.009752  0.064337  0.033587\n",
            "SB   -0.018241  0.033587  0.409162\n"
          ]
        }
      ],
      "execution_count": 20,
      "metadata": {
        "collapsed": false,
        "outputHidden": false,
        "inputHidden": false,
        "execution": {
          "iopub.status.busy": "2020-06-26T00:41:41.438Z",
          "iopub.execute_input": "2020-06-26T00:41:41.447Z",
          "iopub.status.idle": "2020-06-26T00:41:41.467Z",
          "shell.execute_reply": "2020-06-26T00:41:42.555Z"
        }
      }
    },
    {
      "cell_type": "code",
      "source": [
        "# Calculate expected portfolio performance\n",
        "portReturn = np.sum(meanDailyReturns*weights)"
      ],
      "outputs": [],
      "execution_count": 21,
      "metadata": {
        "collapsed": false,
        "outputHidden": false,
        "inputHidden": false,
        "execution": {
          "iopub.status.busy": "2020-06-26T00:41:41.481Z",
          "iopub.execute_input": "2020-06-26T00:41:41.489Z",
          "iopub.status.idle": "2020-06-26T00:41:41.503Z",
          "shell.execute_reply": "2020-06-26T00:41:42.563Z"
        }
      }
    },
    {
      "cell_type": "code",
      "source": [
        "# Print the portfolio return\n",
        "print(portReturn)"
      ],
      "outputs": [
        {
          "output_type": "stream",
          "name": "stdout",
          "text": [
            "0.00044689842456079347\n"
          ]
        }
      ],
      "execution_count": 22,
      "metadata": {
        "collapsed": false,
        "outputHidden": false,
        "inputHidden": false,
        "execution": {
          "iopub.status.busy": "2020-06-26T00:41:41.517Z",
          "iopub.execute_input": "2020-06-26T00:41:41.525Z",
          "iopub.status.idle": "2020-06-26T00:41:41.543Z",
          "shell.execute_reply": "2020-06-26T00:41:42.572Z"
        }
      }
    },
    {
      "cell_type": "code",
      "source": [
        "# Create portfolio returns column\n",
        "returns['Portfolio'] = returns.dot(weights)"
      ],
      "outputs": [],
      "execution_count": 23,
      "metadata": {
        "collapsed": false,
        "outputHidden": false,
        "inputHidden": false,
        "execution": {
          "iopub.status.busy": "2020-06-26T00:41:41.556Z",
          "iopub.execute_input": "2020-06-26T00:41:41.564Z",
          "iopub.status.idle": "2020-06-26T00:41:41.584Z",
          "shell.execute_reply": "2020-06-26T00:41:42.578Z"
        }
      }
    },
    {
      "cell_type": "code",
      "source": [
        "returns.head()"
      ],
      "outputs": [
        {
          "output_type": "execute_result",
          "execution_count": 24,
          "data": {
            "text/plain": [
              "                ZROZ      AAPL        SB  Portfolio\n",
              "Date                                               \n",
              "2012-01-04 -0.014801  0.005374  0.019292   0.000132\n",
              "2012-01-05 -0.012037  0.011102  0.041010   0.006935\n",
              "2012-01-06  0.012845  0.010454 -0.012121   0.007382\n",
              "2012-01-09 -0.003637 -0.001586  0.004601  -0.001297\n",
              "2012-01-10 -0.002807  0.003581  0.010687   0.002232"
            ],
            "text/html": [
              "<div>\n",
              "<style scoped>\n",
              "    .dataframe tbody tr th:only-of-type {\n",
              "        vertical-align: middle;\n",
              "    }\n",
              "\n",
              "    .dataframe tbody tr th {\n",
              "        vertical-align: top;\n",
              "    }\n",
              "\n",
              "    .dataframe thead th {\n",
              "        text-align: right;\n",
              "    }\n",
              "</style>\n",
              "<table border=\"1\" class=\"dataframe\">\n",
              "  <thead>\n",
              "    <tr style=\"text-align: right;\">\n",
              "      <th></th>\n",
              "      <th>ZROZ</th>\n",
              "      <th>AAPL</th>\n",
              "      <th>SB</th>\n",
              "      <th>Portfolio</th>\n",
              "    </tr>\n",
              "    <tr>\n",
              "      <th>Date</th>\n",
              "      <th></th>\n",
              "      <th></th>\n",
              "      <th></th>\n",
              "      <th></th>\n",
              "    </tr>\n",
              "  </thead>\n",
              "  <tbody>\n",
              "    <tr>\n",
              "      <th>2012-01-04</th>\n",
              "      <td>-0.014801</td>\n",
              "      <td>0.005374</td>\n",
              "      <td>0.019292</td>\n",
              "      <td>0.000132</td>\n",
              "    </tr>\n",
              "    <tr>\n",
              "      <th>2012-01-05</th>\n",
              "      <td>-0.012037</td>\n",
              "      <td>0.011102</td>\n",
              "      <td>0.041010</td>\n",
              "      <td>0.006935</td>\n",
              "    </tr>\n",
              "    <tr>\n",
              "      <th>2012-01-06</th>\n",
              "      <td>0.012845</td>\n",
              "      <td>0.010454</td>\n",
              "      <td>-0.012121</td>\n",
              "      <td>0.007382</td>\n",
              "    </tr>\n",
              "    <tr>\n",
              "      <th>2012-01-09</th>\n",
              "      <td>-0.003637</td>\n",
              "      <td>-0.001586</td>\n",
              "      <td>0.004601</td>\n",
              "      <td>-0.001297</td>\n",
              "    </tr>\n",
              "    <tr>\n",
              "      <th>2012-01-10</th>\n",
              "      <td>-0.002807</td>\n",
              "      <td>0.003581</td>\n",
              "      <td>0.010687</td>\n",
              "      <td>0.002232</td>\n",
              "    </tr>\n",
              "  </tbody>\n",
              "</table>\n",
              "</div>"
            ]
          },
          "metadata": {}
        }
      ],
      "execution_count": 24,
      "metadata": {
        "collapsed": false,
        "outputHidden": false,
        "inputHidden": false,
        "execution": {
          "iopub.status.busy": "2020-06-26T00:41:41.600Z",
          "iopub.execute_input": "2020-06-26T00:41:41.611Z",
          "iopub.status.idle": "2020-06-26T00:41:41.633Z",
          "shell.execute_reply": "2020-06-26T00:41:42.585Z"
        }
      }
    },
    {
      "cell_type": "code",
      "source": [
        "returns.tail()"
      ],
      "outputs": [
        {
          "output_type": "execute_result",
          "execution_count": 25,
          "data": {
            "text/plain": [
              "                ZROZ      AAPL        SB  Portfolio\n",
              "Date                                               \n",
              "2018-12-24  0.006255 -0.025874 -0.011494  -0.011178\n",
              "2018-12-26 -0.014358  0.070421  0.040698   0.032769\n",
              "2018-12-27 -0.004175 -0.006490 -0.005587  -0.005220\n",
              "2018-12-28  0.004858  0.000512 -0.022472  -0.001440\n",
              "2018-12-31  0.007073  0.009665  0.022988   0.010273"
            ],
            "text/html": [
              "<div>\n",
              "<style scoped>\n",
              "    .dataframe tbody tr th:only-of-type {\n",
              "        vertical-align: middle;\n",
              "    }\n",
              "\n",
              "    .dataframe tbody tr th {\n",
              "        vertical-align: top;\n",
              "    }\n",
              "\n",
              "    .dataframe thead th {\n",
              "        text-align: right;\n",
              "    }\n",
              "</style>\n",
              "<table border=\"1\" class=\"dataframe\">\n",
              "  <thead>\n",
              "    <tr style=\"text-align: right;\">\n",
              "      <th></th>\n",
              "      <th>ZROZ</th>\n",
              "      <th>AAPL</th>\n",
              "      <th>SB</th>\n",
              "      <th>Portfolio</th>\n",
              "    </tr>\n",
              "    <tr>\n",
              "      <th>Date</th>\n",
              "      <th></th>\n",
              "      <th></th>\n",
              "      <th></th>\n",
              "      <th></th>\n",
              "    </tr>\n",
              "  </thead>\n",
              "  <tbody>\n",
              "    <tr>\n",
              "      <th>2018-12-24</th>\n",
              "      <td>0.006255</td>\n",
              "      <td>-0.025874</td>\n",
              "      <td>-0.011494</td>\n",
              "      <td>-0.011178</td>\n",
              "    </tr>\n",
              "    <tr>\n",
              "      <th>2018-12-26</th>\n",
              "      <td>-0.014358</td>\n",
              "      <td>0.070421</td>\n",
              "      <td>0.040698</td>\n",
              "      <td>0.032769</td>\n",
              "    </tr>\n",
              "    <tr>\n",
              "      <th>2018-12-27</th>\n",
              "      <td>-0.004175</td>\n",
              "      <td>-0.006490</td>\n",
              "      <td>-0.005587</td>\n",
              "      <td>-0.005220</td>\n",
              "    </tr>\n",
              "    <tr>\n",
              "      <th>2018-12-28</th>\n",
              "      <td>0.004858</td>\n",
              "      <td>0.000512</td>\n",
              "      <td>-0.022472</td>\n",
              "      <td>-0.001440</td>\n",
              "    </tr>\n",
              "    <tr>\n",
              "      <th>2018-12-31</th>\n",
              "      <td>0.007073</td>\n",
              "      <td>0.009665</td>\n",
              "      <td>0.022988</td>\n",
              "      <td>0.010273</td>\n",
              "    </tr>\n",
              "  </tbody>\n",
              "</table>\n",
              "</div>"
            ]
          },
          "metadata": {}
        }
      ],
      "execution_count": 25,
      "metadata": {
        "collapsed": false,
        "outputHidden": false,
        "inputHidden": false,
        "execution": {
          "iopub.status.busy": "2020-06-26T00:41:41.647Z",
          "iopub.execute_input": "2020-06-26T00:41:41.656Z",
          "iopub.status.idle": "2020-06-26T00:41:41.676Z",
          "shell.execute_reply": "2020-06-26T00:41:42.591Z"
        }
      }
    },
    {
      "cell_type": "code",
      "source": [
        "# Calculate cumulative returns\n",
        "daily_cum_ret=(1+returns).cumprod()\n",
        "print(daily_cum_ret.tail())"
      ],
      "outputs": [
        {
          "output_type": "stream",
          "name": "stdout",
          "text": [
            "                ZROZ      AAPL        SB  Portfolio\n",
            "Date                                               \n",
            "2018-12-24  1.276761  2.829970  0.323897   1.929088\n",
            "2018-12-26  1.258429  3.029261  0.337079   1.992302\n",
            "2018-12-27  1.253175  3.009601  0.335196   1.981903\n",
            "2018-12-28  1.259263  3.011143  0.327664   1.979049\n",
            "2018-12-31  1.268169  3.040247  0.335196   1.999380\n"
          ]
        }
      ],
      "execution_count": 26,
      "metadata": {
        "collapsed": false,
        "outputHidden": false,
        "inputHidden": false,
        "execution": {
          "iopub.status.busy": "2020-06-26T00:41:41.690Z",
          "iopub.execute_input": "2020-06-26T00:41:41.702Z",
          "iopub.status.idle": "2020-06-26T00:41:41.724Z",
          "shell.execute_reply": "2020-06-26T00:41:42.597Z"
        }
      }
    },
    {
      "cell_type": "code",
      "source": [
        "returns['Portfolio'].hist()\n",
        "plt.show()"
      ],
      "outputs": [
        {
          "output_type": "display_data",
          "data": {
            "text/plain": [
              "<Figure size 432x288 with 1 Axes>"
            ],
            "image/png": "[encoded data removed]"
          },
          "metadata": {
            "needs_background": "light"
          }
        }
      ],
      "execution_count": 27,
      "metadata": {
        "collapsed": false,
        "outputHidden": false,
        "inputHidden": false,
        "execution": {
          "iopub.status.busy": "2020-06-26T00:41:41.741Z",
          "iopub.execute_input": "2020-06-26T00:41:41.750Z",
          "iopub.status.idle": "2020-06-26T00:41:41.769Z",
          "shell.execute_reply": "2020-06-26T00:41:42.604Z"
        }
      }
    },
    {
      "cell_type": "code",
      "source": [
        "import matplotlib.dates\n",
        "\n",
        "# Plot the portfolio cumulative returns only\n",
        "fig, ax = plt.subplots()\n",
        "ax.plot(daily_cum_ret.index, daily_cum_ret.Portfolio, color='purple', label=\"portfolio\")\n",
        "ax.xaxis.set_major_locator(matplotlib.dates.YearLocator())\n",
        "plt.title(title)\n",
        "plt.legend()\n",
        "plt.show()"
      ],
      "outputs": [
        {
          "output_type": "display_data",
          "data": {
            "text/plain": [
              "<Figure size 432x288 with 1 Axes>"
            ],
            "image/png": "[encoded data removed]"
          },
          "metadata": {
            "needs_background": "light"
          }
        }
      ],
      "execution_count": 28,
      "metadata": {
        "collapsed": false,
        "outputHidden": false,
        "inputHidden": false,
        "execution": {
          "iopub.status.busy": "2020-06-26T00:41:41.784Z",
          "iopub.execute_input": "2020-06-26T00:41:41.794Z",
          "iopub.status.idle": "2020-06-26T00:41:41.812Z",
          "shell.execute_reply": "2020-06-26T00:41:42.610Z"
        }
      }
    },
    {
      "cell_type": "code",
      "source": [
        "# Print the mean\n",
        "print(\"mean : \", returns['Portfolio'].mean()*100)\n",
        "\n",
        "# Print the standard deviation\n",
        "print(\"Std. dev: \", returns['Portfolio'].std()*100)\n",
        "\n",
        "# Print the skewness\n",
        "print(\"skew: \", returns['Portfolio'].skew())\n",
        "\n",
        "# Print the kurtosis\n",
        "print(\"kurt: \", returns['Portfolio'].kurtosis())"
      ],
      "outputs": [
        {
          "output_type": "stream",
          "name": "stdout",
          "text": [
            "mean :  0.044689842456079355\n",
            "Std. dev:  1.0286902760363137\n",
            "skew:  -0.18568585625514625\n",
            "kurt:  3.1348800818141016\n"
          ]
        }
      ],
      "execution_count": 29,
      "metadata": {
        "collapsed": false,
        "outputHidden": false,
        "inputHidden": false,
        "execution": {
          "iopub.status.busy": "2020-06-26T00:41:41.828Z",
          "iopub.execute_input": "2020-06-26T00:41:41.838Z",
          "iopub.status.idle": "2020-06-26T00:41:41.858Z",
          "shell.execute_reply": "2020-06-26T00:41:42.615Z"
        }
      }
    },
    {
      "cell_type": "code",
      "source": [
        "# Calculate the standard deviation by taking the square root\n",
        "port_standard_dev = np.sqrt(np.dot(weights.T, np.dot(weights, cov_matrix)))\n",
        "\n",
        "# Print the results \n",
        "print(str(np.round(port_standard_dev, 4) * 100) + '%')"
      ],
      "outputs": [
        {
          "output_type": "stream",
          "name": "stdout",
          "text": [
            "16.27%\n"
          ]
        }
      ],
      "execution_count": 30,
      "metadata": {
        "collapsed": false,
        "outputHidden": false,
        "inputHidden": false,
        "execution": {
          "iopub.status.busy": "2020-06-26T00:41:41.872Z",
          "iopub.execute_input": "2020-06-26T00:41:41.883Z",
          "iopub.status.idle": "2020-06-26T00:41:41.906Z",
          "shell.execute_reply": "2020-06-26T00:41:42.625Z"
        }
      }
    },
    {
      "cell_type": "code",
      "source": [
        "# Calculate the portfolio variance\n",
        "port_variance = np.dot(weights.T, np.dot(cov_matrix, weights))\n",
        "\n",
        "# Print the result\n",
        "print(str(np.round(port_variance, 4) * 100) + '%')"
      ],
      "outputs": [
        {
          "output_type": "stream",
          "name": "stdout",
          "text": [
            "2.65%\n"
          ]
        }
      ],
      "execution_count": 31,
      "metadata": {
        "collapsed": false,
        "outputHidden": false,
        "inputHidden": false,
        "execution": {
          "iopub.status.busy": "2020-06-26T00:41:41.927Z",
          "iopub.execute_input": "2020-06-26T00:41:41.937Z",
          "iopub.status.idle": "2020-06-26T00:41:41.956Z",
          "shell.execute_reply": "2020-06-26T00:41:42.634Z"
        }
      }
    },
    {
      "cell_type": "code",
      "source": [
        "# Calculate total return and annualized return from price data \n",
        "total_return = (returns['Portfolio'][-1] - returns['Portfolio'][0]) / returns['Portfolio'][0]\n",
        "\n",
        "# Annualize the total return over 5 year \n",
        "annualized_return = ((total_return + 1)**(1/5))-1"
      ],
      "outputs": [],
      "execution_count": 32,
      "metadata": {
        "collapsed": false,
        "outputHidden": false,
        "inputHidden": false,
        "execution": {
          "iopub.status.busy": "2020-06-26T00:41:41.970Z",
          "iopub.execute_input": "2020-06-26T00:41:41.979Z",
          "iopub.status.idle": "2020-06-26T00:41:41.992Z",
          "shell.execute_reply": "2020-06-26T00:41:42.644Z"
        }
      }
    },
    {
      "cell_type": "code",
      "source": [
        "# Calculate annualized volatility from the standard deviation\n",
        "vol_port = returns['Portfolio'].std() * np.sqrt(250)"
      ],
      "outputs": [],
      "execution_count": 33,
      "metadata": {
        "collapsed": false,
        "outputHidden": false,
        "inputHidden": false,
        "execution": {
          "iopub.status.busy": "2020-06-26T00:41:42.006Z",
          "iopub.execute_input": "2020-06-26T00:41:42.015Z",
          "iopub.status.idle": "2020-06-26T00:41:42.032Z",
          "shell.execute_reply": "2020-06-26T00:41:42.653Z"
        }
      }
    },
    {
      "cell_type": "code",
      "source": [
        "# Calculate the Sharpe ratio \n",
        "rf = 0.01\n",
        "sharpe_ratio = ((annualized_return - rf) / vol_port)\n",
        "print(sharpe_ratio)"
      ],
      "outputs": [
        {
          "output_type": "stream",
          "name": "stdout",
          "text": [
            "8.479402639933092\n"
          ]
        }
      ],
      "execution_count": 34,
      "metadata": {
        "collapsed": false,
        "outputHidden": false,
        "inputHidden": false,
        "execution": {
          "iopub.status.busy": "2020-06-26T00:41:42.049Z",
          "iopub.execute_input": "2020-06-26T00:41:42.061Z",
          "iopub.status.idle": "2020-06-26T00:41:42.083Z",
          "shell.execute_reply": "2020-06-26T00:41:42.663Z"
        }
      }
    },
    {
      "cell_type": "code",
      "source": [
        "# Create a downside return column with the negative returns only\n",
        "target = 0\n",
        "downside_returns = returns.loc[returns['Portfolio'] < target]\n",
        "\n",
        "# Calculate expected return and std dev of downside\n",
        "expected_return = returns['Portfolio'].mean()\n",
        "down_stdev = downside_returns.std()\n",
        "\n",
        "# Calculate the sortino ratio\n",
        "rf = 0.01\n",
        "sortino_ratio = (expected_return - rf)/down_stdev\n",
        "\n",
        "# Print the results\n",
        "print(\"Expected return: \", expected_return*100)\n",
        "print('-' * 50)\n",
        "print(\"Downside risk:\")\n",
        "print(down_stdev*100)\n",
        "print('-' * 50)\n",
        "print(\"Sortino ratio:\")\n",
        "print(sortino_ratio)"
      ],
      "outputs": [
        {
          "output_type": "stream",
          "name": "stdout",
          "text": [
            "Expected return:  0.044689842456079355\n",
            "--------------------------------------------------\n",
            "Downside risk:\n",
            "ZROZ         1.330979\n",
            "AAPL         1.392202\n",
            "SB           3.547902\n",
            "Portfolio    0.711117\n",
            "dtype: float64\n",
            "--------------------------------------------------\n",
            "Sortino ratio:\n",
            "ZROZ        -0.717750\n",
            "AAPL        -0.686186\n",
            "SB          -0.269261\n",
            "Portfolio   -1.343393\n",
            "dtype: float64\n"
          ]
        }
      ],
      "execution_count": 35,
      "metadata": {
        "collapsed": false,
        "outputHidden": false,
        "inputHidden": false,
        "execution": {
          "iopub.status.busy": "2020-06-26T00:41:42.100Z",
          "iopub.execute_input": "2020-06-26T00:41:42.111Z",
          "iopub.status.idle": "2020-06-26T00:41:42.132Z",
          "shell.execute_reply": "2020-06-26T00:41:42.672Z"
        }
      }
    },
    {
      "cell_type": "code",
      "source": [
        "# Calculate the max value \n",
        "roll_max = returns['Portfolio'].rolling(center=False,min_periods=1,window=252).max()\n",
        "\n",
        "# Calculate the daily draw-down relative to the max\n",
        "daily_draw_down = returns['Portfolio']/roll_max - 1.0\n",
        "\n",
        "# Calculate the minimum (negative) daily draw-down\n",
        "max_daily_draw_down = daily_draw_down.rolling(center=False,min_periods=1,window=252).min()\n",
        "\n",
        "# Plot the results\n",
        "plt.figure(figsize=(15,15))\n",
        "plt.plot(returns.index, daily_draw_down, label='Daily drawdown')\n",
        "plt.plot(returns.index, max_daily_draw_down, label='Maximum daily drawdown in time-window')\n",
        "plt.legend()\n",
        "plt.show()"
      ],
      "outputs": [
        {
          "output_type": "display_data",
          "data": {
            "text/plain": [
              "<Figure size 1080x1080 with 1 Axes>"
            ],
            "image/png": "[encoded data removed]"
          },
          "metadata": {
            "needs_background": "light"
          }
        }
      ],
      "execution_count": 36,
      "metadata": {
        "collapsed": false,
        "outputHidden": false,
        "inputHidden": false,
        "execution": {
          "iopub.status.busy": "2020-06-26T00:41:42.148Z",
          "iopub.execute_input": "2020-06-26T00:41:42.157Z",
          "iopub.status.idle": "2020-06-26T00:41:42.183Z",
          "shell.execute_reply": "2020-06-26T00:41:42.679Z"
        }
      }
    },
    {
      "cell_type": "code",
      "source": [
        "plt.figure(figsize=(7,7))\n",
        "corr = returns.corr()\n",
        "\n",
        "# plot the heatmap\n",
        "sns.heatmap(corr, \n",
        "        xticklabels=corr.columns,\n",
        "        yticklabels=corr.columns,\n",
        "            cmap=\"Reds\")"
      ],
      "outputs": [
        {
          "output_type": "execute_result",
          "execution_count": 37,
          "data": {
            "text/plain": [
              "<matplotlib.axes._subplots.AxesSubplot at 0x18dce5999e8>"
            ]
          },
          "metadata": {}
        },
        {
          "output_type": "display_data",
          "data": {
            "text/plain": [
              "<Figure size 504x504 with 2 Axes>"
            ],
            "image/png": "[encoded data removed]"
          },
          "metadata": {
            "needs_background": "light"
          }
        }
      ],
      "execution_count": 37,
      "metadata": {
        "collapsed": false,
        "outputHidden": false,
        "inputHidden": false,
        "execution": {
          "iopub.status.busy": "2020-06-26T00:41:42.199Z",
          "iopub.execute_input": "2020-06-26T00:41:42.210Z",
          "iopub.status.idle": "2020-06-26T00:41:42.245Z",
          "shell.execute_reply": "2020-06-26T00:41:42.687Z"
        }
      }
    },
    {
      "cell_type": "code",
      "source": [
        "# Box plot\n",
        "returns.plot(kind='box')"
      ],
      "outputs": [
        {
          "output_type": "execute_result",
          "execution_count": 38,
          "data": {
            "text/plain": [
              "<matplotlib.axes._subplots.AxesSubplot at 0x18dce5a8cc0>"
            ]
          },
          "metadata": {}
        },
        {
          "output_type": "display_data",
          "data": {
            "text/plain": [
              "<Figure size 432x288 with 1 Axes>"
            ],
            "image/png": "[encoded data removed]"
          },
          "metadata": {
            "needs_background": "light"
          }
        }
      ],
      "execution_count": 38,
      "metadata": {
        "collapsed": false,
        "outputHidden": false,
        "inputHidden": false,
        "execution": {
          "iopub.status.busy": "2020-06-26T00:41:42.265Z",
          "iopub.execute_input": "2020-06-26T00:41:42.276Z",
          "iopub.status.idle": "2020-06-26T00:41:42.305Z",
          "shell.execute_reply": "2020-06-26T00:41:42.695Z"
        }
      }
    },
    {
      "cell_type": "code",
      "source": [
        "rets = returns.dropna()\n",
        "\n",
        "plt.scatter(rets.mean(), rets.std(),alpha = 0.5)\n",
        "\n",
        "plt.title('Stocks Risk & Returns')\n",
        "plt.xlabel('Expected returns')\n",
        "plt.ylabel('Risk')\n",
        "plt.grid(which='major')\n",
        "\n",
        "for label, x, y in zip(rets.columns, rets.mean(), rets.std()):\n",
        "    plt.annotate(\n",
        "        label, \n",
        "        xy = (x, y), xytext = (50, 50),\n",
        "        textcoords = 'offset points', ha = 'right', va = 'bottom',\n",
        "        arrowprops = dict(arrowstyle = '-', connectionstyle = 'arc3,rad=-0.3'))"
      ],
      "outputs": [
        {
          "output_type": "display_data",
          "data": {
            "text/plain": [
              "<Figure size 432x288 with 1 Axes>"
            ],
            "image/png": "[encoded data removed]"
          },
          "metadata": {
            "needs_background": "light"
          }
        }
      ],
      "execution_count": 39,
      "metadata": {
        "collapsed": false,
        "outputHidden": false,
        "inputHidden": false,
        "execution": {
          "iopub.status.busy": "2020-06-26T00:41:42.324Z",
          "iopub.execute_input": "2020-06-26T00:41:42.336Z",
          "iopub.status.idle": "2020-06-26T00:41:42.361Z",
          "shell.execute_reply": "2020-06-26T00:41:42.704Z"
        }
      }
    },
    {
      "cell_type": "code",
      "source": [
        "area = np.pi*20.0\n",
        "\n",
        "sns.set(style='darkgrid')\n",
        "plt.figure(figsize=(12,8))\n",
        "plt.scatter(rets.mean(), rets.std(), s=area)\n",
        "plt.xlabel(\"Expected Return\", fontsize=15)\n",
        "plt.ylabel(\"Risk\", fontsize=15)\n",
        "plt.title(\"Return vs. Risk for \" + title, fontsize=20)\n",
        "\n",
        "for label, x, y in zip(rets.columns, rets.mean(), rets.std()) : \n",
        "    plt.annotate(label, xy=(x,y), xytext=(50, 0), textcoords='offset points',\n",
        "                arrowprops=dict(arrowstyle='-', connectionstyle='bar,angle=180,fraction=-0.2'),\n",
        "                bbox=dict(boxstyle=\"round\", fc=\"w\"))"
      ],
      "outputs": [
        {
          "output_type": "display_data",
          "data": {
            "text/plain": [
              "<Figure size 864x576 with 1 Axes>"
            ],
            "image/png": "[encoded data removed]"
          },
          "metadata": {}
        }
      ],
      "execution_count": 40,
      "metadata": {
        "collapsed": false,
        "outputHidden": false,
        "inputHidden": false,
        "execution": {
          "iopub.status.busy": "2020-06-26T00:41:42.378Z",
          "iopub.execute_input": "2020-06-26T00:41:42.391Z",
          "iopub.status.idle": "2020-06-26T00:41:42.741Z",
          "shell.execute_reply": "2020-06-26T00:41:42.969Z"
        }
      }
    },
    {
      "cell_type": "code",
      "source": [
        "print(\"Stock returns: \")\n",
        "print(rets.mean())\n",
        "print('-' * 50)\n",
        "print(\"Stock risk:\")\n",
        "print(rets.std())"
      ],
      "outputs": [
        {
          "output_type": "stream",
          "name": "stdout",
          "text": [
            "Stock returns: \n",
            "ZROZ         0.000211\n",
            "AAPL         0.000761\n",
            "SB           0.000202\n",
            "Portfolio    0.000447\n",
            "dtype: float64\n",
            "--------------------------------------------------\n",
            "Stock risk:\n",
            "ZROZ         0.012353\n",
            "AAPL         0.016042\n",
            "SB           0.040456\n",
            "Portfolio    0.010287\n",
            "dtype: float64\n"
          ]
        }
      ],
      "execution_count": 41,
      "metadata": {
        "collapsed": false,
        "outputHidden": false,
        "inputHidden": false,
        "execution": {
          "iopub.status.busy": "2020-06-26T00:41:42.759Z",
          "iopub.execute_input": "2020-06-26T00:41:42.769Z",
          "iopub.status.idle": "2020-06-26T00:41:42.789Z",
          "shell.execute_reply": "2020-06-26T00:41:42.975Z"
        }
      }
    },
    {
      "cell_type": "code",
      "source": [
        "table = pd.DataFrame()\n",
        "table['Returns'] = rets.mean()\n",
        "table['Risk'] = rets.std()\n",
        "table.sort_values(by='Returns')"
      ],
      "outputs": [
        {
          "output_type": "execute_result",
          "execution_count": 42,
          "data": {
            "text/plain": [
              "            Returns      Risk\n",
              "SB         0.000202  0.040456\n",
              "ZROZ       0.000211  0.012353\n",
              "Portfolio  0.000447  0.010287\n",
              "AAPL       0.000761  0.016042"
            ],
            "text/html": [
              "<div>\n",
              "<style scoped>\n",
              "    .dataframe tbody tr th:only-of-type {\n",
              "        vertical-align: middle;\n",
              "    }\n",
              "\n",
              "    .dataframe tbody tr th {\n",
              "        vertical-align: top;\n",
              "    }\n",
              "\n",
              "    .dataframe thead th {\n",
              "        text-align: right;\n",
              "    }\n",
              "</style>\n",
              "<table border=\"1\" class=\"dataframe\">\n",
              "  <thead>\n",
              "    <tr style=\"text-align: right;\">\n",
              "      <th></th>\n",
              "      <th>Returns</th>\n",
              "      <th>Risk</th>\n",
              "    </tr>\n",
              "  </thead>\n",
              "  <tbody>\n",
              "    <tr>\n",
              "      <th>SB</th>\n",
              "      <td>0.000202</td>\n",
              "      <td>0.040456</td>\n",
              "    </tr>\n",
              "    <tr>\n",
              "      <th>ZROZ</th>\n",
              "      <td>0.000211</td>\n",
              "      <td>0.012353</td>\n",
              "    </tr>\n",
              "    <tr>\n",
              "      <th>Portfolio</th>\n",
              "      <td>0.000447</td>\n",
              "      <td>0.010287</td>\n",
              "    </tr>\n",
              "    <tr>\n",
              "      <th>AAPL</th>\n",
              "      <td>0.000761</td>\n",
              "      <td>0.016042</td>\n",
              "    </tr>\n",
              "  </tbody>\n",
              "</table>\n",
              "</div>"
            ]
          },
          "metadata": {}
        }
      ],
      "execution_count": 42,
      "metadata": {
        "collapsed": false,
        "outputHidden": false,
        "inputHidden": false,
        "execution": {
          "iopub.status.busy": "2020-06-26T00:41:42.806Z",
          "iopub.execute_input": "2020-06-26T00:41:42.817Z",
          "iopub.status.idle": "2020-06-26T00:41:42.841Z",
          "shell.execute_reply": "2020-06-26T00:41:42.980Z"
        }
      }
    },
    {
      "cell_type": "code",
      "source": [
        "table.sort_values(by='Risk')"
      ],
      "outputs": [
        {
          "output_type": "execute_result",
          "execution_count": 43,
          "data": {
            "text/plain": [
              "            Returns      Risk\n",
              "Portfolio  0.000447  0.010287\n",
              "ZROZ       0.000211  0.012353\n",
              "AAPL       0.000761  0.016042\n",
              "SB         0.000202  0.040456"
            ],
            "text/html": [
              "<div>\n",
              "<style scoped>\n",
              "    .dataframe tbody tr th:only-of-type {\n",
              "        vertical-align: middle;\n",
              "    }\n",
              "\n",
              "    .dataframe tbody tr th {\n",
              "        vertical-align: top;\n",
              "    }\n",
              "\n",
              "    .dataframe thead th {\n",
              "        text-align: right;\n",
              "    }\n",
              "</style>\n",
              "<table border=\"1\" class=\"dataframe\">\n",
              "  <thead>\n",
              "    <tr style=\"text-align: right;\">\n",
              "      <th></th>\n",
              "      <th>Returns</th>\n",
              "      <th>Risk</th>\n",
              "    </tr>\n",
              "  </thead>\n",
              "  <tbody>\n",
              "    <tr>\n",
              "      <th>Portfolio</th>\n",
              "      <td>0.000447</td>\n",
              "      <td>0.010287</td>\n",
              "    </tr>\n",
              "    <tr>\n",
              "      <th>ZROZ</th>\n",
              "      <td>0.000211</td>\n",
              "      <td>0.012353</td>\n",
              "    </tr>\n",
              "    <tr>\n",
              "      <th>AAPL</th>\n",
              "      <td>0.000761</td>\n",
              "      <td>0.016042</td>\n",
              "    </tr>\n",
              "    <tr>\n",
              "      <th>SB</th>\n",
              "      <td>0.000202</td>\n",
              "      <td>0.040456</td>\n",
              "    </tr>\n",
              "  </tbody>\n",
              "</table>\n",
              "</div>"
            ]
          },
          "metadata": {}
        }
      ],
      "execution_count": 43,
      "metadata": {
        "collapsed": false,
        "outputHidden": false,
        "inputHidden": false,
        "execution": {
          "iopub.status.busy": "2020-06-26T00:41:42.861Z",
          "iopub.execute_input": "2020-06-26T00:41:42.871Z",
          "iopub.status.idle": "2020-06-26T00:41:42.895Z",
          "shell.execute_reply": "2020-06-26T00:41:42.986Z"
        }
      }
    },
    {
      "cell_type": "code",
      "source": [
        "rf = 0.01\n",
        "table['Sharpe_Ratio'] = (table['Returns'] - rf) / table['Risk']\n",
        "table"
      ],
      "outputs": [
        {
          "output_type": "execute_result",
          "execution_count": 44,
          "data": {
            "text/plain": [
              "            Returns      Risk  Sharpe_Ratio\n",
              "ZROZ       0.000211  0.012353     -0.792385\n",
              "AAPL       0.000761  0.016042     -0.575910\n",
              "SB         0.000202  0.040456     -0.242185\n",
              "Portfolio  0.000447  0.010287     -0.928666"
            ],
            "text/html": [
              "<div>\n",
              "<style scoped>\n",
              "    .dataframe tbody tr th:only-of-type {\n",
              "        vertical-align: middle;\n",
              "    }\n",
              "\n",
              "    .dataframe tbody tr th {\n",
              "        vertical-align: top;\n",
              "    }\n",
              "\n",
              "    .dataframe thead th {\n",
              "        text-align: right;\n",
              "    }\n",
              "</style>\n",
              "<table border=\"1\" class=\"dataframe\">\n",
              "  <thead>\n",
              "    <tr style=\"text-align: right;\">\n",
              "      <th></th>\n",
              "      <th>Returns</th>\n",
              "      <th>Risk</th>\n",
              "      <th>Sharpe_Ratio</th>\n",
              "    </tr>\n",
              "  </thead>\n",
              "  <tbody>\n",
              "    <tr>\n",
              "      <th>ZROZ</th>\n",
              "      <td>0.000211</td>\n",
              "      <td>0.012353</td>\n",
              "      <td>-0.792385</td>\n",
              "    </tr>\n",
              "    <tr>\n",
              "      <th>AAPL</th>\n",
              "      <td>0.000761</td>\n",
              "      <td>0.016042</td>\n",
              "      <td>-0.575910</td>\n",
              "    </tr>\n",
              "    <tr>\n",
              "      <th>SB</th>\n",
              "      <td>0.000202</td>\n",
              "      <td>0.040456</td>\n",
              "      <td>-0.242185</td>\n",
              "    </tr>\n",
              "    <tr>\n",
              "      <th>Portfolio</th>\n",
              "      <td>0.000447</td>\n",
              "      <td>0.010287</td>\n",
              "      <td>-0.928666</td>\n",
              "    </tr>\n",
              "  </tbody>\n",
              "</table>\n",
              "</div>"
            ]
          },
          "metadata": {}
        }
      ],
      "execution_count": 44,
      "metadata": {
        "collapsed": false,
        "outputHidden": false,
        "inputHidden": false,
        "execution": {
          "iopub.status.busy": "2020-06-26T00:41:42.913Z",
          "iopub.execute_input": "2020-06-26T00:41:42.922Z",
          "iopub.status.idle": "2020-06-26T00:41:42.943Z",
          "shell.execute_reply": "2020-06-26T00:41:42.994Z"
        }
      }
    }
  ],
  "metadata": {
    "kernel_info": {
      "name": "python3"
    },
    "language_info": {
      "name": "python",
      "pygments_lexer": "ipython3",
      "version": "3.5.5",
      "file_extension": ".py",
      "mimetype": "text/x-python",
      "codemirror_mode": {
        "name": "ipython",
        "version": 3
      },
      "nbconvert_exporter": "python"
    },
    "kernelspec": {
      "name": "python3",
      "language": "python",
      "display_name": "Python 3"
    },
    "nteract": {
      "version": "0.23.3"
    }
  },
  "nbformat": 4,
  "nbformat_minor": 0
}