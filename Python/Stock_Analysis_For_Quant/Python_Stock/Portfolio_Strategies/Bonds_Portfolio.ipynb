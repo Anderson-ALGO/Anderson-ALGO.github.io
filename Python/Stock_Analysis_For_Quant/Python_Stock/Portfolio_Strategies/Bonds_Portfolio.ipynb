{
  "cells": [
    {
      "cell_type": "markdown",
      "source": [
        "# Bonds Portfolio"
      ],
      "metadata": {}
    },
    {
      "cell_type": "markdown",
      "source": [
        "http://www.buschinvestments.com/Types-of-Bonds.c71.htm"
      ],
      "metadata": {}
    },
    {
      "cell_type": "markdown",
      "source": [
        "Treasury Securities  \n",
        "Municipal Bonds  \n",
        "Corporate Bonds  \n",
        "Zero-Coupon Bonds  "
      ],
      "metadata": {}
    },
    {
      "cell_type": "code",
      "source": [
        "import numpy as np\n",
        "import pandas as pd\n",
        "import matplotlib.pyplot as plt\n",
        "import matplotlib.mlab as mlab\n",
        "import seaborn as sns\n",
        "from tabulate import tabulate\n",
        "from scipy.stats import norm\n",
        "import math \n",
        "\n",
        "import warnings\n",
        "warnings.filterwarnings(\"ignore\")\n",
        "\n",
        "# yfinance is used to fetch data \n",
        "import yfinance as yf\n",
        "yf.pdr_override()"
      ],
      "outputs": [],
      "execution_count": 1,
      "metadata": {
        "collapsed": false,
        "outputHidden": false,
        "inputHidden": false,
        "execution": {
          "iopub.status.busy": "2020-06-26T00:38:04.456Z",
          "iopub.execute_input": "2020-06-26T00:38:04.475Z",
          "iopub.status.idle": "2020-06-26T00:38:05.132Z",
          "shell.execute_reply": "2020-06-26T00:38:05.193Z"
        }
      }
    },
    {
      "cell_type": "code",
      "source": [
        "# input\n",
        "symbols = ['SPY','FIHBX','FBTAX','DBC']\n",
        "start = '2014-01-01'\n",
        "end = '2019-01-01'\n",
        "title = \"Bonds Portfolio\"\n",
        "\n",
        "# Read data \n",
        "dataset = yf.download(symbols,start,end)['Adj Close']\n",
        "\n",
        "# View Columns\n",
        "dataset.head()"
      ],
      "outputs": [
        {
          "output_type": "stream",
          "name": "stdout",
          "text": [
            "[*********************100%***********************]  4 of 4 completed\n"
          ]
        },
        {
          "output_type": "execute_result",
          "execution_count": 2,
          "data": {
            "text/html": [
              "<div>\n",
              "<style scoped>\n",
              "    .dataframe tbody tr th:only-of-type {\n",
              "        vertical-align: middle;\n",
              "    }\n",
              "\n",
              "    .dataframe tbody tr th {\n",
              "        vertical-align: top;\n",
              "    }\n",
              "\n",
              "    .dataframe thead th {\n",
              "        text-align: right;\n",
              "    }\n",
              "</style>\n",
              "<table border=\"1\" class=\"dataframe\">\n",
              "  <thead>\n",
              "    <tr style=\"text-align: right;\">\n",
              "      <th></th>\n",
              "      <th>DBC</th>\n",
              "      <th>FBTAX</th>\n",
              "      <th>FIHBX</th>\n",
              "      <th>SPY</th>\n",
              "    </tr>\n",
              "    <tr>\n",
              "      <th>Date</th>\n",
              "      <th></th>\n",
              "      <th></th>\n",
              "      <th></th>\n",
              "      <th></th>\n",
              "    </tr>\n",
              "  </thead>\n",
              "  <tbody>\n",
              "    <tr>\n",
              "      <th>2014-01-02</th>\n",
              "      <td>24.572100</td>\n",
              "      <td>16.094238</td>\n",
              "      <td>6.968676</td>\n",
              "      <td>160.925400</td>\n",
              "    </tr>\n",
              "    <tr>\n",
              "      <th>2014-01-03</th>\n",
              "      <td>24.416641</td>\n",
              "      <td>16.017763</td>\n",
              "      <td>6.975503</td>\n",
              "      <td>160.898972</td>\n",
              "    </tr>\n",
              "    <tr>\n",
              "      <th>2014-01-06</th>\n",
              "      <td>24.445789</td>\n",
              "      <td>15.813823</td>\n",
              "      <td>6.975503</td>\n",
              "      <td>160.432693</td>\n",
              "    </tr>\n",
              "    <tr>\n",
              "      <th>2014-01-07</th>\n",
              "      <td>24.426357</td>\n",
              "      <td>16.068747</td>\n",
              "      <td>6.989153</td>\n",
              "      <td>161.418060</td>\n",
              "    </tr>\n",
              "    <tr>\n",
              "      <th>2014-01-08</th>\n",
              "      <td>24.193171</td>\n",
              "      <td>16.374655</td>\n",
              "      <td>6.989153</td>\n",
              "      <td>161.453278</td>\n",
              "    </tr>\n",
              "  </tbody>\n",
              "</table>\n",
              "</div>"
            ],
            "text/plain": [
              "                  DBC      FBTAX     FIHBX         SPY\n",
              "Date                                                  \n",
              "2014-01-02  24.572100  16.094238  6.968676  160.925400\n",
              "2014-01-03  24.416641  16.017763  6.975503  160.898972\n",
              "2014-01-06  24.445789  15.813823  6.975503  160.432693\n",
              "2014-01-07  24.426357  16.068747  6.989153  161.418060\n",
              "2014-01-08  24.193171  16.374655  6.989153  161.453278"
            ]
          },
          "metadata": {}
        }
      ],
      "execution_count": 2,
      "metadata": {
        "collapsed": false,
        "outputHidden": false,
        "inputHidden": false,
        "execution": {
          "iopub.status.busy": "2020-06-26T00:38:05.156Z",
          "iopub.execute_input": "2020-06-26T00:38:05.173Z",
          "iopub.status.idle": "2020-06-26T00:38:06.620Z",
          "shell.execute_reply": "2020-06-26T00:38:09.468Z"
        }
      }
    },
    {
      "cell_type": "code",
      "source": [
        "dataset.tail()"
      ],
      "outputs": [
        {
          "output_type": "execute_result",
          "execution_count": 3,
          "data": {
            "text/html": [
              "<div>\n",
              "<style scoped>\n",
              "    .dataframe tbody tr th:only-of-type {\n",
              "        vertical-align: middle;\n",
              "    }\n",
              "\n",
              "    .dataframe tbody tr th {\n",
              "        vertical-align: top;\n",
              "    }\n",
              "\n",
              "    .dataframe thead th {\n",
              "        text-align: right;\n",
              "    }\n",
              "</style>\n",
              "<table border=\"1\" class=\"dataframe\">\n",
              "  <thead>\n",
              "    <tr style=\"text-align: right;\">\n",
              "      <th></th>\n",
              "      <th>DBC</th>\n",
              "      <th>FBTAX</th>\n",
              "      <th>FIHBX</th>\n",
              "      <th>SPY</th>\n",
              "    </tr>\n",
              "    <tr>\n",
              "      <th>Date</th>\n",
              "      <th></th>\n",
              "      <th></th>\n",
              "      <th></th>\n",
              "      <th></th>\n",
              "    </tr>\n",
              "  </thead>\n",
              "  <tbody>\n",
              "    <tr>\n",
              "      <th>2018-12-24</th>\n",
              "      <td>14.163118</td>\n",
              "      <td>20.312393</td>\n",
              "      <td>8.344463</td>\n",
              "      <td>227.638824</td>\n",
              "    </tr>\n",
              "    <tr>\n",
              "      <th>2018-12-26</th>\n",
              "      <td>14.478073</td>\n",
              "      <td>21.567284</td>\n",
              "      <td>8.326165</td>\n",
              "      <td>239.140244</td>\n",
              "    </tr>\n",
              "    <tr>\n",
              "      <th>2018-12-27</th>\n",
              "      <td>14.340280</td>\n",
              "      <td>21.632837</td>\n",
              "      <td>8.335313</td>\n",
              "      <td>240.976212</td>\n",
              "    </tr>\n",
              "    <tr>\n",
              "      <th>2018-12-28</th>\n",
              "      <td>14.222172</td>\n",
              "      <td>21.632837</td>\n",
              "      <td>8.371911</td>\n",
              "      <td>240.665375</td>\n",
              "    </tr>\n",
              "    <tr>\n",
              "      <th>2018-12-31</th>\n",
              "      <td>14.261541</td>\n",
              "      <td>22.101082</td>\n",
              "      <td>8.426186</td>\n",
              "      <td>242.773315</td>\n",
              "    </tr>\n",
              "  </tbody>\n",
              "</table>\n",
              "</div>"
            ],
            "text/plain": [
              "                  DBC      FBTAX     FIHBX         SPY\n",
              "Date                                                  \n",
              "2018-12-24  14.163118  20.312393  8.344463  227.638824\n",
              "2018-12-26  14.478073  21.567284  8.326165  239.140244\n",
              "2018-12-27  14.340280  21.632837  8.335313  240.976212\n",
              "2018-12-28  14.222172  21.632837  8.371911  240.665375\n",
              "2018-12-31  14.261541  22.101082  8.426186  242.773315"
            ]
          },
          "metadata": {}
        }
      ],
      "execution_count": 3,
      "metadata": {
        "collapsed": false,
        "outputHidden": false,
        "inputHidden": false,
        "execution": {
          "iopub.status.busy": "2020-06-26T00:38:06.639Z",
          "iopub.execute_input": "2020-06-26T00:38:06.650Z",
          "iopub.status.idle": "2020-06-26T00:38:06.677Z",
          "shell.execute_reply": "2020-06-26T00:38:09.476Z"
        }
      }
    },
    {
      "cell_type": "markdown",
      "source": [
        "### Starting Cash with 100k to invest in Bonds"
      ],
      "metadata": {}
    },
    {
      "cell_type": "code",
      "source": [
        "Cash = 100000\n",
        "print('Percentage of invest:')\n",
        "percent_invest = [0.25, 0.25, 0.25, 0.25]\n",
        "for i, x in zip(dataset.columns, percent_invest):\n",
        "    cost = x * Cash\n",
        "    print('{}: {}'.format(i, cost))"
      ],
      "outputs": [
        {
          "output_type": "stream",
          "name": "stdout",
          "text": [
            "Percentage of invest:\n",
            "DBC: 25000.0\n",
            "FBTAX: 25000.0\n",
            "FIHBX: 25000.0\n",
            "SPY: 25000.0\n"
          ]
        }
      ],
      "execution_count": 4,
      "metadata": {
        "collapsed": false,
        "outputHidden": false,
        "inputHidden": false,
        "execution": {
          "iopub.status.busy": "2020-06-26T00:38:06.696Z",
          "iopub.execute_input": "2020-06-26T00:38:06.708Z",
          "iopub.status.idle": "2020-06-26T00:38:06.732Z",
          "shell.execute_reply": "2020-06-26T00:38:09.483Z"
        }
      }
    },
    {
      "cell_type": "code",
      "source": [
        "print('Number of Shares:')\n",
        "percent_invest = [0.25, 0.25, 0.25, 0.25]\n",
        "for i, x, y in zip(dataset.columns, percent_invest, dataset.iloc[0]):\n",
        "    cost = x * Cash\n",
        "    shares = int(cost/y)\n",
        "    print('{}: {}'.format(i, shares))"
      ],
      "outputs": [
        {
          "output_type": "stream",
          "name": "stdout",
          "text": [
            "Number of Shares:\n",
            "DBC: 1017\n",
            "FBTAX: 1553\n",
            "FIHBX: 3587\n",
            "SPY: 155\n"
          ]
        }
      ],
      "execution_count": 5,
      "metadata": {
        "collapsed": false,
        "outputHidden": false,
        "inputHidden": false,
        "execution": {
          "iopub.status.busy": "2020-06-26T00:38:06.749Z",
          "iopub.execute_input": "2020-06-26T00:38:06.761Z",
          "iopub.status.idle": "2020-06-26T00:38:06.795Z",
          "shell.execute_reply": "2020-06-26T00:38:09.489Z"
        }
      }
    },
    {
      "cell_type": "code",
      "source": [
        "print('Beginning Value:')\n",
        "percent_invest = [0.25, 0.25, 0.25, 0.25]\n",
        "for i, x, y in zip(dataset.columns, percent_invest, dataset.iloc[0]):\n",
        "    cost = x * Cash\n",
        "    shares = int(cost/y)\n",
        "    Begin_Value = round(shares * y, 2)\n",
        "    print('{}: ${}'.format(i, Begin_Value))"
      ],
      "outputs": [
        {
          "output_type": "stream",
          "name": "stdout",
          "text": [
            "Beginning Value:\n",
            "DBC: $24989.83\n",
            "FBTAX: $24994.35\n",
            "FIHBX: $24996.64\n",
            "SPY: $24943.44\n"
          ]
        }
      ],
      "execution_count": 6,
      "metadata": {
        "collapsed": false,
        "outputHidden": false,
        "inputHidden": false,
        "execution": {
          "iopub.status.busy": "2020-06-26T00:38:06.821Z",
          "iopub.execute_input": "2020-06-26T00:38:06.838Z",
          "iopub.status.idle": "2020-06-26T00:38:06.875Z",
          "shell.execute_reply": "2020-06-26T00:38:09.496Z"
        }
      }
    },
    {
      "cell_type": "code",
      "source": [
        "print('Current Value:')\n",
        "percent_invest = [0.25, 0.25, 0.25, 0.25]\n",
        "for i, x, y, z in zip(dataset.columns, percent_invest, dataset.iloc[0], dataset.iloc[-1]):\n",
        "    cost = x * Cash\n",
        "    shares = int(cost/y)\n",
        "    Current_Value = round(shares * z, 2)\n",
        "    print('{}: ${}'.format(i, Current_Value))"
      ],
      "outputs": [
        {
          "output_type": "stream",
          "name": "stdout",
          "text": [
            "Current Value:\n",
            "DBC: $14503.99\n",
            "FBTAX: $34322.98\n",
            "FIHBX: $30224.73\n",
            "SPY: $37629.86\n"
          ]
        }
      ],
      "execution_count": 7,
      "metadata": {
        "collapsed": false,
        "outputHidden": false,
        "inputHidden": false,
        "execution": {
          "iopub.status.busy": "2020-06-26T00:38:06.899Z",
          "iopub.execute_input": "2020-06-26T00:38:06.915Z",
          "iopub.status.idle": "2020-06-26T00:38:06.948Z",
          "shell.execute_reply": "2020-06-26T00:38:09.503Z"
        }
      }
    },
    {
      "cell_type": "code",
      "source": [
        "result = []\n",
        "for i, x, y, z in zip(dataset.columns, percent_invest, dataset.iloc[0], dataset.iloc[-1]):\n",
        "    cost = x * Cash\n",
        "    shares = int(cost/y)\n",
        "    Current_Value = round(shares * z, 2)\n",
        "    result.append(Current_Value)\n",
        "print('Total Value: $%s' % round(sum(result),2))"
      ],
      "outputs": [
        {
          "output_type": "stream",
          "name": "stdout",
          "text": [
            "Total Value: $116681.56\n"
          ]
        }
      ],
      "execution_count": 8,
      "metadata": {
        "collapsed": false,
        "outputHidden": false,
        "inputHidden": false,
        "execution": {
          "iopub.status.busy": "2020-06-26T00:38:06.963Z",
          "iopub.execute_input": "2020-06-26T00:38:06.973Z",
          "iopub.status.idle": "2020-06-26T00:38:06.994Z",
          "shell.execute_reply": "2020-06-26T00:38:09.509Z"
        }
      }
    },
    {
      "cell_type": "code",
      "source": [
        "# Calculate Daily Returns\n",
        "returns = dataset.pct_change()\n",
        "returns = returns.dropna()"
      ],
      "outputs": [],
      "execution_count": 9,
      "metadata": {
        "collapsed": false,
        "outputHidden": false,
        "inputHidden": false,
        "execution": {
          "iopub.status.busy": "2020-06-26T00:38:07.010Z",
          "iopub.execute_input": "2020-06-26T00:38:07.020Z",
          "iopub.status.idle": "2020-06-26T00:38:07.036Z",
          "shell.execute_reply": "2020-06-26T00:38:09.516Z"
        }
      }
    },
    {
      "cell_type": "code",
      "source": [
        "# Calculate mean returns\n",
        "meanDailyReturns = returns.mean()\n",
        "print(meanDailyReturns)"
      ],
      "outputs": [
        {
          "output_type": "stream",
          "name": "stdout",
          "text": [
            "DBC     -0.000388\n",
            "FBTAX    0.000403\n",
            "FIHBX    0.000155\n",
            "SPY      0.000362\n",
            "dtype: float64\n"
          ]
        }
      ],
      "execution_count": 10,
      "metadata": {
        "collapsed": false,
        "outputHidden": false,
        "inputHidden": false,
        "execution": {
          "iopub.status.busy": "2020-06-26T00:38:07.053Z",
          "iopub.execute_input": "2020-06-26T00:38:07.065Z",
          "iopub.status.idle": "2020-06-26T00:38:07.088Z",
          "shell.execute_reply": "2020-06-26T00:38:09.522Z"
        }
      }
    },
    {
      "cell_type": "code",
      "source": [
        "# Calculate std returns\n",
        "stdDailyReturns = returns.std()\n",
        "print(stdDailyReturns)"
      ],
      "outputs": [
        {
          "output_type": "stream",
          "name": "stdout",
          "text": [
            "DBC      0.009496\n",
            "FBTAX    0.017337\n",
            "FIHBX    0.002734\n",
            "SPY      0.008306\n",
            "dtype: float64\n"
          ]
        }
      ],
      "execution_count": 11,
      "metadata": {
        "collapsed": false,
        "outputHidden": false,
        "inputHidden": false,
        "execution": {
          "iopub.status.busy": "2020-06-26T00:38:07.106Z",
          "iopub.execute_input": "2020-06-26T00:38:07.116Z",
          "iopub.status.idle": "2020-06-26T00:38:07.141Z",
          "shell.execute_reply": "2020-06-26T00:38:09.528Z"
        }
      }
    },
    {
      "cell_type": "code",
      "source": [
        "# Define weights for the portfolio\n",
        "weights = np.array([0.50, 0.10, 0.20, 0.20])"
      ],
      "outputs": [],
      "execution_count": 12,
      "metadata": {
        "collapsed": false,
        "outputHidden": false,
        "inputHidden": false,
        "execution": {
          "iopub.status.busy": "2020-06-26T00:38:07.158Z",
          "iopub.execute_input": "2020-06-26T00:38:07.173Z",
          "iopub.status.idle": "2020-06-26T00:38:07.191Z",
          "shell.execute_reply": "2020-06-26T00:38:09.534Z"
        }
      }
    },
    {
      "cell_type": "code",
      "source": [
        "# Calculate the covariance matrix on daily returns\n",
        "cov_matrix = (returns.cov())*250\n",
        "print (cov_matrix)"
      ],
      "outputs": [
        {
          "output_type": "stream",
          "name": "stdout",
          "text": [
            "            DBC     FBTAX     FIHBX       SPY\n",
            "DBC    0.022544  0.005441  0.001920  0.006348\n",
            "FBTAX  0.005441  0.075140  0.003101  0.023501\n",
            "FIHBX  0.001920  0.003101  0.001869  0.002384\n",
            "SPY    0.006348  0.023501  0.002384  0.017247\n"
          ]
        }
      ],
      "execution_count": 13,
      "metadata": {
        "collapsed": false,
        "outputHidden": false,
        "inputHidden": false,
        "execution": {
          "iopub.status.busy": "2020-06-26T00:38:07.209Z",
          "iopub.execute_input": "2020-06-26T00:38:07.226Z",
          "iopub.status.idle": "2020-06-26T00:38:07.259Z",
          "shell.execute_reply": "2020-06-26T00:38:09.540Z"
        }
      }
    },
    {
      "cell_type": "code",
      "source": [
        "# Calculate expected portfolio performance\n",
        "portReturn = np.sum(meanDailyReturns*weights)"
      ],
      "outputs": [],
      "execution_count": 14,
      "metadata": {
        "collapsed": false,
        "outputHidden": false,
        "inputHidden": false,
        "execution": {
          "iopub.status.busy": "2020-06-26T00:38:07.280Z",
          "iopub.execute_input": "2020-06-26T00:38:07.292Z",
          "iopub.status.idle": "2020-06-26T00:38:07.309Z",
          "shell.execute_reply": "2020-06-26T00:38:09.546Z"
        }
      }
    },
    {
      "cell_type": "code",
      "source": [
        "# Print the portfolio return\n",
        "print(portReturn)"
      ],
      "outputs": [
        {
          "output_type": "stream",
          "name": "stdout",
          "text": [
            "-5.022475164538252e-05\n"
          ]
        }
      ],
      "execution_count": 15,
      "metadata": {
        "collapsed": false,
        "outputHidden": false,
        "inputHidden": false,
        "execution": {
          "iopub.status.busy": "2020-06-26T00:38:07.324Z",
          "iopub.execute_input": "2020-06-26T00:38:07.338Z",
          "iopub.status.idle": "2020-06-26T00:38:07.362Z",
          "shell.execute_reply": "2020-06-26T00:38:09.552Z"
        }
      }
    },
    {
      "cell_type": "code",
      "source": [
        "# Create portfolio returns column\n",
        "returns['Portfolio'] = returns.dot(weights)"
      ],
      "outputs": [],
      "execution_count": 16,
      "metadata": {
        "collapsed": false,
        "outputHidden": false,
        "inputHidden": false,
        "execution": {
          "iopub.status.busy": "2020-06-26T00:38:07.379Z",
          "iopub.execute_input": "2020-06-26T00:38:07.393Z",
          "iopub.status.idle": "2020-06-26T00:38:07.416Z",
          "shell.execute_reply": "2020-06-26T00:38:09.561Z"
        }
      }
    },
    {
      "cell_type": "code",
      "source": [
        "returns.head()"
      ],
      "outputs": [
        {
          "output_type": "execute_result",
          "execution_count": 17,
          "data": {
            "text/html": [
              "<div>\n",
              "<style scoped>\n",
              "    .dataframe tbody tr th:only-of-type {\n",
              "        vertical-align: middle;\n",
              "    }\n",
              "\n",
              "    .dataframe tbody tr th {\n",
              "        vertical-align: top;\n",
              "    }\n",
              "\n",
              "    .dataframe thead th {\n",
              "        text-align: right;\n",
              "    }\n",
              "</style>\n",
              "<table border=\"1\" class=\"dataframe\">\n",
              "  <thead>\n",
              "    <tr style=\"text-align: right;\">\n",
              "      <th></th>\n",
              "      <th>DBC</th>\n",
              "      <th>FBTAX</th>\n",
              "      <th>FIHBX</th>\n",
              "      <th>SPY</th>\n",
              "      <th>Portfolio</th>\n",
              "    </tr>\n",
              "    <tr>\n",
              "      <th>Date</th>\n",
              "      <th></th>\n",
              "      <th></th>\n",
              "      <th></th>\n",
              "      <th></th>\n",
              "      <th></th>\n",
              "    </tr>\n",
              "  </thead>\n",
              "  <tbody>\n",
              "    <tr>\n",
              "      <th>2014-01-03</th>\n",
              "      <td>-0.006327</td>\n",
              "      <td>-0.004752</td>\n",
              "      <td>0.000980</td>\n",
              "      <td>-0.000164</td>\n",
              "      <td>-0.003475</td>\n",
              "    </tr>\n",
              "    <tr>\n",
              "      <th>2014-01-06</th>\n",
              "      <td>0.001194</td>\n",
              "      <td>-0.012732</td>\n",
              "      <td>0.000000</td>\n",
              "      <td>-0.002898</td>\n",
              "      <td>-0.001256</td>\n",
              "    </tr>\n",
              "    <tr>\n",
              "      <th>2014-01-07</th>\n",
              "      <td>-0.000795</td>\n",
              "      <td>0.016120</td>\n",
              "      <td>0.001957</td>\n",
              "      <td>0.006142</td>\n",
              "      <td>0.002834</td>\n",
              "    </tr>\n",
              "    <tr>\n",
              "      <th>2014-01-08</th>\n",
              "      <td>-0.009547</td>\n",
              "      <td>0.019037</td>\n",
              "      <td>0.000000</td>\n",
              "      <td>0.000218</td>\n",
              "      <td>-0.002826</td>\n",
              "    </tr>\n",
              "    <tr>\n",
              "      <th>2014-01-09</th>\n",
              "      <td>-0.008032</td>\n",
              "      <td>0.047743</td>\n",
              "      <td>0.000000</td>\n",
              "      <td>0.000654</td>\n",
              "      <td>0.000889</td>\n",
              "    </tr>\n",
              "  </tbody>\n",
              "</table>\n",
              "</div>"
            ],
            "text/plain": [
              "                 DBC     FBTAX     FIHBX       SPY  Portfolio\n",
              "Date                                                         \n",
              "2014-01-03 -0.006327 -0.004752  0.000980 -0.000164  -0.003475\n",
              "2014-01-06  0.001194 -0.012732  0.000000 -0.002898  -0.001256\n",
              "2014-01-07 -0.000795  0.016120  0.001957  0.006142   0.002834\n",
              "2014-01-08 -0.009547  0.019037  0.000000  0.000218  -0.002826\n",
              "2014-01-09 -0.008032  0.047743  0.000000  0.000654   0.000889"
            ]
          },
          "metadata": {}
        }
      ],
      "execution_count": 17,
      "metadata": {
        "collapsed": false,
        "outputHidden": false,
        "inputHidden": false,
        "execution": {
          "iopub.status.busy": "2020-06-26T00:38:07.439Z",
          "iopub.execute_input": "2020-06-26T00:38:07.455Z",
          "iopub.status.idle": "2020-06-26T00:38:07.483Z",
          "shell.execute_reply": "2020-06-26T00:38:09.568Z"
        }
      }
    },
    {
      "cell_type": "code",
      "source": [
        "returns.tail()"
      ],
      "outputs": [
        {
          "output_type": "execute_result",
          "execution_count": 18,
          "data": {
            "text/html": [
              "<div>\n",
              "<style scoped>\n",
              "    .dataframe tbody tr th:only-of-type {\n",
              "        vertical-align: middle;\n",
              "    }\n",
              "\n",
              "    .dataframe tbody tr th {\n",
              "        vertical-align: top;\n",
              "    }\n",
              "\n",
              "    .dataframe thead th {\n",
              "        text-align: right;\n",
              "    }\n",
              "</style>\n",
              "<table border=\"1\" class=\"dataframe\">\n",
              "  <thead>\n",
              "    <tr style=\"text-align: right;\">\n",
              "      <th></th>\n",
              "      <th>DBC</th>\n",
              "      <th>FBTAX</th>\n",
              "      <th>FIHBX</th>\n",
              "      <th>SPY</th>\n",
              "      <th>Portfolio</th>\n",
              "    </tr>\n",
              "    <tr>\n",
              "      <th>Date</th>\n",
              "      <th></th>\n",
              "      <th></th>\n",
              "      <th></th>\n",
              "      <th></th>\n",
              "      <th></th>\n",
              "    </tr>\n",
              "  </thead>\n",
              "  <tbody>\n",
              "    <tr>\n",
              "      <th>2018-12-24</th>\n",
              "      <td>-0.011065</td>\n",
              "      <td>-0.010944</td>\n",
              "      <td>-0.003279</td>\n",
              "      <td>-0.026423</td>\n",
              "      <td>-0.012567</td>\n",
              "    </tr>\n",
              "    <tr>\n",
              "      <th>2018-12-26</th>\n",
              "      <td>0.022238</td>\n",
              "      <td>0.061780</td>\n",
              "      <td>-0.002193</td>\n",
              "      <td>0.050525</td>\n",
              "      <td>0.026963</td>\n",
              "    </tr>\n",
              "    <tr>\n",
              "      <th>2018-12-27</th>\n",
              "      <td>-0.009517</td>\n",
              "      <td>0.003039</td>\n",
              "      <td>0.001099</td>\n",
              "      <td>0.007677</td>\n",
              "      <td>-0.002700</td>\n",
              "    </tr>\n",
              "    <tr>\n",
              "      <th>2018-12-28</th>\n",
              "      <td>-0.008236</td>\n",
              "      <td>0.000000</td>\n",
              "      <td>0.004391</td>\n",
              "      <td>-0.001290</td>\n",
              "      <td>-0.003498</td>\n",
              "    </tr>\n",
              "    <tr>\n",
              "      <th>2018-12-31</th>\n",
              "      <td>0.002768</td>\n",
              "      <td>0.021645</td>\n",
              "      <td>0.006483</td>\n",
              "      <td>0.008759</td>\n",
              "      <td>0.006597</td>\n",
              "    </tr>\n",
              "  </tbody>\n",
              "</table>\n",
              "</div>"
            ],
            "text/plain": [
              "                 DBC     FBTAX     FIHBX       SPY  Portfolio\n",
              "Date                                                         \n",
              "2018-12-24 -0.011065 -0.010944 -0.003279 -0.026423  -0.012567\n",
              "2018-12-26  0.022238  0.061780 -0.002193  0.050525   0.026963\n",
              "2018-12-27 -0.009517  0.003039  0.001099  0.007677  -0.002700\n",
              "2018-12-28 -0.008236  0.000000  0.004391 -0.001290  -0.003498\n",
              "2018-12-31  0.002768  0.021645  0.006483  0.008759   0.006597"
            ]
          },
          "metadata": {}
        }
      ],
      "execution_count": 18,
      "metadata": {
        "collapsed": false,
        "outputHidden": false,
        "inputHidden": false,
        "execution": {
          "iopub.status.busy": "2020-06-26T00:38:07.501Z",
          "iopub.execute_input": "2020-06-26T00:38:07.512Z",
          "iopub.status.idle": "2020-06-26T00:38:07.540Z",
          "shell.execute_reply": "2020-06-26T00:38:09.574Z"
        }
      }
    },
    {
      "cell_type": "code",
      "source": [
        "# Calculate cumulative returns\n",
        "daily_cum_ret=(1+returns).cumprod()\n",
        "print(daily_cum_ret.tail())"
      ],
      "outputs": [
        {
          "output_type": "stream",
          "name": "stdout",
          "text": [
            "                 DBC     FBTAX     FIHBX       SPY  Portfolio\n",
            "Date                                                         \n",
            "2018-12-24  0.576390  1.262091  1.197425  1.414561   0.889783\n",
            "2018-12-26  0.589208  1.340062  1.194799  1.486032   0.913774\n",
            "2018-12-27  0.583600  1.344136  1.196111  1.497441   0.911307\n",
            "2018-12-28  0.578794  1.344136  1.201363  1.495509   0.908120\n",
            "2018-12-31  0.580396  1.373229  1.209152  1.508608   0.914110\n"
          ]
        }
      ],
      "execution_count": 19,
      "metadata": {
        "collapsed": false,
        "outputHidden": false,
        "inputHidden": false,
        "execution": {
          "iopub.status.busy": "2020-06-26T00:38:07.562Z",
          "iopub.execute_input": "2020-06-26T00:38:07.575Z",
          "iopub.status.idle": "2020-06-26T00:38:07.598Z",
          "shell.execute_reply": "2020-06-26T00:38:09.580Z"
        }
      }
    },
    {
      "cell_type": "code",
      "source": [
        "# 99% confidence interval\n",
        "# 0.01 empirical quantile of daily returns\n",
        "var99 = round((returns['Portfolio']).quantile(0.01), 3)"
      ],
      "outputs": [],
      "execution_count": 20,
      "metadata": {
        "collapsed": false,
        "outputHidden": false,
        "inputHidden": false,
        "execution": {
          "iopub.status.busy": "2020-06-26T00:38:07.616Z",
          "iopub.execute_input": "2020-06-26T00:38:07.628Z",
          "iopub.status.idle": "2020-06-26T00:38:07.646Z",
          "shell.execute_reply": "2020-06-26T00:38:09.586Z"
        }
      }
    },
    {
      "cell_type": "code",
      "source": [
        "print('Value at Risk (99% confidence)')\n",
        "print(var99)"
      ],
      "outputs": [
        {
          "output_type": "stream",
          "name": "stdout",
          "text": [
            "Value at Risk (99% confidence)\n",
            "-0.018\n"
          ]
        }
      ],
      "execution_count": 21,
      "metadata": {
        "collapsed": false,
        "outputHidden": false,
        "inputHidden": false,
        "execution": {
          "iopub.status.busy": "2020-06-26T00:38:07.674Z",
          "iopub.execute_input": "2020-06-26T00:38:07.693Z",
          "iopub.status.idle": "2020-06-26T00:38:07.731Z",
          "shell.execute_reply": "2020-06-26T00:38:09.594Z"
        }
      }
    },
    {
      "cell_type": "code",
      "source": [
        "# the percent value of the 5th quantile\n",
        "print('Percent Value-at-Risk of the 5th quantile')\n",
        "var_1_perc = round(np.quantile(var99, 0.01), 3)\n",
        "print(\"{:.1f}%\".format(-var_1_perc*100))"
      ],
      "outputs": [
        {
          "output_type": "stream",
          "name": "stdout",
          "text": [
            "Percent Value-at-Risk of the 5th quantile\n",
            "1.8%\n"
          ]
        }
      ],
      "execution_count": 22,
      "metadata": {
        "collapsed": false,
        "outputHidden": false,
        "inputHidden": false,
        "execution": {
          "iopub.status.busy": "2020-06-26T00:38:07.756Z",
          "iopub.execute_input": "2020-06-26T00:38:07.772Z",
          "iopub.status.idle": "2020-06-26T00:38:07.804Z",
          "shell.execute_reply": "2020-06-26T00:38:09.601Z"
        }
      }
    },
    {
      "cell_type": "code",
      "source": [
        "print('Value-at-Risk of 99% for 100,000 investment')\n",
        "print(\"${}\".format(round(-var99 * 100000),2))"
      ],
      "outputs": [
        {
          "output_type": "stream",
          "name": "stdout",
          "text": [
            "Value-at-Risk of 99% for 100,000 investment\n",
            "$1800.0\n"
          ]
        }
      ],
      "execution_count": 23,
      "metadata": {
        "collapsed": false,
        "outputHidden": false,
        "inputHidden": false,
        "execution": {
          "iopub.status.busy": "2020-06-26T00:38:07.828Z",
          "iopub.execute_input": "2020-06-26T00:38:07.842Z",
          "iopub.status.idle": "2020-06-26T00:38:07.872Z",
          "shell.execute_reply": "2020-06-26T00:38:09.608Z"
        }
      }
    },
    {
      "cell_type": "code",
      "source": [
        "# 95% confidence interval\n",
        "# 0.05 empirical quantile of daily returns\n",
        "var95 = round((returns['Portfolio']).quantile(0.05), 3)"
      ],
      "outputs": [],
      "execution_count": 24,
      "metadata": {
        "collapsed": false,
        "outputHidden": false,
        "inputHidden": false,
        "execution": {
          "iopub.status.busy": "2020-06-26T00:38:07.893Z",
          "iopub.execute_input": "2020-06-26T00:38:07.905Z",
          "iopub.status.idle": "2020-06-26T00:38:07.923Z",
          "shell.execute_reply": "2020-06-26T00:38:09.614Z"
        }
      }
    },
    {
      "cell_type": "code",
      "source": [
        "print('Value at Risk (95% confidence)')\n",
        "print(var95)"
      ],
      "outputs": [
        {
          "output_type": "stream",
          "name": "stdout",
          "text": [
            "Value at Risk (95% confidence)\n",
            "-0.011\n"
          ]
        }
      ],
      "execution_count": 25,
      "metadata": {
        "collapsed": false,
        "outputHidden": false,
        "inputHidden": false,
        "execution": {
          "iopub.status.busy": "2020-06-26T00:38:07.943Z",
          "iopub.execute_input": "2020-06-26T00:38:07.956Z",
          "iopub.status.idle": "2020-06-26T00:38:07.980Z",
          "shell.execute_reply": "2020-06-26T00:38:09.621Z"
        }
      }
    },
    {
      "cell_type": "code",
      "source": [
        "print('Percent Value-at-Risk of the 5th quantile')\n",
        "print(\"{:.1f}%\".format(-var95*100))"
      ],
      "outputs": [
        {
          "output_type": "stream",
          "name": "stdout",
          "text": [
            "Percent Value-at-Risk of the 5th quantile\n",
            "1.1%\n"
          ]
        }
      ],
      "execution_count": 26,
      "metadata": {
        "collapsed": false,
        "outputHidden": false,
        "inputHidden": false,
        "execution": {
          "iopub.status.busy": "2020-06-26T00:38:07.998Z",
          "iopub.execute_input": "2020-06-26T00:38:08.009Z",
          "iopub.status.idle": "2020-06-26T00:38:08.032Z",
          "shell.execute_reply": "2020-06-26T00:38:09.627Z"
        }
      }
    },
    {
      "cell_type": "code",
      "source": [
        "# VaR for 100,000 investment\n",
        "print('Value-at-Risk of 99% for 100,000 investment')\n",
        "var_100k = \"${}\".format(int(-var95 * 100000))\n",
        "print(\"${}\".format(int(-var95 * 100000)))"
      ],
      "outputs": [
        {
          "output_type": "stream",
          "name": "stdout",
          "text": [
            "Value-at-Risk of 99% for 100,000 investment\n",
            "$1100\n"
          ]
        }
      ],
      "execution_count": 27,
      "metadata": {
        "collapsed": false,
        "outputHidden": false,
        "inputHidden": false,
        "execution": {
          "iopub.status.busy": "2020-06-26T00:38:08.050Z",
          "iopub.execute_input": "2020-06-26T00:38:08.063Z",
          "iopub.status.idle": "2020-06-26T00:38:08.088Z",
          "shell.execute_reply": "2020-06-26T00:38:09.633Z"
        }
      }
    },
    {
      "cell_type": "code",
      "source": [
        "mean = np.mean(returns['Portfolio'])\n",
        "std_dev = np.std(returns['Portfolio'])"
      ],
      "outputs": [],
      "execution_count": 28,
      "metadata": {
        "collapsed": false,
        "outputHidden": false,
        "inputHidden": false,
        "execution": {
          "iopub.status.busy": "2020-06-26T00:38:08.110Z",
          "iopub.execute_input": "2020-06-26T00:38:08.122Z",
          "iopub.status.idle": "2020-06-26T00:38:08.142Z",
          "shell.execute_reply": "2020-06-26T00:38:09.639Z"
        }
      }
    },
    {
      "cell_type": "code",
      "source": [
        "returns['Portfolio'].hist(bins=50, normed=True, histtype='stepfilled', alpha=0.5)\n",
        "x = np.linspace(mean - 3*std_dev, mean + 3*std_dev, 100)\n",
        "plt.plot(x, mlab.normpdf(x, mean, std_dev), \"r\")\n",
        "plt.title('Histogram of Returns')\n",
        "plt.show()"
      ],
      "outputs": [
        {
          "output_type": "display_data",
          "data": {
            "text/plain": [
              "<Figure size 432x288 with 1 Axes>"
            ],
            "image/png": "[encoded data removed]"
          },
          "metadata": {
            "needs_background": "light"
          }
        }
      ],
      "execution_count": 29,
      "metadata": {
        "collapsed": false,
        "outputHidden": false,
        "inputHidden": false,
        "execution": {
          "iopub.status.busy": "2020-06-26T00:38:08.161Z",
          "iopub.execute_input": "2020-06-26T00:38:08.195Z",
          "iopub.status.idle": "2020-06-26T00:38:08.226Z",
          "shell.execute_reply": "2020-06-26T00:38:09.645Z"
        }
      }
    },
    {
      "cell_type": "code",
      "source": [
        "VaR_90 = norm.ppf(1-0.9, mean, std_dev)\n",
        "VaR_95 = norm.ppf(1-0.95, mean, std_dev)\n",
        "VaR_99 = norm.ppf(1-0.99, mean, std_dev)"
      ],
      "outputs": [],
      "execution_count": 30,
      "metadata": {
        "collapsed": false,
        "outputHidden": false,
        "inputHidden": false,
        "execution": {
          "iopub.status.busy": "2020-06-26T00:38:08.251Z",
          "iopub.execute_input": "2020-06-26T00:38:08.268Z",
          "iopub.status.idle": "2020-06-26T00:38:08.290Z",
          "shell.execute_reply": "2020-06-26T00:38:09.651Z"
        }
      }
    },
    {
      "cell_type": "code",
      "source": [
        "print(tabulate([['90%', VaR_90], ['95%', VaR_95], ['99%', VaR_99]], headers=['Confidence Level', 'Value at Risk']))"
      ],
      "outputs": [
        {
          "output_type": "stream",
          "name": "stdout",
          "text": [
            "Confidence Level      Value at Risk\n",
            "------------------  ---------------\n",
            "90%                     -0.00839355\n",
            "95%                     -0.0107588\n",
            "99%                     -0.0151955\n"
          ]
        }
      ],
      "execution_count": 31,
      "metadata": {
        "collapsed": false,
        "outputHidden": false,
        "inputHidden": false,
        "execution": {
          "iopub.status.busy": "2020-06-26T00:38:08.311Z",
          "iopub.execute_input": "2020-06-26T00:38:08.323Z",
          "iopub.status.idle": "2020-06-26T00:38:08.349Z",
          "shell.execute_reply": "2020-06-26T00:38:09.657Z"
        }
      }
    },
    {
      "cell_type": "code",
      "source": [
        "returns['Portfolio'].hist()\n",
        "plt.show()"
      ],
      "outputs": [
        {
          "output_type": "display_data",
          "data": {
            "text/plain": [
              "<Figure size 432x288 with 1 Axes>"
            ],
            "image/png": "[encoded data removed]"
          },
          "metadata": {
            "needs_background": "light"
          }
        }
      ],
      "execution_count": 32,
      "metadata": {
        "collapsed": false,
        "outputHidden": false,
        "inputHidden": false,
        "execution": {
          "iopub.status.busy": "2020-06-26T00:38:08.367Z",
          "iopub.execute_input": "2020-06-26T00:38:08.379Z",
          "iopub.status.idle": "2020-06-26T00:38:08.407Z",
          "shell.execute_reply": "2020-06-26T00:38:09.663Z"
        }
      }
    },
    {
      "cell_type": "code",
      "source": [
        "import matplotlib.dates\n",
        "\n",
        "# Plot the portfolio cumulative returns only\n",
        "fig, ax = plt.subplots()\n",
        "ax.plot(daily_cum_ret.index, daily_cum_ret.Portfolio, color='purple', label=\"portfolio\")\n",
        "ax.xaxis.set_major_locator(matplotlib.dates.YearLocator())\n",
        "plt.title(title)\n",
        "plt.legend()\n",
        "plt.show()"
      ],
      "outputs": [
        {
          "output_type": "display_data",
          "data": {
            "text/plain": [
              "<Figure size 432x288 with 1 Axes>"
            ],
            "image/png": "[encoded data removed]"
          },
          "metadata": {
            "needs_background": "light"
          }
        }
      ],
      "execution_count": 33,
      "metadata": {
        "collapsed": false,
        "outputHidden": false,
        "inputHidden": false,
        "execution": {
          "iopub.status.busy": "2020-06-26T00:38:08.424Z",
          "iopub.execute_input": "2020-06-26T00:38:08.436Z",
          "iopub.status.idle": "2020-06-26T00:38:08.460Z",
          "shell.execute_reply": "2020-06-26T00:38:09.669Z"
        }
      }
    },
    {
      "cell_type": "code",
      "source": [
        "# Print the mean\n",
        "print(\"mean : \", returns['Portfolio'].mean()*100)\n",
        "\n",
        "# Print the standard deviation\n",
        "print(\"Std. dev: \", returns['Portfolio'].std()*100)\n",
        "\n",
        "# Print the skewness\n",
        "print(\"skew: \", returns['Portfolio'].skew())\n",
        "\n",
        "# Print the kurtosis\n",
        "print(\"kurt: \", returns['Portfolio'].kurtosis())"
      ],
      "outputs": [
        {
          "output_type": "stream",
          "name": "stdout",
          "text": [
            "mean :  -0.005022475164538249\n",
            "Std. dev:  0.651291924442618\n",
            "skew:  -0.2260558811935371\n",
            "kurt:  1.2996237688067493\n"
          ]
        }
      ],
      "execution_count": 34,
      "metadata": {
        "collapsed": false,
        "outputHidden": false,
        "inputHidden": false,
        "execution": {
          "iopub.status.busy": "2020-06-26T00:38:08.477Z",
          "iopub.execute_input": "2020-06-26T00:38:08.489Z",
          "iopub.status.idle": "2020-06-26T00:38:08.513Z",
          "shell.execute_reply": "2020-06-26T00:38:09.675Z"
        }
      }
    },
    {
      "cell_type": "code",
      "source": [
        "# Calculate the standard deviation by taking the square root\n",
        "port_standard_dev = np.sqrt(np.dot(weights.T, np.dot(weights, cov_matrix)))\n",
        "\n",
        "# Print the results \n",
        "print(str(np.round(port_standard_dev, 4) * 100) + '%')"
      ],
      "outputs": [
        {
          "output_type": "stream",
          "name": "stdout",
          "text": [
            "10.299999999999999%\n"
          ]
        }
      ],
      "execution_count": 35,
      "metadata": {
        "collapsed": false,
        "outputHidden": false,
        "inputHidden": false,
        "execution": {
          "iopub.status.busy": "2020-06-26T00:38:08.530Z",
          "iopub.execute_input": "2020-06-26T00:38:08.542Z",
          "iopub.status.idle": "2020-06-26T00:38:08.575Z",
          "shell.execute_reply": "2020-06-26T00:38:09.682Z"
        }
      }
    },
    {
      "cell_type": "code",
      "source": [
        "# Calculate the portfolio variance\n",
        "port_variance = np.dot(weights.T, np.dot(cov_matrix, weights))\n",
        "\n",
        "# Print the result\n",
        "print(str(np.round(port_variance, 4) * 100) + '%')"
      ],
      "outputs": [
        {
          "output_type": "stream",
          "name": "stdout",
          "text": [
            "1.06%\n"
          ]
        }
      ],
      "execution_count": 36,
      "metadata": {
        "collapsed": false,
        "outputHidden": false,
        "inputHidden": false,
        "execution": {
          "iopub.status.busy": "2020-06-26T00:38:08.599Z",
          "iopub.execute_input": "2020-06-26T00:38:08.611Z",
          "iopub.status.idle": "2020-06-26T00:38:08.635Z",
          "shell.execute_reply": "2020-06-26T00:38:09.688Z"
        }
      }
    },
    {
      "cell_type": "code",
      "source": [
        "# Calculate total return and annualized return from price data \n",
        "total_return = (returns['Portfolio'][-1] - returns['Portfolio'][0])\n",
        "\n",
        "# Annualize the total return over 5 year \n",
        "annualized_return = ((1 + total_return)**(1/5))-1"
      ],
      "outputs": [],
      "execution_count": 37,
      "metadata": {
        "collapsed": false,
        "outputHidden": false,
        "inputHidden": false,
        "execution": {
          "iopub.status.busy": "2020-06-26T00:38:08.653Z",
          "iopub.execute_input": "2020-06-26T00:38:08.670Z",
          "iopub.status.idle": "2020-06-26T00:38:08.696Z",
          "shell.execute_reply": "2020-06-26T00:38:09.695Z"
        }
      }
    },
    {
      "cell_type": "code",
      "source": [
        "# Calculate annualized volatility from the standard deviation\n",
        "vol_port = returns['Portfolio'].std() * np.sqrt(250)"
      ],
      "outputs": [],
      "execution_count": 38,
      "metadata": {
        "collapsed": false,
        "outputHidden": false,
        "inputHidden": false,
        "execution": {
          "iopub.status.busy": "2020-06-26T00:38:08.720Z",
          "iopub.execute_input": "2020-06-26T00:38:08.737Z",
          "iopub.status.idle": "2020-06-26T00:38:08.764Z",
          "shell.execute_reply": "2020-06-26T00:38:09.701Z"
        }
      }
    },
    {
      "cell_type": "code",
      "source": [
        "# Calculate the Sharpe ratio \n",
        "rf = 0.01\n",
        "sharpe_ratio = ((annualized_return - rf) / vol_port)\n",
        "print(sharpe_ratio)"
      ],
      "outputs": [
        {
          "output_type": "stream",
          "name": "stdout",
          "text": [
            "-0.07762413406087283\n"
          ]
        }
      ],
      "execution_count": 39,
      "metadata": {
        "collapsed": false,
        "outputHidden": false,
        "inputHidden": false,
        "execution": {
          "iopub.status.busy": "2020-06-26T00:38:08.791Z",
          "iopub.execute_input": "2020-06-26T00:38:08.809Z",
          "iopub.status.idle": "2020-06-26T00:38:08.838Z",
          "shell.execute_reply": "2020-06-26T00:38:09.707Z"
        }
      }
    },
    {
      "cell_type": "code",
      "source": [
        "# Create a downside return column with the negative returns only\n",
        "target = 0\n",
        "downside_returns = returns.loc[returns['Portfolio'] < target]\n",
        "\n",
        "# Calculate expected return and std dev of downside\n",
        "expected_return = returns['Portfolio'].mean()\n",
        "down_stdev = downside_returns.std()\n",
        "\n",
        "# Calculate the sortino ratio\n",
        "rf = 0.01\n",
        "sortino_ratio = (expected_return - rf)/down_stdev\n",
        "\n",
        "# Print the results\n",
        "print(\"Expected return: \", expected_return*100)\n",
        "print('-' * 50)\n",
        "print(\"Downside risk:\")\n",
        "print(down_stdev*100)\n",
        "print('-' * 50)\n",
        "print(\"Sortino ratio:\")\n",
        "print(sortino_ratio)"
      ],
      "outputs": [
        {
          "output_type": "stream",
          "name": "stdout",
          "text": [
            "Expected return:  -0.005022475164538249\n",
            "--------------------------------------------------\n",
            "Downside risk:\n",
            "DBC          0.717214\n",
            "FBTAX        1.608918\n",
            "FIHBX        0.269959\n",
            "SPY          0.779532\n",
            "Portfolio    0.459835\n",
            "dtype: float64\n",
            "--------------------------------------------------\n",
            "Sortino ratio:\n",
            "DBC         -1.401287\n",
            "FBTAX       -0.624657\n",
            "FIHBX       -3.722866\n",
            "SPY         -1.289263\n",
            "Portfolio   -2.185616\n",
            "dtype: float64\n"
          ]
        }
      ],
      "execution_count": 40,
      "metadata": {
        "collapsed": false,
        "outputHidden": false,
        "inputHidden": false,
        "execution": {
          "iopub.status.busy": "2020-06-26T00:38:08.855Z",
          "iopub.execute_input": "2020-06-26T00:38:08.866Z",
          "iopub.status.idle": "2020-06-26T00:38:08.889Z",
          "shell.execute_reply": "2020-06-26T00:38:09.714Z"
        }
      }
    },
    {
      "cell_type": "code",
      "source": [
        "# Calculate the max value \n",
        "roll_max = returns['Portfolio'].rolling(center=False,min_periods=1,window=252).max()\n",
        "\n",
        "# Calculate the daily draw-down relative to the max\n",
        "daily_draw_down = returns['Portfolio']/roll_max - 1.0\n",
        "\n",
        "# Calculate the minimum (negative) daily draw-down\n",
        "max_daily_draw_down = daily_draw_down.rolling(center=False,min_periods=1,window=252).min()\n",
        "\n",
        "# Plot the results\n",
        "plt.figure(figsize=(15,15))\n",
        "plt.plot(returns.index, daily_draw_down, label='Daily drawdown')\n",
        "plt.plot(returns.index, max_daily_draw_down, label='Maximum daily drawdown in time-window')\n",
        "plt.legend()\n",
        "plt.show()"
      ],
      "outputs": [
        {
          "output_type": "display_data",
          "data": {
            "text/plain": [
              "<Figure size 1080x1080 with 1 Axes>"
            ],
            "image/png": "[encoded data removed]"
          },
          "metadata": {
            "needs_background": "light"
          }
        }
      ],
      "execution_count": 41,
      "metadata": {
        "collapsed": false,
        "outputHidden": false,
        "inputHidden": false,
        "execution": {
          "iopub.status.busy": "2020-06-26T00:38:08.906Z",
          "iopub.execute_input": "2020-06-26T00:38:08.917Z",
          "iopub.status.idle": "2020-06-26T00:38:08.946Z",
          "shell.execute_reply": "2020-06-26T00:38:09.720Z"
        }
      }
    },
    {
      "cell_type": "code",
      "source": [
        "plt.figure(figsize=(7,7))\n",
        "corr = returns.corr()\n",
        "\n",
        "# plot the heatmap\n",
        "sns.heatmap(corr, \n",
        "        xticklabels=corr.columns,\n",
        "        yticklabels=corr.columns,\n",
        "            cmap=\"Blues\")"
      ],
      "outputs": [
        {
          "output_type": "execute_result",
          "execution_count": 42,
          "data": {
            "text/plain": [
              "<matplotlib.axes._subplots.AxesSubplot at 0x1c50345d5c0>"
            ]
          },
          "metadata": {}
        },
        {
          "output_type": "display_data",
          "data": {
            "text/plain": [
              "<Figure size 504x504 with 2 Axes>"
            ],
            "image/png": "[encoded data removed]"
          },
          "metadata": {
            "needs_background": "light"
          }
        }
      ],
      "execution_count": 42,
      "metadata": {
        "collapsed": false,
        "outputHidden": false,
        "inputHidden": false,
        "execution": {
          "iopub.status.busy": "2020-06-26T00:38:08.963Z",
          "iopub.execute_input": "2020-06-26T00:38:08.975Z",
          "iopub.status.idle": "2020-06-26T00:38:09.007Z",
          "shell.execute_reply": "2020-06-26T00:38:09.726Z"
        }
      }
    },
    {
      "cell_type": "code",
      "source": [
        "# Box plot\n",
        "returns.plot(kind='box')"
      ],
      "outputs": [
        {
          "output_type": "execute_result",
          "execution_count": 43,
          "data": {
            "text/plain": [
              "<matplotlib.axes._subplots.AxesSubplot at 0x1c503414cf8>"
            ]
          },
          "metadata": {}
        },
        {
          "output_type": "display_data",
          "data": {
            "text/plain": [
              "<Figure size 432x288 with 1 Axes>"
            ],
            "image/png": "[encoded data removed]"
          },
          "metadata": {
            "needs_background": "light"
          }
        }
      ],
      "execution_count": 43,
      "metadata": {
        "collapsed": false,
        "outputHidden": false,
        "inputHidden": false,
        "execution": {
          "iopub.status.busy": "2020-06-26T00:38:09.025Z",
          "iopub.execute_input": "2020-06-26T00:38:09.037Z",
          "iopub.status.idle": "2020-06-26T00:38:09.071Z",
          "shell.execute_reply": "2020-06-26T00:38:09.732Z"
        }
      }
    },
    {
      "cell_type": "code",
      "source": [
        "rets = returns.dropna()\n",
        "\n",
        "plt.scatter(rets.mean(), rets.std(),alpha = 0.5)\n",
        "\n",
        "plt.title('Stocks Risk & Returns')\n",
        "plt.xlabel('Expected returns')\n",
        "plt.ylabel('Risk')\n",
        "plt.grid(which='major')\n",
        "\n",
        "for label, x, y in zip(rets.columns, rets.mean(), rets.std()):\n",
        "    plt.annotate(\n",
        "        label, \n",
        "        xy = (x, y), xytext = (50, 50),\n",
        "        textcoords = 'offset points', ha = 'right', va = 'bottom',\n",
        "        arrowprops = dict(arrowstyle = '-', connectionstyle = 'arc3,rad=-0.3'))"
      ],
      "outputs": [
        {
          "output_type": "display_data",
          "data": {
            "text/plain": [
              "<Figure size 432x288 with 1 Axes>"
            ],
            "image/png": "[encoded data removed]"
          },
          "metadata": {
            "needs_background": "light"
          }
        }
      ],
      "execution_count": 44,
      "metadata": {
        "collapsed": false,
        "outputHidden": false,
        "inputHidden": false,
        "execution": {
          "iopub.status.busy": "2020-06-26T00:38:09.087Z",
          "iopub.execute_input": "2020-06-26T00:38:09.098Z",
          "iopub.status.idle": "2020-06-26T00:38:09.121Z",
          "shell.execute_reply": "2020-06-26T00:38:09.738Z"
        }
      }
    },
    {
      "cell_type": "code",
      "source": [
        "area = np.pi*20.0\n",
        "\n",
        "sns.set(style='darkgrid')\n",
        "plt.figure(figsize=(12,8))\n",
        "plt.scatter(rets.mean(), rets.std(), s=area)\n",
        "plt.xlabel(\"Expected Return\", fontsize=15)\n",
        "plt.ylabel(\"Risk\", fontsize=15)\n",
        "plt.title(\"Return vs. Risk for \" + title, fontsize=20)\n",
        "\n",
        "for label, x, y in zip(rets.columns, rets.mean(), rets.std()) : \n",
        "    plt.annotate(label, xy=(x,y), xytext=(50, 0), textcoords='offset points',\n",
        "                arrowprops=dict(arrowstyle='-', connectionstyle='bar,angle=180,fraction=-0.2'),\n",
        "                bbox=dict(boxstyle=\"round\", fc=\"w\"))"
      ],
      "outputs": [
        {
          "output_type": "display_data",
          "data": {
            "text/plain": [
              "<Figure size 864x576 with 1 Axes>"
            ],
            "image/png": "[encoded data removed]"
          },
          "metadata": {}
        }
      ],
      "execution_count": 45,
      "metadata": {
        "collapsed": false,
        "outputHidden": false,
        "inputHidden": false,
        "execution": {
          "iopub.status.busy": "2020-06-26T00:38:09.141Z",
          "iopub.execute_input": "2020-06-26T00:38:09.152Z",
          "iopub.status.idle": "2020-06-26T00:38:09.185Z",
          "shell.execute_reply": "2020-06-26T00:38:09.744Z"
        }
      }
    },
    {
      "cell_type": "code",
      "source": [
        "print(\"Stock returns: \")\n",
        "print(rets.mean())\n",
        "print('-' * 50)\n",
        "print(\"Stock risk:\")\n",
        "print(rets.std())"
      ],
      "outputs": [
        {
          "output_type": "stream",
          "name": "stdout",
          "text": [
            "Stock returns: \n",
            "DBC         -0.000388\n",
            "FBTAX        0.000403\n",
            "FIHBX        0.000155\n",
            "SPY          0.000362\n",
            "Portfolio   -0.000050\n",
            "dtype: float64\n",
            "--------------------------------------------------\n",
            "Stock risk:\n",
            "DBC          0.009496\n",
            "FBTAX        0.017337\n",
            "FIHBX        0.002734\n",
            "SPY          0.008306\n",
            "Portfolio    0.006513\n",
            "dtype: float64\n"
          ]
        }
      ],
      "execution_count": 46,
      "metadata": {
        "collapsed": false,
        "outputHidden": false,
        "inputHidden": false,
        "execution": {
          "iopub.status.busy": "2020-06-26T00:38:09.206Z",
          "iopub.execute_input": "2020-06-26T00:38:09.220Z",
          "iopub.status.idle": "2020-06-26T00:38:09.243Z",
          "shell.execute_reply": "2020-06-26T00:38:09.750Z"
        }
      }
    },
    {
      "cell_type": "code",
      "source": [
        "table = pd.DataFrame()\n",
        "table['Returns'] = rets.mean()\n",
        "table['Risk'] = rets.std()\n",
        "table.sort_values(by='Returns')"
      ],
      "outputs": [
        {
          "output_type": "execute_result",
          "execution_count": 47,
          "data": {
            "text/html": [
              "<div>\n",
              "<style scoped>\n",
              "    .dataframe tbody tr th:only-of-type {\n",
              "        vertical-align: middle;\n",
              "    }\n",
              "\n",
              "    .dataframe tbody tr th {\n",
              "        vertical-align: top;\n",
              "    }\n",
              "\n",
              "    .dataframe thead th {\n",
              "        text-align: right;\n",
              "    }\n",
              "</style>\n",
              "<table border=\"1\" class=\"dataframe\">\n",
              "  <thead>\n",
              "    <tr style=\"text-align: right;\">\n",
              "      <th></th>\n",
              "      <th>Returns</th>\n",
              "      <th>Risk</th>\n",
              "    </tr>\n",
              "  </thead>\n",
              "  <tbody>\n",
              "    <tr>\n",
              "      <th>DBC</th>\n",
              "      <td>-0.000388</td>\n",
              "      <td>0.009496</td>\n",
              "    </tr>\n",
              "    <tr>\n",
              "      <th>Portfolio</th>\n",
              "      <td>-0.000050</td>\n",
              "      <td>0.006513</td>\n",
              "    </tr>\n",
              "    <tr>\n",
              "      <th>FIHBX</th>\n",
              "      <td>0.000155</td>\n",
              "      <td>0.002734</td>\n",
              "    </tr>\n",
              "    <tr>\n",
              "      <th>SPY</th>\n",
              "      <td>0.000362</td>\n",
              "      <td>0.008306</td>\n",
              "    </tr>\n",
              "    <tr>\n",
              "      <th>FBTAX</th>\n",
              "      <td>0.000403</td>\n",
              "      <td>0.017337</td>\n",
              "    </tr>\n",
              "  </tbody>\n",
              "</table>\n",
              "</div>"
            ],
            "text/plain": [
              "            Returns      Risk\n",
              "DBC       -0.000388  0.009496\n",
              "Portfolio -0.000050  0.006513\n",
              "FIHBX      0.000155  0.002734\n",
              "SPY        0.000362  0.008306\n",
              "FBTAX      0.000403  0.017337"
            ]
          },
          "metadata": {}
        }
      ],
      "execution_count": 47,
      "metadata": {
        "collapsed": false,
        "outputHidden": false,
        "inputHidden": false,
        "execution": {
          "iopub.status.busy": "2020-06-26T00:38:09.261Z",
          "iopub.execute_input": "2020-06-26T00:38:09.276Z",
          "iopub.status.idle": "2020-06-26T00:38:09.300Z",
          "shell.execute_reply": "2020-06-26T00:38:09.756Z"
        }
      }
    },
    {
      "cell_type": "code",
      "source": [
        "table.sort_values(by='Risk')"
      ],
      "outputs": [
        {
          "output_type": "execute_result",
          "execution_count": 48,
          "data": {
            "text/html": [
              "<div>\n",
              "<style scoped>\n",
              "    .dataframe tbody tr th:only-of-type {\n",
              "        vertical-align: middle;\n",
              "    }\n",
              "\n",
              "    .dataframe tbody tr th {\n",
              "        vertical-align: top;\n",
              "    }\n",
              "\n",
              "    .dataframe thead th {\n",
              "        text-align: right;\n",
              "    }\n",
              "</style>\n",
              "<table border=\"1\" class=\"dataframe\">\n",
              "  <thead>\n",
              "    <tr style=\"text-align: right;\">\n",
              "      <th></th>\n",
              "      <th>Returns</th>\n",
              "      <th>Risk</th>\n",
              "    </tr>\n",
              "  </thead>\n",
              "  <tbody>\n",
              "    <tr>\n",
              "      <th>FIHBX</th>\n",
              "      <td>0.000155</td>\n",
              "      <td>0.002734</td>\n",
              "    </tr>\n",
              "    <tr>\n",
              "      <th>Portfolio</th>\n",
              "      <td>-0.000050</td>\n",
              "      <td>0.006513</td>\n",
              "    </tr>\n",
              "    <tr>\n",
              "      <th>SPY</th>\n",
              "      <td>0.000362</td>\n",
              "      <td>0.008306</td>\n",
              "    </tr>\n",
              "    <tr>\n",
              "      <th>DBC</th>\n",
              "      <td>-0.000388</td>\n",
              "      <td>0.009496</td>\n",
              "    </tr>\n",
              "    <tr>\n",
              "      <th>FBTAX</th>\n",
              "      <td>0.000403</td>\n",
              "      <td>0.017337</td>\n",
              "    </tr>\n",
              "  </tbody>\n",
              "</table>\n",
              "</div>"
            ],
            "text/plain": [
              "            Returns      Risk\n",
              "FIHBX      0.000155  0.002734\n",
              "Portfolio -0.000050  0.006513\n",
              "SPY        0.000362  0.008306\n",
              "DBC       -0.000388  0.009496\n",
              "FBTAX      0.000403  0.017337"
            ]
          },
          "metadata": {}
        }
      ],
      "execution_count": 48,
      "metadata": {
        "collapsed": false,
        "outputHidden": false,
        "inputHidden": false,
        "execution": {
          "iopub.status.busy": "2020-06-26T00:38:09.317Z",
          "iopub.execute_input": "2020-06-26T00:38:09.328Z",
          "iopub.status.idle": "2020-06-26T00:38:09.353Z",
          "shell.execute_reply": "2020-06-26T00:38:09.762Z"
        }
      }
    },
    {
      "cell_type": "code",
      "source": [
        "rf = 0.01\n",
        "table['Sharpe_Ratio'] = (table['Returns'] - rf) / table['Risk']\n",
        "table"
      ],
      "outputs": [
        {
          "output_type": "execute_result",
          "execution_count": 49,
          "data": {
            "text/html": [
              "<div>\n",
              "<style scoped>\n",
              "    .dataframe tbody tr th:only-of-type {\n",
              "        vertical-align: middle;\n",
              "    }\n",
              "\n",
              "    .dataframe tbody tr th {\n",
              "        vertical-align: top;\n",
              "    }\n",
              "\n",
              "    .dataframe thead th {\n",
              "        text-align: right;\n",
              "    }\n",
              "</style>\n",
              "<table border=\"1\" class=\"dataframe\">\n",
              "  <thead>\n",
              "    <tr style=\"text-align: right;\">\n",
              "      <th></th>\n",
              "      <th>Returns</th>\n",
              "      <th>Risk</th>\n",
              "      <th>Sharpe_Ratio</th>\n",
              "    </tr>\n",
              "  </thead>\n",
              "  <tbody>\n",
              "    <tr>\n",
              "      <th>DBC</th>\n",
              "      <td>-0.000388</td>\n",
              "      <td>0.009496</td>\n",
              "      <td>-1.093885</td>\n",
              "    </tr>\n",
              "    <tr>\n",
              "      <th>FBTAX</th>\n",
              "      <td>0.000403</td>\n",
              "      <td>0.017337</td>\n",
              "      <td>-0.553582</td>\n",
              "    </tr>\n",
              "    <tr>\n",
              "      <th>FIHBX</th>\n",
              "      <td>0.000155</td>\n",
              "      <td>0.002734</td>\n",
              "      <td>-3.601055</td>\n",
              "    </tr>\n",
              "    <tr>\n",
              "      <th>SPY</th>\n",
              "      <td>0.000362</td>\n",
              "      <td>0.008306</td>\n",
              "      <td>-1.160409</td>\n",
              "    </tr>\n",
              "    <tr>\n",
              "      <th>Portfolio</th>\n",
              "      <td>-0.000050</td>\n",
              "      <td>0.006513</td>\n",
              "      <td>-1.543121</td>\n",
              "    </tr>\n",
              "  </tbody>\n",
              "</table>\n",
              "</div>"
            ],
            "text/plain": [
              "            Returns      Risk  Sharpe_Ratio\n",
              "DBC       -0.000388  0.009496     -1.093885\n",
              "FBTAX      0.000403  0.017337     -0.553582\n",
              "FIHBX      0.000155  0.002734     -3.601055\n",
              "SPY        0.000362  0.008306     -1.160409\n",
              "Portfolio -0.000050  0.006513     -1.543121"
            ]
          },
          "metadata": {}
        }
      ],
      "execution_count": 49,
      "metadata": {
        "collapsed": false,
        "outputHidden": false,
        "inputHidden": false,
        "execution": {
          "iopub.status.busy": "2020-06-26T00:38:09.372Z",
          "iopub.execute_input": "2020-06-26T00:38:09.383Z",
          "iopub.status.idle": "2020-06-26T00:38:09.406Z",
          "shell.execute_reply": "2020-06-26T00:38:09.768Z"
        }
      }
    }
  ],
  "metadata": {
    "kernel_info": {
      "name": "python3"
    },
    "language_info": {
      "name": "python",
      "file_extension": ".py",
      "pygments_lexer": "ipython3",
      "version": "3.5.5",
      "mimetype": "text/x-python",
      "codemirror_mode": {
        "version": 3,
        "name": "ipython"
      },
      "nbconvert_exporter": "python"
    },
    "kernelspec": {
      "name": "python3",
      "language": "python",
      "display_name": "Python 3"
    },
    "nteract": {
      "version": "0.23.3"
    }
  },
  "nbformat": 4,
  "nbformat_minor": 0
}