{
  "cells": [
    {
      "cell_type": "markdown",
      "source": [
        "# Portfolio Functions"
      ],
      "metadata": {}
    },
    {
      "cell_type": "code",
      "source": [
        "import numpy as np\n",
        "import pandas as pd\n",
        "import matplotlib.pyplot as plt\n",
        "import seaborn as sns\n",
        "import math\n",
        "\n",
        "import warnings\n",
        "warnings.filterwarnings(\"ignore\")\n",
        "\n",
        "# fix_yahoo_finance is used to fetch data \n",
        "import fix_yahoo_finance as yf\n",
        "yf.pdr_override()"
      ],
      "outputs": [],
      "execution_count": 1,
      "metadata": {
        "collapsed": false,
        "outputHidden": false,
        "inputHidden": false
      }
    },
    {
      "cell_type": "code",
      "source": [
        "def get_historical_price(ticker, start_date, end_date):\n",
        "    df = yf.download(ticker, start_date, end_date)['Adj Close']\n",
        "    return df"
      ],
      "outputs": [],
      "execution_count": 2,
      "metadata": {
        "collapsed": false,
        "outputHidden": false,
        "inputHidden": false
      }
    },
    {
      "cell_type": "code",
      "source": [
        "symbols = ['FB','JNJ','LMT']\n",
        "start = '2012-01-01'\n",
        "end = '2019-01-01'"
      ],
      "outputs": [],
      "execution_count": 3,
      "metadata": {
        "collapsed": false,
        "outputHidden": false,
        "inputHidden": false
      }
    },
    {
      "cell_type": "code",
      "source": [
        "closes = get_historical_price(symbols, start, end)"
      ],
      "outputs": [
        {
          "output_type": "stream",
          "name": "stdout",
          "text": [
            "[*********************100%***********************]  3 of 3 downloaded\n"
          ]
        }
      ],
      "execution_count": 4,
      "metadata": {
        "collapsed": false,
        "outputHidden": false,
        "inputHidden": false
      }
    },
    {
      "cell_type": "code",
      "source": [
        "closes[:5]"
      ],
      "outputs": [
        {
          "output_type": "execute_result",
          "execution_count": 5,
          "data": {
            "text/plain": [
              "            FB        JNJ        LMT\n",
              "Date                                \n",
              "2012-01-03 NaN  52.659668  63.418526\n",
              "2012-01-04 NaN  52.339931  62.560261\n",
              "2012-01-05 NaN  52.275982  61.910774\n",
              "2012-01-06 NaN  51.820370  61.841187\n",
              "2012-01-09 NaN  51.900299  61.887573"
            ],
            "text/html": [
              "<div>\n",
              "<style scoped>\n",
              "    .dataframe tbody tr th:only-of-type {\n",
              "        vertical-align: middle;\n",
              "    }\n",
              "\n",
              "    .dataframe tbody tr th {\n",
              "        vertical-align: top;\n",
              "    }\n",
              "\n",
              "    .dataframe thead th {\n",
              "        text-align: right;\n",
              "    }\n",
              "</style>\n",
              "<table border=\"1\" class=\"dataframe\">\n",
              "  <thead>\n",
              "    <tr style=\"text-align: right;\">\n",
              "      <th></th>\n",
              "      <th>FB</th>\n",
              "      <th>JNJ</th>\n",
              "      <th>LMT</th>\n",
              "    </tr>\n",
              "    <tr>\n",
              "      <th>Date</th>\n",
              "      <th></th>\n",
              "      <th></th>\n",
              "      <th></th>\n",
              "    </tr>\n",
              "  </thead>\n",
              "  <tbody>\n",
              "    <tr>\n",
              "      <th>2012-01-03</th>\n",
              "      <td>NaN</td>\n",
              "      <td>52.659668</td>\n",
              "      <td>63.418526</td>\n",
              "    </tr>\n",
              "    <tr>\n",
              "      <th>2012-01-04</th>\n",
              "      <td>NaN</td>\n",
              "      <td>52.339931</td>\n",
              "      <td>62.560261</td>\n",
              "    </tr>\n",
              "    <tr>\n",
              "      <th>2012-01-05</th>\n",
              "      <td>NaN</td>\n",
              "      <td>52.275982</td>\n",
              "      <td>61.910774</td>\n",
              "    </tr>\n",
              "    <tr>\n",
              "      <th>2012-01-06</th>\n",
              "      <td>NaN</td>\n",
              "      <td>51.820370</td>\n",
              "      <td>61.841187</td>\n",
              "    </tr>\n",
              "    <tr>\n",
              "      <th>2012-01-09</th>\n",
              "      <td>NaN</td>\n",
              "      <td>51.900299</td>\n",
              "      <td>61.887573</td>\n",
              "    </tr>\n",
              "  </tbody>\n",
              "</table>\n",
              "</div>"
            ]
          },
          "metadata": {}
        }
      ],
      "execution_count": 5,
      "metadata": {
        "collapsed": false,
        "outputHidden": false,
        "inputHidden": false
      }
    },
    {
      "cell_type": "code",
      "source": [
        "def calc_daily_returns(closes):\n",
        "    return np.log(closes/closes.shift(1))"
      ],
      "outputs": [],
      "execution_count": 6,
      "metadata": {
        "collapsed": false,
        "outputHidden": false,
        "inputHidden": false
      }
    },
    {
      "cell_type": "code",
      "source": [
        "daily_returns = calc_daily_returns(closes)\n",
        "daily_returns = daily_returns.dropna()\n",
        "daily_returns[:5]"
      ],
      "outputs": [
        {
          "output_type": "execute_result",
          "execution_count": 7,
          "data": {
            "text/plain": [
              "                  FB       JNJ       LMT\n",
              "Date                                    \n",
              "2012-05-21 -0.116378  0.001893  0.010216\n",
              "2012-05-22 -0.093255  0.000787  0.000717\n",
              "2012-05-23  0.031749 -0.003943 -0.004071\n",
              "2012-05-24  0.031680  0.006997  0.000240\n",
              "2012-05-25 -0.034497 -0.009394 -0.007948"
            ],
            "text/html": [
              "<div>\n",
              "<style scoped>\n",
              "    .dataframe tbody tr th:only-of-type {\n",
              "        vertical-align: middle;\n",
              "    }\n",
              "\n",
              "    .dataframe tbody tr th {\n",
              "        vertical-align: top;\n",
              "    }\n",
              "\n",
              "    .dataframe thead th {\n",
              "        text-align: right;\n",
              "    }\n",
              "</style>\n",
              "<table border=\"1\" class=\"dataframe\">\n",
              "  <thead>\n",
              "    <tr style=\"text-align: right;\">\n",
              "      <th></th>\n",
              "      <th>FB</th>\n",
              "      <th>JNJ</th>\n",
              "      <th>LMT</th>\n",
              "    </tr>\n",
              "    <tr>\n",
              "      <th>Date</th>\n",
              "      <th></th>\n",
              "      <th></th>\n",
              "      <th></th>\n",
              "    </tr>\n",
              "  </thead>\n",
              "  <tbody>\n",
              "    <tr>\n",
              "      <th>2012-05-21</th>\n",
              "      <td>-0.116378</td>\n",
              "      <td>0.001893</td>\n",
              "      <td>0.010216</td>\n",
              "    </tr>\n",
              "    <tr>\n",
              "      <th>2012-05-22</th>\n",
              "      <td>-0.093255</td>\n",
              "      <td>0.000787</td>\n",
              "      <td>0.000717</td>\n",
              "    </tr>\n",
              "    <tr>\n",
              "      <th>2012-05-23</th>\n",
              "      <td>0.031749</td>\n",
              "      <td>-0.003943</td>\n",
              "      <td>-0.004071</td>\n",
              "    </tr>\n",
              "    <tr>\n",
              "      <th>2012-05-24</th>\n",
              "      <td>0.031680</td>\n",
              "      <td>0.006997</td>\n",
              "      <td>0.000240</td>\n",
              "    </tr>\n",
              "    <tr>\n",
              "      <th>2012-05-25</th>\n",
              "      <td>-0.034497</td>\n",
              "      <td>-0.009394</td>\n",
              "      <td>-0.007948</td>\n",
              "    </tr>\n",
              "  </tbody>\n",
              "</table>\n",
              "</div>"
            ]
          },
          "metadata": {}
        }
      ],
      "execution_count": 7,
      "metadata": {
        "collapsed": false,
        "outputHidden": false,
        "inputHidden": false
      }
    },
    {
      "cell_type": "code",
      "source": [
        "def calc_month_returns(daily_returns):\n",
        "    monthly = np.exp(daily_returns.groupby(lambda date: date.month).sum())-1\n",
        "    return monthly"
      ],
      "outputs": [],
      "execution_count": 8,
      "metadata": {
        "collapsed": false,
        "outputHidden": false,
        "inputHidden": false
      }
    },
    {
      "cell_type": "code",
      "source": [
        "month_returns = calc_month_returns(daily_returns)\n",
        "month_returns"
      ],
      "outputs": [
        {
          "output_type": "execute_result",
          "execution_count": 9,
          "data": {
            "text/plain": [
              "          FB       JNJ       LMT\n",
              "1   0.667468 -0.035793  0.009406\n",
              "2  -0.053291  0.169760  0.309037\n",
              "3  -0.138119  0.159261  0.105750\n",
              "4   0.210959  0.077376 -0.048124\n",
              "5  -0.179184  0.024447  0.184214\n",
              "6   0.200839  0.247562  0.018851\n",
              "7   0.319302  0.241532  0.554246\n",
              "8  -0.037284 -0.110904  0.106437\n",
              "9   0.465323  0.043674  0.250755\n",
              "10  0.041294  0.281684  0.005145\n",
              "11  0.083944  0.070452  0.280294\n",
              "12  0.005143 -0.130625 -0.145793"
            ],
            "text/html": [
              "<div>\n",
              "<style scoped>\n",
              "    .dataframe tbody tr th:only-of-type {\n",
              "        vertical-align: middle;\n",
              "    }\n",
              "\n",
              "    .dataframe tbody tr th {\n",
              "        vertical-align: top;\n",
              "    }\n",
              "\n",
              "    .dataframe thead th {\n",
              "        text-align: right;\n",
              "    }\n",
              "</style>\n",
              "<table border=\"1\" class=\"dataframe\">\n",
              "  <thead>\n",
              "    <tr style=\"text-align: right;\">\n",
              "      <th></th>\n",
              "      <th>FB</th>\n",
              "      <th>JNJ</th>\n",
              "      <th>LMT</th>\n",
              "    </tr>\n",
              "  </thead>\n",
              "  <tbody>\n",
              "    <tr>\n",
              "      <th>1</th>\n",
              "      <td>0.667468</td>\n",
              "      <td>-0.035793</td>\n",
              "      <td>0.009406</td>\n",
              "    </tr>\n",
              "    <tr>\n",
              "      <th>2</th>\n",
              "      <td>-0.053291</td>\n",
              "      <td>0.169760</td>\n",
              "      <td>0.309037</td>\n",
              "    </tr>\n",
              "    <tr>\n",
              "      <th>3</th>\n",
              "      <td>-0.138119</td>\n",
              "      <td>0.159261</td>\n",
              "      <td>0.105750</td>\n",
              "    </tr>\n",
              "    <tr>\n",
              "      <th>4</th>\n",
              "      <td>0.210959</td>\n",
              "      <td>0.077376</td>\n",
              "      <td>-0.048124</td>\n",
              "    </tr>\n",
              "    <tr>\n",
              "      <th>5</th>\n",
              "      <td>-0.179184</td>\n",
              "      <td>0.024447</td>\n",
              "      <td>0.184214</td>\n",
              "    </tr>\n",
              "    <tr>\n",
              "      <th>6</th>\n",
              "      <td>0.200839</td>\n",
              "      <td>0.247562</td>\n",
              "      <td>0.018851</td>\n",
              "    </tr>\n",
              "    <tr>\n",
              "      <th>7</th>\n",
              "      <td>0.319302</td>\n",
              "      <td>0.241532</td>\n",
              "      <td>0.554246</td>\n",
              "    </tr>\n",
              "    <tr>\n",
              "      <th>8</th>\n",
              "      <td>-0.037284</td>\n",
              "      <td>-0.110904</td>\n",
              "      <td>0.106437</td>\n",
              "    </tr>\n",
              "    <tr>\n",
              "      <th>9</th>\n",
              "      <td>0.465323</td>\n",
              "      <td>0.043674</td>\n",
              "      <td>0.250755</td>\n",
              "    </tr>\n",
              "    <tr>\n",
              "      <th>10</th>\n",
              "      <td>0.041294</td>\n",
              "      <td>0.281684</td>\n",
              "      <td>0.005145</td>\n",
              "    </tr>\n",
              "    <tr>\n",
              "      <th>11</th>\n",
              "      <td>0.083944</td>\n",
              "      <td>0.070452</td>\n",
              "      <td>0.280294</td>\n",
              "    </tr>\n",
              "    <tr>\n",
              "      <th>12</th>\n",
              "      <td>0.005143</td>\n",
              "      <td>-0.130625</td>\n",
              "      <td>-0.145793</td>\n",
              "    </tr>\n",
              "  </tbody>\n",
              "</table>\n",
              "</div>"
            ]
          },
          "metadata": {}
        }
      ],
      "execution_count": 9,
      "metadata": {
        "collapsed": false,
        "outputHidden": false,
        "inputHidden": false
      }
    },
    {
      "cell_type": "code",
      "source": [
        "def calc_annual_returns(daily_returns):\n",
        "    grouped = np.exp(daily_returns.groupby(lambda date: date.year).sum())-1\n",
        "    return grouped"
      ],
      "outputs": [],
      "execution_count": 10,
      "metadata": {
        "collapsed": false,
        "outputHidden": false,
        "inputHidden": false
      }
    },
    {
      "cell_type": "code",
      "source": [
        "annual_returns = calc_annual_returns(daily_returns)\n",
        "annual_returns"
      ],
      "outputs": [
        {
          "output_type": "execute_result",
          "execution_count": 11,
          "data": {
            "text/plain": [
              "            FB       JNJ       LMT\n",
              "2012 -0.303688  0.137447  0.154956\n",
              "2013  1.052968  0.346244  0.681139\n",
              "2014  0.427630  0.173373  0.347909\n",
              "2015  0.341451  0.011422  0.161846\n",
              "2016  0.099274  0.153292  0.183716\n",
              "2017  0.533768  0.244253  0.317660\n",
              "2018 -0.257112 -0.051315 -0.163459"
            ],
            "text/html": [
              "<div>\n",
              "<style scoped>\n",
              "    .dataframe tbody tr th:only-of-type {\n",
              "        vertical-align: middle;\n",
              "    }\n",
              "\n",
              "    .dataframe tbody tr th {\n",
              "        vertical-align: top;\n",
              "    }\n",
              "\n",
              "    .dataframe thead th {\n",
              "        text-align: right;\n",
              "    }\n",
              "</style>\n",
              "<table border=\"1\" class=\"dataframe\">\n",
              "  <thead>\n",
              "    <tr style=\"text-align: right;\">\n",
              "      <th></th>\n",
              "      <th>FB</th>\n",
              "      <th>JNJ</th>\n",
              "      <th>LMT</th>\n",
              "    </tr>\n",
              "  </thead>\n",
              "  <tbody>\n",
              "    <tr>\n",
              "      <th>2012</th>\n",
              "      <td>-0.303688</td>\n",
              "      <td>0.137447</td>\n",
              "      <td>0.154956</td>\n",
              "    </tr>\n",
              "    <tr>\n",
              "      <th>2013</th>\n",
              "      <td>1.052968</td>\n",
              "      <td>0.346244</td>\n",
              "      <td>0.681139</td>\n",
              "    </tr>\n",
              "    <tr>\n",
              "      <th>2014</th>\n",
              "      <td>0.427630</td>\n",
              "      <td>0.173373</td>\n",
              "      <td>0.347909</td>\n",
              "    </tr>\n",
              "    <tr>\n",
              "      <th>2015</th>\n",
              "      <td>0.341451</td>\n",
              "      <td>0.011422</td>\n",
              "      <td>0.161846</td>\n",
              "    </tr>\n",
              "    <tr>\n",
              "      <th>2016</th>\n",
              "      <td>0.099274</td>\n",
              "      <td>0.153292</td>\n",
              "      <td>0.183716</td>\n",
              "    </tr>\n",
              "    <tr>\n",
              "      <th>2017</th>\n",
              "      <td>0.533768</td>\n",
              "      <td>0.244253</td>\n",
              "      <td>0.317660</td>\n",
              "    </tr>\n",
              "    <tr>\n",
              "      <th>2018</th>\n",
              "      <td>-0.257112</td>\n",
              "      <td>-0.051315</td>\n",
              "      <td>-0.163459</td>\n",
              "    </tr>\n",
              "  </tbody>\n",
              "</table>\n",
              "</div>"
            ]
          },
          "metadata": {}
        }
      ],
      "execution_count": 11,
      "metadata": {
        "collapsed": false,
        "outputHidden": false,
        "inputHidden": false
      }
    },
    {
      "cell_type": "code",
      "source": [
        "def calc_portfolio_var(returns, weights=None):\n",
        "    if (weights is None):\n",
        "        weights = np.ones(returns.columns.size) / returns.columns.size\n",
        "    sigma = np.cov(returns.T,ddof=0)\n",
        "    var = (weights * sigma * weights.T).sum()\n",
        "    return var"
      ],
      "outputs": [],
      "execution_count": 12,
      "metadata": {
        "collapsed": false,
        "outputHidden": false,
        "inputHidden": false
      }
    },
    {
      "cell_type": "code",
      "source": [
        "calc_portfolio_var(annual_returns)"
      ],
      "outputs": [
        {
          "output_type": "execute_result",
          "execution_count": 13,
          "data": {
            "text/plain": [
              "0.06497657266656308"
            ]
          },
          "metadata": {}
        }
      ],
      "execution_count": 13,
      "metadata": {
        "collapsed": false,
        "outputHidden": false,
        "inputHidden": false
      }
    },
    {
      "cell_type": "code",
      "source": [
        "def Sharpe_ratio(returns, weights = None, risk_free_rate = 0.001):\n",
        "    n = returns.columns.size\n",
        "    if (weights is None): \n",
        "        weights = np.ones(n)/n\n",
        "        var = calc_portfolio_var(returns, weights)\n",
        "        means = returns.mean()\n",
        "        sr = (means.dot(weights) - risk_free_rate)/np.sqrt(var)\n",
        "        return sr"
      ],
      "outputs": [],
      "execution_count": 14,
      "metadata": {
        "collapsed": false,
        "outputHidden": false,
        "inputHidden": false
      }
    },
    {
      "cell_type": "code",
      "source": [
        "Sharpe_ratio(daily_returns)"
      ],
      "outputs": [
        {
          "output_type": "execute_result",
          "execution_count": 15,
          "data": {
            "text/plain": [
              "-0.027644734305394318"
            ]
          },
          "metadata": {}
        }
      ],
      "execution_count": 15,
      "metadata": {
        "collapsed": false,
        "outputHidden": false,
        "inputHidden": false
      }
    }
  ],
  "metadata": {
    "kernel_info": {
      "name": "python3"
    },
    "language_info": {
      "version": "3.5.5",
      "file_extension": ".py",
      "codemirror_mode": {
        "version": 3,
        "name": "ipython"
      },
      "nbconvert_exporter": "python",
      "pygments_lexer": "ipython3",
      "mimetype": "text/x-python",
      "name": "python"
    },
    "kernelspec": {
      "name": "python3",
      "language": "python",
      "display_name": "Python 3"
    },
    "nteract": {
      "version": "0.15.0"
    }
  },
  "nbformat": 4,
  "nbformat_minor": 0
}