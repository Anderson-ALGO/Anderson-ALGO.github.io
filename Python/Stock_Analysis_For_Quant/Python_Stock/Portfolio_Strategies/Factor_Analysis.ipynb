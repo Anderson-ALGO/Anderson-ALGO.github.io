{
  "cells": [
    {
      "cell_type": "markdown",
      "source": [
        "# Factor Analysis Portfolio"
      ],
      "metadata": {}
    },
    {
      "cell_type": "code",
      "source": [
        "import numpy as np\n",
        "import pandas as pd\n",
        "import matplotlib.pyplot as plt\n",
        "import seaborn as sns\n",
        "import math\n",
        "\n",
        "import warnings\n",
        "warnings.filterwarnings(\"ignore\")\n",
        "\n",
        "# fix_yahoo_finance is used to fetch data \n",
        "import fix_yahoo_finance as yf\n",
        "yf.pdr_override()"
      ],
      "outputs": [],
      "execution_count": 1,
      "metadata": {
        "collapsed": false,
        "outputHidden": false,
        "inputHidden": false
      }
    },
    {
      "cell_type": "code",
      "source": [
        "# input\n",
        "symbols = ['AAPL','MSFT','AMD','NVDA']\n",
        "start = '2012-01-01'\n",
        "end = '2019-09-11'"
      ],
      "outputs": [],
      "execution_count": 2,
      "metadata": {
        "collapsed": false,
        "outputHidden": false,
        "inputHidden": false
      }
    },
    {
      "cell_type": "code",
      "source": [
        "df = pd.DataFrame()\n",
        "for s in symbols:\n",
        "    df[s] = yf.download(s,start,end)['Adj Close']"
      ],
      "outputs": [
        {
          "output_type": "stream",
          "name": "stdout",
          "text": [
            "[*********************100%***********************]  1 of 1 downloaded\n",
            "[*********************100%***********************]  1 of 1 downloaded\n",
            "[*********************100%***********************]  1 of 1 downloaded\n",
            "[*********************100%***********************]  1 of 1 downloaded\n"
          ]
        }
      ],
      "execution_count": 3,
      "metadata": {
        "collapsed": false,
        "outputHidden": false,
        "inputHidden": false
      }
    },
    {
      "cell_type": "code",
      "source": [
        "df.head()"
      ],
      "outputs": [
        {
          "output_type": "execute_result",
          "execution_count": 4,
          "data": {
            "text/plain": [
              "                 AAPL       MSFT   AMD       NVDA\n",
              "Date                                             \n",
              "2012-01-03  51.269413  22.156071  5.48  12.939396\n",
              "2012-01-04  51.544937  22.677486  5.46  13.086854\n",
              "2012-01-05  52.117188  22.909233  5.46  13.556875\n",
              "2012-01-06  52.662014  23.265116  5.43  13.400198\n",
              "2012-01-09  52.578468  22.958887  5.59  13.400198"
            ],
            "text/html": [
              "<div>\n",
              "<style scoped>\n",
              "    .dataframe tbody tr th:only-of-type {\n",
              "        vertical-align: middle;\n",
              "    }\n",
              "\n",
              "    .dataframe tbody tr th {\n",
              "        vertical-align: top;\n",
              "    }\n",
              "\n",
              "    .dataframe thead th {\n",
              "        text-align: right;\n",
              "    }\n",
              "</style>\n",
              "<table border=\"1\" class=\"dataframe\">\n",
              "  <thead>\n",
              "    <tr style=\"text-align: right;\">\n",
              "      <th></th>\n",
              "      <th>AAPL</th>\n",
              "      <th>MSFT</th>\n",
              "      <th>AMD</th>\n",
              "      <th>NVDA</th>\n",
              "    </tr>\n",
              "    <tr>\n",
              "      <th>Date</th>\n",
              "      <th></th>\n",
              "      <th></th>\n",
              "      <th></th>\n",
              "      <th></th>\n",
              "    </tr>\n",
              "  </thead>\n",
              "  <tbody>\n",
              "    <tr>\n",
              "      <th>2012-01-03</th>\n",
              "      <td>51.269413</td>\n",
              "      <td>22.156071</td>\n",
              "      <td>5.48</td>\n",
              "      <td>12.939396</td>\n",
              "    </tr>\n",
              "    <tr>\n",
              "      <th>2012-01-04</th>\n",
              "      <td>51.544937</td>\n",
              "      <td>22.677486</td>\n",
              "      <td>5.46</td>\n",
              "      <td>13.086854</td>\n",
              "    </tr>\n",
              "    <tr>\n",
              "      <th>2012-01-05</th>\n",
              "      <td>52.117188</td>\n",
              "      <td>22.909233</td>\n",
              "      <td>5.46</td>\n",
              "      <td>13.556875</td>\n",
              "    </tr>\n",
              "    <tr>\n",
              "      <th>2012-01-06</th>\n",
              "      <td>52.662014</td>\n",
              "      <td>23.265116</td>\n",
              "      <td>5.43</td>\n",
              "      <td>13.400198</td>\n",
              "    </tr>\n",
              "    <tr>\n",
              "      <th>2012-01-09</th>\n",
              "      <td>52.578468</td>\n",
              "      <td>22.958887</td>\n",
              "      <td>5.59</td>\n",
              "      <td>13.400198</td>\n",
              "    </tr>\n",
              "  </tbody>\n",
              "</table>\n",
              "</div>"
            ]
          },
          "metadata": {}
        }
      ],
      "execution_count": 4,
      "metadata": {
        "collapsed": false,
        "outputHidden": false,
        "inputHidden": false
      }
    },
    {
      "cell_type": "code",
      "source": [
        "df.tail()"
      ],
      "outputs": [
        {
          "output_type": "execute_result",
          "execution_count": 5,
          "data": {
            "text/plain": [
              "                  AAPL        MSFT        AMD        NVDA\n",
              "Date                                                     \n",
              "2019-09-05  213.279999  140.050003  31.500000  179.740005\n",
              "2019-09-06  213.259995  139.100006  30.559999  178.649994\n",
              "2019-09-09  214.169998  137.520004  30.500000  180.500000\n",
              "2019-09-10  216.699997  136.080002  30.230000  183.179993\n",
              "2019-09-11  223.589996  136.119995  29.760000  184.330002"
            ],
            "text/html": [
              "<div>\n",
              "<style scoped>\n",
              "    .dataframe tbody tr th:only-of-type {\n",
              "        vertical-align: middle;\n",
              "    }\n",
              "\n",
              "    .dataframe tbody tr th {\n",
              "        vertical-align: top;\n",
              "    }\n",
              "\n",
              "    .dataframe thead th {\n",
              "        text-align: right;\n",
              "    }\n",
              "</style>\n",
              "<table border=\"1\" class=\"dataframe\">\n",
              "  <thead>\n",
              "    <tr style=\"text-align: right;\">\n",
              "      <th></th>\n",
              "      <th>AAPL</th>\n",
              "      <th>MSFT</th>\n",
              "      <th>AMD</th>\n",
              "      <th>NVDA</th>\n",
              "    </tr>\n",
              "    <tr>\n",
              "      <th>Date</th>\n",
              "      <th></th>\n",
              "      <th></th>\n",
              "      <th></th>\n",
              "      <th></th>\n",
              "    </tr>\n",
              "  </thead>\n",
              "  <tbody>\n",
              "    <tr>\n",
              "      <th>2019-09-05</th>\n",
              "      <td>213.279999</td>\n",
              "      <td>140.050003</td>\n",
              "      <td>31.500000</td>\n",
              "      <td>179.740005</td>\n",
              "    </tr>\n",
              "    <tr>\n",
              "      <th>2019-09-06</th>\n",
              "      <td>213.259995</td>\n",
              "      <td>139.100006</td>\n",
              "      <td>30.559999</td>\n",
              "      <td>178.649994</td>\n",
              "    </tr>\n",
              "    <tr>\n",
              "      <th>2019-09-09</th>\n",
              "      <td>214.169998</td>\n",
              "      <td>137.520004</td>\n",
              "      <td>30.500000</td>\n",
              "      <td>180.500000</td>\n",
              "    </tr>\n",
              "    <tr>\n",
              "      <th>2019-09-10</th>\n",
              "      <td>216.699997</td>\n",
              "      <td>136.080002</td>\n",
              "      <td>30.230000</td>\n",
              "      <td>183.179993</td>\n",
              "    </tr>\n",
              "    <tr>\n",
              "      <th>2019-09-11</th>\n",
              "      <td>223.589996</td>\n",
              "      <td>136.119995</td>\n",
              "      <td>29.760000</td>\n",
              "      <td>184.330002</td>\n",
              "    </tr>\n",
              "  </tbody>\n",
              "</table>\n",
              "</div>"
            ]
          },
          "metadata": {}
        }
      ],
      "execution_count": 5,
      "metadata": {
        "collapsed": false,
        "outputHidden": false,
        "inputHidden": false
      }
    },
    {
      "cell_type": "code",
      "source": [
        "from factor_analyzer import FactorAnalyzer"
      ],
      "outputs": [],
      "execution_count": 6,
      "metadata": {
        "collapsed": false,
        "outputHidden": false,
        "inputHidden": false
      }
    },
    {
      "cell_type": "code",
      "source": [
        "fa = FactorAnalyzer(rotation=None)"
      ],
      "outputs": [],
      "execution_count": 7,
      "metadata": {
        "collapsed": false,
        "outputHidden": false,
        "inputHidden": false
      }
    },
    {
      "cell_type": "code",
      "source": [
        "fa.fit(df)"
      ],
      "outputs": [
        {
          "output_type": "execute_result",
          "execution_count": 8,
          "data": {
            "text/plain": [
              "FactorAnalyzer(bounds=(0.005, 1), impute='median', is_corr_matrix=False,\n",
              "        method='minres', n_factors=3, rotation=None, rotation_kwargs={},\n",
              "        use_smc=True)"
            ]
          },
          "metadata": {}
        }
      ],
      "execution_count": 8,
      "metadata": {
        "collapsed": false,
        "outputHidden": false,
        "inputHidden": false
      }
    },
    {
      "cell_type": "code",
      "source": [
        "fa.get_communalities()"
      ],
      "outputs": [
        {
          "output_type": "execute_result",
          "execution_count": 9,
          "data": {
            "text/plain": [
              "array([0.97268878, 0.99475467, 0.87073182, 0.86050823])"
            ]
          },
          "metadata": {}
        }
      ],
      "execution_count": 9,
      "metadata": {
        "collapsed": false,
        "outputHidden": false,
        "inputHidden": false
      }
    },
    {
      "cell_type": "code",
      "source": [
        "ev, v = fa.get_eigenvalues()\n",
        "ev"
      ],
      "outputs": [
        {
          "output_type": "execute_result",
          "execution_count": 20,
          "data": {
            "text/plain": [
              "array([3.64585553, 0.23044865, 0.09047303, 0.03322279])"
            ]
          },
          "metadata": {}
        }
      ],
      "execution_count": 20,
      "metadata": {
        "collapsed": false,
        "outputHidden": false,
        "inputHidden": false
      }
    },
    {
      "cell_type": "code",
      "source": [
        "plt.scatter(range(1,df.shape[1]+1),ev)\n",
        "plt.plot(range(1,df.shape[1]+1),ev)\n",
        "plt.title('Factor Analysis')\n",
        "plt.xlabel('Factors')\n",
        "plt.ylabel('Eigenvalue')\n",
        "plt.grid()\n",
        "plt.show()"
      ],
      "outputs": [
        {
          "output_type": "display_data",
          "data": {
            "image/png": "[encoded data removed]",
            "text/plain": [
              "<Figure size 432x288 with 1 Axes>"
            ]
          },
          "metadata": {}
        }
      ],
      "execution_count": 21,
      "metadata": {
        "collapsed": false,
        "outputHidden": false,
        "inputHidden": false
      }
    },
    {
      "cell_type": "code",
      "source": [
        "from factor_analyzer.factor_analyzer import calculate_bartlett_sphericity\n",
        "chi_square_value,p_value=calculate_bartlett_sphericity(df)\n",
        "chi_square_value, p_value"
      ],
      "outputs": [
        {
          "output_type": "execute_result",
          "execution_count": 10,
          "data": {
            "text/plain": [
              "(11558.982758095883, 0.0)"
            ]
          },
          "metadata": {}
        }
      ],
      "execution_count": 10,
      "metadata": {
        "collapsed": false,
        "outputHidden": false,
        "inputHidden": false
      }
    },
    {
      "cell_type": "code",
      "source": [
        "from factor_analyzer.factor_analyzer import calculate_kmo\n",
        "kmo_all,kmo_model=calculate_kmo(df)"
      ],
      "outputs": [],
      "execution_count": 11,
      "metadata": {
        "collapsed": false,
        "outputHidden": false,
        "inputHidden": false
      }
    },
    {
      "cell_type": "code",
      "source": [
        "kmo_model"
      ],
      "outputs": [
        {
          "output_type": "execute_result",
          "execution_count": 12,
          "data": {
            "text/plain": [
              "0.7960086410757489"
            ]
          },
          "metadata": {}
        }
      ],
      "execution_count": 12,
      "metadata": {
        "collapsed": false,
        "outputHidden": false,
        "inputHidden": false
      }
    },
    {
      "cell_type": "code",
      "source": [
        "from factor_analyzer import (ConfirmatoryFactorAnalyzer,              ModelSpecificationParser)"
      ],
      "outputs": [],
      "execution_count": 13,
      "metadata": {
        "collapsed": false,
        "outputHidden": false,
        "inputHidden": false
      }
    },
    {
      "cell_type": "code",
      "source": [
        "model_spec = ModelSpecificationParser.parse_model_specification_from_dict(df)"
      ],
      "outputs": [],
      "execution_count": 14,
      "metadata": {
        "collapsed": false,
        "outputHidden": false,
        "inputHidden": false
      }
    },
    {
      "cell_type": "code",
      "source": [
        "cfa = ConfirmatoryFactorAnalyzer(model_spec, disp=False)"
      ],
      "outputs": [],
      "execution_count": 15,
      "metadata": {
        "collapsed": false,
        "outputHidden": false,
        "inputHidden": false
      }
    },
    {
      "cell_type": "code",
      "source": [
        "cfa.fit(df.values)"
      ],
      "outputs": [
        {
          "output_type": "execute_result",
          "execution_count": 16,
          "data": {
            "text/plain": [
              "ConfirmatoryFactorAnalyzer(bounds=None, disp=False, impute='median',\n",
              "              is_cov_matrix=False, max_iter=200, n_obs=1935,\n",
              "              specification=<factor_analyzer.confirmatory_factor_analyzer.ModelSpecification object at 0x0000018224B65278>,\n",
              "              tol=None)"
            ]
          },
          "metadata": {}
        }
      ],
      "execution_count": 16,
      "metadata": {
        "collapsed": false,
        "outputHidden": false,
        "inputHidden": false
      }
    },
    {
      "cell_type": "code",
      "source": [
        "cfa.loadings_"
      ],
      "outputs": [
        {
          "output_type": "execute_result",
          "execution_count": 17,
          "data": {
            "text/plain": [
              "array([[1.46526724, 1.46526736, 1.46526718, 1.4652684 ],\n",
              "       [0.88884701, 0.8888463 , 0.88884723, 0.88884605],\n",
              "       [0.09607419, 0.0960753 , 0.09607442, 0.09607403],\n",
              "       [2.36864499, 2.36864292, 2.36864517, 2.36864525]])"
            ]
          },
          "metadata": {}
        }
      ],
      "execution_count": 17,
      "metadata": {
        "collapsed": false,
        "outputHidden": false,
        "inputHidden": false
      }
    },
    {
      "cell_type": "code",
      "source": [
        "cfa.factor_varcovs_"
      ],
      "outputs": [
        {
          "output_type": "execute_result",
          "execution_count": 18,
          "data": {
            "text/plain": [
              "array([[1.        , 6.91758045, 6.91758839, 6.91752822],\n",
              "       [6.91758045, 1.        , 6.91775377, 6.91769158],\n",
              "       [6.91758839, 6.91775377, 1.        , 6.91771481],\n",
              "       [6.91752822, 6.91769158, 6.91771481, 1.        ]])"
            ]
          },
          "metadata": {}
        }
      ],
      "execution_count": 18,
      "metadata": {
        "collapsed": false,
        "outputHidden": false,
        "inputHidden": false
      }
    },
    {
      "cell_type": "code",
      "source": [
        "cfa.transform(df.values)"
      ],
      "outputs": [
        {
          "output_type": "execute_result",
          "execution_count": 19,
          "data": {
            "text/plain": [
              "array([[  3717151.62284127,  -5538394.40105194,   3989013.91270873,\n",
              "         -2167807.78566406],\n",
              "       [  3751308.29182493,  -5503202.49454121,   4067244.67896649,\n",
              "         -2315386.93769271],\n",
              "       [  3701409.57386969,  -5455250.20980751,   4000948.68926051,\n",
              "         -2247144.2377661 ],\n",
              "       ...,\n",
              "       [ -4851642.58724023,  19844473.81027293,    886569.48048959,\n",
              "        -15879331.92596557],\n",
              "       [ -5337722.68804131,  19714846.10185819,    -47453.6896819 ,\n",
              "        -14329600.22115603],\n",
              "       [ -6654899.711953  ,  20658818.77332188,  -1952900.25663411,\n",
              "        -12050947.44646332]])"
            ]
          },
          "metadata": {}
        }
      ],
      "execution_count": 19,
      "metadata": {
        "collapsed": false,
        "outputHidden": false,
        "inputHidden": false
      }
    }
  ],
  "metadata": {
    "kernel_info": {
      "name": "python3"
    },
    "language_info": {
      "version": "3.5.5",
      "nbconvert_exporter": "python",
      "codemirror_mode": {
        "version": 3,
        "name": "ipython"
      },
      "pygments_lexer": "ipython3",
      "mimetype": "text/x-python",
      "name": "python",
      "file_extension": ".py"
    },
    "kernelspec": {
      "name": "python3",
      "language": "python",
      "display_name": "Python 3"
    },
    "nteract": {
      "version": "0.15.0"
    }
  },
  "nbformat": 4,
  "nbformat_minor": 0
}