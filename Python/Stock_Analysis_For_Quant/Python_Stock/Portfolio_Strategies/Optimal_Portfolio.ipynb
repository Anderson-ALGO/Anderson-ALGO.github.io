{
  "cells": [
    {
      "cell_type": "markdown",
      "source": [
        "# Constructing an Optimal Portfolio"
      ],
      "metadata": {}
    },
    {
      "cell_type": "code",
      "source": [
        "import numpy as np\n",
        "import pandas as pd\n",
        "import matplotlib.pyplot as plt\n",
        "import seaborn as sns\n",
        "from scipy.optimize import fmin\n",
        "import math\n",
        "\n",
        "import warnings\n",
        "warnings.filterwarnings(\"ignore\")\n",
        "\n",
        "# fix_yahoo_finance is used to fetch data \n",
        "import fix_yahoo_finance as yf\n",
        "yf.pdr_override()"
      ],
      "outputs": [],
      "execution_count": 1,
      "metadata": {
        "collapsed": false,
        "outputHidden": false,
        "inputHidden": false
      }
    },
    {
      "cell_type": "code",
      "source": [
        "# input\n",
        "symbols = ['BAC','AAPL', 'JNJ']\n",
        "start = '2012-01-01'\n",
        "end = '2019-01-01'\n",
        "\n",
        "rf = 0.003"
      ],
      "outputs": [],
      "execution_count": 2,
      "metadata": {
        "collapsed": false,
        "outputHidden": false,
        "inputHidden": false
      }
    },
    {
      "cell_type": "code",
      "source": [
        "def annual_returns(symbols, start, end):\n",
        "    df = yf.download(symbols,start,end)['Adj Close']\n",
        "    log_rets = np.log(df) - np.log(df.shift(1))\n",
        "    date = []\n",
        "    d0 = df.index\n",
        "    for i in range(0, len(log_rets)):\n",
        "        date.append(d0[i].strftime(\"%Y\"))\n",
        "    y = pd.DataFrame(log_rets, date, columns = [symbols])\n",
        "    return np.exp(y.groupby(y.index).sum()) - 1"
      ],
      "outputs": [],
      "execution_count": 3,
      "metadata": {
        "collapsed": false,
        "outputHidden": false,
        "inputHidden": false
      }
    },
    {
      "cell_type": "code",
      "source": [
        "def portfolio_var(M, W):\n",
        "    cor = np.corrcoef(M.T)\n",
        "    vol = np.std(M, axis=0)\n",
        "    var = 0.0\n",
        "    for i in range(n):\n",
        "        for j in range(n):\n",
        "            var += W[i] * W[j] * vol[i] * vol[j] * cor[i, j]\n",
        "    return var"
      ],
      "outputs": [],
      "execution_count": 4,
      "metadata": {
        "collapsed": false,
        "outputHidden": false,
        "inputHidden": false
      }
    },
    {
      "cell_type": "code",
      "source": [
        "def sharpe(M, W):\n",
        "    var = portfolio_var(M, W)\n",
        "    mean_return = np.mean(M, axis=0)\n",
        "    ret = np.array(mean_return)\n",
        "    return (np.dot(W, ret) - rf)/ np.sqrt(252)"
      ],
      "outputs": [],
      "execution_count": 5,
      "metadata": {
        "collapsed": false,
        "outputHidden": false,
        "inputHidden": false
      }
    },
    {
      "cell_type": "code",
      "source": [
        "def negative_sharpe_n_minus_1_stock(W):\n",
        "    w2 = np.append(W, 1-sum(W))\n",
        "    return -sharpe(M, w2)"
      ],
      "outputs": [],
      "execution_count": 6,
      "metadata": {
        "collapsed": false,
        "outputHidden": false,
        "inputHidden": false
      }
    },
    {
      "cell_type": "code",
      "source": [
        "n = len(symbols)\n",
        "x2 = annual_returns(symbols[0], start, end)\n",
        "for i in range(1,n):\n",
        "    x_ = annual_returns(symbols[i], start, end)\n",
        "    x2 = pd.merge(x2, x_, left_index=True, right_index=True)\n",
        "    \n",
        "M = np.array(x2)"
      ],
      "outputs": [
        {
          "output_type": "stream",
          "name": "stdout",
          "text": [
            "[*********************100%***********************]  1 of 1 downloaded\n",
            "[*********************100%***********************]  1 of 1 downloaded\n",
            "[*********************100%***********************]  1 of 1 downloaded\n"
          ]
        }
      ],
      "execution_count": 7,
      "metadata": {
        "collapsed": false,
        "outputHidden": false,
        "inputHidden": false
      }
    },
    {
      "cell_type": "code",
      "source": [
        "print('Efficient Portfolio (Mean-Variance)')\n",
        "print('Symbols: ', symbols)\n",
        "print('Sharpe ratio for an equal-weighted portfolio')\n",
        "equal_weighted = np.ones(n, dtype=float) * 1.0/n\n",
        "print(equal_weighted)\n",
        "print(round(sharpe(M, equal_weighted), 4))"
      ],
      "outputs": [
        {
          "output_type": "stream",
          "name": "stdout",
          "text": [
            "Efficient Portfolio (Mean-Variance)\n",
            "Symbols:  ['BAC', 'AAPL', 'JNJ']\n",
            "Sharpe ratio for an equal-weighted portfolio\n",
            "[0.33333333 0.33333333 0.33333333]\n",
            "-0.0002\n"
          ]
        }
      ],
      "execution_count": 8,
      "metadata": {
        "collapsed": false,
        "outputHidden": false,
        "inputHidden": false
      }
    },
    {
      "cell_type": "code",
      "source": [
        "w0 = np.ones(n-1, dtype=float) * 1.0 / n\n",
        "w1 = fmin(negative_sharpe_n_minus_1_stock, w0)\n",
        "\n",
        "final_weight = np.append(w1, 1 - sum(w1))\n",
        "final_sharpe = sharpe(M, final_weight)\n",
        "\n",
        "print('Optimal weights:')\n",
        "print(final_weight)\n",
        "print('Sharpe ratio:')\n",
        "print(round(final_sharpe,4))"
      ],
      "outputs": [
        {
          "output_type": "stream",
          "name": "stdout",
          "text": [
            "Optimization terminated successfully.\n",
            "         Current function value: 0.000189\n",
            "         Iterations: 9\n",
            "         Function evaluations: 35\n",
            "Optimal weights:\n",
            "[0.33333333 0.33333333 0.33333333]\n",
            "Sharpe ratio:\n",
            "-0.0002\n"
          ]
        }
      ],
      "execution_count": 15,
      "metadata": {
        "collapsed": false,
        "outputHidden": false,
        "inputHidden": false
      }
    }
  ],
  "metadata": {
    "kernel_info": {
      "name": "python3"
    },
    "language_info": {
      "codemirror_mode": {
        "name": "ipython",
        "version": 3
      },
      "name": "python",
      "pygments_lexer": "ipython3",
      "file_extension": ".py",
      "nbconvert_exporter": "python",
      "version": "3.5.5",
      "mimetype": "text/x-python"
    },
    "kernelspec": {
      "name": "python3",
      "language": "python",
      "display_name": "Python 3"
    },
    "nteract": {
      "version": "0.15.0"
    }
  },
  "nbformat": 4,
  "nbformat_minor": 0
}