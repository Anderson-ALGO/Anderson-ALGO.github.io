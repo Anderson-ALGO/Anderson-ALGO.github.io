{
  "cells": [
    {
      "cell_type": "markdown",
      "source": [
        "# Long-term Investment in SPY"
      ],
      "metadata": {}
    },
    {
      "cell_type": "markdown",
      "source": [
        "https://finance.yahoo.com/quote/SPY?p=SPY"
      ],
      "metadata": {}
    },
    {
      "cell_type": "markdown",
      "source": [
        "If you have time, is good to invest in SPY for long-term investment."
      ],
      "metadata": {}
    },
    {
      "cell_type": "markdown",
      "source": [
        "## SPY Market"
      ],
      "metadata": {}
    },
    {
      "cell_type": "code",
      "source": [
        "import numpy as np\n",
        "import pandas as pd\n",
        "import matplotlib.pyplot as plt\n",
        "import matplotlib.mlab as mlab\n",
        "import seaborn as sns\n",
        "from tabulate import tabulate\n",
        "import math\n",
        "from scipy.stats import norm\n",
        "\n",
        "import warnings\n",
        "warnings.filterwarnings(\"ignore\")\n",
        "\n",
        "# fix_yahoo_finance is used to fetch data \n",
        "import fix_yahoo_finance as yf\n",
        "yf.pdr_override()"
      ],
      "outputs": [],
      "execution_count": 1,
      "metadata": {
        "collapsed": false,
        "outputHidden": false,
        "inputHidden": false
      }
    },
    {
      "cell_type": "code",
      "source": [
        "# input\n",
        "symbol = 'SPY'\n",
        "start = '2007-01-01'\n",
        "end = '2019-01-01'\n",
        "\n",
        "# Read data \n",
        "df = yf.download(symbol,start,end)['Adj Close']\n",
        "\n",
        "# View Columns\n",
        "df.head()"
      ],
      "outputs": [
        {
          "output_type": "stream",
          "name": "stdout",
          "text": [
            "[*********************100%***********************]  1 of 1 downloaded\n"
          ]
        },
        {
          "output_type": "execute_result",
          "execution_count": 2,
          "data": {
            "text/plain": [
              "Date\n",
              "2007-01-03    108.999954\n",
              "2007-01-04    109.231255\n",
              "2007-01-05    108.360008\n",
              "2007-01-08    108.861206\n",
              "2007-01-09    108.768616\n",
              "Name: Adj Close, dtype: float64"
            ]
          },
          "metadata": {}
        }
      ],
      "execution_count": 2,
      "metadata": {
        "collapsed": false,
        "outputHidden": false,
        "inputHidden": false
      }
    },
    {
      "cell_type": "code",
      "source": [
        "df.tail()"
      ],
      "outputs": [
        {
          "output_type": "execute_result",
          "execution_count": 3,
          "data": {
            "text/plain": [
              "Date\n",
              "2018-12-24    231.115768\n",
              "2018-12-26    242.792862\n",
              "2018-12-27    244.656876\n",
              "2018-12-28    244.341248\n",
              "2018-12-31    246.481415\n",
              "Name: Adj Close, dtype: float64"
            ]
          },
          "metadata": {}
        }
      ],
      "execution_count": 3,
      "metadata": {
        "collapsed": false,
        "outputHidden": false,
        "inputHidden": false
      }
    },
    {
      "cell_type": "code",
      "source": [
        "df.min()"
      ],
      "outputs": [
        {
          "output_type": "execute_result",
          "execution_count": 4,
          "data": {
            "text/plain": [
              "54.771"
            ]
          },
          "metadata": {}
        }
      ],
      "execution_count": 4,
      "metadata": {
        "collapsed": false,
        "outputHidden": false,
        "inputHidden": false
      }
    },
    {
      "cell_type": "code",
      "source": [
        "df.max()"
      ],
      "outputs": [
        {
          "output_type": "execute_result",
          "execution_count": 5,
          "data": {
            "text/plain": [
              "286.5625"
            ]
          },
          "metadata": {}
        }
      ],
      "execution_count": 5,
      "metadata": {
        "collapsed": false,
        "outputHidden": false,
        "inputHidden": false
      }
    },
    {
      "cell_type": "code",
      "source": [
        "from datetime import datetime\n",
        "from dateutil import relativedelta\n",
        "\n",
        "d1 = datetime.strptime(start, \"%Y-%m-%d\")\n",
        "d2 = datetime.strptime(end, \"%Y-%m-%d\")\n",
        "delta = relativedelta.relativedelta(d2,d1)\n",
        "print('How many years of investing?')\n",
        "print('%s years' % delta.years)"
      ],
      "outputs": [
        {
          "output_type": "stream",
          "name": "stdout",
          "text": [
            "How many years of investing?\n",
            "12 years\n"
          ]
        }
      ],
      "execution_count": 6,
      "metadata": {
        "collapsed": false,
        "outputHidden": false,
        "inputHidden": false
      }
    },
    {
      "cell_type": "markdown",
      "source": [
        "### Starting Cash with 100k to invest in Bonds"
      ],
      "metadata": {}
    },
    {
      "cell_type": "code",
      "source": [
        "Cash = 100000"
      ],
      "outputs": [],
      "execution_count": 7,
      "metadata": {
        "collapsed": false,
        "outputHidden": false,
        "inputHidden": false
      }
    },
    {
      "cell_type": "code",
      "source": [
        "print('Number of Shares:')\n",
        "shares = int(Cash/df.iloc[0])\n",
        "print('{}: {}'.format(symbol, shares))"
      ],
      "outputs": [
        {
          "output_type": "stream",
          "name": "stdout",
          "text": [
            "Number of Shares:\n",
            "SPY: 917\n"
          ]
        }
      ],
      "execution_count": 8,
      "metadata": {
        "collapsed": false,
        "outputHidden": false,
        "inputHidden": false
      }
    },
    {
      "cell_type": "code",
      "source": [
        "print('Beginning Value:')\n",
        "shares = int(Cash/df.iloc[0])\n",
        "Begin_Value = round(shares * df.iloc[0], 2)\n",
        "print('{}: ${}'.format(symbol, Begin_Value))"
      ],
      "outputs": [
        {
          "output_type": "stream",
          "name": "stdout",
          "text": [
            "Beginning Value:\n",
            "SPY: $99952.96\n"
          ]
        }
      ],
      "execution_count": 9,
      "metadata": {
        "collapsed": false,
        "outputHidden": false,
        "inputHidden": false
      }
    },
    {
      "cell_type": "code",
      "source": [
        "print('Current Value:')\n",
        "shares = int(Cash/df.iloc[0])\n",
        "Current_Value = round(shares * df.iloc[-1], 2)\n",
        "print('{}: ${}'.format(symbol, Current_Value))"
      ],
      "outputs": [
        {
          "output_type": "stream",
          "name": "stdout",
          "text": [
            "Current Value:\n",
            "SPY: $226023.46\n"
          ]
        }
      ],
      "execution_count": 10,
      "metadata": {
        "collapsed": false,
        "outputHidden": false,
        "inputHidden": false
      }
    },
    {
      "cell_type": "code",
      "source": [
        "returns = df.pct_change().dropna()"
      ],
      "outputs": [],
      "execution_count": 11,
      "metadata": {
        "collapsed": false,
        "outputHidden": false,
        "inputHidden": false
      }
    },
    {
      "cell_type": "code",
      "source": [
        "returns.head()"
      ],
      "outputs": [
        {
          "output_type": "execute_result",
          "execution_count": 12,
          "data": {
            "text/plain": [
              "Date\n",
              "2007-01-04    0.002122\n",
              "2007-01-05   -0.007976\n",
              "2007-01-08    0.004625\n",
              "2007-01-09   -0.000851\n",
              "2007-01-10    0.003332\n",
              "Name: Adj Close, dtype: float64"
            ]
          },
          "metadata": {}
        }
      ],
      "execution_count": 12,
      "metadata": {
        "collapsed": false,
        "outputHidden": false,
        "inputHidden": false
      }
    },
    {
      "cell_type": "code",
      "source": [
        "returns.tail()"
      ],
      "outputs": [
        {
          "output_type": "execute_result",
          "execution_count": 13,
          "data": {
            "text/plain": [
              "Date\n",
              "2018-12-24   -0.026423\n",
              "2018-12-26    0.050525\n",
              "2018-12-27    0.007677\n",
              "2018-12-28   -0.001290\n",
              "2018-12-31    0.008759\n",
              "Name: Adj Close, dtype: float64"
            ]
          },
          "metadata": {}
        }
      ],
      "execution_count": 13,
      "metadata": {
        "collapsed": false,
        "outputHidden": false,
        "inputHidden": false
      }
    },
    {
      "cell_type": "code",
      "source": [
        "# Calculate cumulative returns\n",
        "daily_cum_ret=(1+returns).cumprod()\n",
        "print(daily_cum_ret.tail())"
      ],
      "outputs": [
        {
          "output_type": "stream",
          "name": "stdout",
          "text": [
            "Date\n",
            "2018-12-24    2.120329\n",
            "2018-12-26    2.227458\n",
            "2018-12-27    2.244559\n",
            "2018-12-28    2.241664\n",
            "2018-12-31    2.261298\n",
            "Name: Adj Close, dtype: float64\n"
          ]
        }
      ],
      "execution_count": 14,
      "metadata": {
        "collapsed": false,
        "outputHidden": false,
        "inputHidden": false
      }
    },
    {
      "cell_type": "code",
      "source": [
        "# Print the mean\n",
        "print(\"mean : \", returns.mean()*100)\n",
        "\n",
        "# Print the standard deviation\n",
        "print(\"Std. dev: \", returns.std()*100)\n",
        "\n",
        "# Print the skewness\n",
        "print(\"skew: \", returns.skew())\n",
        "\n",
        "# Print the kurtosis\n",
        "print(\"kurt: \", returns.kurtosis())"
      ],
      "outputs": [
        {
          "output_type": "stream",
          "name": "stdout",
          "text": [
            "mean :  0.03476488888124157\n",
            "Std. dev:  1.2442271708875539\n",
            "skew:  0.1707408780838393\n",
            "kurt:  15.03469087750591\n"
          ]
        }
      ],
      "execution_count": 15,
      "metadata": {
        "collapsed": false,
        "outputHidden": false,
        "inputHidden": false
      }
    },
    {
      "cell_type": "code",
      "source": [
        "# Calculate total return and annualized return from price data \n",
        "total_return = (returns[-1] - returns[0]) / returns[0]\n",
        "print(total_return)"
      ],
      "outputs": [
        {
          "output_type": "stream",
          "name": "stdout",
          "text": [
            "3.1276197303395583\n"
          ]
        }
      ],
      "execution_count": 16,
      "metadata": {
        "collapsed": false,
        "outputHidden": false,
        "inputHidden": false
      }
    },
    {
      "cell_type": "code",
      "source": [
        "# Annualize the total return over 12 year \n",
        "annualized_return = ((1+total_return)**(1/12))-1"
      ],
      "outputs": [],
      "execution_count": 17,
      "metadata": {
        "collapsed": false,
        "outputHidden": false,
        "inputHidden": false
      }
    },
    {
      "cell_type": "code",
      "source": [
        "# Calculate annualized volatility from the standard deviation\n",
        "vol_port = returns.std() * np.sqrt(250)"
      ],
      "outputs": [],
      "execution_count": 18,
      "metadata": {
        "collapsed": false,
        "outputHidden": false,
        "inputHidden": false
      }
    },
    {
      "cell_type": "code",
      "source": [
        "# Calculate the Sharpe ratio \n",
        "rf = 0.001\n",
        "sharpe_ratio = (annualized_return - rf) / vol_port\n",
        "print(sharpe_ratio)"
      ],
      "outputs": [
        {
          "output_type": "stream",
          "name": "stdout",
          "text": [
            "0.6323584442799886\n"
          ]
        }
      ],
      "execution_count": 19,
      "metadata": {
        "collapsed": false,
        "outputHidden": false,
        "inputHidden": false
      }
    },
    {
      "cell_type": "code",
      "source": [
        "# Create a downside return column with the negative returns only\n",
        "target = 0\n",
        "downside_returns = returns.loc[returns < target]\n",
        "\n",
        "# Calculate expected return and std dev of downside\n",
        "expected_return = returns.mean()\n",
        "down_stdev = downside_returns.std()\n",
        "\n",
        "# Calculate the sortino ratio\n",
        "rf = 0.01\n",
        "sortino_ratio = (expected_return - rf)/down_stdev\n",
        "\n",
        "# Print the results\n",
        "print(\"Expected return: \", expected_return*100)\n",
        "print('-' * 50)\n",
        "print(\"Downside risk:\")\n",
        "print(down_stdev*100)\n",
        "print('-' * 50)\n",
        "print(\"Sortino ratio:\")\n",
        "print(sortino_ratio)"
      ],
      "outputs": [
        {
          "output_type": "stream",
          "name": "stdout",
          "text": [
            "Expected return:  0.03476488888124157\n",
            "--------------------------------------------------\n",
            "Downside risk:\n",
            "1.0191400178162102\n",
            "--------------------------------------------------\n",
            "Sortino ratio:\n",
            "-0.9471074575081863\n"
          ]
        }
      ],
      "execution_count": 20,
      "metadata": {
        "collapsed": false,
        "outputHidden": false,
        "inputHidden": false
      }
    },
    {
      "cell_type": "code",
      "source": [
        "# Calculate the max value \n",
        "roll_max = returns.rolling(center=False,min_periods=1,window=252).max()\n",
        "\n",
        "# Calculate the daily draw-down relative to the max\n",
        "daily_draw_down = returns/roll_max - 1.0\n",
        "\n",
        "# Calculate the minimum (negative) daily draw-down\n",
        "max_daily_draw_down = daily_draw_down.rolling(center=False,min_periods=1,window=252).min()\n",
        "\n",
        "# Plot the results\n",
        "plt.figure(figsize=(15,15))\n",
        "plt.plot(returns.index, daily_draw_down, label='Daily drawdown')\n",
        "plt.plot(returns.index, max_daily_draw_down, label='Maximum daily drawdown in time-window')\n",
        "plt.legend()\n",
        "plt.show()"
      ],
      "outputs": [
        {
          "output_type": "display_data",
          "data": {
            "text/plain": [
              "<Figure size 1080x1080 with 1 Axes>"
            ],
            "image/png": "[encoded data removed]"
          },
          "metadata": {}
        }
      ],
      "execution_count": 21,
      "metadata": {
        "collapsed": false,
        "outputHidden": false,
        "inputHidden": false
      }
    },
    {
      "cell_type": "code",
      "source": [
        "# Box plot\n",
        "returns.plot(kind='box')"
      ],
      "outputs": [
        {
          "output_type": "execute_result",
          "execution_count": 22,
          "data": {
            "text/plain": [
              "<matplotlib.axes._subplots.AxesSubplot at 0x1f24dcf62e8>"
            ]
          },
          "metadata": {}
        },
        {
          "output_type": "display_data",
          "data": {
            "text/plain": [
              "<Figure size 432x288 with 1 Axes>"
            ],
            "image/png": "[encoded data removed]"
          },
          "metadata": {}
        }
      ],
      "execution_count": 22,
      "metadata": {
        "collapsed": false,
        "outputHidden": false,
        "inputHidden": false
      }
    },
    {
      "cell_type": "code",
      "source": [
        "print(\"Stock returns: \")\n",
        "print(returns.mean())\n",
        "print('-' * 50)\n",
        "print(\"Stock risk:\")\n",
        "print(returns.std())"
      ],
      "outputs": [
        {
          "output_type": "stream",
          "name": "stdout",
          "text": [
            "Stock returns: \n",
            "0.0003476488888124157\n",
            "--------------------------------------------------\n",
            "Stock risk:\n",
            "0.012442271708875538\n"
          ]
        }
      ],
      "execution_count": 23,
      "metadata": {
        "collapsed": false,
        "outputHidden": false,
        "inputHidden": false
      }
    },
    {
      "cell_type": "code",
      "source": [
        "rf = 0.001\n",
        "Sharpe_Ratio = ((returns.mean() - rf) / returns.std()) * np.sqrt(252)\n",
        "print('Sharpe Ratio: ', Sharpe_Ratio)"
      ],
      "outputs": [
        {
          "output_type": "stream",
          "name": "stdout",
          "text": [
            "Sharpe Ratio:  -0.8323040268287034\n"
          ]
        }
      ],
      "execution_count": 24,
      "metadata": {
        "collapsed": false,
        "outputHidden": false,
        "inputHidden": false
      }
    },
    {
      "cell_type": "markdown",
      "source": [
        "### Value-at-Risk 99% Confidence"
      ],
      "metadata": {}
    },
    {
      "cell_type": "code",
      "source": [
        "# 99% confidence interval\n",
        "# 0.01 empirical quantile of daily returns\n",
        "var99 = round((returns).quantile(0.01), 3)"
      ],
      "outputs": [],
      "execution_count": 25,
      "metadata": {
        "collapsed": false,
        "outputHidden": false,
        "inputHidden": false
      }
    },
    {
      "cell_type": "code",
      "source": [
        "print('Value at Risk (99% confidence)')\n",
        "print(var99)"
      ],
      "outputs": [
        {
          "output_type": "stream",
          "name": "stdout",
          "text": [
            "Value at Risk (99% confidence)\n",
            "-0.037\n"
          ]
        }
      ],
      "execution_count": 26,
      "metadata": {
        "collapsed": false,
        "outputHidden": false,
        "inputHidden": false
      }
    },
    {
      "cell_type": "code",
      "source": [
        "# the percent value of the 5th quantile\n",
        "print('Percent Value-at-Risk of the 5th quantile')\n",
        "var_1_perc = round(np.quantile(var99, 0.01), 3)\n",
        "print(\"{:.1f}%\".format(-var_1_perc*100))"
      ],
      "outputs": [
        {
          "output_type": "stream",
          "name": "stdout",
          "text": [
            "Percent Value-at-Risk of the 5th quantile\n",
            "3.7%\n"
          ]
        }
      ],
      "execution_count": 27,
      "metadata": {
        "collapsed": false,
        "outputHidden": false,
        "inputHidden": false
      }
    },
    {
      "cell_type": "code",
      "source": [
        "print('Value-at-Risk of 99% for 100,000 investment')\n",
        "print(\"${}\".format(int(-var99 * 100000)))"
      ],
      "outputs": [
        {
          "output_type": "stream",
          "name": "stdout",
          "text": [
            "Value-at-Risk of 99% for 100,000 investment\n",
            "$3700\n"
          ]
        }
      ],
      "execution_count": 28,
      "metadata": {
        "collapsed": false,
        "outputHidden": false,
        "inputHidden": false
      }
    },
    {
      "cell_type": "markdown",
      "source": [
        "### Value-at-Risk 95% Confidence"
      ],
      "metadata": {}
    },
    {
      "cell_type": "code",
      "source": [
        "# 95% confidence interval\n",
        "# 0.05 empirical quantile of daily returns\n",
        "var95 = round((returns).quantile(0.05), 3)"
      ],
      "outputs": [],
      "execution_count": 29,
      "metadata": {
        "collapsed": false,
        "outputHidden": false,
        "inputHidden": false
      }
    },
    {
      "cell_type": "code",
      "source": [
        "print('Value at Risk (95% confidence)')\n",
        "print(var95)"
      ],
      "outputs": [
        {
          "output_type": "stream",
          "name": "stdout",
          "text": [
            "Value at Risk (95% confidence)\n",
            "-0.019\n"
          ]
        }
      ],
      "execution_count": 30,
      "metadata": {
        "collapsed": false,
        "outputHidden": false,
        "inputHidden": false
      }
    },
    {
      "cell_type": "code",
      "source": [
        "print('Percent Value-at-Risk of the 5th quantile')\n",
        "print(\"{:.1f}%\".format(-var95*100))"
      ],
      "outputs": [
        {
          "output_type": "stream",
          "name": "stdout",
          "text": [
            "Percent Value-at-Risk of the 5th quantile\n",
            "1.9%\n"
          ]
        }
      ],
      "execution_count": 31,
      "metadata": {
        "collapsed": false,
        "outputHidden": false,
        "inputHidden": false
      }
    },
    {
      "cell_type": "code",
      "source": [
        "# VaR for 100,000 investment\n",
        "print('Value-at-Risk of 99% for 100,000 investment')\n",
        "var_100k = \"${}\".format(int(-var95 * 100000))\n",
        "print(\"${}\".format(int(-var95 * 100000)))"
      ],
      "outputs": [
        {
          "output_type": "stream",
          "name": "stdout",
          "text": [
            "Value-at-Risk of 99% for 100,000 investment\n",
            "$1900\n"
          ]
        }
      ],
      "execution_count": 32,
      "metadata": {
        "collapsed": false,
        "outputHidden": false,
        "inputHidden": false
      }
    },
    {
      "cell_type": "code",
      "source": [
        "mean = np.mean(returns)\n",
        "std_dev = np.std(returns)"
      ],
      "outputs": [],
      "execution_count": 33,
      "metadata": {
        "collapsed": false,
        "outputHidden": false,
        "inputHidden": false
      }
    },
    {
      "cell_type": "code",
      "source": [
        "returns.hist(bins=50, normed=True, histtype='stepfilled', alpha=0.5)\n",
        "x = np.linspace(mean - 3*std_dev, mean + 3*std_dev, 100)\n",
        "plt.plot(x, mlab.normpdf(x, mean, std_dev), \"r\")\n",
        "plt.title('Histogram of Returns')\n",
        "plt.show()"
      ],
      "outputs": [
        {
          "output_type": "display_data",
          "data": {
            "text/plain": [
              "<Figure size 432x288 with 1 Axes>"
            ],
            "image/png": "[encoded data removed]"
          },
          "metadata": {}
        }
      ],
      "execution_count": 34,
      "metadata": {
        "collapsed": false,
        "outputHidden": false,
        "inputHidden": false
      }
    },
    {
      "cell_type": "code",
      "source": [
        "VaR_90 = norm.ppf(1-0.9, mean, std_dev)\n",
        "VaR_95 = norm.ppf(1-0.95, mean, std_dev)\n",
        "VaR_99 = norm.ppf(1-0.99, mean, std_dev)"
      ],
      "outputs": [],
      "execution_count": 35,
      "metadata": {
        "collapsed": false,
        "outputHidden": false,
        "inputHidden": false
      }
    },
    {
      "cell_type": "code",
      "source": [
        "print(tabulate([['90%', VaR_90], ['95%', VaR_95], ['99%', VaR_99]], headers=['Confidence Level', 'Value at Risk']))"
      ],
      "outputs": [
        {
          "output_type": "stream",
          "name": "stdout",
          "text": [
            "Confidence Level      Value at Risk\n",
            "------------------  ---------------\n",
            "90%                      -0.0155951\n",
            "95%                      -0.0201147\n",
            "99%                      -0.0285926\n"
          ]
        }
      ],
      "execution_count": 36,
      "metadata": {
        "collapsed": false,
        "outputHidden": false,
        "inputHidden": false
      }
    }
  ],
  "metadata": {
    "kernel_info": {
      "name": "python3"
    },
    "language_info": {
      "codemirror_mode": {
        "version": 3,
        "name": "ipython"
      },
      "mimetype": "text/x-python",
      "nbconvert_exporter": "python",
      "pygments_lexer": "ipython3",
      "version": "3.5.5",
      "name": "python",
      "file_extension": ".py"
    },
    "kernelspec": {
      "name": "python3",
      "language": "python",
      "display_name": "Python 3"
    },
    "nteract": {
      "version": "0.15.0"
    }
  },
  "nbformat": 4,
  "nbformat_minor": 0
}