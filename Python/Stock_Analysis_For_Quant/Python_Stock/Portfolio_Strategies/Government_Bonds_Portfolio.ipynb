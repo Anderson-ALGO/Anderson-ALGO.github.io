{
  "cells": [
    {
      "cell_type": "markdown",
      "source": [
        "# Bonds Porfolio (U.S Government Bonds ETFs)"
      ],
      "metadata": {}
    },
    {
      "cell_type": "markdown",
      "source": [
        "https://www.investopedia.com/articles/investing/080515/top-4-us-government-bonds-etfs.asp"
      ],
      "metadata": {}
    },
    {
      "cell_type": "markdown",
      "source": [
        "## Government Bonds ETFs"
      ],
      "metadata": {}
    },
    {
      "cell_type": "code",
      "source": [
        "import numpy as np\n",
        "import pandas as pd\n",
        "import matplotlib.pyplot as plt\n",
        "import seaborn as sns\n",
        "import math\n",
        "\n",
        "import warnings\n",
        "warnings.filterwarnings(\"ignore\")\n",
        "\n",
        "# yfinance is used to fetch data \n",
        "import yfinance as yf\n",
        "yf.pdr_override()"
      ],
      "outputs": [],
      "execution_count": 1,
      "metadata": {
        "collapsed": false,
        "outputHidden": false,
        "inputHidden": false,
        "execution": {
          "iopub.status.busy": "2020-06-26T00:28:32.464Z",
          "iopub.execute_input": "2020-06-26T00:28:32.473Z",
          "iopub.status.idle": "2020-06-26T00:28:33.391Z",
          "shell.execute_reply": "2020-06-26T00:28:33.437Z"
        }
      }
    },
    {
      "cell_type": "code",
      "source": [
        "# input\n",
        "symbols = ['SHY','ITE','VGLT','SPIP']\n",
        "start = '2011-01-01'\n",
        "end = '2019-01-01'\n",
        "title = \"Bonds Porfolio (U.S Government Bonds ETFs)\"\n",
        "\n",
        "# Read data \n",
        "df = yf.download(symbols,start,end)['Adj Close']\n",
        "\n",
        "# View Columns\n",
        "df.head()"
      ],
      "outputs": [
        {
          "output_type": "stream",
          "name": "stdout",
          "text": [
            "[*********************100%***********************]  4 of 4 completed\n"
          ]
        },
        {
          "output_type": "execute_result",
          "execution_count": 2,
          "data": {
            "text/html": [
              "<div>\n",
              "<style scoped>\n",
              "    .dataframe tbody tr th:only-of-type {\n",
              "        vertical-align: middle;\n",
              "    }\n",
              "\n",
              "    .dataframe tbody tr th {\n",
              "        vertical-align: top;\n",
              "    }\n",
              "\n",
              "    .dataframe thead th {\n",
              "        text-align: right;\n",
              "    }\n",
              "</style>\n",
              "<table border=\"1\" class=\"dataframe\">\n",
              "  <thead>\n",
              "    <tr style=\"text-align: right;\">\n",
              "      <th></th>\n",
              "      <th>ITE</th>\n",
              "      <th>SHY</th>\n",
              "      <th>SPIP</th>\n",
              "      <th>VGLT</th>\n",
              "    </tr>\n",
              "    <tr>\n",
              "      <th>Date</th>\n",
              "      <th></th>\n",
              "      <th></th>\n",
              "      <th></th>\n",
              "      <th></th>\n",
              "    </tr>\n",
              "  </thead>\n",
              "  <tbody>\n",
              "    <tr>\n",
              "      <th>2011-01-03</th>\n",
              "      <td>50.938450</td>\n",
              "      <td>77.158173</td>\n",
              "      <td>21.306452</td>\n",
              "      <td>46.152637</td>\n",
              "    </tr>\n",
              "    <tr>\n",
              "      <th>2011-01-04</th>\n",
              "      <td>50.964535</td>\n",
              "      <td>77.139748</td>\n",
              "      <td>21.382820</td>\n",
              "      <td>45.876617</td>\n",
              "    </tr>\n",
              "    <tr>\n",
              "      <th>2011-01-05</th>\n",
              "      <td>50.703655</td>\n",
              "      <td>77.001953</td>\n",
              "      <td>21.282339</td>\n",
              "      <td>45.316864</td>\n",
              "    </tr>\n",
              "    <tr>\n",
              "      <th>2011-01-06</th>\n",
              "      <td>50.790611</td>\n",
              "      <td>77.084633</td>\n",
              "      <td>21.330561</td>\n",
              "      <td>45.293865</td>\n",
              "    </tr>\n",
              "    <tr>\n",
              "      <th>2011-01-07</th>\n",
              "      <td>51.042774</td>\n",
              "      <td>77.194931</td>\n",
              "      <td>21.423006</td>\n",
              "      <td>45.554562</td>\n",
              "    </tr>\n",
              "  </tbody>\n",
              "</table>\n",
              "</div>"
            ],
            "text/plain": [
              "                  ITE        SHY       SPIP       VGLT\n",
              "Date                                                  \n",
              "2011-01-03  50.938450  77.158173  21.306452  46.152637\n",
              "2011-01-04  50.964535  77.139748  21.382820  45.876617\n",
              "2011-01-05  50.703655  77.001953  21.282339  45.316864\n",
              "2011-01-06  50.790611  77.084633  21.330561  45.293865\n",
              "2011-01-07  51.042774  77.194931  21.423006  45.554562"
            ]
          },
          "metadata": {}
        }
      ],
      "execution_count": 2,
      "metadata": {
        "collapsed": false,
        "outputHidden": false,
        "inputHidden": false,
        "execution": {
          "iopub.status.busy": "2020-06-26T00:28:33.408Z",
          "iopub.execute_input": "2020-06-26T00:28:33.417Z",
          "iopub.status.idle": "2020-06-26T00:28:34.932Z",
          "shell.execute_reply": "2020-06-26T00:28:36.561Z"
        }
      }
    },
    {
      "cell_type": "code",
      "source": [
        "df.tail()"
      ],
      "outputs": [
        {
          "output_type": "execute_result",
          "execution_count": 3,
          "data": {
            "text/html": [
              "<div>\n",
              "<style scoped>\n",
              "    .dataframe tbody tr th:only-of-type {\n",
              "        vertical-align: middle;\n",
              "    }\n",
              "\n",
              "    .dataframe tbody tr th {\n",
              "        vertical-align: top;\n",
              "    }\n",
              "\n",
              "    .dataframe thead th {\n",
              "        text-align: right;\n",
              "    }\n",
              "</style>\n",
              "<table border=\"1\" class=\"dataframe\">\n",
              "  <thead>\n",
              "    <tr style=\"text-align: right;\">\n",
              "      <th></th>\n",
              "      <th>ITE</th>\n",
              "      <th>SHY</th>\n",
              "      <th>SPIP</th>\n",
              "      <th>VGLT</th>\n",
              "    </tr>\n",
              "    <tr>\n",
              "      <th>Date</th>\n",
              "      <th></th>\n",
              "      <th></th>\n",
              "      <th></th>\n",
              "      <th></th>\n",
              "    </tr>\n",
              "  </thead>\n",
              "  <tbody>\n",
              "    <tr>\n",
              "      <th>2018-12-24</th>\n",
              "      <td>58.262810</td>\n",
              "      <td>81.224503</td>\n",
              "      <td>25.481457</td>\n",
              "      <td>72.159622</td>\n",
              "    </tr>\n",
              "    <tr>\n",
              "      <th>2018-12-26</th>\n",
              "      <td>58.095215</td>\n",
              "      <td>81.146645</td>\n",
              "      <td>25.424620</td>\n",
              "      <td>71.434258</td>\n",
              "    </tr>\n",
              "    <tr>\n",
              "      <th>2018-12-27</th>\n",
              "      <td>58.213520</td>\n",
              "      <td>81.234245</td>\n",
              "      <td>25.434093</td>\n",
              "      <td>71.434258</td>\n",
              "    </tr>\n",
              "    <tr>\n",
              "      <th>2018-12-28</th>\n",
              "      <td>58.430397</td>\n",
              "      <td>81.351013</td>\n",
              "      <td>25.500401</td>\n",
              "      <td>71.985535</td>\n",
              "    </tr>\n",
              "    <tr>\n",
              "      <th>2018-12-31</th>\n",
              "      <td>58.706436</td>\n",
              "      <td>81.380211</td>\n",
              "      <td>25.524086</td>\n",
              "      <td>72.256332</td>\n",
              "    </tr>\n",
              "  </tbody>\n",
              "</table>\n",
              "</div>"
            ],
            "text/plain": [
              "                  ITE        SHY       SPIP       VGLT\n",
              "Date                                                  \n",
              "2018-12-24  58.262810  81.224503  25.481457  72.159622\n",
              "2018-12-26  58.095215  81.146645  25.424620  71.434258\n",
              "2018-12-27  58.213520  81.234245  25.434093  71.434258\n",
              "2018-12-28  58.430397  81.351013  25.500401  71.985535\n",
              "2018-12-31  58.706436  81.380211  25.524086  72.256332"
            ]
          },
          "metadata": {}
        }
      ],
      "execution_count": 3,
      "metadata": {
        "collapsed": false,
        "outputHidden": false,
        "inputHidden": false,
        "execution": {
          "iopub.status.busy": "2020-06-26T00:28:34.950Z",
          "iopub.execute_input": "2020-06-26T00:28:34.961Z",
          "iopub.status.idle": "2020-06-26T00:28:34.984Z",
          "shell.execute_reply": "2020-06-26T00:28:36.583Z"
        }
      }
    },
    {
      "cell_type": "code",
      "source": [
        "df.min()"
      ],
      "outputs": [
        {
          "output_type": "execute_result",
          "execution_count": 4,
          "data": {
            "text/plain": [
              "ITE     50.397202\n",
              "SHY     76.871162\n",
              "SPIP    20.897419\n",
              "VGLT    44.072567\n",
              "dtype: float64"
            ]
          },
          "metadata": {}
        }
      ],
      "execution_count": 4,
      "metadata": {
        "collapsed": false,
        "outputHidden": false,
        "inputHidden": false,
        "execution": {
          "iopub.status.busy": "2020-06-26T00:28:34.999Z",
          "iopub.execute_input": "2020-06-26T00:28:35.009Z",
          "iopub.status.idle": "2020-06-26T00:28:35.032Z",
          "shell.execute_reply": "2020-06-26T00:28:36.591Z"
        }
      }
    },
    {
      "cell_type": "code",
      "source": [
        "df.max()"
      ],
      "outputs": [
        {
          "output_type": "execute_result",
          "execution_count": 5,
          "data": {
            "text/plain": [
              "ITE     58.706436\n",
              "SHY     81.380211\n",
              "SPIP    26.293741\n",
              "VGLT    79.565544\n",
              "dtype: float64"
            ]
          },
          "metadata": {}
        }
      ],
      "execution_count": 5,
      "metadata": {
        "collapsed": false,
        "outputHidden": false,
        "inputHidden": false,
        "execution": {
          "iopub.status.busy": "2020-06-26T00:28:35.046Z",
          "iopub.execute_input": "2020-06-26T00:28:35.058Z",
          "iopub.status.idle": "2020-06-26T00:28:35.079Z",
          "shell.execute_reply": "2020-06-26T00:28:36.598Z"
        }
      }
    },
    {
      "cell_type": "code",
      "source": [
        "from datetime import datetime\n",
        "from dateutil import relativedelta\n",
        "\n",
        "d1 = datetime.strptime(start, \"%Y-%m-%d\")\n",
        "d2 = datetime.strptime(end, \"%Y-%m-%d\")\n",
        "delta = relativedelta.relativedelta(d2,d1)\n",
        "print('How many years of investing?')\n",
        "print('%s years' % delta.years)"
      ],
      "outputs": [
        {
          "output_type": "stream",
          "name": "stdout",
          "text": [
            "How many years of investing?\n",
            "8 years\n"
          ]
        }
      ],
      "execution_count": 6,
      "metadata": {
        "collapsed": false,
        "outputHidden": false,
        "inputHidden": false,
        "execution": {
          "iopub.status.busy": "2020-06-26T00:28:35.094Z",
          "iopub.execute_input": "2020-06-26T00:28:35.103Z",
          "iopub.status.idle": "2020-06-26T00:28:35.125Z",
          "shell.execute_reply": "2020-06-26T00:28:36.604Z"
        }
      }
    },
    {
      "cell_type": "markdown",
      "source": [
        "### Starting Cash with 100k to invest in Bonds"
      ],
      "metadata": {}
    },
    {
      "cell_type": "code",
      "source": [
        "Cash = 100000\n",
        "print('Percentage of invest:')\n",
        "percent_invest = [0.25, 0.25, 0.25, 0.25]\n",
        "for i, x in zip(df.columns, percent_invest):\n",
        "    cost = x * Cash\n",
        "    print('{}: {}'.format(i, cost))"
      ],
      "outputs": [
        {
          "output_type": "stream",
          "name": "stdout",
          "text": [
            "Percentage of invest:\n",
            "ITE: 25000.0\n",
            "SHY: 25000.0\n",
            "SPIP: 25000.0\n",
            "VGLT: 25000.0\n"
          ]
        }
      ],
      "execution_count": 7,
      "metadata": {
        "collapsed": false,
        "outputHidden": false,
        "inputHidden": false,
        "execution": {
          "iopub.status.busy": "2020-06-26T00:28:35.144Z",
          "iopub.execute_input": "2020-06-26T00:28:35.154Z",
          "iopub.status.idle": "2020-06-26T00:28:35.174Z",
          "shell.execute_reply": "2020-06-26T00:28:36.613Z"
        }
      }
    },
    {
      "cell_type": "code",
      "source": [
        "print('Number of Shares:')\n",
        "percent_invest = [0.25, 0.25, 0.25, 0.25]\n",
        "for i, x, y in zip(df.columns, percent_invest, df.iloc[0]):\n",
        "    cost = x * Cash\n",
        "    shares = int(cost/y)\n",
        "    print('{}: {}'.format(i, shares))"
      ],
      "outputs": [
        {
          "output_type": "stream",
          "name": "stdout",
          "text": [
            "Number of Shares:\n",
            "ITE: 490\n",
            "SHY: 324\n",
            "SPIP: 1173\n",
            "VGLT: 541\n"
          ]
        }
      ],
      "execution_count": 8,
      "metadata": {
        "collapsed": false,
        "outputHidden": false,
        "inputHidden": false,
        "execution": {
          "iopub.status.busy": "2020-06-26T00:28:35.190Z",
          "iopub.execute_input": "2020-06-26T00:28:35.201Z",
          "iopub.status.idle": "2020-06-26T00:28:35.226Z",
          "shell.execute_reply": "2020-06-26T00:28:36.619Z"
        }
      }
    },
    {
      "cell_type": "code",
      "source": [
        "print('Beginning Value:')\n",
        "percent_invest = [0.25, 0.25, 0.25, 0.25]\n",
        "for i, x, y in zip(df.columns, percent_invest, df.iloc[0]):\n",
        "    cost = x * Cash\n",
        "    shares = int(cost/y)\n",
        "    Begin_Value = round(shares * y, 2)\n",
        "    print('{}: ${}'.format(i, Begin_Value))"
      ],
      "outputs": [
        {
          "output_type": "stream",
          "name": "stdout",
          "text": [
            "Beginning Value:\n",
            "ITE: $24959.84\n",
            "SHY: $24999.25\n",
            "SPIP: $24992.47\n",
            "VGLT: $24968.58\n"
          ]
        }
      ],
      "execution_count": 9,
      "metadata": {
        "collapsed": false,
        "outputHidden": false,
        "inputHidden": false,
        "execution": {
          "iopub.status.busy": "2020-06-26T00:28:35.240Z",
          "iopub.execute_input": "2020-06-26T00:28:35.248Z",
          "iopub.status.idle": "2020-06-26T00:28:35.268Z",
          "shell.execute_reply": "2020-06-26T00:28:36.625Z"
        }
      }
    },
    {
      "cell_type": "code",
      "source": [
        "print('Current Value:')\n",
        "percent_invest = [0.25, 0.25, 0.25, 0.25]\n",
        "for i, x, y, z in zip(df.columns, percent_invest, df.iloc[0], df.iloc[-1]):\n",
        "    cost = x * Cash\n",
        "    shares = int(cost/y)\n",
        "    Current_Value = round(shares * z, 2)\n",
        "    print('{}: ${}'.format(i, Current_Value))"
      ],
      "outputs": [
        {
          "output_type": "stream",
          "name": "stdout",
          "text": [
            "Current Value:\n",
            "ITE: $28766.15\n",
            "SHY: $26367.19\n",
            "SPIP: $29939.75\n",
            "VGLT: $39090.68\n"
          ]
        }
      ],
      "execution_count": 10,
      "metadata": {
        "collapsed": false,
        "outputHidden": false,
        "inputHidden": false,
        "execution": {
          "iopub.status.busy": "2020-06-26T00:28:35.287Z",
          "iopub.execute_input": "2020-06-26T00:28:35.296Z",
          "iopub.status.idle": "2020-06-26T00:28:35.317Z",
          "shell.execute_reply": "2020-06-26T00:28:36.631Z"
        }
      }
    },
    {
      "cell_type": "code",
      "source": [
        "result = []\n",
        "for i, x, y, z in zip(df.columns, percent_invest, df.iloc[0], df.iloc[-1]):\n",
        "    cost = x * Cash\n",
        "    shares = int(cost/y)\n",
        "    Current_Value = round(shares * z, 2)\n",
        "    result.append(Current_Value)\n",
        "print('Total Value: $%s' % round(sum(result),2))"
      ],
      "outputs": [
        {
          "output_type": "stream",
          "name": "stdout",
          "text": [
            "Total Value: $124163.77\n"
          ]
        }
      ],
      "execution_count": 11,
      "metadata": {
        "collapsed": false,
        "outputHidden": false,
        "inputHidden": false,
        "execution": {
          "iopub.status.busy": "2020-06-26T00:28:35.331Z",
          "iopub.execute_input": "2020-06-26T00:28:35.340Z",
          "iopub.status.idle": "2020-06-26T00:28:35.359Z",
          "shell.execute_reply": "2020-06-26T00:28:36.637Z"
        }
      }
    },
    {
      "cell_type": "code",
      "source": [
        "# Calculate Daily Returns\n",
        "returns = df.pct_change()\n",
        "returns = returns.dropna()"
      ],
      "outputs": [],
      "execution_count": 12,
      "metadata": {
        "collapsed": false,
        "outputHidden": false,
        "inputHidden": false,
        "execution": {
          "iopub.status.busy": "2020-06-26T00:28:35.383Z",
          "iopub.execute_input": "2020-06-26T00:28:35.391Z",
          "iopub.status.idle": "2020-06-26T00:28:35.405Z",
          "shell.execute_reply": "2020-06-26T00:28:36.642Z"
        }
      }
    },
    {
      "cell_type": "code",
      "source": [
        "# Calculate mean returns\n",
        "meanDailyReturns = returns.mean()\n",
        "print(meanDailyReturns)"
      ],
      "outputs": [
        {
          "output_type": "stream",
          "name": "stdout",
          "text": [
            "ITE     0.000072\n",
            "SHY     0.000027\n",
            "SPIP    0.000095\n",
            "VGLT    0.000251\n",
            "dtype: float64\n"
          ]
        }
      ],
      "execution_count": 13,
      "metadata": {
        "collapsed": false,
        "outputHidden": false,
        "inputHidden": false,
        "execution": {
          "iopub.status.busy": "2020-06-26T00:28:35.418Z",
          "iopub.execute_input": "2020-06-26T00:28:35.426Z",
          "iopub.status.idle": "2020-06-26T00:28:35.445Z",
          "shell.execute_reply": "2020-06-26T00:28:36.649Z"
        }
      }
    },
    {
      "cell_type": "code",
      "source": [
        "# Calculate std returns\n",
        "stdDailyReturns = returns.std()\n",
        "print(stdDailyReturns)"
      ],
      "outputs": [
        {
          "output_type": "stream",
          "name": "stdout",
          "text": [
            "ITE     0.001601\n",
            "SHY     0.000511\n",
            "SPIP    0.003316\n",
            "VGLT    0.007557\n",
            "dtype: float64\n"
          ]
        }
      ],
      "execution_count": 14,
      "metadata": {
        "collapsed": false,
        "outputHidden": false,
        "inputHidden": false,
        "execution": {
          "iopub.status.busy": "2020-06-26T00:28:35.459Z",
          "iopub.execute_input": "2020-06-26T00:28:35.468Z",
          "iopub.status.idle": "2020-06-26T00:28:35.487Z",
          "shell.execute_reply": "2020-06-26T00:28:36.658Z"
        }
      }
    },
    {
      "cell_type": "code",
      "source": [
        "# Define weights for the portfolio\n",
        "weights = np.array([0.50, 0.10, 0.20, 0.20])"
      ],
      "outputs": [],
      "execution_count": 15,
      "metadata": {
        "collapsed": false,
        "outputHidden": false,
        "inputHidden": false,
        "execution": {
          "iopub.status.busy": "2020-06-26T00:28:35.502Z",
          "iopub.execute_input": "2020-06-26T00:28:35.513Z",
          "iopub.status.idle": "2020-06-26T00:28:35.528Z",
          "shell.execute_reply": "2020-06-26T00:28:36.664Z"
        }
      }
    },
    {
      "cell_type": "code",
      "source": [
        "# Calculate the covariance matrix on daily returns\n",
        "cov_matrix = (returns.cov())*250\n",
        "print (cov_matrix)"
      ],
      "outputs": [
        {
          "output_type": "stream",
          "name": "stdout",
          "text": [
            "           ITE       SHY      SPIP      VGLT\n",
            "ITE   0.000640  0.000156  0.000973  0.002325\n",
            "SHY   0.000156  0.000065  0.000252  0.000538\n",
            "SPIP  0.000973  0.000252  0.002749  0.004889\n",
            "VGLT  0.002325  0.000538  0.004889  0.014277\n"
          ]
        }
      ],
      "execution_count": 16,
      "metadata": {
        "collapsed": false,
        "outputHidden": false,
        "inputHidden": false,
        "execution": {
          "iopub.status.busy": "2020-06-26T00:28:35.542Z",
          "iopub.execute_input": "2020-06-26T00:28:35.552Z",
          "iopub.status.idle": "2020-06-26T00:28:35.570Z",
          "shell.execute_reply": "2020-06-26T00:28:36.669Z"
        }
      }
    },
    {
      "cell_type": "code",
      "source": [
        "# Calculate expected portfolio performance\n",
        "portReturn = np.sum(meanDailyReturns*weights)"
      ],
      "outputs": [],
      "execution_count": 17,
      "metadata": {
        "collapsed": false,
        "outputHidden": false,
        "inputHidden": false,
        "execution": {
          "iopub.status.busy": "2020-06-26T00:28:35.587Z",
          "iopub.execute_input": "2020-06-26T00:28:35.598Z",
          "iopub.status.idle": "2020-06-26T00:28:35.614Z",
          "shell.execute_reply": "2020-06-26T00:28:36.674Z"
        }
      }
    },
    {
      "cell_type": "code",
      "source": [
        "# Print the portfolio return\n",
        "print(portReturn)"
      ],
      "outputs": [
        {
          "output_type": "stream",
          "name": "stdout",
          "text": [
            "0.0001079519590885673\n"
          ]
        }
      ],
      "execution_count": 18,
      "metadata": {
        "collapsed": false,
        "outputHidden": false,
        "inputHidden": false,
        "execution": {
          "iopub.status.busy": "2020-06-26T00:28:35.626Z",
          "iopub.execute_input": "2020-06-26T00:28:35.633Z",
          "iopub.status.idle": "2020-06-26T00:28:35.653Z",
          "shell.execute_reply": "2020-06-26T00:28:36.683Z"
        }
      }
    },
    {
      "cell_type": "code",
      "source": [
        "# Create portfolio returns column\n",
        "returns['Portfolio'] = returns.dot(weights)"
      ],
      "outputs": [],
      "execution_count": 19,
      "metadata": {
        "collapsed": false,
        "outputHidden": false,
        "inputHidden": false,
        "execution": {
          "iopub.status.busy": "2020-06-26T00:28:35.666Z",
          "iopub.execute_input": "2020-06-26T00:28:35.675Z",
          "iopub.status.idle": "2020-06-26T00:28:35.690Z",
          "shell.execute_reply": "2020-06-26T00:28:36.692Z"
        }
      }
    },
    {
      "cell_type": "code",
      "source": [
        "returns.head()"
      ],
      "outputs": [
        {
          "output_type": "execute_result",
          "execution_count": 20,
          "data": {
            "text/html": [
              "<div>\n",
              "<style scoped>\n",
              "    .dataframe tbody tr th:only-of-type {\n",
              "        vertical-align: middle;\n",
              "    }\n",
              "\n",
              "    .dataframe tbody tr th {\n",
              "        vertical-align: top;\n",
              "    }\n",
              "\n",
              "    .dataframe thead th {\n",
              "        text-align: right;\n",
              "    }\n",
              "</style>\n",
              "<table border=\"1\" class=\"dataframe\">\n",
              "  <thead>\n",
              "    <tr style=\"text-align: right;\">\n",
              "      <th></th>\n",
              "      <th>ITE</th>\n",
              "      <th>SHY</th>\n",
              "      <th>SPIP</th>\n",
              "      <th>VGLT</th>\n",
              "      <th>Portfolio</th>\n",
              "    </tr>\n",
              "    <tr>\n",
              "      <th>Date</th>\n",
              "      <th></th>\n",
              "      <th></th>\n",
              "      <th></th>\n",
              "      <th></th>\n",
              "      <th></th>\n",
              "    </tr>\n",
              "  </thead>\n",
              "  <tbody>\n",
              "    <tr>\n",
              "      <th>2011-01-04</th>\n",
              "      <td>0.000512</td>\n",
              "      <td>-0.000239</td>\n",
              "      <td>0.003584</td>\n",
              "      <td>-0.005981</td>\n",
              "      <td>-0.000247</td>\n",
              "    </tr>\n",
              "    <tr>\n",
              "      <th>2011-01-05</th>\n",
              "      <td>-0.005119</td>\n",
              "      <td>-0.001786</td>\n",
              "      <td>-0.004699</td>\n",
              "      <td>-0.012201</td>\n",
              "      <td>-0.006118</td>\n",
              "    </tr>\n",
              "    <tr>\n",
              "      <th>2011-01-06</th>\n",
              "      <td>0.001715</td>\n",
              "      <td>0.001074</td>\n",
              "      <td>0.002266</td>\n",
              "      <td>-0.000508</td>\n",
              "      <td>0.001317</td>\n",
              "    </tr>\n",
              "    <tr>\n",
              "      <th>2011-01-07</th>\n",
              "      <td>0.004965</td>\n",
              "      <td>0.001431</td>\n",
              "      <td>0.004334</td>\n",
              "      <td>0.005756</td>\n",
              "      <td>0.004643</td>\n",
              "    </tr>\n",
              "    <tr>\n",
              "      <th>2011-01-10</th>\n",
              "      <td>0.001533</td>\n",
              "      <td>0.000477</td>\n",
              "      <td>0.002627</td>\n",
              "      <td>0.008248</td>\n",
              "      <td>0.002989</td>\n",
              "    </tr>\n",
              "  </tbody>\n",
              "</table>\n",
              "</div>"
            ],
            "text/plain": [
              "                 ITE       SHY      SPIP      VGLT  Portfolio\n",
              "Date                                                         \n",
              "2011-01-04  0.000512 -0.000239  0.003584 -0.005981  -0.000247\n",
              "2011-01-05 -0.005119 -0.001786 -0.004699 -0.012201  -0.006118\n",
              "2011-01-06  0.001715  0.001074  0.002266 -0.000508   0.001317\n",
              "2011-01-07  0.004965  0.001431  0.004334  0.005756   0.004643\n",
              "2011-01-10  0.001533  0.000477  0.002627  0.008248   0.002989"
            ]
          },
          "metadata": {}
        }
      ],
      "execution_count": 20,
      "metadata": {
        "collapsed": false,
        "outputHidden": false,
        "inputHidden": false,
        "execution": {
          "iopub.status.busy": "2020-06-26T00:28:35.704Z",
          "iopub.execute_input": "2020-06-26T00:28:35.712Z",
          "iopub.status.idle": "2020-06-26T00:28:35.733Z",
          "shell.execute_reply": "2020-06-26T00:28:36.700Z"
        }
      }
    },
    {
      "cell_type": "code",
      "source": [
        "returns.tail()"
      ],
      "outputs": [
        {
          "output_type": "execute_result",
          "execution_count": 21,
          "data": {
            "text/html": [
              "<div>\n",
              "<style scoped>\n",
              "    .dataframe tbody tr th:only-of-type {\n",
              "        vertical-align: middle;\n",
              "    }\n",
              "\n",
              "    .dataframe tbody tr th {\n",
              "        vertical-align: top;\n",
              "    }\n",
              "\n",
              "    .dataframe thead th {\n",
              "        text-align: right;\n",
              "    }\n",
              "</style>\n",
              "<table border=\"1\" class=\"dataframe\">\n",
              "  <thead>\n",
              "    <tr style=\"text-align: right;\">\n",
              "      <th></th>\n",
              "      <th>ITE</th>\n",
              "      <th>SHY</th>\n",
              "      <th>SPIP</th>\n",
              "      <th>VGLT</th>\n",
              "      <th>Portfolio</th>\n",
              "    </tr>\n",
              "    <tr>\n",
              "      <th>Date</th>\n",
              "      <th></th>\n",
              "      <th></th>\n",
              "      <th></th>\n",
              "      <th></th>\n",
              "      <th></th>\n",
              "    </tr>\n",
              "  </thead>\n",
              "  <tbody>\n",
              "    <tr>\n",
              "      <th>2018-12-24</th>\n",
              "      <td>0.002035</td>\n",
              "      <td>0.000839</td>\n",
              "      <td>0.001303</td>\n",
              "      <td>0.004524</td>\n",
              "      <td>0.002267</td>\n",
              "    </tr>\n",
              "    <tr>\n",
              "      <th>2018-12-26</th>\n",
              "      <td>-0.002877</td>\n",
              "      <td>-0.000959</td>\n",
              "      <td>-0.002231</td>\n",
              "      <td>-0.010052</td>\n",
              "      <td>-0.003991</td>\n",
              "    </tr>\n",
              "    <tr>\n",
              "      <th>2018-12-27</th>\n",
              "      <td>0.002036</td>\n",
              "      <td>0.001080</td>\n",
              "      <td>0.000373</td>\n",
              "      <td>0.000000</td>\n",
              "      <td>0.001201</td>\n",
              "    </tr>\n",
              "    <tr>\n",
              "      <th>2018-12-28</th>\n",
              "      <td>0.003726</td>\n",
              "      <td>0.001437</td>\n",
              "      <td>0.002607</td>\n",
              "      <td>0.007717</td>\n",
              "      <td>0.004071</td>\n",
              "    </tr>\n",
              "    <tr>\n",
              "      <th>2018-12-31</th>\n",
              "      <td>0.004724</td>\n",
              "      <td>0.000359</td>\n",
              "      <td>0.000929</td>\n",
              "      <td>0.003762</td>\n",
              "      <td>0.003336</td>\n",
              "    </tr>\n",
              "  </tbody>\n",
              "</table>\n",
              "</div>"
            ],
            "text/plain": [
              "                 ITE       SHY      SPIP      VGLT  Portfolio\n",
              "Date                                                         \n",
              "2018-12-24  0.002035  0.000839  0.001303  0.004524   0.002267\n",
              "2018-12-26 -0.002877 -0.000959 -0.002231 -0.010052  -0.003991\n",
              "2018-12-27  0.002036  0.001080  0.000373  0.000000   0.001201\n",
              "2018-12-28  0.003726  0.001437  0.002607  0.007717   0.004071\n",
              "2018-12-31  0.004724  0.000359  0.000929  0.003762   0.003336"
            ]
          },
          "metadata": {}
        }
      ],
      "execution_count": 21,
      "metadata": {
        "collapsed": false,
        "outputHidden": false,
        "inputHidden": false,
        "execution": {
          "iopub.status.busy": "2020-06-26T00:28:35.748Z",
          "iopub.execute_input": "2020-06-26T00:28:35.758Z",
          "iopub.status.idle": "2020-06-26T00:28:35.778Z",
          "shell.execute_reply": "2020-06-26T00:28:36.705Z"
        }
      }
    },
    {
      "cell_type": "code",
      "source": [
        "# Calculate cumulative returns\n",
        "daily_cum_ret=(1+returns).cumprod()\n",
        "print(daily_cum_ret.tail())"
      ],
      "outputs": [
        {
          "output_type": "stream",
          "name": "stdout",
          "text": [
            "                 ITE       SHY      SPIP      VGLT  Portfolio\n",
            "Date                                                         \n",
            "2018-12-24  1.143788  1.052701  1.195950  1.563499   1.227141\n",
            "2018-12-26  1.140498  1.051692  1.193283  1.547783   1.222244\n",
            "2018-12-27  1.142821  1.052827  1.193727  1.547783   1.223712\n",
            "2018-12-28  1.147078  1.054341  1.196839  1.559727   1.228694\n",
            "2018-12-31  1.152498  1.054719  1.197951  1.565595   1.232793\n"
          ]
        }
      ],
      "execution_count": 22,
      "metadata": {
        "collapsed": false,
        "outputHidden": false,
        "inputHidden": false,
        "execution": {
          "iopub.status.busy": "2020-06-26T00:28:35.793Z",
          "iopub.execute_input": "2020-06-26T00:28:35.803Z",
          "iopub.status.idle": "2020-06-26T00:28:35.822Z",
          "shell.execute_reply": "2020-06-26T00:28:36.712Z"
        }
      }
    },
    {
      "cell_type": "code",
      "source": [
        "returns['Portfolio'].hist()\n",
        "plt.show()"
      ],
      "outputs": [
        {
          "output_type": "display_data",
          "data": {
            "text/plain": [
              "<Figure size 432x288 with 1 Axes>"
            ],
            "image/png": "[encoded data removed]"
          },
          "metadata": {
            "needs_background": "light"
          }
        }
      ],
      "execution_count": 23,
      "metadata": {
        "collapsed": false,
        "outputHidden": false,
        "inputHidden": false,
        "execution": {
          "iopub.status.busy": "2020-06-26T00:28:35.837Z",
          "iopub.execute_input": "2020-06-26T00:28:35.850Z",
          "iopub.status.idle": "2020-06-26T00:28:35.871Z",
          "shell.execute_reply": "2020-06-26T00:28:36.718Z"
        }
      }
    },
    {
      "cell_type": "code",
      "source": [
        "import matplotlib.dates\n",
        "\n",
        "# Plot the portfolio cumulative returns only\n",
        "fig, ax = plt.subplots()\n",
        "ax.plot(daily_cum_ret.index, daily_cum_ret.Portfolio, color='purple', label=\"portfolio\")\n",
        "ax.xaxis.set_major_locator(matplotlib.dates.YearLocator())\n",
        "plt.title(title)\n",
        "plt.legend()\n",
        "plt.show()"
      ],
      "outputs": [
        {
          "output_type": "display_data",
          "data": {
            "text/plain": [
              "<Figure size 432x288 with 1 Axes>"
            ],
            "image/png": "[encoded data removed]"
          },
          "metadata": {
            "needs_background": "light"
          }
        }
      ],
      "execution_count": 24,
      "metadata": {
        "collapsed": false,
        "outputHidden": false,
        "inputHidden": false,
        "execution": {
          "iopub.status.busy": "2020-06-26T00:28:35.889Z",
          "iopub.execute_input": "2020-06-26T00:28:35.901Z",
          "iopub.status.idle": "2020-06-26T00:28:35.938Z",
          "shell.execute_reply": "2020-06-26T00:28:37.178Z"
        }
      }
    },
    {
      "cell_type": "code",
      "source": [
        "# Print the mean\n",
        "print(\"mean : \", returns['Portfolio'].mean()*100)\n",
        "\n",
        "# Print the standard deviation\n",
        "print(\"Std. dev: \", returns['Portfolio'].std()*100)\n",
        "\n",
        "# Print the skewness\n",
        "print(\"skew: \", returns['Portfolio'].skew())\n",
        "\n",
        "# Print the kurtosis\n",
        "print(\"kurt: \", returns['Portfolio'].kurtosis())"
      ],
      "outputs": [
        {
          "output_type": "stream",
          "name": "stdout",
          "text": [
            "mean :  0.010795195908856739\n",
            "Std. dev:  0.2785461006410433\n",
            "skew:  -0.10169143705374066\n",
            "kurt:  1.2837160493887936\n"
          ]
        }
      ],
      "execution_count": 25,
      "metadata": {
        "collapsed": false,
        "outputHidden": false,
        "inputHidden": false,
        "execution": {
          "iopub.status.busy": "2020-06-26T00:28:35.955Z",
          "iopub.execute_input": "2020-06-26T00:28:35.966Z",
          "iopub.status.idle": "2020-06-26T00:28:35.991Z",
          "shell.execute_reply": "2020-06-26T00:28:37.185Z"
        }
      }
    },
    {
      "cell_type": "code",
      "source": [
        "# Calculate the standard deviation by taking the square root\n",
        "port_standard_dev = np.sqrt(np.dot(weights.T, np.dot(weights, cov_matrix)))\n",
        "\n",
        "# Print the results \n",
        "print(str(np.round(port_standard_dev, 4) * 100) + '%')"
      ],
      "outputs": [
        {
          "output_type": "stream",
          "name": "stdout",
          "text": [
            "4.3999999999999995%\n"
          ]
        }
      ],
      "execution_count": 26,
      "metadata": {
        "collapsed": false,
        "outputHidden": false,
        "inputHidden": false,
        "execution": {
          "iopub.status.busy": "2020-06-26T00:28:36.011Z",
          "iopub.execute_input": "2020-06-26T00:28:36.023Z",
          "iopub.status.idle": "2020-06-26T00:28:36.050Z",
          "shell.execute_reply": "2020-06-26T00:28:37.193Z"
        }
      }
    },
    {
      "cell_type": "code",
      "source": [
        "# Calculate the portfolio variance\n",
        "port_variance = np.dot(weights.T, np.dot(cov_matrix, weights))\n",
        "\n",
        "# Print the result\n",
        "print(str(np.round(port_variance, 4) * 100) + '%')"
      ],
      "outputs": [
        {
          "output_type": "stream",
          "name": "stdout",
          "text": [
            "0.19%\n"
          ]
        }
      ],
      "execution_count": 27,
      "metadata": {
        "collapsed": false,
        "outputHidden": false,
        "inputHidden": false,
        "execution": {
          "iopub.status.busy": "2020-06-26T00:28:36.068Z",
          "iopub.execute_input": "2020-06-26T00:28:36.078Z",
          "iopub.status.idle": "2020-06-26T00:28:36.101Z",
          "shell.execute_reply": "2020-06-26T00:28:37.199Z"
        }
      }
    },
    {
      "cell_type": "code",
      "source": [
        "# Calculate total return and annualized return from price data \n",
        "total_return = returns['Portfolio'][-1] - returns['Portfolio'][0]\n",
        "                \n",
        "# Annualize the total return over 5 year \n",
        "annualized_return = ((1+total_return)**(1/8))-1"
      ],
      "outputs": [],
      "execution_count": 28,
      "metadata": {
        "collapsed": false,
        "outputHidden": false,
        "inputHidden": false,
        "execution": {
          "iopub.status.busy": "2020-06-26T00:28:36.118Z",
          "iopub.execute_input": "2020-06-26T00:28:36.131Z",
          "iopub.status.idle": "2020-06-26T00:28:36.155Z",
          "shell.execute_reply": "2020-06-26T00:28:37.205Z"
        }
      }
    },
    {
      "cell_type": "code",
      "source": [
        "# Calculate annualized volatility from the standard deviation\n",
        "vol_port = returns['Portfolio'].std() * np.sqrt(250)"
      ],
      "outputs": [],
      "execution_count": 29,
      "metadata": {
        "collapsed": false,
        "outputHidden": false,
        "inputHidden": false,
        "execution": {
          "iopub.status.busy": "2020-06-26T00:28:36.175Z",
          "iopub.execute_input": "2020-06-26T00:28:36.185Z",
          "iopub.status.idle": "2020-06-26T00:28:36.202Z",
          "shell.execute_reply": "2020-06-26T00:28:37.211Z"
        }
      }
    },
    {
      "cell_type": "code",
      "source": [
        "# Calculate the Sharpe ratio \n",
        "rf = 0.001\n",
        "sharpe_ratio = (annualized_return - rf) / vol_port\n",
        "print(sharpe_ratio)"
      ],
      "outputs": [
        {
          "output_type": "stream",
          "name": "stdout",
          "text": [
            "-0.012551551993775178\n"
          ]
        }
      ],
      "execution_count": 30,
      "metadata": {
        "collapsed": false,
        "outputHidden": false,
        "inputHidden": false,
        "execution": {
          "iopub.status.busy": "2020-06-26T00:28:36.219Z",
          "iopub.execute_input": "2020-06-26T00:28:36.231Z",
          "iopub.status.idle": "2020-06-26T00:28:36.258Z",
          "shell.execute_reply": "2020-06-26T00:28:37.218Z"
        }
      }
    },
    {
      "cell_type": "code",
      "source": [
        "# Create a downside return column with the negative returns only\n",
        "target = 0\n",
        "downside_returns = returns.loc[returns['Portfolio'] < target]\n",
        "\n",
        "# Calculate expected return and std dev of downside\n",
        "expected_return = returns['Portfolio'].mean()\n",
        "down_stdev = downside_returns.std()\n",
        "\n",
        "# Calculate the sortino ratio\n",
        "rf = 0.01\n",
        "sortino_ratio = (expected_return - rf)/down_stdev\n",
        "\n",
        "# Print the results\n",
        "print(\"Expected return: \", expected_return*100)\n",
        "print('-' * 50)\n",
        "print(\"Downside risk:\")\n",
        "print(down_stdev*100)\n",
        "print('-' * 50)\n",
        "print(\"Sortino ratio:\")\n",
        "print(sortino_ratio)"
      ],
      "outputs": [
        {
          "output_type": "stream",
          "name": "stdout",
          "text": [
            "Expected return:  0.010795195908856739\n",
            "--------------------------------------------------\n",
            "Downside risk:\n",
            "ITE          0.114135\n",
            "SHY          0.041096\n",
            "SPIP         0.244470\n",
            "VGLT         0.517763\n",
            "Portfolio    0.180119\n",
            "dtype: float64\n",
            "--------------------------------------------------\n",
            "Sortino ratio:\n",
            "ITE          -8.666972\n",
            "SHY         -24.070815\n",
            "SPIP         -4.046329\n",
            "VGLT         -1.910536\n",
            "Portfolio    -5.491957\n",
            "dtype: float64\n"
          ]
        }
      ],
      "execution_count": 31,
      "metadata": {
        "collapsed": false,
        "outputHidden": false,
        "inputHidden": false,
        "execution": {
          "iopub.status.busy": "2020-06-26T00:28:36.280Z",
          "iopub.execute_input": "2020-06-26T00:28:36.294Z",
          "iopub.status.idle": "2020-06-26T00:28:36.327Z",
          "shell.execute_reply": "2020-06-26T00:28:37.225Z"
        }
      }
    },
    {
      "cell_type": "code",
      "source": [
        "# Calculate the max value \n",
        "roll_max = returns['Portfolio'].rolling(center=False,min_periods=1,window=252).max()\n",
        "\n",
        "# Calculate the daily draw-down relative to the max\n",
        "daily_draw_down = returns['Portfolio']/roll_max - 1.0\n",
        "\n",
        "# Calculate the minimum (negative) daily draw-down\n",
        "max_daily_draw_down = daily_draw_down.rolling(center=False,min_periods=1,window=252).min()\n",
        "\n",
        "# Plot the results\n",
        "plt.figure(figsize=(15,15))\n",
        "plt.plot(returns.index, daily_draw_down, label='Daily drawdown')\n",
        "plt.plot(returns.index, max_daily_draw_down, label='Maximum daily drawdown in time-window')\n",
        "plt.legend()\n",
        "plt.show()"
      ],
      "outputs": [
        {
          "output_type": "display_data",
          "data": {
            "text/plain": [
              "<Figure size 1080x1080 with 1 Axes>"
            ],
            "image/png": "[encoded data removed]"
          },
          "metadata": {
            "needs_background": "light"
          }
        }
      ],
      "execution_count": 32,
      "metadata": {
        "collapsed": false,
        "outputHidden": false,
        "inputHidden": false,
        "execution": {
          "iopub.status.busy": "2020-06-26T00:28:36.342Z",
          "iopub.execute_input": "2020-06-26T00:28:36.352Z",
          "iopub.status.idle": "2020-06-26T00:28:36.381Z",
          "shell.execute_reply": "2020-06-26T00:28:37.233Z"
        }
      }
    },
    {
      "cell_type": "code",
      "source": [
        "plt.figure(figsize=(7,7))\n",
        "corr = returns.corr()\n",
        "\n",
        "# plot the heatmap\n",
        "sns.heatmap(corr, \n",
        "        xticklabels=corr.columns,\n",
        "        yticklabels=corr.columns,\n",
        "            cmap=\"Blues\")"
      ],
      "outputs": [
        {
          "output_type": "execute_result",
          "execution_count": 33,
          "data": {
            "text/plain": [
              "<matplotlib.axes._subplots.AxesSubplot at 0x1e0a3457c18>"
            ]
          },
          "metadata": {}
        },
        {
          "output_type": "display_data",
          "data": {
            "text/plain": [
              "<Figure size 504x504 with 2 Axes>"
            ],
            "image/png": "[encoded data removed]"
          },
          "metadata": {
            "needs_background": "light"
          }
        }
      ],
      "execution_count": 33,
      "metadata": {
        "collapsed": false,
        "outputHidden": false,
        "inputHidden": false,
        "execution": {
          "iopub.status.busy": "2020-06-26T00:28:36.401Z",
          "iopub.execute_input": "2020-06-26T00:28:36.410Z",
          "iopub.status.idle": "2020-06-26T00:28:36.437Z",
          "shell.execute_reply": "2020-06-26T00:28:37.239Z"
        }
      }
    },
    {
      "cell_type": "code",
      "source": [
        "# Box plot\n",
        "returns.plot(kind='box')"
      ],
      "outputs": [
        {
          "output_type": "execute_result",
          "execution_count": 34,
          "data": {
            "text/plain": [
              "<matplotlib.axes._subplots.AxesSubplot at 0x1e0a55d16d8>"
            ]
          },
          "metadata": {}
        },
        {
          "output_type": "display_data",
          "data": {
            "text/plain": [
              "<Figure size 432x288 with 1 Axes>"
            ],
            "image/png": "[encoded data removed]"
          },
          "metadata": {
            "needs_background": "light"
          }
        }
      ],
      "execution_count": 34,
      "metadata": {
        "collapsed": false,
        "outputHidden": false,
        "inputHidden": false,
        "execution": {
          "iopub.status.busy": "2020-06-26T00:28:36.453Z",
          "iopub.execute_input": "2020-06-26T00:28:36.462Z",
          "iopub.status.idle": "2020-06-26T00:28:36.492Z",
          "shell.execute_reply": "2020-06-26T00:28:37.246Z"
        }
      }
    },
    {
      "cell_type": "code",
      "source": [
        "rets = returns.dropna()\n",
        "\n",
        "plt.scatter(rets.mean(), rets.std(),alpha = 0.5)\n",
        "\n",
        "plt.title('Stocks Risk & Returns')\n",
        "plt.xlabel('Expected returns')\n",
        "plt.ylabel('Risk')\n",
        "plt.grid(which='major')\n",
        "\n",
        "for label, x, y in zip(rets.columns, rets.mean(), rets.std()):\n",
        "    plt.annotate(\n",
        "        label, \n",
        "        xy = (x, y), xytext = (50, 50),\n",
        "        textcoords = 'offset points', ha = 'right', va = 'bottom',\n",
        "        arrowprops = dict(arrowstyle = '-', connectionstyle = 'arc3,rad=-0.3'))"
      ],
      "outputs": [
        {
          "output_type": "display_data",
          "data": {
            "text/plain": [
              "<Figure size 432x288 with 1 Axes>"
            ],
            "image/png": "[encoded data removed]"
          },
          "metadata": {
            "needs_background": "light"
          }
        }
      ],
      "execution_count": 35,
      "metadata": {
        "collapsed": false,
        "outputHidden": false,
        "inputHidden": false,
        "execution": {
          "iopub.status.busy": "2020-06-26T00:28:36.509Z",
          "iopub.execute_input": "2020-06-26T00:28:36.519Z",
          "iopub.status.idle": "2020-06-26T00:28:36.739Z",
          "shell.execute_reply": "2020-06-26T00:28:37.254Z"
        }
      }
    },
    {
      "cell_type": "code",
      "source": [
        "area = np.pi*20.0\n",
        "\n",
        "sns.set(style='darkgrid')\n",
        "plt.figure(figsize=(12,8))\n",
        "plt.scatter(rets.mean(), rets.std(), s=area)\n",
        "plt.xlabel(\"Expected Return\", fontsize=15)\n",
        "plt.ylabel(\"Risk\", fontsize=15)\n",
        "plt.title(\"Return vs. Risk for \" + title, fontsize=20)\n",
        "\n",
        "for label, x, y in zip(rets.columns, rets.mean(), rets.std()) : \n",
        "    plt.annotate(label, xy=(x,y), xytext=(50, 0), textcoords='offset points',\n",
        "                arrowprops=dict(arrowstyle='-', connectionstyle='bar,angle=180,fraction=-0.2'),\n",
        "                bbox=dict(boxstyle=\"round\", fc=\"w\"))"
      ],
      "outputs": [
        {
          "output_type": "display_data",
          "data": {
            "text/plain": [
              "<Figure size 864x576 with 1 Axes>"
            ],
            "image/png": "[encoded data removed]"
          },
          "metadata": {}
        }
      ],
      "execution_count": 36,
      "metadata": {
        "collapsed": false,
        "outputHidden": false,
        "inputHidden": false,
        "execution": {
          "iopub.status.busy": "2020-06-26T00:28:36.764Z",
          "iopub.execute_input": "2020-06-26T00:28:36.774Z",
          "iopub.status.idle": "2020-06-26T00:28:36.957Z",
          "shell.execute_reply": "2020-06-26T00:28:37.262Z"
        }
      }
    },
    {
      "cell_type": "code",
      "source": [
        "print(\"Stock returns: \")\n",
        "print(rets.mean())\n",
        "print('-' * 50)\n",
        "print(\"Stock risk:\")\n",
        "print(rets.std())"
      ],
      "outputs": [
        {
          "output_type": "stream",
          "name": "stdout",
          "text": [
            "Stock returns: \n",
            "ITE          0.000072\n",
            "SHY          0.000027\n",
            "SPIP         0.000095\n",
            "VGLT         0.000251\n",
            "Portfolio    0.000108\n",
            "dtype: float64\n",
            "--------------------------------------------------\n",
            "Stock risk:\n",
            "ITE          0.001601\n",
            "SHY          0.000511\n",
            "SPIP         0.003316\n",
            "VGLT         0.007557\n",
            "Portfolio    0.002785\n",
            "dtype: float64\n"
          ]
        }
      ],
      "execution_count": 37,
      "metadata": {
        "collapsed": false,
        "outputHidden": false,
        "inputHidden": false,
        "execution": {
          "iopub.status.busy": "2020-06-26T00:28:36.974Z",
          "iopub.execute_input": "2020-06-26T00:28:36.985Z",
          "iopub.status.idle": "2020-06-26T00:28:37.007Z",
          "shell.execute_reply": "2020-06-26T00:28:37.269Z"
        }
      }
    },
    {
      "cell_type": "code",
      "source": [
        "table = pd.DataFrame()\n",
        "table['Returns'] = rets.mean()\n",
        "table['Risk'] = rets.std()\n",
        "table.sort_values(by='Returns')"
      ],
      "outputs": [
        {
          "output_type": "execute_result",
          "execution_count": 38,
          "data": {
            "text/html": [
              "<div>\n",
              "<style scoped>\n",
              "    .dataframe tbody tr th:only-of-type {\n",
              "        vertical-align: middle;\n",
              "    }\n",
              "\n",
              "    .dataframe tbody tr th {\n",
              "        vertical-align: top;\n",
              "    }\n",
              "\n",
              "    .dataframe thead th {\n",
              "        text-align: right;\n",
              "    }\n",
              "</style>\n",
              "<table border=\"1\" class=\"dataframe\">\n",
              "  <thead>\n",
              "    <tr style=\"text-align: right;\">\n",
              "      <th></th>\n",
              "      <th>Returns</th>\n",
              "      <th>Risk</th>\n",
              "    </tr>\n",
              "  </thead>\n",
              "  <tbody>\n",
              "    <tr>\n",
              "      <th>SHY</th>\n",
              "      <td>0.000027</td>\n",
              "      <td>0.000511</td>\n",
              "    </tr>\n",
              "    <tr>\n",
              "      <th>ITE</th>\n",
              "      <td>0.000072</td>\n",
              "      <td>0.001601</td>\n",
              "    </tr>\n",
              "    <tr>\n",
              "      <th>SPIP</th>\n",
              "      <td>0.000095</td>\n",
              "      <td>0.003316</td>\n",
              "    </tr>\n",
              "    <tr>\n",
              "      <th>Portfolio</th>\n",
              "      <td>0.000108</td>\n",
              "      <td>0.002785</td>\n",
              "    </tr>\n",
              "    <tr>\n",
              "      <th>VGLT</th>\n",
              "      <td>0.000251</td>\n",
              "      <td>0.007557</td>\n",
              "    </tr>\n",
              "  </tbody>\n",
              "</table>\n",
              "</div>"
            ],
            "text/plain": [
              "            Returns      Risk\n",
              "SHY        0.000027  0.000511\n",
              "ITE        0.000072  0.001601\n",
              "SPIP       0.000095  0.003316\n",
              "Portfolio  0.000108  0.002785\n",
              "VGLT       0.000251  0.007557"
            ]
          },
          "metadata": {}
        }
      ],
      "execution_count": 38,
      "metadata": {
        "collapsed": false,
        "outputHidden": false,
        "inputHidden": false,
        "execution": {
          "iopub.status.busy": "2020-06-26T00:28:37.021Z",
          "iopub.execute_input": "2020-06-26T00:28:37.030Z",
          "iopub.status.idle": "2020-06-26T00:28:37.050Z",
          "shell.execute_reply": "2020-06-26T00:28:37.278Z"
        }
      }
    },
    {
      "cell_type": "code",
      "source": [
        "table.sort_values(by='Risk')"
      ],
      "outputs": [
        {
          "output_type": "execute_result",
          "execution_count": 39,
          "data": {
            "text/html": [
              "<div>\n",
              "<style scoped>\n",
              "    .dataframe tbody tr th:only-of-type {\n",
              "        vertical-align: middle;\n",
              "    }\n",
              "\n",
              "    .dataframe tbody tr th {\n",
              "        vertical-align: top;\n",
              "    }\n",
              "\n",
              "    .dataframe thead th {\n",
              "        text-align: right;\n",
              "    }\n",
              "</style>\n",
              "<table border=\"1\" class=\"dataframe\">\n",
              "  <thead>\n",
              "    <tr style=\"text-align: right;\">\n",
              "      <th></th>\n",
              "      <th>Returns</th>\n",
              "      <th>Risk</th>\n",
              "    </tr>\n",
              "  </thead>\n",
              "  <tbody>\n",
              "    <tr>\n",
              "      <th>SHY</th>\n",
              "      <td>0.000027</td>\n",
              "      <td>0.000511</td>\n",
              "    </tr>\n",
              "    <tr>\n",
              "      <th>ITE</th>\n",
              "      <td>0.000072</td>\n",
              "      <td>0.001601</td>\n",
              "    </tr>\n",
              "    <tr>\n",
              "      <th>Portfolio</th>\n",
              "      <td>0.000108</td>\n",
              "      <td>0.002785</td>\n",
              "    </tr>\n",
              "    <tr>\n",
              "      <th>SPIP</th>\n",
              "      <td>0.000095</td>\n",
              "      <td>0.003316</td>\n",
              "    </tr>\n",
              "    <tr>\n",
              "      <th>VGLT</th>\n",
              "      <td>0.000251</td>\n",
              "      <td>0.007557</td>\n",
              "    </tr>\n",
              "  </tbody>\n",
              "</table>\n",
              "</div>"
            ],
            "text/plain": [
              "            Returns      Risk\n",
              "SHY        0.000027  0.000511\n",
              "ITE        0.000072  0.001601\n",
              "Portfolio  0.000108  0.002785\n",
              "SPIP       0.000095  0.003316\n",
              "VGLT       0.000251  0.007557"
            ]
          },
          "metadata": {}
        }
      ],
      "execution_count": 39,
      "metadata": {
        "collapsed": false,
        "outputHidden": false,
        "inputHidden": false,
        "execution": {
          "iopub.status.busy": "2020-06-26T00:28:37.063Z",
          "iopub.execute_input": "2020-06-26T00:28:37.072Z",
          "iopub.status.idle": "2020-06-26T00:28:37.092Z",
          "shell.execute_reply": "2020-06-26T00:28:37.286Z"
        }
      }
    },
    {
      "cell_type": "code",
      "source": [
        "rf = 0.001\n",
        "table['Sharpe_Ratio'] = ((table['Returns'] - rf) / table['Risk']) * np.sqrt(252)\n",
        "table"
      ],
      "outputs": [
        {
          "output_type": "execute_result",
          "execution_count": 40,
          "data": {
            "text/html": [
              "<div>\n",
              "<style scoped>\n",
              "    .dataframe tbody tr th:only-of-type {\n",
              "        vertical-align: middle;\n",
              "    }\n",
              "\n",
              "    .dataframe tbody tr th {\n",
              "        vertical-align: top;\n",
              "    }\n",
              "\n",
              "    .dataframe thead th {\n",
              "        text-align: right;\n",
              "    }\n",
              "</style>\n",
              "<table border=\"1\" class=\"dataframe\">\n",
              "  <thead>\n",
              "    <tr style=\"text-align: right;\">\n",
              "      <th></th>\n",
              "      <th>Returns</th>\n",
              "      <th>Risk</th>\n",
              "      <th>Sharpe_Ratio</th>\n",
              "    </tr>\n",
              "  </thead>\n",
              "  <tbody>\n",
              "    <tr>\n",
              "      <th>ITE</th>\n",
              "      <td>0.000072</td>\n",
              "      <td>0.001601</td>\n",
              "      <td>-9.205392</td>\n",
              "    </tr>\n",
              "    <tr>\n",
              "      <th>SHY</th>\n",
              "      <td>0.000027</td>\n",
              "      <td>0.000511</td>\n",
              "      <td>-30.249276</td>\n",
              "    </tr>\n",
              "    <tr>\n",
              "      <th>SPIP</th>\n",
              "      <td>0.000095</td>\n",
              "      <td>0.003316</td>\n",
              "      <td>-4.330842</td>\n",
              "    </tr>\n",
              "    <tr>\n",
              "      <th>VGLT</th>\n",
              "      <td>0.000251</td>\n",
              "      <td>0.007557</td>\n",
              "      <td>-1.572364</td>\n",
              "    </tr>\n",
              "    <tr>\n",
              "      <th>Portfolio</th>\n",
              "      <td>0.000108</td>\n",
              "      <td>0.002785</td>\n",
              "      <td>-5.083835</td>\n",
              "    </tr>\n",
              "  </tbody>\n",
              "</table>\n",
              "</div>"
            ],
            "text/plain": [
              "            Returns      Risk  Sharpe_Ratio\n",
              "ITE        0.000072  0.001601     -9.205392\n",
              "SHY        0.000027  0.000511    -30.249276\n",
              "SPIP       0.000095  0.003316     -4.330842\n",
              "VGLT       0.000251  0.007557     -1.572364\n",
              "Portfolio  0.000108  0.002785     -5.083835"
            ]
          },
          "metadata": {}
        }
      ],
      "execution_count": 40,
      "metadata": {
        "collapsed": false,
        "outputHidden": false,
        "inputHidden": false,
        "execution": {
          "iopub.status.busy": "2020-06-26T00:28:37.108Z",
          "iopub.execute_input": "2020-06-26T00:28:37.118Z",
          "iopub.status.idle": "2020-06-26T00:28:37.139Z",
          "shell.execute_reply": "2020-06-26T00:28:37.292Z"
        }
      }
    }
  ],
  "metadata": {
    "kernel_info": {
      "name": "python3"
    },
    "language_info": {
      "codemirror_mode": {
        "name": "ipython",
        "version": 3
      },
      "mimetype": "text/x-python",
      "nbconvert_exporter": "python",
      "name": "python",
      "pygments_lexer": "ipython3",
      "version": "3.5.5",
      "file_extension": ".py"
    },
    "kernelspec": {
      "name": "python3",
      "language": "python",
      "display_name": "Python 3"
    },
    "nteract": {
      "version": "0.23.3"
    }
  },
  "nbformat": 4,
  "nbformat_minor": 0
}