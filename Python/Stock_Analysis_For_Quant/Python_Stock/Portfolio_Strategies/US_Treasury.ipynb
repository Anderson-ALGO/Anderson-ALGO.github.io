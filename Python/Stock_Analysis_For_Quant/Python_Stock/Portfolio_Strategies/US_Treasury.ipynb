{
  "cells": [
    {
      "cell_type": "markdown",
      "source": [
        "# US Treasury Bill ^IRX"
      ],
      "metadata": {}
    },
    {
      "cell_type": "markdown",
      "source": [
        "https://finance.yahoo.com/quote/SPY?p=SPY"
      ],
      "metadata": {}
    },
    {
      "cell_type": "markdown",
      "source": [
        "If you have time, is good to invest in US Treasury when it was down and wait for long-term."
      ],
      "metadata": {}
    },
    {
      "cell_type": "markdown",
      "source": [
        "## 13 Week Treasury Bill (^IRX)"
      ],
      "metadata": {}
    },
    {
      "cell_type": "code",
      "source": [
        "import numpy as np\n",
        "import pandas as pd\n",
        "import matplotlib.pyplot as plt\n",
        "import matplotlib.mlab as mlab\n",
        "import seaborn as sns\n",
        "from tabulate import tabulate\n",
        "import math\n",
        "from scipy.stats import norm\n",
        "from datetime import datetime\n",
        "\n",
        "import warnings\n",
        "warnings.filterwarnings(\"ignore\")\n",
        "\n",
        "# fix_yahoo_finance is used to fetch data \n",
        "import fix_yahoo_finance as yf\n",
        "yf.pdr_override()"
      ],
      "outputs": [],
      "execution_count": 1,
      "metadata": {
        "collapsed": false,
        "outputHidden": false,
        "inputHidden": false
      }
    },
    {
      "cell_type": "code",
      "source": [
        "# input\n",
        "symbol = '^IRX'\n",
        "start = '2013-09-16'\n",
        "end = '2015-01-01'\n",
        "\n",
        "# Read data \n",
        "df = yf.download(symbol,start,end)\n",
        "\n",
        "# View Columns\n",
        "df.head()"
      ],
      "outputs": [
        {
          "output_type": "stream",
          "name": "stdout",
          "text": [
            "[*********************100%***********************]  1 of 1 downloaded\n"
          ]
        },
        {
          "output_type": "execute_result",
          "execution_count": 2,
          "data": {
            "text/plain": [
              "             Open   High    Low  Close  Adj Close  Volume\n",
              "Date                                                     \n",
              "2013-01-02  0.052  0.060  0.050  0.055      0.055       0\n",
              "2013-01-03  0.065  0.065  0.063  0.065      0.065       0\n",
              "2013-01-04  0.070  0.070  0.060  0.065      0.065       0\n",
              "2013-01-07  0.065  0.065  0.055  0.058      0.058       0\n",
              "2013-01-08  0.065  0.065  0.060  0.060      0.060       0"
            ],
            "text/html": [
              "<div>\n",
              "<style scoped>\n",
              "    .dataframe tbody tr th:only-of-type {\n",
              "        vertical-align: middle;\n",
              "    }\n",
              "\n",
              "    .dataframe tbody tr th {\n",
              "        vertical-align: top;\n",
              "    }\n",
              "\n",
              "    .dataframe thead th {\n",
              "        text-align: right;\n",
              "    }\n",
              "</style>\n",
              "<table border=\"1\" class=\"dataframe\">\n",
              "  <thead>\n",
              "    <tr style=\"text-align: right;\">\n",
              "      <th></th>\n",
              "      <th>Open</th>\n",
              "      <th>High</th>\n",
              "      <th>Low</th>\n",
              "      <th>Close</th>\n",
              "      <th>Adj Close</th>\n",
              "      <th>Volume</th>\n",
              "    </tr>\n",
              "    <tr>\n",
              "      <th>Date</th>\n",
              "      <th></th>\n",
              "      <th></th>\n",
              "      <th></th>\n",
              "      <th></th>\n",
              "      <th></th>\n",
              "      <th></th>\n",
              "    </tr>\n",
              "  </thead>\n",
              "  <tbody>\n",
              "    <tr>\n",
              "      <th>2013-01-02</th>\n",
              "      <td>0.052</td>\n",
              "      <td>0.060</td>\n",
              "      <td>0.050</td>\n",
              "      <td>0.055</td>\n",
              "      <td>0.055</td>\n",
              "      <td>0</td>\n",
              "    </tr>\n",
              "    <tr>\n",
              "      <th>2013-01-03</th>\n",
              "      <td>0.065</td>\n",
              "      <td>0.065</td>\n",
              "      <td>0.063</td>\n",
              "      <td>0.065</td>\n",
              "      <td>0.065</td>\n",
              "      <td>0</td>\n",
              "    </tr>\n",
              "    <tr>\n",
              "      <th>2013-01-04</th>\n",
              "      <td>0.070</td>\n",
              "      <td>0.070</td>\n",
              "      <td>0.060</td>\n",
              "      <td>0.065</td>\n",
              "      <td>0.065</td>\n",
              "      <td>0</td>\n",
              "    </tr>\n",
              "    <tr>\n",
              "      <th>2013-01-07</th>\n",
              "      <td>0.065</td>\n",
              "      <td>0.065</td>\n",
              "      <td>0.055</td>\n",
              "      <td>0.058</td>\n",
              "      <td>0.058</td>\n",
              "      <td>0</td>\n",
              "    </tr>\n",
              "    <tr>\n",
              "      <th>2013-01-08</th>\n",
              "      <td>0.065</td>\n",
              "      <td>0.065</td>\n",
              "      <td>0.060</td>\n",
              "      <td>0.060</td>\n",
              "      <td>0.060</td>\n",
              "      <td>0</td>\n",
              "    </tr>\n",
              "  </tbody>\n",
              "</table>\n",
              "</div>"
            ]
          },
          "metadata": {}
        }
      ],
      "execution_count": 2,
      "metadata": {
        "collapsed": false,
        "outputHidden": false,
        "inputHidden": false
      }
    },
    {
      "cell_type": "code",
      "source": [
        "df.tail()"
      ],
      "outputs": [
        {
          "output_type": "execute_result",
          "execution_count": 3,
          "data": {
            "text/plain": [
              "             Open   High    Low  Close  Adj Close  Volume\n",
              "Date                                                     \n",
              "2013-12-24  0.068  0.070  0.065  0.068      0.068       0\n",
              "2013-12-26  0.065  0.068  0.058  0.060      0.060       0\n",
              "2013-12-27  0.060  0.060  0.058  0.058      0.058       0\n",
              "2013-12-30  0.052  0.055  0.052  0.055      0.055       0\n",
              "2013-12-31  0.060  0.065  0.055  0.063      0.063       0"
            ],
            "text/html": [
              "<div>\n",
              "<style scoped>\n",
              "    .dataframe tbody tr th:only-of-type {\n",
              "        vertical-align: middle;\n",
              "    }\n",
              "\n",
              "    .dataframe tbody tr th {\n",
              "        vertical-align: top;\n",
              "    }\n",
              "\n",
              "    .dataframe thead th {\n",
              "        text-align: right;\n",
              "    }\n",
              "</style>\n",
              "<table border=\"1\" class=\"dataframe\">\n",
              "  <thead>\n",
              "    <tr style=\"text-align: right;\">\n",
              "      <th></th>\n",
              "      <th>Open</th>\n",
              "      <th>High</th>\n",
              "      <th>Low</th>\n",
              "      <th>Close</th>\n",
              "      <th>Adj Close</th>\n",
              "      <th>Volume</th>\n",
              "    </tr>\n",
              "    <tr>\n",
              "      <th>Date</th>\n",
              "      <th></th>\n",
              "      <th></th>\n",
              "      <th></th>\n",
              "      <th></th>\n",
              "      <th></th>\n",
              "      <th></th>\n",
              "    </tr>\n",
              "  </thead>\n",
              "  <tbody>\n",
              "    <tr>\n",
              "      <th>2013-12-24</th>\n",
              "      <td>0.068</td>\n",
              "      <td>0.070</td>\n",
              "      <td>0.065</td>\n",
              "      <td>0.068</td>\n",
              "      <td>0.068</td>\n",
              "      <td>0</td>\n",
              "    </tr>\n",
              "    <tr>\n",
              "      <th>2013-12-26</th>\n",
              "      <td>0.065</td>\n",
              "      <td>0.068</td>\n",
              "      <td>0.058</td>\n",
              "      <td>0.060</td>\n",
              "      <td>0.060</td>\n",
              "      <td>0</td>\n",
              "    </tr>\n",
              "    <tr>\n",
              "      <th>2013-12-27</th>\n",
              "      <td>0.060</td>\n",
              "      <td>0.060</td>\n",
              "      <td>0.058</td>\n",
              "      <td>0.058</td>\n",
              "      <td>0.058</td>\n",
              "      <td>0</td>\n",
              "    </tr>\n",
              "    <tr>\n",
              "      <th>2013-12-30</th>\n",
              "      <td>0.052</td>\n",
              "      <td>0.055</td>\n",
              "      <td>0.052</td>\n",
              "      <td>0.055</td>\n",
              "      <td>0.055</td>\n",
              "      <td>0</td>\n",
              "    </tr>\n",
              "    <tr>\n",
              "      <th>2013-12-31</th>\n",
              "      <td>0.060</td>\n",
              "      <td>0.065</td>\n",
              "      <td>0.055</td>\n",
              "      <td>0.063</td>\n",
              "      <td>0.063</td>\n",
              "      <td>0</td>\n",
              "    </tr>\n",
              "  </tbody>\n",
              "</table>\n",
              "</div>"
            ]
          },
          "metadata": {}
        }
      ],
      "execution_count": 3,
      "metadata": {
        "collapsed": false,
        "outputHidden": false,
        "inputHidden": false
      }
    },
    {
      "cell_type": "code",
      "source": [
        "df['Adj Close'].idxmin()"
      ],
      "outputs": [
        {
          "output_type": "execute_result",
          "execution_count": 4,
          "data": {
            "text/plain": [
              "Timestamp('2013-09-16 00:00:00')"
            ]
          },
          "metadata": {}
        }
      ],
      "execution_count": 4,
      "metadata": {
        "collapsed": false,
        "outputHidden": false,
        "inputHidden": false
      }
    },
    {
      "cell_type": "code",
      "source": [
        "df['Adj Close'].min()"
      ],
      "outputs": [
        {
          "output_type": "execute_result",
          "execution_count": 5,
          "data": {
            "text/plain": [
              "0.003"
            ]
          },
          "metadata": {}
        }
      ],
      "execution_count": 5,
      "metadata": {
        "collapsed": false,
        "outputHidden": false,
        "inputHidden": false
      }
    },
    {
      "cell_type": "code",
      "source": [
        "df['Adj Close'].max()"
      ],
      "outputs": [
        {
          "output_type": "execute_result",
          "execution_count": 6,
          "data": {
            "text/plain": [
              "0.12"
            ]
          },
          "metadata": {}
        }
      ],
      "execution_count": 6,
      "metadata": {
        "collapsed": false,
        "outputHidden": false,
        "inputHidden": false
      }
    },
    {
      "cell_type": "code",
      "source": [
        "from datetime import datetime\n",
        "from dateutil import relativedelta\n",
        "\n",
        "d1 = datetime.strptime(start, \"%Y-%m-%d\")\n",
        "d2 = datetime.strptime(end, \"%Y-%m-%d\")\n",
        "delta = relativedelta.relativedelta(d2,d1)\n",
        "print('How many years of investing?')\n",
        "print('%s years' % delta.years)"
      ],
      "outputs": [
        {
          "output_type": "stream",
          "name": "stdout",
          "text": [
            "How many years of investing?\n",
            "1 years\n"
          ]
        }
      ],
      "execution_count": 7,
      "metadata": {
        "collapsed": false,
        "outputHidden": false,
        "inputHidden": false
      }
    },
    {
      "cell_type": "markdown",
      "source": [
        "### Starting Cash with 100k to invest in Bonds"
      ],
      "metadata": {}
    },
    {
      "cell_type": "code",
      "source": [
        "Cash = 100000"
      ],
      "outputs": [],
      "execution_count": 8,
      "metadata": {
        "collapsed": false,
        "outputHidden": false,
        "inputHidden": false
      }
    },
    {
      "cell_type": "code",
      "source": [
        "print('Number of Shares:')\n",
        "shares = int(Cash/df['Adj Close'].iloc[0])\n",
        "print('{}: {}'.format(symbol, shares))"
      ],
      "outputs": [
        {
          "output_type": "stream",
          "name": "stdout",
          "text": [
            "Number of Shares:\n",
            "^IRX: 1818181\n"
          ]
        }
      ],
      "execution_count": 9,
      "metadata": {
        "collapsed": false,
        "outputHidden": false,
        "inputHidden": false
      }
    },
    {
      "cell_type": "code",
      "source": [
        "print('Beginning Value:')\n",
        "shares = int(Cash/df['Adj Close'].iloc[0])\n",
        "Begin_Value = round(shares * df['Adj Close'].iloc[0], 2)\n",
        "print('{}: ${}'.format(symbol, Begin_Value))"
      ],
      "outputs": [
        {
          "output_type": "stream",
          "name": "stdout",
          "text": [
            "Beginning Value:\n",
            "^IRX: $99999.96\n"
          ]
        }
      ],
      "execution_count": 10,
      "metadata": {
        "collapsed": false,
        "outputHidden": false,
        "inputHidden": false
      }
    },
    {
      "cell_type": "code",
      "source": [
        "print('Current Value:')\n",
        "shares = int(Cash/df['Adj Close'].iloc[0])\n",
        "Current_Value = round(shares * df['Adj Close'].iloc[-1], 2)\n",
        "print('{}: ${}'.format(symbol, Current_Value))"
      ],
      "outputs": [
        {
          "output_type": "stream",
          "name": "stdout",
          "text": [
            "Current Value:\n",
            "^IRX: $114545.4\n"
          ]
        }
      ],
      "execution_count": 11,
      "metadata": {
        "collapsed": false,
        "outputHidden": false,
        "inputHidden": false
      }
    },
    {
      "cell_type": "code",
      "source": [
        "returns = df['Adj Close'].pct_change().dropna()"
      ],
      "outputs": [],
      "execution_count": 12,
      "metadata": {
        "collapsed": false,
        "outputHidden": false,
        "inputHidden": false
      }
    },
    {
      "cell_type": "code",
      "source": [
        "returns.head()"
      ],
      "outputs": [
        {
          "output_type": "execute_result",
          "execution_count": 13,
          "data": {
            "text/plain": [
              "Date\n",
              "2013-01-03    0.181818\n",
              "2013-01-04    0.000000\n",
              "2013-01-07   -0.107692\n",
              "2013-01-08    0.034483\n",
              "2013-01-09   -0.083333\n",
              "Name: Adj Close, dtype: float64"
            ]
          },
          "metadata": {}
        }
      ],
      "execution_count": 13,
      "metadata": {
        "collapsed": false,
        "outputHidden": false,
        "inputHidden": false
      }
    },
    {
      "cell_type": "code",
      "source": [
        "returns.tail()"
      ],
      "outputs": [
        {
          "output_type": "execute_result",
          "execution_count": 14,
          "data": {
            "text/plain": [
              "Date\n",
              "2013-12-24    0.172414\n",
              "2013-12-26   -0.117647\n",
              "2013-12-27   -0.033333\n",
              "2013-12-30   -0.051724\n",
              "2013-12-31    0.145455\n",
              "Name: Adj Close, dtype: float64"
            ]
          },
          "metadata": {}
        }
      ],
      "execution_count": 14,
      "metadata": {
        "collapsed": false,
        "outputHidden": false,
        "inputHidden": false
      }
    },
    {
      "cell_type": "code",
      "source": [
        "# Calculate cumulative returns\n",
        "daily_cum_ret=(1+returns).cumprod()\n",
        "print(daily_cum_ret.tail())"
      ],
      "outputs": [
        {
          "output_type": "stream",
          "name": "stdout",
          "text": [
            "Date\n",
            "2013-12-24    1.236364\n",
            "2013-12-26    1.090909\n",
            "2013-12-27    1.054545\n",
            "2013-12-30    1.000000\n",
            "2013-12-31    1.145455\n",
            "Name: Adj Close, dtype: float64\n"
          ]
        }
      ],
      "execution_count": 15,
      "metadata": {
        "collapsed": false,
        "outputHidden": false,
        "inputHidden": false
      }
    },
    {
      "cell_type": "code",
      "source": [
        "# Print the mean\n",
        "print(\"mean : \", returns.mean()*100)\n",
        "\n",
        "# Print the standard deviation\n",
        "print(\"Std. dev: \", returns.std()*100)\n",
        "\n",
        "# Print the skewness\n",
        "print(\"skew: \", returns.skew())\n",
        "\n",
        "# Print the kurtosis\n",
        "print(\"kurt: \", returns.kurtosis())"
      ],
      "outputs": [
        {
          "output_type": "stream",
          "name": "stdout",
          "text": [
            "mean :  4.982255504512721\n",
            "Std. dev:  38.82732751867047\n",
            "skew:  3.9857719352220937\n",
            "kurt:  23.279409133411303\n"
          ]
        }
      ],
      "execution_count": 16,
      "metadata": {
        "collapsed": false,
        "outputHidden": false,
        "inputHidden": false
      }
    },
    {
      "cell_type": "code",
      "source": [
        "# Calculate total return and annualized return from price data \n",
        "total_return = (returns[-1] - returns[0]) / returns[0]\n",
        "print(total_return)"
      ],
      "outputs": [
        {
          "output_type": "stream",
          "name": "stdout",
          "text": [
            "-0.2\n"
          ]
        }
      ],
      "execution_count": 17,
      "metadata": {
        "collapsed": false,
        "outputHidden": false,
        "inputHidden": false
      }
    },
    {
      "cell_type": "code",
      "source": [
        "# Annualize the total return over 12 year \n",
        "annualized_return = ((1+total_return)**(1/12))-1"
      ],
      "outputs": [],
      "execution_count": 18,
      "metadata": {
        "collapsed": false,
        "outputHidden": false,
        "inputHidden": false
      }
    },
    {
      "cell_type": "code",
      "source": [
        "# Calculate annualized volatility from the standard deviation\n",
        "vol_port = returns.std() * np.sqrt(250)"
      ],
      "outputs": [],
      "execution_count": 19,
      "metadata": {
        "collapsed": false,
        "outputHidden": false,
        "inputHidden": false
      }
    },
    {
      "cell_type": "code",
      "source": [
        "# Calculate the Sharpe ratio \n",
        "rf = 0.001\n",
        "sharpe_ratio = (annualized_return - rf) / vol_port\n",
        "print(sharpe_ratio)"
      ],
      "outputs": [
        {
          "output_type": "stream",
          "name": "stdout",
          "text": [
            "-0.0031638750121881303\n"
          ]
        }
      ],
      "execution_count": 20,
      "metadata": {
        "collapsed": false,
        "outputHidden": false,
        "inputHidden": false
      }
    },
    {
      "cell_type": "code",
      "source": [
        "# Create a downside return column with the negative returns only\n",
        "target = 0\n",
        "downside_returns = returns.loc[returns < target]\n",
        "\n",
        "# Calculate expected return and std dev of downside\n",
        "expected_return = returns.mean()\n",
        "down_stdev = downside_returns.std()\n",
        "\n",
        "# Calculate the sortino ratio\n",
        "rf = 0.01\n",
        "sortino_ratio = (expected_return - rf)/down_stdev\n",
        "\n",
        "# Print the results\n",
        "print(\"Expected return: \", expected_return*100)\n",
        "print('-' * 50)\n",
        "print(\"Downside risk:\")\n",
        "print(down_stdev*100)\n",
        "print('-' * 50)\n",
        "print(\"Sortino ratio:\")\n",
        "print(sortino_ratio)"
      ],
      "outputs": [
        {
          "output_type": "stream",
          "name": "stdout",
          "text": [
            "Expected return:  4.982255504512721\n",
            "--------------------------------------------------\n",
            "Downside risk:\n",
            "15.905251773656673\n",
            "--------------------------------------------------\n",
            "Sortino ratio:\n",
            "0.2503736225734191\n"
          ]
        }
      ],
      "execution_count": 21,
      "metadata": {
        "collapsed": false,
        "outputHidden": false,
        "inputHidden": false
      }
    },
    {
      "cell_type": "code",
      "source": [
        "# Calculate the max value \n",
        "roll_max = returns.rolling(center=False,min_periods=1,window=252).max()\n",
        "\n",
        "# Calculate the daily draw-down relative to the max\n",
        "daily_draw_down = returns/roll_max - 1.0\n",
        "\n",
        "# Calculate the minimum (negative) daily draw-down\n",
        "max_daily_draw_down = daily_draw_down.rolling(center=False,min_periods=1,window=252).min()\n",
        "\n",
        "# Plot the results\n",
        "plt.figure(figsize=(15,15))\n",
        "plt.plot(returns.index, daily_draw_down, label='Daily drawdown')\n",
        "plt.plot(returns.index, max_daily_draw_down, label='Maximum daily drawdown in time-window')\n",
        "plt.legend()\n",
        "plt.show()"
      ],
      "outputs": [
        {
          "output_type": "display_data",
          "data": {
            "text/plain": [
              "<Figure size 1080x1080 with 1 Axes>"
            ],
            "image/png": "[encoded data removed]"
          },
          "metadata": {}
        }
      ],
      "execution_count": 22,
      "metadata": {
        "collapsed": false,
        "outputHidden": false,
        "inputHidden": false
      }
    },
    {
      "cell_type": "code",
      "source": [
        "# Box plot\n",
        "returns.plot(kind='box')"
      ],
      "outputs": [
        {
          "output_type": "execute_result",
          "execution_count": 23,
          "data": {
            "text/plain": [
              "<matplotlib.axes._subplots.AxesSubplot at 0x178b484abe0>"
            ]
          },
          "metadata": {}
        },
        {
          "output_type": "display_data",
          "data": {
            "text/plain": [
              "<Figure size 432x288 with 1 Axes>"
            ],
            "image/png": "[encoded data removed]"
          },
          "metadata": {}
        }
      ],
      "execution_count": 23,
      "metadata": {
        "collapsed": false,
        "outputHidden": false,
        "inputHidden": false
      }
    },
    {
      "cell_type": "code",
      "source": [
        "print(\"Stock returns: \")\n",
        "print(returns.mean())\n",
        "print('-' * 50)\n",
        "print(\"Stock risk:\")\n",
        "print(returns.std())"
      ],
      "outputs": [
        {
          "output_type": "stream",
          "name": "stdout",
          "text": [
            "Stock returns: \n",
            "0.04982255504512721\n",
            "--------------------------------------------------\n",
            "Stock risk:\n",
            "0.38827327518670474\n"
          ]
        }
      ],
      "execution_count": 24,
      "metadata": {
        "collapsed": false,
        "outputHidden": false,
        "inputHidden": false
      }
    },
    {
      "cell_type": "code",
      "source": [
        "rf = 0.001\n",
        "Sharpe_Ratio = ((returns.mean() - rf) / returns.std()) * np.sqrt(252)\n",
        "print('Sharpe Ratio: ', Sharpe_Ratio)"
      ],
      "outputs": [
        {
          "output_type": "stream",
          "name": "stdout",
          "text": [
            "Sharpe Ratio:  1.9961045059007179\n"
          ]
        }
      ],
      "execution_count": 25,
      "metadata": {
        "collapsed": false,
        "outputHidden": false,
        "inputHidden": false
      }
    },
    {
      "cell_type": "markdown",
      "source": [
        "### Value-at-Risk 99% Confidence"
      ],
      "metadata": {}
    },
    {
      "cell_type": "code",
      "source": [
        "# 99% confidence interval\n",
        "# 0.01 empirical quantile of daily returns\n",
        "var99 = round((returns).quantile(0.01), 3)"
      ],
      "outputs": [],
      "execution_count": 26,
      "metadata": {
        "collapsed": false,
        "outputHidden": false,
        "inputHidden": false
      }
    },
    {
      "cell_type": "code",
      "source": [
        "print('Value at Risk (99% confidence)')\n",
        "print(var99)"
      ],
      "outputs": [
        {
          "output_type": "stream",
          "name": "stdout",
          "text": [
            "Value at Risk (99% confidence)\n",
            "-0.683\n"
          ]
        }
      ],
      "execution_count": 27,
      "metadata": {
        "collapsed": false,
        "outputHidden": false,
        "inputHidden": false
      }
    },
    {
      "cell_type": "code",
      "source": [
        "# the percent value of the 5th quantile\n",
        "print('Percent Value-at-Risk of the 5th quantile')\n",
        "var_1_perc = round(np.quantile(var99, 0.01), 3)\n",
        "print(\"{:.1f}%\".format(-var_1_perc*100))"
      ],
      "outputs": [
        {
          "output_type": "stream",
          "name": "stdout",
          "text": [
            "Percent Value-at-Risk of the 5th quantile\n",
            "68.3%\n"
          ]
        }
      ],
      "execution_count": 28,
      "metadata": {
        "collapsed": false,
        "outputHidden": false,
        "inputHidden": false
      }
    },
    {
      "cell_type": "code",
      "source": [
        "print('Value-at-Risk of 99% for 100,000 investment')\n",
        "print(\"${}\".format(int(-var99 * 100000)))"
      ],
      "outputs": [
        {
          "output_type": "stream",
          "name": "stdout",
          "text": [
            "Value-at-Risk of 99% for 100,000 investment\n",
            "$68300\n"
          ]
        }
      ],
      "execution_count": 29,
      "metadata": {
        "collapsed": false,
        "outputHidden": false,
        "inputHidden": false
      }
    },
    {
      "cell_type": "markdown",
      "source": [
        "### Value-at-Risk 95% Confidence"
      ],
      "metadata": {}
    },
    {
      "cell_type": "code",
      "source": [
        "# 95% confidence interval\n",
        "# 0.05 empirical quantile of daily returns\n",
        "var95 = round((returns).quantile(0.05), 3)"
      ],
      "outputs": [],
      "execution_count": 30,
      "metadata": {
        "collapsed": false,
        "outputHidden": false,
        "inputHidden": false
      }
    },
    {
      "cell_type": "code",
      "source": [
        "print('Value at Risk (95% confidence)')\n",
        "print(var95)"
      ],
      "outputs": [
        {
          "output_type": "stream",
          "name": "stdout",
          "text": [
            "Value at Risk (95% confidence)\n",
            "-0.333\n"
          ]
        }
      ],
      "execution_count": 31,
      "metadata": {
        "collapsed": false,
        "outputHidden": false,
        "inputHidden": false
      }
    },
    {
      "cell_type": "code",
      "source": [
        "print('Percent Value-at-Risk of the 5th quantile')\n",
        "print(\"{:.1f}%\".format(-var95*100))"
      ],
      "outputs": [
        {
          "output_type": "stream",
          "name": "stdout",
          "text": [
            "Percent Value-at-Risk of the 5th quantile\n",
            "33.3%\n"
          ]
        }
      ],
      "execution_count": 32,
      "metadata": {
        "collapsed": false,
        "outputHidden": false,
        "inputHidden": false
      }
    },
    {
      "cell_type": "code",
      "source": [
        "# VaR for 100,000 investment\n",
        "print('Value-at-Risk of 99% for 100,000 investment')\n",
        "var_100k = \"${}\".format(int(-var95 * 100000))\n",
        "print(\"${}\".format(int(-var95 * 100000)))"
      ],
      "outputs": [
        {
          "output_type": "stream",
          "name": "stdout",
          "text": [
            "Value-at-Risk of 99% for 100,000 investment\n",
            "$33300\n"
          ]
        }
      ],
      "execution_count": 33,
      "metadata": {
        "collapsed": false,
        "outputHidden": false,
        "inputHidden": false
      }
    },
    {
      "cell_type": "code",
      "source": [
        "mean = np.mean(returns)\n",
        "std_dev = np.std(returns)"
      ],
      "outputs": [],
      "execution_count": 34,
      "metadata": {
        "collapsed": false,
        "outputHidden": false,
        "inputHidden": false
      }
    },
    {
      "cell_type": "code",
      "source": [
        "returns.hist(bins=50, normed=True, histtype='stepfilled', alpha=0.5)\n",
        "x = np.linspace(mean - 3*std_dev, mean + 3*std_dev, 100)\n",
        "plt.plot(x, mlab.normpdf(x, mean, std_dev), \"r\")\n",
        "plt.title('Histogram of Returns')\n",
        "plt.show()"
      ],
      "outputs": [
        {
          "output_type": "display_data",
          "data": {
            "text/plain": [
              "<Figure size 432x288 with 1 Axes>"
            ],
            "image/png": "[encoded data removed]"
          },
          "metadata": {}
        }
      ],
      "execution_count": 35,
      "metadata": {
        "collapsed": false,
        "outputHidden": false,
        "inputHidden": false
      }
    },
    {
      "cell_type": "code",
      "source": [
        "VaR_90 = norm.ppf(1-0.9, mean, std_dev)\n",
        "VaR_95 = norm.ppf(1-0.95, mean, std_dev)\n",
        "VaR_99 = norm.ppf(1-0.99, mean, std_dev)"
      ],
      "outputs": [],
      "execution_count": 36,
      "metadata": {
        "collapsed": false,
        "outputHidden": false,
        "inputHidden": false
      }
    },
    {
      "cell_type": "code",
      "source": [
        "print(tabulate([['90%', VaR_90], ['95%', VaR_95], ['99%', VaR_99]], headers=['Confidence Level', 'Value at Risk']))"
      ],
      "outputs": [
        {
          "output_type": "stream",
          "name": "stdout",
          "text": [
            "Confidence Level      Value at Risk\n",
            "------------------  ---------------\n",
            "90%                       -0.446777\n",
            "95%                       -0.587557\n",
            "99%                       -0.851635\n"
          ]
        }
      ],
      "execution_count": 37,
      "metadata": {
        "collapsed": false,
        "outputHidden": false,
        "inputHidden": false
      }
    },
    {
      "cell_type": "code",
      "source": [
        "df['Returns'] = df['Adj Close'].pct_change()\n",
        "df['SMA_250'] = df['Adj Close'].rolling(window=250).mean()\n",
        "df.dropna().head()"
      ],
      "outputs": [
        {
          "output_type": "execute_result",
          "execution_count": 38,
          "data": {
            "text/plain": [
              "             Open   High    Low  Close  Adj Close  Volume   Returns   SMA_250\n",
              "Date                                                                         \n",
              "2013-12-27  0.060  0.060  0.058  0.058      0.058       0 -0.033333  0.048320\n",
              "2013-12-30  0.052  0.055  0.052  0.055      0.055       0 -0.051724  0.048320\n",
              "2013-12-31  0.060  0.065  0.055  0.063      0.063       0  0.145455  0.048312"
            ],
            "text/html": [
              "<div>\n",
              "<style scoped>\n",
              "    .dataframe tbody tr th:only-of-type {\n",
              "        vertical-align: middle;\n",
              "    }\n",
              "\n",
              "    .dataframe tbody tr th {\n",
              "        vertical-align: top;\n",
              "    }\n",
              "\n",
              "    .dataframe thead th {\n",
              "        text-align: right;\n",
              "    }\n",
              "</style>\n",
              "<table border=\"1\" class=\"dataframe\">\n",
              "  <thead>\n",
              "    <tr style=\"text-align: right;\">\n",
              "      <th></th>\n",
              "      <th>Open</th>\n",
              "      <th>High</th>\n",
              "      <th>Low</th>\n",
              "      <th>Close</th>\n",
              "      <th>Adj Close</th>\n",
              "      <th>Volume</th>\n",
              "      <th>Returns</th>\n",
              "      <th>SMA_250</th>\n",
              "    </tr>\n",
              "    <tr>\n",
              "      <th>Date</th>\n",
              "      <th></th>\n",
              "      <th></th>\n",
              "      <th></th>\n",
              "      <th></th>\n",
              "      <th></th>\n",
              "      <th></th>\n",
              "      <th></th>\n",
              "      <th></th>\n",
              "    </tr>\n",
              "  </thead>\n",
              "  <tbody>\n",
              "    <tr>\n",
              "      <th>2013-12-27</th>\n",
              "      <td>0.060</td>\n",
              "      <td>0.060</td>\n",
              "      <td>0.058</td>\n",
              "      <td>0.058</td>\n",
              "      <td>0.058</td>\n",
              "      <td>0</td>\n",
              "      <td>-0.033333</td>\n",
              "      <td>0.048320</td>\n",
              "    </tr>\n",
              "    <tr>\n",
              "      <th>2013-12-30</th>\n",
              "      <td>0.052</td>\n",
              "      <td>0.055</td>\n",
              "      <td>0.052</td>\n",
              "      <td>0.055</td>\n",
              "      <td>0.055</td>\n",
              "      <td>0</td>\n",
              "      <td>-0.051724</td>\n",
              "      <td>0.048320</td>\n",
              "    </tr>\n",
              "    <tr>\n",
              "      <th>2013-12-31</th>\n",
              "      <td>0.060</td>\n",
              "      <td>0.065</td>\n",
              "      <td>0.055</td>\n",
              "      <td>0.063</td>\n",
              "      <td>0.063</td>\n",
              "      <td>0</td>\n",
              "      <td>0.145455</td>\n",
              "      <td>0.048312</td>\n",
              "    </tr>\n",
              "  </tbody>\n",
              "</table>\n",
              "</div>"
            ]
          },
          "metadata": {}
        }
      ],
      "execution_count": 38,
      "metadata": {
        "collapsed": false,
        "outputHidden": false,
        "inputHidden": false
      }
    },
    {
      "cell_type": "code",
      "source": [
        "df['Criteria'] = df['Adj Close'] >= df['SMA_250']  \n",
        "df['Criteria'].value_counts()"
      ],
      "outputs": [
        {
          "output_type": "execute_result",
          "execution_count": 39,
          "data": {
            "text/plain": [
              "False    249\n",
              "True       3\n",
              "Name: Criteria, dtype: int64"
            ]
          },
          "metadata": {}
        }
      ],
      "execution_count": 39,
      "metadata": {
        "collapsed": false,
        "outputHidden": false,
        "inputHidden": false
      }
    },
    {
      "cell_type": "code",
      "source": [
        "(100 * (1 + df['Returns']).cumprod()).plot()"
      ],
      "outputs": [
        {
          "output_type": "execute_result",
          "execution_count": 40,
          "data": {
            "text/plain": [
              "<matplotlib.axes._subplots.AxesSubplot at 0x178b694c1d0>"
            ]
          },
          "metadata": {}
        },
        {
          "output_type": "display_data",
          "data": {
            "text/plain": [
              "<Figure size 432x288 with 1 Axes>"
            ],
            "image/png": "[encoded data removed]"
          },
          "metadata": {}
        }
      ],
      "execution_count": 40,
      "metadata": {
        "collapsed": false,
        "outputHidden": false,
        "inputHidden": false
      }
    },
    {
      "cell_type": "code",
      "source": [
        "from matplotlib.ticker import FuncFormatter\n",
        "\n",
        "def profit_loss(x, pos):\n",
        "    'The two args are the value and ticker position'\n",
        "    return \"${:,.0f}\".format(x)\n",
        "\n",
        "money_formatter = FuncFormatter(profit_loss)"
      ],
      "outputs": [],
      "execution_count": 41,
      "metadata": {
        "collapsed": false,
        "outputHidden": false,
        "inputHidden": false
      }
    },
    {
      "cell_type": "code",
      "source": [
        "def backtest(df):\n",
        "    'Backtest a dataset using the SMA strategy'\n",
        "    initial_value = 100000\n",
        "    \n",
        "    df['Criteria'] = df['Adj Close'] >= df['SMA_250']  \n",
        "    df['Buy & Hold'] = initial_value * (1 + df['Returns']).cumprod()\n",
        "    df['Trend'] = initial_value * (1 + (df['Criteria'].shift(1) * df['Returns'] )).cumprod() \n",
        "    \n",
        "    df = df.dropna()\n",
        "    start = df.index.min()\n",
        "    end = df.index.max()\n",
        "    \n",
        "    # Plot graph\n",
        "    ax = df[['Trend', 'Buy & Hold']].plot(grid=True, kind='line', title=\"Trend (12 month SMA) vs. Buy & Hold\\n{} -  {}\".format(start.year, end.year), logy=True, figsize=(12, 6))\n",
        "    ax.yaxis.set_major_formatter(money_formatter)\n",
        "\n",
        "    # Print end stats\n",
        "    portfolio_value = df.iloc[-1]['Trend']\n",
        "    benchmark_value = df.iloc[-1]['Buy & Hold']\n",
        "    years = ((end.year - start.year - 2) * 12 + end.month - 1 + (13-start.month) ) / 12.00\n",
        "    portfolio_return = (((portfolio_value / 100.00) ** (1.00/years)) - 1) * 100.00\n",
        "    benchmark_return = (((benchmark_value / 100.00) ** (1.00/years)) - 1) * 100.00\n",
        "    \n",
        "    text = 'Portfolio value: ${:,.0f} ({:,.2f}%)'.format(portfolio_value, portfolio_return)\n",
        "    text += \"\\n\" + 'Benchmark value: ${:,.0f} ({:,.2f}%)'.format(benchmark_value, benchmark_return)\n",
        "    ax.text(0.98, 0.04, text,\n",
        "        verticalalignment='bottom', horizontalalignment='right',\n",
        "        transform=ax.transAxes,\n",
        "        color='black', fontsize=12)\n",
        "\n",
        "    return"
      ],
      "outputs": [],
      "execution_count": 42,
      "metadata": {
        "collapsed": false,
        "outputHidden": false,
        "inputHidden": false
      }
    },
    {
      "cell_type": "code",
      "source": [
        "backtest(df)"
      ],
      "outputs": [
        {
          "output_type": "display_data",
          "data": {
            "text/plain": [
              "<Figure size 864x432 with 1 Axes>"
            ],
            "image/png": "[encoded data removed]"
          },
          "metadata": {}
        }
      ],
      "execution_count": 43,
      "metadata": {
        "collapsed": false,
        "outputHidden": false,
        "inputHidden": false
      }
    }
  ],
  "metadata": {
    "kernel_info": {
      "name": "python3"
    },
    "language_info": {
      "name": "python",
      "nbconvert_exporter": "python",
      "version": "3.5.5",
      "file_extension": ".py",
      "codemirror_mode": {
        "name": "ipython",
        "version": 3
      },
      "pygments_lexer": "ipython3",
      "mimetype": "text/x-python"
    },
    "kernelspec": {
      "name": "python3",
      "language": "python",
      "display_name": "Python 3"
    },
    "nteract": {
      "version": "0.23.3"
    }
  },
  "nbformat": 4,
  "nbformat_minor": 0
}