{
  "cells": [
    {
      "cell_type": "markdown",
      "source": [
        "# Corporate Bonds ETFs Portfolio"
      ],
      "metadata": {}
    },
    {
      "cell_type": "markdown",
      "source": [
        "http://www.buschinvestments.com/Types-of-Bonds.c71.htm"
      ],
      "metadata": {}
    },
    {
      "cell_type": "markdown",
      "source": [
        " ## Corporate Bonds  "
      ],
      "metadata": {}
    },
    {
      "cell_type": "code",
      "source": [
        "import numpy as np\n",
        "import pandas as pd\n",
        "import matplotlib.pyplot as plt\n",
        "import seaborn as sns\n",
        "import math\n",
        "\n",
        "import warnings\n",
        "warnings.filterwarnings(\"ignore\")\n",
        "\n",
        "# yfinance is used to fetch data \n",
        "import yfinance as yf\n",
        "yf.pdr_override()"
      ],
      "outputs": [],
      "execution_count": 1,
      "metadata": {
        "collapsed": false,
        "outputHidden": false,
        "inputHidden": false,
        "execution": {
          "iopub.status.busy": "2020-06-26T00:35:09.065Z",
          "iopub.execute_input": "2020-06-26T00:35:09.077Z",
          "iopub.status.idle": "2020-06-26T00:35:10.155Z",
          "shell.execute_reply": "2020-06-26T00:35:10.215Z"
        }
      }
    },
    {
      "cell_type": "code",
      "source": [
        "# input\n",
        "symbols = ['LQD','VCIT','VCSH','FLOT', 'IGIB']\n",
        "start = '2012-01-01'\n",
        "end = '2019-01-01'\n",
        "title = \"Corporate Bonds ETFs\"\n",
        "\n",
        "# Read data \n",
        "df = yf.download(symbols,start,end)['Adj Close']\n",
        "\n",
        "# View Columns\n",
        "df.head()"
      ],
      "outputs": [
        {
          "output_type": "stream",
          "name": "stdout",
          "text": [
            "[*********************100%***********************]  5 of 5 completed\n"
          ]
        },
        {
          "output_type": "execute_result",
          "execution_count": 2,
          "data": {
            "text/plain": [
              "                 FLOT       IGIB        LQD       VCIT       VCSH\n",
              "Date                                                             \n",
              "2012-01-03  44.011772  42.293209  85.181641  61.755966  64.183327\n",
              "2012-01-04  43.984859  42.226177  85.249100  61.598476  64.158577\n",
              "2012-01-05  44.110458  42.170982  84.881905  61.545948  64.249367\n",
              "2012-01-06  44.011772  42.245903  85.211617  61.710964  64.315376\n",
              "2012-01-09  43.868217  42.198574  85.084213  61.815990  64.348389"
            ],
            "text/html": [
              "<div>\n",
              "<style scoped>\n",
              "    .dataframe tbody tr th:only-of-type {\n",
              "        vertical-align: middle;\n",
              "    }\n",
              "\n",
              "    .dataframe tbody tr th {\n",
              "        vertical-align: top;\n",
              "    }\n",
              "\n",
              "    .dataframe thead th {\n",
              "        text-align: right;\n",
              "    }\n",
              "</style>\n",
              "<table border=\"1\" class=\"dataframe\">\n",
              "  <thead>\n",
              "    <tr style=\"text-align: right;\">\n",
              "      <th></th>\n",
              "      <th>FLOT</th>\n",
              "      <th>IGIB</th>\n",
              "      <th>LQD</th>\n",
              "      <th>VCIT</th>\n",
              "      <th>VCSH</th>\n",
              "    </tr>\n",
              "    <tr>\n",
              "      <th>Date</th>\n",
              "      <th></th>\n",
              "      <th></th>\n",
              "      <th></th>\n",
              "      <th></th>\n",
              "      <th></th>\n",
              "    </tr>\n",
              "  </thead>\n",
              "  <tbody>\n",
              "    <tr>\n",
              "      <th>2012-01-03</th>\n",
              "      <td>44.011772</td>\n",
              "      <td>42.293209</td>\n",
              "      <td>85.181641</td>\n",
              "      <td>61.755966</td>\n",
              "      <td>64.183327</td>\n",
              "    </tr>\n",
              "    <tr>\n",
              "      <th>2012-01-04</th>\n",
              "      <td>43.984859</td>\n",
              "      <td>42.226177</td>\n",
              "      <td>85.249100</td>\n",
              "      <td>61.598476</td>\n",
              "      <td>64.158577</td>\n",
              "    </tr>\n",
              "    <tr>\n",
              "      <th>2012-01-05</th>\n",
              "      <td>44.110458</td>\n",
              "      <td>42.170982</td>\n",
              "      <td>84.881905</td>\n",
              "      <td>61.545948</td>\n",
              "      <td>64.249367</td>\n",
              "    </tr>\n",
              "    <tr>\n",
              "      <th>2012-01-06</th>\n",
              "      <td>44.011772</td>\n",
              "      <td>42.245903</td>\n",
              "      <td>85.211617</td>\n",
              "      <td>61.710964</td>\n",
              "      <td>64.315376</td>\n",
              "    </tr>\n",
              "    <tr>\n",
              "      <th>2012-01-09</th>\n",
              "      <td>43.868217</td>\n",
              "      <td>42.198574</td>\n",
              "      <td>85.084213</td>\n",
              "      <td>61.815990</td>\n",
              "      <td>64.348389</td>\n",
              "    </tr>\n",
              "  </tbody>\n",
              "</table>\n",
              "</div>"
            ]
          },
          "metadata": {}
        }
      ],
      "execution_count": 2,
      "metadata": {
        "collapsed": false,
        "outputHidden": false,
        "inputHidden": false,
        "execution": {
          "iopub.status.busy": "2020-06-26T00:35:10.175Z",
          "iopub.execute_input": "2020-06-26T00:35:10.187Z",
          "iopub.status.idle": "2020-06-26T00:35:11.830Z",
          "shell.execute_reply": "2020-06-26T00:35:13.697Z"
        }
      }
    },
    {
      "cell_type": "code",
      "source": [
        "df.tail()"
      ],
      "outputs": [
        {
          "output_type": "execute_result",
          "execution_count": 3,
          "data": {
            "text/plain": [
              "                 FLOT       IGIB         LQD       VCIT       VCSH\n",
              "Date                                                              \n",
              "2018-12-24  48.415710  49.632042  106.937920  78.497650  74.606453\n",
              "2018-12-26  48.483200  49.555874  106.852036  78.278214  74.558395\n",
              "2018-12-27  48.541039  49.613003  106.852036  78.516739  74.673714\n",
              "2018-12-28  48.541039  49.832031  107.357758  78.802933  74.779388\n",
              "2018-12-31  48.550682  49.917728  107.653564  79.050980  74.885086"
            ],
            "text/html": [
              "<div>\n",
              "<style scoped>\n",
              "    .dataframe tbody tr th:only-of-type {\n",
              "        vertical-align: middle;\n",
              "    }\n",
              "\n",
              "    .dataframe tbody tr th {\n",
              "        vertical-align: top;\n",
              "    }\n",
              "\n",
              "    .dataframe thead th {\n",
              "        text-align: right;\n",
              "    }\n",
              "</style>\n",
              "<table border=\"1\" class=\"dataframe\">\n",
              "  <thead>\n",
              "    <tr style=\"text-align: right;\">\n",
              "      <th></th>\n",
              "      <th>FLOT</th>\n",
              "      <th>IGIB</th>\n",
              "      <th>LQD</th>\n",
              "      <th>VCIT</th>\n",
              "      <th>VCSH</th>\n",
              "    </tr>\n",
              "    <tr>\n",
              "      <th>Date</th>\n",
              "      <th></th>\n",
              "      <th></th>\n",
              "      <th></th>\n",
              "      <th></th>\n",
              "      <th></th>\n",
              "    </tr>\n",
              "  </thead>\n",
              "  <tbody>\n",
              "    <tr>\n",
              "      <th>2018-12-24</th>\n",
              "      <td>48.415710</td>\n",
              "      <td>49.632042</td>\n",
              "      <td>106.937920</td>\n",
              "      <td>78.497650</td>\n",
              "      <td>74.606453</td>\n",
              "    </tr>\n",
              "    <tr>\n",
              "      <th>2018-12-26</th>\n",
              "      <td>48.483200</td>\n",
              "      <td>49.555874</td>\n",
              "      <td>106.852036</td>\n",
              "      <td>78.278214</td>\n",
              "      <td>74.558395</td>\n",
              "    </tr>\n",
              "    <tr>\n",
              "      <th>2018-12-27</th>\n",
              "      <td>48.541039</td>\n",
              "      <td>49.613003</td>\n",
              "      <td>106.852036</td>\n",
              "      <td>78.516739</td>\n",
              "      <td>74.673714</td>\n",
              "    </tr>\n",
              "    <tr>\n",
              "      <th>2018-12-28</th>\n",
              "      <td>48.541039</td>\n",
              "      <td>49.832031</td>\n",
              "      <td>107.357758</td>\n",
              "      <td>78.802933</td>\n",
              "      <td>74.779388</td>\n",
              "    </tr>\n",
              "    <tr>\n",
              "      <th>2018-12-31</th>\n",
              "      <td>48.550682</td>\n",
              "      <td>49.917728</td>\n",
              "      <td>107.653564</td>\n",
              "      <td>79.050980</td>\n",
              "      <td>74.885086</td>\n",
              "    </tr>\n",
              "  </tbody>\n",
              "</table>\n",
              "</div>"
            ]
          },
          "metadata": {}
        }
      ],
      "execution_count": 3,
      "metadata": {
        "collapsed": false,
        "outputHidden": false,
        "inputHidden": false,
        "execution": {
          "iopub.status.busy": "2020-06-26T00:35:11.856Z",
          "iopub.execute_input": "2020-06-26T00:35:11.886Z",
          "iopub.status.idle": "2020-06-26T00:35:11.933Z",
          "shell.execute_reply": "2020-06-26T00:35:13.704Z"
        }
      }
    },
    {
      "cell_type": "code",
      "source": [
        "from datetime import datetime\n",
        "from dateutil import relativedelta\n",
        "\n",
        "d1 = datetime.strptime(start, \"%Y-%m-%d\")\n",
        "d2 = datetime.strptime(end, \"%Y-%m-%d\")\n",
        "delta = relativedelta.relativedelta(d2,d1)\n",
        "print('How many years of investing?')\n",
        "print('%s years' % delta.years)"
      ],
      "outputs": [
        {
          "output_type": "stream",
          "name": "stdout",
          "text": [
            "How many years of investing?\n",
            "7 years\n"
          ]
        }
      ],
      "execution_count": 4,
      "metadata": {
        "collapsed": false,
        "outputHidden": false,
        "inputHidden": false,
        "execution": {
          "iopub.status.busy": "2020-06-26T00:35:11.955Z",
          "iopub.execute_input": "2020-06-26T00:35:11.970Z",
          "iopub.status.idle": "2020-06-26T00:35:11.997Z",
          "shell.execute_reply": "2020-06-26T00:35:13.713Z"
        }
      }
    },
    {
      "cell_type": "markdown",
      "source": [
        "### Starting Cash with 100k to invest in Bonds"
      ],
      "metadata": {}
    },
    {
      "cell_type": "code",
      "source": [
        "Cash = 100000\n",
        "print('Percentage of invest:')\n",
        "percent_invest = [0.20, 0.20, 0.20, 0.20, 0.20]\n",
        "for i, x in zip(df.columns, percent_invest):\n",
        "    cost = x * Cash\n",
        "    print('{}: {}'.format(i, cost))"
      ],
      "outputs": [
        {
          "output_type": "stream",
          "name": "stdout",
          "text": [
            "Percentage of invest:\n",
            "FLOT: 20000.0\n",
            "IGIB: 20000.0\n",
            "LQD: 20000.0\n",
            "VCIT: 20000.0\n",
            "VCSH: 20000.0\n"
          ]
        }
      ],
      "execution_count": 5,
      "metadata": {
        "collapsed": false,
        "outputHidden": false,
        "inputHidden": false,
        "execution": {
          "iopub.status.busy": "2020-06-26T00:35:12.019Z",
          "iopub.execute_input": "2020-06-26T00:35:12.034Z",
          "iopub.status.idle": "2020-06-26T00:35:12.068Z",
          "shell.execute_reply": "2020-06-26T00:35:13.719Z"
        }
      }
    },
    {
      "cell_type": "code",
      "source": [
        "print('Number of Shares:')\n",
        "percent_invest = [0.20, 0.20, 0.20, 0.20, 0.20]\n",
        "for i, x, y in zip(df.columns, percent_invest, df.iloc[0]):\n",
        "    cost = x * Cash\n",
        "    shares = int(cost/y)\n",
        "    print('{}: {}'.format(i, shares))"
      ],
      "outputs": [
        {
          "output_type": "stream",
          "name": "stdout",
          "text": [
            "Number of Shares:\n",
            "FLOT: 454\n",
            "IGIB: 472\n",
            "LQD: 234\n",
            "VCIT: 323\n",
            "VCSH: 311\n"
          ]
        }
      ],
      "execution_count": 6,
      "metadata": {
        "collapsed": false,
        "outputHidden": false,
        "inputHidden": false,
        "execution": {
          "iopub.status.busy": "2020-06-26T00:35:12.087Z",
          "iopub.execute_input": "2020-06-26T00:35:12.106Z",
          "iopub.status.idle": "2020-06-26T00:35:12.137Z",
          "shell.execute_reply": "2020-06-26T00:35:13.726Z"
        }
      }
    },
    {
      "cell_type": "code",
      "source": [
        "print('Beginning Value:')\n",
        "percent_invest = [0.20, 0.20, 0.20, 0.20, 0.20]\n",
        "for i, x, y in zip(df.columns, percent_invest, df.iloc[0]):\n",
        "    cost = x * Cash\n",
        "    shares = int(cost/y)\n",
        "    Begin_Value = round(shares * y, 2)\n",
        "    print('{}: ${}'.format(i, Begin_Value))"
      ],
      "outputs": [
        {
          "output_type": "stream",
          "name": "stdout",
          "text": [
            "Beginning Value:\n",
            "FLOT: $19981.34\n",
            "IGIB: $19962.39\n",
            "LQD: $19932.5\n",
            "VCIT: $19947.18\n",
            "VCSH: $19961.01\n"
          ]
        }
      ],
      "execution_count": 7,
      "metadata": {
        "collapsed": false,
        "outputHidden": false,
        "inputHidden": false,
        "execution": {
          "iopub.status.busy": "2020-06-26T00:35:12.159Z",
          "iopub.execute_input": "2020-06-26T00:35:12.177Z",
          "iopub.status.idle": "2020-06-26T00:35:12.222Z",
          "shell.execute_reply": "2020-06-26T00:35:13.733Z"
        }
      }
    },
    {
      "cell_type": "code",
      "source": [
        "print('Current Value:')\n",
        "percent_invest = [0.20, 0.20, 0.20, 0.20, 0.20]\n",
        "for i, x, y, z in zip(df.columns, percent_invest, df.iloc[0], df.iloc[-1]):\n",
        "    cost = x * Cash\n",
        "    shares = int(cost/y)\n",
        "    Current_Value = round(shares * z, 2)\n",
        "    print('{}: ${}'.format(i, Current_Value))"
      ],
      "outputs": [
        {
          "output_type": "stream",
          "name": "stdout",
          "text": [
            "Current Value:\n",
            "FLOT: $22042.01\n",
            "IGIB: $23561.17\n",
            "LQD: $25190.93\n",
            "VCIT: $25533.47\n",
            "VCSH: $23289.26\n"
          ]
        }
      ],
      "execution_count": 8,
      "metadata": {
        "collapsed": false,
        "outputHidden": false,
        "inputHidden": false,
        "execution": {
          "iopub.status.busy": "2020-06-26T00:35:12.255Z",
          "iopub.execute_input": "2020-06-26T00:35:12.271Z",
          "iopub.status.idle": "2020-06-26T00:35:12.307Z",
          "shell.execute_reply": "2020-06-26T00:35:13.739Z"
        }
      }
    },
    {
      "cell_type": "code",
      "source": [
        "result = []\n",
        "percent_invest = [0.20, 0.20, 0.20, 0.20, 0.20]\n",
        "for i, x, y, z in zip(df.columns, percent_invest, df.iloc[0], df.iloc[-1]):\n",
        "    cost = x * Cash\n",
        "    shares = int(cost/y)\n",
        "    Current_Value = round(shares * z, 2)\n",
        "    result.append(Current_Value)\n",
        "print('Total Value: $%s' % round(sum(result),2))"
      ],
      "outputs": [
        {
          "output_type": "stream",
          "name": "stdout",
          "text": [
            "Total Value: $119616.84\n"
          ]
        }
      ],
      "execution_count": 9,
      "metadata": {
        "collapsed": false,
        "outputHidden": false,
        "inputHidden": false,
        "execution": {
          "iopub.status.busy": "2020-06-26T00:35:12.334Z",
          "iopub.execute_input": "2020-06-26T00:35:12.350Z",
          "iopub.status.idle": "2020-06-26T00:35:12.387Z",
          "shell.execute_reply": "2020-06-26T00:35:13.744Z"
        }
      }
    },
    {
      "cell_type": "code",
      "source": [
        "# Calculate Daily Returns\n",
        "returns = df.pct_change()\n",
        "returns = returns.dropna()"
      ],
      "outputs": [],
      "execution_count": 10,
      "metadata": {
        "collapsed": false,
        "outputHidden": false,
        "inputHidden": false,
        "execution": {
          "iopub.status.busy": "2020-06-26T00:35:12.405Z",
          "iopub.execute_input": "2020-06-26T00:35:12.417Z",
          "iopub.status.idle": "2020-06-26T00:35:12.437Z",
          "shell.execute_reply": "2020-06-26T00:35:13.750Z"
        }
      }
    },
    {
      "cell_type": "code",
      "source": [
        "# Calculate mean returns\n",
        "meanDailyReturns = returns.mean()\n",
        "print(meanDailyReturns)"
      ],
      "outputs": [
        {
          "output_type": "stream",
          "name": "stdout",
          "text": [
            "FLOT    0.000056\n",
            "IGIB    0.000095\n",
            "LQD     0.000138\n",
            "VCIT    0.000144\n",
            "VCSH    0.000088\n",
            "dtype: float64\n"
          ]
        }
      ],
      "execution_count": 11,
      "metadata": {
        "collapsed": false,
        "outputHidden": false,
        "inputHidden": false,
        "execution": {
          "iopub.status.busy": "2020-06-26T00:35:12.455Z",
          "iopub.execute_input": "2020-06-26T00:35:12.465Z",
          "iopub.status.idle": "2020-06-26T00:35:12.487Z",
          "shell.execute_reply": "2020-06-26T00:35:13.755Z"
        }
      }
    },
    {
      "cell_type": "code",
      "source": [
        "# Calculate std returns\n",
        "stdDailyReturns = returns.std()\n",
        "print(stdDailyReturns)"
      ],
      "outputs": [
        {
          "output_type": "stream",
          "name": "stdout",
          "text": [
            "FLOT    0.000644\n",
            "IGIB    0.001579\n",
            "LQD     0.003103\n",
            "VCIT    0.002503\n",
            "VCSH    0.000993\n",
            "dtype: float64\n"
          ]
        }
      ],
      "execution_count": 12,
      "metadata": {
        "collapsed": false,
        "outputHidden": false,
        "inputHidden": false,
        "execution": {
          "iopub.status.busy": "2020-06-26T00:35:12.504Z",
          "iopub.execute_input": "2020-06-26T00:35:12.515Z",
          "iopub.status.idle": "2020-06-26T00:35:12.536Z",
          "shell.execute_reply": "2020-06-26T00:35:13.761Z"
        }
      }
    },
    {
      "cell_type": "code",
      "source": [
        "# Define weights for the portfolio\n",
        "weights = np.array([0.20, 0.20, 0.20, 0.20, 0.20])"
      ],
      "outputs": [],
      "execution_count": 13,
      "metadata": {
        "collapsed": false,
        "outputHidden": false,
        "inputHidden": false,
        "execution": {
          "iopub.status.busy": "2020-06-26T00:35:12.557Z",
          "iopub.execute_input": "2020-06-26T00:35:12.569Z",
          "iopub.status.idle": "2020-06-26T00:35:12.584Z",
          "shell.execute_reply": "2020-06-26T00:35:13.767Z"
        }
      }
    },
    {
      "cell_type": "code",
      "source": [
        "# Calculate the covariance matrix on daily returns\n",
        "cov_matrix = (returns.cov())*250\n",
        "print (cov_matrix)"
      ],
      "outputs": [
        {
          "output_type": "stream",
          "name": "stdout",
          "text": [
            "          FLOT      IGIB       LQD      VCIT      VCSH\n",
            "FLOT  0.000104  0.000007 -0.000013  0.000006  0.000005\n",
            "IGIB  0.000007  0.000623  0.001011  0.000832  0.000283\n",
            "LQD  -0.000013  0.001011  0.002407  0.001708  0.000519\n",
            "VCIT  0.000006  0.000832  0.001708  0.001567  0.000450\n",
            "VCSH  0.000005  0.000283  0.000519  0.000450  0.000246\n"
          ]
        }
      ],
      "execution_count": 14,
      "metadata": {
        "collapsed": false,
        "outputHidden": false,
        "inputHidden": false,
        "execution": {
          "iopub.status.busy": "2020-06-26T00:35:12.602Z",
          "iopub.execute_input": "2020-06-26T00:35:12.616Z",
          "iopub.status.idle": "2020-06-26T00:35:12.647Z",
          "shell.execute_reply": "2020-06-26T00:35:13.772Z"
        }
      }
    },
    {
      "cell_type": "code",
      "source": [
        "# Calculate expected portfolio performance\n",
        "portReturn = np.sum(meanDailyReturns*weights)"
      ],
      "outputs": [],
      "execution_count": 15,
      "metadata": {
        "collapsed": false,
        "outputHidden": false,
        "inputHidden": false,
        "execution": {
          "iopub.status.busy": "2020-06-26T00:35:12.664Z",
          "iopub.execute_input": "2020-06-26T00:35:12.676Z",
          "iopub.status.idle": "2020-06-26T00:35:12.695Z",
          "shell.execute_reply": "2020-06-26T00:35:13.781Z"
        }
      }
    },
    {
      "cell_type": "code",
      "source": [
        "# Print the portfolio return\n",
        "print(portReturn)"
      ],
      "outputs": [
        {
          "output_type": "stream",
          "name": "stdout",
          "text": [
            "0.00010421818793216508\n"
          ]
        }
      ],
      "execution_count": 16,
      "metadata": {
        "collapsed": false,
        "outputHidden": false,
        "inputHidden": false,
        "execution": {
          "iopub.status.busy": "2020-06-26T00:35:12.712Z",
          "iopub.execute_input": "2020-06-26T00:35:12.722Z",
          "iopub.status.idle": "2020-06-26T00:35:12.744Z",
          "shell.execute_reply": "2020-06-26T00:35:13.788Z"
        }
      }
    },
    {
      "cell_type": "code",
      "source": [
        "# Create portfolio returns column\n",
        "returns['Portfolio'] = returns.dot(weights)"
      ],
      "outputs": [],
      "execution_count": 17,
      "metadata": {
        "collapsed": false,
        "outputHidden": false,
        "inputHidden": false,
        "execution": {
          "iopub.status.busy": "2020-06-26T00:35:12.760Z",
          "iopub.execute_input": "2020-06-26T00:35:12.770Z",
          "iopub.status.idle": "2020-06-26T00:35:12.785Z",
          "shell.execute_reply": "2020-06-26T00:35:13.795Z"
        }
      }
    },
    {
      "cell_type": "code",
      "source": [
        "returns.head()"
      ],
      "outputs": [
        {
          "output_type": "execute_result",
          "execution_count": 18,
          "data": {
            "text/plain": [
              "                FLOT      IGIB       LQD      VCIT      VCSH  Portfolio\n",
              "Date                                                                   \n",
              "2012-01-04 -0.000611 -0.001585  0.000792 -0.002550 -0.000386  -0.000868\n",
              "2012-01-05  0.002856 -0.001307 -0.004307 -0.000853  0.001415  -0.000439\n",
              "2012-01-06 -0.002237  0.001777  0.003884  0.002681  0.001027   0.001426\n",
              "2012-01-09 -0.003262 -0.001120 -0.001495  0.001702  0.000513  -0.000732\n",
              "2012-01-10  0.002454 -0.000093  0.002818  0.000728 -0.000256   0.001130"
            ],
            "text/html": [
              "<div>\n",
              "<style scoped>\n",
              "    .dataframe tbody tr th:only-of-type {\n",
              "        vertical-align: middle;\n",
              "    }\n",
              "\n",
              "    .dataframe tbody tr th {\n",
              "        vertical-align: top;\n",
              "    }\n",
              "\n",
              "    .dataframe thead th {\n",
              "        text-align: right;\n",
              "    }\n",
              "</style>\n",
              "<table border=\"1\" class=\"dataframe\">\n",
              "  <thead>\n",
              "    <tr style=\"text-align: right;\">\n",
              "      <th></th>\n",
              "      <th>FLOT</th>\n",
              "      <th>IGIB</th>\n",
              "      <th>LQD</th>\n",
              "      <th>VCIT</th>\n",
              "      <th>VCSH</th>\n",
              "      <th>Portfolio</th>\n",
              "    </tr>\n",
              "    <tr>\n",
              "      <th>Date</th>\n",
              "      <th></th>\n",
              "      <th></th>\n",
              "      <th></th>\n",
              "      <th></th>\n",
              "      <th></th>\n",
              "      <th></th>\n",
              "    </tr>\n",
              "  </thead>\n",
              "  <tbody>\n",
              "    <tr>\n",
              "      <th>2012-01-04</th>\n",
              "      <td>-0.000611</td>\n",
              "      <td>-0.001585</td>\n",
              "      <td>0.000792</td>\n",
              "      <td>-0.002550</td>\n",
              "      <td>-0.000386</td>\n",
              "      <td>-0.000868</td>\n",
              "    </tr>\n",
              "    <tr>\n",
              "      <th>2012-01-05</th>\n",
              "      <td>0.002856</td>\n",
              "      <td>-0.001307</td>\n",
              "      <td>-0.004307</td>\n",
              "      <td>-0.000853</td>\n",
              "      <td>0.001415</td>\n",
              "      <td>-0.000439</td>\n",
              "    </tr>\n",
              "    <tr>\n",
              "      <th>2012-01-06</th>\n",
              "      <td>-0.002237</td>\n",
              "      <td>0.001777</td>\n",
              "      <td>0.003884</td>\n",
              "      <td>0.002681</td>\n",
              "      <td>0.001027</td>\n",
              "      <td>0.001426</td>\n",
              "    </tr>\n",
              "    <tr>\n",
              "      <th>2012-01-09</th>\n",
              "      <td>-0.003262</td>\n",
              "      <td>-0.001120</td>\n",
              "      <td>-0.001495</td>\n",
              "      <td>0.001702</td>\n",
              "      <td>0.000513</td>\n",
              "      <td>-0.000732</td>\n",
              "    </tr>\n",
              "    <tr>\n",
              "      <th>2012-01-10</th>\n",
              "      <td>0.002454</td>\n",
              "      <td>-0.000093</td>\n",
              "      <td>0.002818</td>\n",
              "      <td>0.000728</td>\n",
              "      <td>-0.000256</td>\n",
              "      <td>0.001130</td>\n",
              "    </tr>\n",
              "  </tbody>\n",
              "</table>\n",
              "</div>"
            ]
          },
          "metadata": {}
        }
      ],
      "execution_count": 18,
      "metadata": {
        "collapsed": false,
        "outputHidden": false,
        "inputHidden": false,
        "execution": {
          "iopub.status.busy": "2020-06-26T00:35:12.799Z",
          "iopub.execute_input": "2020-06-26T00:35:12.809Z",
          "iopub.status.idle": "2020-06-26T00:35:12.830Z",
          "shell.execute_reply": "2020-06-26T00:35:13.802Z"
        }
      }
    },
    {
      "cell_type": "code",
      "source": [
        "returns.tail()"
      ],
      "outputs": [
        {
          "output_type": "execute_result",
          "execution_count": 19,
          "data": {
            "text/plain": [
              "                FLOT      IGIB       LQD      VCIT      VCSH  Portfolio\n",
              "Date                                                                   \n",
              "2018-12-24 -0.001193 -0.001341 -0.002315 -0.001517 -0.000193  -0.001312\n",
              "2018-12-26  0.001394 -0.001535 -0.000803 -0.002795 -0.000644  -0.000877\n",
              "2018-12-27  0.001193  0.001153  0.000000  0.003047  0.001547   0.001388\n",
              "2018-12-28  0.000000  0.004415  0.004733  0.003645  0.001415   0.002842\n",
              "2018-12-31  0.000199  0.001720  0.002755  0.003148  0.001413   0.001847"
            ],
            "text/html": [
              "<div>\n",
              "<style scoped>\n",
              "    .dataframe tbody tr th:only-of-type {\n",
              "        vertical-align: middle;\n",
              "    }\n",
              "\n",
              "    .dataframe tbody tr th {\n",
              "        vertical-align: top;\n",
              "    }\n",
              "\n",
              "    .dataframe thead th {\n",
              "        text-align: right;\n",
              "    }\n",
              "</style>\n",
              "<table border=\"1\" class=\"dataframe\">\n",
              "  <thead>\n",
              "    <tr style=\"text-align: right;\">\n",
              "      <th></th>\n",
              "      <th>FLOT</th>\n",
              "      <th>IGIB</th>\n",
              "      <th>LQD</th>\n",
              "      <th>VCIT</th>\n",
              "      <th>VCSH</th>\n",
              "      <th>Portfolio</th>\n",
              "    </tr>\n",
              "    <tr>\n",
              "      <th>Date</th>\n",
              "      <th></th>\n",
              "      <th></th>\n",
              "      <th></th>\n",
              "      <th></th>\n",
              "      <th></th>\n",
              "      <th></th>\n",
              "    </tr>\n",
              "  </thead>\n",
              "  <tbody>\n",
              "    <tr>\n",
              "      <th>2018-12-24</th>\n",
              "      <td>-0.001193</td>\n",
              "      <td>-0.001341</td>\n",
              "      <td>-0.002315</td>\n",
              "      <td>-0.001517</td>\n",
              "      <td>-0.000193</td>\n",
              "      <td>-0.001312</td>\n",
              "    </tr>\n",
              "    <tr>\n",
              "      <th>2018-12-26</th>\n",
              "      <td>0.001394</td>\n",
              "      <td>-0.001535</td>\n",
              "      <td>-0.000803</td>\n",
              "      <td>-0.002795</td>\n",
              "      <td>-0.000644</td>\n",
              "      <td>-0.000877</td>\n",
              "    </tr>\n",
              "    <tr>\n",
              "      <th>2018-12-27</th>\n",
              "      <td>0.001193</td>\n",
              "      <td>0.001153</td>\n",
              "      <td>0.000000</td>\n",
              "      <td>0.003047</td>\n",
              "      <td>0.001547</td>\n",
              "      <td>0.001388</td>\n",
              "    </tr>\n",
              "    <tr>\n",
              "      <th>2018-12-28</th>\n",
              "      <td>0.000000</td>\n",
              "      <td>0.004415</td>\n",
              "      <td>0.004733</td>\n",
              "      <td>0.003645</td>\n",
              "      <td>0.001415</td>\n",
              "      <td>0.002842</td>\n",
              "    </tr>\n",
              "    <tr>\n",
              "      <th>2018-12-31</th>\n",
              "      <td>0.000199</td>\n",
              "      <td>0.001720</td>\n",
              "      <td>0.002755</td>\n",
              "      <td>0.003148</td>\n",
              "      <td>0.001413</td>\n",
              "      <td>0.001847</td>\n",
              "    </tr>\n",
              "  </tbody>\n",
              "</table>\n",
              "</div>"
            ]
          },
          "metadata": {}
        }
      ],
      "execution_count": 19,
      "metadata": {
        "collapsed": false,
        "outputHidden": false,
        "inputHidden": false,
        "execution": {
          "iopub.status.busy": "2020-06-26T00:35:12.849Z",
          "iopub.execute_input": "2020-06-26T00:35:12.865Z",
          "iopub.status.idle": "2020-06-26T00:35:12.893Z",
          "shell.execute_reply": "2020-06-26T00:35:13.808Z"
        }
      }
    },
    {
      "cell_type": "code",
      "source": [
        "# Calculate cumulative returns\n",
        "daily_cum_ret=(1+returns).cumprod()\n",
        "print(daily_cum_ret.tail())"
      ],
      "outputs": [
        {
          "output_type": "stream",
          "name": "stdout",
          "text": [
            "                FLOT      IGIB       LQD      VCIT      VCSH  Portfolio\n",
            "Date                                                                   \n",
            "2018-12-24  1.100063  1.173523  1.255410  1.271094  1.162396   1.192521\n",
            "2018-12-26  1.101596  1.171722  1.254402  1.267541  1.161647   1.191475\n",
            "2018-12-27  1.102910  1.173073  1.254402  1.271403  1.163444   1.193129\n",
            "2018-12-28  1.102910  1.178251  1.260339  1.276038  1.165091   1.196519\n",
            "2018-12-31  1.103129  1.180278  1.263812  1.280054  1.166737   1.198729\n"
          ]
        }
      ],
      "execution_count": 20,
      "metadata": {
        "collapsed": false,
        "outputHidden": false,
        "inputHidden": false,
        "execution": {
          "iopub.status.busy": "2020-06-26T00:35:12.917Z",
          "iopub.execute_input": "2020-06-26T00:35:12.933Z",
          "iopub.status.idle": "2020-06-26T00:35:12.966Z",
          "shell.execute_reply": "2020-06-26T00:35:13.816Z"
        }
      }
    },
    {
      "cell_type": "code",
      "source": [
        "returns['Portfolio'].hist()\n",
        "plt.show()"
      ],
      "outputs": [
        {
          "output_type": "display_data",
          "data": {
            "text/plain": [
              "<Figure size 432x288 with 1 Axes>"
            ],
            "image/png": "[encoded data removed]"
          },
          "metadata": {
            "needs_background": "light"
          }
        }
      ],
      "execution_count": 21,
      "metadata": {
        "collapsed": false,
        "outputHidden": false,
        "inputHidden": false,
        "execution": {
          "iopub.status.busy": "2020-06-26T00:35:12.983Z",
          "iopub.execute_input": "2020-06-26T00:35:12.994Z",
          "iopub.status.idle": "2020-06-26T00:35:13.014Z",
          "shell.execute_reply": "2020-06-26T00:35:13.824Z"
        }
      }
    },
    {
      "cell_type": "code",
      "source": [
        "import matplotlib.dates\n",
        "\n",
        "# Plot the portfolio cumulative returns only\n",
        "fig, ax = plt.subplots()\n",
        "ax.plot(daily_cum_ret.index, daily_cum_ret.Portfolio, color='purple', label=\"portfolio\")\n",
        "ax.xaxis.set_major_locator(matplotlib.dates.YearLocator())\n",
        "plt.title(title)\n",
        "plt.legend()\n",
        "plt.show()"
      ],
      "outputs": [
        {
          "output_type": "display_data",
          "data": {
            "text/plain": [
              "<Figure size 432x288 with 1 Axes>"
            ],
            "image/png": "[encoded data removed]"
          },
          "metadata": {
            "needs_background": "light"
          }
        }
      ],
      "execution_count": 22,
      "metadata": {
        "collapsed": false,
        "outputHidden": false,
        "inputHidden": false,
        "execution": {
          "iopub.status.busy": "2020-06-26T00:35:13.030Z",
          "iopub.execute_input": "2020-06-26T00:35:13.041Z",
          "iopub.status.idle": "2020-06-26T00:35:13.069Z",
          "shell.execute_reply": "2020-06-26T00:35:13.830Z"
        }
      }
    },
    {
      "cell_type": "code",
      "source": [
        "# Print the mean\n",
        "print(\"mean : \", returns['Portfolio'].mean()*100)\n",
        "\n",
        "# Print the standard deviation\n",
        "print(\"Std. dev: \", returns['Portfolio'].std()*100)\n",
        "\n",
        "# Print the skewness\n",
        "print(\"skew: \", returns['Portfolio'].skew())\n",
        "\n",
        "# Print the kurtosis\n",
        "print(\"kurt: \", returns['Portfolio'].kurtosis())"
      ],
      "outputs": [
        {
          "output_type": "stream",
          "name": "stdout",
          "text": [
            "mean :  0.010421818793216513\n",
            "Std. dev:  0.15264159451535508\n",
            "skew:  -0.33950040471612913\n",
            "kurt:  2.4579379805109496\n"
          ]
        }
      ],
      "execution_count": 23,
      "metadata": {
        "collapsed": false,
        "outputHidden": false,
        "inputHidden": false,
        "execution": {
          "iopub.status.busy": "2020-06-26T00:35:13.089Z",
          "iopub.execute_input": "2020-06-26T00:35:13.106Z",
          "iopub.status.idle": "2020-06-26T00:35:13.129Z",
          "shell.execute_reply": "2020-06-26T00:35:13.836Z"
        }
      }
    },
    {
      "cell_type": "code",
      "source": [
        "# Calculate the standard deviation by taking the square root\n",
        "port_standard_dev = np.sqrt(np.dot(weights.T, np.dot(weights, cov_matrix)))\n",
        "\n",
        "# Print the results \n",
        "print(str(np.round(port_standard_dev, 4) * 100) + '%')"
      ],
      "outputs": [
        {
          "output_type": "stream",
          "name": "stdout",
          "text": [
            "2.41%\n"
          ]
        }
      ],
      "execution_count": 24,
      "metadata": {
        "collapsed": false,
        "outputHidden": false,
        "inputHidden": false,
        "execution": {
          "iopub.status.busy": "2020-06-26T00:35:13.151Z",
          "iopub.execute_input": "2020-06-26T00:35:13.162Z",
          "iopub.status.idle": "2020-06-26T00:35:13.190Z",
          "shell.execute_reply": "2020-06-26T00:35:14.580Z"
        }
      }
    },
    {
      "cell_type": "code",
      "source": [
        "# Calculate the portfolio variance\n",
        "port_variance = np.dot(weights.T, np.dot(cov_matrix, weights))\n",
        "\n",
        "# Print the result\n",
        "print(str(np.round(port_variance, 4) * 100) + '%')"
      ],
      "outputs": [
        {
          "output_type": "stream",
          "name": "stdout",
          "text": [
            "0.06%\n"
          ]
        }
      ],
      "execution_count": 25,
      "metadata": {
        "collapsed": false,
        "outputHidden": false,
        "inputHidden": false,
        "execution": {
          "iopub.status.busy": "2020-06-26T00:35:13.211Z",
          "iopub.execute_input": "2020-06-26T00:35:13.221Z",
          "iopub.status.idle": "2020-06-26T00:35:13.252Z",
          "shell.execute_reply": "2020-06-26T00:35:14.586Z"
        }
      }
    },
    {
      "cell_type": "code",
      "source": [
        "# Calculate total return and annualized return from price data \n",
        "total_return = (returns['Portfolio'][-1] - returns['Portfolio'][0]) / returns['Portfolio'][0]\n",
        "\n",
        "# Annualize the total return over 5 year \n",
        "annualized_return = ((total_return + 1)**(1/5))-1"
      ],
      "outputs": [],
      "execution_count": 26,
      "metadata": {
        "collapsed": false,
        "outputHidden": false,
        "inputHidden": false,
        "execution": {
          "iopub.status.busy": "2020-06-26T00:35:13.271Z",
          "iopub.execute_input": "2020-06-26T00:35:13.284Z",
          "iopub.status.idle": "2020-06-26T00:35:13.301Z",
          "shell.execute_reply": "2020-06-26T00:35:14.591Z"
        }
      }
    },
    {
      "cell_type": "code",
      "source": [
        "# Calculate annualized volatility from the standard deviation\n",
        "vol_port = returns['Portfolio'].std() * np.sqrt(250)"
      ],
      "outputs": [],
      "execution_count": 27,
      "metadata": {
        "collapsed": false,
        "outputHidden": false,
        "inputHidden": false,
        "execution": {
          "iopub.status.busy": "2020-06-26T00:35:13.322Z",
          "iopub.execute_input": "2020-06-26T00:35:13.332Z",
          "iopub.status.idle": "2020-06-26T00:35:13.346Z",
          "shell.execute_reply": "2020-06-26T00:35:14.598Z"
        }
      }
    },
    {
      "cell_type": "code",
      "source": [
        "# Calculate the Sharpe ratio \n",
        "rf = 0.01\n",
        "sharpe_ratio = ((annualized_return - rf) / vol_port)\n",
        "print(sharpe_ratio)"
      ],
      "outputs": [
        {
          "output_type": "stream",
          "name": "stdout",
          "text": [
            "nan\n"
          ]
        }
      ],
      "execution_count": 28,
      "metadata": {
        "collapsed": false,
        "outputHidden": false,
        "inputHidden": false,
        "execution": {
          "iopub.status.busy": "2020-06-26T00:35:13.362Z",
          "iopub.execute_input": "2020-06-26T00:35:13.374Z",
          "iopub.status.idle": "2020-06-26T00:35:13.396Z",
          "shell.execute_reply": "2020-06-26T00:35:14.605Z"
        }
      }
    },
    {
      "cell_type": "code",
      "source": [
        "# Create a downside return column with the negative returns only\n",
        "target = 0\n",
        "downside_returns = returns.loc[returns['Portfolio'] < target]\n",
        "\n",
        "# Calculate expected return and std dev of downside\n",
        "expected_return = returns['Portfolio'].mean()\n",
        "down_stdev = downside_returns.std()\n",
        "\n",
        "# Calculate the sortino ratio\n",
        "rf = 0.01\n",
        "sortino_ratio = (expected_return - rf)/down_stdev\n",
        "\n",
        "# Print the results\n",
        "print(\"Expected return: \", expected_return*100)\n",
        "print('-' * 50)\n",
        "print(\"Downside risk:\")\n",
        "print(down_stdev*100)\n",
        "print('-' * 50)\n",
        "print(\"Sortino ratio:\")\n",
        "print(sortino_ratio)"
      ],
      "outputs": [
        {
          "output_type": "stream",
          "name": "stdout",
          "text": [
            "Expected return:  0.010421818793216513\n",
            "--------------------------------------------------\n",
            "Downside risk:\n",
            "FLOT         0.069584\n",
            "IGIB         0.122583\n",
            "LQD          0.233799\n",
            "VCIT         0.184559\n",
            "VCSH         0.080775\n",
            "Portfolio    0.108096\n",
            "dtype: float64\n",
            "--------------------------------------------------\n",
            "Sortino ratio:\n",
            "FLOT        -14.221265\n",
            "IGIB         -8.072688\n",
            "LQD          -4.232594\n",
            "VCIT         -5.361839\n",
            "VCSH        -12.251011\n",
            "Portfolio    -9.154592\n",
            "dtype: float64\n"
          ]
        }
      ],
      "execution_count": 29,
      "metadata": {
        "collapsed": false,
        "outputHidden": false,
        "inputHidden": false,
        "execution": {
          "iopub.status.busy": "2020-06-26T00:35:13.411Z",
          "iopub.execute_input": "2020-06-26T00:35:13.421Z",
          "iopub.status.idle": "2020-06-26T00:35:13.445Z",
          "shell.execute_reply": "2020-06-26T00:35:14.611Z"
        }
      }
    },
    {
      "cell_type": "code",
      "source": [
        "# Calculate the max value \n",
        "roll_max = returns['Portfolio'].rolling(center=False,min_periods=1,window=252).max()\n",
        "\n",
        "# Calculate the daily draw-down relative to the max\n",
        "daily_draw_down = returns['Portfolio']/roll_max - 1.0\n",
        "\n",
        "# Calculate the minimum (negative) daily draw-down\n",
        "max_daily_draw_down = daily_draw_down.rolling(center=False,min_periods=1,window=252).min()\n",
        "\n",
        "# Plot the results\n",
        "plt.figure(figsize=(15,15))\n",
        "plt.plot(returns.index, daily_draw_down, label='Daily drawdown')\n",
        "plt.plot(returns.index, max_daily_draw_down, label='Maximum daily drawdown in time-window')\n",
        "plt.legend()\n",
        "plt.show()"
      ],
      "outputs": [
        {
          "output_type": "display_data",
          "data": {
            "text/plain": [
              "<Figure size 1080x1080 with 1 Axes>"
            ],
            "image/png": "[encoded data removed]"
          },
          "metadata": {
            "needs_background": "light"
          }
        }
      ],
      "execution_count": 30,
      "metadata": {
        "collapsed": false,
        "outputHidden": false,
        "inputHidden": false,
        "execution": {
          "iopub.status.busy": "2020-06-26T00:35:13.465Z",
          "iopub.execute_input": "2020-06-26T00:35:13.479Z",
          "iopub.status.idle": "2020-06-26T00:35:13.501Z",
          "shell.execute_reply": "2020-06-26T00:35:14.618Z"
        }
      }
    },
    {
      "cell_type": "code",
      "source": [
        "plt.figure(figsize=(7,7))\n",
        "corr = returns.corr()\n",
        "\n",
        "# plot the heatmap\n",
        "sns.heatmap(corr, \n",
        "        xticklabels=corr.columns,\n",
        "        yticklabels=corr.columns,\n",
        "            cmap=\"Blues\")"
      ],
      "outputs": [
        {
          "output_type": "execute_result",
          "execution_count": 31,
          "data": {
            "text/plain": [
              "<matplotlib.axes._subplots.AxesSubplot at 0x26927612940>"
            ]
          },
          "metadata": {}
        },
        {
          "output_type": "display_data",
          "data": {
            "text/plain": [
              "<Figure size 504x504 with 2 Axes>"
            ],
            "image/png": "[encoded data removed]"
          },
          "metadata": {
            "needs_background": "light"
          }
        }
      ],
      "execution_count": 31,
      "metadata": {
        "collapsed": false,
        "outputHidden": false,
        "inputHidden": false,
        "execution": {
          "iopub.status.busy": "2020-06-26T00:35:13.518Z",
          "iopub.execute_input": "2020-06-26T00:35:13.528Z",
          "iopub.status.idle": "2020-06-26T00:35:13.563Z",
          "shell.execute_reply": "2020-06-26T00:35:14.625Z"
        }
      }
    },
    {
      "cell_type": "code",
      "source": [
        "# Box plot\n",
        "returns.plot(kind='box')"
      ],
      "outputs": [
        {
          "output_type": "execute_result",
          "execution_count": 32,
          "data": {
            "text/plain": [
              "<matplotlib.axes._subplots.AxesSubplot at 0x26927635358>"
            ]
          },
          "metadata": {}
        },
        {
          "output_type": "display_data",
          "data": {
            "text/plain": [
              "<Figure size 432x288 with 1 Axes>"
            ],
            "image/png": "[encoded data removed]"
          },
          "metadata": {
            "needs_background": "light"
          }
        }
      ],
      "execution_count": 32,
      "metadata": {
        "collapsed": false,
        "outputHidden": false,
        "inputHidden": false,
        "execution": {
          "iopub.status.busy": "2020-06-26T00:35:13.581Z",
          "iopub.execute_input": "2020-06-26T00:35:13.591Z",
          "iopub.status.idle": "2020-06-26T00:35:13.620Z",
          "shell.execute_reply": "2020-06-26T00:35:14.631Z"
        }
      }
    },
    {
      "cell_type": "code",
      "source": [
        "rets = returns.dropna()\n",
        "\n",
        "plt.scatter(rets.mean(), rets.std(),alpha = 0.5)\n",
        "\n",
        "plt.title('Stocks Risk & Returns')\n",
        "plt.xlabel('Expected returns')\n",
        "plt.ylabel('Risk')\n",
        "plt.grid(which='major')\n",
        "\n",
        "for label, x, y in zip(rets.columns, rets.mean(), rets.std()):\n",
        "    plt.annotate(\n",
        "        label, \n",
        "        xy = (x, y), xytext = (50, 50),\n",
        "        textcoords = 'offset points', ha = 'right', va = 'bottom',\n",
        "        arrowprops = dict(arrowstyle = '-', connectionstyle = 'arc3,rad=-0.3'))"
      ],
      "outputs": [
        {
          "output_type": "display_data",
          "data": {
            "text/plain": [
              "<Figure size 432x288 with 1 Axes>"
            ],
            "image/png": "[encoded data removed]"
          },
          "metadata": {
            "needs_background": "light"
          }
        }
      ],
      "execution_count": 33,
      "metadata": {
        "collapsed": false,
        "outputHidden": false,
        "inputHidden": false,
        "execution": {
          "iopub.status.busy": "2020-06-26T00:35:13.642Z",
          "iopub.execute_input": "2020-06-26T00:35:13.653Z",
          "iopub.status.idle": "2020-06-26T00:35:13.917Z",
          "shell.execute_reply": "2020-06-26T00:35:14.639Z"
        }
      }
    },
    {
      "cell_type": "code",
      "source": [
        "area = np.pi*20.0\n",
        "\n",
        "sns.set(style='darkgrid')\n",
        "plt.figure(figsize=(12,8))\n",
        "plt.scatter(rets.mean(), rets.std(), s=area)\n",
        "plt.xlabel(\"Expected Return\", fontsize=15)\n",
        "plt.ylabel(\"Risk\", fontsize=15)\n",
        "plt.title(\"Return vs. Risk for \" + title, fontsize=20)\n",
        "\n",
        "for label, x, y in zip(rets.columns, rets.mean(), rets.std()) : \n",
        "    plt.annotate(label, xy=(x,y), xytext=(50, 0), textcoords='offset points',\n",
        "                arrowprops=dict(arrowstyle='-', connectionstyle='bar,angle=180,fraction=-0.2'),\n",
        "                bbox=dict(boxstyle=\"round\", fc=\"w\"))"
      ],
      "outputs": [
        {
          "output_type": "display_data",
          "data": {
            "text/plain": [
              "<Figure size 864x576 with 1 Axes>"
            ],
            "image/png": "[encoded data removed]"
          },
          "metadata": {}
        }
      ],
      "execution_count": 34,
      "metadata": {
        "collapsed": false,
        "outputHidden": false,
        "inputHidden": false,
        "execution": {
          "iopub.status.busy": "2020-06-26T00:35:13.936Z",
          "iopub.execute_input": "2020-06-26T00:35:13.947Z",
          "iopub.status.idle": "2020-06-26T00:35:14.237Z",
          "shell.execute_reply": "2020-06-26T00:35:14.648Z"
        }
      }
    },
    {
      "cell_type": "code",
      "source": [
        "print(\"Stock returns: \")\n",
        "print(rets.mean())\n",
        "print('-' * 50)\n",
        "print(\"Stock risk:\")\n",
        "print(rets.std())"
      ],
      "outputs": [
        {
          "output_type": "stream",
          "name": "stdout",
          "text": [
            "Stock returns: \n",
            "FLOT         0.000056\n",
            "IGIB         0.000095\n",
            "LQD          0.000138\n",
            "VCIT         0.000144\n",
            "VCSH         0.000088\n",
            "Portfolio    0.000104\n",
            "dtype: float64\n",
            "--------------------------------------------------\n",
            "Stock risk:\n",
            "FLOT         0.000644\n",
            "IGIB         0.001579\n",
            "LQD          0.003103\n",
            "VCIT         0.002503\n",
            "VCSH         0.000993\n",
            "Portfolio    0.001526\n",
            "dtype: float64\n"
          ]
        }
      ],
      "execution_count": 35,
      "metadata": {
        "collapsed": false,
        "outputHidden": false,
        "inputHidden": false,
        "execution": {
          "iopub.status.busy": "2020-06-26T00:35:14.254Z",
          "iopub.execute_input": "2020-06-26T00:35:14.268Z",
          "iopub.status.idle": "2020-06-26T00:35:14.295Z",
          "shell.execute_reply": "2020-06-26T00:35:14.654Z"
        }
      }
    },
    {
      "cell_type": "code",
      "source": [
        "table = pd.DataFrame()\n",
        "table['Returns'] = rets.mean()\n",
        "table['Risk'] = rets.std()\n",
        "table.sort_values(by='Returns')"
      ],
      "outputs": [
        {
          "output_type": "execute_result",
          "execution_count": 36,
          "data": {
            "text/plain": [
              "            Returns      Risk\n",
              "FLOT       0.000056  0.000644\n",
              "VCSH       0.000088  0.000993\n",
              "IGIB       0.000095  0.001579\n",
              "Portfolio  0.000104  0.001526\n",
              "LQD        0.000138  0.003103\n",
              "VCIT       0.000144  0.002503"
            ],
            "text/html": [
              "<div>\n",
              "<style scoped>\n",
              "    .dataframe tbody tr th:only-of-type {\n",
              "        vertical-align: middle;\n",
              "    }\n",
              "\n",
              "    .dataframe tbody tr th {\n",
              "        vertical-align: top;\n",
              "    }\n",
              "\n",
              "    .dataframe thead th {\n",
              "        text-align: right;\n",
              "    }\n",
              "</style>\n",
              "<table border=\"1\" class=\"dataframe\">\n",
              "  <thead>\n",
              "    <tr style=\"text-align: right;\">\n",
              "      <th></th>\n",
              "      <th>Returns</th>\n",
              "      <th>Risk</th>\n",
              "    </tr>\n",
              "  </thead>\n",
              "  <tbody>\n",
              "    <tr>\n",
              "      <th>FLOT</th>\n",
              "      <td>0.000056</td>\n",
              "      <td>0.000644</td>\n",
              "    </tr>\n",
              "    <tr>\n",
              "      <th>VCSH</th>\n",
              "      <td>0.000088</td>\n",
              "      <td>0.000993</td>\n",
              "    </tr>\n",
              "    <tr>\n",
              "      <th>IGIB</th>\n",
              "      <td>0.000095</td>\n",
              "      <td>0.001579</td>\n",
              "    </tr>\n",
              "    <tr>\n",
              "      <th>Portfolio</th>\n",
              "      <td>0.000104</td>\n",
              "      <td>0.001526</td>\n",
              "    </tr>\n",
              "    <tr>\n",
              "      <th>LQD</th>\n",
              "      <td>0.000138</td>\n",
              "      <td>0.003103</td>\n",
              "    </tr>\n",
              "    <tr>\n",
              "      <th>VCIT</th>\n",
              "      <td>0.000144</td>\n",
              "      <td>0.002503</td>\n",
              "    </tr>\n",
              "  </tbody>\n",
              "</table>\n",
              "</div>"
            ]
          },
          "metadata": {}
        }
      ],
      "execution_count": 36,
      "metadata": {
        "collapsed": false,
        "outputHidden": false,
        "inputHidden": false,
        "execution": {
          "iopub.status.busy": "2020-06-26T00:35:14.312Z",
          "iopub.execute_input": "2020-06-26T00:35:14.324Z",
          "iopub.status.idle": "2020-06-26T00:35:14.346Z",
          "shell.execute_reply": "2020-06-26T00:35:14.660Z"
        }
      }
    },
    {
      "cell_type": "code",
      "source": [
        "table.sort_values(by='Risk')"
      ],
      "outputs": [
        {
          "output_type": "execute_result",
          "execution_count": 37,
          "data": {
            "text/plain": [
              "            Returns      Risk\n",
              "FLOT       0.000056  0.000644\n",
              "VCSH       0.000088  0.000993\n",
              "Portfolio  0.000104  0.001526\n",
              "IGIB       0.000095  0.001579\n",
              "VCIT       0.000144  0.002503\n",
              "LQD        0.000138  0.003103"
            ],
            "text/html": [
              "<div>\n",
              "<style scoped>\n",
              "    .dataframe tbody tr th:only-of-type {\n",
              "        vertical-align: middle;\n",
              "    }\n",
              "\n",
              "    .dataframe tbody tr th {\n",
              "        vertical-align: top;\n",
              "    }\n",
              "\n",
              "    .dataframe thead th {\n",
              "        text-align: right;\n",
              "    }\n",
              "</style>\n",
              "<table border=\"1\" class=\"dataframe\">\n",
              "  <thead>\n",
              "    <tr style=\"text-align: right;\">\n",
              "      <th></th>\n",
              "      <th>Returns</th>\n",
              "      <th>Risk</th>\n",
              "    </tr>\n",
              "  </thead>\n",
              "  <tbody>\n",
              "    <tr>\n",
              "      <th>FLOT</th>\n",
              "      <td>0.000056</td>\n",
              "      <td>0.000644</td>\n",
              "    </tr>\n",
              "    <tr>\n",
              "      <th>VCSH</th>\n",
              "      <td>0.000088</td>\n",
              "      <td>0.000993</td>\n",
              "    </tr>\n",
              "    <tr>\n",
              "      <th>Portfolio</th>\n",
              "      <td>0.000104</td>\n",
              "      <td>0.001526</td>\n",
              "    </tr>\n",
              "    <tr>\n",
              "      <th>IGIB</th>\n",
              "      <td>0.000095</td>\n",
              "      <td>0.001579</td>\n",
              "    </tr>\n",
              "    <tr>\n",
              "      <th>VCIT</th>\n",
              "      <td>0.000144</td>\n",
              "      <td>0.002503</td>\n",
              "    </tr>\n",
              "    <tr>\n",
              "      <th>LQD</th>\n",
              "      <td>0.000138</td>\n",
              "      <td>0.003103</td>\n",
              "    </tr>\n",
              "  </tbody>\n",
              "</table>\n",
              "</div>"
            ]
          },
          "metadata": {}
        }
      ],
      "execution_count": 37,
      "metadata": {
        "collapsed": false,
        "outputHidden": false,
        "inputHidden": false,
        "execution": {
          "iopub.status.busy": "2020-06-26T00:35:14.363Z",
          "iopub.execute_input": "2020-06-26T00:35:14.378Z",
          "iopub.status.idle": "2020-06-26T00:35:14.398Z",
          "shell.execute_reply": "2020-06-26T00:35:14.665Z"
        }
      }
    },
    {
      "cell_type": "code",
      "source": [
        "table['Sharpe_Ratio'] = (table['Returns'] / table['Risk']) * np.sqrt(252)\n",
        "table"
      ],
      "outputs": [
        {
          "output_type": "execute_result",
          "execution_count": 38,
          "data": {
            "text/plain": [
              "            Returns      Risk  Sharpe_Ratio\n",
              "FLOT       0.000056  0.000644      1.379759\n",
              "IGIB       0.000095  0.001579      0.960191\n",
              "LQD        0.000138  0.003103      0.705647\n",
              "VCIT       0.000144  0.002503      0.910002\n",
              "VCSH       0.000088  0.000993      1.409709\n",
              "Portfolio  0.000104  0.001526      1.083854"
            ],
            "text/html": [
              "<div>\n",
              "<style scoped>\n",
              "    .dataframe tbody tr th:only-of-type {\n",
              "        vertical-align: middle;\n",
              "    }\n",
              "\n",
              "    .dataframe tbody tr th {\n",
              "        vertical-align: top;\n",
              "    }\n",
              "\n",
              "    .dataframe thead th {\n",
              "        text-align: right;\n",
              "    }\n",
              "</style>\n",
              "<table border=\"1\" class=\"dataframe\">\n",
              "  <thead>\n",
              "    <tr style=\"text-align: right;\">\n",
              "      <th></th>\n",
              "      <th>Returns</th>\n",
              "      <th>Risk</th>\n",
              "      <th>Sharpe_Ratio</th>\n",
              "    </tr>\n",
              "  </thead>\n",
              "  <tbody>\n",
              "    <tr>\n",
              "      <th>FLOT</th>\n",
              "      <td>0.000056</td>\n",
              "      <td>0.000644</td>\n",
              "      <td>1.379759</td>\n",
              "    </tr>\n",
              "    <tr>\n",
              "      <th>IGIB</th>\n",
              "      <td>0.000095</td>\n",
              "      <td>0.001579</td>\n",
              "      <td>0.960191</td>\n",
              "    </tr>\n",
              "    <tr>\n",
              "      <th>LQD</th>\n",
              "      <td>0.000138</td>\n",
              "      <td>0.003103</td>\n",
              "      <td>0.705647</td>\n",
              "    </tr>\n",
              "    <tr>\n",
              "      <th>VCIT</th>\n",
              "      <td>0.000144</td>\n",
              "      <td>0.002503</td>\n",
              "      <td>0.910002</td>\n",
              "    </tr>\n",
              "    <tr>\n",
              "      <th>VCSH</th>\n",
              "      <td>0.000088</td>\n",
              "      <td>0.000993</td>\n",
              "      <td>1.409709</td>\n",
              "    </tr>\n",
              "    <tr>\n",
              "      <th>Portfolio</th>\n",
              "      <td>0.000104</td>\n",
              "      <td>0.001526</td>\n",
              "      <td>1.083854</td>\n",
              "    </tr>\n",
              "  </tbody>\n",
              "</table>\n",
              "</div>"
            ]
          },
          "metadata": {}
        }
      ],
      "execution_count": 38,
      "metadata": {
        "collapsed": false,
        "outputHidden": false,
        "inputHidden": false,
        "execution": {
          "iopub.status.busy": "2020-06-26T00:35:14.412Z",
          "iopub.execute_input": "2020-06-26T00:35:14.423Z",
          "iopub.status.idle": "2020-06-26T00:35:14.445Z",
          "shell.execute_reply": "2020-06-26T00:35:14.670Z"
        }
      }
    },
    {
      "cell_type": "code",
      "source": [
        "print('Sortino Ratio:')\n",
        "for column in rets:\n",
        "    returns = rets[column]\n",
        "    numer = pow((1 + returns.mean()), 252) - 1\n",
        "    annual_volatility = returns.std() * np.sqrt(252)\n",
        "    denom = annual_volatility\n",
        "\n",
        "    if denom > 0.0:\n",
        "         sortino_ratio = numer / denom\n",
        "    else:\n",
        "        print('none')\n",
        "    print(rets[column].name, sortino_ratio)"
      ],
      "outputs": [
        {
          "output_type": "stream",
          "name": "stdout",
          "text": [
            "Sortino Ratio:\n",
            "FLOT 1.3895030236690635\n",
            "IGIB 0.9717889224701033\n",
            "LQD 0.7180036103382496\n",
            "VCIT 0.9265892010036217\n",
            "VCSH 1.4254227713351055\n",
            "Portfolio 1.0981543380109733\n"
          ]
        }
      ],
      "execution_count": 39,
      "metadata": {
        "collapsed": false,
        "outputHidden": false,
        "inputHidden": false,
        "execution": {
          "iopub.status.busy": "2020-06-26T00:35:14.463Z",
          "iopub.execute_input": "2020-06-26T00:35:14.473Z",
          "iopub.status.idle": "2020-06-26T00:35:14.499Z",
          "shell.execute_reply": "2020-06-26T00:35:14.676Z"
        }
      }
    },
    {
      "cell_type": "code",
      "source": [
        "print('Kelly Value:')\n",
        "for column in rets:\n",
        "    returns = np.array(rets[column])\n",
        "    wins = returns[returns > 0]\n",
        "    losses = returns[returns <= 0]\n",
        "    # W = Winning probability\n",
        "    # R = Win/loss ratio\n",
        "    W = len(wins) / len(returns)\n",
        "    R = np.mean(wins) / np.abs(np.mean(losses))\n",
        "    Kelly = W - ( (1 - W) / R )\n",
        "    # Kelly value negative means the expected returns will be negative\n",
        "    # Kelly value positive means the expected returns will be positive\n",
        "    print(rets[column].name, round(Kelly, 4))"
      ],
      "outputs": [
        {
          "output_type": "stream",
          "name": "stdout",
          "text": [
            "Kelly Value:\n",
            "FLOT 0.1104\n",
            "IGIB 0.0794\n",
            "LQD 0.0591\n",
            "VCIT 0.075\n",
            "VCSH 0.107\n",
            "Portfolio 0.0915\n"
          ]
        }
      ],
      "execution_count": 40,
      "metadata": {
        "collapsed": false,
        "outputHidden": false,
        "inputHidden": false,
        "execution": {
          "iopub.status.busy": "2020-06-26T00:35:14.516Z",
          "iopub.execute_input": "2020-06-26T00:35:14.527Z",
          "iopub.status.idle": "2020-06-26T00:35:14.552Z",
          "shell.execute_reply": "2020-06-26T00:35:14.681Z"
        }
      }
    }
  ],
  "metadata": {
    "kernel_info": {
      "name": "python3"
    },
    "language_info": {
      "file_extension": ".py",
      "mimetype": "text/x-python",
      "codemirror_mode": {
        "version": 3,
        "name": "ipython"
      },
      "name": "python",
      "version": "3.5.5",
      "pygments_lexer": "ipython3",
      "nbconvert_exporter": "python"
    },
    "kernelspec": {
      "name": "python3",
      "language": "python",
      "display_name": "Python 3"
    },
    "nteract": {
      "version": "0.23.3"
    }
  },
  "nbformat": 4,
  "nbformat_minor": 0
}