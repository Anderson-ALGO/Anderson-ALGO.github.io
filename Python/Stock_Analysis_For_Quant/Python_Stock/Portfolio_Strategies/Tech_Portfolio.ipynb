{
  "cells": [
    {
      "cell_type": "markdown",
      "source": [
        "# Technology Portfolio"
      ],
      "metadata": {}
    },
    {
      "cell_type": "markdown",
      "source": [
        "## Tech Stocks"
      ],
      "metadata": {}
    },
    {
      "cell_type": "code",
      "source": [
        "import numpy as np\n",
        "import pandas as pd\n",
        "import matplotlib.pyplot as plt\n",
        "import seaborn as sns\n",
        "import math\n",
        "\n",
        "import warnings\n",
        "warnings.filterwarnings(\"ignore\")\n",
        "\n",
        "# yfinance is used to fetch data \n",
        "import yfinance as yf\n",
        "yf.pdr_override()"
      ],
      "outputs": [],
      "execution_count": 1,
      "metadata": {
        "collapsed": false,
        "outputHidden": false,
        "inputHidden": false,
        "execution": {
          "iopub.status.busy": "2020-06-26T00:32:30.770Z",
          "iopub.execute_input": "2020-06-26T00:32:30.781Z",
          "iopub.status.idle": "2020-06-26T00:32:31.635Z",
          "shell.execute_reply": "2020-06-26T00:32:31.680Z"
        }
      }
    },
    {
      "cell_type": "code",
      "source": [
        "# input\n",
        "symbols = ['TSLA','GOOGL','MSFT','NVDA']\n",
        "start = '2011-01-01'\n",
        "end = '2019-01-01'\n",
        "title = \"Technology Portfolio\"\n",
        "\n",
        "# Read data \n",
        "df = yf.download(symbols,start,end)['Adj Close']\n",
        "\n",
        "# View Columns\n",
        "df.head()"
      ],
      "outputs": [
        {
          "output_type": "stream",
          "name": "stdout",
          "text": [
            "[*********************100%***********************]  4 of 4 completed\n"
          ]
        },
        {
          "output_type": "execute_result",
          "execution_count": 2,
          "data": {
            "text/html": [
              "<div>\n",
              "<style scoped>\n",
              "    .dataframe tbody tr th:only-of-type {\n",
              "        vertical-align: middle;\n",
              "    }\n",
              "\n",
              "    .dataframe tbody tr th {\n",
              "        vertical-align: top;\n",
              "    }\n",
              "\n",
              "    .dataframe thead th {\n",
              "        text-align: right;\n",
              "    }\n",
              "</style>\n",
              "<table border=\"1\" class=\"dataframe\">\n",
              "  <thead>\n",
              "    <tr style=\"text-align: right;\">\n",
              "      <th></th>\n",
              "      <th>GOOGL</th>\n",
              "      <th>MSFT</th>\n",
              "      <th>NVDA</th>\n",
              "      <th>TSLA</th>\n",
              "    </tr>\n",
              "    <tr>\n",
              "      <th>Date</th>\n",
              "      <th></th>\n",
              "      <th></th>\n",
              "      <th></th>\n",
              "      <th></th>\n",
              "    </tr>\n",
              "  </thead>\n",
              "  <tbody>\n",
              "    <tr>\n",
              "      <th>2011-01-03</th>\n",
              "      <td>302.477478</td>\n",
              "      <td>22.358212</td>\n",
              "      <td>14.553763</td>\n",
              "      <td>26.620001</td>\n",
              "    </tr>\n",
              "    <tr>\n",
              "      <th>2011-01-04</th>\n",
              "      <td>301.361359</td>\n",
              "      <td>22.446114</td>\n",
              "      <td>14.507762</td>\n",
              "      <td>26.670000</td>\n",
              "    </tr>\n",
              "    <tr>\n",
              "      <th>2011-01-05</th>\n",
              "      <td>304.839844</td>\n",
              "      <td>22.374191</td>\n",
              "      <td>15.620916</td>\n",
              "      <td>26.830000</td>\n",
              "    </tr>\n",
              "    <tr>\n",
              "      <th>2011-01-06</th>\n",
              "      <td>307.057068</td>\n",
              "      <td>23.029436</td>\n",
              "      <td>17.782816</td>\n",
              "      <td>27.879999</td>\n",
              "    </tr>\n",
              "    <tr>\n",
              "      <th>2011-01-07</th>\n",
              "      <td>308.528534</td>\n",
              "      <td>22.853636</td>\n",
              "      <td>18.279594</td>\n",
              "      <td>28.240000</td>\n",
              "    </tr>\n",
              "  </tbody>\n",
              "</table>\n",
              "</div>"
            ],
            "text/plain": [
              "                 GOOGL       MSFT       NVDA       TSLA\n",
              "Date                                                   \n",
              "2011-01-03  302.477478  22.358212  14.553763  26.620001\n",
              "2011-01-04  301.361359  22.446114  14.507762  26.670000\n",
              "2011-01-05  304.839844  22.374191  15.620916  26.830000\n",
              "2011-01-06  307.057068  23.029436  17.782816  27.879999\n",
              "2011-01-07  308.528534  22.853636  18.279594  28.240000"
            ]
          },
          "metadata": {}
        }
      ],
      "execution_count": 2,
      "metadata": {
        "collapsed": false,
        "outputHidden": false,
        "inputHidden": false,
        "execution": {
          "iopub.status.busy": "2020-06-26T00:32:31.650Z",
          "iopub.execute_input": "2020-06-26T00:32:31.660Z",
          "iopub.status.idle": "2020-06-26T00:32:33.280Z",
          "shell.execute_reply": "2020-06-26T00:32:34.952Z"
        }
      }
    },
    {
      "cell_type": "code",
      "source": [
        "df.tail()"
      ],
      "outputs": [
        {
          "output_type": "execute_result",
          "execution_count": 3,
          "data": {
            "text/html": [
              "<div>\n",
              "<style scoped>\n",
              "    .dataframe tbody tr th:only-of-type {\n",
              "        vertical-align: middle;\n",
              "    }\n",
              "\n",
              "    .dataframe tbody tr th {\n",
              "        vertical-align: top;\n",
              "    }\n",
              "\n",
              "    .dataframe thead th {\n",
              "        text-align: right;\n",
              "    }\n",
              "</style>\n",
              "<table border=\"1\" class=\"dataframe\">\n",
              "  <thead>\n",
              "    <tr style=\"text-align: right;\">\n",
              "      <th></th>\n",
              "      <th>GOOGL</th>\n",
              "      <th>MSFT</th>\n",
              "      <th>NVDA</th>\n",
              "      <th>TSLA</th>\n",
              "    </tr>\n",
              "    <tr>\n",
              "      <th>Date</th>\n",
              "      <th></th>\n",
              "      <th></th>\n",
              "      <th></th>\n",
              "      <th></th>\n",
              "    </tr>\n",
              "  </thead>\n",
              "  <tbody>\n",
              "    <tr>\n",
              "      <th>2018-12-24</th>\n",
              "      <td>984.669983</td>\n",
              "      <td>92.248878</td>\n",
              "      <td>126.452255</td>\n",
              "      <td>295.390015</td>\n",
              "    </tr>\n",
              "    <tr>\n",
              "      <th>2018-12-26</th>\n",
              "      <td>1047.849976</td>\n",
              "      <td>98.550377</td>\n",
              "      <td>132.442535</td>\n",
              "      <td>326.089996</td>\n",
              "    </tr>\n",
              "    <tr>\n",
              "      <th>2018-12-27</th>\n",
              "      <td>1052.900024</td>\n",
              "      <td>99.158005</td>\n",
              "      <td>130.522049</td>\n",
              "      <td>316.130005</td>\n",
              "    </tr>\n",
              "    <tr>\n",
              "      <th>2018-12-28</th>\n",
              "      <td>1046.680054</td>\n",
              "      <td>98.383781</td>\n",
              "      <td>132.989807</td>\n",
              "      <td>333.869995</td>\n",
              "    </tr>\n",
              "    <tr>\n",
              "      <th>2018-12-31</th>\n",
              "      <td>1044.959961</td>\n",
              "      <td>99.540192</td>\n",
              "      <td>132.840530</td>\n",
              "      <td>332.799988</td>\n",
              "    </tr>\n",
              "  </tbody>\n",
              "</table>\n",
              "</div>"
            ],
            "text/plain": [
              "                  GOOGL       MSFT        NVDA        TSLA\n",
              "Date                                                      \n",
              "2018-12-24   984.669983  92.248878  126.452255  295.390015\n",
              "2018-12-26  1047.849976  98.550377  132.442535  326.089996\n",
              "2018-12-27  1052.900024  99.158005  130.522049  316.130005\n",
              "2018-12-28  1046.680054  98.383781  132.989807  333.869995\n",
              "2018-12-31  1044.959961  99.540192  132.840530  332.799988"
            ]
          },
          "metadata": {}
        }
      ],
      "execution_count": 3,
      "metadata": {
        "collapsed": false,
        "outputHidden": false,
        "inputHidden": false,
        "execution": {
          "iopub.status.busy": "2020-06-26T00:32:33.300Z",
          "iopub.execute_input": "2020-06-26T00:32:33.315Z",
          "iopub.status.idle": "2020-06-26T00:32:33.350Z",
          "shell.execute_reply": "2020-06-26T00:32:34.958Z"
        }
      }
    },
    {
      "cell_type": "code",
      "source": [
        "from datetime import datetime\n",
        "from dateutil import relativedelta\n",
        "\n",
        "d1 = datetime.strptime(start, \"%Y-%m-%d\")\n",
        "d2 = datetime.strptime(end, \"%Y-%m-%d\")\n",
        "delta = relativedelta.relativedelta(d2,d1)\n",
        "print('How many years of investing?')\n",
        "print('%s years' % delta.years)"
      ],
      "outputs": [
        {
          "output_type": "stream",
          "name": "stdout",
          "text": [
            "How many years of investing?\n",
            "8 years\n"
          ]
        }
      ],
      "execution_count": 4,
      "metadata": {
        "collapsed": false,
        "outputHidden": false,
        "inputHidden": false,
        "execution": {
          "iopub.status.busy": "2020-06-26T00:32:33.368Z",
          "iopub.execute_input": "2020-06-26T00:32:33.379Z",
          "iopub.status.idle": "2020-06-26T00:32:33.402Z",
          "shell.execute_reply": "2020-06-26T00:32:34.964Z"
        }
      }
    },
    {
      "cell_type": "markdown",
      "source": [
        "### Starting Cash with 100k to invest in Technology"
      ],
      "metadata": {}
    },
    {
      "cell_type": "code",
      "source": [
        "Cash = 100000\n",
        "print('Percentage of invest:')\n",
        "percent_invest = [0.25, 0.25, 0.25, 0.25]\n",
        "for i, x in zip(df.columns, percent_invest):\n",
        "    cost = x * Cash\n",
        "    print('{}: {}'.format(i, cost))"
      ],
      "outputs": [
        {
          "output_type": "stream",
          "name": "stdout",
          "text": [
            "Percentage of invest:\n",
            "GOOGL: 25000.0\n",
            "MSFT: 25000.0\n",
            "NVDA: 25000.0\n",
            "TSLA: 25000.0\n"
          ]
        }
      ],
      "execution_count": 5,
      "metadata": {
        "collapsed": false,
        "outputHidden": false,
        "inputHidden": false,
        "execution": {
          "iopub.status.busy": "2020-06-26T00:32:33.419Z",
          "iopub.execute_input": "2020-06-26T00:32:33.433Z",
          "iopub.status.idle": "2020-06-26T00:32:33.461Z",
          "shell.execute_reply": "2020-06-26T00:32:34.969Z"
        }
      }
    },
    {
      "cell_type": "code",
      "source": [
        "print('Number of Shares:')\n",
        "percent_invest = [0.25, 0.25, 0.25, 0.25]\n",
        "for i, x, y in zip(df.columns, percent_invest, df.iloc[0]):\n",
        "    cost = x * Cash\n",
        "    shares = int(cost/y)\n",
        "    print('{}: {}'.format(i, shares))"
      ],
      "outputs": [
        {
          "output_type": "stream",
          "name": "stdout",
          "text": [
            "Number of Shares:\n",
            "GOOGL: 82\n",
            "MSFT: 1118\n",
            "NVDA: 1717\n",
            "TSLA: 939\n"
          ]
        }
      ],
      "execution_count": 6,
      "metadata": {
        "collapsed": false,
        "outputHidden": false,
        "inputHidden": false,
        "execution": {
          "iopub.status.busy": "2020-06-26T00:32:33.476Z",
          "iopub.execute_input": "2020-06-26T00:32:33.485Z",
          "iopub.status.idle": "2020-06-26T00:32:33.508Z",
          "shell.execute_reply": "2020-06-26T00:32:34.974Z"
        }
      }
    },
    {
      "cell_type": "code",
      "source": [
        "print('Beginning Value:')\n",
        "percent_invest = [0.25, 0.25, 0.25, 0.25]\n",
        "for i, x, y in zip(df.columns, percent_invest, df.iloc[0]):\n",
        "    cost = x * Cash\n",
        "    shares = int(cost/y)\n",
        "    Begin_Value = round(shares * y, 2)\n",
        "    print('{}: ${}'.format(i, Begin_Value))"
      ],
      "outputs": [
        {
          "output_type": "stream",
          "name": "stdout",
          "text": [
            "Beginning Value:\n",
            "GOOGL: $24803.15\n",
            "MSFT: $24996.48\n",
            "NVDA: $24988.81\n",
            "TSLA: $24996.18\n"
          ]
        }
      ],
      "execution_count": 7,
      "metadata": {
        "collapsed": false,
        "outputHidden": false,
        "inputHidden": false,
        "execution": {
          "iopub.status.busy": "2020-06-26T00:32:33.525Z",
          "iopub.execute_input": "2020-06-26T00:32:33.540Z",
          "iopub.status.idle": "2020-06-26T00:32:33.565Z",
          "shell.execute_reply": "2020-06-26T00:32:34.980Z"
        }
      }
    },
    {
      "cell_type": "code",
      "source": [
        "df.ix[-1]"
      ],
      "outputs": [
        {
          "output_type": "execute_result",
          "execution_count": 8,
          "data": {
            "text/plain": [
              "GOOGL    1044.959961\n",
              "MSFT       99.540192\n",
              "NVDA      132.840530\n",
              "TSLA      332.799988\n",
              "Name: 2018-12-31 00:00:00, dtype: float64"
            ]
          },
          "metadata": {}
        }
      ],
      "execution_count": 8,
      "metadata": {
        "collapsed": false,
        "outputHidden": false,
        "inputHidden": false,
        "execution": {
          "iopub.status.busy": "2020-06-26T00:32:33.582Z",
          "iopub.execute_input": "2020-06-26T00:32:33.591Z",
          "iopub.status.idle": "2020-06-26T00:32:33.611Z",
          "shell.execute_reply": "2020-06-26T00:32:34.985Z"
        }
      }
    },
    {
      "cell_type": "code",
      "source": [
        "print('Current Value:')\n",
        "percent_invest = [0.25, 0.25, 0.25, 0.25]\n",
        "for i, x, y, z in zip(df.columns, percent_invest, df.ix[0], df.ix[-1]):\n",
        "    cost = x * Cash\n",
        "    shares = int(cost/y)\n",
        "    Current_Value = round(shares * z, 2)\n",
        "    print('{}: ${}'.format(i, Current_Value))"
      ],
      "outputs": [
        {
          "output_type": "stream",
          "name": "stdout",
          "text": [
            "Current Value:\n",
            "GOOGL: $85686.72\n",
            "MSFT: $111285.93\n",
            "NVDA: $228087.19\n",
            "TSLA: $312499.19\n"
          ]
        }
      ],
      "execution_count": 9,
      "metadata": {
        "collapsed": false,
        "outputHidden": false,
        "inputHidden": false,
        "execution": {
          "iopub.status.busy": "2020-06-26T00:32:33.629Z",
          "iopub.execute_input": "2020-06-26T00:32:33.639Z",
          "iopub.status.idle": "2020-06-26T00:32:33.663Z",
          "shell.execute_reply": "2020-06-26T00:32:34.991Z"
        }
      }
    },
    {
      "cell_type": "code",
      "source": [
        "result = []\n",
        "percent_invest = [0.25, 0.25, 0.25, 0.25]\n",
        "for i, x, y, z in zip(df.columns, percent_invest, df.iloc[0], df.iloc[-1]):\n",
        "    cost = x * Cash\n",
        "    shares = int(cost/y)\n",
        "    Current_Value = round(shares * z, 2)\n",
        "    result.append(Current_Value)\n",
        "print('Total Value: $%s' % round(sum(result),2))"
      ],
      "outputs": [
        {
          "output_type": "stream",
          "name": "stdout",
          "text": [
            "Total Value: $737559.03\n"
          ]
        }
      ],
      "execution_count": 10,
      "metadata": {
        "collapsed": false,
        "outputHidden": false,
        "inputHidden": false,
        "execution": {
          "iopub.status.busy": "2020-06-26T00:32:33.683Z",
          "iopub.execute_input": "2020-06-26T00:32:33.698Z",
          "iopub.status.idle": "2020-06-26T00:32:33.728Z",
          "shell.execute_reply": "2020-06-26T00:32:34.997Z"
        }
      }
    },
    {
      "cell_type": "code",
      "source": [
        "# Calculate Daily Returns\n",
        "returns = df.pct_change()\n",
        "returns = returns.dropna()"
      ],
      "outputs": [],
      "execution_count": 11,
      "metadata": {
        "collapsed": false,
        "outputHidden": false,
        "inputHidden": false,
        "execution": {
          "iopub.status.busy": "2020-06-26T00:32:33.751Z",
          "iopub.execute_input": "2020-06-26T00:32:33.766Z",
          "iopub.status.idle": "2020-06-26T00:32:33.787Z",
          "shell.execute_reply": "2020-06-26T00:32:35.003Z"
        }
      }
    },
    {
      "cell_type": "code",
      "source": [
        "# Calculate mean returns\n",
        "meanDailyReturns = returns.mean()\n",
        "print(meanDailyReturns)"
      ],
      "outputs": [
        {
          "output_type": "stream",
          "name": "stdout",
          "text": [
            "GOOGL    0.000729\n",
            "MSFT     0.000849\n",
            "NVDA     0.001416\n",
            "TSLA     0.001749\n",
            "dtype: float64\n"
          ]
        }
      ],
      "execution_count": 12,
      "metadata": {
        "collapsed": false,
        "outputHidden": false,
        "inputHidden": false,
        "execution": {
          "iopub.status.busy": "2020-06-26T00:32:33.807Z",
          "iopub.execute_input": "2020-06-26T00:32:33.819Z",
          "iopub.status.idle": "2020-06-26T00:32:33.841Z",
          "shell.execute_reply": "2020-06-26T00:32:35.009Z"
        }
      }
    },
    {
      "cell_type": "code",
      "source": [
        "# Calculate std returns\n",
        "stdDailyReturns = returns.std()\n",
        "print(stdDailyReturns)"
      ],
      "outputs": [
        {
          "output_type": "stream",
          "name": "stdout",
          "text": [
            "GOOGL    0.015087\n",
            "MSFT     0.014583\n",
            "NVDA     0.025336\n",
            "TSLA     0.031572\n",
            "dtype: float64\n"
          ]
        }
      ],
      "execution_count": 13,
      "metadata": {
        "collapsed": false,
        "outputHidden": false,
        "inputHidden": false,
        "execution": {
          "iopub.status.busy": "2020-06-26T00:32:33.856Z",
          "iopub.execute_input": "2020-06-26T00:32:33.872Z",
          "iopub.status.idle": "2020-06-26T00:32:33.895Z",
          "shell.execute_reply": "2020-06-26T00:32:35.019Z"
        }
      }
    },
    {
      "cell_type": "code",
      "source": [
        "# Define weights for the portfolio\n",
        "weights = np.array([0.50, 0.10, 0.20, 0.20])"
      ],
      "outputs": [],
      "execution_count": 14,
      "metadata": {
        "collapsed": false,
        "outputHidden": false,
        "inputHidden": false,
        "execution": {
          "iopub.status.busy": "2020-06-26T00:32:33.909Z",
          "iopub.execute_input": "2020-06-26T00:32:33.918Z",
          "iopub.status.idle": "2020-06-26T00:32:33.934Z",
          "shell.execute_reply": "2020-06-26T00:32:35.025Z"
        }
      }
    },
    {
      "cell_type": "code",
      "source": [
        "# Calculate the covariance matrix on daily returns\n",
        "cov_matrix = (returns.cov())*250\n",
        "print (cov_matrix)"
      ],
      "outputs": [
        {
          "output_type": "stream",
          "name": "stdout",
          "text": [
            "          GOOGL      MSFT      NVDA      TSLA\n",
            "GOOGL  0.056903  0.029132  0.038131  0.034590\n",
            "MSFT   0.029132  0.053164  0.040668  0.031326\n",
            "NVDA   0.038131  0.040668  0.160477  0.053355\n",
            "TSLA   0.034590  0.031326  0.053355  0.249197\n"
          ]
        }
      ],
      "execution_count": 15,
      "metadata": {
        "collapsed": false,
        "outputHidden": false,
        "inputHidden": false,
        "execution": {
          "iopub.status.busy": "2020-06-26T00:32:33.951Z",
          "iopub.execute_input": "2020-06-26T00:32:33.963Z",
          "iopub.status.idle": "2020-06-26T00:32:33.983Z",
          "shell.execute_reply": "2020-06-26T00:32:35.030Z"
        }
      }
    },
    {
      "cell_type": "code",
      "source": [
        "# Calculate expected portfolio performance\n",
        "portReturn = np.sum(meanDailyReturns*weights)"
      ],
      "outputs": [],
      "execution_count": 16,
      "metadata": {
        "collapsed": false,
        "outputHidden": false,
        "inputHidden": false,
        "execution": {
          "iopub.status.busy": "2020-06-26T00:32:33.999Z",
          "iopub.execute_input": "2020-06-26T00:32:34.008Z",
          "iopub.status.idle": "2020-06-26T00:32:34.024Z",
          "shell.execute_reply": "2020-06-26T00:32:35.036Z"
        }
      }
    },
    {
      "cell_type": "code",
      "source": [
        "# Print the portfolio return\n",
        "print(portReturn)"
      ],
      "outputs": [
        {
          "output_type": "stream",
          "name": "stdout",
          "text": [
            "0.0010827309074405308\n"
          ]
        }
      ],
      "execution_count": 17,
      "metadata": {
        "collapsed": false,
        "outputHidden": false,
        "inputHidden": false,
        "execution": {
          "iopub.status.busy": "2020-06-26T00:32:34.041Z",
          "iopub.execute_input": "2020-06-26T00:32:34.052Z",
          "iopub.status.idle": "2020-06-26T00:32:34.077Z",
          "shell.execute_reply": "2020-06-26T00:32:35.042Z"
        }
      }
    },
    {
      "cell_type": "code",
      "source": [
        "# Create portfolio returns column\n",
        "returns['Portfolio'] = returns.dot(weights)"
      ],
      "outputs": [],
      "execution_count": 18,
      "metadata": {
        "collapsed": false,
        "outputHidden": false,
        "inputHidden": false,
        "execution": {
          "iopub.status.busy": "2020-06-26T00:32:34.092Z",
          "iopub.execute_input": "2020-06-26T00:32:34.101Z",
          "iopub.status.idle": "2020-06-26T00:32:34.116Z",
          "shell.execute_reply": "2020-06-26T00:32:35.047Z"
        }
      }
    },
    {
      "cell_type": "code",
      "source": [
        "returns.head()"
      ],
      "outputs": [
        {
          "output_type": "execute_result",
          "execution_count": 19,
          "data": {
            "text/html": [
              "<div>\n",
              "<style scoped>\n",
              "    .dataframe tbody tr th:only-of-type {\n",
              "        vertical-align: middle;\n",
              "    }\n",
              "\n",
              "    .dataframe tbody tr th {\n",
              "        vertical-align: top;\n",
              "    }\n",
              "\n",
              "    .dataframe thead th {\n",
              "        text-align: right;\n",
              "    }\n",
              "</style>\n",
              "<table border=\"1\" class=\"dataframe\">\n",
              "  <thead>\n",
              "    <tr style=\"text-align: right;\">\n",
              "      <th></th>\n",
              "      <th>GOOGL</th>\n",
              "      <th>MSFT</th>\n",
              "      <th>NVDA</th>\n",
              "      <th>TSLA</th>\n",
              "      <th>Portfolio</th>\n",
              "    </tr>\n",
              "    <tr>\n",
              "      <th>Date</th>\n",
              "      <th></th>\n",
              "      <th></th>\n",
              "      <th></th>\n",
              "      <th></th>\n",
              "      <th></th>\n",
              "    </tr>\n",
              "  </thead>\n",
              "  <tbody>\n",
              "    <tr>\n",
              "      <th>2011-01-04</th>\n",
              "      <td>-0.003690</td>\n",
              "      <td>0.003932</td>\n",
              "      <td>-0.003161</td>\n",
              "      <td>0.001878</td>\n",
              "      <td>-0.001708</td>\n",
              "    </tr>\n",
              "    <tr>\n",
              "      <th>2011-01-05</th>\n",
              "      <td>0.011543</td>\n",
              "      <td>-0.003204</td>\n",
              "      <td>0.076728</td>\n",
              "      <td>0.005999</td>\n",
              "      <td>0.021996</td>\n",
              "    </tr>\n",
              "    <tr>\n",
              "      <th>2011-01-06</th>\n",
              "      <td>0.007273</td>\n",
              "      <td>0.029286</td>\n",
              "      <td>0.138398</td>\n",
              "      <td>0.039135</td>\n",
              "      <td>0.042072</td>\n",
              "    </tr>\n",
              "    <tr>\n",
              "      <th>2011-01-07</th>\n",
              "      <td>0.004792</td>\n",
              "      <td>-0.007634</td>\n",
              "      <td>0.027936</td>\n",
              "      <td>0.012913</td>\n",
              "      <td>0.009802</td>\n",
              "    </tr>\n",
              "    <tr>\n",
              "      <th>2011-01-10</th>\n",
              "      <td>-0.003618</td>\n",
              "      <td>-0.013287</td>\n",
              "      <td>0.038249</td>\n",
              "      <td>0.007436</td>\n",
              "      <td>0.006000</td>\n",
              "    </tr>\n",
              "  </tbody>\n",
              "</table>\n",
              "</div>"
            ],
            "text/plain": [
              "               GOOGL      MSFT      NVDA      TSLA  Portfolio\n",
              "Date                                                         \n",
              "2011-01-04 -0.003690  0.003932 -0.003161  0.001878  -0.001708\n",
              "2011-01-05  0.011543 -0.003204  0.076728  0.005999   0.021996\n",
              "2011-01-06  0.007273  0.029286  0.138398  0.039135   0.042072\n",
              "2011-01-07  0.004792 -0.007634  0.027936  0.012913   0.009802\n",
              "2011-01-10 -0.003618 -0.013287  0.038249  0.007436   0.006000"
            ]
          },
          "metadata": {}
        }
      ],
      "execution_count": 19,
      "metadata": {
        "collapsed": false,
        "outputHidden": false,
        "inputHidden": false,
        "execution": {
          "iopub.status.busy": "2020-06-26T00:32:34.132Z",
          "iopub.execute_input": "2020-06-26T00:32:34.147Z",
          "iopub.status.idle": "2020-06-26T00:32:34.175Z",
          "shell.execute_reply": "2020-06-26T00:32:35.053Z"
        }
      }
    },
    {
      "cell_type": "code",
      "source": [
        "returns.tail()"
      ],
      "outputs": [
        {
          "output_type": "execute_result",
          "execution_count": 20,
          "data": {
            "text/html": [
              "<div>\n",
              "<style scoped>\n",
              "    .dataframe tbody tr th:only-of-type {\n",
              "        vertical-align: middle;\n",
              "    }\n",
              "\n",
              "    .dataframe tbody tr th {\n",
              "        vertical-align: top;\n",
              "    }\n",
              "\n",
              "    .dataframe thead th {\n",
              "        text-align: right;\n",
              "    }\n",
              "</style>\n",
              "<table border=\"1\" class=\"dataframe\">\n",
              "  <thead>\n",
              "    <tr style=\"text-align: right;\">\n",
              "      <th></th>\n",
              "      <th>GOOGL</th>\n",
              "      <th>MSFT</th>\n",
              "      <th>NVDA</th>\n",
              "      <th>TSLA</th>\n",
              "      <th>Portfolio</th>\n",
              "    </tr>\n",
              "    <tr>\n",
              "      <th>Date</th>\n",
              "      <th></th>\n",
              "      <th></th>\n",
              "      <th></th>\n",
              "      <th></th>\n",
              "      <th></th>\n",
              "    </tr>\n",
              "  </thead>\n",
              "  <tbody>\n",
              "    <tr>\n",
              "      <th>2018-12-24</th>\n",
              "      <td>-0.006638</td>\n",
              "      <td>-0.041739</td>\n",
              "      <td>-0.019218</td>\n",
              "      <td>-0.076242</td>\n",
              "      <td>-0.026585</td>\n",
              "    </tr>\n",
              "    <tr>\n",
              "      <th>2018-12-26</th>\n",
              "      <td>0.064164</td>\n",
              "      <td>0.068310</td>\n",
              "      <td>0.047372</td>\n",
              "      <td>0.103930</td>\n",
              "      <td>0.069173</td>\n",
              "    </tr>\n",
              "    <tr>\n",
              "      <th>2018-12-27</th>\n",
              "      <td>0.004819</td>\n",
              "      <td>0.006166</td>\n",
              "      <td>-0.014501</td>\n",
              "      <td>-0.030544</td>\n",
              "      <td>-0.005983</td>\n",
              "    </tr>\n",
              "    <tr>\n",
              "      <th>2018-12-28</th>\n",
              "      <td>-0.005907</td>\n",
              "      <td>-0.007808</td>\n",
              "      <td>0.018907</td>\n",
              "      <td>0.056116</td>\n",
              "      <td>0.011270</td>\n",
              "    </tr>\n",
              "    <tr>\n",
              "      <th>2018-12-31</th>\n",
              "      <td>-0.001643</td>\n",
              "      <td>0.011754</td>\n",
              "      <td>-0.001122</td>\n",
              "      <td>-0.003205</td>\n",
              "      <td>-0.000512</td>\n",
              "    </tr>\n",
              "  </tbody>\n",
              "</table>\n",
              "</div>"
            ],
            "text/plain": [
              "               GOOGL      MSFT      NVDA      TSLA  Portfolio\n",
              "Date                                                         \n",
              "2018-12-24 -0.006638 -0.041739 -0.019218 -0.076242  -0.026585\n",
              "2018-12-26  0.064164  0.068310  0.047372  0.103930   0.069173\n",
              "2018-12-27  0.004819  0.006166 -0.014501 -0.030544  -0.005983\n",
              "2018-12-28 -0.005907 -0.007808  0.018907  0.056116   0.011270\n",
              "2018-12-31 -0.001643  0.011754 -0.001122 -0.003205  -0.000512"
            ]
          },
          "metadata": {}
        }
      ],
      "execution_count": 20,
      "metadata": {
        "collapsed": false,
        "outputHidden": false,
        "inputHidden": false,
        "execution": {
          "iopub.status.busy": "2020-06-26T00:32:34.194Z",
          "iopub.execute_input": "2020-06-26T00:32:34.207Z",
          "iopub.status.idle": "2020-06-26T00:32:34.229Z",
          "shell.execute_reply": "2020-06-26T00:32:35.058Z"
        }
      }
    },
    {
      "cell_type": "code",
      "source": [
        "# Calculate cumulative returns\n",
        "daily_cum_ret=(1+returns).cumprod()\n",
        "print(daily_cum_ret.tail())"
      ],
      "outputs": [
        {
          "output_type": "stream",
          "name": "stdout",
          "text": [
            "               GOOGL      MSFT      NVDA       TSLA  Portfolio\n",
            "Date                                                          \n",
            "2018-12-24  3.255350  4.125951  8.688629  11.096544   6.558954\n",
            "2018-12-26  3.464225  4.407793  9.100226  12.249812   7.012658\n",
            "2018-12-27  3.480920  4.434970  8.968268  11.875657   6.970704\n",
            "2018-12-28  3.460357  4.400342  9.137829  12.542073   7.049264\n",
            "2018-12-31  3.454670  4.452064  9.127572  12.501877   7.045657\n"
          ]
        }
      ],
      "execution_count": 21,
      "metadata": {
        "collapsed": false,
        "outputHidden": false,
        "inputHidden": false,
        "execution": {
          "iopub.status.busy": "2020-06-26T00:32:34.247Z",
          "iopub.execute_input": "2020-06-26T00:32:34.260Z",
          "iopub.status.idle": "2020-06-26T00:32:34.292Z",
          "shell.execute_reply": "2020-06-26T00:32:35.064Z"
        }
      }
    },
    {
      "cell_type": "code",
      "source": [
        "returns['Portfolio'].hist()\n",
        "plt.show()"
      ],
      "outputs": [
        {
          "output_type": "display_data",
          "data": {
            "text/plain": [
              "<Figure size 432x288 with 1 Axes>"
            ],
            "image/png": "[encoded data removed]"
          },
          "metadata": {
            "needs_background": "light"
          }
        }
      ],
      "execution_count": 22,
      "metadata": {
        "collapsed": false,
        "outputHidden": false,
        "inputHidden": false,
        "execution": {
          "iopub.status.busy": "2020-06-26T00:32:34.310Z",
          "iopub.execute_input": "2020-06-26T00:32:34.320Z",
          "iopub.status.idle": "2020-06-26T00:32:34.346Z",
          "shell.execute_reply": "2020-06-26T00:32:35.069Z"
        }
      }
    },
    {
      "cell_type": "code",
      "source": [
        "import matplotlib.dates\n",
        "\n",
        "# Plot the portfolio cumulative returns only\n",
        "fig, ax = plt.subplots()\n",
        "ax.plot(daily_cum_ret.index, daily_cum_ret.Portfolio, color='purple', label=\"portfolio\")\n",
        "ax.xaxis.set_major_locator(matplotlib.dates.YearLocator())\n",
        "plt.title(title)\n",
        "plt.legend()\n",
        "plt.show()"
      ],
      "outputs": [
        {
          "output_type": "display_data",
          "data": {
            "text/plain": [
              "<Figure size 432x288 with 1 Axes>"
            ],
            "image/png": "[encoded data removed]"
          },
          "metadata": {
            "needs_background": "light"
          }
        }
      ],
      "execution_count": 23,
      "metadata": {
        "collapsed": false,
        "outputHidden": false,
        "inputHidden": false,
        "execution": {
          "iopub.status.busy": "2020-06-26T00:32:34.369Z",
          "iopub.execute_input": "2020-06-26T00:32:34.379Z",
          "iopub.status.idle": "2020-06-26T00:32:34.403Z",
          "shell.execute_reply": "2020-06-26T00:32:35.075Z"
        }
      }
    },
    {
      "cell_type": "code",
      "source": [
        "# Print the mean\n",
        "print(\"mean : \", returns['Portfolio'].mean()*100)\n",
        "\n",
        "# Print the standard deviation\n",
        "print(\"Std. dev: \", returns['Portfolio'].std()*100)\n",
        "\n",
        "# Print the skewness\n",
        "print(\"skew: \", returns['Portfolio'].skew())\n",
        "\n",
        "# Print the kurtosis\n",
        "print(\"kurt: \", returns['Portfolio'].kurtosis())"
      ],
      "outputs": [
        {
          "output_type": "stream",
          "name": "stdout",
          "text": [
            "mean :  0.10827309074405318\n",
            "Std. dev:  1.4933191419850007\n",
            "skew:  -0.008350990342117304\n",
            "kurt:  2.402583341549402\n"
          ]
        }
      ],
      "execution_count": 24,
      "metadata": {
        "collapsed": false,
        "outputHidden": false,
        "inputHidden": false,
        "execution": {
          "iopub.status.busy": "2020-06-26T00:32:34.424Z",
          "iopub.execute_input": "2020-06-26T00:32:34.440Z",
          "iopub.status.idle": "2020-06-26T00:32:34.468Z",
          "shell.execute_reply": "2020-06-26T00:32:35.805Z"
        }
      }
    },
    {
      "cell_type": "code",
      "source": [
        "# Calculate the standard deviation by taking the square root\n",
        "port_standard_dev = np.sqrt(np.dot(weights.T, np.dot(weights, cov_matrix)))\n",
        "\n",
        "# Print the results \n",
        "print(str(np.round(port_standard_dev, 4) * 100) + '%')"
      ],
      "outputs": [
        {
          "output_type": "stream",
          "name": "stdout",
          "text": [
            "23.61%\n"
          ]
        }
      ],
      "execution_count": 25,
      "metadata": {
        "collapsed": false,
        "outputHidden": false,
        "inputHidden": false,
        "execution": {
          "iopub.status.busy": "2020-06-26T00:32:34.487Z",
          "iopub.execute_input": "2020-06-26T00:32:34.502Z",
          "iopub.status.idle": "2020-06-26T00:32:34.532Z",
          "shell.execute_reply": "2020-06-26T00:32:35.811Z"
        }
      }
    },
    {
      "cell_type": "code",
      "source": [
        "# Calculate the portfolio variance\n",
        "port_variance = np.dot(weights.T, np.dot(cov_matrix, weights))\n",
        "\n",
        "# Print the result\n",
        "print(str(np.round(port_variance, 4) * 100) + '%')"
      ],
      "outputs": [
        {
          "output_type": "stream",
          "name": "stdout",
          "text": [
            "5.58%\n"
          ]
        }
      ],
      "execution_count": 26,
      "metadata": {
        "collapsed": false,
        "outputHidden": false,
        "inputHidden": false,
        "execution": {
          "iopub.status.busy": "2020-06-26T00:32:34.553Z",
          "iopub.execute_input": "2020-06-26T00:32:34.568Z",
          "iopub.status.idle": "2020-06-26T00:32:34.588Z",
          "shell.execute_reply": "2020-06-26T00:32:35.817Z"
        }
      }
    },
    {
      "cell_type": "code",
      "source": [
        "# Calculate total return and annualized return from price data \n",
        "total_return = (returns['Portfolio'][-1] - returns['Portfolio'][0]) / returns['Portfolio'][0]\n",
        "\n",
        "# Annualize the total return over 5 year \n",
        "annualized_return = ((total_return + 1)**(1/5))-1"
      ],
      "outputs": [],
      "execution_count": 27,
      "metadata": {
        "collapsed": false,
        "outputHidden": false,
        "inputHidden": false,
        "execution": {
          "iopub.status.busy": "2020-06-26T00:32:34.604Z",
          "iopub.execute_input": "2020-06-26T00:32:34.614Z",
          "iopub.status.idle": "2020-06-26T00:32:34.631Z",
          "shell.execute_reply": "2020-06-26T00:32:35.822Z"
        }
      }
    },
    {
      "cell_type": "code",
      "source": [
        "# Calculate annualized volatility from the standard deviation\n",
        "vol_port = returns['Portfolio'].std() * np.sqrt(250)"
      ],
      "outputs": [],
      "execution_count": 28,
      "metadata": {
        "collapsed": false,
        "outputHidden": false,
        "inputHidden": false,
        "execution": {
          "iopub.status.busy": "2020-06-26T00:32:34.649Z",
          "iopub.execute_input": "2020-06-26T00:32:34.659Z",
          "iopub.status.idle": "2020-06-26T00:32:34.673Z",
          "shell.execute_reply": "2020-06-26T00:32:35.827Z"
        }
      }
    },
    {
      "cell_type": "code",
      "source": [
        "# Calculate the Sharpe ratio \n",
        "rf = 0.01\n",
        "sharpe_ratio = ((annualized_return - rf) / vol_port)\n",
        "print(sharpe_ratio)"
      ],
      "outputs": [
        {
          "output_type": "stream",
          "name": "stdout",
          "text": [
            "-0.9496495611598165\n"
          ]
        }
      ],
      "execution_count": 29,
      "metadata": {
        "collapsed": false,
        "outputHidden": false,
        "inputHidden": false,
        "execution": {
          "iopub.status.busy": "2020-06-26T00:32:34.688Z",
          "iopub.execute_input": "2020-06-26T00:32:34.699Z",
          "iopub.status.idle": "2020-06-26T00:32:34.723Z",
          "shell.execute_reply": "2020-06-26T00:32:35.833Z"
        }
      }
    },
    {
      "cell_type": "code",
      "source": [
        "# Create a downside return column with the negative returns only\n",
        "target = 0\n",
        "downside_returns = returns.loc[returns['Portfolio'] < target]\n",
        "\n",
        "# Calculate expected return and std dev of downside\n",
        "expected_return = returns['Portfolio'].mean()\n",
        "down_stdev = downside_returns.std()\n",
        "\n",
        "# Calculate the sortino ratio\n",
        "rf = 0.01\n",
        "sortino_ratio = (expected_return - rf)/down_stdev\n",
        "\n",
        "# Print the results\n",
        "print(\"Expected return: \", expected_return*100)\n",
        "print('-' * 50)\n",
        "print(\"Downside risk:\")\n",
        "print(down_stdev*100)\n",
        "print('-' * 50)\n",
        "print(\"Sortino ratio:\")\n",
        "print(sortino_ratio)"
      ],
      "outputs": [
        {
          "output_type": "stream",
          "name": "stdout",
          "text": [
            "Expected return:  0.10827309074405318\n",
            "--------------------------------------------------\n",
            "Downside risk:\n",
            "GOOGL        1.199141\n",
            "MSFT         1.320950\n",
            "NVDA         2.013994\n",
            "TSLA         2.454544\n",
            "Portfolio    1.037424\n",
            "dtype: float64\n",
            "--------------------------------------------------\n",
            "Sortino ratio:\n",
            "GOOGL       -0.743638\n",
            "MSFT        -0.675065\n",
            "NVDA        -0.442765\n",
            "TSLA        -0.363296\n",
            "Portfolio   -0.859559\n",
            "dtype: float64\n"
          ]
        }
      ],
      "execution_count": 30,
      "metadata": {
        "collapsed": false,
        "outputHidden": false,
        "inputHidden": false,
        "execution": {
          "iopub.status.busy": "2020-06-26T00:32:34.739Z",
          "iopub.execute_input": "2020-06-26T00:32:34.749Z",
          "iopub.status.idle": "2020-06-26T00:32:34.769Z",
          "shell.execute_reply": "2020-06-26T00:32:35.838Z"
        }
      }
    },
    {
      "cell_type": "code",
      "source": [
        "# Calculate the max value \n",
        "roll_max = returns['Portfolio'].rolling(center=False,min_periods=1,window=252).max()\n",
        "\n",
        "# Calculate the daily draw-down relative to the max\n",
        "daily_draw_down = returns['Portfolio']/roll_max - 1.0\n",
        "\n",
        "# Calculate the minimum (negative) daily draw-down\n",
        "max_daily_draw_down = daily_draw_down.rolling(center=False,min_periods=1,window=252).min()\n",
        "\n",
        "# Plot the results\n",
        "plt.figure(figsize=(15,15))\n",
        "plt.plot(returns.index, daily_draw_down, label='Daily drawdown')\n",
        "plt.plot(returns.index, max_daily_draw_down, label='Maximum daily drawdown in time-window')\n",
        "plt.legend()\n",
        "plt.show()"
      ],
      "outputs": [
        {
          "output_type": "display_data",
          "data": {
            "text/plain": [
              "<Figure size 1080x1080 with 1 Axes>"
            ],
            "image/png": "[encoded data removed]"
          },
          "metadata": {
            "needs_background": "light"
          }
        }
      ],
      "execution_count": 31,
      "metadata": {
        "collapsed": false,
        "outputHidden": false,
        "inputHidden": false,
        "execution": {
          "iopub.status.busy": "2020-06-26T00:32:34.785Z",
          "iopub.execute_input": "2020-06-26T00:32:34.795Z",
          "iopub.status.idle": "2020-06-26T00:32:34.817Z",
          "shell.execute_reply": "2020-06-26T00:32:35.843Z"
        }
      }
    },
    {
      "cell_type": "code",
      "source": [
        "plt.figure(figsize=(7,7))\n",
        "corr = returns.corr()\n",
        "\n",
        "# plot the heatmap\n",
        "sns.heatmap(corr, \n",
        "        xticklabels=corr.columns,\n",
        "        yticklabels=corr.columns,\n",
        "            cmap=\"Blues\")"
      ],
      "outputs": [
        {
          "output_type": "execute_result",
          "execution_count": 32,
          "data": {
            "text/plain": [
              "<matplotlib.axes._subplots.AxesSubplot at 0x16fb8a0a898>"
            ]
          },
          "metadata": {}
        },
        {
          "output_type": "display_data",
          "data": {
            "text/plain": [
              "<Figure size 504x504 with 2 Axes>"
            ],
            "image/png": "[encoded data removed]"
          },
          "metadata": {
            "needs_background": "light"
          }
        }
      ],
      "execution_count": 32,
      "metadata": {
        "collapsed": false,
        "outputHidden": false,
        "inputHidden": false,
        "execution": {
          "iopub.status.busy": "2020-06-26T00:32:34.832Z",
          "iopub.execute_input": "2020-06-26T00:32:34.843Z",
          "iopub.status.idle": "2020-06-26T00:32:34.869Z",
          "shell.execute_reply": "2020-06-26T00:32:35.848Z"
        }
      }
    },
    {
      "cell_type": "code",
      "source": [
        "# Box plot\n",
        "returns.plot(kind='box')"
      ],
      "outputs": [
        {
          "output_type": "execute_result",
          "execution_count": 33,
          "data": {
            "text/plain": [
              "<matplotlib.axes._subplots.AxesSubplot at 0x16fb8a6bd68>"
            ]
          },
          "metadata": {}
        },
        {
          "output_type": "display_data",
          "data": {
            "text/plain": [
              "<Figure size 432x288 with 1 Axes>"
            ],
            "image/png": "[encoded data removed]"
          },
          "metadata": {
            "needs_background": "light"
          }
        }
      ],
      "execution_count": 33,
      "metadata": {
        "collapsed": false,
        "outputHidden": false,
        "inputHidden": false,
        "execution": {
          "iopub.status.busy": "2020-06-26T00:32:34.883Z",
          "iopub.execute_input": "2020-06-26T00:32:34.892Z",
          "iopub.status.idle": "2020-06-26T00:32:34.917Z",
          "shell.execute_reply": "2020-06-26T00:32:35.853Z"
        }
      }
    },
    {
      "cell_type": "code",
      "source": [
        "rets = returns.dropna()\n",
        "\n",
        "plt.scatter(rets.mean(), rets.std(),alpha = 0.5)\n",
        "\n",
        "plt.title('Stocks Risk & Returns')\n",
        "plt.xlabel('Expected returns')\n",
        "plt.ylabel('Risk')\n",
        "plt.grid(which='major')\n",
        "\n",
        "for label, x, y in zip(rets.columns, rets.mean(), rets.std()):\n",
        "    plt.annotate(\n",
        "        label, \n",
        "        xy = (x, y), xytext = (50, 50),\n",
        "        textcoords = 'offset points', ha = 'right', va = 'bottom',\n",
        "        arrowprops = dict(arrowstyle = '-', connectionstyle = 'arc3,rad=-0.3'))"
      ],
      "outputs": [
        {
          "output_type": "display_data",
          "data": {
            "text/plain": [
              "<Figure size 432x288 with 1 Axes>"
            ],
            "image/png": "[encoded data removed]"
          },
          "metadata": {
            "needs_background": "light"
          }
        }
      ],
      "execution_count": 34,
      "metadata": {
        "collapsed": false,
        "outputHidden": false,
        "inputHidden": false,
        "execution": {
          "iopub.status.busy": "2020-06-26T00:32:34.932Z",
          "iopub.execute_input": "2020-06-26T00:32:34.941Z",
          "iopub.status.idle": "2020-06-26T00:32:35.173Z",
          "shell.execute_reply": "2020-06-26T00:32:35.859Z"
        }
      }
    },
    {
      "cell_type": "code",
      "source": [
        "area = np.pi*20.0\n",
        "\n",
        "sns.set(style='darkgrid')\n",
        "plt.figure(figsize=(12,8))\n",
        "plt.scatter(rets.mean(), rets.std(), s=area)\n",
        "plt.xlabel(\"Expected Return\", fontsize=15)\n",
        "plt.ylabel(\"Risk\", fontsize=15)\n",
        "plt.title(\"Return vs. Risk for \" + title, fontsize=20)\n",
        "\n",
        "for label, x, y in zip(rets.columns, rets.mean(), rets.std()) : \n",
        "    plt.annotate(label, xy=(x,y), xytext=(50, 0), textcoords='offset points',\n",
        "                arrowprops=dict(arrowstyle='-', connectionstyle='bar,angle=180,fraction=-0.2'),\n",
        "                bbox=dict(boxstyle=\"round\", fc=\"w\"))"
      ],
      "outputs": [
        {
          "output_type": "display_data",
          "data": {
            "text/plain": [
              "<Figure size 864x576 with 1 Axes>"
            ],
            "image/png": "[encoded data removed]"
          },
          "metadata": {}
        }
      ],
      "execution_count": 35,
      "metadata": {
        "collapsed": false,
        "outputHidden": false,
        "inputHidden": false,
        "execution": {
          "iopub.status.busy": "2020-06-26T00:32:35.191Z",
          "iopub.execute_input": "2020-06-26T00:32:35.205Z",
          "iopub.status.idle": "2020-06-26T00:32:35.553Z",
          "shell.execute_reply": "2020-06-26T00:32:35.865Z"
        }
      }
    },
    {
      "cell_type": "code",
      "source": [
        "print(\"Stock returns: \")\n",
        "print(rets.mean())\n",
        "print('-' * 50)\n",
        "print(\"Stock risk:\")\n",
        "print(rets.std())"
      ],
      "outputs": [
        {
          "output_type": "stream",
          "name": "stdout",
          "text": [
            "Stock returns: \n",
            "GOOGL        0.000729\n",
            "MSFT         0.000849\n",
            "NVDA         0.001416\n",
            "TSLA         0.001749\n",
            "Portfolio    0.001083\n",
            "dtype: float64\n",
            "--------------------------------------------------\n",
            "Stock risk:\n",
            "GOOGL        0.015087\n",
            "MSFT         0.014583\n",
            "NVDA         0.025336\n",
            "TSLA         0.031572\n",
            "Portfolio    0.014933\n",
            "dtype: float64\n"
          ]
        }
      ],
      "execution_count": 36,
      "metadata": {
        "collapsed": false,
        "outputHidden": false,
        "inputHidden": false,
        "execution": {
          "iopub.status.busy": "2020-06-26T00:32:35.571Z",
          "iopub.execute_input": "2020-06-26T00:32:35.586Z",
          "iopub.status.idle": "2020-06-26T00:32:35.617Z",
          "shell.execute_reply": "2020-06-26T00:32:35.871Z"
        }
      }
    },
    {
      "cell_type": "code",
      "source": [
        "table = pd.DataFrame()\n",
        "table['Returns'] = rets.mean()\n",
        "table['Risk'] = rets.std()\n",
        "table.sort_values(by='Returns')"
      ],
      "outputs": [
        {
          "output_type": "execute_result",
          "execution_count": 37,
          "data": {
            "text/html": [
              "<div>\n",
              "<style scoped>\n",
              "    .dataframe tbody tr th:only-of-type {\n",
              "        vertical-align: middle;\n",
              "    }\n",
              "\n",
              "    .dataframe tbody tr th {\n",
              "        vertical-align: top;\n",
              "    }\n",
              "\n",
              "    .dataframe thead th {\n",
              "        text-align: right;\n",
              "    }\n",
              "</style>\n",
              "<table border=\"1\" class=\"dataframe\">\n",
              "  <thead>\n",
              "    <tr style=\"text-align: right;\">\n",
              "      <th></th>\n",
              "      <th>Returns</th>\n",
              "      <th>Risk</th>\n",
              "    </tr>\n",
              "  </thead>\n",
              "  <tbody>\n",
              "    <tr>\n",
              "      <th>GOOGL</th>\n",
              "      <td>0.000729</td>\n",
              "      <td>0.015087</td>\n",
              "    </tr>\n",
              "    <tr>\n",
              "      <th>MSFT</th>\n",
              "      <td>0.000849</td>\n",
              "      <td>0.014583</td>\n",
              "    </tr>\n",
              "    <tr>\n",
              "      <th>Portfolio</th>\n",
              "      <td>0.001083</td>\n",
              "      <td>0.014933</td>\n",
              "    </tr>\n",
              "    <tr>\n",
              "      <th>NVDA</th>\n",
              "      <td>0.001416</td>\n",
              "      <td>0.025336</td>\n",
              "    </tr>\n",
              "    <tr>\n",
              "      <th>TSLA</th>\n",
              "      <td>0.001749</td>\n",
              "      <td>0.031572</td>\n",
              "    </tr>\n",
              "  </tbody>\n",
              "</table>\n",
              "</div>"
            ],
            "text/plain": [
              "            Returns      Risk\n",
              "GOOGL      0.000729  0.015087\n",
              "MSFT       0.000849  0.014583\n",
              "Portfolio  0.001083  0.014933\n",
              "NVDA       0.001416  0.025336\n",
              "TSLA       0.001749  0.031572"
            ]
          },
          "metadata": {}
        }
      ],
      "execution_count": 37,
      "metadata": {
        "collapsed": false,
        "outputHidden": false,
        "inputHidden": false,
        "execution": {
          "iopub.status.busy": "2020-06-26T00:32:35.639Z",
          "iopub.execute_input": "2020-06-26T00:32:35.653Z",
          "iopub.status.idle": "2020-06-26T00:32:35.681Z",
          "shell.execute_reply": "2020-06-26T00:32:35.877Z"
        }
      }
    },
    {
      "cell_type": "code",
      "source": [
        "table.sort_values(by='Risk')"
      ],
      "outputs": [
        {
          "output_type": "execute_result",
          "execution_count": 38,
          "data": {
            "text/html": [
              "<div>\n",
              "<style scoped>\n",
              "    .dataframe tbody tr th:only-of-type {\n",
              "        vertical-align: middle;\n",
              "    }\n",
              "\n",
              "    .dataframe tbody tr th {\n",
              "        vertical-align: top;\n",
              "    }\n",
              "\n",
              "    .dataframe thead th {\n",
              "        text-align: right;\n",
              "    }\n",
              "</style>\n",
              "<table border=\"1\" class=\"dataframe\">\n",
              "  <thead>\n",
              "    <tr style=\"text-align: right;\">\n",
              "      <th></th>\n",
              "      <th>Returns</th>\n",
              "      <th>Risk</th>\n",
              "    </tr>\n",
              "  </thead>\n",
              "  <tbody>\n",
              "    <tr>\n",
              "      <th>MSFT</th>\n",
              "      <td>0.000849</td>\n",
              "      <td>0.014583</td>\n",
              "    </tr>\n",
              "    <tr>\n",
              "      <th>Portfolio</th>\n",
              "      <td>0.001083</td>\n",
              "      <td>0.014933</td>\n",
              "    </tr>\n",
              "    <tr>\n",
              "      <th>GOOGL</th>\n",
              "      <td>0.000729</td>\n",
              "      <td>0.015087</td>\n",
              "    </tr>\n",
              "    <tr>\n",
              "      <th>NVDA</th>\n",
              "      <td>0.001416</td>\n",
              "      <td>0.025336</td>\n",
              "    </tr>\n",
              "    <tr>\n",
              "      <th>TSLA</th>\n",
              "      <td>0.001749</td>\n",
              "      <td>0.031572</td>\n",
              "    </tr>\n",
              "  </tbody>\n",
              "</table>\n",
              "</div>"
            ],
            "text/plain": [
              "            Returns      Risk\n",
              "MSFT       0.000849  0.014583\n",
              "Portfolio  0.001083  0.014933\n",
              "GOOGL      0.000729  0.015087\n",
              "NVDA       0.001416  0.025336\n",
              "TSLA       0.001749  0.031572"
            ]
          },
          "metadata": {}
        }
      ],
      "execution_count": 38,
      "metadata": {
        "collapsed": false,
        "outputHidden": false,
        "inputHidden": false,
        "execution": {
          "iopub.status.busy": "2020-06-26T00:32:35.703Z",
          "iopub.execute_input": "2020-06-26T00:32:35.715Z",
          "iopub.status.idle": "2020-06-26T00:32:35.741Z",
          "shell.execute_reply": "2020-06-26T00:32:35.882Z"
        }
      }
    },
    {
      "cell_type": "code",
      "source": [
        "table['Sharpe_Ratio'] = (table['Returns'] / table['Risk']) * np.sqrt(252)\n",
        "table"
      ],
      "outputs": [
        {
          "output_type": "execute_result",
          "execution_count": 39,
          "data": {
            "text/html": [
              "<div>\n",
              "<style scoped>\n",
              "    .dataframe tbody tr th:only-of-type {\n",
              "        vertical-align: middle;\n",
              "    }\n",
              "\n",
              "    .dataframe tbody tr th {\n",
              "        vertical-align: top;\n",
              "    }\n",
              "\n",
              "    .dataframe thead th {\n",
              "        text-align: right;\n",
              "    }\n",
              "</style>\n",
              "<table border=\"1\" class=\"dataframe\">\n",
              "  <thead>\n",
              "    <tr style=\"text-align: right;\">\n",
              "      <th></th>\n",
              "      <th>Returns</th>\n",
              "      <th>Risk</th>\n",
              "      <th>Sharpe_Ratio</th>\n",
              "    </tr>\n",
              "  </thead>\n",
              "  <tbody>\n",
              "    <tr>\n",
              "      <th>GOOGL</th>\n",
              "      <td>0.000729</td>\n",
              "      <td>0.015087</td>\n",
              "      <td>0.767509</td>\n",
              "    </tr>\n",
              "    <tr>\n",
              "      <th>MSFT</th>\n",
              "      <td>0.000849</td>\n",
              "      <td>0.014583</td>\n",
              "      <td>0.924273</td>\n",
              "    </tr>\n",
              "    <tr>\n",
              "      <th>NVDA</th>\n",
              "      <td>0.001416</td>\n",
              "      <td>0.025336</td>\n",
              "      <td>0.887340</td>\n",
              "    </tr>\n",
              "    <tr>\n",
              "      <th>TSLA</th>\n",
              "      <td>0.001749</td>\n",
              "      <td>0.031572</td>\n",
              "      <td>0.879580</td>\n",
              "    </tr>\n",
              "    <tr>\n",
              "      <th>Portfolio</th>\n",
              "      <td>0.001083</td>\n",
              "      <td>0.014933</td>\n",
              "      <td>1.150981</td>\n",
              "    </tr>\n",
              "  </tbody>\n",
              "</table>\n",
              "</div>"
            ],
            "text/plain": [
              "            Returns      Risk  Sharpe_Ratio\n",
              "GOOGL      0.000729  0.015087      0.767509\n",
              "MSFT       0.000849  0.014583      0.924273\n",
              "NVDA       0.001416  0.025336      0.887340\n",
              "TSLA       0.001749  0.031572      0.879580\n",
              "Portfolio  0.001083  0.014933      1.150981"
            ]
          },
          "metadata": {}
        }
      ],
      "execution_count": 39,
      "metadata": {
        "collapsed": false,
        "outputHidden": false,
        "inputHidden": false,
        "execution": {
          "iopub.status.busy": "2020-06-26T00:32:35.756Z",
          "iopub.execute_input": "2020-06-26T00:32:35.764Z",
          "iopub.status.idle": "2020-06-26T00:32:35.783Z",
          "shell.execute_reply": "2020-06-26T00:32:35.888Z"
        }
      }
    }
  ],
  "metadata": {
    "kernel_info": {
      "name": "python3"
    },
    "language_info": {
      "pygments_lexer": "ipython3",
      "name": "python",
      "file_extension": ".py",
      "version": "3.5.5",
      "codemirror_mode": {
        "version": 3,
        "name": "ipython"
      },
      "nbconvert_exporter": "python",
      "mimetype": "text/x-python"
    },
    "kernelspec": {
      "name": "python3",
      "language": "python",
      "display_name": "Python 3"
    },
    "nteract": {
      "version": "0.23.3"
    }
  },
  "nbformat": 4,
  "nbformat_minor": 0
}