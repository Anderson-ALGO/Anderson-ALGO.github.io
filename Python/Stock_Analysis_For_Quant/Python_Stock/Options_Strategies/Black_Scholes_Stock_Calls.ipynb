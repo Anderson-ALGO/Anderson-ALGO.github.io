{
  "cells": [
    {
      "cell_type": "markdown",
      "source": [
        "# Black Scholes Stock Calls Inputs"
      ],
      "metadata": {
        "nteract": {
          "transient": {
            "deleting": false
          }
        }
      }
    },
    {
      "cell_type": "code",
      "source": [
        "import numpy as np\n",
        "import scipy.stats as ss\n",
        "import matplotlib.pyplot as plt\n",
        "import yfinance as yf"
      ],
      "outputs": [],
      "execution_count": 1,
      "metadata": {
        "collapsed": true,
        "outputExpanded": false,
        "jupyter": {
          "source_hidden": false,
          "outputs_hidden": false
        },
        "nteract": {
          "transient": {
            "deleting": false
          }
        },
        "execution": {
          "iopub.status.busy": "2020-04-12T19:59:13.931Z",
          "iopub.execute_input": "2020-04-12T19:59:13.938Z",
          "iopub.status.idle": "2020-04-12T19:59:15.466Z",
          "shell.execute_reply": "2020-04-12T19:59:15.523Z"
        }
      }
    },
    {
      "cell_type": "code",
      "source": [
        "dfo = yf.Ticker(\"AAPL\")"
      ],
      "outputs": [],
      "execution_count": 2,
      "metadata": {
        "collapsed": true,
        "outputExpanded": false,
        "jupyter": {
          "source_hidden": false,
          "outputs_hidden": false
        },
        "nteract": {
          "transient": {
            "deleting": false
          }
        },
        "execution": {
          "iopub.status.busy": "2020-04-12T19:59:15.473Z",
          "iopub.execute_input": "2020-04-12T19:59:15.479Z",
          "iopub.status.idle": "2020-04-12T19:59:15.490Z",
          "shell.execute_reply": "2020-04-12T19:59:15.526Z"
        }
      }
    },
    {
      "cell_type": "code",
      "source": [
        "dfo.options"
      ],
      "outputs": [
        {
          "output_type": "execute_result",
          "execution_count": 3,
          "data": {
            "text/plain": [
              "('2020-10-15',\n",
              " '2020-04-23',\n",
              " '2021-09-16',\n",
              " '2020-06-18',\n",
              " '2020-07-16',\n",
              " '2021-06-17',\n",
              " '2020-04-30',\n",
              " '2020-05-07',\n",
              " '2022-06-16',\n",
              " '2020-05-14',\n",
              " '2020-04-16',\n",
              " '2020-09-17',\n",
              " '2020-05-28',\n",
              " '2021-01-14',\n",
              " '2020-05-21',\n",
              " '2022-01-20',\n",
              " '2020-12-17')"
            ]
          },
          "metadata": {}
        }
      ],
      "execution_count": 3,
      "metadata": {
        "collapsed": true,
        "outputExpanded": false,
        "jupyter": {
          "source_hidden": false,
          "outputs_hidden": false
        },
        "nteract": {
          "transient": {
            "deleting": false
          }
        },
        "execution": {
          "iopub.status.busy": "2020-04-12T19:59:15.499Z",
          "iopub.execute_input": "2020-04-12T19:59:15.504Z",
          "iopub.status.idle": "2020-04-12T19:59:16.966Z",
          "shell.execute_reply": "2020-04-12T19:59:17.028Z"
        }
      }
    },
    {
      "cell_type": "code",
      "source": [
        "dfo_exp = dfo.option_chain('2020-05-28')"
      ],
      "outputs": [],
      "execution_count": 4,
      "metadata": {
        "collapsed": true,
        "outputExpanded": false,
        "jupyter": {
          "source_hidden": false,
          "outputs_hidden": false
        },
        "nteract": {
          "transient": {
            "deleting": false
          }
        },
        "execution": {
          "iopub.status.busy": "2020-04-12T19:59:16.981Z",
          "iopub.execute_input": "2020-04-12T19:59:16.994Z",
          "iopub.status.idle": "2020-04-12T19:59:17.130Z",
          "shell.execute_reply": "2020-04-12T19:59:17.714Z"
        }
      }
    },
    {
      "cell_type": "code",
      "source": [
        "dfo_exp.calls"
      ],
      "outputs": [
        {
          "output_type": "execute_result",
          "execution_count": 5,
          "data": {
            "text/plain": [
              "         contractSymbol       lastTradeDate  strike  lastPrice    bid    ask  \\\n",
              "0   AAPL200529C00230000 2020-04-09 19:39:18   230.0      43.00  41.00  44.80   \n",
              "1   AAPL200529C00242500 2020-04-09 14:05:04   242.5      33.28  30.60  34.80   \n",
              "2   AAPL200529C00252500 2020-04-09 19:45:27   252.5      25.49  23.50  27.20   \n",
              "3   AAPL200529C00255000 2020-04-09 15:46:43   255.0      23.62  21.80  24.75   \n",
              "4   AAPL200529C00257500 2020-04-09 15:47:48   257.5      21.80  20.30  22.95   \n",
              "5   AAPL200529C00265000 2020-04-09 18:22:32   265.0      16.62  16.45  17.65   \n",
              "6   AAPL200529C00267500 2020-04-09 19:06:43   267.5      15.24  14.95  16.20   \n",
              "7   AAPL200529C00270000 2020-04-09 19:04:16   270.0      13.80  13.55  14.75   \n",
              "8   AAPL200529C00272500 2020-04-09 19:41:31   272.5      13.10  12.30  13.40   \n",
              "9   AAPL200529C00275000 2020-04-09 19:51:26   275.0      11.45  10.95  12.10   \n",
              "10  AAPL200529C00277500 2020-04-09 18:40:19   277.5      10.50   9.80  10.95   \n",
              "11  AAPL200529C00280000 2020-04-09 19:59:54   280.0       9.05   8.65   9.40   \n",
              "12  AAPL200529C00282500 2020-04-09 15:05:57   282.5       7.75   7.70   8.75   \n",
              "13  AAPL200529C00287500 2020-04-09 18:48:52   287.5       6.03   5.75   6.85   \n",
              "14  AAPL200529C00290000 2020-04-09 19:59:54   290.0       5.37   4.95   5.90   \n",
              "15  AAPL200529C00295000 2020-04-09 19:49:46   295.0       3.90   3.55   4.50   \n",
              "16  AAPL200529C00300000 2020-04-09 17:54:32   300.0       2.72   2.47   3.35   \n",
              "17  AAPL200529C00305000 2020-04-09 19:42:12   305.0       2.03   1.64   2.39   \n",
              "18  AAPL200529C00310000 2020-04-09 18:42:02   310.0       1.28   1.05   1.64   \n",
              "19  AAPL200529C00315000 2020-04-09 16:19:40   315.0       0.95   0.74   0.99   \n",
              "20  AAPL200529C00320000 2020-04-09 16:25:36   320.0       0.68   0.45   0.67   \n",
              "21  AAPL200529C00325000 2020-04-09 19:44:51   325.0       0.42   0.29   0.48   \n",
              "22  AAPL200529C00330000 2020-04-09 19:42:12   330.0       0.30   0.20   0.36   \n",
              "23  AAPL200529C00335000 2020-04-09 16:31:55   335.0       0.21   0.21   0.30   \n",
              "\n",
              "    change percentChange  volume  openInterest  impliedVolatility  inTheMoney  \\\n",
              "0    43.00      Infinity      25           NaN           0.569096        True   \n",
              "1    33.28      Infinity       4           NaN           0.528081        True   \n",
              "2    25.49      Infinity       3           NaN           0.490178        True   \n",
              "3    23.62      Infinity       5           NaN           0.462957        True   \n",
              "4    21.80      Infinity      10           NaN           0.452947        True   \n",
              "5    16.62      Infinity       2           NaN           0.418219        True   \n",
              "6    15.24      Infinity      63           NaN           0.412207        True   \n",
              "7    13.80      Infinity       9           NaN           0.404669       False   \n",
              "8    13.10      Infinity      56           NaN           0.398077       False   \n",
              "9    11.45      Infinity      28           NaN           0.391119       False   \n",
              "10   10.50      Infinity       5           NaN           0.386420       False   \n",
              "11    9.05      Infinity      14           NaN           0.369330       False   \n",
              "12    7.75      Infinity       2           NaN           0.374396       False   \n",
              "13    6.03      Infinity       1           NaN           0.363105       False   \n",
              "14    5.37      Infinity       2           NaN           0.354438       False   \n",
              "15    3.90      Infinity       4           NaN           0.345954       False   \n",
              "16    2.72      Infinity      31           NaN           0.337714       False   \n",
              "17    2.03      Infinity       7           NaN           0.328010       False   \n",
              "18    1.28      Infinity       6           NaN           0.318244       False   \n",
              "19    0.95      Infinity      16           NaN           0.302375       False   \n",
              "20    0.68      Infinity       1           NaN           0.298347       False   \n",
              "21    0.42      Infinity      10           NaN           0.298835       False   \n",
              "22    0.30      Infinity       1           NaN           0.302253       False   \n",
              "23    0.21      Infinity       1           NaN           0.310554       False   \n",
              "\n",
              "   contractSize currency  \n",
              "0       REGULAR      USD  \n",
              "1       REGULAR      USD  \n",
              "2       REGULAR      USD  \n",
              "3       REGULAR      USD  \n",
              "4       REGULAR      USD  \n",
              "5       REGULAR      USD  \n",
              "6       REGULAR      USD  \n",
              "7       REGULAR      USD  \n",
              "8       REGULAR      USD  \n",
              "9       REGULAR      USD  \n",
              "10      REGULAR      USD  \n",
              "11      REGULAR      USD  \n",
              "12      REGULAR      USD  \n",
              "13      REGULAR      USD  \n",
              "14      REGULAR      USD  \n",
              "15      REGULAR      USD  \n",
              "16      REGULAR      USD  \n",
              "17      REGULAR      USD  \n",
              "18      REGULAR      USD  \n",
              "19      REGULAR      USD  \n",
              "20      REGULAR      USD  \n",
              "21      REGULAR      USD  \n",
              "22      REGULAR      USD  \n",
              "23      REGULAR      USD  "
            ],
            "text/html": [
              "<div>\n",
              "<style scoped>\n",
              "    .dataframe tbody tr th:only-of-type {\n",
              "        vertical-align: middle;\n",
              "    }\n",
              "\n",
              "    .dataframe tbody tr th {\n",
              "        vertical-align: top;\n",
              "    }\n",
              "\n",
              "    .dataframe thead th {\n",
              "        text-align: right;\n",
              "    }\n",
              "</style>\n",
              "<table border=\"1\" class=\"dataframe\">\n",
              "  <thead>\n",
              "    <tr style=\"text-align: right;\">\n",
              "      <th></th>\n",
              "      <th>contractSymbol</th>\n",
              "      <th>lastTradeDate</th>\n",
              "      <th>strike</th>\n",
              "      <th>lastPrice</th>\n",
              "      <th>bid</th>\n",
              "      <th>ask</th>\n",
              "      <th>change</th>\n",
              "      <th>percentChange</th>\n",
              "      <th>volume</th>\n",
              "      <th>openInterest</th>\n",
              "      <th>impliedVolatility</th>\n",
              "      <th>inTheMoney</th>\n",
              "      <th>contractSize</th>\n",
              "      <th>currency</th>\n",
              "    </tr>\n",
              "  </thead>\n",
              "  <tbody>\n",
              "    <tr>\n",
              "      <th>0</th>\n",
              "      <td>AAPL200529C00230000</td>\n",
              "      <td>2020-04-09 19:39:18</td>\n",
              "      <td>230.0</td>\n",
              "      <td>43.00</td>\n",
              "      <td>41.00</td>\n",
              "      <td>44.80</td>\n",
              "      <td>43.00</td>\n",
              "      <td>Infinity</td>\n",
              "      <td>25</td>\n",
              "      <td>NaN</td>\n",
              "      <td>0.569096</td>\n",
              "      <td>True</td>\n",
              "      <td>REGULAR</td>\n",
              "      <td>USD</td>\n",
              "    </tr>\n",
              "    <tr>\n",
              "      <th>1</th>\n",
              "      <td>AAPL200529C00242500</td>\n",
              "      <td>2020-04-09 14:05:04</td>\n",
              "      <td>242.5</td>\n",
              "      <td>33.28</td>\n",
              "      <td>30.60</td>\n",
              "      <td>34.80</td>\n",
              "      <td>33.28</td>\n",
              "      <td>Infinity</td>\n",
              "      <td>4</td>\n",
              "      <td>NaN</td>\n",
              "      <td>0.528081</td>\n",
              "      <td>True</td>\n",
              "      <td>REGULAR</td>\n",
              "      <td>USD</td>\n",
              "    </tr>\n",
              "    <tr>\n",
              "      <th>2</th>\n",
              "      <td>AAPL200529C00252500</td>\n",
              "      <td>2020-04-09 19:45:27</td>\n",
              "      <td>252.5</td>\n",
              "      <td>25.49</td>\n",
              "      <td>23.50</td>\n",
              "      <td>27.20</td>\n",
              "      <td>25.49</td>\n",
              "      <td>Infinity</td>\n",
              "      <td>3</td>\n",
              "      <td>NaN</td>\n",
              "      <td>0.490178</td>\n",
              "      <td>True</td>\n",
              "      <td>REGULAR</td>\n",
              "      <td>USD</td>\n",
              "    </tr>\n",
              "    <tr>\n",
              "      <th>3</th>\n",
              "      <td>AAPL200529C00255000</td>\n",
              "      <td>2020-04-09 15:46:43</td>\n",
              "      <td>255.0</td>\n",
              "      <td>23.62</td>\n",
              "      <td>21.80</td>\n",
              "      <td>24.75</td>\n",
              "      <td>23.62</td>\n",
              "      <td>Infinity</td>\n",
              "      <td>5</td>\n",
              "      <td>NaN</td>\n",
              "      <td>0.462957</td>\n",
              "      <td>True</td>\n",
              "      <td>REGULAR</td>\n",
              "      <td>USD</td>\n",
              "    </tr>\n",
              "    <tr>\n",
              "      <th>4</th>\n",
              "      <td>AAPL200529C00257500</td>\n",
              "      <td>2020-04-09 15:47:48</td>\n",
              "      <td>257.5</td>\n",
              "      <td>21.80</td>\n",
              "      <td>20.30</td>\n",
              "      <td>22.95</td>\n",
              "      <td>21.80</td>\n",
              "      <td>Infinity</td>\n",
              "      <td>10</td>\n",
              "      <td>NaN</td>\n",
              "      <td>0.452947</td>\n",
              "      <td>True</td>\n",
              "      <td>REGULAR</td>\n",
              "      <td>USD</td>\n",
              "    </tr>\n",
              "    <tr>\n",
              "      <th>5</th>\n",
              "      <td>AAPL200529C00265000</td>\n",
              "      <td>2020-04-09 18:22:32</td>\n",
              "      <td>265.0</td>\n",
              "      <td>16.62</td>\n",
              "      <td>16.45</td>\n",
              "      <td>17.65</td>\n",
              "      <td>16.62</td>\n",
              "      <td>Infinity</td>\n",
              "      <td>2</td>\n",
              "      <td>NaN</td>\n",
              "      <td>0.418219</td>\n",
              "      <td>True</td>\n",
              "      <td>REGULAR</td>\n",
              "      <td>USD</td>\n",
              "    </tr>\n",
              "    <tr>\n",
              "      <th>6</th>\n",
              "      <td>AAPL200529C00267500</td>\n",
              "      <td>2020-04-09 19:06:43</td>\n",
              "      <td>267.5</td>\n",
              "      <td>15.24</td>\n",
              "      <td>14.95</td>\n",
              "      <td>16.20</td>\n",
              "      <td>15.24</td>\n",
              "      <td>Infinity</td>\n",
              "      <td>63</td>\n",
              "      <td>NaN</td>\n",
              "      <td>0.412207</td>\n",
              "      <td>True</td>\n",
              "      <td>REGULAR</td>\n",
              "      <td>USD</td>\n",
              "    </tr>\n",
              "    <tr>\n",
              "      <th>7</th>\n",
              "      <td>AAPL200529C00270000</td>\n",
              "      <td>2020-04-09 19:04:16</td>\n",
              "      <td>270.0</td>\n",
              "      <td>13.80</td>\n",
              "      <td>13.55</td>\n",
              "      <td>14.75</td>\n",
              "      <td>13.80</td>\n",
              "      <td>Infinity</td>\n",
              "      <td>9</td>\n",
              "      <td>NaN</td>\n",
              "      <td>0.404669</td>\n",
              "      <td>False</td>\n",
              "      <td>REGULAR</td>\n",
              "      <td>USD</td>\n",
              "    </tr>\n",
              "    <tr>\n",
              "      <th>8</th>\n",
              "      <td>AAPL200529C00272500</td>\n",
              "      <td>2020-04-09 19:41:31</td>\n",
              "      <td>272.5</td>\n",
              "      <td>13.10</td>\n",
              "      <td>12.30</td>\n",
              "      <td>13.40</td>\n",
              "      <td>13.10</td>\n",
              "      <td>Infinity</td>\n",
              "      <td>56</td>\n",
              "      <td>NaN</td>\n",
              "      <td>0.398077</td>\n",
              "      <td>False</td>\n",
              "      <td>REGULAR</td>\n",
              "      <td>USD</td>\n",
              "    </tr>\n",
              "    <tr>\n",
              "      <th>9</th>\n",
              "      <td>AAPL200529C00275000</td>\n",
              "      <td>2020-04-09 19:51:26</td>\n",
              "      <td>275.0</td>\n",
              "      <td>11.45</td>\n",
              "      <td>10.95</td>\n",
              "      <td>12.10</td>\n",
              "      <td>11.45</td>\n",
              "      <td>Infinity</td>\n",
              "      <td>28</td>\n",
              "      <td>NaN</td>\n",
              "      <td>0.391119</td>\n",
              "      <td>False</td>\n",
              "      <td>REGULAR</td>\n",
              "      <td>USD</td>\n",
              "    </tr>\n",
              "    <tr>\n",
              "      <th>10</th>\n",
              "      <td>AAPL200529C00277500</td>\n",
              "      <td>2020-04-09 18:40:19</td>\n",
              "      <td>277.5</td>\n",
              "      <td>10.50</td>\n",
              "      <td>9.80</td>\n",
              "      <td>10.95</td>\n",
              "      <td>10.50</td>\n",
              "      <td>Infinity</td>\n",
              "      <td>5</td>\n",
              "      <td>NaN</td>\n",
              "      <td>0.386420</td>\n",
              "      <td>False</td>\n",
              "      <td>REGULAR</td>\n",
              "      <td>USD</td>\n",
              "    </tr>\n",
              "    <tr>\n",
              "      <th>11</th>\n",
              "      <td>AAPL200529C00280000</td>\n",
              "      <td>2020-04-09 19:59:54</td>\n",
              "      <td>280.0</td>\n",
              "      <td>9.05</td>\n",
              "      <td>8.65</td>\n",
              "      <td>9.40</td>\n",
              "      <td>9.05</td>\n",
              "      <td>Infinity</td>\n",
              "      <td>14</td>\n",
              "      <td>NaN</td>\n",
              "      <td>0.369330</td>\n",
              "      <td>False</td>\n",
              "      <td>REGULAR</td>\n",
              "      <td>USD</td>\n",
              "    </tr>\n",
              "    <tr>\n",
              "      <th>12</th>\n",
              "      <td>AAPL200529C00282500</td>\n",
              "      <td>2020-04-09 15:05:57</td>\n",
              "      <td>282.5</td>\n",
              "      <td>7.75</td>\n",
              "      <td>7.70</td>\n",
              "      <td>8.75</td>\n",
              "      <td>7.75</td>\n",
              "      <td>Infinity</td>\n",
              "      <td>2</td>\n",
              "      <td>NaN</td>\n",
              "      <td>0.374396</td>\n",
              "      <td>False</td>\n",
              "      <td>REGULAR</td>\n",
              "      <td>USD</td>\n",
              "    </tr>\n",
              "    <tr>\n",
              "      <th>13</th>\n",
              "      <td>AAPL200529C00287500</td>\n",
              "      <td>2020-04-09 18:48:52</td>\n",
              "      <td>287.5</td>\n",
              "      <td>6.03</td>\n",
              "      <td>5.75</td>\n",
              "      <td>6.85</td>\n",
              "      <td>6.03</td>\n",
              "      <td>Infinity</td>\n",
              "      <td>1</td>\n",
              "      <td>NaN</td>\n",
              "      <td>0.363105</td>\n",
              "      <td>False</td>\n",
              "      <td>REGULAR</td>\n",
              "      <td>USD</td>\n",
              "    </tr>\n",
              "    <tr>\n",
              "      <th>14</th>\n",
              "      <td>AAPL200529C00290000</td>\n",
              "      <td>2020-04-09 19:59:54</td>\n",
              "      <td>290.0</td>\n",
              "      <td>5.37</td>\n",
              "      <td>4.95</td>\n",
              "      <td>5.90</td>\n",
              "      <td>5.37</td>\n",
              "      <td>Infinity</td>\n",
              "      <td>2</td>\n",
              "      <td>NaN</td>\n",
              "      <td>0.354438</td>\n",
              "      <td>False</td>\n",
              "      <td>REGULAR</td>\n",
              "      <td>USD</td>\n",
              "    </tr>\n",
              "    <tr>\n",
              "      <th>15</th>\n",
              "      <td>AAPL200529C00295000</td>\n",
              "      <td>2020-04-09 19:49:46</td>\n",
              "      <td>295.0</td>\n",
              "      <td>3.90</td>\n",
              "      <td>3.55</td>\n",
              "      <td>4.50</td>\n",
              "      <td>3.90</td>\n",
              "      <td>Infinity</td>\n",
              "      <td>4</td>\n",
              "      <td>NaN</td>\n",
              "      <td>0.345954</td>\n",
              "      <td>False</td>\n",
              "      <td>REGULAR</td>\n",
              "      <td>USD</td>\n",
              "    </tr>\n",
              "    <tr>\n",
              "      <th>16</th>\n",
              "      <td>AAPL200529C00300000</td>\n",
              "      <td>2020-04-09 17:54:32</td>\n",
              "      <td>300.0</td>\n",
              "      <td>2.72</td>\n",
              "      <td>2.47</td>\n",
              "      <td>3.35</td>\n",
              "      <td>2.72</td>\n",
              "      <td>Infinity</td>\n",
              "      <td>31</td>\n",
              "      <td>NaN</td>\n",
              "      <td>0.337714</td>\n",
              "      <td>False</td>\n",
              "      <td>REGULAR</td>\n",
              "      <td>USD</td>\n",
              "    </tr>\n",
              "    <tr>\n",
              "      <th>17</th>\n",
              "      <td>AAPL200529C00305000</td>\n",
              "      <td>2020-04-09 19:42:12</td>\n",
              "      <td>305.0</td>\n",
              "      <td>2.03</td>\n",
              "      <td>1.64</td>\n",
              "      <td>2.39</td>\n",
              "      <td>2.03</td>\n",
              "      <td>Infinity</td>\n",
              "      <td>7</td>\n",
              "      <td>NaN</td>\n",
              "      <td>0.328010</td>\n",
              "      <td>False</td>\n",
              "      <td>REGULAR</td>\n",
              "      <td>USD</td>\n",
              "    </tr>\n",
              "    <tr>\n",
              "      <th>18</th>\n",
              "      <td>AAPL200529C00310000</td>\n",
              "      <td>2020-04-09 18:42:02</td>\n",
              "      <td>310.0</td>\n",
              "      <td>1.28</td>\n",
              "      <td>1.05</td>\n",
              "      <td>1.64</td>\n",
              "      <td>1.28</td>\n",
              "      <td>Infinity</td>\n",
              "      <td>6</td>\n",
              "      <td>NaN</td>\n",
              "      <td>0.318244</td>\n",
              "      <td>False</td>\n",
              "      <td>REGULAR</td>\n",
              "      <td>USD</td>\n",
              "    </tr>\n",
              "    <tr>\n",
              "      <th>19</th>\n",
              "      <td>AAPL200529C00315000</td>\n",
              "      <td>2020-04-09 16:19:40</td>\n",
              "      <td>315.0</td>\n",
              "      <td>0.95</td>\n",
              "      <td>0.74</td>\n",
              "      <td>0.99</td>\n",
              "      <td>0.95</td>\n",
              "      <td>Infinity</td>\n",
              "      <td>16</td>\n",
              "      <td>NaN</td>\n",
              "      <td>0.302375</td>\n",
              "      <td>False</td>\n",
              "      <td>REGULAR</td>\n",
              "      <td>USD</td>\n",
              "    </tr>\n",
              "    <tr>\n",
              "      <th>20</th>\n",
              "      <td>AAPL200529C00320000</td>\n",
              "      <td>2020-04-09 16:25:36</td>\n",
              "      <td>320.0</td>\n",
              "      <td>0.68</td>\n",
              "      <td>0.45</td>\n",
              "      <td>0.67</td>\n",
              "      <td>0.68</td>\n",
              "      <td>Infinity</td>\n",
              "      <td>1</td>\n",
              "      <td>NaN</td>\n",
              "      <td>0.298347</td>\n",
              "      <td>False</td>\n",
              "      <td>REGULAR</td>\n",
              "      <td>USD</td>\n",
              "    </tr>\n",
              "    <tr>\n",
              "      <th>21</th>\n",
              "      <td>AAPL200529C00325000</td>\n",
              "      <td>2020-04-09 19:44:51</td>\n",
              "      <td>325.0</td>\n",
              "      <td>0.42</td>\n",
              "      <td>0.29</td>\n",
              "      <td>0.48</td>\n",
              "      <td>0.42</td>\n",
              "      <td>Infinity</td>\n",
              "      <td>10</td>\n",
              "      <td>NaN</td>\n",
              "      <td>0.298835</td>\n",
              "      <td>False</td>\n",
              "      <td>REGULAR</td>\n",
              "      <td>USD</td>\n",
              "    </tr>\n",
              "    <tr>\n",
              "      <th>22</th>\n",
              "      <td>AAPL200529C00330000</td>\n",
              "      <td>2020-04-09 19:42:12</td>\n",
              "      <td>330.0</td>\n",
              "      <td>0.30</td>\n",
              "      <td>0.20</td>\n",
              "      <td>0.36</td>\n",
              "      <td>0.30</td>\n",
              "      <td>Infinity</td>\n",
              "      <td>1</td>\n",
              "      <td>NaN</td>\n",
              "      <td>0.302253</td>\n",
              "      <td>False</td>\n",
              "      <td>REGULAR</td>\n",
              "      <td>USD</td>\n",
              "    </tr>\n",
              "    <tr>\n",
              "      <th>23</th>\n",
              "      <td>AAPL200529C00335000</td>\n",
              "      <td>2020-04-09 16:31:55</td>\n",
              "      <td>335.0</td>\n",
              "      <td>0.21</td>\n",
              "      <td>0.21</td>\n",
              "      <td>0.30</td>\n",
              "      <td>0.21</td>\n",
              "      <td>Infinity</td>\n",
              "      <td>1</td>\n",
              "      <td>NaN</td>\n",
              "      <td>0.310554</td>\n",
              "      <td>False</td>\n",
              "      <td>REGULAR</td>\n",
              "      <td>USD</td>\n",
              "    </tr>\n",
              "  </tbody>\n",
              "</table>\n",
              "</div>"
            ]
          },
          "metadata": {}
        }
      ],
      "execution_count": 5,
      "metadata": {
        "collapsed": true,
        "outputExpanded": false,
        "jupyter": {
          "source_hidden": false,
          "outputs_hidden": false
        },
        "nteract": {
          "transient": {
            "deleting": false
          }
        },
        "execution": {
          "iopub.status.busy": "2020-04-12T19:59:17.139Z",
          "iopub.execute_input": "2020-04-12T19:59:17.144Z",
          "iopub.status.idle": "2020-04-12T19:59:17.185Z",
          "shell.execute_reply": "2020-04-12T19:59:17.717Z"
        }
      }
    },
    {
      "cell_type": "code",
      "source": [
        "symbol = 'AAPL'\n",
        "start = '2019-12-01'\n",
        "end = '2020-04-02'"
      ],
      "outputs": [],
      "execution_count": 6,
      "metadata": {
        "collapsed": true,
        "outputExpanded": false,
        "jupyter": {
          "source_hidden": false,
          "outputs_hidden": false
        },
        "nteract": {
          "transient": {
            "deleting": false
          }
        },
        "execution": {
          "iopub.status.busy": "2020-04-12T19:59:17.194Z",
          "iopub.execute_input": "2020-04-12T19:59:17.202Z",
          "iopub.status.idle": "2020-04-12T19:59:17.209Z",
          "shell.execute_reply": "2020-04-12T19:59:17.720Z"
        }
      }
    },
    {
      "cell_type": "code",
      "source": [
        "df = yf.download(symbol,start,end)"
      ],
      "outputs": [
        {
          "output_type": "stream",
          "name": "stdout",
          "text": [
            "[*********************100%***********************]  1 of 1 completed\n"
          ]
        }
      ],
      "execution_count": 7,
      "metadata": {
        "collapsed": true,
        "outputExpanded": false,
        "jupyter": {
          "source_hidden": false,
          "outputs_hidden": false
        },
        "nteract": {
          "transient": {
            "deleting": false
          }
        },
        "execution": {
          "iopub.status.busy": "2020-04-12T19:59:17.217Z",
          "iopub.execute_input": "2020-04-12T19:59:17.222Z",
          "iopub.status.idle": "2020-04-12T19:59:17.411Z",
          "shell.execute_reply": "2020-04-12T19:59:17.722Z"
        }
      }
    },
    {
      "cell_type": "code",
      "source": [
        "df.head()"
      ],
      "outputs": [
        {
          "output_type": "execute_result",
          "execution_count": 8,
          "data": {
            "text/plain": [
              "             Adj Close       Close        High         Low        Open  \\\n",
              "Date                                                                     \n",
              "2019-12-02  263.534546  264.160004  268.250000  263.450012  267.269989   \n",
              "2019-12-03  258.835724  259.450012  259.529999  256.290009  258.309998   \n",
              "2019-12-04  261.120270  261.739990  263.309998  260.679993  261.070007   \n",
              "2019-12-05  264.951172  265.579987  265.890015  262.730011  263.790009   \n",
              "2019-12-06  270.069031  270.709991  271.000000  267.299988  267.480011   \n",
              "\n",
              "              Volume  \n",
              "Date                  \n",
              "2019-12-02  23621800  \n",
              "2019-12-03  28607600  \n",
              "2019-12-04  16795400  \n",
              "2019-12-05  18606100  \n",
              "2019-12-06  26518900  "
            ],
            "text/html": [
              "<div>\n",
              "<style scoped>\n",
              "    .dataframe tbody tr th:only-of-type {\n",
              "        vertical-align: middle;\n",
              "    }\n",
              "\n",
              "    .dataframe tbody tr th {\n",
              "        vertical-align: top;\n",
              "    }\n",
              "\n",
              "    .dataframe thead th {\n",
              "        text-align: right;\n",
              "    }\n",
              "</style>\n",
              "<table border=\"1\" class=\"dataframe\">\n",
              "  <thead>\n",
              "    <tr style=\"text-align: right;\">\n",
              "      <th></th>\n",
              "      <th>Adj Close</th>\n",
              "      <th>Close</th>\n",
              "      <th>High</th>\n",
              "      <th>Low</th>\n",
              "      <th>Open</th>\n",
              "      <th>Volume</th>\n",
              "    </tr>\n",
              "    <tr>\n",
              "      <th>Date</th>\n",
              "      <th></th>\n",
              "      <th></th>\n",
              "      <th></th>\n",
              "      <th></th>\n",
              "      <th></th>\n",
              "      <th></th>\n",
              "    </tr>\n",
              "  </thead>\n",
              "  <tbody>\n",
              "    <tr>\n",
              "      <th>2019-12-02</th>\n",
              "      <td>263.534546</td>\n",
              "      <td>264.160004</td>\n",
              "      <td>268.250000</td>\n",
              "      <td>263.450012</td>\n",
              "      <td>267.269989</td>\n",
              "      <td>23621800</td>\n",
              "    </tr>\n",
              "    <tr>\n",
              "      <th>2019-12-03</th>\n",
              "      <td>258.835724</td>\n",
              "      <td>259.450012</td>\n",
              "      <td>259.529999</td>\n",
              "      <td>256.290009</td>\n",
              "      <td>258.309998</td>\n",
              "      <td>28607600</td>\n",
              "    </tr>\n",
              "    <tr>\n",
              "      <th>2019-12-04</th>\n",
              "      <td>261.120270</td>\n",
              "      <td>261.739990</td>\n",
              "      <td>263.309998</td>\n",
              "      <td>260.679993</td>\n",
              "      <td>261.070007</td>\n",
              "      <td>16795400</td>\n",
              "    </tr>\n",
              "    <tr>\n",
              "      <th>2019-12-05</th>\n",
              "      <td>264.951172</td>\n",
              "      <td>265.579987</td>\n",
              "      <td>265.890015</td>\n",
              "      <td>262.730011</td>\n",
              "      <td>263.790009</td>\n",
              "      <td>18606100</td>\n",
              "    </tr>\n",
              "    <tr>\n",
              "      <th>2019-12-06</th>\n",
              "      <td>270.069031</td>\n",
              "      <td>270.709991</td>\n",
              "      <td>271.000000</td>\n",
              "      <td>267.299988</td>\n",
              "      <td>267.480011</td>\n",
              "      <td>26518900</td>\n",
              "    </tr>\n",
              "  </tbody>\n",
              "</table>\n",
              "</div>"
            ]
          },
          "metadata": {}
        }
      ],
      "execution_count": 8,
      "metadata": {
        "collapsed": true,
        "outputExpanded": false,
        "jupyter": {
          "source_hidden": false,
          "outputs_hidden": false
        },
        "nteract": {
          "transient": {
            "deleting": false
          }
        },
        "execution": {
          "iopub.status.busy": "2020-04-12T19:59:17.430Z",
          "iopub.execute_input": "2020-04-12T19:59:17.435Z",
          "iopub.status.idle": "2020-04-12T19:59:17.449Z",
          "shell.execute_reply": "2020-04-12T19:59:17.725Z"
        }
      }
    },
    {
      "cell_type": "code",
      "source": [
        "df.tail()"
      ],
      "outputs": [
        {
          "output_type": "execute_result",
          "execution_count": 9,
          "data": {
            "text/plain": [
              "             Adj Close       Close        High         Low        Open  \\\n",
              "Date                                                                     \n",
              "2020-03-26  258.440002  258.440002  258.679993  246.360001  246.520004   \n",
              "2020-03-27  247.740005  247.740005  255.869995  247.050003  252.750000   \n",
              "2020-03-30  254.809998  254.809998  255.520004  249.399994  250.740005   \n",
              "2020-03-31  254.289993  254.289993  262.489990  252.000000  255.600006   \n",
              "2020-04-01  240.910004  240.910004  248.720001  239.130005  246.500000   \n",
              "\n",
              "              Volume  \n",
              "Date                  \n",
              "2020-03-26  63021800  \n",
              "2020-03-27  51054200  \n",
              "2020-03-30  41994100  \n",
              "2020-03-31  49250500  \n",
              "2020-04-01  44054600  "
            ],
            "text/html": [
              "<div>\n",
              "<style scoped>\n",
              "    .dataframe tbody tr th:only-of-type {\n",
              "        vertical-align: middle;\n",
              "    }\n",
              "\n",
              "    .dataframe tbody tr th {\n",
              "        vertical-align: top;\n",
              "    }\n",
              "\n",
              "    .dataframe thead th {\n",
              "        text-align: right;\n",
              "    }\n",
              "</style>\n",
              "<table border=\"1\" class=\"dataframe\">\n",
              "  <thead>\n",
              "    <tr style=\"text-align: right;\">\n",
              "      <th></th>\n",
              "      <th>Adj Close</th>\n",
              "      <th>Close</th>\n",
              "      <th>High</th>\n",
              "      <th>Low</th>\n",
              "      <th>Open</th>\n",
              "      <th>Volume</th>\n",
              "    </tr>\n",
              "    <tr>\n",
              "      <th>Date</th>\n",
              "      <th></th>\n",
              "      <th></th>\n",
              "      <th></th>\n",
              "      <th></th>\n",
              "      <th></th>\n",
              "      <th></th>\n",
              "    </tr>\n",
              "  </thead>\n",
              "  <tbody>\n",
              "    <tr>\n",
              "      <th>2020-03-26</th>\n",
              "      <td>258.440002</td>\n",
              "      <td>258.440002</td>\n",
              "      <td>258.679993</td>\n",
              "      <td>246.360001</td>\n",
              "      <td>246.520004</td>\n",
              "      <td>63021800</td>\n",
              "    </tr>\n",
              "    <tr>\n",
              "      <th>2020-03-27</th>\n",
              "      <td>247.740005</td>\n",
              "      <td>247.740005</td>\n",
              "      <td>255.869995</td>\n",
              "      <td>247.050003</td>\n",
              "      <td>252.750000</td>\n",
              "      <td>51054200</td>\n",
              "    </tr>\n",
              "    <tr>\n",
              "      <th>2020-03-30</th>\n",
              "      <td>254.809998</td>\n",
              "      <td>254.809998</td>\n",
              "      <td>255.520004</td>\n",
              "      <td>249.399994</td>\n",
              "      <td>250.740005</td>\n",
              "      <td>41994100</td>\n",
              "    </tr>\n",
              "    <tr>\n",
              "      <th>2020-03-31</th>\n",
              "      <td>254.289993</td>\n",
              "      <td>254.289993</td>\n",
              "      <td>262.489990</td>\n",
              "      <td>252.000000</td>\n",
              "      <td>255.600006</td>\n",
              "      <td>49250500</td>\n",
              "    </tr>\n",
              "    <tr>\n",
              "      <th>2020-04-01</th>\n",
              "      <td>240.910004</td>\n",
              "      <td>240.910004</td>\n",
              "      <td>248.720001</td>\n",
              "      <td>239.130005</td>\n",
              "      <td>246.500000</td>\n",
              "      <td>44054600</td>\n",
              "    </tr>\n",
              "  </tbody>\n",
              "</table>\n",
              "</div>"
            ]
          },
          "metadata": {}
        }
      ],
      "execution_count": 9,
      "metadata": {
        "collapsed": true,
        "outputExpanded": false,
        "jupyter": {
          "source_hidden": false,
          "outputs_hidden": false
        },
        "nteract": {
          "transient": {
            "deleting": false
          }
        },
        "execution": {
          "iopub.status.busy": "2020-04-12T19:59:17.460Z",
          "iopub.execute_input": "2020-04-12T19:59:17.466Z",
          "iopub.status.idle": "2020-04-12T19:59:17.478Z",
          "shell.execute_reply": "2020-04-12T19:59:17.727Z"
        }
      }
    },
    {
      "cell_type": "code",
      "source": [
        "returns = df['Adj Close'].pct_change().dropna()"
      ],
      "outputs": [],
      "execution_count": 10,
      "metadata": {
        "collapsed": true,
        "outputExpanded": false,
        "jupyter": {
          "source_hidden": false,
          "outputs_hidden": false
        },
        "nteract": {
          "transient": {
            "deleting": false
          }
        },
        "execution": {
          "iopub.status.busy": "2020-04-12T19:59:17.489Z",
          "iopub.execute_input": "2020-04-12T19:59:17.494Z",
          "iopub.status.idle": "2020-04-12T19:59:17.505Z",
          "shell.execute_reply": "2020-04-12T19:59:17.730Z"
        }
      }
    },
    {
      "cell_type": "code",
      "source": [
        "from datetime import datetime\n",
        "from dateutil import relativedelta\n",
        "\n",
        "d1 = datetime.strptime(start, \"%Y-%m-%d\")\n",
        "d2 = datetime.strptime('2020-05-28', \"%Y-%m-%d\")\n",
        "delta = relativedelta.relativedelta(d2,d1)\n",
        "print('How many years of investing?')\n",
        "print('%s years' % delta.years)"
      ],
      "outputs": [
        {
          "output_type": "stream",
          "name": "stdout",
          "text": [
            "How many years of investing?\n",
            "0 years\n"
          ]
        }
      ],
      "execution_count": 11,
      "metadata": {
        "collapsed": true,
        "outputExpanded": false,
        "jupyter": {
          "source_hidden": false,
          "outputs_hidden": false
        },
        "nteract": {
          "transient": {
            "deleting": false
          }
        },
        "execution": {
          "iopub.status.busy": "2020-04-12T19:59:17.515Z",
          "iopub.execute_input": "2020-04-12T19:59:17.522Z",
          "iopub.status.idle": "2020-04-12T19:59:17.534Z",
          "shell.execute_reply": "2020-04-12T19:59:17.734Z"
        }
      }
    },
    {
      "cell_type": "code",
      "source": [
        "maturity_days = (df.index[-1] - df.index[0]).days\n",
        "print('%s days' % maturity_days)"
      ],
      "outputs": [
        {
          "output_type": "stream",
          "name": "stdout",
          "text": [
            "121 days\n"
          ]
        }
      ],
      "execution_count": 12,
      "metadata": {
        "collapsed": true,
        "outputExpanded": false,
        "jupyter": {
          "source_hidden": false,
          "outputs_hidden": false
        },
        "nteract": {
          "transient": {
            "deleting": false
          }
        },
        "execution": {
          "iopub.status.busy": "2020-04-12T19:59:17.543Z",
          "iopub.execute_input": "2020-04-12T19:59:17.548Z",
          "iopub.status.idle": "2020-04-12T19:59:17.556Z",
          "shell.execute_reply": "2020-04-12T19:59:17.738Z"
        }
      }
    },
    {
      "cell_type": "code",
      "source": [
        "S0 = df['Adj Close'][-1]\n",
        "K = dfo_exp.calls['strike'][1]\n",
        "r = 0.1\n",
        "sigma = returns.std()\n",
        "T = maturity_days/252"
      ],
      "outputs": [],
      "execution_count": 13,
      "metadata": {
        "collapsed": true,
        "outputExpanded": false,
        "jupyter": {
          "source_hidden": false,
          "outputs_hidden": false
        },
        "nteract": {
          "transient": {
            "deleting": false
          }
        },
        "execution": {
          "iopub.status.busy": "2020-04-12T19:59:17.561Z",
          "iopub.execute_input": "2020-04-12T19:59:17.565Z",
          "iopub.status.idle": "2020-04-12T19:59:17.571Z",
          "shell.execute_reply": "2020-04-12T19:59:17.741Z"
        }
      }
    },
    {
      "cell_type": "code",
      "source": [
        "print(\"S0\\tCurrent Stock Price:\", S0)\n",
        "print(\"K\\tStrike Price:\", K)\n",
        "print(\"r\\tContinuously compounded risk-free rate:\", r)\n",
        "print(\"sigma\\tVolatility of the stock price per year:\", sigma)\n",
        "print(\"T\\tTime to maturity in trading years:\", T)"
      ],
      "outputs": [
        {
          "output_type": "stream",
          "name": "stdout",
          "text": [
            "S0\tCurrent Stock Price: 240.91000366210938\n",
            "K\tStrike Price: 242.5\n",
            "r\tContinuously compounded risk-free rate: 0.1\n",
            "sigma\tVolatility of the stock price per year: 0.0369388726875486\n",
            "T\tTime to maturity in trading years: 0.4801587301587302\n"
          ]
        }
      ],
      "execution_count": 14,
      "metadata": {
        "collapsed": true,
        "outputExpanded": false,
        "jupyter": {
          "source_hidden": false,
          "outputs_hidden": false
        },
        "nteract": {
          "transient": {
            "deleting": false
          }
        },
        "execution": {
          "iopub.status.busy": "2020-04-12T19:59:17.576Z",
          "iopub.execute_input": "2020-04-12T19:59:17.580Z",
          "iopub.status.idle": "2020-04-12T19:59:17.587Z",
          "shell.execute_reply": "2020-04-12T19:59:17.744Z"
        }
      }
    },
    {
      "cell_type": "code",
      "source": [
        "def d1(S0, K, r, sigma, T):\n",
        "    d1 = (np.log(S0/K) + (r + sigma**2 / 2) * T)/(sigma * np.sqrt(T))\n",
        "    return d1"
      ],
      "outputs": [],
      "execution_count": 15,
      "metadata": {
        "collapsed": true,
        "outputExpanded": false,
        "jupyter": {
          "source_hidden": false,
          "outputs_hidden": false
        },
        "nteract": {
          "transient": {
            "deleting": false
          }
        },
        "execution": {
          "iopub.status.busy": "2020-04-12T19:59:17.592Z",
          "iopub.execute_input": "2020-04-12T19:59:17.596Z",
          "iopub.status.idle": "2020-04-12T19:59:17.602Z",
          "shell.execute_reply": "2020-04-12T19:59:17.748Z"
        }
      }
    },
    {
      "cell_type": "code",
      "source": [
        "def d2(S0, K, r, sigma, T):\n",
        "    d2 = (np.log(S0 / K) + (r - sigma**2 / 2) * T) / (sigma * np.sqrt(T))\n",
        "    return d2"
      ],
      "outputs": [],
      "execution_count": 16,
      "metadata": {
        "collapsed": true,
        "outputExpanded": false,
        "jupyter": {
          "source_hidden": false,
          "outputs_hidden": false
        },
        "nteract": {
          "transient": {
            "deleting": false
          }
        },
        "execution": {
          "iopub.status.busy": "2020-04-12T19:59:17.608Z",
          "iopub.execute_input": "2020-04-12T19:59:17.612Z",
          "iopub.status.idle": "2020-04-12T19:59:17.619Z",
          "shell.execute_reply": "2020-04-12T19:59:17.751Z"
        }
      }
    },
    {
      "cell_type": "code",
      "source": [
        "def BlackScholesCall(S0, K, r, sigma, T):\n",
        "    BSC = S0 * ss.norm.cdf(d1(S0, K, r, sigma, T)) - K * np.exp(-r * T) * ss.norm.cdf(d2(S0, K, r, sigma, T))\n",
        "    return BSC       "
      ],
      "outputs": [],
      "execution_count": 17,
      "metadata": {
        "collapsed": true,
        "outputExpanded": false,
        "jupyter": {
          "source_hidden": false,
          "outputs_hidden": false
        },
        "nteract": {
          "transient": {
            "deleting": false
          }
        },
        "execution": {
          "iopub.status.busy": "2020-04-12T19:59:17.625Z",
          "iopub.execute_input": "2020-04-12T19:59:17.629Z",
          "iopub.status.idle": "2020-04-12T19:59:17.635Z",
          "shell.execute_reply": "2020-04-12T19:59:17.754Z"
        }
      }
    },
    {
      "cell_type": "code",
      "source": [
        "def BlackScholesPut(S0, K, r, sigma, T):\n",
        "    BSP = K * np.exp(-r * T) * ss.norm.cdf(-d2(S0, K, r, sigma, T)) - S0 * ss.norm.cdf(-d1(S0, K, r, sigma, T)) \n",
        "    return BSP"
      ],
      "outputs": [],
      "execution_count": 18,
      "metadata": {
        "collapsed": true,
        "outputExpanded": false,
        "jupyter": {
          "source_hidden": false,
          "outputs_hidden": false
        },
        "nteract": {
          "transient": {
            "deleting": false
          }
        },
        "execution": {
          "iopub.status.busy": "2020-04-12T19:59:17.641Z",
          "iopub.execute_input": "2020-04-12T19:59:17.644Z",
          "iopub.status.idle": "2020-04-12T19:59:17.649Z",
          "shell.execute_reply": "2020-04-12T19:59:17.757Z"
        }
      }
    },
    {
      "cell_type": "code",
      "source": [
        "Call_BS = BlackScholesCall(S0, K, r, sigma, T)\n",
        "Call_BS"
      ],
      "outputs": [
        {
          "output_type": "execute_result",
          "execution_count": 19,
          "data": {
            "text/plain": [
              "9.912965733098048"
            ]
          },
          "metadata": {}
        }
      ],
      "execution_count": 19,
      "metadata": {
        "collapsed": true,
        "outputExpanded": false,
        "jupyter": {
          "source_hidden": false,
          "outputs_hidden": false
        },
        "nteract": {
          "transient": {
            "deleting": false
          }
        },
        "execution": {
          "iopub.status.busy": "2020-04-12T19:59:17.654Z",
          "iopub.execute_input": "2020-04-12T19:59:17.657Z",
          "iopub.status.idle": "2020-04-12T19:59:17.664Z",
          "shell.execute_reply": "2020-04-12T19:59:17.761Z"
        }
      }
    }
  ],
  "metadata": {
    "kernel_info": {
      "name": "python3"
    },
    "language_info": {
      "nbconvert_exporter": "python",
      "pygments_lexer": "ipython3",
      "name": "python",
      "version": "3.5.5",
      "file_extension": ".py",
      "codemirror_mode": {
        "name": "ipython",
        "version": 3
      },
      "mimetype": "text/x-python"
    },
    "kernelspec": {
      "argv": [
        "C:\\Users\\Tin Hang\\Anaconda3\\envs\\py35\\python.exe",
        "-m",
        "ipykernel_launcher",
        "-f",
        "{connection_file}"
      ],
      "display_name": "Python 3",
      "language": "python",
      "name": "python3"
    },
    "nteract": {
      "version": "0.22.4"
    }
  },
  "nbformat": 4,
  "nbformat_minor": 0
}