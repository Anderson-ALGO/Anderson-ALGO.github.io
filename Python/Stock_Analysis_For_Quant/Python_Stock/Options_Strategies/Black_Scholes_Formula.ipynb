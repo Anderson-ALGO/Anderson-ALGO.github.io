{
  "cells": [
    {
      "cell_type": "markdown",
      "source": [
        "# Black Scholes Formula "
      ],
      "metadata": {
        "nteract": {
          "transient": {
            "deleting": false
          }
        }
      }
    },
    {
      "cell_type": "code",
      "source": [
        "import numpy as np\n",
        "import scipy.stats as ss"
      ],
      "outputs": [],
      "execution_count": 1,
      "metadata": {
        "collapsed": false,
        "jupyter": {
          "source_hidden": false,
          "outputs_hidden": false
        },
        "nteract": {
          "transient": {
            "deleting": false
          }
        },
        "execution": {
          "iopub.status.busy": "2020-04-02T01:22:22.568Z",
          "iopub.execute_input": "2020-04-02T01:22:22.571Z",
          "iopub.status.idle": "2020-04-02T01:22:23.013Z",
          "shell.execute_reply": "2020-04-02T01:22:23.158Z"
        }
      }
    },
    {
      "cell_type": "code",
      "source": [
        "def d1(S0, K, r, sigma, T):\n",
        "    d1 = (np.log(S0/K) + (r + sigma**2 / 2) * T)/(sigma * np.sqrt(T))\n",
        "    return d1"
      ],
      "outputs": [],
      "execution_count": 2,
      "metadata": {
        "collapsed": false,
        "jupyter": {
          "source_hidden": false,
          "outputs_hidden": false
        },
        "nteract": {
          "transient": {
            "deleting": false
          }
        },
        "execution": {
          "iopub.status.busy": "2020-04-02T01:22:23.019Z",
          "iopub.execute_input": "2020-04-02T01:22:23.024Z",
          "iopub.status.idle": "2020-04-02T01:22:23.030Z",
          "shell.execute_reply": "2020-04-02T01:22:23.161Z"
        }
      }
    },
    {
      "cell_type": "code",
      "source": [
        "def d2(S0, K, r, sigma, T):\n",
        "    d2 = (np.log(S0 / K) + (r - sigma**2 / 2) * T) / (sigma * np.sqrt(T))\n",
        "    return d2"
      ],
      "outputs": [],
      "execution_count": 3,
      "metadata": {
        "collapsed": true,
        "outputExpanded": false,
        "jupyter": {
          "source_hidden": false,
          "outputs_hidden": false
        },
        "nteract": {
          "transient": {
            "deleting": false
          }
        },
        "execution": {
          "iopub.status.busy": "2020-04-02T01:22:23.037Z",
          "iopub.execute_input": "2020-04-02T01:22:23.041Z",
          "iopub.status.idle": "2020-04-02T01:22:23.048Z",
          "shell.execute_reply": "2020-04-02T01:22:23.162Z"
        }
      }
    },
    {
      "cell_type": "code",
      "source": [
        "def BlackScholesCall(S0, K, r, sigma, T):\n",
        "    BSC = S0 * ss.norm.cdf(d1(S0, K, r, sigma, T)) - K * np.exp(-r * T) * ss.norm.cdf(d2(S0, K, r, sigma, T))\n",
        "    return BSC\n",
        "       "
      ],
      "outputs": [],
      "execution_count": 4,
      "metadata": {
        "collapsed": true,
        "outputExpanded": false,
        "jupyter": {
          "source_hidden": false,
          "outputs_hidden": false
        },
        "nteract": {
          "transient": {
            "deleting": false
          }
        },
        "execution": {
          "iopub.status.busy": "2020-04-02T01:22:23.056Z",
          "iopub.execute_input": "2020-04-02T01:22:23.062Z",
          "iopub.status.idle": "2020-04-02T01:22:23.069Z",
          "shell.execute_reply": "2020-04-02T01:22:23.165Z"
        }
      }
    },
    {
      "cell_type": "code",
      "source": [
        "def BlackScholesPut(S0, K, r, sigma, T):\n",
        "    BSP = K * np.exp(-r * T) * ss.norm.cdf(-d2(S0, K, r, sigma, T)) - S0 * ss.norm.cdf(-d1(S0, K, r, sigma, T)) \n",
        "    return BSP"
      ],
      "outputs": [],
      "execution_count": 5,
      "metadata": {
        "collapsed": true,
        "outputExpanded": false,
        "jupyter": {
          "source_hidden": false,
          "outputs_hidden": false
        },
        "nteract": {
          "transient": {
            "deleting": false
          }
        },
        "execution": {
          "iopub.status.busy": "2020-04-02T01:22:23.077Z",
          "iopub.execute_input": "2020-04-02T01:22:23.083Z",
          "iopub.status.idle": "2020-04-02T01:22:23.090Z",
          "shell.execute_reply": "2020-04-02T01:22:23.166Z"
        }
      }
    },
    {
      "cell_type": "code",
      "source": [
        "# Input\n",
        "S0 = 100.0\n",
        "K = 100.0\n",
        "r = 0.1\n",
        "sigma = 0.30\n",
        "T = 3"
      ],
      "outputs": [],
      "execution_count": 6,
      "metadata": {
        "collapsed": true,
        "outputExpanded": false,
        "jupyter": {
          "source_hidden": false,
          "outputs_hidden": false
        },
        "nteract": {
          "transient": {
            "deleting": false
          }
        },
        "execution": {
          "iopub.status.busy": "2020-04-02T01:22:23.096Z",
          "iopub.execute_input": "2020-04-02T01:22:23.101Z",
          "iopub.status.idle": "2020-04-02T01:22:23.105Z",
          "shell.execute_reply": "2020-04-02T01:22:23.169Z"
        }
      }
    },
    {
      "cell_type": "code",
      "source": [
        "print(\"S0\\tCurrent Stock Price:\", S0)\n",
        "print(\"K\\tStrike Price:\", K)\n",
        "print(\"r\\tContinuously compounded risk-free rate:\", r)\n",
        "print(\"sigma\\tVolatility of the stock price per year:\", sigma)\n",
        "print(\"T\\tTime to maturity in trading years:\", T)"
      ],
      "outputs": [
        {
          "output_type": "stream",
          "name": "stdout",
          "text": [
            "S0\tCurrent Stock Price: 100.0\n",
            "K\tStrike Price: 100.0\n",
            "r\tContinuously compounded risk-free rate: 0.1\n",
            "sigma\tVolatility of the stock price per year: 0.3\n",
            "T\tTime to maturity in trading years: 3\n"
          ]
        }
      ],
      "execution_count": 7,
      "metadata": {
        "collapsed": true,
        "outputExpanded": false,
        "jupyter": {
          "source_hidden": false,
          "outputs_hidden": false
        },
        "nteract": {
          "transient": {
            "deleting": false
          }
        },
        "execution": {
          "iopub.status.busy": "2020-04-02T01:22:23.108Z",
          "iopub.execute_input": "2020-04-02T01:22:23.111Z",
          "iopub.status.idle": "2020-04-02T01:22:23.117Z",
          "shell.execute_reply": "2020-04-02T01:22:23.171Z"
        }
      }
    },
    {
      "cell_type": "code",
      "source": [
        "Call_BS = BlackScholesCall(S0, K, r, sigma, T)\n",
        "Call_BS"
      ],
      "outputs": [
        {
          "output_type": "execute_result",
          "execution_count": 8,
          "data": {
            "text/plain": [
              "33.60448376282812"
            ]
          },
          "metadata": {}
        }
      ],
      "execution_count": 8,
      "metadata": {
        "collapsed": true,
        "outputExpanded": false,
        "jupyter": {
          "source_hidden": false,
          "outputs_hidden": false
        },
        "nteract": {
          "transient": {
            "deleting": false
          }
        },
        "execution": {
          "iopub.status.busy": "2020-04-02T01:22:23.121Z",
          "iopub.execute_input": "2020-04-02T01:22:23.124Z",
          "iopub.status.idle": "2020-04-02T01:22:23.133Z",
          "shell.execute_reply": "2020-04-02T01:22:23.172Z"
        }
      }
    },
    {
      "cell_type": "code",
      "source": [
        "Put_BS = BlackScholesPut(S0, K, r, sigma, T)\n",
        "Put_BS"
      ],
      "outputs": [
        {
          "output_type": "execute_result",
          "execution_count": 9,
          "data": {
            "text/plain": [
              "7.686305830999903"
            ]
          },
          "metadata": {}
        }
      ],
      "execution_count": 9,
      "metadata": {
        "collapsed": true,
        "outputExpanded": false,
        "jupyter": {
          "source_hidden": false,
          "outputs_hidden": false
        },
        "nteract": {
          "transient": {
            "deleting": false
          }
        },
        "execution": {
          "iopub.status.busy": "2020-04-02T01:22:23.138Z",
          "iopub.execute_input": "2020-04-02T01:22:23.140Z",
          "iopub.status.idle": "2020-04-02T01:22:23.146Z",
          "shell.execute_reply": "2020-04-02T01:22:23.175Z"
        }
      }
    }
  ],
  "metadata": {
    "kernel_info": {
      "name": "python3"
    },
    "language_info": {
      "codemirror_mode": {
        "name": "ipython",
        "version": 3
      },
      "name": "python",
      "mimetype": "text/x-python",
      "version": "3.5.5",
      "nbconvert_exporter": "python",
      "pygments_lexer": "ipython3",
      "file_extension": ".py"
    },
    "kernelspec": {
      "argv": [
        "C:\\Users\\Tin Hang\\Anaconda3\\envs\\py35\\python.exe",
        "-m",
        "ipykernel_launcher",
        "-f",
        "{connection_file}"
      ],
      "display_name": "Python 3",
      "language": "python",
      "name": "python3"
    },
    "nteract": {
      "version": "0.22.4"
    }
  },
  "nbformat": 4,
  "nbformat_minor": 0
}