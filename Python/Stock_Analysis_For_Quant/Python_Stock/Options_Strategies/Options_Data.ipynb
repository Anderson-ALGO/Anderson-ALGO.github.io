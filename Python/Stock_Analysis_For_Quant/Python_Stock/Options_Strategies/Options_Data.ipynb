{
  "cells": [
    {
      "cell_type": "markdown",
      "source": [
        "# Download Options Data"
      ],
      "metadata": {
        "nteract": {
          "transient": {
            "deleting": false
          }
        }
      }
    },
    {
      "cell_type": "markdown",
      "source": [
        "## yfinance"
      ],
      "metadata": {
        "nteract": {
          "transient": {
            "deleting": false
          }
        }
      }
    },
    {
      "cell_type": "code",
      "source": [
        "import yfinance as yf"
      ],
      "outputs": [],
      "execution_count": null,
      "metadata": {
        "collapsed": false,
        "jupyter": {
          "source_hidden": false,
          "outputs_hidden": false
        },
        "nteract": {
          "transient": {
            "deleting": false
          }
        },
        "execution": {
          "iopub.status.busy": "2020-03-07T19:13:41.458Z",
          "iopub.execute_input": "2020-03-07T19:13:41.462Z",
          "iopub.status.idle": "2020-03-07T19:13:41.467Z",
          "shell.execute_reply": "2020-03-07T19:13:41.470Z"
        }
      }
    },
    {
      "cell_type": "code",
      "source": [
        "aapl = yf.Ticker(\"aapl\")"
      ],
      "outputs": [],
      "execution_count": null,
      "metadata": {
        "collapsed": false,
        "jupyter": {
          "source_hidden": false,
          "outputs_hidden": false
        },
        "nteract": {
          "transient": {
            "deleting": false
          }
        },
        "execution": {
          "iopub.status.busy": "2020-03-07T19:05:20.801Z",
          "iopub.execute_input": "2020-03-07T19:05:20.806Z",
          "iopub.status.idle": "2020-03-07T19:05:20.814Z",
          "shell.execute_reply": "2020-03-07T19:05:20.824Z"
        }
      }
    },
    {
      "cell_type": "code",
      "source": [
        "aapl.options"
      ],
      "outputs": [],
      "execution_count": null,
      "metadata": {
        "collapsed": false,
        "jupyter": {
          "source_hidden": false,
          "outputs_hidden": false
        },
        "nteract": {
          "transient": {
            "deleting": false
          }
        },
        "execution": {
          "iopub.status.busy": "2020-03-07T19:05:22.371Z",
          "iopub.execute_input": "2020-03-07T19:05:22.373Z",
          "iopub.status.idle": "2020-03-07T19:05:23.438Z",
          "shell.execute_reply": "2020-03-07T19:05:23.444Z"
        }
      }
    },
    {
      "cell_type": "code",
      "source": [
        "option_exp = aapl.option_chain('2020-03-26')"
      ],
      "outputs": [],
      "execution_count": null,
      "metadata": {
        "collapsed": false,
        "jupyter": {
          "source_hidden": false,
          "outputs_hidden": false
        },
        "nteract": {
          "transient": {
            "deleting": false
          }
        },
        "execution": {
          "iopub.status.busy": "2020-03-07T19:06:11.281Z",
          "iopub.execute_input": "2020-03-07T19:06:11.284Z",
          "iopub.status.idle": "2020-03-07T19:06:11.443Z",
          "shell.execute_reply": "2020-03-07T19:06:11.447Z"
        }
      }
    },
    {
      "cell_type": "code",
      "source": [
        "option_exp.calls"
      ],
      "outputs": [],
      "execution_count": null,
      "metadata": {
        "collapsed": false,
        "jupyter": {
          "source_hidden": false,
          "outputs_hidden": false
        },
        "nteract": {
          "transient": {
            "deleting": false
          }
        },
        "execution": {
          "iopub.status.busy": "2020-03-07T19:06:27.782Z",
          "iopub.execute_input": "2020-03-07T19:06:27.785Z",
          "iopub.status.idle": "2020-03-07T19:06:27.841Z",
          "shell.execute_reply": "2020-03-07T19:06:27.907Z"
        }
      }
    },
    {
      "cell_type": "code",
      "source": [
        "option_exp.puts"
      ],
      "outputs": [],
      "execution_count": null,
      "metadata": {
        "collapsed": false,
        "jupyter": {
          "source_hidden": false,
          "outputs_hidden": false
        },
        "nteract": {
          "transient": {
            "deleting": false
          }
        },
        "execution": {
          "iopub.status.busy": "2020-03-07T19:06:39.283Z",
          "iopub.execute_input": "2020-03-07T19:06:39.328Z",
          "iopub.status.idle": "2020-03-07T19:06:39.340Z",
          "shell.execute_reply": "2020-03-07T19:06:39.394Z"
        }
      }
    },
    {
      "cell_type": "markdown",
      "source": [
        "# yahooquery"
      ],
      "metadata": {
        "nteract": {
          "transient": {
            "deleting": false
          }
        }
      }
    },
    {
      "cell_type": "code",
      "source": [
        "from yahooquery import Ticker"
      ],
      "outputs": [],
      "execution_count": null,
      "metadata": {
        "collapsed": false,
        "jupyter": {
          "source_hidden": false,
          "outputs_hidden": false
        },
        "nteract": {
          "transient": {
            "deleting": false
          }
        },
        "execution": {
          "iopub.status.busy": "2020-03-07T19:17:36.475Z",
          "iopub.execute_input": "2020-03-07T19:17:36.480Z",
          "iopub.status.idle": "2020-03-07T19:17:36.485Z",
          "shell.execute_reply": "2020-03-07T19:17:36.491Z"
        }
      }
    },
    {
      "cell_type": "code",
      "source": [
        "aapl = Ticker('aapl')"
      ],
      "outputs": [],
      "execution_count": null,
      "metadata": {
        "collapsed": false,
        "jupyter": {
          "source_hidden": false,
          "outputs_hidden": false
        },
        "nteract": {
          "transient": {
            "deleting": false
          }
        },
        "execution": {
          "iopub.status.busy": "2020-03-07T19:17:45.247Z",
          "iopub.execute_input": "2020-03-07T19:17:45.250Z",
          "iopub.status.idle": "2020-03-07T19:17:45.256Z",
          "shell.execute_reply": "2020-03-07T19:17:45.260Z"
        }
      }
    },
    {
      "cell_type": "code",
      "source": [
        "import pandas as pd\n",
        "df = aapl.option_chain"
      ],
      "outputs": [],
      "execution_count": null,
      "metadata": {
        "collapsed": false,
        "jupyter": {
          "source_hidden": false,
          "outputs_hidden": false
        },
        "nteract": {
          "transient": {
            "deleting": false
          }
        },
        "execution": {
          "iopub.status.busy": "2020-03-07T19:18:06.949Z",
          "iopub.execute_input": "2020-03-07T19:18:06.955Z",
          "iopub.status.idle": "2020-03-07T19:18:07.632Z",
          "shell.execute_reply": "2020-03-07T19:18:07.640Z"
        }
      }
    },
    {
      "cell_type": "code",
      "source": [
        "df.index.names"
      ],
      "outputs": [],
      "execution_count": null,
      "metadata": {
        "collapsed": false,
        "jupyter": {
          "source_hidden": false,
          "outputs_hidden": false
        },
        "nteract": {
          "transient": {
            "deleting": false
          }
        },
        "execution": {
          "iopub.status.busy": "2020-03-07T19:18:15.716Z",
          "iopub.execute_input": "2020-03-07T19:18:15.721Z",
          "iopub.status.idle": "2020-03-07T19:18:15.730Z",
          "shell.execute_reply": "2020-03-07T19:18:15.740Z"
        }
      }
    },
    {
      "cell_type": "code",
      "source": [
        "df"
      ],
      "outputs": [],
      "execution_count": null,
      "metadata": {
        "collapsed": false,
        "jupyter": {
          "source_hidden": false,
          "outputs_hidden": false
        },
        "nteract": {
          "transient": {
            "deleting": false
          }
        },
        "execution": {
          "iopub.status.busy": "2020-03-07T19:19:37.372Z",
          "iopub.execute_input": "2020-03-07T19:19:37.376Z",
          "iopub.status.idle": "2020-03-07T19:19:37.416Z",
          "shell.execute_reply": "2020-03-07T19:19:37.462Z"
        }
      }
    },
    {
      "cell_type": "code",
      "source": [
        "df.loc['aapl']"
      ],
      "outputs": [],
      "execution_count": null,
      "metadata": {
        "collapsed": false,
        "jupyter": {
          "source_hidden": false,
          "outputs_hidden": false
        },
        "nteract": {
          "transient": {
            "deleting": false
          }
        },
        "execution": {
          "iopub.status.busy": "2020-03-07T19:18:23.444Z",
          "iopub.execute_input": "2020-03-07T19:18:23.448Z",
          "iopub.status.idle": "2020-03-07T19:18:23.515Z",
          "shell.execute_reply": "2020-03-07T19:18:23.569Z"
        }
      }
    },
    {
      "cell_type": "code",
      "source": [
        "df.loc['aapl', '2020-04-17']"
      ],
      "outputs": [],
      "execution_count": null,
      "metadata": {
        "collapsed": false,
        "jupyter": {
          "source_hidden": false,
          "outputs_hidden": false
        },
        "nteract": {
          "transient": {
            "deleting": false
          }
        },
        "execution": {
          "iopub.status.busy": "2020-03-07T19:19:52.476Z",
          "iopub.execute_input": "2020-03-07T19:19:52.482Z",
          "iopub.status.idle": "2020-03-07T19:19:52.531Z",
          "shell.execute_reply": "2020-03-07T19:19:52.590Z"
        }
      }
    },
    {
      "cell_type": "code",
      "source": [
        "df.loc['aapl', '2020-04-17', 'calls']"
      ],
      "outputs": [],
      "execution_count": null,
      "metadata": {
        "collapsed": false,
        "jupyter": {
          "source_hidden": false,
          "outputs_hidden": false
        },
        "nteract": {
          "transient": {
            "deleting": false
          }
        },
        "execution": {
          "iopub.status.busy": "2020-03-07T19:20:11.938Z",
          "iopub.execute_input": "2020-03-07T19:20:11.944Z",
          "iopub.status.idle": "2020-03-07T19:20:12.025Z",
          "shell.execute_reply": "2020-03-07T19:20:12.092Z"
        }
      }
    },
    {
      "cell_type": "code",
      "source": [
        "df.loc[df['inTheMoney'] == True]"
      ],
      "outputs": [],
      "execution_count": null,
      "metadata": {
        "collapsed": false,
        "jupyter": {
          "source_hidden": false,
          "outputs_hidden": false
        },
        "nteract": {
          "transient": {
            "deleting": false
          }
        },
        "execution": {
          "iopub.status.busy": "2020-03-07T19:20:50.630Z",
          "iopub.execute_input": "2020-03-07T19:20:50.635Z",
          "iopub.status.idle": "2020-03-07T19:20:50.702Z",
          "shell.execute_reply": "2020-03-07T19:20:50.767Z"
        }
      }
    },
    {
      "cell_type": "code",
      "source": [
        "df.loc[df['inTheMoney'] == True].xs('aapl')"
      ],
      "outputs": [],
      "execution_count": null,
      "metadata": {
        "collapsed": false,
        "jupyter": {
          "source_hidden": false,
          "outputs_hidden": false
        },
        "nteract": {
          "transient": {
            "deleting": false
          }
        },
        "execution": {
          "iopub.status.busy": "2020-03-07T19:21:00.800Z",
          "iopub.execute_input": "2020-03-07T19:21:00.821Z",
          "iopub.status.idle": "2020-03-07T19:21:00.872Z",
          "shell.execute_reply": "2020-03-07T19:21:00.943Z"
        }
      }
    },
    {
      "cell_type": "markdown",
      "source": [
        "# wallstreet"
      ],
      "metadata": {
        "nteract": {
          "transient": {
            "deleting": false
          }
        }
      }
    },
    {
      "cell_type": "code",
      "source": [
        "from wallstreet import Stock, Call, Put"
      ],
      "outputs": [],
      "execution_count": null,
      "metadata": {
        "collapsed": false,
        "jupyter": {
          "source_hidden": false,
          "outputs_hidden": false
        },
        "nteract": {
          "transient": {
            "deleting": false
          }
        }
      }
    },
    {
      "cell_type": "code",
      "source": [
        "a = Call('AAPL', d=12, m=2, y=2020, strike=300)"
      ],
      "outputs": [],
      "execution_count": null,
      "metadata": {
        "collapsed": false,
        "jupyter": {
          "source_hidden": false,
          "outputs_hidden": false
        },
        "nteract": {
          "transient": {
            "deleting": false
          }
        }
      }
    },
    {
      "cell_type": "code",
      "source": [
        "a.price"
      ],
      "outputs": [],
      "execution_count": null,
      "metadata": {
        "collapsed": false,
        "jupyter": {
          "source_hidden": false,
          "outputs_hidden": false
        },
        "nteract": {
          "transient": {
            "deleting": false
          }
        }
      }
    },
    {
      "cell_type": "code",
      "source": [
        "a.implied_volatility()"
      ],
      "outputs": [],
      "execution_count": null,
      "metadata": {
        "collapsed": false,
        "jupyter": {
          "source_hidden": false,
          "outputs_hidden": false
        },
        "nteract": {
          "transient": {
            "deleting": false
          }
        }
      }
    },
    {
      "cell_type": "code",
      "source": [
        "a.delta()"
      ],
      "outputs": [],
      "execution_count": null,
      "metadata": {
        "collapsed": false,
        "jupyter": {
          "source_hidden": false,
          "outputs_hidden": false
        },
        "nteract": {
          "transient": {
            "deleting": false
          }
        }
      }
    },
    {
      "cell_type": "code",
      "source": [
        "a.vega()"
      ],
      "outputs": [],
      "execution_count": null,
      "metadata": {
        "collapsed": false,
        "jupyter": {
          "source_hidden": false,
          "outputs_hidden": false
        },
        "nteract": {
          "transient": {
            "deleting": false
          }
        }
      }
    },
    {
      "cell_type": "code",
      "source": [
        "a.underlying.price"
      ],
      "outputs": [],
      "execution_count": null,
      "metadata": {
        "collapsed": false,
        "jupyter": {
          "source_hidden": false,
          "outputs_hidden": false
        },
        "nteract": {
          "transient": {
            "deleting": false
          }
        }
      }
    },
    {
      "cell_type": "markdown",
      "source": [
        "# yahoo_fin"
      ],
      "metadata": {
        "nteract": {
          "transient": {
            "deleting": false
          }
        }
      }
    },
    {
      "cell_type": "markdown",
      "source": [
        "## for python 3.6+"
      ],
      "metadata": {
        "nteract": {
          "transient": {
            "deleting": false
          }
        }
      }
    },
    {
      "cell_type": "code",
      "source": [
        "from yahoo_fin import options"
      ],
      "outputs": [],
      "execution_count": null,
      "metadata": {
        "collapsed": false,
        "jupyter": {
          "source_hidden": false,
          "outputs_hidden": false
        },
        "nteract": {
          "transient": {
            "deleting": false
          }
        },
        "execution": {
          "iopub.status.busy": "2020-03-07T19:14:30.399Z",
          "iopub.execute_input": "2020-03-07T19:14:30.403Z",
          "iopub.status.idle": "2020-03-07T19:14:30.409Z",
          "shell.execute_reply": "2020-03-07T19:14:30.417Z"
        }
      }
    },
    {
      "cell_type": "code",
      "source": [
        "aapl_dates = options.get_expiration_dates(\"aapl\")"
      ],
      "outputs": [],
      "execution_count": null,
      "metadata": {
        "collapsed": false,
        "jupyter": {
          "source_hidden": false,
          "outputs_hidden": false
        },
        "nteract": {
          "transient": {
            "deleting": false
          }
        },
        "execution": {
          "iopub.status.busy": "2020-03-07T19:14:31.741Z",
          "iopub.execute_input": "2020-03-07T19:14:31.746Z",
          "iopub.status.idle": "2020-03-07T19:14:31.756Z",
          "shell.execute_reply": "2020-03-07T19:14:31.765Z"
        }
      }
    },
    {
      "cell_type": "code",
      "source": [
        "chain = options.get_options_chain(\"aapl\")"
      ],
      "outputs": [],
      "execution_count": null,
      "metadata": {
        "collapsed": false,
        "jupyter": {
          "source_hidden": false,
          "outputs_hidden": false
        },
        "nteract": {
          "transient": {
            "deleting": false
          }
        }
      }
    },
    {
      "cell_type": "code",
      "source": [
        "chain[\"calls\"]"
      ],
      "outputs": [],
      "execution_count": null,
      "metadata": {
        "collapsed": false,
        "jupyter": {
          "source_hidden": false,
          "outputs_hidden": false
        },
        "nteract": {
          "transient": {
            "deleting": false
          }
        }
      }
    },
    {
      "cell_type": "code",
      "source": [
        "chain[\"puts\"]"
      ],
      "outputs": [],
      "execution_count": null,
      "metadata": {
        "collapsed": false,
        "jupyter": {
          "source_hidden": false,
          "outputs_hidden": false
        },
        "nteract": {
          "transient": {
            "deleting": false
          }
        }
      }
    }
  ],
  "metadata": {
    "kernel_info": {
      "name": "python3"
    },
    "language_info": {
      "version": "3.5.5",
      "pygments_lexer": "ipython3",
      "name": "python",
      "codemirror_mode": {
        "version": 3,
        "name": "ipython"
      },
      "file_extension": ".py",
      "nbconvert_exporter": "python",
      "mimetype": "text/x-python"
    },
    "kernelspec": {
      "argv": [
        "C:\\Users\\Tin Hang\\Anaconda3\\envs\\py35\\python.exe",
        "-m",
        "ipykernel_launcher",
        "-f",
        "{connection_file}"
      ],
      "display_name": "Python 3",
      "language": "python",
      "name": "python3"
    },
    "nteract": {
      "version": "0.22.0"
    }
  },
  "nbformat": 4,
  "nbformat_minor": 0
}