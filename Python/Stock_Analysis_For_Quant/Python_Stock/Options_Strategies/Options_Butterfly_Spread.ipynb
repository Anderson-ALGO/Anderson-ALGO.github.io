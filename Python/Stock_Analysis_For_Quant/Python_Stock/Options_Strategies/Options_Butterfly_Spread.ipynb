{
  "cells": [
    {
      "cell_type": "markdown",
      "source": [
        "# Butterfly Spread"
      ],
      "metadata": {
        "nteract": {
          "transient": {
            "deleting": false
          }
        }
      }
    },
    {
      "cell_type": "code",
      "source": [
        "import numpy as np\n",
        "import matplotlib.pyplot as plt\n",
        "import yfinance as yf"
      ],
      "outputs": [],
      "execution_count": 1,
      "metadata": {
        "collapsed": true,
        "jupyter": {
          "source_hidden": false,
          "outputs_hidden": false
        },
        "nteract": {
          "transient": {
            "deleting": false
          }
        },
        "execution": {
          "iopub.status.busy": "2020-11-01T05:31:29.849Z",
          "iopub.execute_input": "2020-11-01T05:31:29.855Z",
          "iopub.status.idle": "2020-11-01T05:31:30.876Z",
          "shell.execute_reply": "2020-11-01T05:31:30.940Z"
        }
      }
    },
    {
      "cell_type": "code",
      "source": [
        "dfo = yf.Ticker(\"AAPL\")"
      ],
      "outputs": [],
      "execution_count": 2,
      "metadata": {
        "collapsed": true,
        "jupyter": {
          "source_hidden": false,
          "outputs_hidden": false
        },
        "nteract": {
          "transient": {
            "deleting": false
          }
        },
        "execution": {
          "iopub.status.busy": "2020-11-01T05:31:30.888Z",
          "iopub.execute_input": "2020-11-01T05:31:30.895Z",
          "iopub.status.idle": "2020-11-01T05:31:30.908Z",
          "shell.execute_reply": "2020-11-01T05:31:30.946Z"
        }
      }
    },
    {
      "cell_type": "code",
      "source": [
        "dfo.options"
      ],
      "outputs": [
        {
          "output_type": "execute_result",
          "execution_count": 3,
          "data": {
            "text/plain": "('2021-06-17',\n '2020-11-19',\n '2021-09-16',\n '2022-06-16',\n '2021-04-15',\n '2022-01-20',\n '2020-12-17',\n '2020-11-12',\n '2023-01-19',\n '2020-11-05',\n '2020-12-03',\n '2022-09-15',\n '2021-03-18',\n '2020-11-26',\n '2021-01-14')"
          },
          "metadata": {}
        }
      ],
      "execution_count": 3,
      "metadata": {
        "collapsed": true,
        "jupyter": {
          "source_hidden": false,
          "outputs_hidden": false
        },
        "nteract": {
          "transient": {
            "deleting": false
          }
        },
        "execution": {
          "iopub.status.busy": "2020-11-01T05:31:30.915Z",
          "iopub.execute_input": "2020-11-01T05:31:30.920Z",
          "iopub.status.idle": "2020-11-01T05:31:32.159Z",
          "shell.execute_reply": "2020-11-01T05:31:32.198Z"
        }
      }
    },
    {
      "cell_type": "code",
      "source": [
        "dfo_exp = dfo.option_chain('2020-11-26')"
      ],
      "outputs": [],
      "execution_count": 4,
      "metadata": {
        "collapsed": true,
        "jupyter": {
          "source_hidden": false,
          "outputs_hidden": false
        },
        "nteract": {
          "transient": {
            "deleting": false
          }
        },
        "execution": {
          "iopub.status.busy": "2020-11-01T05:31:32.169Z",
          "iopub.execute_input": "2020-11-01T05:31:32.177Z",
          "iopub.status.idle": "2020-11-01T05:31:32.323Z",
          "shell.execute_reply": "2020-11-01T05:31:33.078Z"
        }
      }
    },
    {
      "cell_type": "code",
      "source": [
        "dfo_exp.calls"
      ],
      "outputs": [
        {
          "output_type": "execute_result",
          "execution_count": 5,
          "data": {
            "text/html": "<div>\n<style scoped>\n    .dataframe tbody tr th:only-of-type {\n        vertical-align: middle;\n    }\n\n    .dataframe tbody tr th {\n        vertical-align: top;\n    }\n\n    .dataframe thead th {\n        text-align: right;\n    }\n</style>\n<table border=\"1\" class=\"dataframe\">\n  <thead>\n    <tr style=\"text-align: right;\">\n      <th></th>\n      <th>contractSymbol</th>\n      <th>lastTradeDate</th>\n      <th>strike</th>\n      <th>lastPrice</th>\n      <th>bid</th>\n      <th>ask</th>\n      <th>change</th>\n      <th>percentChange</th>\n      <th>volume</th>\n      <th>openInterest</th>\n      <th>impliedVolatility</th>\n      <th>inTheMoney</th>\n      <th>contractSize</th>\n      <th>currency</th>\n    </tr>\n  </thead>\n  <tbody>\n    <tr>\n      <th>0</th>\n      <td>AAPL201127C00070000</td>\n      <td>2020-10-29 14:54:49</td>\n      <td>70.0</td>\n      <td>44.75</td>\n      <td>38.75</td>\n      <td>39.60</td>\n      <td>0.000000</td>\n      <td>0.000000</td>\n      <td>202</td>\n      <td>252</td>\n      <td>0.907227</td>\n      <td>True</td>\n      <td>REGULAR</td>\n      <td>USD</td>\n    </tr>\n    <tr>\n      <th>1</th>\n      <td>AAPL201127C00080000</td>\n      <td>2020-10-29 14:44:08</td>\n      <td>80.0</td>\n      <td>29.00</td>\n      <td>28.85</td>\n      <td>29.90</td>\n      <td>-5.479999</td>\n      <td>-15.893270</td>\n      <td>1</td>\n      <td>29</td>\n      <td>0.741214</td>\n      <td>True</td>\n      <td>REGULAR</td>\n      <td>USD</td>\n    </tr>\n    <tr>\n      <th>2</th>\n      <td>AAPL201127C00085000</td>\n      <td>2020-10-30 17:59:57</td>\n      <td>85.0</td>\n      <td>23.75</td>\n      <td>23.95</td>\n      <td>24.85</td>\n      <td>-7.549999</td>\n      <td>-24.121403</td>\n      <td>13</td>\n      <td>466</td>\n      <td>0.627933</td>\n      <td>True</td>\n      <td>REGULAR</td>\n      <td>USD</td>\n    </tr>\n    <tr>\n      <th>3</th>\n      <td>AAPL201127C00090000</td>\n      <td>2020-10-30 18:58:52</td>\n      <td>90.0</td>\n      <td>18.91</td>\n      <td>19.15</td>\n      <td>20.05</td>\n      <td>-5.190001</td>\n      <td>-21.535270</td>\n      <td>3</td>\n      <td>46</td>\n      <td>0.555180</td>\n      <td>True</td>\n      <td>REGULAR</td>\n      <td>USD</td>\n    </tr>\n    <tr>\n      <th>4</th>\n      <td>AAPL201127C00095000</td>\n      <td>2020-10-30 19:30:01</td>\n      <td>95.0</td>\n      <td>14.50</td>\n      <td>14.10</td>\n      <td>15.75</td>\n      <td>-6.690001</td>\n      <td>-31.571499</td>\n      <td>65</td>\n      <td>56</td>\n      <td>0.602055</td>\n      <td>True</td>\n      <td>REGULAR</td>\n      <td>USD</td>\n    </tr>\n    <tr>\n      <th>5</th>\n      <td>AAPL201127C00100000</td>\n      <td>2020-10-30 19:46:45</td>\n      <td>100.0</td>\n      <td>10.30</td>\n      <td>10.45</td>\n      <td>11.30</td>\n      <td>-6.380000</td>\n      <td>-38.249400</td>\n      <td>194</td>\n      <td>561</td>\n      <td>0.515142</td>\n      <td>True</td>\n      <td>REGULAR</td>\n      <td>USD</td>\n    </tr>\n    <tr>\n      <th>6</th>\n      <td>AAPL201127C00101000</td>\n      <td>2020-10-30 19:45:01</td>\n      <td>101.0</td>\n      <td>9.75</td>\n      <td>9.25</td>\n      <td>10.35</td>\n      <td>-3.950000</td>\n      <td>-28.832117</td>\n      <td>24</td>\n      <td>7</td>\n      <td>0.488775</td>\n      <td>True</td>\n      <td>REGULAR</td>\n      <td>USD</td>\n    </tr>\n    <tr>\n      <th>7</th>\n      <td>AAPL201127C00102000</td>\n      <td>2020-10-30 19:26:52</td>\n      <td>102.0</td>\n      <td>8.75</td>\n      <td>8.45</td>\n      <td>9.90</td>\n      <td>-7.090000</td>\n      <td>-44.760100</td>\n      <td>34</td>\n      <td>46</td>\n      <td>0.510991</td>\n      <td>True</td>\n      <td>REGULAR</td>\n      <td>USD</td>\n    </tr>\n    <tr>\n      <th>8</th>\n      <td>AAPL201127C00103000</td>\n      <td>2020-10-30 19:33:34</td>\n      <td>103.0</td>\n      <td>8.06</td>\n      <td>7.55</td>\n      <td>8.90</td>\n      <td>-4.200000</td>\n      <td>-34.257744</td>\n      <td>34</td>\n      <td>30</td>\n      <td>0.477056</td>\n      <td>True</td>\n      <td>REGULAR</td>\n      <td>USD</td>\n    </tr>\n    <tr>\n      <th>9</th>\n      <td>AAPL201127C00104000</td>\n      <td>2020-10-30 19:28:03</td>\n      <td>104.0</td>\n      <td>7.41</td>\n      <td>6.90</td>\n      <td>8.90</td>\n      <td>-4.290000</td>\n      <td>-36.666668</td>\n      <td>63</td>\n      <td>26</td>\n      <td>0.534673</td>\n      <td>True</td>\n      <td>REGULAR</td>\n      <td>USD</td>\n    </tr>\n    <tr>\n      <th>10</th>\n      <td>AAPL201127C00105000</td>\n      <td>2020-10-30 19:56:03</td>\n      <td>105.0</td>\n      <td>6.95</td>\n      <td>7.20</td>\n      <td>7.70</td>\n      <td>-5.790000</td>\n      <td>-45.447410</td>\n      <td>194</td>\n      <td>178</td>\n      <td>0.479375</td>\n      <td>True</td>\n      <td>REGULAR</td>\n      <td>USD</td>\n    </tr>\n    <tr>\n      <th>11</th>\n      <td>AAPL201127C00106000</td>\n      <td>2020-10-30 19:59:34</td>\n      <td>106.0</td>\n      <td>6.75</td>\n      <td>6.40</td>\n      <td>6.95</td>\n      <td>-5.400000</td>\n      <td>-44.444443</td>\n      <td>201</td>\n      <td>69</td>\n      <td>0.463628</td>\n      <td>True</td>\n      <td>REGULAR</td>\n      <td>USD</td>\n    </tr>\n    <tr>\n      <th>12</th>\n      <td>AAPL201127C00107000</td>\n      <td>2020-10-30 19:40:03</td>\n      <td>107.0</td>\n      <td>5.79</td>\n      <td>5.80</td>\n      <td>6.35</td>\n      <td>-5.430000</td>\n      <td>-48.395720</td>\n      <td>194</td>\n      <td>73</td>\n      <td>0.458746</td>\n      <td>True</td>\n      <td>REGULAR</td>\n      <td>USD</td>\n    </tr>\n    <tr>\n      <th>13</th>\n      <td>AAPL201127C00108000</td>\n      <td>2020-10-30 19:57:07</td>\n      <td>108.0</td>\n      <td>5.55</td>\n      <td>5.35</td>\n      <td>6.05</td>\n      <td>-4.809999</td>\n      <td>-46.428566</td>\n      <td>598</td>\n      <td>368</td>\n      <td>0.477056</td>\n      <td>True</td>\n      <td>REGULAR</td>\n      <td>USD</td>\n    </tr>\n    <tr>\n      <th>14</th>\n      <td>AAPL201127C00109000</td>\n      <td>2020-10-30 19:58:28</td>\n      <td>109.0</td>\n      <td>5.20</td>\n      <td>4.85</td>\n      <td>5.20</td>\n      <td>-4.800000</td>\n      <td>-48.000000</td>\n      <td>979</td>\n      <td>110</td>\n      <td>0.446050</td>\n      <td>False</td>\n      <td>REGULAR</td>\n      <td>USD</td>\n    </tr>\n    <tr>\n      <th>15</th>\n      <td>AAPL201127C00110000</td>\n      <td>2020-10-30 19:59:05</td>\n      <td>110.0</td>\n      <td>4.65</td>\n      <td>4.35</td>\n      <td>4.80</td>\n      <td>-3.850000</td>\n      <td>-45.294117</td>\n      <td>7691</td>\n      <td>23795</td>\n      <td>0.450933</td>\n      <td>False</td>\n      <td>REGULAR</td>\n      <td>USD</td>\n    </tr>\n    <tr>\n      <th>16</th>\n      <td>AAPL201127C00111000</td>\n      <td>2020-10-30 19:56:33</td>\n      <td>111.0</td>\n      <td>4.10</td>\n      <td>4.05</td>\n      <td>4.30</td>\n      <td>-4.350000</td>\n      <td>-51.479294</td>\n      <td>1213</td>\n      <td>279</td>\n      <td>0.444708</td>\n      <td>False</td>\n      <td>REGULAR</td>\n      <td>USD</td>\n    </tr>\n    <tr>\n      <th>17</th>\n      <td>AAPL201127C00112000</td>\n      <td>2020-10-30 19:51:22</td>\n      <td>112.0</td>\n      <td>3.52</td>\n      <td>3.30</td>\n      <td>4.00</td>\n      <td>-4.830000</td>\n      <td>-57.844310</td>\n      <td>325</td>\n      <td>523</td>\n      <td>0.453130</td>\n      <td>False</td>\n      <td>REGULAR</td>\n      <td>USD</td>\n    </tr>\n    <tr>\n      <th>18</th>\n      <td>AAPL201127C00113000</td>\n      <td>2020-10-30 19:52:24</td>\n      <td>113.0</td>\n      <td>3.09</td>\n      <td>2.95</td>\n      <td>4.15</td>\n      <td>-4.060000</td>\n      <td>-56.783222</td>\n      <td>369</td>\n      <td>432</td>\n      <td>0.498418</td>\n      <td>False</td>\n      <td>REGULAR</td>\n      <td>USD</td>\n    </tr>\n    <tr>\n      <th>19</th>\n      <td>AAPL201127C00114000</td>\n      <td>2020-10-30 19:52:24</td>\n      <td>114.0</td>\n      <td>3.01</td>\n      <td>2.79</td>\n      <td>3.40</td>\n      <td>-3.790000</td>\n      <td>-55.735294</td>\n      <td>1129</td>\n      <td>380</td>\n      <td>0.463384</td>\n      <td>False</td>\n      <td>REGULAR</td>\n      <td>USD</td>\n    </tr>\n    <tr>\n      <th>20</th>\n      <td>AAPL201127C00115000</td>\n      <td>2020-10-30 19:58:42</td>\n      <td>115.0</td>\n      <td>2.69</td>\n      <td>2.46</td>\n      <td>2.73</td>\n      <td>-3.300000</td>\n      <td>-55.091816</td>\n      <td>2489</td>\n      <td>2172</td>\n      <td>0.431646</td>\n      <td>False</td>\n      <td>REGULAR</td>\n      <td>USD</td>\n    </tr>\n    <tr>\n      <th>21</th>\n      <td>AAPL201127C00116000</td>\n      <td>2020-10-30 19:57:16</td>\n      <td>116.0</td>\n      <td>2.37</td>\n      <td>2.05</td>\n      <td>2.60</td>\n      <td>-3.300000</td>\n      <td>-58.201060</td>\n      <td>859</td>\n      <td>1124</td>\n      <td>0.446417</td>\n      <td>False</td>\n      <td>REGULAR</td>\n      <td>USD</td>\n    </tr>\n    <tr>\n      <th>22</th>\n      <td>AAPL201127C00117000</td>\n      <td>2020-10-30 19:48:27</td>\n      <td>117.0</td>\n      <td>2.04</td>\n      <td>1.67</td>\n      <td>2.57</td>\n      <td>-2.960000</td>\n      <td>-59.200000</td>\n      <td>922</td>\n      <td>1127</td>\n      <td>0.469488</td>\n      <td>False</td>\n      <td>REGULAR</td>\n      <td>USD</td>\n    </tr>\n    <tr>\n      <th>23</th>\n      <td>AAPL201127C00118000</td>\n      <td>2020-10-30 19:53:09</td>\n      <td>118.0</td>\n      <td>1.67</td>\n      <td>1.50</td>\n      <td>2.09</td>\n      <td>-3.080000</td>\n      <td>-64.842100</td>\n      <td>367</td>\n      <td>861</td>\n      <td>0.446783</td>\n      <td>False</td>\n      <td>REGULAR</td>\n      <td>USD</td>\n    </tr>\n    <tr>\n      <th>24</th>\n      <td>AAPL201127C00119000</td>\n      <td>2020-10-30 19:53:09</td>\n      <td>119.0</td>\n      <td>1.48</td>\n      <td>1.36</td>\n      <td>1.85</td>\n      <td>-2.750000</td>\n      <td>-65.011820</td>\n      <td>143</td>\n      <td>983</td>\n      <td>0.445074</td>\n      <td>False</td>\n      <td>REGULAR</td>\n      <td>USD</td>\n    </tr>\n    <tr>\n      <th>25</th>\n      <td>AAPL201127C00120000</td>\n      <td>2020-10-30 19:59:17</td>\n      <td>120.0</td>\n      <td>1.42</td>\n      <td>1.25</td>\n      <td>1.50</td>\n      <td>-2.180000</td>\n      <td>-60.555553</td>\n      <td>7091</td>\n      <td>16609</td>\n      <td>0.428473</td>\n      <td>False</td>\n      <td>REGULAR</td>\n      <td>USD</td>\n    </tr>\n    <tr>\n      <th>26</th>\n      <td>AAPL201127C00121000</td>\n      <td>2020-10-30 19:53:11</td>\n      <td>121.0</td>\n      <td>1.23</td>\n      <td>1.06</td>\n      <td>1.48</td>\n      <td>-2.620000</td>\n      <td>-68.051950</td>\n      <td>336</td>\n      <td>1237</td>\n      <td>0.447027</td>\n      <td>False</td>\n      <td>REGULAR</td>\n      <td>USD</td>\n    </tr>\n    <tr>\n      <th>27</th>\n      <td>AAPL201127C00122000</td>\n      <td>2020-10-30 19:53:41</td>\n      <td>122.0</td>\n      <td>1.02</td>\n      <td>0.95</td>\n      <td>1.17</td>\n      <td>-2.330000</td>\n      <td>-69.552240</td>\n      <td>775</td>\n      <td>1221</td>\n      <td>0.428961</td>\n      <td>False</td>\n      <td>REGULAR</td>\n      <td>USD</td>\n    </tr>\n    <tr>\n      <th>28</th>\n      <td>AAPL201127C00123000</td>\n      <td>2020-10-30 19:59:36</td>\n      <td>123.0</td>\n      <td>0.99</td>\n      <td>0.80</td>\n      <td>1.05</td>\n      <td>-1.890000</td>\n      <td>-65.625000</td>\n      <td>317</td>\n      <td>866</td>\n      <td>0.432135</td>\n      <td>False</td>\n      <td>REGULAR</td>\n      <td>USD</td>\n    </tr>\n    <tr>\n      <th>29</th>\n      <td>AAPL201127C00124000</td>\n      <td>2020-10-30 19:15:47</td>\n      <td>124.0</td>\n      <td>0.80</td>\n      <td>0.76</td>\n      <td>1.05</td>\n      <td>-1.790000</td>\n      <td>-69.111970</td>\n      <td>548</td>\n      <td>1191</td>\n      <td>0.450445</td>\n      <td>False</td>\n      <td>REGULAR</td>\n      <td>USD</td>\n    </tr>\n    <tr>\n      <th>30</th>\n      <td>AAPL201127C00125000</td>\n      <td>2020-10-30 19:51:04</td>\n      <td>125.0</td>\n      <td>0.73</td>\n      <td>0.71</td>\n      <td>0.94</td>\n      <td>-1.550000</td>\n      <td>-67.982450</td>\n      <td>1538</td>\n      <td>7692</td>\n      <td>0.452642</td>\n      <td>False</td>\n      <td>REGULAR</td>\n      <td>USD</td>\n    </tr>\n    <tr>\n      <th>31</th>\n      <td>AAPL201127C00126000</td>\n      <td>2020-10-30 19:57:32</td>\n      <td>126.0</td>\n      <td>0.63</td>\n      <td>0.62</td>\n      <td>0.90</td>\n      <td>-1.430000</td>\n      <td>-69.417480</td>\n      <td>249</td>\n      <td>653</td>\n      <td>0.463873</td>\n      <td>False</td>\n      <td>REGULAR</td>\n      <td>USD</td>\n    </tr>\n    <tr>\n      <th>32</th>\n      <td>AAPL201127C00127000</td>\n      <td>2020-10-30 19:57:29</td>\n      <td>127.0</td>\n      <td>0.55</td>\n      <td>0.55</td>\n      <td>0.97</td>\n      <td>-1.410000</td>\n      <td>-71.938774</td>\n      <td>105</td>\n      <td>535</td>\n      <td>0.491704</td>\n      <td>False</td>\n      <td>REGULAR</td>\n      <td>USD</td>\n    </tr>\n    <tr>\n      <th>33</th>\n      <td>AAPL201127C00128000</td>\n      <td>2020-10-30 19:52:03</td>\n      <td>128.0</td>\n      <td>0.50</td>\n      <td>0.49</td>\n      <td>0.68</td>\n      <td>-1.000000</td>\n      <td>-66.666670</td>\n      <td>271</td>\n      <td>401</td>\n      <td>0.459966</td>\n      <td>False</td>\n      <td>REGULAR</td>\n      <td>USD</td>\n    </tr>\n    <tr>\n      <th>34</th>\n      <td>AAPL201127C00129000</td>\n      <td>2020-10-30 19:36:00</td>\n      <td>129.0</td>\n      <td>0.44</td>\n      <td>0.43</td>\n      <td>0.55</td>\n      <td>-1.220000</td>\n      <td>-73.493980</td>\n      <td>234</td>\n      <td>2518</td>\n      <td>0.450689</td>\n      <td>False</td>\n      <td>REGULAR</td>\n      <td>USD</td>\n    </tr>\n    <tr>\n      <th>35</th>\n      <td>AAPL201127C00130000</td>\n      <td>2020-10-30 19:57:31</td>\n      <td>130.0</td>\n      <td>0.40</td>\n      <td>0.38</td>\n      <td>0.65</td>\n      <td>-0.800000</td>\n      <td>-66.666670</td>\n      <td>1256</td>\n      <td>9326</td>\n      <td>0.485357</td>\n      <td>False</td>\n      <td>REGULAR</td>\n      <td>USD</td>\n    </tr>\n    <tr>\n      <th>36</th>\n      <td>AAPL201127C00131000</td>\n      <td>2020-10-30 19:49:49</td>\n      <td>131.0</td>\n      <td>0.35</td>\n      <td>0.34</td>\n      <td>0.55</td>\n      <td>-0.910000</td>\n      <td>-72.222220</td>\n      <td>146</td>\n      <td>244</td>\n      <td>0.480474</td>\n      <td>False</td>\n      <td>REGULAR</td>\n      <td>USD</td>\n    </tr>\n    <tr>\n      <th>37</th>\n      <td>AAPL201127C00132000</td>\n      <td>2020-10-30 19:58:19</td>\n      <td>132.0</td>\n      <td>0.34</td>\n      <td>0.31</td>\n      <td>0.66</td>\n      <td>-0.840000</td>\n      <td>-71.186430</td>\n      <td>158</td>\n      <td>109</td>\n      <td>0.517583</td>\n      <td>False</td>\n      <td>REGULAR</td>\n      <td>USD</td>\n    </tr>\n    <tr>\n      <th>38</th>\n      <td>AAPL201127C00133000</td>\n      <td>2020-10-30 19:03:54</td>\n      <td>133.0</td>\n      <td>0.29</td>\n      <td>0.27</td>\n      <td>0.48</td>\n      <td>-0.740000</td>\n      <td>-71.844660</td>\n      <td>107</td>\n      <td>399</td>\n      <td>0.493169</td>\n      <td>False</td>\n      <td>REGULAR</td>\n      <td>USD</td>\n    </tr>\n    <tr>\n      <th>39</th>\n      <td>AAPL201127C00134000</td>\n      <td>2020-10-30 19:09:34</td>\n      <td>134.0</td>\n      <td>0.25</td>\n      <td>0.24</td>\n      <td>0.57</td>\n      <td>-0.660000</td>\n      <td>-72.527470</td>\n      <td>108</td>\n      <td>292</td>\n      <td>0.527348</td>\n      <td>False</td>\n      <td>REGULAR</td>\n      <td>USD</td>\n    </tr>\n    <tr>\n      <th>40</th>\n      <td>AAPL201127C00135000</td>\n      <td>2020-10-30 19:57:31</td>\n      <td>135.0</td>\n      <td>0.24</td>\n      <td>0.21</td>\n      <td>0.25</td>\n      <td>-0.520000</td>\n      <td>-68.421050</td>\n      <td>695</td>\n      <td>1283</td>\n      <td>0.455084</td>\n      <td>False</td>\n      <td>REGULAR</td>\n      <td>USD</td>\n    </tr>\n    <tr>\n      <th>41</th>\n      <td>AAPL201127C00140000</td>\n      <td>2020-10-30 19:51:31</td>\n      <td>140.0</td>\n      <td>0.16</td>\n      <td>0.15</td>\n      <td>0.43</td>\n      <td>-0.300000</td>\n      <td>-65.217390</td>\n      <td>284</td>\n      <td>1288</td>\n      <td>0.529790</td>\n      <td>False</td>\n      <td>REGULAR</td>\n      <td>USD</td>\n    </tr>\n    <tr>\n      <th>42</th>\n      <td>AAPL201127C00145000</td>\n      <td>2020-10-30 19:31:09</td>\n      <td>145.0</td>\n      <td>0.12</td>\n      <td>0.10</td>\n      <td>0.14</td>\n      <td>-0.220000</td>\n      <td>-64.705880</td>\n      <td>383</td>\n      <td>1430</td>\n      <td>0.507817</td>\n      <td>False</td>\n      <td>REGULAR</td>\n      <td>USD</td>\n    </tr>\n    <tr>\n      <th>43</th>\n      <td>AAPL201127C00150000</td>\n      <td>2020-10-30 19:59:19</td>\n      <td>150.0</td>\n      <td>0.10</td>\n      <td>0.08</td>\n      <td>0.13</td>\n      <td>-0.150000</td>\n      <td>-60.000004</td>\n      <td>272</td>\n      <td>780</td>\n      <td>0.546880</td>\n      <td>False</td>\n      <td>REGULAR</td>\n      <td>USD</td>\n    </tr>\n    <tr>\n      <th>44</th>\n      <td>AAPL201127C00155000</td>\n      <td>2020-10-30 19:56:17</td>\n      <td>155.0</td>\n      <td>0.07</td>\n      <td>0.05</td>\n      <td>0.08</td>\n      <td>-0.110000</td>\n      <td>-61.111110</td>\n      <td>611</td>\n      <td>1993</td>\n      <td>0.556645</td>\n      <td>False</td>\n      <td>REGULAR</td>\n      <td>USD</td>\n    </tr>\n    <tr>\n      <th>45</th>\n      <td>AAPL201127C00160000</td>\n      <td>2020-10-30 19:55:29</td>\n      <td>160.0</td>\n      <td>0.06</td>\n      <td>0.02</td>\n      <td>0.10</td>\n      <td>-0.080000</td>\n      <td>-57.142853</td>\n      <td>636</td>\n      <td>249</td>\n      <td>0.593754</td>\n      <td>False</td>\n      <td>REGULAR</td>\n      <td>USD</td>\n    </tr>\n    <tr>\n      <th>46</th>\n      <td>AAPL201127C00165000</td>\n      <td>2020-10-30 15:07:38</td>\n      <td>165.0</td>\n      <td>0.05</td>\n      <td>0.05</td>\n      <td>0.09</td>\n      <td>-0.070000</td>\n      <td>-58.333332</td>\n      <td>18</td>\n      <td>125</td>\n      <td>0.644535</td>\n      <td>False</td>\n      <td>REGULAR</td>\n      <td>USD</td>\n    </tr>\n    <tr>\n      <th>47</th>\n      <td>AAPL201127C00170000</td>\n      <td>2020-10-30 17:38:28</td>\n      <td>170.0</td>\n      <td>0.06</td>\n      <td>0.04</td>\n      <td>0.08</td>\n      <td>-0.040000</td>\n      <td>-40.000004</td>\n      <td>10</td>\n      <td>175</td>\n      <td>0.671878</td>\n      <td>False</td>\n      <td>REGULAR</td>\n      <td>USD</td>\n    </tr>\n    <tr>\n      <th>48</th>\n      <td>AAPL201127C00175000</td>\n      <td>2020-10-30 16:03:54</td>\n      <td>175.0</td>\n      <td>0.03</td>\n      <td>0.01</td>\n      <td>0.08</td>\n      <td>-0.040000</td>\n      <td>-57.142853</td>\n      <td>24</td>\n      <td>31</td>\n      <td>0.687503</td>\n      <td>False</td>\n      <td>REGULAR</td>\n      <td>USD</td>\n    </tr>\n  </tbody>\n</table>\n</div>",
            "text/plain": "         contractSymbol       lastTradeDate  strike  lastPrice    bid    ask  \\\n0   AAPL201127C00070000 2020-10-29 14:54:49    70.0      44.75  38.75  39.60   \n1   AAPL201127C00080000 2020-10-29 14:44:08    80.0      29.00  28.85  29.90   \n2   AAPL201127C00085000 2020-10-30 17:59:57    85.0      23.75  23.95  24.85   \n3   AAPL201127C00090000 2020-10-30 18:58:52    90.0      18.91  19.15  20.05   \n4   AAPL201127C00095000 2020-10-30 19:30:01    95.0      14.50  14.10  15.75   \n5   AAPL201127C00100000 2020-10-30 19:46:45   100.0      10.30  10.45  11.30   \n6   AAPL201127C00101000 2020-10-30 19:45:01   101.0       9.75   9.25  10.35   \n7   AAPL201127C00102000 2020-10-30 19:26:52   102.0       8.75   8.45   9.90   \n8   AAPL201127C00103000 2020-10-30 19:33:34   103.0       8.06   7.55   8.90   \n9   AAPL201127C00104000 2020-10-30 19:28:03   104.0       7.41   6.90   8.90   \n10  AAPL201127C00105000 2020-10-30 19:56:03   105.0       6.95   7.20   7.70   \n11  AAPL201127C00106000 2020-10-30 19:59:34   106.0       6.75   6.40   6.95   \n12  AAPL201127C00107000 2020-10-30 19:40:03   107.0       5.79   5.80   6.35   \n13  AAPL201127C00108000 2020-10-30 19:57:07   108.0       5.55   5.35   6.05   \n14  AAPL201127C00109000 2020-10-30 19:58:28   109.0       5.20   4.85   5.20   \n15  AAPL201127C00110000 2020-10-30 19:59:05   110.0       4.65   4.35   4.80   \n16  AAPL201127C00111000 2020-10-30 19:56:33   111.0       4.10   4.05   4.30   \n17  AAPL201127C00112000 2020-10-30 19:51:22   112.0       3.52   3.30   4.00   \n18  AAPL201127C00113000 2020-10-30 19:52:24   113.0       3.09   2.95   4.15   \n19  AAPL201127C00114000 2020-10-30 19:52:24   114.0       3.01   2.79   3.40   \n20  AAPL201127C00115000 2020-10-30 19:58:42   115.0       2.69   2.46   2.73   \n21  AAPL201127C00116000 2020-10-30 19:57:16   116.0       2.37   2.05   2.60   \n22  AAPL201127C00117000 2020-10-30 19:48:27   117.0       2.04   1.67   2.57   \n23  AAPL201127C00118000 2020-10-30 19:53:09   118.0       1.67   1.50   2.09   \n24  AAPL201127C00119000 2020-10-30 19:53:09   119.0       1.48   1.36   1.85   \n25  AAPL201127C00120000 2020-10-30 19:59:17   120.0       1.42   1.25   1.50   \n26  AAPL201127C00121000 2020-10-30 19:53:11   121.0       1.23   1.06   1.48   \n27  AAPL201127C00122000 2020-10-30 19:53:41   122.0       1.02   0.95   1.17   \n28  AAPL201127C00123000 2020-10-30 19:59:36   123.0       0.99   0.80   1.05   \n29  AAPL201127C00124000 2020-10-30 19:15:47   124.0       0.80   0.76   1.05   \n30  AAPL201127C00125000 2020-10-30 19:51:04   125.0       0.73   0.71   0.94   \n31  AAPL201127C00126000 2020-10-30 19:57:32   126.0       0.63   0.62   0.90   \n32  AAPL201127C00127000 2020-10-30 19:57:29   127.0       0.55   0.55   0.97   \n33  AAPL201127C00128000 2020-10-30 19:52:03   128.0       0.50   0.49   0.68   \n34  AAPL201127C00129000 2020-10-30 19:36:00   129.0       0.44   0.43   0.55   \n35  AAPL201127C00130000 2020-10-30 19:57:31   130.0       0.40   0.38   0.65   \n36  AAPL201127C00131000 2020-10-30 19:49:49   131.0       0.35   0.34   0.55   \n37  AAPL201127C00132000 2020-10-30 19:58:19   132.0       0.34   0.31   0.66   \n38  AAPL201127C00133000 2020-10-30 19:03:54   133.0       0.29   0.27   0.48   \n39  AAPL201127C00134000 2020-10-30 19:09:34   134.0       0.25   0.24   0.57   \n40  AAPL201127C00135000 2020-10-30 19:57:31   135.0       0.24   0.21   0.25   \n41  AAPL201127C00140000 2020-10-30 19:51:31   140.0       0.16   0.15   0.43   \n42  AAPL201127C00145000 2020-10-30 19:31:09   145.0       0.12   0.10   0.14   \n43  AAPL201127C00150000 2020-10-30 19:59:19   150.0       0.10   0.08   0.13   \n44  AAPL201127C00155000 2020-10-30 19:56:17   155.0       0.07   0.05   0.08   \n45  AAPL201127C00160000 2020-10-30 19:55:29   160.0       0.06   0.02   0.10   \n46  AAPL201127C00165000 2020-10-30 15:07:38   165.0       0.05   0.05   0.09   \n47  AAPL201127C00170000 2020-10-30 17:38:28   170.0       0.06   0.04   0.08   \n48  AAPL201127C00175000 2020-10-30 16:03:54   175.0       0.03   0.01   0.08   \n\n      change  percentChange  volume  openInterest  impliedVolatility  \\\n0   0.000000       0.000000     202           252           0.907227   \n1  -5.479999     -15.893270       1            29           0.741214   \n2  -7.549999     -24.121403      13           466           0.627933   \n3  -5.190001     -21.535270       3            46           0.555180   \n4  -6.690001     -31.571499      65            56           0.602055   \n5  -6.380000     -38.249400     194           561           0.515142   \n6  -3.950000     -28.832117      24             7           0.488775   \n7  -7.090000     -44.760100      34            46           0.510991   \n8  -4.200000     -34.257744      34            30           0.477056   \n9  -4.290000     -36.666668      63            26           0.534673   \n10 -5.790000     -45.447410     194           178           0.479375   \n11 -5.400000     -44.444443     201            69           0.463628   \n12 -5.430000     -48.395720     194            73           0.458746   \n13 -4.809999     -46.428566     598           368           0.477056   \n14 -4.800000     -48.000000     979           110           0.446050   \n15 -3.850000     -45.294117    7691         23795           0.450933   \n16 -4.350000     -51.479294    1213           279           0.444708   \n17 -4.830000     -57.844310     325           523           0.453130   \n18 -4.060000     -56.783222     369           432           0.498418   \n19 -3.790000     -55.735294    1129           380           0.463384   \n20 -3.300000     -55.091816    2489          2172           0.431646   \n21 -3.300000     -58.201060     859          1124           0.446417   \n22 -2.960000     -59.200000     922          1127           0.469488   \n23 -3.080000     -64.842100     367           861           0.446783   \n24 -2.750000     -65.011820     143           983           0.445074   \n25 -2.180000     -60.555553    7091         16609           0.428473   \n26 -2.620000     -68.051950     336          1237           0.447027   \n27 -2.330000     -69.552240     775          1221           0.428961   \n28 -1.890000     -65.625000     317           866           0.432135   \n29 -1.790000     -69.111970     548          1191           0.450445   \n30 -1.550000     -67.982450    1538          7692           0.452642   \n31 -1.430000     -69.417480     249           653           0.463873   \n32 -1.410000     -71.938774     105           535           0.491704   \n33 -1.000000     -66.666670     271           401           0.459966   \n34 -1.220000     -73.493980     234          2518           0.450689   \n35 -0.800000     -66.666670    1256          9326           0.485357   \n36 -0.910000     -72.222220     146           244           0.480474   \n37 -0.840000     -71.186430     158           109           0.517583   \n38 -0.740000     -71.844660     107           399           0.493169   \n39 -0.660000     -72.527470     108           292           0.527348   \n40 -0.520000     -68.421050     695          1283           0.455084   \n41 -0.300000     -65.217390     284          1288           0.529790   \n42 -0.220000     -64.705880     383          1430           0.507817   \n43 -0.150000     -60.000004     272           780           0.546880   \n44 -0.110000     -61.111110     611          1993           0.556645   \n45 -0.080000     -57.142853     636           249           0.593754   \n46 -0.070000     -58.333332      18           125           0.644535   \n47 -0.040000     -40.000004      10           175           0.671878   \n48 -0.040000     -57.142853      24            31           0.687503   \n\n    inTheMoney contractSize currency  \n0         True      REGULAR      USD  \n1         True      REGULAR      USD  \n2         True      REGULAR      USD  \n3         True      REGULAR      USD  \n4         True      REGULAR      USD  \n5         True      REGULAR      USD  \n6         True      REGULAR      USD  \n7         True      REGULAR      USD  \n8         True      REGULAR      USD  \n9         True      REGULAR      USD  \n10        True      REGULAR      USD  \n11        True      REGULAR      USD  \n12        True      REGULAR      USD  \n13        True      REGULAR      USD  \n14       False      REGULAR      USD  \n15       False      REGULAR      USD  \n16       False      REGULAR      USD  \n17       False      REGULAR      USD  \n18       False      REGULAR      USD  \n19       False      REGULAR      USD  \n20       False      REGULAR      USD  \n21       False      REGULAR      USD  \n22       False      REGULAR      USD  \n23       False      REGULAR      USD  \n24       False      REGULAR      USD  \n25       False      REGULAR      USD  \n26       False      REGULAR      USD  \n27       False      REGULAR      USD  \n28       False      REGULAR      USD  \n29       False      REGULAR      USD  \n30       False      REGULAR      USD  \n31       False      REGULAR      USD  \n32       False      REGULAR      USD  \n33       False      REGULAR      USD  \n34       False      REGULAR      USD  \n35       False      REGULAR      USD  \n36       False      REGULAR      USD  \n37       False      REGULAR      USD  \n38       False      REGULAR      USD  \n39       False      REGULAR      USD  \n40       False      REGULAR      USD  \n41       False      REGULAR      USD  \n42       False      REGULAR      USD  \n43       False      REGULAR      USD  \n44       False      REGULAR      USD  \n45       False      REGULAR      USD  \n46       False      REGULAR      USD  \n47       False      REGULAR      USD  \n48       False      REGULAR      USD  "
          },
          "metadata": {}
        }
      ],
      "execution_count": 5,
      "metadata": {
        "collapsed": true,
        "jupyter": {
          "source_hidden": false,
          "outputs_hidden": false
        },
        "nteract": {
          "transient": {
            "deleting": false
          }
        },
        "execution": {
          "iopub.status.busy": "2020-11-01T05:31:32.332Z",
          "iopub.execute_input": "2020-11-01T05:31:32.343Z",
          "iopub.status.idle": "2020-11-01T05:31:32.396Z",
          "shell.execute_reply": "2020-11-01T05:31:33.082Z"
        }
      }
    },
    {
      "cell_type": "code",
      "source": [
        "df = yf.download(\"AAPL\")"
      ],
      "outputs": [
        {
          "output_type": "stream",
          "name": "stdout",
          "text": [
            "[*********************100%***********************]  1 of 1 completed\n"
          ]
        }
      ],
      "execution_count": 6,
      "metadata": {
        "collapsed": true,
        "jupyter": {
          "source_hidden": false,
          "outputs_hidden": false
        },
        "nteract": {
          "transient": {
            "deleting": false
          }
        },
        "execution": {
          "iopub.status.busy": "2020-11-01T05:31:32.407Z",
          "iopub.execute_input": "2020-11-01T05:31:32.412Z",
          "iopub.status.idle": "2020-11-01T05:31:32.873Z",
          "shell.execute_reply": "2020-11-01T05:31:33.086Z"
        }
      }
    },
    {
      "cell_type": "code",
      "source": [
        "df.head()"
      ],
      "outputs": [
        {
          "output_type": "execute_result",
          "execution_count": 7,
          "data": {
            "text/html": "<div>\n<style scoped>\n    .dataframe tbody tr th:only-of-type {\n        vertical-align: middle;\n    }\n\n    .dataframe tbody tr th {\n        vertical-align: top;\n    }\n\n    .dataframe thead th {\n        text-align: right;\n    }\n</style>\n<table border=\"1\" class=\"dataframe\">\n  <thead>\n    <tr style=\"text-align: right;\">\n      <th></th>\n      <th>Adj Close</th>\n      <th>Close</th>\n      <th>High</th>\n      <th>Low</th>\n      <th>Open</th>\n      <th>Volume</th>\n    </tr>\n    <tr>\n      <th>Date</th>\n      <th></th>\n      <th></th>\n      <th></th>\n      <th></th>\n      <th></th>\n      <th></th>\n    </tr>\n  </thead>\n  <tbody>\n    <tr>\n      <th>1980-12-12</th>\n      <td>0.101261</td>\n      <td>0.128348</td>\n      <td>0.128906</td>\n      <td>0.128348</td>\n      <td>0.128348</td>\n      <td>469033600</td>\n    </tr>\n    <tr>\n      <th>1980-12-15</th>\n      <td>0.095978</td>\n      <td>0.121652</td>\n      <td>0.122210</td>\n      <td>0.121652</td>\n      <td>0.122210</td>\n      <td>175884800</td>\n    </tr>\n    <tr>\n      <th>1980-12-16</th>\n      <td>0.088934</td>\n      <td>0.112723</td>\n      <td>0.113281</td>\n      <td>0.112723</td>\n      <td>0.113281</td>\n      <td>105728000</td>\n    </tr>\n    <tr>\n      <th>1980-12-17</th>\n      <td>0.091135</td>\n      <td>0.115513</td>\n      <td>0.116071</td>\n      <td>0.115513</td>\n      <td>0.115513</td>\n      <td>86441600</td>\n    </tr>\n    <tr>\n      <th>1980-12-18</th>\n      <td>0.093777</td>\n      <td>0.118862</td>\n      <td>0.119420</td>\n      <td>0.118862</td>\n      <td>0.118862</td>\n      <td>73449600</td>\n    </tr>\n  </tbody>\n</table>\n</div>",
            "text/plain": "            Adj Close     Close      High       Low      Open     Volume\nDate                                                                    \n1980-12-12   0.101261  0.128348  0.128906  0.128348  0.128348  469033600\n1980-12-15   0.095978  0.121652  0.122210  0.121652  0.122210  175884800\n1980-12-16   0.088934  0.112723  0.113281  0.112723  0.113281  105728000\n1980-12-17   0.091135  0.115513  0.116071  0.115513  0.115513   86441600\n1980-12-18   0.093777  0.118862  0.119420  0.118862  0.118862   73449600"
          },
          "metadata": {}
        }
      ],
      "execution_count": 7,
      "metadata": {
        "collapsed": true,
        "jupyter": {
          "source_hidden": false,
          "outputs_hidden": false
        },
        "nteract": {
          "transient": {
            "deleting": false
          }
        },
        "execution": {
          "iopub.status.busy": "2020-11-01T05:31:32.887Z",
          "iopub.execute_input": "2020-11-01T05:31:32.894Z",
          "iopub.status.idle": "2020-11-01T05:31:32.912Z",
          "shell.execute_reply": "2020-11-01T05:31:33.089Z"
        }
      }
    },
    {
      "cell_type": "code",
      "source": [
        "df.tail()"
      ],
      "outputs": [
        {
          "output_type": "execute_result",
          "execution_count": 8,
          "data": {
            "text/html": "<div>\n<style scoped>\n    .dataframe tbody tr th:only-of-type {\n        vertical-align: middle;\n    }\n\n    .dataframe tbody tr th {\n        vertical-align: top;\n    }\n\n    .dataframe thead th {\n        text-align: right;\n    }\n</style>\n<table border=\"1\" class=\"dataframe\">\n  <thead>\n    <tr style=\"text-align: right;\">\n      <th></th>\n      <th>Adj Close</th>\n      <th>Close</th>\n      <th>High</th>\n      <th>Low</th>\n      <th>Open</th>\n      <th>Volume</th>\n    </tr>\n    <tr>\n      <th>Date</th>\n      <th></th>\n      <th></th>\n      <th></th>\n      <th></th>\n      <th></th>\n      <th></th>\n    </tr>\n  </thead>\n  <tbody>\n    <tr>\n      <th>2020-10-26</th>\n      <td>115.050003</td>\n      <td>115.050003</td>\n      <td>116.550003</td>\n      <td>112.879997</td>\n      <td>114.010002</td>\n      <td>111850700</td>\n    </tr>\n    <tr>\n      <th>2020-10-27</th>\n      <td>116.599998</td>\n      <td>116.599998</td>\n      <td>117.279999</td>\n      <td>114.540001</td>\n      <td>115.489998</td>\n      <td>92276800</td>\n    </tr>\n    <tr>\n      <th>2020-10-28</th>\n      <td>111.199997</td>\n      <td>111.199997</td>\n      <td>115.430000</td>\n      <td>111.099998</td>\n      <td>115.050003</td>\n      <td>143937800</td>\n    </tr>\n    <tr>\n      <th>2020-10-29</th>\n      <td>115.320000</td>\n      <td>115.320000</td>\n      <td>116.930000</td>\n      <td>112.199997</td>\n      <td>112.370003</td>\n      <td>146129200</td>\n    </tr>\n    <tr>\n      <th>2020-10-30</th>\n      <td>108.860001</td>\n      <td>108.860001</td>\n      <td>111.989998</td>\n      <td>107.720001</td>\n      <td>111.059998</td>\n      <td>190272600</td>\n    </tr>\n  </tbody>\n</table>\n</div>",
            "text/plain": "             Adj Close       Close        High         Low        Open  \\\nDate                                                                     \n2020-10-26  115.050003  115.050003  116.550003  112.879997  114.010002   \n2020-10-27  116.599998  116.599998  117.279999  114.540001  115.489998   \n2020-10-28  111.199997  111.199997  115.430000  111.099998  115.050003   \n2020-10-29  115.320000  115.320000  116.930000  112.199997  112.370003   \n2020-10-30  108.860001  108.860001  111.989998  107.720001  111.059998   \n\n               Volume  \nDate                   \n2020-10-26  111850700  \n2020-10-27   92276800  \n2020-10-28  143937800  \n2020-10-29  146129200  \n2020-10-30  190272600  "
          },
          "metadata": {}
        }
      ],
      "execution_count": 8,
      "metadata": {
        "collapsed": true,
        "jupyter": {
          "source_hidden": false,
          "outputs_hidden": false
        },
        "nteract": {
          "transient": {
            "deleting": false
          }
        },
        "execution": {
          "iopub.status.busy": "2020-11-01T05:31:32.924Z",
          "iopub.execute_input": "2020-11-01T05:31:32.931Z",
          "iopub.status.idle": "2020-11-01T05:31:32.946Z",
          "shell.execute_reply": "2020-11-01T05:31:33.095Z"
        }
      }
    },
    {
      "cell_type": "code",
      "source": [
        "df['Adj Close'][-1]"
      ],
      "outputs": [
        {
          "output_type": "execute_result",
          "execution_count": 9,
          "data": {
            "text/plain": "108.86000061035156"
          },
          "metadata": {}
        }
      ],
      "execution_count": 9,
      "metadata": {
        "collapsed": true,
        "jupyter": {
          "source_hidden": false,
          "outputs_hidden": false
        },
        "nteract": {
          "transient": {
            "deleting": false
          }
        },
        "execution": {
          "iopub.status.busy": "2020-11-01T05:31:32.956Z",
          "iopub.execute_input": "2020-11-01T05:31:32.962Z",
          "iopub.status.idle": "2020-11-01T05:31:32.979Z",
          "shell.execute_reply": "2020-11-01T05:31:33.098Z"
        }
      }
    },
    {
      "cell_type": "code",
      "source": [
        "K1 = dfo_exp.calls['strike'][11]\n",
        "K2 = dfo_exp.calls['strike'][13]\n",
        "K3 = dfo_exp.calls['strike'][15]"
      ],
      "outputs": [],
      "execution_count": 10,
      "metadata": {
        "collapsed": true,
        "jupyter": {
          "source_hidden": false,
          "outputs_hidden": false
        },
        "nteract": {
          "transient": {
            "deleting": false
          }
        },
        "execution": {
          "iopub.status.busy": "2020-11-01T05:31:32.989Z",
          "iopub.execute_input": "2020-11-01T05:31:32.994Z",
          "iopub.status.idle": "2020-11-01T05:31:33.002Z",
          "shell.execute_reply": "2020-11-01T05:31:33.102Z"
        }
      }
    },
    {
      "cell_type": "code",
      "source": [
        "CurrentStockPrice = df['Adj Close'][-1]"
      ],
      "outputs": [],
      "execution_count": 11,
      "metadata": {
        "collapsed": true,
        "jupyter": {
          "source_hidden": false,
          "outputs_hidden": false
        },
        "nteract": {
          "transient": {
            "deleting": false
          }
        },
        "execution": {
          "iopub.status.busy": "2020-11-01T05:31:33.011Z",
          "iopub.execute_input": "2020-11-01T05:31:33.018Z",
          "iopub.status.idle": "2020-11-01T05:31:33.028Z",
          "shell.execute_reply": "2020-11-01T05:31:33.105Z"
        }
      }
    },
    {
      "cell_type": "code",
      "source": [
        "i = 0\n",
        "while i < 10:\n",
        "    CurrentStockPrice = CurrentStockPrice + 25\n",
        "    payoff = 0\n",
        "    if (CurrentStockPrice > K1 and CurrentStockPrice <= K2):\n",
        "         payoff = CurrentStockPrice - K1\n",
        "    elif (CurrentStockPrice > K2 and CurrentStockPrice < K3):\n",
        "         payoff = K3 - CurrentStockPrice\n",
        "    elif (CurrentStockPrice <= K1):\n",
        "         payoff = 0\n",
        "    elif (CurrentStockPrice >= K3):\n",
        "         payoff  = 0       \n",
        "    else:\n",
        "         payoff  = 0      \n",
        "    print(\"Stock price: %2.2f\"%CurrentStockPrice)\n",
        "    print(\"Payoff from butterfly spread: %2.2f\"%payoff)\n",
        "    print(\"-\"*35)\n",
        "    i = i + 1\n",
        "    \n",
        "while i >= 0:\n",
        "    CurrentStockPrice = CurrentStockPrice - 25\n",
        "    payoff = 0\n",
        "    if (CurrentStockPrice > K1 and CurrentStockPrice <= K2):\n",
        "        payoff = CurrentStockPrice - K1\n",
        "    elif (CurrentStockPrice > K2 and CurrentStockPrice < K3):\n",
        "        payoff = K3 - CurrentStockPrice\n",
        "    elif (CurrentStockPrice <= K1):\n",
        "        payoff  = 0\n",
        "    elif (CurrentStockPrice >= K3):\n",
        "        payoff  = 0     \n",
        "    else:\n",
        "        payoff  = 0     \n",
        "\n",
        "    print(\"Stock price: %2.2f\"%CurrentStockPrice)\n",
        "    print(\"Payoff from butterfly spread: %2.2f\"%payoff)\n",
        "    print(\"-\"*35)\n",
        "    i = i - 1"
      ],
      "outputs": [
        {
          "output_type": "stream",
          "name": "stdout",
          "text": [
            "Stock price: 133.86\n",
            "Payoff from butterfly spread: 0.00\n",
            "-----------------------------------\n",
            "Stock price: 158.86\n",
            "Payoff from butterfly spread: 0.00\n",
            "-----------------------------------\n",
            "Stock price: 183.86\n",
            "Payoff from butterfly spread: 0.00\n",
            "-----------------------------------\n",
            "Stock price: 208.86\n",
            "Payoff from butterfly spread: 0.00\n",
            "-----------------------------------\n",
            "Stock price: 233.86\n",
            "Payoff from butterfly spread: 0.00\n",
            "-----------------------------------\n",
            "Stock price: 258.86\n",
            "Payoff from butterfly spread: 0.00\n",
            "-----------------------------------\n",
            "Stock price: 283.86\n",
            "Payoff from butterfly spread: 0.00\n",
            "-----------------------------------\n",
            "Stock price: 308.86\n",
            "Payoff from butterfly spread: 0.00\n",
            "-----------------------------------\n",
            "Stock price: 333.86\n",
            "Payoff from butterfly spread: 0.00\n",
            "-----------------------------------\n",
            "Stock price: 358.86\n",
            "Payoff from butterfly spread: 0.00\n",
            "-----------------------------------\n",
            "Stock price: 333.86\n",
            "Payoff from butterfly spread: 0.00\n",
            "-----------------------------------\n",
            "Stock price: 308.86\n",
            "Payoff from butterfly spread: 0.00\n",
            "-----------------------------------\n",
            "Stock price: 283.86\n",
            "Payoff from butterfly spread: 0.00\n",
            "-----------------------------------\n",
            "Stock price: 258.86\n",
            "Payoff from butterfly spread: 0.00\n",
            "-----------------------------------\n",
            "Stock price: 233.86\n",
            "Payoff from butterfly spread: 0.00\n",
            "-----------------------------------\n",
            "Stock price: 208.86\n",
            "Payoff from butterfly spread: 0.00\n",
            "-----------------------------------\n",
            "Stock price: 183.86\n",
            "Payoff from butterfly spread: 0.00\n",
            "-----------------------------------\n",
            "Stock price: 158.86\n",
            "Payoff from butterfly spread: 0.00\n",
            "-----------------------------------\n",
            "Stock price: 133.86\n",
            "Payoff from butterfly spread: 0.00\n",
            "-----------------------------------\n",
            "Stock price: 108.86\n",
            "Payoff from butterfly spread: 1.14\n",
            "-----------------------------------\n",
            "Stock price: 83.86\n",
            "Payoff from butterfly spread: 0.00\n",
            "-----------------------------------\n"
          ]
        }
      ],
      "execution_count": 12,
      "metadata": {
        "collapsed": true,
        "jupyter": {
          "source_hidden": false,
          "outputs_hidden": false
        },
        "nteract": {
          "transient": {
            "deleting": false
          }
        },
        "execution": {
          "iopub.status.busy": "2020-11-01T05:31:33.037Z",
          "iopub.execute_input": "2020-11-01T05:31:33.042Z",
          "iopub.status.idle": "2020-11-01T05:31:33.054Z",
          "shell.execute_reply": "2020-11-01T05:31:33.108Z"
        }
      }
    }
  ],
  "metadata": {
    "kernel_info": {
      "name": "python3"
    },
    "language_info": {
      "nbconvert_exporter": "python",
      "mimetype": "text/x-python",
      "pygments_lexer": "ipython3",
      "codemirror_mode": {
        "version": 3,
        "name": "ipython"
      },
      "version": "3.5.5",
      "file_extension": ".py",
      "name": "python"
    },
    "kernelspec": {
      "argv": [
        "C:\\Users\\Tin Hang\\Anaconda3\\envs\\py35\\python.exe",
        "-m",
        "ipykernel_launcher",
        "-f",
        "{connection_file}"
      ],
      "display_name": "Python 3",
      "language": "python",
      "name": "python3"
    },
    "nteract": {
      "version": "0.26.0"
    }
  },
  "nbformat": 4,
  "nbformat_minor": 0
}