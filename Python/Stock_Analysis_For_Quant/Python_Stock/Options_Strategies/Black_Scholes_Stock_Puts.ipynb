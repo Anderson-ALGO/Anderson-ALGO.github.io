{
  "cells": [
    {
      "cell_type": "markdown",
      "source": [
        "# Black Scholes Stock Puts Inputs"
      ],
      "metadata": {
        "nteract": {
          "transient": {
            "deleting": false
          }
        }
      }
    },
    {
      "cell_type": "code",
      "source": [
        "import numpy as np\n",
        "import scipy.stats as ss\n",
        "import matplotlib.pyplot as plt\n",
        "import yfinance as yf"
      ],
      "outputs": [],
      "execution_count": 1,
      "metadata": {
        "collapsed": true,
        "outputExpanded": false,
        "jupyter": {
          "source_hidden": false,
          "outputs_hidden": false
        },
        "nteract": {
          "transient": {
            "deleting": false
          }
        },
        "execution": {
          "iopub.status.busy": "2020-04-12T20:25:18.733Z",
          "iopub.execute_input": "2020-04-12T20:25:18.739Z",
          "iopub.status.idle": "2020-04-12T20:25:20.060Z",
          "shell.execute_reply": "2020-04-12T20:25:20.107Z"
        }
      }
    },
    {
      "cell_type": "code",
      "source": [
        "dfo = yf.Ticker(\"AAPL\")"
      ],
      "outputs": [],
      "execution_count": 2,
      "metadata": {
        "collapsed": true,
        "outputExpanded": false,
        "jupyter": {
          "source_hidden": false,
          "outputs_hidden": false
        },
        "nteract": {
          "transient": {
            "deleting": false
          }
        },
        "execution": {
          "iopub.status.busy": "2020-04-12T20:25:20.069Z",
          "iopub.execute_input": "2020-04-12T20:25:20.076Z",
          "iopub.status.idle": "2020-04-12T20:25:20.087Z",
          "shell.execute_reply": "2020-04-12T20:25:20.111Z"
        }
      }
    },
    {
      "cell_type": "code",
      "source": [
        "dfo.options"
      ],
      "outputs": [
        {
          "output_type": "execute_result",
          "execution_count": 3,
          "data": {
            "text/plain": [
              "('2020-10-15',\n",
              " '2020-04-23',\n",
              " '2021-09-16',\n",
              " '2020-04-30',\n",
              " '2021-01-14',\n",
              " '2020-06-18',\n",
              " '2021-06-17',\n",
              " '2020-12-17',\n",
              " '2020-05-21',\n",
              " '2022-01-20',\n",
              " '2020-09-17',\n",
              " '2020-04-16',\n",
              " '2022-06-16',\n",
              " '2020-05-14',\n",
              " '2020-05-07',\n",
              " '2020-05-28',\n",
              " '2020-07-16')"
            ]
          },
          "metadata": {}
        }
      ],
      "execution_count": 3,
      "metadata": {
        "collapsed": true,
        "outputExpanded": false,
        "jupyter": {
          "source_hidden": false,
          "outputs_hidden": false
        },
        "nteract": {
          "transient": {
            "deleting": false
          }
        },
        "execution": {
          "iopub.status.busy": "2020-04-12T20:25:20.094Z",
          "iopub.execute_input": "2020-04-12T20:25:20.097Z",
          "iopub.status.idle": "2020-04-12T20:25:21.401Z",
          "shell.execute_reply": "2020-04-12T20:25:21.430Z"
        }
      }
    },
    {
      "cell_type": "code",
      "source": [
        "dfo_exp = dfo.option_chain('2020-05-28')"
      ],
      "outputs": [],
      "execution_count": 4,
      "metadata": {
        "collapsed": true,
        "outputExpanded": false,
        "jupyter": {
          "source_hidden": false,
          "outputs_hidden": false
        },
        "nteract": {
          "transient": {
            "deleting": false
          }
        },
        "execution": {
          "iopub.status.busy": "2020-04-12T20:25:21.409Z",
          "iopub.execute_input": "2020-04-12T20:25:21.413Z",
          "iopub.status.idle": "2020-04-12T20:25:21.549Z",
          "shell.execute_reply": "2020-04-12T20:25:21.810Z"
        }
      }
    },
    {
      "cell_type": "code",
      "source": [
        "dfo_exp.puts"
      ],
      "outputs": [
        {
          "output_type": "execute_result",
          "execution_count": 5,
          "data": {
            "text/html": [
              "<div>\n",
              "<style scoped>\n",
              "    .dataframe tbody tr th:only-of-type {\n",
              "        vertical-align: middle;\n",
              "    }\n",
              "\n",
              "    .dataframe tbody tr th {\n",
              "        vertical-align: top;\n",
              "    }\n",
              "\n",
              "    .dataframe thead th {\n",
              "        text-align: right;\n",
              "    }\n",
              "</style>\n",
              "<table border=\"1\" class=\"dataframe\">\n",
              "  <thead>\n",
              "    <tr style=\"text-align: right;\">\n",
              "      <th></th>\n",
              "      <th>contractSymbol</th>\n",
              "      <th>lastTradeDate</th>\n",
              "      <th>strike</th>\n",
              "      <th>lastPrice</th>\n",
              "      <th>bid</th>\n",
              "      <th>ask</th>\n",
              "      <th>change</th>\n",
              "      <th>percentChange</th>\n",
              "      <th>volume</th>\n",
              "      <th>openInterest</th>\n",
              "      <th>impliedVolatility</th>\n",
              "      <th>inTheMoney</th>\n",
              "      <th>contractSize</th>\n",
              "      <th>currency</th>\n",
              "    </tr>\n",
              "  </thead>\n",
              "  <tbody>\n",
              "    <tr>\n",
              "      <th>0</th>\n",
              "      <td>AAPL200529P00195000</td>\n",
              "      <td>2020-04-09 18:05:46</td>\n",
              "      <td>195.0</td>\n",
              "      <td>2.15</td>\n",
              "      <td>1.87</td>\n",
              "      <td>2.09</td>\n",
              "      <td>2.15</td>\n",
              "      <td>Infinity</td>\n",
              "      <td>2</td>\n",
              "      <td>NaN</td>\n",
              "      <td>0.633060</td>\n",
              "      <td>False</td>\n",
              "      <td>REGULAR</td>\n",
              "      <td>USD</td>\n",
              "    </tr>\n",
              "    <tr>\n",
              "      <th>1</th>\n",
              "      <td>AAPL200529P00200000</td>\n",
              "      <td>2020-04-09 18:38:33</td>\n",
              "      <td>200.0</td>\n",
              "      <td>2.37</td>\n",
              "      <td>1.99</td>\n",
              "      <td>2.67</td>\n",
              "      <td>2.37</td>\n",
              "      <td>Infinity</td>\n",
              "      <td>2</td>\n",
              "      <td>NaN</td>\n",
              "      <td>0.618534</td>\n",
              "      <td>False</td>\n",
              "      <td>REGULAR</td>\n",
              "      <td>USD</td>\n",
              "    </tr>\n",
              "    <tr>\n",
              "      <th>2</th>\n",
              "      <td>AAPL200529P00205000</td>\n",
              "      <td>2020-04-09 19:44:51</td>\n",
              "      <td>205.0</td>\n",
              "      <td>2.69</td>\n",
              "      <td>2.29</td>\n",
              "      <td>3.05</td>\n",
              "      <td>2.69</td>\n",
              "      <td>Infinity</td>\n",
              "      <td>10</td>\n",
              "      <td>NaN</td>\n",
              "      <td>0.599980</td>\n",
              "      <td>False</td>\n",
              "      <td>REGULAR</td>\n",
              "      <td>USD</td>\n",
              "    </tr>\n",
              "    <tr>\n",
              "      <th>3</th>\n",
              "      <td>AAPL200529P00220000</td>\n",
              "      <td>2020-04-09 19:57:24</td>\n",
              "      <td>220.0</td>\n",
              "      <td>4.15</td>\n",
              "      <td>3.65</td>\n",
              "      <td>4.15</td>\n",
              "      <td>4.15</td>\n",
              "      <td>Infinity</td>\n",
              "      <td>3</td>\n",
              "      <td>NaN</td>\n",
              "      <td>0.540410</td>\n",
              "      <td>False</td>\n",
              "      <td>REGULAR</td>\n",
              "      <td>USD</td>\n",
              "    </tr>\n",
              "    <tr>\n",
              "      <th>4</th>\n",
              "      <td>AAPL200529P00225000</td>\n",
              "      <td>2020-04-09 17:52:28</td>\n",
              "      <td>225.0</td>\n",
              "      <td>4.85</td>\n",
              "      <td>4.30</td>\n",
              "      <td>5.05</td>\n",
              "      <td>4.85</td>\n",
              "      <td>Infinity</td>\n",
              "      <td>1</td>\n",
              "      <td>NaN</td>\n",
              "      <td>0.531377</td>\n",
              "      <td>False</td>\n",
              "      <td>REGULAR</td>\n",
              "      <td>USD</td>\n",
              "    </tr>\n",
              "    <tr>\n",
              "      <th>5</th>\n",
              "      <td>AAPL200529P00235000</td>\n",
              "      <td>2020-04-09 19:46:45</td>\n",
              "      <td>235.0</td>\n",
              "      <td>6.32</td>\n",
              "      <td>5.90</td>\n",
              "      <td>6.40</td>\n",
              "      <td>6.32</td>\n",
              "      <td>Infinity</td>\n",
              "      <td>12</td>\n",
              "      <td>NaN</td>\n",
              "      <td>0.506414</td>\n",
              "      <td>False</td>\n",
              "      <td>REGULAR</td>\n",
              "      <td>USD</td>\n",
              "    </tr>\n",
              "    <tr>\n",
              "      <th>6</th>\n",
              "      <td>AAPL200529P00240000</td>\n",
              "      <td>2020-04-09 19:59:54</td>\n",
              "      <td>240.0</td>\n",
              "      <td>7.21</td>\n",
              "      <td>6.85</td>\n",
              "      <td>7.85</td>\n",
              "      <td>7.21</td>\n",
              "      <td>Infinity</td>\n",
              "      <td>24</td>\n",
              "      <td>NaN</td>\n",
              "      <td>0.507146</td>\n",
              "      <td>False</td>\n",
              "      <td>REGULAR</td>\n",
              "      <td>USD</td>\n",
              "    </tr>\n",
              "    <tr>\n",
              "      <th>7</th>\n",
              "      <td>AAPL200529P00245000</td>\n",
              "      <td>2020-04-09 19:20:38</td>\n",
              "      <td>245.0</td>\n",
              "      <td>8.80</td>\n",
              "      <td>8.00</td>\n",
              "      <td>8.55</td>\n",
              "      <td>8.80</td>\n",
              "      <td>Infinity</td>\n",
              "      <td>1</td>\n",
              "      <td>NaN</td>\n",
              "      <td>0.478582</td>\n",
              "      <td>False</td>\n",
              "      <td>REGULAR</td>\n",
              "      <td>USD</td>\n",
              "    </tr>\n",
              "    <tr>\n",
              "      <th>8</th>\n",
              "      <td>AAPL200529P00250000</td>\n",
              "      <td>2020-04-09 19:59:54</td>\n",
              "      <td>250.0</td>\n",
              "      <td>9.68</td>\n",
              "      <td>9.25</td>\n",
              "      <td>10.30</td>\n",
              "      <td>9.68</td>\n",
              "      <td>Infinity</td>\n",
              "      <td>9</td>\n",
              "      <td>NaN</td>\n",
              "      <td>0.477849</td>\n",
              "      <td>False</td>\n",
              "      <td>REGULAR</td>\n",
              "      <td>USD</td>\n",
              "    </tr>\n",
              "    <tr>\n",
              "      <th>9</th>\n",
              "      <td>AAPL200529P00260000</td>\n",
              "      <td>2020-04-09 17:03:54</td>\n",
              "      <td>260.0</td>\n",
              "      <td>13.52</td>\n",
              "      <td>12.55</td>\n",
              "      <td>13.55</td>\n",
              "      <td>13.52</td>\n",
              "      <td>Infinity</td>\n",
              "      <td>3</td>\n",
              "      <td>NaN</td>\n",
              "      <td>0.452276</td>\n",
              "      <td>False</td>\n",
              "      <td>REGULAR</td>\n",
              "      <td>USD</td>\n",
              "    </tr>\n",
              "    <tr>\n",
              "      <th>10</th>\n",
              "      <td>AAPL200529P00262500</td>\n",
              "      <td>2020-04-09 16:48:56</td>\n",
              "      <td>262.5</td>\n",
              "      <td>14.85</td>\n",
              "      <td>13.40</td>\n",
              "      <td>14.05</td>\n",
              "      <td>14.85</td>\n",
              "      <td>Infinity</td>\n",
              "      <td>20</td>\n",
              "      <td>NaN</td>\n",
              "      <td>0.434454</td>\n",
              "      <td>False</td>\n",
              "      <td>REGULAR</td>\n",
              "      <td>USD</td>\n",
              "    </tr>\n",
              "    <tr>\n",
              "      <th>11</th>\n",
              "      <td>AAPL200529P00265000</td>\n",
              "      <td>2020-04-09 19:55:35</td>\n",
              "      <td>265.0</td>\n",
              "      <td>14.90</td>\n",
              "      <td>14.35</td>\n",
              "      <td>15.40</td>\n",
              "      <td>14.90</td>\n",
              "      <td>Infinity</td>\n",
              "      <td>3</td>\n",
              "      <td>NaN</td>\n",
              "      <td>0.437628</td>\n",
              "      <td>False</td>\n",
              "      <td>REGULAR</td>\n",
              "      <td>USD</td>\n",
              "    </tr>\n",
              "    <tr>\n",
              "      <th>12</th>\n",
              "      <td>AAPL200529P00267500</td>\n",
              "      <td>2020-04-09 19:56:34</td>\n",
              "      <td>267.5</td>\n",
              "      <td>15.75</td>\n",
              "      <td>15.75</td>\n",
              "      <td>16.50</td>\n",
              "      <td>15.75</td>\n",
              "      <td>Infinity</td>\n",
              "      <td>14</td>\n",
              "      <td>NaN</td>\n",
              "      <td>0.432745</td>\n",
              "      <td>False</td>\n",
              "      <td>REGULAR</td>\n",
              "      <td>USD</td>\n",
              "    </tr>\n",
              "    <tr>\n",
              "      <th>13</th>\n",
              "      <td>AAPL200529P00270000</td>\n",
              "      <td>2020-04-09 14:02:21</td>\n",
              "      <td>270.0</td>\n",
              "      <td>16.50</td>\n",
              "      <td>16.35</td>\n",
              "      <td>17.60</td>\n",
              "      <td>16.50</td>\n",
              "      <td>Infinity</td>\n",
              "      <td>4</td>\n",
              "      <td>NaN</td>\n",
              "      <td>0.426397</td>\n",
              "      <td>True</td>\n",
              "      <td>REGULAR</td>\n",
              "      <td>USD</td>\n",
              "    </tr>\n",
              "    <tr>\n",
              "      <th>14</th>\n",
              "      <td>AAPL200529P00275000</td>\n",
              "      <td>2020-04-09 19:46:45</td>\n",
              "      <td>275.0</td>\n",
              "      <td>19.50</td>\n",
              "      <td>17.70</td>\n",
              "      <td>20.65</td>\n",
              "      <td>19.50</td>\n",
              "      <td>Infinity</td>\n",
              "      <td>13</td>\n",
              "      <td>NaN</td>\n",
              "      <td>0.431158</td>\n",
              "      <td>True</td>\n",
              "      <td>REGULAR</td>\n",
              "      <td>USD</td>\n",
              "    </tr>\n",
              "    <tr>\n",
              "      <th>15</th>\n",
              "      <td>AAPL200529P00280000</td>\n",
              "      <td>2020-04-09 13:44:29</td>\n",
              "      <td>280.0</td>\n",
              "      <td>21.26</td>\n",
              "      <td>20.55</td>\n",
              "      <td>23.45</td>\n",
              "      <td>21.26</td>\n",
              "      <td>Infinity</td>\n",
              "      <td>5</td>\n",
              "      <td>NaN</td>\n",
              "      <td>0.423468</td>\n",
              "      <td>True</td>\n",
              "      <td>REGULAR</td>\n",
              "      <td>USD</td>\n",
              "    </tr>\n",
              "  </tbody>\n",
              "</table>\n",
              "</div>"
            ],
            "text/plain": [
              "         contractSymbol       lastTradeDate  strike  lastPrice    bid    ask  \\\n",
              "0   AAPL200529P00195000 2020-04-09 18:05:46   195.0       2.15   1.87   2.09   \n",
              "1   AAPL200529P00200000 2020-04-09 18:38:33   200.0       2.37   1.99   2.67   \n",
              "2   AAPL200529P00205000 2020-04-09 19:44:51   205.0       2.69   2.29   3.05   \n",
              "3   AAPL200529P00220000 2020-04-09 19:57:24   220.0       4.15   3.65   4.15   \n",
              "4   AAPL200529P00225000 2020-04-09 17:52:28   225.0       4.85   4.30   5.05   \n",
              "5   AAPL200529P00235000 2020-04-09 19:46:45   235.0       6.32   5.90   6.40   \n",
              "6   AAPL200529P00240000 2020-04-09 19:59:54   240.0       7.21   6.85   7.85   \n",
              "7   AAPL200529P00245000 2020-04-09 19:20:38   245.0       8.80   8.00   8.55   \n",
              "8   AAPL200529P00250000 2020-04-09 19:59:54   250.0       9.68   9.25  10.30   \n",
              "9   AAPL200529P00260000 2020-04-09 17:03:54   260.0      13.52  12.55  13.55   \n",
              "10  AAPL200529P00262500 2020-04-09 16:48:56   262.5      14.85  13.40  14.05   \n",
              "11  AAPL200529P00265000 2020-04-09 19:55:35   265.0      14.90  14.35  15.40   \n",
              "12  AAPL200529P00267500 2020-04-09 19:56:34   267.5      15.75  15.75  16.50   \n",
              "13  AAPL200529P00270000 2020-04-09 14:02:21   270.0      16.50  16.35  17.60   \n",
              "14  AAPL200529P00275000 2020-04-09 19:46:45   275.0      19.50  17.70  20.65   \n",
              "15  AAPL200529P00280000 2020-04-09 13:44:29   280.0      21.26  20.55  23.45   \n",
              "\n",
              "    change percentChange  volume  openInterest  impliedVolatility  inTheMoney  \\\n",
              "0     2.15      Infinity       2           NaN           0.633060       False   \n",
              "1     2.37      Infinity       2           NaN           0.618534       False   \n",
              "2     2.69      Infinity      10           NaN           0.599980       False   \n",
              "3     4.15      Infinity       3           NaN           0.540410       False   \n",
              "4     4.85      Infinity       1           NaN           0.531377       False   \n",
              "5     6.32      Infinity      12           NaN           0.506414       False   \n",
              "6     7.21      Infinity      24           NaN           0.507146       False   \n",
              "7     8.80      Infinity       1           NaN           0.478582       False   \n",
              "8     9.68      Infinity       9           NaN           0.477849       False   \n",
              "9    13.52      Infinity       3           NaN           0.452276       False   \n",
              "10   14.85      Infinity      20           NaN           0.434454       False   \n",
              "11   14.90      Infinity       3           NaN           0.437628       False   \n",
              "12   15.75      Infinity      14           NaN           0.432745       False   \n",
              "13   16.50      Infinity       4           NaN           0.426397        True   \n",
              "14   19.50      Infinity      13           NaN           0.431158        True   \n",
              "15   21.26      Infinity       5           NaN           0.423468        True   \n",
              "\n",
              "   contractSize currency  \n",
              "0       REGULAR      USD  \n",
              "1       REGULAR      USD  \n",
              "2       REGULAR      USD  \n",
              "3       REGULAR      USD  \n",
              "4       REGULAR      USD  \n",
              "5       REGULAR      USD  \n",
              "6       REGULAR      USD  \n",
              "7       REGULAR      USD  \n",
              "8       REGULAR      USD  \n",
              "9       REGULAR      USD  \n",
              "10      REGULAR      USD  \n",
              "11      REGULAR      USD  \n",
              "12      REGULAR      USD  \n",
              "13      REGULAR      USD  \n",
              "14      REGULAR      USD  \n",
              "15      REGULAR      USD  "
            ]
          },
          "metadata": {}
        }
      ],
      "execution_count": 5,
      "metadata": {
        "collapsed": true,
        "outputExpanded": false,
        "jupyter": {
          "source_hidden": false,
          "outputs_hidden": false
        },
        "nteract": {
          "transient": {
            "deleting": false
          }
        },
        "execution": {
          "iopub.status.busy": "2020-04-12T20:25:21.556Z",
          "iopub.execute_input": "2020-04-12T20:25:21.560Z",
          "iopub.status.idle": "2020-04-12T20:25:21.585Z",
          "shell.execute_reply": "2020-04-12T20:25:21.814Z"
        }
      }
    },
    {
      "cell_type": "code",
      "source": [
        "symbol = 'AAPL'\n",
        "start = '2019-12-01'\n",
        "end = '2020-04-02'"
      ],
      "outputs": [],
      "execution_count": 6,
      "metadata": {
        "collapsed": true,
        "outputExpanded": false,
        "jupyter": {
          "source_hidden": false,
          "outputs_hidden": false
        },
        "nteract": {
          "transient": {
            "deleting": false
          }
        },
        "execution": {
          "iopub.status.busy": "2020-04-12T20:25:21.594Z",
          "iopub.execute_input": "2020-04-12T20:25:21.599Z",
          "iopub.status.idle": "2020-04-12T20:25:21.605Z",
          "shell.execute_reply": "2020-04-12T20:25:21.818Z"
        }
      }
    },
    {
      "cell_type": "code",
      "source": [
        "df = yf.download(symbol,start,end)"
      ],
      "outputs": [
        {
          "output_type": "stream",
          "name": "stdout",
          "text": [
            "[*********************100%***********************]  1 of 1 completed\n"
          ]
        }
      ],
      "execution_count": 7,
      "metadata": {
        "collapsed": true,
        "outputExpanded": false,
        "jupyter": {
          "source_hidden": false,
          "outputs_hidden": false
        },
        "nteract": {
          "transient": {
            "deleting": false
          }
        },
        "execution": {
          "iopub.status.busy": "2020-04-12T20:25:21.612Z",
          "iopub.execute_input": "2020-04-12T20:25:21.616Z",
          "iopub.status.idle": "2020-04-12T20:25:21.791Z",
          "shell.execute_reply": "2020-04-12T20:25:21.821Z"
        }
      }
    },
    {
      "cell_type": "code",
      "source": [
        "df.head()"
      ],
      "outputs": [
        {
          "output_type": "execute_result",
          "execution_count": 8,
          "data": {
            "text/html": [
              "<div>\n",
              "<style scoped>\n",
              "    .dataframe tbody tr th:only-of-type {\n",
              "        vertical-align: middle;\n",
              "    }\n",
              "\n",
              "    .dataframe tbody tr th {\n",
              "        vertical-align: top;\n",
              "    }\n",
              "\n",
              "    .dataframe thead th {\n",
              "        text-align: right;\n",
              "    }\n",
              "</style>\n",
              "<table border=\"1\" class=\"dataframe\">\n",
              "  <thead>\n",
              "    <tr style=\"text-align: right;\">\n",
              "      <th></th>\n",
              "      <th>Adj Close</th>\n",
              "      <th>Close</th>\n",
              "      <th>High</th>\n",
              "      <th>Low</th>\n",
              "      <th>Open</th>\n",
              "      <th>Volume</th>\n",
              "    </tr>\n",
              "    <tr>\n",
              "      <th>Date</th>\n",
              "      <th></th>\n",
              "      <th></th>\n",
              "      <th></th>\n",
              "      <th></th>\n",
              "      <th></th>\n",
              "      <th></th>\n",
              "    </tr>\n",
              "  </thead>\n",
              "  <tbody>\n",
              "    <tr>\n",
              "      <th>2019-12-02</th>\n",
              "      <td>263.534546</td>\n",
              "      <td>264.160004</td>\n",
              "      <td>268.250000</td>\n",
              "      <td>263.450012</td>\n",
              "      <td>267.269989</td>\n",
              "      <td>23621800</td>\n",
              "    </tr>\n",
              "    <tr>\n",
              "      <th>2019-12-03</th>\n",
              "      <td>258.835724</td>\n",
              "      <td>259.450012</td>\n",
              "      <td>259.529999</td>\n",
              "      <td>256.290009</td>\n",
              "      <td>258.309998</td>\n",
              "      <td>28607600</td>\n",
              "    </tr>\n",
              "    <tr>\n",
              "      <th>2019-12-04</th>\n",
              "      <td>261.120270</td>\n",
              "      <td>261.739990</td>\n",
              "      <td>263.309998</td>\n",
              "      <td>260.679993</td>\n",
              "      <td>261.070007</td>\n",
              "      <td>16795400</td>\n",
              "    </tr>\n",
              "    <tr>\n",
              "      <th>2019-12-05</th>\n",
              "      <td>264.951172</td>\n",
              "      <td>265.579987</td>\n",
              "      <td>265.890015</td>\n",
              "      <td>262.730011</td>\n",
              "      <td>263.790009</td>\n",
              "      <td>18606100</td>\n",
              "    </tr>\n",
              "    <tr>\n",
              "      <th>2019-12-06</th>\n",
              "      <td>270.069031</td>\n",
              "      <td>270.709991</td>\n",
              "      <td>271.000000</td>\n",
              "      <td>267.299988</td>\n",
              "      <td>267.480011</td>\n",
              "      <td>26518900</td>\n",
              "    </tr>\n",
              "  </tbody>\n",
              "</table>\n",
              "</div>"
            ],
            "text/plain": [
              "             Adj Close       Close        High         Low        Open  \\\n",
              "Date                                                                     \n",
              "2019-12-02  263.534546  264.160004  268.250000  263.450012  267.269989   \n",
              "2019-12-03  258.835724  259.450012  259.529999  256.290009  258.309998   \n",
              "2019-12-04  261.120270  261.739990  263.309998  260.679993  261.070007   \n",
              "2019-12-05  264.951172  265.579987  265.890015  262.730011  263.790009   \n",
              "2019-12-06  270.069031  270.709991  271.000000  267.299988  267.480011   \n",
              "\n",
              "              Volume  \n",
              "Date                  \n",
              "2019-12-02  23621800  \n",
              "2019-12-03  28607600  \n",
              "2019-12-04  16795400  \n",
              "2019-12-05  18606100  \n",
              "2019-12-06  26518900  "
            ]
          },
          "metadata": {}
        }
      ],
      "execution_count": 8,
      "metadata": {
        "collapsed": true,
        "outputExpanded": false,
        "jupyter": {
          "source_hidden": false,
          "outputs_hidden": false
        },
        "nteract": {
          "transient": {
            "deleting": false
          }
        },
        "execution": {
          "iopub.status.busy": "2020-04-12T20:25:21.835Z",
          "iopub.execute_input": "2020-04-12T20:25:21.843Z",
          "iopub.status.idle": "2020-04-12T20:25:21.854Z",
          "shell.execute_reply": "2020-04-12T20:25:21.825Z"
        }
      }
    },
    {
      "cell_type": "code",
      "source": [
        "df.tail()"
      ],
      "outputs": [
        {
          "output_type": "execute_result",
          "execution_count": 9,
          "data": {
            "text/html": [
              "<div>\n",
              "<style scoped>\n",
              "    .dataframe tbody tr th:only-of-type {\n",
              "        vertical-align: middle;\n",
              "    }\n",
              "\n",
              "    .dataframe tbody tr th {\n",
              "        vertical-align: top;\n",
              "    }\n",
              "\n",
              "    .dataframe thead th {\n",
              "        text-align: right;\n",
              "    }\n",
              "</style>\n",
              "<table border=\"1\" class=\"dataframe\">\n",
              "  <thead>\n",
              "    <tr style=\"text-align: right;\">\n",
              "      <th></th>\n",
              "      <th>Adj Close</th>\n",
              "      <th>Close</th>\n",
              "      <th>High</th>\n",
              "      <th>Low</th>\n",
              "      <th>Open</th>\n",
              "      <th>Volume</th>\n",
              "    </tr>\n",
              "    <tr>\n",
              "      <th>Date</th>\n",
              "      <th></th>\n",
              "      <th></th>\n",
              "      <th></th>\n",
              "      <th></th>\n",
              "      <th></th>\n",
              "      <th></th>\n",
              "    </tr>\n",
              "  </thead>\n",
              "  <tbody>\n",
              "    <tr>\n",
              "      <th>2020-03-26</th>\n",
              "      <td>258.440002</td>\n",
              "      <td>258.440002</td>\n",
              "      <td>258.679993</td>\n",
              "      <td>246.360001</td>\n",
              "      <td>246.520004</td>\n",
              "      <td>63021800</td>\n",
              "    </tr>\n",
              "    <tr>\n",
              "      <th>2020-03-27</th>\n",
              "      <td>247.740005</td>\n",
              "      <td>247.740005</td>\n",
              "      <td>255.869995</td>\n",
              "      <td>247.050003</td>\n",
              "      <td>252.750000</td>\n",
              "      <td>51054200</td>\n",
              "    </tr>\n",
              "    <tr>\n",
              "      <th>2020-03-30</th>\n",
              "      <td>254.809998</td>\n",
              "      <td>254.809998</td>\n",
              "      <td>255.520004</td>\n",
              "      <td>249.399994</td>\n",
              "      <td>250.740005</td>\n",
              "      <td>41994100</td>\n",
              "    </tr>\n",
              "    <tr>\n",
              "      <th>2020-03-31</th>\n",
              "      <td>254.289993</td>\n",
              "      <td>254.289993</td>\n",
              "      <td>262.489990</td>\n",
              "      <td>252.000000</td>\n",
              "      <td>255.600006</td>\n",
              "      <td>49250500</td>\n",
              "    </tr>\n",
              "    <tr>\n",
              "      <th>2020-04-01</th>\n",
              "      <td>240.910004</td>\n",
              "      <td>240.910004</td>\n",
              "      <td>248.720001</td>\n",
              "      <td>239.130005</td>\n",
              "      <td>246.500000</td>\n",
              "      <td>44054600</td>\n",
              "    </tr>\n",
              "  </tbody>\n",
              "</table>\n",
              "</div>"
            ],
            "text/plain": [
              "             Adj Close       Close        High         Low        Open  \\\n",
              "Date                                                                     \n",
              "2020-03-26  258.440002  258.440002  258.679993  246.360001  246.520004   \n",
              "2020-03-27  247.740005  247.740005  255.869995  247.050003  252.750000   \n",
              "2020-03-30  254.809998  254.809998  255.520004  249.399994  250.740005   \n",
              "2020-03-31  254.289993  254.289993  262.489990  252.000000  255.600006   \n",
              "2020-04-01  240.910004  240.910004  248.720001  239.130005  246.500000   \n",
              "\n",
              "              Volume  \n",
              "Date                  \n",
              "2020-03-26  63021800  \n",
              "2020-03-27  51054200  \n",
              "2020-03-30  41994100  \n",
              "2020-03-31  49250500  \n",
              "2020-04-01  44054600  "
            ]
          },
          "metadata": {}
        }
      ],
      "execution_count": 9,
      "metadata": {
        "collapsed": true,
        "outputExpanded": false,
        "jupyter": {
          "source_hidden": false,
          "outputs_hidden": false
        },
        "nteract": {
          "transient": {
            "deleting": false
          }
        },
        "execution": {
          "iopub.status.busy": "2020-04-12T20:25:21.861Z",
          "iopub.execute_input": "2020-04-12T20:25:21.867Z",
          "iopub.status.idle": "2020-04-12T20:25:21.880Z",
          "shell.execute_reply": "2020-04-12T20:25:22.091Z"
        }
      }
    },
    {
      "cell_type": "code",
      "source": [
        "returns = df['Adj Close'].pct_change().dropna()"
      ],
      "outputs": [],
      "execution_count": 10,
      "metadata": {
        "collapsed": true,
        "outputExpanded": false,
        "jupyter": {
          "source_hidden": false,
          "outputs_hidden": false
        },
        "nteract": {
          "transient": {
            "deleting": false
          }
        },
        "execution": {
          "iopub.status.busy": "2020-04-12T20:25:21.887Z",
          "iopub.execute_input": "2020-04-12T20:25:21.892Z",
          "iopub.status.idle": "2020-04-12T20:25:21.901Z",
          "shell.execute_reply": "2020-04-12T20:25:22.094Z"
        }
      }
    },
    {
      "cell_type": "code",
      "source": [
        "from datetime import datetime\n",
        "from dateutil import relativedelta\n",
        "\n",
        "d1 = datetime.strptime(start, \"%Y-%m-%d\")\n",
        "d2 = datetime.strptime('2020-05-28', \"%Y-%m-%d\")\n",
        "delta = relativedelta.relativedelta(d2,d1)\n",
        "print('How many years of investing?')\n",
        "print('%s years' % delta.years)"
      ],
      "outputs": [
        {
          "output_type": "stream",
          "name": "stdout",
          "text": [
            "How many years of investing?\n",
            "0 years\n"
          ]
        }
      ],
      "execution_count": 11,
      "metadata": {
        "collapsed": true,
        "outputExpanded": false,
        "jupyter": {
          "source_hidden": false,
          "outputs_hidden": false
        },
        "nteract": {
          "transient": {
            "deleting": false
          }
        },
        "execution": {
          "iopub.status.busy": "2020-04-12T20:25:21.911Z",
          "iopub.execute_input": "2020-04-12T20:25:21.917Z",
          "iopub.status.idle": "2020-04-12T20:25:21.929Z",
          "shell.execute_reply": "2020-04-12T20:25:22.096Z"
        }
      }
    },
    {
      "cell_type": "code",
      "source": [
        "maturity_days = (df.index[-1] - df.index[0]).days\n",
        "print('%s days' % maturity_days)"
      ],
      "outputs": [
        {
          "output_type": "stream",
          "name": "stdout",
          "text": [
            "121 days\n"
          ]
        }
      ],
      "execution_count": 12,
      "metadata": {
        "collapsed": true,
        "outputExpanded": false,
        "jupyter": {
          "source_hidden": false,
          "outputs_hidden": false
        },
        "nteract": {
          "transient": {
            "deleting": false
          }
        },
        "execution": {
          "iopub.status.busy": "2020-04-12T20:25:21.935Z",
          "iopub.execute_input": "2020-04-12T20:25:21.938Z",
          "iopub.status.idle": "2020-04-12T20:25:21.946Z",
          "shell.execute_reply": "2020-04-12T20:25:22.098Z"
        }
      }
    },
    {
      "cell_type": "code",
      "source": [
        "S0 = df['Adj Close'][-1]\n",
        "K = dfo_exp.puts['strike'][6]\n",
        "r = 0.1\n",
        "sigma = returns.std()\n",
        "T = maturity_days/252"
      ],
      "outputs": [],
      "execution_count": 13,
      "metadata": {
        "collapsed": true,
        "outputExpanded": false,
        "jupyter": {
          "source_hidden": false,
          "outputs_hidden": false
        },
        "nteract": {
          "transient": {
            "deleting": false
          }
        },
        "execution": {
          "iopub.status.busy": "2020-04-12T20:25:21.953Z",
          "iopub.execute_input": "2020-04-12T20:25:21.958Z",
          "iopub.status.idle": "2020-04-12T20:25:21.966Z",
          "shell.execute_reply": "2020-04-12T20:25:22.100Z"
        }
      }
    },
    {
      "cell_type": "code",
      "source": [
        "print(\"S0\\tCurrent Stock Price:\", S0)\n",
        "print(\"K\\tStrike Price:\", K)\n",
        "print(\"r\\tContinuously compounded risk-free rate:\", r)\n",
        "print(\"sigma\\tVolatility of the stock price per year:\", sigma)\n",
        "print(\"T\\tTime to maturity in trading years:\", T)"
      ],
      "outputs": [
        {
          "output_type": "stream",
          "name": "stdout",
          "text": [
            "S0\tCurrent Stock Price: 240.91000366210938\n",
            "K\tStrike Price: 240.0\n",
            "r\tContinuously compounded risk-free rate: 0.1\n",
            "sigma\tVolatility of the stock price per year: 0.0369388726875486\n",
            "T\tTime to maturity in trading years: 0.4801587301587302\n"
          ]
        }
      ],
      "execution_count": 14,
      "metadata": {
        "collapsed": true,
        "outputExpanded": false,
        "jupyter": {
          "source_hidden": false,
          "outputs_hidden": false
        },
        "nteract": {
          "transient": {
            "deleting": false
          }
        },
        "execution": {
          "iopub.status.busy": "2020-04-12T20:25:21.976Z",
          "iopub.execute_input": "2020-04-12T20:25:21.981Z",
          "iopub.status.idle": "2020-04-12T20:25:21.989Z",
          "shell.execute_reply": "2020-04-12T20:25:22.102Z"
        }
      }
    },
    {
      "cell_type": "code",
      "source": [
        "def d1(S0, K, r, sigma, T):\n",
        "    d1 = (np.log(S0/K) + (r + sigma**2 / 2) * T)/(sigma * np.sqrt(T))\n",
        "    return d1"
      ],
      "outputs": [],
      "execution_count": 15,
      "metadata": {
        "collapsed": true,
        "outputExpanded": false,
        "jupyter": {
          "source_hidden": false,
          "outputs_hidden": false
        },
        "nteract": {
          "transient": {
            "deleting": false
          }
        },
        "execution": {
          "iopub.status.busy": "2020-04-12T20:25:21.998Z",
          "iopub.execute_input": "2020-04-12T20:25:22.002Z",
          "iopub.status.idle": "2020-04-12T20:25:22.007Z",
          "shell.execute_reply": "2020-04-12T20:25:22.104Z"
        }
      }
    },
    {
      "cell_type": "code",
      "source": [
        "def d2(S0, K, r, sigma, T):\n",
        "    d2 = (np.log(S0 / K) + (r - sigma**2 / 2) * T) / (sigma * np.sqrt(T))\n",
        "    return d2"
      ],
      "outputs": [],
      "execution_count": 16,
      "metadata": {
        "collapsed": true,
        "outputExpanded": false,
        "jupyter": {
          "source_hidden": false,
          "outputs_hidden": false
        },
        "nteract": {
          "transient": {
            "deleting": false
          }
        },
        "execution": {
          "iopub.status.busy": "2020-04-12T20:25:22.011Z",
          "iopub.execute_input": "2020-04-12T20:25:22.014Z",
          "iopub.status.idle": "2020-04-12T20:25:22.019Z",
          "shell.execute_reply": "2020-04-12T20:25:22.106Z"
        }
      }
    },
    {
      "cell_type": "code",
      "source": [
        "def BlackScholesCall(S0, K, r, sigma, T):\n",
        "    BSC = S0 * ss.norm.cdf(d1(S0, K, r, sigma, T)) - K * np.exp(-r * T) * ss.norm.cdf(d2(S0, K, r, sigma, T))\n",
        "    return BSC       "
      ],
      "outputs": [],
      "execution_count": 17,
      "metadata": {
        "collapsed": true,
        "outputExpanded": false,
        "jupyter": {
          "source_hidden": false,
          "outputs_hidden": false
        },
        "nteract": {
          "transient": {
            "deleting": false
          }
        },
        "execution": {
          "iopub.status.busy": "2020-04-12T20:25:22.024Z",
          "iopub.execute_input": "2020-04-12T20:25:22.028Z",
          "iopub.status.idle": "2020-04-12T20:25:22.036Z",
          "shell.execute_reply": "2020-04-12T20:25:22.107Z"
        }
      }
    },
    {
      "cell_type": "code",
      "source": [
        "def BlackScholesPut(S0, K, r, sigma, T):\n",
        "    BSP = K * np.exp(-r * T) * ss.norm.cdf(-d2(S0, K, r, sigma, T)) - S0 * ss.norm.cdf(-d1(S0, K, r, sigma, T)) \n",
        "    return BSP"
      ],
      "outputs": [],
      "execution_count": 18,
      "metadata": {
        "collapsed": true,
        "outputExpanded": false,
        "jupyter": {
          "source_hidden": false,
          "outputs_hidden": false
        },
        "nteract": {
          "transient": {
            "deleting": false
          }
        },
        "execution": {
          "iopub.status.busy": "2020-04-12T20:25:22.041Z",
          "iopub.execute_input": "2020-04-12T20:25:22.044Z",
          "iopub.status.idle": "2020-04-12T20:25:22.053Z",
          "shell.execute_reply": "2020-04-12T20:25:22.109Z"
        }
      }
    },
    {
      "cell_type": "code",
      "source": [
        "Put_BS = BlackScholesPut(S0, K, r, sigma, T)\n",
        "Put_BS"
      ],
      "outputs": [
        {
          "output_type": "execute_result",
          "execution_count": 19,
          "data": {
            "text/plain": [
              "0.04785864194304423"
            ]
          },
          "metadata": {}
        }
      ],
      "execution_count": 19,
      "metadata": {
        "collapsed": true,
        "outputExpanded": false,
        "jupyter": {
          "source_hidden": false,
          "outputs_hidden": false
        },
        "nteract": {
          "transient": {
            "deleting": false
          }
        },
        "execution": {
          "iopub.status.busy": "2020-04-12T20:25:22.059Z",
          "iopub.execute_input": "2020-04-12T20:25:22.061Z",
          "iopub.status.idle": "2020-04-12T20:25:22.068Z",
          "shell.execute_reply": "2020-04-12T20:25:22.111Z"
        }
      }
    }
  ],
  "metadata": {
    "kernel_info": {
      "name": "python3"
    },
    "language_info": {
      "name": "python",
      "version": "3.5.5",
      "pygments_lexer": "ipython3",
      "nbconvert_exporter": "python",
      "codemirror_mode": {
        "name": "ipython",
        "version": 3
      },
      "mimetype": "text/x-python",
      "file_extension": ".py"
    },
    "kernelspec": {
      "argv": [
        "C:\\Users\\Tin Hang\\Anaconda3\\envs\\py35\\python.exe",
        "-m",
        "ipykernel_launcher",
        "-f",
        "{connection_file}"
      ],
      "display_name": "Python 3",
      "language": "python",
      "name": "python3"
    },
    "nteract": {
      "version": "0.22.4"
    }
  },
  "nbformat": 4,
  "nbformat_minor": 0
}