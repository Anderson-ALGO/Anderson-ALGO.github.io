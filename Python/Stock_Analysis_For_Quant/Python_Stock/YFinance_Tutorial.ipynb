{
  "cells": [
    {
      "cell_type": "code",
      "source": [
        "import yfinance as yf"
      ],
      "outputs": [],
      "execution_count": 2,
      "metadata": {
        "collapsed": true,
        "jupyter": {
          "source_hidden": false,
          "outputs_hidden": false
        },
        "nteract": {
          "transient": {
            "deleting": false
          }
        },
        "execution": {
          "iopub.status.busy": "2020-10-22T01:17:32.612Z",
          "iopub.execute_input": "2020-10-22T01:17:32.620Z",
          "iopub.status.idle": "2020-10-22T01:17:34.129Z",
          "shell.execute_reply": "2020-10-22T01:17:34.123Z"
        }
      }
    },
    {
      "cell_type": "code",
      "source": [
        "aapl = yf.Ticker('AAPL')"
      ],
      "outputs": [],
      "execution_count": 4,
      "metadata": {
        "collapsed": true,
        "jupyter": {
          "source_hidden": false,
          "outputs_hidden": false
        },
        "nteract": {
          "transient": {
            "deleting": false
          }
        },
        "execution": {
          "iopub.status.busy": "2020-10-22T01:18:02.755Z",
          "iopub.execute_input": "2020-10-22T01:18:02.760Z",
          "iopub.status.idle": "2020-10-22T01:18:02.767Z",
          "shell.execute_reply": "2020-10-22T01:18:02.780Z"
        }
      }
    },
    {
      "cell_type": "code",
      "source": [
        "aapl.info"
      ],
      "outputs": [
        {
          "output_type": "execute_result",
          "execution_count": 5,
          "data": {
            "text/plain": "{'52WeekChange': 0.93288934,\n 'SandP52WeekChange': 0.14598012,\n 'address1': 'One Apple Park Way',\n 'algorithm': None,\n 'annualHoldingsTurnover': None,\n 'annualReportExpenseRatio': None,\n 'ask': 116.39,\n 'askSize': 2200,\n 'averageDailyVolume10Day': 160888014,\n 'averageVolume': 174072926,\n 'averageVolume10days': 160888014,\n 'beta': 1.314396,\n 'beta3Year': None,\n 'bid': 116.35,\n 'bidSize': 800,\n 'bookValue': 4.218,\n 'category': None,\n 'circulatingSupply': None,\n 'city': 'Cupertino',\n 'companyOfficers': [],\n 'country': 'United States',\n 'currency': 'USD',\n 'dateShortInterest': 1601424000,\n 'dayHigh': 118.705,\n 'dayLow': 116.45,\n 'dividendRate': 0.82,\n 'dividendYield': 0.0069999998,\n 'earningsQuarterlyGrowth': 0.12,\n 'enterpriseToEbitda': 25.917,\n 'enterpriseToRevenue': 7.445,\n 'enterpriseValue': 2038880010240,\n 'exDividendDate': 1596758400,\n 'exchange': 'NMS',\n 'exchangeTimezoneName': 'America/New_York',\n 'exchangeTimezoneShortName': 'EDT',\n 'expireDate': None,\n 'fiftyDayAverage': 116.11514,\n 'fiftyTwoWeekHigh': 137.98,\n 'fiftyTwoWeekLow': 53.1525,\n 'fiveYearAverageReturn': None,\n 'fiveYearAvgDividendYield': 1.52,\n 'floatShares': 17085262439,\n 'forwardEps': 3.87,\n 'forwardPE': 30.198969,\n 'fromCurrency': None,\n 'fullTimeEmployees': 137000,\n 'fundFamily': None,\n 'fundInceptionDate': None,\n 'gmtOffSetMilliseconds': '-14400000',\n 'heldPercentInsiders': 0.00066,\n 'heldPercentInstitutions': 0.62115,\n 'industry': 'Consumer Electronics',\n 'isEsgPopulated': False,\n 'lastCapGain': None,\n 'lastDividendDate': 1596758400,\n 'lastDividendValue': 0.205,\n 'lastFiscalYearEnd': 1569628800,\n 'lastMarket': None,\n 'lastSplitDate': 1598832000,\n 'lastSplitFactor': '4:1',\n 'legalType': None,\n 'logo_url': 'https://logo.clearbit.com/apple.com',\n 'longBusinessSummary': 'Apple Inc. designs, manufactures, and markets smartphones, personal computers, tablets, wearables, and accessories worldwide. It also sells various related services. The company offers iPhone, a line of smartphones; Mac, a line of personal computers; iPad, a line of multi-purpose tablets; and wearables, home, and accessories comprising AirPods, Apple TV, Apple Watch, Beats products, HomePod, iPod touch, and other Apple-branded and third-party accessories. It also provides digital content stores and streaming services; AppleCare support services; and iCloud, a cloud service, which stores music, photos, contacts, calendars, mail, documents, and others. In addition, the company offers various service, such as Apple Arcade, a game subscription service; Apple Card, a co-branded credit card; Apple News+, a subscription news and magazine service; and Apple Pay, a cashless payment service, as well as licenses its intellectual property, and provides other related services. The company serves consumers, and small and mid-sized businesses; and the education, enterprise, and government markets. It sells and delivers third-party applications for its products through the App Store, Mac App Store, and Watch App Store. The company also sells its products through its retail and online stores, and direct sales force; and third-party cellular network carriers, wholesalers, retailers, and resellers. Apple Inc. has a collaboration with Google to develop COVID-19 tracking system for Android and iOS devices. Apple Inc. was founded in 1977 and is headquartered in Cupertino, California.',\n 'longName': 'Apple Inc.',\n 'market': 'us_market',\n 'marketCap': 1998769225728,\n 'maxAge': 1,\n 'maxSupply': None,\n 'messageBoardId': 'finmb_24937',\n 'morningStarOverallRating': None,\n 'morningStarRiskRating': None,\n 'mostRecentQuarter': 1593216000,\n 'navPrice': None,\n 'netIncomeToCommon': 58424000512,\n 'nextFiscalYearEnd': 1632787200,\n 'open': 116.67,\n 'openInterest': None,\n 'payoutRatio': 0.2373,\n 'pegRatio': 2.97,\n 'phone': '408-996-1010',\n 'previousClose': 117.51,\n 'priceHint': 2,\n 'priceToBook': 27.707445,\n 'priceToSalesTrailing12Months': 7.2985873,\n 'profitMargins': 0.21334,\n 'quoteType': 'EQUITY',\n 'regularMarketDayHigh': 118.705,\n 'regularMarketDayLow': 116.45,\n 'regularMarketOpen': 116.67,\n 'regularMarketPreviousClose': 117.51,\n 'regularMarketPrice': 116.67,\n 'regularMarketVolume': 86609126,\n 'revenueQuarterlyGrowth': None,\n 'sector': 'Technology',\n 'sharesOutstanding': 17102499840,\n 'sharesPercentSharesOut': 0.0052,\n 'sharesShort': 88087882,\n 'sharesShortPreviousMonthDate': 1598832000,\n 'sharesShortPriorMonth': 79684337,\n 'shortName': 'Apple Inc.',\n 'shortPercentOfFloat': 0.0052,\n 'shortRatio': 0.47,\n 'startDate': None,\n 'state': 'CA',\n 'strikePrice': None,\n 'symbol': 'AAPL',\n 'threeYearAverageReturn': None,\n 'toCurrency': None,\n 'totalAssets': None,\n 'tradeable': False,\n 'trailingAnnualDividendRate': 0.782,\n 'trailingAnnualDividendYield': 0.006654753,\n 'trailingEps': 3.296,\n 'trailingPE': 35.458134,\n 'twoHundredDayAverage': 96.593185,\n 'volume': 86609126,\n 'volume24Hr': None,\n 'volumeAllCurrencies': None,\n 'website': 'http://www.apple.com',\n 'yield': None,\n 'ytdReturn': None,\n 'zip': '95014'}"
          },
          "metadata": {}
        }
      ],
      "execution_count": 5,
      "metadata": {
        "collapsed": true,
        "jupyter": {
          "source_hidden": false,
          "outputs_hidden": false
        },
        "nteract": {
          "transient": {
            "deleting": false
          }
        },
        "execution": {
          "iopub.status.busy": "2020-10-22T01:18:09.162Z",
          "iopub.execute_input": "2020-10-22T01:18:09.166Z",
          "iopub.status.idle": "2020-10-22T01:18:12.434Z",
          "shell.execute_reply": "2020-10-22T01:18:12.458Z"
        }
      }
    },
    {
      "cell_type": "code",
      "source": [
        "df  =  aapl.history(start=\"2010-01-01\",  end=\"2020-10-01\")"
      ],
      "outputs": [],
      "execution_count": 6,
      "metadata": {
        "collapsed": true,
        "jupyter": {
          "source_hidden": false,
          "outputs_hidden": false
        },
        "nteract": {
          "transient": {
            "deleting": false
          }
        },
        "execution": {
          "iopub.status.busy": "2020-10-22T01:18:57.000Z",
          "iopub.execute_input": "2020-10-22T01:18:57.005Z",
          "shell.execute_reply": "2020-10-22T01:18:57.312Z",
          "iopub.status.idle": "2020-10-22T01:18:57.327Z"
        }
      }
    },
    {
      "cell_type": "code",
      "source": [
        "df.head()"
      ],
      "outputs": [
        {
          "output_type": "execute_result",
          "execution_count": 7,
          "data": {
            "text/html": "<div>\n<style scoped>\n    .dataframe tbody tr th:only-of-type {\n        vertical-align: middle;\n    }\n\n    .dataframe tbody tr th {\n        vertical-align: top;\n    }\n\n    .dataframe thead th {\n        text-align: right;\n    }\n</style>\n<table border=\"1\" class=\"dataframe\">\n  <thead>\n    <tr style=\"text-align: right;\">\n      <th></th>\n      <th>Open</th>\n      <th>High</th>\n      <th>Low</th>\n      <th>Close</th>\n      <th>Volume</th>\n      <th>Dividends</th>\n      <th>Stock Splits</th>\n    </tr>\n    <tr>\n      <th>Date</th>\n      <th></th>\n      <th></th>\n      <th></th>\n      <th></th>\n      <th></th>\n      <th></th>\n      <th></th>\n    </tr>\n  </thead>\n  <tbody>\n    <tr>\n      <th>2010-01-04</th>\n      <td>6.59</td>\n      <td>6.62</td>\n      <td>6.55</td>\n      <td>6.60</td>\n      <td>493729600</td>\n      <td>0.0</td>\n      <td>0.0</td>\n    </tr>\n    <tr>\n      <th>2010-01-05</th>\n      <td>6.62</td>\n      <td>6.65</td>\n      <td>6.58</td>\n      <td>6.62</td>\n      <td>601904800</td>\n      <td>0.0</td>\n      <td>0.0</td>\n    </tr>\n    <tr>\n      <th>2010-01-06</th>\n      <td>6.62</td>\n      <td>6.64</td>\n      <td>6.50</td>\n      <td>6.51</td>\n      <td>552160000</td>\n      <td>0.0</td>\n      <td>0.0</td>\n    </tr>\n    <tr>\n      <th>2010-01-07</th>\n      <td>6.54</td>\n      <td>6.54</td>\n      <td>6.45</td>\n      <td>6.50</td>\n      <td>477131200</td>\n      <td>0.0</td>\n      <td>0.0</td>\n    </tr>\n    <tr>\n      <th>2010-01-08</th>\n      <td>6.49</td>\n      <td>6.54</td>\n      <td>6.45</td>\n      <td>6.54</td>\n      <td>447610800</td>\n      <td>0.0</td>\n      <td>0.0</td>\n    </tr>\n  </tbody>\n</table>\n</div>",
            "text/plain": "            Open  High   Low  Close     Volume  Dividends  Stock Splits\nDate                                                                   \n2010-01-04  6.59  6.62  6.55   6.60  493729600        0.0           0.0\n2010-01-05  6.62  6.65  6.58   6.62  601904800        0.0           0.0\n2010-01-06  6.62  6.64  6.50   6.51  552160000        0.0           0.0\n2010-01-07  6.54  6.54  6.45   6.50  477131200        0.0           0.0\n2010-01-08  6.49  6.54  6.45   6.54  447610800        0.0           0.0"
          },
          "metadata": {}
        }
      ],
      "execution_count": 7,
      "metadata": {
        "collapsed": true,
        "jupyter": {
          "source_hidden": false,
          "outputs_hidden": false
        },
        "nteract": {
          "transient": {
            "deleting": false
          }
        },
        "execution": {
          "iopub.status.busy": "2020-10-22T01:19:09.354Z",
          "iopub.execute_input": "2020-10-22T01:19:09.360Z",
          "iopub.status.idle": "2020-10-22T01:19:09.432Z",
          "shell.execute_reply": "2020-10-22T01:19:09.513Z"
        }
      }
    },
    {
      "cell_type": "code",
      "source": [
        "df.tail()"
      ],
      "outputs": [
        {
          "output_type": "execute_result",
          "execution_count": 8,
          "data": {
            "text/html": "<div>\n<style scoped>\n    .dataframe tbody tr th:only-of-type {\n        vertical-align: middle;\n    }\n\n    .dataframe tbody tr th {\n        vertical-align: top;\n    }\n\n    .dataframe thead th {\n        text-align: right;\n    }\n</style>\n<table border=\"1\" class=\"dataframe\">\n  <thead>\n    <tr style=\"text-align: right;\">\n      <th></th>\n      <th>Open</th>\n      <th>High</th>\n      <th>Low</th>\n      <th>Close</th>\n      <th>Volume</th>\n      <th>Dividends</th>\n      <th>Stock Splits</th>\n    </tr>\n    <tr>\n      <th>Date</th>\n      <th></th>\n      <th></th>\n      <th></th>\n      <th></th>\n      <th></th>\n      <th></th>\n      <th></th>\n    </tr>\n  </thead>\n  <tbody>\n    <tr>\n      <th>2020-09-24</th>\n      <td>105.17</td>\n      <td>110.25</td>\n      <td>105.00</td>\n      <td>108.22</td>\n      <td>167743300</td>\n      <td>0.0</td>\n      <td>0.0</td>\n    </tr>\n    <tr>\n      <th>2020-09-25</th>\n      <td>108.43</td>\n      <td>112.44</td>\n      <td>107.67</td>\n      <td>112.28</td>\n      <td>149981400</td>\n      <td>0.0</td>\n      <td>0.0</td>\n    </tr>\n    <tr>\n      <th>2020-09-28</th>\n      <td>115.01</td>\n      <td>115.32</td>\n      <td>112.78</td>\n      <td>114.96</td>\n      <td>137672400</td>\n      <td>0.0</td>\n      <td>0.0</td>\n    </tr>\n    <tr>\n      <th>2020-09-29</th>\n      <td>114.55</td>\n      <td>115.31</td>\n      <td>113.57</td>\n      <td>114.09</td>\n      <td>99382200</td>\n      <td>0.0</td>\n      <td>0.0</td>\n    </tr>\n    <tr>\n      <th>2020-09-30</th>\n      <td>113.79</td>\n      <td>117.26</td>\n      <td>113.62</td>\n      <td>115.81</td>\n      <td>142675200</td>\n      <td>0.0</td>\n      <td>0.0</td>\n    </tr>\n  </tbody>\n</table>\n</div>",
            "text/plain": "              Open    High     Low   Close     Volume  Dividends  Stock Splits\nDate                                                                          \n2020-09-24  105.17  110.25  105.00  108.22  167743300        0.0           0.0\n2020-09-25  108.43  112.44  107.67  112.28  149981400        0.0           0.0\n2020-09-28  115.01  115.32  112.78  114.96  137672400        0.0           0.0\n2020-09-29  114.55  115.31  113.57  114.09   99382200        0.0           0.0\n2020-09-30  113.79  117.26  113.62  115.81  142675200        0.0           0.0"
          },
          "metadata": {}
        }
      ],
      "execution_count": 8,
      "metadata": {
        "collapsed": true,
        "jupyter": {
          "source_hidden": false,
          "outputs_hidden": false
        },
        "nteract": {
          "transient": {
            "deleting": false
          }
        },
        "execution": {
          "iopub.status.busy": "2020-10-22T01:19:11.661Z",
          "iopub.execute_input": "2020-10-22T01:19:11.667Z",
          "iopub.status.idle": "2020-10-22T01:19:11.681Z",
          "shell.execute_reply": "2020-10-22T01:19:11.700Z"
        }
      }
    },
    {
      "cell_type": "code",
      "source": [
        "aapl.actions"
      ],
      "outputs": [
        {
          "output_type": "execute_result",
          "execution_count": 10,
          "data": {
            "text/html": "<div>\n<style scoped>\n    .dataframe tbody tr th:only-of-type {\n        vertical-align: middle;\n    }\n\n    .dataframe tbody tr th {\n        vertical-align: top;\n    }\n\n    .dataframe thead th {\n        text-align: right;\n    }\n</style>\n<table border=\"1\" class=\"dataframe\">\n  <thead>\n    <tr style=\"text-align: right;\">\n      <th></th>\n      <th>Dividends</th>\n      <th>Stock Splits</th>\n    </tr>\n    <tr>\n      <th>Date</th>\n      <th></th>\n      <th></th>\n    </tr>\n  </thead>\n  <tbody>\n    <tr>\n      <th>2012-08-09</th>\n      <td>0.09464</td>\n      <td>0.0</td>\n    </tr>\n    <tr>\n      <th>2012-11-07</th>\n      <td>0.09464</td>\n      <td>0.0</td>\n    </tr>\n    <tr>\n      <th>2013-02-07</th>\n      <td>0.09464</td>\n      <td>0.0</td>\n    </tr>\n    <tr>\n      <th>2013-05-09</th>\n      <td>0.10893</td>\n      <td>0.0</td>\n    </tr>\n    <tr>\n      <th>2013-08-08</th>\n      <td>0.10893</td>\n      <td>0.0</td>\n    </tr>\n    <tr>\n      <th>2013-11-06</th>\n      <td>0.10893</td>\n      <td>0.0</td>\n    </tr>\n    <tr>\n      <th>2014-02-06</th>\n      <td>0.10893</td>\n      <td>0.0</td>\n    </tr>\n    <tr>\n      <th>2014-05-08</th>\n      <td>0.11750</td>\n      <td>0.0</td>\n    </tr>\n    <tr>\n      <th>2014-06-09</th>\n      <td>0.00000</td>\n      <td>7.0</td>\n    </tr>\n    <tr>\n      <th>2014-08-07</th>\n      <td>0.11750</td>\n      <td>0.0</td>\n    </tr>\n    <tr>\n      <th>2014-11-06</th>\n      <td>0.11750</td>\n      <td>0.0</td>\n    </tr>\n    <tr>\n      <th>2015-02-05</th>\n      <td>0.11750</td>\n      <td>0.0</td>\n    </tr>\n    <tr>\n      <th>2015-05-07</th>\n      <td>0.13000</td>\n      <td>0.0</td>\n    </tr>\n    <tr>\n      <th>2015-08-06</th>\n      <td>0.13000</td>\n      <td>0.0</td>\n    </tr>\n    <tr>\n      <th>2015-11-05</th>\n      <td>0.13000</td>\n      <td>0.0</td>\n    </tr>\n    <tr>\n      <th>2016-02-04</th>\n      <td>0.13000</td>\n      <td>0.0</td>\n    </tr>\n    <tr>\n      <th>2016-05-05</th>\n      <td>0.14250</td>\n      <td>0.0</td>\n    </tr>\n    <tr>\n      <th>2016-08-04</th>\n      <td>0.14250</td>\n      <td>0.0</td>\n    </tr>\n    <tr>\n      <th>2016-11-03</th>\n      <td>0.14250</td>\n      <td>0.0</td>\n    </tr>\n    <tr>\n      <th>2017-02-09</th>\n      <td>0.14250</td>\n      <td>0.0</td>\n    </tr>\n    <tr>\n      <th>2017-05-11</th>\n      <td>0.15750</td>\n      <td>0.0</td>\n    </tr>\n    <tr>\n      <th>2017-08-10</th>\n      <td>0.15750</td>\n      <td>0.0</td>\n    </tr>\n    <tr>\n      <th>2017-11-10</th>\n      <td>0.15750</td>\n      <td>0.0</td>\n    </tr>\n    <tr>\n      <th>2018-02-09</th>\n      <td>0.15750</td>\n      <td>0.0</td>\n    </tr>\n    <tr>\n      <th>2018-05-11</th>\n      <td>0.18250</td>\n      <td>0.0</td>\n    </tr>\n    <tr>\n      <th>2018-08-10</th>\n      <td>0.18250</td>\n      <td>0.0</td>\n    </tr>\n    <tr>\n      <th>2018-11-08</th>\n      <td>0.18250</td>\n      <td>0.0</td>\n    </tr>\n    <tr>\n      <th>2019-02-08</th>\n      <td>0.18250</td>\n      <td>0.0</td>\n    </tr>\n    <tr>\n      <th>2019-05-10</th>\n      <td>0.19250</td>\n      <td>0.0</td>\n    </tr>\n    <tr>\n      <th>2019-08-09</th>\n      <td>0.19250</td>\n      <td>0.0</td>\n    </tr>\n    <tr>\n      <th>2019-11-07</th>\n      <td>0.19250</td>\n      <td>0.0</td>\n    </tr>\n    <tr>\n      <th>2020-02-07</th>\n      <td>0.19250</td>\n      <td>0.0</td>\n    </tr>\n    <tr>\n      <th>2020-05-08</th>\n      <td>0.20500</td>\n      <td>0.0</td>\n    </tr>\n    <tr>\n      <th>2020-08-07</th>\n      <td>0.20500</td>\n      <td>0.0</td>\n    </tr>\n    <tr>\n      <th>2020-08-31</th>\n      <td>0.00000</td>\n      <td>4.0</td>\n    </tr>\n  </tbody>\n</table>\n</div>",
            "text/plain": "            Dividends  Stock Splits\nDate                               \n2012-08-09    0.09464           0.0\n2012-11-07    0.09464           0.0\n2013-02-07    0.09464           0.0\n2013-05-09    0.10893           0.0\n2013-08-08    0.10893           0.0\n2013-11-06    0.10893           0.0\n2014-02-06    0.10893           0.0\n2014-05-08    0.11750           0.0\n2014-06-09    0.00000           7.0\n2014-08-07    0.11750           0.0\n2014-11-06    0.11750           0.0\n2015-02-05    0.11750           0.0\n2015-05-07    0.13000           0.0\n2015-08-06    0.13000           0.0\n2015-11-05    0.13000           0.0\n2016-02-04    0.13000           0.0\n2016-05-05    0.14250           0.0\n2016-08-04    0.14250           0.0\n2016-11-03    0.14250           0.0\n2017-02-09    0.14250           0.0\n2017-05-11    0.15750           0.0\n2017-08-10    0.15750           0.0\n2017-11-10    0.15750           0.0\n2018-02-09    0.15750           0.0\n2018-05-11    0.18250           0.0\n2018-08-10    0.18250           0.0\n2018-11-08    0.18250           0.0\n2019-02-08    0.18250           0.0\n2019-05-10    0.19250           0.0\n2019-08-09    0.19250           0.0\n2019-11-07    0.19250           0.0\n2020-02-07    0.19250           0.0\n2020-05-08    0.20500           0.0\n2020-08-07    0.20500           0.0\n2020-08-31    0.00000           4.0"
          },
          "metadata": {}
        }
      ],
      "execution_count": 10,
      "metadata": {
        "collapsed": true,
        "jupyter": {
          "source_hidden": false,
          "outputs_hidden": false
        },
        "nteract": {
          "transient": {
            "deleting": false
          }
        },
        "execution": {
          "iopub.status.busy": "2020-10-22T01:19:39.689Z",
          "iopub.execute_input": "2020-10-22T01:19:39.696Z",
          "iopub.status.idle": "2020-10-22T01:19:39.712Z",
          "shell.execute_reply": "2020-10-22T01:19:39.732Z"
        }
      }
    },
    {
      "cell_type": "code",
      "source": [
        "aapl.dividends"
      ],
      "outputs": [
        {
          "output_type": "execute_result",
          "execution_count": 11,
          "data": {
            "text/plain": "Date\n2012-08-09    0.09464\n2012-11-07    0.09464\n2013-02-07    0.09464\n2013-05-09    0.10893\n2013-08-08    0.10893\n2013-11-06    0.10893\n2014-02-06    0.10893\n2014-05-08    0.11750\n2014-08-07    0.11750\n2014-11-06    0.11750\n2015-02-05    0.11750\n2015-05-07    0.13000\n2015-08-06    0.13000\n2015-11-05    0.13000\n2016-02-04    0.13000\n2016-05-05    0.14250\n2016-08-04    0.14250\n2016-11-03    0.14250\n2017-02-09    0.14250\n2017-05-11    0.15750\n2017-08-10    0.15750\n2017-11-10    0.15750\n2018-02-09    0.15750\n2018-05-11    0.18250\n2018-08-10    0.18250\n2018-11-08    0.18250\n2019-02-08    0.18250\n2019-05-10    0.19250\n2019-08-09    0.19250\n2019-11-07    0.19250\n2020-02-07    0.19250\n2020-05-08    0.20500\n2020-08-07    0.20500\nName: Dividends, dtype: float64"
          },
          "metadata": {}
        }
      ],
      "execution_count": 11,
      "metadata": {
        "collapsed": true,
        "jupyter": {
          "source_hidden": false,
          "outputs_hidden": false
        },
        "nteract": {
          "transient": {
            "deleting": false
          }
        },
        "execution": {
          "iopub.status.busy": "2020-10-22T01:19:57.166Z",
          "iopub.execute_input": "2020-10-22T01:19:57.175Z",
          "iopub.status.idle": "2020-10-22T01:19:57.243Z",
          "shell.execute_reply": "2020-10-22T01:19:57.268Z"
        }
      }
    },
    {
      "cell_type": "code",
      "source": [
        "aapl.splits"
      ],
      "outputs": [
        {
          "output_type": "execute_result",
          "execution_count": 12,
          "data": {
            "text/plain": "Date\n2014-06-09    7.0\n2020-08-31    4.0\nName: Stock Splits, dtype: float64"
          },
          "metadata": {}
        }
      ],
      "execution_count": 12,
      "metadata": {
        "collapsed": true,
        "jupyter": {
          "source_hidden": false,
          "outputs_hidden": false
        },
        "nteract": {
          "transient": {
            "deleting": false
          }
        },
        "execution": {
          "iopub.status.busy": "2020-10-22T01:20:00.429Z",
          "iopub.execute_input": "2020-10-22T01:20:00.435Z",
          "iopub.status.idle": "2020-10-22T01:20:00.449Z",
          "shell.execute_reply": "2020-10-22T01:20:00.459Z"
        }
      }
    },
    {
      "cell_type": "code",
      "source": [
        "aapl.sustainability"
      ],
      "outputs": [
        {
          "output_type": "execute_result",
          "execution_count": 13,
          "data": {
            "text/html": "<div>\n<style scoped>\n    .dataframe tbody tr th:only-of-type {\n        vertical-align: middle;\n    }\n\n    .dataframe tbody tr th {\n        vertical-align: top;\n    }\n\n    .dataframe thead th {\n        text-align: right;\n    }\n</style>\n<table border=\"1\" class=\"dataframe\">\n  <thead>\n    <tr style=\"text-align: right;\">\n      <th></th>\n      <th>Value</th>\n    </tr>\n    <tr>\n      <th>2020-10</th>\n      <th></th>\n    </tr>\n  </thead>\n  <tbody>\n    <tr>\n      <th>adult</th>\n      <td>False</td>\n    </tr>\n    <tr>\n      <th>alcoholic</th>\n      <td>False</td>\n    </tr>\n    <tr>\n      <th>animalTesting</th>\n      <td>False</td>\n    </tr>\n    <tr>\n      <th>catholic</th>\n      <td>False</td>\n    </tr>\n    <tr>\n      <th>coal</th>\n      <td>False</td>\n    </tr>\n    <tr>\n      <th>controversialWeapons</th>\n      <td>False</td>\n    </tr>\n    <tr>\n      <th>environmentPercentile</th>\n      <td>None</td>\n    </tr>\n    <tr>\n      <th>environmentScore</th>\n      <td>0.49</td>\n    </tr>\n    <tr>\n      <th>esgPerformance</th>\n      <td>AVG_PERF</td>\n    </tr>\n    <tr>\n      <th>furLeather</th>\n      <td>False</td>\n    </tr>\n    <tr>\n      <th>gambling</th>\n      <td>False</td>\n    </tr>\n    <tr>\n      <th>gmo</th>\n      <td>False</td>\n    </tr>\n    <tr>\n      <th>governancePercentile</th>\n      <td>None</td>\n    </tr>\n    <tr>\n      <th>governanceScore</th>\n      <td>10.18</td>\n    </tr>\n    <tr>\n      <th>highestControversy</th>\n      <td>3</td>\n    </tr>\n    <tr>\n      <th>militaryContract</th>\n      <td>False</td>\n    </tr>\n    <tr>\n      <th>nuclear</th>\n      <td>False</td>\n    </tr>\n    <tr>\n      <th>palmOil</th>\n      <td>False</td>\n    </tr>\n    <tr>\n      <th>peerCount</th>\n      <td>55</td>\n    </tr>\n    <tr>\n      <th>peerGroup</th>\n      <td>Technology Hardware</td>\n    </tr>\n    <tr>\n      <th>percentile</th>\n      <td>33.05</td>\n    </tr>\n    <tr>\n      <th>pesticides</th>\n      <td>False</td>\n    </tr>\n    <tr>\n      <th>smallArms</th>\n      <td>False</td>\n    </tr>\n    <tr>\n      <th>socialPercentile</th>\n      <td>None</td>\n    </tr>\n    <tr>\n      <th>socialScore</th>\n      <td>12.98</td>\n    </tr>\n    <tr>\n      <th>tobacco</th>\n      <td>False</td>\n    </tr>\n    <tr>\n      <th>totalEsg</th>\n      <td>23.65</td>\n    </tr>\n  </tbody>\n</table>\n</div>",
            "text/plain": "                                     Value\n2020-10                                   \nadult                                False\nalcoholic                            False\nanimalTesting                        False\ncatholic                             False\ncoal                                 False\ncontroversialWeapons                 False\nenvironmentPercentile                 None\nenvironmentScore                      0.49\nesgPerformance                    AVG_PERF\nfurLeather                           False\ngambling                             False\ngmo                                  False\ngovernancePercentile                  None\ngovernanceScore                      10.18\nhighestControversy                       3\nmilitaryContract                     False\nnuclear                              False\npalmOil                              False\npeerCount                               55\npeerGroup              Technology Hardware\npercentile                           33.05\npesticides                           False\nsmallArms                            False\nsocialPercentile                      None\nsocialScore                          12.98\ntobacco                              False\ntotalEsg                             23.65"
          },
          "metadata": {}
        }
      ],
      "execution_count": 13,
      "metadata": {
        "collapsed": true,
        "jupyter": {
          "source_hidden": false,
          "outputs_hidden": false
        },
        "nteract": {
          "transient": {
            "deleting": false
          }
        },
        "execution": {
          "iopub.status.busy": "2020-10-22T01:20:20.711Z",
          "iopub.execute_input": "2020-10-22T01:20:20.724Z",
          "iopub.status.idle": "2020-10-22T01:20:20.752Z",
          "shell.execute_reply": "2020-10-22T01:20:20.789Z"
        }
      }
    },
    {
      "cell_type": "code",
      "source": [
        "aapl.recommendations"
      ],
      "outputs": [
        {
          "output_type": "execute_result",
          "execution_count": 15,
          "data": {
            "text/html": "<div>\n<style scoped>\n    .dataframe tbody tr th:only-of-type {\n        vertical-align: middle;\n    }\n\n    .dataframe tbody tr th {\n        vertical-align: top;\n    }\n\n    .dataframe thead th {\n        text-align: right;\n    }\n</style>\n<table border=\"1\" class=\"dataframe\">\n  <thead>\n    <tr style=\"text-align: right;\">\n      <th></th>\n      <th>Firm</th>\n      <th>To Grade</th>\n      <th>From Grade</th>\n      <th>Action</th>\n    </tr>\n    <tr>\n      <th>Date</th>\n      <th></th>\n      <th></th>\n      <th></th>\n      <th></th>\n    </tr>\n  </thead>\n  <tbody>\n    <tr>\n      <th>2012-02-09 08:17:00</th>\n      <td>Canaccord Genuity</td>\n      <td>Buy</td>\n      <td></td>\n      <td>main</td>\n    </tr>\n    <tr>\n      <th>2012-03-08 07:33:00</th>\n      <td>FBN Securities</td>\n      <td>Outperform</td>\n      <td></td>\n      <td>main</td>\n    </tr>\n    <tr>\n      <th>2012-03-13 06:08:00</th>\n      <td>Jefferies</td>\n      <td>Buy</td>\n      <td></td>\n      <td>main</td>\n    </tr>\n    <tr>\n      <th>2012-03-14 06:13:00</th>\n      <td>Morgan Stanley</td>\n      <td>Overweight</td>\n      <td></td>\n      <td>main</td>\n    </tr>\n    <tr>\n      <th>2012-03-14 08:21:00</th>\n      <td>Canaccord Genuity</td>\n      <td>Buy</td>\n      <td></td>\n      <td>main</td>\n    </tr>\n    <tr>\n      <th>2012-03-14 15:25:00</th>\n      <td>Oxen Group</td>\n      <td>Buy</td>\n      <td></td>\n      <td>init</td>\n    </tr>\n    <tr>\n      <th>2012-03-15 07:53:00</th>\n      <td>PiperJaffray</td>\n      <td>Overweight</td>\n      <td></td>\n      <td>main</td>\n    </tr>\n    <tr>\n      <th>2012-03-16 06:53:00</th>\n      <td>Oppenheimer</td>\n      <td>Outperform</td>\n      <td></td>\n      <td>main</td>\n    </tr>\n    <tr>\n      <th>2012-03-16 13:53:00</th>\n      <td>UBS</td>\n      <td>Buy</td>\n      <td></td>\n      <td>main</td>\n    </tr>\n    <tr>\n      <th>2012-03-19 07:24:00</th>\n      <td>Wedbush</td>\n      <td>Outperform</td>\n      <td></td>\n      <td>main</td>\n    </tr>\n    <tr>\n      <th>2012-03-19 09:53:00</th>\n      <td>FBN Securities</td>\n      <td>Outperform</td>\n      <td></td>\n      <td>main</td>\n    </tr>\n    <tr>\n      <th>2012-03-19 14:25:00</th>\n      <td>Goldman Sachs</td>\n      <td>Buy</td>\n      <td></td>\n      <td>main</td>\n    </tr>\n    <tr>\n      <th>2012-03-19 14:59:00</th>\n      <td>Morgan Keegan</td>\n      <td>Outperform</td>\n      <td></td>\n      <td>main</td>\n    </tr>\n    <tr>\n      <th>2012-03-20 06:10:00</th>\n      <td>Sterne Agee</td>\n      <td>Buy</td>\n      <td></td>\n      <td>main</td>\n    </tr>\n    <tr>\n      <th>2012-03-20 06:53:00</th>\n      <td>Citigroup</td>\n      <td>Buy</td>\n      <td></td>\n      <td>main</td>\n    </tr>\n    <tr>\n      <th>2012-03-21 08:43:00</th>\n      <td>Scotiabank</td>\n      <td>Sector Perform</td>\n      <td></td>\n      <td>main</td>\n    </tr>\n    <tr>\n      <th>2012-03-21 14:31:00</th>\n      <td>Hilliard Lyons</td>\n      <td>Buy</td>\n      <td></td>\n      <td>main</td>\n    </tr>\n    <tr>\n      <th>2012-03-21 14:33:00</th>\n      <td>Crowell, Weedon &amp; Co.</td>\n      <td>Buy</td>\n      <td></td>\n      <td>main</td>\n    </tr>\n    <tr>\n      <th>2012-03-30 07:16:00</th>\n      <td>BMO Capital</td>\n      <td>Outperform</td>\n      <td></td>\n      <td>main</td>\n    </tr>\n    <tr>\n      <th>2012-04-03 07:01:00</th>\n      <td>PiperJaffray</td>\n      <td>Overweight</td>\n      <td></td>\n      <td>main</td>\n    </tr>\n    <tr>\n      <th>2012-04-03 07:06:00</th>\n      <td>JP Morgan</td>\n      <td>Overweight</td>\n      <td></td>\n      <td>main</td>\n    </tr>\n    <tr>\n      <th>2012-04-05 06:25:00</th>\n      <td>Jefferies</td>\n      <td>Buy</td>\n      <td></td>\n      <td>main</td>\n    </tr>\n    <tr>\n      <th>2012-04-09 07:00:00</th>\n      <td>BTIG Research</td>\n      <td>Neutral</td>\n      <td></td>\n      <td>down</td>\n    </tr>\n    <tr>\n      <th>2012-04-11 06:42:00</th>\n      <td>Sterne Agee</td>\n      <td>Buy</td>\n      <td></td>\n      <td>main</td>\n    </tr>\n    <tr>\n      <th>2012-04-12 06:00:00</th>\n      <td>Credit Suisse</td>\n      <td>Outperform</td>\n      <td></td>\n      <td>main</td>\n    </tr>\n    <tr>\n      <th>2012-04-13 06:49:00</th>\n      <td>Bank oferica</td>\n      <td>Buy</td>\n      <td></td>\n      <td>main</td>\n    </tr>\n    <tr>\n      <th>2012-04-18 06:23:00</th>\n      <td>Goldman Sachs</td>\n      <td>Buy</td>\n      <td></td>\n      <td>main</td>\n    </tr>\n    <tr>\n      <th>2012-04-19 06:15:00</th>\n      <td>Canaccord Genuity</td>\n      <td>Buy</td>\n      <td></td>\n      <td>main</td>\n    </tr>\n    <tr>\n      <th>2012-04-25 06:04:00</th>\n      <td>Deutsche Bank</td>\n      <td>Buy</td>\n      <td></td>\n      <td>main</td>\n    </tr>\n    <tr>\n      <th>2012-04-25 06:42:00</th>\n      <td>Goldman Sachs</td>\n      <td>Buy</td>\n      <td></td>\n      <td>main</td>\n    </tr>\n    <tr>\n      <th>...</th>\n      <td>...</td>\n      <td>...</td>\n      <td>...</td>\n      <td>...</td>\n    </tr>\n    <tr>\n      <th>2020-09-23 09:17:15</th>\n      <td>Sterne Agee</td>\n      <td>Buy</td>\n      <td></td>\n      <td>main</td>\n    </tr>\n    <tr>\n      <th>2020-09-23 09:17:34</th>\n      <td>ABG Sundal Collier</td>\n      <td>Sell</td>\n      <td>Hold</td>\n      <td>down</td>\n    </tr>\n    <tr>\n      <th>2020-09-23 09:18:02</th>\n      <td>Global Equities Research</td>\n      <td>Overweight</td>\n      <td></td>\n      <td>main</td>\n    </tr>\n    <tr>\n      <th>2020-09-23 09:18:11</th>\n      <td>Piper Jaffray</td>\n      <td>Overweight</td>\n      <td></td>\n      <td>main</td>\n    </tr>\n    <tr>\n      <th>2020-09-23 09:18:24</th>\n      <td>Janney Capital</td>\n      <td>Buy</td>\n      <td></td>\n      <td>main</td>\n    </tr>\n    <tr>\n      <th>2020-09-23 09:18:52</th>\n      <td>Stifel</td>\n      <td>Buy</td>\n      <td></td>\n      <td>main</td>\n    </tr>\n    <tr>\n      <th>2020-09-23 09:19:04</th>\n      <td>Longbow Research</td>\n      <td>Buy</td>\n      <td>Neutral</td>\n      <td>up</td>\n    </tr>\n    <tr>\n      <th>2020-09-23 09:19:23</th>\n      <td>Oracle Investment Research</td>\n      <td>Strong Buy</td>\n      <td></td>\n      <td>main</td>\n    </tr>\n    <tr>\n      <th>2020-09-23 09:19:38</th>\n      <td>BGC Financial</td>\n      <td>Hold</td>\n      <td>Buy</td>\n      <td>down</td>\n    </tr>\n    <tr>\n      <th>2020-09-23 09:19:56</th>\n      <td>Citi</td>\n      <td>Buy</td>\n      <td></td>\n      <td>main</td>\n    </tr>\n    <tr>\n      <th>2020-09-23 09:20:05</th>\n      <td>ISI Group</td>\n      <td>Buy</td>\n      <td>Strong Buy</td>\n      <td>down</td>\n    </tr>\n    <tr>\n      <th>2020-09-23 09:20:34</th>\n      <td>Evercore Partners</td>\n      <td>Overweight</td>\n      <td></td>\n      <td>main</td>\n    </tr>\n    <tr>\n      <th>2020-09-23 09:20:45</th>\n      <td>BMO Capital</td>\n      <td>Market Perform</td>\n      <td>Market Perform</td>\n      <td>main</td>\n    </tr>\n    <tr>\n      <th>2020-09-23 09:21:26</th>\n      <td>Berenberg</td>\n      <td>Buy</td>\n      <td></td>\n      <td>main</td>\n    </tr>\n    <tr>\n      <th>2020-09-23 09:21:41</th>\n      <td>Argus</td>\n      <td>Buy</td>\n      <td>Buy</td>\n      <td>main</td>\n    </tr>\n    <tr>\n      <th>2020-09-23 09:22:00</th>\n      <td>Cantor Fitzgerald</td>\n      <td>Buy</td>\n      <td></td>\n      <td>main</td>\n    </tr>\n    <tr>\n      <th>2020-09-23 09:22:18</th>\n      <td>Susquehanna</td>\n      <td>Positive</td>\n      <td></td>\n      <td>main</td>\n    </tr>\n    <tr>\n      <th>2020-09-23 09:22:24</th>\n      <td>KeyBanc</td>\n      <td>Sector Weight</td>\n      <td>Overweight</td>\n      <td>down</td>\n    </tr>\n    <tr>\n      <th>2020-09-23 09:23:31</th>\n      <td>Societe Generale</td>\n      <td>Buy</td>\n      <td>Hold</td>\n      <td>up</td>\n    </tr>\n    <tr>\n      <th>2020-09-23 09:25:37</th>\n      <td>Mizuho</td>\n      <td>Neutral</td>\n      <td>Buy</td>\n      <td>down</td>\n    </tr>\n    <tr>\n      <th>2020-09-23 09:26:42</th>\n      <td>BTIG Research</td>\n      <td>Buy</td>\n      <td>Buy</td>\n      <td>main</td>\n    </tr>\n    <tr>\n      <th>2020-09-23 09:27:52</th>\n      <td>CLSA</td>\n      <td>Buy</td>\n      <td></td>\n      <td>main</td>\n    </tr>\n    <tr>\n      <th>2020-09-23 09:28:49</th>\n      <td>FBN Securities</td>\n      <td>Outperform</td>\n      <td></td>\n      <td>main</td>\n    </tr>\n    <tr>\n      <th>2020-09-23 09:30:06</th>\n      <td>FBR Capital</td>\n      <td>Outperform</td>\n      <td></td>\n      <td>main</td>\n    </tr>\n    <tr>\n      <th>2020-09-23 09:31:25</th>\n      <td>JMP Securities</td>\n      <td>Outperform</td>\n      <td></td>\n      <td>main</td>\n    </tr>\n    <tr>\n      <th>2020-09-23 09:32:35</th>\n      <td>Pacific Crest</td>\n      <td>Sector Weight</td>\n      <td>Overweight</td>\n      <td>down</td>\n    </tr>\n    <tr>\n      <th>2020-09-24 00:10:26</th>\n      <td>Wedbush</td>\n      <td>Outperform</td>\n      <td></td>\n      <td>main</td>\n    </tr>\n    <tr>\n      <th>2020-10-12 11:23:23</th>\n      <td>RBC Capital</td>\n      <td>Outperform</td>\n      <td></td>\n      <td>main</td>\n    </tr>\n    <tr>\n      <th>2020-10-14 12:07:26</th>\n      <td>Morgan Stanley</td>\n      <td>Overweight</td>\n      <td></td>\n      <td>main</td>\n    </tr>\n    <tr>\n      <th>2020-10-14 12:54:46</th>\n      <td>Credit Suisse</td>\n      <td>Neutral</td>\n      <td></td>\n      <td>main</td>\n    </tr>\n  </tbody>\n</table>\n<p>809 rows × 4 columns</p>\n</div>",
            "text/plain": "                                           Firm        To Grade  \\\nDate                                                              \n2012-02-09 08:17:00           Canaccord Genuity             Buy   \n2012-03-08 07:33:00              FBN Securities      Outperform   \n2012-03-13 06:08:00                   Jefferies             Buy   \n2012-03-14 06:13:00              Morgan Stanley      Overweight   \n2012-03-14 08:21:00           Canaccord Genuity             Buy   \n2012-03-14 15:25:00                  Oxen Group             Buy   \n2012-03-15 07:53:00                PiperJaffray      Overweight   \n2012-03-16 06:53:00                 Oppenheimer      Outperform   \n2012-03-16 13:53:00                         UBS             Buy   \n2012-03-19 07:24:00                     Wedbush      Outperform   \n2012-03-19 09:53:00              FBN Securities      Outperform   \n2012-03-19 14:25:00               Goldman Sachs             Buy   \n2012-03-19 14:59:00               Morgan Keegan      Outperform   \n2012-03-20 06:10:00                 Sterne Agee             Buy   \n2012-03-20 06:53:00                   Citigroup             Buy   \n2012-03-21 08:43:00                  Scotiabank  Sector Perform   \n2012-03-21 14:31:00              Hilliard Lyons             Buy   \n2012-03-21 14:33:00       Crowell, Weedon & Co.             Buy   \n2012-03-30 07:16:00                 BMO Capital      Outperform   \n2012-04-03 07:01:00                PiperJaffray      Overweight   \n2012-04-03 07:06:00                   JP Morgan      Overweight   \n2012-04-05 06:25:00                   Jefferies             Buy   \n2012-04-09 07:00:00               BTIG Research         Neutral   \n2012-04-11 06:42:00                 Sterne Agee             Buy   \n2012-04-12 06:00:00               Credit Suisse      Outperform   \n2012-04-13 06:49:00                Bank oferica             Buy   \n2012-04-18 06:23:00               Goldman Sachs             Buy   \n2012-04-19 06:15:00           Canaccord Genuity             Buy   \n2012-04-25 06:04:00               Deutsche Bank             Buy   \n2012-04-25 06:42:00               Goldman Sachs             Buy   \n...                                         ...             ...   \n2020-09-23 09:17:15                 Sterne Agee             Buy   \n2020-09-23 09:17:34          ABG Sundal Collier            Sell   \n2020-09-23 09:18:02    Global Equities Research      Overweight   \n2020-09-23 09:18:11               Piper Jaffray      Overweight   \n2020-09-23 09:18:24              Janney Capital             Buy   \n2020-09-23 09:18:52                      Stifel             Buy   \n2020-09-23 09:19:04            Longbow Research             Buy   \n2020-09-23 09:19:23  Oracle Investment Research      Strong Buy   \n2020-09-23 09:19:38               BGC Financial            Hold   \n2020-09-23 09:19:56                        Citi             Buy   \n2020-09-23 09:20:05                   ISI Group             Buy   \n2020-09-23 09:20:34           Evercore Partners      Overweight   \n2020-09-23 09:20:45                 BMO Capital  Market Perform   \n2020-09-23 09:21:26                   Berenberg             Buy   \n2020-09-23 09:21:41                       Argus             Buy   \n2020-09-23 09:22:00           Cantor Fitzgerald             Buy   \n2020-09-23 09:22:18                 Susquehanna        Positive   \n2020-09-23 09:22:24                     KeyBanc   Sector Weight   \n2020-09-23 09:23:31            Societe Generale             Buy   \n2020-09-23 09:25:37                      Mizuho         Neutral   \n2020-09-23 09:26:42               BTIG Research             Buy   \n2020-09-23 09:27:52                        CLSA             Buy   \n2020-09-23 09:28:49              FBN Securities      Outperform   \n2020-09-23 09:30:06                 FBR Capital      Outperform   \n2020-09-23 09:31:25              JMP Securities      Outperform   \n2020-09-23 09:32:35               Pacific Crest   Sector Weight   \n2020-09-24 00:10:26                     Wedbush      Outperform   \n2020-10-12 11:23:23                 RBC Capital      Outperform   \n2020-10-14 12:07:26              Morgan Stanley      Overweight   \n2020-10-14 12:54:46               Credit Suisse         Neutral   \n\n                         From Grade Action  \nDate                                        \n2012-02-09 08:17:00                   main  \n2012-03-08 07:33:00                   main  \n2012-03-13 06:08:00                   main  \n2012-03-14 06:13:00                   main  \n2012-03-14 08:21:00                   main  \n2012-03-14 15:25:00                   init  \n2012-03-15 07:53:00                   main  \n2012-03-16 06:53:00                   main  \n2012-03-16 13:53:00                   main  \n2012-03-19 07:24:00                   main  \n2012-03-19 09:53:00                   main  \n2012-03-19 14:25:00                   main  \n2012-03-19 14:59:00                   main  \n2012-03-20 06:10:00                   main  \n2012-03-20 06:53:00                   main  \n2012-03-21 08:43:00                   main  \n2012-03-21 14:31:00                   main  \n2012-03-21 14:33:00                   main  \n2012-03-30 07:16:00                   main  \n2012-04-03 07:01:00                   main  \n2012-04-03 07:06:00                   main  \n2012-04-05 06:25:00                   main  \n2012-04-09 07:00:00                   down  \n2012-04-11 06:42:00                   main  \n2012-04-12 06:00:00                   main  \n2012-04-13 06:49:00                   main  \n2012-04-18 06:23:00                   main  \n2012-04-19 06:15:00                   main  \n2012-04-25 06:04:00                   main  \n2012-04-25 06:42:00                   main  \n...                             ...    ...  \n2020-09-23 09:17:15                   main  \n2020-09-23 09:17:34            Hold   down  \n2020-09-23 09:18:02                   main  \n2020-09-23 09:18:11                   main  \n2020-09-23 09:18:24                   main  \n2020-09-23 09:18:52                   main  \n2020-09-23 09:19:04         Neutral     up  \n2020-09-23 09:19:23                   main  \n2020-09-23 09:19:38             Buy   down  \n2020-09-23 09:19:56                   main  \n2020-09-23 09:20:05      Strong Buy   down  \n2020-09-23 09:20:34                   main  \n2020-09-23 09:20:45  Market Perform   main  \n2020-09-23 09:21:26                   main  \n2020-09-23 09:21:41             Buy   main  \n2020-09-23 09:22:00                   main  \n2020-09-23 09:22:18                   main  \n2020-09-23 09:22:24      Overweight   down  \n2020-09-23 09:23:31            Hold     up  \n2020-09-23 09:25:37             Buy   down  \n2020-09-23 09:26:42             Buy   main  \n2020-09-23 09:27:52                   main  \n2020-09-23 09:28:49                   main  \n2020-09-23 09:30:06                   main  \n2020-09-23 09:31:25                   main  \n2020-09-23 09:32:35      Overweight   down  \n2020-09-24 00:10:26                   main  \n2020-10-12 11:23:23                   main  \n2020-10-14 12:07:26                   main  \n2020-10-14 12:54:46                   main  \n\n[809 rows x 4 columns]"
          },
          "metadata": {}
        }
      ],
      "execution_count": 15,
      "metadata": {
        "collapsed": true,
        "jupyter": {
          "source_hidden": false,
          "outputs_hidden": false
        },
        "nteract": {
          "transient": {
            "deleting": false
          }
        },
        "execution": {
          "iopub.status.busy": "2020-10-22T01:20:49.889Z",
          "iopub.execute_input": "2020-10-22T01:20:49.899Z",
          "iopub.status.idle": "2020-10-22T01:20:49.919Z",
          "shell.execute_reply": "2020-10-22T01:20:49.983Z"
        }
      }
    },
    {
      "cell_type": "code",
      "source": [
        "aapl.calendar"
      ],
      "outputs": [
        {
          "output_type": "execute_result",
          "execution_count": 16,
          "data": {
            "text/html": "<div>\n<style scoped>\n    .dataframe tbody tr th:only-of-type {\n        vertical-align: middle;\n    }\n\n    .dataframe tbody tr th {\n        vertical-align: top;\n    }\n\n    .dataframe thead th {\n        text-align: right;\n    }\n</style>\n<table border=\"1\" class=\"dataframe\">\n  <thead>\n    <tr style=\"text-align: right;\">\n      <th></th>\n      <th>Value</th>\n    </tr>\n  </thead>\n  <tbody>\n    <tr>\n      <th>Earnings Average</th>\n      <td>0.71</td>\n    </tr>\n    <tr>\n      <th>Earnings Date</th>\n      <td>2020-10-29 00:00:00</td>\n    </tr>\n    <tr>\n      <th>Earnings High</th>\n      <td>0.86</td>\n    </tr>\n    <tr>\n      <th>Earnings Low</th>\n      <td>0.54</td>\n    </tr>\n    <tr>\n      <th>Revenue Average</th>\n      <td>64159800000</td>\n    </tr>\n    <tr>\n      <th>Revenue High</th>\n      <td>70547000000</td>\n    </tr>\n    <tr>\n      <th>Revenue Low</th>\n      <td>52545000000</td>\n    </tr>\n  </tbody>\n</table>\n</div>",
            "text/plain": "                                Value\nEarnings Average                 0.71\nEarnings Date     2020-10-29 00:00:00\nEarnings High                    0.86\nEarnings Low                     0.54\nRevenue Average           64159800000\nRevenue High              70547000000\nRevenue Low               52545000000"
          },
          "metadata": {}
        }
      ],
      "execution_count": 16,
      "metadata": {
        "collapsed": true,
        "jupyter": {
          "source_hidden": false,
          "outputs_hidden": false
        },
        "nteract": {
          "transient": {
            "deleting": false
          }
        },
        "execution": {
          "iopub.status.busy": "2020-10-22T01:20:53.609Z",
          "iopub.execute_input": "2020-10-22T01:20:53.623Z",
          "iopub.status.idle": "2020-10-22T01:20:53.637Z",
          "shell.execute_reply": "2020-10-22T01:20:53.669Z"
        }
      }
    },
    {
      "cell_type": "code",
      "source": [
        "aapl.options"
      ],
      "outputs": [
        {
          "output_type": "execute_result",
          "execution_count": 19,
          "data": {
            "text/plain": "('2021-03-18',\n '2020-12-17',\n '2020-10-22',\n '2021-04-15',\n '2022-01-20',\n '2020-11-19',\n '2020-11-05',\n '2020-11-12',\n '2020-11-26',\n '2022-09-15',\n '2023-01-19',\n '2021-06-17',\n '2021-01-14',\n '2020-10-29',\n '2022-06-16',\n '2021-09-16')"
          },
          "metadata": {}
        }
      ],
      "execution_count": 19,
      "metadata": {
        "collapsed": true,
        "jupyter": {
          "source_hidden": false,
          "outputs_hidden": false
        },
        "nteract": {
          "transient": {
            "deleting": false
          }
        },
        "execution": {
          "iopub.status.busy": "2020-10-22T01:21:35.289Z",
          "iopub.execute_input": "2020-10-22T01:21:35.299Z",
          "iopub.status.idle": "2020-10-22T01:21:35.533Z",
          "shell.execute_reply": "2020-10-22T01:21:35.554Z"
        }
      }
    }
  ],
  "metadata": {
    "kernel_info": {
      "name": "python3"
    },
    "language_info": {
      "codemirror_mode": {
        "name": "ipython",
        "version": 3
      },
      "nbconvert_exporter": "python",
      "file_extension": ".py",
      "pygments_lexer": "ipython3",
      "mimetype": "text/x-python",
      "name": "python",
      "version": "3.5.5"
    },
    "kernelspec": {
      "argv": [
        "C:\\Users\\Tin Hang\\Anaconda3\\envs\\py35\\python.exe",
        "-m",
        "ipykernel_launcher",
        "-f",
        "{connection_file}"
      ],
      "display_name": "Python 3",
      "language": "python",
      "name": "python3"
    },
    "nteract": {
      "version": "0.25.1"
    }
  },
  "nbformat": 4,
  "nbformat_minor": 0
}