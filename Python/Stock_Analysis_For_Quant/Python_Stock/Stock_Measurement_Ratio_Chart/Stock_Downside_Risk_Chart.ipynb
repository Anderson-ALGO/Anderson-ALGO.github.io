{
  "cells": [
    {
      "cell_type": "markdown",
      "source": [
        "# Stock Downside Risk Chart"
      ],
      "metadata": {
        "nteract": {
          "transient": {
            "deleting": false
          }
        }
      }
    },
    {
      "cell_type": "code",
      "source": [
        "# Library\n",
        "import pandas as pd\n",
        "import numpy as np\n",
        "import matplotlib.pyplot as plt\n",
        "\n",
        "import warnings\n",
        "warnings.filterwarnings(\"ignore\")\n",
        "\n",
        "from pandas_datareader import data as pdr\n",
        "import yfinance as yf\n",
        "yf.pdr_override()"
      ],
      "outputs": [],
      "execution_count": 1,
      "metadata": {
        "collapsed": true,
        "jupyter": {
          "source_hidden": false,
          "outputs_hidden": false
        },
        "nteract": {
          "transient": {
            "deleting": false
          }
        },
        "execution": {
          "iopub.status.busy": "2020-09-21T21:22:28.021Z",
          "iopub.execute_input": "2020-09-21T21:22:28.027Z",
          "iopub.status.idle": "2020-09-21T21:22:29.014Z",
          "shell.execute_reply": "2020-09-21T21:22:29.057Z"
        }
      }
    },
    {
      "cell_type": "code",
      "source": [
        "start = '2019-01-01' #input\n",
        "end = '2020-07-01' #input\n",
        "symbol = 'AMD' #input"
      ],
      "outputs": [],
      "execution_count": 2,
      "metadata": {
        "collapsed": true,
        "jupyter": {
          "source_hidden": false,
          "outputs_hidden": false
        },
        "nteract": {
          "transient": {
            "deleting": false
          }
        },
        "execution": {
          "iopub.status.busy": "2020-09-21T21:22:29.023Z",
          "iopub.execute_input": "2020-09-21T21:22:29.029Z",
          "iopub.status.idle": "2020-09-21T21:22:29.039Z",
          "shell.execute_reply": "2020-09-21T21:22:29.061Z"
        }
      }
    },
    {
      "cell_type": "code",
      "source": [
        "stocks = yf.download(symbol, start=start, end=end)['Adj Close']"
      ],
      "outputs": [
        {
          "output_type": "stream",
          "name": "stdout",
          "text": [
            "[*********************100%***********************]  1 of 1 completed\n"
          ]
        }
      ],
      "execution_count": 3,
      "metadata": {
        "collapsed": true,
        "jupyter": {
          "source_hidden": false,
          "outputs_hidden": false
        },
        "nteract": {
          "transient": {
            "deleting": false
          }
        },
        "execution": {
          "iopub.status.busy": "2020-09-21T21:22:29.046Z",
          "iopub.execute_input": "2020-09-21T21:22:29.049Z",
          "iopub.status.idle": "2020-09-21T21:22:30.190Z",
          "shell.execute_reply": "2020-09-21T21:22:30.247Z"
        }
      }
    },
    {
      "cell_type": "code",
      "source": [
        "stocks_returns = stocks.pct_change().dropna()"
      ],
      "outputs": [],
      "execution_count": 4,
      "metadata": {
        "collapsed": true,
        "jupyter": {
          "source_hidden": false,
          "outputs_hidden": false
        },
        "nteract": {
          "transient": {
            "deleting": false
          }
        },
        "execution": {
          "iopub.status.busy": "2020-09-21T21:22:30.199Z",
          "iopub.execute_input": "2020-09-21T21:22:30.204Z",
          "iopub.status.idle": "2020-09-21T21:22:30.214Z",
          "shell.execute_reply": "2020-09-21T21:22:30.745Z"
        }
      }
    },
    {
      "cell_type": "code",
      "source": [
        "def downside_risk(stock_returns):\n",
        "    dr = stock_returns[stock_returns < stock_returns.mean()].std(skipna = True) * np.sqrt(252)\n",
        "    return dr"
      ],
      "outputs": [],
      "execution_count": 5,
      "metadata": {
        "collapsed": true,
        "jupyter": {
          "source_hidden": false,
          "outputs_hidden": false
        },
        "nteract": {
          "transient": {
            "deleting": false
          }
        },
        "execution": {
          "iopub.status.busy": "2020-09-21T21:22:30.220Z",
          "iopub.execute_input": "2020-09-21T21:22:30.224Z",
          "iopub.status.idle": "2020-09-21T21:22:30.231Z",
          "shell.execute_reply": "2020-09-21T21:22:30.749Z"
        }
      }
    },
    {
      "cell_type": "code",
      "source": [
        "# Compute the running Downside Risk\n",
        "running = [downside_risk(stocks_returns[i-90:i]) for i in range(90, len(stocks_returns))]\n",
        "\n",
        "# Plot running Downside Risk up to 100 days before the end of the data set\n",
        "_, ax1 = plt.subplots(figsize=(12,8))\n",
        "ax1.plot(range(90, len(stocks_returns)-100), running[:-100])\n",
        "ticks = ax1.get_xticks()\n",
        "ax1.set_xticklabels([stocks.index[int(i)].date() for i in ticks[:-1]]) # Label x-axis with dates\n",
        "plt.title(symbol + ' Downside Risk')\n",
        "plt.xlabel('Date')\n",
        "plt.ylabel('Downside Risk')"
      ],
      "outputs": [
        {
          "output_type": "execute_result",
          "execution_count": 6,
          "data": {
            "text/plain": "Text(0, 0.5, 'Downside Risk')"
          },
          "metadata": {}
        },
        {
          "output_type": "display_data",
          "data": {
            "image/png": "[encoded data removed]",
            "text/plain": "<Figure size 864x576 with 1 Axes>"
          },
          "metadata": {
            "needs_background": "light"
          }
        }
      ],
      "execution_count": 6,
      "metadata": {
        "collapsed": true,
        "jupyter": {
          "source_hidden": false,
          "outputs_hidden": false
        },
        "nteract": {
          "transient": {
            "deleting": false
          }
        },
        "execution": {
          "iopub.status.busy": "2020-09-21T21:22:30.237Z",
          "iopub.execute_input": "2020-09-21T21:22:30.448Z",
          "iopub.status.idle": "2020-09-21T21:22:30.701Z",
          "shell.execute_reply": "2020-09-21T21:22:30.753Z"
        }
      }
    },
    {
      "cell_type": "code",
      "source": [
        "stock_dr = downside_risk(stocks_returns)\n",
        "stock_dr"
      ],
      "outputs": [
        {
          "output_type": "execute_result",
          "execution_count": 7,
          "data": {
            "text/plain": "0.38395655251521654"
          },
          "metadata": {}
        }
      ],
      "execution_count": 7,
      "metadata": {
        "collapsed": true,
        "jupyter": {
          "source_hidden": false,
          "outputs_hidden": false
        },
        "nteract": {
          "transient": {
            "deleting": false
          }
        },
        "execution": {
          "iopub.status.busy": "2020-09-21T21:22:30.709Z",
          "iopub.execute_input": "2020-09-21T21:22:30.714Z",
          "iopub.status.idle": "2020-09-21T21:22:30.723Z",
          "shell.execute_reply": "2020-09-21T21:22:30.755Z"
        }
      }
    },
    {
      "cell_type": "code",
      "source": [
        "running = [downside_risk(stocks_returns[i-90:i]) for i in range(90, len(stocks_returns))]\n",
        "running"
      ],
      "outputs": [
        {
          "output_type": "execute_result",
          "execution_count": 8,
          "data": {
            "text/plain": "[0.34416996991007287,\n 0.304104774949138,\n 0.30274063813677327,\n 0.3015806979764954,\n 0.297243464587075,\n 0.2977217529184124,\n 0.3019291677355564,\n 0.3012382087972511,\n 0.302235479527127,\n 0.30314236267832734,\n 0.3065567969193211,\n 0.3045065261929521,\n 0.3025694783124609,\n 0.2958944788064592,\n 0.2956334343342449,\n 0.2966992359811141,\n 0.29362263953104417,\n 0.26527043864403893,\n 0.26184422136517044,\n 0.2574686851835912,\n 0.25305635727664555,\n 0.2513474897615191,\n 0.2520583853666434,\n 0.25166143823038983,\n 0.2528686081849547,\n 0.25608939895882,\n 0.25673101450279207,\n 0.2552301218264748,\n 0.25592408610539435,\n 0.25512858108068265,\n 0.2510815753097849,\n 0.2527426577843561,\n 0.2527426577843561,\n 0.2500582062285153,\n 0.24985251908060788,\n 0.2509317477074436,\n 0.25089366711919936,\n 0.2532458758607174,\n 0.2540416230180619,\n 0.2529249375786051,\n 0.2549560432242239,\n 0.25293632306285,\n 0.25293632306285,\n 0.2504874584390693,\n 0.25047297855650413,\n 0.2495617471101267,\n 0.24713522170155838,\n 0.2405954931189499,\n 0.24143257625696868,\n 0.24766411431882482,\n 0.24766411431882482,\n 0.24562504680892586,\n 0.24105136745262745,\n 0.2407178342943166,\n 0.23857701909086534,\n 0.2906443033628667,\n 0.2904086413400823,\n 0.2899047545942891,\n 0.29689172519059376,\n 0.29689172519059376,\n 0.29689172519059376,\n 0.30179540830727775,\n 0.30179540830727775,\n 0.30231879411744134,\n 0.30018554883756554,\n 0.3055145024361959,\n 0.3051330531818886,\n 0.3076225574158939,\n 0.3076225574158939,\n 0.3037747825575052,\n 0.3037747825575052,\n 0.3090456194682375,\n 0.3227005109084068,\n 0.3299616668001726,\n 0.3282312810229652,\n 0.3282312810229652,\n 0.3315077626232581,\n 0.3324075816940805,\n 0.3324306111092142,\n 0.33362821496119255,\n 0.33527696302127435,\n 0.332060327285885,\n 0.3353663308064712,\n 0.33048374847595363,\n 0.32526090946574704,\n 0.3336932510058422,\n 0.33722668006377304,\n 0.33722668006377304,\n 0.33722668006377304,\n 0.3308302910232314,\n 0.3226152786930549,\n 0.3196118668771752,\n 0.3205317563151725,\n 0.31534669721034697,\n 0.3211391657339846,\n 0.3249477737936024,\n 0.31933436807946775,\n 0.31933436807946775,\n 0.3190917597121769,\n 0.3158762174217992,\n 0.3144212828793394,\n 0.31728909312752224,\n 0.3170896120499154,\n 0.31718158165819244,\n 0.31718158165819244,\n 0.3159693657056795,\n 0.31642933117459043,\n 0.31642933117459043,\n 0.3158688569742474,\n 0.3158688569742474,\n 0.31997161836426324,\n 0.3204145700310887,\n 0.32445748717026346,\n 0.32318369766781874,\n 0.32210565845562417,\n 0.32210565845562417,\n 0.32210565845562417,\n 0.32571889061009585,\n 0.32447145193298604,\n 0.32447145193298604,\n 0.32803197177548454,\n 0.32803197177548454,\n 0.32803197177548454,\n 0.3295341102325915,\n 0.3270181591157624,\n 0.32745201433042587,\n 0.32804386642878636,\n 0.3273430836781624,\n 0.3273430836781624,\n 0.3273430836781624,\n 0.3273430836781624,\n 0.33100093733282376,\n 0.33100093733282376,\n 0.33100093733282376,\n 0.33188205967385126,\n 0.3336686392347894,\n 0.33434366404317745,\n 0.3382079764646309,\n 0.3342860904190724,\n 0.3342860904190724,\n 0.3315967147553555,\n 0.3318241702487961,\n 0.3318241702487961,\n 0.3356252966100825,\n 0.33397997469435853,\n 0.26935008492711937,\n 0.2692099440498169,\n 0.27218293135919913,\n 0.2613680170987065,\n 0.2620887221867508,\n 0.26279576493842527,\n 0.26233285342611734,\n 0.26233285342611734,\n 0.24729089420732922,\n 0.24991302954198016,\n 0.2285640631024527,\n 0.2310069448356391,\n 0.2310069448356391,\n 0.23048842749333565,\n 0.22835735837354673,\n 0.22517443233698664,\n 0.22517443233698664,\n 0.17523808748216652,\n 0.1734720040865687,\n 0.1718656088082126,\n 0.17066710431640536,\n 0.1675709238298775,\n 0.16795593574876827,\n 0.1676853409742524,\n 0.16910577222553907,\n 0.1657709010407285,\n 0.1623686313468911,\n 0.1649018555790679,\n 0.1666468141766877,\n 0.16779359444461997,\n 0.16779359444461997,\n 0.16898167559203123,\n 0.17129612831933028,\n 0.16701546107989312,\n 0.1711270797716279,\n 0.20389494982004716,\n 0.20848733627087132,\n 0.21230806130662477,\n 0.2084438499127334,\n 0.20909981209810613,\n 0.21053286879648034,\n 0.20883997957529296,\n 0.20883997957529296,\n 0.2111381720291634,\n 0.21452236317959442,\n 0.2137557353120072,\n 0.2137557353120072,\n 0.21786928004876724,\n 0.21808666984544856,\n 0.21900050642228266,\n 0.22235119254991753,\n 0.258040336403518,\n 0.29968831536687324,\n 0.29873200324255855,\n 0.2973065625162592,\n 0.32538315673891816,\n 0.328265216708243,\n 0.328265216708243,\n 0.3282826515500723,\n 0.33152344282351,\n 0.33185889775683586,\n 0.33185889775683586,\n 0.3958495197871875,\n 0.4006475370542954,\n 0.40145730366723775,\n 0.5045653332419356,\n 0.5025338685625741,\n 0.5535940782619494,\n 0.5510000706914859,\n 0.560670664148586,\n 0.560670664148586,\n 0.5589694927948758,\n 0.5578920597413012,\n 0.5578920597413012,\n 0.5512473685850743,\n 0.5512473685850743,\n 0.545090920465172,\n 0.545090920465172,\n 0.5421139541885559,\n 0.5408624626655911,\n 0.5462966638127652,\n 0.5450443224092522,\n 0.5440844188793797,\n 0.548740604120109,\n 0.548740604120109,\n 0.5483029745960172,\n 0.5529106467974317,\n 0.5529106467974317,\n 0.5514909202753326,\n 0.5538544917770334,\n 0.5519208281788857,\n 0.5578676651433004,\n 0.5599142278719567,\n 0.5609215050018707,\n 0.5595249985781853,\n 0.5664456610053714,\n 0.5664456610053714,\n 0.5605605698873936,\n 0.5582969887003267,\n 0.5519486987337786,\n 0.5469113599704307,\n 0.5469113599704307,\n 0.5438355338900404,\n 0.5430368800176842,\n 0.5444376053570801,\n 0.5491712416471526,\n 0.5491712416471526,\n 0.542891305987419,\n 0.5402116881054904,\n 0.5425130825028721,\n 0.5416526523162928,\n 0.5447989049394141,\n 0.5447989049394141,\n 0.5497448402930024,\n 0.5432067814091744,\n 0.546852704427019,\n 0.5390881947499977,\n 0.5365383324518214,\n 0.5304743645577077,\n 0.5315711952716285,\n 0.5297836954027954,\n 0.529384767079723,\n 0.5309208788720318,\n 0.535603723086112,\n 0.5354457474684107,\n 0.5358422727076313,\n 0.5358422727076313,\n 0.5417272713001325,\n 0.5480601327600212,\n 0.5480601327600212,\n 0.5480601327600212,\n 0.5496647838407993,\n 0.549113545941667,\n 0.5465142234512157,\n 0.5465142234512157,\n 0.5465142234512157,\n 0.5425223567310011,\n 0.5367669102948623,\n 0.5338363568283533,\n 0.5285703528122793,\n 0.5337559182438528]"
          },
          "metadata": {}
        }
      ],
      "execution_count": 8,
      "metadata": {
        "collapsed": true,
        "jupyter": {
          "source_hidden": false,
          "outputs_hidden": false
        },
        "nteract": {
          "transient": {
            "deleting": false
          }
        },
        "execution": {
          "iopub.status.busy": "2020-09-21T21:22:30.729Z",
          "iopub.execute_input": "2020-09-21T21:22:30.732Z",
          "iopub.status.idle": "2020-09-21T21:22:30.958Z",
          "shell.execute_reply": "2020-09-21T21:22:30.973Z"
        }
      }
    }
  ],
  "metadata": {
    "kernel_info": {
      "name": "python3"
    },
    "language_info": {
      "file_extension": ".py",
      "pygments_lexer": "ipython3",
      "nbconvert_exporter": "python",
      "codemirror_mode": {
        "version": 3,
        "name": "ipython"
      },
      "name": "python",
      "version": "3.5.5",
      "mimetype": "text/x-python"
    },
    "kernelspec": {
      "argv": [
        "C:\\Users\\Tin Hang\\Anaconda3\\envs\\py35\\python.exe",
        "-m",
        "ipykernel_launcher",
        "-f",
        "{connection_file}"
      ],
      "display_name": "Python 3",
      "language": "python",
      "name": "python3"
    },
    "nteract": {
      "version": "0.25.0"
    }
  },
  "nbformat": 4,
  "nbformat_minor": 0
}