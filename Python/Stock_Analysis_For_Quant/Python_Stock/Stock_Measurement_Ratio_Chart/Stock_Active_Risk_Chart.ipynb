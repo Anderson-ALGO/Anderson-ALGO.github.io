{
  "cells": [
    {
      "cell_type": "markdown",
      "source": [
        "# Stock Active Risk Chart"
      ],
      "metadata": {
        "nteract": {
          "transient": {
            "deleting": false
          }
        }
      }
    },
    {
      "cell_type": "code",
      "source": [
        "# Library\n",
        "import pandas as pd\n",
        "import numpy as np\n",
        "import matplotlib.pyplot as plt\n",
        "\n",
        "import warnings\n",
        "warnings.filterwarnings(\"ignore\")\n",
        "\n",
        "from pandas_datareader import data as pdr\n",
        "import yfinance as yf\n",
        "yf.pdr_override()"
      ],
      "outputs": [],
      "execution_count": 1,
      "metadata": {
        "collapsed": true,
        "jupyter": {
          "source_hidden": false,
          "outputs_hidden": false
        },
        "nteract": {
          "transient": {
            "deleting": false
          }
        },
        "execution": {
          "iopub.status.busy": "2020-09-21T03:44:11.196Z",
          "iopub.execute_input": "2020-09-21T03:44:11.201Z",
          "iopub.status.idle": "2020-09-21T03:44:12.133Z",
          "shell.execute_reply": "2020-09-21T03:44:13.606Z"
        }
      }
    },
    {
      "cell_type": "code",
      "source": [
        "start = '2019-01-01' #input\n",
        "end = '2020-07-01' #input\n",
        "symbol1 = '^GSPC' #input\n",
        "symbol2 = 'AMD' #input"
      ],
      "outputs": [],
      "execution_count": 2,
      "metadata": {
        "collapsed": true,
        "jupyter": {
          "source_hidden": false,
          "outputs_hidden": false
        },
        "nteract": {
          "transient": {
            "deleting": false
          }
        },
        "execution": {
          "iopub.status.busy": "2020-09-21T03:44:12.143Z",
          "iopub.execute_input": "2020-09-21T03:44:12.148Z",
          "iopub.status.idle": "2020-09-21T03:44:12.157Z",
          "shell.execute_reply": "2020-09-21T03:44:13.610Z"
        }
      }
    },
    {
      "cell_type": "code",
      "source": [
        "market = yf.download(symbol1, start=start, end=end)['Adj Close']\n",
        "stocks = yf.download(symbol2, start=start, end=end)['Adj Close']"
      ],
      "outputs": [
        {
          "output_type": "stream",
          "name": "stdout",
          "text": [
            "[*********************100%***********************]  1 of 1 completed\n",
            "[*********************100%***********************]  1 of 1 completed\n"
          ]
        }
      ],
      "execution_count": 3,
      "metadata": {
        "collapsed": true,
        "jupyter": {
          "source_hidden": false,
          "outputs_hidden": false
        },
        "nteract": {
          "transient": {
            "deleting": false
          }
        },
        "execution": {
          "iopub.status.busy": "2020-09-21T03:44:12.165Z",
          "iopub.execute_input": "2020-09-21T03:44:12.171Z",
          "iopub.status.idle": "2020-09-21T03:44:13.507Z",
          "shell.execute_reply": "2020-09-21T03:44:13.622Z"
        }
      }
    },
    {
      "cell_type": "code",
      "source": [
        "market_returns = market.pct_change().dropna()\n",
        "stocks_returns = stocks.pct_change().dropna()"
      ],
      "outputs": [],
      "execution_count": 4,
      "metadata": {
        "collapsed": true,
        "jupyter": {
          "source_hidden": false,
          "outputs_hidden": false
        },
        "nteract": {
          "transient": {
            "deleting": false
          }
        },
        "execution": {
          "iopub.status.busy": "2020-09-21T03:44:13.518Z",
          "iopub.execute_input": "2020-09-21T03:44:13.529Z",
          "iopub.status.idle": "2020-09-21T03:44:13.541Z",
          "shell.execute_reply": "2020-09-21T03:44:13.627Z"
        }
      }
    },
    {
      "cell_type": "code",
      "source": [
        "def active_risk(stock_returns, market_returns):\n",
        "    N = 14  \n",
        "    ar = np.sqrt((sum((stock_returns - market_returns)**2)/(N-1)))\n",
        "    return ar"
      ],
      "outputs": [],
      "execution_count": 5,
      "metadata": {
        "collapsed": true,
        "jupyter": {
          "source_hidden": false,
          "outputs_hidden": false
        },
        "nteract": {
          "transient": {
            "deleting": false
          }
        },
        "execution": {
          "iopub.status.busy": "2020-09-21T03:44:13.548Z",
          "iopub.execute_input": "2020-09-21T03:44:13.553Z",
          "iopub.status.idle": "2020-09-21T03:44:13.562Z",
          "shell.execute_reply": "2020-09-21T03:44:14.165Z"
        }
      }
    },
    {
      "cell_type": "code",
      "source": [
        "# Compute the running Active Risk\n",
        "running = [active_risk(stocks_returns[i-90:i], market_returns[i-90:i]) for i in range(90, len(stocks_returns))]\n",
        "\n",
        "# Plot running Active Risk up to 100 days before the end of the data set\n",
        "_, ax1 = plt.subplots(figsize=(12,8))\n",
        "ax1.plot(range(90, len(stocks_returns)-100), running[:-100])\n",
        "ticks = ax1.get_xticks()\n",
        "ax1.set_xticklabels([stocks.index[int(i)].date() for i in ticks[:-1]]) # Label x-axis with dates\n",
        "plt.title(symbol2 + ' Active Risk')\n",
        "plt.xlabel('Date')\n",
        "plt.ylabel('Active Risk')"
      ],
      "outputs": [
        {
          "output_type": "execute_result",
          "execution_count": 6,
          "data": {
            "text/plain": "Text(0, 0.5, 'Active Risk')"
          },
          "metadata": {}
        },
        {
          "output_type": "display_data",
          "data": {
            "text/plain": "<Figure size 864x576 with 1 Axes>",
            "image/png": "[encoded data removed]"
          },
          "metadata": {
            "needs_background": "light"
          }
        }
      ],
      "execution_count": 6,
      "metadata": {
        "collapsed": true,
        "jupyter": {
          "source_hidden": false,
          "outputs_hidden": false
        },
        "nteract": {
          "transient": {
            "deleting": false
          }
        },
        "execution": {
          "iopub.status.busy": "2020-09-21T03:44:13.572Z",
          "iopub.execute_input": "2020-09-21T03:44:13.577Z",
          "iopub.status.idle": "2020-09-21T03:44:13.949Z",
          "shell.execute_reply": "2020-09-21T03:44:14.169Z"
        }
      }
    },
    {
      "cell_type": "code",
      "source": [
        "stock_ar = active_risk(stocks_returns, market_returns)\n",
        "stock_ar"
      ],
      "outputs": [
        {
          "output_type": "execute_result",
          "execution_count": 7,
          "data": {
            "text/plain": "0.15587056702303861"
          },
          "metadata": {}
        }
      ],
      "execution_count": 7,
      "metadata": {
        "collapsed": true,
        "jupyter": {
          "source_hidden": false,
          "outputs_hidden": false
        },
        "nteract": {
          "transient": {
            "deleting": false
          }
        },
        "execution": {
          "iopub.status.busy": "2020-09-21T03:44:13.957Z",
          "iopub.execute_input": "2020-09-21T03:44:13.962Z",
          "iopub.status.idle": "2020-09-21T03:44:13.976Z",
          "shell.execute_reply": "2020-09-21T03:44:14.172Z"
        }
      }
    },
    {
      "cell_type": "code",
      "source": [
        "running = [active_risk(stocks_returns[i-90:i], market_returns[i-90:i]) for i in range(90, len(stocks_returns))]\n",
        "running"
      ],
      "outputs": [
        {
          "output_type": "execute_result",
          "execution_count": 8,
          "data": {
            "text/plain": "[0.09642247417732748,\n 0.09490680937231001,\n 0.09228011026935604,\n 0.08988425103269004,\n 0.08994932651331626,\n 0.08976348795102822,\n 0.08957369147112465,\n 0.08927107920170496,\n 0.08956606417455906,\n 0.08956258185010964,\n 0.09388341032237593,\n 0.09401887757123836,\n 0.09396231747461573,\n 0.09350744077037139,\n 0.09354049753947141,\n 0.09350120329515185,\n 0.0927723819849101,\n 0.09280567144782974,\n 0.0920035803678545,\n 0.0767793518845296,\n 0.07588889416888145,\n 0.07589668123489188,\n 0.0760608136340825,\n 0.07579565261740219,\n 0.07656906325827612,\n 0.07698921772377147,\n 0.07686074319116411,\n 0.07717579872448933,\n 0.07741672039501714,\n 0.07744123589395226,\n 0.07733947997271841,\n 0.07797085960549403,\n 0.07819650184431166,\n 0.07835052931737871,\n 0.07853745307058492,\n 0.07846842270331603,\n 0.07842598084623874,\n 0.07830812556948757,\n 0.07811455153902297,\n 0.07865015050356947,\n 0.07875699501638109,\n 0.07899391179152823,\n 0.07897209346383226,\n 0.07880695900333069,\n 0.07885950166314427,\n 0.07885933151268988,\n 0.0786872734420647,\n 0.07852579229310648,\n 0.07848801868789214,\n 0.07830491223004918,\n 0.07827908105787822,\n 0.0782932851369264,\n 0.07107741479427188,\n 0.07114740247598089,\n 0.06820679951572275,\n 0.07196800209992,\n 0.07191579340403904,\n 0.07176765251076826,\n 0.07159446108037255,\n 0.07176394619433862,\n 0.07175254805996087,\n 0.08180787542620305,\n 0.08180509951649598,\n 0.07927035594078137,\n 0.07957295072635548,\n 0.0799427859832169,\n 0.08002910924316926,\n 0.07993161964672625,\n 0.07977537510156102,\n 0.07990118615828183,\n 0.08016056699515443,\n 0.08002655514355937,\n 0.08090959743511025,\n 0.08091729579173398,\n 0.08090392825088491,\n 0.08084187219042675,\n 0.08075474894446302,\n 0.0805696982364073,\n 0.08025525445994763,\n 0.08029090114710423,\n 0.08027196277646978,\n 0.0807191708624282,\n 0.08048618189922029,\n 0.07894111035685382,\n 0.07912218672338626,\n 0.07891762178936325,\n 0.0789909066121326,\n 0.07886651843563637,\n 0.07884275673255697,\n 0.07873659948581722,\n 0.07805994124663053,\n 0.07752138385392576,\n 0.07770760060623629,\n 0.07807638772110811,\n 0.0780157793883349,\n 0.07775298071893494,\n 0.07781688291127634,\n 0.07781380423687029,\n 0.07747801527398578,\n 0.07747913947651482,\n 0.07157406353046966,\n 0.07121005725582032,\n 0.07120197131648878,\n 0.07119923696928823,\n 0.07115627983891354,\n 0.06979876862071212,\n 0.07050220236092751,\n 0.06800558768387015,\n 0.06797686378342316,\n 0.06774917411822548,\n 0.06744841000238128,\n 0.0674351666236358,\n 0.06739389376401325,\n 0.06692825026403357,\n 0.0660757261849656,\n 0.06548892736721114,\n 0.06591898038706576,\n 0.06588522069359003,\n 0.06559687821459241,\n 0.06556625029376995,\n 0.0659877169237496,\n 0.0653469205797465,\n 0.06579879498280203,\n 0.06561764384112706,\n 0.06541785739091185,\n 0.06544515829018191,\n 0.06539767624887938,\n 0.06532021872756097,\n 0.06508798025054942,\n 0.06469673676960327,\n 0.06483577004493195,\n 0.06449927409335282,\n 0.06517413651198625,\n 0.06519908679129847,\n 0.06511811431194572,\n 0.06579869257062404,\n 0.0656075492408111,\n 0.0656092767265271,\n 0.06586619975785477,\n 0.06579835907836336,\n 0.06569046006704034,\n 0.06565887776305503,\n 0.06572478079868449,\n 0.0657202839032021,\n 0.06560796095258899,\n 0.060713825001327014,\n 0.060778773485564055,\n 0.06087713182729551,\n 0.06063996285959449,\n 0.06351476052650394,\n 0.06413801363674446,\n 0.050713007380353614,\n 0.05062141554899762,\n 0.049529187338482605,\n 0.04909253505242104,\n 0.048960512981815384,\n 0.049254597308916154,\n 0.0486605853940524,\n 0.04866377211581127,\n 0.04852958569542285,\n 0.04814200298175277,\n 0.04812123684764043,\n 0.04936038811885749,\n 0.04921356614692402,\n 0.0492615093742228,\n 0.049136222850046846,\n 0.04921654945108022,\n 0.04944632147799784,\n 0.04950044646400354,\n 0.049454247078267684,\n 0.04950770572825885,\n 0.04878866929077581,\n 0.04900692450196343,\n 0.04923706839887382,\n 0.0488498795981697,\n 0.04877212885762257,\n 0.04856865539792555,\n 0.048757238954776135,\n 0.048779493427431056,\n 0.04869769349232799,\n 0.051350814613815174,\n 0.0517593723250281,\n 0.05173228012691393,\n 0.05129702941080244,\n 0.05143851596221228,\n 0.05144697346811332,\n 0.05128521149174921,\n 0.05141188581575852,\n 0.05279795908567704,\n 0.05335348909390358,\n 0.053351294265683046,\n 0.05347736060971643,\n 0.053586788305388516,\n 0.05424082814011603,\n 0.05490123125593789,\n 0.05523932920717875,\n 0.05668609247290855,\n 0.05751052713491767,\n 0.05750229810600519,\n 0.05748898567188421,\n 0.05801148559233374,\n 0.05914833340259363,\n 0.058663839900565944,\n 0.0586719948345264,\n 0.059208639251949004,\n 0.05917257909966645,\n 0.05916881485302847,\n 0.05951176182131333,\n 0.05928418266232957,\n 0.06127929869552565,\n 0.062454957702721636,\n 0.06288940010863442,\n 0.06207442496736569,\n 0.06236746025867501,\n 0.06246108811904235,\n 0.06253783508947776,\n 0.06342048801883308,\n 0.06723609290551379,\n 0.06733435500018323,\n 0.06827265691765716,\n 0.06801898911097108,\n 0.06813204601045968,\n 0.06750752857163321,\n 0.06741884241482096,\n 0.06742051902841498,\n 0.0667644582435953,\n 0.06712465804993809,\n 0.06825264674498077,\n 0.06797519180880127,\n 0.06798855555998624,\n 0.06828056799681065,\n 0.07047971291981411,\n 0.07164817497349238,\n 0.07182996969229134,\n 0.07229907139638875,\n 0.07283232293630325,\n 0.07303586893318402,\n 0.07378603611252778,\n 0.07437534419978091,\n 0.07176119946816352,\n 0.07118610559655639,\n 0.07096963811803948,\n 0.07099929548758534,\n 0.07285898329103617,\n 0.07293486483276287,\n 0.07278946609348888,\n 0.07363967224709247,\n 0.0734748835488798,\n 0.07349101246842597,\n 0.07356812108737165,\n 0.07355584831267449,\n 0.0747308981636387,\n 0.07282707436894886,\n 0.07289701707808571,\n 0.07344148240808938,\n 0.07348986104034642,\n 0.0737018353545519,\n 0.07391688068641428,\n 0.07382225221427197,\n 0.07408601810008311,\n 0.07406516875403923,\n 0.07524714525906737,\n 0.07538060470059084,\n 0.07533258408773731,\n 0.07594281281196573,\n 0.07594107765300888,\n 0.07598121659780274,\n 0.07624918840175872,\n 0.07623261532861189,\n 0.07625848223509035,\n 0.07459656505724219,\n 0.07697159898128655,\n 0.07708142602699368,\n 0.07720384478765006,\n 0.0770947343703056,\n 0.07718327496537838,\n 0.07735203717918288,\n 0.07727220174612494,\n 0.07637223012525536,\n 0.07602511050895162,\n 0.07601894010155327,\n 0.07609731377258036,\n 0.07602602686129009,\n 0.07572100412195501,\n 0.07530505781411997,\n 0.07507682986426527]"
          },
          "metadata": {}
        }
      ],
      "execution_count": 8,
      "metadata": {
        "collapsed": true,
        "jupyter": {
          "source_hidden": false,
          "outputs_hidden": false
        },
        "nteract": {
          "transient": {
            "deleting": false
          }
        },
        "execution": {
          "iopub.status.busy": "2020-09-21T03:44:14.015Z",
          "iopub.execute_input": "2020-09-21T03:44:14.051Z",
          "iopub.status.idle": "2020-09-21T03:44:14.158Z",
          "shell.execute_reply": "2020-09-21T03:44:14.175Z"
        }
      }
    }
  ],
  "metadata": {
    "kernel_info": {
      "name": "python3"
    },
    "language_info": {
      "mimetype": "text/x-python",
      "file_extension": ".py",
      "pygments_lexer": "ipython3",
      "codemirror_mode": {
        "name": "ipython",
        "version": 3
      },
      "name": "python",
      "version": "3.5.5",
      "nbconvert_exporter": "python"
    },
    "kernelspec": {
      "argv": [
        "C:\\Users\\Tin Hang\\Anaconda3\\envs\\py35\\python.exe",
        "-m",
        "ipykernel_launcher",
        "-f",
        "{connection_file}"
      ],
      "display_name": "Python 3",
      "language": "python",
      "name": "python3"
    },
    "nteract": {
      "version": "0.25.0"
    }
  },
  "nbformat": 4,
  "nbformat_minor": 0
}