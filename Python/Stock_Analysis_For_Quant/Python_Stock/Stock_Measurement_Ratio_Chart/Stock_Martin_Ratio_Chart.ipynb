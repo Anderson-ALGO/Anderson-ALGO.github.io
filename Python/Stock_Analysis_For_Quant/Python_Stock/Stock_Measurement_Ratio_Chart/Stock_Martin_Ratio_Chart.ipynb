{
  "cells": [
    {
      "cell_type": "markdown",
      "source": [
        "# Stock Martin Ratio Chart"
      ],
      "metadata": {
        "nteract": {
          "transient": {
            "deleting": false
          }
        }
      }
    },
    {
      "cell_type": "code",
      "source": [
        "# Library\n",
        "import pandas as pd\n",
        "import numpy as np\n",
        "import matplotlib.pyplot as plt\n",
        "\n",
        "import warnings\n",
        "warnings.filterwarnings(\"ignore\")\n",
        "\n",
        "from pandas_datareader import data as pdr\n",
        "import yfinance as yf\n",
        "yf.pdr_override()"
      ],
      "outputs": [],
      "execution_count": 1,
      "metadata": {
        "collapsed": true,
        "jupyter": {
          "source_hidden": false,
          "outputs_hidden": false
        },
        "nteract": {
          "transient": {
            "deleting": false
          }
        },
        "execution": {
          "iopub.status.busy": "2020-09-08T03:06:59.792Z",
          "iopub.execute_input": "2020-09-08T03:06:59.797Z",
          "iopub.status.idle": "2020-09-08T03:07:00.815Z",
          "shell.execute_reply": "2020-09-08T03:07:00.852Z"
        }
      }
    },
    {
      "cell_type": "code",
      "source": [
        "start = '2019-01-01' #input\n",
        "end = '2020-07-01' #input\n",
        "symbol = 'AMD' #input"
      ],
      "outputs": [],
      "execution_count": 2,
      "metadata": {
        "collapsed": true,
        "jupyter": {
          "source_hidden": false,
          "outputs_hidden": false
        },
        "nteract": {
          "transient": {
            "deleting": false
          }
        },
        "execution": {
          "iopub.status.busy": "2020-09-08T03:07:00.821Z",
          "iopub.execute_input": "2020-09-08T03:07:00.825Z",
          "iopub.status.idle": "2020-09-08T03:07:00.835Z",
          "shell.execute_reply": "2020-09-08T03:07:00.855Z"
        }
      }
    },
    {
      "cell_type": "code",
      "source": [
        "stock = yf.download(symbol, start=start, end=end)"
      ],
      "outputs": [
        {
          "output_type": "stream",
          "name": "stdout",
          "text": [
            "[*********************100%***********************]  1 of 1 completed\n"
          ]
        }
      ],
      "execution_count": 3,
      "metadata": {
        "collapsed": true,
        "jupyter": {
          "source_hidden": false,
          "outputs_hidden": false
        },
        "nteract": {
          "transient": {
            "deleting": false
          }
        },
        "execution": {
          "iopub.status.busy": "2020-09-08T03:07:00.840Z",
          "iopub.execute_input": "2020-09-08T03:07:00.844Z",
          "iopub.status.idle": "2020-09-08T03:07:01.984Z",
          "shell.execute_reply": "2020-09-08T03:07:02.026Z"
        }
      }
    },
    {
      "cell_type": "code",
      "source": [
        "returns = stock.pct_change().dropna()"
      ],
      "outputs": [],
      "execution_count": 4,
      "metadata": {
        "collapsed": true,
        "jupyter": {
          "source_hidden": false,
          "outputs_hidden": false
        },
        "nteract": {
          "transient": {
            "deleting": false
          }
        },
        "execution": {
          "iopub.status.busy": "2020-09-08T03:07:01.991Z",
          "iopub.execute_input": "2020-09-08T03:07:01.995Z",
          "iopub.status.idle": "2020-09-08T03:07:02.003Z",
          "shell.execute_reply": "2020-09-08T03:07:04.167Z"
        }
      }
    },
    {
      "cell_type": "code",
      "source": [
        "# risk free\n",
        "rf = yf.download('BIL', start=start, end=end)['Adj Close'].pct_change()[1:]"
      ],
      "outputs": [
        {
          "output_type": "stream",
          "name": "stdout",
          "text": [
            "[*********************100%***********************]  1 of 1 completed\n"
          ]
        }
      ],
      "execution_count": 5,
      "metadata": {
        "collapsed": true,
        "jupyter": {
          "source_hidden": false,
          "outputs_hidden": false
        },
        "nteract": {
          "transient": {
            "deleting": false
          }
        },
        "execution": {
          "iopub.status.busy": "2020-09-08T03:07:02.011Z",
          "iopub.execute_input": "2020-09-08T03:07:02.015Z",
          "iopub.status.idle": "2020-09-08T03:07:02.260Z",
          "shell.execute_reply": "2020-09-08T03:07:04.170Z"
        }
      }
    },
    {
      "cell_type": "code",
      "source": [
        "def martin_ratio(returns, rf):\n",
        "    max14 = stock['Adj Close'].rolling(window=14,min_periods=1).max()\n",
        "    drawdown_percent = 100*((stock['Adj Close']-max14)/max14)\n",
        "    avg_sq = round(drawdown_percent * drawdown_percent, 2)\n",
        "    Ulcer = np.sqrt(avg_sq.rolling(window=14).mean())\n",
        "    Ulcer_index = Ulcer.dropna()\n",
        "    annual_return = returns.mean() * 252\n",
        "    martin_ratio = (annual_return - rf) / Ulcer_index.sum()\n",
        "    return martin_ratio"
      ],
      "outputs": [],
      "execution_count": 8,
      "metadata": {
        "collapsed": true,
        "jupyter": {
          "source_hidden": false,
          "outputs_hidden": false
        },
        "nteract": {
          "transient": {
            "deleting": false
          }
        },
        "execution": {
          "iopub.status.busy": "2020-09-08T03:07:32.647Z",
          "iopub.execute_input": "2020-09-08T03:07:32.652Z",
          "iopub.status.idle": "2020-09-08T03:07:32.658Z",
          "shell.execute_reply": "2020-09-08T03:07:32.667Z"
        }
      }
    },
    {
      "cell_type": "code",
      "source": [
        "# Compute the running Martin Ratio\n",
        "running = [martin_ratio(stock[i-90:i], rf[i-90:i]) for i in range(90, len(returns))]\n",
        "\n",
        "# Plot running Martin Ratio up to 100 days before the end of the data set\n",
        "_, ax1 = plt.subplots(figsize=(12,8))\n",
        "ax1.plot(range(90, len(returns)-100), running[:-100])\n",
        "ticks = ax1.get_xticks()\n",
        "ax1.set_xticklabels([stock['Adj Close'].index[int(i)].date() for i in ticks[:-1]]) # Label x-axis with dates\n",
        "plt.title(symbol + ' Martin Ratio')\n",
        "plt.xlabel('Date')\n",
        "plt.ylabel('Martin Ratio')"
      ],
      "outputs": [
        {
          "output_type": "execute_result",
          "execution_count": 9,
          "data": {
            "text/plain": "Text(0, 0.5, 'Martin Ratio')"
          },
          "metadata": {}
        },
        {
          "output_type": "display_data",
          "data": {
            "text/plain": "<Figure size 864x576 with 1 Axes>",
            "image/png": "[encoded data removed]"
          },
          "metadata": {
            "needs_background": "light"
          }
        }
      ],
      "execution_count": 9,
      "metadata": {
        "collapsed": true,
        "jupyter": {
          "source_hidden": false,
          "outputs_hidden": false
        },
        "nteract": {
          "transient": {
            "deleting": false
          }
        },
        "execution": {
          "iopub.status.busy": "2020-09-08T03:07:33.569Z",
          "iopub.execute_input": "2020-09-08T03:07:33.593Z",
          "iopub.status.idle": "2020-09-08T03:07:35.490Z",
          "shell.execute_reply": "2020-09-08T03:07:35.499Z"
        }
      }
    }
  ],
  "metadata": {
    "kernel_info": {
      "name": "python3"
    },
    "language_info": {
      "nbconvert_exporter": "python",
      "file_extension": ".py",
      "name": "python",
      "codemirror_mode": {
        "version": 3,
        "name": "ipython"
      },
      "version": "3.5.5",
      "mimetype": "text/x-python",
      "pygments_lexer": "ipython3"
    },
    "kernelspec": {
      "argv": [
        "C:\\Users\\Tin Hang\\Anaconda3\\envs\\py35\\python.exe",
        "-m",
        "ipykernel_launcher",
        "-f",
        "{connection_file}"
      ],
      "display_name": "Python 3",
      "language": "python",
      "name": "python3"
    },
    "nteract": {
      "version": "0.25.0"
    }
  },
  "nbformat": 4,
  "nbformat_minor": 0
}