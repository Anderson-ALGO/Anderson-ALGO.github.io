{
  "cells": [
    {
      "cell_type": "markdown",
      "source": [
        "# Stock Upside Risk Chart"
      ],
      "metadata": {
        "nteract": {
          "transient": {
            "deleting": false
          }
        }
      }
    },
    {
      "cell_type": "code",
      "source": [
        "# Library\n",
        "import pandas as pd\n",
        "import numpy as np\n",
        "import matplotlib.pyplot as plt\n",
        "\n",
        "import warnings\n",
        "warnings.filterwarnings(\"ignore\")\n",
        "\n",
        "from pandas_datareader import data as pdr\n",
        "import yfinance as yf\n",
        "yf.pdr_override()"
      ],
      "outputs": [],
      "execution_count": 1,
      "metadata": {
        "collapsed": true,
        "jupyter": {
          "source_hidden": false,
          "outputs_hidden": false
        },
        "nteract": {
          "transient": {
            "deleting": false
          }
        },
        "execution": {
          "iopub.status.busy": "2020-09-21T21:24:48.692Z",
          "iopub.execute_input": "2020-09-21T21:24:48.698Z",
          "iopub.status.idle": "2020-09-21T21:24:49.726Z",
          "shell.execute_reply": "2020-09-21T21:24:49.766Z"
        }
      }
    },
    {
      "cell_type": "code",
      "source": [
        "start = '2019-01-01' #input\n",
        "end = '2020-07-01' #input\n",
        "symbol = 'AMD' #input"
      ],
      "outputs": [],
      "execution_count": 2,
      "metadata": {
        "collapsed": true,
        "jupyter": {
          "source_hidden": false,
          "outputs_hidden": false
        },
        "nteract": {
          "transient": {
            "deleting": false
          }
        },
        "execution": {
          "iopub.status.busy": "2020-09-21T21:24:49.735Z",
          "iopub.execute_input": "2020-09-21T21:24:49.740Z",
          "iopub.status.idle": "2020-09-21T21:24:49.747Z",
          "shell.execute_reply": "2020-09-21T21:24:49.770Z"
        }
      }
    },
    {
      "cell_type": "code",
      "source": [
        "stocks = yf.download(symbol, start=start, end=end)['Adj Close']"
      ],
      "outputs": [
        {
          "output_type": "stream",
          "name": "stdout",
          "text": [
            "[*********************100%***********************]  1 of 1 completed\n"
          ]
        }
      ],
      "execution_count": 3,
      "metadata": {
        "collapsed": true,
        "jupyter": {
          "source_hidden": false,
          "outputs_hidden": false
        },
        "nteract": {
          "transient": {
            "deleting": false
          }
        },
        "execution": {
          "iopub.status.busy": "2020-09-21T21:24:49.753Z",
          "iopub.execute_input": "2020-09-21T21:24:49.757Z",
          "iopub.status.idle": "2020-09-21T21:24:50.923Z",
          "shell.execute_reply": "2020-09-21T21:24:50.983Z"
        }
      }
    },
    {
      "cell_type": "code",
      "source": [
        "stocks_returns = stocks.pct_change().dropna()"
      ],
      "outputs": [],
      "execution_count": 4,
      "metadata": {
        "collapsed": true,
        "jupyter": {
          "source_hidden": false,
          "outputs_hidden": false
        },
        "nteract": {
          "transient": {
            "deleting": false
          }
        },
        "execution": {
          "iopub.status.busy": "2020-09-21T21:24:50.932Z",
          "iopub.execute_input": "2020-09-21T21:24:50.938Z",
          "iopub.status.idle": "2020-09-21T21:24:50.946Z",
          "shell.execute_reply": "2020-09-21T21:24:51.488Z"
        }
      }
    },
    {
      "cell_type": "code",
      "source": [
        "def upside_risk(stock_returns):\n",
        "    ur = stock_returns[stock_returns > stock_returns.mean()].std(skipna = True) * np.sqrt(252)\n",
        "    return ur"
      ],
      "outputs": [],
      "execution_count": 5,
      "metadata": {
        "collapsed": true,
        "jupyter": {
          "source_hidden": false,
          "outputs_hidden": false
        },
        "nteract": {
          "transient": {
            "deleting": false
          }
        },
        "execution": {
          "iopub.status.busy": "2020-09-21T21:24:50.952Z",
          "iopub.execute_input": "2020-09-21T21:24:50.957Z",
          "iopub.status.idle": "2020-09-21T21:24:50.964Z",
          "shell.execute_reply": "2020-09-21T21:24:51.493Z"
        }
      }
    },
    {
      "cell_type": "code",
      "source": [
        "# Compute the running Upside Risk\n",
        "running = [upside_risk(stocks_returns[i-90:i]) for i in range(90, len(stocks_returns))]\n",
        "\n",
        "# Plot running Upside Risk up to 100 days before the end of the data set\n",
        "_, ax1 = plt.subplots(figsize=(12,8))\n",
        "ax1.plot(range(90, len(stocks_returns)-100), running[:-100])\n",
        "ticks = ax1.get_xticks()\n",
        "ax1.set_xticklabels([stocks.index[int(i)].date() for i in ticks[:-1]]) # Label x-axis with dates\n",
        "plt.title(symbol + ' Upside Risk')\n",
        "plt.xlabel('Date')\n",
        "plt.ylabel('Upside Risk')"
      ],
      "outputs": [
        {
          "output_type": "execute_result",
          "execution_count": 6,
          "data": {
            "text/plain": "Text(0, 0.5, 'Upside Risk')"
          },
          "metadata": {}
        },
        {
          "output_type": "display_data",
          "data": {
            "image/png": "[encoded data removed]",
            "text/plain": "<Figure size 864x576 with 1 Axes>"
          },
          "metadata": {
            "needs_background": "light"
          }
        }
      ],
      "execution_count": 6,
      "metadata": {
        "collapsed": true,
        "jupyter": {
          "source_hidden": false,
          "outputs_hidden": false
        },
        "nteract": {
          "transient": {
            "deleting": false
          }
        },
        "execution": {
          "iopub.status.busy": "2020-09-21T21:24:50.970Z",
          "iopub.execute_input": "2020-09-21T21:24:51.176Z",
          "iopub.status.idle": "2020-09-21T21:24:51.447Z",
          "shell.execute_reply": "2020-09-21T21:24:51.497Z"
        }
      }
    },
    {
      "cell_type": "code",
      "source": [
        "stock_ur = upside_risk(stocks_returns)\n",
        "stock_ur"
      ],
      "outputs": [
        {
          "output_type": "execute_result",
          "execution_count": 7,
          "data": {
            "text/plain": "0.4713703918934197"
          },
          "metadata": {}
        }
      ],
      "execution_count": 7,
      "metadata": {
        "collapsed": true,
        "jupyter": {
          "source_hidden": false,
          "outputs_hidden": false
        },
        "nteract": {
          "transient": {
            "deleting": false
          }
        },
        "execution": {
          "iopub.status.busy": "2020-09-21T21:24:51.454Z",
          "iopub.execute_input": "2020-09-21T21:24:51.459Z",
          "iopub.status.idle": "2020-09-21T21:24:51.472Z",
          "shell.execute_reply": "2020-09-21T21:24:51.500Z"
        }
      }
    },
    {
      "cell_type": "code",
      "source": [
        "running = [upside_risk(stocks_returns[i-90:i]) for i in range(90, len(stocks_returns))]\n",
        "running"
      ],
      "outputs": [
        {
          "output_type": "execute_result",
          "execution_count": 8,
          "data": {
            "text/plain": "[0.6355152817553196,\n 0.6301360461848959,\n 0.5973837677807354,\n 0.5824071230560979,\n 0.5837195712237361,\n 0.5837195712237361,\n 0.5796409510000826,\n 0.5838312575902533,\n 0.5838312575902533,\n 0.5880429546351748,\n 0.6096095740570389,\n 0.6144744647036944,\n 0.6192096877992382,\n 0.6224442391333762,\n 0.6185295574541951,\n 0.6276290508179047,\n 0.6277097151489002,\n 0.6397349192123726,\n 0.6396527223557019,\n 0.45783841280217463,\n 0.45662543352647805,\n 0.4578659042320837,\n 0.4578659042320837,\n 0.4578659042320837,\n 0.45702453591216824,\n 0.4529473785725103,\n 0.4575956883710694,\n 0.4575956883710694,\n 0.4575956883710694,\n 0.4561010970999125,\n 0.45909553216724563,\n 0.4596802510871366,\n 0.4568748853487679,\n 0.4568748853487679,\n 0.45094255914920345,\n 0.45571930645546704,\n 0.459677181060695,\n 0.4570037059800351,\n 0.4524304978035392,\n 0.44667810360553306,\n 0.44337062570193764,\n 0.4431912523219552,\n 0.44358739348382287,\n 0.4379120657851883,\n 0.4379120657851883,\n 0.4379120657851883,\n 0.4429817259913845,\n 0.4479770566194132,\n 0.445358671509146,\n 0.44136561312444156,\n 0.44175734893623747,\n 0.44175734893623747,\n 0.3833967888644668,\n 0.3833967888644668,\n 0.3569713138419647,\n 0.35717576405574264,\n 0.35717576405574264,\n 0.35717576405574264,\n 0.35717576405574264,\n 0.35504052870807484,\n 0.3561250129203196,\n 0.4884580034551311,\n 0.4900766003728955,\n 0.46838095337249375,\n 0.47032030368104966,\n 0.46691532967689114,\n 0.46691532967689114,\n 0.46847007927086254,\n 0.47016558118320234,\n 0.47016558118320234,\n 0.4664096060145916,\n 0.4652055806134585,\n 0.4660661745578441,\n 0.4636528351452417,\n 0.46512955345335566,\n 0.4650125890212836,\n 0.46115832115169575,\n 0.4658604397741393,\n 0.4658604397741393,\n 0.46884356868252813,\n 0.4640182517515252,\n 0.4640182517515252,\n 0.4640182517515252,\n 0.46174545574929476,\n 0.46026278370040036,\n 0.4600749908855216,\n 0.4555694649682571,\n 0.4579236478436754,\n 0.45771781781562654,\n 0.4598226814330967,\n 0.4630017110758638,\n 0.4652919148101954,\n 0.4655442198532585,\n 0.4650657130281347,\n 0.46687047046601726,\n 0.47041633188980053,\n 0.47044212931085033,\n 0.4687154073628877,\n 0.47058375279654485,\n 0.47290362073459746,\n 0.43401632910798227,\n 0.4315077114394112,\n 0.4315077114394112,\n 0.4315077114394112,\n 0.43108032584971717,\n 0.4173935163536105,\n 0.4173726185168215,\n 0.3946830599559398,\n 0.39483829054007724,\n 0.39676269590686847,\n 0.39453218876911095,\n 0.39453218876911095,\n 0.39305443832831516,\n 0.39305443832831516,\n 0.39305443832831516,\n 0.3901107772542241,\n 0.38835458796866185,\n 0.3874330223974239,\n 0.3874330223974239,\n 0.3880771411896985,\n 0.38377743684932625,\n 0.38246212381620187,\n 0.3846675774403666,\n 0.3846675774403666,\n 0.3888027267479437,\n 0.38551213900459147,\n 0.38551213900459147,\n 0.38883791474912016,\n 0.3895374442082945,\n 0.3882918198101424,\n 0.3882582611481181,\n 0.3857597838584609,\n 0.3848354179942426,\n 0.38480071080853767,\n 0.38480071080853767,\n 0.38480071080853767,\n 0.38480071080853767,\n 0.38080797982320375,\n 0.38407097609816826,\n 0.3849275092069479,\n 0.3891966378747785,\n 0.3891966378747785,\n 0.39046700250343896,\n 0.38611830837443256,\n 0.3897243857972316,\n 0.39321007454815193,\n 0.39321007454815193,\n 0.3893031449444261,\n 0.3893031449444261,\n 0.4159826888953828,\n 0.4154911936262594,\n 0.2384862057699009,\n 0.23796152940113036,\n 0.23587460894749054,\n 0.2339760764002785,\n 0.23170660858024253,\n 0.22884044075338814,\n 0.21762268691209852,\n 0.21829829229789416,\n 0.21829829229789416,\n 0.22151054447835145,\n 0.22109105640334836,\n 0.24540923740853535,\n 0.2484949960209898,\n 0.24929959858085524,\n 0.25230333803485844,\n 0.25619311476071516,\n 0.25299193459566677,\n 0.25299193459566677,\n 0.2505912996126676,\n 0.25406846266511,\n 0.25331453976996066,\n 0.24968166422226862,\n 0.2466197800705742,\n 0.2466197800705742,\n 0.24882118452189259,\n 0.2513089040712219,\n 0.2513089040712219,\n 0.2522593860658294,\n 0.24832452803875626,\n 0.24946424568674447,\n 0.24551817608114967,\n 0.24961677422517609,\n 0.24539550314296735,\n 0.24304855313158194,\n 0.2430128538746826,\n 0.24239656448647776,\n 0.24277609082022342,\n 0.24872465086466697,\n 0.24566831033995876,\n 0.2469570681902533,\n 0.24684328079272055,\n 0.24370789906195844,\n 0.23999695658030465,\n 0.23564990785933368,\n 0.23707238293041857,\n 0.23787153007911968,\n 0.2415044019404146,\n 0.24290458138951876,\n 0.24290458138951876,\n 0.2451406763385771,\n 0.24210531558266166,\n 0.24522901340197814,\n 0.24522901340197814,\n 0.26367682424430017,\n 0.26715457633519785,\n 0.2691154806547878,\n 0.2729613917207632,\n 0.275777645628056,\n 0.27585964546132036,\n 0.28039068363884606,\n 0.362113654099292,\n 0.3651376453817907,\n 0.38259402592753394,\n 0.38300964074228605,\n 0.38162310982610936,\n 0.38162310982610936,\n 0.3808492570719189,\n 0.4215818753965799,\n 0.425632178600408,\n 0.4322477836923617,\n 0.43269412592768425,\n 0.4327561026465923,\n 0.43786502298779856,\n 0.43841711845530273,\n 0.434024272310136,\n 0.43435844356019926,\n 0.47420479742911914,\n 0.47420479742911914,\n 0.47156159619281346,\n 0.47156159619281346,\n 0.4686129131159626,\n 0.4741537537873173,\n 0.47792380583030375,\n 0.47281244670394595,\n 0.47281244670394595,\n 0.4725634121276934,\n 0.47474157957407026,\n 0.4721704143910118,\n 0.4664941074765189,\n 0.4666782254461901,\n 0.47119374537536324,\n 0.47279108871704956,\n 0.47279108871704956,\n 0.47502644490257373,\n 0.4801646568896046,\n 0.48190434611791994,\n 0.4864850928029837,\n 0.4874581508988345,\n 0.4864850928029837,\n 0.4818888259133379,\n 0.47788048800452915,\n 0.47738966768379915,\n 0.47738966768379915,\n 0.47134647480163017,\n 0.47134647480163017,\n 0.4709640290704353,\n 0.47234329605007785,\n 0.46925228888018095,\n 0.4712338079153863,\n 0.46994712169399283,\n 0.47155679440146514,\n 0.4761114322435373,\n 0.4816141273432995,\n 0.47418173523436935,\n 0.47631690235074153,\n 0.4760308593831959,\n 0.4760308593831959,\n 0.47389375621653,\n 0.4798733398038977,\n 0.478005831393627,\n 0.4818108979874207,\n 0.4784713720839971,\n 0.48247190715072386,\n 0.4858549012566069,\n 0.4819814350561714,\n 0.4819814350561714,\n 0.4822169350249391,\n 0.4909557703077311,\n 0.497005499579842,\n 0.494111075204638,\n 0.4978601519455308,\n 0.5022869818498605,\n 0.5079426885139845,\n 0.5163298938836424,\n 0.5138353065956627]"
          },
          "metadata": {}
        }
      ],
      "execution_count": 8,
      "metadata": {
        "collapsed": true,
        "jupyter": {
          "source_hidden": false,
          "outputs_hidden": false
        },
        "nteract": {
          "transient": {
            "deleting": false
          }
        },
        "execution": {
          "iopub.status.busy": "2020-09-21T21:24:51.693Z",
          "iopub.execute_input": "2020-09-21T21:24:51.700Z",
          "iopub.status.idle": "2020-09-21T21:24:51.714Z",
          "shell.execute_reply": "2020-09-21T21:24:51.731Z"
        }
      }
    }
  ],
  "metadata": {
    "kernel_info": {
      "name": "python3"
    },
    "language_info": {
      "name": "python",
      "mimetype": "text/x-python",
      "pygments_lexer": "ipython3",
      "nbconvert_exporter": "python",
      "version": "3.5.5",
      "file_extension": ".py",
      "codemirror_mode": {
        "name": "ipython",
        "version": 3
      }
    },
    "kernelspec": {
      "argv": [
        "C:\\Users\\Tin Hang\\Anaconda3\\envs\\py35\\python.exe",
        "-m",
        "ipykernel_launcher",
        "-f",
        "{connection_file}"
      ],
      "display_name": "Python 3",
      "language": "python",
      "name": "python3"
    },
    "nteract": {
      "version": "0.25.0"
    }
  },
  "nbformat": 4,
  "nbformat_minor": 0
}