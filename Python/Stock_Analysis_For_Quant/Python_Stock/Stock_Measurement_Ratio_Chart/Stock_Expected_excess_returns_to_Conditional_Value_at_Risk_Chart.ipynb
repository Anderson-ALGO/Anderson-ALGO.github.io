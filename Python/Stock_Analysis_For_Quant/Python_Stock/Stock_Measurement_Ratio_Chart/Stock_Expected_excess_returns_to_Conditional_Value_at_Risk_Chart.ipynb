{
  "cells": [
    {
      "cell_type": "markdown",
      "source": [
        "# Stock Expected excess return to Conditional Value-At-Risk Chart"
      ],
      "metadata": {
        "nteract": {
          "transient": {
            "deleting": false
          }
        }
      }
    },
    {
      "cell_type": "code",
      "source": [
        "# Library\n",
        "import pandas as pd\n",
        "import numpy as np\n",
        "import matplotlib.pyplot as plt\n",
        "import math\n",
        "import statistics\n",
        "\n",
        "import warnings\n",
        "warnings.filterwarnings(\"ignore\")\n",
        "\n",
        "from pandas_datareader import data as pdr\n",
        "import yfinance as yf\n",
        "yf.pdr_override()"
      ],
      "outputs": [],
      "execution_count": 1,
      "metadata": {
        "collapsed": true,
        "jupyter": {
          "source_hidden": false,
          "outputs_hidden": false
        },
        "nteract": {
          "transient": {
            "deleting": false
          }
        },
        "execution": {
          "iopub.status.busy": "2020-09-27T19:55:03.658Z",
          "iopub.execute_input": "2020-09-27T19:55:03.667Z",
          "iopub.status.idle": "2020-09-27T19:55:04.628Z",
          "shell.execute_reply": "2020-09-27T19:55:05.790Z"
        }
      }
    },
    {
      "cell_type": "code",
      "source": [
        "start = '2019-01-01' #input\n",
        "end = '2020-07-01' #input\n",
        "symbol = 'AMD' #input"
      ],
      "outputs": [],
      "execution_count": 2,
      "metadata": {
        "collapsed": true,
        "jupyter": {
          "source_hidden": false,
          "outputs_hidden": false
        },
        "nteract": {
          "transient": {
            "deleting": false
          }
        },
        "execution": {
          "iopub.status.busy": "2020-09-27T19:55:04.635Z",
          "iopub.execute_input": "2020-09-27T19:55:04.639Z",
          "iopub.status.idle": "2020-09-27T19:55:04.649Z",
          "shell.execute_reply": "2020-09-27T19:55:05.793Z"
        }
      }
    },
    {
      "cell_type": "code",
      "source": [
        "stocks = yf.download(symbol, start=start, end=end)['Adj Close']"
      ],
      "outputs": [
        {
          "output_type": "stream",
          "name": "stdout",
          "text": [
            "[*********************100%***********************]  1 of 1 completed\n"
          ]
        }
      ],
      "execution_count": 3,
      "metadata": {
        "collapsed": true,
        "jupyter": {
          "source_hidden": false,
          "outputs_hidden": false
        },
        "nteract": {
          "transient": {
            "deleting": false
          }
        },
        "execution": {
          "iopub.status.busy": "2020-09-27T19:55:04.655Z",
          "iopub.execute_input": "2020-09-27T19:55:04.659Z",
          "iopub.status.idle": "2020-09-27T19:55:05.769Z",
          "shell.execute_reply": "2020-09-27T19:55:05.795Z"
        }
      }
    },
    {
      "cell_type": "code",
      "source": [
        "stocks_returns = stocks.pct_change().dropna()\n",
        "rf = yf.download('BIL', start=start, end=end)['Adj Close'].pct_change()[1:]"
      ],
      "outputs": [
        {
          "output_type": "stream",
          "name": "stdout",
          "text": [
            "[*********************100%***********************]  1 of 1 completed\n"
          ]
        }
      ],
      "execution_count": 4,
      "metadata": {
        "collapsed": true,
        "jupyter": {
          "source_hidden": false,
          "outputs_hidden": false
        },
        "nteract": {
          "transient": {
            "deleting": false
          }
        },
        "execution": {
          "iopub.status.busy": "2020-09-27T19:55:05.775Z",
          "iopub.execute_input": "2020-09-27T19:55:05.778Z",
          "iopub.status.idle": "2020-09-27T19:55:05.964Z",
          "shell.execute_reply": "2020-09-27T19:55:06.010Z"
        }
      }
    },
    {
      "cell_type": "code",
      "source": [
        "def ercvar(stock_returns, rf):\n",
        "    confidence_level = 0.05\n",
        "    sortedReturns = sorted(stock_returns)\n",
        "    erCVaR = (1 - statistics.mean(sortedReturns[0:int(len(sortedReturns)*confidence_level)])) * math.sqrt(252/12)\n",
        "    return erCVaR"
      ],
      "outputs": [],
      "execution_count": 5,
      "metadata": {
        "collapsed": true,
        "jupyter": {
          "source_hidden": false,
          "outputs_hidden": false
        },
        "nteract": {
          "transient": {
            "deleting": false
          }
        },
        "execution": {
          "iopub.status.busy": "2020-09-27T19:55:05.974Z",
          "iopub.execute_input": "2020-09-27T19:55:05.979Z",
          "iopub.status.idle": "2020-09-27T19:55:05.990Z",
          "shell.execute_reply": "2020-09-27T19:55:06.393Z"
        }
      }
    },
    {
      "cell_type": "code",
      "source": [
        "# Compute the running Expected excess return to Conditional Value-at-Risk\n",
        "running = [ercvar(stocks_returns[i-90:i], rf[i-90:i]) for i in range(90, len(stocks_returns))]\n",
        "\n",
        "# Plot running Expected excess return to Conditional Value-at-Risk up to 100 days before the end of the data set\n",
        "_, ax1 = plt.subplots(figsize=(12,8))\n",
        "ax1.plot(range(90, len(stocks_returns)-100), running[:-100])\n",
        "ticks = ax1.get_xticks()\n",
        "ax1.set_xticklabels([stocks.index[int(i)].date() for i in ticks[:-1]]) # Label x-axis with dates\n",
        "plt.title(symbol + ' Expected excess return to Conditional Value-at-Risk')\n",
        "plt.xlabel('Date')\n",
        "plt.ylabel('Expected excess return to Conditional Value-at-Risk')"
      ],
      "outputs": [
        {
          "output_type": "execute_result",
          "execution_count": 6,
          "data": {
            "text/plain": "Text(0, 0.5, 'Expected excess return to Conditional Value-at-Risk')"
          },
          "metadata": {}
        },
        {
          "output_type": "display_data",
          "data": {
            "text/plain": "<Figure size 864x576 with 1 Axes>",
            "image/png": "[encoded data removed]"
          },
          "metadata": {
            "needs_background": "light"
          }
        }
      ],
      "execution_count": 6,
      "metadata": {
        "collapsed": true,
        "jupyter": {
          "source_hidden": false,
          "outputs_hidden": false
        },
        "nteract": {
          "transient": {
            "deleting": false
          }
        },
        "execution": {
          "iopub.status.busy": "2020-09-27T19:55:06.016Z",
          "iopub.execute_input": "2020-09-27T19:55:06.045Z",
          "iopub.status.idle": "2020-09-27T19:55:06.326Z",
          "shell.execute_reply": "2020-09-27T19:55:06.396Z"
        }
      }
    },
    {
      "cell_type": "code",
      "source": [
        "stock_cvar = ercvar(stocks_returns, rf)\n",
        "stock_cvar"
      ],
      "outputs": [
        {
          "output_type": "execute_result",
          "execution_count": 7,
          "data": {
            "text/plain": "4.951004414657159"
          },
          "metadata": {}
        }
      ],
      "execution_count": 7,
      "metadata": {
        "collapsed": true,
        "jupyter": {
          "source_hidden": false,
          "outputs_hidden": false
        },
        "nteract": {
          "transient": {
            "deleting": false
          }
        },
        "execution": {
          "iopub.status.busy": "2020-09-27T19:55:06.334Z",
          "iopub.execute_input": "2020-09-27T19:55:06.341Z",
          "iopub.status.idle": "2020-09-27T19:55:06.351Z",
          "shell.execute_reply": "2020-09-27T19:55:06.398Z"
        }
      }
    },
    {
      "cell_type": "code",
      "source": [
        "\n",
        "running"
      ],
      "outputs": [
        {
          "output_type": "execute_result",
          "execution_count": 8,
          "data": {
            "text/plain": "[4.915208369816119,\n 4.862620789161616,\n 4.862620789161616,\n 4.862620789161616,\n 4.862620789161616,\n 4.862620789161616,\n 4.862620789161616,\n 4.862620789161616,\n 4.862620789161616,\n 4.862620789161616,\n 4.862620789161616,\n 4.862620789161616,\n 4.862620789161616,\n 4.860048986583817,\n 4.860048986583817,\n 4.860048986583817,\n 4.860048986583817,\n 4.8214246176920765,\n 4.8204283041437295,\n 4.8204283041437295,\n 4.8204283041437295,\n 4.8204283041437295,\n 4.8204283041437295,\n 4.8204283041437295,\n 4.8204283041437295,\n 4.8204283041437295,\n 4.8204283041437295,\n 4.8204283041437295,\n 4.8204283041437295,\n 4.8204283041437295,\n 4.8204283041437295,\n 4.8204283041437295,\n 4.8204283041437295,\n 4.8204283041437295,\n 4.8204283041437295,\n 4.8204283041437295,\n 4.8204283041437295,\n 4.8204283041437295,\n 4.8204283041437295,\n 4.8204283041437295,\n 4.8204283041437295,\n 4.8204283041437295,\n 4.8204283041437295,\n 4.811176283524685,\n 4.811176283524685,\n 4.811176283524685,\n 4.811176283524685,\n 4.811176283524685,\n 4.811176283524685,\n 4.811176283524685,\n 4.811176283524685,\n 4.811176283524685,\n 4.811176283524685,\n 4.811176283524685,\n 4.811176283524685,\n 4.864419503733072,\n 4.864419503733072,\n 4.864419503733072,\n 4.876959244246766,\n 4.876959244246766,\n 4.876959244246766,\n 4.876959244246766,\n 4.876959244246766,\n 4.884132578512874,\n 4.884132578512874,\n 4.894425721591176,\n 4.894425721591176,\n 4.894425721591176,\n 4.894425721591176,\n 4.894425721591176,\n 4.894425721591176,\n 4.894425721591176,\n 4.920207473925039,\n 4.920207473925039,\n 4.920207473925039,\n 4.920207473925039,\n 4.920207473925039,\n 4.920207473925039,\n 4.920207473925039,\n 4.920207473925039,\n 4.920207473925039,\n 4.920207473925039,\n 4.920207473925039,\n 4.920207473925039,\n 4.920207473925039,\n 4.920207473925039,\n 4.920207473925039,\n 4.920207473925039,\n 4.920207473925039,\n 4.920207473925039,\n 4.908705854518182,\n 4.908705854518182,\n 4.908705854518182,\n 4.908705854518182,\n 4.908705854518182,\n 4.908705854518182,\n 4.908705854518182,\n 4.908705854518182,\n 4.908705854518182,\n 4.908705854518182,\n 4.908705854518182,\n 4.908705854518182,\n 4.908705854518182,\n 4.908705854518182,\n 4.908705854518182,\n 4.908705854518182,\n 4.908705854518182,\n 4.908705854518182,\n 4.908705854518182,\n 4.908705854518182,\n 4.908705854518182,\n 4.908705854518182,\n 4.908705854518182,\n 4.908705854518182,\n 4.908705854518182,\n 4.908705854518182,\n 4.908705854518182,\n 4.908705854518182,\n 4.908705854518182,\n 4.908705854518182,\n 4.908705854518182,\n 4.908705854518182,\n 4.908705854518182,\n 4.908705854518182,\n 4.908705854518182,\n 4.908705854518182,\n 4.908705854518182,\n 4.908705854518182,\n 4.908705854518182,\n 4.908705854518182,\n 4.908705854518182,\n 4.908705854518182,\n 4.908705854518182,\n 4.908705854518182,\n 4.908705854518182,\n 4.908705854518182,\n 4.908705854518182,\n 4.908705854518182,\n 4.908705854518182,\n 4.908705854518182,\n 4.908705854518182,\n 4.908705854518182,\n 4.908705854518182,\n 4.908705854518182,\n 4.908705854518182,\n 4.849451409103522,\n 4.849451409103522,\n 4.849451409103522,\n 4.834902588510728,\n 4.834902588510728,\n 4.834902588510728,\n 4.834902588510728,\n 4.834902588510728,\n 4.816744270025315,\n 4.816744270025315,\n 4.788760069325975,\n 4.788760069325975,\n 4.788760069325975,\n 4.788760069325975,\n 4.788760069325975,\n 4.788760069325975,\n 4.788760069325975,\n 4.738191501590959,\n 4.738191501590959,\n 4.738191501590959,\n 4.738191501590959,\n 4.738191501590959,\n 4.738191501590959,\n 4.738191501590959,\n 4.738191501590959,\n 4.738191501590959,\n 4.733160204174063,\n 4.733160204174063,\n 4.733160204174063,\n 4.733160204174063,\n 4.733160204174063,\n 4.733160204174063,\n 4.734135060137048,\n 4.734135060137048,\n 4.734135060137048,\n 4.7724751240707795,\n 4.7724751240707795,\n 4.775545013822687,\n 4.7724027767944435,\n 4.7724027767944435,\n 4.7724027767944435,\n 4.7724027767944435,\n 4.7724027767944435,\n 4.7724027767944435,\n 4.7724027767944435,\n 4.7724027767944435,\n 4.7724027767944435,\n 4.7724027767944435,\n 4.7724027767944435,\n 4.7724027767944435,\n 4.7724027767944435,\n 4.81348475644423,\n 4.862118445130459,\n 4.862118445130459,\n 4.862118445130459,\n 4.904264751547598,\n 4.904264751547598,\n 4.904264751547598,\n 4.904264751547598,\n 4.904264751547598,\n 4.904264751547598,\n 4.904264751547598,\n 4.961227377682294,\n 4.961227377682294,\n 4.961227377682294,\n 5.049120646397868,\n 5.049120646397868,\n 5.100611192173851,\n 5.100611192173851,\n 5.100611192173851,\n 5.100611192173851,\n 5.100611192173851,\n 5.100611192173851,\n 5.100611192173851,\n 5.100611192173851,\n 5.100611192173851,\n 5.100611192173851,\n 5.100611192173851,\n 5.100611192173851,\n 5.100611192173851,\n 5.100611192173851,\n 5.100611192173851,\n 5.100611192173851,\n 5.100611192173851,\n 5.100611192173851,\n 5.100611192173851,\n 5.100611192173851,\n 5.100611192173851,\n 5.100611192173851,\n 5.100611192173851,\n 5.100611192173851,\n 5.100611192173851,\n 5.100611192173851,\n 5.100611192173851,\n 5.100611192173851,\n 5.100611192173851,\n 5.100611192173851,\n 5.100611192173851,\n 5.100611192173851,\n 5.100611192173851,\n 5.100611192173851,\n 5.100611192173851,\n 5.100611192173851,\n 5.100611192173851,\n 5.100611192173851,\n 5.100611192173851,\n 5.100611192173851,\n 5.100611192173851,\n 5.100611192173851,\n 5.100611192173851,\n 5.100611192173851,\n 5.100611192173851,\n 5.100611192173851,\n 5.100611192173851,\n 5.100611192173851,\n 5.100611192173851,\n 5.100611192173851,\n 5.100611192173851,\n 5.100611192173851,\n 5.100611192173851,\n 5.100611192173851,\n 5.100611192173851,\n 5.100611192173851,\n 5.100611192173851,\n 5.100611192173851,\n 5.100611192173851,\n 5.100611192173851,\n 5.100611192173851,\n 5.103108156669505,\n 5.103108156669505,\n 5.103108156669505,\n 5.103108156669505,\n 5.103108156669505,\n 5.103108156669505,\n 5.103108156669505,\n 5.103108156669505,\n 5.103108156669505,\n 5.103108156669505,\n 5.103108156669505,\n 5.103108156669505,\n 5.103108156669505]"
          },
          "metadata": {}
        }
      ],
      "execution_count": 8,
      "metadata": {
        "collapsed": true,
        "jupyter": {
          "source_hidden": false,
          "outputs_hidden": false
        },
        "nteract": {
          "transient": {
            "deleting": false
          }
        },
        "execution": {
          "iopub.status.busy": "2020-09-27T19:55:06.357Z",
          "iopub.execute_input": "2020-09-27T19:55:06.361Z",
          "iopub.status.idle": "2020-09-27T19:55:06.376Z",
          "shell.execute_reply": "2020-09-27T19:55:06.400Z"
        }
      }
    }
  ],
  "metadata": {
    "kernel_info": {
      "name": "python3"
    },
    "language_info": {
      "file_extension": ".py",
      "version": "3.5.5",
      "pygments_lexer": "ipython3",
      "codemirror_mode": {
        "version": 3,
        "name": "ipython"
      },
      "nbconvert_exporter": "python",
      "mimetype": "text/x-python",
      "name": "python"
    },
    "kernelspec": {
      "argv": [
        "C:\\Users\\Tin Hang\\Anaconda3\\envs\\py35\\python.exe",
        "-m",
        "ipykernel_launcher",
        "-f",
        "{connection_file}"
      ],
      "display_name": "Python 3",
      "language": "python",
      "name": "python3"
    },
    "nteract": {
      "version": "0.25.0"
    }
  },
  "nbformat": 4,
  "nbformat_minor": 0
}