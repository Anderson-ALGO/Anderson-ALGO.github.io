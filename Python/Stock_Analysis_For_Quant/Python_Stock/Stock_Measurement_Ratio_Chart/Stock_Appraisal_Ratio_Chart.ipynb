{
  "cells": [
    {
      "cell_type": "markdown",
      "source": [
        "# Stock Appraisal Ratio Chart"
      ],
      "metadata": {
        "nteract": {
          "transient": {
            "deleting": false
          }
        }
      }
    },
    {
      "cell_type": "code",
      "source": [
        "# Library\n",
        "import pandas as pd\n",
        "import numpy as np\n",
        "import matplotlib.pyplot as plt\n",
        "\n",
        "import warnings\n",
        "warnings.filterwarnings(\"ignore\")\n",
        "\n",
        "from pandas_datareader import data as pdr\n",
        "import yfinance as yf\n",
        "yf.pdr_override()"
      ],
      "outputs": [],
      "execution_count": 1,
      "metadata": {
        "collapsed": true,
        "jupyter": {
          "source_hidden": false,
          "outputs_hidden": false
        },
        "nteract": {
          "transient": {
            "deleting": false
          }
        },
        "execution": {
          "iopub.status.busy": "2020-09-08T01:10:04.217Z",
          "iopub.execute_input": "2020-09-08T01:10:04.225Z",
          "iopub.status.idle": "2020-09-08T01:10:05.315Z",
          "shell.execute_reply": "2020-09-08T01:10:05.369Z"
        }
      }
    },
    {
      "cell_type": "code",
      "source": [
        "start = '2019-01-01' #input\n",
        "end = '2020-07-01' #input\n",
        "symbol1 = '^GSPC' #input\n",
        "symbol2 = 'AMD' #input"
      ],
      "outputs": [],
      "execution_count": 2,
      "metadata": {
        "collapsed": true,
        "jupyter": {
          "source_hidden": false,
          "outputs_hidden": false
        },
        "nteract": {
          "transient": {
            "deleting": false
          }
        },
        "execution": {
          "iopub.status.busy": "2020-09-08T01:10:05.325Z",
          "iopub.execute_input": "2020-09-08T01:10:05.332Z",
          "iopub.status.idle": "2020-09-08T01:10:05.342Z",
          "shell.execute_reply": "2020-09-08T01:10:05.377Z"
        }
      }
    },
    {
      "cell_type": "code",
      "source": [
        "market = yf.download(symbol1, start=start, end=end)['Adj Close']\n",
        "stocks = yf.download(symbol2, start=start, end=end)['Adj Close']"
      ],
      "outputs": [
        {
          "output_type": "stream",
          "name": "stdout",
          "text": [
            "[*********************100%***********************]  1 of 1 completed\n",
            "[*********************100%***********************]  1 of 1 completed\n"
          ]
        }
      ],
      "execution_count": 3,
      "metadata": {
        "collapsed": true,
        "jupyter": {
          "source_hidden": false,
          "outputs_hidden": false
        },
        "nteract": {
          "transient": {
            "deleting": false
          }
        },
        "execution": {
          "iopub.status.busy": "2020-09-08T01:10:05.349Z",
          "iopub.execute_input": "2020-09-08T01:10:05.354Z",
          "iopub.status.idle": "2020-09-08T01:10:06.861Z",
          "shell.execute_reply": "2020-09-08T01:10:06.917Z"
        }
      }
    },
    {
      "cell_type": "code",
      "source": [
        "market_returns = market.pct_change().dropna()\n",
        "stocks_returns = stocks.pct_change().dropna()"
      ],
      "outputs": [],
      "execution_count": 4,
      "metadata": {
        "collapsed": true,
        "jupyter": {
          "source_hidden": false,
          "outputs_hidden": false
        },
        "nteract": {
          "transient": {
            "deleting": false
          }
        },
        "execution": {
          "iopub.status.busy": "2020-09-08T01:10:06.871Z",
          "iopub.execute_input": "2020-09-08T01:10:06.879Z",
          "iopub.status.idle": "2020-09-08T01:10:06.889Z",
          "shell.execute_reply": "2020-09-08T01:10:07.254Z"
        }
      }
    },
    {
      "cell_type": "code",
      "source": [
        "# risk free\n",
        "rf = yf.download('BIL', start=start, end=end)['Adj Close'].pct_change()[1:]"
      ],
      "outputs": [
        {
          "output_type": "stream",
          "name": "stdout",
          "text": [
            "[*********************100%***********************]  1 of 1 completed\n"
          ]
        }
      ],
      "execution_count": 5,
      "metadata": {
        "collapsed": true,
        "jupyter": {
          "source_hidden": false,
          "outputs_hidden": false
        },
        "nteract": {
          "transient": {
            "deleting": false
          }
        },
        "execution": {
          "iopub.status.busy": "2020-09-08T01:10:06.895Z",
          "iopub.execute_input": "2020-09-08T01:10:06.901Z",
          "iopub.status.idle": "2020-09-08T01:10:07.047Z",
          "shell.execute_reply": "2020-09-08T01:10:07.257Z"
        }
      }
    },
    {
      "cell_type": "code",
      "source": [
        "def appraisal_ratio(stocks_returns, market_returns):\n",
        "    m = np.matrix([stocks_returns, market_returns])\n",
        "    beta = np.cov(m)[0][1] / np.std(market_returns)\n",
        "    alpha = np.mean(stocks_returns) - beta * np.mean(market_returns)\n",
        "    stock_risk = stocks_returns.std()\n",
        "    market_risk = market_returns.std()\n",
        "    Unsystematic_risk = stock_risk - beta*market_risk\n",
        "    appraisal_r = alpha / Unsystematic_risk\n",
        "    return appraisal_r\n"
      ],
      "outputs": [],
      "execution_count": 11,
      "metadata": {
        "collapsed": true,
        "jupyter": {
          "source_hidden": false,
          "outputs_hidden": false
        },
        "nteract": {
          "transient": {
            "deleting": false
          }
        },
        "execution": {
          "iopub.status.busy": "2020-09-08T01:10:40.001Z",
          "iopub.execute_input": "2020-09-08T01:10:40.006Z",
          "iopub.status.idle": "2020-09-08T01:10:40.015Z",
          "shell.execute_reply": "2020-09-08T01:10:40.026Z"
        }
      }
    },
    {
      "cell_type": "code",
      "source": [
        "# Compute the running Appraisal Ratio\n",
        "running = [appraisal_ratio(stocks_returns[i-90:i], market_returns[i-90:i]) for i in range(90, len(stocks_returns))]\n",
        "\n",
        "# Plot running Appraisal Ratio up to 100 days before the end of the data set\n",
        "_, ax1 = plt.subplots(figsize=(12,8))\n",
        "ax1.plot(range(90, len(stocks_returns)-100), running[:-100])\n",
        "ticks = ax1.get_xticks()\n",
        "ax1.set_xticklabels([stocks.index[int(i)].date() for i in ticks[:-1]]) # Label x-axis with dates\n",
        "plt.title(symbol1 + ' Appraisal Ratio')\n",
        "plt.xlabel('Date')\n",
        "plt.ylabel('Sterling Ratio')"
      ],
      "outputs": [
        {
          "output_type": "execute_result",
          "execution_count": 12,
          "data": {
            "text/plain": "Text(0, 0.5, 'Sterling Ratio')"
          },
          "metadata": {}
        },
        {
          "output_type": "display_data",
          "data": {
            "image/png": "[encoded data removed]",
            "text/plain": "<Figure size 864x576 with 1 Axes>"
          },
          "metadata": {
            "needs_background": "light"
          }
        }
      ],
      "execution_count": 12,
      "metadata": {
        "collapsed": true,
        "jupyter": {
          "source_hidden": false,
          "outputs_hidden": false
        },
        "nteract": {
          "transient": {
            "deleting": false
          }
        },
        "execution": {
          "iopub.status.busy": "2020-09-08T01:10:40.826Z",
          "iopub.execute_input": "2020-09-08T01:10:40.832Z",
          "iopub.status.idle": "2020-09-08T01:10:41.392Z",
          "shell.execute_reply": "2020-09-08T01:10:41.403Z"
        }
      }
    }
  ],
  "metadata": {
    "kernel_info": {
      "name": "python3"
    },
    "language_info": {
      "pygments_lexer": "ipython3",
      "name": "python",
      "version": "3.5.5",
      "file_extension": ".py",
      "nbconvert_exporter": "python",
      "mimetype": "text/x-python",
      "codemirror_mode": {
        "name": "ipython",
        "version": 3
      }
    },
    "kernelspec": {
      "argv": [
        "C:\\Users\\Tin Hang\\Anaconda3\\envs\\py35\\python.exe",
        "-m",
        "ipykernel_launcher",
        "-f",
        "{connection_file}"
      ],
      "display_name": "Python 3",
      "language": "python",
      "name": "python3"
    },
    "nteract": {
      "version": "0.25.0"
    }
  },
  "nbformat": 4,
  "nbformat_minor": 0
}