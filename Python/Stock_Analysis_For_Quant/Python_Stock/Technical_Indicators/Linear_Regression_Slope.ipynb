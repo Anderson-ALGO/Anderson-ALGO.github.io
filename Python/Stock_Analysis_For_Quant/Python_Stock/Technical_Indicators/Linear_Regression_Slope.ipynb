{
  "cells": [
    {
      "cell_type": "markdown",
      "source": [
        "# Linear Regression Slope (LRS)"
      ],
      "metadata": {}
    },
    {
      "cell_type": "markdown",
      "source": [
        "https://library.tradingtechnologies.com/trade/chrt-ti-linear-regression-slope.html"
      ],
      "metadata": {}
    },
    {
      "cell_type": "code",
      "source": [
        "import numpy as np\n",
        "import pandas as pd\n",
        "import matplotlib.pyplot as plt\n",
        "\n",
        "import warnings\n",
        "warnings.filterwarnings(\"ignore\")\n",
        "\n",
        "# fix_yahoo_finance is used to fetch data \n",
        "import fix_yahoo_finance as yf\n",
        "yf.pdr_override()"
      ],
      "outputs": [],
      "execution_count": 1,
      "metadata": {
        "collapsed": false,
        "outputHidden": false,
        "inputHidden": false
      }
    },
    {
      "cell_type": "code",
      "source": [
        "# input\n",
        "symbol1 = 'AAPL'\n",
        "symbol2 = 'QQQ'\n",
        "start = '2018-08-01'\n",
        "end = '2019-01-01'\n",
        "\n",
        "# Read data \n",
        "df1 = yf.download(symbol1,start,end)\n",
        "df2 = yf.download(symbol2,start,end)"
      ],
      "outputs": [
        {
          "output_type": "stream",
          "name": "stdout",
          "text": [
            "[*********************100%***********************]  1 of 1 downloaded\n",
            "[*********************100%***********************]  1 of 1 downloaded\n"
          ]
        }
      ],
      "execution_count": 2,
      "metadata": {
        "collapsed": false,
        "outputHidden": false,
        "inputHidden": false
      }
    },
    {
      "cell_type": "code",
      "source": [
        "# View Columns\n",
        "df1.head()"
      ],
      "outputs": [
        {
          "output_type": "execute_result",
          "execution_count": 3,
          "data": {
            "text/html": [
              "<div>\n",
              "<style scoped>\n",
              "    .dataframe tbody tr th:only-of-type {\n",
              "        vertical-align: middle;\n",
              "    }\n",
              "\n",
              "    .dataframe tbody tr th {\n",
              "        vertical-align: top;\n",
              "    }\n",
              "\n",
              "    .dataframe thead th {\n",
              "        text-align: right;\n",
              "    }\n",
              "</style>\n",
              "<table border=\"1\" class=\"dataframe\">\n",
              "  <thead>\n",
              "    <tr style=\"text-align: right;\">\n",
              "      <th></th>\n",
              "      <th>Open</th>\n",
              "      <th>High</th>\n",
              "      <th>Low</th>\n",
              "      <th>Close</th>\n",
              "      <th>Adj Close</th>\n",
              "      <th>Volume</th>\n",
              "    </tr>\n",
              "    <tr>\n",
              "      <th>Date</th>\n",
              "      <th></th>\n",
              "      <th></th>\n",
              "      <th></th>\n",
              "      <th></th>\n",
              "      <th></th>\n",
              "      <th></th>\n",
              "    </tr>\n",
              "  </thead>\n",
              "  <tbody>\n",
              "    <tr>\n",
              "      <th>2018-08-01</th>\n",
              "      <td>199.130005</td>\n",
              "      <td>201.759995</td>\n",
              "      <td>197.309998</td>\n",
              "      <td>201.500000</td>\n",
              "      <td>198.478760</td>\n",
              "      <td>67935700</td>\n",
              "    </tr>\n",
              "    <tr>\n",
              "      <th>2018-08-02</th>\n",
              "      <td>200.580002</td>\n",
              "      <td>208.380005</td>\n",
              "      <td>200.350006</td>\n",
              "      <td>207.389999</td>\n",
              "      <td>204.280457</td>\n",
              "      <td>62404000</td>\n",
              "    </tr>\n",
              "    <tr>\n",
              "      <th>2018-08-03</th>\n",
              "      <td>207.029999</td>\n",
              "      <td>208.740005</td>\n",
              "      <td>205.479996</td>\n",
              "      <td>207.990005</td>\n",
              "      <td>204.871445</td>\n",
              "      <td>33447400</td>\n",
              "    </tr>\n",
              "    <tr>\n",
              "      <th>2018-08-06</th>\n",
              "      <td>208.000000</td>\n",
              "      <td>209.250000</td>\n",
              "      <td>207.070007</td>\n",
              "      <td>209.070007</td>\n",
              "      <td>205.935257</td>\n",
              "      <td>25425400</td>\n",
              "    </tr>\n",
              "    <tr>\n",
              "      <th>2018-08-07</th>\n",
              "      <td>209.320007</td>\n",
              "      <td>209.500000</td>\n",
              "      <td>206.759995</td>\n",
              "      <td>207.110001</td>\n",
              "      <td>204.004639</td>\n",
              "      <td>25587400</td>\n",
              "    </tr>\n",
              "  </tbody>\n",
              "</table>\n",
              "</div>"
            ],
            "text/plain": [
              "                  Open        High         Low       Close   Adj Close  \\\n",
              "Date                                                                     \n",
              "2018-08-01  199.130005  201.759995  197.309998  201.500000  198.478760   \n",
              "2018-08-02  200.580002  208.380005  200.350006  207.389999  204.280457   \n",
              "2018-08-03  207.029999  208.740005  205.479996  207.990005  204.871445   \n",
              "2018-08-06  208.000000  209.250000  207.070007  209.070007  205.935257   \n",
              "2018-08-07  209.320007  209.500000  206.759995  207.110001  204.004639   \n",
              "\n",
              "              Volume  \n",
              "Date                  \n",
              "2018-08-01  67935700  \n",
              "2018-08-02  62404000  \n",
              "2018-08-03  33447400  \n",
              "2018-08-06  25425400  \n",
              "2018-08-07  25587400  "
            ]
          },
          "metadata": {}
        }
      ],
      "execution_count": 3,
      "metadata": {
        "collapsed": false,
        "outputHidden": false,
        "inputHidden": false
      }
    },
    {
      "cell_type": "code",
      "source": [
        "df2.head()"
      ],
      "outputs": [
        {
          "output_type": "execute_result",
          "execution_count": 4,
          "data": {
            "text/html": [
              "<div>\n",
              "<style scoped>\n",
              "    .dataframe tbody tr th:only-of-type {\n",
              "        vertical-align: middle;\n",
              "    }\n",
              "\n",
              "    .dataframe tbody tr th {\n",
              "        vertical-align: top;\n",
              "    }\n",
              "\n",
              "    .dataframe thead th {\n",
              "        text-align: right;\n",
              "    }\n",
              "</style>\n",
              "<table border=\"1\" class=\"dataframe\">\n",
              "  <thead>\n",
              "    <tr style=\"text-align: right;\">\n",
              "      <th></th>\n",
              "      <th>Open</th>\n",
              "      <th>High</th>\n",
              "      <th>Low</th>\n",
              "      <th>Close</th>\n",
              "      <th>Adj Close</th>\n",
              "      <th>Volume</th>\n",
              "    </tr>\n",
              "    <tr>\n",
              "      <th>Date</th>\n",
              "      <th></th>\n",
              "      <th></th>\n",
              "      <th></th>\n",
              "      <th></th>\n",
              "      <th></th>\n",
              "      <th></th>\n",
              "    </tr>\n",
              "  </thead>\n",
              "  <tbody>\n",
              "    <tr>\n",
              "      <th>2018-08-01</th>\n",
              "      <td>176.860001</td>\n",
              "      <td>177.649994</td>\n",
              "      <td>176.100006</td>\n",
              "      <td>177.119995</td>\n",
              "      <td>175.977173</td>\n",
              "      <td>37101900</td>\n",
              "    </tr>\n",
              "    <tr>\n",
              "      <th>2018-08-02</th>\n",
              "      <td>175.869995</td>\n",
              "      <td>179.740005</td>\n",
              "      <td>175.789993</td>\n",
              "      <td>179.529999</td>\n",
              "      <td>178.371628</td>\n",
              "      <td>47178200</td>\n",
              "    </tr>\n",
              "    <tr>\n",
              "      <th>2018-08-03</th>\n",
              "      <td>179.869995</td>\n",
              "      <td>180.089996</td>\n",
              "      <td>179.080002</td>\n",
              "      <td>180.080002</td>\n",
              "      <td>178.918091</td>\n",
              "      <td>28934400</td>\n",
              "    </tr>\n",
              "    <tr>\n",
              "      <th>2018-08-06</th>\n",
              "      <td>179.960007</td>\n",
              "      <td>181.190002</td>\n",
              "      <td>179.740005</td>\n",
              "      <td>181.139999</td>\n",
              "      <td>179.971237</td>\n",
              "      <td>24808800</td>\n",
              "    </tr>\n",
              "    <tr>\n",
              "      <th>2018-08-07</th>\n",
              "      <td>181.649994</td>\n",
              "      <td>182.139999</td>\n",
              "      <td>181.259995</td>\n",
              "      <td>181.800003</td>\n",
              "      <td>180.626999</td>\n",
              "      <td>29895700</td>\n",
              "    </tr>\n",
              "  </tbody>\n",
              "</table>\n",
              "</div>"
            ],
            "text/plain": [
              "                  Open        High         Low       Close   Adj Close  \\\n",
              "Date                                                                     \n",
              "2018-08-01  176.860001  177.649994  176.100006  177.119995  175.977173   \n",
              "2018-08-02  175.869995  179.740005  175.789993  179.529999  178.371628   \n",
              "2018-08-03  179.869995  180.089996  179.080002  180.080002  178.918091   \n",
              "2018-08-06  179.960007  181.190002  179.740005  181.139999  179.971237   \n",
              "2018-08-07  181.649994  182.139999  181.259995  181.800003  180.626999   \n",
              "\n",
              "              Volume  \n",
              "Date                  \n",
              "2018-08-01  37101900  \n",
              "2018-08-02  47178200  \n",
              "2018-08-03  28934400  \n",
              "2018-08-06  24808800  \n",
              "2018-08-07  29895700  "
            ]
          },
          "metadata": {}
        }
      ],
      "execution_count": 4,
      "metadata": {
        "collapsed": false,
        "outputHidden": false,
        "inputHidden": false
      }
    },
    {
      "cell_type": "code",
      "source": [
        "avg1 = df1['Adj Close'].mean()\n",
        "avg2 = df2['Adj Close'].mean()\n",
        "df1['AVGS1_S1'] = avg1 - df1['Adj Close']\n",
        "df1['AVGS2_S2'] = avg2 - df2['Adj Close']\n",
        "df1['Average_SQ'] = df1['AVGS1_S1']**2\n",
        "df1['AVG_AVG'] = df1['AVGS1_S1']*df1['AVGS2_S2']"
      ],
      "outputs": [],
      "execution_count": 5,
      "metadata": {
        "collapsed": false,
        "outputHidden": false,
        "inputHidden": false
      }
    },
    {
      "cell_type": "code",
      "source": [
        "sum_sq = df1['Average_SQ'].sum()\n",
        "sum_avg = df1['AVG_AVG'].sum()\n",
        "slope = sum_avg/sum_sq\n",
        "intercept = avg2-(slope*avg1)"
      ],
      "outputs": [],
      "execution_count": 6,
      "metadata": {
        "collapsed": false,
        "outputHidden": false,
        "inputHidden": false
      }
    },
    {
      "cell_type": "code",
      "source": [
        "m = (df1['Adj Close']-df1['Adj Close'].mean())*(df2['Adj Close']-df2['Adj Close'].mean())/(df1['Adj Close']-df1['Adj Close'].mean())"
      ],
      "outputs": [],
      "execution_count": 7,
      "metadata": {
        "collapsed": false,
        "outputHidden": false,
        "inputHidden": false
      }
    },
    {
      "cell_type": "code",
      "source": [
        "n = 20\n",
        "df1['Slope'] = m.rolling(n).mean()"
      ],
      "outputs": [],
      "execution_count": 8,
      "metadata": {
        "collapsed": false,
        "outputHidden": false,
        "inputHidden": false
      }
    },
    {
      "cell_type": "code",
      "source": [
        "fig = plt.figure(figsize=(14,10))\n",
        "ax1 = plt.subplot(2, 1, 1)\n",
        "ax1.plot(df1['Adj Close'])\n",
        "ax1.set_title('Stock '+ symbol1 +' Closing Price')\n",
        "ax1.set_ylabel('Price')\n",
        "ax1.legend(loc='best')\n",
        "\n",
        "ax2 = plt.subplot(2, 1, 2)\n",
        "#df1['VolumePositive'] = df1['Open'] < df1['Adj Close']\n",
        "#colors = df1.VolumePositive.map({True: 'g', False: 'r'})\n",
        "#ax2.bar(df1.index, df1['Volume'], color=colors, alpha=0.4)\n",
        "ax2.plot(df1['Slope'], label='Slope')\n",
        "ax2.grid()\n",
        "ax2.set_ylabel('Slope')\n",
        "ax2.set_xlabel('Date')"
      ],
      "outputs": [
        {
          "output_type": "execute_result",
          "execution_count": 9,
          "data": {
            "text/plain": [
              "Text(0.5,0,'Date')"
            ]
          },
          "metadata": {}
        },
        {
          "output_type": "display_data",
          "data": {
            "image/png": "[encoded data removed]",
            "text/plain": [
              "<Figure size 1008x720 with 2 Axes>"
            ]
          },
          "metadata": {}
        }
      ],
      "execution_count": 9,
      "metadata": {
        "collapsed": false,
        "outputHidden": false,
        "inputHidden": false
      }
    },
    {
      "cell_type": "markdown",
      "source": [
        "## Candlestick with Linear Regression Slope"
      ],
      "metadata": {}
    },
    {
      "cell_type": "code",
      "source": [
        "from matplotlib import dates as mdates\n",
        "import datetime as dt\n",
        "\n",
        "dfc = df1.copy()\n",
        "dfc['VolumePositive'] = dfc['Open'] < dfc['Adj Close']\n",
        "#dfc = dfc.dropna()\n",
        "dfc = dfc.reset_index()\n",
        "dfc['Date'] = mdates.date2num(dfc['Date'].astype(dt.date))\n",
        "dfc.head()"
      ],
      "outputs": [
        {
          "output_type": "execute_result",
          "execution_count": 10,
          "data": {
            "text/html": [
              "<div>\n",
              "<style scoped>\n",
              "    .dataframe tbody tr th:only-of-type {\n",
              "        vertical-align: middle;\n",
              "    }\n",
              "\n",
              "    .dataframe tbody tr th {\n",
              "        vertical-align: top;\n",
              "    }\n",
              "\n",
              "    .dataframe thead th {\n",
              "        text-align: right;\n",
              "    }\n",
              "</style>\n",
              "<table border=\"1\" class=\"dataframe\">\n",
              "  <thead>\n",
              "    <tr style=\"text-align: right;\">\n",
              "      <th></th>\n",
              "      <th>Date</th>\n",
              "      <th>Open</th>\n",
              "      <th>High</th>\n",
              "      <th>Low</th>\n",
              "      <th>Close</th>\n",
              "      <th>Adj Close</th>\n",
              "      <th>Volume</th>\n",
              "      <th>AVGS1_S1</th>\n",
              "      <th>AVGS2_S2</th>\n",
              "      <th>Average_SQ</th>\n",
              "      <th>AVG_AVG</th>\n",
              "      <th>Slope</th>\n",
              "      <th>VolumePositive</th>\n",
              "    </tr>\n",
              "  </thead>\n",
              "  <tbody>\n",
              "    <tr>\n",
              "      <th>0</th>\n",
              "      <td>736907.0</td>\n",
              "      <td>199.130005</td>\n",
              "      <td>201.759995</td>\n",
              "      <td>197.309998</td>\n",
              "      <td>201.500000</td>\n",
              "      <td>198.478760</td>\n",
              "      <td>67935700</td>\n",
              "      <td>2.593095</td>\n",
              "      <td>-3.527169</td>\n",
              "      <td>6.724141</td>\n",
              "      <td>-9.146283</td>\n",
              "      <td>NaN</td>\n",
              "      <td>False</td>\n",
              "    </tr>\n",
              "    <tr>\n",
              "      <th>1</th>\n",
              "      <td>736908.0</td>\n",
              "      <td>200.580002</td>\n",
              "      <td>208.380005</td>\n",
              "      <td>200.350006</td>\n",
              "      <td>207.389999</td>\n",
              "      <td>204.280457</td>\n",
              "      <td>62404000</td>\n",
              "      <td>-3.208602</td>\n",
              "      <td>-5.921624</td>\n",
              "      <td>10.295127</td>\n",
              "      <td>19.000134</td>\n",
              "      <td>NaN</td>\n",
              "      <td>True</td>\n",
              "    </tr>\n",
              "    <tr>\n",
              "      <th>2</th>\n",
              "      <td>736909.0</td>\n",
              "      <td>207.029999</td>\n",
              "      <td>208.740005</td>\n",
              "      <td>205.479996</td>\n",
              "      <td>207.990005</td>\n",
              "      <td>204.871445</td>\n",
              "      <td>33447400</td>\n",
              "      <td>-3.799590</td>\n",
              "      <td>-6.468087</td>\n",
              "      <td>14.436884</td>\n",
              "      <td>24.576078</td>\n",
              "      <td>NaN</td>\n",
              "      <td>False</td>\n",
              "    </tr>\n",
              "    <tr>\n",
              "      <th>3</th>\n",
              "      <td>736912.0</td>\n",
              "      <td>208.000000</td>\n",
              "      <td>209.250000</td>\n",
              "      <td>207.070007</td>\n",
              "      <td>209.070007</td>\n",
              "      <td>205.935257</td>\n",
              "      <td>25425400</td>\n",
              "      <td>-4.863402</td>\n",
              "      <td>-7.521233</td>\n",
              "      <td>23.652679</td>\n",
              "      <td>36.578778</td>\n",
              "      <td>NaN</td>\n",
              "      <td>False</td>\n",
              "    </tr>\n",
              "    <tr>\n",
              "      <th>4</th>\n",
              "      <td>736913.0</td>\n",
              "      <td>209.320007</td>\n",
              "      <td>209.500000</td>\n",
              "      <td>206.759995</td>\n",
              "      <td>207.110001</td>\n",
              "      <td>204.004639</td>\n",
              "      <td>25587400</td>\n",
              "      <td>-2.932784</td>\n",
              "      <td>-8.176995</td>\n",
              "      <td>8.601222</td>\n",
              "      <td>23.981359</td>\n",
              "      <td>NaN</td>\n",
              "      <td>False</td>\n",
              "    </tr>\n",
              "  </tbody>\n",
              "</table>\n",
              "</div>"
            ],
            "text/plain": [
              "       Date        Open        High         Low       Close   Adj Close  \\\n",
              "0  736907.0  199.130005  201.759995  197.309998  201.500000  198.478760   \n",
              "1  736908.0  200.580002  208.380005  200.350006  207.389999  204.280457   \n",
              "2  736909.0  207.029999  208.740005  205.479996  207.990005  204.871445   \n",
              "3  736912.0  208.000000  209.250000  207.070007  209.070007  205.935257   \n",
              "4  736913.0  209.320007  209.500000  206.759995  207.110001  204.004639   \n",
              "\n",
              "     Volume  AVGS1_S1  AVGS2_S2  Average_SQ    AVG_AVG  Slope  VolumePositive  \n",
              "0  67935700  2.593095 -3.527169    6.724141  -9.146283    NaN           False  \n",
              "1  62404000 -3.208602 -5.921624   10.295127  19.000134    NaN            True  \n",
              "2  33447400 -3.799590 -6.468087   14.436884  24.576078    NaN           False  \n",
              "3  25425400 -4.863402 -7.521233   23.652679  36.578778    NaN           False  \n",
              "4  25587400 -2.932784 -8.176995    8.601222  23.981359    NaN           False  "
            ]
          },
          "metadata": {}
        }
      ],
      "execution_count": 10,
      "metadata": {
        "collapsed": false,
        "outputHidden": false,
        "inputHidden": false
      }
    },
    {
      "cell_type": "code",
      "source": [
        "from mpl_finance import candlestick_ohlc\n",
        "\n",
        "fig = plt.figure(figsize=(14,10))\n",
        "ax1 = plt.subplot(2, 1, 1)\n",
        "candlestick_ohlc(ax1,dfc.values, width=0.5, colorup='g', colordown='r', alpha=1.0)\n",
        "ax1.xaxis_date()\n",
        "ax1.xaxis.set_major_formatter(mdates.DateFormatter('%d-%m-%Y'))\n",
        "ax1.grid(True, which='both')\n",
        "ax1.minorticks_on()\n",
        "ax1v = ax1.twinx()\n",
        "colors = dfc.VolumePositive.map({True: 'g', False: 'r'})\n",
        "ax1v.bar(dfc.Date, dfc['Volume'], color=colors, alpha=0.4)\n",
        "ax1v.axes.yaxis.set_ticklabels([])\n",
        "ax1v.set_ylim(0, 3*df1.Volume.max())\n",
        "ax1.set_title('Stock '+ symbol1 +' Closing Price')\n",
        "ax1.set_ylabel('Price')\n",
        "\n",
        "ax2 = plt.subplot(2, 1, 2)\n",
        "#df1['VolumePositive'] = df1['Open'] < df1['Adj Close']\n",
        "#colors = df1.VolumePositive.map({True: 'g', False: 'r'})\n",
        "#ax2.bar(df1.index, df1['Volume'], color=colors, alpha=0.4)\n",
        "ax2.plot(df1['Slope'], label='Slope')\n",
        "ax2.grid()\n",
        "ax2.set_ylabel('Slope')\n",
        "ax2.set_xlabel('Date')"
      ],
      "outputs": [
        {
          "output_type": "execute_result",
          "execution_count": 11,
          "data": {
            "text/plain": [
              "Text(0.5,0,'Date')"
            ]
          },
          "metadata": {}
        },
        {
          "output_type": "display_data",
          "data": {
            "image/png": "[encoded data removed]",
            "text/plain": [
              "<Figure size 1008x720 with 3 Axes>"
            ]
          },
          "metadata": {}
        }
      ],
      "execution_count": 11,
      "metadata": {
        "collapsed": false,
        "outputHidden": false,
        "inputHidden": false
      }
    }
  ],
  "metadata": {
    "kernel_info": {
      "name": "python3"
    },
    "language_info": {
      "mimetype": "text/x-python",
      "pygments_lexer": "ipython3",
      "name": "python",
      "codemirror_mode": {
        "name": "ipython",
        "version": 3
      },
      "version": "3.5.5",
      "file_extension": ".py",
      "nbconvert_exporter": "python"
    },
    "kernelspec": {
      "name": "python3",
      "language": "python",
      "display_name": "Python 3"
    },
    "nteract": {
      "version": "0.14.3"
    }
  },
  "nbformat": 4,
  "nbformat_minor": 0
}