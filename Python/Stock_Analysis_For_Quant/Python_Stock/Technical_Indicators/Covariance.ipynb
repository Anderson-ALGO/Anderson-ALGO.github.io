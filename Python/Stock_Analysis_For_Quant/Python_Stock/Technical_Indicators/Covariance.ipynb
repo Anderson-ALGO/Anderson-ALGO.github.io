{
  "cells": [
    {
      "cell_type": "markdown",
      "source": [
        "# Covariance"
      ],
      "metadata": {}
    },
    {
      "cell_type": "markdown",
      "source": [
        "https://www.investopedia.com/articles/financial-theory/11/calculating-covariance.asp"
      ],
      "metadata": {}
    },
    {
      "cell_type": "code",
      "source": [
        "import numpy as np\n",
        "import pandas as pd\n",
        "import matplotlib.pyplot as plt\n",
        "\n",
        "import warnings\n",
        "warnings.filterwarnings(\"ignore\")\n",
        "\n",
        "# fix_yahoo_finance is used to fetch data \n",
        "import fix_yahoo_finance as yf\n",
        "yf.pdr_override()"
      ],
      "outputs": [],
      "execution_count": 1,
      "metadata": {
        "collapsed": false,
        "outputHidden": false,
        "inputHidden": false
      }
    },
    {
      "cell_type": "code",
      "source": [
        "# input\n",
        "symbol1 = 'AAPL'\n",
        "symbol2 = 'QQQ'\n",
        "start = '2017-01-01'\n",
        "end = '2019-01-01'\n",
        "\n",
        "# Read data \n",
        "df1 = yf.download(symbol1,start,end)\n",
        "df2 = yf.download(symbol2,start,end)\n",
        "\n",
        "# View Columns\n",
        "df1.head()"
      ],
      "outputs": [
        {
          "output_type": "stream",
          "name": "stdout",
          "text": [
            "[*********************100%***********************]  1 of 1 downloaded\n",
            "[*********************100%***********************]  1 of 1 downloaded\n"
          ]
        },
        {
          "output_type": "execute_result",
          "execution_count": 2,
          "data": {
            "text/html": [
              "<div>\n",
              "<style scoped>\n",
              "    .dataframe tbody tr th:only-of-type {\n",
              "        vertical-align: middle;\n",
              "    }\n",
              "\n",
              "    .dataframe tbody tr th {\n",
              "        vertical-align: top;\n",
              "    }\n",
              "\n",
              "    .dataframe thead th {\n",
              "        text-align: right;\n",
              "    }\n",
              "</style>\n",
              "<table border=\"1\" class=\"dataframe\">\n",
              "  <thead>\n",
              "    <tr style=\"text-align: right;\">\n",
              "      <th></th>\n",
              "      <th>Open</th>\n",
              "      <th>High</th>\n",
              "      <th>Low</th>\n",
              "      <th>Close</th>\n",
              "      <th>Adj Close</th>\n",
              "      <th>Volume</th>\n",
              "    </tr>\n",
              "    <tr>\n",
              "      <th>Date</th>\n",
              "      <th></th>\n",
              "      <th></th>\n",
              "      <th></th>\n",
              "      <th></th>\n",
              "      <th></th>\n",
              "      <th></th>\n",
              "    </tr>\n",
              "  </thead>\n",
              "  <tbody>\n",
              "    <tr>\n",
              "      <th>2017-01-03</th>\n",
              "      <td>115.800003</td>\n",
              "      <td>116.330002</td>\n",
              "      <td>114.760002</td>\n",
              "      <td>116.150002</td>\n",
              "      <td>111.709831</td>\n",
              "      <td>28781900</td>\n",
              "    </tr>\n",
              "    <tr>\n",
              "      <th>2017-01-04</th>\n",
              "      <td>115.849998</td>\n",
              "      <td>116.510002</td>\n",
              "      <td>115.750000</td>\n",
              "      <td>116.019997</td>\n",
              "      <td>111.584778</td>\n",
              "      <td>21118100</td>\n",
              "    </tr>\n",
              "    <tr>\n",
              "      <th>2017-01-05</th>\n",
              "      <td>115.919998</td>\n",
              "      <td>116.860001</td>\n",
              "      <td>115.809998</td>\n",
              "      <td>116.610001</td>\n",
              "      <td>112.152229</td>\n",
              "      <td>22193600</td>\n",
              "    </tr>\n",
              "    <tr>\n",
              "      <th>2017-01-06</th>\n",
              "      <td>116.779999</td>\n",
              "      <td>118.160004</td>\n",
              "      <td>116.470001</td>\n",
              "      <td>117.910004</td>\n",
              "      <td>113.402542</td>\n",
              "      <td>31751900</td>\n",
              "    </tr>\n",
              "    <tr>\n",
              "      <th>2017-01-09</th>\n",
              "      <td>117.949997</td>\n",
              "      <td>119.430000</td>\n",
              "      <td>117.940002</td>\n",
              "      <td>118.989998</td>\n",
              "      <td>114.441246</td>\n",
              "      <td>33561900</td>\n",
              "    </tr>\n",
              "  </tbody>\n",
              "</table>\n",
              "</div>"
            ],
            "text/plain": [
              "                  Open        High         Low       Close   Adj Close  \\\n",
              "Date                                                                     \n",
              "2017-01-03  115.800003  116.330002  114.760002  116.150002  111.709831   \n",
              "2017-01-04  115.849998  116.510002  115.750000  116.019997  111.584778   \n",
              "2017-01-05  115.919998  116.860001  115.809998  116.610001  112.152229   \n",
              "2017-01-06  116.779999  118.160004  116.470001  117.910004  113.402542   \n",
              "2017-01-09  117.949997  119.430000  117.940002  118.989998  114.441246   \n",
              "\n",
              "              Volume  \n",
              "Date                  \n",
              "2017-01-03  28781900  \n",
              "2017-01-04  21118100  \n",
              "2017-01-05  22193600  \n",
              "2017-01-06  31751900  \n",
              "2017-01-09  33561900  "
            ]
          },
          "metadata": {}
        }
      ],
      "execution_count": 2,
      "metadata": {
        "collapsed": false,
        "outputHidden": false,
        "inputHidden": false
      }
    },
    {
      "cell_type": "code",
      "source": [
        "df2.head()"
      ],
      "outputs": [
        {
          "output_type": "execute_result",
          "execution_count": 3,
          "data": {
            "text/html": [
              "<div>\n",
              "<style scoped>\n",
              "    .dataframe tbody tr th:only-of-type {\n",
              "        vertical-align: middle;\n",
              "    }\n",
              "\n",
              "    .dataframe tbody tr th {\n",
              "        vertical-align: top;\n",
              "    }\n",
              "\n",
              "    .dataframe thead th {\n",
              "        text-align: right;\n",
              "    }\n",
              "</style>\n",
              "<table border=\"1\" class=\"dataframe\">\n",
              "  <thead>\n",
              "    <tr style=\"text-align: right;\">\n",
              "      <th></th>\n",
              "      <th>Open</th>\n",
              "      <th>High</th>\n",
              "      <th>Low</th>\n",
              "      <th>Close</th>\n",
              "      <th>Adj Close</th>\n",
              "      <th>Volume</th>\n",
              "    </tr>\n",
              "    <tr>\n",
              "      <th>Date</th>\n",
              "      <th></th>\n",
              "      <th></th>\n",
              "      <th></th>\n",
              "      <th></th>\n",
              "      <th></th>\n",
              "      <th></th>\n",
              "    </tr>\n",
              "  </thead>\n",
              "  <tbody>\n",
              "    <tr>\n",
              "      <th>2017-01-03</th>\n",
              "      <td>119.269997</td>\n",
              "      <td>119.989998</td>\n",
              "      <td>118.889999</td>\n",
              "      <td>119.540001</td>\n",
              "      <td>117.254288</td>\n",
              "      <td>22307600</td>\n",
              "    </tr>\n",
              "    <tr>\n",
              "      <th>2017-01-04</th>\n",
              "      <td>119.669998</td>\n",
              "      <td>120.410004</td>\n",
              "      <td>119.660004</td>\n",
              "      <td>120.190002</td>\n",
              "      <td>117.891861</td>\n",
              "      <td>19749100</td>\n",
              "    </tr>\n",
              "    <tr>\n",
              "      <th>2017-01-05</th>\n",
              "      <td>120.099998</td>\n",
              "      <td>120.949997</td>\n",
              "      <td>120.099998</td>\n",
              "      <td>120.870003</td>\n",
              "      <td>118.558853</td>\n",
              "      <td>20644300</td>\n",
              "    </tr>\n",
              "    <tr>\n",
              "      <th>2017-01-06</th>\n",
              "      <td>121.000000</td>\n",
              "      <td>122.250000</td>\n",
              "      <td>120.690002</td>\n",
              "      <td>121.930000</td>\n",
              "      <td>119.598587</td>\n",
              "      <td>24074300</td>\n",
              "    </tr>\n",
              "    <tr>\n",
              "      <th>2017-01-09</th>\n",
              "      <td>122.029999</td>\n",
              "      <td>122.550003</td>\n",
              "      <td>121.949997</td>\n",
              "      <td>122.330002</td>\n",
              "      <td>119.990944</td>\n",
              "      <td>18748000</td>\n",
              "    </tr>\n",
              "  </tbody>\n",
              "</table>\n",
              "</div>"
            ],
            "text/plain": [
              "                  Open        High         Low       Close   Adj Close  \\\n",
              "Date                                                                     \n",
              "2017-01-03  119.269997  119.989998  118.889999  119.540001  117.254288   \n",
              "2017-01-04  119.669998  120.410004  119.660004  120.190002  117.891861   \n",
              "2017-01-05  120.099998  120.949997  120.099998  120.870003  118.558853   \n",
              "2017-01-06  121.000000  122.250000  120.690002  121.930000  119.598587   \n",
              "2017-01-09  122.029999  122.550003  121.949997  122.330002  119.990944   \n",
              "\n",
              "              Volume  \n",
              "Date                  \n",
              "2017-01-03  22307600  \n",
              "2017-01-04  19749100  \n",
              "2017-01-05  20644300  \n",
              "2017-01-06  24074300  \n",
              "2017-01-09  18748000  "
            ]
          },
          "metadata": {}
        }
      ],
      "execution_count": 3,
      "metadata": {
        "collapsed": false,
        "outputHidden": false,
        "inputHidden": false
      }
    },
    {
      "cell_type": "code",
      "source": [
        "c = df1['Adj Close'].cov(df2['Adj Close'])"
      ],
      "outputs": [],
      "execution_count": 4,
      "metadata": {
        "collapsed": false,
        "outputHidden": false,
        "inputHidden": false
      }
    },
    {
      "cell_type": "code",
      "source": [
        "c"
      ],
      "outputs": [
        {
          "output_type": "execute_result",
          "execution_count": 5,
          "data": {
            "text/plain": [
              "457.62891396091828"
            ]
          },
          "metadata": {}
        }
      ],
      "execution_count": 5,
      "metadata": {
        "collapsed": false,
        "outputHidden": false,
        "inputHidden": false
      }
    },
    {
      "cell_type": "code",
      "source": [
        "df = pd.concat([df1['Adj Close'], df2['Adj Close']],axis=1)"
      ],
      "outputs": [],
      "execution_count": 6,
      "metadata": {
        "collapsed": false,
        "outputHidden": false,
        "inputHidden": false
      }
    },
    {
      "cell_type": "code",
      "source": [
        "df.head()"
      ],
      "outputs": [
        {
          "output_type": "execute_result",
          "execution_count": 7,
          "data": {
            "text/html": [
              "<div>\n",
              "<style scoped>\n",
              "    .dataframe tbody tr th:only-of-type {\n",
              "        vertical-align: middle;\n",
              "    }\n",
              "\n",
              "    .dataframe tbody tr th {\n",
              "        vertical-align: top;\n",
              "    }\n",
              "\n",
              "    .dataframe thead th {\n",
              "        text-align: right;\n",
              "    }\n",
              "</style>\n",
              "<table border=\"1\" class=\"dataframe\">\n",
              "  <thead>\n",
              "    <tr style=\"text-align: right;\">\n",
              "      <th></th>\n",
              "      <th>Adj Close</th>\n",
              "      <th>Adj Close</th>\n",
              "    </tr>\n",
              "    <tr>\n",
              "      <th>Date</th>\n",
              "      <th></th>\n",
              "      <th></th>\n",
              "    </tr>\n",
              "  </thead>\n",
              "  <tbody>\n",
              "    <tr>\n",
              "      <th>2017-01-03</th>\n",
              "      <td>111.709831</td>\n",
              "      <td>117.254288</td>\n",
              "    </tr>\n",
              "    <tr>\n",
              "      <th>2017-01-04</th>\n",
              "      <td>111.584778</td>\n",
              "      <td>117.891861</td>\n",
              "    </tr>\n",
              "    <tr>\n",
              "      <th>2017-01-05</th>\n",
              "      <td>112.152229</td>\n",
              "      <td>118.558853</td>\n",
              "    </tr>\n",
              "    <tr>\n",
              "      <th>2017-01-06</th>\n",
              "      <td>113.402542</td>\n",
              "      <td>119.598587</td>\n",
              "    </tr>\n",
              "    <tr>\n",
              "      <th>2017-01-09</th>\n",
              "      <td>114.441246</td>\n",
              "      <td>119.990944</td>\n",
              "    </tr>\n",
              "  </tbody>\n",
              "</table>\n",
              "</div>"
            ],
            "text/plain": [
              "             Adj Close   Adj Close\n",
              "Date                              \n",
              "2017-01-03  111.709831  117.254288\n",
              "2017-01-04  111.584778  117.891861\n",
              "2017-01-05  112.152229  118.558853\n",
              "2017-01-06  113.402542  119.598587\n",
              "2017-01-09  114.441246  119.990944"
            ]
          },
          "metadata": {}
        }
      ],
      "execution_count": 7,
      "metadata": {
        "collapsed": false,
        "outputHidden": false,
        "inputHidden": false
      }
    },
    {
      "cell_type": "code",
      "source": [
        "# Rename columns\n",
        "df.columns = [symbol1,symbol2]"
      ],
      "outputs": [],
      "execution_count": 8,
      "metadata": {
        "collapsed": false,
        "outputHidden": false,
        "inputHidden": false
      }
    },
    {
      "cell_type": "code",
      "source": [
        "df.head()"
      ],
      "outputs": [
        {
          "output_type": "execute_result",
          "execution_count": 9,
          "data": {
            "text/html": [
              "<div>\n",
              "<style scoped>\n",
              "    .dataframe tbody tr th:only-of-type {\n",
              "        vertical-align: middle;\n",
              "    }\n",
              "\n",
              "    .dataframe tbody tr th {\n",
              "        vertical-align: top;\n",
              "    }\n",
              "\n",
              "    .dataframe thead th {\n",
              "        text-align: right;\n",
              "    }\n",
              "</style>\n",
              "<table border=\"1\" class=\"dataframe\">\n",
              "  <thead>\n",
              "    <tr style=\"text-align: right;\">\n",
              "      <th></th>\n",
              "      <th>AAPL</th>\n",
              "      <th>QQQ</th>\n",
              "    </tr>\n",
              "    <tr>\n",
              "      <th>Date</th>\n",
              "      <th></th>\n",
              "      <th></th>\n",
              "    </tr>\n",
              "  </thead>\n",
              "  <tbody>\n",
              "    <tr>\n",
              "      <th>2017-01-03</th>\n",
              "      <td>111.709831</td>\n",
              "      <td>117.254288</td>\n",
              "    </tr>\n",
              "    <tr>\n",
              "      <th>2017-01-04</th>\n",
              "      <td>111.584778</td>\n",
              "      <td>117.891861</td>\n",
              "    </tr>\n",
              "    <tr>\n",
              "      <th>2017-01-05</th>\n",
              "      <td>112.152229</td>\n",
              "      <td>118.558853</td>\n",
              "    </tr>\n",
              "    <tr>\n",
              "      <th>2017-01-06</th>\n",
              "      <td>113.402542</td>\n",
              "      <td>119.598587</td>\n",
              "    </tr>\n",
              "    <tr>\n",
              "      <th>2017-01-09</th>\n",
              "      <td>114.441246</td>\n",
              "      <td>119.990944</td>\n",
              "    </tr>\n",
              "  </tbody>\n",
              "</table>\n",
              "</div>"
            ],
            "text/plain": [
              "                  AAPL         QQQ\n",
              "Date                              \n",
              "2017-01-03  111.709831  117.254288\n",
              "2017-01-04  111.584778  117.891861\n",
              "2017-01-05  112.152229  118.558853\n",
              "2017-01-06  113.402542  119.598587\n",
              "2017-01-09  114.441246  119.990944"
            ]
          },
          "metadata": {}
        }
      ],
      "execution_count": 9,
      "metadata": {
        "collapsed": false,
        "outputHidden": false,
        "inputHidden": false
      }
    },
    {
      "cell_type": "code",
      "source": [
        "n = 14\n",
        "df['Cov'] = df['AAPL'].rolling(n).cov(df['QQQ'])"
      ],
      "outputs": [],
      "execution_count": 10,
      "metadata": {
        "collapsed": false,
        "outputHidden": false,
        "inputHidden": false
      }
    },
    {
      "cell_type": "code",
      "source": [
        "df.head(20)"
      ],
      "outputs": [
        {
          "output_type": "execute_result",
          "execution_count": 11,
          "data": {
            "text/html": [
              "<div>\n",
              "<style scoped>\n",
              "    .dataframe tbody tr th:only-of-type {\n",
              "        vertical-align: middle;\n",
              "    }\n",
              "\n",
              "    .dataframe tbody tr th {\n",
              "        vertical-align: top;\n",
              "    }\n",
              "\n",
              "    .dataframe thead th {\n",
              "        text-align: right;\n",
              "    }\n",
              "</style>\n",
              "<table border=\"1\" class=\"dataframe\">\n",
              "  <thead>\n",
              "    <tr style=\"text-align: right;\">\n",
              "      <th></th>\n",
              "      <th>AAPL</th>\n",
              "      <th>QQQ</th>\n",
              "      <th>Cov</th>\n",
              "    </tr>\n",
              "    <tr>\n",
              "      <th>Date</th>\n",
              "      <th></th>\n",
              "      <th></th>\n",
              "      <th></th>\n",
              "    </tr>\n",
              "  </thead>\n",
              "  <tbody>\n",
              "    <tr>\n",
              "      <th>2017-01-03</th>\n",
              "      <td>111.709831</td>\n",
              "      <td>117.254288</td>\n",
              "      <td>NaN</td>\n",
              "    </tr>\n",
              "    <tr>\n",
              "      <th>2017-01-04</th>\n",
              "      <td>111.584778</td>\n",
              "      <td>117.891861</td>\n",
              "      <td>NaN</td>\n",
              "    </tr>\n",
              "    <tr>\n",
              "      <th>2017-01-05</th>\n",
              "      <td>112.152229</td>\n",
              "      <td>118.558853</td>\n",
              "      <td>NaN</td>\n",
              "    </tr>\n",
              "    <tr>\n",
              "      <th>2017-01-06</th>\n",
              "      <td>113.402542</td>\n",
              "      <td>119.598587</td>\n",
              "      <td>NaN</td>\n",
              "    </tr>\n",
              "    <tr>\n",
              "      <th>2017-01-09</th>\n",
              "      <td>114.441246</td>\n",
              "      <td>119.990944</td>\n",
              "      <td>NaN</td>\n",
              "    </tr>\n",
              "    <tr>\n",
              "      <th>2017-01-10</th>\n",
              "      <td>114.556656</td>\n",
              "      <td>120.255775</td>\n",
              "      <td>NaN</td>\n",
              "    </tr>\n",
              "    <tr>\n",
              "      <th>2017-01-11</th>\n",
              "      <td>115.172195</td>\n",
              "      <td>120.579460</td>\n",
              "      <td>NaN</td>\n",
              "    </tr>\n",
              "    <tr>\n",
              "      <th>2017-01-12</th>\n",
              "      <td>114.691307</td>\n",
              "      <td>120.393089</td>\n",
              "      <td>NaN</td>\n",
              "    </tr>\n",
              "    <tr>\n",
              "      <th>2017-01-13</th>\n",
              "      <td>114.489334</td>\n",
              "      <td>120.805077</td>\n",
              "      <td>NaN</td>\n",
              "    </tr>\n",
              "    <tr>\n",
              "      <th>2017-01-17</th>\n",
              "      <td>115.412643</td>\n",
              "      <td>120.442139</td>\n",
              "      <td>NaN</td>\n",
              "    </tr>\n",
              "    <tr>\n",
              "      <th>2017-01-18</th>\n",
              "      <td>115.403008</td>\n",
              "      <td>120.687355</td>\n",
              "      <td>NaN</td>\n",
              "    </tr>\n",
              "    <tr>\n",
              "      <th>2017-01-19</th>\n",
              "      <td>115.201050</td>\n",
              "      <td>120.628510</td>\n",
              "      <td>NaN</td>\n",
              "    </tr>\n",
              "    <tr>\n",
              "      <th>2017-01-20</th>\n",
              "      <td>115.412643</td>\n",
              "      <td>120.893341</td>\n",
              "      <td>NaN</td>\n",
              "    </tr>\n",
              "    <tr>\n",
              "      <th>2017-01-23</th>\n",
              "      <td>115.489578</td>\n",
              "      <td>120.991440</td>\n",
              "      <td>1.621366</td>\n",
              "    </tr>\n",
              "    <tr>\n",
              "      <th>2017-01-24</th>\n",
              "      <td>115.383789</td>\n",
              "      <td>121.805565</td>\n",
              "      <td>1.180761</td>\n",
              "    </tr>\n",
              "    <tr>\n",
              "      <th>2017-01-25</th>\n",
              "      <td>117.220779</td>\n",
              "      <td>123.031662</td>\n",
              "      <td>1.080130</td>\n",
              "    </tr>\n",
              "    <tr>\n",
              "      <th>2017-01-26</th>\n",
              "      <td>117.278488</td>\n",
              "      <td>123.159172</td>\n",
              "      <td>0.984301</td>\n",
              "    </tr>\n",
              "    <tr>\n",
              "      <th>2017-01-27</th>\n",
              "      <td>117.288101</td>\n",
              "      <td>123.394600</td>\n",
              "      <td>1.094121</td>\n",
              "    </tr>\n",
              "    <tr>\n",
              "      <th>2017-01-30</th>\n",
              "      <td>116.980324</td>\n",
              "      <td>122.433334</td>\n",
              "      <td>1.092502</td>\n",
              "    </tr>\n",
              "    <tr>\n",
              "      <th>2017-01-31</th>\n",
              "      <td>116.711029</td>\n",
              "      <td>122.188110</td>\n",
              "      <td>1.029555</td>\n",
              "    </tr>\n",
              "  </tbody>\n",
              "</table>\n",
              "</div>"
            ],
            "text/plain": [
              "                  AAPL         QQQ       Cov\n",
              "Date                                        \n",
              "2017-01-03  111.709831  117.254288       NaN\n",
              "2017-01-04  111.584778  117.891861       NaN\n",
              "2017-01-05  112.152229  118.558853       NaN\n",
              "2017-01-06  113.402542  119.598587       NaN\n",
              "2017-01-09  114.441246  119.990944       NaN\n",
              "2017-01-10  114.556656  120.255775       NaN\n",
              "2017-01-11  115.172195  120.579460       NaN\n",
              "2017-01-12  114.691307  120.393089       NaN\n",
              "2017-01-13  114.489334  120.805077       NaN\n",
              "2017-01-17  115.412643  120.442139       NaN\n",
              "2017-01-18  115.403008  120.687355       NaN\n",
              "2017-01-19  115.201050  120.628510       NaN\n",
              "2017-01-20  115.412643  120.893341       NaN\n",
              "2017-01-23  115.489578  120.991440  1.621366\n",
              "2017-01-24  115.383789  121.805565  1.180761\n",
              "2017-01-25  117.220779  123.031662  1.080130\n",
              "2017-01-26  117.278488  123.159172  0.984301\n",
              "2017-01-27  117.288101  123.394600  1.094121\n",
              "2017-01-30  116.980324  122.433334  1.092502\n",
              "2017-01-31  116.711029  122.188110  1.029555"
            ]
          },
          "metadata": {}
        }
      ],
      "execution_count": 11,
      "metadata": {
        "collapsed": false,
        "outputHidden": false,
        "inputHidden": false
      }
    },
    {
      "cell_type": "code",
      "source": [
        "fig = plt.figure(figsize=(14,10))\n",
        "ax1 = plt.subplot(2, 1, 1)\n",
        "ax1.plot(df1['Adj Close'])\n",
        "ax1.set_title('Stock '+ symbol1 +' Closing Price')\n",
        "ax1.set_ylabel('Price')\n",
        "ax1.legend(loc='best')\n",
        "\n",
        "ax2 = plt.subplot(2, 1, 2)\n",
        "ax2.plot(df['Cov'], label='Covariance', color='black')\n",
        "ax2.grid()\n",
        "ax2.legend(loc='best')\n",
        "ax2.set_ylabel('Covariance')\n",
        "ax2.set_xlabel('Date')"
      ],
      "outputs": [
        {
          "output_type": "execute_result",
          "execution_count": 12,
          "data": {
            "text/plain": [
              "Text(0.5,0,'Date')"
            ]
          },
          "metadata": {}
        },
        {
          "output_type": "display_data",
          "data": {
            "image/png": "[encoded data removed]",
            "text/plain": [
              "<Figure size 1008x720 with 2 Axes>"
            ]
          },
          "metadata": {}
        }
      ],
      "execution_count": 12,
      "metadata": {
        "collapsed": false,
        "outputHidden": false,
        "inputHidden": false
      }
    },
    {
      "cell_type": "markdown",
      "source": [
        "## Candlestick with Covariance"
      ],
      "metadata": {}
    },
    {
      "cell_type": "code",
      "source": [
        "from matplotlib import dates as mdates\n",
        "import datetime as dt\n",
        "\n",
        "dfc = df1.copy()\n",
        "dfc['VolumePositive'] = dfc['Open'] < dfc['Adj Close']\n",
        "#dfc = dfc.dropna()\n",
        "dfc = dfc.reset_index()\n",
        "dfc['Date'] = mdates.date2num(dfc['Date'].astype(dt.date))\n",
        "dfc.head()"
      ],
      "outputs": [
        {
          "output_type": "execute_result",
          "execution_count": 13,
          "data": {
            "text/html": [
              "<div>\n",
              "<style scoped>\n",
              "    .dataframe tbody tr th:only-of-type {\n",
              "        vertical-align: middle;\n",
              "    }\n",
              "\n",
              "    .dataframe tbody tr th {\n",
              "        vertical-align: top;\n",
              "    }\n",
              "\n",
              "    .dataframe thead th {\n",
              "        text-align: right;\n",
              "    }\n",
              "</style>\n",
              "<table border=\"1\" class=\"dataframe\">\n",
              "  <thead>\n",
              "    <tr style=\"text-align: right;\">\n",
              "      <th></th>\n",
              "      <th>Date</th>\n",
              "      <th>Open</th>\n",
              "      <th>High</th>\n",
              "      <th>Low</th>\n",
              "      <th>Close</th>\n",
              "      <th>Adj Close</th>\n",
              "      <th>Volume</th>\n",
              "      <th>VolumePositive</th>\n",
              "    </tr>\n",
              "  </thead>\n",
              "  <tbody>\n",
              "    <tr>\n",
              "      <th>0</th>\n",
              "      <td>736332.0</td>\n",
              "      <td>115.800003</td>\n",
              "      <td>116.330002</td>\n",
              "      <td>114.760002</td>\n",
              "      <td>116.150002</td>\n",
              "      <td>111.709831</td>\n",
              "      <td>28781900</td>\n",
              "      <td>False</td>\n",
              "    </tr>\n",
              "    <tr>\n",
              "      <th>1</th>\n",
              "      <td>736333.0</td>\n",
              "      <td>115.849998</td>\n",
              "      <td>116.510002</td>\n",
              "      <td>115.750000</td>\n",
              "      <td>116.019997</td>\n",
              "      <td>111.584778</td>\n",
              "      <td>21118100</td>\n",
              "      <td>False</td>\n",
              "    </tr>\n",
              "    <tr>\n",
              "      <th>2</th>\n",
              "      <td>736334.0</td>\n",
              "      <td>115.919998</td>\n",
              "      <td>116.860001</td>\n",
              "      <td>115.809998</td>\n",
              "      <td>116.610001</td>\n",
              "      <td>112.152229</td>\n",
              "      <td>22193600</td>\n",
              "      <td>False</td>\n",
              "    </tr>\n",
              "    <tr>\n",
              "      <th>3</th>\n",
              "      <td>736335.0</td>\n",
              "      <td>116.779999</td>\n",
              "      <td>118.160004</td>\n",
              "      <td>116.470001</td>\n",
              "      <td>117.910004</td>\n",
              "      <td>113.402542</td>\n",
              "      <td>31751900</td>\n",
              "      <td>False</td>\n",
              "    </tr>\n",
              "    <tr>\n",
              "      <th>4</th>\n",
              "      <td>736338.0</td>\n",
              "      <td>117.949997</td>\n",
              "      <td>119.430000</td>\n",
              "      <td>117.940002</td>\n",
              "      <td>118.989998</td>\n",
              "      <td>114.441246</td>\n",
              "      <td>33561900</td>\n",
              "      <td>False</td>\n",
              "    </tr>\n",
              "  </tbody>\n",
              "</table>\n",
              "</div>"
            ],
            "text/plain": [
              "       Date        Open        High         Low       Close   Adj Close  \\\n",
              "0  736332.0  115.800003  116.330002  114.760002  116.150002  111.709831   \n",
              "1  736333.0  115.849998  116.510002  115.750000  116.019997  111.584778   \n",
              "2  736334.0  115.919998  116.860001  115.809998  116.610001  112.152229   \n",
              "3  736335.0  116.779999  118.160004  116.470001  117.910004  113.402542   \n",
              "4  736338.0  117.949997  119.430000  117.940002  118.989998  114.441246   \n",
              "\n",
              "     Volume  VolumePositive  \n",
              "0  28781900           False  \n",
              "1  21118100           False  \n",
              "2  22193600           False  \n",
              "3  31751900           False  \n",
              "4  33561900           False  "
            ]
          },
          "metadata": {}
        }
      ],
      "execution_count": 13,
      "metadata": {
        "collapsed": false,
        "outputHidden": false,
        "inputHidden": false
      }
    },
    {
      "cell_type": "code",
      "source": [
        "from mpl_finance import candlestick_ohlc\n",
        "\n",
        "fig = plt.figure(figsize=(14,10))\n",
        "ax1 = plt.subplot(2, 1, 1)\n",
        "candlestick_ohlc(ax1,dfc.values, width=0.5, colorup='g', colordown='r', alpha=1.0)\n",
        "ax1.xaxis_date()\n",
        "ax1.xaxis.set_major_formatter(mdates.DateFormatter('%d-%m-%Y'))\n",
        "ax1.grid(True, which='both')\n",
        "ax1.minorticks_on()\n",
        "ax1v = ax1.twinx()\n",
        "colors = dfc.VolumePositive.map({True: 'g', False: 'r'})\n",
        "ax1v.bar(dfc.Date, dfc['Volume'], color=colors, alpha=0.4)\n",
        "ax1v.axes.yaxis.set_ticklabels([])\n",
        "ax1v.set_ylim(0, 3*df1.Volume.max())\n",
        "ax1.set_title('Stock '+ symbol1 +' Closing Price')\n",
        "ax1.set_ylabel('Price')\n",
        "\n",
        "ax2 = plt.subplot(2, 1, 2)\n",
        "ax2.plot(df['Cov'], label='Covariance', color='black')\n",
        "ax2.grid()\n",
        "ax2.legend(loc='best')\n",
        "ax2.set_ylabel('Covariance')\n",
        "ax2.set_xlabel('Date')"
      ],
      "outputs": [
        {
          "output_type": "execute_result",
          "execution_count": 14,
          "data": {
            "text/plain": [
              "Text(0.5,0,'Date')"
            ]
          },
          "metadata": {}
        },
        {
          "output_type": "display_data",
          "data": {
            "image/png": "[encoded data removed]",
            "text/plain": [
              "<Figure size 1008x720 with 3 Axes>"
            ]
          },
          "metadata": {}
        }
      ],
      "execution_count": 14,
      "metadata": {
        "collapsed": false,
        "outputHidden": false,
        "inputHidden": false
      }
    }
  ],
  "metadata": {
    "kernel_info": {
      "name": "python3"
    },
    "language_info": {
      "mimetype": "text/x-python",
      "version": "3.5.5",
      "name": "python",
      "codemirror_mode": {
        "version": 3,
        "name": "ipython"
      },
      "nbconvert_exporter": "python",
      "file_extension": ".py",
      "pygments_lexer": "ipython3"
    },
    "kernelspec": {
      "name": "python3",
      "language": "python",
      "display_name": "Python 3"
    },
    "nteract": {
      "version": "0.14.2"
    }
  },
  "nbformat": 4,
  "nbformat_minor": 0
}