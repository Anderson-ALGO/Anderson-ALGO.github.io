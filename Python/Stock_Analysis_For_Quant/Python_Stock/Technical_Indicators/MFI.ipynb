{
  "cells": [
    {
      "cell_type": "markdown",
      "source": [
        "# Money Flow Index (MFI)"
      ],
      "metadata": {}
    },
    {
      "cell_type": "markdown",
      "source": [
        "Money Flow Index (MFI) is a technical oscillator that uses price and volume for identifying overbought or oversold conditions in an asset. It can also be used to spot divergences which warn of a trend change in price. The oscillator moves between 0 and 100.\n",
        "\nhttps://www.investopedia.com/terms/m/mfi.asp"
      ],
      "metadata": {}
    },
    {
      "cell_type": "code",
      "source": [
        "import numpy as np\n",
        "import pandas as pd\n",
        "import matplotlib.pyplot as plt\n",
        "\n",
        "import warnings\n",
        "warnings.filterwarnings(\"ignore\")\n",
        "\n",
        "# fix_yahoo_finance is used to fetch data \n",
        "import fix_yahoo_finance as yf\n",
        "yf.pdr_override()"
      ],
      "outputs": [],
      "execution_count": 1,
      "metadata": {
        "collapsed": false,
        "outputHidden": false,
        "inputHidden": false
      }
    },
    {
      "cell_type": "code",
      "source": [
        "# input\n",
        "symbol = 'AAPL'\n",
        "start = '2018-08-01'\n",
        "end = '2019-01-01'\n",
        "\n",
        "# Read data \n",
        "df = yf.download(symbol,start,end)\n",
        "\n",
        "# View Columns\n",
        "df.head()"
      ],
      "outputs": [
        {
          "output_type": "stream",
          "name": "stdout",
          "text": [
            "[*********************100%***********************]  1 of 1 downloaded\n"
          ]
        },
        {
          "output_type": "execute_result",
          "execution_count": 2,
          "data": {
            "text/html": [
              "<div>\n",
              "<style scoped>\n",
              "    .dataframe tbody tr th:only-of-type {\n",
              "        vertical-align: middle;\n",
              "    }\n",
              "\n",
              "    .dataframe tbody tr th {\n",
              "        vertical-align: top;\n",
              "    }\n",
              "\n",
              "    .dataframe thead th {\n",
              "        text-align: right;\n",
              "    }\n",
              "</style>\n",
              "<table border=\"1\" class=\"dataframe\">\n",
              "  <thead>\n",
              "    <tr style=\"text-align: right;\">\n",
              "      <th></th>\n",
              "      <th>Open</th>\n",
              "      <th>High</th>\n",
              "      <th>Low</th>\n",
              "      <th>Close</th>\n",
              "      <th>Adj Close</th>\n",
              "      <th>Volume</th>\n",
              "    </tr>\n",
              "    <tr>\n",
              "      <th>Date</th>\n",
              "      <th></th>\n",
              "      <th></th>\n",
              "      <th></th>\n",
              "      <th></th>\n",
              "      <th></th>\n",
              "      <th></th>\n",
              "    </tr>\n",
              "  </thead>\n",
              "  <tbody>\n",
              "    <tr>\n",
              "      <th>2018-08-01</th>\n",
              "      <td>199.130005</td>\n",
              "      <td>201.759995</td>\n",
              "      <td>197.309998</td>\n",
              "      <td>201.500000</td>\n",
              "      <td>199.243088</td>\n",
              "      <td>67935700</td>\n",
              "    </tr>\n",
              "    <tr>\n",
              "      <th>2018-08-02</th>\n",
              "      <td>200.580002</td>\n",
              "      <td>208.380005</td>\n",
              "      <td>200.350006</td>\n",
              "      <td>207.389999</td>\n",
              "      <td>205.067123</td>\n",
              "      <td>62404000</td>\n",
              "    </tr>\n",
              "    <tr>\n",
              "      <th>2018-08-03</th>\n",
              "      <td>207.029999</td>\n",
              "      <td>208.740005</td>\n",
              "      <td>205.479996</td>\n",
              "      <td>207.990005</td>\n",
              "      <td>205.660416</td>\n",
              "      <td>33447400</td>\n",
              "    </tr>\n",
              "    <tr>\n",
              "      <th>2018-08-06</th>\n",
              "      <td>208.000000</td>\n",
              "      <td>209.250000</td>\n",
              "      <td>207.070007</td>\n",
              "      <td>209.070007</td>\n",
              "      <td>206.728317</td>\n",
              "      <td>25425400</td>\n",
              "    </tr>\n",
              "    <tr>\n",
              "      <th>2018-08-07</th>\n",
              "      <td>209.320007</td>\n",
              "      <td>209.500000</td>\n",
              "      <td>206.759995</td>\n",
              "      <td>207.110001</td>\n",
              "      <td>204.790268</td>\n",
              "      <td>25587400</td>\n",
              "    </tr>\n",
              "  </tbody>\n",
              "</table>\n",
              "</div>"
            ],
            "text/plain": [
              "                  Open        High         Low       Close   Adj Close  \\\n",
              "Date                                                                     \n",
              "2018-08-01  199.130005  201.759995  197.309998  201.500000  199.243088   \n",
              "2018-08-02  200.580002  208.380005  200.350006  207.389999  205.067123   \n",
              "2018-08-03  207.029999  208.740005  205.479996  207.990005  205.660416   \n",
              "2018-08-06  208.000000  209.250000  207.070007  209.070007  206.728317   \n",
              "2018-08-07  209.320007  209.500000  206.759995  207.110001  204.790268   \n",
              "\n",
              "              Volume  \n",
              "Date                  \n",
              "2018-08-01  67935700  \n",
              "2018-08-02  62404000  \n",
              "2018-08-03  33447400  \n",
              "2018-08-06  25425400  \n",
              "2018-08-07  25587400  "
            ]
          },
          "metadata": {}
        }
      ],
      "execution_count": 2,
      "metadata": {
        "collapsed": false,
        "outputHidden": false,
        "inputHidden": false
      }
    },
    {
      "cell_type": "code",
      "source": [
        "import talib as ta"
      ],
      "outputs": [],
      "execution_count": 3,
      "metadata": {
        "collapsed": false,
        "outputHidden": false,
        "inputHidden": false
      }
    },
    {
      "cell_type": "code",
      "source": [
        "df['MFI'] = ta.MFI(df['High'], df['Low'],df['Adj Close'], df['Volume'], timeperiod=14)"
      ],
      "outputs": [],
      "execution_count": 4,
      "metadata": {
        "collapsed": false,
        "outputHidden": false,
        "inputHidden": false
      }
    },
    {
      "cell_type": "code",
      "source": [
        "df.tail()"
      ],
      "outputs": [
        {
          "output_type": "execute_result",
          "execution_count": 5,
          "data": {
            "text/html": [
              "<div>\n",
              "<style scoped>\n",
              "    .dataframe tbody tr th:only-of-type {\n",
              "        vertical-align: middle;\n",
              "    }\n",
              "\n",
              "    .dataframe tbody tr th {\n",
              "        vertical-align: top;\n",
              "    }\n",
              "\n",
              "    .dataframe thead th {\n",
              "        text-align: right;\n",
              "    }\n",
              "</style>\n",
              "<table border=\"1\" class=\"dataframe\">\n",
              "  <thead>\n",
              "    <tr style=\"text-align: right;\">\n",
              "      <th></th>\n",
              "      <th>Open</th>\n",
              "      <th>High</th>\n",
              "      <th>Low</th>\n",
              "      <th>Close</th>\n",
              "      <th>Adj Close</th>\n",
              "      <th>Volume</th>\n",
              "      <th>MFI</th>\n",
              "    </tr>\n",
              "    <tr>\n",
              "      <th>Date</th>\n",
              "      <th></th>\n",
              "      <th></th>\n",
              "      <th></th>\n",
              "      <th></th>\n",
              "      <th></th>\n",
              "      <th></th>\n",
              "      <th></th>\n",
              "    </tr>\n",
              "  </thead>\n",
              "  <tbody>\n",
              "    <tr>\n",
              "      <th>2018-12-24</th>\n",
              "      <td>148.149994</td>\n",
              "      <td>151.550003</td>\n",
              "      <td>146.589996</td>\n",
              "      <td>146.830002</td>\n",
              "      <td>146.202972</td>\n",
              "      <td>37169200</td>\n",
              "      <td>22.837777</td>\n",
              "    </tr>\n",
              "    <tr>\n",
              "      <th>2018-12-26</th>\n",
              "      <td>148.300003</td>\n",
              "      <td>157.229996</td>\n",
              "      <td>146.720001</td>\n",
              "      <td>157.169998</td>\n",
              "      <td>156.498810</td>\n",
              "      <td>58582500</td>\n",
              "      <td>30.569679</td>\n",
              "    </tr>\n",
              "    <tr>\n",
              "      <th>2018-12-27</th>\n",
              "      <td>155.839996</td>\n",
              "      <td>156.770004</td>\n",
              "      <td>150.070007</td>\n",
              "      <td>156.149994</td>\n",
              "      <td>155.483154</td>\n",
              "      <td>53117100</td>\n",
              "      <td>37.665928</td>\n",
              "    </tr>\n",
              "    <tr>\n",
              "      <th>2018-12-28</th>\n",
              "      <td>157.500000</td>\n",
              "      <td>158.520004</td>\n",
              "      <td>154.550003</td>\n",
              "      <td>156.229996</td>\n",
              "      <td>155.562820</td>\n",
              "      <td>42291400</td>\n",
              "      <td>43.782846</td>\n",
              "    </tr>\n",
              "    <tr>\n",
              "      <th>2018-12-31</th>\n",
              "      <td>158.529999</td>\n",
              "      <td>159.360001</td>\n",
              "      <td>156.479996</td>\n",
              "      <td>157.740005</td>\n",
              "      <td>157.066376</td>\n",
              "      <td>35003500</td>\n",
              "      <td>50.947126</td>\n",
              "    </tr>\n",
              "  </tbody>\n",
              "</table>\n",
              "</div>"
            ],
            "text/plain": [
              "                  Open        High         Low       Close   Adj Close  \\\n",
              "Date                                                                     \n",
              "2018-12-24  148.149994  151.550003  146.589996  146.830002  146.202972   \n",
              "2018-12-26  148.300003  157.229996  146.720001  157.169998  156.498810   \n",
              "2018-12-27  155.839996  156.770004  150.070007  156.149994  155.483154   \n",
              "2018-12-28  157.500000  158.520004  154.550003  156.229996  155.562820   \n",
              "2018-12-31  158.529999  159.360001  156.479996  157.740005  157.066376   \n",
              "\n",
              "              Volume        MFI  \n",
              "Date                             \n",
              "2018-12-24  37169200  22.837777  \n",
              "2018-12-26  58582500  30.569679  \n",
              "2018-12-27  53117100  37.665928  \n",
              "2018-12-28  42291400  43.782846  \n",
              "2018-12-31  35003500  50.947126  "
            ]
          },
          "metadata": {}
        }
      ],
      "execution_count": 5,
      "metadata": {
        "collapsed": false,
        "outputHidden": false,
        "inputHidden": false
      }
    },
    {
      "cell_type": "code",
      "source": [
        "df['Positive'] = df['MFI'] > 0"
      ],
      "outputs": [],
      "execution_count": 6,
      "metadata": {
        "collapsed": false,
        "outputHidden": false,
        "inputHidden": false
      }
    },
    {
      "cell_type": "code",
      "source": [
        "df['MFI'] = ta.MFI(df['High'], df['Low'],df['Adj Close'], df['Volume'], timeperiod=14)# Line Chart\n",
        "fig = plt.figure(figsize=(14,10))\n",
        "ax1 = plt.subplot(2, 1, 1)\n",
        "ax1.plot(df.index, df['Adj Close'])\n",
        "ax1.axhline(y=df['Adj Close'].mean(),color='r')\n",
        "ax1.axhline(y=df['Adj Close'].max(),color='b')\n",
        "ax1.axhline(y=df['Adj Close'].min(),color='b')\n",
        "ax1.text(s='Max Price', x=df['Adj Close'].index[0], y=df['Adj Close'].max(), fontsize=14)\n",
        "ax1.text(s='Min Price', x=df['Adj Close'].index[0], y=df['Adj Close'].min(), fontsize=14)\n",
        "ax1.set_ylabel('Price')\n",
        "ax1.grid()\n",
        "\n",
        "ax2 = plt.subplot(2, 1, 2)\n",
        "# ax2.bar(df.index, df['MFI'], color=df.Positive.map({True: 'g', False: 'r'}))\n",
        "ax2.bar(df.index, df['MFI'])\n",
        "ax2.grid()\n",
        "ax2.set_ylabel('Money Flow Index')\n",
        "ax2.set_xlabel('Date')"
      ],
      "outputs": [
        {
          "output_type": "execute_result",
          "execution_count": 7,
          "data": {
            "text/plain": [
              "Text(0.5,0,'Date')"
            ]
          },
          "metadata": {}
        },
        {
          "output_type": "display_data",
          "data": {
            "image/png": "[encoded data removed]",
            "text/plain": [
              "<Figure size 1008x720 with 2 Axes>"
            ]
          },
          "metadata": {}
        }
      ],
      "execution_count": 7,
      "metadata": {
        "collapsed": false,
        "outputHidden": false,
        "inputHidden": false
      }
    },
    {
      "cell_type": "markdown",
      "source": [
        "## Candlestick with MFI"
      ],
      "metadata": {}
    },
    {
      "cell_type": "code",
      "source": [
        "from matplotlib import dates as mdates\n",
        "import datetime as dt\n",
        "\n",
        "dfc = df.copy()\n",
        "dfc['MFI'] = ta.MFI(dfc['High'], dfc['Low'],dfc['Adj Close'], dfc['Volume'], timeperiod=14)\n",
        "dfc['VolumePositive'] = dfc['Open'] < dfc['Adj Close']\n",
        "dfc = dfc.dropna()\n",
        "dfc = dfc.reset_index()\n",
        "dfc['Date'] = mdates.date2num(dfc['Date'].astype(dt.date))\n",
        "dfc.head()"
      ],
      "outputs": [
        {
          "output_type": "execute_result",
          "execution_count": 8,
          "data": {
            "text/html": [
              "<div>\n",
              "<style scoped>\n",
              "    .dataframe tbody tr th:only-of-type {\n",
              "        vertical-align: middle;\n",
              "    }\n",
              "\n",
              "    .dataframe tbody tr th {\n",
              "        vertical-align: top;\n",
              "    }\n",
              "\n",
              "    .dataframe thead th {\n",
              "        text-align: right;\n",
              "    }\n",
              "</style>\n",
              "<table border=\"1\" class=\"dataframe\">\n",
              "  <thead>\n",
              "    <tr style=\"text-align: right;\">\n",
              "      <th></th>\n",
              "      <th>Date</th>\n",
              "      <th>Open</th>\n",
              "      <th>High</th>\n",
              "      <th>Low</th>\n",
              "      <th>Close</th>\n",
              "      <th>Adj Close</th>\n",
              "      <th>Volume</th>\n",
              "      <th>MFI</th>\n",
              "      <th>Positive</th>\n",
              "      <th>VolumePositive</th>\n",
              "    </tr>\n",
              "  </thead>\n",
              "  <tbody>\n",
              "    <tr>\n",
              "      <th>0</th>\n",
              "      <td>736927.0</td>\n",
              "      <td>216.800003</td>\n",
              "      <td>217.190002</td>\n",
              "      <td>214.029999</td>\n",
              "      <td>215.039993</td>\n",
              "      <td>213.377167</td>\n",
              "      <td>26159800</td>\n",
              "      <td>76.119850</td>\n",
              "      <td>True</td>\n",
              "      <td>False</td>\n",
              "    </tr>\n",
              "    <tr>\n",
              "      <th>1</th>\n",
              "      <td>736928.0</td>\n",
              "      <td>214.100006</td>\n",
              "      <td>216.360001</td>\n",
              "      <td>213.839996</td>\n",
              "      <td>215.050003</td>\n",
              "      <td>213.387085</td>\n",
              "      <td>19018100</td>\n",
              "      <td>68.208761</td>\n",
              "      <td>True</td>\n",
              "      <td>False</td>\n",
              "    </tr>\n",
              "    <tr>\n",
              "      <th>2</th>\n",
              "      <td>736929.0</td>\n",
              "      <td>214.649994</td>\n",
              "      <td>217.050003</td>\n",
              "      <td>214.600006</td>\n",
              "      <td>215.490005</td>\n",
              "      <td>213.823685</td>\n",
              "      <td>18883200</td>\n",
              "      <td>67.000609</td>\n",
              "      <td>True</td>\n",
              "      <td>False</td>\n",
              "    </tr>\n",
              "    <tr>\n",
              "      <th>3</th>\n",
              "      <td>736930.0</td>\n",
              "      <td>216.600006</td>\n",
              "      <td>216.899994</td>\n",
              "      <td>215.110001</td>\n",
              "      <td>216.160004</td>\n",
              "      <td>214.488495</td>\n",
              "      <td>18476400</td>\n",
              "      <td>66.418692</td>\n",
              "      <td>True</td>\n",
              "      <td>False</td>\n",
              "    </tr>\n",
              "    <tr>\n",
              "      <th>4</th>\n",
              "      <td>736933.0</td>\n",
              "      <td>217.149994</td>\n",
              "      <td>218.740005</td>\n",
              "      <td>216.330002</td>\n",
              "      <td>217.940002</td>\n",
              "      <td>216.254745</td>\n",
              "      <td>20525100</td>\n",
              "      <td>73.306063</td>\n",
              "      <td>True</td>\n",
              "      <td>False</td>\n",
              "    </tr>\n",
              "  </tbody>\n",
              "</table>\n",
              "</div>"
            ],
            "text/plain": [
              "       Date        Open        High         Low       Close   Adj Close  \\\n",
              "0  736927.0  216.800003  217.190002  214.029999  215.039993  213.377167   \n",
              "1  736928.0  214.100006  216.360001  213.839996  215.050003  213.387085   \n",
              "2  736929.0  214.649994  217.050003  214.600006  215.490005  213.823685   \n",
              "3  736930.0  216.600006  216.899994  215.110001  216.160004  214.488495   \n",
              "4  736933.0  217.149994  218.740005  216.330002  217.940002  216.254745   \n",
              "\n",
              "     Volume        MFI  Positive  VolumePositive  \n",
              "0  26159800  76.119850      True           False  \n",
              "1  19018100  68.208761      True           False  \n",
              "2  18883200  67.000609      True           False  \n",
              "3  18476400  66.418692      True           False  \n",
              "4  20525100  73.306063      True           False  "
            ]
          },
          "metadata": {}
        }
      ],
      "execution_count": 8,
      "metadata": {
        "collapsed": false,
        "outputHidden": false,
        "inputHidden": false
      }
    },
    {
      "cell_type": "code",
      "source": [
        "from mpl_finance import candlestick_ohlc\n",
        "\n",
        "fig = plt.figure(figsize=(14,10))\n",
        "ax1 = plt.subplot(2, 1, 1)\n",
        "candlestick_ohlc(ax1,dfc.values, width=0.5, colorup='g', colordown='r', alpha=1.0)\n",
        "ax1.xaxis_date()\n",
        "ax1.xaxis.set_major_formatter(mdates.DateFormatter('%d-%m-%Y'))\n",
        "ax1.grid(True, which='both')\n",
        "ax1.minorticks_on()\n",
        "ax1v = ax1.twinx()\n",
        "colors = dfc.VolumePositive.map({True: 'g', False: 'r'})\n",
        "ax1v.bar(dfc.Date, dfc['Volume'], color=colors, alpha=0.4)\n",
        "ax1v.axes.yaxis.set_ticklabels([])\n",
        "ax1v.set_ylim(0, 3*df.Volume.max())\n",
        "ax1.set_title('Stock '+ symbol +' Closing Price')\n",
        "ax1.set_ylabel('Price')\n",
        "\n",
        "ax2 = plt.subplot(2, 1, 2)\n",
        "ax2.bar(df.index, df['MFI'])\n",
        "ax2.grid()\n",
        "ax2.set_ylabel('Money Flow Index')\n",
        "ax2.set_xlabel('Date')"
      ],
      "outputs": [
        {
          "output_type": "execute_result",
          "execution_count": 9,
          "data": {
            "text/plain": [
              "Text(0.5,0,'Date')"
            ]
          },
          "metadata": {}
        },
        {
          "output_type": "display_data",
          "data": {
            "image/png": "[encoded data removed]",
            "text/plain": [
              "<Figure size 1008x720 with 3 Axes>"
            ]
          },
          "metadata": {}
        }
      ],
      "execution_count": 9,
      "metadata": {
        "collapsed": false,
        "outputHidden": false,
        "inputHidden": false
      }
    }
  ],
  "metadata": {
    "kernel_info": {
      "name": "python3"
    },
    "language_info": {
      "file_extension": ".py",
      "version": "3.5.5",
      "nbconvert_exporter": "python",
      "mimetype": "text/x-python",
      "pygments_lexer": "ipython3",
      "codemirror_mode": {
        "version": 3,
        "name": "ipython"
      },
      "name": "python"
    },
    "kernelspec": {
      "name": "python3",
      "language": "python",
      "display_name": "Python 3"
    },
    "nteract": {
      "version": "0.12.2"
    }
  },
  "nbformat": 4,
  "nbformat_minor": 4
}