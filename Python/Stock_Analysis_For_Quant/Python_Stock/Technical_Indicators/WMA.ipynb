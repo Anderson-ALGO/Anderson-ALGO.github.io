{
  "cells": [
    {
      "cell_type": "markdown",
      "source": [
        "# Weighted Moving Average (WMA)"
      ],
      "metadata": {}
    },
    {
      "cell_type": "code",
      "source": [
        "import numpy as np\n",
        "import pandas as pd\n",
        "import matplotlib.pyplot as plt\n",
        "\n",
        "import warnings\n",
        "warnings.filterwarnings(\"ignore\")\n",
        "\n",
        "# fix_yahoo_finance is used to fetch data \n",
        "import fix_yahoo_finance as yf\n",
        "yf.pdr_override()"
      ],
      "outputs": [],
      "execution_count": 1,
      "metadata": {
        "collapsed": false,
        "outputHidden": false,
        "inputHidden": false
      }
    },
    {
      "cell_type": "code",
      "source": [
        "# input\n",
        "symbol = 'AAPL'\n",
        "start = '2018-08-01'\n",
        "end = '2019-01-01'\n",
        "\n",
        "# Read data \n",
        "df = yf.download(symbol,start,end)\n",
        "\n",
        "# View Columns\n",
        "df.head()"
      ],
      "outputs": [
        {
          "output_type": "stream",
          "name": "stdout",
          "text": [
            "[*********************100%***********************]  1 of 1 downloaded\n"
          ]
        },
        {
          "output_type": "execute_result",
          "execution_count": 2,
          "data": {
            "text/html": [
              "<div>\n",
              "<style scoped>\n",
              "    .dataframe tbody tr th:only-of-type {\n",
              "        vertical-align: middle;\n",
              "    }\n",
              "\n",
              "    .dataframe tbody tr th {\n",
              "        vertical-align: top;\n",
              "    }\n",
              "\n",
              "    .dataframe thead th {\n",
              "        text-align: right;\n",
              "    }\n",
              "</style>\n",
              "<table border=\"1\" class=\"dataframe\">\n",
              "  <thead>\n",
              "    <tr style=\"text-align: right;\">\n",
              "      <th></th>\n",
              "      <th>Open</th>\n",
              "      <th>High</th>\n",
              "      <th>Low</th>\n",
              "      <th>Close</th>\n",
              "      <th>Adj Close</th>\n",
              "      <th>Volume</th>\n",
              "    </tr>\n",
              "    <tr>\n",
              "      <th>Date</th>\n",
              "      <th></th>\n",
              "      <th></th>\n",
              "      <th></th>\n",
              "      <th></th>\n",
              "      <th></th>\n",
              "      <th></th>\n",
              "    </tr>\n",
              "  </thead>\n",
              "  <tbody>\n",
              "    <tr>\n",
              "      <th>2018-08-01</th>\n",
              "      <td>199.130005</td>\n",
              "      <td>201.759995</td>\n",
              "      <td>197.309998</td>\n",
              "      <td>201.500000</td>\n",
              "      <td>199.243088</td>\n",
              "      <td>67935700</td>\n",
              "    </tr>\n",
              "    <tr>\n",
              "      <th>2018-08-02</th>\n",
              "      <td>200.580002</td>\n",
              "      <td>208.380005</td>\n",
              "      <td>200.350006</td>\n",
              "      <td>207.389999</td>\n",
              "      <td>205.067123</td>\n",
              "      <td>62404000</td>\n",
              "    </tr>\n",
              "    <tr>\n",
              "      <th>2018-08-03</th>\n",
              "      <td>207.029999</td>\n",
              "      <td>208.740005</td>\n",
              "      <td>205.479996</td>\n",
              "      <td>207.990005</td>\n",
              "      <td>205.660416</td>\n",
              "      <td>33447400</td>\n",
              "    </tr>\n",
              "    <tr>\n",
              "      <th>2018-08-06</th>\n",
              "      <td>208.000000</td>\n",
              "      <td>209.250000</td>\n",
              "      <td>207.070007</td>\n",
              "      <td>209.070007</td>\n",
              "      <td>206.728317</td>\n",
              "      <td>25425400</td>\n",
              "    </tr>\n",
              "    <tr>\n",
              "      <th>2018-08-07</th>\n",
              "      <td>209.320007</td>\n",
              "      <td>209.500000</td>\n",
              "      <td>206.759995</td>\n",
              "      <td>207.110001</td>\n",
              "      <td>204.790268</td>\n",
              "      <td>25587400</td>\n",
              "    </tr>\n",
              "  </tbody>\n",
              "</table>\n",
              "</div>"
            ],
            "text/plain": [
              "                  Open        High         Low       Close   Adj Close  \\\n",
              "Date                                                                     \n",
              "2018-08-01  199.130005  201.759995  197.309998  201.500000  199.243088   \n",
              "2018-08-02  200.580002  208.380005  200.350006  207.389999  205.067123   \n",
              "2018-08-03  207.029999  208.740005  205.479996  207.990005  205.660416   \n",
              "2018-08-06  208.000000  209.250000  207.070007  209.070007  206.728317   \n",
              "2018-08-07  209.320007  209.500000  206.759995  207.110001  204.790268   \n",
              "\n",
              "              Volume  \n",
              "Date                  \n",
              "2018-08-01  67935700  \n",
              "2018-08-02  62404000  \n",
              "2018-08-03  33447400  \n",
              "2018-08-06  25425400  \n",
              "2018-08-07  25587400  "
            ]
          },
          "metadata": {}
        }
      ],
      "execution_count": 2,
      "metadata": {
        "collapsed": false,
        "outputHidden": false,
        "inputHidden": false
      }
    },
    {
      "cell_type": "markdown",
      "source": [
        "https://www.investopedia.com/ask/answers/071414/whats-difference-between-moving-average-and-weighted-moving-average.asp\n",
        "\nhttps://www.thebalance.com/simple-exponential-and-weighted-moving-averages-1031196"
      ],
      "metadata": {}
    },
    {
      "cell_type": "code",
      "source": [
        "def WMA(data, n):\n",
        "\n",
        "    ws = np.zeros(data.shape[0])\n",
        "    t_sum = sum(range(1, n+1))\n",
        "   \n",
        "    for i in range(n-1, data.shape[0]):\n",
        "        ws[i] = sum(data[i-n+1 : i+1] * np.linspace(1, n, n))/ t_sum\n",
        "        \n",
        "    return ws"
      ],
      "outputs": [],
      "execution_count": 3,
      "metadata": {
        "collapsed": false,
        "outputHidden": false,
        "inputHidden": false
      }
    },
    {
      "cell_type": "code",
      "source": [
        "df['WMA'] = WMA(df['Adj Close'], 5)\n",
        "df.head()"
      ],
      "outputs": [
        {
          "output_type": "execute_result",
          "execution_count": 4,
          "data": {
            "text/html": [
              "<div>\n",
              "<style scoped>\n",
              "    .dataframe tbody tr th:only-of-type {\n",
              "        vertical-align: middle;\n",
              "    }\n",
              "\n",
              "    .dataframe tbody tr th {\n",
              "        vertical-align: top;\n",
              "    }\n",
              "\n",
              "    .dataframe thead th {\n",
              "        text-align: right;\n",
              "    }\n",
              "</style>\n",
              "<table border=\"1\" class=\"dataframe\">\n",
              "  <thead>\n",
              "    <tr style=\"text-align: right;\">\n",
              "      <th></th>\n",
              "      <th>Open</th>\n",
              "      <th>High</th>\n",
              "      <th>Low</th>\n",
              "      <th>Close</th>\n",
              "      <th>Adj Close</th>\n",
              "      <th>Volume</th>\n",
              "      <th>WMA</th>\n",
              "    </tr>\n",
              "    <tr>\n",
              "      <th>Date</th>\n",
              "      <th></th>\n",
              "      <th></th>\n",
              "      <th></th>\n",
              "      <th></th>\n",
              "      <th></th>\n",
              "      <th></th>\n",
              "      <th></th>\n",
              "    </tr>\n",
              "  </thead>\n",
              "  <tbody>\n",
              "    <tr>\n",
              "      <th>2018-08-01</th>\n",
              "      <td>199.130005</td>\n",
              "      <td>201.759995</td>\n",
              "      <td>197.309998</td>\n",
              "      <td>201.500000</td>\n",
              "      <td>199.243088</td>\n",
              "      <td>67935700</td>\n",
              "      <td>0.000000</td>\n",
              "    </tr>\n",
              "    <tr>\n",
              "      <th>2018-08-02</th>\n",
              "      <td>200.580002</td>\n",
              "      <td>208.380005</td>\n",
              "      <td>200.350006</td>\n",
              "      <td>207.389999</td>\n",
              "      <td>205.067123</td>\n",
              "      <td>62404000</td>\n",
              "      <td>0.000000</td>\n",
              "    </tr>\n",
              "    <tr>\n",
              "      <th>2018-08-03</th>\n",
              "      <td>207.029999</td>\n",
              "      <td>208.740005</td>\n",
              "      <td>205.479996</td>\n",
              "      <td>207.990005</td>\n",
              "      <td>205.660416</td>\n",
              "      <td>33447400</td>\n",
              "      <td>0.000000</td>\n",
              "    </tr>\n",
              "    <tr>\n",
              "      <th>2018-08-06</th>\n",
              "      <td>208.000000</td>\n",
              "      <td>209.250000</td>\n",
              "      <td>207.070007</td>\n",
              "      <td>209.070007</td>\n",
              "      <td>206.728317</td>\n",
              "      <td>25425400</td>\n",
              "      <td>0.000000</td>\n",
              "    </tr>\n",
              "    <tr>\n",
              "      <th>2018-08-07</th>\n",
              "      <td>209.320007</td>\n",
              "      <td>209.500000</td>\n",
              "      <td>206.759995</td>\n",
              "      <td>207.110001</td>\n",
              "      <td>204.790268</td>\n",
              "      <td>25587400</td>\n",
              "      <td>205.148213</td>\n",
              "    </tr>\n",
              "  </tbody>\n",
              "</table>\n",
              "</div>"
            ],
            "text/plain": [
              "                  Open        High         Low       Close   Adj Close  \\\n",
              "Date                                                                     \n",
              "2018-08-01  199.130005  201.759995  197.309998  201.500000  199.243088   \n",
              "2018-08-02  200.580002  208.380005  200.350006  207.389999  205.067123   \n",
              "2018-08-03  207.029999  208.740005  205.479996  207.990005  205.660416   \n",
              "2018-08-06  208.000000  209.250000  207.070007  209.070007  206.728317   \n",
              "2018-08-07  209.320007  209.500000  206.759995  207.110001  204.790268   \n",
              "\n",
              "              Volume         WMA  \n",
              "Date                              \n",
              "2018-08-01  67935700    0.000000  \n",
              "2018-08-02  62404000    0.000000  \n",
              "2018-08-03  33447400    0.000000  \n",
              "2018-08-06  25425400    0.000000  \n",
              "2018-08-07  25587400  205.148213  "
            ]
          },
          "metadata": {}
        }
      ],
      "execution_count": 4,
      "metadata": {
        "collapsed": false,
        "outputHidden": false,
        "inputHidden": false
      }
    },
    {
      "cell_type": "code",
      "source": [
        "# Line Chart\n",
        "fig = plt.figure(figsize=(12,8))\n",
        "ax1 = plt.subplot(111)\n",
        "ax1.plot(df.index, df['Adj Close'])\n",
        "ax1.plot(df.index[4:], df['WMA'][4:])\n",
        "ax1v = ax1.twinx()\n",
        "ax1v.fill_between(df.index[0:],0, df.Volume[0:], facecolor='#0079a3', alpha=0.4)\n",
        "ax1v.axes.yaxis.set_ticklabels([])\n",
        "ax1v.set_ylim(0, 3*df.Volume.max())\n",
        "ax1.set_title('Stock '+ symbol +' Closing Price')\n",
        "ax1.set_ylabel('Price')\n",
        "ax1.set_xlabel('Date')\n",
        "ax1.legend(loc='best')"
      ],
      "outputs": [
        {
          "output_type": "execute_result",
          "execution_count": 5,
          "data": {
            "text/plain": [
              "<matplotlib.legend.Legend at 0x246d782ba58>"
            ]
          },
          "metadata": {}
        },
        {
          "output_type": "display_data",
          "data": {
            "text/plain": [
              "<Figure size 864x576 with 2 Axes>"
            ],
            "image/png": "[encoded data removed]"
          },
          "metadata": {}
        }
      ],
      "execution_count": 5,
      "metadata": {
        "collapsed": false,
        "outputHidden": false,
        "inputHidden": false
      }
    },
    {
      "cell_type": "markdown",
      "source": [
        "# Candlestick with WMA"
      ],
      "metadata": {}
    },
    {
      "cell_type": "code",
      "source": [
        "from matplotlib import dates as mdates\n",
        "import datetime as dt\n",
        "\n",
        "dfc = df.copy()\n",
        "dfc['VolumePositive'] = dfc['Open'] < dfc['Adj Close']\n",
        "#dfc = dfc.dropna()\n",
        "dfc = dfc.reset_index()\n",
        "dfc['Date'] = mdates.date2num(dfc['Date'].astype(dt.date))\n",
        "dfc.head()"
      ],
      "outputs": [
        {
          "output_type": "execute_result",
          "execution_count": 6,
          "data": {
            "text/html": [
              "<div>\n",
              "<style scoped>\n",
              "    .dataframe tbody tr th:only-of-type {\n",
              "        vertical-align: middle;\n",
              "    }\n",
              "\n",
              "    .dataframe tbody tr th {\n",
              "        vertical-align: top;\n",
              "    }\n",
              "\n",
              "    .dataframe thead th {\n",
              "        text-align: right;\n",
              "    }\n",
              "</style>\n",
              "<table border=\"1\" class=\"dataframe\">\n",
              "  <thead>\n",
              "    <tr style=\"text-align: right;\">\n",
              "      <th></th>\n",
              "      <th>Date</th>\n",
              "      <th>Open</th>\n",
              "      <th>High</th>\n",
              "      <th>Low</th>\n",
              "      <th>Close</th>\n",
              "      <th>Adj Close</th>\n",
              "      <th>Volume</th>\n",
              "      <th>WMA</th>\n",
              "      <th>VolumePositive</th>\n",
              "    </tr>\n",
              "  </thead>\n",
              "  <tbody>\n",
              "    <tr>\n",
              "      <th>0</th>\n",
              "      <td>736907.0</td>\n",
              "      <td>199.130005</td>\n",
              "      <td>201.759995</td>\n",
              "      <td>197.309998</td>\n",
              "      <td>201.500000</td>\n",
              "      <td>199.243088</td>\n",
              "      <td>67935700</td>\n",
              "      <td>0.000000</td>\n",
              "      <td>True</td>\n",
              "    </tr>\n",
              "    <tr>\n",
              "      <th>1</th>\n",
              "      <td>736908.0</td>\n",
              "      <td>200.580002</td>\n",
              "      <td>208.380005</td>\n",
              "      <td>200.350006</td>\n",
              "      <td>207.389999</td>\n",
              "      <td>205.067123</td>\n",
              "      <td>62404000</td>\n",
              "      <td>0.000000</td>\n",
              "      <td>True</td>\n",
              "    </tr>\n",
              "    <tr>\n",
              "      <th>2</th>\n",
              "      <td>736909.0</td>\n",
              "      <td>207.029999</td>\n",
              "      <td>208.740005</td>\n",
              "      <td>205.479996</td>\n",
              "      <td>207.990005</td>\n",
              "      <td>205.660416</td>\n",
              "      <td>33447400</td>\n",
              "      <td>0.000000</td>\n",
              "      <td>False</td>\n",
              "    </tr>\n",
              "    <tr>\n",
              "      <th>3</th>\n",
              "      <td>736912.0</td>\n",
              "      <td>208.000000</td>\n",
              "      <td>209.250000</td>\n",
              "      <td>207.070007</td>\n",
              "      <td>209.070007</td>\n",
              "      <td>206.728317</td>\n",
              "      <td>25425400</td>\n",
              "      <td>0.000000</td>\n",
              "      <td>False</td>\n",
              "    </tr>\n",
              "    <tr>\n",
              "      <th>4</th>\n",
              "      <td>736913.0</td>\n",
              "      <td>209.320007</td>\n",
              "      <td>209.500000</td>\n",
              "      <td>206.759995</td>\n",
              "      <td>207.110001</td>\n",
              "      <td>204.790268</td>\n",
              "      <td>25587400</td>\n",
              "      <td>205.148213</td>\n",
              "      <td>False</td>\n",
              "    </tr>\n",
              "  </tbody>\n",
              "</table>\n",
              "</div>"
            ],
            "text/plain": [
              "       Date        Open        High         Low       Close   Adj Close  \\\n",
              "0  736907.0  199.130005  201.759995  197.309998  201.500000  199.243088   \n",
              "1  736908.0  200.580002  208.380005  200.350006  207.389999  205.067123   \n",
              "2  736909.0  207.029999  208.740005  205.479996  207.990005  205.660416   \n",
              "3  736912.0  208.000000  209.250000  207.070007  209.070007  206.728317   \n",
              "4  736913.0  209.320007  209.500000  206.759995  207.110001  204.790268   \n",
              "\n",
              "     Volume         WMA  VolumePositive  \n",
              "0  67935700    0.000000            True  \n",
              "1  62404000    0.000000            True  \n",
              "2  33447400    0.000000           False  \n",
              "3  25425400    0.000000           False  \n",
              "4  25587400  205.148213           False  "
            ]
          },
          "metadata": {}
        }
      ],
      "execution_count": 6,
      "metadata": {
        "collapsed": false,
        "outputHidden": false,
        "inputHidden": false
      }
    },
    {
      "cell_type": "code",
      "source": [
        "dfc = dfc.iloc[4:]\n",
        "dfc.head()"
      ],
      "outputs": [
        {
          "output_type": "execute_result",
          "execution_count": 7,
          "data": {
            "text/html": [
              "<div>\n",
              "<style scoped>\n",
              "    .dataframe tbody tr th:only-of-type {\n",
              "        vertical-align: middle;\n",
              "    }\n",
              "\n",
              "    .dataframe tbody tr th {\n",
              "        vertical-align: top;\n",
              "    }\n",
              "\n",
              "    .dataframe thead th {\n",
              "        text-align: right;\n",
              "    }\n",
              "</style>\n",
              "<table border=\"1\" class=\"dataframe\">\n",
              "  <thead>\n",
              "    <tr style=\"text-align: right;\">\n",
              "      <th></th>\n",
              "      <th>Date</th>\n",
              "      <th>Open</th>\n",
              "      <th>High</th>\n",
              "      <th>Low</th>\n",
              "      <th>Close</th>\n",
              "      <th>Adj Close</th>\n",
              "      <th>Volume</th>\n",
              "      <th>WMA</th>\n",
              "      <th>VolumePositive</th>\n",
              "    </tr>\n",
              "  </thead>\n",
              "  <tbody>\n",
              "    <tr>\n",
              "      <th>4</th>\n",
              "      <td>736913.0</td>\n",
              "      <td>209.320007</td>\n",
              "      <td>209.500000</td>\n",
              "      <td>206.759995</td>\n",
              "      <td>207.110001</td>\n",
              "      <td>204.790268</td>\n",
              "      <td>25587400</td>\n",
              "      <td>205.148213</td>\n",
              "      <td>False</td>\n",
              "    </tr>\n",
              "    <tr>\n",
              "      <th>5</th>\n",
              "      <td>736914.0</td>\n",
              "      <td>206.050003</td>\n",
              "      <td>207.809998</td>\n",
              "      <td>204.520004</td>\n",
              "      <td>207.250000</td>\n",
              "      <td>204.928696</td>\n",
              "      <td>22525500</td>\n",
              "      <td>205.358497</td>\n",
              "      <td>False</td>\n",
              "    </tr>\n",
              "    <tr>\n",
              "      <th>6</th>\n",
              "      <td>736915.0</td>\n",
              "      <td>207.279999</td>\n",
              "      <td>209.779999</td>\n",
              "      <td>207.199997</td>\n",
              "      <td>208.880005</td>\n",
              "      <td>206.540436</td>\n",
              "      <td>23469200</td>\n",
              "      <td>205.726988</td>\n",
              "      <td>False</td>\n",
              "    </tr>\n",
              "    <tr>\n",
              "      <th>7</th>\n",
              "      <td>736916.0</td>\n",
              "      <td>207.360001</td>\n",
              "      <td>209.100006</td>\n",
              "      <td>206.669998</td>\n",
              "      <td>207.529999</td>\n",
              "      <td>205.925232</td>\n",
              "      <td>24611200</td>\n",
              "      <td>205.792190</td>\n",
              "      <td>False</td>\n",
              "    </tr>\n",
              "    <tr>\n",
              "      <th>8</th>\n",
              "      <td>736919.0</td>\n",
              "      <td>207.699997</td>\n",
              "      <td>210.949997</td>\n",
              "      <td>207.699997</td>\n",
              "      <td>208.869995</td>\n",
              "      <td>207.254883</td>\n",
              "      <td>25869100</td>\n",
              "      <td>206.282954</td>\n",
              "      <td>False</td>\n",
              "    </tr>\n",
              "  </tbody>\n",
              "</table>\n",
              "</div>"
            ],
            "text/plain": [
              "       Date        Open        High         Low       Close   Adj Close  \\\n",
              "4  736913.0  209.320007  209.500000  206.759995  207.110001  204.790268   \n",
              "5  736914.0  206.050003  207.809998  204.520004  207.250000  204.928696   \n",
              "6  736915.0  207.279999  209.779999  207.199997  208.880005  206.540436   \n",
              "7  736916.0  207.360001  209.100006  206.669998  207.529999  205.925232   \n",
              "8  736919.0  207.699997  210.949997  207.699997  208.869995  207.254883   \n",
              "\n",
              "     Volume         WMA  VolumePositive  \n",
              "4  25587400  205.148213           False  \n",
              "5  22525500  205.358497           False  \n",
              "6  23469200  205.726988           False  \n",
              "7  24611200  205.792190           False  \n",
              "8  25869100  206.282954           False  "
            ]
          },
          "metadata": {}
        }
      ],
      "execution_count": 7,
      "metadata": {
        "collapsed": false,
        "outputHidden": false,
        "inputHidden": false
      }
    },
    {
      "cell_type": "code",
      "source": [
        "from mpl_finance import candlestick_ohlc\n",
        "\n",
        "fig = plt.figure(figsize=(14,10))\n",
        "ax1 = plt.subplot(2, 1, 1)\n",
        "candlestick_ohlc(ax1,dfc.values, width=0.5, colorup='g', colordown='r', alpha=1.0)\n",
        "ax1.plot(dfc.Date, dfc['WMA'], label='Weighted Moving Average')\n",
        "ax1.set_title('Stock '+ symbol +' Closing Price')\n",
        "ax1.set_ylabel('Price')\n",
        "ax1.xaxis_date()\n",
        "ax1.xaxis.set_major_formatter(mdates.DateFormatter('%d-%m-%Y'))\n",
        "ax1.grid(True, which='both')\n",
        "ax1.minorticks_on()\n",
        "ax1v = ax1.twinx()\n",
        "colors = dfc.VolumePositive.map({True: 'g', False: 'r'})\n",
        "ax1v.bar(dfc.Date, dfc['Volume'], color=colors, alpha=0.4)\n",
        "ax1v.axes.yaxis.set_ticklabels([])\n",
        "ax1v.set_ylim(0, 3*dfc.Volume.max())\n",
        "ax1.set_title('Stock '+ symbol +' Closing Price')\n",
        "ax1.set_ylabel('Price')\n",
        "ax1.set_xlabel('Date')\n",
        "ax1.legend(loc='best')"
      ],
      "outputs": [
        {
          "output_type": "execute_result",
          "execution_count": 8,
          "data": {
            "text/plain": [
              "<matplotlib.legend.Legend at 0x246d7bfd128>"
            ]
          },
          "metadata": {}
        },
        {
          "output_type": "display_data",
          "data": {
            "text/plain": [
              "<Figure size 1008x720 with 2 Axes>"
            ],
            "image/png": "[encoded data removed]"
          },
          "metadata": {}
        }
      ],
      "execution_count": 8,
      "metadata": {
        "collapsed": false,
        "outputHidden": false,
        "inputHidden": false
      }
    }
  ],
  "metadata": {
    "kernel_info": {
      "name": "python3"
    },
    "language_info": {
      "nbconvert_exporter": "python",
      "version": "3.5.5",
      "pygments_lexer": "ipython3",
      "mimetype": "text/x-python",
      "file_extension": ".py",
      "name": "python",
      "codemirror_mode": {
        "version": 3,
        "name": "ipython"
      }
    },
    "kernelspec": {
      "name": "python3",
      "language": "python",
      "display_name": "Python 3"
    },
    "nteract": {
      "version": "0.12.2"
    }
  },
  "nbformat": 4,
  "nbformat_minor": 4
}