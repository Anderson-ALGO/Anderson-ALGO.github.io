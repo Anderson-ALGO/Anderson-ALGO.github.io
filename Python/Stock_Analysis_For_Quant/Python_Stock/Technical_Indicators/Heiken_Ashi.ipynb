{
  "cells": [
    {
      "cell_type": "markdown",
      "source": [
        "# Heiken Ashi"
      ],
      "metadata": {}
    },
    {
      "cell_type": "markdown",
      "source": [
        "https://www.investopedia.com/trading/heikin-ashi-better-candlestick/"
      ],
      "metadata": {}
    },
    {
      "cell_type": "code",
      "source": [
        "import numpy as np\n",
        "import matplotlib.pyplot as plt\n",
        "import seaborn as sns\n",
        "import pandas as pd\n",
        "\n",
        "import warnings\n",
        "warnings.filterwarnings(\"ignore\") \n",
        "\n",
        "# fix_yahoo_finance is used to fetch data \n",
        "import fix_yahoo_finance as yf\n",
        "yf.pdr_override()"
      ],
      "outputs": [],
      "execution_count": 1,
      "metadata": {
        "collapsed": false,
        "outputHidden": false,
        "inputHidden": false
      }
    },
    {
      "cell_type": "code",
      "source": [
        "# input\n",
        "symbol = 'AAPL'\n",
        "start = '2018-10-01'\n",
        "end = '2019-01-01'\n",
        "\n",
        "# Read data \n",
        "df = yf.download(symbol,start,end)\n",
        "\n",
        "# View Columns\n",
        "df.head()"
      ],
      "outputs": [
        {
          "output_type": "stream",
          "name": "stdout",
          "text": [
            "[*********************100%***********************]  1 of 1 downloaded\n"
          ]
        },
        {
          "output_type": "execute_result",
          "execution_count": 2,
          "data": {
            "text/plain": [
              "                  Open        High         Low       Close   Adj Close  \\\n",
              "Date                                                                     \n",
              "2018-10-01  227.949997  229.419998  226.350006  227.259995  225.502670   \n",
              "2018-10-02  227.250000  230.000000  226.630005  229.279999  227.507050   \n",
              "2018-10-03  230.050003  233.470001  229.779999  232.070007  230.275482   \n",
              "2018-10-04  230.779999  232.350006  226.729996  227.990005  226.227036   \n",
              "2018-10-05  227.960007  228.410004  220.580002  224.289993  222.555634   \n",
              "\n",
              "              Volume  \n",
              "Date                  \n",
              "2018-10-01  23600800  \n",
              "2018-10-02  24788200  \n",
              "2018-10-03  28654800  \n",
              "2018-10-04  32042000  \n",
              "2018-10-05  33580500  "
            ],
            "text/html": [
              "<div>\n",
              "<style scoped>\n",
              "    .dataframe tbody tr th:only-of-type {\n",
              "        vertical-align: middle;\n",
              "    }\n",
              "\n",
              "    .dataframe tbody tr th {\n",
              "        vertical-align: top;\n",
              "    }\n",
              "\n",
              "    .dataframe thead th {\n",
              "        text-align: right;\n",
              "    }\n",
              "</style>\n",
              "<table border=\"1\" class=\"dataframe\">\n",
              "  <thead>\n",
              "    <tr style=\"text-align: right;\">\n",
              "      <th></th>\n",
              "      <th>Open</th>\n",
              "      <th>High</th>\n",
              "      <th>Low</th>\n",
              "      <th>Close</th>\n",
              "      <th>Adj Close</th>\n",
              "      <th>Volume</th>\n",
              "    </tr>\n",
              "    <tr>\n",
              "      <th>Date</th>\n",
              "      <th></th>\n",
              "      <th></th>\n",
              "      <th></th>\n",
              "      <th></th>\n",
              "      <th></th>\n",
              "      <th></th>\n",
              "    </tr>\n",
              "  </thead>\n",
              "  <tbody>\n",
              "    <tr>\n",
              "      <th>2018-10-01</th>\n",
              "      <td>227.949997</td>\n",
              "      <td>229.419998</td>\n",
              "      <td>226.350006</td>\n",
              "      <td>227.259995</td>\n",
              "      <td>225.502670</td>\n",
              "      <td>23600800</td>\n",
              "    </tr>\n",
              "    <tr>\n",
              "      <th>2018-10-02</th>\n",
              "      <td>227.250000</td>\n",
              "      <td>230.000000</td>\n",
              "      <td>226.630005</td>\n",
              "      <td>229.279999</td>\n",
              "      <td>227.507050</td>\n",
              "      <td>24788200</td>\n",
              "    </tr>\n",
              "    <tr>\n",
              "      <th>2018-10-03</th>\n",
              "      <td>230.050003</td>\n",
              "      <td>233.470001</td>\n",
              "      <td>229.779999</td>\n",
              "      <td>232.070007</td>\n",
              "      <td>230.275482</td>\n",
              "      <td>28654800</td>\n",
              "    </tr>\n",
              "    <tr>\n",
              "      <th>2018-10-04</th>\n",
              "      <td>230.779999</td>\n",
              "      <td>232.350006</td>\n",
              "      <td>226.729996</td>\n",
              "      <td>227.990005</td>\n",
              "      <td>226.227036</td>\n",
              "      <td>32042000</td>\n",
              "    </tr>\n",
              "    <tr>\n",
              "      <th>2018-10-05</th>\n",
              "      <td>227.960007</td>\n",
              "      <td>228.410004</td>\n",
              "      <td>220.580002</td>\n",
              "      <td>224.289993</td>\n",
              "      <td>222.555634</td>\n",
              "      <td>33580500</td>\n",
              "    </tr>\n",
              "  </tbody>\n",
              "</table>\n",
              "</div>"
            ]
          },
          "metadata": {}
        }
      ],
      "execution_count": 2,
      "metadata": {
        "collapsed": false,
        "outputHidden": false,
        "inputHidden": false
      }
    },
    {
      "cell_type": "code",
      "source": [
        "def Heiken_Ashi(df):\n",
        "    df['HA_Close']=(df['Open']+ df['High']+ df['Low']+ df['Close'])/4\n",
        "    df['HA_Open']=(df['Open']+df['Close'])/2   \n",
        "    \n",
        "    for i in range(1, len(df)):\n",
        "        df['HA_Open'][i]=(df['HA_Open'][i-1]+df['HA_Close'][i-1])/2 \n",
        "    df['HA_High']=df[['HA_Open','HA_Close','High']].max(axis=1)\n",
        "    df['HA_Low']=df[['HA_Open','HA_Close','Low']].min(axis=1)\n",
        "    return\n",
        "\nHeiken_Ashi(df)"
      ],
      "outputs": [],
      "execution_count": 3,
      "metadata": {
        "collapsed": false,
        "outputHidden": false,
        "inputHidden": false
      }
    },
    {
      "cell_type": "code",
      "source": [
        "df.head()"
      ],
      "outputs": [
        {
          "output_type": "execute_result",
          "execution_count": 4,
          "data": {
            "text/plain": [
              "                  Open        High         Low       Close   Adj Close  \\\n",
              "Date                                                                     \n",
              "2018-10-01  227.949997  229.419998  226.350006  227.259995  225.502670   \n",
              "2018-10-02  227.250000  230.000000  226.630005  229.279999  227.507050   \n",
              "2018-10-03  230.050003  233.470001  229.779999  232.070007  230.275482   \n",
              "2018-10-04  230.779999  232.350006  226.729996  227.990005  226.227036   \n",
              "2018-10-05  227.960007  228.410004  220.580002  224.289993  222.555634   \n",
              "\n",
              "              Volume    HA_Close     HA_Open     HA_High      HA_Low  \n",
              "Date                                                                  \n",
              "2018-10-01  23600800  227.744999  227.604996  229.419998  226.350006  \n",
              "2018-10-02  24788200  228.290001  227.674998  230.000000  226.630005  \n",
              "2018-10-03  28654800  231.342503  227.982499  233.470001  227.982499  \n",
              "2018-10-04  32042000  229.462502  229.662501  232.350006  226.729996  \n",
              "2018-10-05  33580500  225.310001  229.562501  229.562501  220.580002  "
            ],
            "text/html": [
              "<div>\n",
              "<style scoped>\n",
              "    .dataframe tbody tr th:only-of-type {\n",
              "        vertical-align: middle;\n",
              "    }\n",
              "\n",
              "    .dataframe tbody tr th {\n",
              "        vertical-align: top;\n",
              "    }\n",
              "\n",
              "    .dataframe thead th {\n",
              "        text-align: right;\n",
              "    }\n",
              "</style>\n",
              "<table border=\"1\" class=\"dataframe\">\n",
              "  <thead>\n",
              "    <tr style=\"text-align: right;\">\n",
              "      <th></th>\n",
              "      <th>Open</th>\n",
              "      <th>High</th>\n",
              "      <th>Low</th>\n",
              "      <th>Close</th>\n",
              "      <th>Adj Close</th>\n",
              "      <th>Volume</th>\n",
              "      <th>HA_Close</th>\n",
              "      <th>HA_Open</th>\n",
              "      <th>HA_High</th>\n",
              "      <th>HA_Low</th>\n",
              "    </tr>\n",
              "    <tr>\n",
              "      <th>Date</th>\n",
              "      <th></th>\n",
              "      <th></th>\n",
              "      <th></th>\n",
              "      <th></th>\n",
              "      <th></th>\n",
              "      <th></th>\n",
              "      <th></th>\n",
              "      <th></th>\n",
              "      <th></th>\n",
              "      <th></th>\n",
              "    </tr>\n",
              "  </thead>\n",
              "  <tbody>\n",
              "    <tr>\n",
              "      <th>2018-10-01</th>\n",
              "      <td>227.949997</td>\n",
              "      <td>229.419998</td>\n",
              "      <td>226.350006</td>\n",
              "      <td>227.259995</td>\n",
              "      <td>225.502670</td>\n",
              "      <td>23600800</td>\n",
              "      <td>227.744999</td>\n",
              "      <td>227.604996</td>\n",
              "      <td>229.419998</td>\n",
              "      <td>226.350006</td>\n",
              "    </tr>\n",
              "    <tr>\n",
              "      <th>2018-10-02</th>\n",
              "      <td>227.250000</td>\n",
              "      <td>230.000000</td>\n",
              "      <td>226.630005</td>\n",
              "      <td>229.279999</td>\n",
              "      <td>227.507050</td>\n",
              "      <td>24788200</td>\n",
              "      <td>228.290001</td>\n",
              "      <td>227.674998</td>\n",
              "      <td>230.000000</td>\n",
              "      <td>226.630005</td>\n",
              "    </tr>\n",
              "    <tr>\n",
              "      <th>2018-10-03</th>\n",
              "      <td>230.050003</td>\n",
              "      <td>233.470001</td>\n",
              "      <td>229.779999</td>\n",
              "      <td>232.070007</td>\n",
              "      <td>230.275482</td>\n",
              "      <td>28654800</td>\n",
              "      <td>231.342503</td>\n",
              "      <td>227.982499</td>\n",
              "      <td>233.470001</td>\n",
              "      <td>227.982499</td>\n",
              "    </tr>\n",
              "    <tr>\n",
              "      <th>2018-10-04</th>\n",
              "      <td>230.779999</td>\n",
              "      <td>232.350006</td>\n",
              "      <td>226.729996</td>\n",
              "      <td>227.990005</td>\n",
              "      <td>226.227036</td>\n",
              "      <td>32042000</td>\n",
              "      <td>229.462502</td>\n",
              "      <td>229.662501</td>\n",
              "      <td>232.350006</td>\n",
              "      <td>226.729996</td>\n",
              "    </tr>\n",
              "    <tr>\n",
              "      <th>2018-10-05</th>\n",
              "      <td>227.960007</td>\n",
              "      <td>228.410004</td>\n",
              "      <td>220.580002</td>\n",
              "      <td>224.289993</td>\n",
              "      <td>222.555634</td>\n",
              "      <td>33580500</td>\n",
              "      <td>225.310001</td>\n",
              "      <td>229.562501</td>\n",
              "      <td>229.562501</td>\n",
              "      <td>220.580002</td>\n",
              "    </tr>\n",
              "  </tbody>\n",
              "</table>\n",
              "</div>"
            ]
          },
          "metadata": {}
        }
      ],
      "execution_count": 4,
      "metadata": {
        "collapsed": false,
        "outputHidden": false,
        "inputHidden": false
      }
    },
    {
      "cell_type": "code",
      "source": [
        "HA = df[['HA_Open','HA_High','HA_Low','HA_Close', 'Volume']]"
      ],
      "outputs": [],
      "execution_count": 5,
      "metadata": {
        "collapsed": false,
        "outputHidden": false,
        "inputHidden": false
      }
    },
    {
      "cell_type": "code",
      "source": [
        "HA.head()"
      ],
      "outputs": [
        {
          "output_type": "execute_result",
          "execution_count": 6,
          "data": {
            "text/plain": [
              "               HA_Open     HA_High      HA_Low    HA_Close    Volume\n",
              "Date                                                                \n",
              "2018-10-01  227.604996  229.419998  226.350006  227.744999  23600800\n",
              "2018-10-02  227.674998  230.000000  226.630005  228.290001  24788200\n",
              "2018-10-03  227.982499  233.470001  227.982499  231.342503  28654800\n",
              "2018-10-04  229.662501  232.350006  226.729996  229.462502  32042000\n",
              "2018-10-05  229.562501  229.562501  220.580002  225.310001  33580500"
            ],
            "text/html": [
              "<div>\n",
              "<style scoped>\n",
              "    .dataframe tbody tr th:only-of-type {\n",
              "        vertical-align: middle;\n",
              "    }\n",
              "\n",
              "    .dataframe tbody tr th {\n",
              "        vertical-align: top;\n",
              "    }\n",
              "\n",
              "    .dataframe thead th {\n",
              "        text-align: right;\n",
              "    }\n",
              "</style>\n",
              "<table border=\"1\" class=\"dataframe\">\n",
              "  <thead>\n",
              "    <tr style=\"text-align: right;\">\n",
              "      <th></th>\n",
              "      <th>HA_Open</th>\n",
              "      <th>HA_High</th>\n",
              "      <th>HA_Low</th>\n",
              "      <th>HA_Close</th>\n",
              "      <th>Volume</th>\n",
              "    </tr>\n",
              "    <tr>\n",
              "      <th>Date</th>\n",
              "      <th></th>\n",
              "      <th></th>\n",
              "      <th></th>\n",
              "      <th></th>\n",
              "      <th></th>\n",
              "    </tr>\n",
              "  </thead>\n",
              "  <tbody>\n",
              "    <tr>\n",
              "      <th>2018-10-01</th>\n",
              "      <td>227.604996</td>\n",
              "      <td>229.419998</td>\n",
              "      <td>226.350006</td>\n",
              "      <td>227.744999</td>\n",
              "      <td>23600800</td>\n",
              "    </tr>\n",
              "    <tr>\n",
              "      <th>2018-10-02</th>\n",
              "      <td>227.674998</td>\n",
              "      <td>230.000000</td>\n",
              "      <td>226.630005</td>\n",
              "      <td>228.290001</td>\n",
              "      <td>24788200</td>\n",
              "    </tr>\n",
              "    <tr>\n",
              "      <th>2018-10-03</th>\n",
              "      <td>227.982499</td>\n",
              "      <td>233.470001</td>\n",
              "      <td>227.982499</td>\n",
              "      <td>231.342503</td>\n",
              "      <td>28654800</td>\n",
              "    </tr>\n",
              "    <tr>\n",
              "      <th>2018-10-04</th>\n",
              "      <td>229.662501</td>\n",
              "      <td>232.350006</td>\n",
              "      <td>226.729996</td>\n",
              "      <td>229.462502</td>\n",
              "      <td>32042000</td>\n",
              "    </tr>\n",
              "    <tr>\n",
              "      <th>2018-10-05</th>\n",
              "      <td>229.562501</td>\n",
              "      <td>229.562501</td>\n",
              "      <td>220.580002</td>\n",
              "      <td>225.310001</td>\n",
              "      <td>33580500</td>\n",
              "    </tr>\n",
              "  </tbody>\n",
              "</table>\n",
              "</div>"
            ]
          },
          "metadata": {}
        }
      ],
      "execution_count": 6,
      "metadata": {
        "collapsed": false,
        "outputHidden": false,
        "inputHidden": false
      }
    },
    {
      "cell_type": "code",
      "source": [
        "from matplotlib import dates as mdates\n",
        "import datetime as dt\n",
        "\n",
        "dfc = HA.reset_index()\n",
        "dfc['Date'] = mdates.date2num(dfc['Date'].astype(dt.date))\n",
        "dfc.head()"
      ],
      "outputs": [
        {
          "output_type": "execute_result",
          "execution_count": 7,
          "data": {
            "text/plain": [
              "       Date     HA_Open     HA_High      HA_Low    HA_Close    Volume\n",
              "0  736968.0  227.604996  229.419998  226.350006  227.744999  23600800\n",
              "1  736969.0  227.674998  230.000000  226.630005  228.290001  24788200\n",
              "2  736970.0  227.982499  233.470001  227.982499  231.342503  28654800\n",
              "3  736971.0  229.662501  232.350006  226.729996  229.462502  32042000\n",
              "4  736972.0  229.562501  229.562501  220.580002  225.310001  33580500"
            ],
            "text/html": [
              "<div>\n",
              "<style scoped>\n",
              "    .dataframe tbody tr th:only-of-type {\n",
              "        vertical-align: middle;\n",
              "    }\n",
              "\n",
              "    .dataframe tbody tr th {\n",
              "        vertical-align: top;\n",
              "    }\n",
              "\n",
              "    .dataframe thead th {\n",
              "        text-align: right;\n",
              "    }\n",
              "</style>\n",
              "<table border=\"1\" class=\"dataframe\">\n",
              "  <thead>\n",
              "    <tr style=\"text-align: right;\">\n",
              "      <th></th>\n",
              "      <th>Date</th>\n",
              "      <th>HA_Open</th>\n",
              "      <th>HA_High</th>\n",
              "      <th>HA_Low</th>\n",
              "      <th>HA_Close</th>\n",
              "      <th>Volume</th>\n",
              "    </tr>\n",
              "  </thead>\n",
              "  <tbody>\n",
              "    <tr>\n",
              "      <th>0</th>\n",
              "      <td>736968.0</td>\n",
              "      <td>227.604996</td>\n",
              "      <td>229.419998</td>\n",
              "      <td>226.350006</td>\n",
              "      <td>227.744999</td>\n",
              "      <td>23600800</td>\n",
              "    </tr>\n",
              "    <tr>\n",
              "      <th>1</th>\n",
              "      <td>736969.0</td>\n",
              "      <td>227.674998</td>\n",
              "      <td>230.000000</td>\n",
              "      <td>226.630005</td>\n",
              "      <td>228.290001</td>\n",
              "      <td>24788200</td>\n",
              "    </tr>\n",
              "    <tr>\n",
              "      <th>2</th>\n",
              "      <td>736970.0</td>\n",
              "      <td>227.982499</td>\n",
              "      <td>233.470001</td>\n",
              "      <td>227.982499</td>\n",
              "      <td>231.342503</td>\n",
              "      <td>28654800</td>\n",
              "    </tr>\n",
              "    <tr>\n",
              "      <th>3</th>\n",
              "      <td>736971.0</td>\n",
              "      <td>229.662501</td>\n",
              "      <td>232.350006</td>\n",
              "      <td>226.729996</td>\n",
              "      <td>229.462502</td>\n",
              "      <td>32042000</td>\n",
              "    </tr>\n",
              "    <tr>\n",
              "      <th>4</th>\n",
              "      <td>736972.0</td>\n",
              "      <td>229.562501</td>\n",
              "      <td>229.562501</td>\n",
              "      <td>220.580002</td>\n",
              "      <td>225.310001</td>\n",
              "      <td>33580500</td>\n",
              "    </tr>\n",
              "  </tbody>\n",
              "</table>\n",
              "</div>"
            ]
          },
          "metadata": {}
        }
      ],
      "execution_count": 7,
      "metadata": {
        "collapsed": false,
        "outputHidden": false,
        "inputHidden": false
      }
    },
    {
      "cell_type": "code",
      "source": [
        "from mpl_finance import candlestick_ohlc\n",
        "\n",
        "fig = plt.figure(figsize=(14,10))\n",
        "ax1 = plt.subplot(2, 1, 1)\n",
        "candlestick_ohlc(ax1,dfc.values, width=0.5, colorup='g', colordown='r', alpha=1.0)\n",
        "ax1.xaxis_date()\n",
        "ax1.xaxis.set_major_formatter(mdates.DateFormatter('%d-%m-%Y'))\n",
        "ax1.grid(True, which='both')\n",
        "ax1.minorticks_on()\n",
        "ax1v = ax1.twinx()\n",
        "dfc['VolumePositive'] = dfc['HA_Open'] < dfc['HA_Close']\n",
        "colors = dfc.VolumePositive.map({True: 'g', False: 'r'})\n",
        "ax1v.bar(dfc.Date, dfc['Volume'], color=colors, alpha=0.4)\n",
        "ax1v.axes.yaxis.set_ticklabels([])\n",
        "ax1v.set_ylim(0, 3*df.Volume.max())\n",
        "ax1.set_title('Stock '+ symbol +' Closing Price (Heiken Ashi)')\n",
        "ax1.set_ylabel('Price')\n",
        "\n",
        "ax2 = plt.subplot(2, 1, 2)\n",
        "ax2.bar(dfc.index, dfc['Volume'], color=dfc.VolumePositive.map({True: 'g', False: 'r'}))\n",
        "ax2.grid()\n",
        "ax2.set_ylabel('Volume')\n",
        "ax2.set_xlabel('Date')"
      ],
      "outputs": [
        {
          "output_type": "execute_result",
          "execution_count": 10,
          "data": {
            "text/plain": [
              "Text(0.5,0,'Date')"
            ]
          },
          "metadata": {}
        },
        {
          "output_type": "display_data",
          "data": {
            "image/png": "[encoded data removed]",
            "text/plain": [
              "<Figure size 1008x720 with 3 Axes>"
            ]
          },
          "metadata": {}
        }
      ],
      "execution_count": 10,
      "metadata": {
        "collapsed": false,
        "outputHidden": false,
        "inputHidden": false
      }
    },
    {
      "cell_type": "markdown",
      "source": [
        "## Compare Heiken Ashi and Candlesticks"
      ],
      "metadata": {}
    },
    {
      "cell_type": "code",
      "source": [
        "from matplotlib import dates as mdates\n",
        "import datetime as dt\n",
        "\n",
        "cs = df.reset_index()\n",
        "cs['Date'] = mdates.date2num(cs['Date'].astype(dt.date))\n",
        "cs.head()"
      ],
      "outputs": [
        {
          "output_type": "execute_result",
          "execution_count": 11,
          "data": {
            "text/plain": [
              "       Date        Open        High         Low       Close   Adj Close  \\\n",
              "0  736968.0  227.949997  229.419998  226.350006  227.259995  225.502670   \n",
              "1  736969.0  227.250000  230.000000  226.630005  229.279999  227.507050   \n",
              "2  736970.0  230.050003  233.470001  229.779999  232.070007  230.275482   \n",
              "3  736971.0  230.779999  232.350006  226.729996  227.990005  226.227036   \n",
              "4  736972.0  227.960007  228.410004  220.580002  224.289993  222.555634   \n",
              "\n",
              "     Volume    HA_Close     HA_Open     HA_High      HA_Low  \n",
              "0  23600800  227.744999  227.604996  229.419998  226.350006  \n",
              "1  24788200  228.290001  227.674998  230.000000  226.630005  \n",
              "2  28654800  231.342503  227.982499  233.470001  227.982499  \n",
              "3  32042000  229.462502  229.662501  232.350006  226.729996  \n",
              "4  33580500  225.310001  229.562501  229.562501  220.580002  "
            ],
            "text/html": [
              "<div>\n",
              "<style scoped>\n",
              "    .dataframe tbody tr th:only-of-type {\n",
              "        vertical-align: middle;\n",
              "    }\n",
              "\n",
              "    .dataframe tbody tr th {\n",
              "        vertical-align: top;\n",
              "    }\n",
              "\n",
              "    .dataframe thead th {\n",
              "        text-align: right;\n",
              "    }\n",
              "</style>\n",
              "<table border=\"1\" class=\"dataframe\">\n",
              "  <thead>\n",
              "    <tr style=\"text-align: right;\">\n",
              "      <th></th>\n",
              "      <th>Date</th>\n",
              "      <th>Open</th>\n",
              "      <th>High</th>\n",
              "      <th>Low</th>\n",
              "      <th>Close</th>\n",
              "      <th>Adj Close</th>\n",
              "      <th>Volume</th>\n",
              "      <th>HA_Close</th>\n",
              "      <th>HA_Open</th>\n",
              "      <th>HA_High</th>\n",
              "      <th>HA_Low</th>\n",
              "    </tr>\n",
              "  </thead>\n",
              "  <tbody>\n",
              "    <tr>\n",
              "      <th>0</th>\n",
              "      <td>736968.0</td>\n",
              "      <td>227.949997</td>\n",
              "      <td>229.419998</td>\n",
              "      <td>226.350006</td>\n",
              "      <td>227.259995</td>\n",
              "      <td>225.502670</td>\n",
              "      <td>23600800</td>\n",
              "      <td>227.744999</td>\n",
              "      <td>227.604996</td>\n",
              "      <td>229.419998</td>\n",
              "      <td>226.350006</td>\n",
              "    </tr>\n",
              "    <tr>\n",
              "      <th>1</th>\n",
              "      <td>736969.0</td>\n",
              "      <td>227.250000</td>\n",
              "      <td>230.000000</td>\n",
              "      <td>226.630005</td>\n",
              "      <td>229.279999</td>\n",
              "      <td>227.507050</td>\n",
              "      <td>24788200</td>\n",
              "      <td>228.290001</td>\n",
              "      <td>227.674998</td>\n",
              "      <td>230.000000</td>\n",
              "      <td>226.630005</td>\n",
              "    </tr>\n",
              "    <tr>\n",
              "      <th>2</th>\n",
              "      <td>736970.0</td>\n",
              "      <td>230.050003</td>\n",
              "      <td>233.470001</td>\n",
              "      <td>229.779999</td>\n",
              "      <td>232.070007</td>\n",
              "      <td>230.275482</td>\n",
              "      <td>28654800</td>\n",
              "      <td>231.342503</td>\n",
              "      <td>227.982499</td>\n",
              "      <td>233.470001</td>\n",
              "      <td>227.982499</td>\n",
              "    </tr>\n",
              "    <tr>\n",
              "      <th>3</th>\n",
              "      <td>736971.0</td>\n",
              "      <td>230.779999</td>\n",
              "      <td>232.350006</td>\n",
              "      <td>226.729996</td>\n",
              "      <td>227.990005</td>\n",
              "      <td>226.227036</td>\n",
              "      <td>32042000</td>\n",
              "      <td>229.462502</td>\n",
              "      <td>229.662501</td>\n",
              "      <td>232.350006</td>\n",
              "      <td>226.729996</td>\n",
              "    </tr>\n",
              "    <tr>\n",
              "      <th>4</th>\n",
              "      <td>736972.0</td>\n",
              "      <td>227.960007</td>\n",
              "      <td>228.410004</td>\n",
              "      <td>220.580002</td>\n",
              "      <td>224.289993</td>\n",
              "      <td>222.555634</td>\n",
              "      <td>33580500</td>\n",
              "      <td>225.310001</td>\n",
              "      <td>229.562501</td>\n",
              "      <td>229.562501</td>\n",
              "      <td>220.580002</td>\n",
              "    </tr>\n",
              "  </tbody>\n",
              "</table>\n",
              "</div>"
            ]
          },
          "metadata": {}
        }
      ],
      "execution_count": 11,
      "metadata": {
        "collapsed": false,
        "outputHidden": false,
        "inputHidden": false
      }
    },
    {
      "cell_type": "code",
      "source": [
        "cs = cs[['Date', 'Open', 'High', 'Low', 'Close', 'Volume']]"
      ],
      "outputs": [],
      "execution_count": 12,
      "metadata": {
        "collapsed": false,
        "outputHidden": false,
        "inputHidden": false
      }
    },
    {
      "cell_type": "code",
      "source": [
        "fig = plt.figure(figsize=(14,10))\n",
        "ax1 = plt.subplot(2, 1, 1)\n",
        "candlestick_ohlc(ax1,cs.values, width=0.5, colorup='g', colordown='r', alpha=1.0)\n",
        "ax1.xaxis_date()\n",
        "ax1.xaxis.set_major_formatter(mdates.DateFormatter('%d-%m-%Y'))\n",
        "ax1.grid(True, which='both')\n",
        "ax1.minorticks_on()\n",
        "ax1v = ax1.twinx()\n",
        "cs['VolumePositive'] = cs['Open'] < cs['Close']\n",
        "colors = cs.VolumePositive.map({True: 'g', False: 'r'})\n",
        "ax1v.bar(cs.Date, cs['Volume'], color=colors, alpha=0.4)\n",
        "ax1v.axes.yaxis.set_ticklabels([])\n",
        "ax1v.set_ylim(0, 3*cs.Volume.max())\n",
        "ax1.set_title('Stock '+ symbol +' Closing Price (Candlestick)')\n",
        "ax1.set_ylabel('Price')\n",
        "\n",
        "ax2 = plt.subplot(2, 1, 2)\n",
        "ax2.bar(cs.index, cs['Volume'], color=cs.VolumePositive.map({True: 'g', False: 'r'}))\n",
        "ax2.grid()\n",
        "ax2.set_ylabel('Volume')\n",
        "ax2.set_xlabel('Date')"
      ],
      "outputs": [
        {
          "output_type": "execute_result",
          "execution_count": 17,
          "data": {
            "text/plain": [
              "Text(0.5,0,'Date')"
            ]
          },
          "metadata": {}
        },
        {
          "output_type": "display_data",
          "data": {
            "image/png": "[encoded data removed]",
            "text/plain": [
              "<Figure size 1008x720 with 3 Axes>"
            ]
          },
          "metadata": {}
        }
      ],
      "execution_count": 17,
      "metadata": {
        "collapsed": false,
        "outputHidden": false,
        "inputHidden": false
      }
    },
    {
      "cell_type": "code",
      "source": [
        "fig = plt.figure(figsize=(30,14))\n",
        "ax1 = plt.subplot(2, 2, 1)\n",
        "candlestick_ohlc(ax1,dfc.values, width=0.5, colorup='g', colordown='r', alpha=1.0)\n",
        "ax1.xaxis_date()\n",
        "ax1.xaxis.set_major_formatter(mdates.DateFormatter('%d-%m-%Y'))\n",
        "ax1.grid(True, which='both')\n",
        "ax1.minorticks_on()\n",
        "ax1v = ax1.twinx()\n",
        "dfc['VolumePositive'] = dfc['HA_Open'] < dfc['HA_Close']\n",
        "colors = dfc.VolumePositive.map({True: 'g', False: 'r'})\n",
        "ax1v.bar(dfc.Date, dfc['Volume'], color=colors, alpha=0.4)\n",
        "ax1v.axes.yaxis.set_ticklabels([])\n",
        "ax1v.set_ylim(0, 3*df.Volume.max())\n",
        "ax1.set_title('Stock '+ symbol +' Closing Price (Heiken Ashi)', fontweight=\"bold\", fontsize=18)\n",
        "ax1.set_ylabel('Price')\n",
        "ax1.set_xlabel('Date')\n",
        "\n",
        "ax2 = plt.subplot(2, 2, 2)\n",
        "candlestick_ohlc(ax2,cs.values, width=0.5, colorup='g', colordown='r', alpha=1.0)\n",
        "ax2.xaxis_date()\n",
        "ax2.xaxis.set_major_formatter(mdates.DateFormatter('%d-%m-%Y'))\n",
        "ax2.grid(True, which='both')\n",
        "ax2.minorticks_on()\n",
        "ax2v = ax2.twinx()\n",
        "cs['VolumePositive'] = cs['Open'] < cs['Close']\n",
        "colors = cs.VolumePositive.map({True: 'g', False: 'r'})\n",
        "ax2v.bar(cs.Date, cs['Volume'], color=colors, alpha=0.4)\n",
        "ax2v.axes.yaxis.set_ticklabels([])\n",
        "ax2v.set_ylim(0, 3*cs.Volume.max())\n",
        "ax2.set_title('Stock '+ symbol +' Closing Price (Candlestick)', fontweight=\"bold\", fontsize=18)\n",
        "ax2.set_ylabel('Price')\n",
        "ax2.set_xlabel('Date')"
      ],
      "outputs": [
        {
          "output_type": "execute_result",
          "execution_count": 36,
          "data": {
            "text/plain": [
              "Text(0.5,0,'Date')"
            ]
          },
          "metadata": {}
        },
        {
          "output_type": "display_data",
          "data": {
            "image/png": "[encoded data removed]",
            "text/plain": [
              "<Figure size 2160x1008 with 4 Axes>"
            ]
          },
          "metadata": {}
        }
      ],
      "execution_count": 36,
      "metadata": {
        "collapsed": false,
        "outputHidden": false,
        "inputHidden": false
      }
    }
  ],
  "metadata": {
    "kernel_info": {
      "name": "python3"
    },
    "language_info": {
      "version": "3.5.5",
      "nbconvert_exporter": "python",
      "mimetype": "text/x-python",
      "pygments_lexer": "ipython3",
      "codemirror_mode": {
        "version": 3,
        "name": "ipython"
      },
      "name": "python",
      "file_extension": ".py"
    },
    "kernelspec": {
      "name": "python3",
      "language": "python",
      "display_name": "Python 3"
    },
    "nteract": {
      "version": "0.12.2"
    }
  },
  "nbformat": 4,
  "nbformat_minor": 4
}