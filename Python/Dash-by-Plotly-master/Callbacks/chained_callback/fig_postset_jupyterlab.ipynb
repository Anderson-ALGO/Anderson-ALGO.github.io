{
 "cells": [
  {
   "cell_type": "code",
   "execution_count": 4,
   "metadata": {},
   "outputs": [],
   "source": [
    "from jupyter_dash import JupyterDash\n",
    "import dash_core_components as dcc\n",
    "import dash_html_components as html\n",
    "from dash.dependencies import Input, Output, State\n",
    "import pandas as pd\n",
    "import plotly.express as px\n",
    "from dash import no_update\n",
    "# need to pip install statsmodels for trendline='ols' in scatter plot\n",
    "\n",
    "external_stylesheets = ['https://codepen.io/chriddyp/pen/bWLwgP.css']\n",
    "\n",
    "app = JupyterDash(__name__, external_stylesheets=external_stylesheets)\n",
    "\n",
    "# Data from U.S. Congress, Joint Economic Committee, Social Capital Project.\n",
    "df = pd.read_csv(\"social-capital-project.csv\")"
   ]
  },
  {
   "cell_type": "code",
   "execution_count": 5,
   "metadata": {},
   "outputs": [],
   "source": [
    "app.layout = html.Div([\n",
    "    html.Label(\"State:\", style={'fontSize':30, 'textAlign':'center'}),\n",
    "    dcc.Dropdown(\n",
    "        id='states-dpdn',\n",
    "        options=[{'label': s, 'value': s} for s in sorted(df.State.unique())],\n",
    "        value=None,\n",
    "        clearable=False\n",
    "    ),\n",
    "    html.Label(\"Counties:\", style={'fontSize':30, 'textAlign':'center'}),\n",
    "    dcc.Dropdown(id='counties-dpdn',\n",
    "                 options=[],\n",
    "                 value=[],\n",
    "                 multi=True),\n",
    "    html.Div(id='graph-container', children=[])\n",
    "])"
   ]
  },
  {
   "cell_type": "code",
   "execution_count": 6,
   "metadata": {},
   "outputs": [],
   "source": [
    "# Populate the counties dropdown with options and values\n",
    "@app.callback(\n",
    "    Output('counties-dpdn', 'options'),\n",
    "    Output('counties-dpdn', 'value'),\n",
    "    Input('states-dpdn', 'value'),\n",
    ")\n",
    "def set_cities_options(chosen_state):\n",
    "    dff = df[df.State==chosen_state]\n",
    "    counties_of_states = [{'label': c, 'value': c} for c in sorted(dff.County.unique())]\n",
    "    values_selected = [x['value'] for x in counties_of_states]\n",
    "    return counties_of_states, values_selected\n",
    "\n",
    "\n",
    "# Create graph component and populate with scatter plot\n",
    "@app.callback(\n",
    "    Output('graph-container', 'children'),\n",
    "    Input('counties-dpdn', 'value'),\n",
    "    State('states-dpdn', 'value'),\n",
    "    prevent_initial_call=True\n",
    ")\n",
    "def update_grpah(selected_counties, selected_state):\n",
    "    if len(selected_counties) == 0:\n",
    "        return no_update\n",
    "    else:\n",
    "        dff = df[(df.State==selected_state) & (df.County.isin(selected_counties))]\n",
    "\n",
    "        fig = px.scatter(dff, x='% without health insurance', y='% in fair or poor health',\n",
    "                         color='% adults graduated high school',\n",
    "                         trendline='ols',\n",
    "                         size='bubble_size',\n",
    "                         hover_name='County',\n",
    "                         hover_data={'bubble_size':False},\n",
    "                         labels={'% adults graduated high school':'% graduated high school',\n",
    "                                 '% without health insurance':'% no health insurance',\n",
    "                                 '% in fair or poor health':'% poor health'}\n",
    "                         )\n",
    "        return dcc.Graph(id='display-map', figure=fig)\n",
    "\n",
    "\n",
    "app.run_server(mode='jupyterlab')"
   ]
  },
  {
   "cell_type": "code",
   "execution_count": null,
   "metadata": {},
   "outputs": [],
   "source": []
  }
 ],
 "metadata": {
  "kernelspec": {
   "display_name": "Python 3",
   "language": "python",
   "name": "python3"
  },
  "language_info": {
   "codemirror_mode": {
    "name": "ipython",
    "version": 3
   },
   "file_extension": ".py",
   "mimetype": "text/x-python",
   "name": "python",
   "nbconvert_exporter": "python",
   "pygments_lexer": "ipython3",
   "version": "3.8.3"
  }
 },
 "nbformat": 4,
 "nbformat_minor": 4
}
