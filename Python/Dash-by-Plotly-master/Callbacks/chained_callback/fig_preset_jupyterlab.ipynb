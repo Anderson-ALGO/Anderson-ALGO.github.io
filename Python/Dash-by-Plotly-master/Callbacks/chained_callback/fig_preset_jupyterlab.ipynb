{
 "cells": [
  {
   "cell_type": "code",
   "execution_count": 4,
   "metadata": {},
   "outputs": [],
   "source": [
    "from jupyter_dash import JupyterDash\n",
    "import dash_core_components as dcc\n",
    "import dash_html_components as html\n",
    "from dash.dependencies import Input, Output\n",
    "import pandas as pd\n",
    "import plotly.express as px\n",
    "from dash import no_update\n",
    "# need to pip install statsmodels for trendline='ols' in scatter plot\n",
    "\n",
    "external_stylesheets = ['https://codepen.io/chriddyp/pen/bWLwgP.css']\n",
    "\n",
    "app = JupyterDash(__name__, external_stylesheets=external_stylesheets)\n",
    "\n",
    "# Data from U.S. Congress, Joint Economic Committee, Social Capital Project.\n",
    "df = pd.read_csv(\"social-capital-project.csv\")\n"
   ]
  },
  {
   "cell_type": "code",
   "execution_count": 5,
   "metadata": {},
   "outputs": [],
   "source": [
    "app.layout = html.Div([\n",
    "    html.Label(\"State:\", style={'fontSize':30, 'textAlign':'center'}),\n",
    "    dcc.Dropdown(\n",
    "        id='states-dpdn',\n",
    "        options=[{'label': s, 'value': s} for s in sorted(df.State.unique())],\n",
    "        value='Alaska',\n",
    "        clearable=False\n",
    "    ),\n",
    "\n",
    "    html.Label(\"Counties:\", style={'fontSize':30, 'textAlign':'center'}),\n",
    "    dcc.Dropdown(id='counties-dpdn', options=[], multi=True),\n",
    "\n",
    "    dcc.Graph(id='display-map', figure={})\n",
    "])"
   ]
  },
  {
   "cell_type": "code",
   "execution_count": 6,
   "metadata": {},
   "outputs": [],
   "source": [
    "# Populate the options of counties dropdown based on states dropdown\n",
    "@app.callback(\n",
    "    Output('counties-dpdn', 'options'),\n",
    "    Input('states-dpdn', 'value')\n",
    ")\n",
    "def set_cities_options(chosen_state):\n",
    "    dff = df[df.State==chosen_state]\n",
    "    return [{'label': c, 'value': c} for c in sorted(dff.County.unique())]\n",
    "\n",
    "\n",
    "# populate initial values of counties dropdown\n",
    "@app.callback(\n",
    "    Output('counties-dpdn', 'value'),\n",
    "    Input('counties-dpdn', 'options')\n",
    ")\n",
    "def set_cities_value(available_options):\n",
    "    return [x['value'] for x in available_options]\n",
    "\n",
    "\n",
    "@app.callback(\n",
    "    Output('display-map', 'figure'),\n",
    "    Input('counties-dpdn', 'value'),\n",
    "    Input('states-dpdn', 'value')\n",
    ")\n",
    "def update_grpah(selected_counties, selected_state):\n",
    "    if len(selected_counties) == 0:\n",
    "        return no_update\n",
    "    else:\n",
    "        dff = df[(df.State==selected_state) & (df.County.isin(selected_counties))]\n",
    "\n",
    "        fig = px.scatter(dff, x='% without health insurance', y='% in fair or poor health',\n",
    "                         color='% adults graduated high school',\n",
    "                         trendline='ols',\n",
    "                         size='bubble_size',\n",
    "                         hover_name='County',\n",
    "                         hover_data={'bubble_size':False},\n",
    "                         labels={'% adults graduated high school':'% graduated high school',\n",
    "                                 '% without health insurance':'% no health insurance',\n",
    "                                 '% in fair or poor health':'% poor health'}\n",
    "                         )\n",
    "        return fig\n",
    "\n",
    "\n",
    "app.run_server(mode='jupyterlab')"
   ]
  },
  {
   "cell_type": "code",
   "execution_count": null,
   "metadata": {},
   "outputs": [],
   "source": []
  }
 ],
 "metadata": {
  "kernelspec": {
   "display_name": "Python 3",
   "language": "python",
   "name": "python3"
  },
  "language_info": {
   "codemirror_mode": {
    "name": "ipython",
    "version": 3
   },
   "file_extension": ".py",
   "mimetype": "text/x-python",
   "name": "python",
   "nbconvert_exporter": "python",
   "pygments_lexer": "ipython3",
   "version": "3.8.3"
  }
 },
 "nbformat": 4,
 "nbformat_minor": 4
}
