{
 "cells": [
  {
   "cell_type": "code",
   "execution_count": 26,
   "metadata": {},
   "outputs": [],
   "source": [
    "from jupyter_dash import JupyterDash\n",
    "import dash_core_components as dcc\n",
    "import dash_html_components as html\n",
    "from dash.dependencies import Input, Output\n",
    "import pandas as pd\n",
    "import plotly.express as px\n",
    "from dash import no_update\n",
    "\n",
    "\n",
    "# Data from U.S. Congress, Joint Economic Committee, Social Capital Project.\n",
    "df = pd.read_csv('social_capital.csv')\n",
    "df.drop(['Alt FIPS Code','FIPS Code','State Abbreviation'], axis=1, inplace=True)\n",
    "\n",
    "\n",
    "app = JupyterDash(__name__)"
   ]
  },
  {
   "cell_type": "code",
   "execution_count": 27,
   "metadata": {},
   "outputs": [],
   "source": [
    "app.layout = html.Div([\n",
    "    dcc.ConfirmDialog(\n",
    "        id='confirm-dialog',\n",
    "        displayed=False,\n",
    "        message='Please choose Dropdown variables!',\n",
    "    ),\n",
    "\n",
    "    html.H1(\"Scatter Matrix of USA Social Capital Project\", style={'textAlign':'center'}),\n",
    "\n",
    "    dcc.Dropdown(\n",
    "        id='my-dropdown',\n",
    "        options=[{'label': s, 'value': s} for s in df.columns],\n",
    "        value=[\"% children 4+ hours on electronic device past week\",\n",
    "               \"% children read to every day past week\",\n",
    "               \"% children 4+ hours television past week\",\n",
    "               \"% women currently married\"],\n",
    "        multi=True\n",
    "    ),\n",
    "\n",
    "    dcc.Graph(id=\"my-chart\", figure={}),\n",
    "])"
   ]
  },
  {
   "cell_type": "code",
   "execution_count": 28,
   "metadata": {},
   "outputs": [
    {
     "data": {
      "text/html": [
       "\n",
       "        <iframe\n",
       "            width=\"100%\"\n",
       "            height=\"650\"\n",
       "            src=\"http://127.0.0.1:8050/\"\n",
       "            frameborder=\"0\"\n",
       "            allowfullscreen\n",
       "        ></iframe>\n",
       "        "
      ],
      "text/plain": [
       "<IPython.lib.display.IFrame at 0x18e81d8c7c0>"
      ]
     },
     "metadata": {},
     "output_type": "display_data"
    }
   ],
   "source": [
    "@app.callback(\n",
    "     Output(component_id='confirm-dialog', component_property='displayed'),\n",
    "     Output(component_id='my-chart', component_property='figure'),\n",
    "     Input(component_id='my-dropdown', component_property='value')\n",
    ")\n",
    "def update_graph(dpdn_val):\n",
    "    if len(dpdn_val) > 0:\n",
    "        fig = px.scatter_matrix(df, dimensions=dpdn_val, color='population',\n",
    "                                hover_data={'State':True, 'population':':,'})\n",
    "        fig.update_traces(diagonal_visible=False, showupperhalf=True, showlowerhalf=True)\n",
    "        fig.update_layout(yaxis1={'title':{'font':{'size':3}}}, yaxis2={'title':{'font':{'size':3}}},\n",
    "                          yaxis3={'title':{'font':{'size':3}}}, yaxis4={'title':{'font':{'size':3}}},\n",
    "                          yaxis5={'title':{'font':{'size':3}}}, yaxis6={'title':{'font':{'size':3}}},\n",
    "                          yaxis7={'title':{'font':{'size':3}}}, yaxis8={'title':{'font':{'size':3}}}\n",
    "                          )\n",
    "        fig.update_layout(xaxis1={'title':{'font':{'size':3}}}, xaxis2={'title':{'font':{'size':3}}},\n",
    "                          xaxis3={'title':{'font':{'size':3}}}, xaxis4={'title':{'font':{'size':3}}},\n",
    "                          xaxis5={'title':{'font':{'size':3}}}, xaxis6={'title':{'font':{'size':3}}},\n",
    "                          xaxis7={'title':{'font':{'size':3}}}, xaxis8={'title':{'font':{'size':3}}}\n",
    "                          )\n",
    "        return False, fig\n",
    "\n",
    "    if len(dpdn_val)==0:\n",
    "        return True, no_update\n",
    "    \n",
    "app.run_server(mode='inline')"
   ]
  },
  {
   "cell_type": "code",
   "execution_count": null,
   "metadata": {},
   "outputs": [],
   "source": []
  }
 ],
 "metadata": {
  "kernelspec": {
   "display_name": "Python 3",
   "language": "python",
   "name": "python3"
  },
  "language_info": {
   "codemirror_mode": {
    "name": "ipython",
    "version": 3
   },
   "file_extension": ".py",
   "mimetype": "text/x-python",
   "name": "python",
   "nbconvert_exporter": "python",
   "pygments_lexer": "ipython3",
   "version": "3.8.3"
  }
 },
 "nbformat": 4,
 "nbformat_minor": 4
}
