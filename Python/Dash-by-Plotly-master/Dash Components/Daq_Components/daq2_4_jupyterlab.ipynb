{
 "cells": [
  {
   "cell_type": "code",
   "execution_count": 1,
   "metadata": {},
   "outputs": [],
   "source": [
    "from jupyter_dash import JupyterDash\n",
    "from dash.dependencies import Input, Output\n",
    "import dash_html_components as html\n",
    "import dash_daq as daq\n",
    "\n",
    "\n",
    "external_stylesheets = [\"https://codepen.io/chriddyp/pen/bWLwgP.css\"]\n",
    "app = JupyterDash(__name__, external_stylesheets=external_stylesheets)\n"
   ]
  },
  {
   "cell_type": "code",
   "execution_count": 2,
   "metadata": {},
   "outputs": [],
   "source": [
    "app.layout = html.Div(\n",
    "    [\n",
    "        html.Div(\n",
    "            [\n",
    "                html.H1(\"Room Temperature\"),\n",
    "                html.Div(\n",
    "                    daq.Knob(\n",
    "                        id=\"my-knob\",\n",
    "                        label=\"Set Temperature\",\n",
    "                        min=30,\n",
    "                        max=100,\n",
    "                        value=40,\n",
    "                        scale={\"start\": 40, \"labelInterval\": 10, \"interval\": 10},\n",
    "                        color={\n",
    "                            \"gradient\": True,\n",
    "                            \"ranges\": {\"blue\": [30, 75], \"red\": [75, 100]},\n",
    "                        },\n",
    "                    ),\n",
    "                    className=\"two columns\",\n",
    "                ),\n",
    "                html.Div(\n",
    "                    daq.Thermometer(id=\"my-thermometer\", min=30, max=99, value=40),\n",
    "                    className=\"three columns\",\n",
    "                ),\n",
    "            ],\n",
    "            className=\"row\",\n",
    "        ),\n",
    "        html.Div(\n",
    "            [\n",
    "                html.Div(\n",
    "                    daq.LEDDisplay(id=\"my-leddisplay\", value=\"40\", color=\"#39FF14\"),\n",
    "                    className=\"four columns\",\n",
    "                ),\n",
    "                html.Div(\n",
    "                    daq.ColorPicker(\n",
    "                        id=\"my-colorpicker\",\n",
    "                        label=\"Choose display color\",\n",
    "                        value={\"hex\": \"#39FF14\"},\n",
    "                    ),\n",
    "                    className=\"three columns\",\n",
    "                ),\n",
    "            ],\n",
    "            className=\"row\",\n",
    "        ),\n",
    "    ]\n",
    ")"
   ]
  },
  {
   "cell_type": "code",
   "execution_count": 3,
   "metadata": {},
   "outputs": [],
   "source": [
    "# must have Dash 1.16.0 or higher for this to work\n",
    "@app.callback(\n",
    "    Output(\"my-thermometer\", \"value\"),\n",
    "    Output(\"my-leddisplay\", \"value\"),\n",
    "    Output(\"my-leddisplay\", \"color\"),\n",
    "    Input(\"my-knob\", \"value\"),\n",
    "    Input(\"my-colorpicker\", \"value\"),\n",
    ")\n",
    "def update(knob_value, color_chosen):\n",
    "    return knob_value, knob_value, color_chosen[\"hex\"]\n",
    "\n",
    "\n",
    "app.run_server(mode='jupyterlab', port=8030)"
   ]
  },
  {
   "cell_type": "code",
   "execution_count": null,
   "metadata": {},
   "outputs": [],
   "source": []
  }
 ],
 "metadata": {
  "kernelspec": {
   "display_name": "Python 3",
   "language": "python",
   "name": "python3"
  },
  "language_info": {
   "codemirror_mode": {
    "name": "ipython",
    "version": 3
   },
   "file_extension": ".py",
   "mimetype": "text/x-python",
   "name": "python",
   "nbconvert_exporter": "python",
   "pygments_lexer": "ipython3",
   "version": "3.8.3"
  }
 },
 "nbformat": 4,
 "nbformat_minor": 4
}
