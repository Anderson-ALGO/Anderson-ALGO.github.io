{
 "cells": [
  {
   "cell_type": "markdown",
   "metadata": {},
   "source": [
    "# Mas APIS DE EQUITY"
   ]
  },
  {
   "cell_type": "markdown",
   "metadata": {},
   "source": [
    "# Ameritrade"
   ]
  },
  {
   "cell_type": "markdown",
   "metadata": {},
   "source": [
    "Para acceder a la API de TDA el broker ameritrade, hay que ingresar a https://developer.tdameritrade.com/\n",
    "    \n",
    "Y obviamente sacarse una cuenta de usuario gratuita, yo saqué la mia"
   ]
  },
  {
   "cell_type": "markdown",
   "metadata": {},
   "source": [
    "Una vez creada la cuenta tienen que crear una app para que le den una \"Consumer Key\" similar a esta:"
   ]
  },
  {
   "cell_type": "code",
   "execution_count": 4,
   "metadata": {},
   "outputs": [],
   "source": [
    "c_key = 'WKUEAMWXTPPTGLG8U3QTHW1TGEWAT214'"
   ]
  },
  {
   "cell_type": "markdown",
   "metadata": {},
   "source": [
    "Una vez obtenida la key pueden usarla para llamar a la API"
   ]
  },
  {
   "cell_type": "markdown",
   "metadata": {},
   "source": [
    "Obviamente hay que importar requests"
   ]
  },
  {
   "cell_type": "code",
   "execution_count": 5,
   "metadata": {},
   "outputs": [],
   "source": [
    "import requests"
   ]
  },
  {
   "cell_type": "markdown",
   "metadata": {},
   "source": [
    "Y ahora si probamos algún endpoint"
   ]
  },
  {
   "cell_type": "code",
   "execution_count": 6,
   "metadata": {},
   "outputs": [
    {
     "data": {
      "text/plain": [
       "{'AAPL': {'assetType': 'EQUITY',\n",
       "  'assetMainType': 'EQUITY',\n",
       "  'cusip': '037833100',\n",
       "  'symbol': 'AAPL',\n",
       "  'description': 'Apple Inc. - Common Stock',\n",
       "  'bidPrice': 114.77,\n",
       "  'bidSize': 300,\n",
       "  'bidId': 'P',\n",
       "  'askPrice': 114.78,\n",
       "  'askSize': 1200,\n",
       "  'askId': 'P',\n",
       "  'lastPrice': 114.77,\n",
       "  'lastSize': 0,\n",
       "  'lastId': 'P',\n",
       "  'openPrice': 118.33,\n",
       "  'highPrice': 118.829,\n",
       "  'lowPrice': 113.61,\n",
       "  'bidTick': ' ',\n",
       "  'closePrice': 115.355,\n",
       "  'netChange': -0.585,\n",
       "  'totalVolume': 184642039,\n",
       "  'quoteTimeInLong': 1600214399804,\n",
       "  'tradeTimeInLong': 1600214399804,\n",
       "  'mark': 115.54,\n",
       "  'exchange': 'q',\n",
       "  'exchangeName': 'NASD',\n",
       "  'marginable': True,\n",
       "  'shortable': True,\n",
       "  'volatility': 0.0157,\n",
       "  'digits': 4,\n",
       "  '52WkHigh': 137.98,\n",
       "  '52WkLow': 53.1525,\n",
       "  'nAV': 0.0,\n",
       "  'peRatio': 34.0497,\n",
       "  'divAmount': 0.82,\n",
       "  'divYield': 0.71,\n",
       "  'divDate': '2020-08-07 00:00:00.000',\n",
       "  'securityStatus': 'Normal',\n",
       "  'regularMarketLastPrice': 115.54,\n",
       "  'regularMarketLastSize': 49773,\n",
       "  'regularMarketNetChange': 0.185,\n",
       "  'regularMarketTradeTimeInLong': 1600200000459,\n",
       "  'netPercentChangeInDouble': -0.5071,\n",
       "  'markChangeInDouble': 0.185,\n",
       "  'markPercentChangeInDouble': 0.1604,\n",
       "  'regularMarketPercentChangeInDouble': 0.1604,\n",
       "  'delayed': True}}"
      ]
     },
     "execution_count": 6,
     "metadata": {},
     "output_type": "execute_result"
    }
   ],
   "source": [
    "def getQuote(symbol):\n",
    "    endpoint = 'https://api.tdameritrade.com/v1/marketdata/'+symbol+'/quotes?'\n",
    "    r = requests.get(url=endpoint ,params={'apikey' : c_key})\n",
    "    return r.json()\n",
    "\n",
    "getQuote('AAPL')"
   ]
  },
  {
   "cell_type": "markdown",
   "metadata": {},
   "source": [
    "### Precios históricos"
   ]
  },
  {
   "cell_type": "markdown",
   "metadata": {},
   "source": [
    "* Periodos válidos para cada periodType (los del * son los default)\n",
    "    * day: 1, 2, 3, 4, 5, 10*\n",
    "    * month: 1*, 2, 3, 6\n",
    "    * year: 1*, 2, 3, 5, 10, 15, 20\n",
    "    * ytd: 1*\n",
    "\n",
    "* FrequencyType válidos para cada periodType (los del * son los default)\n",
    "    * day: minute*\n",
    "    * month: daily, weekly*\n",
    "    * year: daily, weekly, monthly*\n",
    "    * ytd: daily, weekly*\n",
    "    \n",
    "* Frequency válidos para cada FrequencyType (los del * son los default)\n",
    "    * minute: 1*, 5, 10, 15, 30\n",
    "    * daily: 1*\n",
    "    * weekly: 1*\n",
    "    * monthly: 1*"
   ]
  },
  {
   "cell_type": "markdown",
   "metadata": {},
   "source": [
    "Otros parámetros posibles:\n",
    "    * startDate: timestamp milisegundos desde epoch\n",
    "    * endDate: timestamp milisegundos desde epoch"
   ]
  },
  {
   "cell_type": "code",
   "execution_count": 62,
   "metadata": {},
   "outputs": [
    {
     "data": {
      "text/html": [
       "<div>\n",
       "<style scoped>\n",
       "    .dataframe tbody tr th:only-of-type {\n",
       "        vertical-align: middle;\n",
       "    }\n",
       "\n",
       "    .dataframe tbody tr th {\n",
       "        vertical-align: top;\n",
       "    }\n",
       "\n",
       "    .dataframe thead th {\n",
       "        text-align: right;\n",
       "    }\n",
       "</style>\n",
       "<table border=\"1\" class=\"dataframe\">\n",
       "  <thead>\n",
       "    <tr style=\"text-align: right;\">\n",
       "      <th></th>\n",
       "      <th>open</th>\n",
       "      <th>high</th>\n",
       "      <th>low</th>\n",
       "      <th>close</th>\n",
       "      <th>volume</th>\n",
       "      <th>datetime</th>\n",
       "      <th>fecha</th>\n",
       "    </tr>\n",
       "  </thead>\n",
       "  <tbody>\n",
       "    <tr>\n",
       "      <th>0</th>\n",
       "      <td>117.51</td>\n",
       "      <td>117.59</td>\n",
       "      <td>117.02</td>\n",
       "      <td>117.38</td>\n",
       "      <td>33987</td>\n",
       "      <td>1600167600000</td>\n",
       "      <td>2020-09-15 11:00:00</td>\n",
       "    </tr>\n",
       "    <tr>\n",
       "      <th>1</th>\n",
       "      <td>117.32</td>\n",
       "      <td>117.40</td>\n",
       "      <td>117.25</td>\n",
       "      <td>117.25</td>\n",
       "      <td>10469</td>\n",
       "      <td>1600167660000</td>\n",
       "      <td>2020-09-15 11:01:00</td>\n",
       "    </tr>\n",
       "    <tr>\n",
       "      <th>2</th>\n",
       "      <td>117.29</td>\n",
       "      <td>117.32</td>\n",
       "      <td>117.00</td>\n",
       "      <td>117.00</td>\n",
       "      <td>25836</td>\n",
       "      <td>1600167720000</td>\n",
       "      <td>2020-09-15 11:02:00</td>\n",
       "    </tr>\n",
       "    <tr>\n",
       "      <th>3</th>\n",
       "      <td>117.01</td>\n",
       "      <td>117.25</td>\n",
       "      <td>117.00</td>\n",
       "      <td>117.00</td>\n",
       "      <td>13041</td>\n",
       "      <td>1600167780000</td>\n",
       "      <td>2020-09-15 11:03:00</td>\n",
       "    </tr>\n",
       "    <tr>\n",
       "      <th>4</th>\n",
       "      <td>117.01</td>\n",
       "      <td>117.20</td>\n",
       "      <td>117.01</td>\n",
       "      <td>117.20</td>\n",
       "      <td>4252</td>\n",
       "      <td>1600167840000</td>\n",
       "      <td>2020-09-15 11:04:00</td>\n",
       "    </tr>\n",
       "    <tr>\n",
       "      <th>...</th>\n",
       "      <td>...</td>\n",
       "      <td>...</td>\n",
       "      <td>...</td>\n",
       "      <td>...</td>\n",
       "      <td>...</td>\n",
       "      <td>...</td>\n",
       "      <td>...</td>\n",
       "    </tr>\n",
       "    <tr>\n",
       "      <th>775</th>\n",
       "      <td>114.70</td>\n",
       "      <td>114.72</td>\n",
       "      <td>114.69</td>\n",
       "      <td>114.70</td>\n",
       "      <td>4258</td>\n",
       "      <td>1600214100000</td>\n",
       "      <td>2020-09-15 23:55:00</td>\n",
       "    </tr>\n",
       "    <tr>\n",
       "      <th>776</th>\n",
       "      <td>114.68</td>\n",
       "      <td>114.75</td>\n",
       "      <td>114.68</td>\n",
       "      <td>114.74</td>\n",
       "      <td>16808</td>\n",
       "      <td>1600214160000</td>\n",
       "      <td>2020-09-15 23:56:00</td>\n",
       "    </tr>\n",
       "    <tr>\n",
       "      <th>777</th>\n",
       "      <td>114.74</td>\n",
       "      <td>114.76</td>\n",
       "      <td>114.73</td>\n",
       "      <td>114.75</td>\n",
       "      <td>8262</td>\n",
       "      <td>1600214220000</td>\n",
       "      <td>2020-09-15 23:57:00</td>\n",
       "    </tr>\n",
       "    <tr>\n",
       "      <th>778</th>\n",
       "      <td>114.77</td>\n",
       "      <td>114.79</td>\n",
       "      <td>114.73</td>\n",
       "      <td>114.75</td>\n",
       "      <td>12904</td>\n",
       "      <td>1600214280000</td>\n",
       "      <td>2020-09-15 23:58:00</td>\n",
       "    </tr>\n",
       "    <tr>\n",
       "      <th>779</th>\n",
       "      <td>114.79</td>\n",
       "      <td>114.79</td>\n",
       "      <td>114.77</td>\n",
       "      <td>114.77</td>\n",
       "      <td>7560</td>\n",
       "      <td>1600214340000</td>\n",
       "      <td>2020-09-15 23:59:00</td>\n",
       "    </tr>\n",
       "  </tbody>\n",
       "</table>\n",
       "<p>780 rows × 7 columns</p>\n",
       "</div>"
      ],
      "text/plain": [
       "       open    high     low   close  volume       datetime               fecha\n",
       "0    117.51  117.59  117.02  117.38   33987  1600167600000 2020-09-15 11:00:00\n",
       "1    117.32  117.40  117.25  117.25   10469  1600167660000 2020-09-15 11:01:00\n",
       "2    117.29  117.32  117.00  117.00   25836  1600167720000 2020-09-15 11:02:00\n",
       "3    117.01  117.25  117.00  117.00   13041  1600167780000 2020-09-15 11:03:00\n",
       "4    117.01  117.20  117.01  117.20    4252  1600167840000 2020-09-15 11:04:00\n",
       "..      ...     ...     ...     ...     ...            ...                 ...\n",
       "775  114.70  114.72  114.69  114.70    4258  1600214100000 2020-09-15 23:55:00\n",
       "776  114.68  114.75  114.68  114.74   16808  1600214160000 2020-09-15 23:56:00\n",
       "777  114.74  114.76  114.73  114.75    8262  1600214220000 2020-09-15 23:57:00\n",
       "778  114.77  114.79  114.73  114.75   12904  1600214280000 2020-09-15 23:58:00\n",
       "779  114.79  114.79  114.77  114.77    7560  1600214340000 2020-09-15 23:59:00\n",
       "\n",
       "[780 rows x 7 columns]"
      ]
     },
     "execution_count": 62,
     "metadata": {},
     "output_type": "execute_result"
    }
   ],
   "source": [
    "import pandas as pd\n",
    "\n",
    "def getHist(symbol, periodT='day', period=1, freqT='minute', freq=1, na='true'):\n",
    "    \n",
    "    params = {'symbol':symbol, 'periodType':periodT, 'period':period, \n",
    "              'apikey' : c_key, 'frequencyType':freqT, 'frequency':freq ,\n",
    "              'needExtendedHoursData':na}\n",
    "    \n",
    "    url_base = 'https://api.tdameritrade.com/v1/marketdata/'\n",
    "    endpoint = url_base + symbol+'/pricehistory'\n",
    "    \n",
    "    r = requests.get(url=endpoint ,params=params)\n",
    "    try:\n",
    "        js = r.json()['candles']\n",
    "        df = pd.DataFrame(js)\n",
    "        df['fecha'] = pd.to_datetime(df.datetime, unit='ms')\n",
    "    except:\n",
    "        print('Error, ojo que tenemos una rta inesperada', r.json())\n",
    "        df = pd.DataFrame()\n",
    "        \n",
    "    return df\n",
    "\n",
    "data = getHist('AAPL', periodT='day', period=1, freqT='minute', freq=1)\n",
    "data"
   ]
  },
  {
   "cell_type": "markdown",
   "metadata": {},
   "source": [
    "Como verán en este caso usamos un try/except por si pasamos mal algun parámetro pero que ademas del mensaje de error me devuelva igual el dataFrame vacio\n",
    "\n",
    "Esto es una buena práctica ppara evitar cortes del flujo del script inesperados"
   ]
  },
  {
   "cell_type": "markdown",
   "metadata": {},
   "source": [
    "### Fundamentals"
   ]
  },
  {
   "cell_type": "code",
   "execution_count": 6,
   "metadata": {},
   "outputs": [
    {
     "data": {
      "text/plain": [
       "{'AAPL': {'fundamental': {'symbol': 'AAPL',\n",
       "   'high52': 399.82,\n",
       "   'low52': 192.58,\n",
       "   'dividendAmount': 3.28,\n",
       "   'dividendYield': 0.84,\n",
       "   'dividendDate': '2020-05-08 00:00:00.000',\n",
       "   'peRatio': 30.50251,\n",
       "   'pegRatio': 3.268477,\n",
       "   'pbRatio': 21.4526,\n",
       "   'prRatio': 6.29316,\n",
       "   'pcfRatio': 24.46643,\n",
       "   'grossMarginTTM': 38.10979,\n",
       "   'grossMarginMRQ': 38.36194,\n",
       "   'netProfitMarginTTM': 21.35039,\n",
       "   'netProfitMarginMRQ': 19.29072,\n",
       "   'operatingMarginTTM': 24.47599,\n",
       "   'operatingMarginMRQ': 22.0414,\n",
       "   'returnOnEquity': 62.09404,\n",
       "   'returnOnAssets': 17.27511,\n",
       "   'returnOnInvestment': 24.21635,\n",
       "   'quickRatio': 1.46127,\n",
       "   'currentRatio': 1.49596,\n",
       "   'interestCoverage': 0.0,\n",
       "   'totalDebtToCapital': 58.41288,\n",
       "   'ltDebtToEquity': 114.3959,\n",
       "   'totalDebtToEquity': 140.459,\n",
       "   'epsTTM': 12.756,\n",
       "   'epsChangePercentTTM': 9.33233,\n",
       "   'epsChangeYear': 3.83907,\n",
       "   'epsChange': 0.0,\n",
       "   'revChangeYear': 0.0,\n",
       "   'revChangeTTM': 3.67171,\n",
       "   'revChangeIn': 0.0,\n",
       "   'sharesOutstanding': 4334335000.0,\n",
       "   'marketCapFloat': 4331.371,\n",
       "   'marketCap': 1686446.0,\n",
       "   'bookValuePerShare': 1.38123,\n",
       "   'shortIntToFloat': 0.0,\n",
       "   'shortIntDayToCover': 0.0,\n",
       "   'divGrowthRate3Year': 0.0,\n",
       "   'dividendPayAmount': 0.82,\n",
       "   'dividendPayDate': '2020-05-14 00:00:00.000',\n",
       "   'beta': 1.18359,\n",
       "   'vol1DayAvg': 30436660.0,\n",
       "   'vol10DayAvg': 30436658.0,\n",
       "   'vol3MonthAvg': 720118400.0},\n",
       "  'cusip': '037833100',\n",
       "  'symbol': 'AAPL',\n",
       "  'description': 'Apple Inc. - Common Stock',\n",
       "  'exchange': 'NASDAQ',\n",
       "  'assetType': 'EQUITY'}}"
      ]
     },
     "execution_count": 6,
     "metadata": {},
     "output_type": "execute_result"
    }
   ],
   "source": [
    "def fundamentals(symbol, pr='fundamental'):\n",
    "    \n",
    "    params = {'apikey' : c_key, 'symbol':symbol, 'projection': pr}\n",
    "    \n",
    "    endpoint = 'https://api.tdameritrade.com/v1/instruments'\n",
    "    \n",
    "    r = requests.get(url=endpoint ,params=params)\n",
    "    return r.json()\n",
    "\n",
    "fundamentals('AAPL')"
   ]
  },
  {
   "cell_type": "markdown",
   "metadata": {},
   "source": [
    "### Cadena de Opciones"
   ]
  },
  {
   "cell_type": "markdown",
   "metadata": {},
   "source": [
    "Este es el endpoint mas jugoso de la API a mi entender ya que es un dato de mercado dificil de conseguir en  formma gratuita y fidedigna esto de las cadenas de opciones"
   ]
  },
  {
   "cell_type": "markdown",
   "metadata": {},
   "source": [
    "Les dejo la implementación en python de un llamado al endpoint de opciones sencillo que me devuelve en principio todo un json y como es muy compleja la estructura vamos trabajandola de a poco luego"
   ]
  },
  {
   "cell_type": "code",
   "execution_count": 7,
   "metadata": {},
   "outputs": [],
   "source": [
    "import requests\n",
    "\n",
    "def options(symbol):\n",
    "    \n",
    "    params = {'apikey' : c_key, 'symbol':symbol}\n",
    "    \n",
    "    endpoint = 'https://api.tdameritrade.com/v1/marketdata/chains'\n",
    "    \n",
    "    r = requests.get(url=endpoint ,params=params)\n",
    "    return r.json()\n",
    "\n",
    "chain = options('GGAL')"
   ]
  },
  {
   "cell_type": "markdown",
   "metadata": {},
   "source": [
    "Lo que me devuelve es una estructura mas o menos asi:\n",
    "\n",
    "\n",
    "{'symbol': 'GGAL',<br>\n",
    " 'status': 'SUCCESS',<br>\n",
    " 'underlying': None,<br>\n",
    " 'strategy': 'SINGLE',<br>\n",
    " 'interval': 0.0,<br>\n",
    " 'isDelayed': True,<br>\n",
    " 'isIndex': False,<br>\n",
    " 'interestRate': 0.1,<br>\n",
    " 'underlyingPrice': 11.41,<br>\n",
    " 'volatility': 29.0,<br>\n",
    " 'daysToExpiration': 0.0,<br>\n",
    " 'numberOfContracts': 120,<br>\n",
    " 'putExpDateMap': {'2020-07-17:0': {'2.5': [.. y aca todas las claves de ese strike de ese vencimiento de ese side(put)\n",
    " \n",
    " ... y asi los (en este caso 60) puts, y luego lo mismo para los 60 calls"
   ]
  },
  {
   "cell_type": "markdown",
   "metadata": {},
   "source": [
    "Como esa estructura es demasiado rebuscada para listar, calcular, graficar, etc, vamos mejor a crear listados de fechas de vencimientos y de contratos por un lado y luego vamos a ir metiendolo en un dataFrame"
   ]
  },
  {
   "cell_type": "code",
   "execution_count": 8,
   "metadata": {},
   "outputs": [
    {
     "name": "stdout",
     "output_type": "stream",
     "text": [
      "['2020-08-21:28', '2020-09-18:56', '2020-10-16:84', '2021-01-15:175', '2022-01-21:546']\n"
     ]
    }
   ],
   "source": [
    "v_calls = list(chain['callExpDateMap'].values())\n",
    "v_calls_fechas = list(chain['callExpDateMap'].keys())\n",
    "v_puts = list(chain['putExpDateMap'].values())\n",
    "v_puts_fechas = list(chain['putExpDateMap'].keys())\n",
    "\n",
    "print(v_calls_fechas)"
   ]
  },
  {
   "cell_type": "markdown",
   "metadata": {},
   "source": [
    "Bueno, como vemos ahi ya tenemos los vencimientos y los contratos, ahora resta recorrer esas listas y meter la data en un frame"
   ]
  },
  {
   "cell_type": "code",
   "execution_count": 9,
   "metadata": {},
   "outputs": [
    {
     "data": {
      "text/plain": [
       "Index(['putCall', 'symbol', 'description', 'exchangeName', 'bid', 'ask',\n",
       "       'last', 'mark', 'bidSize', 'askSize', 'bidAskSize', 'lastSize',\n",
       "       'highPrice', 'lowPrice', 'openPrice', 'closePrice', 'totalVolume',\n",
       "       'tradeDate', 'tradeTimeInLong', 'quoteTimeInLong', 'netChange',\n",
       "       'volatility', 'delta', 'gamma', 'theta', 'vega', 'rho', 'openInterest',\n",
       "       'timeValue', 'theoreticalOptionValue', 'theoreticalVolatility',\n",
       "       'optionDeliverablesList', 'strikePrice', 'expirationDate',\n",
       "       'daysToExpiration', 'expirationType', 'lastTradingDay', 'multiplier',\n",
       "       'settlementType', 'deliverableNote', 'isIndexOption', 'percentChange',\n",
       "       'markChange', 'markPercentChange', 'inTheMoney', 'nonStandard', 'mini'],\n",
       "      dtype='object')"
      ]
     },
     "execution_count": 9,
     "metadata": {},
     "output_type": "execute_result"
    }
   ],
   "source": [
    "v_calls = list(chain['callExpDateMap'].values())\n",
    "v_calls_fechas = list(chain['callExpDateMap'].keys())\n",
    "v_puts = list(chain['putExpDateMap'].values())\n",
    "v_puts_fechas = list(chain['putExpDateMap'].keys())\n",
    "\n",
    "calls = []\n",
    "for i in range(len(v_calls)):\n",
    "    v = list(v_calls[i].values())    \n",
    "    for j in range(len(v)):\n",
    "        calls.append(v[j][0])\n",
    "\n",
    "puts = []\n",
    "for i in range(len(v_puts)):\n",
    "    v = list(v_puts[i].values())    \n",
    "    for j in range(len(v)):\n",
    "        puts.append(v[j][0])\n",
    "        \n",
    "contracts = pd.concat([pd.DataFrame(calls),pd.DataFrame(puts)])\n",
    "contracts.columns"
   ]
  },
  {
   "cell_type": "markdown",
   "metadata": {},
   "source": [
    "Como la cantidad de columnas es muy grande, armamos una tabla cualquiera para mostrar mas columnas"
   ]
  },
  {
   "cell_type": "code",
   "execution_count": 30,
   "metadata": {
    "scrolled": false
   },
   "outputs": [
    {
     "data": {
      "text/html": [
       "<div>\n",
       "<style scoped>\n",
       "    .dataframe tbody tr th:only-of-type {\n",
       "        vertical-align: middle;\n",
       "    }\n",
       "\n",
       "    .dataframe tbody tr th {\n",
       "        vertical-align: top;\n",
       "    }\n",
       "\n",
       "    .dataframe thead th {\n",
       "        text-align: right;\n",
       "    }\n",
       "</style>\n",
       "<table border=\"1\" class=\"dataframe\">\n",
       "  <thead>\n",
       "    <tr style=\"text-align: right;\">\n",
       "      <th></th>\n",
       "      <th>Strike</th>\n",
       "      <th>Dias</th>\n",
       "      <th>Tipo</th>\n",
       "      <th>Bid</th>\n",
       "      <th>Ask</th>\n",
       "      <th>Ultimo</th>\n",
       "      <th>VI</th>\n",
       "      <th>OpenInt</th>\n",
       "      <th>PrimaT</th>\n",
       "    </tr>\n",
       "  </thead>\n",
       "  <tbody>\n",
       "    <tr>\n",
       "      <th>0</th>\n",
       "      <td>2.5</td>\n",
       "      <td>28</td>\n",
       "      <td>CALL</td>\n",
       "      <td>9.80</td>\n",
       "      <td>10.80</td>\n",
       "      <td>0.00</td>\n",
       "      <td>488.089</td>\n",
       "      <td>0</td>\n",
       "      <td>10.300</td>\n",
       "    </tr>\n",
       "    <tr>\n",
       "      <th>1</th>\n",
       "      <td>5.0</td>\n",
       "      <td>28</td>\n",
       "      <td>CALL</td>\n",
       "      <td>7.10</td>\n",
       "      <td>8.00</td>\n",
       "      <td>6.30</td>\n",
       "      <td>218.348</td>\n",
       "      <td>3</td>\n",
       "      <td>7.550</td>\n",
       "    </tr>\n",
       "    <tr>\n",
       "      <th>2</th>\n",
       "      <td>7.5</td>\n",
       "      <td>28</td>\n",
       "      <td>CALL</td>\n",
       "      <td>4.80</td>\n",
       "      <td>5.90</td>\n",
       "      <td>4.50</td>\n",
       "      <td>186.005</td>\n",
       "      <td>27</td>\n",
       "      <td>5.350</td>\n",
       "    </tr>\n",
       "    <tr>\n",
       "      <th>3</th>\n",
       "      <td>10.0</td>\n",
       "      <td>28</td>\n",
       "      <td>CALL</td>\n",
       "      <td>2.55</td>\n",
       "      <td>2.95</td>\n",
       "      <td>3.10</td>\n",
       "      <td>94.005</td>\n",
       "      <td>1522</td>\n",
       "      <td>2.750</td>\n",
       "    </tr>\n",
       "    <tr>\n",
       "      <th>4</th>\n",
       "      <td>12.5</td>\n",
       "      <td>28</td>\n",
       "      <td>CALL</td>\n",
       "      <td>0.95</td>\n",
       "      <td>1.05</td>\n",
       "      <td>1.05</td>\n",
       "      <td>74.890</td>\n",
       "      <td>2204</td>\n",
       "      <td>1.000</td>\n",
       "    </tr>\n",
       "    <tr>\n",
       "      <th>...</th>\n",
       "      <td>...</td>\n",
       "      <td>...</td>\n",
       "      <td>...</td>\n",
       "      <td>...</td>\n",
       "      <td>...</td>\n",
       "      <td>...</td>\n",
       "      <td>...</td>\n",
       "      <td>...</td>\n",
       "      <td>...</td>\n",
       "    </tr>\n",
       "    <tr>\n",
       "      <th>46</th>\n",
       "      <td>12.5</td>\n",
       "      <td>546</td>\n",
       "      <td>PUT</td>\n",
       "      <td>2.25</td>\n",
       "      <td>5.50</td>\n",
       "      <td>4.06</td>\n",
       "      <td>65.255</td>\n",
       "      <td>17</td>\n",
       "      <td>3.875</td>\n",
       "    </tr>\n",
       "    <tr>\n",
       "      <th>47</th>\n",
       "      <td>15.0</td>\n",
       "      <td>546</td>\n",
       "      <td>PUT</td>\n",
       "      <td>3.00</td>\n",
       "      <td>7.40</td>\n",
       "      <td>7.53</td>\n",
       "      <td>58.479</td>\n",
       "      <td>17</td>\n",
       "      <td>5.200</td>\n",
       "    </tr>\n",
       "    <tr>\n",
       "      <th>48</th>\n",
       "      <td>17.5</td>\n",
       "      <td>546</td>\n",
       "      <td>PUT</td>\n",
       "      <td>5.00</td>\n",
       "      <td>9.40</td>\n",
       "      <td>10.55</td>\n",
       "      <td>60.628</td>\n",
       "      <td>1</td>\n",
       "      <td>7.200</td>\n",
       "    </tr>\n",
       "    <tr>\n",
       "      <th>49</th>\n",
       "      <td>20.0</td>\n",
       "      <td>546</td>\n",
       "      <td>PUT</td>\n",
       "      <td>7.00</td>\n",
       "      <td>11.40</td>\n",
       "      <td>9.40</td>\n",
       "      <td>60.788</td>\n",
       "      <td>52</td>\n",
       "      <td>9.200</td>\n",
       "    </tr>\n",
       "    <tr>\n",
       "      <th>50</th>\n",
       "      <td>22.5</td>\n",
       "      <td>546</td>\n",
       "      <td>PUT</td>\n",
       "      <td>9.70</td>\n",
       "      <td>13.80</td>\n",
       "      <td>11.51</td>\n",
       "      <td>69.972</td>\n",
       "      <td>25</td>\n",
       "      <td>11.750</td>\n",
       "    </tr>\n",
       "  </tbody>\n",
       "</table>\n",
       "<p>102 rows × 9 columns</p>\n",
       "</div>"
      ],
      "text/plain": [
       "    Strike  Dias  Tipo   Bid    Ask  Ultimo       VI  OpenInt  PrimaT\n",
       "0      2.5    28  CALL  9.80  10.80    0.00  488.089        0  10.300\n",
       "1      5.0    28  CALL  7.10   8.00    6.30  218.348        3   7.550\n",
       "2      7.5    28  CALL  4.80   5.90    4.50  186.005       27   5.350\n",
       "3     10.0    28  CALL  2.55   2.95    3.10   94.005     1522   2.750\n",
       "4     12.5    28  CALL  0.95   1.05    1.05   74.890     2204   1.000\n",
       "..     ...   ...   ...   ...    ...     ...      ...      ...     ...\n",
       "46    12.5   546   PUT  2.25   5.50    4.06   65.255       17   3.875\n",
       "47    15.0   546   PUT  3.00   7.40    7.53   58.479       17   5.200\n",
       "48    17.5   546   PUT  5.00   9.40   10.55   60.628        1   7.200\n",
       "49    20.0   546   PUT  7.00  11.40    9.40   60.788       52   9.200\n",
       "50    22.5   546   PUT  9.70  13.80   11.51   69.972       25  11.750\n",
       "\n",
       "[102 rows x 9 columns]"
      ]
     },
     "execution_count": 30,
     "metadata": {},
     "output_type": "execute_result"
    }
   ],
   "source": [
    "tabla = contracts.loc[contracts.daysToExpiration>0]\n",
    "tabla = tabla.loc[:,['strikePrice','daysToExpiration','putCall','bid','ask',\n",
    "                     'last','volatility','openInterest',\n",
    "                     'theoreticalOptionValue']]\n",
    "\n",
    "tabla.columns = ['Strike','Dias','Tipo','Bid','Ask',\n",
    "                  'Ultimo','VI','OpenInt','PrimaT']\n",
    "tabla"
   ]
  },
  {
   "cell_type": "code",
   "execution_count": null,
   "metadata": {},
   "outputs": [],
   "source": []
  },
  {
   "cell_type": "code",
   "execution_count": null,
   "metadata": {},
   "outputs": [],
   "source": []
  },
  {
   "cell_type": "markdown",
   "metadata": {},
   "source": [
    "# Otras\n",
    "\n",
    "* MarketStack\n",
    "* Finnhub\n",
    "* IEX\n",
    "\n",
    "\n",
    "\n",
    "* ROFEX\n",
    "* BYMA- IOL\n",
    "* ALPACA"
   ]
  },
  {
   "cell_type": "markdown",
   "metadata": {},
   "source": [
    "# Tiingo"
   ]
  },
  {
   "cell_type": "code",
   "execution_count": null,
   "metadata": {},
   "outputs": [],
   "source": []
  },
  {
   "cell_type": "code",
   "execution_count": null,
   "metadata": {},
   "outputs": [],
   "source": []
  },
  {
   "cell_type": "code",
   "execution_count": null,
   "metadata": {},
   "outputs": [],
   "source": []
  },
  {
   "cell_type": "code",
   "execution_count": null,
   "metadata": {},
   "outputs": [],
   "source": []
  },
  {
   "cell_type": "code",
   "execution_count": null,
   "metadata": {},
   "outputs": [],
   "source": []
  }
 ],
 "metadata": {
  "kernelspec": {
   "display_name": "Python 3",
   "language": "python",
   "name": "python3"
  },
  "language_info": {
   "codemirror_mode": {
    "name": "ipython",
    "version": 3
   },
   "file_extension": ".py",
   "mimetype": "text/x-python",
   "name": "python",
   "nbconvert_exporter": "python",
   "pygments_lexer": "ipython3",
   "version": "3.7.7"
  },
  "toc": {
   "base_numbering": 1,
   "nav_menu": {},
   "number_sections": true,
   "sideBar": true,
   "skip_h1_title": false,
   "title_cell": "Table of Contents",
   "title_sidebar": "Contents",
   "toc_cell": false,
   "toc_position": {},
   "toc_section_display": true,
   "toc_window_display": false
  },
  "varInspector": {
   "cols": {
    "lenName": 16,
    "lenType": 16,
    "lenVar": 40
   },
   "kernels_config": {
    "python": {
     "delete_cmd_postfix": "",
     "delete_cmd_prefix": "del ",
     "library": "var_list.py",
     "varRefreshCmd": "print(var_dic_list())"
    },
    "r": {
     "delete_cmd_postfix": ") ",
     "delete_cmd_prefix": "rm(",
     "library": "var_list.r",
     "varRefreshCmd": "cat(var_dic_list()) "
    }
   },
   "types_to_exclude": [
    "module",
    "function",
    "builtin_function_or_method",
    "instance",
    "_Feature"
   ],
   "window_display": false
  }
 },
 "nbformat": 4,
 "nbformat_minor": 4
}
