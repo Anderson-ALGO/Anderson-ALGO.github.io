{
 "cells": [
  {
   "cell_type": "markdown",
   "metadata": {},
   "source": [
    "# MatplotLib"
   ]
  },
  {
   "cell_type": "markdown",
   "metadata": {},
   "source": [
    "Arrancamos usando las funciones que definimos el otro día.. "
   ]
  },
  {
   "cell_type": "code",
   "execution_count": null,
   "metadata": {},
   "outputs": [],
   "source": []
  },
  {
   "cell_type": "code",
   "execution_count": null,
   "metadata": {},
   "outputs": [],
   "source": [
    "import analisis_tecnico as at\n",
    "help(at)"
   ]
  },
  {
   "cell_type": "code",
   "execution_count": null,
   "metadata": {},
   "outputs": [],
   "source": []
  },
  {
   "cell_type": "code",
   "execution_count": null,
   "metadata": {},
   "outputs": [],
   "source": []
  },
  {
   "cell_type": "code",
   "execution_count": null,
   "metadata": {},
   "outputs": [],
   "source": []
  },
  {
   "cell_type": "code",
   "execution_count": null,
   "metadata": {
    "scrolled": true
   },
   "outputs": [],
   "source": [
    "import matplotlib.pyplot as plt\n",
    "\n",
    "data = at.getDataExcel('AAPL')\n",
    "plt.plot(data.AdjClose)"
   ]
  },
  {
   "cell_type": "markdown",
   "metadata": {},
   "source": [
    "### Título del gráfico"
   ]
  },
  {
   "cell_type": "markdown",
   "metadata": {},
   "source": [
    "Primer parámetro que vamos a poner aparte de los datos es el título, junto con el se pueden configurar una serie de traibutos, vamos de a poco"
   ]
  },
  {
   "cell_type": "markdown",
   "metadata": {},
   "source": [
    "Arrancamos poniéndole solo el título y un atributo como el tamaño de letra"
   ]
  },
  {
   "cell_type": "code",
   "execution_count": null,
   "metadata": {},
   "outputs": [],
   "source": [
    "data = at.getDataExcel('AAPL')\n",
    "\n",
    "plt.figure().suptitle('Gráfico de AAPL', fontsize=16)\n",
    "plt.plot(data.index, data.AdjClose)"
   ]
  },
  {
   "cell_type": "markdown",
   "metadata": {},
   "source": [
    "Bien, el resto de atributos del título pueden ser:\n",
    "<ul>\n",
    "    <li> x = posición horizontal inicial (0 todo a la izq, 1 todo a la derecha)</li>\n",
    "    <li> y = posición vertical inicial (0 es abajo de todo, 1 arriba de todo)</li>\n",
    "    <li> horizontalalignment (se puede abreviar como ha) = Valores posibles: 'center', 'left', right'</li>\n",
    "    <li> verticalalignment (se puede abreviar como va) = Valores posibles: 'center', 'left', right'</li>\n",
    "    <li> fontsize o size = Tamaño de letra</li>\n",
    "    <li> fontweight o weight = 'normal', 'bold', 'light'</li>\n",
    "    <li> alpha: Transparencia de 0 a 1</li>\n",
    "    <li> color o c: un string con el color</li>\n",
    "    <li> rotation: El angulo en grados sentido horario</li>\n",
    "    <li> backgroundcolor: Color de fondo del label</li>\n",
    "    <li> style: 'normal' , 'italic', 'oblique'</li>\n",
    "    <li> bbox: Podemos usar bbox=dict() y dentro del dict pasarle los argumentos de la caja bbox</li>\n",
    "</ul>"
   ]
  },
  {
   "cell_type": "markdown",
   "metadata": {},
   "source": [
    "Algunos ejemplos"
   ]
  },
  {
   "cell_type": "code",
   "execution_count": null,
   "metadata": {},
   "outputs": [],
   "source": [
    "data = at.getDataExcel('AAPL')\n",
    "\n",
    "plt.figure().suptitle('AAPL', y= 0.8, color='white', backgroundcolor=\"gray\")\n",
    "plt.plot(data.index, data.AdjClose)"
   ]
  },
  {
   "cell_type": "markdown",
   "metadata": {},
   "source": [
    "Ejemplo usando bbox"
   ]
  },
  {
   "cell_type": "code",
   "execution_count": null,
   "metadata": {
    "scrolled": true
   },
   "outputs": [],
   "source": [
    "data = at.getDataExcel('AAPL')\n",
    "plt.figure().suptitle('Gráfico de AAPL', size=25, color=\"white\", rotation=22, x=0.5, y=1, \n",
    "                      bbox={\"alpha\":0.5, \"color\":\"gray\"})\n",
    "\n",
    "plt.plot(data.AdjClose)"
   ]
  },
  {
   "cell_type": "code",
   "execution_count": null,
   "metadata": {},
   "outputs": [],
   "source": [
    "data = at.getDataExcel('AAPL')\n",
    "plt.figure().suptitle('Gráfico de AAPL', size=25, color=\"white\", rotation=22, backgroundcolor='red')\n",
    "plt.plot(data.AdjClose)"
   ]
  },
  {
   "cell_type": "markdown",
   "metadata": {},
   "source": [
    "### Título de los ejes"
   ]
  },
  {
   "cell_type": "markdown",
   "metadata": {},
   "source": [
    "Para los ejes usamos \"xlabel\" e \"ylabel\""
   ]
  },
  {
   "cell_type": "code",
   "execution_count": null,
   "metadata": {},
   "outputs": [],
   "source": [
    "data = at.getDataExcel('AAPL')\n",
    "\n",
    "\n",
    "plt.figure().suptitle('Serie histórica AAPL', y= 0.8, color='black')\n",
    "\n",
    "plt.xlabel('Fecha',color=\"white\", backgroundcolor=\"black\", y=0.1)\n",
    "plt.ylabel('Precio')\n",
    "plt.plot(data.AdjClose)"
   ]
  },
  {
   "cell_type": "markdown",
   "metadata": {},
   "source": [
    "### Anotaciones"
   ]
  },
  {
   "cell_type": "markdown",
   "metadata": {},
   "source": [
    "Recuerden que el salto de línea es \\n"
   ]
  },
  {
   "cell_type": "code",
   "execution_count": null,
   "metadata": {},
   "outputs": [],
   "source": [
    "import datetime as dt\n",
    "\n",
    "data = at.getDataExcel('AAPL')\n",
    "\n",
    "plt.plot(data.AdjClose)\n",
    "\n",
    "plt.text(dt.datetime(2010,1,1),40, 'Anotación 90°',backgroundcolor=\"lightgray\",rotation=90)\n",
    "plt.text(data.index[1000],150, 'Anotación \\nEn 2 renglones', fontsize=12,rotation=0)\n",
    "\n",
    "plt.text(dt.date(2014,1,1),250, 'y coso..', fontsize=12)\n",
    "\n",
    "plt.show()"
   ]
  },
  {
   "cell_type": "markdown",
   "metadata": {},
   "source": [
    "### Anotaciones con Flechas"
   ]
  },
  {
   "cell_type": "markdown",
   "metadata": {},
   "source": [
    "Si bien se pueden hacer con muchos métodos, lo mas recomendable y completo es usar annotaciones"
   ]
  },
  {
   "cell_type": "code",
   "execution_count": null,
   "metadata": {},
   "outputs": [],
   "source": [
    "import datetime as dt\n",
    "\n",
    "data = at.getDataExcel('AAPL')\n",
    "\n",
    "plt.plot(data.AdjClose)\n",
    "\n",
    "plt.annotate(\"Ej acr3\", arrowprops = dict(arrowstyle=\"<-\",connectionstyle=\"arc3\"),\n",
    "              xy=(dt.date(2010,1,1), 30), xytext=(dt.date(2006,1,1), 120))\n",
    "\n",
    "plt.annotate(\"Ej bar\", arrowprops=dict(arrowstyle=\"<-\",connectionstyle=\"bar, angle=180\"),\n",
    "              xy=(dt.date(2012,1,1), 50), xytext=(dt.date(2015,1,1), 200))\n",
    "\n",
    "plt.annotate(\"angle3\", arrowprops=dict(arrowstyle=\"<-\",connectionstyle=\"angle3\"),\n",
    "              xy=(dt.date(2020,1,1), 320), xytext=(dt.date(2001,1,1), 50))\n",
    "\n",
    "plt.show()"
   ]
  },
  {
   "cell_type": "markdown",
   "metadata": {},
   "source": [
    "### Gráfico parcial de una serie"
   ]
  },
  {
   "cell_type": "code",
   "execution_count": null,
   "metadata": {
    "scrolled": true
   },
   "outputs": [],
   "source": [
    "data = at.getDataExcel('AAPL')\n",
    "plt.plot(data.AdjClose.loc[data.index > \"2019-01-01\"])"
   ]
  },
  {
   "cell_type": "markdown",
   "metadata": {},
   "source": [
    "### Seteo del tamaño del gráfico"
   ]
  },
  {
   "cell_type": "code",
   "execution_count": null,
   "metadata": {},
   "outputs": [],
   "source": [
    "data = at.getDataExcel('AAPL')\n",
    "\n",
    "precios2018 = data.AdjClose.loc[(data.index>='2018') & (data.index<'2019')]\n",
    "\n",
    "plt.figure(figsize=(10,3))\n",
    "plt.plot(precios2018)"
   ]
  },
  {
   "cell_type": "markdown",
   "metadata": {},
   "source": [
    "### Seteamos Color y grosor de línea"
   ]
  },
  {
   "cell_type": "markdown",
   "metadata": {},
   "source": [
    "Al definir el plot le pasamos el color y el ancho"
   ]
  },
  {
   "cell_type": "code",
   "execution_count": null,
   "metadata": {},
   "outputs": [],
   "source": [
    "data = at.getDataExcel('AAPL')\n",
    "precios2018 = data.AdjClose.loc[(data.index>='2018') & (data.index<'2019')]\n",
    "\n",
    "plt.figure(figsize=(10,3))\n",
    "plt.plot(precios2018, color='red', lw=3, ls='--')\n",
    "plt.xlabel('Fechas')\n",
    "plt.ylabel('Precios')\n",
    "\n",
    "plt.show()"
   ]
  },
  {
   "cell_type": "markdown",
   "metadata": {},
   "source": [
    "### Seteamos estilo y transparencia"
   ]
  },
  {
   "cell_type": "markdown",
   "metadata": {},
   "source": [
    "Tambíen le podemos definir el estilo y la transparencia (alpha)"
   ]
  },
  {
   "cell_type": "code",
   "execution_count": null,
   "metadata": {},
   "outputs": [],
   "source": [
    "data = at.getDataExcel('AAPL')\n",
    "precios2018 = data.AdjClose.loc[(data.index>='2018') & (data.index<'2019')]\n",
    "\n",
    "plt.figure(figsize=(10,3))\n",
    "\n",
    "plt.plot(precios2018, linestyle='dashed',alpha=0.6)\n",
    "plt.xlabel('Fechas')\n",
    "plt.ylabel('Precios')\n",
    "\n",
    "plt.show()"
   ]
  },
  {
   "cell_type": "markdown",
   "metadata": {},
   "source": [
    "### Cambiamos escala de los ejes"
   ]
  },
  {
   "cell_type": "markdown",
   "metadata": {},
   "source": [
    "Supongamos que ahora quiera cambiar la escala del eje Y"
   ]
  },
  {
   "cell_type": "code",
   "execution_count": null,
   "metadata": {},
   "outputs": [],
   "source": [
    "data = at.getDataExcel('AAPL')\n",
    "precios2018 = data.AdjClose.loc[(data.index>='2018') & (data.index<'2019')]\n",
    "\n",
    "plt.figure(figsize=(10,3))\n",
    "plt.plot(precios2018)\n",
    "\n",
    "#capturo los ejes en la variable \"axes\" para cambiar sus propiedades:\n",
    "axes = plt.gca()\n",
    "\n",
    "#definimos el minimo y maximo un 10% debajo y encima de los limites de la serie\n",
    "ymin = precios2018.min() * 0.6\n",
    "ymax = precios2018.max() * 1.4\n",
    "axes.set_ylim([ymin,ymax])\n",
    "plt.show()"
   ]
  },
  {
   "cell_type": "code",
   "execution_count": null,
   "metadata": {},
   "outputs": [],
   "source": []
  },
  {
   "cell_type": "code",
   "execution_count": null,
   "metadata": {},
   "outputs": [],
   "source": []
  },
  {
   "cell_type": "code",
   "execution_count": null,
   "metadata": {},
   "outputs": [],
   "source": []
  },
  {
   "cell_type": "code",
   "execution_count": null,
   "metadata": {},
   "outputs": [],
   "source": []
  },
  {
   "cell_type": "markdown",
   "metadata": {},
   "source": [
    "### Pintamos el área bajo la curva"
   ]
  },
  {
   "cell_type": "markdown",
   "metadata": {},
   "source": [
    "### --- Veamos bien con esto lo de los argumentos posicionales y opcionales o nominados ---"
   ]
  },
  {
   "cell_type": "code",
   "execution_count": null,
   "metadata": {},
   "outputs": [],
   "source": []
  },
  {
   "cell_type": "code",
   "execution_count": null,
   "metadata": {},
   "outputs": [],
   "source": []
  },
  {
   "cell_type": "code",
   "execution_count": null,
   "metadata": {},
   "outputs": [],
   "source": []
  },
  {
   "cell_type": "code",
   "execution_count": null,
   "metadata": {},
   "outputs": [],
   "source": []
  },
  {
   "cell_type": "markdown",
   "metadata": {},
   "source": [
    "Para \"pintar\" el área debajo de la curva, solo agregamos la instruccion fill_between"
   ]
  },
  {
   "cell_type": "code",
   "execution_count": null,
   "metadata": {},
   "outputs": [],
   "source": [
    "data = at.getDataExcel('AAPL')\n",
    "precios2018 = data.AdjClose.loc[(data.index>='2018') & (data.index<'2019')]\n",
    "\n",
    "plt.figure(figsize=(10,3))\n",
    "plt.plot(precios2018)\n",
    "\n",
    "axes = plt.gca()\n",
    "axes.set_ylim([precios2018.min(),precios2018.max()])\n",
    "plt.fill_between(precios2018.index, precios2018, alpha=0.1)"
   ]
  },
  {
   "cell_type": "markdown",
   "metadata": {},
   "source": [
    "También podemos pintar solo \"una franja\" añadiendo la condición WHERE a los parámetros de fill_between"
   ]
  },
  {
   "cell_type": "code",
   "execution_count": null,
   "metadata": {},
   "outputs": [],
   "source": [
    "data = at.getDataExcel('AAPL')\n",
    "precios2018 = data.AdjClose.loc[(data.index>='2018') & (data.index<'2019')]\n",
    "\n",
    "plt.figure(figsize=(10,3))\n",
    "plt.plot(precios2018)\n",
    "\n",
    "axes = plt.gca()\n",
    "axes.set_ylim([precios2018.min(),precios2018.max()])\n",
    "\n",
    "condicion = (precios2018.index>\"2018-06-01\") & (precios2018.index<\"2018-09-01\")\n",
    "\n",
    "plt.fill_between(precios2018.index, precios2018, where=condicion, alpha=0.1)"
   ]
  },
  {
   "cell_type": "markdown",
   "metadata": {},
   "source": [
    "Si el mismo gráfico anterior lo quisiéramos \"pintar\" no solo debajjo de la curva sino hasta el \"techo\" del graf podemos hacer lo siguiente: Poner desde el eje X (piso) hasta el max() de la serie (techo), quedaría asi:"
   ]
  },
  {
   "cell_type": "code",
   "execution_count": null,
   "metadata": {},
   "outputs": [],
   "source": [
    "data = at.getDataExcel('AAPL')\n",
    "precios2018 = data.AdjClose.loc[(data.index>='2018') & (data.index<'2019')]\n",
    "\n",
    "plt.figure(figsize=(10,3))\n",
    "plt.plot(precios2018)\n",
    "\n",
    "axes = plt.gca()\n",
    "axes.set_ylim([precios2018.min(),precios2018.max()])\n",
    "\n",
    "condicion = (precios2018.index>\"2018-06-01\") & (precios2018.index<\"2018-09-01\")\n",
    "plt.fill_between(precios2018.index, precios2018.max(), where=condicion, alpha=0.1)"
   ]
  },
  {
   "cell_type": "markdown",
   "metadata": {},
   "source": [
    "O bien podemos pintar entre la curva y una línea base, por ejemplo la media de todos los valores de la serie para visualizar rápidamente cuáles valores están por encima o por debajo de la media"
   ]
  },
  {
   "cell_type": "code",
   "execution_count": null,
   "metadata": {
    "scrolled": true
   },
   "outputs": [],
   "source": [
    "data = at.getDataExcel('AAPL')\n",
    "precios2018 = data.AdjClose.loc[(data.index>='2018') & (data.index<'2019')]\n",
    "\n",
    "plt.figure(figsize=(10,3))\n",
    "plt.plot(precios2018.index, precios2018)\n",
    "\n",
    "plt.fill_between(precios2018.index, precios2018, precios2018.mean(), alpha=0.1)"
   ]
  },
  {
   "cell_type": "markdown",
   "metadata": {},
   "source": [
    "Asimismo podemos pintar con determinadas condiciones de colores o transparencias diferentes diferentes zonas\n",
    "<br>En el ejemplo siguiente les muestor como pintar un mismo gráfico de diferentes colores cuando se encuentra por encima o por debajo de un determinado valor (por ejemplo su media)"
   ]
  },
  {
   "cell_type": "code",
   "execution_count": null,
   "metadata": {},
   "outputs": [],
   "source": [
    "data = at.getDataExcel('AAPL')\n",
    "precios2018 = data.AdjClose.loc[(data.index>='2018') & (data.index<'2019')]\n",
    "\n",
    "plt.figure(figsize=(10,3))\n",
    "fechas = precios2018.index\n",
    "media = precios2018.mean()\n",
    "\n",
    "cp = (precios2018 >= media)\n",
    "cn = (precios2018 < media)\n",
    "\n",
    "plt.fill_between(fechas, precios2018, media, where=cp, color=\"lightgray\")\n",
    "plt.fill_between(fechas, precios2018, media, where=cn, color=\"black\")"
   ]
  },
  {
   "cell_type": "markdown",
   "metadata": {},
   "source": [
    "También podemos usar la misma función para pintar \"una nube\""
   ]
  },
  {
   "cell_type": "code",
   "execution_count": null,
   "metadata": {},
   "outputs": [],
   "source": [
    "data = at.getDataExcel('AAPL')\n",
    "precios2018 = data.AdjClose.loc[(data.index>='2018') & (data.index<'2019')]\n",
    "\n",
    "bandaSup = precios2018 * 1.05\n",
    "bandaInf = precios2018 * 0.95\n",
    "\n",
    "plt.figure(figsize=(10,3))\n",
    "plt.fill_between(precios2018.index, bandaInf, bandaSup, alpha=0.2)"
   ]
  },
  {
   "cell_type": "markdown",
   "metadata": {},
   "source": [
    "### Grillas"
   ]
  },
  {
   "cell_type": "markdown",
   "metadata": {},
   "source": [
    "En el atributo \"axis\" le puedo decir, tanto para la grilla principal como para la secundaria, si quiero que sea para el eje x, el eje Y o ambos\n",
    "<br><br>Y después tengo la misma serie de atributos que para las líneas, repasemos los atributos de las grillas entonces:\n",
    "<ol>\n",
    "    <li>which: major/minor</li>\n",
    "    <li>axis: x, y, both</li>\n",
    "    <li>color: nombre del color o abreviacion</li>\n",
    "    <li>linewidth o lw: el ancho de la linea</li>\n",
    "    <li>linestyle o ls: el tipo de linea - para continuo, . para punteado, -. para linea/punto, etc</li>\n",
    "    <li>alpha: transparencia</li>\n",
    "</ol>"
   ]
  },
  {
   "cell_type": "code",
   "execution_count": null,
   "metadata": {},
   "outputs": [],
   "source": [
    "data = at.getDataExcel('AAPL')\n",
    "precios2018 = data.AdjClose.loc[(data.index>='2018') & (data.index<'2019')]\n",
    "\n",
    "plt.figure(figsize=(10,3))\n",
    "plt.plot(precios2018)\n",
    "\n",
    "# El parametro \"lw\" es lo mismo que \"linewidth\"\n",
    "plt.grid(which='major', axis='y', color='black', lw=1, alpha=0.4)\n",
    "\n",
    "# Habilitamos primero la grilla secundaria\n",
    "plt.minorticks_on()\n",
    "plt.grid(which='minor', axis='both', color='black', alpha=0.15)\n",
    "\n",
    "plt.show()"
   ]
  },
  {
   "cell_type": "markdown",
   "metadata": {},
   "source": [
    "### Atributo zorder()"
   ]
  },
  {
   "cell_type": "code",
   "execution_count": null,
   "metadata": {},
   "outputs": [],
   "source": [
    "data = at.getDataExcel('AAPL')\n",
    "precios2018 = data.AdjClose.loc[(data.index>='2018') & (data.index<'2019')]\n",
    "\n",
    "plt.figure(figsize=(10,3))\n",
    "plt.plot(precios2018, zorder=0)\n",
    "\n",
    "# El parametro \"lw\" es lo mismo que \"linewidth\"\n",
    "plt.grid(which='major', axis='x', color='lightgray', lw=20, alpha=0.9, zorder=10)\n",
    "\n",
    "# Habilitamos primero la grilla secundaria\n",
    "plt.minorticks_on()\n",
    "plt.grid(which='minor', axis='both', color='black', alpha=0.15)\n",
    "\n",
    "plt.show()"
   ]
  },
  {
   "cell_type": "markdown",
   "metadata": {},
   "source": [
    "### Ocultar los bordes del gráfico"
   ]
  },
  {
   "cell_type": "code",
   "execution_count": null,
   "metadata": {},
   "outputs": [],
   "source": [
    "data = at.getDataExcel('AAPL')\n",
    "precios2018 = data.AdjClose.loc[(data.index>='2018') & (data.index<'2019')]\n",
    "\n",
    "plt.figure(figsize=(10,3))\n",
    "plt.plot(precios2018, zorder=1)\n",
    "\n",
    "ax = plt.gca()\n",
    "ax.spines['right'].set_visible(False)\n",
    "ax.spines['top'].set_visible(False)\n",
    "\n",
    "plt.show()"
   ]
  },
  {
   "cell_type": "markdown",
   "metadata": {},
   "source": [
    "También puedo directamente sacar todo el recuadro de los 4 bordes en una sola instrucción, con el atributo \"frameon\" configurándolo en False"
   ]
  },
  {
   "cell_type": "code",
   "execution_count": null,
   "metadata": {},
   "outputs": [],
   "source": [
    "data = at.getDataExcel('AAPL')\n",
    "precios2018 = data.AdjClose.loc[(data.index>='2018') & (data.index<'2019')]\n",
    "\n",
    "plt.figure(figsize=(10,3))\n",
    "\n",
    "plt.axes(frameon=False)\n",
    "\n",
    "plt.plot(precios2018)\n",
    "\n",
    "plt.show()"
   ]
  },
  {
   "cell_type": "markdown",
   "metadata": {},
   "source": [
    "### Poner el Eje Y sobre la derecha"
   ]
  },
  {
   "cell_type": "code",
   "execution_count": null,
   "metadata": {},
   "outputs": [],
   "source": [
    "data = at.getDataExcel('AAPL')\n",
    "precios2018 = data.AdjClose.loc[(data.index>='2018') & (data.index<'2019')]\n",
    "\n",
    "plt.figure(figsize=(10,3))\n",
    "plt.plot(precios2018)\n",
    "\n",
    "ax = plt.gca()\n",
    "ax.spines['left'].set_visible(False)\n",
    "ax.spines['top'].set_visible(False)\n",
    "\n",
    "ax.yaxis.tick_right()\n",
    "plt.show()"
   ]
  },
  {
   "cell_type": "code",
   "execution_count": null,
   "metadata": {},
   "outputs": [],
   "source": []
  },
  {
   "cell_type": "code",
   "execution_count": null,
   "metadata": {},
   "outputs": [],
   "source": []
  },
  {
   "cell_type": "markdown",
   "metadata": {},
   "source": [
    "### Superposición de Series"
   ]
  },
  {
   "cell_type": "markdown",
   "metadata": {},
   "source": [
    "Empecemos por un ejemplo bien sencillo, una serie de datos y una media movil"
   ]
  },
  {
   "cell_type": "code",
   "execution_count": null,
   "metadata": {},
   "outputs": [],
   "source": [
    "import pandas as pd\n",
    "data = at.getDataExcel('AAPL')\n",
    "\n",
    "# Calculamos un indicador\n",
    "data['SMA30'] = data.AdjClose.rolling(30).mean()\n",
    "\n",
    "# Filtramos la data para graficar una parte\n",
    "data = data.loc[data.index>\"2019\"]\n",
    "\n",
    "# Graficamos\n",
    "plt.figure(figsize=(12,5))\n",
    "f1 = plt.plot(data.AdjClose, c=\"k\", ls=\"-\", lw=1.5)\n",
    "f2 = plt.plot(data.SMA30, c=\"k\", ls=\"solid\", lw=0.5)\n",
    "\n",
    "\n",
    "plt.legend([\"Precio\",\"SMA 30\"], loc='lower right')\n",
    "\n",
    "plt.show()"
   ]
  },
  {
   "cell_type": "code",
   "execution_count": null,
   "metadata": {},
   "outputs": [],
   "source": [
    "import pandas as pd\n",
    "data = at.getDataExcel('AAPL')\n",
    "\n",
    "# Calculamos un indicador\n",
    "data['SMA30'] = data.AdjClose.rolling(30).mean()\n",
    "\n",
    "# Filtramos la data para graficar una parte\n",
    "data = data.loc[data.index>\"2019\"]\n",
    "\n",
    "# Graficamos\n",
    "\n",
    "fig, ax = plt.subplots(figsize=(12,5))\n",
    "\n",
    "ax.plot(data.AdjClose, c=\"k\", ls=\"-\", lw=1.5, label='Precio')\n",
    "ax.plot(data.SMA30, c=\"k\", ls=\"solid\", lw=0.5, label='Media Movil')\n",
    "ax.legend()\n",
    "\n",
    "plt.show()"
   ]
  },
  {
   "cell_type": "markdown",
   "metadata": {},
   "source": [
    "### Agregado de Indicadores"
   ]
  },
  {
   "cell_type": "markdown",
   "metadata": {},
   "source": [
    "Ahora vamos a adjuntarle a este gráfico unos marcadores básicos, cuando el precio corte para arriba a la media movil le vamos a poner un marcador verde tipo flecha hacia arriba y cuando corte para abajo a la media le ponemos un marcador flecha abajo de color rojo"
   ]
  },
  {
   "cell_type": "code",
   "execution_count": null,
   "metadata": {},
   "outputs": [],
   "source": [
    "#Arrancamos igual que antes:\n",
    "data = at.getDataExcel('AAPL')\n",
    "\n",
    "data['SMA'] = data.AdjClose.rolling(50).mean()\n",
    "data = data.loc[data.index>\"2019\"]\n",
    "\n",
    "# Armamos la señal a graficar\n",
    "data['CrucePos'] = (data.AdjClose > data.SMA) & (data.AdjClose.shift() < data.SMA.shift())\n",
    "dataPos = (data.AdjClose*0.95).loc[data.CrucePos==True]\n",
    "\n",
    "\n",
    "data['CruceNeg'] = (data.AdjClose < data.SMA) & (data.AdjClose.shift() > data.SMA.shift())\n",
    "dataNeg = (data.AdjClose*1.095).loc[data.CruceNeg==True]\n",
    "\n",
    "# Graficamos\n",
    "plt.figure(figsize=(12,5))\n",
    "f1 = plt.plot(data.AdjClose, c=\"k\", ls=\"-\", lw=1.5)\n",
    "f2 = plt.plot(data.SMA, c=\"k\", ls=\"solid\", lw=0.5)\n",
    "\n",
    "\n",
    "plt.legend([\"Precio\",\"SMA 30\"], loc='lower right', fontsize=14)\n",
    "plt.plot(dataPos.index, dataPos, \"^\", markersize=10, c='g')\n",
    "plt.plot(dataNeg.index, dataNeg, \"v\", markersize=10, c='r', alpha=0.5)\n"
   ]
  },
  {
   "cell_type": "code",
   "execution_count": null,
   "metadata": {},
   "outputs": [],
   "source": [
    "dataPos"
   ]
  },
  {
   "cell_type": "code",
   "execution_count": null,
   "metadata": {},
   "outputs": [],
   "source": [
    "dataNeg"
   ]
  },
  {
   "cell_type": "markdown",
   "metadata": {},
   "source": [
    "### Agregado de Líneas"
   ]
  },
  {
   "cell_type": "markdown",
   "metadata": {},
   "source": [
    "Vamos a seguir con el ejemplito del cruce del precio sobre una media movil"
   ]
  },
  {
   "cell_type": "markdown",
   "metadata": {},
   "source": [
    "En el siguiente código calculamos los mismos datos pero lo graficamos diferente, es decir, en lugar de agregarle anotaciones le agregamos una linea vertical verde cuando se de el cruce positivo y una linea vertical roja y punteada cuando pasa lo contrario"
   ]
  },
  {
   "cell_type": "code",
   "execution_count": null,
   "metadata": {},
   "outputs": [],
   "source": [
    "#Arrancamos igual que antes:\n",
    "data = at.getDataExcel('AAPL')\n",
    "\n",
    "data['SMA'] = data.AdjClose.rolling(50).mean()\n",
    "data = data.loc[data.index>\"2019\"]\n",
    "\n",
    "# Armamos la señal a graficar\n",
    "data['CrucePos'] = (data.AdjClose > data.SMA) & (data.AdjClose.shift() < data.SMA.shift())\n",
    "data['mPos'] = (data.AdjClose*0.95).loc[data.CrucePos==True]\n",
    "data['CruceNeg'] = (data.AdjClose < data.SMA) & (data.AdjClose.shift() > data.SMA.shift())\n",
    "data['mNeg'] = (data.AdjClose*1.095).loc[data.CruceNeg==True]\n",
    "\n",
    "# Graficamos\n",
    "plt.figure(figsize=(12,5))\n",
    "f1 = plt.plot(data.AdjClose, c=\"k\", ls=\"-\", lw=1.5)\n",
    "f2 = plt.plot(data.SMA, c=\"k\", ls=\"solid\", lw=0.5)\n",
    "plt.legend([\"Precio\",\"SMA 30\"], loc='lower right', fontsize=14)\n",
    "plt.plot(data.index,data.mPos, c='g')\n",
    "plt.plot(data.index,data.mNeg, c='r')\n",
    "\n",
    "for idx, row in data.iterrows():\n",
    "    if row.CrucePos==True:\n",
    "        plt.axvline(x=idx, c='green', lw=1)\n",
    "    if row.CruceNeg:\n",
    "        plt.axvline(x=idx, ymin=0, c='red', ls=\"--\", lw=1)"
   ]
  },
  {
   "cell_type": "code",
   "execution_count": null,
   "metadata": {},
   "outputs": [],
   "source": []
  },
  {
   "cell_type": "code",
   "execution_count": null,
   "metadata": {},
   "outputs": [],
   "source": []
  },
  {
   "cell_type": "code",
   "execution_count": null,
   "metadata": {},
   "outputs": [],
   "source": []
  }
 ],
 "metadata": {
  "kernelspec": {
   "display_name": "Python 3",
   "language": "python",
   "name": "python3"
  },
  "language_info": {
   "codemirror_mode": {
    "name": "ipython",
    "version": 3
   },
   "file_extension": ".py",
   "mimetype": "text/x-python",
   "name": "python",
   "nbconvert_exporter": "python",
   "pygments_lexer": "ipython3",
   "version": "3.7.7"
  },
  "toc": {
   "base_numbering": 1,
   "nav_menu": {},
   "number_sections": true,
   "sideBar": true,
   "skip_h1_title": false,
   "title_cell": "Table of Contents",
   "title_sidebar": "Contents",
   "toc_cell": false,
   "toc_position": {},
   "toc_section_display": true,
   "toc_window_display": false
  },
  "varInspector": {
   "cols": {
    "lenName": 16,
    "lenType": 16,
    "lenVar": 40
   },
   "kernels_config": {
    "python": {
     "delete_cmd_postfix": "",
     "delete_cmd_prefix": "del ",
     "library": "var_list.py",
     "varRefreshCmd": "print(var_dic_list())"
    },
    "r": {
     "delete_cmd_postfix": ") ",
     "delete_cmd_prefix": "rm(",
     "library": "var_list.r",
     "varRefreshCmd": "cat(var_dic_list()) "
    }
   },
   "types_to_exclude": [
    "module",
    "function",
    "builtin_function_or_method",
    "instance",
    "_Feature"
   ],
   "window_display": false
  }
 },
 "nbformat": 4,
 "nbformat_minor": 4
}
