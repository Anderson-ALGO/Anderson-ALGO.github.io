{
 "cells": [
  {
   "cell_type": "markdown",
   "metadata": {},
   "source": []
  },
  {
   "cell_type": "markdown",
   "metadata": {},
   "source": [
    "Para esta guia es importante ver el notebook y el video de clases, los ejercicios son extraidos de ahi\n",
    "se reciere el modulo analisis tecnico que esta en drive del curso \n",
    "si llegaran a tener inconvenientes para cargar el archivo utilizar la siguiente definicion del metodo (en la siguiente celda).\n",
    "\n",
    "\n",
    "Visitar y revisar esta pagina.\n",
    "https://matplotlib.org/3.1.0/api/_as_gen/matplotlib.pyplot.figure.html"
   ]
  },
  {
   "cell_type": "code",
   "execution_count": null,
   "metadata": {},
   "outputs": [],
   "source": []
  },
  {
   "cell_type": "code",
   "execution_count": null,
   "metadata": {},
   "outputs": [],
   "source": []
  },
  {
   "cell_type": "code",
   "execution_count": 3,
   "metadata": {},
   "outputs": [],
   "source": [
    "def getDataExcel(ticker):\n",
    "    '''\n",
    "    Busca excel de datos y devuelve DF las columnas: 'Open','High','Low','Close','AdjClose','Volume' y 'pctChange'\n",
    "    |    \n",
    "    |_ ticker:  El ticker a buscar\n",
    "    '''\n",
    "    import pandas as pd\n",
    "    try:\n",
    "        data = pd.read_excel('excels_csvs/'+ticker+'.xlsx').set_index('timestamp').sort_index()\n",
    "        data.columns = ['Open','High','Low','Close','AdjClose','Volume']\n",
    "        data['pctChange'] = data.AdjClose.pct_change()\n",
    "    except:\n",
    "        try:\n",
    "            data = pd.read_excel('excels_csvs/ADRs/'+ticker+'.xlsx').set_index('timestamp').sort_index()\n",
    "            data.columns = ['Open','High','Low','Close','AdjClose','Volume']\n",
    "            data['pctChange'] = data.AdjClose.pct_change()\n",
    "        except:\n",
    "            data = 'No encontre el archivo'\n",
    "    return data\n"
   ]
  },
  {
   "cell_type": "markdown",
   "metadata": {},
   "source": [
    "#### Ejercicio 1)\n",
    "    -Escribir y ejecutar plt.plot(data.AdjClose) sobre un data obtenido por medio del getDataExcel\n",
    "    ¿Que clase de grafico es?\n",
    "    -Hacer lo mismo con el open en otro grafico\n",
    "    -Agregarle como titulo el ticker cuyo valor muestra."
   ]
  },
  {
   "cell_type": "code",
   "execution_count": null,
   "metadata": {},
   "outputs": [],
   "source": []
  },
  {
   "cell_type": "code",
   "execution_count": null,
   "metadata": {},
   "outputs": [],
   "source": []
  },
  {
   "cell_type": "code",
   "execution_count": null,
   "metadata": {},
   "outputs": [],
   "source": []
  },
  {
   "cell_type": "code",
   "execution_count": null,
   "metadata": {},
   "outputs": [],
   "source": []
  },
  {
   "cell_type": "code",
   "execution_count": null,
   "metadata": {},
   "outputs": [],
   "source": []
  },
  {
   "cell_type": "code",
   "execution_count": null,
   "metadata": {},
   "outputs": [],
   "source": []
  },
  {
   "cell_type": "markdown",
   "metadata": {},
   "source": [
    "#### Ejercicio 2)\n",
    "    -Escribir y ejecutar plt.plot(data.AdjClose) sobre un data obtenido por medio del getDataExcel()\n",
    "    -Agregarle titulos a los ejes, al grafico y poner alguna anotacion que consideren pertinente."
   ]
  },
  {
   "cell_type": "code",
   "execution_count": null,
   "metadata": {},
   "outputs": [],
   "source": []
  },
  {
   "cell_type": "code",
   "execution_count": null,
   "metadata": {},
   "outputs": [],
   "source": []
  },
  {
   "cell_type": "code",
   "execution_count": null,
   "metadata": {},
   "outputs": [],
   "source": []
  },
  {
   "cell_type": "code",
   "execution_count": null,
   "metadata": {},
   "outputs": [],
   "source": []
  },
  {
   "cell_type": "code",
   "execution_count": null,
   "metadata": {},
   "outputs": [],
   "source": []
  },
  {
   "cell_type": "markdown",
   "metadata": {},
   "source": [
    "#### Ejercicio 3)\n",
    "    -mostrar el gráfico parcial de una serie, de los datos tomados previamente.\n",
    "    -Cambiar el tamaño del grafico a 12 x 5 \n",
    "    -Cambiar el grosor y color de la linea a uno que prefieran diferente al que viene por defecto"
   ]
  },
  {
   "cell_type": "code",
   "execution_count": null,
   "metadata": {},
   "outputs": [],
   "source": []
  },
  {
   "cell_type": "code",
   "execution_count": null,
   "metadata": {},
   "outputs": [],
   "source": []
  },
  {
   "cell_type": "code",
   "execution_count": null,
   "metadata": {},
   "outputs": [],
   "source": []
  },
  {
   "cell_type": "markdown",
   "metadata": {},
   "source": [
    "#### Ejercicio 4)\n",
    "    -Repetir el grafico del ejercicio anterior y pintar el area bajo la curva.\n",
    "    -Volver a repetir y ahora solo pintar una parte un intervalo de tiempo pequeño"
   ]
  },
  {
   "cell_type": "code",
   "execution_count": null,
   "metadata": {},
   "outputs": [],
   "source": []
  },
  {
   "cell_type": "code",
   "execution_count": null,
   "metadata": {},
   "outputs": [],
   "source": []
  },
  {
   "cell_type": "code",
   "execution_count": null,
   "metadata": {},
   "outputs": [],
   "source": []
  },
  {
   "cell_type": "code",
   "execution_count": null,
   "metadata": {},
   "outputs": [],
   "source": []
  },
  {
   "cell_type": "code",
   "execution_count": null,
   "metadata": {},
   "outputs": [],
   "source": []
  },
  {
   "cell_type": "markdown",
   "metadata": {},
   "source": [
    "#### Ejercicio 5)\n",
    "    -Repetir el grafico del ejercicio anterior y pintar segun el precio actual. que divida los precios por debajo y por encima.\n",
    "    -Agregar color rojo, al area que esta por debajo y color verde a la que esta por encima."
   ]
  },
  {
   "cell_type": "code",
   "execution_count": null,
   "metadata": {},
   "outputs": [],
   "source": []
  },
  {
   "cell_type": "code",
   "execution_count": null,
   "metadata": {},
   "outputs": [],
   "source": []
  },
  {
   "cell_type": "code",
   "execution_count": null,
   "metadata": {},
   "outputs": [],
   "source": []
  },
  {
   "cell_type": "code",
   "execution_count": null,
   "metadata": {},
   "outputs": [],
   "source": []
  },
  {
   "cell_type": "code",
   "execution_count": null,
   "metadata": {},
   "outputs": [],
   "source": []
  },
  {
   "cell_type": "markdown",
   "metadata": {},
   "source": [
    "#### Ejercicio 6)\n",
    "    Agregarle una grilla de fondo al grafico y probar los siquientes atributos con diferentes valores\n",
    "        -which: major/minor\n",
    "        -axis: x, y, both\n",
    "        -color: nombre del color o abreviacion\n",
    "        -linewidth o lw: el ancho de la linea\n",
    "        -linestyle o ls: el tipo de linea - para continuo, . para punteado, -. para linea/punto, etc\n",
    "        -alpha: transparencia"
   ]
  },
  {
   "cell_type": "code",
   "execution_count": null,
   "metadata": {},
   "outputs": [],
   "source": []
  },
  {
   "cell_type": "code",
   "execution_count": null,
   "metadata": {},
   "outputs": [],
   "source": []
  },
  {
   "cell_type": "code",
   "execution_count": null,
   "metadata": {},
   "outputs": [],
   "source": []
  },
  {
   "cell_type": "code",
   "execution_count": null,
   "metadata": {},
   "outputs": [],
   "source": []
  },
  {
   "cell_type": "code",
   "execution_count": null,
   "metadata": {},
   "outputs": [],
   "source": []
  },
  {
   "cell_type": "markdown",
   "metadata": {},
   "source": [
    "#### Ejercicio 7)\n",
    "    -Superposicion de series, se necesita plotear el precio y una media movil exponencial de 21 ruedas\n",
    "    -Agregarle indicadores, este debe ser un triangulo verde cuando la ema cruza al alza y roja cuando cruza a la baja al precio."
   ]
  },
  {
   "cell_type": "code",
   "execution_count": null,
   "metadata": {},
   "outputs": [],
   "source": []
  },
  {
   "cell_type": "code",
   "execution_count": null,
   "metadata": {},
   "outputs": [],
   "source": []
  },
  {
   "cell_type": "code",
   "execution_count": null,
   "metadata": {},
   "outputs": [],
   "source": []
  },
  {
   "cell_type": "code",
   "execution_count": null,
   "metadata": {},
   "outputs": [],
   "source": []
  },
  {
   "cell_type": "code",
   "execution_count": null,
   "metadata": {},
   "outputs": [],
   "source": []
  },
  {
   "cell_type": "code",
   "execution_count": null,
   "metadata": {},
   "outputs": [],
   "source": []
  }
 ],
 "metadata": {
  "kernelspec": {
   "display_name": "Python 3",
   "language": "python",
   "name": "python3"
  },
  "language_info": {
   "codemirror_mode": {
    "name": "ipython",
    "version": 3
   },
   "file_extension": ".py",
   "mimetype": "text/x-python",
   "name": "python",
   "nbconvert_exporter": "python",
   "pygments_lexer": "ipython3",
   "version": "3.7.4"
  }
 },
 "nbformat": 4,
 "nbformat_minor": 2
}
