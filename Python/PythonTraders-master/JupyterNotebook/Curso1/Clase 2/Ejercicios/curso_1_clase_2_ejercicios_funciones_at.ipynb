{
 "cells": [
  {
   "cell_type": "code",
   "execution_count": 27,
   "metadata": {},
   "outputs": [],
   "source": [
    "def traer_datos_ggal():\n",
    "    import yfinance as yf\n",
    "    return yf.download(\"ggal.ba\")"
   ]
  },
  {
   "cell_type": "markdown",
   "metadata": {},
   "source": [
    "#### Ejercicio 1) Dada la metodo traer_datos_ggal() analizar el dataframe y obtener:\n",
    "    -Fecha de la rueda con mayor volumen\n",
    "    -El volumen que se opero\n",
    "    -El monto operado (volumen * close)\n",
    "    -Fecha con mayor caida del precio"
   ]
  },
  {
   "cell_type": "code",
   "execution_count": null,
   "metadata": {},
   "outputs": [],
   "source": []
  },
  {
   "cell_type": "code",
   "execution_count": null,
   "metadata": {},
   "outputs": [],
   "source": []
  },
  {
   "cell_type": "code",
   "execution_count": null,
   "metadata": {},
   "outputs": [],
   "source": []
  },
  {
   "cell_type": "markdown",
   "metadata": {},
   "source": [
    "#### Ejercicio 2) Dada el metodo traer_datos_ggal() Crear otro metodo llamado traer_datos(ticker):\n",
    "    -Que recibe el nombre de un ticker y devuelve la informacion de dicho ticker\n",
    "    -Agregarle una fecha desde y hasta, por parametros\n"
   ]
  },
  {
   "cell_type": "code",
   "execution_count": null,
   "metadata": {},
   "outputs": [],
   "source": []
  },
  {
   "cell_type": "code",
   "execution_count": null,
   "metadata": {},
   "outputs": [],
   "source": []
  },
  {
   "cell_type": "code",
   "execution_count": null,
   "metadata": {},
   "outputs": [],
   "source": []
  },
  {
   "cell_type": "code",
   "execution_count": null,
   "metadata": {},
   "outputs": [],
   "source": []
  },
  {
   "cell_type": "markdown",
   "metadata": {},
   "source": [
    "#### Ejercicio 3) Dado dos dataframes obtenido de traer_datos(ticker) pide:\n",
    "    -hacer una concatenacion de los dataframes\n",
    "    -Cambiar los indices\n",
    "    -Eliminar columnas\n",
    "    -con loc[] obtener un subconjunto de la matriz (no importa cual, la idea es hacer el filtrado) \n",
    "    -Con iloc traer todos menos el primero\n",
    "    -con iloc traer todos menos el ultimo"
   ]
  },
  {
   "cell_type": "code",
   "execution_count": null,
   "metadata": {},
   "outputs": [],
   "source": []
  },
  {
   "cell_type": "code",
   "execution_count": null,
   "metadata": {},
   "outputs": [],
   "source": []
  },
  {
   "cell_type": "markdown",
   "metadata": {},
   "source": [
    "#### Ejercicio4) \n",
    "    -Crear un metodo agregar_sma(data, ruedas) que reciba un dataframe  (resultado de traer_datos) y un numero que representa cantidad de ruedas de la media movil, el metodo deberá agregar una columna denominada sma y la cantidad de ruedas para atras. por ej, sma9"
   ]
  },
  {
   "cell_type": "code",
   "execution_count": null,
   "metadata": {},
   "outputs": [],
   "source": []
  },
  {
   "cell_type": "code",
   "execution_count": null,
   "metadata": {},
   "outputs": [],
   "source": []
  },
  {
   "cell_type": "markdown",
   "metadata": {},
   "source": [
    "#### Ejercicio5) \n",
    "    -Crear un metodo agregar_ema(data, ruedas) que reciba un dataframe  (resultado de traer_datos) y un numero que representa cantidad de ruedas de la media movil, el metodo deberá agregar una columna denominada ema y la cantidad de ruedas para atras. por ej, ema21"
   ]
  },
  {
   "cell_type": "code",
   "execution_count": null,
   "metadata": {},
   "outputs": [],
   "source": []
  },
  {
   "cell_type": "code",
   "execution_count": 17,
   "metadata": {},
   "outputs": [],
   "source": []
  },
  {
   "cell_type": "markdown",
   "metadata": {},
   "source": [
    "#### Ejercicio 6)\n",
    "    -Crear un metodo obtener_precio_cierre(data, fecha) que reciba un dataframe  (resultado de traer_datos) y una fecha en el formato que esta el dataframe, el metodo deberá con el iloc buscar dicha fila y se deberia devolver el valor de la columna Close."
   ]
  },
  {
   "cell_type": "code",
   "execution_count": null,
   "metadata": {},
   "outputs": [],
   "source": []
  },
  {
   "cell_type": "code",
   "execution_count": null,
   "metadata": {},
   "outputs": [],
   "source": []
  },
  {
   "cell_type": "markdown",
   "metadata": {},
   "source": [
    "#### Ejercicio 7 )\n",
    "    - Probar todos los ejercicios anteriores en spyder."
   ]
  },
  {
   "cell_type": "code",
   "execution_count": null,
   "metadata": {},
   "outputs": [],
   "source": []
  },
  {
   "cell_type": "code",
   "execution_count": null,
   "metadata": {},
   "outputs": [],
   "source": []
  },
  {
   "cell_type": "code",
   "execution_count": null,
   "metadata": {},
   "outputs": [],
   "source": []
  },
  {
   "cell_type": "markdown",
   "metadata": {},
   "source": [
    "#### Ejercicio 8) \n",
    "    -Crear un metodo conviene_comprar(data, sma1, sma2, sma3) que recibe un data con la información de un activo X, y 3 numeros distintos naturales no cero que representan cada uno, la cantidad de ruedas para atras, a fin de armar las medias moviles, el metodo debe devolver true cuando la media movil mas rapida cruza a las dos mas lentas, el volumen tambien participa, este debe ser mayor a la media (no al promedio) .median(). False en los demas casos.\n",
    "    -Para el calculo de las medias moviles simples se debe usar el metodo agregar_sma(sma1).agregar_sma(sma2).agregar_sma(sma3) que prepara al data con las 3 columnas de las medias moviles.\n",
    "    crear una nueva columna conviene comprar. que es cuando el sma1 (mas rapida) es mayor a la sma2 (media) y la sma3\n",
    "    Finalmente localizar la ultima fila la mas actual con(iloc) y retornar segun el codigo que hay si conviene o no comprar."
   ]
  },
  {
   "cell_type": "code",
   "execution_count": null,
   "metadata": {},
   "outputs": [],
   "source": []
  },
  {
   "cell_type": "code",
   "execution_count": null,
   "metadata": {},
   "outputs": [],
   "source": []
  },
  {
   "cell_type": "code",
   "execution_count": 23,
   "metadata": {},
   "outputs": [],
   "source": []
  },
  {
   "cell_type": "code",
   "execution_count": null,
   "metadata": {},
   "outputs": [],
   "source": []
  },
  {
   "cell_type": "code",
   "execution_count": null,
   "metadata": {},
   "outputs": [],
   "source": []
  },
  {
   "cell_type": "code",
   "execution_count": null,
   "metadata": {},
   "outputs": [],
   "source": []
  }
 ],
 "metadata": {
  "kernelspec": {
   "display_name": "Python 3",
   "language": "python",
   "name": "python3"
  },
  "language_info": {
   "codemirror_mode": {
    "name": "ipython",
    "version": 3
   },
   "file_extension": ".py",
   "mimetype": "text/x-python",
   "name": "python",
   "nbconvert_exporter": "python",
   "pygments_lexer": "ipython3",
   "version": "3.7.4"
  }
 },
 "nbformat": 4,
 "nbformat_minor": 2
}
