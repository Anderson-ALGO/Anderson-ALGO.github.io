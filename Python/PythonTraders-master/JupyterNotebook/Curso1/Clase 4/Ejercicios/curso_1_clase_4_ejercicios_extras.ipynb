{
 "cells": [
  {
   "cell_type": "markdown",
   "metadata": {},
   "source": [
    "#### Ejercicio 1\n",
    "Crear un metodo llamado retrocesos_fibonacci(ticker, velas_atras=250, timeframe='1d', usar_mechas=False, start=None):\n",
    "Que recibe un ticker, una cantidad de velas para atras, un timeframe (1 dia, 5 dias...( y definir si se usa la mecha para calcular el cierre o (máximo y mínimo)\n"
   ]
  },
  {
   "cell_type": "raw",
   "metadata": {},
   "source": []
  },
  {
   "cell_type": "code",
   "execution_count": null,
   "metadata": {},
   "outputs": [],
   "source": []
  },
  {
   "cell_type": "code",
   "execution_count": null,
   "metadata": {},
   "outputs": [],
   "source": []
  },
  {
   "cell_type": "code",
   "execution_count": 2,
   "metadata": {},
   "outputs": [
    {
     "name": "stdout",
     "output_type": "stream",
     "text": [
      "[*********************100%***********************]  1 of 1 completed\n"
     ]
    }
   ],
   "source": [
    "### RESUELTO\n",
    "\n",
    "def retrocesos_fibonacci(ticker, velas_atras=250, timeframe='1d', usar_mechas=False, start=None):\n",
    "    \n",
    "    import yfinance as yf, numpy as np, datetime as dt\n",
    "    \n",
    "    if timeframe == '1h':\n",
    "        start = (dt.date.today()-dt.timedelta(days=729)).strftime('%Y-%m-%d')\n",
    "    elif timeframe in ['5m','15m','30m','90m']:\n",
    "        start = (dt.date.today()-dt.timedelta(days=59)).strftime('%Y-%m-%d')\n",
    "    elif timeframe in ['1m','2m']:\n",
    "        start = (dt.date.today()-dt.timedelta(days=6)).strftime('%Y-%m-%d')\n",
    "        \n",
    "    # Los intervalos 1d, 5d, 1wk, 1mo, 3mo no tienen limite de tiempo\n",
    "    data = yf.download(ticker, adjust_close='true', start=start, interval=timeframe).iloc[-velas_atras:]\n",
    "    \n",
    "    if usar_mechas:\n",
    "        val_min = data['Low'].min()\n",
    "        val_max = data['High'].max()\n",
    "        fecha_min = data.Low.idxmin()\n",
    "        fecha_max = data.High.idxmax()\n",
    "    else:\n",
    "        val_min = data['Close'].min()\n",
    "        val_max = data['Close'].max()\n",
    "        fecha_min = data.Close.idxmin()\n",
    "        fecha_max = data.Close.idxmax()\n",
    "        \n",
    "    fibos_p = [0.236, 0.382, 0.5, 0.618, 0.786, 1]\n",
    "    fibos = val_max - (np.array(fibos_p) * (val_max-val_min))\n",
    "    \n",
    "    if fecha_min < fecha_max:    \n",
    "        return  dict(zip(fibos_p, fibos.round(2)))\n",
    "    else:\n",
    "        return 'Pedis un retroceso en un plazo donde el activo bajo..'\n",
    "\n",
    "data =  retrocesos_fibonacci(\"ggal\", velas_atras=330, timeframe='1h')\n"
   ]
  },
  {
   "cell_type": "code",
   "execution_count": null,
   "metadata": {},
   "outputs": [],
   "source": []
  },
  {
   "cell_type": "code",
   "execution_count": null,
   "metadata": {},
   "outputs": [],
   "source": []
  },
  {
   "cell_type": "code",
   "execution_count": null,
   "metadata": {},
   "outputs": [],
   "source": []
  },
  {
   "cell_type": "markdown",
   "metadata": {},
   "source": []
  },
  {
   "cell_type": "code",
   "execution_count": null,
   "metadata": {},
   "outputs": [],
   "source": []
  },
  {
   "cell_type": "code",
   "execution_count": null,
   "metadata": {},
   "outputs": [],
   "source": []
  },
  {
   "cell_type": "code",
   "execution_count": null,
   "metadata": {},
   "outputs": [],
   "source": []
  },
  {
   "cell_type": "code",
   "execution_count": null,
   "metadata": {},
   "outputs": [],
   "source": []
  },
  {
   "cell_type": "markdown",
   "metadata": {},
   "source": [
    "#### Ejercicio 2\n",
    "\n",
    "Dada una columna de un dataframe (Osea una serie), crear un metodo obtener_std(Serie) que reciba la serie de numeros y que devuelva el desvio estandar de dicha serie (pueden representar los precios de cierre de un activo , realizarla con un for."
   ]
  },
  {
   "cell_type": "code",
   "execution_count": null,
   "metadata": {},
   "outputs": [],
   "source": []
  },
  {
   "cell_type": "code",
   "execution_count": null,
   "metadata": {},
   "outputs": [],
   "source": []
  },
  {
   "cell_type": "code",
   "execution_count": null,
   "metadata": {},
   "outputs": [],
   "source": []
  },
  {
   "cell_type": "code",
   "execution_count": null,
   "metadata": {},
   "outputs": [],
   "source": []
  },
  {
   "cell_type": "markdown",
   "metadata": {},
   "source": [
    "#### Ejercicio 4\n",
    "Buscar activos y determinar fechas donde se cumpla:\n",
    "    \n",
    "    -Volatilidad Alta kurtosisi Alta \n",
    "    -Volatilidad alta kurtosis baja\n",
    "    -Volatilidad baja kurtosis Alta\n",
    "    -volatilidad baja kurtosis baja"
   ]
  },
  {
   "cell_type": "code",
   "execution_count": null,
   "metadata": {},
   "outputs": [],
   "source": []
  },
  {
   "cell_type": "code",
   "execution_count": null,
   "metadata": {},
   "outputs": [],
   "source": []
  }
 ],
 "metadata": {
  "kernelspec": {
   "display_name": "Python3",
   "language": "python",
   "name": "python3"
  },
  "language_info": {
   "codemirror_mode": {
    "name": "ipython",
    "version": 2
   },
   "file_extension": ".py",
   "mimetype": "text/x-python",
   "name": "python",
   "nbconvert_exporter": "python",
   "pygments_lexer": "ipython2",
   "version": "2.7.16"
  }
 },
 "nbformat": 4,
 "nbformat_minor": 2
}
