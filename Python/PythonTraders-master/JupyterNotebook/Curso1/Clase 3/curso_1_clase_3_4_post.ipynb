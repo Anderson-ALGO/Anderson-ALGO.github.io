{
 "cells": [
  {
   "cell_type": "markdown",
   "metadata": {},
   "source": [
    "# Funciones Acumulativas"
   ]
  },
  {
   "cell_type": "markdown",
   "metadata": {},
   "source": [
    "Las funciones acumulativas nos permiten trabajar en la fila \"n\" de una tabla con todos los datos de las filas \"0 a n\"\n",
    "<br>Dentro de este tipo de funciones encontramos:"
   ]
  },
  {
   "cell_type": "markdown",
   "metadata": {},
   "source": [
    "* cummax()  El máximo acumulado (ideal para máximo histórico por fecha)\n",
    "* cummin()  El mínimo acumulado (ideal para mínimo histórico por fecha)\n",
    "* cumsum() La suma acumulada (ideal para armado se subtotales por fecha)\n",
    "* cumprod() El producto acumulado (ideal para rendimiento compuesto)"
   ]
  },
  {
   "cell_type": "markdown",
   "metadata": {},
   "source": [
    "## Cummax()"
   ]
  },
  {
   "cell_type": "markdown",
   "metadata": {},
   "source": [
    "El uso típico que le vamos a dar a esta función es para saber el máximo histórico de una serie en cada punto de la misma"
   ]
  },
  {
   "cell_type": "code",
   "execution_count": 2,
   "metadata": {},
   "outputs": [
    {
     "data": {
      "text/html": [
       "<div>\n",
       "<style scoped>\n",
       "    .dataframe tbody tr th:only-of-type {\n",
       "        vertical-align: middle;\n",
       "    }\n",
       "\n",
       "    .dataframe tbody tr th {\n",
       "        vertical-align: top;\n",
       "    }\n",
       "\n",
       "    .dataframe thead th {\n",
       "        text-align: right;\n",
       "    }\n",
       "</style>\n",
       "<table border=\"1\" class=\"dataframe\">\n",
       "  <thead>\n",
       "    <tr style=\"text-align: right;\">\n",
       "      <th></th>\n",
       "      <th>open</th>\n",
       "      <th>close</th>\n",
       "      <th>adjusted_close</th>\n",
       "      <th>maxHist</th>\n",
       "    </tr>\n",
       "    <tr>\n",
       "      <th>timestamp</th>\n",
       "      <th></th>\n",
       "      <th></th>\n",
       "      <th></th>\n",
       "      <th></th>\n",
       "    </tr>\n",
       "  </thead>\n",
       "  <tbody>\n",
       "    <tr>\n",
       "      <th>2000-03-06</th>\n",
       "      <td>126.00</td>\n",
       "      <td>125.69</td>\n",
       "      <td>3.8960</td>\n",
       "      <td>3.8960</td>\n",
       "    </tr>\n",
       "    <tr>\n",
       "      <th>2000-03-07</th>\n",
       "      <td>126.44</td>\n",
       "      <td>122.87</td>\n",
       "      <td>3.8086</td>\n",
       "      <td>3.8960</td>\n",
       "    </tr>\n",
       "    <tr>\n",
       "      <th>2000-03-08</th>\n",
       "      <td>122.87</td>\n",
       "      <td>122.00</td>\n",
       "      <td>3.7816</td>\n",
       "      <td>3.8960</td>\n",
       "    </tr>\n",
       "    <tr>\n",
       "      <th>2000-03-09</th>\n",
       "      <td>120.87</td>\n",
       "      <td>122.25</td>\n",
       "      <td>3.7894</td>\n",
       "      <td>3.8960</td>\n",
       "    </tr>\n",
       "    <tr>\n",
       "      <th>2000-03-10</th>\n",
       "      <td>121.69</td>\n",
       "      <td>125.75</td>\n",
       "      <td>3.8979</td>\n",
       "      <td>3.8979</td>\n",
       "    </tr>\n",
       "    <tr>\n",
       "      <th>2000-03-13</th>\n",
       "      <td>122.12</td>\n",
       "      <td>121.31</td>\n",
       "      <td>3.7602</td>\n",
       "      <td>3.8979</td>\n",
       "    </tr>\n",
       "  </tbody>\n",
       "</table>\n",
       "</div>"
      ],
      "text/plain": [
       "              open   close  adjusted_close  maxHist\n",
       "timestamp                                          \n",
       "2000-03-06  126.00  125.69          3.8960   3.8960\n",
       "2000-03-07  126.44  122.87          3.8086   3.8960\n",
       "2000-03-08  122.87  122.00          3.7816   3.8960\n",
       "2000-03-09  120.87  122.25          3.7894   3.8960\n",
       "2000-03-10  121.69  125.75          3.8979   3.8979\n",
       "2000-03-13  122.12  121.31          3.7602   3.8979"
      ]
     },
     "execution_count": 2,
     "metadata": {},
     "output_type": "execute_result"
    }
   ],
   "source": [
    "import pandas as pd\n",
    "data = pd.read_excel('excels_csvs/AAPL.xlsx')\n",
    "data = data.sort_values(by='timestamp',ascending=True)\n",
    "data = data.drop([\"high\",\"low\",\"volume\"], axis=1).set_index(\"timestamp\")\n",
    "\n",
    "data['maxHist'] = data.adjusted_close.cummax()\n",
    "data.head(6)"
   ]
  },
  {
   "cell_type": "code",
   "execution_count": 3,
   "metadata": {},
   "outputs": [
    {
     "data": {
      "text/plain": [
       "<matplotlib.axes._subplots.AxesSubplot at 0x1eb6f11d088>"
      ]
     },
     "execution_count": 3,
     "metadata": {},
     "output_type": "execute_result"
    },
    {
     "data": {
      "image/png": "[encoded data removed]",
      "text/plain": [
       "<Figure size 432x288 with 1 Axes>"
      ]
     },
     "metadata": {
      "needs_background": "light"
     },
     "output_type": "display_data"
    }
   ],
   "source": [
    "data.maxHist.plot()"
   ]
  },
  {
   "cell_type": "markdown",
   "metadata": {},
   "source": [
    "## Cummin()"
   ]
  },
  {
   "cell_type": "markdown",
   "metadata": {},
   "source": [
    "Obviamente es lo mismo que el cummax pero para mínimos, la combinación de cummax() y cummin() va a ser muy util para backtestings de drawdowns y recuperaciones posteriores"
   ]
  },
  {
   "cell_type": "code",
   "execution_count": 4,
   "metadata": {},
   "outputs": [
    {
     "data": {
      "text/html": [
       "<div>\n",
       "<style scoped>\n",
       "    .dataframe tbody tr th:only-of-type {\n",
       "        vertical-align: middle;\n",
       "    }\n",
       "\n",
       "    .dataframe tbody tr th {\n",
       "        vertical-align: top;\n",
       "    }\n",
       "\n",
       "    .dataframe thead th {\n",
       "        text-align: right;\n",
       "    }\n",
       "</style>\n",
       "<table border=\"1\" class=\"dataframe\">\n",
       "  <thead>\n",
       "    <tr style=\"text-align: right;\">\n",
       "      <th></th>\n",
       "      <th>open</th>\n",
       "      <th>close</th>\n",
       "      <th>adjusted_close</th>\n",
       "      <th>minHist</th>\n",
       "    </tr>\n",
       "    <tr>\n",
       "      <th>timestamp</th>\n",
       "      <th></th>\n",
       "      <th></th>\n",
       "      <th></th>\n",
       "      <th></th>\n",
       "    </tr>\n",
       "  </thead>\n",
       "  <tbody>\n",
       "    <tr>\n",
       "      <th>2000-03-06</th>\n",
       "      <td>126.00</td>\n",
       "      <td>125.69</td>\n",
       "      <td>3.8960</td>\n",
       "      <td>3.8960</td>\n",
       "    </tr>\n",
       "    <tr>\n",
       "      <th>2000-03-07</th>\n",
       "      <td>126.44</td>\n",
       "      <td>122.87</td>\n",
       "      <td>3.8086</td>\n",
       "      <td>3.8086</td>\n",
       "    </tr>\n",
       "    <tr>\n",
       "      <th>2000-03-08</th>\n",
       "      <td>122.87</td>\n",
       "      <td>122.00</td>\n",
       "      <td>3.7816</td>\n",
       "      <td>3.7816</td>\n",
       "    </tr>\n",
       "    <tr>\n",
       "      <th>2000-03-09</th>\n",
       "      <td>120.87</td>\n",
       "      <td>122.25</td>\n",
       "      <td>3.7894</td>\n",
       "      <td>3.7816</td>\n",
       "    </tr>\n",
       "    <tr>\n",
       "      <th>2000-03-10</th>\n",
       "      <td>121.69</td>\n",
       "      <td>125.75</td>\n",
       "      <td>3.8979</td>\n",
       "      <td>3.7816</td>\n",
       "    </tr>\n",
       "    <tr>\n",
       "      <th>2000-03-13</th>\n",
       "      <td>122.12</td>\n",
       "      <td>121.31</td>\n",
       "      <td>3.7602</td>\n",
       "      <td>3.7602</td>\n",
       "    </tr>\n",
       "  </tbody>\n",
       "</table>\n",
       "</div>"
      ],
      "text/plain": [
       "              open   close  adjusted_close  minHist\n",
       "timestamp                                          \n",
       "2000-03-06  126.00  125.69          3.8960   3.8960\n",
       "2000-03-07  126.44  122.87          3.8086   3.8086\n",
       "2000-03-08  122.87  122.00          3.7816   3.7816\n",
       "2000-03-09  120.87  122.25          3.7894   3.7816\n",
       "2000-03-10  121.69  125.75          3.8979   3.7816\n",
       "2000-03-13  122.12  121.31          3.7602   3.7602"
      ]
     },
     "execution_count": 4,
     "metadata": {},
     "output_type": "execute_result"
    }
   ],
   "source": [
    "data = pd.read_excel('excels_csvs/AAPL.xlsx')\n",
    "data = data.sort_values(by='timestamp',ascending=True)\n",
    "data = data.drop([\"high\",\"low\",\"volume\"], axis=1).set_index(\"timestamp\")\n",
    "\n",
    "data['minHist'] = data.adjusted_close.cummin()\n",
    "data.head(6)"
   ]
  },
  {
   "cell_type": "markdown",
   "metadata": {},
   "source": [
    "## Cumsum()"
   ]
  },
  {
   "cell_type": "markdown",
   "metadata": {},
   "source": [
    "Cumsum() es obviamente una funcion de sumas acumuladas, que en la posicion de la fila \"n\" nos devuelve la suma de \"0 a n\" (inclusive)"
   ]
  },
  {
   "cell_type": "markdown",
   "metadata": {},
   "source": [
    "$$ \\large cumsum\\hspace{3mm}(X_{n})\\hspace{3mm}  =  \\hspace{3mm} \\sum_{i=0}^{n}x_{i} $$"
   ]
  },
  {
   "cell_type": "markdown",
   "metadata": {},
   "source": [
    "En el ejemplo aprovechamos para borrar las columnas de OHLC par limpiar un poco la salida con la función drop()"
   ]
  },
  {
   "cell_type": "code",
   "execution_count": 5,
   "metadata": {},
   "outputs": [
    {
     "data": {
      "text/html": [
       "<div>\n",
       "<style scoped>\n",
       "    .dataframe tbody tr th:only-of-type {\n",
       "        vertical-align: middle;\n",
       "    }\n",
       "\n",
       "    .dataframe tbody tr th {\n",
       "        vertical-align: top;\n",
       "    }\n",
       "\n",
       "    .dataframe thead th {\n",
       "        text-align: right;\n",
       "    }\n",
       "</style>\n",
       "<table border=\"1\" class=\"dataframe\">\n",
       "  <thead>\n",
       "    <tr style=\"text-align: right;\">\n",
       "      <th></th>\n",
       "      <th>adjusted_close</th>\n",
       "      <th>volume</th>\n",
       "      <th>volumenAcum</th>\n",
       "    </tr>\n",
       "    <tr>\n",
       "      <th>timestamp</th>\n",
       "      <th></th>\n",
       "      <th></th>\n",
       "      <th></th>\n",
       "    </tr>\n",
       "  </thead>\n",
       "  <tbody>\n",
       "    <tr>\n",
       "      <th>2000-03-06</th>\n",
       "      <td>3.90</td>\n",
       "      <td>1880000</td>\n",
       "      <td>1.88</td>\n",
       "    </tr>\n",
       "    <tr>\n",
       "      <th>2000-03-07</th>\n",
       "      <td>3.81</td>\n",
       "      <td>2437600</td>\n",
       "      <td>4.32</td>\n",
       "    </tr>\n",
       "    <tr>\n",
       "      <th>2000-03-08</th>\n",
       "      <td>3.78</td>\n",
       "      <td>2421700</td>\n",
       "      <td>6.74</td>\n",
       "    </tr>\n",
       "    <tr>\n",
       "      <th>2000-03-09</th>\n",
       "      <td>3.79</td>\n",
       "      <td>2470700</td>\n",
       "      <td>9.21</td>\n",
       "    </tr>\n",
       "    <tr>\n",
       "      <th>2000-03-10</th>\n",
       "      <td>3.90</td>\n",
       "      <td>2219700</td>\n",
       "      <td>11.43</td>\n",
       "    </tr>\n",
       "    <tr>\n",
       "      <th>2000-03-13</th>\n",
       "      <td>3.76</td>\n",
       "      <td>2713900</td>\n",
       "      <td>14.14</td>\n",
       "    </tr>\n",
       "  </tbody>\n",
       "</table>\n",
       "</div>"
      ],
      "text/plain": [
       "            adjusted_close   volume  volumenAcum\n",
       "timestamp                                       \n",
       "2000-03-06            3.90  1880000         1.88\n",
       "2000-03-07            3.81  2437600         4.32\n",
       "2000-03-08            3.78  2421700         6.74\n",
       "2000-03-09            3.79  2470700         9.21\n",
       "2000-03-10            3.90  2219700        11.43\n",
       "2000-03-13            3.76  2713900        14.14"
      ]
     },
     "execution_count": 5,
     "metadata": {},
     "output_type": "execute_result"
    }
   ],
   "source": [
    "data = pd.read_excel('excels_csvs/AAPL.xlsx')\n",
    "data = data.sort_values(by='timestamp',ascending=True)\n",
    "\n",
    "data['volumenAcum'] = data.volume.cumsum()/1000000\n",
    "data = data.drop(['open','high','low','close'],1).dropna().round(2)\n",
    "data.set_index('timestamp',inplace=True)\n",
    "data.head(6)"
   ]
  },
  {
   "cell_type": "code",
   "execution_count": null,
   "metadata": {},
   "outputs": [],
   "source": [
    "data.volumenAcum.plot()"
   ]
  },
  {
   "cell_type": "markdown",
   "metadata": {},
   "source": [
    "## Cumprod()"
   ]
  },
  {
   "cell_type": "code",
   "execution_count": 11,
   "metadata": {},
   "outputs": [
    {
     "data": {
      "text/plain": [
       "102.816"
      ]
     },
     "execution_count": 11,
     "metadata": {},
     "output_type": "execute_result"
    }
   ],
   "source": [
    "v = [0.02, 0.05, -0.04]\n",
    "v = np.array(v)\n",
    "f = v + 1\n",
    "\n",
    "\n",
    "ci =  100\n",
    "c1 = ci * f[0]\n",
    "\n",
    "c2 = c1 * f[1]\n",
    "\n",
    "c3 = c2 * f[2]\n",
    "c3"
   ]
  },
  {
   "cell_type": "code",
   "execution_count": null,
   "metadata": {},
   "outputs": [],
   "source": [
    "v = [0.02, 0.05, -0.04]\n",
    "v = np.array(v)\n",
    "f = v + 1\n",
    "\n",
    "\n",
    "ci =  100\n",
    "c1 = ci * f[0]\n",
    "\n",
    "c2 = ci * f[0] * f[1]\n",
    "\n",
    "c3 = ci * f[0] * f[1] * f[2]\n",
    "c3"
   ]
  },
  {
   "cell_type": "markdown",
   "metadata": {},
   "source": [
    "Cumprod() es una función de productorio, es decir el producto acumulado de 0 a n, para la fila n "
   ]
  },
  {
   "cell_type": "markdown",
   "metadata": {},
   "source": [
    "$$ \\large cumprod\\hspace{3mm}(X_{n})\\hspace{3mm}  =  \\hspace{3mm} \\prod_{i=0}^{n}x_{i} $$"
   ]
  },
  {
   "cell_type": "markdown",
   "metadata": {},
   "source": [
    "Vamos a usar esta fórmula para calcular rendimiento compuesto, es muy sencillo:\n",
    "<br>  1- Creamos una columna \"variacion\" con el valor \"r\", rendimiento porcentual diario.\n",
    "<br>  2- Creamos una columna \"factor\" con el valor (1+r)\n",
    "<br>  2- Luego vamos a aplicar el productorio para cada fila de esa columna \"factor\" y le restamos 1 al resultado."
   ]
  },
  {
   "cell_type": "code",
   "execution_count": 6,
   "metadata": {},
   "outputs": [
    {
     "data": {
      "text/html": [
       "<div>\n",
       "<style scoped>\n",
       "    .dataframe tbody tr th:only-of-type {\n",
       "        vertical-align: middle;\n",
       "    }\n",
       "\n",
       "    .dataframe tbody tr th {\n",
       "        vertical-align: top;\n",
       "    }\n",
       "\n",
       "    .dataframe thead th {\n",
       "        text-align: right;\n",
       "    }\n",
       "</style>\n",
       "<table border=\"1\" class=\"dataframe\">\n",
       "  <thead>\n",
       "    <tr style=\"text-align: right;\">\n",
       "      <th></th>\n",
       "      <th>adjusted_close</th>\n",
       "      <th>variacion</th>\n",
       "      <th>factor</th>\n",
       "      <th>rendimientoAcum</th>\n",
       "    </tr>\n",
       "    <tr>\n",
       "      <th>timestamp</th>\n",
       "      <th></th>\n",
       "      <th></th>\n",
       "      <th></th>\n",
       "      <th></th>\n",
       "    </tr>\n",
       "  </thead>\n",
       "  <tbody>\n",
       "    <tr>\n",
       "      <th>2000-03-07</th>\n",
       "      <td>3.8086</td>\n",
       "      <td>-0.0224</td>\n",
       "      <td>0.9776</td>\n",
       "      <td>-2.2433</td>\n",
       "    </tr>\n",
       "    <tr>\n",
       "      <th>2000-03-08</th>\n",
       "      <td>3.7816</td>\n",
       "      <td>-0.0071</td>\n",
       "      <td>0.9929</td>\n",
       "      <td>-2.9363</td>\n",
       "    </tr>\n",
       "    <tr>\n",
       "      <th>2000-03-09</th>\n",
       "      <td>3.7894</td>\n",
       "      <td>0.0021</td>\n",
       "      <td>1.0021</td>\n",
       "      <td>-2.7361</td>\n",
       "    </tr>\n",
       "    <tr>\n",
       "      <th>2000-03-10</th>\n",
       "      <td>3.8979</td>\n",
       "      <td>0.0286</td>\n",
       "      <td>1.0286</td>\n",
       "      <td>0.0488</td>\n",
       "    </tr>\n",
       "    <tr>\n",
       "      <th>2000-03-13</th>\n",
       "      <td>3.7602</td>\n",
       "      <td>-0.0353</td>\n",
       "      <td>0.9647</td>\n",
       "      <td>-3.4856</td>\n",
       "    </tr>\n",
       "    <tr>\n",
       "      <th>...</th>\n",
       "      <td>...</td>\n",
       "      <td>...</td>\n",
       "      <td>...</td>\n",
       "      <td>...</td>\n",
       "    </tr>\n",
       "    <tr>\n",
       "      <th>2020-03-02</th>\n",
       "      <td>298.8100</td>\n",
       "      <td>0.0931</td>\n",
       "      <td>1.0931</td>\n",
       "      <td>7569.6612</td>\n",
       "    </tr>\n",
       "    <tr>\n",
       "      <th>2020-03-03</th>\n",
       "      <td>289.3200</td>\n",
       "      <td>-0.0318</td>\n",
       "      <td>0.9682</td>\n",
       "      <td>7326.0780</td>\n",
       "    </tr>\n",
       "    <tr>\n",
       "      <th>2020-03-04</th>\n",
       "      <td>302.7400</td>\n",
       "      <td>0.0464</td>\n",
       "      <td>1.0464</td>\n",
       "      <td>7670.5339</td>\n",
       "    </tr>\n",
       "    <tr>\n",
       "      <th>2020-03-05</th>\n",
       "      <td>292.9200</td>\n",
       "      <td>-0.0324</td>\n",
       "      <td>0.9676</td>\n",
       "      <td>7418.4805</td>\n",
       "    </tr>\n",
       "    <tr>\n",
       "      <th>2020-03-06</th>\n",
       "      <td>289.0300</td>\n",
       "      <td>-0.0133</td>\n",
       "      <td>0.9867</td>\n",
       "      <td>7318.6345</td>\n",
       "    </tr>\n",
       "  </tbody>\n",
       "</table>\n",
       "<p>5032 rows × 4 columns</p>\n",
       "</div>"
      ],
      "text/plain": [
       "            adjusted_close  variacion  factor  rendimientoAcum\n",
       "timestamp                                                     \n",
       "2000-03-07          3.8086    -0.0224  0.9776          -2.2433\n",
       "2000-03-08          3.7816    -0.0071  0.9929          -2.9363\n",
       "2000-03-09          3.7894     0.0021  1.0021          -2.7361\n",
       "2000-03-10          3.8979     0.0286  1.0286           0.0488\n",
       "2000-03-13          3.7602    -0.0353  0.9647          -3.4856\n",
       "...                    ...        ...     ...              ...\n",
       "2020-03-02        298.8100     0.0931  1.0931        7569.6612\n",
       "2020-03-03        289.3200    -0.0318  0.9682        7326.0780\n",
       "2020-03-04        302.7400     0.0464  1.0464        7670.5339\n",
       "2020-03-05        292.9200    -0.0324  0.9676        7418.4805\n",
       "2020-03-06        289.0300    -0.0133  0.9867        7318.6345\n",
       "\n",
       "[5032 rows x 4 columns]"
      ]
     },
     "execution_count": 6,
     "metadata": {},
     "output_type": "execute_result"
    }
   ],
   "source": [
    "data = pd.read_excel('excels_csvs/AAPL.xlsx')\n",
    "data = data.sort_values(by='timestamp',ascending=True)\n",
    "\n",
    "data['variacion'] = data['adjusted_close'].pct_change()\n",
    "data['factor'] = 1 + data['variacion'] \n",
    "data['rendimientoAcum'] = (data.factor.cumprod()-1)*100\n",
    "\n",
    "data = data.drop(['open','high','low','close','volume'],1).dropna().round(4).set_index(\"timestamp\")\n",
    "data"
   ]
  },
  {
   "cell_type": "code",
   "execution_count": 13,
   "metadata": {},
   "outputs": [
    {
     "data": {
      "text/plain": [
       "<matplotlib.axes._subplots.AxesSubplot at 0x1eb6ffd8048>"
      ]
     },
     "execution_count": 13,
     "metadata": {},
     "output_type": "execute_result"
    },
    {
     "data": {
      "image/png": "[encoded data removed]",
      "text/plain": [
       "<Figure size 432x288 with 1 Axes>"
      ]
     },
     "metadata": {
      "needs_background": "light"
     },
     "output_type": "display_data"
    }
   ],
   "source": [
    "dataf = data.iloc[-250:]\n",
    "dataf.rendimientoAcum.plot()"
   ]
  },
  {
   "cell_type": "code",
   "execution_count": null,
   "metadata": {},
   "outputs": [],
   "source": []
  },
  {
   "cell_type": "markdown",
   "metadata": {},
   "source": [
    "## Rolling vs Acumulativas (diferencias)\n",
    "* cummax vs rolling(n).max()\n",
    "* cummin vs rolling(n).min()\n",
    "* cumsum vs rolling(n).sum()\n",
    "\n"
   ]
  },
  {
   "cell_type": "code",
   "execution_count": null,
   "metadata": {},
   "outputs": [],
   "source": []
  },
  {
   "cell_type": "code",
   "execution_count": null,
   "metadata": {},
   "outputs": [],
   "source": []
  },
  {
   "cell_type": "code",
   "execution_count": null,
   "metadata": {},
   "outputs": [],
   "source": []
  },
  {
   "cell_type": "code",
   "execution_count": null,
   "metadata": {},
   "outputs": [],
   "source": []
  },
  {
   "cell_type": "markdown",
   "metadata": {},
   "source": [
    "# Agrupamiento"
   ]
  },
  {
   "cell_type": "code",
   "execution_count": 14,
   "metadata": {},
   "outputs": [
    {
     "data": {
      "text/html": [
       "<div>\n",
       "<style scoped>\n",
       "    .dataframe tbody tr th:only-of-type {\n",
       "        vertical-align: middle;\n",
       "    }\n",
       "\n",
       "    .dataframe tbody tr th {\n",
       "        vertical-align: top;\n",
       "    }\n",
       "\n",
       "    .dataframe thead th {\n",
       "        text-align: right;\n",
       "    }\n",
       "</style>\n",
       "<table border=\"1\" class=\"dataframe\">\n",
       "  <thead>\n",
       "    <tr style=\"text-align: right;\">\n",
       "      <th></th>\n",
       "      <th>open</th>\n",
       "      <th>high</th>\n",
       "      <th>low</th>\n",
       "      <th>close</th>\n",
       "      <th>adjusted_close</th>\n",
       "      <th>volume</th>\n",
       "    </tr>\n",
       "    <tr>\n",
       "      <th>timestamp</th>\n",
       "      <th></th>\n",
       "      <th></th>\n",
       "      <th></th>\n",
       "      <th></th>\n",
       "      <th></th>\n",
       "      <th></th>\n",
       "    </tr>\n",
       "  </thead>\n",
       "  <tbody>\n",
       "    <tr>\n",
       "      <th>2000-03-06</th>\n",
       "      <td>140.8125</td>\n",
       "      <td>141.3437</td>\n",
       "      <td>138.7500</td>\n",
       "      <td>139.7500</td>\n",
       "      <td>96.0516</td>\n",
       "      <td>11967100</td>\n",
       "    </tr>\n",
       "    <tr>\n",
       "      <th>2000-03-07</th>\n",
       "      <td>140.0000</td>\n",
       "      <td>140.1562</td>\n",
       "      <td>135.2187</td>\n",
       "      <td>137.0468</td>\n",
       "      <td>94.1937</td>\n",
       "      <td>20062000</td>\n",
       "    </tr>\n",
       "    <tr>\n",
       "      <th>2000-03-08</th>\n",
       "      <td>136.4687</td>\n",
       "      <td>137.8437</td>\n",
       "      <td>135.0312</td>\n",
       "      <td>136.8750</td>\n",
       "      <td>94.0756</td>\n",
       "      <td>11808500</td>\n",
       "    </tr>\n",
       "    <tr>\n",
       "      <th>2000-03-09</th>\n",
       "      <td>137.2500</td>\n",
       "      <td>140.8750</td>\n",
       "      <td>136.1250</td>\n",
       "      <td>140.8750</td>\n",
       "      <td>96.8248</td>\n",
       "      <td>5500900</td>\n",
       "    </tr>\n",
       "    <tr>\n",
       "      <th>2000-03-10</th>\n",
       "      <td>140.1875</td>\n",
       "      <td>142.0000</td>\n",
       "      <td>139.5312</td>\n",
       "      <td>140.1250</td>\n",
       "      <td>96.3093</td>\n",
       "      <td>7924600</td>\n",
       "    </tr>\n",
       "    <tr>\n",
       "      <th>...</th>\n",
       "      <td>...</td>\n",
       "      <td>...</td>\n",
       "      <td>...</td>\n",
       "      <td>...</td>\n",
       "      <td>...</td>\n",
       "      <td>...</td>\n",
       "    </tr>\n",
       "    <tr>\n",
       "      <th>2020-04-03</th>\n",
       "      <td>250.7600</td>\n",
       "      <td>253.3200</td>\n",
       "      <td>245.2200</td>\n",
       "      <td>248.1900</td>\n",
       "      <td>248.1900</td>\n",
       "      <td>134538553</td>\n",
       "    </tr>\n",
       "    <tr>\n",
       "      <th>2020-04-06</th>\n",
       "      <td>257.8400</td>\n",
       "      <td>267.0000</td>\n",
       "      <td>248.1698</td>\n",
       "      <td>264.8600</td>\n",
       "      <td>264.8600</td>\n",
       "      <td>186692564</td>\n",
       "    </tr>\n",
       "    <tr>\n",
       "      <th>2020-04-07</th>\n",
       "      <td>274.2100</td>\n",
       "      <td>275.0300</td>\n",
       "      <td>264.8900</td>\n",
       "      <td>265.1300</td>\n",
       "      <td>265.1300</td>\n",
       "      <td>199187791</td>\n",
       "    </tr>\n",
       "    <tr>\n",
       "      <th>2020-04-08</th>\n",
       "      <td>267.9600</td>\n",
       "      <td>276.0000</td>\n",
       "      <td>265.2542</td>\n",
       "      <td>274.0300</td>\n",
       "      <td>274.0300</td>\n",
       "      <td>152670223</td>\n",
       "    </tr>\n",
       "    <tr>\n",
       "      <th>2020-04-09</th>\n",
       "      <td>277.5700</td>\n",
       "      <td>281.2000</td>\n",
       "      <td>275.4700</td>\n",
       "      <td>278.2000</td>\n",
       "      <td>278.2000</td>\n",
       "      <td>189948139</td>\n",
       "    </tr>\n",
       "  </tbody>\n",
       "</table>\n",
       "<p>5057 rows × 6 columns</p>\n",
       "</div>"
      ],
      "text/plain": [
       "                open      high       low     close  adjusted_close     volume\n",
       "timestamp                                                                    \n",
       "2000-03-06  140.8125  141.3437  138.7500  139.7500         96.0516   11967100\n",
       "2000-03-07  140.0000  140.1562  135.2187  137.0468         94.1937   20062000\n",
       "2000-03-08  136.4687  137.8437  135.0312  136.8750         94.0756   11808500\n",
       "2000-03-09  137.2500  140.8750  136.1250  140.8750         96.8248    5500900\n",
       "2000-03-10  140.1875  142.0000  139.5312  140.1250         96.3093    7924600\n",
       "...              ...       ...       ...       ...             ...        ...\n",
       "2020-04-03  250.7600  253.3200  245.2200  248.1900        248.1900  134538553\n",
       "2020-04-06  257.8400  267.0000  248.1698  264.8600        264.8600  186692564\n",
       "2020-04-07  274.2100  275.0300  264.8900  265.1300        265.1300  199187791\n",
       "2020-04-08  267.9600  276.0000  265.2542  274.0300        274.0300  152670223\n",
       "2020-04-09  277.5700  281.2000  275.4700  278.2000        278.2000  189948139\n",
       "\n",
       "[5057 rows x 6 columns]"
      ]
     },
     "execution_count": 14,
     "metadata": {},
     "output_type": "execute_result"
    }
   ],
   "source": [
    "import pandas as pd\n",
    "\n",
    "data = pd.read_excel('excels_csvs/SPY.xlsx')\n",
    "data = data.sort_values('timestamp',ascending=True).set_index(\"timestamp\")\n",
    "data"
   ]
  },
  {
   "cell_type": "markdown",
   "metadata": {},
   "source": [
    "## Agrupamiento por columnas o toda la tabla"
   ]
  },
  {
   "cell_type": "code",
   "execution_count": 15,
   "metadata": {},
   "outputs": [
    {
     "data": {
      "text/plain": [
       "timestamp\n",
       "0     95157771129\n",
       "1    115682363236\n",
       "2    120629310698\n",
       "3    121977842455\n",
       "4    120574665088\n",
       "Name: volume, dtype: int64"
      ]
     },
     "execution_count": 15,
     "metadata": {},
     "output_type": "execute_result"
    }
   ],
   "source": [
    "data = pd.read_excel('excels_csvs/SPY.xlsx')\n",
    "data = data.sort_values('timestamp',ascending=True).set_index(\"timestamp\")\n",
    "data['variacion'] = data.adjusted_close.pct_change()\n",
    "\n",
    "pd.options.display.max_rows = 10\n",
    "\n",
    "agrupados = data.volume.groupby(data.index.dayofweek).sum()\n",
    "\n",
    "\n",
    "agrupados"
   ]
  },
  {
   "cell_type": "code",
   "execution_count": 16,
   "metadata": {},
   "outputs": [
    {
     "data": {
      "text/plain": [
       "timestamp\n",
       "2000Q1    103.6151\n",
       "2000Q2    100.3432\n",
       "2000Q3     99.4543\n",
       "2000Q4     91.1271\n",
       "2001Q1     81.2860\n",
       "            ...   \n",
       "2019Q2    290.2265\n",
       "2019Q3    295.3244\n",
       "2019Q4    321.8600\n",
       "2020Q1    257.7500\n",
       "2020Q2    278.2000\n",
       "Freq: Q-DEC, Name: adjusted_close, Length: 82, dtype: float64"
      ]
     },
     "execution_count": 16,
     "metadata": {},
     "output_type": "execute_result"
    }
   ],
   "source": [
    "data = pd.read_excel('excels_csvs/SPY.xlsx')\n",
    "data = data.sort_values('timestamp',ascending=True).set_index(\"timestamp\", drop=False)\n",
    "data['variacion'] = data.adjusted_close.pct_change()\n",
    "agrupados = data.adjusted_close.groupby(data.index.to_period('Q')).last()\n",
    "\n",
    "agrupados"
   ]
  },
  {
   "cell_type": "markdown",
   "metadata": {},
   "source": [
    "## Métodos para concatenar a los agrupamientos"
   ]
  },
  {
   "cell_type": "markdown",
   "metadata": {},
   "source": [
    "Así como usamos la funcón count() podemos usar otro tipo de funciones, por ejemplo:\n",
    "* first()\n",
    "* last()\n",
    "* min()\n",
    "* max()\n",
    "* sum()\n",
    "* prod()\n",
    "* mean()\n",
    "* median()\n",
    "* std() desvio estandar (sigma)\n",
    "* var() varianza (sigma^2)\n",
    "* skew()  (Coeficiente de asimetria)\n",
    "* kurtosis() \n",
    "* quantile()  "
   ]
  },
  {
   "cell_type": "markdown",
   "metadata": {},
   "source": [
    "## Criterios de agrupamiento del tipo fechas"
   ]
  },
  {
   "cell_type": "markdown",
   "metadata": {},
   "source": [
    "# Mas funciones"
   ]
  },
  {
   "cell_type": "markdown",
   "metadata": {},
   "source": [
    "## Clip (Acotado)\n",
    "Esta función \"acota\" los valores de una columna entre un mínimo y un máximo, es muy útil para descartar la incidencia de \"outliers\" o \"datos aberrantes\" o \"valores de colas\" o simplemente \"errores\" del data feed"
   ]
  },
  {
   "cell_type": "code",
   "execution_count": 17,
   "metadata": {},
   "outputs": [
    {
     "data": {
      "text/html": [
       "<div>\n",
       "<style scoped>\n",
       "    .dataframe tbody tr th:only-of-type {\n",
       "        vertical-align: middle;\n",
       "    }\n",
       "\n",
       "    .dataframe tbody tr th {\n",
       "        vertical-align: top;\n",
       "    }\n",
       "\n",
       "    .dataframe thead th {\n",
       "        text-align: right;\n",
       "    }\n",
       "</style>\n",
       "<table border=\"1\" class=\"dataframe\">\n",
       "  <thead>\n",
       "    <tr style=\"text-align: right;\">\n",
       "      <th></th>\n",
       "      <th>AAPL</th>\n",
       "      <th>SPY</th>\n",
       "      <th>QQQ</th>\n",
       "    </tr>\n",
       "    <tr>\n",
       "      <th>timestamp</th>\n",
       "      <th></th>\n",
       "      <th></th>\n",
       "      <th></th>\n",
       "    </tr>\n",
       "  </thead>\n",
       "  <tbody>\n",
       "    <tr>\n",
       "      <th>2020-02-26</th>\n",
       "      <td>1.586365</td>\n",
       "      <td>-0.367823</td>\n",
       "      <td>0.515392</td>\n",
       "    </tr>\n",
       "    <tr>\n",
       "      <th>2020-02-27</th>\n",
       "      <td>-6.536819</td>\n",
       "      <td>-4.491172</td>\n",
       "      <td>-5.007391</td>\n",
       "    </tr>\n",
       "    <tr>\n",
       "      <th>2020-02-28</th>\n",
       "      <td>-0.058497</td>\n",
       "      <td>-0.420154</td>\n",
       "      <td>0.077806</td>\n",
       "    </tr>\n",
       "    <tr>\n",
       "      <th>2020-03-02</th>\n",
       "      <td>9.310067</td>\n",
       "      <td>4.330656</td>\n",
       "      <td>5.160350</td>\n",
       "    </tr>\n",
       "    <tr>\n",
       "      <th>2020-03-03</th>\n",
       "      <td>-3.175931</td>\n",
       "      <td>-2.863244</td>\n",
       "      <td>-3.206728</td>\n",
       "    </tr>\n",
       "    <tr>\n",
       "      <th>2020-03-04</th>\n",
       "      <td>4.638463</td>\n",
       "      <td>4.203304</td>\n",
       "      <td>4.172236</td>\n",
       "    </tr>\n",
       "    <tr>\n",
       "      <th>2020-03-05</th>\n",
       "      <td>-3.243707</td>\n",
       "      <td>-3.324171</td>\n",
       "      <td>-3.038218</td>\n",
       "    </tr>\n",
       "    <tr>\n",
       "      <th>2020-03-06</th>\n",
       "      <td>-1.328008</td>\n",
       "      <td>-1.653111</td>\n",
       "      <td>-1.687225</td>\n",
       "    </tr>\n",
       "  </tbody>\n",
       "</table>\n",
       "</div>"
      ],
      "text/plain": [
       "                AAPL       SPY       QQQ\n",
       "timestamp                               \n",
       "2020-02-26  1.586365 -0.367823  0.515392\n",
       "2020-02-27 -6.536819 -4.491172 -5.007391\n",
       "2020-02-28 -0.058497 -0.420154  0.077806\n",
       "2020-03-02  9.310067  4.330656  5.160350\n",
       "2020-03-03 -3.175931 -2.863244 -3.206728\n",
       "2020-03-04  4.638463  4.203304  4.172236\n",
       "2020-03-05 -3.243707 -3.324171 -3.038218\n",
       "2020-03-06 -1.328008 -1.653111 -1.687225"
      ]
     },
     "execution_count": 17,
     "metadata": {},
     "output_type": "execute_result"
    }
   ],
   "source": [
    "tabla = pd.read_excel('excels_csvs/AAPL_SPY_QQQ.xlsx')\n",
    "tabla.set_index(\"timestamp\",inplace=True)\n",
    "tabla.tail(8)"
   ]
  },
  {
   "cell_type": "markdown",
   "metadata": {},
   "source": [
    "Supongamos que no queremos considerar los valores superiores a +8% o los inferiores a -8% y queremos \"topearlos\" en esos límites"
   ]
  },
  {
   "cell_type": "code",
   "execution_count": 18,
   "metadata": {},
   "outputs": [
    {
     "data": {
      "text/html": [
       "<div>\n",
       "<style scoped>\n",
       "    .dataframe tbody tr th:only-of-type {\n",
       "        vertical-align: middle;\n",
       "    }\n",
       "\n",
       "    .dataframe tbody tr th {\n",
       "        vertical-align: top;\n",
       "    }\n",
       "\n",
       "    .dataframe thead th {\n",
       "        text-align: right;\n",
       "    }\n",
       "</style>\n",
       "<table border=\"1\" class=\"dataframe\">\n",
       "  <thead>\n",
       "    <tr style=\"text-align: right;\">\n",
       "      <th></th>\n",
       "      <th>AAPL</th>\n",
       "      <th>SPY</th>\n",
       "      <th>QQQ</th>\n",
       "    </tr>\n",
       "    <tr>\n",
       "      <th>timestamp</th>\n",
       "      <th></th>\n",
       "      <th></th>\n",
       "      <th></th>\n",
       "    </tr>\n",
       "  </thead>\n",
       "  <tbody>\n",
       "    <tr>\n",
       "      <th>2020-02-26</th>\n",
       "      <td>1.586365</td>\n",
       "      <td>-0.367823</td>\n",
       "      <td>0.515392</td>\n",
       "    </tr>\n",
       "    <tr>\n",
       "      <th>2020-02-27</th>\n",
       "      <td>-6.000000</td>\n",
       "      <td>-4.491172</td>\n",
       "      <td>-5.007391</td>\n",
       "    </tr>\n",
       "    <tr>\n",
       "      <th>2020-02-28</th>\n",
       "      <td>-0.058497</td>\n",
       "      <td>-0.420154</td>\n",
       "      <td>0.077806</td>\n",
       "    </tr>\n",
       "    <tr>\n",
       "      <th>2020-03-02</th>\n",
       "      <td>8.000000</td>\n",
       "      <td>4.330656</td>\n",
       "      <td>5.160350</td>\n",
       "    </tr>\n",
       "    <tr>\n",
       "      <th>2020-03-03</th>\n",
       "      <td>-3.175931</td>\n",
       "      <td>-2.863244</td>\n",
       "      <td>-3.206728</td>\n",
       "    </tr>\n",
       "    <tr>\n",
       "      <th>2020-03-04</th>\n",
       "      <td>4.638463</td>\n",
       "      <td>4.203304</td>\n",
       "      <td>4.172236</td>\n",
       "    </tr>\n",
       "    <tr>\n",
       "      <th>2020-03-05</th>\n",
       "      <td>-3.243707</td>\n",
       "      <td>-3.324171</td>\n",
       "      <td>-3.038218</td>\n",
       "    </tr>\n",
       "    <tr>\n",
       "      <th>2020-03-06</th>\n",
       "      <td>-1.328008</td>\n",
       "      <td>-1.653111</td>\n",
       "      <td>-1.687225</td>\n",
       "    </tr>\n",
       "  </tbody>\n",
       "</table>\n",
       "</div>"
      ],
      "text/plain": [
       "                AAPL       SPY       QQQ\n",
       "timestamp                               \n",
       "2020-02-26  1.586365 -0.367823  0.515392\n",
       "2020-02-27 -6.000000 -4.491172 -5.007391\n",
       "2020-02-28 -0.058497 -0.420154  0.077806\n",
       "2020-03-02  8.000000  4.330656  5.160350\n",
       "2020-03-03 -3.175931 -2.863244 -3.206728\n",
       "2020-03-04  4.638463  4.203304  4.172236\n",
       "2020-03-05 -3.243707 -3.324171 -3.038218\n",
       "2020-03-06 -1.328008 -1.653111 -1.687225"
      ]
     },
     "execution_count": 18,
     "metadata": {},
     "output_type": "execute_result"
    }
   ],
   "source": [
    "tabla = pd.read_excel('excels_csvs/AAPL_SPY_QQQ.xlsx')    \n",
    "tabla.set_index(\"timestamp\",inplace=True)\n",
    "tabla_acotada = tabla.clip(-6,8)\n",
    "tabla_acotada.tail(8)"
   ]
  },
  {
   "cell_type": "markdown",
   "metadata": {},
   "source": [
    "como vemos en el dato del 2 de marzo de 2020, que teníamos un 9.31, lo cambió por 8 que era nuestro \"tope\""
   ]
  },
  {
   "cell_type": "markdown",
   "metadata": {},
   "source": [
    "## Funciones Estadísticas Báscias\n",
    "Gracias a pandas tenemos a disposición de un clic las siguientes funcones estadísticas básicas:\n",
    "* Valor máximo: max()\n",
    "* Valor mínimo: min()\n",
    "* Indice de valores mínimos y máximos: idxmin() e idxmax()\n",
    "* Media: mean()\n",
    "* Mediana: madian()\n",
    "* Producto: prod()  o product()\n",
    "* Suma: sum()\n",
    "* Ranking: rank()\n",
    "* Quantiles: quantile()\n",
    "* Cantidad de valores únicos: nunique()"
   ]
  },
  {
   "cell_type": "code",
   "execution_count": null,
   "metadata": {},
   "outputs": [],
   "source": []
  },
  {
   "cell_type": "code",
   "execution_count": null,
   "metadata": {},
   "outputs": [],
   "source": []
  },
  {
   "cell_type": "markdown",
   "metadata": {},
   "source": [
    "Tambien podemos agrupar por otro tipo de datos:\n",
    "* Cualquier columna discreta (supongamos que tengamos una con True/False)\n",
    "* Tambíen se puede discretizar un rango continuo pero ya veremos ottras herramientas mas interesantes para eso\n",
    "* Cualquier otro agrupamiento de fechas:\n",
    "    * year\n",
    "    * month\n",
    "    * week\n",
    "    * dayofweek\n",
    "    * mas de un criterio\n",
    "    * Trimestral: usando to_period('Q') "
   ]
  },
  {
   "cell_type": "code",
   "execution_count": null,
   "metadata": {},
   "outputs": [],
   "source": []
  },
  {
   "cell_type": "code",
   "execution_count": 24,
   "metadata": {},
   "outputs": [
    {
     "data": {
      "text/html": [
       "<div>\n",
       "<style scoped>\n",
       "    .dataframe tbody tr th:only-of-type {\n",
       "        vertical-align: middle;\n",
       "    }\n",
       "\n",
       "    .dataframe tbody tr th {\n",
       "        vertical-align: top;\n",
       "    }\n",
       "\n",
       "    .dataframe thead th {\n",
       "        text-align: right;\n",
       "    }\n",
       "</style>\n",
       "<table border=\"1\" class=\"dataframe\">\n",
       "  <thead>\n",
       "    <tr style=\"text-align: right;\">\n",
       "      <th></th>\n",
       "      <th>AAPL</th>\n",
       "      <th>SPY</th>\n",
       "      <th>QQQ</th>\n",
       "      <th>AAPL-ranks</th>\n",
       "      <th>AAPL-rank_p</th>\n",
       "    </tr>\n",
       "    <tr>\n",
       "      <th>timestamp</th>\n",
       "      <th></th>\n",
       "      <th></th>\n",
       "      <th></th>\n",
       "      <th></th>\n",
       "      <th></th>\n",
       "    </tr>\n",
       "  </thead>\n",
       "  <tbody>\n",
       "    <tr>\n",
       "      <th>2000-03-07</th>\n",
       "      <td>-2.243326</td>\n",
       "      <td>-1.934273</td>\n",
       "      <td>-1.518552</td>\n",
       "      <td>602.0</td>\n",
       "      <td>0.119634</td>\n",
       "    </tr>\n",
       "    <tr>\n",
       "      <th>2000-03-08</th>\n",
       "      <td>-0.708922</td>\n",
       "      <td>-0.125380</td>\n",
       "      <td>0.907052</td>\n",
       "      <td>1522.0</td>\n",
       "      <td>0.302464</td>\n",
       "    </tr>\n",
       "    <tr>\n",
       "      <th>2000-03-09</th>\n",
       "      <td>0.206262</td>\n",
       "      <td>2.922331</td>\n",
       "      <td>3.370767</td>\n",
       "      <td>2674.0</td>\n",
       "      <td>0.531399</td>\n",
       "    </tr>\n",
       "    <tr>\n",
       "      <th>2000-03-10</th>\n",
       "      <td>2.863250</td>\n",
       "      <td>-0.532405</td>\n",
       "      <td>-0.434793</td>\n",
       "      <td>4560.0</td>\n",
       "      <td>0.906200</td>\n",
       "    </tr>\n",
       "    <tr>\n",
       "      <th>2000-03-13</th>\n",
       "      <td>-3.532671</td>\n",
       "      <td>-1.092729</td>\n",
       "      <td>-2.620053</td>\n",
       "      <td>276.0</td>\n",
       "      <td>0.054849</td>\n",
       "    </tr>\n",
       "    <tr>\n",
       "      <th>...</th>\n",
       "      <td>...</td>\n",
       "      <td>...</td>\n",
       "      <td>...</td>\n",
       "      <td>...</td>\n",
       "      <td>...</td>\n",
       "    </tr>\n",
       "    <tr>\n",
       "      <th>2020-03-02</th>\n",
       "      <td>9.310067</td>\n",
       "      <td>4.330656</td>\n",
       "      <td>5.160350</td>\n",
       "      <td>5011.0</td>\n",
       "      <td>0.995827</td>\n",
       "    </tr>\n",
       "    <tr>\n",
       "      <th>2020-03-03</th>\n",
       "      <td>-3.175931</td>\n",
       "      <td>-2.863244</td>\n",
       "      <td>-3.206728</td>\n",
       "      <td>322.0</td>\n",
       "      <td>0.063990</td>\n",
       "    </tr>\n",
       "    <tr>\n",
       "      <th>2020-03-04</th>\n",
       "      <td>4.638463</td>\n",
       "      <td>4.203304</td>\n",
       "      <td>4.172236</td>\n",
       "      <td>4858.0</td>\n",
       "      <td>0.965421</td>\n",
       "    </tr>\n",
       "    <tr>\n",
       "      <th>2020-03-05</th>\n",
       "      <td>-3.243707</td>\n",
       "      <td>-3.324171</td>\n",
       "      <td>-3.038218</td>\n",
       "      <td>313.0</td>\n",
       "      <td>0.062202</td>\n",
       "    </tr>\n",
       "    <tr>\n",
       "      <th>2020-03-06</th>\n",
       "      <td>-1.328008</td>\n",
       "      <td>-1.653111</td>\n",
       "      <td>-1.687225</td>\n",
       "      <td>1040.0</td>\n",
       "      <td>0.206677</td>\n",
       "    </tr>\n",
       "  </tbody>\n",
       "</table>\n",
       "<p>5032 rows × 5 columns</p>\n",
       "</div>"
      ],
      "text/plain": [
       "                AAPL       SPY       QQQ  AAPL-ranks  AAPL-rank_p\n",
       "timestamp                                                        \n",
       "2000-03-07 -2.243326 -1.934273 -1.518552       602.0     0.119634\n",
       "2000-03-08 -0.708922 -0.125380  0.907052      1522.0     0.302464\n",
       "2000-03-09  0.206262  2.922331  3.370767      2674.0     0.531399\n",
       "2000-03-10  2.863250 -0.532405 -0.434793      4560.0     0.906200\n",
       "2000-03-13 -3.532671 -1.092729 -2.620053       276.0     0.054849\n",
       "...              ...       ...       ...         ...          ...\n",
       "2020-03-02  9.310067  4.330656  5.160350      5011.0     0.995827\n",
       "2020-03-03 -3.175931 -2.863244 -3.206728       322.0     0.063990\n",
       "2020-03-04  4.638463  4.203304  4.172236      4858.0     0.965421\n",
       "2020-03-05 -3.243707 -3.324171 -3.038218       313.0     0.062202\n",
       "2020-03-06 -1.328008 -1.653111 -1.687225      1040.0     0.206677\n",
       "\n",
       "[5032 rows x 5 columns]"
      ]
     },
     "execution_count": 24,
     "metadata": {},
     "output_type": "execute_result"
    }
   ],
   "source": [
    "tabla['AAPL-ranks'] = tabla.AAPL.rank()\n",
    "tabla['AAPL-rank_p'] = tabla.AAPL.rank(pct=True)\n",
    "tabla"
   ]
  },
  {
   "cell_type": "code",
   "execution_count": 25,
   "metadata": {},
   "outputs": [
    {
     "data": {
      "text/plain": [
       "-6.327301325275796"
      ]
     },
     "execution_count": 25,
     "metadata": {},
     "output_type": "execute_result"
    }
   ],
   "source": [
    "tabla.AAPL.quantile(0.01)"
   ]
  },
  {
   "cell_type": "code",
   "execution_count": 26,
   "metadata": {},
   "outputs": [
    {
     "data": {
      "text/plain": [
       "9.31011051842701"
      ]
     },
     "execution_count": 26,
     "metadata": {},
     "output_type": "execute_result"
    }
   ],
   "source": [
    "tabla.AAPL.quantile(0.995827)"
   ]
  },
  {
   "cell_type": "code",
   "execution_count": 37,
   "metadata": {},
   "outputs": [
    {
     "name": "stdout",
     "output_type": "stream",
     "text": [
      "[*********************100%***********************]  1 of 1 downloaded\n"
     ]
    },
    {
     "data": {
      "text/html": [
       "<div>\n",
       "<style scoped>\n",
       "    .dataframe tbody tr th:only-of-type {\n",
       "        vertical-align: middle;\n",
       "    }\n",
       "\n",
       "    .dataframe tbody tr th {\n",
       "        vertical-align: top;\n",
       "    }\n",
       "\n",
       "    .dataframe thead th {\n",
       "        text-align: right;\n",
       "    }\n",
       "</style>\n",
       "<table border=\"1\" class=\"dataframe\">\n",
       "  <thead>\n",
       "    <tr style=\"text-align: right;\">\n",
       "      <th></th>\n",
       "      <th>Open</th>\n",
       "      <th>High</th>\n",
       "      <th>Low</th>\n",
       "      <th>Close</th>\n",
       "      <th>Adj Close</th>\n",
       "      <th>Volume</th>\n",
       "      <th>variacion</th>\n",
       "    </tr>\n",
       "    <tr>\n",
       "      <th>Date</th>\n",
       "      <th></th>\n",
       "      <th></th>\n",
       "      <th></th>\n",
       "      <th></th>\n",
       "      <th></th>\n",
       "      <th></th>\n",
       "      <th></th>\n",
       "    </tr>\n",
       "  </thead>\n",
       "  <tbody>\n",
       "    <tr>\n",
       "      <th>1980-12-12</th>\n",
       "      <td>0.51</td>\n",
       "      <td>0.52</td>\n",
       "      <td>0.51</td>\n",
       "      <td>0.51</td>\n",
       "      <td>0.40</td>\n",
       "      <td>117258400</td>\n",
       "      <td>NaN</td>\n",
       "    </tr>\n",
       "    <tr>\n",
       "      <th>1980-12-15</th>\n",
       "      <td>0.49</td>\n",
       "      <td>0.49</td>\n",
       "      <td>0.49</td>\n",
       "      <td>0.49</td>\n",
       "      <td>0.38</td>\n",
       "      <td>43971200</td>\n",
       "      <td>-5.000000</td>\n",
       "    </tr>\n",
       "    <tr>\n",
       "      <th>1980-12-16</th>\n",
       "      <td>0.45</td>\n",
       "      <td>0.45</td>\n",
       "      <td>0.45</td>\n",
       "      <td>0.45</td>\n",
       "      <td>0.36</td>\n",
       "      <td>26432000</td>\n",
       "      <td>-5.263158</td>\n",
       "    </tr>\n",
       "    <tr>\n",
       "      <th>1980-12-17</th>\n",
       "      <td>0.46</td>\n",
       "      <td>0.46</td>\n",
       "      <td>0.46</td>\n",
       "      <td>0.46</td>\n",
       "      <td>0.36</td>\n",
       "      <td>21610400</td>\n",
       "      <td>0.000000</td>\n",
       "    </tr>\n",
       "    <tr>\n",
       "      <th>1980-12-18</th>\n",
       "      <td>0.48</td>\n",
       "      <td>0.48</td>\n",
       "      <td>0.48</td>\n",
       "      <td>0.48</td>\n",
       "      <td>0.38</td>\n",
       "      <td>18362400</td>\n",
       "      <td>5.555556</td>\n",
       "    </tr>\n",
       "    <tr>\n",
       "      <th>...</th>\n",
       "      <td>...</td>\n",
       "      <td>...</td>\n",
       "      <td>...</td>\n",
       "      <td>...</td>\n",
       "      <td>...</td>\n",
       "      <td>...</td>\n",
       "      <td>...</td>\n",
       "    </tr>\n",
       "    <tr>\n",
       "      <th>2020-08-20</th>\n",
       "      <td>463.00</td>\n",
       "      <td>473.57</td>\n",
       "      <td>462.93</td>\n",
       "      <td>473.10</td>\n",
       "      <td>473.10</td>\n",
       "      <td>31726800</td>\n",
       "      <td>2.218957</td>\n",
       "    </tr>\n",
       "    <tr>\n",
       "      <th>2020-08-21</th>\n",
       "      <td>477.05</td>\n",
       "      <td>499.47</td>\n",
       "      <td>477.00</td>\n",
       "      <td>497.48</td>\n",
       "      <td>497.48</td>\n",
       "      <td>84513700</td>\n",
       "      <td>5.153245</td>\n",
       "    </tr>\n",
       "    <tr>\n",
       "      <th>2020-08-24</th>\n",
       "      <td>514.79</td>\n",
       "      <td>515.14</td>\n",
       "      <td>495.75</td>\n",
       "      <td>503.43</td>\n",
       "      <td>503.43</td>\n",
       "      <td>86484400</td>\n",
       "      <td>1.196028</td>\n",
       "    </tr>\n",
       "    <tr>\n",
       "      <th>2020-08-25</th>\n",
       "      <td>498.79</td>\n",
       "      <td>500.72</td>\n",
       "      <td>492.21</td>\n",
       "      <td>499.30</td>\n",
       "      <td>499.30</td>\n",
       "      <td>52776900</td>\n",
       "      <td>-0.820372</td>\n",
       "    </tr>\n",
       "    <tr>\n",
       "      <th>2020-08-26</th>\n",
       "      <td>504.72</td>\n",
       "      <td>507.97</td>\n",
       "      <td>500.33</td>\n",
       "      <td>506.09</td>\n",
       "      <td>506.09</td>\n",
       "      <td>39807512</td>\n",
       "      <td>1.359904</td>\n",
       "    </tr>\n",
       "  </tbody>\n",
       "</table>\n",
       "<p>10011 rows × 7 columns</p>\n",
       "</div>"
      ],
      "text/plain": [
       "              Open    High     Low   Close  Adj Close     Volume  variacion\n",
       "Date                                                                       \n",
       "1980-12-12    0.51    0.52    0.51    0.51       0.40  117258400        NaN\n",
       "1980-12-15    0.49    0.49    0.49    0.49       0.38   43971200  -5.000000\n",
       "1980-12-16    0.45    0.45    0.45    0.45       0.36   26432000  -5.263158\n",
       "1980-12-17    0.46    0.46    0.46    0.46       0.36   21610400   0.000000\n",
       "1980-12-18    0.48    0.48    0.48    0.48       0.38   18362400   5.555556\n",
       "...            ...     ...     ...     ...        ...        ...        ...\n",
       "2020-08-20  463.00  473.57  462.93  473.10     473.10   31726800   2.218957\n",
       "2020-08-21  477.05  499.47  477.00  497.48     497.48   84513700   5.153245\n",
       "2020-08-24  514.79  515.14  495.75  503.43     503.43   86484400   1.196028\n",
       "2020-08-25  498.79  500.72  492.21  499.30     499.30   52776900  -0.820372\n",
       "2020-08-26  504.72  507.97  500.33  506.09     506.09   39807512   1.359904\n",
       "\n",
       "[10011 rows x 7 columns]"
      ]
     },
     "execution_count": 37,
     "metadata": {},
     "output_type": "execute_result"
    }
   ],
   "source": [
    "import yfinance as yf\n",
    "data = yf.download('AAPL')\n",
    "data['variacion']  = data['Adj Close'].pct_change() * 100\n",
    "data"
   ]
  },
  {
   "cell_type": "code",
   "execution_count": 38,
   "metadata": {},
   "outputs": [
    {
     "data": {
      "text/html": [
       "<div>\n",
       "<style scoped>\n",
       "    .dataframe tbody tr th:only-of-type {\n",
       "        vertical-align: middle;\n",
       "    }\n",
       "\n",
       "    .dataframe tbody tr th {\n",
       "        vertical-align: top;\n",
       "    }\n",
       "\n",
       "    .dataframe thead th {\n",
       "        text-align: right;\n",
       "    }\n",
       "</style>\n",
       "<table border=\"1\" class=\"dataframe\">\n",
       "  <thead>\n",
       "    <tr style=\"text-align: right;\">\n",
       "      <th></th>\n",
       "      <th>Open</th>\n",
       "      <th>High</th>\n",
       "      <th>Low</th>\n",
       "      <th>Close</th>\n",
       "      <th>Adj Close</th>\n",
       "      <th>Volume</th>\n",
       "      <th>variacion</th>\n",
       "    </tr>\n",
       "  </thead>\n",
       "  <tbody>\n",
       "    <tr>\n",
       "      <th>count</th>\n",
       "      <td>10011.000000</td>\n",
       "      <td>10011.000000</td>\n",
       "      <td>10011.000000</td>\n",
       "      <td>10011.000000</td>\n",
       "      <td>10011.000000</td>\n",
       "      <td>1.001100e+04</td>\n",
       "      <td>10010.000000</td>\n",
       "    </tr>\n",
       "    <tr>\n",
       "      <th>mean</th>\n",
       "      <td>35.862509</td>\n",
       "      <td>36.237777</td>\n",
       "      <td>35.496513</td>\n",
       "      <td>35.885103</td>\n",
       "      <td>33.721271</td>\n",
       "      <td>8.534559e+07</td>\n",
       "      <td>0.114497</td>\n",
       "    </tr>\n",
       "    <tr>\n",
       "      <th>std</th>\n",
       "      <td>66.704129</td>\n",
       "      <td>67.436719</td>\n",
       "      <td>66.058949</td>\n",
       "      <td>66.809060</td>\n",
       "      <td>65.176865</td>\n",
       "      <td>8.567663e+07</td>\n",
       "      <td>2.910707</td>\n",
       "    </tr>\n",
       "    <tr>\n",
       "      <th>min</th>\n",
       "      <td>0.200000</td>\n",
       "      <td>0.200000</td>\n",
       "      <td>0.200000</td>\n",
       "      <td>0.200000</td>\n",
       "      <td>0.150000</td>\n",
       "      <td>3.472000e+05</td>\n",
       "      <td>-51.818182</td>\n",
       "    </tr>\n",
       "    <tr>\n",
       "      <th>25%</th>\n",
       "      <td>1.080000</td>\n",
       "      <td>1.100000</td>\n",
       "      <td>1.060000</td>\n",
       "      <td>1.080000</td>\n",
       "      <td>0.920000</td>\n",
       "      <td>3.288115e+07</td>\n",
       "      <td>-1.315789</td>\n",
       "    </tr>\n",
       "    <tr>\n",
       "      <th>50%</th>\n",
       "      <td>1.750000</td>\n",
       "      <td>1.780000</td>\n",
       "      <td>1.720000</td>\n",
       "      <td>1.750000</td>\n",
       "      <td>1.480000</td>\n",
       "      <td>5.716550e+07</td>\n",
       "      <td>0.000000</td>\n",
       "    </tr>\n",
       "    <tr>\n",
       "      <th>75%</th>\n",
       "      <td>39.555000</td>\n",
       "      <td>39.785000</td>\n",
       "      <td>38.945000</td>\n",
       "      <td>39.425000</td>\n",
       "      <td>34.065000</td>\n",
       "      <td>1.062915e+08</td>\n",
       "      <td>1.531243</td>\n",
       "    </tr>\n",
       "    <tr>\n",
       "      <th>max</th>\n",
       "      <td>514.790000</td>\n",
       "      <td>515.140000</td>\n",
       "      <td>500.330000</td>\n",
       "      <td>506.090000</td>\n",
       "      <td>506.090000</td>\n",
       "      <td>1.855410e+09</td>\n",
       "      <td>32.786885</td>\n",
       "    </tr>\n",
       "  </tbody>\n",
       "</table>\n",
       "</div>"
      ],
      "text/plain": [
       "               Open          High           Low         Close     Adj Close  \\\n",
       "count  10011.000000  10011.000000  10011.000000  10011.000000  10011.000000   \n",
       "mean      35.862509     36.237777     35.496513     35.885103     33.721271   \n",
       "std       66.704129     67.436719     66.058949     66.809060     65.176865   \n",
       "min        0.200000      0.200000      0.200000      0.200000      0.150000   \n",
       "25%        1.080000      1.100000      1.060000      1.080000      0.920000   \n",
       "50%        1.750000      1.780000      1.720000      1.750000      1.480000   \n",
       "75%       39.555000     39.785000     38.945000     39.425000     34.065000   \n",
       "max      514.790000    515.140000    500.330000    506.090000    506.090000   \n",
       "\n",
       "             Volume     variacion  \n",
       "count  1.001100e+04  10010.000000  \n",
       "mean   8.534559e+07      0.114497  \n",
       "std    8.567663e+07      2.910707  \n",
       "min    3.472000e+05    -51.818182  \n",
       "25%    3.288115e+07     -1.315789  \n",
       "50%    5.716550e+07      0.000000  \n",
       "75%    1.062915e+08      1.531243  \n",
       "max    1.855410e+09     32.786885  "
      ]
     },
     "execution_count": 38,
     "metadata": {},
     "output_type": "execute_result"
    }
   ],
   "source": [
    "data.describe()"
   ]
  },
  {
   "cell_type": "code",
   "execution_count": 39,
   "metadata": {},
   "outputs": [
    {
     "data": {
      "text/plain": [
       "Open         2.558409\n",
       "High         2.569081\n",
       "Low          2.553393\n",
       "Close        2.566013\n",
       "Adj Close    2.730766\n",
       "Volume       3.502708\n",
       "variacion   -0.395357\n",
       "dtype: float64"
      ]
     },
     "execution_count": 39,
     "metadata": {},
     "output_type": "execute_result"
    }
   ],
   "source": [
    "data.skew()"
   ]
  },
  {
   "cell_type": "markdown",
   "metadata": {},
   "source": [
    "# Repaso de Estadística"
   ]
  },
  {
   "cell_type": "markdown",
   "metadata": {},
   "source": [
    "## Desvío Estandrar - Fórmulas"
   ]
  },
  {
   "cell_type": "markdown",
   "metadata": {},
   "source": [
    "El desvio es el sigma, la varianza es el sigma cuadrado"
   ]
  },
  {
   "cell_type": "markdown",
   "metadata": {},
   "source": [
    "$$ \\large \\sigma^2 = \\sum_{x=i}^{n} \\frac{1}{n} . (X_i - \\bar{X} )^2  $$"
   ]
  },
  {
   "cell_type": "code",
   "execution_count": 29,
   "metadata": {},
   "outputs": [
    {
     "data": {
      "text/plain": [
       "AAPL              2.509999\n",
       "SPY               1.193366\n",
       "QQQ               1.694009\n",
       "AAPL-ranks     1452.757469\n",
       "AAPL-rank_p       0.288704\n",
       "dtype: float64"
      ]
     },
     "execution_count": 29,
     "metadata": {},
     "output_type": "execute_result"
    }
   ],
   "source": [
    "tabla.std()"
   ]
  },
  {
   "cell_type": "markdown",
   "metadata": {},
   "source": [
    "## Error estandar - Fórmulas"
   ]
  },
  {
   "cell_type": "markdown",
   "metadata": {},
   "source": [
    "$$ \\Large \\frac{\\sigma}{\\sqrt{n}}$$ "
   ]
  },
  {
   "cell_type": "code",
   "execution_count": 30,
   "metadata": {},
   "outputs": [
    {
     "data": {
      "text/plain": [
       "AAPL            0.035384\n",
       "SPY             0.016823\n",
       "QQQ             0.023881\n",
       "AAPL-ranks     20.479663\n",
       "AAPL-rank_p     0.004070\n",
       "dtype: float64"
      ]
     },
     "execution_count": 30,
     "metadata": {},
     "output_type": "execute_result"
    }
   ],
   "source": [
    "tabla.sem()"
   ]
  },
  {
   "cell_type": "markdown",
   "metadata": {},
   "source": [
    "## Varianza"
   ]
  },
  {
   "cell_type": "code",
   "execution_count": 31,
   "metadata": {},
   "outputs": [
    {
     "data": {
      "text/plain": [
       "AAPL           6.300093e+00\n",
       "SPY            1.424123e+00\n",
       "QQQ            2.869668e+00\n",
       "AAPL-ranks     2.110504e+06\n",
       "AAPL-rank_p    8.334988e-02\n",
       "dtype: float64"
      ]
     },
     "execution_count": 31,
     "metadata": {},
     "output_type": "execute_result"
    }
   ],
   "source": [
    "tabla.var()"
   ]
  },
  {
   "cell_type": "markdown",
   "metadata": {},
   "source": [
    "## Skew - Fórmulas"
   ]
  },
  {
   "cell_type": "markdown",
   "metadata": {},
   "source": [
    "$$ \\large  skew =  \\frac{\\mu_3}{\\sigma^3}  =  \\frac{\\sum_{x=i}^{n} \\frac{1}{n} . (X_i - \\bar{X} )^3}{\\sigma^3} $$"
   ]
  },
  {
   "cell_type": "markdown",
   "metadata": {},
   "source": [
    "## Repaso de Coeficiente de Asimetría"
   ]
  },
  {
   "cell_type": "markdown",
   "metadata": {},
   "source": [
    "<img src='imagenes/skew.png' style='width:600px;float:left;'>"
   ]
  },
  {
   "cell_type": "markdown",
   "metadata": {},
   "source": [
    "## Repaso de quantiles, cuartiles, quintiles, deciles, percentiles y blabla_iles"
   ]
  },
  {
   "cell_type": "markdown",
   "metadata": {},
   "source": [
    "<img src='imagenes/quantiles.png' style='width:600px;float:left;'>"
   ]
  },
  {
   "cell_type": "code",
   "execution_count": 40,
   "metadata": {},
   "outputs": [
    {
     "data": {
      "text/plain": [
       "0.0"
      ]
     },
     "execution_count": 40,
     "metadata": {},
     "output_type": "execute_result"
    }
   ],
   "source": [
    "data.variacion.quantile(0.5)"
   ]
  },
  {
   "cell_type": "code",
   "execution_count": 41,
   "metadata": {},
   "outputs": [
    {
     "data": {
      "text/plain": [
       "Date\n",
       "1980-12-12         NaN\n",
       "1980-12-15    0.033267\n",
       "1980-12-16    0.029221\n",
       "1980-12-17    0.486014\n",
       "1980-12-18    0.968332\n",
       "                ...   \n",
       "2020-08-20    0.824975\n",
       "2020-08-21    0.961139\n",
       "2020-08-24    0.711389\n",
       "2020-08-25    0.315385\n",
       "2020-08-26    0.731069\n",
       "Name: variacion, Length: 10011, dtype: float64"
      ]
     },
     "execution_count": 41,
     "metadata": {},
     "output_type": "execute_result"
    }
   ],
   "source": [
    "data.variacion.rank(pct=True)"
   ]
  },
  {
   "cell_type": "code",
   "execution_count": 42,
   "metadata": {},
   "outputs": [
    {
     "data": {
      "text/plain": [
       "-4.310344827586188"
      ]
     },
     "execution_count": 42,
     "metadata": {},
     "output_type": "execute_result"
    }
   ],
   "source": [
    "data.variacion.quantile(0.048853)"
   ]
  },
  {
   "cell_type": "code",
   "execution_count": 43,
   "metadata": {},
   "outputs": [
    {
     "data": {
      "text/plain": [
       "-2.319587628865971"
      ]
     },
     "execution_count": 43,
     "metadata": {},
     "output_type": "execute_result"
    }
   ],
   "source": [
    "data.variacion['2000-03-07']"
   ]
  },
  {
   "cell_type": "markdown",
   "metadata": {},
   "source": [
    "## Kurtosis"
   ]
  },
  {
   "cell_type": "markdown",
   "metadata": {},
   "source": [
    "$$ \\Large kurtosis = \\frac{\\sum_{i=1} (X_i-\\bar{X})^4}{n . \\sigma^4}$$\n"
   ]
  },
  {
   "cell_type": "markdown",
   "metadata": {},
   "source": [
    "Coeficiente de apuntamiento\n",
    "\n",
    "<div style=\"width:600px;float:left;\">\n",
    "    <br>La Curtosis nos da una idea de la forma, mientras mas alta, mas valores cerca de la media y mas gruesas las colas\n",
    "    <ul>\n",
    "        <li> Leptocúrtica,  Curtosis > 3 (más apuntada y con colas más gruesas que la normal) </li>\n",
    "        <li> Platicúrtica,  Curtosis < 3 (menos apuntada y con colas menos gruesas que la norma) </li>\n",
    "        <li> Mesocúrtica,   Curtosis = 3 (tiene una distribución normal) </li>\n",
    "    </ul>\n",
    "</div>\n",
    "<div style=\"width:350px;float:right;margin-top:-25px;\">\n",
    "    <img src=\"imagenes/kurtosis.png\" style=\"width:300px;height:230px;\">\n",
    "</div>\n"
   ]
  },
  {
   "cell_type": "code",
   "execution_count": 53,
   "metadata": {},
   "outputs": [
    {
     "data": {
      "text/plain": [
       "16.84449078609551"
      ]
     },
     "execution_count": 53,
     "metadata": {},
     "output_type": "execute_result"
    }
   ],
   "source": [
    "data.variacion.kurtosis()"
   ]
  },
  {
   "cell_type": "code",
   "execution_count": 54,
   "metadata": {},
   "outputs": [
    {
     "data": {
      "text/plain": [
       "-0.39535682437744896"
      ]
     },
     "execution_count": 54,
     "metadata": {},
     "output_type": "execute_result"
    }
   ],
   "source": [
    "data.variacion.skew()"
   ]
  },
  {
   "cell_type": "code",
   "execution_count": 55,
   "metadata": {},
   "outputs": [
    {
     "data": {
      "text/plain": [
       "2.910707238119018"
      ]
     },
     "execution_count": 55,
     "metadata": {},
     "output_type": "execute_result"
    }
   ],
   "source": [
    "data.variacion.std()"
   ]
  },
  {
   "cell_type": "markdown",
   "metadata": {},
   "source": [
    "## Covarianza"
   ]
  },
  {
   "cell_type": "markdown",
   "metadata": {},
   "source": [
    "$$ \\large s_{xy}={1 \\over n}\\sum _{i=1}^{n}{(x_{i}-{\\overline {x}})(y_{i}-{\\overline {y}})} $$"
   ]
  },
  {
   "cell_type": "code",
   "execution_count": 56,
   "metadata": {},
   "outputs": [
    {
     "name": "stdout",
     "output_type": "stream",
     "text": [
      "[*********************100%***********************]  5 of 5 downloaded\n"
     ]
    },
    {
     "data": {
      "text/html": [
       "<div>\n",
       "<style scoped>\n",
       "    .dataframe tbody tr th:only-of-type {\n",
       "        vertical-align: middle;\n",
       "    }\n",
       "\n",
       "    .dataframe tbody tr th {\n",
       "        vertical-align: top;\n",
       "    }\n",
       "\n",
       "    .dataframe thead th {\n",
       "        text-align: right;\n",
       "    }\n",
       "</style>\n",
       "<table border=\"1\" class=\"dataframe\">\n",
       "  <thead>\n",
       "    <tr style=\"text-align: right;\">\n",
       "      <th></th>\n",
       "      <th>BBAR</th>\n",
       "      <th>EDN</th>\n",
       "      <th>GGAL</th>\n",
       "      <th>PAM</th>\n",
       "      <th>YPF</th>\n",
       "    </tr>\n",
       "    <tr>\n",
       "      <th>Date</th>\n",
       "      <th></th>\n",
       "      <th></th>\n",
       "      <th></th>\n",
       "      <th></th>\n",
       "      <th></th>\n",
       "    </tr>\n",
       "  </thead>\n",
       "  <tbody>\n",
       "    <tr>\n",
       "      <th>2009-10-12</th>\n",
       "      <td>4.815769</td>\n",
       "      <td>5.421687</td>\n",
       "      <td>1.574803</td>\n",
       "      <td>1.199041</td>\n",
       "      <td>-0.654236</td>\n",
       "    </tr>\n",
       "    <tr>\n",
       "      <th>2009-10-13</th>\n",
       "      <td>-1.112967</td>\n",
       "      <td>1.714286</td>\n",
       "      <td>0.387597</td>\n",
       "      <td>-2.053712</td>\n",
       "      <td>1.448798</td>\n",
       "    </tr>\n",
       "    <tr>\n",
       "      <th>2009-10-14</th>\n",
       "      <td>-1.408290</td>\n",
       "      <td>0.000000</td>\n",
       "      <td>2.702703</td>\n",
       "      <td>-0.483871</td>\n",
       "      <td>0.292113</td>\n",
       "    </tr>\n",
       "    <tr>\n",
       "      <th>2009-10-15</th>\n",
       "      <td>-0.858584</td>\n",
       "      <td>-1.460674</td>\n",
       "      <td>-2.819549</td>\n",
       "      <td>-0.648298</td>\n",
       "      <td>1.100324</td>\n",
       "    </tr>\n",
       "    <tr>\n",
       "      <th>2009-10-16</th>\n",
       "      <td>-3.312621</td>\n",
       "      <td>1.368301</td>\n",
       "      <td>-1.547389</td>\n",
       "      <td>0.407830</td>\n",
       "      <td>-0.288092</td>\n",
       "    </tr>\n",
       "    <tr>\n",
       "      <th>...</th>\n",
       "      <td>...</td>\n",
       "      <td>...</td>\n",
       "      <td>...</td>\n",
       "      <td>...</td>\n",
       "      <td>...</td>\n",
       "    </tr>\n",
       "    <tr>\n",
       "      <th>2020-08-20</th>\n",
       "      <td>-2.366864</td>\n",
       "      <td>-1.066667</td>\n",
       "      <td>-1.157184</td>\n",
       "      <td>0.183655</td>\n",
       "      <td>0.000000</td>\n",
       "    </tr>\n",
       "    <tr>\n",
       "      <th>2020-08-21</th>\n",
       "      <td>0.606061</td>\n",
       "      <td>0.000000</td>\n",
       "      <td>-1.365854</td>\n",
       "      <td>0.733272</td>\n",
       "      <td>-2.193784</td>\n",
       "    </tr>\n",
       "    <tr>\n",
       "      <th>2020-08-24</th>\n",
       "      <td>-0.903614</td>\n",
       "      <td>-5.660377</td>\n",
       "      <td>-0.494560</td>\n",
       "      <td>0.363967</td>\n",
       "      <td>0.934579</td>\n",
       "    </tr>\n",
       "    <tr>\n",
       "      <th>2020-08-25</th>\n",
       "      <td>1.823708</td>\n",
       "      <td>-2.857143</td>\n",
       "      <td>1.093439</td>\n",
       "      <td>1.450589</td>\n",
       "      <td>2.777778</td>\n",
       "    </tr>\n",
       "    <tr>\n",
       "      <th>2020-08-26</th>\n",
       "      <td>-3.283582</td>\n",
       "      <td>1.470588</td>\n",
       "      <td>-1.278269</td>\n",
       "      <td>2.234138</td>\n",
       "      <td>0.180180</td>\n",
       "    </tr>\n",
       "  </tbody>\n",
       "</table>\n",
       "<p>2738 rows × 5 columns</p>\n",
       "</div>"
      ],
      "text/plain": [
       "                BBAR       EDN      GGAL       PAM       YPF\n",
       "Date                                                        \n",
       "2009-10-12  4.815769  5.421687  1.574803  1.199041 -0.654236\n",
       "2009-10-13 -1.112967  1.714286  0.387597 -2.053712  1.448798\n",
       "2009-10-14 -1.408290  0.000000  2.702703 -0.483871  0.292113\n",
       "2009-10-15 -0.858584 -1.460674 -2.819549 -0.648298  1.100324\n",
       "2009-10-16 -3.312621  1.368301 -1.547389  0.407830 -0.288092\n",
       "...              ...       ...       ...       ...       ...\n",
       "2020-08-20 -2.366864 -1.066667 -1.157184  0.183655  0.000000\n",
       "2020-08-21  0.606061  0.000000 -1.365854  0.733272 -2.193784\n",
       "2020-08-24 -0.903614 -5.660377 -0.494560  0.363967  0.934579\n",
       "2020-08-25  1.823708 -2.857143  1.093439  1.450589  2.777778\n",
       "2020-08-26 -3.283582  1.470588 -1.278269  2.234138  0.180180\n",
       "\n",
       "[2738 rows x 5 columns]"
      ]
     },
     "execution_count": 56,
     "metadata": {},
     "output_type": "execute_result"
    }
   ],
   "source": [
    "import yfinance as yf\n",
    "\n",
    "activos = ['GGAL','YPF','PAM','EDN','BBAR']\n",
    "data = yf.download(activos, start='2001-01-01', end='2020-08-30')['Adj Close']\n",
    "tabla = data.pct_change().dropna()*100\n",
    "tabla"
   ]
  },
  {
   "cell_type": "markdown",
   "metadata": {},
   "source": [
    "### Covarianza contra si mismo"
   ]
  },
  {
   "cell_type": "code",
   "execution_count": 57,
   "metadata": {},
   "outputs": [
    {
     "data": {
      "text/plain": [
       "BBAR    12.691237\n",
       "EDN     16.080317\n",
       "GGAL    12.450759\n",
       "PAM      9.924551\n",
       "YPF      9.319089\n",
       "dtype: float64"
      ]
     },
     "execution_count": 57,
     "metadata": {},
     "output_type": "execute_result"
    }
   ],
   "source": [
    "tabla.var()"
   ]
  },
  {
   "cell_type": "code",
   "execution_count": 58,
   "metadata": {},
   "outputs": [
    {
     "data": {
      "text/plain": [
       "12.450759375589737"
      ]
     },
     "execution_count": 58,
     "metadata": {},
     "output_type": "execute_result"
    }
   ],
   "source": [
    "tabla.GGAL.cov(tabla.GGAL)"
   ]
  },
  {
   "cell_type": "code",
   "execution_count": 60,
   "metadata": {},
   "outputs": [
    {
     "data": {
      "text/plain": [
       "7.618775598932289"
      ]
     },
     "execution_count": 60,
     "metadata": {},
     "output_type": "execute_result"
    }
   ],
   "source": [
    "tabla.GGAL.cov(tabla.EDN)"
   ]
  },
  {
   "cell_type": "markdown",
   "metadata": {},
   "source": [
    "### Matriz de covarianzas"
   ]
  },
  {
   "cell_type": "code",
   "execution_count": 59,
   "metadata": {},
   "outputs": [
    {
     "data": {
      "text/html": [
       "<div>\n",
       "<style scoped>\n",
       "    .dataframe tbody tr th:only-of-type {\n",
       "        vertical-align: middle;\n",
       "    }\n",
       "\n",
       "    .dataframe tbody tr th {\n",
       "        vertical-align: top;\n",
       "    }\n",
       "\n",
       "    .dataframe thead th {\n",
       "        text-align: right;\n",
       "    }\n",
       "</style>\n",
       "<table border=\"1\" class=\"dataframe\">\n",
       "  <thead>\n",
       "    <tr style=\"text-align: right;\">\n",
       "      <th></th>\n",
       "      <th>BBAR</th>\n",
       "      <th>EDN</th>\n",
       "      <th>GGAL</th>\n",
       "      <th>PAM</th>\n",
       "      <th>YPF</th>\n",
       "    </tr>\n",
       "  </thead>\n",
       "  <tbody>\n",
       "    <tr>\n",
       "      <th>BBAR</th>\n",
       "      <td>12.691237</td>\n",
       "      <td>7.697730</td>\n",
       "      <td>10.318324</td>\n",
       "      <td>7.328673</td>\n",
       "      <td>5.779539</td>\n",
       "    </tr>\n",
       "    <tr>\n",
       "      <th>EDN</th>\n",
       "      <td>7.697730</td>\n",
       "      <td>16.080317</td>\n",
       "      <td>7.618776</td>\n",
       "      <td>7.552293</td>\n",
       "      <td>5.033574</td>\n",
       "    </tr>\n",
       "    <tr>\n",
       "      <th>GGAL</th>\n",
       "      <td>10.318324</td>\n",
       "      <td>7.618776</td>\n",
       "      <td>12.450759</td>\n",
       "      <td>7.336769</td>\n",
       "      <td>6.027467</td>\n",
       "    </tr>\n",
       "    <tr>\n",
       "      <th>PAM</th>\n",
       "      <td>7.328673</td>\n",
       "      <td>7.552293</td>\n",
       "      <td>7.336769</td>\n",
       "      <td>9.924551</td>\n",
       "      <td>4.700482</td>\n",
       "    </tr>\n",
       "    <tr>\n",
       "      <th>YPF</th>\n",
       "      <td>5.779539</td>\n",
       "      <td>5.033574</td>\n",
       "      <td>6.027467</td>\n",
       "      <td>4.700482</td>\n",
       "      <td>9.319089</td>\n",
       "    </tr>\n",
       "  </tbody>\n",
       "</table>\n",
       "</div>"
      ],
      "text/plain": [
       "           BBAR        EDN       GGAL       PAM       YPF\n",
       "BBAR  12.691237   7.697730  10.318324  7.328673  5.779539\n",
       "EDN    7.697730  16.080317   7.618776  7.552293  5.033574\n",
       "GGAL  10.318324   7.618776  12.450759  7.336769  6.027467\n",
       "PAM    7.328673   7.552293   7.336769  9.924551  4.700482\n",
       "YPF    5.779539   5.033574   6.027467  4.700482  9.319089"
      ]
     },
     "execution_count": 59,
     "metadata": {},
     "output_type": "execute_result"
    }
   ],
   "source": [
    "tabla.cov()"
   ]
  },
  {
   "cell_type": "code",
   "execution_count": null,
   "metadata": {},
   "outputs": [],
   "source": []
  },
  {
   "cell_type": "code",
   "execution_count": null,
   "metadata": {},
   "outputs": [],
   "source": []
  },
  {
   "cell_type": "markdown",
   "metadata": {},
   "source": [
    "# Método apply en lugar de concatenar métodos"
   ]
  },
  {
   "cell_type": "code",
   "execution_count": 66,
   "metadata": {},
   "outputs": [
    {
     "data": {
      "text/plain": [
       "timestamp\n",
       "2000    0.014596\n",
       "2001    0.013972\n",
       "2002    0.016666\n",
       "2003    0.010421\n",
       "2004    0.007015\n",
       "          ...   \n",
       "2016    0.008232\n",
       "2017    0.004248\n",
       "2018    0.010731\n",
       "2019    0.007879\n",
       "2020    0.034886\n",
       "Name: variacion, Length: 21, dtype: float64"
      ]
     },
     "execution_count": 66,
     "metadata": {},
     "output_type": "execute_result"
    }
   ],
   "source": [
    "data = pd.read_excel('excels_csvs/SPY.xlsx')\n",
    "data = data.sort_values('timestamp',ascending=True).set_index(\"timestamp\", drop=False)\n",
    "data['variacion'] = data.adjusted_close.pct_change()\n",
    "\n",
    "data.variacion.groupby(data.index.year).apply(pd.DataFrame.std)"
   ]
  },
  {
   "cell_type": "code",
   "execution_count": 64,
   "metadata": {},
   "outputs": [
    {
     "data": {
      "text/plain": [
       "timestamp\n",
       "2000    0.014596\n",
       "2001    0.013972\n",
       "2002    0.016666\n",
       "2003    0.010421\n",
       "2004    0.007015\n",
       "          ...   \n",
       "2016    0.008232\n",
       "2017    0.004248\n",
       "2018    0.010731\n",
       "2019    0.007879\n",
       "2020    0.034886\n",
       "Name: variacion, Length: 21, dtype: float64"
      ]
     },
     "execution_count": 64,
     "metadata": {},
     "output_type": "execute_result"
    }
   ],
   "source": [
    "data = pd.read_excel('excels_csvs/SPY.xlsx')\n",
    "data = data.sort_values('timestamp',ascending=True).set_index(\"timestamp\", drop=False)\n",
    "data['variacion'] = data.adjusted_close.pct_change()\n",
    "\n",
    "data.variacion.groupby(data.index.year).std()"
   ]
  },
  {
   "cell_type": "code",
   "execution_count": null,
   "metadata": {},
   "outputs": [],
   "source": []
  },
  {
   "cell_type": "markdown",
   "metadata": {},
   "source": [
    "# Ejemplos de concatenado con groupby"
   ]
  },
  {
   "cell_type": "code",
   "execution_count": 70,
   "metadata": {},
   "outputs": [
    {
     "data": {
      "text/plain": [
       "timestamp\n",
       "2000    0.007558\n",
       "2001    0.008178\n",
       "2002    0.008673\n",
       "2003    0.007152\n",
       "2004    0.004949\n",
       "          ...   \n",
       "2016    0.004508\n",
       "2017    0.002579\n",
       "2018    0.005482\n",
       "2019    0.005872\n",
       "2020    0.008318\n",
       "Name: variacion, Length: 21, dtype: float64"
      ]
     },
     "execution_count": 70,
     "metadata": {},
     "output_type": "execute_result"
    }
   ],
   "source": [
    "data.variacion.groupby(data.index.year).quantile(0.75)"
   ]
  },
  {
   "cell_type": "code",
   "execution_count": 71,
   "metadata": {},
   "outputs": [
    {
     "data": {
      "text/html": [
       "<div>\n",
       "<style scoped>\n",
       "    .dataframe tbody tr th:only-of-type {\n",
       "        vertical-align: middle;\n",
       "    }\n",
       "\n",
       "    .dataframe tbody tr th {\n",
       "        vertical-align: top;\n",
       "    }\n",
       "\n",
       "    .dataframe thead th {\n",
       "        text-align: right;\n",
       "    }\n",
       "</style>\n",
       "<table border=\"1\" class=\"dataframe\">\n",
       "  <thead>\n",
       "    <tr style=\"text-align: right;\">\n",
       "      <th></th>\n",
       "      <th>count</th>\n",
       "      <th>mean</th>\n",
       "      <th>std</th>\n",
       "      <th>min</th>\n",
       "      <th>25%</th>\n",
       "      <th>50%</th>\n",
       "      <th>75%</th>\n",
       "      <th>max</th>\n",
       "    </tr>\n",
       "    <tr>\n",
       "      <th>timestamp</th>\n",
       "      <th></th>\n",
       "      <th></th>\n",
       "      <th></th>\n",
       "      <th></th>\n",
       "      <th></th>\n",
       "      <th></th>\n",
       "      <th></th>\n",
       "      <th></th>\n",
       "    </tr>\n",
       "  </thead>\n",
       "  <tbody>\n",
       "    <tr>\n",
       "      <th>2000</th>\n",
       "      <td>208.0</td>\n",
       "      <td>-0.000147</td>\n",
       "      <td>0.014596</td>\n",
       "      <td>-0.057192</td>\n",
       "      <td>-0.009229</td>\n",
       "      <td>-0.000447</td>\n",
       "      <td>0.007558</td>\n",
       "      <td>0.046713</td>\n",
       "    </tr>\n",
       "    <tr>\n",
       "      <th>2001</th>\n",
       "      <td>248.0</td>\n",
       "      <td>-0.000407</td>\n",
       "      <td>0.013972</td>\n",
       "      <td>-0.052679</td>\n",
       "      <td>-0.008637</td>\n",
       "      <td>0.000000</td>\n",
       "      <td>0.008178</td>\n",
       "      <td>0.048136</td>\n",
       "    </tr>\n",
       "    <tr>\n",
       "      <th>2002</th>\n",
       "      <td>252.0</td>\n",
       "      <td>-0.000827</td>\n",
       "      <td>0.016666</td>\n",
       "      <td>-0.038136</td>\n",
       "      <td>-0.010989</td>\n",
       "      <td>-0.001547</td>\n",
       "      <td>0.008673</td>\n",
       "      <td>0.059662</td>\n",
       "    </tr>\n",
       "    <tr>\n",
       "      <th>2003</th>\n",
       "      <td>252.0</td>\n",
       "      <td>0.001040</td>\n",
       "      <td>0.010421</td>\n",
       "      <td>-0.033233</td>\n",
       "      <td>-0.005080</td>\n",
       "      <td>0.001320</td>\n",
       "      <td>0.007152</td>\n",
       "      <td>0.034542</td>\n",
       "    </tr>\n",
       "    <tr>\n",
       "      <th>2004</th>\n",
       "      <td>252.0</td>\n",
       "      <td>0.000428</td>\n",
       "      <td>0.007015</td>\n",
       "      <td>-0.018452</td>\n",
       "      <td>-0.003504</td>\n",
       "      <td>0.000830</td>\n",
       "      <td>0.004949</td>\n",
       "      <td>0.016912</td>\n",
       "    </tr>\n",
       "    <tr>\n",
       "      <th>...</th>\n",
       "      <td>...</td>\n",
       "      <td>...</td>\n",
       "      <td>...</td>\n",
       "      <td>...</td>\n",
       "      <td>...</td>\n",
       "      <td>...</td>\n",
       "      <td>...</td>\n",
       "      <td>...</td>\n",
       "    </tr>\n",
       "    <tr>\n",
       "      <th>2016</th>\n",
       "      <td>252.0</td>\n",
       "      <td>0.000484</td>\n",
       "      <td>0.008232</td>\n",
       "      <td>-0.036431</td>\n",
       "      <td>-0.002798</td>\n",
       "      <td>0.000484</td>\n",
       "      <td>0.004508</td>\n",
       "      <td>0.024382</td>\n",
       "    </tr>\n",
       "    <tr>\n",
       "      <th>2017</th>\n",
       "      <td>251.0</td>\n",
       "      <td>0.000792</td>\n",
       "      <td>0.004248</td>\n",
       "      <td>-0.017744</td>\n",
       "      <td>-0.001203</td>\n",
       "      <td>0.000530</td>\n",
       "      <td>0.002579</td>\n",
       "      <td>0.013998</td>\n",
       "    </tr>\n",
       "    <tr>\n",
       "      <th>2018</th>\n",
       "      <td>251.0</td>\n",
       "      <td>-0.000128</td>\n",
       "      <td>0.010731</td>\n",
       "      <td>-0.041823</td>\n",
       "      <td>-0.004269</td>\n",
       "      <td>0.000424</td>\n",
       "      <td>0.005482</td>\n",
       "      <td>0.050525</td>\n",
       "    </tr>\n",
       "    <tr>\n",
       "      <th>2019</th>\n",
       "      <td>252.0</td>\n",
       "      <td>0.001110</td>\n",
       "      <td>0.007879</td>\n",
       "      <td>-0.030073</td>\n",
       "      <td>-0.002219</td>\n",
       "      <td>0.001131</td>\n",
       "      <td>0.005872</td>\n",
       "      <td>0.033496</td>\n",
       "    </tr>\n",
       "    <tr>\n",
       "      <th>2020</th>\n",
       "      <td>69.0</td>\n",
       "      <td>-0.001505</td>\n",
       "      <td>0.034886</td>\n",
       "      <td>-0.109423</td>\n",
       "      <td>-0.014905</td>\n",
       "      <td>0.001019</td>\n",
       "      <td>0.008318</td>\n",
       "      <td>0.090603</td>\n",
       "    </tr>\n",
       "  </tbody>\n",
       "</table>\n",
       "<p>21 rows × 8 columns</p>\n",
       "</div>"
      ],
      "text/plain": [
       "           count      mean       std       min       25%       50%       75%  \\\n",
       "timestamp                                                                      \n",
       "2000       208.0 -0.000147  0.014596 -0.057192 -0.009229 -0.000447  0.007558   \n",
       "2001       248.0 -0.000407  0.013972 -0.052679 -0.008637  0.000000  0.008178   \n",
       "2002       252.0 -0.000827  0.016666 -0.038136 -0.010989 -0.001547  0.008673   \n",
       "2003       252.0  0.001040  0.010421 -0.033233 -0.005080  0.001320  0.007152   \n",
       "2004       252.0  0.000428  0.007015 -0.018452 -0.003504  0.000830  0.004949   \n",
       "...          ...       ...       ...       ...       ...       ...       ...   \n",
       "2016       252.0  0.000484  0.008232 -0.036431 -0.002798  0.000484  0.004508   \n",
       "2017       251.0  0.000792  0.004248 -0.017744 -0.001203  0.000530  0.002579   \n",
       "2018       251.0 -0.000128  0.010731 -0.041823 -0.004269  0.000424  0.005482   \n",
       "2019       252.0  0.001110  0.007879 -0.030073 -0.002219  0.001131  0.005872   \n",
       "2020        69.0 -0.001505  0.034886 -0.109423 -0.014905  0.001019  0.008318   \n",
       "\n",
       "                max  \n",
       "timestamp            \n",
       "2000       0.046713  \n",
       "2001       0.048136  \n",
       "2002       0.059662  \n",
       "2003       0.034542  \n",
       "2004       0.016912  \n",
       "...             ...  \n",
       "2016       0.024382  \n",
       "2017       0.013998  \n",
       "2018       0.050525  \n",
       "2019       0.033496  \n",
       "2020       0.090603  \n",
       "\n",
       "[21 rows x 8 columns]"
      ]
     },
     "execution_count": 71,
     "metadata": {},
     "output_type": "execute_result"
    }
   ],
   "source": [
    "data.variacion.groupby(data.index.year).describe()"
   ]
  },
  {
   "cell_type": "code",
   "execution_count": 72,
   "metadata": {},
   "outputs": [
    {
     "name": "stdout",
     "output_type": "stream",
     "text": [
      "[*********************100%***********************]  1 of 1 downloaded\n"
     ]
    },
    {
     "data": {
      "text/plain": [
       "<matplotlib.axes._subplots.AxesSubplot at 0x1eb751df108>"
      ]
     },
     "execution_count": 72,
     "metadata": {},
     "output_type": "execute_result"
    },
    {
     "data": {
      "image/png": "[encoded data removed]",
      "text/plain": [
       "<Figure size 432x288 with 1 Axes>"
      ]
     },
     "metadata": {
      "needs_background": "light"
     },
     "output_type": "display_data"
    }
   ],
   "source": [
    "data = yf.download('SPY')\n",
    "data['variacion'] = data['Adj Close'].pct_change()\n",
    "data.variacion.groupby(data.index.year).apply(pd.DataFrame.kurtosis).plot()"
   ]
  },
  {
   "cell_type": "code",
   "execution_count": 74,
   "metadata": {},
   "outputs": [
    {
     "data": {
      "text/plain": [
       "<matplotlib.axes._subplots.AxesSubplot at 0x1eb751b3948>"
      ]
     },
     "execution_count": 74,
     "metadata": {},
     "output_type": "execute_result"
    },
    {
     "data": {
      "image/png": "[encoded data removed]",
      "text/plain": [
       "<Figure size 432x288 with 1 Axes>"
      ]
     },
     "metadata": {
      "needs_background": "light"
     },
     "output_type": "display_data"
    }
   ],
   "source": [
    "data.variacion.groupby(data.index.year).apply(pd.DataFrame.skew).plot()"
   ]
  },
  {
   "cell_type": "code",
   "execution_count": 78,
   "metadata": {},
   "outputs": [
    {
     "name": "stdout",
     "output_type": "stream",
     "text": [
      "[*********************100%***********************]  1 of 1 downloaded\n"
     ]
    },
    {
     "data": {
      "text/plain": [
       "<matplotlib.axes._subplots.AxesSubplot at 0x1eb75144ec8>"
      ]
     },
     "execution_count": 78,
     "metadata": {},
     "output_type": "execute_result"
    },
    {
     "data": {
      "image/png": "[encoded data removed]",
      "text/plain": [
       "<Figure size 432x288 with 1 Axes>"
      ]
     },
     "metadata": {
      "needs_background": "light"
     },
     "output_type": "display_data"
    }
   ],
   "source": [
    "data = yf.download('GGAL', start='1990-01-01')\n",
    "data['variacion'] = data['Adj Close'].pct_change()\n",
    "data.variacion.groupby(data.index.year).apply(pd.DataFrame.kurtosis).plot()"
   ]
  },
  {
   "cell_type": "code",
   "execution_count": 76,
   "metadata": {},
   "outputs": [
    {
     "data": {
      "text/plain": [
       "<matplotlib.axes._subplots.AxesSubplot at 0x1eb75df6dc8>"
      ]
     },
     "execution_count": 76,
     "metadata": {},
     "output_type": "execute_result"
    },
    {
     "data": {
      "image/png": "[encoded data removed]",
      "text/plain": [
       "<Figure size 432x288 with 1 Axes>"
      ]
     },
     "metadata": {
      "needs_background": "light"
     },
     "output_type": "display_data"
    }
   ],
   "source": [
    "data.variacion.groupby(data.index.year).apply(pd.DataFrame.skew).plot()"
   ]
  },
  {
   "cell_type": "code",
   "execution_count": null,
   "metadata": {},
   "outputs": [],
   "source": []
  },
  {
   "cell_type": "code",
   "execution_count": null,
   "metadata": {},
   "outputs": [],
   "source": []
  },
  {
   "cell_type": "code",
   "execution_count": null,
   "metadata": {},
   "outputs": [],
   "source": []
  },
  {
   "cell_type": "code",
   "execution_count": null,
   "metadata": {},
   "outputs": [],
   "source": []
  },
  {
   "cell_type": "markdown",
   "metadata": {},
   "source": [
    "### Agrupamiento de booleanos y discretos (Atencion a esto)"
   ]
  },
  {
   "cell_type": "markdown",
   "metadata": {},
   "source": [
    "De paso vemos el WHERE() en un dataFrame"
   ]
  },
  {
   "cell_type": "code",
   "execution_count": 79,
   "metadata": {},
   "outputs": [
    {
     "data": {
      "text/html": [
       "<div>\n",
       "<style scoped>\n",
       "    .dataframe tbody tr th:only-of-type {\n",
       "        vertical-align: middle;\n",
       "    }\n",
       "\n",
       "    .dataframe tbody tr th {\n",
       "        vertical-align: top;\n",
       "    }\n",
       "\n",
       "    .dataframe thead th {\n",
       "        text-align: right;\n",
       "    }\n",
       "</style>\n",
       "<table border=\"1\" class=\"dataframe\">\n",
       "  <thead>\n",
       "    <tr style=\"text-align: right;\">\n",
       "      <th></th>\n",
       "      <th>open</th>\n",
       "      <th>high</th>\n",
       "      <th>low</th>\n",
       "      <th>close</th>\n",
       "      <th>adjusted_close</th>\n",
       "      <th>volume</th>\n",
       "      <th>intradiario</th>\n",
       "      <th>cierre_previo</th>\n",
       "      <th>gap_positivo</th>\n",
       "      <th>vela_color</th>\n",
       "    </tr>\n",
       "    <tr>\n",
       "      <th>timestamp</th>\n",
       "      <th></th>\n",
       "      <th></th>\n",
       "      <th></th>\n",
       "      <th></th>\n",
       "      <th></th>\n",
       "      <th></th>\n",
       "      <th></th>\n",
       "      <th></th>\n",
       "      <th></th>\n",
       "      <th></th>\n",
       "    </tr>\n",
       "  </thead>\n",
       "  <tbody>\n",
       "    <tr>\n",
       "      <th>2000-03-06</th>\n",
       "      <td>126.00</td>\n",
       "      <td>129.13</td>\n",
       "      <td>125.00</td>\n",
       "      <td>125.69</td>\n",
       "      <td>3.8960</td>\n",
       "      <td>1880000</td>\n",
       "      <td>-0.31</td>\n",
       "      <td>NaN</td>\n",
       "      <td>False</td>\n",
       "      <td>Roja</td>\n",
       "    </tr>\n",
       "    <tr>\n",
       "      <th>2000-03-07</th>\n",
       "      <td>126.44</td>\n",
       "      <td>127.44</td>\n",
       "      <td>121.12</td>\n",
       "      <td>122.87</td>\n",
       "      <td>3.8086</td>\n",
       "      <td>2437600</td>\n",
       "      <td>-3.57</td>\n",
       "      <td>125.69</td>\n",
       "      <td>True</td>\n",
       "      <td>Roja</td>\n",
       "    </tr>\n",
       "    <tr>\n",
       "      <th>2000-03-08</th>\n",
       "      <td>122.87</td>\n",
       "      <td>123.94</td>\n",
       "      <td>118.56</td>\n",
       "      <td>122.00</td>\n",
       "      <td>3.7816</td>\n",
       "      <td>2421700</td>\n",
       "      <td>-0.87</td>\n",
       "      <td>122.87</td>\n",
       "      <td>False</td>\n",
       "      <td>Roja</td>\n",
       "    </tr>\n",
       "    <tr>\n",
       "      <th>2000-03-09</th>\n",
       "      <td>120.87</td>\n",
       "      <td>125.00</td>\n",
       "      <td>118.25</td>\n",
       "      <td>122.25</td>\n",
       "      <td>3.7894</td>\n",
       "      <td>2470700</td>\n",
       "      <td>1.38</td>\n",
       "      <td>122.00</td>\n",
       "      <td>False</td>\n",
       "      <td>Verde</td>\n",
       "    </tr>\n",
       "    <tr>\n",
       "      <th>2000-03-10</th>\n",
       "      <td>121.69</td>\n",
       "      <td>127.94</td>\n",
       "      <td>121.00</td>\n",
       "      <td>125.75</td>\n",
       "      <td>3.8979</td>\n",
       "      <td>2219700</td>\n",
       "      <td>4.06</td>\n",
       "      <td>122.25</td>\n",
       "      <td>False</td>\n",
       "      <td>Verde</td>\n",
       "    </tr>\n",
       "    <tr>\n",
       "      <th>...</th>\n",
       "      <td>...</td>\n",
       "      <td>...</td>\n",
       "      <td>...</td>\n",
       "      <td>...</td>\n",
       "      <td>...</td>\n",
       "      <td>...</td>\n",
       "      <td>...</td>\n",
       "      <td>...</td>\n",
       "      <td>...</td>\n",
       "      <td>...</td>\n",
       "    </tr>\n",
       "    <tr>\n",
       "      <th>2020-03-02</th>\n",
       "      <td>282.28</td>\n",
       "      <td>301.44</td>\n",
       "      <td>277.72</td>\n",
       "      <td>298.81</td>\n",
       "      <td>298.8100</td>\n",
       "      <td>85349339</td>\n",
       "      <td>16.53</td>\n",
       "      <td>273.36</td>\n",
       "      <td>True</td>\n",
       "      <td>Verde</td>\n",
       "    </tr>\n",
       "    <tr>\n",
       "      <th>2020-03-03</th>\n",
       "      <td>303.67</td>\n",
       "      <td>304.00</td>\n",
       "      <td>285.80</td>\n",
       "      <td>289.32</td>\n",
       "      <td>289.3200</td>\n",
       "      <td>79868852</td>\n",
       "      <td>-14.35</td>\n",
       "      <td>298.81</td>\n",
       "      <td>True</td>\n",
       "      <td>Roja</td>\n",
       "    </tr>\n",
       "    <tr>\n",
       "      <th>2020-03-04</th>\n",
       "      <td>296.44</td>\n",
       "      <td>303.40</td>\n",
       "      <td>293.13</td>\n",
       "      <td>302.74</td>\n",
       "      <td>302.7400</td>\n",
       "      <td>54794568</td>\n",
       "      <td>6.30</td>\n",
       "      <td>289.32</td>\n",
       "      <td>True</td>\n",
       "      <td>Verde</td>\n",
       "    </tr>\n",
       "    <tr>\n",
       "      <th>2020-03-05</th>\n",
       "      <td>295.52</td>\n",
       "      <td>299.55</td>\n",
       "      <td>291.41</td>\n",
       "      <td>292.92</td>\n",
       "      <td>292.9200</td>\n",
       "      <td>46893219</td>\n",
       "      <td>-2.60</td>\n",
       "      <td>302.74</td>\n",
       "      <td>False</td>\n",
       "      <td>Roja</td>\n",
       "    </tr>\n",
       "    <tr>\n",
       "      <th>2020-03-06</th>\n",
       "      <td>282.00</td>\n",
       "      <td>290.82</td>\n",
       "      <td>281.23</td>\n",
       "      <td>289.03</td>\n",
       "      <td>289.0300</td>\n",
       "      <td>56544246</td>\n",
       "      <td>7.03</td>\n",
       "      <td>292.92</td>\n",
       "      <td>False</td>\n",
       "      <td>Verde</td>\n",
       "    </tr>\n",
       "  </tbody>\n",
       "</table>\n",
       "<p>5033 rows × 10 columns</p>\n",
       "</div>"
      ],
      "text/plain": [
       "              open    high     low   close  adjusted_close    volume  \\\n",
       "timestamp                                                              \n",
       "2000-03-06  126.00  129.13  125.00  125.69          3.8960   1880000   \n",
       "2000-03-07  126.44  127.44  121.12  122.87          3.8086   2437600   \n",
       "2000-03-08  122.87  123.94  118.56  122.00          3.7816   2421700   \n",
       "2000-03-09  120.87  125.00  118.25  122.25          3.7894   2470700   \n",
       "2000-03-10  121.69  127.94  121.00  125.75          3.8979   2219700   \n",
       "...            ...     ...     ...     ...             ...       ...   \n",
       "2020-03-02  282.28  301.44  277.72  298.81        298.8100  85349339   \n",
       "2020-03-03  303.67  304.00  285.80  289.32        289.3200  79868852   \n",
       "2020-03-04  296.44  303.40  293.13  302.74        302.7400  54794568   \n",
       "2020-03-05  295.52  299.55  291.41  292.92        292.9200  46893219   \n",
       "2020-03-06  282.00  290.82  281.23  289.03        289.0300  56544246   \n",
       "\n",
       "            intradiario  cierre_previo  gap_positivo vela_color  \n",
       "timestamp                                                        \n",
       "2000-03-06        -0.31            NaN         False       Roja  \n",
       "2000-03-07        -3.57         125.69          True       Roja  \n",
       "2000-03-08        -0.87         122.87         False       Roja  \n",
       "2000-03-09         1.38         122.00         False      Verde  \n",
       "2000-03-10         4.06         122.25         False      Verde  \n",
       "...                 ...            ...           ...        ...  \n",
       "2020-03-02        16.53         273.36          True      Verde  \n",
       "2020-03-03       -14.35         298.81          True       Roja  \n",
       "2020-03-04         6.30         289.32          True      Verde  \n",
       "2020-03-05        -2.60         302.74         False       Roja  \n",
       "2020-03-06         7.03         292.92         False      Verde  \n",
       "\n",
       "[5033 rows x 10 columns]"
      ]
     },
     "execution_count": 79,
     "metadata": {},
     "output_type": "execute_result"
    }
   ],
   "source": [
    "data = pd.read_excel('excels_csvs/AAPL.xlsx').set_index(\"timestamp\").sort_index()\n",
    "\n",
    "data['intradiario']  = data.close - data.open\n",
    "data['cierre_previo']=data['close'].shift()\n",
    "data['gap_positivo']=data.eval('open>cierre_previo')\n",
    "\n",
    "# Lo defino por default arbitrariamente\n",
    "data['vela_color'] = 'Verde'  \n",
    "\n",
    "# Ahora si pregunto, si se da la condicion dejo el default si no la cambio:\n",
    "data['vela_color']= data.vela_color.where(data.close > data.open,\"Roja\")\n",
    "\n",
    "data"
   ]
  },
  {
   "cell_type": "markdown",
   "metadata": {},
   "source": [
    "#### Agrupando por SIZE o COUNT: Diferencia"
   ]
  },
  {
   "cell_type": "code",
   "execution_count": 88,
   "metadata": {},
   "outputs": [
    {
     "data": {
      "text/plain": [
       "gap_positivo\n",
       "False    2.323320e+07\n",
       "True     2.405715e+07\n",
       "Name: volume, dtype: float64"
      ]
     },
     "execution_count": 88,
     "metadata": {},
     "output_type": "execute_result"
    }
   ],
   "source": [
    "data.groupby('gap_positivo').mean().volume"
   ]
  },
  {
   "cell_type": "code",
   "execution_count": 89,
   "metadata": {},
   "outputs": [
    {
     "data": {
      "text/plain": [
       "gap_positivo\n",
       "False    30.76\n",
       "True     26.78\n",
       "Name: intradiario, dtype: float64"
      ]
     },
     "execution_count": 89,
     "metadata": {},
     "output_type": "execute_result"
    }
   ],
   "source": [
    "data.groupby('gap_positivo').intradiario.count()"
   ]
  },
  {
   "cell_type": "code",
   "execution_count": null,
   "metadata": {},
   "outputs": [],
   "source": []
  },
  {
   "cell_type": "code",
   "execution_count": 90,
   "metadata": {},
   "outputs": [
    {
     "data": {
      "text/plain": [
       "gap_positivo\n",
       "False    2217\n",
       "True     2816\n",
       "dtype: int64"
      ]
     },
     "execution_count": 90,
     "metadata": {},
     "output_type": "execute_result"
    }
   ],
   "source": [
    "data.groupby('gap_positivo').size()"
   ]
  },
  {
   "cell_type": "code",
   "execution_count": 94,
   "metadata": {},
   "outputs": [
    {
     "data": {
      "text/html": [
       "<div>\n",
       "<style scoped>\n",
       "    .dataframe tbody tr th:only-of-type {\n",
       "        vertical-align: middle;\n",
       "    }\n",
       "\n",
       "    .dataframe tbody tr th {\n",
       "        vertical-align: top;\n",
       "    }\n",
       "\n",
       "    .dataframe thead th {\n",
       "        text-align: right;\n",
       "    }\n",
       "</style>\n",
       "<table border=\"1\" class=\"dataframe\">\n",
       "  <thead>\n",
       "    <tr style=\"text-align: right;\">\n",
       "      <th></th>\n",
       "      <th>gap_positivo</th>\n",
       "      <th>total</th>\n",
       "    </tr>\n",
       "  </thead>\n",
       "  <tbody>\n",
       "    <tr>\n",
       "      <th>0</th>\n",
       "      <td>False</td>\n",
       "      <td>2217</td>\n",
       "    </tr>\n",
       "    <tr>\n",
       "      <th>1</th>\n",
       "      <td>True</td>\n",
       "      <td>2816</td>\n",
       "    </tr>\n",
       "  </tbody>\n",
       "</table>\n",
       "</div>"
      ],
      "text/plain": [
       "   gap_positivo  total\n",
       "0         False   2217\n",
       "1          True   2816"
      ]
     },
     "execution_count": 94,
     "metadata": {},
     "output_type": "execute_result"
    }
   ],
   "source": [
    "data.groupby('gap_positivo').size().reset_index(name='total')"
   ]
  },
  {
   "cell_type": "code",
   "execution_count": null,
   "metadata": {},
   "outputs": [],
   "source": []
  },
  {
   "cell_type": "code",
   "execution_count": null,
   "metadata": {},
   "outputs": [],
   "source": []
  },
  {
   "cell_type": "code",
   "execution_count": 101,
   "metadata": {
    "scrolled": true
   },
   "outputs": [
    {
     "data": {
      "text/html": [
       "<div>\n",
       "<style scoped>\n",
       "    .dataframe tbody tr th:only-of-type {\n",
       "        vertical-align: middle;\n",
       "    }\n",
       "\n",
       "    .dataframe tbody tr th {\n",
       "        vertical-align: top;\n",
       "    }\n",
       "\n",
       "    .dataframe thead th {\n",
       "        text-align: right;\n",
       "    }\n",
       "</style>\n",
       "<table border=\"1\" class=\"dataframe\">\n",
       "  <thead>\n",
       "    <tr style=\"text-align: right;\">\n",
       "      <th></th>\n",
       "      <th>gap_positivo</th>\n",
       "      <th>vela_color</th>\n",
       "      <th>dato</th>\n",
       "    </tr>\n",
       "  </thead>\n",
       "  <tbody>\n",
       "    <tr>\n",
       "      <th>0</th>\n",
       "      <td>False</td>\n",
       "      <td>Roja</td>\n",
       "      <td>1063</td>\n",
       "    </tr>\n",
       "    <tr>\n",
       "      <th>1</th>\n",
       "      <td>False</td>\n",
       "      <td>Verde</td>\n",
       "      <td>1154</td>\n",
       "    </tr>\n",
       "    <tr>\n",
       "      <th>2</th>\n",
       "      <td>True</td>\n",
       "      <td>Roja</td>\n",
       "      <td>1419</td>\n",
       "    </tr>\n",
       "    <tr>\n",
       "      <th>3</th>\n",
       "      <td>True</td>\n",
       "      <td>Verde</td>\n",
       "      <td>1397</td>\n",
       "    </tr>\n",
       "  </tbody>\n",
       "</table>\n",
       "</div>"
      ],
      "text/plain": [
       "   gap_positivo vela_color  dato\n",
       "0         False       Roja  1063\n",
       "1         False      Verde  1154\n",
       "2          True       Roja  1419\n",
       "3          True      Verde  1397"
      ]
     },
     "execution_count": 101,
     "metadata": {},
     "output_type": "execute_result"
    }
   ],
   "source": [
    "df = data.groupby(['gap_positivo','vela_color']).size().reset_index(name='dato')\n",
    "df"
   ]
  },
  {
   "cell_type": "code",
   "execution_count": 103,
   "metadata": {},
   "outputs": [
    {
     "data": {
      "text/plain": [
       "gap_positivo    False\n",
       "vela_color      Verde\n",
       "dato             1154\n",
       "Name: 1, dtype: object"
      ]
     },
     "execution_count": 103,
     "metadata": {},
     "output_type": "execute_result"
    }
   ],
   "source": [
    "df.iloc[1]"
   ]
  },
  {
   "cell_type": "code",
   "execution_count": null,
   "metadata": {},
   "outputs": [],
   "source": []
  },
  {
   "cell_type": "code",
   "execution_count": null,
   "metadata": {},
   "outputs": [],
   "source": []
  },
  {
   "cell_type": "markdown",
   "metadata": {},
   "source": [
    "# Combinacion de Agrupamiento + Filtros + Ordenamientos"
   ]
  },
  {
   "cell_type": "markdown",
   "metadata": {},
   "source": [
    "## Agrupamiento con filtros"
   ]
  },
  {
   "cell_type": "code",
   "execution_count": null,
   "metadata": {},
   "outputs": [],
   "source": [
    "data = pd.read_excel('excels_csvs/AAPL.xlsx').set_index('timestamp').sort_index()\n",
    "\n",
    "# Calculo las variaciones\n",
    "data['variaciones'] = data['adjusted_close'].pct_change()*100\n",
    "\n",
    "# Filtramos las variaciones > 10%\n",
    "filtro = data.loc[ data['variaciones'] > 10 ]  \n",
    "\n",
    "# Contabilizamos por año ese filtro\n",
    "agrupados = filtro.variaciones.groupby(filtro.index.year).count().to_frame()\n",
    "agrupados.columns = ['Subas +10%']\n",
    "agrupados"
   ]
  },
  {
   "cell_type": "markdown",
   "metadata": {},
   "source": [
    "## ¿Y al reves? primero agrupamiento y luego filtro? ¿cuando usar cada variante?"
   ]
  },
  {
   "cell_type": "markdown",
   "metadata": {},
   "source": [
    "Ejemplo: Ver semanas con rendimiento mayor al 13% (ponele)"
   ]
  },
  {
   "cell_type": "code",
   "execution_count": null,
   "metadata": {},
   "outputs": [],
   "source": [
    "data = pd.read_excel('excels_csvs/AAPL.xlsx').set_index('timestamp').sort_index()\n",
    "data['factor']=data.adjusted_close.pct_change()+1\n",
    "\n",
    "yields = pd.DataFrame()\n",
    "yields['Yield'] = (data.factor.groupby([data.index.year, data.index.week]).prod() -1)*100\n",
    "filtro = yields.loc[yields.Yield >13]\n",
    "filtro"
   ]
  },
  {
   "cell_type": "markdown",
   "metadata": {},
   "source": [
    "## ¿Y Combinar agrupamiento y ordenamiento? ¿para que sirve esta combinación?"
   ]
  },
  {
   "cell_type": "code",
   "execution_count": null,
   "metadata": {},
   "outputs": [],
   "source": [
    "data = pd.read_excel('excels_csvs/AAPL.xlsx').set_index('timestamp').sort_index()\n",
    "data['factor']=data.adjusted_close.pct_change()+1\n",
    "\n",
    "yields = pd.DataFrame()\n",
    "yields['Yield'] = (data.factor.groupby([data.index.year, data.index.month]).prod() -1)*100\n",
    "ordenado = yields.sort_values(\"Yield\", ascending=False)\n",
    "ordenado.index.names = ['Año','Semana']\n",
    "ordenado.head(10)"
   ]
  },
  {
   "cell_type": "markdown",
   "metadata": {},
   "source": [
    "# Resampleo"
   ]
  },
  {
   "cell_type": "markdown",
   "metadata": {},
   "source": [
    "Mediante el metodo resample podemos reagrupar rapidamente en funcion de diferentes timeframes una serie dada\n",
    "<br><b>Es importante aclarar que para que funcione el resampleo el indice de la tabla debe ser el timestamp</b>"
   ]
  },
  {
   "cell_type": "markdown",
   "metadata": {},
   "source": [
    "Las Frecuencias posibles son\n",
    "* B = business day frequency\n",
    "* D = calendar day frequency\n",
    "* W = weekly frequency \n",
    "* M = month end frequency \n",
    "* BM = business month end frequency \n",
    "* MS = month start frequency \n",
    "* BMS = business month start frequency \n",
    "* Q = quarter end frequency \n",
    "* BQ = business quarter endfrequency \n",
    "* QS = quarter start frequency \n",
    "* BQS = business quarter start frequency \n",
    "* A = year end frequency \n",
    "* BA = business year end frequency \n",
    "* AS = year start frequency \n",
    "* BAS = business year start frequency \n",
    "* BH = business hour frequency \n",
    "* H = hourly frequency \n",
    "* T = minutely frequency \n",
    "* S = secondly frequency \n",
    "* L = milliseonds"
   ]
  },
  {
   "cell_type": "markdown",
   "metadata": {},
   "source": [
    "## Jugando con la fecha de resampleo y la de la muestra.. ojo ahi"
   ]
  },
  {
   "cell_type": "code",
   "execution_count": null,
   "metadata": {},
   "outputs": [],
   "source": [
    "data = pd.read_excel('excels_csvs/AAPL.xlsx').set_index('timestamp', drop=False).sort_index()\n",
    "\n",
    "resampleada = data.resample('10T').last()\n",
    "resampleada.dropna()"
   ]
  },
  {
   "cell_type": "markdown",
   "metadata": {},
   "source": [
    "## Cierres al ultimo dia HABIL del mes de cada año"
   ]
  },
  {
   "cell_type": "code",
   "execution_count": null,
   "metadata": {},
   "outputs": [],
   "source": [
    "data = pd.read_excel('excels_csvs/AAPL.xlsx').set_index('timestamp', drop=False).sort_index()\n",
    "\n",
    "resampleada = data.resample('BM').last()\n",
    "resampleada.head(12)"
   ]
  },
  {
   "cell_type": "markdown",
   "metadata": {},
   "source": [
    "## Cierres cada bimestre"
   ]
  },
  {
   "cell_type": "markdown",
   "metadata": {},
   "source": [
    "Ojo acá, si ponemos una cantidad \"X\" antes del tipo de resampleo, me arma la primera muestra y a partir de ella usa esa cantidad"
   ]
  },
  {
   "cell_type": "code",
   "execution_count": null,
   "metadata": {},
   "outputs": [],
   "source": []
  },
  {
   "cell_type": "code",
   "execution_count": null,
   "metadata": {},
   "outputs": [],
   "source": []
  },
  {
   "cell_type": "code",
   "execution_count": null,
   "metadata": {},
   "outputs": [],
   "source": [
    "import pandas as pd"
   ]
  },
  {
   "cell_type": "code",
   "execution_count": null,
   "metadata": {},
   "outputs": [],
   "source": [
    "data = pd.read_excel('excels_csvs/AAPL.xlsx').set_index('timestamp', drop=False).sort_index()\n",
    "\n",
    "cierresBimestrales = data['adjusted_close'].resample('2M').last().to_frame()\n",
    "cierresBimestrales"
   ]
  },
  {
   "cell_type": "markdown",
   "metadata": {},
   "source": [
    "## Trabajando con intervalos de minutos"
   ]
  },
  {
   "cell_type": "markdown",
   "metadata": {},
   "source": [
    "Veamos promero que me levanta del archivo:"
   ]
  },
  {
   "cell_type": "code",
   "execution_count": null,
   "metadata": {},
   "outputs": [],
   "source": [
    "data = pd.read_excel('excels_csvs/AAPL_INTRA.xlsx').set_index('datetime', drop=False).sort_index()\n",
    "data.head(6)"
   ]
  },
  {
   "cell_type": "markdown",
   "metadata": {},
   "source": [
    "Como vemos partimos de una serie cada 2 minutos, vamos a resamplearla cada 10 minutos:"
   ]
  },
  {
   "cell_type": "code",
   "execution_count": null,
   "metadata": {},
   "outputs": [],
   "source": [
    "res1 = data['adjusted_close'].resample('10T').last().to_frame()\n",
    "res1.head()"
   ]
  },
  {
   "cell_type": "markdown",
   "metadata": {},
   "source": [
    "Acá la resampleamos cada 1 día\n",
    "<br>Ojo al poner first() tomamos el primer valor de dia, obviamente si ponemos last() tomariamos el ultimo\n",
    "<br>Del mismo modo si ponemos mean() tomariamos el valor medio"
   ]
  },
  {
   "cell_type": "code",
   "execution_count": null,
   "metadata": {},
   "outputs": [],
   "source": [
    "res2 = data['adjusted_close'].resample('1D').first().to_frame()\n",
    "res2.columns = [\"Apertura\"]\n",
    "res2.head()"
   ]
  },
  {
   "cell_type": "markdown",
   "metadata": {},
   "source": [
    "Como ven aparecen días sin datos, claramente son feriados y/o sábados y domingos, para sacar esos datos, como ya vimos podemos usar la funcion dropna()"
   ]
  },
  {
   "cell_type": "code",
   "execution_count": null,
   "metadata": {},
   "outputs": [],
   "source": [
    "res2 = data['adjusted_close'].resample('1D').last().to_frame().dropna()\n",
    "res2.columns = [\"Cierre\"]\n",
    "res2.head()"
   ]
  },
  {
   "cell_type": "markdown",
   "metadata": {},
   "source": [
    "## Armando una tabla de varias columnas con un resampleo"
   ]
  },
  {
   "cell_type": "code",
   "execution_count": null,
   "metadata": {
    "scrolled": true
   },
   "outputs": [],
   "source": [
    "tabla = data['adjusted_close'].resample('D').mean().to_frame().dropna()\n",
    "tabla['last'] = data['adjusted_close'].resample('D').last().to_frame()\n",
    "tabla['first'] = data['adjusted_close'].resample('D').first().to_frame()\n",
    "\n",
    "tabla.columns = [\"Precio Medio\",\"Precio Cierre\",'Precio Apertura']\n",
    "\n",
    "tabla.round(2).head()"
   ]
  },
  {
   "cell_type": "code",
   "execution_count": null,
   "metadata": {},
   "outputs": [],
   "source": []
  },
  {
   "cell_type": "code",
   "execution_count": null,
   "metadata": {},
   "outputs": [],
   "source": []
  },
  {
   "cell_type": "code",
   "execution_count": null,
   "metadata": {},
   "outputs": [],
   "source": []
  },
  {
   "cell_type": "code",
   "execution_count": null,
   "metadata": {},
   "outputs": [],
   "source": []
  },
  {
   "cell_type": "code",
   "execution_count": null,
   "metadata": {},
   "outputs": [],
   "source": []
  },
  {
   "cell_type": "code",
   "execution_count": null,
   "metadata": {},
   "outputs": [],
   "source": []
  },
  {
   "cell_type": "code",
   "execution_count": null,
   "metadata": {},
   "outputs": [],
   "source": []
  },
  {
   "cell_type": "markdown",
   "metadata": {},
   "source": [
    "# Ajuste de series (ej x gaps)"
   ]
  },
  {
   "cell_type": "code",
   "execution_count": null,
   "metadata": {},
   "outputs": [],
   "source": [
    "import pandas as pd\n",
    "import analisis_tecnico as at"
   ]
  },
  {
   "cell_type": "code",
   "execution_count": null,
   "metadata": {},
   "outputs": [],
   "source": [
    "data = at.getDataExcel('AAPL')\n",
    "\n",
    "# Funcion de ajuste de datos\n",
    "data = at.ajustarOHLC(data)\n",
    "\n",
    "\n",
    "data['pctChange'] = data.AdjClose.pct_change()\n",
    "data['Price'] = data.AdjClose\n",
    "data['Mov']=data.AdjClose.pct_change()*100\n",
    "data['OpenGap']=(data.Open/data.Close.shift(1)-1)*100\n",
    "data['IntraMov']=(data.Close/data.Open-1)*100\n",
    "data.index.name = \"Date\"\n",
    "\n",
    "data.dropna(inplace=True)\n",
    "data"
   ]
  },
  {
   "cell_type": "code",
   "execution_count": null,
   "metadata": {},
   "outputs": [],
   "source": [
    "data.OpenGap.plot()"
   ]
  },
  {
   "cell_type": "code",
   "execution_count": null,
   "metadata": {},
   "outputs": [],
   "source": [
    "data.sort_values('OpenGap').head()"
   ]
  },
  {
   "cell_type": "code",
   "execution_count": null,
   "metadata": {
    "scrolled": false
   },
   "outputs": [],
   "source": [
    "import matplotlib.pyplot as plt\n",
    "\n",
    "series = [data.OpenGap,data.IntraMov]\n",
    "fig, ax = plt.subplots(figsize=(4,6))\n",
    "\n",
    "ax.boxplot(series, showmeans=True)\n",
    "ax.set_ylim([-15,15])\n",
    "\n",
    "plt.xticks([1,2],[\"GAPS\",\"Intra\"])\n",
    "\n",
    "plt.show()"
   ]
  },
  {
   "cell_type": "code",
   "execution_count": null,
   "metadata": {},
   "outputs": [],
   "source": []
  },
  {
   "cell_type": "code",
   "execution_count": null,
   "metadata": {},
   "outputs": [],
   "source": []
  },
  {
   "cell_type": "code",
   "execution_count": null,
   "metadata": {},
   "outputs": [],
   "source": []
  },
  {
   "cell_type": "markdown",
   "metadata": {},
   "source": [
    "# Graficos superpuestos"
   ]
  },
  {
   "cell_type": "markdown",
   "metadata": {},
   "source": [
    "## Ejemplo con pandas directo"
   ]
  },
  {
   "cell_type": "code",
   "execution_count": null,
   "metadata": {},
   "outputs": [],
   "source": [
    "data = at.getDataExcel('AAPL')\n",
    "\n",
    "# Funcion de ajuste de datos\n",
    "data = at.ajustarOHLC(data)\n",
    "\n",
    "data['pctChange'] = data.AdjClose.pct_change()\n",
    "data['Price'] = data.AdjClose\n",
    "data['Mov']=data.AdjClose.pct_change()*100\n",
    "data['OpenGap']=(data.Open/data.Close.shift(1)-1)*100\n",
    "data['IntraMov']=(data.Close/data.Open-1)*100\n",
    "data.index.name = \"Date\"\n",
    "data.dropna(inplace=True)"
   ]
  },
  {
   "cell_type": "code",
   "execution_count": null,
   "metadata": {},
   "outputs": [],
   "source": [
    "test = data.loc[:,['OpenGap','IntraMov']]\n",
    "test = (test/100 +1).dropna()\n",
    "\n",
    "\n",
    "tabla = test.groupby([test.index.year,test.index.month]).prod()-1\n",
    "tabla.rolling(12).mean().plot()\n",
    "\n",
    "plt.plot([0]*len(tabla), 'k--')"
   ]
  },
  {
   "cell_type": "code",
   "execution_count": null,
   "metadata": {},
   "outputs": [],
   "source": [
    "tabla"
   ]
  },
  {
   "cell_type": "code",
   "execution_count": null,
   "metadata": {},
   "outputs": [],
   "source": [
    "tabla.abs().sum()"
   ]
  },
  {
   "cell_type": "code",
   "execution_count": null,
   "metadata": {},
   "outputs": [],
   "source": []
  },
  {
   "cell_type": "markdown",
   "metadata": {},
   "source": [
    "## Ejemplo con matplotlib"
   ]
  },
  {
   "cell_type": "code",
   "execution_count": null,
   "metadata": {},
   "outputs": [],
   "source": [
    "import yfinance as yf\n",
    "df = yf.download('GGAL')\n",
    "df['variacion'] = df['Adj Close'].pct_change()\n",
    "df['volatilidad'] = df['variacion'].rolling(250).std() * 250**0.5\n",
    "df.dropna(inplace=True)\n",
    "df"
   ]
  },
  {
   "cell_type": "markdown",
   "metadata": {},
   "source": [
    "## Escalas diferentes?"
   ]
  },
  {
   "cell_type": "code",
   "execution_count": null,
   "metadata": {},
   "outputs": [],
   "source": [
    "import matplotlib.pyplot as plt\n",
    "\n",
    "fig, ax = plt.subplots(figsize=(10,6))\n",
    "\n",
    "ax.plot(df['Adj Close'], 'r-', label='Precio')\n",
    "ax.plot(df['volatilidad'], 'b--', label='volatilidad')\n",
    "\n",
    "plt.legend()\n",
    "plt.show()"
   ]
  },
  {
   "cell_type": "markdown",
   "metadata": {},
   "source": [
    "## Escalas diferentes"
   ]
  },
  {
   "cell_type": "code",
   "execution_count": null,
   "metadata": {},
   "outputs": [],
   "source": [
    "fig, ax = plt.subplots(figsize=(10,6))\n",
    "\n",
    "ax.plot(df['Adj Close'], 'r-',  label='Precio')\n",
    "ax.legend(loc='upper left')\n",
    "\n",
    "ax2 = ax.twinx()\n",
    "ax2.plot(df['volatilidad'], 'k--',  label='volatilidad')\n",
    "ax2.legend(loc='upper right')\n",
    "\n",
    "ax2.legend()\n",
    "\n",
    "plt.show()\n"
   ]
  },
  {
   "cell_type": "markdown",
   "metadata": {},
   "source": [
    "## Escalas lineales y logaritmicas juntas"
   ]
  },
  {
   "cell_type": "code",
   "execution_count": null,
   "metadata": {},
   "outputs": [],
   "source": [
    "fig, ax = plt.subplots(figsize=(10,6))\n",
    "\n",
    "ax.plot(df['Adj Close'], 'g:',label='Precio Log')\n",
    "ax.set_yscale('log')\n",
    "ax.legend(loc='upper left', fontsize=14)\n",
    "\n",
    "ax2 = ax.twinx()\n",
    "ax2.plot(df['Adj Close'], 'r-',label='Precio Lineal')\n",
    "ax2.legend(loc='upper right', fontsize=14)\n",
    "\n",
    "plt.show()"
   ]
  },
  {
   "cell_type": "code",
   "execution_count": null,
   "metadata": {},
   "outputs": [],
   "source": []
  },
  {
   "cell_type": "code",
   "execution_count": null,
   "metadata": {},
   "outputs": [],
   "source": [
    "fig, ax = plt.subplots(figsize=(10,6))\n",
    "\n",
    "ax.plot(df['Adj Close'], 'g:',label='Precio Log')\n",
    "ax.set_yscale('log')\n",
    "ax.legend(loc='upper left', fontsize=14)\n",
    "\n",
    "ax2 = ax.twinx()\n",
    "ax2.plot(df['Adj Close'], 'r-',label='Precio Lineal')\n",
    "ax2.set_ylim(0,100)\n",
    "ax2.legend(loc='upper right', fontsize=14)\n",
    "\n",
    "plt.show()"
   ]
  },
  {
   "cell_type": "code",
   "execution_count": null,
   "metadata": {},
   "outputs": [],
   "source": []
  },
  {
   "cell_type": "code",
   "execution_count": null,
   "metadata": {},
   "outputs": [],
   "source": []
  },
  {
   "cell_type": "code",
   "execution_count": null,
   "metadata": {},
   "outputs": [],
   "source": []
  },
  {
   "cell_type": "markdown",
   "metadata": {},
   "source": [
    "# Subplots"
   ]
  },
  {
   "cell_type": "markdown",
   "metadata": {},
   "source": [
    "## Forma antigua"
   ]
  },
  {
   "cell_type": "code",
   "execution_count": null,
   "metadata": {},
   "outputs": [],
   "source": [
    "import analisis_tecnico as at\n",
    "\n",
    "data = at.getDataExcel('AAPL')\n",
    "\n",
    "# Funcion de ajuste de datos\n",
    "data = at.ajustarOHLC(data)\n",
    "\n",
    "data['pctChange'] = data.AdjClose.pct_change()\n",
    "data['Price'] = data.AdjClose\n",
    "data['Mov']=data.AdjClose.pct_change()*100\n",
    "data['OpenGap']=(data.Open/data.Close.shift(1)-1)*100\n",
    "data['IntraMov']=(data.Close/data.Open-1)*100\n",
    "data.index.name = \"Date\"\n",
    "data.dropna(inplace=True)"
   ]
  },
  {
   "cell_type": "code",
   "execution_count": null,
   "metadata": {},
   "outputs": [],
   "source": [
    "plt.figure(figsize=(10,7))\n",
    "\n",
    "# asigno a la variable ax1 un subplot\n",
    "# el 211 significa 2 filas, 1 columa, ocupar el 1° lugar\n",
    "ax1 = plt.subplot(221)\n",
    "ax1.plot(data.Price)\n",
    "ax1.set_yscale('log')\n",
    "\n",
    "# asigno a la variable ax2 otro subplot\n",
    "# el 212 significa 2 filas, 1 columa, ocupar el 2° lugar\n",
    "ax2 = plt.subplot(222)\n",
    "ax2.plot(data.Price)\n",
    "ax2.set_yscale('linear')"
   ]
  },
  {
   "cell_type": "code",
   "execution_count": null,
   "metadata": {},
   "outputs": [],
   "source": []
  },
  {
   "cell_type": "code",
   "execution_count": null,
   "metadata": {},
   "outputs": [],
   "source": []
  },
  {
   "cell_type": "markdown",
   "metadata": {},
   "source": [
    "## Forma nueva"
   ]
  },
  {
   "cell_type": "code",
   "execution_count": null,
   "metadata": {},
   "outputs": [],
   "source": [
    "fig, axs = plt.subplots(2, figsize=(10,7))\n",
    "axs[0].plot(data.Price)\n",
    "axs[0].set_yscale('log')\n",
    "axs[0].title.set_text('Escala Logaritmica')\n",
    "axs[1].plot(data.Price)\n",
    "axs[1].set_yscale('linear')\n",
    "axs[1].title.set_text('Escala Lineal')\n",
    "fig.subplots_adjust(hspace=0.3)"
   ]
  },
  {
   "cell_type": "code",
   "execution_count": null,
   "metadata": {},
   "outputs": [],
   "source": []
  },
  {
   "cell_type": "code",
   "execution_count": null,
   "metadata": {},
   "outputs": [],
   "source": []
  },
  {
   "cell_type": "code",
   "execution_count": null,
   "metadata": {},
   "outputs": [],
   "source": []
  },
  {
   "cell_type": "markdown",
   "metadata": {},
   "source": [
    "Les dejo exactamente lo mismo pero apilados horizontalmente, solo cambia la línea que define los subplots(filas, columnas) que en lugar de poner subplots(2) (que indica 2 filas) ponemos subplot(1,2) que indica una fila 2 columnas"
   ]
  },
  {
   "cell_type": "code",
   "execution_count": null,
   "metadata": {},
   "outputs": [],
   "source": [
    "fig, axs = plt.subplots(nrows=1, ncols=2, figsize=(10,3))\n",
    "axs[0].plot(data.Price)\n",
    "axs[0].set_yscale('log')\n",
    "axs[0].title.set_text('Escala Logaritmica')\n",
    "axs[1].plot(data.Price)\n",
    "axs[1].set_yscale('linear')\n",
    "axs[1].title.set_text('Escala Lineal')\n",
    "fig.subplots_adjust(hspace=0.4)"
   ]
  },
  {
   "cell_type": "code",
   "execution_count": null,
   "metadata": {},
   "outputs": [],
   "source": []
  },
  {
   "cell_type": "code",
   "execution_count": null,
   "metadata": {},
   "outputs": [],
   "source": []
  },
  {
   "cell_type": "code",
   "execution_count": null,
   "metadata": {},
   "outputs": [],
   "source": []
  },
  {
   "cell_type": "markdown",
   "metadata": {},
   "source": [
    "Les dejo como ejemplo un básico de precio y volumen"
   ]
  },
  {
   "cell_type": "code",
   "execution_count": null,
   "metadata": {},
   "outputs": [],
   "source": [
    "data = at.getDataExcel('AAPL')\n",
    "precios2020 = data.loc[(data.index>='2019')]\n",
    "\n",
    "fig, axs = plt.subplots(2, figsize=(10,5), gridspec_kw={'height_ratios':[2, 1]})\n",
    "fig.suptitle('Serie AAPL con Volumen', y= 0.94, color='black')\n",
    "\n",
    "axs[0].plot(precios2020.index, precios2020.AdjClose)\n",
    "axs[1].bar(precios2020.index, precios2020.Volume)\n",
    "fig.subplots_adjust(hspace=0)"
   ]
  },
  {
   "cell_type": "markdown",
   "metadata": {},
   "source": [
    "# Estilos predeterminados"
   ]
  },
  {
   "cell_type": "markdown",
   "metadata": {},
   "source": [
    "Hay varios estilos predeterminados de colores y tamaños, les dejo el comando para listarlos a todos, después vayan ustedes probando cual les gusta mas, el paquete de estilos se llama con es plt.style y pueden listarlos con plt.style.available o bien pueden seleccionar uno con plt.style.use(\"nombre_del_estilo_elegido\")"
   ]
  },
  {
   "cell_type": "code",
   "execution_count": null,
   "metadata": {},
   "outputs": [],
   "source": [
    "print(plt.style.available)"
   ]
  },
  {
   "cell_type": "markdown",
   "metadata": {},
   "source": [
    "A continuación dejo algunos ejemplos solo para mostrar que solo cambiando esa línea ya se puede elegir una variedad de estilos bastante diferenciados"
   ]
  },
  {
   "cell_type": "code",
   "execution_count": null,
   "metadata": {
    "scrolled": true
   },
   "outputs": [],
   "source": [
    "import pandas as pd\n",
    "import analisis_tecnico as at\n",
    "import matplotlib.pyplot as plt\n",
    "\n",
    "\n",
    "data = at.getDataExcel('AAPL')\n",
    "data = at.ajustarOHLC(data)\n",
    "data = at.addGap(data)\n",
    "\n",
    "\n",
    "plt.style.use('seaborn-whitegrid')\n",
    "plt.figure(figsize=(7,3))\n",
    "plt.gca().set_yscale('log')\n",
    "plt.plot(data.Price)"
   ]
  },
  {
   "cell_type": "code",
   "execution_count": null,
   "metadata": {
    "scrolled": true
   },
   "outputs": [],
   "source": [
    "plt.style.use('fivethirtyeight')\n",
    "\n",
    "plt.figure(figsize=(7,3)).suptitle('fivethirtyeight')\n",
    "plt.gca().set_yscale('log')\n",
    "plt.plot(data.Price)"
   ]
  },
  {
   "cell_type": "markdown",
   "metadata": {},
   "source": [
    "Supongamos que me encantó ese diseño pero no quiero que dibuje las grillas\n",
    "<br>En ese caso hago la captura del objeto ejes y le aplico el método grid() y lo configuro como False"
   ]
  },
  {
   "cell_type": "code",
   "execution_count": null,
   "metadata": {},
   "outputs": [],
   "source": [
    "\n",
    "plt.style.use('fivethirtyeight')\n",
    "plt.figure(figsize=(7,3)).suptitle('fivethirtyeight')\n",
    "\n",
    "plt.gca().set_yscale('log')\n",
    "plt.gca().grid(False)\n",
    "\n",
    "plt.plot(data.Price)"
   ]
  },
  {
   "cell_type": "markdown",
   "metadata": {},
   "source": [
    "Aplicamoos otro estilo, usemos el seaborn"
   ]
  },
  {
   "cell_type": "code",
   "execution_count": null,
   "metadata": {
    "scrolled": true
   },
   "outputs": [],
   "source": [
    "plt.style.use('seaborn')\n",
    "plt.figure(figsize=(7,3)).suptitle('seaborn')\n",
    "plt.gca().set_yscale('log')\n",
    "plt.plot(data.Price)"
   ]
  },
  {
   "cell_type": "markdown",
   "metadata": {},
   "source": [
    "Pero supongamos que me encantó ese estilo y no me gusto ese color de fondo de los ejes\n",
    "<br>Entonces podemos aplicar el método set_facecolor(\"color\") a los ejes que debemos capturar"
   ]
  },
  {
   "cell_type": "code",
   "execution_count": null,
   "metadata": {},
   "outputs": [],
   "source": [
    "plt.style.use('seaborn')\n",
    "\n",
    "plt.figure(figsize=(7,3)).suptitle('seaborn')\n",
    "plt.gca().set_yscale('log')\n",
    "plt.gca().set_facecolor(\"white\")\n",
    "plt.plot(data.Price)"
   ]
  },
  {
   "cell_type": "code",
   "execution_count": null,
   "metadata": {},
   "outputs": [],
   "source": []
  },
  {
   "cell_type": "code",
   "execution_count": null,
   "metadata": {},
   "outputs": [],
   "source": []
  },
  {
   "cell_type": "code",
   "execution_count": null,
   "metadata": {},
   "outputs": [],
   "source": []
  },
  {
   "cell_type": "markdown",
   "metadata": {},
   "source": [
    "### Gráficos con dos Ejes Y diferentes y el mismo eje X"
   ]
  },
  {
   "cell_type": "code",
   "execution_count": null,
   "metadata": {},
   "outputs": [],
   "source": [
    "import pandas as pd\n",
    "import analisis_tecnico as at\n",
    "import matplotlib.pyplot as plt\n",
    "\n",
    "\n",
    "data = at.getDataExcel('AAPL')\n",
    "data = at.ajustarOHLC(data)\n",
    "data = at.addGap(data)\n",
    "data['STD'] = data.pctChange.rolling(50).std()\n",
    "\n",
    "fig, ax1 = plt.subplots(figsize=(10,4))\n",
    "plt.style.use('fivethirtyeight')\n",
    "\n",
    "fig.suptitle('Precios y Volatilidad SPY')\n",
    "\n",
    "ax1.set_ylabel('Precios', color=\"k\")\n",
    "ax1.set_yscale('log')\n",
    "ax1.plot(data.Price, lw=1, color=\"k\")\n",
    "\n",
    "ax2 = ax1.twinx()  \n",
    "ax2.set_ylabel('Volatilidad', color=\"gray\")  \n",
    "ax2.plot(data.STD, lw=1.5, linestyle=\"--\", color=\"gray\")"
   ]
  },
  {
   "cell_type": "code",
   "execution_count": null,
   "metadata": {},
   "outputs": [],
   "source": []
  },
  {
   "cell_type": "code",
   "execution_count": null,
   "metadata": {},
   "outputs": [],
   "source": []
  }
 ],
 "metadata": {
  "kernelspec": {
   "display_name": "Python 3",
   "language": "python",
   "name": "python3"
  },
  "language_info": {
   "codemirror_mode": {
    "name": "ipython",
    "version": 3
   },
   "file_extension": ".py",
   "mimetype": "text/x-python",
   "name": "python",
   "nbconvert_exporter": "python",
   "pygments_lexer": "ipython3",
   "version": "3.7.7"
  },
  "toc": {
   "base_numbering": 1,
   "nav_menu": {},
   "number_sections": true,
   "sideBar": true,
   "skip_h1_title": false,
   "title_cell": "Table of Contents",
   "title_sidebar": "Contents",
   "toc_cell": false,
   "toc_position": {},
   "toc_section_display": true,
   "toc_window_display": true
  },
  "varInspector": {
   "cols": {
    "lenName": 16,
    "lenType": 16,
    "lenVar": 40
   },
   "kernels_config": {
    "python": {
     "delete_cmd_postfix": "",
     "delete_cmd_prefix": "del ",
     "library": "var_list.py",
     "varRefreshCmd": "print(var_dic_list())"
    },
    "r": {
     "delete_cmd_postfix": ") ",
     "delete_cmd_prefix": "rm(",
     "library": "var_list.r",
     "varRefreshCmd": "cat(var_dic_list()) "
    }
   },
   "types_to_exclude": [
    "module",
    "function",
    "builtin_function_or_method",
    "instance",
    "_Feature"
   ],
   "window_display": false
  }
 },
 "nbformat": 4,
 "nbformat_minor": 4
}
