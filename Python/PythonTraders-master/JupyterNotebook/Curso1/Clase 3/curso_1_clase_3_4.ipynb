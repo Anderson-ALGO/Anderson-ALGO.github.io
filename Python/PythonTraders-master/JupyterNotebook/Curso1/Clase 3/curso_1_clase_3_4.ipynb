{
 "cells": [
  {
   "cell_type": "markdown",
   "metadata": {},
   "source": [
    "# Funciones Acumulativas"
   ]
  },
  {
   "cell_type": "markdown",
   "metadata": {},
   "source": [
    "Las funciones acumulativas nos permiten trabajar en la fila \"n\" de una tabla con todos los datos de las filas \"0 a n\"\n",
    "<br>Dentro de este tipo de funciones encontramos:"
   ]
  },
  {
   "cell_type": "markdown",
   "metadata": {},
   "source": [
    "* cummax()  El máximo acumulado (ideal para máximo histórico por fecha)\n",
    "* cummin()  El mínimo acumulado (ideal para mínimo histórico por fecha)\n",
    "* cumsum() La suma acumulada (ideal para armado se subtotales por fecha)\n",
    "* cumprod() El producto acumulado (ideal para rendimiento compuesto)"
   ]
  },
  {
   "cell_type": "markdown",
   "metadata": {},
   "source": [
    "## Cummax()"
   ]
  },
  {
   "cell_type": "markdown",
   "metadata": {},
   "source": [
    "El uso típico que le vamos a dar a esta función es para saber el máximo histórico de una serie en cada punto de la misma"
   ]
  },
  {
   "cell_type": "code",
   "execution_count": null,
   "metadata": {},
   "outputs": [],
   "source": [
    "import pandas as pd\n",
    "data = pd.read_excel('excels_csvs/AAPL.xlsx')\n",
    "data = data.sort_values(by='timestamp',ascending=True)\n",
    "data = data.drop([\"high\",\"low\",\"volume\"], axis=1).set_index(\"timestamp\")\n",
    "\n",
    "data['maxHist'] = data.adjusted_close.cummax()\n",
    "data.head(6)"
   ]
  },
  {
   "cell_type": "markdown",
   "metadata": {},
   "source": [
    "## Cummin()"
   ]
  },
  {
   "cell_type": "markdown",
   "metadata": {},
   "source": [
    "Obviamente es lo mismo que el cummax pero para mínimos, la combinación de cummax() y cummin() va a ser muy util para backtestings de drawdowns y recuperaciones posteriores"
   ]
  },
  {
   "cell_type": "code",
   "execution_count": null,
   "metadata": {},
   "outputs": [],
   "source": [
    "data = pd.read_excel('excels_csvs/AAPL.xlsx')\n",
    "data = data.sort_values(by='timestamp',ascending=True)\n",
    "data = data.drop([\"high\",\"low\",\"volume\"], axis=1).set_index(\"timestamp\")\n",
    "\n",
    "data['minHist'] = data.adjusted_close.cummin()\n",
    "data.head(6)"
   ]
  },
  {
   "cell_type": "markdown",
   "metadata": {},
   "source": [
    "## Cumsum()"
   ]
  },
  {
   "cell_type": "markdown",
   "metadata": {},
   "source": [
    "Cumsum() es obviamente una funcion de sumas acumuladas, que en la posicion de la fila \"n\" nos devuelve la suma de \"0 a n\" (inclusive)"
   ]
  },
  {
   "cell_type": "markdown",
   "metadata": {},
   "source": [
    "$$ \\large cumsum\\hspace{3mm}(X_{n})\\hspace{3mm}  =  \\hspace{3mm} \\sum_{i=0}^{n}x_{i} $$"
   ]
  },
  {
   "cell_type": "markdown",
   "metadata": {},
   "source": [
    "En el ejemplo aprovechamos para borrar las columnas de OHLC par limpiar un poco la salida con la función drop()"
   ]
  },
  {
   "cell_type": "code",
   "execution_count": null,
   "metadata": {},
   "outputs": [],
   "source": [
    "data = pd.read_excel('excels_csvs/AAPL.xlsx')\n",
    "data = data.sort_values(by='timestamp',ascending=True)\n",
    "\n",
    "data['volumenAcum'] = data.volume.cumsum()/1000000\n",
    "data = data.drop(['open','high','low','close'],1).dropna().round(2)\n",
    "data.set_index('timestamp',inplace=True)\n",
    "data.head(6)"
   ]
  },
  {
   "cell_type": "code",
   "execution_count": null,
   "metadata": {},
   "outputs": [],
   "source": [
    "data.volumenAcum.plot()"
   ]
  },
  {
   "cell_type": "markdown",
   "metadata": {},
   "source": [
    "## Cumprod()"
   ]
  },
  {
   "cell_type": "markdown",
   "metadata": {},
   "source": [
    "Cumprod() es una función de productorio, es decir el producto acumulado de 0 a n, para la fila n "
   ]
  },
  {
   "cell_type": "markdown",
   "metadata": {},
   "source": [
    "$$ \\large cumprod\\hspace{3mm}(X_{n})\\hspace{3mm}  =  \\hspace{3mm} \\prod_{i=0}^{n}x_{i} $$"
   ]
  },
  {
   "cell_type": "markdown",
   "metadata": {},
   "source": [
    "Vamos a usar esta fórmula para calcular rendimiento compuesto, es muy sencillo:\n",
    "<br>  1- Creamos una columna \"variacion\" con el valor \"r\", rendimiento porcentual diario.\n",
    "<br>  2- Creamos una columna \"factor\" con el valor (1+r)\n",
    "<br>  2- Luego vamos a aplicar el productorio para cada fila de esa columna \"factor\" y le restamos 1 al resultado."
   ]
  },
  {
   "cell_type": "code",
   "execution_count": null,
   "metadata": {},
   "outputs": [],
   "source": [
    "data = pd.read_excel('excels_csvs/AAPL.xlsx')\n",
    "data = data.sort_values(by='timestamp',ascending=True)\n",
    "\n",
    "data['variacion'] = data['adjusted_close'].pct_change()\n",
    "data['factor'] = 1 + data['variacion'] \n",
    "data['rendimientoAcum'] = (data.factor.cumprod()-1)*100\n",
    "\n",
    "data = data.drop(['open','high','low','close','volume'],1).dropna().round(4).set_index(\"timestamp\")\n",
    "data"
   ]
  },
  {
   "cell_type": "code",
   "execution_count": null,
   "metadata": {},
   "outputs": [],
   "source": [
    "dataf = data.iloc[:250]\n",
    "dataf.rendimientoAcum.plot()"
   ]
  },
  {
   "cell_type": "code",
   "execution_count": null,
   "metadata": {},
   "outputs": [],
   "source": []
  },
  {
   "cell_type": "markdown",
   "metadata": {},
   "source": [
    "## Rolling vs Acumulativas (diferencias)\n",
    "* cummax vs rolling(n).max()\n",
    "* cummin vs rolling(n).min()\n",
    "* cumsum vs rolling(n).sum()\n",
    "\n"
   ]
  },
  {
   "cell_type": "code",
   "execution_count": null,
   "metadata": {},
   "outputs": [],
   "source": []
  },
  {
   "cell_type": "code",
   "execution_count": null,
   "metadata": {},
   "outputs": [],
   "source": []
  },
  {
   "cell_type": "code",
   "execution_count": null,
   "metadata": {},
   "outputs": [],
   "source": []
  },
  {
   "cell_type": "code",
   "execution_count": null,
   "metadata": {},
   "outputs": [],
   "source": []
  },
  {
   "cell_type": "markdown",
   "metadata": {},
   "source": [
    "# Agrupamiento"
   ]
  },
  {
   "cell_type": "code",
   "execution_count": null,
   "metadata": {},
   "outputs": [],
   "source": [
    "import pandas as pd\n",
    "\n",
    "data = pd.read_excel('excels_csvs/SPY.xlsx')\n",
    "data = data.sort_values('timestamp',ascending=True).set_index(\"timestamp\")\n",
    "data"
   ]
  },
  {
   "cell_type": "markdown",
   "metadata": {},
   "source": [
    "## Agrupamiento por columnas o toda la tabla"
   ]
  },
  {
   "cell_type": "code",
   "execution_count": null,
   "metadata": {},
   "outputs": [],
   "source": [
    "data = pd.read_excel('excels_csvs/SPY.xlsx')\n",
    "data = data.sort_values('timestamp',ascending=True).set_index(\"timestamp\")\n",
    "data['variacion'] = data.adjusted_close.pct_change()\n",
    "\n",
    "pd.options.display.max_rows = 10\n",
    "\n",
    "agrupados = data.volume.groupby(data.index.dayofweek).sum()\n",
    "\n",
    "\n",
    "agrupados"
   ]
  },
  {
   "cell_type": "code",
   "execution_count": null,
   "metadata": {},
   "outputs": [],
   "source": [
    "data = pd.read_excel('excels_csvs/SPY.xlsx')\n",
    "data = data.sort_values('timestamp',ascending=True).set_index(\"timestamp\", drop=False)\n",
    "data['variacion'] = data.adjusted_close.pct_change()\n",
    "agrupados = data.adjusted_close.groupby(data.index.to_period('Q')).last()\n",
    "\n",
    "agrupados"
   ]
  },
  {
   "cell_type": "markdown",
   "metadata": {},
   "source": [
    "## Métodos para concatenar a los agrupamientos"
   ]
  },
  {
   "cell_type": "markdown",
   "metadata": {},
   "source": [
    "Así como usamos la funcón count() podemos usar otro tipo de funciones, por ejemplo:\n",
    "* first()\n",
    "* last()\n",
    "* min()\n",
    "* max()\n",
    "* sum()\n",
    "* prod()\n",
    "* mean()\n",
    "* median()\n",
    "* std() desvio estandar (sigma)\n",
    "* var() varianza (sigma^2)\n",
    "* skew()  (Coeficiente de asimetria)\n",
    "* kurtosis() \n",
    "* quantile()  "
   ]
  },
  {
   "cell_type": "markdown",
   "metadata": {},
   "source": [
    "## Criterios de agrupamiento del tipo fechas"
   ]
  },
  {
   "cell_type": "markdown",
   "metadata": {},
   "source": [
    "# Mas funciones"
   ]
  },
  {
   "cell_type": "markdown",
   "metadata": {},
   "source": [
    "## Clip (Acotado)\n",
    "Esta función \"acota\" los valores de una columna entre un mínimo y un máximo, es muy útil para descartar la incidencia de \"outliers\" o \"datos aberrantes\" o \"valores de colas\" o simplemente \"errores\" del data feed"
   ]
  },
  {
   "cell_type": "code",
   "execution_count": null,
   "metadata": {},
   "outputs": [],
   "source": [
    "tabla = pd.read_excel('excels_csvs/AAPL_SPY_QQQ.xlsx')\n",
    "tabla.set_index(\"timestamp\",inplace=True)\n",
    "tabla.tail(8)"
   ]
  },
  {
   "cell_type": "markdown",
   "metadata": {},
   "source": [
    "Supongamos que no queremos considerar los valores superiores a +8% o los inferiores a -8% y queremos \"topearlos\" en esos límites"
   ]
  },
  {
   "cell_type": "code",
   "execution_count": null,
   "metadata": {},
   "outputs": [],
   "source": [
    "tabla = pd.read_excel('excels_csvs/AAPL_SPY_QQQ.xlsx')    \n",
    "tabla.set_index(\"timestamp\",inplace=True)\n",
    "tabla_acotada = tabla.clip(-6,8)\n",
    "tabla_acotada.tail(8)"
   ]
  },
  {
   "cell_type": "markdown",
   "metadata": {},
   "source": [
    "como vemos en el dato del 2 de marzo de 2020, que teníamos un 9.31, lo cambió por 8 que era nuestro \"tope\""
   ]
  },
  {
   "cell_type": "markdown",
   "metadata": {},
   "source": [
    "## Funciones Estadísticas Báscias\n",
    "Gracias a pandas tenemos a disposición de un clic las siguientes funcones estadísticas básicas:\n",
    "* Valor máximo: max()\n",
    "* Valor mínimo: min()\n",
    "* Indice de valores mínimos y máximos: idxmin() e idxmax()\n",
    "* Media: mean()\n",
    "* Mediana: madian()\n",
    "* Producto: prod()  o product()\n",
    "* Suma: sum()\n",
    "* Ranking: rank()\n",
    "* Quantiles: quantile()\n",
    "* Cantidad de valores únicos: nunique()"
   ]
  },
  {
   "cell_type": "code",
   "execution_count": null,
   "metadata": {},
   "outputs": [],
   "source": []
  },
  {
   "cell_type": "code",
   "execution_count": null,
   "metadata": {},
   "outputs": [],
   "source": []
  },
  {
   "cell_type": "markdown",
   "metadata": {},
   "source": [
    "Tambien podemos agrupar por otro tipo de datos:\n",
    "* Cualquier columna discreta (supongamos que tengamos una con True/False)\n",
    "* Tambíen se puede discretizar un rango continuo pero ya veremos ottras herramientas mas interesantes para eso\n",
    "* Cualquier otro agrupamiento de fechas:\n",
    "    * year\n",
    "    * month\n",
    "    * week\n",
    "    * dayofweek\n",
    "    * mas de un criterio\n",
    "    * Trimestral: usando to_period('Q') "
   ]
  },
  {
   "cell_type": "code",
   "execution_count": null,
   "metadata": {},
   "outputs": [],
   "source": []
  },
  {
   "cell_type": "code",
   "execution_count": null,
   "metadata": {},
   "outputs": [],
   "source": []
  },
  {
   "cell_type": "code",
   "execution_count": null,
   "metadata": {},
   "outputs": [],
   "source": []
  },
  {
   "cell_type": "code",
   "execution_count": null,
   "metadata": {},
   "outputs": [],
   "source": []
  },
  {
   "cell_type": "code",
   "execution_count": null,
   "metadata": {},
   "outputs": [],
   "source": []
  },
  {
   "cell_type": "markdown",
   "metadata": {},
   "source": [
    "# Repaso de Estadística"
   ]
  },
  {
   "cell_type": "markdown",
   "metadata": {},
   "source": [
    "## Desvío Estandrar - Fórmulas"
   ]
  },
  {
   "cell_type": "markdown",
   "metadata": {},
   "source": [
    "$$ \\large \\sigma^2 = \\sum_{x=i}^{n} \\frac{1}{n} . (X_i - \\bar{X} )^2  $$"
   ]
  },
  {
   "cell_type": "code",
   "execution_count": null,
   "metadata": {},
   "outputs": [],
   "source": [
    "data.variacion.std()"
   ]
  },
  {
   "cell_type": "markdown",
   "metadata": {},
   "source": [
    "## Error estandar - Fórmulas"
   ]
  },
  {
   "cell_type": "markdown",
   "metadata": {},
   "source": [
    "$$ \\Large \\frac{\\sigma}{\\sqrt{n}}$$ "
   ]
  },
  {
   "cell_type": "code",
   "execution_count": null,
   "metadata": {},
   "outputs": [],
   "source": [
    "data.variacion.sem()"
   ]
  },
  {
   "cell_type": "markdown",
   "metadata": {},
   "source": [
    "## Varianza"
   ]
  },
  {
   "cell_type": "code",
   "execution_count": null,
   "metadata": {},
   "outputs": [],
   "source": [
    "data.variacion.var()"
   ]
  },
  {
   "cell_type": "markdown",
   "metadata": {},
   "source": [
    "## Skew - Fórmulas"
   ]
  },
  {
   "cell_type": "markdown",
   "metadata": {},
   "source": [
    "$$ \\large  skew =  \\frac{\\mu_3}{\\sigma^3}  =  \\frac{\\sum_{x=i}^{n} \\frac{1}{n} . (X_i - \\bar{X} )^3}{\\sigma^3} $$"
   ]
  },
  {
   "cell_type": "markdown",
   "metadata": {},
   "source": [
    "## Repaso de Coeficiente de Asimetría"
   ]
  },
  {
   "cell_type": "markdown",
   "metadata": {},
   "source": [
    "<img src='imagenes/skew.png' style='width:600px;float:left;'>"
   ]
  },
  {
   "cell_type": "markdown",
   "metadata": {},
   "source": [
    "## Repaso de quantiles, cuartiles, quintiles, deciles, percentiles y blabla_iles"
   ]
  },
  {
   "cell_type": "markdown",
   "metadata": {},
   "source": [
    "<img src='imagenes/quantiles.png' style='width:600px;float:left;'>"
   ]
  },
  {
   "cell_type": "code",
   "execution_count": null,
   "metadata": {},
   "outputs": [],
   "source": [
    "data.variacion.quantile(0.5)"
   ]
  },
  {
   "cell_type": "code",
   "execution_count": null,
   "metadata": {},
   "outputs": [],
   "source": [
    "data.variacion.rank(pct=True)"
   ]
  },
  {
   "cell_type": "code",
   "execution_count": null,
   "metadata": {},
   "outputs": [],
   "source": [
    "data.variacion.quantile(0.048853)"
   ]
  },
  {
   "cell_type": "code",
   "execution_count": null,
   "metadata": {},
   "outputs": [],
   "source": [
    "data.variacion['2000-03-07']"
   ]
  },
  {
   "cell_type": "markdown",
   "metadata": {},
   "source": [
    "## Kurtosis"
   ]
  },
  {
   "cell_type": "markdown",
   "metadata": {},
   "source": [
    "$$ \\Large kurtosis = \\frac{\\sum_{i=1} (X_i-\\bar{X})^4}{n . \\sigma^4}$$\n"
   ]
  },
  {
   "cell_type": "markdown",
   "metadata": {},
   "source": [
    "Coeficiente de apuntamiento\n",
    "\n",
    "<div style=\"width:600px;float:left;\">\n",
    "    <br>La Curtosis nos da una idea de la forma, mientras mas alta, mas valores cerca de la media y mas gruesas las colas\n",
    "    <ul>\n",
    "        <li> Leptocúrtica,  Curtosis > 3 (más apuntada y con colas más gruesas que la normal) </li>\n",
    "        <li> Platicúrtica,  Curtosis < 3 (menos apuntada y con colas menos gruesas que la norma) </li>\n",
    "        <li> Mesocúrtica,   Curtosis = 3 (tiene una distribución normal) </li>\n",
    "    </ul>\n",
    "</div>\n",
    "<div style=\"width:350px;float:right;margin-top:-25px;\">\n",
    "    <img src=\"imagenes/kurtosis.png\" style=\"width:300px;height:230px;\">\n",
    "</div>\n"
   ]
  },
  {
   "cell_type": "code",
   "execution_count": null,
   "metadata": {},
   "outputs": [],
   "source": [
    "data.variacion.kurtosis()"
   ]
  },
  {
   "cell_type": "code",
   "execution_count": null,
   "metadata": {},
   "outputs": [],
   "source": []
  },
  {
   "cell_type": "code",
   "execution_count": null,
   "metadata": {},
   "outputs": [],
   "source": []
  },
  {
   "cell_type": "markdown",
   "metadata": {},
   "source": [
    "## Covarianza"
   ]
  },
  {
   "cell_type": "markdown",
   "metadata": {},
   "source": [
    "$$ \\large s_{xy}={1 \\over n}\\sum _{i=1}^{n}{(x_{i}-{\\overline {x}})(y_{i}-{\\overline {y}})} $$"
   ]
  },
  {
   "cell_type": "code",
   "execution_count": null,
   "metadata": {},
   "outputs": [],
   "source": [
    "import yfinance as yf\n",
    "\n",
    "activos = ['GGAL','YPF','PAM','EDN','BBAR']\n",
    "data = yf.download(activos, start='2001-01-01', end='2020-08-30')['Adj Close']\n",
    "tabla = data.pct_change().dropna()*100\n",
    "tabla"
   ]
  },
  {
   "cell_type": "markdown",
   "metadata": {},
   "source": [
    "### Covarianza contra si mismo"
   ]
  },
  {
   "cell_type": "code",
   "execution_count": null,
   "metadata": {},
   "outputs": [],
   "source": [
    "tabla.var()"
   ]
  },
  {
   "cell_type": "code",
   "execution_count": null,
   "metadata": {},
   "outputs": [],
   "source": [
    "tabla.GGAL.cov(tabla.GGAL)"
   ]
  },
  {
   "cell_type": "markdown",
   "metadata": {},
   "source": [
    "### Matriz de covarianzas"
   ]
  },
  {
   "cell_type": "code",
   "execution_count": null,
   "metadata": {},
   "outputs": [],
   "source": [
    "tabla.cov()"
   ]
  },
  {
   "cell_type": "code",
   "execution_count": null,
   "metadata": {},
   "outputs": [],
   "source": []
  },
  {
   "cell_type": "code",
   "execution_count": null,
   "metadata": {},
   "outputs": [],
   "source": []
  },
  {
   "cell_type": "markdown",
   "metadata": {},
   "source": [
    "# Método apply en lugar de concatenar métodos"
   ]
  },
  {
   "cell_type": "code",
   "execution_count": null,
   "metadata": {},
   "outputs": [],
   "source": [
    "data = pd.read_excel('excels_csvs/SPY.xlsx')\n",
    "data = data.sort_values('timestamp',ascending=True).set_index(\"timestamp\", drop=False)\n",
    "data['variacion'] = data.adjusted_close.pct_change()\n",
    "\n",
    "data.variacion.groupby(data.index.year).apply(pd.DataFrame.std)"
   ]
  },
  {
   "cell_type": "code",
   "execution_count": null,
   "metadata": {},
   "outputs": [],
   "source": [
    "data = pd.read_excel('excels_csvs/SPY.xlsx')\n",
    "data = data.sort_values('timestamp',ascending=True).set_index(\"timestamp\", drop=False)\n",
    "data['variacion'] = data.adjusted_close.pct_change()\n",
    "\n",
    "data.variacion.groupby(data.index.year).std()"
   ]
  },
  {
   "cell_type": "code",
   "execution_count": null,
   "metadata": {},
   "outputs": [],
   "source": []
  },
  {
   "cell_type": "markdown",
   "metadata": {},
   "source": [
    "# Ejemplos de concatenado con groupby"
   ]
  },
  {
   "cell_type": "code",
   "execution_count": null,
   "metadata": {},
   "outputs": [],
   "source": [
    "data.variacion.groupby(data.index.year).quantile(0.75)"
   ]
  },
  {
   "cell_type": "code",
   "execution_count": null,
   "metadata": {},
   "outputs": [],
   "source": [
    "data.variacion.groupby(data.index.year).describe()"
   ]
  },
  {
   "cell_type": "code",
   "execution_count": null,
   "metadata": {},
   "outputs": [],
   "source": [
    "data = yf.download('SPY')\n",
    "data['variacion'] = data['Adj Close'].pct_change()\n",
    "data.variacion.groupby(data.index.year).apply(pd.DataFrame.kurtosis).plot()"
   ]
  },
  {
   "cell_type": "code",
   "execution_count": null,
   "metadata": {},
   "outputs": [],
   "source": [
    "data = yf.download('KO', start='1990-01-01')\n",
    "data['variacion'] = data['Adj Close'].pct_change()\n",
    "data.variacion.groupby(data.index.year).apply(pd.DataFrame.kurtosis).plot()"
   ]
  },
  {
   "cell_type": "code",
   "execution_count": null,
   "metadata": {},
   "outputs": [],
   "source": []
  },
  {
   "cell_type": "code",
   "execution_count": null,
   "metadata": {},
   "outputs": [],
   "source": []
  },
  {
   "cell_type": "code",
   "execution_count": null,
   "metadata": {},
   "outputs": [],
   "source": []
  },
  {
   "cell_type": "code",
   "execution_count": null,
   "metadata": {},
   "outputs": [],
   "source": []
  },
  {
   "cell_type": "code",
   "execution_count": null,
   "metadata": {},
   "outputs": [],
   "source": []
  },
  {
   "cell_type": "markdown",
   "metadata": {},
   "source": [
    "### Agrupamiento de booleanos y discretos (Atencion a esto)"
   ]
  },
  {
   "cell_type": "markdown",
   "metadata": {},
   "source": [
    "De paso vemos el WHERE() en un dataFrame"
   ]
  },
  {
   "cell_type": "code",
   "execution_count": null,
   "metadata": {},
   "outputs": [],
   "source": [
    "data = pd.read_excel('excels_csvs/AAPL.xlsx').set_index(\"timestamp\").sort_index()\n",
    "\n",
    "data['intradiario']  = data.close - data.open\n",
    "data['cierre_previo']=data['close'].shift()\n",
    "data['gap_positivo']=data.eval('open>cierre_previo')\n",
    "\n",
    "# Lo defino por default arbitrariamente\n",
    "data['vela_color'] = 'Verde'  \n",
    "\n",
    "# Ahora si pregunto, si se da la condicion dejo el default si no la cambio:\n",
    "data['vela_color']= data.vela_color.where(data.close > data.open,\"Roja\")\n",
    "\n",
    "data"
   ]
  },
  {
   "cell_type": "markdown",
   "metadata": {},
   "source": [
    "#### Agrupando por SIZE o COUNT: Diferencia"
   ]
  },
  {
   "cell_type": "code",
   "execution_count": null,
   "metadata": {},
   "outputs": [],
   "source": [
    "data.groupby('gap_positivo').mean()"
   ]
  },
  {
   "cell_type": "code",
   "execution_count": null,
   "metadata": {},
   "outputs": [],
   "source": [
    "data.groupby('gap_positivo').intradiario.count()"
   ]
  },
  {
   "cell_type": "code",
   "execution_count": null,
   "metadata": {},
   "outputs": [],
   "source": []
  },
  {
   "cell_type": "code",
   "execution_count": null,
   "metadata": {},
   "outputs": [],
   "source": [
    "data.groupby('gap_positivo').size()"
   ]
  },
  {
   "cell_type": "code",
   "execution_count": null,
   "metadata": {},
   "outputs": [],
   "source": [
    "data.groupby('gap_positivo').size().reset_index(name='total')"
   ]
  },
  {
   "cell_type": "code",
   "execution_count": null,
   "metadata": {},
   "outputs": [],
   "source": []
  },
  {
   "cell_type": "code",
   "execution_count": null,
   "metadata": {},
   "outputs": [],
   "source": []
  },
  {
   "cell_type": "code",
   "execution_count": null,
   "metadata": {
    "scrolled": true
   },
   "outputs": [],
   "source": [
    "data.groupby(['gap_positivo','vela_color']).size()"
   ]
  },
  {
   "cell_type": "code",
   "execution_count": null,
   "metadata": {},
   "outputs": [],
   "source": []
  },
  {
   "cell_type": "code",
   "execution_count": null,
   "metadata": {},
   "outputs": [],
   "source": []
  },
  {
   "cell_type": "code",
   "execution_count": null,
   "metadata": {},
   "outputs": [],
   "source": []
  },
  {
   "cell_type": "code",
   "execution_count": null,
   "metadata": {},
   "outputs": [],
   "source": []
  },
  {
   "cell_type": "code",
   "execution_count": null,
   "metadata": {},
   "outputs": [],
   "source": []
  },
  {
   "cell_type": "markdown",
   "metadata": {},
   "source": [
    "# Combinacion de Agrupamiento + Filtros + Ordenamientos"
   ]
  },
  {
   "cell_type": "markdown",
   "metadata": {},
   "source": [
    "## Agrupamiento con filtros"
   ]
  },
  {
   "cell_type": "code",
   "execution_count": null,
   "metadata": {},
   "outputs": [],
   "source": [
    "data = pd.read_excel('excels_csvs/AAPL.xlsx').set_index('timestamp').sort_index()\n",
    "\n",
    "# Calculo las variaciones\n",
    "data['variaciones'] = data['adjusted_close'].pct_change()*100\n",
    "\n",
    "# Filtramos las variaciones > 10%\n",
    "filtro = data.loc[ data['variaciones'] > 10 ]  \n",
    "\n",
    "# Contabilizamos por año ese filtro\n",
    "agrupados = filtro.variaciones.groupby(filtro.index.year).count().to_frame()\n",
    "agrupados.columns = ['Subas +10%']\n",
    "agrupados"
   ]
  },
  {
   "cell_type": "markdown",
   "metadata": {},
   "source": [
    "## ¿Y al reves? primero agrupamiento y luego filtro? ¿cuando usar cada variante?"
   ]
  },
  {
   "cell_type": "markdown",
   "metadata": {},
   "source": [
    "Ejemplo: Ver semanas con rendimiento mayor al 13% (ponele)"
   ]
  },
  {
   "cell_type": "code",
   "execution_count": null,
   "metadata": {},
   "outputs": [],
   "source": [
    "data = pd.read_excel('excels_csvs/AAPL.xlsx').set_index('timestamp').sort_index()\n",
    "data['factor']=data.adjusted_close.pct_change()+1\n",
    "\n",
    "yields = pd.DataFrame()\n",
    "yields['Yield'] = (data.factor.groupby([data.index.year, data.index.week]).prod() -1)*100\n",
    "filtro = yields.loc[yields.Yield >13]\n",
    "filtro"
   ]
  },
  {
   "cell_type": "markdown",
   "metadata": {},
   "source": [
    "## ¿Y Combinar agrupamiento y ordenamiento? ¿para que sirve esta combinación?"
   ]
  },
  {
   "cell_type": "code",
   "execution_count": null,
   "metadata": {},
   "outputs": [],
   "source": [
    "data = pd.read_excel('excels_csvs/AAPL.xlsx').set_index('timestamp').sort_index()\n",
    "data['factor']=data.adjusted_close.pct_change()+1\n",
    "\n",
    "yields = pd.DataFrame()\n",
    "yields['Yield'] = (data.factor.groupby([data.index.year, data.index.month]).prod() -1)*100\n",
    "ordenado = yields.sort_values(\"Yield\", ascending=False)\n",
    "ordenado.index.names = ['Año','Semana']\n",
    "ordenado.head(10)"
   ]
  },
  {
   "cell_type": "markdown",
   "metadata": {},
   "source": [
    "# Resampleo"
   ]
  },
  {
   "cell_type": "markdown",
   "metadata": {},
   "source": [
    "Mediante el metodo resample podemos reagrupar rapidamente en funcion de diferentes timeframes una serie dada\n",
    "<br><b>Es importante aclarar que para que funcione el resampleo el indice de la tabla debe ser el timestamp</b>"
   ]
  },
  {
   "cell_type": "markdown",
   "metadata": {},
   "source": [
    "Las Frecuencias posibles son\n",
    "* B = business day frequency\n",
    "* D = calendar day frequency\n",
    "* W = weekly frequency \n",
    "* M = month end frequency \n",
    "* BM = business month end frequency \n",
    "* MS = month start frequency \n",
    "* BMS = business month start frequency \n",
    "* Q = quarter end frequency \n",
    "* BQ = business quarter endfrequency \n",
    "* QS = quarter start frequency \n",
    "* BQS = business quarter start frequency \n",
    "* A = year end frequency \n",
    "* BA = business year end frequency \n",
    "* AS = year start frequency \n",
    "* BAS = business year start frequency \n",
    "* BH = business hour frequency \n",
    "* H = hourly frequency \n",
    "* T = minutely frequency \n",
    "* S = secondly frequency \n",
    "* L = milliseonds"
   ]
  },
  {
   "cell_type": "markdown",
   "metadata": {},
   "source": [
    "## Jugando con la fecha de resampleo y la de la muestra.. ojo ahi"
   ]
  },
  {
   "cell_type": "code",
   "execution_count": null,
   "metadata": {},
   "outputs": [],
   "source": [
    "data = pd.read_excel('excels_csvs/AAPL.xlsx').set_index('timestamp', drop=False).sort_index()\n",
    "\n",
    "resampleada = data.resample('10T').last()\n",
    "resampleada.dropna()"
   ]
  },
  {
   "cell_type": "markdown",
   "metadata": {},
   "source": [
    "## Cierres al ultimo dia HABIL del mes de cada año"
   ]
  },
  {
   "cell_type": "code",
   "execution_count": null,
   "metadata": {},
   "outputs": [],
   "source": [
    "data = pd.read_excel('excels_csvs/AAPL.xlsx').set_index('timestamp', drop=False).sort_index()\n",
    "\n",
    "resampleada = data.resample('BM').last()\n",
    "resampleada.head(12)"
   ]
  },
  {
   "cell_type": "markdown",
   "metadata": {},
   "source": [
    "## Cierres cada bimestre"
   ]
  },
  {
   "cell_type": "markdown",
   "metadata": {},
   "source": [
    "Ojo acá, si ponemos una cantidad \"X\" antes del tipo de resampleo, me arma la primera muestra y a partir de ella usa esa cantidad"
   ]
  },
  {
   "cell_type": "code",
   "execution_count": null,
   "metadata": {},
   "outputs": [],
   "source": []
  },
  {
   "cell_type": "code",
   "execution_count": null,
   "metadata": {},
   "outputs": [],
   "source": []
  },
  {
   "cell_type": "code",
   "execution_count": null,
   "metadata": {},
   "outputs": [],
   "source": [
    "import pandas as pd"
   ]
  },
  {
   "cell_type": "code",
   "execution_count": null,
   "metadata": {},
   "outputs": [],
   "source": [
    "data = pd.read_excel('excels_csvs/AAPL.xlsx').set_index('timestamp', drop=False).sort_index()\n",
    "\n",
    "cierresBimestrales = data['adjusted_close'].resample('2M').last().to_frame()\n",
    "cierresBimestrales"
   ]
  },
  {
   "cell_type": "markdown",
   "metadata": {},
   "source": [
    "## Trabajando con intervalos de minutos"
   ]
  },
  {
   "cell_type": "markdown",
   "metadata": {},
   "source": [
    "Veamos promero que me levanta del archivo:"
   ]
  },
  {
   "cell_type": "code",
   "execution_count": null,
   "metadata": {},
   "outputs": [],
   "source": [
    "data = pd.read_excel('excels_csvs/AAPL_INTRA.xlsx').set_index('datetime', drop=False).sort_index()\n",
    "data.head(6)"
   ]
  },
  {
   "cell_type": "markdown",
   "metadata": {},
   "source": [
    "Como vemos partimos de una serie cada 2 minutos, vamos a resamplearla cada 10 minutos:"
   ]
  },
  {
   "cell_type": "code",
   "execution_count": null,
   "metadata": {},
   "outputs": [],
   "source": [
    "res1 = data['adjusted_close'].resample('10T').last().to_frame()\n",
    "res1.head()"
   ]
  },
  {
   "cell_type": "markdown",
   "metadata": {},
   "source": [
    "Acá la resampleamos cada 1 día\n",
    "<br>Ojo al poner first() tomamos el primer valor de dia, obviamente si ponemos last() tomariamos el ultimo\n",
    "<br>Del mismo modo si ponemos mean() tomariamos el valor medio"
   ]
  },
  {
   "cell_type": "code",
   "execution_count": null,
   "metadata": {},
   "outputs": [],
   "source": [
    "res2 = data['adjusted_close'].resample('1D').first().to_frame()\n",
    "res2.columns = [\"Apertura\"]\n",
    "res2.head()"
   ]
  },
  {
   "cell_type": "markdown",
   "metadata": {},
   "source": [
    "Como ven aparecen días sin datos, claramente son feriados y/o sábados y domingos, para sacar esos datos, como ya vimos podemos usar la funcion dropna()"
   ]
  },
  {
   "cell_type": "code",
   "execution_count": null,
   "metadata": {},
   "outputs": [],
   "source": [
    "res2 = data['adjusted_close'].resample('1D').last().to_frame().dropna()\n",
    "res2.columns = [\"Cierre\"]\n",
    "res2.head()"
   ]
  },
  {
   "cell_type": "markdown",
   "metadata": {},
   "source": [
    "## Armando una tabla de varias columnas con un resampleo"
   ]
  },
  {
   "cell_type": "code",
   "execution_count": null,
   "metadata": {
    "scrolled": true
   },
   "outputs": [],
   "source": [
    "tabla = data['adjusted_close'].resample('D').mean().to_frame().dropna()\n",
    "tabla['last'] = data['adjusted_close'].resample('D').last().to_frame()\n",
    "tabla['first'] = data['adjusted_close'].resample('D').first().to_frame()\n",
    "\n",
    "tabla.columns = [\"Precio Medio\",\"Precio Cierre\",'Precio Apertura']\n",
    "\n",
    "tabla.round(2).head()"
   ]
  },
  {
   "cell_type": "code",
   "execution_count": null,
   "metadata": {},
   "outputs": [],
   "source": []
  },
  {
   "cell_type": "code",
   "execution_count": null,
   "metadata": {},
   "outputs": [],
   "source": []
  },
  {
   "cell_type": "code",
   "execution_count": null,
   "metadata": {},
   "outputs": [],
   "source": []
  },
  {
   "cell_type": "code",
   "execution_count": null,
   "metadata": {},
   "outputs": [],
   "source": []
  },
  {
   "cell_type": "code",
   "execution_count": null,
   "metadata": {},
   "outputs": [],
   "source": []
  },
  {
   "cell_type": "code",
   "execution_count": null,
   "metadata": {},
   "outputs": [],
   "source": []
  },
  {
   "cell_type": "code",
   "execution_count": null,
   "metadata": {},
   "outputs": [],
   "source": []
  },
  {
   "cell_type": "markdown",
   "metadata": {},
   "source": [
    "# Ajuste de series (ej x gaps)"
   ]
  },
  {
   "cell_type": "code",
   "execution_count": null,
   "metadata": {},
   "outputs": [],
   "source": [
    "import pandas as pd\n",
    "import analisis_tecnico as at"
   ]
  },
  {
   "cell_type": "code",
   "execution_count": null,
   "metadata": {},
   "outputs": [],
   "source": [
    "data = at.getDataExcel('AAPL')\n",
    "\n",
    "# Funcion de ajuste de datos\n",
    "data = at.ajustarOHLC(data)\n",
    "\n",
    "\n",
    "data['pctChange'] = data.AdjClose.pct_change()\n",
    "data['Price'] = data.AdjClose\n",
    "data['Mov']=data.AdjClose.pct_change()*100\n",
    "data['OpenGap']=(data.Open/data.Close.shift(1)-1)*100\n",
    "data['IntraMov']=(data.Close/data.Open-1)*100\n",
    "data.index.name = \"Date\"\n",
    "\n",
    "data.dropna(inplace=True)\n",
    "data"
   ]
  },
  {
   "cell_type": "code",
   "execution_count": null,
   "metadata": {},
   "outputs": [],
   "source": [
    "data.OpenGap.plot()"
   ]
  },
  {
   "cell_type": "code",
   "execution_count": null,
   "metadata": {},
   "outputs": [],
   "source": [
    "data.sort_values('OpenGap').head()"
   ]
  },
  {
   "cell_type": "code",
   "execution_count": null,
   "metadata": {
    "scrolled": false
   },
   "outputs": [],
   "source": [
    "import matplotlib.pyplot as plt\n",
    "\n",
    "series = [data.OpenGap,data.IntraMov]\n",
    "fig, ax = plt.subplots(figsize=(4,6))\n",
    "\n",
    "ax.boxplot(series, showmeans=True)\n",
    "ax.set_ylim([-15,15])\n",
    "\n",
    "plt.xticks([1,2],[\"GAPS\",\"Intra\"])\n",
    "\n",
    "plt.show()"
   ]
  },
  {
   "cell_type": "code",
   "execution_count": null,
   "metadata": {},
   "outputs": [],
   "source": []
  },
  {
   "cell_type": "code",
   "execution_count": null,
   "metadata": {},
   "outputs": [],
   "source": []
  },
  {
   "cell_type": "code",
   "execution_count": null,
   "metadata": {},
   "outputs": [],
   "source": []
  },
  {
   "cell_type": "markdown",
   "metadata": {},
   "source": [
    "# Graficos superpuestos"
   ]
  },
  {
   "cell_type": "markdown",
   "metadata": {},
   "source": [
    "## Ejemplo con pandas directo"
   ]
  },
  {
   "cell_type": "code",
   "execution_count": null,
   "metadata": {},
   "outputs": [],
   "source": [
    "data = at.getDataExcel('AAPL')\n",
    "\n",
    "# Funcion de ajuste de datos\n",
    "data = at.ajustarOHLC(data)\n",
    "\n",
    "data['pctChange'] = data.AdjClose.pct_change()\n",
    "data['Price'] = data.AdjClose\n",
    "data['Mov']=data.AdjClose.pct_change()*100\n",
    "data['OpenGap']=(data.Open/data.Close.shift(1)-1)*100\n",
    "data['IntraMov']=(data.Close/data.Open-1)*100\n",
    "data.index.name = \"Date\"\n",
    "data.dropna(inplace=True)"
   ]
  },
  {
   "cell_type": "code",
   "execution_count": null,
   "metadata": {},
   "outputs": [],
   "source": [
    "test = data.loc[:,['OpenGap','IntraMov']]\n",
    "test = (test/100 +1).dropna()\n",
    "\n",
    "\n",
    "tabla = test.groupby([test.index.year,test.index.month]).prod()-1\n",
    "tabla.rolling(12).mean().plot()\n",
    "\n",
    "plt.plot([0]*len(tabla), 'k--')"
   ]
  },
  {
   "cell_type": "code",
   "execution_count": null,
   "metadata": {},
   "outputs": [],
   "source": [
    "tabla"
   ]
  },
  {
   "cell_type": "code",
   "execution_count": null,
   "metadata": {},
   "outputs": [],
   "source": [
    "tabla.abs().sum()"
   ]
  },
  {
   "cell_type": "code",
   "execution_count": null,
   "metadata": {},
   "outputs": [],
   "source": []
  },
  {
   "cell_type": "markdown",
   "metadata": {},
   "source": [
    "## Ejemplo con matplotlib"
   ]
  },
  {
   "cell_type": "code",
   "execution_count": null,
   "metadata": {},
   "outputs": [],
   "source": [
    "import yfinance as yf\n",
    "df = yf.download('GGAL')\n",
    "df['variacion'] = df['Adj Close'].pct_change()\n",
    "df['volatilidad'] = df['variacion'].rolling(250).std() * 250**0.5\n",
    "df.dropna(inplace=True)\n",
    "df"
   ]
  },
  {
   "cell_type": "markdown",
   "metadata": {},
   "source": [
    "## Escalas diferentes?"
   ]
  },
  {
   "cell_type": "code",
   "execution_count": null,
   "metadata": {},
   "outputs": [],
   "source": [
    "import matplotlib.pyplot as plt\n",
    "\n",
    "fig, ax = plt.subplots(figsize=(10,6))\n",
    "\n",
    "ax.plot(df['Adj Close'], 'r-', label='Precio')\n",
    "ax.plot(df['volatilidad'], 'b--', label='volatilidad')\n",
    "\n",
    "plt.legend()\n",
    "plt.show()"
   ]
  },
  {
   "cell_type": "markdown",
   "metadata": {},
   "source": [
    "## Escalas diferentes"
   ]
  },
  {
   "cell_type": "code",
   "execution_count": null,
   "metadata": {},
   "outputs": [],
   "source": [
    "fig, ax = plt.subplots(figsize=(10,6))\n",
    "\n",
    "ax.plot(df['Adj Close'], 'r-',  label='Precio')\n",
    "ax.legend(loc='upper left')\n",
    "\n",
    "ax2 = ax.twinx()\n",
    "ax2.plot(df['volatilidad'], 'k--',  label='volatilidad')\n",
    "ax2.legend(loc='upper right')\n",
    "\n",
    "ax2.legend()\n",
    "\n",
    "plt.show()\n"
   ]
  },
  {
   "cell_type": "markdown",
   "metadata": {},
   "source": [
    "## Escalas lineales y logaritmicas juntas"
   ]
  },
  {
   "cell_type": "code",
   "execution_count": null,
   "metadata": {},
   "outputs": [],
   "source": [
    "fig, ax = plt.subplots(figsize=(10,6))\n",
    "\n",
    "ax.plot(df['Adj Close'], 'g:',label='Precio Log')\n",
    "ax.set_yscale('log')\n",
    "ax.legend(loc='upper left', fontsize=14)\n",
    "\n",
    "ax2 = ax.twinx()\n",
    "ax2.plot(df['Adj Close'], 'r-',label='Precio Lineal')\n",
    "ax2.legend(loc='upper right', fontsize=14)\n",
    "\n",
    "plt.show()"
   ]
  },
  {
   "cell_type": "code",
   "execution_count": null,
   "metadata": {},
   "outputs": [],
   "source": []
  },
  {
   "cell_type": "code",
   "execution_count": null,
   "metadata": {},
   "outputs": [],
   "source": [
    "fig, ax = plt.subplots(figsize=(10,6))\n",
    "\n",
    "ax.plot(df['Adj Close'], 'g:',label='Precio Log')\n",
    "ax.set_yscale('log')\n",
    "ax.legend(loc='upper left', fontsize=14)\n",
    "\n",
    "ax2 = ax.twinx()\n",
    "ax2.plot(df['Adj Close'], 'r-',label='Precio Lineal')\n",
    "ax2.set_ylim(0,100)\n",
    "ax2.legend(loc='upper right', fontsize=14)\n",
    "\n",
    "plt.show()"
   ]
  },
  {
   "cell_type": "code",
   "execution_count": null,
   "metadata": {},
   "outputs": [],
   "source": []
  },
  {
   "cell_type": "code",
   "execution_count": null,
   "metadata": {},
   "outputs": [],
   "source": []
  },
  {
   "cell_type": "code",
   "execution_count": null,
   "metadata": {},
   "outputs": [],
   "source": []
  },
  {
   "cell_type": "markdown",
   "metadata": {},
   "source": [
    "# Subplots"
   ]
  },
  {
   "cell_type": "markdown",
   "metadata": {},
   "source": [
    "## Forma antigua"
   ]
  },
  {
   "cell_type": "code",
   "execution_count": null,
   "metadata": {},
   "outputs": [],
   "source": [
    "import analisis_tecnico as at\n",
    "\n",
    "data = at.getDataExcel('AAPL')\n",
    "\n",
    "# Funcion de ajuste de datos\n",
    "data = at.ajustarOHLC(data)\n",
    "\n",
    "data['pctChange'] = data.AdjClose.pct_change()\n",
    "data['Price'] = data.AdjClose\n",
    "data['Mov']=data.AdjClose.pct_change()*100\n",
    "data['OpenGap']=(data.Open/data.Close.shift(1)-1)*100\n",
    "data['IntraMov']=(data.Close/data.Open-1)*100\n",
    "data.index.name = \"Date\"\n",
    "data.dropna(inplace=True)"
   ]
  },
  {
   "cell_type": "code",
   "execution_count": null,
   "metadata": {},
   "outputs": [],
   "source": [
    "plt.figure(figsize=(10,7))\n",
    "\n",
    "# asigno a la variable ax1 un subplot\n",
    "# el 211 significa 2 filas, 1 columa, ocupar el 1° lugar\n",
    "ax1 = plt.subplot(221)\n",
    "ax1.plot(data.Price)\n",
    "ax1.set_yscale('log')\n",
    "\n",
    "# asigno a la variable ax2 otro subplot\n",
    "# el 212 significa 2 filas, 1 columa, ocupar el 2° lugar\n",
    "ax2 = plt.subplot(222)\n",
    "ax2.plot(data.Price)\n",
    "ax2.set_yscale('linear')"
   ]
  },
  {
   "cell_type": "code",
   "execution_count": null,
   "metadata": {},
   "outputs": [],
   "source": []
  },
  {
   "cell_type": "code",
   "execution_count": null,
   "metadata": {},
   "outputs": [],
   "source": []
  },
  {
   "cell_type": "markdown",
   "metadata": {},
   "source": [
    "## Forma nueva"
   ]
  },
  {
   "cell_type": "code",
   "execution_count": null,
   "metadata": {},
   "outputs": [],
   "source": [
    "fig, axs = plt.subplots(2, figsize=(10,7))\n",
    "axs[0].plot(data.Price)\n",
    "axs[0].set_yscale('log')\n",
    "axs[0].title.set_text('Escala Logaritmica')\n",
    "axs[1].plot(data.Price)\n",
    "axs[1].set_yscale('linear')\n",
    "axs[1].title.set_text('Escala Lineal')\n",
    "fig.subplots_adjust(hspace=0.3)"
   ]
  },
  {
   "cell_type": "code",
   "execution_count": null,
   "metadata": {},
   "outputs": [],
   "source": []
  },
  {
   "cell_type": "code",
   "execution_count": null,
   "metadata": {},
   "outputs": [],
   "source": []
  },
  {
   "cell_type": "code",
   "execution_count": null,
   "metadata": {},
   "outputs": [],
   "source": []
  },
  {
   "cell_type": "markdown",
   "metadata": {},
   "source": [
    "Les dejo exactamente lo mismo pero apilados horizontalmente, solo cambia la línea que define los subplots(filas, columnas) que en lugar de poner subplots(2) (que indica 2 filas) ponemos subplot(1,2) que indica una fila 2 columnas"
   ]
  },
  {
   "cell_type": "code",
   "execution_count": null,
   "metadata": {},
   "outputs": [],
   "source": [
    "fig, axs = plt.subplots(nrows=1, ncols=2, figsize=(10,3))\n",
    "axs[0].plot(data.Price)\n",
    "axs[0].set_yscale('log')\n",
    "axs[0].title.set_text('Escala Logaritmica')\n",
    "axs[1].plot(data.Price)\n",
    "axs[1].set_yscale('linear')\n",
    "axs[1].title.set_text('Escala Lineal')\n",
    "fig.subplots_adjust(hspace=0.4)"
   ]
  },
  {
   "cell_type": "code",
   "execution_count": null,
   "metadata": {},
   "outputs": [],
   "source": []
  },
  {
   "cell_type": "code",
   "execution_count": null,
   "metadata": {},
   "outputs": [],
   "source": []
  },
  {
   "cell_type": "code",
   "execution_count": null,
   "metadata": {},
   "outputs": [],
   "source": []
  },
  {
   "cell_type": "markdown",
   "metadata": {},
   "source": [
    "Les dejo como ejemplo un básico de precio y volumen"
   ]
  },
  {
   "cell_type": "code",
   "execution_count": null,
   "metadata": {},
   "outputs": [],
   "source": [
    "data = at.getDataExcel('AAPL')\n",
    "precios2020 = data.loc[(data.index>='2019')]\n",
    "\n",
    "fig, axs = plt.subplots(2, figsize=(10,5), gridspec_kw={'height_ratios':[2, 1]})\n",
    "fig.suptitle('Serie AAPL con Volumen', y= 0.94, color='black')\n",
    "\n",
    "axs[0].plot(precios2020.index, precios2020.AdjClose)\n",
    "axs[1].bar(precios2020.index, precios2020.Volume)\n",
    "fig.subplots_adjust(hspace=0)"
   ]
  },
  {
   "cell_type": "markdown",
   "metadata": {},
   "source": [
    "# Estilos predeterminados"
   ]
  },
  {
   "cell_type": "markdown",
   "metadata": {},
   "source": [
    "Hay varios estilos predeterminados de colores y tamaños, les dejo el comando para listarlos a todos, después vayan ustedes probando cual les gusta mas, el paquete de estilos se llama con es plt.style y pueden listarlos con plt.style.available o bien pueden seleccionar uno con plt.style.use(\"nombre_del_estilo_elegido\")"
   ]
  },
  {
   "cell_type": "code",
   "execution_count": null,
   "metadata": {},
   "outputs": [],
   "source": [
    "print(plt.style.available)"
   ]
  },
  {
   "cell_type": "markdown",
   "metadata": {},
   "source": [
    "A continuación dejo algunos ejemplos solo para mostrar que solo cambiando esa línea ya se puede elegir una variedad de estilos bastante diferenciados"
   ]
  },
  {
   "cell_type": "code",
   "execution_count": null,
   "metadata": {
    "scrolled": true
   },
   "outputs": [],
   "source": [
    "import pandas as pd\n",
    "import analisis_tecnico as at\n",
    "import matplotlib.pyplot as plt\n",
    "\n",
    "\n",
    "data = at.getDataExcel('AAPL')\n",
    "data = at.ajustarOHLC(data)\n",
    "data = at.addGap(data)\n",
    "\n",
    "\n",
    "plt.style.use('seaborn-whitegrid')\n",
    "plt.figure(figsize=(7,3))\n",
    "plt.gca().set_yscale('log')\n",
    "plt.plot(data.Price)"
   ]
  },
  {
   "cell_type": "code",
   "execution_count": null,
   "metadata": {
    "scrolled": true
   },
   "outputs": [],
   "source": [
    "plt.style.use('fivethirtyeight')\n",
    "\n",
    "plt.figure(figsize=(7,3)).suptitle('fivethirtyeight')\n",
    "plt.gca().set_yscale('log')\n",
    "plt.plot(data.Price)"
   ]
  },
  {
   "cell_type": "markdown",
   "metadata": {},
   "source": [
    "Supongamos que me encantó ese diseño pero no quiero que dibuje las grillas\n",
    "<br>En ese caso hago la captura del objeto ejes y le aplico el método grid() y lo configuro como False"
   ]
  },
  {
   "cell_type": "code",
   "execution_count": null,
   "metadata": {},
   "outputs": [],
   "source": [
    "\n",
    "plt.style.use('fivethirtyeight')\n",
    "plt.figure(figsize=(7,3)).suptitle('fivethirtyeight')\n",
    "\n",
    "plt.gca().set_yscale('log')\n",
    "plt.gca().grid(False)\n",
    "\n",
    "plt.plot(data.Price)"
   ]
  },
  {
   "cell_type": "markdown",
   "metadata": {},
   "source": [
    "Aplicamoos otro estilo, usemos el seaborn"
   ]
  },
  {
   "cell_type": "code",
   "execution_count": null,
   "metadata": {
    "scrolled": true
   },
   "outputs": [],
   "source": [
    "plt.style.use('seaborn')\n",
    "plt.figure(figsize=(7,3)).suptitle('seaborn')\n",
    "plt.gca().set_yscale('log')\n",
    "plt.plot(data.Price)"
   ]
  },
  {
   "cell_type": "markdown",
   "metadata": {},
   "source": [
    "Pero supongamos que me encantó ese estilo y no me gusto ese color de fondo de los ejes\n",
    "<br>Entonces podemos aplicar el método set_facecolor(\"color\") a los ejes que debemos capturar"
   ]
  },
  {
   "cell_type": "code",
   "execution_count": null,
   "metadata": {},
   "outputs": [],
   "source": [
    "plt.style.use('seaborn')\n",
    "\n",
    "plt.figure(figsize=(7,3)).suptitle('seaborn')\n",
    "plt.gca().set_yscale('log')\n",
    "plt.gca().set_facecolor(\"white\")\n",
    "plt.plot(data.Price)"
   ]
  },
  {
   "cell_type": "code",
   "execution_count": null,
   "metadata": {},
   "outputs": [],
   "source": []
  },
  {
   "cell_type": "code",
   "execution_count": null,
   "metadata": {},
   "outputs": [],
   "source": []
  },
  {
   "cell_type": "code",
   "execution_count": null,
   "metadata": {},
   "outputs": [],
   "source": []
  },
  {
   "cell_type": "markdown",
   "metadata": {},
   "source": [
    "### Gráficos con dos Ejes Y diferentes y el mismo eje X"
   ]
  },
  {
   "cell_type": "code",
   "execution_count": null,
   "metadata": {},
   "outputs": [],
   "source": [
    "import pandas as pd\n",
    "import analisis_tecnico as at\n",
    "import matplotlib.pyplot as plt\n",
    "\n",
    "\n",
    "data = at.getDataExcel('AAPL')\n",
    "data = at.ajustarOHLC(data)\n",
    "data = at.addGap(data)\n",
    "data['STD'] = data.pctChange.rolling(50).std()\n",
    "\n",
    "fig, ax1 = plt.subplots(figsize=(10,4))\n",
    "plt.style.use('fivethirtyeight')\n",
    "\n",
    "fig.suptitle('Precios y Volatilidad SPY')\n",
    "\n",
    "ax1.set_ylabel('Precios', color=\"k\")\n",
    "ax1.set_yscale('log')\n",
    "ax1.plot(data.Price, lw=1, color=\"k\")\n",
    "\n",
    "ax2 = ax1.twinx()  \n",
    "ax2.set_ylabel('Volatilidad', color=\"gray\")  \n",
    "ax2.plot(data.STD, lw=1.5, linestyle=\"--\", color=\"gray\")"
   ]
  },
  {
   "cell_type": "code",
   "execution_count": null,
   "metadata": {},
   "outputs": [],
   "source": []
  },
  {
   "cell_type": "code",
   "execution_count": null,
   "metadata": {},
   "outputs": [],
   "source": []
  }
 ],
 "metadata": {
  "kernelspec": {
   "display_name": "Python 3",
   "language": "python",
   "name": "python3"
  },
  "language_info": {
   "codemirror_mode": {
    "name": "ipython",
    "version": 3
   },
   "file_extension": ".py",
   "mimetype": "text/x-python",
   "name": "python",
   "nbconvert_exporter": "python",
   "pygments_lexer": "ipython3",
   "version": "3.7.7"
  },
  "toc": {
   "base_numbering": 1,
   "nav_menu": {},
   "number_sections": true,
   "sideBar": true,
   "skip_h1_title": false,
   "title_cell": "Table of Contents",
   "title_sidebar": "Contents",
   "toc_cell": false,
   "toc_position": {},
   "toc_section_display": true,
   "toc_window_display": true
  },
  "varInspector": {
   "cols": {
    "lenName": 16,
    "lenType": 16,
    "lenVar": 40
   },
   "kernels_config": {
    "python": {
     "delete_cmd_postfix": "",
     "delete_cmd_prefix": "del ",
     "library": "var_list.py",
     "varRefreshCmd": "print(var_dic_list())"
    },
    "r": {
     "delete_cmd_postfix": ") ",
     "delete_cmd_prefix": "rm(",
     "library": "var_list.r",
     "varRefreshCmd": "cat(var_dic_list()) "
    }
   },
   "types_to_exclude": [
    "module",
    "function",
    "builtin_function_or_method",
    "instance",
    "_Feature"
   ],
   "window_display": false
  }
 },
 "nbformat": 4,
 "nbformat_minor": 4
}
