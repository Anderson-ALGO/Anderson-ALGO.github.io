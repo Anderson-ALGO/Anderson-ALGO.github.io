{
 "cells": [
  {
   "cell_type": "markdown",
   "metadata": {},
   "source": [
    "# Pre BackTest repaso curso introductorio"
   ]
  },
  {
   "cell_type": "markdown",
   "metadata": {},
   "source": [
    "## Función para traer datos"
   ]
  },
  {
   "cell_type": "markdown",
   "metadata": {},
   "source": [
    "### Para traer un solo ticker por vez"
   ]
  },
  {
   "cell_type": "code",
   "execution_count": 1,
   "metadata": {},
   "outputs": [],
   "source": [
    "import yfinance as yf\n",
    "import pandas as pd"
   ]
  },
  {
   "cell_type": "code",
   "execution_count": 2,
   "metadata": {},
   "outputs": [],
   "source": [
    "def getData(symbol, start='2000-01-01', interval='1d', end=None):\n",
    "    data = yf.download(symbol, start=start, end=end, interval=interval, auto_adjust=True)\n",
    "    return data"
   ]
  },
  {
   "cell_type": "markdown",
   "metadata": {},
   "source": [
    "### Para traer multiples tickers, batch requests etc"
   ]
  },
  {
   "cell_type": "code",
   "execution_count": 3,
   "metadata": {
    "scrolled": false
   },
   "outputs": [
    {
     "data": {
      "text/html": [
       "<div>\n",
       "<style scoped>\n",
       "    .dataframe tbody tr th:only-of-type {\n",
       "        vertical-align: middle;\n",
       "    }\n",
       "\n",
       "    .dataframe tbody tr th {\n",
       "        vertical-align: top;\n",
       "    }\n",
       "\n",
       "    .dataframe thead th {\n",
       "        text-align: right;\n",
       "    }\n",
       "</style>\n",
       "<table border=\"1\" class=\"dataframe\">\n",
       "  <thead>\n",
       "    <tr style=\"text-align: right;\">\n",
       "      <th></th>\n",
       "      <th>Symbol</th>\n",
       "      <th>Security</th>\n",
       "      <th>SEC filings</th>\n",
       "      <th>GICS Sector</th>\n",
       "      <th>GICS Sub Industry</th>\n",
       "      <th>Headquarters Location</th>\n",
       "      <th>Date first added</th>\n",
       "      <th>CIK</th>\n",
       "      <th>Founded</th>\n",
       "    </tr>\n",
       "  </thead>\n",
       "  <tbody>\n",
       "    <tr>\n",
       "      <th>0</th>\n",
       "      <td>MMM</td>\n",
       "      <td>3M Company</td>\n",
       "      <td>reports</td>\n",
       "      <td>Industrials</td>\n",
       "      <td>Industrial Conglomerates</td>\n",
       "      <td>St. Paul, Minnesota</td>\n",
       "      <td>1976-08-09</td>\n",
       "      <td>66740</td>\n",
       "      <td>1902</td>\n",
       "    </tr>\n",
       "    <tr>\n",
       "      <th>1</th>\n",
       "      <td>ABT</td>\n",
       "      <td>Abbott Laboratories</td>\n",
       "      <td>reports</td>\n",
       "      <td>Health Care</td>\n",
       "      <td>Health Care Equipment</td>\n",
       "      <td>North Chicago, Illinois</td>\n",
       "      <td>1964-03-31</td>\n",
       "      <td>1800</td>\n",
       "      <td>1888</td>\n",
       "    </tr>\n",
       "    <tr>\n",
       "      <th>2</th>\n",
       "      <td>ABBV</td>\n",
       "      <td>AbbVie Inc.</td>\n",
       "      <td>reports</td>\n",
       "      <td>Health Care</td>\n",
       "      <td>Pharmaceuticals</td>\n",
       "      <td>North Chicago, Illinois</td>\n",
       "      <td>2012-12-31</td>\n",
       "      <td>1551152</td>\n",
       "      <td>2013 (1888)</td>\n",
       "    </tr>\n",
       "    <tr>\n",
       "      <th>3</th>\n",
       "      <td>ABMD</td>\n",
       "      <td>ABIOMED Inc</td>\n",
       "      <td>reports</td>\n",
       "      <td>Health Care</td>\n",
       "      <td>Health Care Equipment</td>\n",
       "      <td>Danvers, Massachusetts</td>\n",
       "      <td>2018-05-31</td>\n",
       "      <td>815094</td>\n",
       "      <td>1981</td>\n",
       "    </tr>\n",
       "    <tr>\n",
       "      <th>4</th>\n",
       "      <td>ACN</td>\n",
       "      <td>Accenture plc</td>\n",
       "      <td>reports</td>\n",
       "      <td>Information Technology</td>\n",
       "      <td>IT Consulting &amp; Other Services</td>\n",
       "      <td>Dublin, Ireland</td>\n",
       "      <td>2011-07-06</td>\n",
       "      <td>1467373</td>\n",
       "      <td>1989</td>\n",
       "    </tr>\n",
       "    <tr>\n",
       "      <th>...</th>\n",
       "      <td>...</td>\n",
       "      <td>...</td>\n",
       "      <td>...</td>\n",
       "      <td>...</td>\n",
       "      <td>...</td>\n",
       "      <td>...</td>\n",
       "      <td>...</td>\n",
       "      <td>...</td>\n",
       "      <td>...</td>\n",
       "    </tr>\n",
       "    <tr>\n",
       "      <th>500</th>\n",
       "      <td>YUM</td>\n",
       "      <td>Yum! Brands Inc</td>\n",
       "      <td>reports</td>\n",
       "      <td>Consumer Discretionary</td>\n",
       "      <td>Restaurants</td>\n",
       "      <td>Louisville, Kentucky</td>\n",
       "      <td>1997-10-06</td>\n",
       "      <td>1041061</td>\n",
       "      <td>1997</td>\n",
       "    </tr>\n",
       "    <tr>\n",
       "      <th>501</th>\n",
       "      <td>ZBRA</td>\n",
       "      <td>Zebra Technologies</td>\n",
       "      <td>reports</td>\n",
       "      <td>Information Technology</td>\n",
       "      <td>Electronic Equipment &amp; Instruments</td>\n",
       "      <td>Lincolnshire, Illinois</td>\n",
       "      <td>2019-12-23</td>\n",
       "      <td>877212</td>\n",
       "      <td>1969</td>\n",
       "    </tr>\n",
       "    <tr>\n",
       "      <th>502</th>\n",
       "      <td>ZBH</td>\n",
       "      <td>Zimmer Biomet Holdings</td>\n",
       "      <td>reports</td>\n",
       "      <td>Health Care</td>\n",
       "      <td>Health Care Equipment</td>\n",
       "      <td>Warsaw, Indiana</td>\n",
       "      <td>2001-08-07</td>\n",
       "      <td>1136869</td>\n",
       "      <td>1927</td>\n",
       "    </tr>\n",
       "    <tr>\n",
       "      <th>503</th>\n",
       "      <td>ZION</td>\n",
       "      <td>Zions Bancorp</td>\n",
       "      <td>reports</td>\n",
       "      <td>Financials</td>\n",
       "      <td>Regional Banks</td>\n",
       "      <td>Salt Lake City, Utah</td>\n",
       "      <td>2001-06-22</td>\n",
       "      <td>109380</td>\n",
       "      <td>1873</td>\n",
       "    </tr>\n",
       "    <tr>\n",
       "      <th>504</th>\n",
       "      <td>ZTS</td>\n",
       "      <td>Zoetis</td>\n",
       "      <td>reports</td>\n",
       "      <td>Health Care</td>\n",
       "      <td>Pharmaceuticals</td>\n",
       "      <td>Florham Park, New Jersey</td>\n",
       "      <td>2013-06-21</td>\n",
       "      <td>1555280</td>\n",
       "      <td>1952</td>\n",
       "    </tr>\n",
       "  </tbody>\n",
       "</table>\n",
       "<p>505 rows × 9 columns</p>\n",
       "</div>"
      ],
      "text/plain": [
       "    Symbol                Security SEC filings             GICS Sector  \\\n",
       "0      MMM              3M Company     reports             Industrials   \n",
       "1      ABT     Abbott Laboratories     reports             Health Care   \n",
       "2     ABBV             AbbVie Inc.     reports             Health Care   \n",
       "3     ABMD             ABIOMED Inc     reports             Health Care   \n",
       "4      ACN           Accenture plc     reports  Information Technology   \n",
       "..     ...                     ...         ...                     ...   \n",
       "500    YUM         Yum! Brands Inc     reports  Consumer Discretionary   \n",
       "501   ZBRA      Zebra Technologies     reports  Information Technology   \n",
       "502    ZBH  Zimmer Biomet Holdings     reports             Health Care   \n",
       "503   ZION           Zions Bancorp     reports              Financials   \n",
       "504    ZTS                  Zoetis     reports             Health Care   \n",
       "\n",
       "                      GICS Sub Industry     Headquarters Location  \\\n",
       "0              Industrial Conglomerates       St. Paul, Minnesota   \n",
       "1                 Health Care Equipment   North Chicago, Illinois   \n",
       "2                       Pharmaceuticals   North Chicago, Illinois   \n",
       "3                 Health Care Equipment    Danvers, Massachusetts   \n",
       "4        IT Consulting & Other Services           Dublin, Ireland   \n",
       "..                                  ...                       ...   \n",
       "500                         Restaurants      Louisville, Kentucky   \n",
       "501  Electronic Equipment & Instruments    Lincolnshire, Illinois   \n",
       "502               Health Care Equipment           Warsaw, Indiana   \n",
       "503                      Regional Banks      Salt Lake City, Utah   \n",
       "504                     Pharmaceuticals  Florham Park, New Jersey   \n",
       "\n",
       "    Date first added      CIK      Founded  \n",
       "0         1976-08-09    66740         1902  \n",
       "1         1964-03-31     1800         1888  \n",
       "2         2012-12-31  1551152  2013 (1888)  \n",
       "3         2018-05-31   815094         1981  \n",
       "4         2011-07-06  1467373         1989  \n",
       "..               ...      ...          ...  \n",
       "500       1997-10-06  1041061         1997  \n",
       "501       2019-12-23   877212         1969  \n",
       "502       2001-08-07  1136869         1927  \n",
       "503       2001-06-22   109380         1873  \n",
       "504       2013-06-21  1555280         1952  \n",
       "\n",
       "[505 rows x 9 columns]"
      ]
     },
     "execution_count": 3,
     "metadata": {},
     "output_type": "execute_result"
    }
   ],
   "source": [
    "sp500 = pd.read_html('https://en.wikipedia.org/wiki/List_of_S%26P_500_companies')[0]\n",
    "sp500"
   ]
  },
  {
   "cell_type": "code",
   "execution_count": 4,
   "metadata": {},
   "outputs": [],
   "source": [
    "sp500 = pd.read_html('https://en.wikipedia.org/wiki/List_of_S%26P_500_companies')[0]\n",
    "sp500_tickers = list(sp500.Symbol)\n",
    "sp500_tickers = [t for t in sp500_tickers if t not in ['BRK.B' ,'BF.B']]"
   ]
  },
  {
   "cell_type": "code",
   "execution_count": 5,
   "metadata": {},
   "outputs": [],
   "source": [
    "def getDataM(listado, start='2000-01-01', interval='1d', end=None):\n",
    "    data = yf.download(listado, start=start, end=end, interval=interval, auto_adjust=True)\n",
    "    return data.swaplevel(i=1, j=0, axis=1)"
   ]
  },
  {
   "cell_type": "code",
   "execution_count": 6,
   "metadata": {},
   "outputs": [
    {
     "name": "stdout",
     "output_type": "stream",
     "text": [
      "[*********************100%***********************]  503 of 503 downloaded\n"
     ]
    }
   ],
   "source": [
    "df_sp500 = getDataM(sp500_tickers)"
   ]
  },
  {
   "cell_type": "code",
   "execution_count": 7,
   "metadata": {},
   "outputs": [
    {
     "data": {
      "text/html": [
       "<div>\n",
       "<style scoped>\n",
       "    .dataframe tbody tr th:only-of-type {\n",
       "        vertical-align: middle;\n",
       "    }\n",
       "\n",
       "    .dataframe tbody tr th {\n",
       "        vertical-align: top;\n",
       "    }\n",
       "\n",
       "    .dataframe thead th {\n",
       "        text-align: right;\n",
       "    }\n",
       "</style>\n",
       "<table border=\"1\" class=\"dataframe\">\n",
       "  <thead>\n",
       "    <tr style=\"text-align: right;\">\n",
       "      <th></th>\n",
       "      <th>Close</th>\n",
       "      <th>High</th>\n",
       "      <th>Low</th>\n",
       "      <th>Open</th>\n",
       "      <th>Volume</th>\n",
       "    </tr>\n",
       "    <tr>\n",
       "      <th>Date</th>\n",
       "      <th></th>\n",
       "      <th></th>\n",
       "      <th></th>\n",
       "      <th></th>\n",
       "      <th></th>\n",
       "    </tr>\n",
       "  </thead>\n",
       "  <tbody>\n",
       "    <tr>\n",
       "      <th>1999-12-31</th>\n",
       "      <td>NaN</td>\n",
       "      <td>NaN</td>\n",
       "      <td>NaN</td>\n",
       "      <td>NaN</td>\n",
       "      <td>NaN</td>\n",
       "    </tr>\n",
       "    <tr>\n",
       "      <th>2000-01-03</th>\n",
       "      <td>3.45</td>\n",
       "      <td>3.47</td>\n",
       "      <td>3.14</td>\n",
       "      <td>3.24</td>\n",
       "      <td>133949200.0</td>\n",
       "    </tr>\n",
       "    <tr>\n",
       "      <th>2000-01-04</th>\n",
       "      <td>3.16</td>\n",
       "      <td>3.41</td>\n",
       "      <td>3.12</td>\n",
       "      <td>3.34</td>\n",
       "      <td>128094400.0</td>\n",
       "    </tr>\n",
       "    <tr>\n",
       "      <th>2000-01-05</th>\n",
       "      <td>3.21</td>\n",
       "      <td>3.41</td>\n",
       "      <td>3.18</td>\n",
       "      <td>3.20</td>\n",
       "      <td>194580400.0</td>\n",
       "    </tr>\n",
       "    <tr>\n",
       "      <th>2000-01-06</th>\n",
       "      <td>2.93</td>\n",
       "      <td>3.30</td>\n",
       "      <td>2.93</td>\n",
       "      <td>3.28</td>\n",
       "      <td>191993200.0</td>\n",
       "    </tr>\n",
       "    <tr>\n",
       "      <th>...</th>\n",
       "      <td>...</td>\n",
       "      <td>...</td>\n",
       "      <td>...</td>\n",
       "      <td>...</td>\n",
       "      <td>...</td>\n",
       "    </tr>\n",
       "    <tr>\n",
       "      <th>2020-08-13</th>\n",
       "      <td>460.04</td>\n",
       "      <td>464.17</td>\n",
       "      <td>455.71</td>\n",
       "      <td>457.72</td>\n",
       "      <td>52520500.0</td>\n",
       "    </tr>\n",
       "    <tr>\n",
       "      <th>2020-08-14</th>\n",
       "      <td>459.63</td>\n",
       "      <td>460.00</td>\n",
       "      <td>452.18</td>\n",
       "      <td>459.32</td>\n",
       "      <td>41391300.0</td>\n",
       "    </tr>\n",
       "    <tr>\n",
       "      <th>2020-08-17</th>\n",
       "      <td>458.43</td>\n",
       "      <td>464.35</td>\n",
       "      <td>455.85</td>\n",
       "      <td>464.25</td>\n",
       "      <td>29890400.0</td>\n",
       "    </tr>\n",
       "    <tr>\n",
       "      <th>2020-08-18</th>\n",
       "      <td>462.25</td>\n",
       "      <td>464.00</td>\n",
       "      <td>456.03</td>\n",
       "      <td>457.41</td>\n",
       "      <td>26021000.0</td>\n",
       "    </tr>\n",
       "    <tr>\n",
       "      <th>2020-08-19</th>\n",
       "      <td>462.83</td>\n",
       "      <td>468.65</td>\n",
       "      <td>462.45</td>\n",
       "      <td>463.93</td>\n",
       "      <td>35551336.0</td>\n",
       "    </tr>\n",
       "  </tbody>\n",
       "</table>\n",
       "<p>5192 rows × 5 columns</p>\n",
       "</div>"
      ],
      "text/plain": [
       "             Close    High     Low    Open       Volume\n",
       "Date                                                   \n",
       "1999-12-31     NaN     NaN     NaN     NaN          NaN\n",
       "2000-01-03    3.45    3.47    3.14    3.24  133949200.0\n",
       "2000-01-04    3.16    3.41    3.12    3.34  128094400.0\n",
       "2000-01-05    3.21    3.41    3.18    3.20  194580400.0\n",
       "2000-01-06    2.93    3.30    2.93    3.28  191993200.0\n",
       "...            ...     ...     ...     ...          ...\n",
       "2020-08-13  460.04  464.17  455.71  457.72   52520500.0\n",
       "2020-08-14  459.63  460.00  452.18  459.32   41391300.0\n",
       "2020-08-17  458.43  464.35  455.85  464.25   29890400.0\n",
       "2020-08-18  462.25  464.00  456.03  457.41   26021000.0\n",
       "2020-08-19  462.83  468.65  462.45  463.93   35551336.0\n",
       "\n",
       "[5192 rows x 5 columns]"
      ]
     },
     "execution_count": 7,
     "metadata": {},
     "output_type": "execute_result"
    }
   ],
   "source": [
    "df_sp500['AAPL']"
   ]
  },
  {
   "cell_type": "markdown",
   "metadata": {},
   "source": [
    "## Función para crear señales"
   ]
  },
  {
   "cell_type": "code",
   "execution_count": 8,
   "metadata": {},
   "outputs": [],
   "source": [
    "def addSignal(data, fast=5, slow=20, rsi_q=14, buy_cr=1, buy_rsi=60, sell_cr=0.98, sell_rsi=35):\n",
    "    \n",
    "    data['Cruce'] = (data.Close.rolling(fast).mean() / data.Close.rolling(slow).mean() -1)*100\n",
    "    \n",
    "    dif = data['Close'].diff()\n",
    "    win =  pd.DataFrame(np.where(dif > 0, dif, 0))\n",
    "    loss = pd.DataFrame(np.where(dif < 0, abs(dif), 0))\n",
    "    ema_win = win.ewm(alpha=1/rsi_q).mean()\n",
    "    ema_loss = loss.ewm(alpha=1/rsi_q).mean()\n",
    "    rs = ema_win / ema_loss\n",
    "    rsi = 100 - (100 / (1+rs))\n",
    "    rsi.index = data.index\n",
    "    data['rsi'] = rsi\n",
    "\n",
    "    data['Señal'] = 'Sin Señal'\n",
    "    comprar = (data.Cruce > buy_cr) & (data.rsi > buy_rsi)\n",
    "    data.loc[comprar, 'Señal'] = 'Compra'\n",
    "\n",
    "    vender = (data.Cruce < sell_cr) & (data.rsi < sell_rsi)\n",
    "    data.loc[vender, 'Señal'] = 'Venta'\n",
    "    \n",
    "    return data"
   ]
  },
  {
   "cell_type": "markdown",
   "metadata": {},
   "source": [
    "## Función para armar tabla de Trades"
   ]
  },
  {
   "cell_type": "code",
   "execution_count": 9,
   "metadata": {},
   "outputs": [],
   "source": [
    "def getTrades(data):\n",
    "    \n",
    "    # Una sola entrada y salida por vez\n",
    "    trades = data.loc[data.Señal != 'Sin Señal'].copy()\n",
    "    trades['Señal'] = np.where(trades.Señal != trades.Señal.shift(), trades.Señal,'Sin Señal')\n",
    "    trades = trades.loc[trades.Señal != 'Sin Señal'].copy()\n",
    "\n",
    "    try:\n",
    "        # Supuesto estrategia long, debe empezar con compra y terminar con venta\n",
    "        if trades.iloc[0,7]=='Venta':\n",
    "            trades = trades.iloc[1:]\n",
    "\n",
    "        if trades.iloc[-1,7]=='Compra':\n",
    "            trades = trades.iloc[:-1]\n",
    "    except:\n",
    "        pass\n",
    "    \n",
    "    return(trades)"
   ]
  },
  {
   "cell_type": "markdown",
   "metadata": {},
   "source": [
    "## Funciones de reporting"
   ]
  },
  {
   "cell_type": "code",
   "execution_count": 10,
   "metadata": {},
   "outputs": [],
   "source": [
    "def getYields(trades):\n",
    "    precios_compra = trades.iloc[::2].reset_index().Close\n",
    "    precios_venta = trades.iloc[1::2].reset_index().Close\n",
    "\n",
    "    fechas_compra = trades.iloc[::2].index\n",
    "    fechas_venta = trades.iloc[1::2].index\n",
    "    \n",
    "    yields = (precios_venta/precios_compra-1).to_frame()\n",
    "    yields.columns = ['yield']\n",
    "    yields['days'] = (fechas_venta - fechas_compra).days\n",
    "    yields['ok'] = np.where(yields['yield'] > 0,True,False)\n",
    "    yields['yield_cum'] = (yields['yield']+1).cumprod()\n",
    "    \n",
    "    return yields"
   ]
  },
  {
   "cell_type": "markdown",
   "metadata": {},
   "source": [
    "## Uso de todo esto"
   ]
  },
  {
   "cell_type": "code",
   "execution_count": 11,
   "metadata": {},
   "outputs": [
    {
     "name": "stdout",
     "output_type": "stream",
     "text": [
      "[*********************100%***********************]  1 of 1 downloaded\n"
     ]
    }
   ],
   "source": [
    "data = getData('AAPL')\n",
    "df = addSignal(data,fast=5, slow=20, rsi_q=14, buy_cr=1, buy_rsi=70, sell_cr=0.98, sell_rsi=35)\n",
    "trades = getTrades(df)\n",
    "yields = getYields(trades)\n",
    "resultado = float((yields.iloc[-1:].yield_cum-1)*100)"
   ]
  },
  {
   "cell_type": "code",
   "execution_count": 12,
   "metadata": {},
   "outputs": [
    {
     "data": {
      "text/html": [
       "<div>\n",
       "<style scoped>\n",
       "    .dataframe tbody tr th:only-of-type {\n",
       "        vertical-align: middle;\n",
       "    }\n",
       "\n",
       "    .dataframe tbody tr th {\n",
       "        vertical-align: top;\n",
       "    }\n",
       "\n",
       "    .dataframe thead th {\n",
       "        text-align: right;\n",
       "    }\n",
       "</style>\n",
       "<table border=\"1\" class=\"dataframe\">\n",
       "  <thead>\n",
       "    <tr style=\"text-align: right;\">\n",
       "      <th></th>\n",
       "      <th>Open</th>\n",
       "      <th>High</th>\n",
       "      <th>Low</th>\n",
       "      <th>Close</th>\n",
       "      <th>Volume</th>\n",
       "      <th>Cruce</th>\n",
       "      <th>rsi</th>\n",
       "      <th>Señal</th>\n",
       "    </tr>\n",
       "    <tr>\n",
       "      <th>Date</th>\n",
       "      <th></th>\n",
       "      <th></th>\n",
       "      <th></th>\n",
       "      <th></th>\n",
       "      <th></th>\n",
       "      <th></th>\n",
       "      <th></th>\n",
       "      <th></th>\n",
       "    </tr>\n",
       "  </thead>\n",
       "  <tbody>\n",
       "    <tr>\n",
       "      <th>2000-08-30</th>\n",
       "      <td>3.64</td>\n",
       "      <td>3.70</td>\n",
       "      <td>3.62</td>\n",
       "      <td>3.67</td>\n",
       "      <td>71348200</td>\n",
       "      <td>13.280507</td>\n",
       "      <td>70.171919</td>\n",
       "      <td>Compra</td>\n",
       "    </tr>\n",
       "    <tr>\n",
       "      <th>2000-09-29</th>\n",
       "      <td>1.74</td>\n",
       "      <td>1.79</td>\n",
       "      <td>1.57</td>\n",
       "      <td>1.59</td>\n",
       "      <td>1855410200</td>\n",
       "      <td>-16.419645</td>\n",
       "      <td>23.825804</td>\n",
       "      <td>Venta</td>\n",
       "    </tr>\n",
       "    <tr>\n",
       "      <th>2001-12-05</th>\n",
       "      <td>1.38</td>\n",
       "      <td>1.48</td>\n",
       "      <td>1.37</td>\n",
       "      <td>1.47</td>\n",
       "      <td>142144800</td>\n",
       "      <td>7.821901</td>\n",
       "      <td>74.907371</td>\n",
       "      <td>Compra</td>\n",
       "    </tr>\n",
       "    <tr>\n",
       "      <th>2002-06-07</th>\n",
       "      <td>1.34</td>\n",
       "      <td>1.35</td>\n",
       "      <td>1.29</td>\n",
       "      <td>1.32</td>\n",
       "      <td>153094200</td>\n",
       "      <td>-6.241520</td>\n",
       "      <td>32.875966</td>\n",
       "      <td>Venta</td>\n",
       "    </tr>\n",
       "    <tr>\n",
       "      <th>2002-11-04</th>\n",
       "      <td>1.02</td>\n",
       "      <td>1.07</td>\n",
       "      <td>1.01</td>\n",
       "      <td>1.04</td>\n",
       "      <td>94204600</td>\n",
       "      <td>7.733910</td>\n",
       "      <td>71.928803</td>\n",
       "      <td>Compra</td>\n",
       "    </tr>\n",
       "  </tbody>\n",
       "</table>\n",
       "</div>"
      ],
      "text/plain": [
       "            Open  High   Low  Close      Volume      Cruce        rsi   Señal\n",
       "Date                                                                         \n",
       "2000-08-30  3.64  3.70  3.62   3.67    71348200  13.280507  70.171919  Compra\n",
       "2000-09-29  1.74  1.79  1.57   1.59  1855410200 -16.419645  23.825804   Venta\n",
       "2001-12-05  1.38  1.48  1.37   1.47   142144800   7.821901  74.907371  Compra\n",
       "2002-06-07  1.34  1.35  1.29   1.32   153094200  -6.241520  32.875966   Venta\n",
       "2002-11-04  1.02  1.07  1.01   1.04    94204600   7.733910  71.928803  Compra"
      ]
     },
     "execution_count": 12,
     "metadata": {},
     "output_type": "execute_result"
    }
   ],
   "source": [
    "trades.head()"
   ]
  },
  {
   "cell_type": "code",
   "execution_count": 13,
   "metadata": {},
   "outputs": [
    {
     "data": {
      "text/html": [
       "<div>\n",
       "<style scoped>\n",
       "    .dataframe tbody tr th:only-of-type {\n",
       "        vertical-align: middle;\n",
       "    }\n",
       "\n",
       "    .dataframe tbody tr th {\n",
       "        vertical-align: top;\n",
       "    }\n",
       "\n",
       "    .dataframe thead th {\n",
       "        text-align: right;\n",
       "    }\n",
       "</style>\n",
       "<table border=\"1\" class=\"dataframe\">\n",
       "  <thead>\n",
       "    <tr style=\"text-align: right;\">\n",
       "      <th></th>\n",
       "      <th>yield</th>\n",
       "      <th>days</th>\n",
       "      <th>ok</th>\n",
       "      <th>yield_cum</th>\n",
       "    </tr>\n",
       "  </thead>\n",
       "  <tbody>\n",
       "    <tr>\n",
       "      <th>0</th>\n",
       "      <td>-0.566757</td>\n",
       "      <td>30</td>\n",
       "      <td>False</td>\n",
       "      <td>0.433243</td>\n",
       "    </tr>\n",
       "    <tr>\n",
       "      <th>1</th>\n",
       "      <td>-0.102041</td>\n",
       "      <td>184</td>\n",
       "      <td>False</td>\n",
       "      <td>0.389034</td>\n",
       "    </tr>\n",
       "    <tr>\n",
       "      <th>2</th>\n",
       "      <td>-0.221154</td>\n",
       "      <td>158</td>\n",
       "      <td>False</td>\n",
       "      <td>0.302998</td>\n",
       "    </tr>\n",
       "    <tr>\n",
       "      <th>3</th>\n",
       "      <td>0.272727</td>\n",
       "      <td>197</td>\n",
       "      <td>True</td>\n",
       "      <td>0.385633</td>\n",
       "    </tr>\n",
       "    <tr>\n",
       "      <th>4</th>\n",
       "      <td>2.194444</td>\n",
       "      <td>462</td>\n",
       "      <td>True</td>\n",
       "      <td>1.231885</td>\n",
       "    </tr>\n",
       "  </tbody>\n",
       "</table>\n",
       "</div>"
      ],
      "text/plain": [
       "      yield  days     ok  yield_cum\n",
       "0 -0.566757    30  False   0.433243\n",
       "1 -0.102041   184  False   0.389034\n",
       "2 -0.221154   158  False   0.302998\n",
       "3  0.272727   197   True   0.385633\n",
       "4  2.194444   462   True   1.231885"
      ]
     },
     "execution_count": 13,
     "metadata": {},
     "output_type": "execute_result"
    }
   ],
   "source": [
    "yields.head()"
   ]
  },
  {
   "cell_type": "code",
   "execution_count": 14,
   "metadata": {},
   "outputs": [
    {
     "data": {
      "text/plain": [
       "2089.024403595871"
      ]
     },
     "execution_count": 14,
     "metadata": {},
     "output_type": "execute_result"
    }
   ],
   "source": [
    "resultado"
   ]
  },
  {
   "cell_type": "code",
   "execution_count": 15,
   "metadata": {},
   "outputs": [
    {
     "data": {
      "text/plain": [
       "ok\n",
       "False     8\n",
       "True     17\n",
       "dtype: int64"
      ]
     },
     "execution_count": 15,
     "metadata": {},
     "output_type": "execute_result"
    }
   ],
   "source": [
    "agg_q = yields.groupby('ok').size()\n",
    "agg_q"
   ]
  },
  {
   "cell_type": "code",
   "execution_count": 16,
   "metadata": {},
   "outputs": [
    {
     "data": {
      "text/plain": [
       "ok\n",
       "False   -0.133847\n",
       "True     0.369802\n",
       "Name: yield, dtype: float64"
      ]
     },
     "execution_count": 16,
     "metadata": {},
     "output_type": "execute_result"
    }
   ],
   "source": [
    "agg_y = yields.groupby('ok').mean()['yield']\n",
    "agg_y"
   ]
  },
  {
   "cell_type": "code",
   "execution_count": 17,
   "metadata": {},
   "outputs": [
    {
     "data": {
      "text/plain": [
       "ok\n",
       "False     701\n",
       "True     3612\n",
       "Name: days, dtype: int64"
      ]
     },
     "execution_count": 17,
     "metadata": {},
     "output_type": "execute_result"
    }
   ],
   "source": [
    "agg_t = yields.groupby('ok').sum()['days']\n",
    "agg_t"
   ]
  },
  {
   "cell_type": "markdown",
   "metadata": {},
   "source": [
    "## Esperanza matemática"
   ]
  },
  {
   "cell_type": "code",
   "execution_count": 18,
   "metadata": {},
   "outputs": [
    {
     "data": {
      "text/plain": [
       "5.215854646327621"
      ]
     },
     "execution_count": 18,
     "metadata": {},
     "output_type": "execute_result"
    }
   ],
   "source": [
    "E = agg_q[True] * agg_y[True] + agg_q[False] * agg_y[False]\n",
    "E"
   ]
  },
  {
   "cell_type": "markdown",
   "metadata": {},
   "source": [
    "## % de Tiempo comprado"
   ]
  },
  {
   "cell_type": "code",
   "execution_count": 19,
   "metadata": {},
   "outputs": [
    {
     "data": {
      "text/plain": [
       "0.8374681196383028"
      ]
     },
     "execution_count": 19,
     "metadata": {},
     "output_type": "execute_result"
    }
   ],
   "source": [
    "time_in = agg_t[True] / (agg_t[True] + agg_t[False]) \n",
    "time_in"
   ]
  },
  {
   "cell_type": "code",
   "execution_count": null,
   "metadata": {},
   "outputs": [],
   "source": []
  },
  {
   "cell_type": "code",
   "execution_count": null,
   "metadata": {},
   "outputs": [],
   "source": []
  },
  {
   "cell_type": "code",
   "execution_count": null,
   "metadata": {},
   "outputs": [],
   "source": []
  },
  {
   "cell_type": "code",
   "execution_count": null,
   "metadata": {},
   "outputs": [],
   "source": []
  },
  {
   "cell_type": "code",
   "execution_count": null,
   "metadata": {},
   "outputs": [],
   "source": []
  },
  {
   "cell_type": "markdown",
   "metadata": {},
   "source": [
    "# Contenidos de un backtest"
   ]
  },
  {
   "cell_type": "markdown",
   "metadata": {},
   "source": [
    "* PreBackTest\n",
    "    * Análisis de correlación\n",
    "    * Trades con una determinada parametrizacion en un determinado activo\n",
    "    * Tabla de resultados o reporting básico\n",
    "        * % de trades positivos y negativos\n",
    "        * Esperanza matemática del método\n",
    "        * Tiempo comprado / libre\n",
    "        \n",
    "        \n",
    "* Backtest básico\n",
    "    * Trades en un grupo de activos, en un rango de parametros\n",
    "    * Tabla de resultados intermedia\n",
    "        * Resultados año a año\n",
    "        * Comparación con el buy&Hold\n",
    "        * Comparación con el banchmark\n",
    "        * Ratios de riesgo (Sharpe, Sortino, etc)\n",
    "        \n",
    "        \n",
    "* Análisis de sensibilidad\n",
    "    * Parametrización de variables\n",
    "    * Cambio de indicadores/ideas como grupo de control\n",
    "    \n",
    "    \n",
    "* Backtest Avanzado\n",
    "    * Manejo de posición/riesgo, exposición óptima (Kelly, Montecarlo etc)\n",
    "    * Riesgo de overfiting\n",
    "    * Factibilidad técnica (volúmenes, liquidez, spreads, fallas, tiempos etc)\n",
    "\n",
    "    \n",
    "* Análisis de portabilidad\n",
    "    * Cruce y armado de matrices de resultados\n",
    "    * Matrices de correlacion cross mkt\n",
    "    * Matrices de correlacion cross time-frame\n",
    "    * Clusterizacion por régimenes (volatilidad, épocas, ciclos etc)"
   ]
  },
  {
   "cell_type": "code",
   "execution_count": null,
   "metadata": {},
   "outputs": [],
   "source": []
  },
  {
   "cell_type": "code",
   "execution_count": null,
   "metadata": {},
   "outputs": [],
   "source": []
  },
  {
   "cell_type": "code",
   "execution_count": null,
   "metadata": {},
   "outputs": [],
   "source": []
  },
  {
   "cell_type": "code",
   "execution_count": null,
   "metadata": {},
   "outputs": [],
   "source": []
  },
  {
   "cell_type": "markdown",
   "metadata": {},
   "source": [
    "# Analisis de sensibilidad básico"
   ]
  },
  {
   "cell_type": "markdown",
   "metadata": {},
   "source": [
    "## Sensibilidad del \"q\" del RSI"
   ]
  },
  {
   "cell_type": "code",
   "execution_count": 20,
   "metadata": {},
   "outputs": [
    {
     "name": "stdout",
     "output_type": "stream",
     "text": [
      "[*********************100%***********************]  1 of 1 downloaded\n"
     ]
    },
    {
     "data": {
      "text/plain": [
       "<matplotlib.axes._subplots.AxesSubplot at 0x15f28cc7ec8>"
      ]
     },
     "execution_count": 20,
     "metadata": {},
     "output_type": "execute_result"
    },
    {
     "data": {
      "image/png": "[encoded data removed]",
      "text/plain": [
       "<Figure size 432x288 with 1 Axes>"
      ]
     },
     "metadata": {
      "needs_background": "light"
     },
     "output_type": "display_data"
    }
   ],
   "source": [
    "data = getData('AAPL')\n",
    "results = []\n",
    "for i in range(5,100):\n",
    "    data = addSignal(data,fast=5, slow=20, rsi_q=i, buy_cr=1, buy_rsi=55, sell_cr=0.98, sell_rsi=45)\n",
    "    trades = getTrades(data)\n",
    "    yields = getYields(trades)\n",
    "    resultado = float((yields.iloc[-1:].yield_cum-1)*100)\n",
    "    results.append(resultado)\n",
    "    \n",
    "df = pd.DataFrame(results, index=range(5,100))\n",
    "df.plot()"
   ]
  },
  {
   "cell_type": "code",
   "execution_count": 21,
   "metadata": {},
   "outputs": [
    {
     "data": {
      "text/plain": [
       "0    63\n",
       "dtype: int64"
      ]
     },
     "execution_count": 21,
     "metadata": {},
     "output_type": "execute_result"
    }
   ],
   "source": [
    "df.idxmax()"
   ]
  },
  {
   "cell_type": "markdown",
   "metadata": {},
   "source": [
    "## Sensibilidad del RSI señal compra"
   ]
  },
  {
   "cell_type": "code",
   "execution_count": 22,
   "metadata": {},
   "outputs": [
    {
     "name": "stdout",
     "output_type": "stream",
     "text": [
      "[*********************100%***********************]  1 of 1 downloaded\n"
     ]
    },
    {
     "data": {
      "text/plain": [
       "<matplotlib.axes._subplots.AxesSubplot at 0x15f28d43808>"
      ]
     },
     "execution_count": 22,
     "metadata": {},
     "output_type": "execute_result"
    },
    {
     "data": {
      "image/png": "[encoded data removed]",
      "text/plain": [
       "<Figure size 432x288 with 1 Axes>"
      ]
     },
     "metadata": {
      "needs_background": "light"
     },
     "output_type": "display_data"
    }
   ],
   "source": [
    "data = getData('AAPL')\n",
    "results = []\n",
    "for i in range(25,75):\n",
    "    data = addSignal(data,fast=5, slow=20, rsi_q=14, buy_cr=1, buy_rsi=i, sell_cr=0.98, sell_rsi=45)\n",
    "    trades = getTrades(data)\n",
    "    yields = getYields(trades)\n",
    "    resultado = float((yields.iloc[-1:].yield_cum-1)*100)\n",
    "    results.append(resultado)\n",
    "    \n",
    "df = pd.DataFrame(results, index=range(25,75))\n",
    "df.plot()"
   ]
  },
  {
   "cell_type": "code",
   "execution_count": 23,
   "metadata": {},
   "outputs": [
    {
     "data": {
      "text/plain": [
       "0    54\n",
       "dtype: int64"
      ]
     },
     "execution_count": 23,
     "metadata": {},
     "output_type": "execute_result"
    }
   ],
   "source": [
    "df.idxmax()"
   ]
  },
  {
   "cell_type": "markdown",
   "metadata": {},
   "source": [
    "## Sensibilidad por montecarlo multivariable"
   ]
  },
  {
   "cell_type": "code",
   "execution_count": 24,
   "metadata": {},
   "outputs": [
    {
     "name": "stdout",
     "output_type": "stream",
     "text": [
      "[*********************100%***********************]  1 of 1 downloaded\n"
     ]
    }
   ],
   "source": [
    "import random\n",
    "data = getData('AAPL')"
   ]
  },
  {
   "cell_type": "code",
   "execution_count": 25,
   "metadata": {},
   "outputs": [
    {
     "name": "stdout",
     "output_type": "stream",
     "text": [
      "Wall time: 27.7 s\n"
     ]
    },
    {
     "data": {
      "text/html": [
       "<div>\n",
       "<style scoped>\n",
       "    .dataframe tbody tr th:only-of-type {\n",
       "        vertical-align: middle;\n",
       "    }\n",
       "\n",
       "    .dataframe tbody tr th {\n",
       "        vertical-align: top;\n",
       "    }\n",
       "\n",
       "    .dataframe thead th {\n",
       "        text-align: right;\n",
       "    }\n",
       "</style>\n",
       "<table border=\"1\" class=\"dataframe\">\n",
       "  <thead>\n",
       "    <tr style=\"text-align: right;\">\n",
       "      <th></th>\n",
       "      <th>resultado</th>\n",
       "      <th>fast</th>\n",
       "      <th>slow</th>\n",
       "      <th>rsi_q</th>\n",
       "      <th>cant_trades</th>\n",
       "      <th>time_in</th>\n",
       "    </tr>\n",
       "  </thead>\n",
       "  <tbody>\n",
       "    <tr>\n",
       "      <th>0</th>\n",
       "      <td>724.647141</td>\n",
       "      <td>78</td>\n",
       "      <td>100</td>\n",
       "      <td>8</td>\n",
       "      <td>54</td>\n",
       "      <td>0.773941</td>\n",
       "    </tr>\n",
       "    <tr>\n",
       "      <th>1</th>\n",
       "      <td>2883.816381</td>\n",
       "      <td>56</td>\n",
       "      <td>103</td>\n",
       "      <td>49</td>\n",
       "      <td>28</td>\n",
       "      <td>0.886659</td>\n",
       "    </tr>\n",
       "    <tr>\n",
       "      <th>2</th>\n",
       "      <td>4491.084880</td>\n",
       "      <td>6</td>\n",
       "      <td>8</td>\n",
       "      <td>36</td>\n",
       "      <td>120</td>\n",
       "      <td>0.858437</td>\n",
       "    </tr>\n",
       "    <tr>\n",
       "      <th>3</th>\n",
       "      <td>4523.880157</td>\n",
       "      <td>82</td>\n",
       "      <td>161</td>\n",
       "      <td>30</td>\n",
       "      <td>14</td>\n",
       "      <td>0.946158</td>\n",
       "    </tr>\n",
       "    <tr>\n",
       "      <th>4</th>\n",
       "      <td>1945.547877</td>\n",
       "      <td>81</td>\n",
       "      <td>122</td>\n",
       "      <td>15</td>\n",
       "      <td>34</td>\n",
       "      <td>0.865430</td>\n",
       "    </tr>\n",
       "    <tr>\n",
       "      <th>...</th>\n",
       "      <td>...</td>\n",
       "      <td>...</td>\n",
       "      <td>...</td>\n",
       "      <td>...</td>\n",
       "      <td>...</td>\n",
       "      <td>...</td>\n",
       "    </tr>\n",
       "    <tr>\n",
       "      <th>995</th>\n",
       "      <td>0.000000</td>\n",
       "      <td>37</td>\n",
       "      <td>47</td>\n",
       "      <td>42</td>\n",
       "      <td>0</td>\n",
       "      <td>0.000000</td>\n",
       "    </tr>\n",
       "    <tr>\n",
       "      <th>996</th>\n",
       "      <td>0.000000</td>\n",
       "      <td>22</td>\n",
       "      <td>28</td>\n",
       "      <td>38</td>\n",
       "      <td>0</td>\n",
       "      <td>0.000000</td>\n",
       "    </tr>\n",
       "    <tr>\n",
       "      <th>997</th>\n",
       "      <td>0.000000</td>\n",
       "      <td>27</td>\n",
       "      <td>43</td>\n",
       "      <td>48</td>\n",
       "      <td>0</td>\n",
       "      <td>0.000000</td>\n",
       "    </tr>\n",
       "    <tr>\n",
       "      <th>998</th>\n",
       "      <td>0.000000</td>\n",
       "      <td>65</td>\n",
       "      <td>129</td>\n",
       "      <td>23</td>\n",
       "      <td>0</td>\n",
       "      <td>0.000000</td>\n",
       "    </tr>\n",
       "    <tr>\n",
       "      <th>999</th>\n",
       "      <td>0.000000</td>\n",
       "      <td>24</td>\n",
       "      <td>39</td>\n",
       "      <td>20</td>\n",
       "      <td>0</td>\n",
       "      <td>0.000000</td>\n",
       "    </tr>\n",
       "  </tbody>\n",
       "</table>\n",
       "<p>1000 rows × 6 columns</p>\n",
       "</div>"
      ],
      "text/plain": [
       "       resultado  fast  slow  rsi_q  cant_trades   time_in\n",
       "0     724.647141    78   100      8           54  0.773941\n",
       "1    2883.816381    56   103     49           28  0.886659\n",
       "2    4491.084880     6     8     36          120  0.858437\n",
       "3    4523.880157    82   161     30           14  0.946158\n",
       "4    1945.547877    81   122     15           34  0.865430\n",
       "..           ...   ...   ...    ...          ...       ...\n",
       "995     0.000000    37    47     42            0  0.000000\n",
       "996     0.000000    22    28     38            0  0.000000\n",
       "997     0.000000    27    43     48            0  0.000000\n",
       "998     0.000000    65   129     23            0  0.000000\n",
       "999     0.000000    24    39     20            0  0.000000\n",
       "\n",
       "[1000 rows x 6 columns]"
      ]
     },
     "execution_count": 25,
     "metadata": {},
     "output_type": "execute_result"
    }
   ],
   "source": [
    "%%time\n",
    "results = []\n",
    "for i in range(1000):\n",
    "    random_f = random.randrange(5,100)\n",
    "    random_s = int(random_f * (random.random()+1))+1\n",
    "    random_rsi = random.randrange(5,50)\n",
    "\n",
    "    data = addSignal(data,fast=random_f, slow=random_s, rsi_q=random_rsi, buy_cr=1, buy_rsi=i, sell_cr=0.98, sell_rsi=45)\n",
    "    trades = getTrades(data)\n",
    "    yields = getYields(trades)\n",
    "    \n",
    "    try:\n",
    "        resultado = float((yields.iloc[-1:].yield_cum-1)*100)\n",
    "        agg_t = yields.groupby('ok').sum()['days']\n",
    "        time_in = agg_t[True] / (agg_t[True] + agg_t[False]) \n",
    "        \n",
    "    except:\n",
    "        resultado = 0\n",
    "        time_in = 0\n",
    "        \n",
    "    r = {'resultado':resultado, 'fast':random_f, 'slow':random_s, 'rsi_q':random_rsi, \n",
    "         'cant_trades':len(trades), 'time_in':time_in}\n",
    "    results.append(r)\n",
    "    \n",
    "df = pd.DataFrame(results)\n",
    "df"
   ]
  },
  {
   "cell_type": "code",
   "execution_count": 26,
   "metadata": {},
   "outputs": [
    {
     "data": {
      "text/html": [
       "<div>\n",
       "<style scoped>\n",
       "    .dataframe tbody tr th:only-of-type {\n",
       "        vertical-align: middle;\n",
       "    }\n",
       "\n",
       "    .dataframe tbody tr th {\n",
       "        vertical-align: top;\n",
       "    }\n",
       "\n",
       "    .dataframe thead th {\n",
       "        text-align: right;\n",
       "    }\n",
       "</style>\n",
       "<table border=\"1\" class=\"dataframe\">\n",
       "  <thead>\n",
       "    <tr style=\"text-align: right;\">\n",
       "      <th></th>\n",
       "      <th>resultado</th>\n",
       "      <th>fast</th>\n",
       "      <th>slow</th>\n",
       "      <th>rsi_q</th>\n",
       "      <th>cant_trades</th>\n",
       "      <th>time_in</th>\n",
       "    </tr>\n",
       "  </thead>\n",
       "  <tbody>\n",
       "    <tr>\n",
       "      <th>499</th>\n",
       "      <td>0.000000</td>\n",
       "      <td>53</td>\n",
       "      <td>67</td>\n",
       "      <td>21</td>\n",
       "      <td>0</td>\n",
       "      <td>0.000000</td>\n",
       "    </tr>\n",
       "    <tr>\n",
       "      <th>658</th>\n",
       "      <td>0.000000</td>\n",
       "      <td>31</td>\n",
       "      <td>44</td>\n",
       "      <td>20</td>\n",
       "      <td>0</td>\n",
       "      <td>0.000000</td>\n",
       "    </tr>\n",
       "    <tr>\n",
       "      <th>659</th>\n",
       "      <td>0.000000</td>\n",
       "      <td>34</td>\n",
       "      <td>45</td>\n",
       "      <td>24</td>\n",
       "      <td>0</td>\n",
       "      <td>0.000000</td>\n",
       "    </tr>\n",
       "    <tr>\n",
       "      <th>660</th>\n",
       "      <td>0.000000</td>\n",
       "      <td>39</td>\n",
       "      <td>50</td>\n",
       "      <td>34</td>\n",
       "      <td>0</td>\n",
       "      <td>0.000000</td>\n",
       "    </tr>\n",
       "    <tr>\n",
       "      <th>661</th>\n",
       "      <td>0.000000</td>\n",
       "      <td>76</td>\n",
       "      <td>87</td>\n",
       "      <td>12</td>\n",
       "      <td>0</td>\n",
       "      <td>0.000000</td>\n",
       "    </tr>\n",
       "    <tr>\n",
       "      <th>...</th>\n",
       "      <td>...</td>\n",
       "      <td>...</td>\n",
       "      <td>...</td>\n",
       "      <td>...</td>\n",
       "      <td>...</td>\n",
       "      <td>...</td>\n",
       "    </tr>\n",
       "    <tr>\n",
       "      <th>57</th>\n",
       "      <td>9252.696338</td>\n",
       "      <td>10</td>\n",
       "      <td>16</td>\n",
       "      <td>47</td>\n",
       "      <td>24</td>\n",
       "      <td>0.906396</td>\n",
       "    </tr>\n",
       "    <tr>\n",
       "      <th>22</th>\n",
       "      <td>10463.893708</td>\n",
       "      <td>5</td>\n",
       "      <td>9</td>\n",
       "      <td>49</td>\n",
       "      <td>96</td>\n",
       "      <td>0.854752</td>\n",
       "    </tr>\n",
       "    <tr>\n",
       "      <th>25</th>\n",
       "      <td>11520.145268</td>\n",
       "      <td>47</td>\n",
       "      <td>61</td>\n",
       "      <td>9</td>\n",
       "      <td>76</td>\n",
       "      <td>0.916059</td>\n",
       "    </tr>\n",
       "    <tr>\n",
       "      <th>39</th>\n",
       "      <td>11720.498025</td>\n",
       "      <td>48</td>\n",
       "      <td>66</td>\n",
       "      <td>28</td>\n",
       "      <td>48</td>\n",
       "      <td>0.920971</td>\n",
       "    </tr>\n",
       "    <tr>\n",
       "      <th>7</th>\n",
       "      <td>13730.621230</td>\n",
       "      <td>44</td>\n",
       "      <td>66</td>\n",
       "      <td>27</td>\n",
       "      <td>46</td>\n",
       "      <td>0.938046</td>\n",
       "    </tr>\n",
       "  </tbody>\n",
       "</table>\n",
       "<p>1000 rows × 6 columns</p>\n",
       "</div>"
      ],
      "text/plain": [
       "        resultado  fast  slow  rsi_q  cant_trades   time_in\n",
       "499      0.000000    53    67     21            0  0.000000\n",
       "658      0.000000    31    44     20            0  0.000000\n",
       "659      0.000000    34    45     24            0  0.000000\n",
       "660      0.000000    39    50     34            0  0.000000\n",
       "661      0.000000    76    87     12            0  0.000000\n",
       "..            ...   ...   ...    ...          ...       ...\n",
       "57    9252.696338    10    16     47           24  0.906396\n",
       "22   10463.893708     5     9     49           96  0.854752\n",
       "25   11520.145268    47    61      9           76  0.916059\n",
       "39   11720.498025    48    66     28           48  0.920971\n",
       "7    13730.621230    44    66     27           46  0.938046\n",
       "\n",
       "[1000 rows x 6 columns]"
      ]
     },
     "execution_count": 26,
     "metadata": {},
     "output_type": "execute_result"
    }
   ],
   "source": [
    "df.sort_values('resultado')"
   ]
  },
  {
   "cell_type": "code",
   "execution_count": null,
   "metadata": {},
   "outputs": [],
   "source": []
  },
  {
   "cell_type": "code",
   "execution_count": null,
   "metadata": {},
   "outputs": [],
   "source": []
  },
  {
   "cell_type": "code",
   "execution_count": null,
   "metadata": {},
   "outputs": [],
   "source": []
  },
  {
   "cell_type": "markdown",
   "metadata": {},
   "source": [
    "# Analisis de Portabilidad Básico"
   ]
  },
  {
   "cell_type": "code",
   "execution_count": 27,
   "metadata": {},
   "outputs": [
    {
     "name": "stdout",
     "output_type": "stream",
     "text": [
      "MMM..ABT..ABBV..ABMD..ACN..ATVI..ADBE..AMD..AAP..AES..AFL..A..APD..AKAM..ALK..ALB..ARE..ALXN..ALGN..ALLE..LNT..ALL..GOOGL..GOOG..MO..AMZN..AMCR..AEE..AAL..AEP..AXP..AIG..AMT..AWK..AMP..ABC..AME..AMGN..APH..ADI..ANSS..ANTM..AON..AOS..APA..AIV..AAPL..AMAT..APTV..ADM..ANET..AJG..AIZ..T..ATO..ADSK..ADP..AZO..AVB..AVY..BKR..BLL..BAC..BK..BAX..BDX..BBY..BIO..BIIB..BLK..BA..BKNG..BWA..BXP..BSX..BMY..AVGO..BR..CHRW..COG..CDNS..CPB..COF..CAH..KMX..CCL..\n",
      "**************************************************\n",
      " Error con CARR \n",
      "**************************************************\n",
      "\n",
      "CAT..CBOE..CBRE..CDW..CE..CNC..\n",
      "**************************************************\n",
      " Error con CNP \n",
      "**************************************************\n",
      "\n",
      "CTL..CERN..CF..SCHW..CHTR..CVX..CMG..CB..CHD..CI..CINF..CTAS..CSCO..C..CFG..CTXS..CLX..CME..CMS..KO..CTSH..CL..CMCSA..CMA..CAG..CXO..COP..ED..STZ..COO..CPRT..GLW..CTVA..COST..COTY..CCI..CSX..CMI..CVS..DHI..DHR..DRI..DVA..DE..DAL..XRAY..DVN..DXCM..FANG..DLR..DFS..DISCA..DISCK..DISH..DG..DLTR..D..DPZ..DOV..DOW..DTE..DUK..DRE..DD..DXC..ETFC..EMN..ETN..EBAY..ECL..EIX..EW..EA..EMR..ETR..EOG..EFX..EQIX..EQR..ESS..EL..\n",
      "**************************************************\n",
      " Error con EVRG \n",
      "**************************************************\n",
      "\n",
      "ES..RE..EXC..EXPE..EXPD..EXR..XOM..FFIV..FB..FAST..FRT..FDX..FIS..FITB..FE..FRC..FISV..FLT..FLIR..FLS..FMC..F..FTNT..FTV..FBHS..FOXA..FOX..BEN..FCX..GPS..GRMN..IT..GD..GE..GIS..GM..GPC..GILD..GL..GPN..GS..GWW..HRB..HAL..HBI..HIG..HAS..HCA..PEAK..HSIC..HSY..HES..HPE..HLT..HFC..HOLX..HD..HON..HRL..HST..HWM..HPQ..HUM..HBAN..HII..IEX..IDXX..INFO..ITW..ILMN..INCY..IR..INTC..ICE..IBM..IP..IPG..IFF..INTU..ISRG..IVZ..IPGP..IQV..IRM..JKHY..J..JBHT..SJM..JNJ..JCI..JPM..JNPR..KSU..K..KEY..KEYS..KMB..KIM..KMI..KLAC..KSS..KHC..KR..LB..LHX..LH..LRCX..LW..LVS..LEG..LDOS..LEN..LLY..LNC..LIN..LYV..LKQ..LMT..L..LOW..LYB..MTB..MRO..MPC..MKTX..MAR..MMC..MLM..MAS..MA..MKC..MXIM..MCD..MCK..MDT..MRK..MET..MTD..MGM..MCHP..MU..MSFT..MAA..MHK..TAP..MDLZ..MNST..MCO..MS..MOS..MSI..MSCI..MYL..NDAQ..NOV..NTAP..NFLX..NWL..NEM..NWSA..NWS..NEE..\n",
      "**************************************************\n",
      " Error con NLSN \n",
      "**************************************************\n",
      "\n",
      "NKE..NI..NBL..NSC..NTRS..NOC..NLOK..NCLH..NRG..NUE..NVDA..NVR..ORLY..OXY..ODFL..OMC..OKE..ORCL..\n",
      "**************************************************\n",
      " Error con OTIS \n",
      "**************************************************\n",
      "\n",
      "PCAR..PKG..PH..PAYX..PAYC..PYPL..PNR..PBCT..PEP..PKI..PRGO..PFE..PM..PSX..PNW..PXD..PNC..PPG..PPL..PFG..PG..PGR..PLD..PRU..PEG..PSA..PHM..PVH..QRVO..PWR..QCOM..DGX..RL..RJF..RTX..O..REG..REGN..RF..RSG..RMD..RHI..ROK..ROL..ROP..ROST..RCL..SPGI..CRM..SBAC..SLB..STX..SEE..SRE..NOW..SHW..SPG..SWKS..SLG..SNA..SO..LUV..SWK..SBUX..STT..STE..SYK..SIVB..SYF..SNPS..SYY..TMUS..TROW..TTWO..TPR..TGT..TEL..FTI..TDY..TFX..TXN..TXT..TMO..TIF..TJX..TSCO..TT..TDG..TRV..TFC..TWTR..TYL..TSN..UDR..ULTA..USB..UAA..UA..UNP..UAL..UNH..UPS..URI..UHS..UNM..VFC..VLO..VAR..VTR..VRSN..VRSK..VZ..VRTX..\n",
      "**************************************************\n",
      " Error con VIAC \n",
      "**************************************************\n",
      "\n",
      "V..VNO..VMC..WRB..WAB..WMT..WBA..DIS..WM..WAT..WEC..WFC..WELL..WST..WDC..WU..WRK..WY..WHR..WMB..WLTW..WYNN..XEL..XRX..XLNX..XYL..YUM..ZBRA..ZBH..ZION..ZTS.."
     ]
    },
    {
     "data": {
      "text/html": [
       "<div>\n",
       "<style scoped>\n",
       "    .dataframe tbody tr th:only-of-type {\n",
       "        vertical-align: middle;\n",
       "    }\n",
       "\n",
       "    .dataframe tbody tr th {\n",
       "        vertical-align: top;\n",
       "    }\n",
       "\n",
       "    .dataframe thead th {\n",
       "        text-align: right;\n",
       "    }\n",
       "</style>\n",
       "<table border=\"1\" class=\"dataframe\">\n",
       "  <thead>\n",
       "    <tr style=\"text-align: right;\">\n",
       "      <th></th>\n",
       "      <th>ticker</th>\n",
       "      <th>resultado</th>\n",
       "    </tr>\n",
       "  </thead>\n",
       "  <tbody>\n",
       "    <tr>\n",
       "      <th>0</th>\n",
       "      <td>MMM</td>\n",
       "      <td>36.155078</td>\n",
       "    </tr>\n",
       "    <tr>\n",
       "      <th>1</th>\n",
       "      <td>ABT</td>\n",
       "      <td>42.269408</td>\n",
       "    </tr>\n",
       "    <tr>\n",
       "      <th>2</th>\n",
       "      <td>ABBV</td>\n",
       "      <td>72.515507</td>\n",
       "    </tr>\n",
       "    <tr>\n",
       "      <th>3</th>\n",
       "      <td>ABMD</td>\n",
       "      <td>677.148100</td>\n",
       "    </tr>\n",
       "    <tr>\n",
       "      <th>4</th>\n",
       "      <td>ACN</td>\n",
       "      <td>95.967858</td>\n",
       "    </tr>\n",
       "    <tr>\n",
       "      <th>...</th>\n",
       "      <td>...</td>\n",
       "      <td>...</td>\n",
       "    </tr>\n",
       "    <tr>\n",
       "      <th>492</th>\n",
       "      <td>YUM</td>\n",
       "      <td>195.851497</td>\n",
       "    </tr>\n",
       "    <tr>\n",
       "      <th>493</th>\n",
       "      <td>ZBRA</td>\n",
       "      <td>29.416244</td>\n",
       "    </tr>\n",
       "    <tr>\n",
       "      <th>494</th>\n",
       "      <td>ZBH</td>\n",
       "      <td>241.184694</td>\n",
       "    </tr>\n",
       "    <tr>\n",
       "      <th>495</th>\n",
       "      <td>ZION</td>\n",
       "      <td>-54.446173</td>\n",
       "    </tr>\n",
       "    <tr>\n",
       "      <th>496</th>\n",
       "      <td>ZTS</td>\n",
       "      <td>116.072283</td>\n",
       "    </tr>\n",
       "  </tbody>\n",
       "</table>\n",
       "<p>497 rows × 2 columns</p>\n",
       "</div>"
      ],
      "text/plain": [
       "    ticker   resultado\n",
       "0      MMM   36.155078\n",
       "1      ABT   42.269408\n",
       "2     ABBV   72.515507\n",
       "3     ABMD  677.148100\n",
       "4      ACN   95.967858\n",
       "..     ...         ...\n",
       "492    YUM  195.851497\n",
       "493   ZBRA   29.416244\n",
       "494    ZBH  241.184694\n",
       "495   ZION  -54.446173\n",
       "496    ZTS  116.072283\n",
       "\n",
       "[497 rows x 2 columns]"
      ]
     },
     "execution_count": 27,
     "metadata": {},
     "output_type": "execute_result"
    }
   ],
   "source": [
    "results = []\n",
    "for ticker in sp500_tickers:\n",
    "    try:\n",
    "        data = df_sp500[ticker].copy()\n",
    "        df = addSignal(data,fast=5, slow=20, rsi_q=14, buy_cr=1, buy_rsi=70, sell_cr=0.98, sell_rsi=35)\n",
    "        trades = getTrades(df)\n",
    "        yields = getYields(trades)\n",
    "        resultado = float((yields.iloc[-1:].yield_cum-1)*100)\n",
    "        results.append({'ticker':ticker, 'resultado':resultado})\n",
    "        print(ticker, end='..')\n",
    "    except:\n",
    "        s = \"\\n\"+ \"*\"*50 + \"\\n\"\n",
    "        print(s,\"Error con\",ticker,s)\n",
    "\n",
    "results_df = pd.DataFrame(results)\n",
    "results_df"
   ]
  },
  {
   "cell_type": "code",
   "execution_count": 36,
   "metadata": {},
   "outputs": [
    {
     "data": {
      "text/plain": [
       "<matplotlib.axes._subplots.AxesSubplot at 0x15f2cbe7fc8>"
      ]
     },
     "execution_count": 36,
     "metadata": {},
     "output_type": "execute_result"
    },
    {
     "data": {
      "image/png": "[encoded data removed]",
      "text/plain": [
       "<Figure size 432x288 with 1 Axes>"
      ]
     },
     "metadata": {
      "needs_background": "light"
     },
     "output_type": "display_data"
    }
   ],
   "source": [
    "results_df.resultado.plot(kind='hist', bins=1000, xlim=(-100,1000))"
   ]
  },
  {
   "cell_type": "code",
   "execution_count": 44,
   "metadata": {},
   "outputs": [
    {
     "data": {
      "text/plain": [
       "<matplotlib.axes._subplots.AxesSubplot at 0x15f2e748bc8>"
      ]
     },
     "execution_count": 44,
     "metadata": {},
     "output_type": "execute_result"
    },
    {
     "data": {
      "image/png": "[encoded data removed]",
      "text/plain": [
       "<Figure size 432x288 with 1 Axes>"
      ]
     },
     "metadata": {
      "needs_background": "light"
     },
     "output_type": "display_data"
    }
   ],
   "source": [
    "results_df.resultado.plot(kind='kde', xlim=(-1000,1000))"
   ]
  },
  {
   "cell_type": "code",
   "execution_count": null,
   "metadata": {},
   "outputs": [],
   "source": []
  },
  {
   "cell_type": "code",
   "execution_count": null,
   "metadata": {},
   "outputs": [],
   "source": []
  }
 ],
 "metadata": {
  "kernelspec": {
   "display_name": "Python 3",
   "language": "python",
   "name": "python3"
  },
  "language_info": {
   "codemirror_mode": {
    "name": "ipython",
    "version": 3
   },
   "file_extension": ".py",
   "mimetype": "text/x-python",
   "name": "python",
   "nbconvert_exporter": "python",
   "pygments_lexer": "ipython3",
   "version": "3.7.7"
  },
  "toc": {
   "base_numbering": 1,
   "nav_menu": {},
   "number_sections": true,
   "sideBar": true,
   "skip_h1_title": false,
   "title_cell": "Table of Contents",
   "title_sidebar": "Contents",
   "toc_cell": false,
   "toc_position": {},
   "toc_section_display": true,
   "toc_window_display": true
  },
  "varInspector": {
   "cols": {
    "lenName": 16,
    "lenType": 16,
    "lenVar": 40
   },
   "kernels_config": {
    "python": {
     "delete_cmd_postfix": "",
     "delete_cmd_prefix": "del ",
     "library": "var_list.py",
     "varRefreshCmd": "print(var_dic_list())"
    },
    "r": {
     "delete_cmd_postfix": ") ",
     "delete_cmd_prefix": "rm(",
     "library": "var_list.r",
     "varRefreshCmd": "cat(var_dic_list()) "
    }
   },
   "types_to_exclude": [
    "module",
    "function",
    "builtin_function_or_method",
    "instance",
    "_Feature"
   ],
   "window_display": false
  }
 },
 "nbformat": 4,
 "nbformat_minor": 4
}
