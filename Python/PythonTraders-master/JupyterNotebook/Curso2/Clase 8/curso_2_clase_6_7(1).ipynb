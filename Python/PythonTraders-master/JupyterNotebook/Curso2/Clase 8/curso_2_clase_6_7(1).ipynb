{
 "cells": [
  {
   "cell_type": "code",
   "execution_count": null,
   "metadata": {},
   "outputs": [],
   "source": [
    "# Invierto los meses 1 y 2 un monto fijo de $ 5000\n",
    "\n",
    "# ppm = monto / nominales\n",
    "# nominales=  monto / ppm\n",
    "\n",
    "precios = $ 50, $ 100\n",
    "cantidades = 100 nominales, 50 nominales\n",
    "precio medio = 75 (Falso)\n",
    "\n"
   ]
  },
  {
   "cell_type": "code",
   "execution_count": 2,
   "metadata": {},
   "outputs": [],
   "source": [
    "from statistics import harmonic_mean"
   ]
  },
  {
   "cell_type": "code",
   "execution_count": 4,
   "metadata": {},
   "outputs": [
    {
     "data": {
      "text/plain": [
       "66.66666666666667"
      ]
     },
     "execution_count": 4,
     "metadata": {},
     "output_type": "execute_result"
    }
   ],
   "source": [
    "harmonic_mean([50,100])"
   ]
  },
  {
   "cell_type": "code",
   "execution_count": null,
   "metadata": {},
   "outputs": [],
   "source": [
    "Tengo una cartera con los siguientes P/B\n",
    "\n",
    "pb = [1.2, 1, 0.9, 0.8]\n"
   ]
  },
  {
   "cell_type": "markdown",
   "metadata": {},
   "source": [
    "# Bases de Datos introducción"
   ]
  },
  {
   "cell_type": "markdown",
   "metadata": {},
   "source": [
    "* Concurrencia\n",
    "* Relaciones\n",
    "* Estructura"
   ]
  },
  {
   "cell_type": "markdown",
   "metadata": {},
   "source": [
    "<img src='imagenes/BBDD.jpeg' width='600'>"
   ]
  },
  {
   "cell_type": "markdown",
   "metadata": {},
   "source": [
    "Y así sucesivamente se pueden ir creando nuevas entidades que se van relacionando con otras\n",
    "\n",
    "En este caso vamos a agregar a nuestro modelo de subyacentes y derivados, una entidad de \"fondos\" que podrian ser FCIs y \"clientes\" que podrian ser las cuentas de un Alyc"
   ]
  },
  {
   "cell_type": "markdown",
   "metadata": {},
   "source": [
    "<img src='imagenes/BBDD2.jpeg' width='600'>"
   ]
  },
  {
   "cell_type": "markdown",
   "metadata": {},
   "source": [
    "# XAMPP"
   ]
  },
  {
   "cell_type": "markdown",
   "metadata": {},
   "source": [
    "## Configuracion Apache y puerto http"
   ]
  },
  {
   "cell_type": "markdown",
   "metadata": {},
   "source": [
    "Configuraciones Iniciales, no necesariamente pero si al darrle \"start\" al Apache aparece un conflicto de puertos, hay que configurar un puerto diferente al 80 que es el default"
   ]
  },
  {
   "cell_type": "markdown",
   "metadata": {},
   "source": [
    "<img src='imagenes/xampp_1.png' width=750>"
   ]
  },
  {
   "cell_type": "markdown",
   "metadata": {},
   "source": [
    "<img src='imagenes/xampp_2.png' width=750>"
   ]
  },
  {
   "cell_type": "markdown",
   "metadata": {},
   "source": [
    "<img src='imagenes/xampp_3.png' width=750>"
   ]
  },
  {
   "cell_type": "markdown",
   "metadata": {},
   "source": [
    "## Configuracion MySQL y puerto de BBDD"
   ]
  },
  {
   "cell_type": "markdown",
   "metadata": {},
   "source": [
    "<img src='imagenes/xampp_4.png' width=750>"
   ]
  },
  {
   "cell_type": "markdown",
   "metadata": {},
   "source": [
    "<img src='imagenes/xampp_5.png' width=750>"
   ]
  },
  {
   "cell_type": "markdown",
   "metadata": {},
   "source": [
    "## Configuracion general  XAMMP"
   ]
  },
  {
   "cell_type": "markdown",
   "metadata": {},
   "source": [
    "<img src='imagenes/xampp_6.png' width=800>"
   ]
  },
  {
   "cell_type": "markdown",
   "metadata": {},
   "source": [
    "<img src='imagenes/xampp_7.png' width='600'>"
   ]
  },
  {
   "cell_type": "markdown",
   "metadata": {},
   "source": [
    "<img src='imagenes/xampp_8.png'  width='600'>"
   ]
  },
  {
   "cell_type": "markdown",
   "metadata": {},
   "source": [
    "# Crear Base de datos"
   ]
  },
  {
   "cell_type": "markdown",
   "metadata": {},
   "source": [
    "<img src='imagenes/xampp_9.png'  width='700'>"
   ]
  },
  {
   "cell_type": "code",
   "execution_count": null,
   "metadata": {},
   "outputs": [],
   "source": []
  },
  {
   "cell_type": "markdown",
   "metadata": {},
   "source": [
    "# API FMP"
   ]
  },
  {
   "cell_type": "code",
   "execution_count": 2,
   "metadata": {},
   "outputs": [],
   "source": [
    "apikey = '66c44b016256f8b9e507838f32434ece'\n",
    "apikey = '7bcec62b64a5ccd1f35fc2036c768593'\n",
    "apikey = '2f08561fe33be29429d696aed288539e'\n",
    "apikey = '938c4b4dece598e20a115db9b9d3d5e9'\n",
    "apikey = 'f0bdfc9adbb9cad589dadedfd786d499'"
   ]
  },
  {
   "cell_type": "code",
   "execution_count": 3,
   "metadata": {},
   "outputs": [],
   "source": [
    "import requests\n",
    "import pandas as pd"
   ]
  },
  {
   "cell_type": "markdown",
   "metadata": {},
   "source": [
    "## Paneles precios RealTime"
   ]
  },
  {
   "cell_type": "code",
   "execution_count": 3,
   "metadata": {},
   "outputs": [],
   "source": [
    "paneles = ['etf','commodity','euronext','nyse','amex','nasdaq','tsx','index','mutual_fund']"
   ]
  },
  {
   "cell_type": "code",
   "execution_count": 4,
   "metadata": {},
   "outputs": [],
   "source": [
    "def getPanel(exchange):\n",
    "    url = 'https://fmpcloud.io/api/v3/quotes/'+exchange\n",
    "    p = {'apikey': apikey}\n",
    "    r = requests.get(url, params = p)\n",
    "    js = r.json()\n",
    "    df = pd.DataFrame(js)\n",
    "    df.set_index('symbol', inplace=True)\n",
    "    return df"
   ]
  },
  {
   "cell_type": "code",
   "execution_count": 5,
   "metadata": {},
   "outputs": [
    {
     "name": "stdout",
     "output_type": "stream",
     "text": [
      "etf, commodity, euronext, nyse, amex, nasdaq, tsx, index, mutual_fund, "
     ]
    }
   ],
   "source": [
    "paneles_px = {}\n",
    "for panel in paneles:\n",
    "    print(panel, end=', ')\n",
    "    paneles_px[panel] = getPanel(panel)"
   ]
  },
  {
   "cell_type": "code",
   "execution_count": 10,
   "metadata": {},
   "outputs": [
    {
     "name": "stdout",
     "output_type": "stream",
     "text": [
      "Index(['name', 'price', 'changesPercentage', 'change', 'dayLow', 'dayHigh',\n",
      "       'yearHigh', 'yearLow', 'marketCap', 'priceAvg50', 'priceAvg200',\n",
      "       'volume', 'avgVolume', 'exchange', 'open', 'previousClose', 'eps', 'pe',\n",
      "       'earningsAnnouncement', 'sharesOutstanding', 'timestamp'],\n",
      "      dtype='object') symbol\n",
      "MMDM       1.3200\n",
      "WRLD     107.6100\n",
      "DWAQ     137.0600\n",
      "THCBU     10.4248\n",
      "GOGO      10.9700\n",
      "           ...   \n",
      "TBKCP     25.8500\n",
      "PSTVZ      0.0070\n",
      "NUROW      0.1420\n",
      "TSLA     439.6700\n",
      "SLM        9.4100\n",
      "Name: price, Length: 4203, dtype: float64\n"
     ]
    }
   ],
   "source": [
    "print(paneles_px['nasdaq'].columns, paneles_px['nasdaq']['price'])"
   ]
  },
  {
   "cell_type": "code",
   "execution_count": 11,
   "metadata": {},
   "outputs": [
    {
     "data": {
      "text/plain": [
       "name                              MercadoLibre, Inc.\n",
       "price                                        1271.38\n",
       "changesPercentage                               1.07\n",
       "change                                         13.49\n",
       "dayLow                                       1258.05\n",
       "dayHigh                                         1280\n",
       "yearHigh                                     1283.96\n",
       "yearLow                                       422.22\n",
       "marketCap                                6.32003e+10\n",
       "priceAvg50                                   1103.97\n",
       "priceAvg200                                  932.238\n",
       "volume                                        359501\n",
       "avgVolume                                     518238\n",
       "exchange                                      NASDAQ\n",
       "open                                         1269.89\n",
       "previousClose                                1257.89\n",
       "eps                                           -3.405\n",
       "pe                                               NaN\n",
       "earningsAnnouncement    2020-11-04T21:00:00.000+0000\n",
       "sharesOutstanding                          4.971e+07\n",
       "timestamp                                 1602887014\n",
       "Name: MELI, dtype: object"
      ]
     },
     "execution_count": 11,
     "metadata": {},
     "output_type": "execute_result"
    }
   ],
   "source": [
    "accion = paneles_px['nasdaq'].loc['MELI']\n",
    "accion"
   ]
  },
  {
   "cell_type": "code",
   "execution_count": 17,
   "metadata": {},
   "outputs": [
    {
     "data": {
      "text/plain": [
       "<AxesSubplot:ylabel='Density'>"
      ]
     },
     "execution_count": 17,
     "metadata": {},
     "output_type": "execute_result"
    },
    {
     "data": {
      "image/png": "[encoded data removed]",
      "text/plain": [
       "<Figure size 432x288 with 1 Axes>"
      ]
     },
     "metadata": {
      "needs_background": "light"
     },
     "output_type": "display_data"
    }
   ],
   "source": [
    "nasdaq = paneles_px['nasdaq']\n",
    "nasdaq.loc[(nasdaq.pe>0) & (nasdaq.pe<100)].pe.plot(kind='kde', xlim=(0,100))"
   ]
  },
  {
   "cell_type": "code",
   "execution_count": 18,
   "metadata": {},
   "outputs": [
    {
     "data": {
      "text/html": [
       "<div>\n",
       "<style scoped>\n",
       "    .dataframe tbody tr th:only-of-type {\n",
       "        vertical-align: middle;\n",
       "    }\n",
       "\n",
       "    .dataframe tbody tr th {\n",
       "        vertical-align: top;\n",
       "    }\n",
       "\n",
       "    .dataframe thead th {\n",
       "        text-align: right;\n",
       "    }\n",
       "</style>\n",
       "<table border=\"1\" class=\"dataframe\">\n",
       "  <thead>\n",
       "    <tr style=\"text-align: right;\">\n",
       "      <th></th>\n",
       "      <th>name</th>\n",
       "      <th>price</th>\n",
       "      <th>changesPercentage</th>\n",
       "      <th>change</th>\n",
       "      <th>dayLow</th>\n",
       "      <th>dayHigh</th>\n",
       "      <th>yearHigh</th>\n",
       "      <th>yearLow</th>\n",
       "      <th>marketCap</th>\n",
       "      <th>priceAvg50</th>\n",
       "      <th>...</th>\n",
       "      <th>volume</th>\n",
       "      <th>avgVolume</th>\n",
       "      <th>exchange</th>\n",
       "      <th>open</th>\n",
       "      <th>previousClose</th>\n",
       "      <th>eps</th>\n",
       "      <th>pe</th>\n",
       "      <th>earningsAnnouncement</th>\n",
       "      <th>sharesOutstanding</th>\n",
       "      <th>timestamp</th>\n",
       "    </tr>\n",
       "    <tr>\n",
       "      <th>symbol</th>\n",
       "      <th></th>\n",
       "      <th></th>\n",
       "      <th></th>\n",
       "      <th></th>\n",
       "      <th></th>\n",
       "      <th></th>\n",
       "      <th></th>\n",
       "      <th></th>\n",
       "      <th></th>\n",
       "      <th></th>\n",
       "      <th></th>\n",
       "      <th></th>\n",
       "      <th></th>\n",
       "      <th></th>\n",
       "      <th></th>\n",
       "      <th></th>\n",
       "      <th></th>\n",
       "      <th></th>\n",
       "      <th></th>\n",
       "      <th></th>\n",
       "      <th></th>\n",
       "    </tr>\n",
       "  </thead>\n",
       "  <tbody>\n",
       "    <tr>\n",
       "      <th>ISRG</th>\n",
       "      <td>Intuitive Surgical, Inc.</td>\n",
       "      <td>752.68</td>\n",
       "      <td>1.58</td>\n",
       "      <td>11.68</td>\n",
       "      <td>716.4700</td>\n",
       "      <td>760.8826</td>\n",
       "      <td>778.83</td>\n",
       "      <td>360.500</td>\n",
       "      <td>8.808313e+10</td>\n",
       "      <td>709.220600</td>\n",
       "      <td>...</td>\n",
       "      <td>907898.0</td>\n",
       "      <td>628081.0</td>\n",
       "      <td>NASDAQ</td>\n",
       "      <td>725.00</td>\n",
       "      <td>741.00</td>\n",
       "      <td>8.778</td>\n",
       "      <td>85.746185</td>\n",
       "      <td>2020-10-15T16:05:10.000+0000</td>\n",
       "      <td>1.170260e+08</td>\n",
       "      <td>1602887014</td>\n",
       "    </tr>\n",
       "    <tr>\n",
       "      <th>LULU</th>\n",
       "      <td>Lululemon Athletica Inc.</td>\n",
       "      <td>349.95</td>\n",
       "      <td>-1.04</td>\n",
       "      <td>-3.66</td>\n",
       "      <td>348.2900</td>\n",
       "      <td>358.2400</td>\n",
       "      <td>399.90</td>\n",
       "      <td>128.850</td>\n",
       "      <td>4.560304e+10</td>\n",
       "      <td>337.251430</td>\n",
       "      <td>...</td>\n",
       "      <td>828974.0</td>\n",
       "      <td>1820547.0</td>\n",
       "      <td>NASDAQ</td>\n",
       "      <td>356.15</td>\n",
       "      <td>353.61</td>\n",
       "      <td>4.122</td>\n",
       "      <td>84.898110</td>\n",
       "      <td>2020-09-08T16:05:00.000+0000</td>\n",
       "      <td>1.303130e+08</td>\n",
       "      <td>1602887014</td>\n",
       "    </tr>\n",
       "    <tr>\n",
       "      <th>STRS</th>\n",
       "      <td>Stratus Properties Inc.</td>\n",
       "      <td>23.01</td>\n",
       "      <td>-0.90</td>\n",
       "      <td>-0.21</td>\n",
       "      <td>22.9000</td>\n",
       "      <td>23.3750</td>\n",
       "      <td>32.22</td>\n",
       "      <td>12.000</td>\n",
       "      <td>1.889153e+08</td>\n",
       "      <td>21.602571</td>\n",
       "      <td>...</td>\n",
       "      <td>3759.0</td>\n",
       "      <td>8610.0</td>\n",
       "      <td>NASDAQ</td>\n",
       "      <td>22.90</td>\n",
       "      <td>23.22</td>\n",
       "      <td>0.259</td>\n",
       "      <td>88.841700</td>\n",
       "      <td>2020-11-09T11:00:00.000+0000</td>\n",
       "      <td>8.210140e+06</td>\n",
       "      <td>1602887014</td>\n",
       "    </tr>\n",
       "    <tr>\n",
       "      <th>FSV</th>\n",
       "      <td>FirstService Corporation</td>\n",
       "      <td>135.19</td>\n",
       "      <td>-0.52</td>\n",
       "      <td>-0.70</td>\n",
       "      <td>133.9800</td>\n",
       "      <td>137.6350</td>\n",
       "      <td>138.86</td>\n",
       "      <td>57.380</td>\n",
       "      <td>5.917780e+09</td>\n",
       "      <td>129.793720</td>\n",
       "      <td>...</td>\n",
       "      <td>25811.0</td>\n",
       "      <td>63527.0</td>\n",
       "      <td>NASDAQ</td>\n",
       "      <td>136.64</td>\n",
       "      <td>135.89</td>\n",
       "      <td>1.395</td>\n",
       "      <td>96.910400</td>\n",
       "      <td>None</td>\n",
       "      <td>4.377380e+07</td>\n",
       "      <td>1602887014</td>\n",
       "    </tr>\n",
       "    <tr>\n",
       "      <th>LSCC</th>\n",
       "      <td>Lattice Semiconductor Corporation</td>\n",
       "      <td>33.56</td>\n",
       "      <td>-0.83</td>\n",
       "      <td>-0.28</td>\n",
       "      <td>33.3300</td>\n",
       "      <td>34.0900</td>\n",
       "      <td>35.16</td>\n",
       "      <td>13.540</td>\n",
       "      <td>4.540970e+09</td>\n",
       "      <td>29.373428</td>\n",
       "      <td>...</td>\n",
       "      <td>601152.0</td>\n",
       "      <td>1085984.0</td>\n",
       "      <td>NASDAQ</td>\n",
       "      <td>33.93</td>\n",
       "      <td>33.84</td>\n",
       "      <td>0.339</td>\n",
       "      <td>98.997055</td>\n",
       "      <td>2020-10-27T20:00:00.000+0000</td>\n",
       "      <td>1.353090e+08</td>\n",
       "      <td>1602887014</td>\n",
       "    </tr>\n",
       "    <tr>\n",
       "      <th>TTGT</th>\n",
       "      <td>TechTarget, Inc.</td>\n",
       "      <td>49.56</td>\n",
       "      <td>-0.12</td>\n",
       "      <td>-0.06</td>\n",
       "      <td>49.1101</td>\n",
       "      <td>50.4200</td>\n",
       "      <td>51.18</td>\n",
       "      <td>16.820</td>\n",
       "      <td>1.364724e+09</td>\n",
       "      <td>43.049427</td>\n",
       "      <td>...</td>\n",
       "      <td>89170.0</td>\n",
       "      <td>282741.0</td>\n",
       "      <td>NASDAQ</td>\n",
       "      <td>49.40</td>\n",
       "      <td>49.62</td>\n",
       "      <td>0.588</td>\n",
       "      <td>84.285710</td>\n",
       "      <td>2020-11-04T21:00:00.000+0000</td>\n",
       "      <td>2.753680e+07</td>\n",
       "      <td>1602887014</td>\n",
       "    </tr>\n",
       "    <tr>\n",
       "      <th>CGNX</th>\n",
       "      <td>Cognex Corporation</td>\n",
       "      <td>68.88</td>\n",
       "      <td>2.48</td>\n",
       "      <td>1.67</td>\n",
       "      <td>68.0881</td>\n",
       "      <td>69.5925</td>\n",
       "      <td>71.76</td>\n",
       "      <td>35.200</td>\n",
       "      <td>1.191948e+10</td>\n",
       "      <td>65.221430</td>\n",
       "      <td>...</td>\n",
       "      <td>653353.0</td>\n",
       "      <td>769713.0</td>\n",
       "      <td>NASDAQ</td>\n",
       "      <td>68.57</td>\n",
       "      <td>67.21</td>\n",
       "      <td>0.800</td>\n",
       "      <td>86.100000</td>\n",
       "      <td>2020-10-28T20:00:00.000+0000</td>\n",
       "      <td>1.730470e+08</td>\n",
       "      <td>1602887014</td>\n",
       "    </tr>\n",
       "    <tr>\n",
       "      <th>MITK</th>\n",
       "      <td>Mitek Systems, Inc.</td>\n",
       "      <td>12.90</td>\n",
       "      <td>1.65</td>\n",
       "      <td>0.21</td>\n",
       "      <td>12.4700</td>\n",
       "      <td>13.0533</td>\n",
       "      <td>14.50</td>\n",
       "      <td>5.260</td>\n",
       "      <td>5.326178e+08</td>\n",
       "      <td>12.642858</td>\n",
       "      <td>...</td>\n",
       "      <td>1514124.0</td>\n",
       "      <td>524650.0</td>\n",
       "      <td>NASDAQ</td>\n",
       "      <td>12.73</td>\n",
       "      <td>12.69</td>\n",
       "      <td>0.145</td>\n",
       "      <td>88.965515</td>\n",
       "      <td>2020-07-30T16:30:00.000+0000</td>\n",
       "      <td>4.128820e+07</td>\n",
       "      <td>1602887014</td>\n",
       "    </tr>\n",
       "    <tr>\n",
       "      <th>NFLX</th>\n",
       "      <td>Netflix, Inc.</td>\n",
       "      <td>530.79</td>\n",
       "      <td>-2.06</td>\n",
       "      <td>-11.15</td>\n",
       "      <td>530.0300</td>\n",
       "      <td>554.3300</td>\n",
       "      <td>575.37</td>\n",
       "      <td>265.800</td>\n",
       "      <td>2.340864e+11</td>\n",
       "      <td>509.331730</td>\n",
       "      <td>...</td>\n",
       "      <td>6063680.0</td>\n",
       "      <td>6574067.0</td>\n",
       "      <td>NASDAQ</td>\n",
       "      <td>549.50</td>\n",
       "      <td>541.94</td>\n",
       "      <td>5.922</td>\n",
       "      <td>89.630190</td>\n",
       "      <td>2020-10-20T23:00:00.000+0000</td>\n",
       "      <td>4.410150e+08</td>\n",
       "      <td>1602887014</td>\n",
       "    </tr>\n",
       "    <tr>\n",
       "      <th>LMNX</th>\n",
       "      <td>Luminex Corporation</td>\n",
       "      <td>21.92</td>\n",
       "      <td>-3.35</td>\n",
       "      <td>-0.76</td>\n",
       "      <td>21.9100</td>\n",
       "      <td>22.9900</td>\n",
       "      <td>41.69</td>\n",
       "      <td>17.350</td>\n",
       "      <td>1.016279e+09</td>\n",
       "      <td>25.105999</td>\n",
       "      <td>...</td>\n",
       "      <td>428400.0</td>\n",
       "      <td>724663.0</td>\n",
       "      <td>NASDAQ</td>\n",
       "      <td>22.68</td>\n",
       "      <td>22.68</td>\n",
       "      <td>0.247</td>\n",
       "      <td>88.744940</td>\n",
       "      <td>2020-11-02T21:00:00.000+0000</td>\n",
       "      <td>4.636310e+07</td>\n",
       "      <td>1602887014</td>\n",
       "    </tr>\n",
       "    <tr>\n",
       "      <th>ATRS</th>\n",
       "      <td>Antares Pharma, Inc.</td>\n",
       "      <td>3.37</td>\n",
       "      <td>2.12</td>\n",
       "      <td>0.07</td>\n",
       "      <td>3.2900</td>\n",
       "      <td>3.3800</td>\n",
       "      <td>5.13</td>\n",
       "      <td>1.600</td>\n",
       "      <td>5.597368e+08</td>\n",
       "      <td>2.872571</td>\n",
       "      <td>...</td>\n",
       "      <td>612694.0</td>\n",
       "      <td>911883.0</td>\n",
       "      <td>NASDAQ</td>\n",
       "      <td>3.29</td>\n",
       "      <td>3.30</td>\n",
       "      <td>0.034</td>\n",
       "      <td>99.117640</td>\n",
       "      <td>2020-08-06T12:30:00.000+0000</td>\n",
       "      <td>1.660940e+08</td>\n",
       "      <td>1602887014</td>\n",
       "    </tr>\n",
       "    <tr>\n",
       "      <th>SPSC</th>\n",
       "      <td>SPS Commerce, Inc.</td>\n",
       "      <td>87.29</td>\n",
       "      <td>0.81</td>\n",
       "      <td>0.70</td>\n",
       "      <td>86.2100</td>\n",
       "      <td>87.6200</td>\n",
       "      <td>88.25</td>\n",
       "      <td>31.280</td>\n",
       "      <td>3.066341e+09</td>\n",
       "      <td>78.950000</td>\n",
       "      <td>...</td>\n",
       "      <td>91441.0</td>\n",
       "      <td>218764.0</td>\n",
       "      <td>NASDAQ</td>\n",
       "      <td>86.71</td>\n",
       "      <td>86.59</td>\n",
       "      <td>1.090</td>\n",
       "      <td>80.082565</td>\n",
       "      <td>2020-10-28T20:00:00.000+0000</td>\n",
       "      <td>3.512820e+07</td>\n",
       "      <td>1602887014</td>\n",
       "    </tr>\n",
       "    <tr>\n",
       "      <th>CWST</th>\n",
       "      <td>Casella Waste Systems, Inc.</td>\n",
       "      <td>60.91</td>\n",
       "      <td>-0.51</td>\n",
       "      <td>-0.31</td>\n",
       "      <td>60.8400</td>\n",
       "      <td>61.7700</td>\n",
       "      <td>61.77</td>\n",
       "      <td>34.350</td>\n",
       "      <td>2.946278e+09</td>\n",
       "      <td>56.526573</td>\n",
       "      <td>...</td>\n",
       "      <td>89730.0</td>\n",
       "      <td>249173.0</td>\n",
       "      <td>NASDAQ</td>\n",
       "      <td>61.09</td>\n",
       "      <td>61.22</td>\n",
       "      <td>0.708</td>\n",
       "      <td>86.031075</td>\n",
       "      <td>2020-10-29T20:00:00.000+0000</td>\n",
       "      <td>4.837100e+07</td>\n",
       "      <td>1602887014</td>\n",
       "    </tr>\n",
       "    <tr>\n",
       "      <th>VRRM</th>\n",
       "      <td>Verra Mobility Corporation</td>\n",
       "      <td>10.21</td>\n",
       "      <td>-0.29</td>\n",
       "      <td>-0.03</td>\n",
       "      <td>10.0950</td>\n",
       "      <td>10.4100</td>\n",
       "      <td>17.20</td>\n",
       "      <td>5.633</td>\n",
       "      <td>1.651335e+09</td>\n",
       "      <td>10.143857</td>\n",
       "      <td>...</td>\n",
       "      <td>949773.0</td>\n",
       "      <td>845518.0</td>\n",
       "      <td>NASDAQ</td>\n",
       "      <td>10.18</td>\n",
       "      <td>10.24</td>\n",
       "      <td>0.114</td>\n",
       "      <td>89.561400</td>\n",
       "      <td>2020-08-06T16:05:06.000+0000</td>\n",
       "      <td>1.617370e+08</td>\n",
       "      <td>1602887014</td>\n",
       "    </tr>\n",
       "    <tr>\n",
       "      <th>IDXX</th>\n",
       "      <td>IDEXX Laboratories, Inc.</td>\n",
       "      <td>423.75</td>\n",
       "      <td>0.24</td>\n",
       "      <td>1.03</td>\n",
       "      <td>420.8100</td>\n",
       "      <td>429.6950</td>\n",
       "      <td>430.86</td>\n",
       "      <td>168.650</td>\n",
       "      <td>3.604193e+10</td>\n",
       "      <td>383.416560</td>\n",
       "      <td>...</td>\n",
       "      <td>249915.0</td>\n",
       "      <td>426518.0</td>\n",
       "      <td>NASDAQ</td>\n",
       "      <td>423.76</td>\n",
       "      <td>422.72</td>\n",
       "      <td>5.286</td>\n",
       "      <td>80.164590</td>\n",
       "      <td>2020-10-29T12:30:00.000+0000</td>\n",
       "      <td>8.505471e+07</td>\n",
       "      <td>1602887014</td>\n",
       "    </tr>\n",
       "    <tr>\n",
       "      <th>HCCI</th>\n",
       "      <td>Heritage-Crystal Clean, Inc</td>\n",
       "      <td>15.32</td>\n",
       "      <td>-4.61</td>\n",
       "      <td>-0.74</td>\n",
       "      <td>15.3000</td>\n",
       "      <td>15.9150</td>\n",
       "      <td>32.58</td>\n",
       "      <td>11.300</td>\n",
       "      <td>3.675728e+08</td>\n",
       "      <td>14.623428</td>\n",
       "      <td>...</td>\n",
       "      <td>135113.0</td>\n",
       "      <td>49655.0</td>\n",
       "      <td>NASDAQ</td>\n",
       "      <td>15.77</td>\n",
       "      <td>16.06</td>\n",
       "      <td>0.191</td>\n",
       "      <td>80.209420</td>\n",
       "      <td>2020-10-14T16:15:00.000+0000</td>\n",
       "      <td>2.399300e+07</td>\n",
       "      <td>1602887014</td>\n",
       "    </tr>\n",
       "    <tr>\n",
       "      <th>ENPH</th>\n",
       "      <td>Enphase Energy, Inc.</td>\n",
       "      <td>110.84</td>\n",
       "      <td>0.12</td>\n",
       "      <td>0.13</td>\n",
       "      <td>108.7600</td>\n",
       "      <td>114.3000</td>\n",
       "      <td>114.30</td>\n",
       "      <td>17.180</td>\n",
       "      <td>1.396662e+10</td>\n",
       "      <td>81.645140</td>\n",
       "      <td>...</td>\n",
       "      <td>3831770.0</td>\n",
       "      <td>3585624.0</td>\n",
       "      <td>NASDAQ</td>\n",
       "      <td>112.75</td>\n",
       "      <td>110.71</td>\n",
       "      <td>1.243</td>\n",
       "      <td>89.171360</td>\n",
       "      <td>2020-10-27T20:00:00.000+0000</td>\n",
       "      <td>1.260070e+08</td>\n",
       "      <td>1602887014</td>\n",
       "    </tr>\n",
       "    <tr>\n",
       "      <th>FSLR</th>\n",
       "      <td>First Solar, Inc.</td>\n",
       "      <td>84.18</td>\n",
       "      <td>2.31</td>\n",
       "      <td>1.90</td>\n",
       "      <td>81.6378</td>\n",
       "      <td>85.5000</td>\n",
       "      <td>85.66</td>\n",
       "      <td>28.470</td>\n",
       "      <td>8.920387e+09</td>\n",
       "      <td>71.660286</td>\n",
       "      <td>...</td>\n",
       "      <td>3249765.0</td>\n",
       "      <td>2061464.0</td>\n",
       "      <td>NASDAQ</td>\n",
       "      <td>82.64</td>\n",
       "      <td>82.28</td>\n",
       "      <td>0.936</td>\n",
       "      <td>89.935900</td>\n",
       "      <td>2020-10-27T20:00:00.000+0000</td>\n",
       "      <td>1.059680e+08</td>\n",
       "      <td>1602887014</td>\n",
       "    </tr>\n",
       "    <tr>\n",
       "      <th>SEDG</th>\n",
       "      <td>SolarEdge Technologies, Inc.</td>\n",
       "      <td>302.02</td>\n",
       "      <td>-0.16</td>\n",
       "      <td>-0.48</td>\n",
       "      <td>300.0500</td>\n",
       "      <td>315.4300</td>\n",
       "      <td>315.43</td>\n",
       "      <td>67.020</td>\n",
       "      <td>1.513679e+10</td>\n",
       "      <td>228.729140</td>\n",
       "      <td>...</td>\n",
       "      <td>1672103.0</td>\n",
       "      <td>1191795.0</td>\n",
       "      <td>NASDAQ</td>\n",
       "      <td>310.00</td>\n",
       "      <td>302.50</td>\n",
       "      <td>3.344</td>\n",
       "      <td>90.316980</td>\n",
       "      <td>2020-08-03T16:05:00.000+0000</td>\n",
       "      <td>5.011850e+07</td>\n",
       "      <td>1602887014</td>\n",
       "    </tr>\n",
       "    <tr>\n",
       "      <th>ABMD</th>\n",
       "      <td>Abiomed, Inc.</td>\n",
       "      <td>286.48</td>\n",
       "      <td>1.03</td>\n",
       "      <td>2.91</td>\n",
       "      <td>279.9700</td>\n",
       "      <td>289.1100</td>\n",
       "      <td>319.19</td>\n",
       "      <td>119.010</td>\n",
       "      <td>1.290515e+10</td>\n",
       "      <td>277.357420</td>\n",
       "      <td>...</td>\n",
       "      <td>260026.0</td>\n",
       "      <td>317543.0</td>\n",
       "      <td>NASDAQ</td>\n",
       "      <td>283.58</td>\n",
       "      <td>283.57</td>\n",
       "      <td>3.473</td>\n",
       "      <td>82.487760</td>\n",
       "      <td>2020-10-29T12:30:00.000+0000</td>\n",
       "      <td>4.504730e+07</td>\n",
       "      <td>1602887014</td>\n",
       "    </tr>\n",
       "    <tr>\n",
       "      <th>HEBT</th>\n",
       "      <td>Hebron Technology Co., Ltd.</td>\n",
       "      <td>15.40</td>\n",
       "      <td>-3.33</td>\n",
       "      <td>-0.53</td>\n",
       "      <td>14.4500</td>\n",
       "      <td>15.9500</td>\n",
       "      <td>23.99</td>\n",
       "      <td>3.780</td>\n",
       "      <td>3.911123e+08</td>\n",
       "      <td>13.955571</td>\n",
       "      <td>...</td>\n",
       "      <td>28797.0</td>\n",
       "      <td>60900.0</td>\n",
       "      <td>NASDAQ</td>\n",
       "      <td>15.59</td>\n",
       "      <td>15.93</td>\n",
       "      <td>0.168</td>\n",
       "      <td>91.666664</td>\n",
       "      <td>2019-05-16T00:00:00.000+0000</td>\n",
       "      <td>2.539690e+07</td>\n",
       "      <td>1602887014</td>\n",
       "    </tr>\n",
       "    <tr>\n",
       "      <th>NOVT</th>\n",
       "      <td>Novanta Inc.</td>\n",
       "      <td>114.99</td>\n",
       "      <td>0.57</td>\n",
       "      <td>0.65</td>\n",
       "      <td>113.9500</td>\n",
       "      <td>115.3900</td>\n",
       "      <td>117.93</td>\n",
       "      <td>66.440</td>\n",
       "      <td>4.042531e+09</td>\n",
       "      <td>106.202286</td>\n",
       "      <td>...</td>\n",
       "      <td>53765.0</td>\n",
       "      <td>103576.0</td>\n",
       "      <td>NASDAQ</td>\n",
       "      <td>113.95</td>\n",
       "      <td>114.34</td>\n",
       "      <td>1.170</td>\n",
       "      <td>98.282050</td>\n",
       "      <td>2020-11-10T13:30:00.000+0000</td>\n",
       "      <td>3.515550e+07</td>\n",
       "      <td>1602887014</td>\n",
       "    </tr>\n",
       "    <tr>\n",
       "      <th>FISV</th>\n",
       "      <td>Fiserv, Inc.</td>\n",
       "      <td>101.22</td>\n",
       "      <td>-0.58</td>\n",
       "      <td>-0.59</td>\n",
       "      <td>101.0100</td>\n",
       "      <td>103.5300</td>\n",
       "      <td>125.05</td>\n",
       "      <td>73.500</td>\n",
       "      <td>6.778197e+10</td>\n",
       "      <td>100.995710</td>\n",
       "      <td>...</td>\n",
       "      <td>2856536.0</td>\n",
       "      <td>4755200.0</td>\n",
       "      <td>NASDAQ</td>\n",
       "      <td>102.31</td>\n",
       "      <td>101.81</td>\n",
       "      <td>1.257</td>\n",
       "      <td>80.525060</td>\n",
       "      <td>2020-10-27T20:00:00.000+0000</td>\n",
       "      <td>6.696500e+08</td>\n",
       "      <td>1602887014</td>\n",
       "    </tr>\n",
       "    <tr>\n",
       "      <th>LPTH</th>\n",
       "      <td>LightPath Technologies, Inc.</td>\n",
       "      <td>2.49</td>\n",
       "      <td>-0.80</td>\n",
       "      <td>-0.02</td>\n",
       "      <td>2.4601</td>\n",
       "      <td>2.5200</td>\n",
       "      <td>4.87</td>\n",
       "      <td>0.540</td>\n",
       "      <td>6.477187e+07</td>\n",
       "      <td>2.360286</td>\n",
       "      <td>...</td>\n",
       "      <td>52961.0</td>\n",
       "      <td>852406.0</td>\n",
       "      <td>NASDAQ</td>\n",
       "      <td>2.52</td>\n",
       "      <td>2.51</td>\n",
       "      <td>0.030</td>\n",
       "      <td>83.000000</td>\n",
       "      <td>2020-09-10T20:00:00.000+0000</td>\n",
       "      <td>2.601280e+07</td>\n",
       "      <td>1602887014</td>\n",
       "    </tr>\n",
       "    <tr>\n",
       "      <th>OLED</th>\n",
       "      <td>Universal Display Corporation</td>\n",
       "      <td>190.89</td>\n",
       "      <td>-0.76</td>\n",
       "      <td>-1.47</td>\n",
       "      <td>190.4926</td>\n",
       "      <td>194.1900</td>\n",
       "      <td>222.20</td>\n",
       "      <td>105.110</td>\n",
       "      <td>8.990976e+09</td>\n",
       "      <td>178.612850</td>\n",
       "      <td>...</td>\n",
       "      <td>244581.0</td>\n",
       "      <td>395844.0</td>\n",
       "      <td>NASDAQ</td>\n",
       "      <td>194.19</td>\n",
       "      <td>192.36</td>\n",
       "      <td>2.158</td>\n",
       "      <td>88.456900</td>\n",
       "      <td>2020-10-29T20:00:00.000+0000</td>\n",
       "      <td>4.710030e+07</td>\n",
       "      <td>1602887014</td>\n",
       "    </tr>\n",
       "    <tr>\n",
       "      <th>TXRH</th>\n",
       "      <td>Texas Roadhouse, Inc.</td>\n",
       "      <td>73.87</td>\n",
       "      <td>0.16</td>\n",
       "      <td>0.12</td>\n",
       "      <td>73.0000</td>\n",
       "      <td>74.3500</td>\n",
       "      <td>74.35</td>\n",
       "      <td>25.150</td>\n",
       "      <td>5.126874e+09</td>\n",
       "      <td>64.862290</td>\n",
       "      <td>...</td>\n",
       "      <td>680660.0</td>\n",
       "      <td>916612.0</td>\n",
       "      <td>NASDAQ</td>\n",
       "      <td>73.58</td>\n",
       "      <td>73.75</td>\n",
       "      <td>0.889</td>\n",
       "      <td>83.093370</td>\n",
       "      <td>2020-10-28T20:00:00.000+0000</td>\n",
       "      <td>6.940400e+07</td>\n",
       "      <td>1602887014</td>\n",
       "    </tr>\n",
       "    <tr>\n",
       "      <th>PYPL</th>\n",
       "      <td>PayPal Holdings, Inc.</td>\n",
       "      <td>204.45</td>\n",
       "      <td>0.64</td>\n",
       "      <td>1.31</td>\n",
       "      <td>202.2200</td>\n",
       "      <td>207.4700</td>\n",
       "      <td>212.45</td>\n",
       "      <td>82.070</td>\n",
       "      <td>2.398812e+11</td>\n",
       "      <td>193.537430</td>\n",
       "      <td>...</td>\n",
       "      <td>9464239.0</td>\n",
       "      <td>7833246.0</td>\n",
       "      <td>NASDAQ</td>\n",
       "      <td>204.44</td>\n",
       "      <td>203.14</td>\n",
       "      <td>2.179</td>\n",
       "      <td>93.827446</td>\n",
       "      <td>2020-11-03T00:00:00.000+0000</td>\n",
       "      <td>1.173300e+09</td>\n",
       "      <td>1602887014</td>\n",
       "    </tr>\n",
       "    <tr>\n",
       "      <th>HABT</th>\n",
       "      <td>The Habit Restaurants, Inc.</td>\n",
       "      <td>13.98</td>\n",
       "      <td>0.94</td>\n",
       "      <td>0.13</td>\n",
       "      <td>13.8000</td>\n",
       "      <td>13.9900</td>\n",
       "      <td>14.10</td>\n",
       "      <td>7.960</td>\n",
       "      <td>3.652638e+08</td>\n",
       "      <td>13.980000</td>\n",
       "      <td>...</td>\n",
       "      <td>4135398.0</td>\n",
       "      <td>0.0</td>\n",
       "      <td>NASDAQ</td>\n",
       "      <td>13.80</td>\n",
       "      <td>13.85</td>\n",
       "      <td>0.168</td>\n",
       "      <td>83.214290</td>\n",
       "      <td>2019-10-31T00:00:00.000+0000</td>\n",
       "      <td>2.612760e+07</td>\n",
       "      <td>1602887014</td>\n",
       "    </tr>\n",
       "    <tr>\n",
       "      <th>PCOM</th>\n",
       "      <td>Points International Ltd.</td>\n",
       "      <td>9.83</td>\n",
       "      <td>0.41</td>\n",
       "      <td>0.04</td>\n",
       "      <td>9.7100</td>\n",
       "      <td>9.9065</td>\n",
       "      <td>19.06</td>\n",
       "      <td>6.890</td>\n",
       "      <td>1.302662e+08</td>\n",
       "      <td>10.056000</td>\n",
       "      <td>...</td>\n",
       "      <td>4558.0</td>\n",
       "      <td>31200.0</td>\n",
       "      <td>NASDAQ</td>\n",
       "      <td>9.71</td>\n",
       "      <td>9.79</td>\n",
       "      <td>0.122</td>\n",
       "      <td>80.573770</td>\n",
       "      <td>None</td>\n",
       "      <td>1.325190e+07</td>\n",
       "      <td>1602887014</td>\n",
       "    </tr>\n",
       "    <tr>\n",
       "      <th>BEAT</th>\n",
       "      <td>BioTelemetry, Inc.</td>\n",
       "      <td>44.99</td>\n",
       "      <td>-0.57</td>\n",
       "      <td>-0.26</td>\n",
       "      <td>44.8300</td>\n",
       "      <td>45.7400</td>\n",
       "      <td>55.85</td>\n",
       "      <td>27.350</td>\n",
       "      <td>1.538006e+09</td>\n",
       "      <td>42.279430</td>\n",
       "      <td>...</td>\n",
       "      <td>148738.0</td>\n",
       "      <td>348176.0</td>\n",
       "      <td>NASDAQ</td>\n",
       "      <td>45.25</td>\n",
       "      <td>45.25</td>\n",
       "      <td>0.530</td>\n",
       "      <td>84.886800</td>\n",
       "      <td>2020-07-30T16:05:11.000+0000</td>\n",
       "      <td>3.418550e+07</td>\n",
       "      <td>1602887014</td>\n",
       "    </tr>\n",
       "    <tr>\n",
       "      <th>ASTE</th>\n",
       "      <td>Astec Industries, Inc.</td>\n",
       "      <td>57.69</td>\n",
       "      <td>-0.22</td>\n",
       "      <td>-0.13</td>\n",
       "      <td>57.5150</td>\n",
       "      <td>59.6490</td>\n",
       "      <td>63.74</td>\n",
       "      <td>25.170</td>\n",
       "      <td>1.303967e+09</td>\n",
       "      <td>53.984856</td>\n",
       "      <td>...</td>\n",
       "      <td>96616.0</td>\n",
       "      <td>149120.0</td>\n",
       "      <td>NASDAQ</td>\n",
       "      <td>57.68</td>\n",
       "      <td>57.82</td>\n",
       "      <td>0.643</td>\n",
       "      <td>89.720060</td>\n",
       "      <td>2020-08-05T07:00:12.000+0000</td>\n",
       "      <td>2.260300e+07</td>\n",
       "      <td>1602887014</td>\n",
       "    </tr>\n",
       "    <tr>\n",
       "      <th>SMTC</th>\n",
       "      <td>Semtech Corporation</td>\n",
       "      <td>56.35</td>\n",
       "      <td>-1.35</td>\n",
       "      <td>-0.77</td>\n",
       "      <td>56.2350</td>\n",
       "      <td>57.4900</td>\n",
       "      <td>64.10</td>\n",
       "      <td>26.030</td>\n",
       "      <td>3.671890e+09</td>\n",
       "      <td>55.486572</td>\n",
       "      <td>...</td>\n",
       "      <td>195207.0</td>\n",
       "      <td>461041.0</td>\n",
       "      <td>NASDAQ</td>\n",
       "      <td>57.36</td>\n",
       "      <td>57.12</td>\n",
       "      <td>0.639</td>\n",
       "      <td>88.184660</td>\n",
       "      <td>2020-08-26T16:15:00.000+0000</td>\n",
       "      <td>6.516220e+07</td>\n",
       "      <td>1602887014</td>\n",
       "    </tr>\n",
       "    <tr>\n",
       "      <th>RFIL</th>\n",
       "      <td>RF Industries, Ltd.</td>\n",
       "      <td>4.49</td>\n",
       "      <td>1.35</td>\n",
       "      <td>0.06</td>\n",
       "      <td>4.4462</td>\n",
       "      <td>4.5200</td>\n",
       "      <td>7.07</td>\n",
       "      <td>3.310</td>\n",
       "      <td>4.387412e+07</td>\n",
       "      <td>4.451714</td>\n",
       "      <td>...</td>\n",
       "      <td>11276.0</td>\n",
       "      <td>40078.0</td>\n",
       "      <td>NASDAQ</td>\n",
       "      <td>4.48</td>\n",
       "      <td>4.43</td>\n",
       "      <td>0.056</td>\n",
       "      <td>80.178566</td>\n",
       "      <td>2020-09-10T16:01:00.000+0000</td>\n",
       "      <td>9.771520e+06</td>\n",
       "      <td>1602887014</td>\n",
       "    </tr>\n",
       "  </tbody>\n",
       "</table>\n",
       "<p>33 rows × 21 columns</p>\n",
       "</div>"
      ],
      "text/plain": [
       "                                     name   price  changesPercentage  change  \\\n",
       "symbol                                                                         \n",
       "ISRG             Intuitive Surgical, Inc.  752.68               1.58   11.68   \n",
       "LULU             Lululemon Athletica Inc.  349.95              -1.04   -3.66   \n",
       "STRS              Stratus Properties Inc.   23.01              -0.90   -0.21   \n",
       "FSV              FirstService Corporation  135.19              -0.52   -0.70   \n",
       "LSCC    Lattice Semiconductor Corporation   33.56              -0.83   -0.28   \n",
       "TTGT                     TechTarget, Inc.   49.56              -0.12   -0.06   \n",
       "CGNX                   Cognex Corporation   68.88               2.48    1.67   \n",
       "MITK                  Mitek Systems, Inc.   12.90               1.65    0.21   \n",
       "NFLX                        Netflix, Inc.  530.79              -2.06  -11.15   \n",
       "LMNX                  Luminex Corporation   21.92              -3.35   -0.76   \n",
       "ATRS                 Antares Pharma, Inc.    3.37               2.12    0.07   \n",
       "SPSC                   SPS Commerce, Inc.   87.29               0.81    0.70   \n",
       "CWST          Casella Waste Systems, Inc.   60.91              -0.51   -0.31   \n",
       "VRRM           Verra Mobility Corporation   10.21              -0.29   -0.03   \n",
       "IDXX             IDEXX Laboratories, Inc.  423.75               0.24    1.03   \n",
       "HCCI          Heritage-Crystal Clean, Inc   15.32              -4.61   -0.74   \n",
       "ENPH                 Enphase Energy, Inc.  110.84               0.12    0.13   \n",
       "FSLR                    First Solar, Inc.   84.18               2.31    1.90   \n",
       "SEDG         SolarEdge Technologies, Inc.  302.02              -0.16   -0.48   \n",
       "ABMD                        Abiomed, Inc.  286.48               1.03    2.91   \n",
       "HEBT          Hebron Technology Co., Ltd.   15.40              -3.33   -0.53   \n",
       "NOVT                         Novanta Inc.  114.99               0.57    0.65   \n",
       "FISV                         Fiserv, Inc.  101.22              -0.58   -0.59   \n",
       "LPTH         LightPath Technologies, Inc.    2.49              -0.80   -0.02   \n",
       "OLED        Universal Display Corporation  190.89              -0.76   -1.47   \n",
       "TXRH                Texas Roadhouse, Inc.   73.87               0.16    0.12   \n",
       "PYPL                PayPal Holdings, Inc.  204.45               0.64    1.31   \n",
       "HABT          The Habit Restaurants, Inc.   13.98               0.94    0.13   \n",
       "PCOM            Points International Ltd.    9.83               0.41    0.04   \n",
       "BEAT                   BioTelemetry, Inc.   44.99              -0.57   -0.26   \n",
       "ASTE               Astec Industries, Inc.   57.69              -0.22   -0.13   \n",
       "SMTC                  Semtech Corporation   56.35              -1.35   -0.77   \n",
       "RFIL                  RF Industries, Ltd.    4.49               1.35    0.06   \n",
       "\n",
       "          dayLow   dayHigh  yearHigh  yearLow     marketCap  priceAvg50  ...  \\\n",
       "symbol                                                                   ...   \n",
       "ISRG    716.4700  760.8826    778.83  360.500  8.808313e+10  709.220600  ...   \n",
       "LULU    348.2900  358.2400    399.90  128.850  4.560304e+10  337.251430  ...   \n",
       "STRS     22.9000   23.3750     32.22   12.000  1.889153e+08   21.602571  ...   \n",
       "FSV     133.9800  137.6350    138.86   57.380  5.917780e+09  129.793720  ...   \n",
       "LSCC     33.3300   34.0900     35.16   13.540  4.540970e+09   29.373428  ...   \n",
       "TTGT     49.1101   50.4200     51.18   16.820  1.364724e+09   43.049427  ...   \n",
       "CGNX     68.0881   69.5925     71.76   35.200  1.191948e+10   65.221430  ...   \n",
       "MITK     12.4700   13.0533     14.50    5.260  5.326178e+08   12.642858  ...   \n",
       "NFLX    530.0300  554.3300    575.37  265.800  2.340864e+11  509.331730  ...   \n",
       "LMNX     21.9100   22.9900     41.69   17.350  1.016279e+09   25.105999  ...   \n",
       "ATRS      3.2900    3.3800      5.13    1.600  5.597368e+08    2.872571  ...   \n",
       "SPSC     86.2100   87.6200     88.25   31.280  3.066341e+09   78.950000  ...   \n",
       "CWST     60.8400   61.7700     61.77   34.350  2.946278e+09   56.526573  ...   \n",
       "VRRM     10.0950   10.4100     17.20    5.633  1.651335e+09   10.143857  ...   \n",
       "IDXX    420.8100  429.6950    430.86  168.650  3.604193e+10  383.416560  ...   \n",
       "HCCI     15.3000   15.9150     32.58   11.300  3.675728e+08   14.623428  ...   \n",
       "ENPH    108.7600  114.3000    114.30   17.180  1.396662e+10   81.645140  ...   \n",
       "FSLR     81.6378   85.5000     85.66   28.470  8.920387e+09   71.660286  ...   \n",
       "SEDG    300.0500  315.4300    315.43   67.020  1.513679e+10  228.729140  ...   \n",
       "ABMD    279.9700  289.1100    319.19  119.010  1.290515e+10  277.357420  ...   \n",
       "HEBT     14.4500   15.9500     23.99    3.780  3.911123e+08   13.955571  ...   \n",
       "NOVT    113.9500  115.3900    117.93   66.440  4.042531e+09  106.202286  ...   \n",
       "FISV    101.0100  103.5300    125.05   73.500  6.778197e+10  100.995710  ...   \n",
       "LPTH      2.4601    2.5200      4.87    0.540  6.477187e+07    2.360286  ...   \n",
       "OLED    190.4926  194.1900    222.20  105.110  8.990976e+09  178.612850  ...   \n",
       "TXRH     73.0000   74.3500     74.35   25.150  5.126874e+09   64.862290  ...   \n",
       "PYPL    202.2200  207.4700    212.45   82.070  2.398812e+11  193.537430  ...   \n",
       "HABT     13.8000   13.9900     14.10    7.960  3.652638e+08   13.980000  ...   \n",
       "PCOM      9.7100    9.9065     19.06    6.890  1.302662e+08   10.056000  ...   \n",
       "BEAT     44.8300   45.7400     55.85   27.350  1.538006e+09   42.279430  ...   \n",
       "ASTE     57.5150   59.6490     63.74   25.170  1.303967e+09   53.984856  ...   \n",
       "SMTC     56.2350   57.4900     64.10   26.030  3.671890e+09   55.486572  ...   \n",
       "RFIL      4.4462    4.5200      7.07    3.310  4.387412e+07    4.451714  ...   \n",
       "\n",
       "           volume  avgVolume  exchange    open  previousClose    eps  \\\n",
       "symbol                                                                 \n",
       "ISRG     907898.0   628081.0    NASDAQ  725.00         741.00  8.778   \n",
       "LULU     828974.0  1820547.0    NASDAQ  356.15         353.61  4.122   \n",
       "STRS       3759.0     8610.0    NASDAQ   22.90          23.22  0.259   \n",
       "FSV       25811.0    63527.0    NASDAQ  136.64         135.89  1.395   \n",
       "LSCC     601152.0  1085984.0    NASDAQ   33.93          33.84  0.339   \n",
       "TTGT      89170.0   282741.0    NASDAQ   49.40          49.62  0.588   \n",
       "CGNX     653353.0   769713.0    NASDAQ   68.57          67.21  0.800   \n",
       "MITK    1514124.0   524650.0    NASDAQ   12.73          12.69  0.145   \n",
       "NFLX    6063680.0  6574067.0    NASDAQ  549.50         541.94  5.922   \n",
       "LMNX     428400.0   724663.0    NASDAQ   22.68          22.68  0.247   \n",
       "ATRS     612694.0   911883.0    NASDAQ    3.29           3.30  0.034   \n",
       "SPSC      91441.0   218764.0    NASDAQ   86.71          86.59  1.090   \n",
       "CWST      89730.0   249173.0    NASDAQ   61.09          61.22  0.708   \n",
       "VRRM     949773.0   845518.0    NASDAQ   10.18          10.24  0.114   \n",
       "IDXX     249915.0   426518.0    NASDAQ  423.76         422.72  5.286   \n",
       "HCCI     135113.0    49655.0    NASDAQ   15.77          16.06  0.191   \n",
       "ENPH    3831770.0  3585624.0    NASDAQ  112.75         110.71  1.243   \n",
       "FSLR    3249765.0  2061464.0    NASDAQ   82.64          82.28  0.936   \n",
       "SEDG    1672103.0  1191795.0    NASDAQ  310.00         302.50  3.344   \n",
       "ABMD     260026.0   317543.0    NASDAQ  283.58         283.57  3.473   \n",
       "HEBT      28797.0    60900.0    NASDAQ   15.59          15.93  0.168   \n",
       "NOVT      53765.0   103576.0    NASDAQ  113.95         114.34  1.170   \n",
       "FISV    2856536.0  4755200.0    NASDAQ  102.31         101.81  1.257   \n",
       "LPTH      52961.0   852406.0    NASDAQ    2.52           2.51  0.030   \n",
       "OLED     244581.0   395844.0    NASDAQ  194.19         192.36  2.158   \n",
       "TXRH     680660.0   916612.0    NASDAQ   73.58          73.75  0.889   \n",
       "PYPL    9464239.0  7833246.0    NASDAQ  204.44         203.14  2.179   \n",
       "HABT    4135398.0        0.0    NASDAQ   13.80          13.85  0.168   \n",
       "PCOM       4558.0    31200.0    NASDAQ    9.71           9.79  0.122   \n",
       "BEAT     148738.0   348176.0    NASDAQ   45.25          45.25  0.530   \n",
       "ASTE      96616.0   149120.0    NASDAQ   57.68          57.82  0.643   \n",
       "SMTC     195207.0   461041.0    NASDAQ   57.36          57.12  0.639   \n",
       "RFIL      11276.0    40078.0    NASDAQ    4.48           4.43  0.056   \n",
       "\n",
       "               pe          earningsAnnouncement sharesOutstanding   timestamp  \n",
       "symbol                                                                         \n",
       "ISRG    85.746185  2020-10-15T16:05:10.000+0000      1.170260e+08  1602887014  \n",
       "LULU    84.898110  2020-09-08T16:05:00.000+0000      1.303130e+08  1602887014  \n",
       "STRS    88.841700  2020-11-09T11:00:00.000+0000      8.210140e+06  1602887014  \n",
       "FSV     96.910400                          None      4.377380e+07  1602887014  \n",
       "LSCC    98.997055  2020-10-27T20:00:00.000+0000      1.353090e+08  1602887014  \n",
       "TTGT    84.285710  2020-11-04T21:00:00.000+0000      2.753680e+07  1602887014  \n",
       "CGNX    86.100000  2020-10-28T20:00:00.000+0000      1.730470e+08  1602887014  \n",
       "MITK    88.965515  2020-07-30T16:30:00.000+0000      4.128820e+07  1602887014  \n",
       "NFLX    89.630190  2020-10-20T23:00:00.000+0000      4.410150e+08  1602887014  \n",
       "LMNX    88.744940  2020-11-02T21:00:00.000+0000      4.636310e+07  1602887014  \n",
       "ATRS    99.117640  2020-08-06T12:30:00.000+0000      1.660940e+08  1602887014  \n",
       "SPSC    80.082565  2020-10-28T20:00:00.000+0000      3.512820e+07  1602887014  \n",
       "CWST    86.031075  2020-10-29T20:00:00.000+0000      4.837100e+07  1602887014  \n",
       "VRRM    89.561400  2020-08-06T16:05:06.000+0000      1.617370e+08  1602887014  \n",
       "IDXX    80.164590  2020-10-29T12:30:00.000+0000      8.505471e+07  1602887014  \n",
       "HCCI    80.209420  2020-10-14T16:15:00.000+0000      2.399300e+07  1602887014  \n",
       "ENPH    89.171360  2020-10-27T20:00:00.000+0000      1.260070e+08  1602887014  \n",
       "FSLR    89.935900  2020-10-27T20:00:00.000+0000      1.059680e+08  1602887014  \n",
       "SEDG    90.316980  2020-08-03T16:05:00.000+0000      5.011850e+07  1602887014  \n",
       "ABMD    82.487760  2020-10-29T12:30:00.000+0000      4.504730e+07  1602887014  \n",
       "HEBT    91.666664  2019-05-16T00:00:00.000+0000      2.539690e+07  1602887014  \n",
       "NOVT    98.282050  2020-11-10T13:30:00.000+0000      3.515550e+07  1602887014  \n",
       "FISV    80.525060  2020-10-27T20:00:00.000+0000      6.696500e+08  1602887014  \n",
       "LPTH    83.000000  2020-09-10T20:00:00.000+0000      2.601280e+07  1602887014  \n",
       "OLED    88.456900  2020-10-29T20:00:00.000+0000      4.710030e+07  1602887014  \n",
       "TXRH    83.093370  2020-10-28T20:00:00.000+0000      6.940400e+07  1602887014  \n",
       "PYPL    93.827446  2020-11-03T00:00:00.000+0000      1.173300e+09  1602887014  \n",
       "HABT    83.214290  2019-10-31T00:00:00.000+0000      2.612760e+07  1602887014  \n",
       "PCOM    80.573770                          None      1.325190e+07  1602887014  \n",
       "BEAT    84.886800  2020-07-30T16:05:11.000+0000      3.418550e+07  1602887014  \n",
       "ASTE    89.720060  2020-08-05T07:00:12.000+0000      2.260300e+07  1602887014  \n",
       "SMTC    88.184660  2020-08-26T16:15:00.000+0000      6.516220e+07  1602887014  \n",
       "RFIL    80.178566  2020-09-10T16:01:00.000+0000      9.771520e+06  1602887014  \n",
       "\n",
       "[33 rows x 21 columns]"
      ]
     },
     "execution_count": 18,
     "metadata": {},
     "output_type": "execute_result"
    }
   ],
   "source": [
    "nasdaq.loc[(nasdaq.pe>80) & (nasdaq.pe<100)]"
   ]
  },
  {
   "cell_type": "markdown",
   "metadata": {},
   "source": [
    "## Screeners (ponele)"
   ]
  },
  {
   "cell_type": "code",
   "execution_count": 4,
   "metadata": {},
   "outputs": [],
   "source": [
    "def screenMktCapHigh(minMktCap= 10**10):\n",
    "    url = 'https://fmpcloud.io/api/v3/stock-screener'\n",
    "    p = {'apikey': apikey, 'marketCapMoreThan':minMktCap }\n",
    "    r = requests.get(url, params = p)\n",
    "    js = r.json()\n",
    "    df = pd.DataFrame(js)\n",
    "    return df"
   ]
  },
  {
   "cell_type": "code",
   "execution_count": 5,
   "metadata": {},
   "outputs": [
    {
     "name": "stdout",
     "output_type": "stream",
     "text": [
      "Wall time: 1.35 s\n"
     ]
    },
    {
     "data": {
      "text/html": [
       "<div>\n",
       "<style scoped>\n",
       "    .dataframe tbody tr th:only-of-type {\n",
       "        vertical-align: middle;\n",
       "    }\n",
       "\n",
       "    .dataframe tbody tr th {\n",
       "        vertical-align: top;\n",
       "    }\n",
       "\n",
       "    .dataframe thead th {\n",
       "        text-align: right;\n",
       "    }\n",
       "</style>\n",
       "<table border=\"1\" class=\"dataframe\">\n",
       "  <thead>\n",
       "    <tr style=\"text-align: right;\">\n",
       "      <th></th>\n",
       "      <th>symbol</th>\n",
       "      <th>marketCap</th>\n",
       "      <th>sector</th>\n",
       "      <th>industry</th>\n",
       "      <th>beta</th>\n",
       "      <th>price</th>\n",
       "      <th>lastAnnualDividend</th>\n",
       "      <th>volume</th>\n",
       "      <th>exchange</th>\n",
       "      <th>exchangeShortName</th>\n",
       "    </tr>\n",
       "  </thead>\n",
       "  <tbody>\n",
       "    <tr>\n",
       "      <th>0</th>\n",
       "      <td>SBER.ME</td>\n",
       "      <td>4.534760e+12</td>\n",
       "      <td>Banking</td>\n",
       "      <td>Banks</td>\n",
       "      <td>1.544100</td>\n",
       "      <td>210.070</td>\n",
       "      <td>18.7000</td>\n",
       "      <td>56583594</td>\n",
       "      <td>MCX</td>\n",
       "      <td>EURONEXT</td>\n",
       "    </tr>\n",
       "    <tr>\n",
       "      <th>1</th>\n",
       "      <td>GAZP.ME</td>\n",
       "      <td>3.876834e+12</td>\n",
       "      <td>Energy</td>\n",
       "      <td>Energy</td>\n",
       "      <td>1.319190</td>\n",
       "      <td>163.960</td>\n",
       "      <td>15.2400</td>\n",
       "      <td>37229296</td>\n",
       "      <td>MCX</td>\n",
       "      <td>EURONEXT</td>\n",
       "    </tr>\n",
       "    <tr>\n",
       "      <th>2</th>\n",
       "      <td>GMKN.ME</td>\n",
       "      <td>3.125972e+12</td>\n",
       "      <td>Metals &amp; Mining</td>\n",
       "      <td>Materials</td>\n",
       "      <td>0.681280</td>\n",
       "      <td>19754.000</td>\n",
       "      <td>1161.2900</td>\n",
       "      <td>276943</td>\n",
       "      <td>MCX</td>\n",
       "      <td>EURONEXT</td>\n",
       "    </tr>\n",
       "    <tr>\n",
       "      <th>3</th>\n",
       "      <td>LKOH.ME</td>\n",
       "      <td>2.743106e+12</td>\n",
       "      <td>Energy</td>\n",
       "      <td>Energy</td>\n",
       "      <td>1.027080</td>\n",
       "      <td>4204.000</td>\n",
       "      <td>542.0000</td>\n",
       "      <td>1031446</td>\n",
       "      <td>MCX</td>\n",
       "      <td>EURONEXT</td>\n",
       "    </tr>\n",
       "    <tr>\n",
       "      <th>4</th>\n",
       "      <td>AAPL</td>\n",
       "      <td>2.003216e+12</td>\n",
       "      <td>Technology</td>\n",
       "      <td>Consumer Electronics</td>\n",
       "      <td>1.339240</td>\n",
       "      <td>117.130</td>\n",
       "      <td>0.7825</td>\n",
       "      <td>174072926</td>\n",
       "      <td>Nasdaq Global Select</td>\n",
       "      <td>NASDAQ</td>\n",
       "    </tr>\n",
       "    <tr>\n",
       "      <th>...</th>\n",
       "      <td>...</td>\n",
       "      <td>...</td>\n",
       "      <td>...</td>\n",
       "      <td>...</td>\n",
       "      <td>...</td>\n",
       "      <td>...</td>\n",
       "      <td>...</td>\n",
       "      <td>...</td>\n",
       "      <td>...</td>\n",
       "      <td>...</td>\n",
       "    </tr>\n",
       "    <tr>\n",
       "      <th>1153</th>\n",
       "      <td>CTW</td>\n",
       "      <td>1.007537e+10</td>\n",
       "      <td></td>\n",
       "      <td></td>\n",
       "      <td>-0.035657</td>\n",
       "      <td>25.320</td>\n",
       "      <td>1.8750</td>\n",
       "      <td>20026</td>\n",
       "      <td>New York Stock Exchange</td>\n",
       "      <td>NYSE</td>\n",
       "    </tr>\n",
       "    <tr>\n",
       "      <th>1154</th>\n",
       "      <td>XRAY</td>\n",
       "      <td>1.007267e+10</td>\n",
       "      <td>Healthcare</td>\n",
       "      <td>Medical Instruments &amp; Supplies</td>\n",
       "      <td>0.897130</td>\n",
       "      <td>46.100</td>\n",
       "      <td>0.4000</td>\n",
       "      <td>1353226</td>\n",
       "      <td>Nasdaq Global Select</td>\n",
       "      <td>NASDAQ</td>\n",
       "    </tr>\n",
       "    <tr>\n",
       "      <th>1155</th>\n",
       "      <td>WSP.TO</td>\n",
       "      <td>1.002157e+10</td>\n",
       "      <td>Industrials</td>\n",
       "      <td>Engineering &amp; Construction</td>\n",
       "      <td>0.976340</td>\n",
       "      <td>88.710</td>\n",
       "      <td>1.5000</td>\n",
       "      <td>159906</td>\n",
       "      <td>Toronto</td>\n",
       "      <td>TSX</td>\n",
       "    </tr>\n",
       "    <tr>\n",
       "      <th>1156</th>\n",
       "      <td>BFAM</td>\n",
       "      <td>1.001853e+10</td>\n",
       "      <td>Consumer Cyclical</td>\n",
       "      <td>Personal Services</td>\n",
       "      <td>0.863060</td>\n",
       "      <td>165.845</td>\n",
       "      <td>0.0000</td>\n",
       "      <td>537853</td>\n",
       "      <td>New York Stock Exchange</td>\n",
       "      <td>NYSE</td>\n",
       "    </tr>\n",
       "    <tr>\n",
       "      <th>1157</th>\n",
       "      <td>VEVRX</td>\n",
       "      <td>1.000479e+10</td>\n",
       "      <td></td>\n",
       "      <td></td>\n",
       "      <td>0.000000</td>\n",
       "      <td>37.070</td>\n",
       "      <td>2.4820</td>\n",
       "      <td>0</td>\n",
       "      <td>Nasdaq</td>\n",
       "      <td>MUTUAL_FUND</td>\n",
       "    </tr>\n",
       "  </tbody>\n",
       "</table>\n",
       "<p>1158 rows × 10 columns</p>\n",
       "</div>"
      ],
      "text/plain": [
       "       symbol     marketCap             sector  \\\n",
       "0     SBER.ME  4.534760e+12            Banking   \n",
       "1     GAZP.ME  3.876834e+12            Energy    \n",
       "2     GMKN.ME  3.125972e+12    Metals & Mining   \n",
       "3     LKOH.ME  2.743106e+12            Energy    \n",
       "4        AAPL  2.003216e+12         Technology   \n",
       "...       ...           ...                ...   \n",
       "1153      CTW  1.007537e+10                      \n",
       "1154     XRAY  1.007267e+10         Healthcare   \n",
       "1155   WSP.TO  1.002157e+10        Industrials   \n",
       "1156     BFAM  1.001853e+10  Consumer Cyclical   \n",
       "1157    VEVRX  1.000479e+10                      \n",
       "\n",
       "                            industry      beta      price  lastAnnualDividend  \\\n",
       "0                              Banks  1.544100    210.070             18.7000   \n",
       "1                             Energy  1.319190    163.960             15.2400   \n",
       "2                          Materials  0.681280  19754.000           1161.2900   \n",
       "3                             Energy  1.027080   4204.000            542.0000   \n",
       "4               Consumer Electronics  1.339240    117.130              0.7825   \n",
       "...                              ...       ...        ...                 ...   \n",
       "1153                                 -0.035657     25.320              1.8750   \n",
       "1154  Medical Instruments & Supplies  0.897130     46.100              0.4000   \n",
       "1155      Engineering & Construction  0.976340     88.710              1.5000   \n",
       "1156               Personal Services  0.863060    165.845              0.0000   \n",
       "1157                                  0.000000     37.070              2.4820   \n",
       "\n",
       "         volume                 exchange exchangeShortName  \n",
       "0      56583594                      MCX          EURONEXT  \n",
       "1      37229296                      MCX          EURONEXT  \n",
       "2        276943                      MCX          EURONEXT  \n",
       "3       1031446                      MCX          EURONEXT  \n",
       "4     174072926     Nasdaq Global Select            NASDAQ  \n",
       "...         ...                      ...               ...  \n",
       "1153      20026  New York Stock Exchange              NYSE  \n",
       "1154    1353226     Nasdaq Global Select            NASDAQ  \n",
       "1155     159906                  Toronto               TSX  \n",
       "1156     537853  New York Stock Exchange              NYSE  \n",
       "1157          0                   Nasdaq       MUTUAL_FUND  \n",
       "\n",
       "[1158 rows x 10 columns]"
      ]
     },
     "execution_count": 5,
     "metadata": {},
     "output_type": "execute_result"
    }
   ],
   "source": [
    "%%time\n",
    "data = screenMktCapHigh(minMktCap=10**10).drop('companyName', axis=1)\n",
    "data"
   ]
  },
  {
   "cell_type": "code",
   "execution_count": null,
   "metadata": {},
   "outputs": [],
   "source": []
  },
  {
   "cell_type": "markdown",
   "metadata": {},
   "source": [
    "# Manejo de directorios (Básico)"
   ]
  },
  {
   "cell_type": "code",
   "execution_count": 8,
   "metadata": {},
   "outputs": [],
   "source": [
    "import os"
   ]
  },
  {
   "cell_type": "code",
   "execution_count": 9,
   "metadata": {},
   "outputs": [
    {
     "data": {
      "text/plain": [
       "'C:\\\\Users\\\\floda\\\\Desktop\\\\PythonTraders'"
      ]
     },
     "execution_count": 9,
     "metadata": {},
     "output_type": "execute_result"
    }
   ],
   "source": [
    "os.getcwd()"
   ]
  },
  {
   "cell_type": "code",
   "execution_count": 29,
   "metadata": {},
   "outputs": [],
   "source": [
    "os.mkdir('dir_nuevo2')"
   ]
  },
  {
   "cell_type": "code",
   "execution_count": null,
   "metadata": {},
   "outputs": [],
   "source": []
  },
  {
   "cell_type": "code",
   "execution_count": 10,
   "metadata": {},
   "outputs": [],
   "source": [
    "# os.mkdir('Persistencia')\n",
    "os.chdir('Persistencia')"
   ]
  },
  {
   "cell_type": "code",
   "execution_count": 11,
   "metadata": {},
   "outputs": [
    {
     "data": {
      "text/plain": [
       "'C:\\\\Users\\\\floda\\\\Desktop\\\\PythonTraders\\\\Persistencia'"
      ]
     },
     "execution_count": 11,
     "metadata": {},
     "output_type": "execute_result"
    }
   ],
   "source": [
    "os.getcwd()"
   ]
  },
  {
   "cell_type": "code",
   "execution_count": 12,
   "metadata": {},
   "outputs": [
    {
     "name": "stdout",
     "output_type": "stream",
     "text": [
      "excels_sp500\n"
     ]
    }
   ],
   "source": [
    "scan = os.scandir()\n",
    "for elemento in scan:\n",
    "    if elemento.is_dir():\n",
    "        print(elemento.name)"
   ]
  },
  {
   "cell_type": "code",
   "execution_count": 13,
   "metadata": {},
   "outputs": [
    {
     "data": {
      "text/plain": [
       "'C:\\\\Users\\\\floda\\\\Desktop\\\\PythonTraders\\\\Persistencia'"
      ]
     },
     "execution_count": 13,
     "metadata": {},
     "output_type": "execute_result"
    }
   ],
   "source": [
    "os.getcwd()"
   ]
  },
  {
   "cell_type": "code",
   "execution_count": null,
   "metadata": {},
   "outputs": [],
   "source": []
  },
  {
   "cell_type": "code",
   "execution_count": 14,
   "metadata": {},
   "outputs": [
    {
     "name": "stdout",
     "output_type": "stream",
     "text": [
      "aqui_no_hay_nada_archivo_test.txt 0\n",
      "df_sp500.db 277284\n",
      "df_sp500.xlsx 51198\n",
      "fmp.csv 119\n",
      "fmp.db 168\n",
      "fmp.json 216\n",
      "fmp.ujson 193\n",
      "fmp.xlsx 84\n"
     ]
    }
   ],
   "source": [
    "scan = os.scandir()\n",
    "for elemento in scan:\n",
    "    if elemento.is_file():\n",
    "        print(elemento.name, elemento.stat().st_size//1024)"
   ]
  },
  {
   "cell_type": "markdown",
   "metadata": {},
   "source": [
    "# Persistencia en MySQL"
   ]
  },
  {
   "cell_type": "code",
   "execution_count": 62,
   "metadata": {},
   "outputs": [],
   "source": [
    "#!pip install PyMySQL\n",
    "from sqlalchemy import create_engine\n",
    "\n",
    "#Seteo el USER : PASS @ HOST / BBDD_NAME\n",
    "sql_engine = create_engine('mysql+pymysql://root:@localhost/curso_2_clase_6')\n",
    "sql_conn = sql_engine.connect()"
   ]
  },
  {
   "cell_type": "code",
   "execution_count": 6,
   "metadata": {},
   "outputs": [
    {
     "name": "stdout",
     "output_type": "stream",
     "text": [
      "172 ms ± 14.3 ms per loop (mean ± std. dev. of 7 runs, 1 loop each)\n"
     ]
    }
   ],
   "source": [
    "%%timeit\n",
    "data.to_sql(con=sql_conn, name='fmp_2', if_exists='replace')"
   ]
  },
  {
   "cell_type": "code",
   "execution_count": null,
   "metadata": {},
   "outputs": [],
   "source": []
  },
  {
   "cell_type": "markdown",
   "metadata": {},
   "source": [
    "# Persistencia en SQLite"
   ]
  },
  {
   "cell_type": "code",
   "execution_count": 17,
   "metadata": {},
   "outputs": [
    {
     "data": {
      "text/plain": [
       "'C:\\\\Users\\\\floda\\\\Desktop\\\\PythonTraders\\\\Persistencia'"
      ]
     },
     "execution_count": 17,
     "metadata": {},
     "output_type": "execute_result"
    }
   ],
   "source": [
    "os.getcwd()"
   ]
  },
  {
   "cell_type": "code",
   "execution_count": 18,
   "metadata": {},
   "outputs": [],
   "source": [
    "from sqlalchemy import create_engine\n",
    "\n",
    "sqlite_engine = create_engine('sqlite:///fmp.db', echo=False)\n",
    "sqlite_conn = sqlite_engine.connect()"
   ]
  },
  {
   "cell_type": "code",
   "execution_count": 19,
   "metadata": {},
   "outputs": [
    {
     "name": "stdout",
     "output_type": "stream",
     "text": [
      "56.4 ms ± 4.08 ms per loop (mean ± std. dev. of 7 runs, 10 loops each)\n"
     ]
    }
   ],
   "source": [
    "%%timeit\n",
    "data.to_sql(con=sqlite_conn, name='fmp', if_exists='replace')"
   ]
  },
  {
   "cell_type": "markdown",
   "metadata": {},
   "source": [
    "# Lectura desde MySQL"
   ]
  },
  {
   "cell_type": "code",
   "execution_count": 11,
   "metadata": {},
   "outputs": [
    {
     "name": "stdout",
     "output_type": "stream",
     "text": [
      "73 ms ± 9.58 ms per loop (mean ± std. dev. of 7 runs, 10 loops each)\n"
     ]
    }
   ],
   "source": [
    "%%timeit\n",
    "pd.read_sql('fmp_2', con=sql_conn)"
   ]
  },
  {
   "cell_type": "code",
   "execution_count": 12,
   "metadata": {},
   "outputs": [
    {
     "data": {
      "text/html": [
       "<div>\n",
       "<style scoped>\n",
       "    .dataframe tbody tr th:only-of-type {\n",
       "        vertical-align: middle;\n",
       "    }\n",
       "\n",
       "    .dataframe tbody tr th {\n",
       "        vertical-align: top;\n",
       "    }\n",
       "\n",
       "    .dataframe thead th {\n",
       "        text-align: right;\n",
       "    }\n",
       "</style>\n",
       "<table border=\"1\" class=\"dataframe\">\n",
       "  <thead>\n",
       "    <tr style=\"text-align: right;\">\n",
       "      <th></th>\n",
       "      <th>index</th>\n",
       "      <th>symbol</th>\n",
       "      <th>marketCap</th>\n",
       "      <th>sector</th>\n",
       "      <th>industry</th>\n",
       "      <th>beta</th>\n",
       "      <th>price</th>\n",
       "      <th>lastAnnualDividend</th>\n",
       "      <th>volume</th>\n",
       "      <th>exchange</th>\n",
       "      <th>exchangeShortName</th>\n",
       "    </tr>\n",
       "  </thead>\n",
       "  <tbody>\n",
       "    <tr>\n",
       "      <th>0</th>\n",
       "      <td>0</td>\n",
       "      <td>SBER.ME</td>\n",
       "      <td>4.534760e+12</td>\n",
       "      <td>Banking</td>\n",
       "      <td>Banks</td>\n",
       "      <td>1.544100</td>\n",
       "      <td>210.070</td>\n",
       "      <td>18.7000</td>\n",
       "      <td>56583594</td>\n",
       "      <td>MCX</td>\n",
       "      <td>EURONEXT</td>\n",
       "    </tr>\n",
       "    <tr>\n",
       "      <th>1</th>\n",
       "      <td>1</td>\n",
       "      <td>GAZP.ME</td>\n",
       "      <td>3.876834e+12</td>\n",
       "      <td>Energy</td>\n",
       "      <td>Energy</td>\n",
       "      <td>1.319190</td>\n",
       "      <td>163.960</td>\n",
       "      <td>15.2400</td>\n",
       "      <td>37229296</td>\n",
       "      <td>MCX</td>\n",
       "      <td>EURONEXT</td>\n",
       "    </tr>\n",
       "    <tr>\n",
       "      <th>2</th>\n",
       "      <td>2</td>\n",
       "      <td>GMKN.ME</td>\n",
       "      <td>3.125972e+12</td>\n",
       "      <td>Metals &amp; Mining</td>\n",
       "      <td>Materials</td>\n",
       "      <td>0.681280</td>\n",
       "      <td>19754.000</td>\n",
       "      <td>1161.2900</td>\n",
       "      <td>276943</td>\n",
       "      <td>MCX</td>\n",
       "      <td>EURONEXT</td>\n",
       "    </tr>\n",
       "    <tr>\n",
       "      <th>3</th>\n",
       "      <td>3</td>\n",
       "      <td>LKOH.ME</td>\n",
       "      <td>2.743106e+12</td>\n",
       "      <td>Energy</td>\n",
       "      <td>Energy</td>\n",
       "      <td>1.027080</td>\n",
       "      <td>4204.000</td>\n",
       "      <td>542.0000</td>\n",
       "      <td>1031446</td>\n",
       "      <td>MCX</td>\n",
       "      <td>EURONEXT</td>\n",
       "    </tr>\n",
       "    <tr>\n",
       "      <th>4</th>\n",
       "      <td>4</td>\n",
       "      <td>AAPL</td>\n",
       "      <td>2.003216e+12</td>\n",
       "      <td>Technology</td>\n",
       "      <td>Consumer Electronics</td>\n",
       "      <td>1.339240</td>\n",
       "      <td>117.130</td>\n",
       "      <td>0.7825</td>\n",
       "      <td>174072926</td>\n",
       "      <td>Nasdaq Global Select</td>\n",
       "      <td>NASDAQ</td>\n",
       "    </tr>\n",
       "    <tr>\n",
       "      <th>...</th>\n",
       "      <td>...</td>\n",
       "      <td>...</td>\n",
       "      <td>...</td>\n",
       "      <td>...</td>\n",
       "      <td>...</td>\n",
       "      <td>...</td>\n",
       "      <td>...</td>\n",
       "      <td>...</td>\n",
       "      <td>...</td>\n",
       "      <td>...</td>\n",
       "      <td>...</td>\n",
       "    </tr>\n",
       "    <tr>\n",
       "      <th>1153</th>\n",
       "      <td>1153</td>\n",
       "      <td>CTW</td>\n",
       "      <td>1.007537e+10</td>\n",
       "      <td></td>\n",
       "      <td></td>\n",
       "      <td>-0.035657</td>\n",
       "      <td>25.320</td>\n",
       "      <td>1.8750</td>\n",
       "      <td>20026</td>\n",
       "      <td>New York Stock Exchange</td>\n",
       "      <td>NYSE</td>\n",
       "    </tr>\n",
       "    <tr>\n",
       "      <th>1154</th>\n",
       "      <td>1154</td>\n",
       "      <td>XRAY</td>\n",
       "      <td>1.007267e+10</td>\n",
       "      <td>Healthcare</td>\n",
       "      <td>Medical Instruments &amp; Supplies</td>\n",
       "      <td>0.897130</td>\n",
       "      <td>46.100</td>\n",
       "      <td>0.4000</td>\n",
       "      <td>1353226</td>\n",
       "      <td>Nasdaq Global Select</td>\n",
       "      <td>NASDAQ</td>\n",
       "    </tr>\n",
       "    <tr>\n",
       "      <th>1155</th>\n",
       "      <td>1155</td>\n",
       "      <td>WSP.TO</td>\n",
       "      <td>1.002157e+10</td>\n",
       "      <td>Industrials</td>\n",
       "      <td>Engineering &amp; Construction</td>\n",
       "      <td>0.976340</td>\n",
       "      <td>88.710</td>\n",
       "      <td>1.5000</td>\n",
       "      <td>159906</td>\n",
       "      <td>Toronto</td>\n",
       "      <td>TSX</td>\n",
       "    </tr>\n",
       "    <tr>\n",
       "      <th>1156</th>\n",
       "      <td>1156</td>\n",
       "      <td>BFAM</td>\n",
       "      <td>1.001853e+10</td>\n",
       "      <td>Consumer Cyclical</td>\n",
       "      <td>Personal Services</td>\n",
       "      <td>0.863060</td>\n",
       "      <td>165.845</td>\n",
       "      <td>0.0000</td>\n",
       "      <td>537853</td>\n",
       "      <td>New York Stock Exchange</td>\n",
       "      <td>NYSE</td>\n",
       "    </tr>\n",
       "    <tr>\n",
       "      <th>1157</th>\n",
       "      <td>1157</td>\n",
       "      <td>VEVRX</td>\n",
       "      <td>1.000479e+10</td>\n",
       "      <td></td>\n",
       "      <td></td>\n",
       "      <td>0.000000</td>\n",
       "      <td>37.070</td>\n",
       "      <td>2.4820</td>\n",
       "      <td>0</td>\n",
       "      <td>Nasdaq</td>\n",
       "      <td>MUTUAL_FUND</td>\n",
       "    </tr>\n",
       "  </tbody>\n",
       "</table>\n",
       "<p>1158 rows × 11 columns</p>\n",
       "</div>"
      ],
      "text/plain": [
       "      index   symbol     marketCap             sector  \\\n",
       "0         0  SBER.ME  4.534760e+12            Banking   \n",
       "1         1  GAZP.ME  3.876834e+12            Energy    \n",
       "2         2  GMKN.ME  3.125972e+12    Metals & Mining   \n",
       "3         3  LKOH.ME  2.743106e+12            Energy    \n",
       "4         4     AAPL  2.003216e+12         Technology   \n",
       "...     ...      ...           ...                ...   \n",
       "1153   1153      CTW  1.007537e+10                      \n",
       "1154   1154     XRAY  1.007267e+10         Healthcare   \n",
       "1155   1155   WSP.TO  1.002157e+10        Industrials   \n",
       "1156   1156     BFAM  1.001853e+10  Consumer Cyclical   \n",
       "1157   1157    VEVRX  1.000479e+10                      \n",
       "\n",
       "                            industry      beta      price  lastAnnualDividend  \\\n",
       "0                              Banks  1.544100    210.070             18.7000   \n",
       "1                             Energy  1.319190    163.960             15.2400   \n",
       "2                          Materials  0.681280  19754.000           1161.2900   \n",
       "3                             Energy  1.027080   4204.000            542.0000   \n",
       "4               Consumer Electronics  1.339240    117.130              0.7825   \n",
       "...                              ...       ...        ...                 ...   \n",
       "1153                                 -0.035657     25.320              1.8750   \n",
       "1154  Medical Instruments & Supplies  0.897130     46.100              0.4000   \n",
       "1155      Engineering & Construction  0.976340     88.710              1.5000   \n",
       "1156               Personal Services  0.863060    165.845              0.0000   \n",
       "1157                                  0.000000     37.070              2.4820   \n",
       "\n",
       "         volume                 exchange exchangeShortName  \n",
       "0      56583594                      MCX          EURONEXT  \n",
       "1      37229296                      MCX          EURONEXT  \n",
       "2        276943                      MCX          EURONEXT  \n",
       "3       1031446                      MCX          EURONEXT  \n",
       "4     174072926     Nasdaq Global Select            NASDAQ  \n",
       "...         ...                      ...               ...  \n",
       "1153      20026  New York Stock Exchange              NYSE  \n",
       "1154    1353226     Nasdaq Global Select            NASDAQ  \n",
       "1155     159906                  Toronto               TSX  \n",
       "1156     537853  New York Stock Exchange              NYSE  \n",
       "1157          0                   Nasdaq       MUTUAL_FUND  \n",
       "\n",
       "[1158 rows x 11 columns]"
      ]
     },
     "execution_count": 12,
     "metadata": {},
     "output_type": "execute_result"
    }
   ],
   "source": [
    "lectura_total = pd.read_sql('fmp_2', con=sql_conn)\n",
    "lectura_total"
   ]
  },
  {
   "cell_type": "code",
   "execution_count": 14,
   "metadata": {},
   "outputs": [
    {
     "name": "stdout",
     "output_type": "stream",
     "text": [
      "7.71 ms ± 194 µs per loop (mean ± std. dev. of 7 runs, 100 loops each)\n"
     ]
    }
   ],
   "source": [
    "%%timeit\n",
    "conteo = pd.read_sql('SELECT COUNT(*) FROM fmp_2', con=sql_conn)"
   ]
  },
  {
   "cell_type": "raw",
   "metadata": {},
   "source": [
    "comilla doble \"\n",
    "comilla simpple '\n",
    "\n",
    "comilla inclinada ´    MySQL"
   ]
  },
  {
   "cell_type": "code",
   "execution_count": null,
   "metadata": {},
   "outputs": [],
   "source": [
    "# Si tengo 1000 reg y quiero del 5 al 10 en SQL\n",
    "#  LIMIT 5,5\n",
    "\n",
    "# iloc[desde : hasta]\n",
    "# LIMIT cuantos, desde"
   ]
  },
  {
   "cell_type": "code",
   "execution_count": 26,
   "metadata": {},
   "outputs": [
    {
     "data": {
      "text/html": [
       "<div>\n",
       "<style scoped>\n",
       "    .dataframe tbody tr th:only-of-type {\n",
       "        vertical-align: middle;\n",
       "    }\n",
       "\n",
       "    .dataframe tbody tr th {\n",
       "        vertical-align: top;\n",
       "    }\n",
       "\n",
       "    .dataframe thead th {\n",
       "        text-align: right;\n",
       "    }\n",
       "</style>\n",
       "<table border=\"1\" class=\"dataframe\">\n",
       "  <thead>\n",
       "    <tr style=\"text-align: right;\">\n",
       "      <th></th>\n",
       "      <th>index</th>\n",
       "      <th>symbol</th>\n",
       "      <th>marketCap</th>\n",
       "      <th>sector</th>\n",
       "      <th>industry</th>\n",
       "      <th>beta</th>\n",
       "      <th>price</th>\n",
       "      <th>lastAnnualDividend</th>\n",
       "      <th>volume</th>\n",
       "      <th>exchange</th>\n",
       "      <th>exchangeShortName</th>\n",
       "    </tr>\n",
       "  </thead>\n",
       "  <tbody>\n",
       "    <tr>\n",
       "      <th>0</th>\n",
       "      <td>1147</td>\n",
       "      <td>EMP-A.TO</td>\n",
       "      <td>1.021807e+10</td>\n",
       "      <td>Consumer Defensive</td>\n",
       "      <td>Grocery Stores</td>\n",
       "      <td>0.232220</td>\n",
       "      <td>37.9700</td>\n",
       "      <td>0.490000</td>\n",
       "      <td>519308</td>\n",
       "      <td>Toronto</td>\n",
       "      <td>TSX</td>\n",
       "    </tr>\n",
       "    <tr>\n",
       "      <th>1</th>\n",
       "      <td>1145</td>\n",
       "      <td>IWS</td>\n",
       "      <td>1.022963e+10</td>\n",
       "      <td></td>\n",
       "      <td></td>\n",
       "      <td>0.000000</td>\n",
       "      <td>84.9990</td>\n",
       "      <td>1.980000</td>\n",
       "      <td>466284</td>\n",
       "      <td>NYSE Arca</td>\n",
       "      <td>NYSE</td>\n",
       "    </tr>\n",
       "    <tr>\n",
       "      <th>2</th>\n",
       "      <td>1144</td>\n",
       "      <td>CPL</td>\n",
       "      <td>1.025804e+10</td>\n",
       "      <td>Utilities</td>\n",
       "      <td>Utilities Regulated</td>\n",
       "      <td>0.517293</td>\n",
       "      <td>17.3600</td>\n",
       "      <td>0.236747</td>\n",
       "      <td>172515</td>\n",
       "      <td>New York Stock Exchange</td>\n",
       "      <td>NYSE</td>\n",
       "    </tr>\n",
       "    <tr>\n",
       "      <th>3</th>\n",
       "      <td>1143</td>\n",
       "      <td>IHG</td>\n",
       "      <td>1.029653e+10</td>\n",
       "      <td>Consumer Cyclical</td>\n",
       "      <td>Lodging</td>\n",
       "      <td>0.837489</td>\n",
       "      <td>55.5000</td>\n",
       "      <td>1.258000</td>\n",
       "      <td>220080</td>\n",
       "      <td>New York Stock Exchange</td>\n",
       "      <td>NYSE</td>\n",
       "    </tr>\n",
       "    <tr>\n",
       "      <th>4</th>\n",
       "      <td>1142</td>\n",
       "      <td>IFF.PA</td>\n",
       "      <td>1.032260e+10</td>\n",
       "      <td>Basic Materials</td>\n",
       "      <td>Specialty Chemicals</td>\n",
       "      <td>0.930050</td>\n",
       "      <td>124.0000</td>\n",
       "      <td>2.980000</td>\n",
       "      <td>0</td>\n",
       "      <td>Paris</td>\n",
       "      <td>EURONEXT</td>\n",
       "    </tr>\n",
       "    <tr>\n",
       "      <th>5</th>\n",
       "      <td>1141</td>\n",
       "      <td>SPLV</td>\n",
       "      <td>1.035077e+10</td>\n",
       "      <td></td>\n",
       "      <td></td>\n",
       "      <td>0.000000</td>\n",
       "      <td>54.6267</td>\n",
       "      <td>1.206000</td>\n",
       "      <td>2731910</td>\n",
       "      <td>NYSE Arca</td>\n",
       "      <td>NYSE</td>\n",
       "    </tr>\n",
       "    <tr>\n",
       "      <th>6</th>\n",
       "      <td>1140</td>\n",
       "      <td>ARGX.BR</td>\n",
       "      <td>1.035445e+10</td>\n",
       "      <td>Healthcare</td>\n",
       "      <td>Biotechnology</td>\n",
       "      <td>0.684300</td>\n",
       "      <td>219.8000</td>\n",
       "      <td>0.000000</td>\n",
       "      <td>132879</td>\n",
       "      <td>Brussels</td>\n",
       "      <td>EURONEXT</td>\n",
       "    </tr>\n",
       "    <tr>\n",
       "      <th>7</th>\n",
       "      <td>1138</td>\n",
       "      <td>XLU</td>\n",
       "      <td>1.042994e+10</td>\n",
       "      <td></td>\n",
       "      <td></td>\n",
       "      <td>0.000000</td>\n",
       "      <td>63.8800</td>\n",
       "      <td>1.943000</td>\n",
       "      <td>13114507</td>\n",
       "      <td>NYSE Arca</td>\n",
       "      <td>NYSE</td>\n",
       "    </tr>\n",
       "    <tr>\n",
       "      <th>8</th>\n",
       "      <td>1135</td>\n",
       "      <td>WTRG</td>\n",
       "      <td>1.044728e+10</td>\n",
       "      <td>Utilities</td>\n",
       "      <td>Utilities Regulated Water</td>\n",
       "      <td>0.444850</td>\n",
       "      <td>42.6150</td>\n",
       "      <td>0.937200</td>\n",
       "      <td>1152858</td>\n",
       "      <td>NYSE</td>\n",
       "      <td>NYSE</td>\n",
       "    </tr>\n",
       "    <tr>\n",
       "      <th>9</th>\n",
       "      <td>1134</td>\n",
       "      <td>IWO</td>\n",
       "      <td>1.045763e+10</td>\n",
       "      <td></td>\n",
       "      <td></td>\n",
       "      <td>0.000000</td>\n",
       "      <td>233.6900</td>\n",
       "      <td>1.519000</td>\n",
       "      <td>375850</td>\n",
       "      <td>NYSE Arca</td>\n",
       "      <td>NYSE</td>\n",
       "    </tr>\n",
       "  </tbody>\n",
       "</table>\n",
       "</div>"
      ],
      "text/plain": [
       "   index    symbol     marketCap              sector  \\\n",
       "0   1147  EMP-A.TO  1.021807e+10  Consumer Defensive   \n",
       "1   1145       IWS  1.022963e+10                       \n",
       "2   1144       CPL  1.025804e+10           Utilities   \n",
       "3   1143       IHG  1.029653e+10   Consumer Cyclical   \n",
       "4   1142    IFF.PA  1.032260e+10     Basic Materials   \n",
       "5   1141      SPLV  1.035077e+10                       \n",
       "6   1140   ARGX.BR  1.035445e+10          Healthcare   \n",
       "7   1138       XLU  1.042994e+10                       \n",
       "8   1135      WTRG  1.044728e+10           Utilities   \n",
       "9   1134       IWO  1.045763e+10                       \n",
       "\n",
       "                    industry      beta     price  lastAnnualDividend  \\\n",
       "0             Grocery Stores  0.232220   37.9700            0.490000   \n",
       "1                             0.000000   84.9990            1.980000   \n",
       "2        Utilities Regulated  0.517293   17.3600            0.236747   \n",
       "3                    Lodging  0.837489   55.5000            1.258000   \n",
       "4        Specialty Chemicals  0.930050  124.0000            2.980000   \n",
       "5                             0.000000   54.6267            1.206000   \n",
       "6              Biotechnology  0.684300  219.8000            0.000000   \n",
       "7                             0.000000   63.8800            1.943000   \n",
       "8  Utilities Regulated Water  0.444850   42.6150            0.937200   \n",
       "9                             0.000000  233.6900            1.519000   \n",
       "\n",
       "     volume                 exchange exchangeShortName  \n",
       "0    519308                  Toronto               TSX  \n",
       "1    466284                NYSE Arca              NYSE  \n",
       "2    172515  New York Stock Exchange              NYSE  \n",
       "3    220080  New York Stock Exchange              NYSE  \n",
       "4         0                    Paris          EURONEXT  \n",
       "5   2731910                NYSE Arca              NYSE  \n",
       "6    132879                 Brussels          EURONEXT  \n",
       "7  13114507                NYSE Arca              NYSE  \n",
       "8   1152858                     NYSE              NYSE  \n",
       "9    375850                NYSE Arca              NYSE  "
      ]
     },
     "execution_count": 26,
     "metadata": {},
     "output_type": "execute_result"
    }
   ],
   "source": [
    "query = 'SELECT * FROM fmp_2 \\\n",
    "            WHERE beta < 1  \\\n",
    "            ORDER BY marketCap ASC \\\n",
    "            LIMIT 5,10'\n",
    "filtro = pd.read_sql(query, con=sql_conn)\n",
    "filtro"
   ]
  },
  {
   "cell_type": "markdown",
   "metadata": {},
   "source": [
    "## Consultas agregacion"
   ]
  },
  {
   "cell_type": "code",
   "execution_count": 29,
   "metadata": {},
   "outputs": [
    {
     "name": "stdout",
     "output_type": "stream",
     "text": [
      "13.9 ms ± 864 µs per loop (mean ± std. dev. of 7 runs, 100 loops each)\n"
     ]
    }
   ],
   "source": [
    "%%timeit\n",
    "query = 'SELECT sector, AVG(beta) as promedio_betas, VARIANCE(beta) as varianza_betas \\\n",
    "            FROM fmp_2 \\\n",
    "            GROUP BY sector \\\n",
    "            ORDER BY promedio_betas DESC'\n",
    "\n",
    "res = pd.read_sql(query, con=sql_conn)\n",
    "res"
   ]
  },
  {
   "cell_type": "code",
   "execution_count": 30,
   "metadata": {},
   "outputs": [
    {
     "data": {
      "text/html": [
       "<div>\n",
       "<style scoped>\n",
       "    .dataframe tbody tr th:only-of-type {\n",
       "        vertical-align: middle;\n",
       "    }\n",
       "\n",
       "    .dataframe tbody tr th {\n",
       "        vertical-align: top;\n",
       "    }\n",
       "\n",
       "    .dataframe thead th {\n",
       "        text-align: right;\n",
       "    }\n",
       "</style>\n",
       "<table border=\"1\" class=\"dataframe\">\n",
       "  <thead>\n",
       "    <tr style=\"text-align: right;\">\n",
       "      <th></th>\n",
       "      <th>sector</th>\n",
       "      <th>promedio_betas</th>\n",
       "      <th>varianza_betas</th>\n",
       "    </tr>\n",
       "  </thead>\n",
       "  <tbody>\n",
       "    <tr>\n",
       "      <th>0</th>\n",
       "      <td>Banking</td>\n",
       "      <td>1.544100</td>\n",
       "      <td>0.000000</td>\n",
       "    </tr>\n",
       "    <tr>\n",
       "      <th>1</th>\n",
       "      <td>Energy</td>\n",
       "      <td>1.443595</td>\n",
       "      <td>0.540721</td>\n",
       "    </tr>\n",
       "    <tr>\n",
       "      <th>2</th>\n",
       "      <td>Consumer Cyclical</td>\n",
       "      <td>1.206074</td>\n",
       "      <td>0.392266</td>\n",
       "    </tr>\n",
       "    <tr>\n",
       "      <th>3</th>\n",
       "      <td>Industrials</td>\n",
       "      <td>1.060473</td>\n",
       "      <td>0.135675</td>\n",
       "    </tr>\n",
       "    <tr>\n",
       "      <th>4</th>\n",
       "      <td>Financial Services</td>\n",
       "      <td>1.044847</td>\n",
       "      <td>0.216867</td>\n",
       "    </tr>\n",
       "    <tr>\n",
       "      <th>5</th>\n",
       "      <td>Technology</td>\n",
       "      <td>1.024093</td>\n",
       "      <td>0.278884</td>\n",
       "    </tr>\n",
       "    <tr>\n",
       "      <th>6</th>\n",
       "      <td>Airlines</td>\n",
       "      <td>0.993200</td>\n",
       "      <td>0.000000</td>\n",
       "    </tr>\n",
       "    <tr>\n",
       "      <th>7</th>\n",
       "      <td>Basic Materials</td>\n",
       "      <td>0.960849</td>\n",
       "      <td>0.299575</td>\n",
       "    </tr>\n",
       "    <tr>\n",
       "      <th>8</th>\n",
       "      <td>Healthcare</td>\n",
       "      <td>0.854639</td>\n",
       "      <td>0.242750</td>\n",
       "    </tr>\n",
       "    <tr>\n",
       "      <th>9</th>\n",
       "      <td>Real Estate</td>\n",
       "      <td>0.801181</td>\n",
       "      <td>0.201696</td>\n",
       "    </tr>\n",
       "    <tr>\n",
       "      <th>10</th>\n",
       "      <td>Metals &amp; Mining</td>\n",
       "      <td>0.733285</td>\n",
       "      <td>0.002705</td>\n",
       "    </tr>\n",
       "    <tr>\n",
       "      <th>11</th>\n",
       "      <td>Communication Services</td>\n",
       "      <td>0.728382</td>\n",
       "      <td>0.264208</td>\n",
       "    </tr>\n",
       "    <tr>\n",
       "      <th>12</th>\n",
       "      <td>Consumer Defensive</td>\n",
       "      <td>0.548043</td>\n",
       "      <td>0.097281</td>\n",
       "    </tr>\n",
       "    <tr>\n",
       "      <th>13</th>\n",
       "      <td>Retail</td>\n",
       "      <td>0.484150</td>\n",
       "      <td>0.000000</td>\n",
       "    </tr>\n",
       "    <tr>\n",
       "      <th>14</th>\n",
       "      <td>Utilities</td>\n",
       "      <td>0.478560</td>\n",
       "      <td>0.090402</td>\n",
       "    </tr>\n",
       "    <tr>\n",
       "      <th>15</th>\n",
       "      <td></td>\n",
       "      <td>0.012286</td>\n",
       "      <td>0.007408</td>\n",
       "    </tr>\n",
       "  </tbody>\n",
       "</table>\n",
       "</div>"
      ],
      "text/plain": [
       "                    sector  promedio_betas  varianza_betas\n",
       "0                  Banking        1.544100        0.000000\n",
       "1                  Energy         1.443595        0.540721\n",
       "2        Consumer Cyclical        1.206074        0.392266\n",
       "3              Industrials        1.060473        0.135675\n",
       "4       Financial Services        1.044847        0.216867\n",
       "5               Technology        1.024093        0.278884\n",
       "6                 Airlines        0.993200        0.000000\n",
       "7          Basic Materials        0.960849        0.299575\n",
       "8               Healthcare        0.854639        0.242750\n",
       "9              Real Estate        0.801181        0.201696\n",
       "10         Metals & Mining        0.733285        0.002705\n",
       "11  Communication Services        0.728382        0.264208\n",
       "12      Consumer Defensive        0.548043        0.097281\n",
       "13                  Retail        0.484150        0.000000\n",
       "14               Utilities        0.478560        0.090402\n",
       "15                                0.012286        0.007408"
      ]
     },
     "execution_count": 30,
     "metadata": {},
     "output_type": "execute_result"
    }
   ],
   "source": [
    "res"
   ]
  },
  {
   "cell_type": "code",
   "execution_count": 36,
   "metadata": {},
   "outputs": [
    {
     "data": {
      "text/html": [
       "<div>\n",
       "<style scoped>\n",
       "    .dataframe tbody tr th:only-of-type {\n",
       "        vertical-align: middle;\n",
       "    }\n",
       "\n",
       "    .dataframe tbody tr th {\n",
       "        vertical-align: top;\n",
       "    }\n",
       "\n",
       "    .dataframe thead th {\n",
       "        text-align: right;\n",
       "    }\n",
       "</style>\n",
       "<table border=\"1\" class=\"dataframe\">\n",
       "  <thead>\n",
       "    <tr style=\"text-align: right;\">\n",
       "      <th></th>\n",
       "      <th>beta</th>\n",
       "    </tr>\n",
       "    <tr>\n",
       "      <th>sector</th>\n",
       "      <th></th>\n",
       "    </tr>\n",
       "  </thead>\n",
       "  <tbody>\n",
       "    <tr>\n",
       "      <th>Energy</th>\n",
       "      <td>0.564138</td>\n",
       "    </tr>\n",
       "    <tr>\n",
       "      <th>Consumer Cyclical</th>\n",
       "      <td>0.396624</td>\n",
       "    </tr>\n",
       "    <tr>\n",
       "      <th>Basic Materials</th>\n",
       "      <td>0.305123</td>\n",
       "    </tr>\n",
       "    <tr>\n",
       "      <th>Technology</th>\n",
       "      <td>0.280707</td>\n",
       "    </tr>\n",
       "    <tr>\n",
       "      <th>Communication Services</th>\n",
       "      <td>0.267280</td>\n",
       "    </tr>\n",
       "    <tr>\n",
       "      <th>Healthcare</th>\n",
       "      <td>0.244807</td>\n",
       "    </tr>\n",
       "    <tr>\n",
       "      <th>Financial Services</th>\n",
       "      <td>0.218313</td>\n",
       "    </tr>\n",
       "    <tr>\n",
       "      <th>Real Estate</th>\n",
       "      <td>0.207999</td>\n",
       "    </tr>\n",
       "    <tr>\n",
       "      <th>Industrials</th>\n",
       "      <td>0.136943</td>\n",
       "    </tr>\n",
       "    <tr>\n",
       "      <th>Consumer Defensive</th>\n",
       "      <td>0.098614</td>\n",
       "    </tr>\n",
       "    <tr>\n",
       "      <th>Utilities</th>\n",
       "      <td>0.092247</td>\n",
       "    </tr>\n",
       "    <tr>\n",
       "      <th>Energy</th>\n",
       "      <td>0.042664</td>\n",
       "    </tr>\n",
       "    <tr>\n",
       "      <th></th>\n",
       "      <td>0.007452</td>\n",
       "    </tr>\n",
       "    <tr>\n",
       "      <th>Metals &amp; Mining</th>\n",
       "      <td>0.005409</td>\n",
       "    </tr>\n",
       "    <tr>\n",
       "      <th>Airlines</th>\n",
       "      <td>NaN</td>\n",
       "    </tr>\n",
       "    <tr>\n",
       "      <th>Banking</th>\n",
       "      <td>NaN</td>\n",
       "    </tr>\n",
       "    <tr>\n",
       "      <th>Retail</th>\n",
       "      <td>NaN</td>\n",
       "    </tr>\n",
       "  </tbody>\n",
       "</table>\n",
       "</div>"
      ],
      "text/plain": [
       "                            beta\n",
       "sector                          \n",
       "Energy                  0.564138\n",
       "Consumer Cyclical       0.396624\n",
       "Basic Materials         0.305123\n",
       "Technology              0.280707\n",
       "Communication Services  0.267280\n",
       "Healthcare              0.244807\n",
       "Financial Services      0.218313\n",
       "Real Estate             0.207999\n",
       "Industrials             0.136943\n",
       "Consumer Defensive      0.098614\n",
       "Utilities               0.092247\n",
       "Energy                  0.042664\n",
       "                        0.007452\n",
       "Metals & Mining         0.005409\n",
       "Airlines                     NaN\n",
       "Banking                      NaN\n",
       "Retail                       NaN"
      ]
     },
     "execution_count": 36,
     "metadata": {},
     "output_type": "execute_result"
    }
   ],
   "source": [
    "query = 'SELECT * FROM fmp_2'\n",
    "\n",
    "tabla_total = pd.read_sql(query, con=sql_conn)\n",
    "tabla_total.groupby('sector').var().beta.sort_values(ascending=False).to_frame()"
   ]
  },
  {
   "cell_type": "code",
   "execution_count": 37,
   "metadata": {},
   "outputs": [
    {
     "data": {
      "text/html": [
       "<div>\n",
       "<style scoped>\n",
       "    .dataframe tbody tr th:only-of-type {\n",
       "        vertical-align: middle;\n",
       "    }\n",
       "\n",
       "    .dataframe tbody tr th {\n",
       "        vertical-align: top;\n",
       "    }\n",
       "\n",
       "    .dataframe thead th {\n",
       "        text-align: right;\n",
       "    }\n",
       "</style>\n",
       "<table border=\"1\" class=\"dataframe\">\n",
       "  <thead>\n",
       "    <tr style=\"text-align: right;\">\n",
       "      <th></th>\n",
       "      <th>symbol</th>\n",
       "      <th>marketCap</th>\n",
       "      <th>sector</th>\n",
       "      <th>industry</th>\n",
       "      <th>beta</th>\n",
       "      <th>price</th>\n",
       "      <th>lastAnnualDividend</th>\n",
       "      <th>volume</th>\n",
       "      <th>exchange</th>\n",
       "      <th>exchangeShortName</th>\n",
       "    </tr>\n",
       "  </thead>\n",
       "  <tbody>\n",
       "    <tr>\n",
       "      <th>0</th>\n",
       "      <td>SBER.ME</td>\n",
       "      <td>4.534760e+12</td>\n",
       "      <td>Banking</td>\n",
       "      <td>Banks</td>\n",
       "      <td>1.544100</td>\n",
       "      <td>210.070</td>\n",
       "      <td>18.7000</td>\n",
       "      <td>56583594</td>\n",
       "      <td>MCX</td>\n",
       "      <td>EURONEXT</td>\n",
       "    </tr>\n",
       "    <tr>\n",
       "      <th>1</th>\n",
       "      <td>GAZP.ME</td>\n",
       "      <td>3.876834e+12</td>\n",
       "      <td>Energy</td>\n",
       "      <td>Energy</td>\n",
       "      <td>1.319190</td>\n",
       "      <td>163.960</td>\n",
       "      <td>15.2400</td>\n",
       "      <td>37229296</td>\n",
       "      <td>MCX</td>\n",
       "      <td>EURONEXT</td>\n",
       "    </tr>\n",
       "    <tr>\n",
       "      <th>2</th>\n",
       "      <td>GMKN.ME</td>\n",
       "      <td>3.125972e+12</td>\n",
       "      <td>Metals &amp; Mining</td>\n",
       "      <td>Materials</td>\n",
       "      <td>0.681280</td>\n",
       "      <td>19754.000</td>\n",
       "      <td>1161.2900</td>\n",
       "      <td>276943</td>\n",
       "      <td>MCX</td>\n",
       "      <td>EURONEXT</td>\n",
       "    </tr>\n",
       "    <tr>\n",
       "      <th>3</th>\n",
       "      <td>LKOH.ME</td>\n",
       "      <td>2.743106e+12</td>\n",
       "      <td>Energy</td>\n",
       "      <td>Energy</td>\n",
       "      <td>1.027080</td>\n",
       "      <td>4204.000</td>\n",
       "      <td>542.0000</td>\n",
       "      <td>1031446</td>\n",
       "      <td>MCX</td>\n",
       "      <td>EURONEXT</td>\n",
       "    </tr>\n",
       "    <tr>\n",
       "      <th>4</th>\n",
       "      <td>AAPL</td>\n",
       "      <td>2.003216e+12</td>\n",
       "      <td>Technology</td>\n",
       "      <td>Consumer Electronics</td>\n",
       "      <td>1.339240</td>\n",
       "      <td>117.130</td>\n",
       "      <td>0.7825</td>\n",
       "      <td>174072926</td>\n",
       "      <td>Nasdaq Global Select</td>\n",
       "      <td>NASDAQ</td>\n",
       "    </tr>\n",
       "    <tr>\n",
       "      <th>...</th>\n",
       "      <td>...</td>\n",
       "      <td>...</td>\n",
       "      <td>...</td>\n",
       "      <td>...</td>\n",
       "      <td>...</td>\n",
       "      <td>...</td>\n",
       "      <td>...</td>\n",
       "      <td>...</td>\n",
       "      <td>...</td>\n",
       "      <td>...</td>\n",
       "    </tr>\n",
       "    <tr>\n",
       "      <th>1153</th>\n",
       "      <td>CTW</td>\n",
       "      <td>1.007537e+10</td>\n",
       "      <td></td>\n",
       "      <td></td>\n",
       "      <td>-0.035657</td>\n",
       "      <td>25.320</td>\n",
       "      <td>1.8750</td>\n",
       "      <td>20026</td>\n",
       "      <td>New York Stock Exchange</td>\n",
       "      <td>NYSE</td>\n",
       "    </tr>\n",
       "    <tr>\n",
       "      <th>1154</th>\n",
       "      <td>XRAY</td>\n",
       "      <td>1.007267e+10</td>\n",
       "      <td>Healthcare</td>\n",
       "      <td>Medical Instruments &amp; Supplies</td>\n",
       "      <td>0.897130</td>\n",
       "      <td>46.100</td>\n",
       "      <td>0.4000</td>\n",
       "      <td>1353226</td>\n",
       "      <td>Nasdaq Global Select</td>\n",
       "      <td>NASDAQ</td>\n",
       "    </tr>\n",
       "    <tr>\n",
       "      <th>1155</th>\n",
       "      <td>WSP.TO</td>\n",
       "      <td>1.002157e+10</td>\n",
       "      <td>Industrials</td>\n",
       "      <td>Engineering &amp; Construction</td>\n",
       "      <td>0.976340</td>\n",
       "      <td>88.710</td>\n",
       "      <td>1.5000</td>\n",
       "      <td>159906</td>\n",
       "      <td>Toronto</td>\n",
       "      <td>TSX</td>\n",
       "    </tr>\n",
       "    <tr>\n",
       "      <th>1156</th>\n",
       "      <td>BFAM</td>\n",
       "      <td>1.001853e+10</td>\n",
       "      <td>Consumer Cyclical</td>\n",
       "      <td>Personal Services</td>\n",
       "      <td>0.863060</td>\n",
       "      <td>165.845</td>\n",
       "      <td>0.0000</td>\n",
       "      <td>537853</td>\n",
       "      <td>New York Stock Exchange</td>\n",
       "      <td>NYSE</td>\n",
       "    </tr>\n",
       "    <tr>\n",
       "      <th>1157</th>\n",
       "      <td>VEVRX</td>\n",
       "      <td>1.000479e+10</td>\n",
       "      <td></td>\n",
       "      <td></td>\n",
       "      <td>0.000000</td>\n",
       "      <td>37.070</td>\n",
       "      <td>2.4820</td>\n",
       "      <td>0</td>\n",
       "      <td>Nasdaq</td>\n",
       "      <td>MUTUAL_FUND</td>\n",
       "    </tr>\n",
       "  </tbody>\n",
       "</table>\n",
       "<p>1158 rows × 10 columns</p>\n",
       "</div>"
      ],
      "text/plain": [
       "       symbol     marketCap             sector  \\\n",
       "0     SBER.ME  4.534760e+12            Banking   \n",
       "1     GAZP.ME  3.876834e+12            Energy    \n",
       "2     GMKN.ME  3.125972e+12    Metals & Mining   \n",
       "3     LKOH.ME  2.743106e+12            Energy    \n",
       "4        AAPL  2.003216e+12         Technology   \n",
       "...       ...           ...                ...   \n",
       "1153      CTW  1.007537e+10                      \n",
       "1154     XRAY  1.007267e+10         Healthcare   \n",
       "1155   WSP.TO  1.002157e+10        Industrials   \n",
       "1156     BFAM  1.001853e+10  Consumer Cyclical   \n",
       "1157    VEVRX  1.000479e+10                      \n",
       "\n",
       "                            industry      beta      price  lastAnnualDividend  \\\n",
       "0                              Banks  1.544100    210.070             18.7000   \n",
       "1                             Energy  1.319190    163.960             15.2400   \n",
       "2                          Materials  0.681280  19754.000           1161.2900   \n",
       "3                             Energy  1.027080   4204.000            542.0000   \n",
       "4               Consumer Electronics  1.339240    117.130              0.7825   \n",
       "...                              ...       ...        ...                 ...   \n",
       "1153                                 -0.035657     25.320              1.8750   \n",
       "1154  Medical Instruments & Supplies  0.897130     46.100              0.4000   \n",
       "1155      Engineering & Construction  0.976340     88.710              1.5000   \n",
       "1156               Personal Services  0.863060    165.845              0.0000   \n",
       "1157                                  0.000000     37.070              2.4820   \n",
       "\n",
       "         volume                 exchange exchangeShortName  \n",
       "0      56583594                      MCX          EURONEXT  \n",
       "1      37229296                      MCX          EURONEXT  \n",
       "2        276943                      MCX          EURONEXT  \n",
       "3       1031446                      MCX          EURONEXT  \n",
       "4     174072926     Nasdaq Global Select            NASDAQ  \n",
       "...         ...                      ...               ...  \n",
       "1153      20026  New York Stock Exchange              NYSE  \n",
       "1154    1353226     Nasdaq Global Select            NASDAQ  \n",
       "1155     159906                  Toronto               TSX  \n",
       "1156     537853  New York Stock Exchange              NYSE  \n",
       "1157          0                   Nasdaq       MUTUAL_FUND  \n",
       "\n",
       "[1158 rows x 10 columns]"
      ]
     },
     "execution_count": 37,
     "metadata": {},
     "output_type": "execute_result"
    }
   ],
   "source": [
    "data"
   ]
  },
  {
   "cell_type": "markdown",
   "metadata": {},
   "source": [
    "# Persistencia en Archivos"
   ]
  },
  {
   "cell_type": "code",
   "execution_count": 38,
   "metadata": {},
   "outputs": [
    {
     "name": "stdout",
     "output_type": "stream",
     "text": [
      "415 ms ± 68.7 ms per loop (mean ± std. dev. of 7 runs, 1 loop each)\n"
     ]
    }
   ],
   "source": [
    "%%timeit\n",
    "data.to_excel('fmp.xlsx')"
   ]
  },
  {
   "cell_type": "code",
   "execution_count": 39,
   "metadata": {
    "scrolled": true
   },
   "outputs": [
    {
     "name": "stdout",
     "output_type": "stream",
     "text": [
      "19 ms ± 3.36 ms per loop (mean ± std. dev. of 7 runs, 10 loops each)\n"
     ]
    }
   ],
   "source": [
    "%%timeit\n",
    "data.to_csv('fmp.csv')"
   ]
  },
  {
   "cell_type": "code",
   "execution_count": 40,
   "metadata": {},
   "outputs": [],
   "source": [
    "import json\n",
    "\n",
    "js = data.to_dict()"
   ]
  },
  {
   "cell_type": "code",
   "execution_count": 47,
   "metadata": {},
   "outputs": [
    {
     "name": "stdout",
     "output_type": "stream",
     "text": [
      "98.4 ms ± 11.6 ms per loop (mean ± std. dev. of 7 runs, 10 loops each)\n"
     ]
    }
   ],
   "source": [
    "%%timeit\n",
    "with open('fmp.json', 'w') as f:\n",
    "    json.dump(js, f)"
   ]
  },
  {
   "cell_type": "code",
   "execution_count": 48,
   "metadata": {},
   "outputs": [],
   "source": [
    "import ujson"
   ]
  },
  {
   "cell_type": "code",
   "execution_count": 49,
   "metadata": {},
   "outputs": [
    {
     "name": "stdout",
     "output_type": "stream",
     "text": [
      "8.99 ms ± 546 µs per loop (mean ± std. dev. of 7 runs, 100 loops each)\n"
     ]
    }
   ],
   "source": [
    "%%timeit\n",
    "with open('fmp.ujson', 'w') as f:\n",
    "    ujson.dump(js, f)"
   ]
  },
  {
   "cell_type": "markdown",
   "metadata": {},
   "source": [
    "# Serializado"
   ]
  },
  {
   "cell_type": "code",
   "execution_count": 50,
   "metadata": {},
   "outputs": [],
   "source": [
    "import pickle"
   ]
  },
  {
   "cell_type": "code",
   "execution_count": 57,
   "metadata": {},
   "outputs": [
    {
     "name": "stdout",
     "output_type": "stream",
     "text": [
      "3.11 ms ± 187 µs per loop (mean ± std. dev. of 7 runs, 100 loops each)\n"
     ]
    }
   ],
   "source": [
    "%%timeit\n",
    "with open('fmp_df.pickle', 'wb') as f:\n",
    "    pickle.dump(data, f)"
   ]
  },
  {
   "cell_type": "code",
   "execution_count": 55,
   "metadata": {},
   "outputs": [
    {
     "name": "stdout",
     "output_type": "stream",
     "text": [
      "3.7 ms ± 572 µs per loop (mean ± std. dev. of 7 runs, 100 loops each)\n"
     ]
    }
   ],
   "source": [
    "%%timeit\n",
    "with open('fmp_js.pickle', 'wb') as f:\n",
    "    pickle.dump(js, f)"
   ]
  },
  {
   "cell_type": "code",
   "execution_count": null,
   "metadata": {},
   "outputs": [],
   "source": []
  },
  {
   "cell_type": "code",
   "execution_count": null,
   "metadata": {},
   "outputs": [],
   "source": []
  },
  {
   "cell_type": "code",
   "execution_count": null,
   "metadata": {},
   "outputs": [],
   "source": []
  },
  {
   "cell_type": "markdown",
   "metadata": {},
   "source": [
    "# Compresion de archivos en disco"
   ]
  },
  {
   "cell_type": "code",
   "execution_count": 26,
   "metadata": {},
   "outputs": [],
   "source": [
    "import zipfile"
   ]
  },
  {
   "cell_type": "code",
   "execution_count": 42,
   "metadata": {},
   "outputs": [
    {
     "name": "stdout",
     "output_type": "stream",
     "text": [
      "15.8 ms ± 1.1 ms per loop (mean ± std. dev. of 7 runs, 10 loops each)\n"
     ]
    }
   ],
   "source": [
    "%%timeit\n",
    "zipfile.ZipFile('fmp_excel.zip','w').write('fmp.xlsx', compress_type = zipfile.ZIP_BZIP2)"
   ]
  },
  {
   "cell_type": "code",
   "execution_count": 43,
   "metadata": {},
   "outputs": [
    {
     "name": "stdout",
     "output_type": "stream",
     "text": [
      "12.1 ms ± 186 µs per loop (mean ± std. dev. of 7 runs, 100 loops each)\n"
     ]
    }
   ],
   "source": [
    "%%timeit\n",
    "zipfile.ZipFile('fmp_csv.zip','w').write('fmp.csv', compress_type = zipfile.ZIP_BZIP2)"
   ]
  },
  {
   "cell_type": "code",
   "execution_count": 39,
   "metadata": {},
   "outputs": [
    {
     "name": "stdout",
     "output_type": "stream",
     "text": [
      "20.2 ms ± 499 µs per loop (mean ± std. dev. of 7 runs, 10 loops each)\n"
     ]
    }
   ],
   "source": [
    "%%timeit\n",
    "zipfile.ZipFile('fmp_json.zip','w').write('fmp.json', compress_type = zipfile.ZIP_BZIP2)"
   ]
  },
  {
   "cell_type": "code",
   "execution_count": 37,
   "metadata": {},
   "outputs": [
    {
     "name": "stdout",
     "output_type": "stream",
     "text": [
      "17 ms ± 401 µs per loop (mean ± std. dev. of 7 runs, 100 loops each)\n"
     ]
    }
   ],
   "source": [
    "%%timeit\n",
    "zipfile.ZipFile('fmp_ujson.zip','w').write('fmp.ujson', compress_type = zipfile.ZIP_BZIP2)"
   ]
  },
  {
   "cell_type": "code",
   "execution_count": null,
   "metadata": {},
   "outputs": [],
   "source": [
    "# ZIP_BZIP2 = + tiempo + compresion\n",
    "# ZIP_DEFLATED = - tiempo - compresion"
   ]
  },
  {
   "cell_type": "markdown",
   "metadata": {},
   "source": [
    "# Descompresion de archivos"
   ]
  },
  {
   "cell_type": "code",
   "execution_count": 63,
   "metadata": {},
   "outputs": [],
   "source": [
    "zip_excel = zipfile.ZipFile('fmp_excel.zip','r')\n",
    "zip_excel.extractall()"
   ]
  },
  {
   "cell_type": "code",
   "execution_count": 62,
   "metadata": {},
   "outputs": [
    {
     "name": "stdout",
     "output_type": "stream",
     "text": [
      "7.11 ms ± 230 µs per loop (mean ± std. dev. of 7 runs, 100 loops each)\n"
     ]
    }
   ],
   "source": [
    "%%timeit\n",
    "zipfile.ZipFile('fmp_excel.zip','r').extractall()"
   ]
  },
  {
   "cell_type": "code",
   "execution_count": 64,
   "metadata": {},
   "outputs": [
    {
     "name": "stdout",
     "output_type": "stream",
     "text": [
      "5.63 ms ± 49.3 µs per loop (mean ± std. dev. of 7 runs, 100 loops each)\n"
     ]
    }
   ],
   "source": [
    "%%timeit\n",
    "zipfile.ZipFile('fmp_csv.zip','r').extractall()"
   ]
  },
  {
   "cell_type": "code",
   "execution_count": 65,
   "metadata": {},
   "outputs": [
    {
     "name": "stdout",
     "output_type": "stream",
     "text": [
      "8.34 ms ± 654 µs per loop (mean ± std. dev. of 7 runs, 100 loops each)\n"
     ]
    }
   ],
   "source": [
    "%%timeit\n",
    "zipfile.ZipFile('fmp_json.zip','r').extractall()"
   ]
  },
  {
   "cell_type": "code",
   "execution_count": 66,
   "metadata": {},
   "outputs": [
    {
     "name": "stdout",
     "output_type": "stream",
     "text": [
      "7.6 ms ± 375 µs per loop (mean ± std. dev. of 7 runs, 100 loops each)\n"
     ]
    }
   ],
   "source": [
    "%%timeit\n",
    "zipfile.ZipFile('fmp_ujson.zip','r').extractall()"
   ]
  },
  {
   "cell_type": "markdown",
   "metadata": {},
   "source": [
    "# Persistencia con tablas \"grandes\""
   ]
  },
  {
   "cell_type": "code",
   "execution_count": null,
   "metadata": {},
   "outputs": [],
   "source": []
  },
  {
   "cell_type": "code",
   "execution_count": 1,
   "metadata": {},
   "outputs": [],
   "source": [
    "#!pip install PyMySQL\n",
    "from sqlalchemy import create_engine\n",
    "\n",
    "#Seteo el USER : PASS @ HOST / BBDD_NAME\n",
    "sql_engine = create_engine('mysql+pymysql://root:@localhost/curso_2_clase_8')\n",
    "sql_conn = sql_engine.connect()"
   ]
  },
  {
   "cell_type": "code",
   "execution_count": null,
   "metadata": {},
   "outputs": [],
   "source": []
  },
  {
   "cell_type": "code",
   "execution_count": 2,
   "metadata": {},
   "outputs": [],
   "source": [
    "import yfinance as yf\n",
    "import pandas as pd"
   ]
  },
  {
   "cell_type": "code",
   "execution_count": 3,
   "metadata": {},
   "outputs": [
    {
     "name": "stdout",
     "output_type": "stream",
     "text": [
      "Wall time: 2.31 s\n"
     ]
    }
   ],
   "source": [
    "%%time\n",
    "sp500_wiki = pd.read_html('https://en.wikipedia.org/wiki/List_of_S%26P_500_companies')[0]\n",
    "sp500_tickers = list(sp500_wiki.Symbol)\n",
    "sp500_tickers = [t for t in sp500_tickers if t not in ['BRK.B' ,'BF.B']]"
   ]
  },
  {
   "cell_type": "code",
   "execution_count": 4,
   "metadata": {},
   "outputs": [],
   "source": [
    "# ya que estamos\n",
    "pd.DataFrame(sp500_tickers).to_sql(con=sql_conn, name='sp500tickers', if_exists='replace')"
   ]
  },
  {
   "cell_type": "code",
   "execution_count": null,
   "metadata": {},
   "outputs": [],
   "source": []
  },
  {
   "cell_type": "code",
   "execution_count": 6,
   "metadata": {},
   "outputs": [
    {
     "name": "stdout",
     "output_type": "stream",
     "text": [
      "21 ms ± 3.46 ms per loop (mean ± std. dev. of 7 runs, 100 loops each)\n"
     ]
    }
   ],
   "source": [
    "%%timeit\n",
    "ticks = pd.read_sql('sp500tickers', sql_conn)"
   ]
  },
  {
   "cell_type": "code",
   "execution_count": 7,
   "metadata": {},
   "outputs": [
    {
     "data": {
      "text/html": [
       "<div>\n",
       "<style scoped>\n",
       "    .dataframe tbody tr th:only-of-type {\n",
       "        vertical-align: middle;\n",
       "    }\n",
       "\n",
       "    .dataframe tbody tr th {\n",
       "        vertical-align: top;\n",
       "    }\n",
       "\n",
       "    .dataframe thead th {\n",
       "        text-align: right;\n",
       "    }\n",
       "</style>\n",
       "<table border=\"1\" class=\"dataframe\">\n",
       "  <thead>\n",
       "    <tr style=\"text-align: right;\">\n",
       "      <th></th>\n",
       "      <th>index</th>\n",
       "      <th>0</th>\n",
       "    </tr>\n",
       "  </thead>\n",
       "  <tbody>\n",
       "    <tr>\n",
       "      <th>0</th>\n",
       "      <td>0</td>\n",
       "      <td>MMM</td>\n",
       "    </tr>\n",
       "    <tr>\n",
       "      <th>1</th>\n",
       "      <td>1</td>\n",
       "      <td>ABT</td>\n",
       "    </tr>\n",
       "    <tr>\n",
       "      <th>2</th>\n",
       "      <td>2</td>\n",
       "      <td>ABBV</td>\n",
       "    </tr>\n",
       "    <tr>\n",
       "      <th>3</th>\n",
       "      <td>3</td>\n",
       "      <td>ABMD</td>\n",
       "    </tr>\n",
       "    <tr>\n",
       "      <th>4</th>\n",
       "      <td>4</td>\n",
       "      <td>ACN</td>\n",
       "    </tr>\n",
       "    <tr>\n",
       "      <th>...</th>\n",
       "      <td>...</td>\n",
       "      <td>...</td>\n",
       "    </tr>\n",
       "    <tr>\n",
       "      <th>498</th>\n",
       "      <td>498</td>\n",
       "      <td>YUM</td>\n",
       "    </tr>\n",
       "    <tr>\n",
       "      <th>499</th>\n",
       "      <td>499</td>\n",
       "      <td>ZBRA</td>\n",
       "    </tr>\n",
       "    <tr>\n",
       "      <th>500</th>\n",
       "      <td>500</td>\n",
       "      <td>ZBH</td>\n",
       "    </tr>\n",
       "    <tr>\n",
       "      <th>501</th>\n",
       "      <td>501</td>\n",
       "      <td>ZION</td>\n",
       "    </tr>\n",
       "    <tr>\n",
       "      <th>502</th>\n",
       "      <td>502</td>\n",
       "      <td>ZTS</td>\n",
       "    </tr>\n",
       "  </tbody>\n",
       "</table>\n",
       "<p>503 rows × 2 columns</p>\n",
       "</div>"
      ],
      "text/plain": [
       "     index     0\n",
       "0        0   MMM\n",
       "1        1   ABT\n",
       "2        2  ABBV\n",
       "3        3  ABMD\n",
       "4        4   ACN\n",
       "..     ...   ...\n",
       "498    498   YUM\n",
       "499    499  ZBRA\n",
       "500    500   ZBH\n",
       "501    501  ZION\n",
       "502    502   ZTS\n",
       "\n",
       "[503 rows x 2 columns]"
      ]
     },
     "execution_count": 7,
     "metadata": {},
     "output_type": "execute_result"
    }
   ],
   "source": [
    "ticks"
   ]
  },
  {
   "cell_type": "code",
   "execution_count": null,
   "metadata": {},
   "outputs": [],
   "source": []
  },
  {
   "cell_type": "code",
   "execution_count": null,
   "metadata": {},
   "outputs": [],
   "source": []
  },
  {
   "cell_type": "code",
   "execution_count": 8,
   "metadata": {},
   "outputs": [],
   "source": [
    "def getDataM(listado, start='2000-01-01', interval='1d', end=None):\n",
    "    data = yf.download(listado, start=start, end=end, interval=interval, auto_adjust=True)\n",
    "    return data.swaplevel(i=1, j=0, axis=1)"
   ]
  },
  {
   "cell_type": "code",
   "execution_count": 9,
   "metadata": {},
   "outputs": [
    {
     "name": "stdout",
     "output_type": "stream",
     "text": [
      "[*********************100%***********************]  503 of 503 completed\n"
     ]
    }
   ],
   "source": [
    "df_sp500 = getDataM(sp500_tickers, start='2012-01-01')"
   ]
  },
  {
   "cell_type": "markdown",
   "metadata": {},
   "source": [
    "## Preparamos la data"
   ]
  },
  {
   "cell_type": "code",
   "execution_count": 75,
   "metadata": {},
   "outputs": [],
   "source": [
    "import tqdm, sys, os"
   ]
  },
  {
   "cell_type": "code",
   "execution_count": 82,
   "metadata": {},
   "outputs": [
    {
     "name": "stdout",
     "output_type": "stream",
     "text": [
      "100%|████████████████████████████████████████████████████████████████████████████████| 503/503 [00:08<00:00, 56.22it/s]\n"
     ]
    },
    {
     "data": {
      "text/html": [
       "<div>\n",
       "<style scoped>\n",
       "    .dataframe tbody tr th:only-of-type {\n",
       "        vertical-align: middle;\n",
       "    }\n",
       "\n",
       "    .dataframe tbody tr th {\n",
       "        vertical-align: top;\n",
       "    }\n",
       "\n",
       "    .dataframe thead th {\n",
       "        text-align: right;\n",
       "    }\n",
       "</style>\n",
       "<table border=\"1\" class=\"dataframe\">\n",
       "  <thead>\n",
       "    <tr style=\"text-align: right;\">\n",
       "      <th></th>\n",
       "      <th>Close</th>\n",
       "      <th>High</th>\n",
       "      <th>Low</th>\n",
       "      <th>Open</th>\n",
       "      <th>Volume</th>\n",
       "      <th>ticker</th>\n",
       "      <th>variacion</th>\n",
       "      <th>volatilidad</th>\n",
       "      <th>vol_mln</th>\n",
       "    </tr>\n",
       "    <tr>\n",
       "      <th>Date</th>\n",
       "      <th></th>\n",
       "      <th></th>\n",
       "      <th></th>\n",
       "      <th></th>\n",
       "      <th></th>\n",
       "      <th></th>\n",
       "      <th></th>\n",
       "      <th></th>\n",
       "      <th></th>\n",
       "    </tr>\n",
       "  </thead>\n",
       "  <tbody>\n",
       "    <tr>\n",
       "      <th>2012-12-31</th>\n",
       "      <td>75.33</td>\n",
       "      <td>75.39</td>\n",
       "      <td>74.15</td>\n",
       "      <td>74.27</td>\n",
       "      <td>2580600.0</td>\n",
       "      <td>MMM</td>\n",
       "      <td>1.17</td>\n",
       "      <td>14.14</td>\n",
       "      <td>194.39</td>\n",
       "    </tr>\n",
       "    <tr>\n",
       "      <th>2013-01-02</th>\n",
       "      <td>76.89</td>\n",
       "      <td>76.90</td>\n",
       "      <td>76.23</td>\n",
       "      <td>76.42</td>\n",
       "      <td>3206700.0</td>\n",
       "      <td>MMM</td>\n",
       "      <td>2.08</td>\n",
       "      <td>14.26</td>\n",
       "      <td>246.58</td>\n",
       "    </tr>\n",
       "    <tr>\n",
       "      <th>2013-01-03</th>\n",
       "      <td>76.81</td>\n",
       "      <td>77.02</td>\n",
       "      <td>76.37</td>\n",
       "      <td>76.54</td>\n",
       "      <td>2704600.0</td>\n",
       "      <td>MMM</td>\n",
       "      <td>-0.12</td>\n",
       "      <td>14.25</td>\n",
       "      <td>207.73</td>\n",
       "    </tr>\n",
       "    <tr>\n",
       "      <th>2013-01-04</th>\n",
       "      <td>77.37</td>\n",
       "      <td>77.46</td>\n",
       "      <td>76.70</td>\n",
       "      <td>76.90</td>\n",
       "      <td>2704900.0</td>\n",
       "      <td>MMM</td>\n",
       "      <td>0.74</td>\n",
       "      <td>14.25</td>\n",
       "      <td>209.29</td>\n",
       "    </tr>\n",
       "    <tr>\n",
       "      <th>2013-01-07</th>\n",
       "      <td>77.47</td>\n",
       "      <td>77.67</td>\n",
       "      <td>76.88</td>\n",
       "      <td>77.09</td>\n",
       "      <td>2745800.0</td>\n",
       "      <td>MMM</td>\n",
       "      <td>0.13</td>\n",
       "      <td>14.24</td>\n",
       "      <td>212.72</td>\n",
       "    </tr>\n",
       "    <tr>\n",
       "      <th>...</th>\n",
       "      <td>...</td>\n",
       "      <td>...</td>\n",
       "      <td>...</td>\n",
       "      <td>...</td>\n",
       "      <td>...</td>\n",
       "      <td>...</td>\n",
       "      <td>...</td>\n",
       "      <td>...</td>\n",
       "      <td>...</td>\n",
       "    </tr>\n",
       "    <tr>\n",
       "      <th>2020-10-12</th>\n",
       "      <td>168.55</td>\n",
       "      <td>168.96</td>\n",
       "      <td>166.19</td>\n",
       "      <td>167.08</td>\n",
       "      <td>1582300.0</td>\n",
       "      <td>ZTS</td>\n",
       "      <td>1.89</td>\n",
       "      <td>38.37</td>\n",
       "      <td>266.70</td>\n",
       "    </tr>\n",
       "    <tr>\n",
       "      <th>2020-10-13</th>\n",
       "      <td>165.32</td>\n",
       "      <td>168.06</td>\n",
       "      <td>165.31</td>\n",
       "      <td>167.84</td>\n",
       "      <td>1515800.0</td>\n",
       "      <td>ZTS</td>\n",
       "      <td>-1.92</td>\n",
       "      <td>38.42</td>\n",
       "      <td>250.59</td>\n",
       "    </tr>\n",
       "    <tr>\n",
       "      <th>2020-10-14</th>\n",
       "      <td>163.66</td>\n",
       "      <td>166.70</td>\n",
       "      <td>162.79</td>\n",
       "      <td>166.54</td>\n",
       "      <td>1319500.0</td>\n",
       "      <td>ZTS</td>\n",
       "      <td>-1.00</td>\n",
       "      <td>38.44</td>\n",
       "      <td>215.95</td>\n",
       "    </tr>\n",
       "    <tr>\n",
       "      <th>2020-10-15</th>\n",
       "      <td>162.99</td>\n",
       "      <td>163.23</td>\n",
       "      <td>161.21</td>\n",
       "      <td>162.05</td>\n",
       "      <td>1363800.0</td>\n",
       "      <td>ZTS</td>\n",
       "      <td>-0.41</td>\n",
       "      <td>38.44</td>\n",
       "      <td>222.29</td>\n",
       "    </tr>\n",
       "    <tr>\n",
       "      <th>2020-10-16</th>\n",
       "      <td>163.55</td>\n",
       "      <td>165.85</td>\n",
       "      <td>163.32</td>\n",
       "      <td>163.98</td>\n",
       "      <td>1631000.0</td>\n",
       "      <td>ZTS</td>\n",
       "      <td>0.34</td>\n",
       "      <td>38.42</td>\n",
       "      <td>266.75</td>\n",
       "    </tr>\n",
       "  </tbody>\n",
       "</table>\n",
       "<p>948551 rows × 9 columns</p>\n",
       "</div>"
      ],
      "text/plain": [
       "             Close    High     Low    Open     Volume ticker  variacion  \\\n",
       "Date                                                                      \n",
       "2012-12-31   75.33   75.39   74.15   74.27  2580600.0    MMM       1.17   \n",
       "2013-01-02   76.89   76.90   76.23   76.42  3206700.0    MMM       2.08   \n",
       "2013-01-03   76.81   77.02   76.37   76.54  2704600.0    MMM      -0.12   \n",
       "2013-01-04   77.37   77.46   76.70   76.90  2704900.0    MMM       0.74   \n",
       "2013-01-07   77.47   77.67   76.88   77.09  2745800.0    MMM       0.13   \n",
       "...            ...     ...     ...     ...        ...    ...        ...   \n",
       "2020-10-12  168.55  168.96  166.19  167.08  1582300.0    ZTS       1.89   \n",
       "2020-10-13  165.32  168.06  165.31  167.84  1515800.0    ZTS      -1.92   \n",
       "2020-10-14  163.66  166.70  162.79  166.54  1319500.0    ZTS      -1.00   \n",
       "2020-10-15  162.99  163.23  161.21  162.05  1363800.0    ZTS      -0.41   \n",
       "2020-10-16  163.55  165.85  163.32  163.98  1631000.0    ZTS       0.34   \n",
       "\n",
       "            volatilidad  vol_mln  \n",
       "Date                              \n",
       "2012-12-31        14.14   194.39  \n",
       "2013-01-02        14.26   246.58  \n",
       "2013-01-03        14.25   207.73  \n",
       "2013-01-04        14.25   209.29  \n",
       "2013-01-07        14.24   212.72  \n",
       "...                 ...      ...  \n",
       "2020-10-12        38.37   266.70  \n",
       "2020-10-13        38.42   250.59  \n",
       "2020-10-14        38.44   215.95  \n",
       "2020-10-15        38.44   222.29  \n",
       "2020-10-16        38.42   266.75  \n",
       "\n",
       "[948551 rows x 9 columns]"
      ]
     },
     "execution_count": 82,
     "metadata": {},
     "output_type": "execute_result"
    }
   ],
   "source": [
    "tablas = []\n",
    "with tqdm.tqdm(total=len(sp500_tickers), file=sys.stdout) as pbar:\n",
    "    for ticker in sp500_tickers:\n",
    "        pbar.update()\n",
    "        tabla = df_sp500[ticker].copy()\n",
    "        tabla['ticker'] = ticker\n",
    "        tabla['variacion'] = tabla.Close.pct_change() *100\n",
    "        tabla['volatilidad'] = tabla.variacion.rolling(250).std() * 250**0.5\n",
    "        tabla['vol_mln'] = tabla.Volume * tabla.Close / 1000000\n",
    "        tabla = tabla.dropna().round(2)\n",
    "        tablas.append(tabla)\n",
    "\n",
    "tabla_full = pd.concat(tablas)        \n",
    "tabla_full"
   ]
  },
  {
   "cell_type": "markdown",
   "metadata": {},
   "source": [
    "## A excel de una"
   ]
  },
  {
   "cell_type": "code",
   "execution_count": 10,
   "metadata": {},
   "outputs": [
    {
     "data": {
      "text/plain": [
       "'C:\\\\Users\\\\floda\\\\Desktop\\\\PythonTraders'"
      ]
     },
     "execution_count": 10,
     "metadata": {},
     "output_type": "execute_result"
    }
   ],
   "source": [
    "import os\n",
    "\n",
    "os.getcwd()"
   ]
  },
  {
   "cell_type": "code",
   "execution_count": null,
   "metadata": {},
   "outputs": [],
   "source": []
  },
  {
   "cell_type": "code",
   "execution_count": null,
   "metadata": {},
   "outputs": [],
   "source": []
  },
  {
   "cell_type": "code",
   "execution_count": null,
   "metadata": {},
   "outputs": [],
   "source": []
  },
  {
   "cell_type": "code",
   "execution_count": null,
   "metadata": {},
   "outputs": [],
   "source": []
  },
  {
   "cell_type": "code",
   "execution_count": 13,
   "metadata": {},
   "outputs": [
    {
     "name": "stdout",
     "output_type": "stream",
     "text": [
      "Wall time: 3min 27s\n"
     ]
    }
   ],
   "source": [
    "%%time\n",
    "tabla_full.to_excel('df_sp500.xlsx')"
   ]
  },
  {
   "cell_type": "code",
   "execution_count": 86,
   "metadata": {},
   "outputs": [
    {
     "name": "stdout",
     "output_type": "stream",
     "text": [
      "186 ms ± 5.42 ms per loop (mean ± std. dev. of 7 runs, 1 loop each)\n"
     ]
    }
   ],
   "source": [
    "%%timeit\n",
    "with open('pickle_great.dat', 'wb') as f:\n",
    "    pickle.dump(tabla_full, f)"
   ]
  },
  {
   "cell_type": "markdown",
   "metadata": {},
   "source": [
    "## A Excel en archivitos"
   ]
  },
  {
   "cell_type": "code",
   "execution_count": 16,
   "metadata": {},
   "outputs": [],
   "source": [
    "# os.chdir('Persistencia\\\\excels_sp500')"
   ]
  },
  {
   "cell_type": "code",
   "execution_count": 20,
   "metadata": {
    "scrolled": true
   },
   "outputs": [
    {
     "name": "stdout",
     "output_type": "stream",
     "text": [
      "100%|████████████████████████████████████████████████████████████████████████████████| 503/503 [03:51<00:00,  2.17it/s]\n",
      "Wall time: 3min 51s\n"
     ]
    }
   ],
   "source": [
    "%%time\n",
    "with tqdm.tqdm(total=len(sp500_tickers), file=sys.stdout) as pbar:\n",
    "    for ticker in sp500_tickers:\n",
    "        pbar.update()\n",
    "        tabla = df_sp500[ticker].copy()\n",
    "        tabla['ticker'] = ticker\n",
    "        tabla['variacion'] = tabla.Close.pct_change()\n",
    "        tabla['volatilidad'] = tabla.variacion.rolling(250).std() * 250**0.5\n",
    "        tabla['vol_mln'] = tabla.Volume * tabla.Close / 1000000\n",
    "        tabla = tabla.dropna().round(2)\n",
    "        tabla.to_excel(ticker+'.xlsx') "
   ]
  },
  {
   "cell_type": "code",
   "execution_count": 21,
   "metadata": {},
   "outputs": [
    {
     "data": {
      "text/plain": [
       "'C:\\\\Users\\\\floda\\\\Desktop\\\\PythonTraders\\\\Persistencia\\\\excels_sp500'"
      ]
     },
     "execution_count": 21,
     "metadata": {},
     "output_type": "execute_result"
    }
   ],
   "source": [
    "os.getcwd()"
   ]
  },
  {
   "cell_type": "code",
   "execution_count": 22,
   "metadata": {},
   "outputs": [],
   "source": [
    "os.chdir('..')"
   ]
  },
  {
   "cell_type": "code",
   "execution_count": 23,
   "metadata": {},
   "outputs": [
    {
     "data": {
      "text/plain": [
       "'C:\\\\Users\\\\floda\\\\Desktop\\\\PythonTraders\\\\Persistencia'"
      ]
     },
     "execution_count": 23,
     "metadata": {},
     "output_type": "execute_result"
    }
   ],
   "source": [
    "os.getcwd()"
   ]
  },
  {
   "cell_type": "markdown",
   "metadata": {},
   "source": [
    "## A SQLite por tablas"
   ]
  },
  {
   "cell_type": "code",
   "execution_count": 50,
   "metadata": {},
   "outputs": [],
   "source": [
    "sqlite_engine = create_engine('sqlite:///df_sp500.db', echo=False)\n",
    "sqlite_conn = sqlite_engine.connect()"
   ]
  },
  {
   "cell_type": "code",
   "execution_count": 51,
   "metadata": {},
   "outputs": [
    {
     "name": "stdout",
     "output_type": "stream",
     "text": [
      "100%|████████████████████████████████████████████████████████████████████████████████| 503/503 [01:12<00:00,  6.98it/s]\n"
     ]
    }
   ],
   "source": [
    "with tqdm.tqdm(total=len(sp500_tickers), file=sys.stdout) as pbar:\n",
    "    for ticker in sp500_tickers:\n",
    "        pbar.update()\n",
    "        tabla_full.loc[tabla_full.ticker == ticker].to_sql(con=sqlite_conn, name=ticker, if_exists='replace')"
   ]
  },
  {
   "cell_type": "markdown",
   "metadata": {},
   "source": [
    "## A SQLite entera"
   ]
  },
  {
   "cell_type": "code",
   "execution_count": 53,
   "metadata": {},
   "outputs": [
    {
     "name": "stdout",
     "output_type": "stream",
     "text": [
      "Wall time: 60 s\n"
     ]
    }
   ],
   "source": [
    "%%time\n",
    "tabla_full.to_sql(con=sqlite_conn, name='sp500', if_exists='replace')"
   ]
  },
  {
   "cell_type": "markdown",
   "metadata": {},
   "source": [
    "## A mySQL por tablas"
   ]
  },
  {
   "cell_type": "code",
   "execution_count": 54,
   "metadata": {},
   "outputs": [
    {
     "name": "stdout",
     "output_type": "stream",
     "text": [
      "100%|████████████████████████████████████████████████████████████████████████████████| 503/503 [03:36<00:00,  2.32it/s]\n"
     ]
    }
   ],
   "source": [
    "with tqdm.tqdm(total=len(sp500_tickers), file=sys.stdout) as pbar:\n",
    "    for ticker in sp500_tickers:\n",
    "        pbar.update()\n",
    "        tabla_full.loc[tabla_full.ticker == ticker].to_sql(con=sql_conn, name=ticker.lower(), if_exists='replace')"
   ]
  },
  {
   "cell_type": "markdown",
   "metadata": {},
   "source": [
    "## A MySQL entera"
   ]
  },
  {
   "cell_type": "code",
   "execution_count": 55,
   "metadata": {},
   "outputs": [
    {
     "name": "stdout",
     "output_type": "stream",
     "text": [
      "Wall time: 1min 40s\n"
     ]
    }
   ],
   "source": [
    "%%time\n",
    "tabla_full.to_sql(con=sql_conn, name='sp500', if_exists='replace')"
   ]
  },
  {
   "cell_type": "markdown",
   "metadata": {},
   "source": [
    "# Lectura de datos guardados"
   ]
  },
  {
   "cell_type": "markdown",
   "metadata": {},
   "source": [
    "## Lectura desde Excel o Tablas x Activo"
   ]
  },
  {
   "cell_type": "markdown",
   "metadata": {},
   "source": [
    "### Excel"
   ]
  },
  {
   "cell_type": "code",
   "execution_count": 56,
   "metadata": {},
   "outputs": [
    {
     "data": {
      "text/plain": [
       "'C:\\\\Users\\\\floda\\\\Desktop\\\\PythonTraders\\\\Persistencia'"
      ]
     },
     "execution_count": 56,
     "metadata": {},
     "output_type": "execute_result"
    }
   ],
   "source": [
    "os.getcwd()"
   ]
  },
  {
   "cell_type": "code",
   "execution_count": 57,
   "metadata": {},
   "outputs": [],
   "source": [
    "os.chdir('excels_sp500')"
   ]
  },
  {
   "cell_type": "code",
   "execution_count": 58,
   "metadata": {},
   "outputs": [
    {
     "data": {
      "text/plain": [
       "'C:\\\\Users\\\\floda\\\\Desktop\\\\PythonTraders\\\\Persistencia\\\\excels_sp500'"
      ]
     },
     "execution_count": 58,
     "metadata": {},
     "output_type": "execute_result"
    }
   ],
   "source": [
    "os.getcwd()"
   ]
  },
  {
   "cell_type": "code",
   "execution_count": 59,
   "metadata": {},
   "outputs": [
    {
     "name": "stdout",
     "output_type": "stream",
     "text": [
      "298 ms ± 43.8 ms per loop (mean ± std. dev. of 7 runs, 1 loop each)\n"
     ]
    }
   ],
   "source": [
    "%%timeit\n",
    "pd.read_excel('AAPL.xlsx')"
   ]
  },
  {
   "cell_type": "markdown",
   "metadata": {},
   "source": [
    "### SQL"
   ]
  },
  {
   "cell_type": "code",
   "execution_count": 60,
   "metadata": {},
   "outputs": [
    {
     "name": "stdout",
     "output_type": "stream",
     "text": [
      "100 ms ± 3.6 ms per loop (mean ± std. dev. of 7 runs, 10 loops each)\n"
     ]
    }
   ],
   "source": [
    "%%timeit\n",
    "pd.read_sql('aapl', con=sql_conn)"
   ]
  },
  {
   "cell_type": "markdown",
   "metadata": {},
   "source": [
    "### SQLite"
   ]
  },
  {
   "cell_type": "code",
   "execution_count": 61,
   "metadata": {},
   "outputs": [
    {
     "name": "stdout",
     "output_type": "stream",
     "text": [
      "28.5 ms ± 413 µs per loop (mean ± std. dev. of 7 runs, 10 loops each)\n"
     ]
    }
   ],
   "source": [
    "%%timeit\n",
    "pd.read_sql('AAPL', con=sqlite_conn)"
   ]
  },
  {
   "cell_type": "markdown",
   "metadata": {},
   "source": [
    "## Lectura completa desde MySQL"
   ]
  },
  {
   "cell_type": "code",
   "execution_count": 62,
   "metadata": {},
   "outputs": [
    {
     "name": "stdout",
     "output_type": "stream",
     "text": [
      "33.2 s ± 4.39 s per loop (mean ± std. dev. of 7 runs, 1 loop each)\n"
     ]
    }
   ],
   "source": [
    "%%timeit\n",
    "pd.read_sql('sp500', con=sql_conn)"
   ]
  },
  {
   "cell_type": "markdown",
   "metadata": {},
   "source": [
    "## Lectura completa desde SQLite"
   ]
  },
  {
   "cell_type": "code",
   "execution_count": 63,
   "metadata": {},
   "outputs": [
    {
     "name": "stdout",
     "output_type": "stream",
     "text": [
      "9.37 s ± 889 ms per loop (mean ± std. dev. of 7 runs, 1 loop each)\n"
     ]
    }
   ],
   "source": [
    "%%timeit\n",
    "pd.read_sql('sp500', con=sqlite_conn)"
   ]
  },
  {
   "cell_type": "markdown",
   "metadata": {},
   "source": [
    "## Lectura completa desde Excel"
   ]
  },
  {
   "cell_type": "code",
   "execution_count": 64,
   "metadata": {},
   "outputs": [
    {
     "data": {
      "text/plain": [
       "'C:\\\\Users\\\\floda\\\\Desktop\\\\PythonTraders\\\\Persistencia'"
      ]
     },
     "execution_count": 64,
     "metadata": {},
     "output_type": "execute_result"
    }
   ],
   "source": [
    "os.chdir('..')\n",
    "os.getcwd()"
   ]
  },
  {
   "cell_type": "code",
   "execution_count": 65,
   "metadata": {},
   "outputs": [
    {
     "name": "stdout",
     "output_type": "stream",
     "text": [
      "Wall time: 2min 9s\n"
     ]
    },
    {
     "data": {
      "text/html": [
       "<div>\n",
       "<style scoped>\n",
       "    .dataframe tbody tr th:only-of-type {\n",
       "        vertical-align: middle;\n",
       "    }\n",
       "\n",
       "    .dataframe tbody tr th {\n",
       "        vertical-align: top;\n",
       "    }\n",
       "\n",
       "    .dataframe thead th {\n",
       "        text-align: right;\n",
       "    }\n",
       "</style>\n",
       "<table border=\"1\" class=\"dataframe\">\n",
       "  <thead>\n",
       "    <tr style=\"text-align: right;\">\n",
       "      <th></th>\n",
       "      <th>Date</th>\n",
       "      <th>Close</th>\n",
       "      <th>High</th>\n",
       "      <th>Low</th>\n",
       "      <th>Open</th>\n",
       "      <th>Volume</th>\n",
       "      <th>ticker</th>\n",
       "      <th>variacion</th>\n",
       "      <th>volatilidad</th>\n",
       "      <th>vol_mln</th>\n",
       "      <th>Adj Close</th>\n",
       "    </tr>\n",
       "  </thead>\n",
       "  <tbody>\n",
       "    <tr>\n",
       "      <th>0</th>\n",
       "      <td>2012-12-31</td>\n",
       "      <td>75.33</td>\n",
       "      <td>75.39</td>\n",
       "      <td>74.15</td>\n",
       "      <td>74.27</td>\n",
       "      <td>2580600</td>\n",
       "      <td>MMM</td>\n",
       "      <td>1.17</td>\n",
       "      <td>14.14</td>\n",
       "      <td>194.39</td>\n",
       "      <td>NaN</td>\n",
       "    </tr>\n",
       "    <tr>\n",
       "      <th>1</th>\n",
       "      <td>2013-01-02</td>\n",
       "      <td>76.89</td>\n",
       "      <td>76.90</td>\n",
       "      <td>76.23</td>\n",
       "      <td>76.42</td>\n",
       "      <td>3206700</td>\n",
       "      <td>MMM</td>\n",
       "      <td>2.08</td>\n",
       "      <td>14.26</td>\n",
       "      <td>246.58</td>\n",
       "      <td>NaN</td>\n",
       "    </tr>\n",
       "    <tr>\n",
       "      <th>2</th>\n",
       "      <td>2013-01-03</td>\n",
       "      <td>76.81</td>\n",
       "      <td>77.02</td>\n",
       "      <td>76.37</td>\n",
       "      <td>76.54</td>\n",
       "      <td>2704600</td>\n",
       "      <td>MMM</td>\n",
       "      <td>-0.12</td>\n",
       "      <td>14.25</td>\n",
       "      <td>207.73</td>\n",
       "      <td>NaN</td>\n",
       "    </tr>\n",
       "    <tr>\n",
       "      <th>3</th>\n",
       "      <td>2013-01-04</td>\n",
       "      <td>77.37</td>\n",
       "      <td>77.46</td>\n",
       "      <td>76.70</td>\n",
       "      <td>76.90</td>\n",
       "      <td>2704900</td>\n",
       "      <td>MMM</td>\n",
       "      <td>0.74</td>\n",
       "      <td>14.25</td>\n",
       "      <td>209.29</td>\n",
       "      <td>NaN</td>\n",
       "    </tr>\n",
       "    <tr>\n",
       "      <th>4</th>\n",
       "      <td>2013-01-07</td>\n",
       "      <td>77.47</td>\n",
       "      <td>77.67</td>\n",
       "      <td>76.88</td>\n",
       "      <td>77.09</td>\n",
       "      <td>2745800</td>\n",
       "      <td>MMM</td>\n",
       "      <td>0.13</td>\n",
       "      <td>14.24</td>\n",
       "      <td>212.72</td>\n",
       "      <td>NaN</td>\n",
       "    </tr>\n",
       "    <tr>\n",
       "      <th>...</th>\n",
       "      <td>...</td>\n",
       "      <td>...</td>\n",
       "      <td>...</td>\n",
       "      <td>...</td>\n",
       "      <td>...</td>\n",
       "      <td>...</td>\n",
       "      <td>...</td>\n",
       "      <td>...</td>\n",
       "      <td>...</td>\n",
       "      <td>...</td>\n",
       "      <td>...</td>\n",
       "    </tr>\n",
       "    <tr>\n",
       "      <th>943572</th>\n",
       "      <td>2020-10-12</td>\n",
       "      <td>168.55</td>\n",
       "      <td>168.96</td>\n",
       "      <td>166.19</td>\n",
       "      <td>167.08</td>\n",
       "      <td>1582300</td>\n",
       "      <td>ZTS</td>\n",
       "      <td>1.89</td>\n",
       "      <td>38.37</td>\n",
       "      <td>266.70</td>\n",
       "      <td>NaN</td>\n",
       "    </tr>\n",
       "    <tr>\n",
       "      <th>943573</th>\n",
       "      <td>2020-10-13</td>\n",
       "      <td>165.32</td>\n",
       "      <td>168.06</td>\n",
       "      <td>165.31</td>\n",
       "      <td>167.84</td>\n",
       "      <td>1515800</td>\n",
       "      <td>ZTS</td>\n",
       "      <td>-1.92</td>\n",
       "      <td>38.42</td>\n",
       "      <td>250.59</td>\n",
       "      <td>NaN</td>\n",
       "    </tr>\n",
       "    <tr>\n",
       "      <th>943574</th>\n",
       "      <td>2020-10-14</td>\n",
       "      <td>163.66</td>\n",
       "      <td>166.70</td>\n",
       "      <td>162.79</td>\n",
       "      <td>166.54</td>\n",
       "      <td>1319500</td>\n",
       "      <td>ZTS</td>\n",
       "      <td>-1.00</td>\n",
       "      <td>38.44</td>\n",
       "      <td>215.95</td>\n",
       "      <td>NaN</td>\n",
       "    </tr>\n",
       "    <tr>\n",
       "      <th>943575</th>\n",
       "      <td>2020-10-15</td>\n",
       "      <td>162.99</td>\n",
       "      <td>163.23</td>\n",
       "      <td>161.21</td>\n",
       "      <td>162.05</td>\n",
       "      <td>1363800</td>\n",
       "      <td>ZTS</td>\n",
       "      <td>-0.41</td>\n",
       "      <td>38.44</td>\n",
       "      <td>222.29</td>\n",
       "      <td>NaN</td>\n",
       "    </tr>\n",
       "    <tr>\n",
       "      <th>943576</th>\n",
       "      <td>2020-10-16</td>\n",
       "      <td>163.58</td>\n",
       "      <td>165.85</td>\n",
       "      <td>163.33</td>\n",
       "      <td>163.98</td>\n",
       "      <td>897347</td>\n",
       "      <td>ZTS</td>\n",
       "      <td>0.36</td>\n",
       "      <td>38.42</td>\n",
       "      <td>146.79</td>\n",
       "      <td>NaN</td>\n",
       "    </tr>\n",
       "  </tbody>\n",
       "</table>\n",
       "<p>943577 rows × 11 columns</p>\n",
       "</div>"
      ],
      "text/plain": [
       "             Date   Close    High     Low    Open   Volume ticker  variacion  \\\n",
       "0      2012-12-31   75.33   75.39   74.15   74.27  2580600    MMM       1.17   \n",
       "1      2013-01-02   76.89   76.90   76.23   76.42  3206700    MMM       2.08   \n",
       "2      2013-01-03   76.81   77.02   76.37   76.54  2704600    MMM      -0.12   \n",
       "3      2013-01-04   77.37   77.46   76.70   76.90  2704900    MMM       0.74   \n",
       "4      2013-01-07   77.47   77.67   76.88   77.09  2745800    MMM       0.13   \n",
       "...           ...     ...     ...     ...     ...      ...    ...        ...   \n",
       "943572 2020-10-12  168.55  168.96  166.19  167.08  1582300    ZTS       1.89   \n",
       "943573 2020-10-13  165.32  168.06  165.31  167.84  1515800    ZTS      -1.92   \n",
       "943574 2020-10-14  163.66  166.70  162.79  166.54  1319500    ZTS      -1.00   \n",
       "943575 2020-10-15  162.99  163.23  161.21  162.05  1363800    ZTS      -0.41   \n",
       "943576 2020-10-16  163.58  165.85  163.33  163.98   897347    ZTS       0.36   \n",
       "\n",
       "        volatilidad  vol_mln  Adj Close  \n",
       "0             14.14   194.39        NaN  \n",
       "1             14.26   246.58        NaN  \n",
       "2             14.25   207.73        NaN  \n",
       "3             14.25   209.29        NaN  \n",
       "4             14.24   212.72        NaN  \n",
       "...             ...      ...        ...  \n",
       "943572        38.37   266.70        NaN  \n",
       "943573        38.42   250.59        NaN  \n",
       "943574        38.44   215.95        NaN  \n",
       "943575        38.44   222.29        NaN  \n",
       "943576        38.42   146.79        NaN  \n",
       "\n",
       "[943577 rows x 11 columns]"
      ]
     },
     "execution_count": 65,
     "metadata": {},
     "output_type": "execute_result"
    }
   ],
   "source": [
    "%%time\n",
    "pd.read_excel('df_sp500.xlsx')"
   ]
  },
  {
   "cell_type": "code",
   "execution_count": null,
   "metadata": {},
   "outputs": [],
   "source": []
  },
  {
   "cell_type": "code",
   "execution_count": null,
   "metadata": {},
   "outputs": [],
   "source": []
  }
 ],
 "metadata": {
  "kernelspec": {
   "display_name": "Python 3",
   "language": "python",
   "name": "python3"
  },
  "language_info": {
   "codemirror_mode": {
    "name": "ipython",
    "version": 3
   },
   "file_extension": ".py",
   "mimetype": "text/x-python",
   "name": "python",
   "nbconvert_exporter": "python",
   "pygments_lexer": "ipython3",
   "version": "3.8.5"
  },
  "toc": {
   "base_numbering": 1,
   "nav_menu": {},
   "number_sections": true,
   "sideBar": true,
   "skip_h1_title": false,
   "title_cell": "Table of Contents",
   "title_sidebar": "Contents",
   "toc_cell": false,
   "toc_position": {},
   "toc_section_display": true,
   "toc_window_display": true
  },
  "varInspector": {
   "cols": {
    "lenName": 16,
    "lenType": 16,
    "lenVar": 40
   },
   "kernels_config": {
    "python": {
     "delete_cmd_postfix": "",
     "delete_cmd_prefix": "del ",
     "library": "var_list.py",
     "varRefreshCmd": "print(var_dic_list())"
    },
    "r": {
     "delete_cmd_postfix": ") ",
     "delete_cmd_prefix": "rm(",
     "library": "var_list.r",
     "varRefreshCmd": "cat(var_dic_list()) "
    }
   },
   "types_to_exclude": [
    "module",
    "function",
    "builtin_function_or_method",
    "instance",
    "_Feature"
   ],
   "window_display": false
  }
 },
 "nbformat": 4,
 "nbformat_minor": 4
}
