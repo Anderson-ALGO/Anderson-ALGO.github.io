{
 "cells": [
  {
   "cell_type": "markdown",
   "metadata": {},
   "source": [
    "# Finfiz"
   ]
  },
  {
   "cell_type": "markdown",
   "metadata": {},
   "source": [
    "## Traemos los datos de la WEB"
   ]
  },
  {
   "cell_type": "code",
   "execution_count": 1,
   "metadata": {},
   "outputs": [],
   "source": [
    "import requests\n",
    "import pandas as pd\n",
    "import tqdm, sys, os\n",
    "import numpy as np"
   ]
  },
  {
   "cell_type": "code",
   "execution_count": 2,
   "metadata": {},
   "outputs": [],
   "source": [
    "def scrapear(pags=range(1,3)):\n",
    "    agents = 'Mozilla/5.0 (X11; Linux x86_64) AppleWebKit/537.36 (KHTML, like Gecko) '\n",
    "    agents += 'Chrome/50.0.2661.75 Safari/537.36'\n",
    "    header = {\"User-Agent\": agents, \"X-Requested-With\": \"XMLHttpRequest\"}\n",
    "    vista_simple = '111'\n",
    "    vista_full = '152&c='+','.join([str(s) for s in list(range(0,71))])\n",
    "\n",
    "    df = pd.DataFrame()\n",
    "\n",
    "    paginas = 1000\n",
    "    with tqdm.tqdm(total=len(pags), file=sys.stdout) as pbar:\n",
    "        for pagina in pags:\n",
    "            pbar.update()\n",
    "\n",
    "            r = str((pagina)*20 + 1)\n",
    "            url = f'https://finviz.com/screener.ashx?v={vista_full}&r={r}'\n",
    "            r = requests.get(url, headers=header)\n",
    "            tablas = pd.read_html(r.text)\n",
    "\n",
    "            for tabla in tablas:\n",
    "                valor = tabla[0].values[0]\n",
    "                if valor == 'No.':\n",
    "                    data = tabla\n",
    "\n",
    "                try:\n",
    "                    if valor.find('Total: ') == 0:\n",
    "                        paginas = int(valor[7:valor.find('#')-1])//20 +1\n",
    "                except:\n",
    "                    pass\n",
    "\n",
    "            if pagina == paginas:\n",
    "                break\n",
    "\n",
    "            data.columns=data.loc[0]\n",
    "            data = data.drop(0).drop('No.', axis=1).set_index('Ticker')\n",
    "            df = pd.concat([df,data])\n",
    "\n",
    "    return df"
   ]
  },
  {
   "cell_type": "code",
   "execution_count": 3,
   "metadata": {},
   "outputs": [
    {
     "name": "stdout",
     "output_type": "stream",
     "text": [
      " 98%|██████████████████████████████████████████████████████████████████████████████▎ | 382/390 [03:57<00:04,  1.61it/s]\n"
     ]
    }
   ],
   "source": [
    "finviz = scrapear(pags=range(390))"
   ]
  },
  {
   "cell_type": "markdown",
   "metadata": {},
   "source": [
    "## Persistimos tabla Original"
   ]
  },
  {
   "cell_type": "code",
   "execution_count": 4,
   "metadata": {},
   "outputs": [],
   "source": [
    "from sqlalchemy import create_engine\n",
    "\n",
    "sql_engine = create_engine('mysql+pymysql://root:@localhost/curso_2_clase_8')\n",
    "sql_conn = sql_engine.connect()"
   ]
  },
  {
   "cell_type": "code",
   "execution_count": 5,
   "metadata": {},
   "outputs": [],
   "source": [
    "finviz.to_sql(con=sql_conn, name='finviz', if_exists='replace')"
   ]
  },
  {
   "cell_type": "code",
   "execution_count": 6,
   "metadata": {},
   "outputs": [
    {
     "name": "stdout",
     "output_type": "stream",
     "text": [
      "Wall time: 1.82 s\n"
     ]
    }
   ],
   "source": [
    "%%time\n",
    "finviz = pd.read_sql('finviz', sql_conn)"
   ]
  },
  {
   "cell_type": "code",
   "execution_count": 7,
   "metadata": {},
   "outputs": [
    {
     "data": {
      "text/html": [
       "<div>\n",
       "<style scoped>\n",
       "    .dataframe tbody tr th:only-of-type {\n",
       "        vertical-align: middle;\n",
       "    }\n",
       "\n",
       "    .dataframe tbody tr th {\n",
       "        vertical-align: top;\n",
       "    }\n",
       "\n",
       "    .dataframe thead th {\n",
       "        text-align: right;\n",
       "    }\n",
       "</style>\n",
       "<table border=\"1\" class=\"dataframe\">\n",
       "  <thead>\n",
       "    <tr style=\"text-align: right;\">\n",
       "      <th></th>\n",
       "      <th>Ticker</th>\n",
       "      <th>Company</th>\n",
       "      <th>Sector</th>\n",
       "      <th>Industry</th>\n",
       "      <th>Country</th>\n",
       "      <th>Market Cap</th>\n",
       "      <th>P/E</th>\n",
       "      <th>Fwd P/E</th>\n",
       "      <th>PEG</th>\n",
       "      <th>P/S</th>\n",
       "      <th>...</th>\n",
       "      <th>Gap</th>\n",
       "      <th>Recom</th>\n",
       "      <th>Avg Volume</th>\n",
       "      <th>Rel Volume</th>\n",
       "      <th>Price</th>\n",
       "      <th>Change</th>\n",
       "      <th>Volume</th>\n",
       "      <th>Earnings</th>\n",
       "      <th>Target Price</th>\n",
       "      <th>IPO Date</th>\n",
       "    </tr>\n",
       "  </thead>\n",
       "  <tbody>\n",
       "    <tr>\n",
       "      <th>0</th>\n",
       "      <td>A</td>\n",
       "      <td>Agilent Technologies, Inc.</td>\n",
       "      <td>Healthcare</td>\n",
       "      <td>Diagnostics &amp; Research</td>\n",
       "      <td>USA</td>\n",
       "      <td>31.90B</td>\n",
       "      <td>47.37</td>\n",
       "      <td>28.57</td>\n",
       "      <td>5.04</td>\n",
       "      <td>6.11</td>\n",
       "      <td>...</td>\n",
       "      <td>0.29%</td>\n",
       "      <td>2.40</td>\n",
       "      <td>1.21M</td>\n",
       "      <td>0.73</td>\n",
       "      <td>104.83</td>\n",
       "      <td>-0.74%</td>\n",
       "      <td>893965</td>\n",
       "      <td>Aug 18/a</td>\n",
       "      <td>103.64</td>\n",
       "      <td>11/18/1999</td>\n",
       "    </tr>\n",
       "    <tr>\n",
       "      <th>1</th>\n",
       "      <td>AA</td>\n",
       "      <td>Alcoa Corporation</td>\n",
       "      <td>Basic Materials</td>\n",
       "      <td>Aluminum</td>\n",
       "      <td>USA</td>\n",
       "      <td>2.41B</td>\n",
       "      <td>-</td>\n",
       "      <td>-</td>\n",
       "      <td>-</td>\n",
       "      <td>0.26</td>\n",
       "      <td>...</td>\n",
       "      <td>0.23%</td>\n",
       "      <td>2.50</td>\n",
       "      <td>5.43M</td>\n",
       "      <td>1.35</td>\n",
       "      <td>13.32</td>\n",
       "      <td>4.06%</td>\n",
       "      <td>7320878</td>\n",
       "      <td>Oct 14/a</td>\n",
       "      <td>14.32</td>\n",
       "      <td>10/18/2016</td>\n",
       "    </tr>\n",
       "    <tr>\n",
       "      <th>2</th>\n",
       "      <td>AAAU</td>\n",
       "      <td>Perth Mint Physical Gold ETF</td>\n",
       "      <td>Financial</td>\n",
       "      <td>Exchange Traded Fund</td>\n",
       "      <td>USA</td>\n",
       "      <td>-</td>\n",
       "      <td>-</td>\n",
       "      <td>-</td>\n",
       "      <td>-</td>\n",
       "      <td>-</td>\n",
       "      <td>...</td>\n",
       "      <td>0.63%</td>\n",
       "      <td>-</td>\n",
       "      <td>642.49K</td>\n",
       "      <td>0.53</td>\n",
       "      <td>19.17</td>\n",
       "      <td>0.79%</td>\n",
       "      <td>343045</td>\n",
       "      <td>-</td>\n",
       "      <td>-</td>\n",
       "      <td>8/15/2018</td>\n",
       "    </tr>\n",
       "    <tr>\n",
       "      <th>3</th>\n",
       "      <td>AACG</td>\n",
       "      <td>ATA Creativity Global</td>\n",
       "      <td>Consumer Defensive</td>\n",
       "      <td>Education &amp; Training Services</td>\n",
       "      <td>China</td>\n",
       "      <td>36.84M</td>\n",
       "      <td>-</td>\n",
       "      <td>-</td>\n",
       "      <td>-</td>\n",
       "      <td>1.61</td>\n",
       "      <td>...</td>\n",
       "      <td>2.81%</td>\n",
       "      <td>-</td>\n",
       "      <td>72.09K</td>\n",
       "      <td>0.71</td>\n",
       "      <td>1.18</td>\n",
       "      <td>-5.22%</td>\n",
       "      <td>51733</td>\n",
       "      <td>Aug 12/a</td>\n",
       "      <td>-</td>\n",
       "      <td>1/29/2008</td>\n",
       "    </tr>\n",
       "    <tr>\n",
       "      <th>4</th>\n",
       "      <td>AACQ</td>\n",
       "      <td>Artius Acquisition Inc.</td>\n",
       "      <td>Financial</td>\n",
       "      <td>Shell Companies</td>\n",
       "      <td>USA</td>\n",
       "      <td>706.39M</td>\n",
       "      <td>-</td>\n",
       "      <td>-</td>\n",
       "      <td>-</td>\n",
       "      <td>-</td>\n",
       "      <td>...</td>\n",
       "      <td>0.00%</td>\n",
       "      <td>-</td>\n",
       "      <td>391.66K</td>\n",
       "      <td>1.76</td>\n",
       "      <td>9.75</td>\n",
       "      <td>-0.51%</td>\n",
       "      <td>674450</td>\n",
       "      <td>-</td>\n",
       "      <td>-</td>\n",
       "      <td>9/4/2020</td>\n",
       "    </tr>\n",
       "    <tr>\n",
       "      <th>...</th>\n",
       "      <td>...</td>\n",
       "      <td>...</td>\n",
       "      <td>...</td>\n",
       "      <td>...</td>\n",
       "      <td>...</td>\n",
       "      <td>...</td>\n",
       "      <td>...</td>\n",
       "      <td>...</td>\n",
       "      <td>...</td>\n",
       "      <td>...</td>\n",
       "      <td>...</td>\n",
       "      <td>...</td>\n",
       "      <td>...</td>\n",
       "      <td>...</td>\n",
       "      <td>...</td>\n",
       "      <td>...</td>\n",
       "      <td>...</td>\n",
       "      <td>...</td>\n",
       "      <td>...</td>\n",
       "      <td>...</td>\n",
       "      <td>...</td>\n",
       "    </tr>\n",
       "    <tr>\n",
       "      <th>7612</th>\n",
       "      <td>ZUO</td>\n",
       "      <td>Zuora, Inc.</td>\n",
       "      <td>Technology</td>\n",
       "      <td>Software - Infrastructure</td>\n",
       "      <td>USA</td>\n",
       "      <td>1.23B</td>\n",
       "      <td>-</td>\n",
       "      <td>-</td>\n",
       "      <td>-</td>\n",
       "      <td>4.23</td>\n",
       "      <td>...</td>\n",
       "      <td>0.46%</td>\n",
       "      <td>2.90</td>\n",
       "      <td>1.92M</td>\n",
       "      <td>0.55</td>\n",
       "      <td>10.47</td>\n",
       "      <td>-2.79%</td>\n",
       "      <td>1070752</td>\n",
       "      <td>Sep 02/a</td>\n",
       "      <td>13.58</td>\n",
       "      <td>4/12/2018</td>\n",
       "    </tr>\n",
       "    <tr>\n",
       "      <th>7613</th>\n",
       "      <td>ZVO</td>\n",
       "      <td>Zovio Inc</td>\n",
       "      <td>Consumer Defensive</td>\n",
       "      <td>Education &amp; Training Services</td>\n",
       "      <td>USA</td>\n",
       "      <td>136.41M</td>\n",
       "      <td>-</td>\n",
       "      <td>9.81</td>\n",
       "      <td>-</td>\n",
       "      <td>0.34</td>\n",
       "      <td>...</td>\n",
       "      <td>1.22%</td>\n",
       "      <td>1.00</td>\n",
       "      <td>711.36K</td>\n",
       "      <td>0.64</td>\n",
       "      <td>4.12</td>\n",
       "      <td>-5.50%</td>\n",
       "      <td>453033</td>\n",
       "      <td>Aug 03/b</td>\n",
       "      <td>-</td>\n",
       "      <td>4/15/2009</td>\n",
       "    </tr>\n",
       "    <tr>\n",
       "      <th>7614</th>\n",
       "      <td>ZYME</td>\n",
       "      <td>Zymeworks Inc.</td>\n",
       "      <td>Healthcare</td>\n",
       "      <td>Biotechnology</td>\n",
       "      <td>Canada</td>\n",
       "      <td>1.82B</td>\n",
       "      <td>-</td>\n",
       "      <td>-</td>\n",
       "      <td>-</td>\n",
       "      <td>59.79</td>\n",
       "      <td>...</td>\n",
       "      <td>-0.02%</td>\n",
       "      <td>1.50</td>\n",
       "      <td>420.71K</td>\n",
       "      <td>1.15</td>\n",
       "      <td>40.66</td>\n",
       "      <td>-6.03%</td>\n",
       "      <td>480639</td>\n",
       "      <td>-</td>\n",
       "      <td>24.88</td>\n",
       "      <td>4/28/2017</td>\n",
       "    </tr>\n",
       "    <tr>\n",
       "      <th>7615</th>\n",
       "      <td>ZYNE</td>\n",
       "      <td>Zynerba Pharmaceuticals, Inc.</td>\n",
       "      <td>Healthcare</td>\n",
       "      <td>Drug Manufacturers - Specialty &amp; Generic</td>\n",
       "      <td>USA</td>\n",
       "      <td>103.10M</td>\n",
       "      <td>-</td>\n",
       "      <td>-</td>\n",
       "      <td>-</td>\n",
       "      <td>-</td>\n",
       "      <td>...</td>\n",
       "      <td>0.27%</td>\n",
       "      <td>2.00</td>\n",
       "      <td>578.13K</td>\n",
       "      <td>0.48</td>\n",
       "      <td>3.57</td>\n",
       "      <td>-2.19%</td>\n",
       "      <td>283037</td>\n",
       "      <td>-</td>\n",
       "      <td>-</td>\n",
       "      <td>8/5/2015</td>\n",
       "    </tr>\n",
       "    <tr>\n",
       "      <th>7616</th>\n",
       "      <td>ZYXI</td>\n",
       "      <td>Zynex, Inc.</td>\n",
       "      <td>Healthcare</td>\n",
       "      <td>Medical Devices</td>\n",
       "      <td>USA</td>\n",
       "      <td>496.27M</td>\n",
       "      <td>43.03</td>\n",
       "      <td>26.53</td>\n",
       "      <td>2.87</td>\n",
       "      <td>8.20</td>\n",
       "      <td>...</td>\n",
       "      <td>-0.29%</td>\n",
       "      <td>1.80</td>\n",
       "      <td>939.33K</td>\n",
       "      <td>0.53</td>\n",
       "      <td>13.77</td>\n",
       "      <td>1.32%</td>\n",
       "      <td>506076</td>\n",
       "      <td>Jul 28/a</td>\n",
       "      <td>-</td>\n",
       "      <td>12/5/2002</td>\n",
       "    </tr>\n",
       "  </tbody>\n",
       "</table>\n",
       "<p>7617 rows × 70 columns</p>\n",
       "</div>"
      ],
      "text/plain": [
       "     Ticker                        Company              Sector  \\\n",
       "0         A     Agilent Technologies, Inc.          Healthcare   \n",
       "1        AA              Alcoa Corporation     Basic Materials   \n",
       "2      AAAU   Perth Mint Physical Gold ETF           Financial   \n",
       "3      AACG          ATA Creativity Global  Consumer Defensive   \n",
       "4      AACQ        Artius Acquisition Inc.           Financial   \n",
       "...     ...                            ...                 ...   \n",
       "7612    ZUO                    Zuora, Inc.          Technology   \n",
       "7613    ZVO                      Zovio Inc  Consumer Defensive   \n",
       "7614   ZYME                 Zymeworks Inc.          Healthcare   \n",
       "7615   ZYNE  Zynerba Pharmaceuticals, Inc.          Healthcare   \n",
       "7616   ZYXI                    Zynex, Inc.          Healthcare   \n",
       "\n",
       "                                      Industry Country Market Cap    P/E  \\\n",
       "0                       Diagnostics & Research     USA     31.90B  47.37   \n",
       "1                                     Aluminum     USA      2.41B      -   \n",
       "2                         Exchange Traded Fund     USA          -      -   \n",
       "3                Education & Training Services   China     36.84M      -   \n",
       "4                              Shell Companies     USA    706.39M      -   \n",
       "...                                        ...     ...        ...    ...   \n",
       "7612                 Software - Infrastructure     USA      1.23B      -   \n",
       "7613             Education & Training Services     USA    136.41M      -   \n",
       "7614                             Biotechnology  Canada      1.82B      -   \n",
       "7615  Drug Manufacturers - Specialty & Generic     USA    103.10M      -   \n",
       "7616                           Medical Devices     USA    496.27M  43.03   \n",
       "\n",
       "     Fwd P/E   PEG    P/S  ...     Gap Recom Avg Volume Rel Volume   Price  \\\n",
       "0      28.57  5.04   6.11  ...   0.29%  2.40      1.21M       0.73  104.83   \n",
       "1          -     -   0.26  ...   0.23%  2.50      5.43M       1.35   13.32   \n",
       "2          -     -      -  ...   0.63%     -    642.49K       0.53   19.17   \n",
       "3          -     -   1.61  ...   2.81%     -     72.09K       0.71    1.18   \n",
       "4          -     -      -  ...   0.00%     -    391.66K       1.76    9.75   \n",
       "...      ...   ...    ...  ...     ...   ...        ...        ...     ...   \n",
       "7612       -     -   4.23  ...   0.46%  2.90      1.92M       0.55   10.47   \n",
       "7613    9.81     -   0.34  ...   1.22%  1.00    711.36K       0.64    4.12   \n",
       "7614       -     -  59.79  ...  -0.02%  1.50    420.71K       1.15   40.66   \n",
       "7615       -     -      -  ...   0.27%  2.00    578.13K       0.48    3.57   \n",
       "7616   26.53  2.87   8.20  ...  -0.29%  1.80    939.33K       0.53   13.77   \n",
       "\n",
       "      Change   Volume  Earnings Target Price    IPO Date  \n",
       "0     -0.74%   893965  Aug 18/a       103.64  11/18/1999  \n",
       "1      4.06%  7320878  Oct 14/a        14.32  10/18/2016  \n",
       "2      0.79%   343045         -            -   8/15/2018  \n",
       "3     -5.22%    51733  Aug 12/a            -   1/29/2008  \n",
       "4     -0.51%   674450         -            -    9/4/2020  \n",
       "...      ...      ...       ...          ...         ...  \n",
       "7612  -2.79%  1070752  Sep 02/a        13.58   4/12/2018  \n",
       "7613  -5.50%   453033  Aug 03/b            -   4/15/2009  \n",
       "7614  -6.03%   480639         -        24.88   4/28/2017  \n",
       "7615  -2.19%   283037         -            -    8/5/2015  \n",
       "7616   1.32%   506076  Jul 28/a            -   12/5/2002  \n",
       "\n",
       "[7617 rows x 70 columns]"
      ]
     },
     "execution_count": 7,
     "metadata": {},
     "output_type": "execute_result"
    }
   ],
   "source": [
    "finviz"
   ]
  },
  {
   "cell_type": "markdown",
   "metadata": {},
   "source": [
    "## Arreglamos datos"
   ]
  },
  {
   "cell_type": "markdown",
   "metadata": {},
   "source": [
    "### Eliminamos símbolos no numéricos"
   ]
  },
  {
   "cell_type": "code",
   "execution_count": 8,
   "metadata": {},
   "outputs": [],
   "source": [
    "finviz.replace('-',np.nan, inplace=True)\n",
    "finviz.replace({'%': ''}, regex=True, inplace=True)"
   ]
  },
  {
   "cell_type": "markdown",
   "metadata": {},
   "source": [
    "### Arreglamos los numericos hibridos"
   ]
  },
  {
   "cell_type": "code",
   "execution_count": 9,
   "metadata": {},
   "outputs": [],
   "source": [
    "def aNumerico(df, columnas):\n",
    "\n",
    "    for columna in columnas:\n",
    "        count_T, count_B, count_M, count_K = 0,0,0,0\n",
    "        for idx, row in finviz.iterrows():\n",
    "            try:\n",
    "                trillones = (row[columna]).find('T') \n",
    "                billones = (row[columna]).find('B') \n",
    "                millones = (row[columna]).find('M')\n",
    "                miles = (row[columna]).find('K')\n",
    "\n",
    "                if  trillones > 0:\n",
    "                    count_T += 1\n",
    "                    row[columna] = float(row[columna][:trillones]) * 10**12\n",
    "                if  billones > 0:\n",
    "                    count_B += 1\n",
    "                    row[columna] = float(row[columna][:billones]) * 10**9\n",
    "                if  millones > 0:\n",
    "                    count_M += 1\n",
    "                    row[columna] = float(row[columna][:millones]) * 10**6\n",
    "                if  miles > 0:\n",
    "                    count_K += 1\n",
    "                    row[columna] = float(row[columna][:miles]) * 10**3\n",
    "            except:\n",
    "                pass\n",
    "            \n",
    "        print(f'Columna: {columna}, T->{count_T}, B->{count_B}, M->{count_M}, K->{count_K}')"
   ]
  },
  {
   "cell_type": "code",
   "execution_count": 10,
   "metadata": {},
   "outputs": [
    {
     "name": "stdout",
     "output_type": "stream",
     "text": [
      "Columna: Market Cap, T->0, B->2344, M->3039, K->0\n",
      "Columna: Avg Volume, T->0, B->0, M->1702, K->5915\n",
      "Columna: Outstanding, T->0, B->189, M->5197, K->0\n",
      "Columna: Float, T->0, B->151, M->4675, K->0\n"
     ]
    }
   ],
   "source": [
    "columnas = ['Market Cap', 'Avg Volume','Outstanding','Float',]\n",
    "\n",
    "aNumerico(finviz, columnas)"
   ]
  },
  {
   "cell_type": "markdown",
   "metadata": {},
   "source": [
    "### Pasamos a Flotante lo que sea flotante"
   ]
  },
  {
   "cell_type": "code",
   "execution_count": 11,
   "metadata": {},
   "outputs": [],
   "source": [
    "def aFlotante(df, columnas):\n",
    "    for columna in columnas:\n",
    "        finviz[columna] = finviz[columna].astype(float)"
   ]
  },
  {
   "cell_type": "code",
   "execution_count": 12,
   "metadata": {},
   "outputs": [],
   "source": [
    "columnas_no_float = ['Ticker', 'Company', 'Sector', 'Industry', 'Country', 'Market Cap',\n",
    "                     'Outstanding','Float','Avg Volume','Volume', 'Earnings', 'IPO Date']\n",
    "\n",
    "columnas_float = [col for col in list(finviz.columns) if col not in columnas_no_float]\n",
    "aFlotante(finviz,columnas_float)"
   ]
  },
  {
   "cell_type": "markdown",
   "metadata": {},
   "source": [
    "### Pasamos a entero lo que es entero"
   ]
  },
  {
   "cell_type": "code",
   "execution_count": 13,
   "metadata": {},
   "outputs": [
    {
     "data": {
      "text/plain": [
       "str"
      ]
     },
     "execution_count": 13,
     "metadata": {},
     "output_type": "execute_result"
    }
   ],
   "source": [
    "type(finviz.Volume.iloc[0])"
   ]
  },
  {
   "cell_type": "code",
   "execution_count": 14,
   "metadata": {},
   "outputs": [],
   "source": [
    "def aEntero(df, columnas):\n",
    "    for columna in columnas:\n",
    "        finviz[columna] = pd.to_numeric(finviz[columna])"
   ]
  },
  {
   "cell_type": "code",
   "execution_count": 15,
   "metadata": {},
   "outputs": [],
   "source": [
    "columnas_int = ['Market Cap', 'Outstanding','Float','Avg Volume','Volume']\n",
    "aEntero(finviz, columnas_int)"
   ]
  },
  {
   "cell_type": "markdown",
   "metadata": {},
   "source": [
    "### Pasamos a Fecha lo que se pueda pasar a fecha"
   ]
  },
  {
   "cell_type": "code",
   "execution_count": 16,
   "metadata": {},
   "outputs": [
    {
     "data": {
      "text/plain": [
       "str"
      ]
     },
     "execution_count": 16,
     "metadata": {},
     "output_type": "execute_result"
    }
   ],
   "source": [
    "type(finviz['IPO Date'].iloc[0])"
   ]
  },
  {
   "cell_type": "code",
   "execution_count": 17,
   "metadata": {},
   "outputs": [],
   "source": [
    "finviz['IPO Date'] = pd.to_datetime(finviz['IPO Date'])"
   ]
  },
  {
   "cell_type": "code",
   "execution_count": 18,
   "metadata": {},
   "outputs": [
    {
     "data": {
      "text/plain": [
       "pandas._libs.tslibs.timestamps.Timestamp"
      ]
     },
     "execution_count": 18,
     "metadata": {},
     "output_type": "execute_result"
    }
   ],
   "source": [
    "type(finviz['IPO Date'].iloc[0])"
   ]
  },
  {
   "cell_type": "markdown",
   "metadata": {},
   "source": [
    "### Arreglamos nombres de columnas"
   ]
  },
  {
   "cell_type": "code",
   "execution_count": 19,
   "metadata": {},
   "outputs": [],
   "source": [
    "columnas_nombres = [c.replace(' ','_') for c in list(finviz.columns)]\n",
    "finviz.columns = columnas_nombres"
   ]
  },
  {
   "cell_type": "code",
   "execution_count": 32,
   "metadata": {},
   "outputs": [],
   "source": [
    "columnas_nombres = [c.replace('/','_') for c in list(finviz.columns)]\n",
    "finviz.columns = columnas_nombres"
   ]
  },
  {
   "cell_type": "code",
   "execution_count": 33,
   "metadata": {
    "scrolled": false
   },
   "outputs": [
    {
     "data": {
      "text/html": [
       "<div>\n",
       "<style scoped>\n",
       "    .dataframe tbody tr th:only-of-type {\n",
       "        vertical-align: middle;\n",
       "    }\n",
       "\n",
       "    .dataframe tbody tr th {\n",
       "        vertical-align: top;\n",
       "    }\n",
       "\n",
       "    .dataframe thead th {\n",
       "        text-align: right;\n",
       "    }\n",
       "</style>\n",
       "<table border=\"1\" class=\"dataframe\">\n",
       "  <thead>\n",
       "    <tr style=\"text-align: right;\">\n",
       "      <th></th>\n",
       "      <th>Ticker</th>\n",
       "      <th>Company</th>\n",
       "      <th>Sector</th>\n",
       "      <th>Industry</th>\n",
       "      <th>Country</th>\n",
       "      <th>Market_Cap</th>\n",
       "      <th>P_E</th>\n",
       "      <th>Fwd_P_E</th>\n",
       "      <th>PEG</th>\n",
       "      <th>P_S</th>\n",
       "      <th>...</th>\n",
       "      <th>Gap</th>\n",
       "      <th>Recom</th>\n",
       "      <th>Avg_Volume</th>\n",
       "      <th>Rel_Volume</th>\n",
       "      <th>Price</th>\n",
       "      <th>Change</th>\n",
       "      <th>Volume</th>\n",
       "      <th>Earnings</th>\n",
       "      <th>Target_Price</th>\n",
       "      <th>IPO_Date</th>\n",
       "    </tr>\n",
       "  </thead>\n",
       "  <tbody>\n",
       "    <tr>\n",
       "      <th>0</th>\n",
       "      <td>A</td>\n",
       "      <td>Agilent Technologies, Inc.</td>\n",
       "      <td>Healthcare</td>\n",
       "      <td>Diagnostics &amp; Research</td>\n",
       "      <td>USA</td>\n",
       "      <td>3.190000e+10</td>\n",
       "      <td>47.37</td>\n",
       "      <td>28.57</td>\n",
       "      <td>5.04</td>\n",
       "      <td>6.11</td>\n",
       "      <td>...</td>\n",
       "      <td>0.29</td>\n",
       "      <td>2.4</td>\n",
       "      <td>1210000.0</td>\n",
       "      <td>0.73</td>\n",
       "      <td>104.83</td>\n",
       "      <td>-0.74</td>\n",
       "      <td>893965</td>\n",
       "      <td>Aug 18/a</td>\n",
       "      <td>103.64</td>\n",
       "      <td>1999-11-18</td>\n",
       "    </tr>\n",
       "    <tr>\n",
       "      <th>1</th>\n",
       "      <td>AA</td>\n",
       "      <td>Alcoa Corporation</td>\n",
       "      <td>Basic Materials</td>\n",
       "      <td>Aluminum</td>\n",
       "      <td>USA</td>\n",
       "      <td>2.410000e+09</td>\n",
       "      <td>NaN</td>\n",
       "      <td>NaN</td>\n",
       "      <td>NaN</td>\n",
       "      <td>0.26</td>\n",
       "      <td>...</td>\n",
       "      <td>0.23</td>\n",
       "      <td>2.5</td>\n",
       "      <td>5430000.0</td>\n",
       "      <td>1.35</td>\n",
       "      <td>13.32</td>\n",
       "      <td>4.06</td>\n",
       "      <td>7320878</td>\n",
       "      <td>Oct 14/a</td>\n",
       "      <td>14.32</td>\n",
       "      <td>2016-10-18</td>\n",
       "    </tr>\n",
       "    <tr>\n",
       "      <th>2</th>\n",
       "      <td>AAAU</td>\n",
       "      <td>Perth Mint Physical Gold ETF</td>\n",
       "      <td>Financial</td>\n",
       "      <td>Exchange Traded Fund</td>\n",
       "      <td>USA</td>\n",
       "      <td>NaN</td>\n",
       "      <td>NaN</td>\n",
       "      <td>NaN</td>\n",
       "      <td>NaN</td>\n",
       "      <td>NaN</td>\n",
       "      <td>...</td>\n",
       "      <td>0.63</td>\n",
       "      <td>NaN</td>\n",
       "      <td>642490.0</td>\n",
       "      <td>0.53</td>\n",
       "      <td>19.17</td>\n",
       "      <td>0.79</td>\n",
       "      <td>343045</td>\n",
       "      <td>NaN</td>\n",
       "      <td>NaN</td>\n",
       "      <td>2018-08-15</td>\n",
       "    </tr>\n",
       "    <tr>\n",
       "      <th>3</th>\n",
       "      <td>AACG</td>\n",
       "      <td>ATA Creativity Global</td>\n",
       "      <td>Consumer Defensive</td>\n",
       "      <td>Education &amp; Training Services</td>\n",
       "      <td>China</td>\n",
       "      <td>3.684000e+07</td>\n",
       "      <td>NaN</td>\n",
       "      <td>NaN</td>\n",
       "      <td>NaN</td>\n",
       "      <td>1.61</td>\n",
       "      <td>...</td>\n",
       "      <td>2.81</td>\n",
       "      <td>NaN</td>\n",
       "      <td>72090.0</td>\n",
       "      <td>0.71</td>\n",
       "      <td>1.18</td>\n",
       "      <td>-5.22</td>\n",
       "      <td>51733</td>\n",
       "      <td>Aug 12/a</td>\n",
       "      <td>NaN</td>\n",
       "      <td>2008-01-29</td>\n",
       "    </tr>\n",
       "    <tr>\n",
       "      <th>4</th>\n",
       "      <td>AACQ</td>\n",
       "      <td>Artius Acquisition Inc.</td>\n",
       "      <td>Financial</td>\n",
       "      <td>Shell Companies</td>\n",
       "      <td>USA</td>\n",
       "      <td>7.063900e+08</td>\n",
       "      <td>NaN</td>\n",
       "      <td>NaN</td>\n",
       "      <td>NaN</td>\n",
       "      <td>NaN</td>\n",
       "      <td>...</td>\n",
       "      <td>0.00</td>\n",
       "      <td>NaN</td>\n",
       "      <td>391660.0</td>\n",
       "      <td>1.76</td>\n",
       "      <td>9.75</td>\n",
       "      <td>-0.51</td>\n",
       "      <td>674450</td>\n",
       "      <td>NaN</td>\n",
       "      <td>NaN</td>\n",
       "      <td>2020-09-04</td>\n",
       "    </tr>\n",
       "    <tr>\n",
       "      <th>...</th>\n",
       "      <td>...</td>\n",
       "      <td>...</td>\n",
       "      <td>...</td>\n",
       "      <td>...</td>\n",
       "      <td>...</td>\n",
       "      <td>...</td>\n",
       "      <td>...</td>\n",
       "      <td>...</td>\n",
       "      <td>...</td>\n",
       "      <td>...</td>\n",
       "      <td>...</td>\n",
       "      <td>...</td>\n",
       "      <td>...</td>\n",
       "      <td>...</td>\n",
       "      <td>...</td>\n",
       "      <td>...</td>\n",
       "      <td>...</td>\n",
       "      <td>...</td>\n",
       "      <td>...</td>\n",
       "      <td>...</td>\n",
       "      <td>...</td>\n",
       "    </tr>\n",
       "    <tr>\n",
       "      <th>7612</th>\n",
       "      <td>ZUO</td>\n",
       "      <td>Zuora, Inc.</td>\n",
       "      <td>Technology</td>\n",
       "      <td>Software - Infrastructure</td>\n",
       "      <td>USA</td>\n",
       "      <td>1.230000e+09</td>\n",
       "      <td>NaN</td>\n",
       "      <td>NaN</td>\n",
       "      <td>NaN</td>\n",
       "      <td>4.23</td>\n",
       "      <td>...</td>\n",
       "      <td>0.46</td>\n",
       "      <td>2.9</td>\n",
       "      <td>1920000.0</td>\n",
       "      <td>0.55</td>\n",
       "      <td>10.47</td>\n",
       "      <td>-2.79</td>\n",
       "      <td>1070752</td>\n",
       "      <td>Sep 02/a</td>\n",
       "      <td>13.58</td>\n",
       "      <td>2018-04-12</td>\n",
       "    </tr>\n",
       "    <tr>\n",
       "      <th>7613</th>\n",
       "      <td>ZVO</td>\n",
       "      <td>Zovio Inc</td>\n",
       "      <td>Consumer Defensive</td>\n",
       "      <td>Education &amp; Training Services</td>\n",
       "      <td>USA</td>\n",
       "      <td>1.364100e+08</td>\n",
       "      <td>NaN</td>\n",
       "      <td>9.81</td>\n",
       "      <td>NaN</td>\n",
       "      <td>0.34</td>\n",
       "      <td>...</td>\n",
       "      <td>1.22</td>\n",
       "      <td>1.0</td>\n",
       "      <td>711360.0</td>\n",
       "      <td>0.64</td>\n",
       "      <td>4.12</td>\n",
       "      <td>-5.50</td>\n",
       "      <td>453033</td>\n",
       "      <td>Aug 03/b</td>\n",
       "      <td>NaN</td>\n",
       "      <td>2009-04-15</td>\n",
       "    </tr>\n",
       "    <tr>\n",
       "      <th>7614</th>\n",
       "      <td>ZYME</td>\n",
       "      <td>Zymeworks Inc.</td>\n",
       "      <td>Healthcare</td>\n",
       "      <td>Biotechnology</td>\n",
       "      <td>Canada</td>\n",
       "      <td>1.820000e+09</td>\n",
       "      <td>NaN</td>\n",
       "      <td>NaN</td>\n",
       "      <td>NaN</td>\n",
       "      <td>59.79</td>\n",
       "      <td>...</td>\n",
       "      <td>-0.02</td>\n",
       "      <td>1.5</td>\n",
       "      <td>420710.0</td>\n",
       "      <td>1.15</td>\n",
       "      <td>40.66</td>\n",
       "      <td>-6.03</td>\n",
       "      <td>480639</td>\n",
       "      <td>NaN</td>\n",
       "      <td>24.88</td>\n",
       "      <td>2017-04-28</td>\n",
       "    </tr>\n",
       "    <tr>\n",
       "      <th>7615</th>\n",
       "      <td>ZYNE</td>\n",
       "      <td>Zynerba Pharmaceuticals, Inc.</td>\n",
       "      <td>Healthcare</td>\n",
       "      <td>Drug Manufacturers - Specialty &amp; Generic</td>\n",
       "      <td>USA</td>\n",
       "      <td>1.031000e+08</td>\n",
       "      <td>NaN</td>\n",
       "      <td>NaN</td>\n",
       "      <td>NaN</td>\n",
       "      <td>NaN</td>\n",
       "      <td>...</td>\n",
       "      <td>0.27</td>\n",
       "      <td>2.0</td>\n",
       "      <td>578130.0</td>\n",
       "      <td>0.48</td>\n",
       "      <td>3.57</td>\n",
       "      <td>-2.19</td>\n",
       "      <td>283037</td>\n",
       "      <td>NaN</td>\n",
       "      <td>NaN</td>\n",
       "      <td>2015-08-05</td>\n",
       "    </tr>\n",
       "    <tr>\n",
       "      <th>7616</th>\n",
       "      <td>ZYXI</td>\n",
       "      <td>Zynex, Inc.</td>\n",
       "      <td>Healthcare</td>\n",
       "      <td>Medical Devices</td>\n",
       "      <td>USA</td>\n",
       "      <td>4.962700e+08</td>\n",
       "      <td>43.03</td>\n",
       "      <td>26.53</td>\n",
       "      <td>2.87</td>\n",
       "      <td>8.20</td>\n",
       "      <td>...</td>\n",
       "      <td>-0.29</td>\n",
       "      <td>1.8</td>\n",
       "      <td>939330.0</td>\n",
       "      <td>0.53</td>\n",
       "      <td>13.77</td>\n",
       "      <td>1.32</td>\n",
       "      <td>506076</td>\n",
       "      <td>Jul 28/a</td>\n",
       "      <td>NaN</td>\n",
       "      <td>2002-12-05</td>\n",
       "    </tr>\n",
       "  </tbody>\n",
       "</table>\n",
       "<p>7617 rows × 70 columns</p>\n",
       "</div>"
      ],
      "text/plain": [
       "     Ticker                        Company              Sector  \\\n",
       "0         A     Agilent Technologies, Inc.          Healthcare   \n",
       "1        AA              Alcoa Corporation     Basic Materials   \n",
       "2      AAAU   Perth Mint Physical Gold ETF           Financial   \n",
       "3      AACG          ATA Creativity Global  Consumer Defensive   \n",
       "4      AACQ        Artius Acquisition Inc.           Financial   \n",
       "...     ...                            ...                 ...   \n",
       "7612    ZUO                    Zuora, Inc.          Technology   \n",
       "7613    ZVO                      Zovio Inc  Consumer Defensive   \n",
       "7614   ZYME                 Zymeworks Inc.          Healthcare   \n",
       "7615   ZYNE  Zynerba Pharmaceuticals, Inc.          Healthcare   \n",
       "7616   ZYXI                    Zynex, Inc.          Healthcare   \n",
       "\n",
       "                                      Industry Country    Market_Cap    P_E  \\\n",
       "0                       Diagnostics & Research     USA  3.190000e+10  47.37   \n",
       "1                                     Aluminum     USA  2.410000e+09    NaN   \n",
       "2                         Exchange Traded Fund     USA           NaN    NaN   \n",
       "3                Education & Training Services   China  3.684000e+07    NaN   \n",
       "4                              Shell Companies     USA  7.063900e+08    NaN   \n",
       "...                                        ...     ...           ...    ...   \n",
       "7612                 Software - Infrastructure     USA  1.230000e+09    NaN   \n",
       "7613             Education & Training Services     USA  1.364100e+08    NaN   \n",
       "7614                             Biotechnology  Canada  1.820000e+09    NaN   \n",
       "7615  Drug Manufacturers - Specialty & Generic     USA  1.031000e+08    NaN   \n",
       "7616                           Medical Devices     USA  4.962700e+08  43.03   \n",
       "\n",
       "      Fwd_P_E   PEG    P_S  ...   Gap  Recom  Avg_Volume  Rel_Volume   Price  \\\n",
       "0       28.57  5.04   6.11  ...  0.29    2.4   1210000.0        0.73  104.83   \n",
       "1         NaN   NaN   0.26  ...  0.23    2.5   5430000.0        1.35   13.32   \n",
       "2         NaN   NaN    NaN  ...  0.63    NaN    642490.0        0.53   19.17   \n",
       "3         NaN   NaN   1.61  ...  2.81    NaN     72090.0        0.71    1.18   \n",
       "4         NaN   NaN    NaN  ...  0.00    NaN    391660.0        1.76    9.75   \n",
       "...       ...   ...    ...  ...   ...    ...         ...         ...     ...   \n",
       "7612      NaN   NaN   4.23  ...  0.46    2.9   1920000.0        0.55   10.47   \n",
       "7613     9.81   NaN   0.34  ...  1.22    1.0    711360.0        0.64    4.12   \n",
       "7614      NaN   NaN  59.79  ... -0.02    1.5    420710.0        1.15   40.66   \n",
       "7615      NaN   NaN    NaN  ...  0.27    2.0    578130.0        0.48    3.57   \n",
       "7616    26.53  2.87   8.20  ... -0.29    1.8    939330.0        0.53   13.77   \n",
       "\n",
       "      Change   Volume  Earnings  Target_Price   IPO_Date  \n",
       "0      -0.74   893965  Aug 18/a        103.64 1999-11-18  \n",
       "1       4.06  7320878  Oct 14/a         14.32 2016-10-18  \n",
       "2       0.79   343045       NaN           NaN 2018-08-15  \n",
       "3      -5.22    51733  Aug 12/a           NaN 2008-01-29  \n",
       "4      -0.51   674450       NaN           NaN 2020-09-04  \n",
       "...      ...      ...       ...           ...        ...  \n",
       "7612   -2.79  1070752  Sep 02/a         13.58 2018-04-12  \n",
       "7613   -5.50   453033  Aug 03/b           NaN 2009-04-15  \n",
       "7614   -6.03   480639       NaN         24.88 2017-04-28  \n",
       "7615   -2.19   283037       NaN           NaN 2015-08-05  \n",
       "7616    1.32   506076  Jul 28/a           NaN 2002-12-05  \n",
       "\n",
       "[7617 rows x 70 columns]"
      ]
     },
     "execution_count": 33,
     "metadata": {},
     "output_type": "execute_result"
    }
   ],
   "source": [
    "finviz"
   ]
  },
  {
   "cell_type": "code",
   "execution_count": null,
   "metadata": {},
   "outputs": [],
   "source": []
  },
  {
   "cell_type": "code",
   "execution_count": null,
   "metadata": {},
   "outputs": [],
   "source": []
  },
  {
   "cell_type": "markdown",
   "metadata": {},
   "source": [
    "## Volvemos a persistir la base arreglada"
   ]
  },
  {
   "cell_type": "code",
   "execution_count": 62,
   "metadata": {},
   "outputs": [
    {
     "name": "stdout",
     "output_type": "stream",
     "text": [
      "2.37 s ± 168 ms per loop (mean ± std. dev. of 7 runs, 1 loop each)\n"
     ]
    }
   ],
   "source": [
    "%%timeit\n",
    "finviz.to_sql(con=sql_conn, name='finviz_ok', if_exists='replace')"
   ]
  },
  {
   "cell_type": "markdown",
   "metadata": {},
   "source": [
    "### Pasamos los campos de texto a Varchar"
   ]
  },
  {
   "cell_type": "code",
   "execution_count": 35,
   "metadata": {},
   "outputs": [],
   "source": [
    "columnas_text = ['Ticker', 'Company','Sector','Industry','Country','Earnings']\n",
    "\n",
    "for c in  columnas_text:\n",
    "    query = f'ALTER TABLE finviz_ok CHANGE {c} {c} VARCHAR(255) NULL DEFAULT NULL'\n",
    "    sql_conn.execute(query)"
   ]
  },
  {
   "cell_type": "code",
   "execution_count": null,
   "metadata": {},
   "outputs": [],
   "source": []
  },
  {
   "cell_type": "code",
   "execution_count": null,
   "metadata": {},
   "outputs": [],
   "source": []
  },
  {
   "cell_type": "markdown",
   "metadata": {},
   "source": [
    "### Agregamos un INDICE"
   ]
  },
  {
   "cell_type": "code",
   "execution_count": 36,
   "metadata": {},
   "outputs": [
    {
     "data": {
      "text/plain": [
       "<sqlalchemy.engine.result.ResultProxy at 0x1e7275318e0>"
      ]
     },
     "execution_count": 36,
     "metadata": {},
     "output_type": "execute_result"
    }
   ],
   "source": [
    "query = 'ALTER TABLE finviz_ok ADD PRIMARY KEY(Ticker)'\n",
    "sql_conn.execute(query)"
   ]
  },
  {
   "cell_type": "markdown",
   "metadata": {},
   "source": [
    "### Eliminamos un índice"
   ]
  },
  {
   "cell_type": "code",
   "execution_count": 24,
   "metadata": {
    "scrolled": true
   },
   "outputs": [
    {
     "data": {
      "text/plain": [
       "<sqlalchemy.engine.result.ResultProxy at 0x1e72147d970>"
      ]
     },
     "execution_count": 24,
     "metadata": {},
     "output_type": "execute_result"
    }
   ],
   "source": [
    "query = 'ALTER TABLE finviz_ok DROP PRIMARY KEY'\n",
    "sql_conn.execute(query)"
   ]
  },
  {
   "cell_type": "code",
   "execution_count": null,
   "metadata": {},
   "outputs": [],
   "source": []
  },
  {
   "cell_type": "markdown",
   "metadata": {},
   "source": [
    "### Medimos performance de consulta tipo filtro"
   ]
  },
  {
   "cell_type": "code",
   "execution_count": 37,
   "metadata": {},
   "outputs": [
    {
     "name": "stdout",
     "output_type": "stream",
     "text": [
      "14.6 ms ± 789 µs per loop (mean ± std. dev. of 7 runs, 100 loops each)\n"
     ]
    }
   ],
   "source": [
    "%%timeit\n",
    "pd.read_sql('SELECT Ticker, Volume FROM finviz ORDER BY Volume ASC LIMIT 10', sql_conn)"
   ]
  },
  {
   "cell_type": "code",
   "execution_count": 38,
   "metadata": {},
   "outputs": [
    {
     "name": "stdout",
     "output_type": "stream",
     "text": [
      "7.08 ms ± 291 µs per loop (mean ± std. dev. of 7 runs, 100 loops each)\n"
     ]
    }
   ],
   "source": [
    "%%timeit\n",
    "pd.read_sql('SELECT Ticker, Volume FROM finviz_ok ORDER BY Volume ASC LIMIT 10', sql_conn)"
   ]
  },
  {
   "cell_type": "code",
   "execution_count": null,
   "metadata": {},
   "outputs": [],
   "source": []
  },
  {
   "cell_type": "markdown",
   "metadata": {},
   "source": [
    "### Medimos Performance de consulta agregada"
   ]
  },
  {
   "cell_type": "code",
   "execution_count": 75,
   "metadata": {},
   "outputs": [
    {
     "data": {
      "text/html": [
       "<div>\n",
       "<style scoped>\n",
       "    .dataframe tbody tr th:only-of-type {\n",
       "        vertical-align: middle;\n",
       "    }\n",
       "\n",
       "    .dataframe tbody tr th {\n",
       "        vertical-align: top;\n",
       "    }\n",
       "\n",
       "    .dataframe thead th {\n",
       "        text-align: right;\n",
       "    }\n",
       "</style>\n",
       "<table border=\"1\" class=\"dataframe\">\n",
       "  <thead>\n",
       "    <tr style=\"text-align: right;\">\n",
       "      <th></th>\n",
       "      <th>Sector</th>\n",
       "      <th>P_E</th>\n",
       "    </tr>\n",
       "  </thead>\n",
       "  <tbody>\n",
       "    <tr>\n",
       "      <th>0</th>\n",
       "      <td>Energy</td>\n",
       "      <td>14.853619</td>\n",
       "    </tr>\n",
       "    <tr>\n",
       "      <th>1</th>\n",
       "      <td>Financial</td>\n",
       "      <td>17.870808</td>\n",
       "    </tr>\n",
       "    <tr>\n",
       "      <th>2</th>\n",
       "      <td>Utilities</td>\n",
       "      <td>23.612949</td>\n",
       "    </tr>\n",
       "    <tr>\n",
       "      <th>3</th>\n",
       "      <td>Consumer Defensive</td>\n",
       "      <td>25.497440</td>\n",
       "    </tr>\n",
       "    <tr>\n",
       "      <th>4</th>\n",
       "      <td>Communication Services</td>\n",
       "      <td>26.849118</td>\n",
       "    </tr>\n",
       "    <tr>\n",
       "      <th>5</th>\n",
       "      <td>Basic Materials</td>\n",
       "      <td>28.194615</td>\n",
       "    </tr>\n",
       "    <tr>\n",
       "      <th>6</th>\n",
       "      <td>Industrials</td>\n",
       "      <td>28.543313</td>\n",
       "    </tr>\n",
       "    <tr>\n",
       "      <th>7</th>\n",
       "      <td>Consumer Cyclical</td>\n",
       "      <td>28.660780</td>\n",
       "    </tr>\n",
       "    <tr>\n",
       "      <th>8</th>\n",
       "      <td>Real Estate</td>\n",
       "      <td>31.356190</td>\n",
       "    </tr>\n",
       "    <tr>\n",
       "      <th>9</th>\n",
       "      <td>Healthcare</td>\n",
       "      <td>34.480000</td>\n",
       "    </tr>\n",
       "    <tr>\n",
       "      <th>10</th>\n",
       "      <td>Technology</td>\n",
       "      <td>36.832343</td>\n",
       "    </tr>\n",
       "  </tbody>\n",
       "</table>\n",
       "</div>"
      ],
      "text/plain": [
       "                    Sector        P_E\n",
       "0                   Energy  14.853619\n",
       "1                Financial  17.870808\n",
       "2                Utilities  23.612949\n",
       "3       Consumer Defensive  25.497440\n",
       "4   Communication Services  26.849118\n",
       "5          Basic Materials  28.194615\n",
       "6              Industrials  28.543313\n",
       "7        Consumer Cyclical  28.660780\n",
       "8              Real Estate  31.356190\n",
       "9               Healthcare  34.480000\n",
       "10              Technology  36.832343"
      ]
     },
     "execution_count": 75,
     "metadata": {},
     "output_type": "execute_result"
    }
   ],
   "source": [
    "q = 'SELECT Sector, AVG(P_E) as P_E FROM finviz_ok \\\n",
    "        WHERE P_E < 100 \\\n",
    "        GROUP BY Sector ORDER BY P_E'\n",
    "pd.read_sql(q, sql_conn)"
   ]
  },
  {
   "cell_type": "code",
   "execution_count": 82,
   "metadata": {},
   "outputs": [
    {
     "data": {
      "text/html": [
       "<div>\n",
       "<style scoped>\n",
       "    .dataframe tbody tr th:only-of-type {\n",
       "        vertical-align: middle;\n",
       "    }\n",
       "\n",
       "    .dataframe tbody tr th {\n",
       "        vertical-align: top;\n",
       "    }\n",
       "\n",
       "    .dataframe thead th {\n",
       "        text-align: right;\n",
       "    }\n",
       "</style>\n",
       "<table border=\"1\" class=\"dataframe\">\n",
       "  <thead>\n",
       "    <tr style=\"text-align: right;\">\n",
       "      <th></th>\n",
       "      <th>Sector</th>\n",
       "      <th>Industry</th>\n",
       "      <th>P_E</th>\n",
       "      <th>cantidad</th>\n",
       "    </tr>\n",
       "  </thead>\n",
       "  <tbody>\n",
       "    <tr>\n",
       "      <th>0</th>\n",
       "      <td>Energy</td>\n",
       "      <td>Uranium</td>\n",
       "      <td>1.780000</td>\n",
       "      <td>1</td>\n",
       "    </tr>\n",
       "    <tr>\n",
       "      <th>1</th>\n",
       "      <td>Financial</td>\n",
       "      <td>Mortgage Finance</td>\n",
       "      <td>8.020000</td>\n",
       "      <td>11</td>\n",
       "    </tr>\n",
       "    <tr>\n",
       "      <th>2</th>\n",
       "      <td>Consumer Cyclical</td>\n",
       "      <td>Textile Manufacturing</td>\n",
       "      <td>8.420000</td>\n",
       "      <td>2</td>\n",
       "    </tr>\n",
       "    <tr>\n",
       "      <th>3</th>\n",
       "      <td>Industrials</td>\n",
       "      <td>Marine Shipping</td>\n",
       "      <td>8.507000</td>\n",
       "      <td>10</td>\n",
       "    </tr>\n",
       "    <tr>\n",
       "      <th>4</th>\n",
       "      <td>Energy</td>\n",
       "      <td>Oil &amp; Gas Midstream</td>\n",
       "      <td>10.063182</td>\n",
       "      <td>44</td>\n",
       "    </tr>\n",
       "    <tr>\n",
       "      <th>...</th>\n",
       "      <td>...</td>\n",
       "      <td>...</td>\n",
       "      <td>...</td>\n",
       "      <td>...</td>\n",
       "    </tr>\n",
       "    <tr>\n",
       "      <th>141</th>\n",
       "      <td>Technology</td>\n",
       "      <td>Solar</td>\n",
       "      <td>56.084000</td>\n",
       "      <td>5</td>\n",
       "    </tr>\n",
       "    <tr>\n",
       "      <th>142</th>\n",
       "      <td>Industrials</td>\n",
       "      <td>Conglomerates</td>\n",
       "      <td>56.850000</td>\n",
       "      <td>3</td>\n",
       "    </tr>\n",
       "    <tr>\n",
       "      <th>143</th>\n",
       "      <td>Consumer Cyclical</td>\n",
       "      <td>Luxury Goods</td>\n",
       "      <td>60.670000</td>\n",
       "      <td>1</td>\n",
       "    </tr>\n",
       "    <tr>\n",
       "      <th>144</th>\n",
       "      <td>Financial</td>\n",
       "      <td>Shell Companies</td>\n",
       "      <td>68.675000</td>\n",
       "      <td>2</td>\n",
       "    </tr>\n",
       "    <tr>\n",
       "      <th>145</th>\n",
       "      <td>Consumer Cyclical</td>\n",
       "      <td>Gambling</td>\n",
       "      <td>69.770000</td>\n",
       "      <td>1</td>\n",
       "    </tr>\n",
       "  </tbody>\n",
       "</table>\n",
       "<p>146 rows × 4 columns</p>\n",
       "</div>"
      ],
      "text/plain": [
       "                Sector               Industry        P_E  cantidad\n",
       "0               Energy                Uranium   1.780000         1\n",
       "1            Financial       Mortgage Finance   8.020000        11\n",
       "2    Consumer Cyclical  Textile Manufacturing   8.420000         2\n",
       "3          Industrials        Marine Shipping   8.507000        10\n",
       "4               Energy    Oil & Gas Midstream  10.063182        44\n",
       "..                 ...                    ...        ...       ...\n",
       "141         Technology                  Solar  56.084000         5\n",
       "142        Industrials          Conglomerates  56.850000         3\n",
       "143  Consumer Cyclical           Luxury Goods  60.670000         1\n",
       "144          Financial        Shell Companies  68.675000         2\n",
       "145  Consumer Cyclical               Gambling  69.770000         1\n",
       "\n",
       "[146 rows x 4 columns]"
      ]
     },
     "execution_count": 82,
     "metadata": {},
     "output_type": "execute_result"
    }
   ],
   "source": [
    "q = 'SELECT Sector, Industry, AVG(P_E) as P_E, COUNT(*) AS cantidad \\\n",
    "        FROM finviz_ok \\\n",
    "        WHERE P_E < 100 \\\n",
    "        GROUP BY Sector, Industry ORDER BY P_E'\n",
    "pd.read_sql(q, sql_conn)"
   ]
  },
  {
   "cell_type": "code",
   "execution_count": 56,
   "metadata": {},
   "outputs": [],
   "source": [
    "q = 'SELECT Sector, AVG(P_E) as P_E FROM finviz \\\n",
    "        WHERE P_E < 100 \\\n",
    "        GROUP BY Sector ORDER BY P_E'"
   ]
  },
  {
   "cell_type": "code",
   "execution_count": 57,
   "metadata": {},
   "outputs": [
    {
     "name": "stdout",
     "output_type": "stream",
     "text": [
      "35.4 ms ± 638 µs per loop (mean ± std. dev. of 7 runs, 10 loops each)\n"
     ]
    }
   ],
   "source": [
    "%%timeit\n",
    "pd.read_sql(q, sql_conn)"
   ]
  },
  {
   "cell_type": "code",
   "execution_count": 54,
   "metadata": {},
   "outputs": [],
   "source": [
    "q = 'SELECT Sector, AVG(P_E) as P_E FROM finviz_ok \\\n",
    "        WHERE P_E < 100 \\\n",
    "        GROUP BY Sector ORDER BY P_E'"
   ]
  },
  {
   "cell_type": "code",
   "execution_count": 55,
   "metadata": {},
   "outputs": [
    {
     "name": "stdout",
     "output_type": "stream",
     "text": [
      "8.71 ms ± 188 µs per loop (mean ± std. dev. of 7 runs, 100 loops each)\n"
     ]
    }
   ],
   "source": [
    "%%timeit\n",
    "pd.read_sql(q, sql_conn)"
   ]
  },
  {
   "cell_type": "markdown",
   "metadata": {},
   "source": [
    "## Comparación contra Excel"
   ]
  },
  {
   "cell_type": "code",
   "execution_count": 60,
   "metadata": {},
   "outputs": [],
   "source": [
    "df = pd.read_sql('finviz_ok', sql_conn)"
   ]
  },
  {
   "cell_type": "code",
   "execution_count": 61,
   "metadata": {},
   "outputs": [
    {
     "name": "stdout",
     "output_type": "stream",
     "text": [
      "9.7 s ± 1.03 s per loop (mean ± std. dev. of 7 runs, 1 loop each)\n"
     ]
    }
   ],
   "source": [
    "%%timeit\n",
    "df.to_excel('finviz.xlsx')"
   ]
  },
  {
   "cell_type": "code",
   "execution_count": 63,
   "metadata": {},
   "outputs": [
    {
     "name": "stdout",
     "output_type": "stream",
     "text": [
      "5.55 s ± 305 ms per loop (mean ± std. dev. of 7 runs, 1 loop each)\n"
     ]
    }
   ],
   "source": [
    "%%timeit\n",
    "pd.read_excel('finviz.xlsx')"
   ]
  },
  {
   "cell_type": "code",
   "execution_count": 83,
   "metadata": {},
   "outputs": [
    {
     "data": {
      "text/html": [
       "<div>\n",
       "<style scoped>\n",
       "    .dataframe tbody tr th:only-of-type {\n",
       "        vertical-align: middle;\n",
       "    }\n",
       "\n",
       "    .dataframe tbody tr th {\n",
       "        vertical-align: top;\n",
       "    }\n",
       "\n",
       "    .dataframe thead th {\n",
       "        text-align: right;\n",
       "    }\n",
       "</style>\n",
       "<table border=\"1\" class=\"dataframe\">\n",
       "  <thead>\n",
       "    <tr style=\"text-align: right;\">\n",
       "      <th></th>\n",
       "      <th></th>\n",
       "      <th>P_E</th>\n",
       "      <th>Cantidad</th>\n",
       "    </tr>\n",
       "    <tr>\n",
       "      <th>Sector</th>\n",
       "      <th>Industry</th>\n",
       "      <th></th>\n",
       "      <th></th>\n",
       "    </tr>\n",
       "  </thead>\n",
       "  <tbody>\n",
       "    <tr>\n",
       "      <th>Energy</th>\n",
       "      <th>Uranium</th>\n",
       "      <td>1.780000</td>\n",
       "      <td>1</td>\n",
       "    </tr>\n",
       "    <tr>\n",
       "      <th>Financial</th>\n",
       "      <th>Mortgage Finance</th>\n",
       "      <td>8.020000</td>\n",
       "      <td>11</td>\n",
       "    </tr>\n",
       "    <tr>\n",
       "      <th>Consumer Cyclical</th>\n",
       "      <th>Textile Manufacturing</th>\n",
       "      <td>8.420000</td>\n",
       "      <td>2</td>\n",
       "    </tr>\n",
       "    <tr>\n",
       "      <th>Industrials</th>\n",
       "      <th>Marine Shipping</th>\n",
       "      <td>8.507000</td>\n",
       "      <td>10</td>\n",
       "    </tr>\n",
       "    <tr>\n",
       "      <th>Energy</th>\n",
       "      <th>Oil &amp; Gas Midstream</th>\n",
       "      <td>10.063182</td>\n",
       "      <td>44</td>\n",
       "    </tr>\n",
       "    <tr>\n",
       "      <th>...</th>\n",
       "      <th>...</th>\n",
       "      <td>...</td>\n",
       "      <td>...</td>\n",
       "    </tr>\n",
       "    <tr>\n",
       "      <th>Technology</th>\n",
       "      <th>Solar</th>\n",
       "      <td>56.084000</td>\n",
       "      <td>5</td>\n",
       "    </tr>\n",
       "    <tr>\n",
       "      <th>Industrials</th>\n",
       "      <th>Conglomerates</th>\n",
       "      <td>56.850000</td>\n",
       "      <td>3</td>\n",
       "    </tr>\n",
       "    <tr>\n",
       "      <th>Consumer Cyclical</th>\n",
       "      <th>Luxury Goods</th>\n",
       "      <td>60.670000</td>\n",
       "      <td>1</td>\n",
       "    </tr>\n",
       "    <tr>\n",
       "      <th>Financial</th>\n",
       "      <th>Shell Companies</th>\n",
       "      <td>68.675000</td>\n",
       "      <td>2</td>\n",
       "    </tr>\n",
       "    <tr>\n",
       "      <th>Consumer Cyclical</th>\n",
       "      <th>Gambling</th>\n",
       "      <td>69.770000</td>\n",
       "      <td>1</td>\n",
       "    </tr>\n",
       "  </tbody>\n",
       "</table>\n",
       "<p>146 rows × 2 columns</p>\n",
       "</div>"
      ],
      "text/plain": [
       "                                               P_E  Cantidad\n",
       "Sector            Industry                                  \n",
       "Energy            Uranium                 1.780000         1\n",
       "Financial         Mortgage Finance        8.020000        11\n",
       "Consumer Cyclical Textile Manufacturing   8.420000         2\n",
       "Industrials       Marine Shipping         8.507000        10\n",
       "Energy            Oil & Gas Midstream    10.063182        44\n",
       "...                                            ...       ...\n",
       "Technology        Solar                  56.084000         5\n",
       "Industrials       Conglomerates          56.850000         3\n",
       "Consumer Cyclical Luxury Goods           60.670000         1\n",
       "Financial         Shell Companies        68.675000         2\n",
       "Consumer Cyclical Gambling               69.770000         1\n",
       "\n",
       "[146 rows x 2 columns]"
      ]
     },
     "execution_count": 83,
     "metadata": {},
     "output_type": "execute_result"
    }
   ],
   "source": [
    "filtro = df.loc[df.P_E < 100]\n",
    "agg = pd.concat([filtro.groupby(['Sector','Industry']).P_E.mean(), filtro.groupby(['Sector','Industry']).P_E.size() ], axis=1)\n",
    "agg.columns = ['P_E','Cantidad']\n",
    "agg.sort_values('P_E')"
   ]
  },
  {
   "cell_type": "code",
   "execution_count": null,
   "metadata": {},
   "outputs": [],
   "source": []
  },
  {
   "cell_type": "markdown",
   "metadata": {},
   "source": [
    "# Para ir trabajando"
   ]
  },
  {
   "cell_type": "markdown",
   "metadata": {},
   "source": [
    "* Otros paneles\n",
    "    * Precios en vivo paneles de FMP\n",
    "\n",
    "\n",
    "* Historicos\n",
    "    * Equity historico con batch requests ALPACA\n",
    "    * Equity con yahoo\n",
    "    * Buscar alternativas como investing\n",
    "\n",
    "\n",
    "* Intradiarios    \n",
    "    * Intradiario IEX / Alpaca\n",
    "\n",
    "\n",
    "* Cadenas de Opciones\n",
    "    * Ameritrade precios/puntas/Griegas\n",
    "    * Yahoo"
   ]
  },
  {
   "cell_type": "code",
   "execution_count": null,
   "metadata": {},
   "outputs": [],
   "source": []
  }
 ],
 "metadata": {
  "kernelspec": {
   "display_name": "Python 3",
   "language": "python",
   "name": "python3"
  },
  "language_info": {
   "codemirror_mode": {
    "name": "ipython",
    "version": 3
   },
   "file_extension": ".py",
   "mimetype": "text/x-python",
   "name": "python",
   "nbconvert_exporter": "python",
   "pygments_lexer": "ipython3",
   "version": "3.8.5"
  },
  "toc": {
   "base_numbering": 1,
   "nav_menu": {},
   "number_sections": true,
   "sideBar": true,
   "skip_h1_title": false,
   "title_cell": "Table of Contents",
   "title_sidebar": "Contents",
   "toc_cell": false,
   "toc_position": {},
   "toc_section_display": true,
   "toc_window_display": true
  }
 },
 "nbformat": 4,
 "nbformat_minor": 4
}
