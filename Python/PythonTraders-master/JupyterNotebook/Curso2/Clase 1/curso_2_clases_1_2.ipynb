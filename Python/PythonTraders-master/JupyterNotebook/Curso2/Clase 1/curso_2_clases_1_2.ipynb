{
 "cells": [
  {
   "cell_type": "markdown",
   "metadata": {},
   "source": [
    "# Portafolio de Estrategias"
   ]
  },
  {
   "cell_type": "markdown",
   "metadata": {},
   "source": [
    "¿Que es un portafolio de Estrategias?\n",
    "\n",
    "¿Como se construye?\n",
    "\n",
    "¿Para que sirve?\n",
    "\n",
    "\n",
    "\n",
    "¿Cual es la principal ventaja contra un portafolio de acciones?"
   ]
  },
  {
   "cell_type": "code",
   "execution_count": null,
   "metadata": {},
   "outputs": [],
   "source": []
  },
  {
   "cell_type": "code",
   "execution_count": null,
   "metadata": {},
   "outputs": [],
   "source": []
  },
  {
   "cell_type": "code",
   "execution_count": null,
   "metadata": {},
   "outputs": [],
   "source": []
  },
  {
   "cell_type": "code",
   "execution_count": null,
   "metadata": {},
   "outputs": [],
   "source": []
  },
  {
   "cell_type": "code",
   "execution_count": null,
   "metadata": {},
   "outputs": [],
   "source": []
  },
  {
   "cell_type": "code",
   "execution_count": null,
   "metadata": {},
   "outputs": [],
   "source": []
  },
  {
   "cell_type": "code",
   "execution_count": null,
   "metadata": {},
   "outputs": [],
   "source": []
  },
  {
   "cell_type": "code",
   "execution_count": null,
   "metadata": {},
   "outputs": [],
   "source": []
  },
  {
   "cell_type": "code",
   "execution_count": null,
   "metadata": {},
   "outputs": [],
   "source": []
  },
  {
   "cell_type": "code",
   "execution_count": null,
   "metadata": {},
   "outputs": [],
   "source": []
  },
  {
   "cell_type": "code",
   "execution_count": null,
   "metadata": {},
   "outputs": [],
   "source": []
  },
  {
   "cell_type": "code",
   "execution_count": null,
   "metadata": {},
   "outputs": [],
   "source": []
  },
  {
   "cell_type": "markdown",
   "metadata": {},
   "source": [
    "\n",
    "# Analisis Combinatorio\n",
    "\n",
    "* Combinaciones (No importa el orden  AB es la misma combinacion que BA)\n",
    "    * Con repeticion\n",
    "    * Sin repeticion\n",
    "* Permutaciones (Importa el orden  AB es una permutacion y BA es otra permutacion )"
   ]
  },
  {
   "cell_type": "markdown",
   "metadata": {},
   "source": [
    "### Combinatoria"
   ]
  },
  {
   "cell_type": "markdown",
   "metadata": {},
   "source": [
    "Combinaciones de \"n\" elelmentos tomados de a \"i\""
   ]
  },
  {
   "cell_type": "markdown",
   "metadata": {},
   "source": [
    "$$ \\large  C \\binom{n}{i} = \\frac{n!}{i! (n-i)!} $$"
   ]
  },
  {
   "cell_type": "code",
   "execution_count": 1,
   "metadata": {},
   "outputs": [
    {
     "data": {
      "text/plain": [
       "45.0"
      ]
     },
     "execution_count": 1,
     "metadata": {},
     "output_type": "execute_result"
    }
   ],
   "source": [
    "import math\n",
    "\n",
    "# Combinaciones de 10 tomados de a 2\n",
    "c = math.factorial(10) / (math.factorial(2)*math.factorial(10-2))\n",
    "\n",
    "c"
   ]
  },
  {
   "cell_type": "code",
   "execution_count": null,
   "metadata": {},
   "outputs": [],
   "source": []
  },
  {
   "cell_type": "markdown",
   "metadata": {},
   "source": [
    "### Algos de Combinatoria"
   ]
  },
  {
   "cell_type": "code",
   "execution_count": 2,
   "metadata": {},
   "outputs": [
    {
     "name": "stdout",
     "output_type": "stream",
     "text": [
      "45 \n",
      "\n",
      " [[0, 1], [0, 2], [0, 3], [0, 4], [0, 5], [0, 6], [0, 7], [0, 8], [0, 9], [1, 2], [1, 3], [1, 4], [1, 5], [1, 6], [1, 7], [1, 8], [1, 9], [2, 3], [2, 4], [2, 5], [2, 6], [2, 7], [2, 8], [2, 9], [3, 4], [3, 5], [3, 6], [3, 7], [3, 8], [3, 9], [4, 5], [4, 6], [4, 7], [4, 8], [4, 9], [5, 6], [5, 7], [5, 8], [5, 9], [6, 7], [6, 8], [6, 9], [7, 8], [7, 9], [8, 9]]\n"
     ]
    }
   ],
   "source": [
    "numeros = [i for i in range(10)]\n",
    "\n",
    "combinaciones = []\n",
    "for i in range(len(numeros)):\n",
    "    for j in range(len(numeros)):\n",
    "        if j>i:\n",
    "            combinaciones.append([numeros[i],numeros[j]])\n",
    "\n",
    "print(len(combinaciones), '\\n\\n', combinaciones)"
   ]
  },
  {
   "cell_type": "markdown",
   "metadata": {},
   "source": [
    "### Y para que demonios voy a querer algos de combinatoria?"
   ]
  },
  {
   "cell_type": "markdown",
   "metadata": {},
   "source": [
    "Escucho ideas..."
   ]
  },
  {
   "cell_type": "markdown",
   "metadata": {},
   "source": [
    "* Screener\n",
    "* Clusterizacion\n",
    "* Parametrizaciones\n",
    "* Combinaciones de indicadores o ratios\n",
    "\n",
    "* Combinaciones de conjuntos discretizables"
   ]
  },
  {
   "cell_type": "code",
   "execution_count": null,
   "metadata": {},
   "outputs": [],
   "source": []
  },
  {
   "cell_type": "code",
   "execution_count": null,
   "metadata": {},
   "outputs": [],
   "source": []
  },
  {
   "cell_type": "code",
   "execution_count": null,
   "metadata": {},
   "outputs": [],
   "source": []
  },
  {
   "cell_type": "code",
   "execution_count": null,
   "metadata": {},
   "outputs": [],
   "source": []
  },
  {
   "cell_type": "code",
   "execution_count": null,
   "metadata": {},
   "outputs": [],
   "source": []
  },
  {
   "cell_type": "code",
   "execution_count": null,
   "metadata": {},
   "outputs": [],
   "source": []
  },
  {
   "cell_type": "code",
   "execution_count": null,
   "metadata": {},
   "outputs": [],
   "source": []
  },
  {
   "cell_type": "code",
   "execution_count": 3,
   "metadata": {},
   "outputs": [
    {
     "data": {
      "text/plain": [
       "[['GGAL', 'PAM'],\n",
       " ['GGAL', 'TGS'],\n",
       " ['GGAL', 'YPF'],\n",
       " ['GGAL', 'EDN'],\n",
       " ['PAM', 'TGS'],\n",
       " ['PAM', 'YPF'],\n",
       " ['PAM', 'EDN'],\n",
       " ['TGS', 'YPF'],\n",
       " ['TGS', 'EDN'],\n",
       " ['YPF', 'EDN']]"
      ]
     },
     "execution_count": 3,
     "metadata": {},
     "output_type": "execute_result"
    }
   ],
   "source": [
    "activos = [\"GGAL\", \"PAM\",\"TGS\",\"YPF\",\"EDN\"]\n",
    "\n",
    "combinaciones = []\n",
    "for i in range(len(activos)):\n",
    "    for j in range(len(activos)):\n",
    "        if j>i:\n",
    "            combinaciones.append([activos[i],activos[j]])\n",
    "combinaciones"
   ]
  },
  {
   "cell_type": "code",
   "execution_count": 4,
   "metadata": {},
   "outputs": [
    {
     "data": {
      "text/plain": [
       "[['GGAL', 'PAM'],\n",
       " ['GGAL', 'TGS'],\n",
       " ['GGAL', 'YPF'],\n",
       " ['GGAL', 'EDN'],\n",
       " ['PAM', 'TGS'],\n",
       " ['PAM', 'YPF'],\n",
       " ['PAM', 'EDN'],\n",
       " ['TGS', 'YPF'],\n",
       " ['TGS', 'EDN'],\n",
       " ['YPF', 'EDN']]"
      ]
     },
     "execution_count": 4,
     "metadata": {},
     "output_type": "execute_result"
    }
   ],
   "source": [
    "combinaciones"
   ]
  },
  {
   "cell_type": "code",
   "execution_count": null,
   "metadata": {},
   "outputs": [],
   "source": []
  },
  {
   "cell_type": "code",
   "execution_count": null,
   "metadata": {},
   "outputs": [],
   "source": []
  },
  {
   "cell_type": "code",
   "execution_count": null,
   "metadata": {},
   "outputs": [],
   "source": []
  },
  {
   "cell_type": "markdown",
   "metadata": {},
   "source": [
    "# MPT"
   ]
  },
  {
   "cell_type": "markdown",
   "metadata": {},
   "source": [
    "## Algunas cositas previas"
   ]
  },
  {
   "cell_type": "markdown",
   "metadata": {},
   "source": [
    "### Importacion de datos "
   ]
  },
  {
   "cell_type": "code",
   "execution_count": 5,
   "metadata": {},
   "outputs": [
    {
     "name": "stdout",
     "output_type": "stream",
     "text": [
      "[*********************100%***********************]  3 of 3 downloaded\n"
     ]
    },
    {
     "data": {
      "text/html": [
       "<div>\n",
       "<style scoped>\n",
       "    .dataframe tbody tr th:only-of-type {\n",
       "        vertical-align: middle;\n",
       "    }\n",
       "\n",
       "    .dataframe tbody tr th {\n",
       "        vertical-align: top;\n",
       "    }\n",
       "\n",
       "    .dataframe thead th {\n",
       "        text-align: right;\n",
       "    }\n",
       "</style>\n",
       "<table border=\"1\" class=\"dataframe\">\n",
       "  <thead>\n",
       "    <tr style=\"text-align: right;\">\n",
       "      <th></th>\n",
       "      <th>AMZN</th>\n",
       "      <th>NFLX</th>\n",
       "      <th>TSLA</th>\n",
       "    </tr>\n",
       "    <tr>\n",
       "      <th>Date</th>\n",
       "      <th></th>\n",
       "      <th></th>\n",
       "      <th></th>\n",
       "    </tr>\n",
       "  </thead>\n",
       "  <tbody>\n",
       "    <tr>\n",
       "      <th>2000-01-03</th>\n",
       "      <td>89.38</td>\n",
       "      <td>NaN</td>\n",
       "      <td>NaN</td>\n",
       "    </tr>\n",
       "    <tr>\n",
       "      <th>2000-01-04</th>\n",
       "      <td>81.94</td>\n",
       "      <td>NaN</td>\n",
       "      <td>NaN</td>\n",
       "    </tr>\n",
       "    <tr>\n",
       "      <th>2000-01-05</th>\n",
       "      <td>69.75</td>\n",
       "      <td>NaN</td>\n",
       "      <td>NaN</td>\n",
       "    </tr>\n",
       "    <tr>\n",
       "      <th>2000-01-06</th>\n",
       "      <td>65.56</td>\n",
       "      <td>NaN</td>\n",
       "      <td>NaN</td>\n",
       "    </tr>\n",
       "    <tr>\n",
       "      <th>2000-01-07</th>\n",
       "      <td>69.56</td>\n",
       "      <td>NaN</td>\n",
       "      <td>NaN</td>\n",
       "    </tr>\n",
       "  </tbody>\n",
       "</table>\n",
       "</div>"
      ],
      "text/plain": [
       "             AMZN  NFLX  TSLA\n",
       "Date                         \n",
       "2000-01-03  89.38   NaN   NaN\n",
       "2000-01-04  81.94   NaN   NaN\n",
       "2000-01-05  69.75   NaN   NaN\n",
       "2000-01-06  65.56   NaN   NaN\n",
       "2000-01-07  69.56   NaN   NaN"
      ]
     },
     "execution_count": 5,
     "metadata": {},
     "output_type": "execute_result"
    }
   ],
   "source": [
    "import yfinance as yf\n",
    "import pandas as pd\n",
    "import numpy as np\n",
    "\n",
    "data = yf.download(['AMZN','TSLA','NFLX'], start='2000-01-01', end='2021-01-01')['Adj Close']\n",
    "data.head()"
   ]
  },
  {
   "cell_type": "markdown",
   "metadata": {},
   "source": [
    "### Filtrado de los ceros"
   ]
  },
  {
   "cell_type": "code",
   "execution_count": 6,
   "metadata": {},
   "outputs": [
    {
     "data": {
      "text/html": [
       "<div>\n",
       "<style scoped>\n",
       "    .dataframe tbody tr th:only-of-type {\n",
       "        vertical-align: middle;\n",
       "    }\n",
       "\n",
       "    .dataframe tbody tr th {\n",
       "        vertical-align: top;\n",
       "    }\n",
       "\n",
       "    .dataframe thead th {\n",
       "        text-align: right;\n",
       "    }\n",
       "</style>\n",
       "<table border=\"1\" class=\"dataframe\">\n",
       "  <thead>\n",
       "    <tr style=\"text-align: right;\">\n",
       "      <th></th>\n",
       "      <th>a</th>\n",
       "      <th>b</th>\n",
       "    </tr>\n",
       "  </thead>\n",
       "  <tbody>\n",
       "    <tr>\n",
       "      <th>0</th>\n",
       "      <td>0</td>\n",
       "      <td>1</td>\n",
       "    </tr>\n",
       "    <tr>\n",
       "      <th>1</th>\n",
       "      <td>12</td>\n",
       "      <td>2</td>\n",
       "    </tr>\n",
       "    <tr>\n",
       "      <th>2</th>\n",
       "      <td>13</td>\n",
       "      <td>3</td>\n",
       "    </tr>\n",
       "    <tr>\n",
       "      <th>3</th>\n",
       "      <td>14</td>\n",
       "      <td>4</td>\n",
       "    </tr>\n",
       "  </tbody>\n",
       "</table>\n",
       "</div>"
      ],
      "text/plain": [
       "    a  b\n",
       "0   0  1\n",
       "1  12  2\n",
       "2  13  3\n",
       "3  14  4"
      ]
     },
     "execution_count": 6,
     "metadata": {},
     "output_type": "execute_result"
    }
   ],
   "source": [
    "lista = [0,12,13,14]\n",
    "lista2 = [1,2,3,4]\n",
    "df = pd.DataFrame(list(zip(lista,lista2)), columns=['a','b'])\n",
    "df"
   ]
  },
  {
   "cell_type": "code",
   "execution_count": 7,
   "metadata": {},
   "outputs": [
    {
     "data": {
      "text/html": [
       "<div>\n",
       "<style scoped>\n",
       "    .dataframe tbody tr th:only-of-type {\n",
       "        vertical-align: middle;\n",
       "    }\n",
       "\n",
       "    .dataframe tbody tr th {\n",
       "        vertical-align: top;\n",
       "    }\n",
       "\n",
       "    .dataframe thead th {\n",
       "        text-align: right;\n",
       "    }\n",
       "</style>\n",
       "<table border=\"1\" class=\"dataframe\">\n",
       "  <thead>\n",
       "    <tr style=\"text-align: right;\">\n",
       "      <th></th>\n",
       "      <th>a</th>\n",
       "      <th>b</th>\n",
       "    </tr>\n",
       "  </thead>\n",
       "  <tbody>\n",
       "    <tr>\n",
       "      <th>0</th>\n",
       "      <td>0</td>\n",
       "      <td>1</td>\n",
       "    </tr>\n",
       "  </tbody>\n",
       "</table>\n",
       "</div>"
      ],
      "text/plain": [
       "   a  b\n",
       "0  0  1"
      ]
     },
     "execution_count": 7,
     "metadata": {},
     "output_type": "execute_result"
    }
   ],
   "source": [
    "df_ceros = df.loc[(df==0).any(axis=1)]\n",
    "df_ceros"
   ]
  },
  {
   "cell_type": "code",
   "execution_count": 8,
   "metadata": {
    "scrolled": true
   },
   "outputs": [
    {
     "data": {
      "text/html": [
       "<div>\n",
       "<style scoped>\n",
       "    .dataframe tbody tr th:only-of-type {\n",
       "        vertical-align: middle;\n",
       "    }\n",
       "\n",
       "    .dataframe tbody tr th {\n",
       "        vertical-align: top;\n",
       "    }\n",
       "\n",
       "    .dataframe thead th {\n",
       "        text-align: right;\n",
       "    }\n",
       "</style>\n",
       "<table border=\"1\" class=\"dataframe\">\n",
       "  <thead>\n",
       "    <tr style=\"text-align: right;\">\n",
       "      <th></th>\n",
       "      <th>a</th>\n",
       "      <th>b</th>\n",
       "    </tr>\n",
       "  </thead>\n",
       "  <tbody>\n",
       "    <tr>\n",
       "      <th>1</th>\n",
       "      <td>12</td>\n",
       "      <td>2</td>\n",
       "    </tr>\n",
       "    <tr>\n",
       "      <th>2</th>\n",
       "      <td>13</td>\n",
       "      <td>3</td>\n",
       "    </tr>\n",
       "    <tr>\n",
       "      <th>3</th>\n",
       "      <td>14</td>\n",
       "      <td>4</td>\n",
       "    </tr>\n",
       "  </tbody>\n",
       "</table>\n",
       "</div>"
      ],
      "text/plain": [
       "    a  b\n",
       "1  12  2\n",
       "2  13  3\n",
       "3  14  4"
      ]
     },
     "execution_count": 8,
     "metadata": {},
     "output_type": "execute_result"
    }
   ],
   "source": [
    "df_sin_ceros = df.loc[~(df==0).any(axis=1)]\n",
    "df_sin_ceros"
   ]
  },
  {
   "cell_type": "code",
   "execution_count": 9,
   "metadata": {},
   "outputs": [
    {
     "data": {
      "text/html": [
       "<div>\n",
       "<style scoped>\n",
       "    .dataframe tbody tr th:only-of-type {\n",
       "        vertical-align: middle;\n",
       "    }\n",
       "\n",
       "    .dataframe tbody tr th {\n",
       "        vertical-align: top;\n",
       "    }\n",
       "\n",
       "    .dataframe thead th {\n",
       "        text-align: right;\n",
       "    }\n",
       "</style>\n",
       "<table border=\"1\" class=\"dataframe\">\n",
       "  <thead>\n",
       "    <tr style=\"text-align: right;\">\n",
       "      <th></th>\n",
       "      <th>a</th>\n",
       "      <th>b</th>\n",
       "    </tr>\n",
       "  </thead>\n",
       "  <tbody>\n",
       "    <tr>\n",
       "      <th>1</th>\n",
       "      <td>12</td>\n",
       "      <td>2</td>\n",
       "    </tr>\n",
       "    <tr>\n",
       "      <th>2</th>\n",
       "      <td>13</td>\n",
       "      <td>3</td>\n",
       "    </tr>\n",
       "    <tr>\n",
       "      <th>3</th>\n",
       "      <td>14</td>\n",
       "      <td>4</td>\n",
       "    </tr>\n",
       "  </tbody>\n",
       "</table>\n",
       "</div>"
      ],
      "text/plain": [
       "    a  b\n",
       "1  12  2\n",
       "2  13  3\n",
       "3  14  4"
      ]
     },
     "execution_count": 9,
     "metadata": {},
     "output_type": "execute_result"
    }
   ],
   "source": [
    "lista = [0,12,13,14]\n",
    "lista2 = [1,2,3,4]\n",
    "df = pd.DataFrame(list(zip(lista,lista2)), columns=['a','b'])\n",
    "df.loc[df.a!=0]"
   ]
  },
  {
   "cell_type": "code",
   "execution_count": null,
   "metadata": {},
   "outputs": [],
   "source": []
  },
  {
   "cell_type": "code",
   "execution_count": 10,
   "metadata": {},
   "outputs": [
    {
     "data": {
      "text/html": [
       "<div>\n",
       "<style scoped>\n",
       "    .dataframe tbody tr th:only-of-type {\n",
       "        vertical-align: middle;\n",
       "    }\n",
       "\n",
       "    .dataframe tbody tr th {\n",
       "        vertical-align: top;\n",
       "    }\n",
       "\n",
       "    .dataframe thead th {\n",
       "        text-align: right;\n",
       "    }\n",
       "</style>\n",
       "<table border=\"1\" class=\"dataframe\">\n",
       "  <thead>\n",
       "    <tr style=\"text-align: right;\">\n",
       "      <th></th>\n",
       "      <th>b</th>\n",
       "    </tr>\n",
       "  </thead>\n",
       "  <tbody>\n",
       "    <tr>\n",
       "      <th>0</th>\n",
       "      <td>1</td>\n",
       "    </tr>\n",
       "    <tr>\n",
       "      <th>1</th>\n",
       "      <td>2</td>\n",
       "    </tr>\n",
       "    <tr>\n",
       "      <th>2</th>\n",
       "      <td>3</td>\n",
       "    </tr>\n",
       "    <tr>\n",
       "      <th>3</th>\n",
       "      <td>4</td>\n",
       "    </tr>\n",
       "  </tbody>\n",
       "</table>\n",
       "</div>"
      ],
      "text/plain": [
       "   b\n",
       "0  1\n",
       "1  2\n",
       "2  3\n",
       "3  4"
      ]
     },
     "execution_count": 10,
     "metadata": {},
     "output_type": "execute_result"
    }
   ],
   "source": [
    "lista = [0,12,13,14]\n",
    "lista2 = [1,2,3,4]\n",
    "df = pd.DataFrame(list(zip(lista,lista2)), columns=['a','b'])\n",
    "\n",
    "df.loc[:, (df != 0).all(axis=0)]"
   ]
  },
  {
   "cell_type": "code",
   "execution_count": null,
   "metadata": {},
   "outputs": [],
   "source": []
  },
  {
   "cell_type": "code",
   "execution_count": null,
   "metadata": {},
   "outputs": [],
   "source": []
  },
  {
   "cell_type": "code",
   "execution_count": null,
   "metadata": {},
   "outputs": [],
   "source": []
  },
  {
   "cell_type": "code",
   "execution_count": null,
   "metadata": {},
   "outputs": [],
   "source": []
  },
  {
   "cell_type": "markdown",
   "metadata": {},
   "source": [
    "### Retornos logaritmicos"
   ]
  },
  {
   "cell_type": "code",
   "execution_count": 11,
   "metadata": {},
   "outputs": [
    {
     "data": {
      "text/html": [
       "<div>\n",
       "<style scoped>\n",
       "    .dataframe tbody tr th:only-of-type {\n",
       "        vertical-align: middle;\n",
       "    }\n",
       "\n",
       "    .dataframe tbody tr th {\n",
       "        vertical-align: top;\n",
       "    }\n",
       "\n",
       "    .dataframe thead th {\n",
       "        text-align: right;\n",
       "    }\n",
       "</style>\n",
       "<table border=\"1\" class=\"dataframe\">\n",
       "  <thead>\n",
       "    <tr style=\"text-align: right;\">\n",
       "      <th></th>\n",
       "      <th>AMZN</th>\n",
       "      <th>NFLX</th>\n",
       "      <th>TSLA</th>\n",
       "    </tr>\n",
       "    <tr>\n",
       "      <th>Date</th>\n",
       "      <th></th>\n",
       "      <th></th>\n",
       "      <th></th>\n",
       "    </tr>\n",
       "  </thead>\n",
       "  <tbody>\n",
       "    <tr>\n",
       "      <th>2010-06-30</th>\n",
       "      <td>0.005967</td>\n",
       "      <td>-0.035447</td>\n",
       "      <td>-0.002094</td>\n",
       "    </tr>\n",
       "    <tr>\n",
       "      <th>2010-07-01</th>\n",
       "      <td>0.015439</td>\n",
       "      <td>0.009619</td>\n",
       "      <td>-0.083017</td>\n",
       "    </tr>\n",
       "    <tr>\n",
       "      <th>2010-07-02</th>\n",
       "      <td>-0.016538</td>\n",
       "      <td>-0.023895</td>\n",
       "      <td>-0.133857</td>\n",
       "    </tr>\n",
       "    <tr>\n",
       "      <th>2010-07-06</th>\n",
       "      <td>0.008394</td>\n",
       "      <td>0.001306</td>\n",
       "      <td>-0.176091</td>\n",
       "    </tr>\n",
       "    <tr>\n",
       "      <th>2010-07-07</th>\n",
       "      <td>0.030160</td>\n",
       "      <td>0.099928</td>\n",
       "      <td>-0.018809</td>\n",
       "    </tr>\n",
       "  </tbody>\n",
       "</table>\n",
       "</div>"
      ],
      "text/plain": [
       "                AMZN      NFLX      TSLA\n",
       "Date                                    \n",
       "2010-06-30  0.005967 -0.035447 -0.002094\n",
       "2010-07-01  0.015439  0.009619 -0.083017\n",
       "2010-07-02 -0.016538 -0.023895 -0.133857\n",
       "2010-07-06  0.008394  0.001306 -0.176091\n",
       "2010-07-07  0.030160  0.099928 -0.018809"
      ]
     },
     "execution_count": 11,
     "metadata": {},
     "output_type": "execute_result"
    }
   ],
   "source": [
    "retornos = np.log((data/data.shift(1)).dropna())\n",
    "retornos.head()"
   ]
  },
  {
   "cell_type": "markdown",
   "metadata": {},
   "source": [
    "### Ponderaciones al azar"
   ]
  },
  {
   "cell_type": "code",
   "execution_count": 12,
   "metadata": {},
   "outputs": [
    {
     "data": {
      "text/plain": [
       "array([3.66625362e-01, 6.33274085e-01, 1.00552749e-04])"
      ]
     },
     "execution_count": 12,
     "metadata": {},
     "output_type": "execute_result"
    }
   ],
   "source": [
    "np.random.seed(1)\n",
    "\n",
    "pond = np.array(np.random.random(len(data.columns)))\n",
    "pond = pond/np.sum(pond)\n",
    "pond"
   ]
  },
  {
   "cell_type": "markdown",
   "metadata": {},
   "source": [
    "### Explicación de MPT"
   ]
  },
  {
   "cell_type": "markdown",
   "metadata": {},
   "source": [
    "https://en.wikipedia.org/wiki/Modern_portfolio_theory"
   ]
  },
  {
   "cell_type": "markdown",
   "metadata": {},
   "source": [
    "$$ \\Large R_{p} = \\sum _{i} w_{i} R_{i}\\quad $$"
   ]
  },
  {
   "cell_type": "markdown",
   "metadata": {},
   "source": [
    "$$ \\Large \\sigma _{p}^{2}=\\sum _{i}\\sum _{j}w_{i}w_{j}\\sigma _{ij} $$"
   ]
  },
  {
   "cell_type": "markdown",
   "metadata": {},
   "source": [
    "### Cálculo de sharpe de cartera"
   ]
  },
  {
   "cell_type": "code",
   "execution_count": 13,
   "metadata": {
    "scrolled": true
   },
   "outputs": [
    {
     "data": {
      "text/plain": [
       "{'retorno': 0.3329579442832441,\n",
       " 'volatilidad': 0.3856231862947566,\n",
       " 'sharpe': 0.8634282276500431,\n",
       " 'ponderaciones': array([3.66625362e-01, 6.33274085e-01, 1.00552749e-04])}"
      ]
     },
     "execution_count": 13,
     "metadata": {},
     "output_type": "execute_result"
    }
   ],
   "source": [
    "r={}\n",
    "r['retorno'] = np.sum( (retornos.mean() * pond * 252))\n",
    "r['volatilidad'] = np.sqrt(np.dot(pond, np.dot(retornos.cov()*252, pond)))\n",
    "r['sharpe'] = r['retorno'] / r['volatilidad'] \n",
    "r['ponderaciones'] = pond\n",
    "r"
   ]
  },
  {
   "cell_type": "code",
   "execution_count": 14,
   "metadata": {},
   "outputs": [
    {
     "data": {
      "text/plain": [
       "{'retorno': 0.3329579442832441,\n",
       " 'volatilidad': 0.3856231862947566,\n",
       " 'sharpe': 0.8634282276500431,\n",
       " 'ponderaciones': array([3.66625362e-01, 6.33274085e-01, 1.00552749e-04])}"
      ]
     },
     "execution_count": 14,
     "metadata": {},
     "output_type": "execute_result"
    }
   ],
   "source": [
    "r={}\n",
    "r['retorno'] = np.dot( retornos.mean() , pond )*252\n",
    "r['volatilidad'] = np.sqrt(np.dot(pond, np.dot(retornos.cov()*252, pond)))\n",
    "r['sharpe'] = r['retorno'] / r['volatilidad'] \n",
    "r['ponderaciones'] = pond\n",
    "r"
   ]
  },
  {
   "cell_type": "code",
   "execution_count": null,
   "metadata": {},
   "outputs": [],
   "source": []
  },
  {
   "cell_type": "markdown",
   "metadata": {},
   "source": [
    "### Doble producto matricial ponderaciones por mat_covarianzas"
   ]
  },
  {
   "cell_type": "code",
   "execution_count": 15,
   "metadata": {
    "scrolled": true
   },
   "outputs": [
    {
     "data": {
      "text/plain": [
       "array([[3., 1., 1.],\n",
       "       [2., 3., 4.],\n",
       "       [5., 4., 7.]])"
      ]
     },
     "execution_count": 15,
     "metadata": {},
     "output_type": "execute_result"
    }
   ],
   "source": [
    "mat_cov = (np.random.rand(3,3)*10).round()\n",
    "mat_cov"
   ]
  },
  {
   "cell_type": "code",
   "execution_count": 16,
   "metadata": {
    "scrolled": true
   },
   "outputs": [
    {
     "data": {
      "text/plain": [
       "array([ 5.,  8., 13.])"
      ]
     },
     "execution_count": 16,
     "metadata": {},
     "output_type": "execute_result"
    }
   ],
   "source": [
    "p  = [1,2,0]\n",
    "\n",
    "pm1 = np.dot(mat_cov,p)\n",
    "pm1"
   ]
  },
  {
   "cell_type": "code",
   "execution_count": 17,
   "metadata": {},
   "outputs": [
    {
     "data": {
      "text/plain": [
       "21.0"
      ]
     },
     "execution_count": 17,
     "metadata": {},
     "output_type": "execute_result"
    }
   ],
   "source": [
    "pm2 = np.dot(p,pm1)\n",
    "pm2"
   ]
  },
  {
   "cell_type": "raw",
   "metadata": {},
   "source": [
    "m*n   dot   n*k   =  m*k\n",
    "3*3   dot   3*1   =  3*1\n"
   ]
  },
  {
   "cell_type": "code",
   "execution_count": null,
   "metadata": {},
   "outputs": [],
   "source": []
  },
  {
   "cell_type": "code",
   "execution_count": null,
   "metadata": {},
   "outputs": [],
   "source": []
  },
  {
   "cell_type": "markdown",
   "metadata": {},
   "source": [
    "# Markowitz - I"
   ]
  },
  {
   "cell_type": "code",
   "execution_count": 18,
   "metadata": {},
   "outputs": [
    {
     "name": "stdout",
     "output_type": "stream",
     "text": [
      "[*********************100%***********************]  2 of 2 downloaded\n"
     ]
    }
   ],
   "source": [
    "import yfinance as yf\n",
    "import pandas as pd\n",
    "\n",
    "df = yf.download(['PYPL','AAPL'], start='2010-01-01', end='2021-01-01')['Adj Close']\n",
    "df = df.loc[~(df==0).any(axis=1)] \n",
    "retornos = np.log((df/df.shift(1)).dropna())"
   ]
  },
  {
   "cell_type": "code",
   "execution_count": 19,
   "metadata": {},
   "outputs": [
    {
     "data": {
      "text/html": [
       "<div>\n",
       "<style scoped>\n",
       "    .dataframe tbody tr th:only-of-type {\n",
       "        vertical-align: middle;\n",
       "    }\n",
       "\n",
       "    .dataframe tbody tr th {\n",
       "        vertical-align: top;\n",
       "    }\n",
       "\n",
       "    .dataframe thead th {\n",
       "        text-align: right;\n",
       "    }\n",
       "</style>\n",
       "<table border=\"1\" class=\"dataframe\">\n",
       "  <thead>\n",
       "    <tr style=\"text-align: right;\">\n",
       "      <th></th>\n",
       "      <th>retorno</th>\n",
       "      <th>volatilidad</th>\n",
       "      <th>sharpe</th>\n",
       "    </tr>\n",
       "    <tr>\n",
       "      <th>ticker</th>\n",
       "      <th></th>\n",
       "      <th></th>\n",
       "      <th></th>\n",
       "    </tr>\n",
       "  </thead>\n",
       "  <tbody>\n",
       "    <tr>\n",
       "      <th>AAPL</th>\n",
       "      <td>0.264475</td>\n",
       "      <td>0.299994</td>\n",
       "      <td>0.881600</td>\n",
       "    </tr>\n",
       "    <tr>\n",
       "      <th>PYPL</th>\n",
       "      <td>0.320786</td>\n",
       "      <td>0.336082</td>\n",
       "      <td>0.954486</td>\n",
       "    </tr>\n",
       "  </tbody>\n",
       "</table>\n",
       "</div>"
      ],
      "text/plain": [
       "         retorno  volatilidad    sharpe\n",
       "ticker                                 \n",
       "AAPL    0.264475     0.299994  0.881600\n",
       "PYPL    0.320786     0.336082  0.954486"
      ]
     },
     "execution_count": 19,
     "metadata": {},
     "output_type": "execute_result"
    }
   ],
   "source": [
    "datosTickers = []\n",
    "for ticker in df.columns:\n",
    "    d = {}\n",
    "    d['ticker'] = ticker\n",
    "    d['retorno'] = retornos[ticker].mean() * 252\n",
    "    d['volatilidad'] = retornos[ticker].std() * (252**0.5)\n",
    "    d['sharpe'] = d['retorno'] / d['volatilidad']\n",
    "    datosTickers.append(d)\n",
    "    \n",
    "    \n",
    "datosTickers = pd.DataFrame(datosTickers).set_index('ticker')\n",
    "datosTickers"
   ]
  },
  {
   "cell_type": "code",
   "execution_count": 20,
   "metadata": {},
   "outputs": [
    {
     "data": {
      "text/html": [
       "<div>\n",
       "<style scoped>\n",
       "    .dataframe tbody tr th:only-of-type {\n",
       "        vertical-align: middle;\n",
       "    }\n",
       "\n",
       "    .dataframe tbody tr th {\n",
       "        vertical-align: top;\n",
       "    }\n",
       "\n",
       "    .dataframe thead th {\n",
       "        text-align: right;\n",
       "    }\n",
       "</style>\n",
       "<table border=\"1\" class=\"dataframe\">\n",
       "  <thead>\n",
       "    <tr style=\"text-align: right;\">\n",
       "      <th></th>\n",
       "      <th>retorno</th>\n",
       "      <th>volatilidad</th>\n",
       "      <th>sharpe</th>\n",
       "      <th>pesos</th>\n",
       "    </tr>\n",
       "  </thead>\n",
       "  <tbody>\n",
       "    <tr>\n",
       "      <th>0</th>\n",
       "      <td>0.310151</td>\n",
       "      <td>0.309671</td>\n",
       "      <td>1.001550</td>\n",
       "      <td>[0.1889, 0.8111]</td>\n",
       "    </tr>\n",
       "    <tr>\n",
       "      <th>1</th>\n",
       "      <td>0.318576</td>\n",
       "      <td>0.330030</td>\n",
       "      <td>0.965295</td>\n",
       "      <td>[0.0392, 0.9608]</td>\n",
       "    </tr>\n",
       "    <tr>\n",
       "      <th>2</th>\n",
       "      <td>0.296709</td>\n",
       "      <td>0.287774</td>\n",
       "      <td>1.031050</td>\n",
       "      <td>[0.4276, 0.5724]</td>\n",
       "    </tr>\n",
       "    <tr>\n",
       "      <th>3</th>\n",
       "      <td>0.297431</td>\n",
       "      <td>0.288576</td>\n",
       "      <td>1.030686</td>\n",
       "      <td>[0.4147, 0.5853]</td>\n",
       "    </tr>\n",
       "    <tr>\n",
       "      <th>4</th>\n",
       "      <td>0.295297</td>\n",
       "      <td>0.286336</td>\n",
       "      <td>1.031293</td>\n",
       "      <td>[0.4527, 0.5473]</td>\n",
       "    </tr>\n",
       "    <tr>\n",
       "      <th>...</th>\n",
       "      <td>...</td>\n",
       "      <td>...</td>\n",
       "      <td>...</td>\n",
       "      <td>...</td>\n",
       "    </tr>\n",
       "    <tr>\n",
       "      <th>495</th>\n",
       "      <td>0.292834</td>\n",
       "      <td>0.284252</td>\n",
       "      <td>1.030189</td>\n",
       "      <td>[0.4964, 0.5036]</td>\n",
       "    </tr>\n",
       "    <tr>\n",
       "      <th>496</th>\n",
       "      <td>0.281922</td>\n",
       "      <td>0.281697</td>\n",
       "      <td>1.000800</td>\n",
       "      <td>[0.6902, 0.3098]</td>\n",
       "    </tr>\n",
       "    <tr>\n",
       "      <th>497</th>\n",
       "      <td>0.314357</td>\n",
       "      <td>0.319271</td>\n",
       "      <td>0.984611</td>\n",
       "      <td>[0.1142, 0.8858]</td>\n",
       "    </tr>\n",
       "    <tr>\n",
       "      <th>498</th>\n",
       "      <td>0.317927</td>\n",
       "      <td>0.328305</td>\n",
       "      <td>0.968389</td>\n",
       "      <td>[0.0508, 0.9492]</td>\n",
       "    </tr>\n",
       "    <tr>\n",
       "      <th>499</th>\n",
       "      <td>0.286495</td>\n",
       "      <td>0.281425</td>\n",
       "      <td>1.018015</td>\n",
       "      <td>[0.609, 0.391]</td>\n",
       "    </tr>\n",
       "  </tbody>\n",
       "</table>\n",
       "<p>500 rows × 4 columns</p>\n",
       "</div>"
      ],
      "text/plain": [
       "      retorno  volatilidad    sharpe             pesos\n",
       "0    0.310151     0.309671  1.001550  [0.1889, 0.8111]\n",
       "1    0.318576     0.330030  0.965295  [0.0392, 0.9608]\n",
       "2    0.296709     0.287774  1.031050  [0.4276, 0.5724]\n",
       "3    0.297431     0.288576  1.030686  [0.4147, 0.5853]\n",
       "4    0.295297     0.286336  1.031293  [0.4527, 0.5473]\n",
       "..        ...          ...       ...               ...\n",
       "495  0.292834     0.284252  1.030189  [0.4964, 0.5036]\n",
       "496  0.281922     0.281697  1.000800  [0.6902, 0.3098]\n",
       "497  0.314357     0.319271  0.984611  [0.1142, 0.8858]\n",
       "498  0.317927     0.328305  0.968389  [0.0508, 0.9492]\n",
       "499  0.286495     0.281425  1.018015    [0.609, 0.391]\n",
       "\n",
       "[500 rows x 4 columns]"
      ]
     },
     "execution_count": 20,
     "metadata": {},
     "output_type": "execute_result"
    }
   ],
   "source": [
    "q = 500\n",
    "retornos = np.log((df/df.shift(1)).dropna())\n",
    "carteras = [] \n",
    "\n",
    "for i in range(q):\n",
    "    pond = np.array(np.random.random(len(df.columns)))\n",
    "    pond = pond/np.sum(pond)\n",
    "    r={}\n",
    "    r['retorno'] = np.sum( (retornos.mean() * pond * 252))\n",
    "    r['volatilidad'] = np.sqrt(np.dot(pond, np.dot(retornos.cov()*252, pond)))\n",
    "    r['sharpe'] = r['retorno'] / r['volatilidad'] \n",
    "    r['pesos'] = pond.round(4)\n",
    "    carteras.append(r)\n",
    "\n",
    "carteras = pd.DataFrame(carteras)\n",
    "carteras"
   ]
  },
  {
   "cell_type": "code",
   "execution_count": 21,
   "metadata": {},
   "outputs": [
    {
     "data": {
      "text/html": [
       "<div>\n",
       "<style scoped>\n",
       "    .dataframe tbody tr th:only-of-type {\n",
       "        vertical-align: middle;\n",
       "    }\n",
       "\n",
       "    .dataframe tbody tr th {\n",
       "        vertical-align: top;\n",
       "    }\n",
       "\n",
       "    .dataframe thead th {\n",
       "        text-align: right;\n",
       "    }\n",
       "</style>\n",
       "<table border=\"1\" class=\"dataframe\">\n",
       "  <thead>\n",
       "    <tr style=\"text-align: right;\">\n",
       "      <th></th>\n",
       "      <th>retorno</th>\n",
       "      <th>volatilidad</th>\n",
       "      <th>sharpe</th>\n",
       "      <th>ponderacion_optima</th>\n",
       "    </tr>\n",
       "    <tr>\n",
       "      <th>ticker</th>\n",
       "      <th></th>\n",
       "      <th></th>\n",
       "      <th></th>\n",
       "      <th></th>\n",
       "    </tr>\n",
       "  </thead>\n",
       "  <tbody>\n",
       "    <tr>\n",
       "      <th>AAPL</th>\n",
       "      <td>0.264475</td>\n",
       "      <td>0.299994</td>\n",
       "      <td>0.881600</td>\n",
       "      <td>0.45</td>\n",
       "    </tr>\n",
       "    <tr>\n",
       "      <th>PYPL</th>\n",
       "      <td>0.320786</td>\n",
       "      <td>0.336082</td>\n",
       "      <td>0.954486</td>\n",
       "      <td>0.55</td>\n",
       "    </tr>\n",
       "  </tbody>\n",
       "</table>\n",
       "</div>"
      ],
      "text/plain": [
       "         retorno  volatilidad    sharpe  ponderacion_optima\n",
       "ticker                                                     \n",
       "AAPL    0.264475     0.299994  0.881600                0.45\n",
       "PYPL    0.320786     0.336082  0.954486                0.55"
      ]
     },
     "execution_count": 21,
     "metadata": {},
     "output_type": "execute_result"
    }
   ],
   "source": [
    "optimo = carteras.loc[carteras.sharpe.idxmax()]\n",
    "mejor_port = carteras.iloc[carteras.sharpe.idxmax()]['pesos']\n",
    "\n",
    "datosTickers['ponderacion_optima'] = mejor_port\n",
    "datosTickers"
   ]
  },
  {
   "cell_type": "code",
   "execution_count": 22,
   "metadata": {
    "scrolled": true
   },
   "outputs": [
    {
     "data": {
      "text/plain": [
       "retorno            0.295444\n",
       "volatilidad        0.286478\n",
       "sharpe               1.0313\n",
       "pesos          [0.45, 0.55]\n",
       "Name: 111, dtype: object"
      ]
     },
     "execution_count": 22,
     "metadata": {},
     "output_type": "execute_result"
    }
   ],
   "source": [
    "optimo"
   ]
  },
  {
   "cell_type": "code",
   "execution_count": 23,
   "metadata": {},
   "outputs": [
    {
     "data": {
      "text/plain": [
       "array([0.45, 0.55])"
      ]
     },
     "execution_count": 23,
     "metadata": {},
     "output_type": "execute_result"
    }
   ],
   "source": [
    "mejor_port"
   ]
  },
  {
   "cell_type": "code",
   "execution_count": 24,
   "metadata": {
    "scrolled": true
   },
   "outputs": [
    {
     "data": {
      "text/html": [
       "<div>\n",
       "<style scoped>\n",
       "    .dataframe tbody tr th:only-of-type {\n",
       "        vertical-align: middle;\n",
       "    }\n",
       "\n",
       "    .dataframe tbody tr th {\n",
       "        vertical-align: top;\n",
       "    }\n",
       "\n",
       "    .dataframe thead th {\n",
       "        text-align: right;\n",
       "    }\n",
       "</style>\n",
       "<table border=\"1\" class=\"dataframe\">\n",
       "  <thead>\n",
       "    <tr style=\"text-align: right;\">\n",
       "      <th></th>\n",
       "      <th>retorno</th>\n",
       "      <th>volatilidad</th>\n",
       "      <th>sharpe</th>\n",
       "      <th>ponderacion_optima</th>\n",
       "    </tr>\n",
       "    <tr>\n",
       "      <th>ticker</th>\n",
       "      <th></th>\n",
       "      <th></th>\n",
       "      <th></th>\n",
       "      <th></th>\n",
       "    </tr>\n",
       "  </thead>\n",
       "  <tbody>\n",
       "    <tr>\n",
       "      <th>AAPL</th>\n",
       "      <td>0.264475</td>\n",
       "      <td>0.299994</td>\n",
       "      <td>0.881600</td>\n",
       "      <td>0.45</td>\n",
       "    </tr>\n",
       "    <tr>\n",
       "      <th>PYPL</th>\n",
       "      <td>0.320786</td>\n",
       "      <td>0.336082</td>\n",
       "      <td>0.954486</td>\n",
       "      <td>0.55</td>\n",
       "    </tr>\n",
       "  </tbody>\n",
       "</table>\n",
       "</div>"
      ],
      "text/plain": [
       "         retorno  volatilidad    sharpe  ponderacion_optima\n",
       "ticker                                                     \n",
       "AAPL    0.264475     0.299994  0.881600                0.45\n",
       "PYPL    0.320786     0.336082  0.954486                0.55"
      ]
     },
     "execution_count": 24,
     "metadata": {},
     "output_type": "execute_result"
    }
   ],
   "source": [
    "datosTickers"
   ]
  },
  {
   "cell_type": "code",
   "execution_count": 25,
   "metadata": {},
   "outputs": [
    {
     "data": {
      "image/png": "[encoded data removed]",
      "text/plain": [
       "<Figure size 432x360 with 2 Axes>"
      ]
     },
     "metadata": {
      "needs_background": "light"
     },
     "output_type": "display_data"
    }
   ],
   "source": [
    "import matplotlib.pyplot as plt\n",
    "\n",
    "plt.figure(figsize=(6,5))\n",
    "plt.scatter(carteras.volatilidad, carteras.retorno, c=carteras.sharpe, s=1, cmap='rainbow')\n",
    "plt.colorbar(label='Sharpe Ratio', aspect=40)\n",
    "plt.xlabel('Volatilidad')\n",
    "plt.ylabel('Retorno')\n",
    "plt.scatter(optimo.volatilidad, optimo.retorno,c='tab:red', alpha=0.2, s=1500) \n",
    "plt.text(optimo.volatilidad, optimo.retorno, 'Optimo', fontsize=9, c='k', ha='center', va='center') \n",
    "\n",
    "for ticker in df.columns:\n",
    "    vol = datosTickers.loc[ticker,'volatilidad'] \n",
    "    ret = datosTickers.loc[ticker,'retorno'] \n",
    "    plt.scatter(vol, ret,  c='tab:blue', s=800) \n",
    "    plt.text(vol, ret, ticker, c='w', ha='center', va='center') "
   ]
  },
  {
   "cell_type": "code",
   "execution_count": null,
   "metadata": {},
   "outputs": [],
   "source": []
  },
  {
   "cell_type": "code",
   "execution_count": 26,
   "metadata": {},
   "outputs": [],
   "source": [
    "import yfinance as yf, numpy as np, pandas as pd, matplotlib.pyplot as plt\n",
    "\n",
    "def markowitz(data, q=1000):\n",
    "    retornos = np.log((data/data.shift(1)).dropna())\n",
    "    carteras, datosTickers = [] , []\n",
    "    \n",
    "    for i in range(q):\n",
    "        pond = np.array(np.random.random(len(data.columns)))\n",
    "        pond = pond/np.sum(pond)\n",
    "        r={}\n",
    "        r['retorno'] = np.sum( (retornos.mean() * pond * 252))\n",
    "        r['volatilidad'] = np.sqrt(np.dot(pond, np.dot(retornos.cov()*252, pond)))\n",
    "        r['sharpe'] = r['retorno'] / r['volatilidad'] \n",
    "        r['pesos'] =  pond.round(4)\n",
    "        carteras.append(r)\n",
    "    \n",
    "    for ticker in data.columns:\n",
    "        d = {}\n",
    "        d['ticker'] = ticker\n",
    "        d['retorno'] = retornos[ticker].mean() * 252\n",
    "        d['volatilidad'] = retornos[ticker].std() * (252**0.5)\n",
    "        d['sharpe'] = d['retorno'] / d['volatilidad']\n",
    "        datosTickers.append(d)\n",
    "\n",
    "    datosTickers = pd.DataFrame(datosTickers).set_index('ticker')    \n",
    "    carteras = pd.DataFrame(carteras)\n",
    "\n",
    "    optimo = carteras.loc[carteras.sharpe.idxmax()]\n",
    "    mejor_port = carteras.iloc[carteras.sharpe.idxmax()]['pesos']\n",
    "    datosTickers['ponderacion_optima'] = mejor_port\n",
    "\n",
    "    plt.figure(figsize=(6,5))\n",
    "    plt.scatter(carteras.volatilidad, carteras.retorno, c=carteras.sharpe, s=1, cmap='rainbow')\n",
    "    plt.colorbar(label='Sharpe Ratio', aspect=40)\n",
    "    plt.xlabel('Volatilidad')\n",
    "    plt.ylabel('Retorno')\n",
    "    plt.scatter(optimo.volatilidad, optimo.retorno,c='tab:red', alpha=0.2, s=1500) \n",
    "    plt.text(optimo.volatilidad, optimo.retorno, 'Optimo', fontsize=9, c='k', ha='center', va='center') \n",
    "       \n",
    "    for ticker in data.columns:\n",
    "        vol = datosTickers.loc[ticker,'volatilidad'] \n",
    "        ret = datosTickers.loc[ticker,'retorno'] \n",
    "        plt.scatter(vol, ret,  c='tab:blue', s=800) \n",
    "        plt.text(vol, ret, ticker, c='w', ha='center', va='center') \n",
    "    \n",
    "    return(datosTickers.round(3), optimo)"
   ]
  },
  {
   "cell_type": "code",
   "execution_count": 27,
   "metadata": {},
   "outputs": [
    {
     "name": "stdout",
     "output_type": "stream",
     "text": [
      "[*********************100%***********************]  2 of 2 downloaded\n",
      "        retorno  volatilidad  sharpe  ponderacion_optima\n",
      "ticker                                                  \n",
      "AAPL      0.264        0.300   0.882                0.45\n",
      "PYPL      0.321        0.336   0.954                0.55\n",
      "\n",
      "Portafolio Optimo:\n",
      "retorno                0.295416\n",
      "volatilidad            0.286451\n",
      "sharpe                   1.0313\n",
      "pesos          [0.4505, 0.5495]\n",
      "Name: 142, dtype: object\n"
     ]
    },
    {
     "data": {
      "image/png": "[encoded data removed]",
      "text/plain": [
       "<Figure size 600x500 with 2 Axes>"
      ]
     },
     "metadata": {},
     "output_type": "display_data"
    }
   ],
   "source": [
    "plt.style.use('default')\n",
    "df = yf.download(['PYPL','AAPL'], start='2010-01-01', end='2021-01-01')['Adj Close']\n",
    "df = df.loc[~(df==0).any(axis=1)] \n",
    "pond, optimo = markowitz(df, q=1000)\n",
    "print(pond, '\\n\\nPortafolio Optimo:\\n',optimo, sep='')"
   ]
  },
  {
   "cell_type": "code",
   "execution_count": null,
   "metadata": {},
   "outputs": [],
   "source": []
  },
  {
   "cell_type": "markdown",
   "metadata": {},
   "source": [
    "# Markowitz - Optimo varios activos"
   ]
  },
  {
   "cell_type": "markdown",
   "metadata": {},
   "source": [
    "Buscamos el portafolio optimo entre muchos portafolios posibles"
   ]
  },
  {
   "cell_type": "code",
   "execution_count": 28,
   "metadata": {},
   "outputs": [
    {
     "name": "stdout",
     "output_type": "stream",
     "text": [
      "[*********************100%***********************]  503 of 503 downloaded\n",
      "                 A    AAL     AAP  ...    ZBRA   ZION     ZTS\n",
      "Date                               ...                       \n",
      "2010-01-04   20.62   4.50   39.09  ...   28.67  11.83     NaN\n",
      "2010-01-05   20.39   5.01   38.86  ...   28.62  12.24     NaN\n",
      "2010-01-06   20.32   4.80   39.20  ...   28.40  13.31     NaN\n",
      "2010-01-07   20.29   4.94   39.19  ...   27.69  14.80     NaN\n",
      "2010-01-08   20.29   4.85   39.35  ...   27.60  14.56     NaN\n",
      "...            ...    ...     ...  ...     ...    ...     ...\n",
      "2020-09-24   96.34  11.77  146.71  ...  250.67  28.22  157.98\n",
      "2020-09-25   97.69  12.29  149.41  ...  257.46  28.45  160.84\n",
      "2020-09-28   99.51  12.76  153.39  ...  260.56  29.38  161.32\n",
      "2020-09-29  100.22  12.25  151.71  ...  258.92  28.97  162.48\n",
      "2020-09-30  100.94  12.29  153.50  ...  252.46  29.22  165.37\n",
      "\n",
      "[2706 rows x 503 columns]\n"
     ]
    }
   ],
   "source": [
    "import yfinance as yf, numpy as np, pandas as pd, random, tqdm\n",
    "\n",
    "\n",
    "# Obtengo el listado de tickers del sp500\n",
    "sp500 = pd.read_html('https://en.wikipedia.org/wiki/List_of_S%26P_500_companies')[0]\n",
    "sp500_tickers = list(sp500.Symbol)\n",
    "sp500_tickers = [e for e in sp500_tickers if e not in ('BRK.B','BF.B')]\n",
    "\n",
    "\n",
    "# Obtengo todos los historicos\n",
    "data_sp500 = yf.download(sp500_tickers, start='2010-01-01', end='2021-01-01')['Adj Close']\n",
    "\n",
    "# Para evitar tickers con poco historial\n",
    "conteo = pd.DataFrame(data_sp500.count(), columns=['Q'])\n",
    "sp500_tickers = list(conteo.loc[conteo.Q>1500].index)\n",
    "\n",
    "\n",
    "pd.options.display.max_columns = 6\n",
    "pd.options.display.max_rows = 10\n",
    "pd.options.display.width = 800 \n",
    "print(data_sp500)"
   ]
  },
  {
   "cell_type": "code",
   "execution_count": 29,
   "metadata": {},
   "outputs": [],
   "source": [
    "def simular(tickers, q):\n",
    "    \n",
    "    n_stocks = 3\n",
    "    datos = []\n",
    "    for i in tqdm.tqdm(range(q)):\n",
    "    \n",
    "        muestra = data_sp500[random.sample(tickers, n_stocks)]\n",
    "        \n",
    "        # Filtro sin ceros\n",
    "        muestra = muestra.loc[:, (muestra != 0).all(axis=0)]\n",
    "        retornos = np.log((muestra/muestra.shift(1)).dropna())\n",
    "        pond = np.array(np.random.random(len(muestra.columns)))\n",
    "        pond = pond/np.sum(pond)\n",
    "        \n",
    "        # If para evitar activos sin dataFeed\n",
    "        if len(retornos):    \n",
    "            r={}\n",
    "            r['activos'] = list(muestra.columns)\n",
    "            r['pesos'] = pond.round(3)\n",
    "            r['retorno'] = np.sum( (retornos.mean() * pond * 252))\n",
    "            r['volatilidad'] = np.sqrt(np.dot(pond, np.dot(retornos.cov()*252, pond)))\n",
    "            r['sharpe'] = round(r['retorno'] / r['volatilidad'],3) \n",
    "            datos.append(r)\n",
    "    \n",
    "    df = pd.DataFrame(datos).sort_values('sharpe', ascending=False)\n",
    "\n",
    "    return df"
   ]
  },
  {
   "cell_type": "code",
   "execution_count": 30,
   "metadata": {},
   "outputs": [
    {
     "name": "stderr",
     "output_type": "stream",
     "text": [
      "100%|███████████████████████████████████████████████████████████████████████████| 10000/10000 [01:06<00:00, 150.27it/s]"
     ]
    },
    {
     "name": "stdout",
     "output_type": "stream",
     "text": [
      "\n",
      "                  activos                  pesos   retorno  volatilidad  sharpe\n",
      "8875   [DPZ, FISV, EXPD]  [0.699, 0.222, 0.079]  0.316684     0.239597   1.322\n",
      "3751      [GOOG, DPZ, V]   [0.108, 0.47, 0.422]  0.287808     0.218058   1.320\n",
      "1531       [JCI, V, DPZ]  [0.191, 0.327, 0.481]  0.278641     0.211671   1.316\n",
      "4152    [NOW, NVDA, WST]  [0.353, 0.412, 0.235]  0.383735     0.293462   1.308\n",
      "337     [NVDA, APD, ZTS]  [0.755, 0.082, 0.163]  0.430552     0.338724   1.271\n",
      "951     [MMC, MKTX, HRL]  [0.339, 0.394, 0.267]  0.244370     0.193664   1.262\n",
      "5524    [WLTW, DPZ, LLY]  [0.352, 0.344, 0.304]  0.225150     0.179352   1.255\n",
      "7921    [COST, WST, AZO]  [0.542, 0.245, 0.213]  0.205808     0.165795   1.241\n",
      "1362  [ADBE, NDAQ, FANG]  [0.738, 0.233, 0.029]  0.307369     0.250540   1.227\n",
      "7999   [TTWO, CDW, DXCM]  [0.274, 0.375, 0.351]  0.331366     0.270733   1.224\n"
     ]
    },
    {
     "name": "stderr",
     "output_type": "stream",
     "text": [
      "\n"
     ]
    }
   ],
   "source": [
    "portfolios = simular(sp500_tickers, 10000)\n",
    "print('\\n',portfolios.head(10))"
   ]
  },
  {
   "cell_type": "code",
   "execution_count": 31,
   "metadata": {},
   "outputs": [],
   "source": [
    "import sys\n",
    "\n",
    "def simular2(tickers, q):\n",
    "    \n",
    "    n_stocks = 3\n",
    "    datos = []\n",
    "\n",
    "    with tqdm.tqdm(total=q, file=sys.stdout) as pbar:\n",
    "        for i in range(q):\n",
    "            pbar.update()\n",
    "\n",
    "            muestra = data_sp500[random.sample(tickers, n_stocks)]\n",
    "\n",
    "            # Filtro sin ceros\n",
    "            muestra = muestra.loc[:, (muestra != 0).all(axis=0)]\n",
    "            retornos = np.log((muestra/muestra.shift(1)).dropna())\n",
    "            pond = np.array(np.random.random(len(muestra.columns)))\n",
    "            pond = pond/np.sum(pond)\n",
    "\n",
    "            # If para evitar activos sin dataFeed\n",
    "            if len(retornos):    \n",
    "                r={}\n",
    "                r['activos'] = list(muestra.columns)\n",
    "                r['pesos'] = pond.round(3)\n",
    "                r['retorno'] = np.sum( (retornos.mean() * pond * 252))\n",
    "                r['volatilidad'] = np.sqrt(np.dot(pond, np.dot(retornos.cov()*252, pond)))\n",
    "                r['sharpe'] = round(r['retorno'] / r['volatilidad'],3) \n",
    "                datos.append(r)\n",
    "    \n",
    "    df = pd.DataFrame(datos).sort_values('sharpe', ascending=False)\n",
    "\n",
    "    return df"
   ]
  },
  {
   "cell_type": "code",
   "execution_count": 32,
   "metadata": {},
   "outputs": [
    {
     "name": "stdout",
     "output_type": "stream",
     "text": [
      "100%|███████████████████████████████████████████████████████████████████████████| 10000/10000 [01:15<00:00, 132.43it/s]\n",
      "\n",
      "                 activos                  pesos   retorno  volatilidad  sharpe\n",
      "9609   [DPZ, AZO, ODFL]   [0.298, 0.492, 0.21]  0.262733     0.196319   1.338\n",
      "1126  [SHW, MKTX, INTU]  [0.288, 0.483, 0.229]  0.283946     0.227549   1.248\n",
      "6700  [PSX, CHTR, NVDA]  [0.107, 0.468, 0.425]  0.319079     0.259787   1.228\n",
      "3676   [MCHP, TJX, DPZ]   [0.231, 0.31, 0.458]  0.267724     0.218677   1.224\n",
      "1849   [MSCI, CDW, RTX]  [0.933, 0.046, 0.021]  0.328054     0.268640   1.221\n",
      "9486    [DPZ, KLAC, EW]  [0.413, 0.192, 0.394]  0.283613     0.232335   1.221\n",
      "5065  [ORLY, MSCI, ZTS]  [0.318, 0.524, 0.158]  0.266488     0.218405   1.220\n",
      "2847    [DPZ, TXN, CAG]   [0.457, 0.46, 0.083]  0.265781     0.218608   1.216\n",
      "1878   [CBOE, DPZ, FIS]  [0.102, 0.411, 0.486]  0.244892     0.201979   1.212\n",
      "6113   [DPZ, BKNG, KMI]  [0.825, 0.137, 0.038]  0.306915     0.254688   1.205\n"
     ]
    }
   ],
   "source": [
    "portfolios = simular2(sp500_tickers, 10000)\n",
    "print('\\n',portfolios.head(10))"
   ]
  },
  {
   "cell_type": "code",
   "execution_count": null,
   "metadata": {},
   "outputs": [],
   "source": []
  },
  {
   "cell_type": "code",
   "execution_count": null,
   "metadata": {},
   "outputs": [],
   "source": []
  },
  {
   "cell_type": "code",
   "execution_count": null,
   "metadata": {},
   "outputs": [],
   "source": []
  },
  {
   "cell_type": "markdown",
   "metadata": {},
   "source": [
    "# Markowitz - Optimizcion x Optimo varios activos"
   ]
  },
  {
   "cell_type": "markdown",
   "metadata": {},
   "source": [
    "Optimmizamos las iteraciones para encontrar un optimo mas rapido"
   ]
  },
  {
   "cell_type": "code",
   "execution_count": 33,
   "metadata": {},
   "outputs": [],
   "source": [
    "def simular3(tickers, q):\n",
    "    n_stocks = 3\n",
    "    datos = []\n",
    "    for i in range(q):\n",
    "    \n",
    "        muestra = data_sp500[random.sample(tickers, n_stocks)]\n",
    "        \n",
    "        # Filtro sin ceros\n",
    "        muestra = muestra.loc[:, (muestra != 0).all(axis=0)]\n",
    "        retornos = np.log((muestra/muestra.shift(1)).dropna())\n",
    "        pond = np.array(np.random.random(len(muestra.columns)))\n",
    "        pond = pond/np.sum(pond)\n",
    "        \n",
    "        # If para evitar activos sin dataFeed\n",
    "        if len(retornos):    \n",
    "            r={}\n",
    "            r['activos'] = list(muestra.columns)\n",
    "            r['pesos'] = pond.round(3)\n",
    "            r['retorno'] = np.sum( (retornos.mean() * pond * 252))\n",
    "            r['volatilidad'] = np.sqrt(np.dot(pond, np.dot(retornos.cov()*252, pond)))\n",
    "            r['sharpe'] = round(r['retorno'] / r['volatilidad'],3) \n",
    "            datos.append(r)\n",
    "            \n",
    "    df = pd.DataFrame(datos).sort_values('sharpe', ascending=False)\n",
    "    return df"
   ]
  },
  {
   "cell_type": "code",
   "execution_count": 34,
   "metadata": {},
   "outputs": [
    {
     "name": "stderr",
     "output_type": "stream",
     "text": [
      "100%|██████████████████████████████████████████████████████████████████████████████████| 10/10 [00:26<00:00,  2.68s/it]"
     ]
    },
    {
     "name": "stdout",
     "output_type": "stream",
     "text": [
      "Mejores\n",
      "               activos                  pesos   retorno  volatilidad  sharpe\n",
      "212  [CHD, DPZ, MKTX]   [0.32, 0.416, 0.264]  0.310366     0.198354   1.565\n",
      "165  [DPZ, MKTX, CHD]  [0.413, 0.261, 0.327]  0.309309     0.197621   1.565\n",
      "88   [MKTX, AWK, DPZ]   [0.202, 0.388, 0.41]  0.301482     0.193055   1.562\n",
      "98   [MKTX, DPZ, CHD]  [0.197, 0.413, 0.389]  0.300580     0.192424   1.562\n",
      "159  [MKTX, CHD, DPZ]  [0.276, 0.374, 0.349]  0.300065     0.192351   1.560\n",
      "215  [DPZ, NOW, MKTX]  [0.388, 0.159, 0.452]  0.347996     0.223006   1.560\n",
      "64   [CHD, DPZ, MKTX]  [0.296, 0.471, 0.234]  0.315995     0.202705   1.559\n",
      "136  [MKTX, AWK, DPZ]  [0.303, 0.338, 0.359]  0.306305     0.196984   1.555\n",
      "120  [DPZ, CHD, MKTX]  [0.495, 0.257, 0.248]  0.322401     0.207669   1.552\n",
      "177  [MKTX, DPZ, HRL]  [0.289, 0.466, 0.245]  0.320251     0.206378   1.552\n",
      "Wall time: 36.3 s\n"
     ]
    },
    {
     "name": "stderr",
     "output_type": "stream",
     "text": [
      "\n"
     ]
    }
   ],
   "source": [
    "%%time\n",
    "q_inicial = 1500\n",
    "lista_tickers = sp500_tickers\n",
    "portfolios = simular3(lista_tickers, q_inicial)\n",
    "\n",
    "best = pd.DataFrame()\n",
    "for i in tqdm.tqdm(range(10)):\n",
    "    top = portfolios.iloc[ : int(200/(i+1))]\n",
    "    \n",
    "    lista_tickers = list(np.array(top.activos.apply(pd.Series).stack()))\n",
    "        \n",
    "    portfolios = simular3(lista_tickers, int(q_inicial/(i+1)))\n",
    "    \n",
    "    best = pd.concat([best,portfolios.iloc[:10]])\n",
    "\n",
    "print('Mejores\\n',best.sort_values('sharpe', ascending=False).head(10))"
   ]
  },
  {
   "cell_type": "code",
   "execution_count": null,
   "metadata": {},
   "outputs": [],
   "source": []
  },
  {
   "cell_type": "code",
   "execution_count": null,
   "metadata": {},
   "outputs": [],
   "source": []
  },
  {
   "cell_type": "code",
   "execution_count": null,
   "metadata": {},
   "outputs": [],
   "source": []
  },
  {
   "cell_type": "code",
   "execution_count": null,
   "metadata": {},
   "outputs": [],
   "source": []
  }
 ],
 "metadata": {
  "kernelspec": {
   "display_name": "Python 3",
   "language": "python",
   "name": "python3"
  },
  "language_info": {
   "codemirror_mode": {
    "name": "ipython",
    "version": 3
   },
   "file_extension": ".py",
   "mimetype": "text/x-python",
   "name": "python",
   "nbconvert_exporter": "python",
   "pygments_lexer": "ipython3",
   "version": "3.7.7"
  },
  "toc": {
   "base_numbering": 1,
   "nav_menu": {},
   "number_sections": true,
   "sideBar": true,
   "skip_h1_title": false,
   "title_cell": "Table of Contents",
   "title_sidebar": "Contents",
   "toc_cell": false,
   "toc_position": {},
   "toc_section_display": true,
   "toc_window_display": true
  },
  "varInspector": {
   "cols": {
    "lenName": 16,
    "lenType": 16,
    "lenVar": 40
   },
   "kernels_config": {
    "python": {
     "delete_cmd_postfix": "",
     "delete_cmd_prefix": "del ",
     "library": "var_list.py",
     "varRefreshCmd": "print(var_dic_list())"
    },
    "r": {
     "delete_cmd_postfix": ") ",
     "delete_cmd_prefix": "rm(",
     "library": "var_list.r",
     "varRefreshCmd": "cat(var_dic_list()) "
    }
   },
   "types_to_exclude": [
    "module",
    "function",
    "builtin_function_or_method",
    "instance",
    "_Feature"
   ],
   "window_display": false
  }
 },
 "nbformat": 4,
 "nbformat_minor": 4
}
