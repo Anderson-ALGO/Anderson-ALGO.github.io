{
 "cells": [
  {
   "cell_type": "markdown",
   "metadata": {},
   "source": [
    "# Alpaca"
   ]
  },
  {
   "cell_type": "markdown",
   "metadata": {},
   "source": [
    "Registrarse:\n",
    "\n",
    "\n",
    "https://alpaca.markets/"
   ]
  },
  {
   "cell_type": "markdown",
   "metadata": {},
   "source": [
    "Documentacion:\n",
    "\n",
    "\n",
    "https://alpaca.markets/docs/"
   ]
  },
  {
   "cell_type": "code",
   "execution_count": 1,
   "metadata": {},
   "outputs": [],
   "source": [
    "import requests"
   ]
  },
  {
   "cell_type": "code",
   "execution_count": null,
   "metadata": {},
   "outputs": [],
   "source": [
    "api_key = \"PK2G3TP3Y8M0VUCIJTF9\"\n",
    "secret_key = \"IGzFJq9fX3o9S17mpa5kPbsbG7Viagsm7w57biln\""
   ]
  },
  {
   "cell_type": "code",
   "execution_count": null,
   "metadata": {},
   "outputs": [],
   "source": [
    "def getAccount():    \n",
    "    \n",
    "    headers ={\"APCA-API-KEY-ID\" : api_key, \"APCA-API-SECRET-KEY\":secret_key}\n",
    "    endpoint = \"https://paper-api.alpaca.markets/v2/account\"\n",
    "    \n",
    "    r = requests.get(url = endpoint, headers = headers)\n",
    "    \n",
    "    js = r.json()\n",
    "    return js"
   ]
  },
  {
   "cell_type": "markdown",
   "metadata": {},
   "source": [
    "Veamos entonces lo que nos devuelve:"
   ]
  },
  {
   "cell_type": "code",
   "execution_count": null,
   "metadata": {},
   "outputs": [],
   "source": [
    "getAccount()"
   ]
  },
  {
   "cell_type": "markdown",
   "metadata": {},
   "source": [
    "## MarketData"
   ]
  },
  {
   "cell_type": "markdown",
   "metadata": {},
   "source": [
    "Vamos a ver como pedimos marketData con esta API, empecemos por la data histórica, le vamos a tener que pasar dos parámetros a la API:\n",
    "   * TimeFrame\n",
    "       * 1Min\n",
    "       * 5Min\n",
    "       * 15Min\n",
    "       * 1D (day)\n",
    "   * Symbolo/Simbolos"
   ]
  },
  {
   "cell_type": "code",
   "execution_count": null,
   "metadata": {
    "scrolled": false
   },
   "outputs": [],
   "source": [
    "import pandas as pd\n",
    "\n",
    "def getHistory(symbol, timeframe='1D'): \n",
    "    \n",
    "    headers ={\"APCA-API-KEY-ID\" : api_key, \"APCA-API-SECRET-KEY\":secret_key}\n",
    "    params =  {'symbols' : symbol}\n",
    "    endpoint = \"https://data.alpaca.markets/v1/bars/\"+timeframe\n",
    "    \n",
    "    r = requests.get(url = endpoint, headers =headers, params=params)\n",
    "    js = r.json()\n",
    "    \n",
    "    df = pd.DataFrame(js[symbol])\n",
    "    df.t = pd.to_datetime(df.t, unit='s')\n",
    "    return df\n",
    "\n",
    "getHistory(\"GGAL\")"
   ]
  },
  {
   "cell_type": "code",
   "execution_count": null,
   "metadata": {
    "scrolled": true
   },
   "outputs": [],
   "source": [
    "import datetime as dt\n",
    "\n",
    "#definimos una fecha como el 20 de Junio de 2020, a las 12:15hs \n",
    "fecha = dt.datetime(2020,6,20,12,15,0)\n",
    "\n",
    "fecha"
   ]
  },
  {
   "cell_type": "code",
   "execution_count": null,
   "metadata": {},
   "outputs": [],
   "source": [
    "fechaSRT = dt.datetime.strftime(fecha, format='%Y-%m-%dT%T-03:00')\n",
    "fechaSRT"
   ]
  },
  {
   "cell_type": "code",
   "execution_count": null,
   "metadata": {},
   "outputs": [],
   "source": [
    "import pandas as pd\n",
    "\n",
    "def getHistory(symbol, start, end, timeframe='1D'):    \n",
    "    \n",
    "    start = dt.datetime.strftime(start, format='%Y-%m-%dT%T-04:00')\n",
    "    end = dt.datetime.strftime(end, format='%Y-%m-%dT%T-04:00')\n",
    "\n",
    "    headers ={\"APCA-API-KEY-ID\" : api_key, \"APCA-API-SECRET-KEY\":secret_key}\n",
    "    \n",
    "    params =  {'symbols' : symbol, 'start':start, 'end':end}\n",
    "    \n",
    "    endpoint =  \"https://data.alpaca.markets/v1/bars/\"+timeframe\n",
    "    r = requests.get(url = endpoint, headers =headers, params=params)\n",
    "    js = r.json()\n",
    "    df = pd.DataFrame(js[symbol])\n",
    "    df.t = pd.to_datetime(df.t, unit='s')\n",
    "    return df"
   ]
  },
  {
   "cell_type": "code",
   "execution_count": null,
   "metadata": {},
   "outputs": [],
   "source": [
    "start = dt.datetime(2012,1,1,0,0,0)\n",
    "end = dt.datetime(2020,7,10,0,0,0)\n",
    "\n",
    "getHistory('AAPL', start, end, timeframe='day')"
   ]
  },
  {
   "cell_type": "markdown",
   "metadata": {},
   "source": [
    "## Bacth requests  (200 tickers x request)"
   ]
  },
  {
   "cell_type": "markdown",
   "metadata": {},
   "source": [
    "### Breve repaso de funciones basicas (split, join)"
   ]
  },
  {
   "cell_type": "code",
   "execution_count": null,
   "metadata": {},
   "outputs": [],
   "source": [
    "tickers = 'AAPL,MSFT'\n",
    "tickers = tickers.split(\",\")\n",
    "tickers"
   ]
  },
  {
   "cell_type": "code",
   "execution_count": null,
   "metadata": {},
   "outputs": [],
   "source": [
    "lista = ['GGAL','AAPL','AMZN']\n",
    "','.join(lista)"
   ]
  },
  {
   "cell_type": "code",
   "execution_count": null,
   "metadata": {},
   "outputs": [],
   "source": [
    "import pandas as pd\n",
    "\n",
    "def getHistory(symbol, start, end, timeframe='1D'):    \n",
    "    \n",
    "    start = dt.datetime.strftime(start, format='%Y-%m-%dT%T-04:00')\n",
    "    end = dt.datetime.strftime(end, format='%Y-%m-%dT%T-04:00')\n",
    "\n",
    "    headers ={\"APCA-API-KEY-ID\" : api_key, \"APCA-API-SECRET-KEY\":secret_key}\n",
    "    params =  {'symbols' : symbol, 'start':start, 'end':end}\n",
    "    endpoint = \"https://data.alpaca.markets/v1/bars/\"+timeframe\n",
    "    \n",
    "    r = requests.get(url = endpoint, headers =headers, params=params)\n",
    "    \n",
    "    js = r.json()\n",
    "    \n",
    "    tickers = symbol.split(\",\")\n",
    "    dfs = {}\n",
    "    for ticker in tickers:\n",
    "        dfs[ticker] = pd.DataFrame(js[ticker])\n",
    "        dfs[ticker].t = pd.to_datetime(dfs[ticker].t, unit='s')\n",
    "    return dfs"
   ]
  },
  {
   "cell_type": "code",
   "execution_count": null,
   "metadata": {},
   "outputs": [],
   "source": [
    "start = dt.datetime(2012,1,1,0,0,0)\n",
    "end = dt.datetime(2021,1,1,0,0,0)\n",
    "dfs = getHistory('AAPL,MSFT', start, end, timeframe='day')\n",
    "dfs"
   ]
  },
  {
   "cell_type": "code",
   "execution_count": null,
   "metadata": {},
   "outputs": [],
   "source": [
    "dfs['AAPL']"
   ]
  },
  {
   "cell_type": "code",
   "execution_count": null,
   "metadata": {
    "scrolled": false
   },
   "outputs": [],
   "source": [
    "dfs['MSFT']"
   ]
  },
  {
   "cell_type": "markdown",
   "metadata": {},
   "source": [
    "## Ultimo Trade de un ticker"
   ]
  },
  {
   "cell_type": "code",
   "execution_count": null,
   "metadata": {},
   "outputs": [],
   "source": [
    "def lastTade(symbol):    \n",
    "    headers ={\"APCA-API-KEY-ID\" : api_key, \"APCA-API-SECRET-KEY\":secret_key}\n",
    "    endpoint = \"https://data.alpaca.markets/v1/last/stocks/\"+symbol\n",
    "    r = requests.get(url = endpoint, headers = headers)\n",
    "    js = r.json()['last']\n",
    "    js['timestamp'] = pd.to_datetime(js['timestamp'])\n",
    "    return js\n",
    "    \n",
    "lastTade(\"AAPL\")"
   ]
  },
  {
   "cell_type": "markdown",
   "metadata": {},
   "source": [
    "## Ultimo dato del libro"
   ]
  },
  {
   "cell_type": "code",
   "execution_count": null,
   "metadata": {},
   "outputs": [],
   "source": [
    "import pandas as pd\n",
    "\n",
    "def lastQuote(symbol):    \n",
    "    headers ={\"APCA-API-KEY-ID\" : api_key, \"APCA-API-SECRET-KEY\":secret_key}\n",
    "    endpoint = \"https://data.alpaca.markets/v1/last_quote/stocks/\"+symbol\n",
    "    r = requests.get(url = endpoint, headers = headers)\n",
    "    js = r.json()['last']\n",
    "    js['timestamp'] = pd.to_datetime(js['timestamp'])\n",
    "    return js\n",
    "    \n",
    "lastQuote(\"AAPL\")"
   ]
  },
  {
   "cell_type": "markdown",
   "metadata": {},
   "source": [
    "# Ruteo de ordenes, primeros pasos de un bot"
   ]
  },
  {
   "cell_type": "markdown",
   "metadata": {},
   "source": [
    "## Orden de Compra/Venta  (POST)"
   ]
  },
  {
   "cell_type": "code",
   "execution_count": null,
   "metadata": {},
   "outputs": [],
   "source": [
    "def order(symbol, qty, side, tipo, time_in_force, limit_price ):    \n",
    "    headers ={\"APCA-API-KEY-ID\" : api_key, \"APCA-API-SECRET-KEY\":secret_key}\n",
    "    params = {'symbol':symbol, \n",
    "              'qty':qty, \n",
    "              'side':side, \n",
    "              'type':tipo,\n",
    "              'time_in_force':time_in_force,\n",
    "              'limit_price':limit_price, \n",
    "              'order_class':'simple'}\n",
    "    \n",
    "    r = requests.post(url = \"https://paper-api.alpaca.markets/v2/orders\", \n",
    "                      headers = headers, json = params)\n",
    "    \n",
    "    js = r.json()\n",
    "    return js"
   ]
  },
  {
   "cell_type": "code",
   "execution_count": null,
   "metadata": {},
   "outputs": [],
   "source": [
    "lastQuote(\"AAPL\")"
   ]
  },
  {
   "cell_type": "code",
   "execution_count": null,
   "metadata": {},
   "outputs": [],
   "source": [
    "lastTade(\"AAPL\")"
   ]
  },
  {
   "cell_type": "code",
   "execution_count": null,
   "metadata": {},
   "outputs": [],
   "source": [
    "px  = lastQuote(\"AAPL\")['askprice']*0.999\n",
    "\n",
    "orden = order(symbol='AAPL', qty=1, side='sell', tipo='limit', time_in_force='gtc',limit_price = px )\n",
    "orden"
   ]
  },
  {
   "cell_type": "markdown",
   "metadata": {},
   "source": [
    "¿Y si quiero mandar 50 ordenes con un par de lineas con esa lógica tapando la punta vigente?"
   ]
  },
  {
   "cell_type": "code",
   "execution_count": null,
   "metadata": {},
   "outputs": [],
   "source": [
    "tickers = ['PAM', 'GGAL', 'BBAR', 'TGS']\n",
    "\n",
    "for ticker in tickers:\n",
    "    px  = lastQuote(ticker)['bidprice'] * 1.001\n",
    "    orden = order(symbol=ticker, qty=1, side='buy', tipo='limit', time_in_force='gtc',limit_price = px )\n",
    "    #print(px, order)\n",
    "    #break\n",
    "\n"
   ]
  },
  {
   "cell_type": "code",
   "execution_count": null,
   "metadata": {},
   "outputs": [],
   "source": []
  },
  {
   "cell_type": "code",
   "execution_count": null,
   "metadata": {},
   "outputs": [],
   "source": []
  },
  {
   "cell_type": "code",
   "execution_count": null,
   "metadata": {},
   "outputs": [],
   "source": []
  },
  {
   "cell_type": "markdown",
   "metadata": {},
   "source": [
    "## Consulta de estado general"
   ]
  },
  {
   "cell_type": "code",
   "execution_count": null,
   "metadata": {},
   "outputs": [],
   "source": [
    "def orders(status=\"all\", limit=50):    \n",
    "    headers ={\"APCA-API-KEY-ID\" : api_key, \"APCA-API-SECRET-KEY\":secret_key}\n",
    "    params = {'status':status, \n",
    "              'limit':limit}\n",
    "    \n",
    "    r = requests.get(url = \"https://paper-api.alpaca.markets/v2/orders\", \n",
    "                      headers = headers, json = params)\n",
    "    \n",
    "    js = r.json()\n",
    "    df = pd.DataFrame(js)\n",
    "    return df\n",
    "\n",
    "listaOrdenes = orders()\n",
    "listaOrdenes.iloc[0]"
   ]
  },
  {
   "cell_type": "markdown",
   "metadata": {},
   "source": [
    "## Consulta puntual  (GET)"
   ]
  },
  {
   "cell_type": "code",
   "execution_count": null,
   "metadata": {},
   "outputs": [],
   "source": [
    "def getOrder(orderID):    \n",
    "    headers ={\"APCA-API-KEY-ID\" : api_key, \"APCA-API-SECRET-KEY\":secret_key}\n",
    "    r = requests.get(url = \"https://paper-api.alpaca.markets/v2/orders/\"+orderID, \n",
    "                      headers = headers)\n",
    "    \n",
    "    js = r.json()\n",
    "    return js\n",
    "\n",
    "getOrder('c3689e60-231a-4b63-9bfc-2385f98b0dfe')"
   ]
  },
  {
   "cell_type": "markdown",
   "metadata": {},
   "source": [
    "## Modificación de orden  (PATCH)"
   ]
  },
  {
   "cell_type": "code",
   "execution_count": null,
   "metadata": {},
   "outputs": [],
   "source": [
    "def replaceOrder(order_id, qty=None, time_in_force=None, limit_price=None):    \n",
    "    headers ={\"APCA-API-KEY-ID\" : api_key, \"APCA-API-SECRET-KEY\":secret_key}\n",
    "    params = {'qty':qty, \n",
    "              'time_in_force':time_in_force,\n",
    "              'limit_price':limit_price}\n",
    "    \n",
    "    endpoint = \"https://paper-api.alpaca.markets/v2/orders/\"+order_id\n",
    "    r = requests.patch(url = endpoint, headers = headers, json = params)\n",
    "    \n",
    "    js = r.json()\n",
    "    return js"
   ]
  },
  {
   "cell_type": "code",
   "execution_count": null,
   "metadata": {},
   "outputs": [],
   "source": [
    "replaceOrder(order_id='c3689e60-231a-4b63-9bfc-2385f98b0dfe', limit_price = 5.34)"
   ]
  },
  {
   "cell_type": "markdown",
   "metadata": {},
   "source": [
    "La salida nos devuelve la orden remplazada"
   ]
  },
  {
   "cell_type": "markdown",
   "metadata": {},
   "source": [
    "## Eliminar orden (DELETE)"
   ]
  },
  {
   "cell_type": "markdown",
   "metadata": {},
   "source": [
    "Obviamente nos faltaba poder cancelar una orden por ID, esta es la mas sencilla de todas, solo hay que pasarle el ID y el método de request que usamos es DELETE"
   ]
  },
  {
   "cell_type": "code",
   "execution_count": null,
   "metadata": {},
   "outputs": [],
   "source": [
    "def cancelOrder(order_id):    \n",
    "    headers ={\"APCA-API-KEY-ID\" : api_key, \"APCA-API-SECRET-KEY\":secret_key}\n",
    "    endpoint = \"https://paper-api.alpaca.markets/v2/orders/\"+order_id\n",
    "    r = requests.delete(url = endpoint,headers = headers)"
   ]
  },
  {
   "cell_type": "code",
   "execution_count": null,
   "metadata": {},
   "outputs": [],
   "source": [
    "cancelOrder('c3689e60-231a-4b63-9bfc-2385f98b0dfe')"
   ]
  },
  {
   "cell_type": "markdown",
   "metadata": {},
   "source": [
    "## Ver Posiciones Abiertas de la cuenta"
   ]
  },
  {
   "cell_type": "code",
   "execution_count": null,
   "metadata": {},
   "outputs": [],
   "source": [
    "def positions():    \n",
    "    headers ={\"APCA-API-KEY-ID\" : api_key, \"APCA-API-SECRET-KEY\":secret_key}\n",
    "    endpoint = \"https://paper-api.alpaca.markets/v2/positions\"\n",
    "    r = requests.get(url = endpoint, headers = headers)\n",
    "    js = r.json()\n",
    "    return js\n",
    "    \n",
    "positions()"
   ]
  },
  {
   "cell_type": "code",
   "execution_count": null,
   "metadata": {},
   "outputs": [],
   "source": [
    "df = pd.DataFrame(positions())\n",
    "\n",
    "df = df.loc[:,['symbol','qty','side','avg_entry_price','market_value',\n",
    "               'cost_basis','unrealized_pl','current_price','lastday_price']]\n",
    "df"
   ]
  },
  {
   "cell_type": "markdown",
   "metadata": {},
   "source": [
    "# Screener"
   ]
  },
  {
   "cell_type": "markdown",
   "metadata": {},
   "source": [
    "## Listado de acitivos"
   ]
  },
  {
   "cell_type": "code",
   "execution_count": null,
   "metadata": {},
   "outputs": [],
   "source": [
    "def assets():    \n",
    "    headers ={\"APCA-API-KEY-ID\" : api_key, \"APCA-API-SECRET-KEY\":secret_key}\n",
    "    r = requests.get(url = \"https://paper-api.alpaca.markets/v2/assets\", \n",
    "                      headers = headers)\n",
    "\n",
    "    js = r.json()\n",
    "    df = pd.DataFrame(js)\n",
    "    df = df.loc[df.status=='active'].drop(['status','class','easy_to_borrow',\n",
    "                                          'tradable','marginable'], axis=1)\n",
    "    return df\n",
    "activos = assets()"
   ]
  },
  {
   "cell_type": "code",
   "execution_count": null,
   "metadata": {},
   "outputs": [],
   "source": [
    "activos"
   ]
  },
  {
   "cell_type": "code",
   "execution_count": null,
   "metadata": {},
   "outputs": [],
   "source": [
    "activos.groupby('exchange').size()"
   ]
  },
  {
   "cell_type": "code",
   "execution_count": null,
   "metadata": {},
   "outputs": [],
   "source": [
    "activos.groupby('shortable').size()"
   ]
  },
  {
   "cell_type": "markdown",
   "metadata": {},
   "source": [
    "## WatchLists"
   ]
  },
  {
   "cell_type": "markdown",
   "metadata": {},
   "source": [
    "## CRUD"
   ]
  },
  {
   "cell_type": "markdown",
   "metadata": {},
   "source": [
    "### Crear listas"
   ]
  },
  {
   "cell_type": "code",
   "execution_count": null,
   "metadata": {},
   "outputs": [],
   "source": [
    "def createWatchlist(name, symbols):    \n",
    "    headers ={\"APCA-API-KEY-ID\" : api_key, \"APCA-API-SECRET-KEY\":secret_key}\n",
    "    params = {'name':name, 'symbols':symbols}\n",
    "    r = requests.post(url = \"https://paper-api.alpaca.markets/v2/watchlists\", \n",
    "                      headers = headers, json=params)\n",
    "    \n",
    "    js = r.json()\n",
    "    df = pd.DataFrame(js['assets'])\n",
    "    df.set_index('symbol', inplace=True)\n",
    "    df = df.loc[df.status=='active'].drop(['status','class','easy_to_borrow',\n",
    "                                          'tradable','marginable'], axis=1)\n",
    "    return js['id'], df\n",
    "\n",
    "bancos=['BBAR','BMA','SUPV']\n",
    "listaID, lista = createWatchlist('bancos_arg', symbols=bancos)"
   ]
  },
  {
   "cell_type": "code",
   "execution_count": null,
   "metadata": {},
   "outputs": [],
   "source": [
    "listaID"
   ]
  },
  {
   "cell_type": "code",
   "execution_count": null,
   "metadata": {},
   "outputs": [],
   "source": [
    "lista"
   ]
  },
  {
   "cell_type": "markdown",
   "metadata": {},
   "source": [
    "### Ver listas creadas"
   ]
  },
  {
   "cell_type": "code",
   "execution_count": null,
   "metadata": {},
   "outputs": [],
   "source": [
    "def watchlist():    \n",
    "    headers ={\"APCA-API-KEY-ID\" : api_key, \"APCA-API-SECRET-KEY\":secret_key}\n",
    "    r = requests.get(url = \"https://paper-api.alpaca.markets/v2/watchlists\", \n",
    "                      headers = headers)\n",
    "\n",
    "    js = r.json()\n",
    "    df = pd.DataFrame(js)\n",
    "    df.drop('account_id',axis=1, inplace=True)\n",
    "    return df\n",
    "\n",
    "watchlist()"
   ]
  },
  {
   "cell_type": "code",
   "execution_count": null,
   "metadata": {},
   "outputs": [],
   "source": [
    "techs=['AAPL','NFLX','MSFT','FB','GOOGL']\n",
    "createWatchlist('techs', symbols=techs)"
   ]
  },
  {
   "cell_type": "code",
   "execution_count": null,
   "metadata": {},
   "outputs": [],
   "source": [
    "watchlist()"
   ]
  },
  {
   "cell_type": "markdown",
   "metadata": {},
   "source": [
    "### Obtener watchList xID"
   ]
  },
  {
   "cell_type": "code",
   "execution_count": null,
   "metadata": {},
   "outputs": [],
   "source": [
    "def getWatchlist(wID):    \n",
    "    headers ={\"APCA-API-KEY-ID\" : api_key, \"APCA-API-SECRET-KEY\":secret_key}\n",
    "    r = requests.get(url = \"https://paper-api.alpaca.markets/v2/watchlists/\"+wID, \n",
    "                      headers = headers)\n",
    "\n",
    "    js = r.json()\n",
    "    df = pd.DataFrame(js['assets'])\n",
    "    df.set_index('symbol', inplace=True)\n",
    "    df = df.loc[df.status=='active'].drop(['status','class','easy_to_borrow',\n",
    "                                          'tradable','marginable'], axis=1)\n",
    "    \n",
    "    return df\n",
    "\n",
    "getWatchlist('7b769561-efdc-4d77-8211-991ce6976b4d')"
   ]
  },
  {
   "cell_type": "markdown",
   "metadata": {},
   "source": [
    "### Borrar watchList xID"
   ]
  },
  {
   "cell_type": "code",
   "execution_count": null,
   "metadata": {},
   "outputs": [],
   "source": [
    "def deleteWatchlist(wID):    \n",
    "    headers ={\"APCA-API-KEY-ID\" : api_key, \"APCA-API-SECRET-KEY\":secret_key}\n",
    "    endpoint = \"https://paper-api.alpaca.markets/v2/watchlists/\"+wID\n",
    "    r = requests.delete(url = endpoint, headers = headers)\n",
    "    js = r.text\n",
    "    return js"
   ]
  },
  {
   "cell_type": "code",
   "execution_count": null,
   "metadata": {},
   "outputs": [],
   "source": [
    "watchlist()"
   ]
  },
  {
   "cell_type": "code",
   "execution_count": null,
   "metadata": {},
   "outputs": [],
   "source": [
    "deleteWatchlist('7b769561-efdc-4d77-8211-991ce6976b4d')"
   ]
  },
  {
   "cell_type": "code",
   "execution_count": null,
   "metadata": {},
   "outputs": [],
   "source": [
    "watchlist()"
   ]
  },
  {
   "cell_type": "markdown",
   "metadata": {},
   "source": [
    "### Modificar watchList xID (PUT)"
   ]
  },
  {
   "cell_type": "code",
   "execution_count": null,
   "metadata": {},
   "outputs": [],
   "source": [
    "def updateWatchlist(wID, lista):    \n",
    "    headers ={\"APCA-API-KEY-ID\" : api_key, \"APCA-API-SECRET-KEY\":secret_key}\n",
    "    params = {'symbols': lista}\n",
    "    endpoint = \"https://paper-api.alpaca.markets/v2/watchlists/\"+wID\n",
    "    r = requests.put(url = endpoint, headers = headers, json=params)\n",
    "    \n",
    "    return r"
   ]
  },
  {
   "cell_type": "code",
   "execution_count": null,
   "metadata": {},
   "outputs": [],
   "source": [
    "getWatchlist('daf9e3b5-6373-412c-a076-5032b1904470')"
   ]
  },
  {
   "cell_type": "code",
   "execution_count": null,
   "metadata": {},
   "outputs": [],
   "source": [
    "bancosNuevos = ['SUPV', 'GGAL']\n",
    "updateWatchlist('daf9e3b5-6373-412c-a076-5032b1904470', bancosNuevos)"
   ]
  },
  {
   "cell_type": "code",
   "execution_count": null,
   "metadata": {},
   "outputs": [],
   "source": [
    "getWatchlist('daf9e3b5-6373-412c-a076-5032b1904470')"
   ]
  },
  {
   "cell_type": "code",
   "execution_count": null,
   "metadata": {},
   "outputs": [],
   "source": [
    "updateWatchlist('cf67f3d7-93a2-49be-b2ef-22766c38ab14', bancosNuevos)"
   ]
  },
  {
   "cell_type": "code",
   "execution_count": null,
   "metadata": {},
   "outputs": [],
   "source": []
  },
  {
   "cell_type": "code",
   "execution_count": null,
   "metadata": {},
   "outputs": [],
   "source": []
  },
  {
   "cell_type": "markdown",
   "metadata": {},
   "source": [
    "### Agregar Ticker a una watchList existente (POST)"
   ]
  },
  {
   "cell_type": "code",
   "execution_count": null,
   "metadata": {},
   "outputs": [],
   "source": [
    "def addTicker(wID, symbol):    \n",
    "    headers ={\"APCA-API-KEY-ID\" : api_key, \"APCA-API-SECRET-KEY\":secret_key}\n",
    "    params = {'symbol': symbol}\n",
    "    endpoint = \"https://paper-api.alpaca.markets/v2/watchlists/\"+wID\n",
    "    r = requests.post(url = endpoint, headers = headers, json=params)\n",
    "    js = r.json()\n",
    "    df = pd.DataFrame(js['assets'])\n",
    "    df.set_index('symbol', inplace=True)\n",
    "    df = df.loc[df.status=='active'].drop(['status','class','easy_to_borrow',\n",
    "                                          'tradable','marginable'], axis=1)\n",
    "    \n",
    "    return df"
   ]
  },
  {
   "cell_type": "code",
   "execution_count": null,
   "metadata": {},
   "outputs": [],
   "source": []
  },
  {
   "cell_type": "code",
   "execution_count": null,
   "metadata": {},
   "outputs": [],
   "source": [
    "watchlist()"
   ]
  },
  {
   "cell_type": "code",
   "execution_count": null,
   "metadata": {},
   "outputs": [],
   "source": [
    "getWatchlist('cf67f3d7-93a2-49be-b2ef-22766c38ab14')"
   ]
  },
  {
   "cell_type": "code",
   "execution_count": null,
   "metadata": {},
   "outputs": [],
   "source": [
    "addTicker('cf67f3d7-93a2-49be-b2ef-22766c38ab14','AAPL')"
   ]
  },
  {
   "cell_type": "code",
   "execution_count": null,
   "metadata": {},
   "outputs": [],
   "source": []
  },
  {
   "cell_type": "code",
   "execution_count": null,
   "metadata": {},
   "outputs": [],
   "source": []
  },
  {
   "cell_type": "code",
   "execution_count": null,
   "metadata": {},
   "outputs": [],
   "source": []
  },
  {
   "cell_type": "code",
   "execution_count": null,
   "metadata": {},
   "outputs": [],
   "source": []
  },
  {
   "cell_type": "markdown",
   "metadata": {},
   "source": [
    "# Ejercicios - Screener"
   ]
  },
  {
   "cell_type": "markdown",
   "metadata": {},
   "source": [
    "Atención, la idea es terminar los 7 ejercicios porque están pensado como un bloque, es decir que todos forman parte de una especie de mini-screener para poder hacer una intro a este tema, aprovechando la funcionalidad de las watchlists de Alpaca podemos armar nuestro primer screener de 9000 activos de USA en 2 minutos via señal de trading predefinida y guardar los resultados como si se tratara de una alerta de trading"
   ]
  },
  {
   "cell_type": "markdown",
   "metadata": {},
   "source": [
    "1- Partiendo de la función vista en clase para crear una watchList, mejorar la función para que (sin dejar de devolver el id y la lista en caso de estar todo ok), en caso de que se pase un ticker no listado devuelva al usuario el mensaje de error. Verificar su funcionamiento"
   ]
  },
  {
   "cell_type": "markdown",
   "metadata": {},
   "source": [
    "2- Vamos a empezar a pensar en un potencial screener, para ello vamos a usar el endpoint \"assets\" para armar una función que me devuelva todos los tickers de la API y luego de ello con esos activos vamos a armar una gran lista con listas de a 200 activos, ya que la API me  permite ver series históricas trayendo de a 200 activos, para verificar el script vamos a imprimir la última lista y su cantidad de activos que debe ser menor de 200 y la cantidad de listas de 200\n",
    "<br><br>A fines de poder usar este código mas adelante en un screener meter todo el código en una función: listasActivos()"
   ]
  },
  {
   "cell_type": "markdown",
   "metadata": {},
   "source": [
    "3- Siguiendo en la línea de ir preparando el terreno para llegar a un screener, armar una función que si le paso una lista con listas de tickers me devuelva una lista con strings de tickers separados por comas, es decir:\n",
    " * Recibe: [ ['activo1','activo2','activo3'], ['activo4','activo5','activo_nn'] ]\n",
    " * Devuelve: [ 'activo1,activo2,activo3', 'activo4,activo5,activo_nn' ]\n",
    " \n",
    " Probar la función dando como entrada la salida de la función del ejercicio anterior"
   ]
  },
  {
   "cell_type": "markdown",
   "metadata": {},
   "source": [
    "4- Agregarle lo necesario a prueba de fallos de la funcion getHistory definida en este capítulo para que acepte una lista de activos y me devuelve un diccionario cuyas claves sean las listas del ejercicio anterior y los valores unos dataFrames con el historial\n",
    "\n",
    "Verificar el funcionamiento correcto de esta función pasándole como argumento la primera lista de 200 activos del ejercicio anterior en un timeframe de 1 minuto de los ultimos 60 dias"
   ]
  },
  {
   "cell_type": "markdown",
   "metadata": {},
   "source": [
    "5- Seguimos armando el screener de a poco, paso a paso como quien no quiere la cosa los voy a ir llevando, confien en mi...\n",
    "\n",
    "crear una función que tome de entrada un dataFrame de datos y me devuelva como salida un string que indique sobreCompra o SobreVenta en función de la siguiente lógica:\n",
    "   * SobreCompra: Si  la media movil rapida (default 50) es + de un x% superior (default 3%) a la media lenta (default 200)\n",
    "   * SobreVenta: Si  la media movil rapida (default 50) es + de un x% inferior (default 3%) a la media lenta (default 200)\n",
    "   "
   ]
  },
  {
   "cell_type": "markdown",
   "metadata": {},
   "source": [
    "6- Usando las funciones necesarias de los ejercicio anteriores crear un script que tome todos los activos de la API y me cree una watchList llamada \"sobreCompra\" y otra llamada \"SobreVenta\" con los activos que obviamente cumplan las condiciones enunciadas para tal configuración en el ejercicio previo"
   ]
  },
  {
   "cell_type": "markdown",
   "metadata": {},
   "source": [
    "7- Usando las funciones vistas hasta acá armar un script que levante en una variable el ID de la watchList primaria (que es la que queda guardada en el FrontEnd de Alpaca del paper trading) y que agregue uno por uno los activos de la lista de sobrecompra definida en el ejercicio anterior simplemente para ver reflejado el resultado en la pantalla de https://app.alpaca.markets/paper/dashboard/overview el resultado del screener\n",
    "\n",
    "Para ello los activos o lista de activos de sobrecompra deben ser levantados de la watchlist creada anteriormente llamada con ese nombre"
   ]
  },
  {
   "cell_type": "markdown",
   "metadata": {},
   "source": [
    "8- Finalmente usando todas las funciones que vios hasta acá definir una función <b>screener_sobreCompra()</b> que simplemente tome como parámetros -fast -slow y -p que son los parámetros de ruedas de las medias móviles y el porcentaje por encima del cruce para disparar señal de sobrecompra, y que me actualice la watchList primaria con los activos que están en el filtro dado\n",
    "\n",
    "Probar configurando en un 5% el screener con medias de 50 y 200 para testearlo y que den unas pocas acciones de las 9000 listadas e"
   ]
  },
  {
   "cell_type": "markdown",
   "metadata": {},
   "source": [
    "# Respuestas"
   ]
  },
  {
   "cell_type": "code",
   "execution_count": null,
   "metadata": {},
   "outputs": [],
   "source": [
    "#========================#\n",
    "#      Ejercicio 1       #\n",
    "#========================#\n",
    "\n",
    "\n",
    "def createWatchlist(name, symbols):    \n",
    "    headers ={\"APCA-API-KEY-ID\" : api_key, \"APCA-API-SECRET-KEY\":secret_key}\n",
    "    params = {'name':name, 'symbols':symbols}\n",
    "    r = requests.post(url = \"https://paper-api.alpaca.markets/v2/watchlists\", \n",
    "                      headers = headers, json=params)\n",
    "    \n",
    "    js = r.json()\n",
    "    try:\n",
    "        msg = js['id']\n",
    "        df = pd.DataFrame(js['assets'])\n",
    "        df.set_index('symbol', inplace=True)\n",
    "        df = df.loc[df.status=='active']\n",
    "        df =df.drop(['status','class','easy_to_borrow','tradable','marginable'],axis=1)\n",
    "    except:\n",
    "        df = pd.DataFrame()\n",
    "        msg = js\n",
    "    return msg, df\n",
    "\n",
    "tickers = ['BBAR','BMA','TICKER_LOCO']\n",
    "createWatchlist('lista_test', symbols = tickers)"
   ]
  },
  {
   "cell_type": "code",
   "execution_count": null,
   "metadata": {},
   "outputs": [],
   "source": [
    "#========================#\n",
    "#      Ejercicio 2       #\n",
    "#========================#\n",
    "\n",
    "\n",
    "def listasActivos():    \n",
    "    headers ={\"APCA-API-KEY-ID\" : api_key, \"APCA-API-SECRET-KEY\":secret_key}\n",
    "    endpoint = \"https://paper-api.alpaca.markets/v2/assets\"\n",
    "    r = requests.get(url = endpoint, headers = headers)\n",
    "\n",
    "    js = r.json()\n",
    "    \n",
    "    tickers = [row['symbol'] for row in js if row['status']=='active']\n",
    "    listas = []\n",
    "    for i in range(len(tickers)//200 + 1):\n",
    "        listas.append(tickers[i*200:(i+1)*200])\n",
    "\n",
    "    return listas\n",
    "\n",
    "listas = listasActivos()\n",
    "\n",
    "print('\\n Ultima lista:\\n',listas[len(listas)-1])\n",
    "print('\\n Cantidad de Ultima lista:',len(listas[len(listas)-1]))\n",
    "print('\\n Cantidad de listas de 200:',len(listas)-1)"
   ]
  },
  {
   "cell_type": "code",
   "execution_count": null,
   "metadata": {},
   "outputs": [],
   "source": [
    "#========================#\n",
    "#      Ejercicio 3       #\n",
    "#========================#\n",
    "\n",
    "\n",
    "def sublist_to_string(listas):\n",
    "    for i in range(len(listas)):\n",
    "        listas[i] = ','.join(listas[i])\n",
    "    return listas\n",
    "\n",
    "listas = sublist_to_string(listasActivos())\n",
    "listas[0]"
   ]
  },
  {
   "cell_type": "code",
   "execution_count": null,
   "metadata": {
    "scrolled": false
   },
   "outputs": [],
   "source": [
    "#========================#\n",
    "#      Ejercicio 4       #\n",
    "#========================#\n",
    "\n",
    "\n",
    "def getHistory(symbol, start, end, timeframe='1D'):    \n",
    "    start = dt.datetime.strftime(start, format='%Y-%m-%dT%T-04:00')\n",
    "    end = dt.datetime.strftime(end, format='%Y-%m-%dT%T-04:00')\n",
    "\n",
    "    headers ={\"APCA-API-KEY-ID\" : api_key, \"APCA-API-SECRET-KEY\":secret_key}\n",
    "    params =  {'symbols' : symbol, 'start':start, 'end':end}\n",
    "    endpoint = \"https://data.alpaca.markets/v1/bars/\"+timeframe\n",
    "    r = requests.get(url = endpoint, headers =headers, params=params)\n",
    "    js = r.json()\n",
    "    \n",
    "    tickers = symbol.split(\",\")\n",
    "    dfs = {}\n",
    "    for ticker in tickers:\n",
    "        # Bloque por los errores cuando no hay datos\n",
    "        try:\n",
    "            dfs[ticker] = pd.DataFrame(js[ticker])\n",
    "            dfs[ticker].t = pd.to_datetime(dfs[ticker].t, unit='s')\n",
    "            dfs[ticker].set_index(dfs[ticker].t, inplace=True)\n",
    "        except:\n",
    "            pass\n",
    "    return dfs\n",
    "\n",
    "import datetime as dt\n",
    "end =  dt.date.today() + dt.timedelta(days=1)\n",
    "start = end - dt.timedelta(days=6)\n",
    "\n",
    "data = getHistory(listas[0], start, end, timeframe='1Min')"
   ]
  },
  {
   "cell_type": "code",
   "execution_count": null,
   "metadata": {},
   "outputs": [],
   "source": [
    "len(data)"
   ]
  },
  {
   "cell_type": "code",
   "execution_count": null,
   "metadata": {},
   "outputs": [],
   "source": [
    "data.keys()"
   ]
  },
  {
   "cell_type": "code",
   "execution_count": null,
   "metadata": {},
   "outputs": [],
   "source": [
    "data['AAPL']"
   ]
  },
  {
   "cell_type": "code",
   "execution_count": null,
   "metadata": {},
   "outputs": [],
   "source": [
    "#========================#\n",
    "#      Ejercicio 5       #\n",
    "#========================#\n",
    "\n",
    "\n",
    "def signal(df, fast=50, slow=200, p=3):\n",
    "    df['sma_f'] = df.c.rolling(fast).mean()\n",
    "    df['sma_s'] = df.c.rolling(slow).mean()\n",
    "    df['cruce'] = (df['sma_f']/df['sma_s']-1)*100\n",
    "    \n",
    "    alert = ''\n",
    "    if ( float(df.iloc[-1:]['cruce']) < -p ):\n",
    "        alert = 'SobreVenta'\n",
    "    if ( float(df.iloc[-1:]['cruce']) > p ):\n",
    "        alert = 'SobreCompra'\n",
    "        \n",
    "    return alert"
   ]
  },
  {
   "cell_type": "code",
   "execution_count": null,
   "metadata": {},
   "outputs": [],
   "source": [
    "signal(data['AAPL'], fast=50, slow=200, p=3)"
   ]
  },
  {
   "cell_type": "code",
   "execution_count": null,
   "metadata": {},
   "outputs": [],
   "source": [
    "#========================#\n",
    "#      Ejercicio 6       #\n",
    "#========================#\n",
    "\n",
    "# Uso la funcion del ejercicio 3 y 2\n",
    "# armo las listas de a 200 activos para traer la data lista por lista\n",
    "listas = sublist_to_string(listasActivos())\n",
    "\n",
    "\n",
    "import datetime as dt\n",
    "end =  dt.date.today()  + dt.timedelta(days=1)\n",
    "start = end - dt.timedelta(days=6)\n",
    "\n",
    "sc = []\n",
    "sv = []\n",
    "\n",
    "for i in range(len(listas)):\n",
    "    \n",
    "    # Para ver la evolución ya que tarda unos 2 minutos en correr\n",
    "    print(i,'..',end='')\n",
    "    \n",
    "    # Uso la función del ejercicio 4\n",
    "    data = getHistory(listas[i], start, end, timeframe='1Min')\n",
    "    for ticker in data:\n",
    "        try:\n",
    "            # Uso la función del ejercicio 5\n",
    "            s = signal(data[ticker], fast=10, slow=200, p=6)\n",
    "            \n",
    "            if s=='SobreCompra':\n",
    "                sc.append(ticker)\n",
    "            if s=='SobreVenta':\n",
    "                sv.append(ticker)\n",
    "        except:\n",
    "            pass\n",
    "\n",
    "# Uso la función del ejercicio 1\n",
    "wSC = createWatchlist('sobreCompra', sc)\n",
    "wSV = createWatchlist('sobreVenta', sv)\n",
    "\n",
    "print('\\n\\nSobreCompra ID:',wSC[0],'SobreVenta ID:',wSV[0])\n",
    "print('\\n\\nSobreCompra Cantidad:',len(wSC[1]),'SobreVenta Cantidad:',len(wSV[1]))"
   ]
  },
  {
   "cell_type": "code",
   "execution_count": null,
   "metadata": {},
   "outputs": [],
   "source": [
    "watchlist()"
   ]
  },
  {
   "cell_type": "code",
   "execution_count": null,
   "metadata": {},
   "outputs": [],
   "source": [
    "#========================#\n",
    "#      Ejercicio 7       #\n",
    "#========================#\n",
    "\n",
    "\n",
    "def updateWatchlist(wID, lista):    \n",
    "    headers ={\"APCA-API-KEY-ID\" : api_key, \"APCA-API-SECRET-KEY\":secret_key}\n",
    "    params = {'symbols': lista}\n",
    "    r = requests.put(url = \"https://paper-api.alpaca.markets/v2/watchlists/\"+wID, \n",
    "                      headers = headers, json=params)\n",
    "    \n",
    "    return r\n",
    "\n",
    "\n",
    "# Armo lista c/las que estan guardadas en el Watchlist SobreCompra\n",
    "listas = watchlist().set_index('name')\n",
    "sobreCompraID = listas.loc['sobreCompra','id']\n",
    "sobreCompraDF = getWatchlist(sobreCompraID)\n",
    "sc = list(sobreCompraDF.index)\n",
    "\n",
    "# Busco el ID de la primaria\n",
    "listas = watchlist().set_index('name')\n",
    "primariaID = listas.loc['Primary Watchlist','id']\n",
    "\n",
    "# Lleno la primaria con las de sobreCompra\n",
    "upd = updateWatchlist(primariaID, lista=sc)\n"
   ]
  },
  {
   "cell_type": "code",
   "execution_count": null,
   "metadata": {},
   "outputs": [],
   "source": [
    "updateWatchlist(primariaID, [])"
   ]
  },
  {
   "cell_type": "code",
   "execution_count": null,
   "metadata": {
    "scrolled": true
   },
   "outputs": [],
   "source": [
    "#========================#\n",
    "#      Ejercicio 8       #\n",
    "#========================#\n",
    "\n",
    "import datetime as dt, pandas as pd, requests\n",
    "\n",
    "def screener_sobreCompra(fast, slow, p):\n",
    "    listas = sublist_to_string(listasActivos())\n",
    "    end =  dt.date.today()  + dt.timedelta(days=1)\n",
    "    start = end - dt.timedelta(days=6)\n",
    "\n",
    "    sc = []\n",
    "    for i in range(len(listas)):\n",
    "\n",
    "        print(i,'..',end='')\n",
    "\n",
    "        data = getHistory(listas[i], start, end, timeframe='1Min')\n",
    "        for ticker in data:\n",
    "            try:\n",
    "                s = signal(data[ticker], fast=fast, slow=slow, p=p)\n",
    "                if s=='SobreCompra':\n",
    "                    sc.append(ticker)\n",
    "            except:\n",
    "                pass\n",
    "\n",
    "    listas = watchlist().set_index('name')\n",
    "    primariaID = listas.loc['Primary Watchlist','id']\n",
    "\n",
    "    upd = updateWatchlist(primariaID, lista=sc)\n",
    "    \n",
    "    \n",
    "screener_sobreCompra(fast=10, slow=200, p=7)"
   ]
  },
  {
   "cell_type": "code",
   "execution_count": null,
   "metadata": {},
   "outputs": [],
   "source": []
  },
  {
   "cell_type": "markdown",
   "metadata": {},
   "source": [
    "# Bases de Datos introducción"
   ]
  },
  {
   "cell_type": "markdown",
   "metadata": {},
   "source": [
    "* claves foraneas\n",
    "* claves primarias"
   ]
  },
  {
   "cell_type": "markdown",
   "metadata": {},
   "source": [
    "<img src='imagenes/BBDD.jpeg' width='600'>"
   ]
  },
  {
   "cell_type": "markdown",
   "metadata": {},
   "source": [
    "Y así sucesivamente se pueden ir creando nuevas entidades que se van relacionando con otras\n",
    "\n",
    "En este caso vamos a agregar a nuestro modelo de subyacentes y derivados, una entidad de \"fondos\" que podrian ser FCIs y \"clientes\" que podrian ser las cuentas de un Alyc"
   ]
  },
  {
   "cell_type": "markdown",
   "metadata": {},
   "source": [
    "<img src='imagenes/BBDD2.jpeg' width='600'>"
   ]
  },
  {
   "cell_type": "code",
   "execution_count": null,
   "metadata": {},
   "outputs": [],
   "source": []
  }
 ],
 "metadata": {
  "kernelspec": {
   "display_name": "Python 3",
   "language": "python",
   "name": "python3"
  },
  "language_info": {
   "codemirror_mode": {
    "name": "ipython",
    "version": 3
   },
   "file_extension": ".py",
   "mimetype": "text/x-python",
   "name": "python",
   "nbconvert_exporter": "python",
   "pygments_lexer": "ipython3",
   "version": "3.8.5"
  },
  "toc": {
   "base_numbering": 1,
   "nav_menu": {},
   "number_sections": true,
   "sideBar": true,
   "skip_h1_title": false,
   "title_cell": "Table of Contents",
   "title_sidebar": "Contents",
   "toc_cell": false,
   "toc_position": {},
   "toc_section_display": true,
   "toc_window_display": true
  },
  "varInspector": {
   "cols": {
    "lenName": 16,
    "lenType": 16,
    "lenVar": 40
   },
   "kernels_config": {
    "python": {
     "delete_cmd_postfix": "",
     "delete_cmd_prefix": "del ",
     "library": "var_list.py",
     "varRefreshCmd": "print(var_dic_list())"
    },
    "r": {
     "delete_cmd_postfix": ") ",
     "delete_cmd_prefix": "rm(",
     "library": "var_list.r",
     "varRefreshCmd": "cat(var_dic_list()) "
    }
   },
   "types_to_exclude": [
    "module",
    "function",
    "builtin_function_or_method",
    "instance",
    "_Feature"
   ],
   "window_display": false
  }
 },
 "nbformat": 4,
 "nbformat_minor": 4
}
