{
 "cells": [
  {
   "cell_type": "markdown",
   "metadata": {},
   "source": [
    "# Portafolio de Estrategias"
   ]
  },
  {
   "cell_type": "markdown",
   "metadata": {},
   "source": [
    "¿Que es un portafolio de Estrategias?\n",
    "\n",
    "¿Como se construye?\n",
    "\n",
    "¿Para que sirve?\n",
    "\n",
    "\n",
    "\n",
    "¿Cual es la principal ventaja contra un portafolio de acciones?"
   ]
  },
  {
   "cell_type": "code",
   "execution_count": 1,
   "metadata": {},
   "outputs": [
    {
     "name": "stdout",
     "output_type": "stream",
     "text": [
      "[*********************100%***********************]  1 of 1 downloaded\n"
     ]
    },
    {
     "data": {
      "text/html": [
       "<div>\n",
       "<style scoped>\n",
       "    .dataframe tbody tr th:only-of-type {\n",
       "        vertical-align: middle;\n",
       "    }\n",
       "\n",
       "    .dataframe tbody tr th {\n",
       "        vertical-align: top;\n",
       "    }\n",
       "\n",
       "    .dataframe thead th {\n",
       "        text-align: right;\n",
       "    }\n",
       "</style>\n",
       "<table border=\"1\" class=\"dataframe\">\n",
       "  <thead>\n",
       "    <tr style=\"text-align: right;\">\n",
       "      <th></th>\n",
       "      <th>Open</th>\n",
       "      <th>High</th>\n",
       "      <th>Low</th>\n",
       "      <th>Close</th>\n",
       "      <th>Volume</th>\n",
       "      <th>Cruce</th>\n",
       "      <th>Estado</th>\n",
       "      <th>logDR</th>\n",
       "      <th>Estrategia</th>\n",
       "    </tr>\n",
       "    <tr>\n",
       "      <th>Date</th>\n",
       "      <th></th>\n",
       "      <th></th>\n",
       "      <th></th>\n",
       "      <th></th>\n",
       "      <th></th>\n",
       "      <th></th>\n",
       "      <th></th>\n",
       "      <th></th>\n",
       "      <th></th>\n",
       "    </tr>\n",
       "  </thead>\n",
       "  <tbody>\n",
       "    <tr>\n",
       "      <th>2017-03-15</th>\n",
       "      <td>37.41</td>\n",
       "      <td>37.67</td>\n",
       "      <td>37.40</td>\n",
       "      <td>37.53</td>\n",
       "      <td>22757800</td>\n",
       "      <td>1.0174</td>\n",
       "      <td>Neutral</td>\n",
       "      <td>0.3470</td>\n",
       "      <td>0.0000</td>\n",
       "    </tr>\n",
       "    <tr>\n",
       "      <th>2017-03-16</th>\n",
       "      <td>37.45</td>\n",
       "      <td>37.77</td>\n",
       "      <td>37.34</td>\n",
       "      <td>37.65</td>\n",
       "      <td>16004200</td>\n",
       "      <td>1.0198</td>\n",
       "      <td>Neutral</td>\n",
       "      <td>0.3192</td>\n",
       "      <td>0.0000</td>\n",
       "    </tr>\n",
       "    <tr>\n",
       "      <th>2017-03-17</th>\n",
       "      <td>37.67</td>\n",
       "      <td>37.74</td>\n",
       "      <td>37.43</td>\n",
       "      <td>37.45</td>\n",
       "      <td>37526500</td>\n",
       "      <td>1.0200</td>\n",
       "      <td>Neutral</td>\n",
       "      <td>-0.5326</td>\n",
       "      <td>0.0000</td>\n",
       "    </tr>\n",
       "    <tr>\n",
       "      <th>2017-03-20</th>\n",
       "      <td>37.51</td>\n",
       "      <td>37.73</td>\n",
       "      <td>37.49</td>\n",
       "      <td>37.59</td>\n",
       "      <td>11484200</td>\n",
       "      <td>1.0204</td>\n",
       "      <td>Comprado</td>\n",
       "      <td>0.3731</td>\n",
       "      <td>0.3731</td>\n",
       "    </tr>\n",
       "    <tr>\n",
       "      <th>2017-03-21</th>\n",
       "      <td>37.70</td>\n",
       "      <td>37.99</td>\n",
       "      <td>37.61</td>\n",
       "      <td>37.87</td>\n",
       "      <td>17187300</td>\n",
       "      <td>1.0224</td>\n",
       "      <td>Comprado</td>\n",
       "      <td>0.7421</td>\n",
       "      <td>0.7421</td>\n",
       "    </tr>\n",
       "    <tr>\n",
       "      <th>...</th>\n",
       "      <td>...</td>\n",
       "      <td>...</td>\n",
       "      <td>...</td>\n",
       "      <td>...</td>\n",
       "      <td>...</td>\n",
       "      <td>...</td>\n",
       "      <td>...</td>\n",
       "      <td>...</td>\n",
       "      <td>...</td>\n",
       "    </tr>\n",
       "    <tr>\n",
       "      <th>2020-09-28</th>\n",
       "      <td>49.31</td>\n",
       "      <td>49.71</td>\n",
       "      <td>49.14</td>\n",
       "      <td>49.28</td>\n",
       "      <td>11215700</td>\n",
       "      <td>1.0107</td>\n",
       "      <td>Neutral</td>\n",
       "      <td>1.1429</td>\n",
       "      <td>0.0000</td>\n",
       "    </tr>\n",
       "    <tr>\n",
       "      <th>2020-09-29</th>\n",
       "      <td>49.39</td>\n",
       "      <td>49.56</td>\n",
       "      <td>48.91</td>\n",
       "      <td>48.92</td>\n",
       "      <td>12426600</td>\n",
       "      <td>1.0063</td>\n",
       "      <td>Neutral</td>\n",
       "      <td>-0.7332</td>\n",
       "      <td>0.0000</td>\n",
       "    </tr>\n",
       "    <tr>\n",
       "      <th>2020-09-30</th>\n",
       "      <td>49.27</td>\n",
       "      <td>49.62</td>\n",
       "      <td>48.89</td>\n",
       "      <td>49.37</td>\n",
       "      <td>15755900</td>\n",
       "      <td>1.0101</td>\n",
       "      <td>Neutral</td>\n",
       "      <td>0.9157</td>\n",
       "      <td>0.0000</td>\n",
       "    </tr>\n",
       "    <tr>\n",
       "      <th>2020-10-01</th>\n",
       "      <td>49.44</td>\n",
       "      <td>49.66</td>\n",
       "      <td>48.59</td>\n",
       "      <td>49.18</td>\n",
       "      <td>17575300</td>\n",
       "      <td>1.0116</td>\n",
       "      <td>Neutral</td>\n",
       "      <td>-0.3856</td>\n",
       "      <td>0.0000</td>\n",
       "    </tr>\n",
       "    <tr>\n",
       "      <th>2020-10-02</th>\n",
       "      <td>48.76</td>\n",
       "      <td>49.57</td>\n",
       "      <td>48.56</td>\n",
       "      <td>49.51</td>\n",
       "      <td>9371740</td>\n",
       "      <td>1.0142</td>\n",
       "      <td>Neutral</td>\n",
       "      <td>0.6688</td>\n",
       "      <td>0.0000</td>\n",
       "    </tr>\n",
       "  </tbody>\n",
       "</table>\n",
       "<p>896 rows × 9 columns</p>\n",
       "</div>"
      ],
      "text/plain": [
       "             Open   High    Low  Close    Volume   Cruce    Estado   logDR  \\\n",
       "Date                                                                         \n",
       "2017-03-15  37.41  37.67  37.40  37.53  22757800  1.0174   Neutral  0.3470   \n",
       "2017-03-16  37.45  37.77  37.34  37.65  16004200  1.0198   Neutral  0.3192   \n",
       "2017-03-17  37.67  37.74  37.43  37.45  37526500  1.0200   Neutral -0.5326   \n",
       "2017-03-20  37.51  37.73  37.49  37.59  11484200  1.0204  Comprado  0.3731   \n",
       "2017-03-21  37.70  37.99  37.61  37.87  17187300  1.0224  Comprado  0.7421   \n",
       "...           ...    ...    ...    ...       ...     ...       ...     ...   \n",
       "2020-09-28  49.31  49.71  49.14  49.28  11215700  1.0107   Neutral  1.1429   \n",
       "2020-09-29  49.39  49.56  48.91  48.92  12426600  1.0063   Neutral -0.7332   \n",
       "2020-09-30  49.27  49.62  48.89  49.37  15755900  1.0101   Neutral  0.9157   \n",
       "2020-10-01  49.44  49.66  48.59  49.18  17575300  1.0116   Neutral -0.3856   \n",
       "2020-10-02  48.76  49.57  48.56  49.51   9371740  1.0142   Neutral  0.6688   \n",
       "\n",
       "            Estrategia  \n",
       "Date                    \n",
       "2017-03-15      0.0000  \n",
       "2017-03-16      0.0000  \n",
       "2017-03-17      0.0000  \n",
       "2017-03-20      0.3731  \n",
       "2017-03-21      0.7421  \n",
       "...                ...  \n",
       "2020-09-28      0.0000  \n",
       "2020-09-29      0.0000  \n",
       "2020-09-30      0.0000  \n",
       "2020-10-01      0.0000  \n",
       "2020-10-02      0.0000  \n",
       "\n",
       "[896 rows x 9 columns]"
      ]
     },
     "execution_count": 1,
     "metadata": {},
     "output_type": "execute_result"
    }
   ],
   "source": [
    "import yfinance as yf\n",
    "import pandas as pd\n",
    "import numpy as np\n",
    "\n",
    "pd.options.display.max_columns = 12\n",
    "\n",
    "df = yf.download('KO', auto_adjust=True, start='2017-01-01')\n",
    "\n",
    "fast, slow = 5, 50\n",
    "df['Cruce'] = df.Close.rolling(fast).mean() / df.Close.rolling(slow).mean() \n",
    "df['Estado'] = np.where(df.Cruce.shift() > 1.02 , 'Comprado', np.where(df.Cruce.shift() < 0.98, 'Vendido', 'Neutral'))\n",
    "df['logDR'] = np.log(df.Close/df.Close.shift()) * 100\n",
    "df['Estrategia'] = np.where(df.Estado=='Comprado', df.logDR , np.where( df.Estado=='Vendido' , -df.logDR  , 0 ) )\n",
    "df = df.dropna().round(4)\n",
    "df"
   ]
  },
  {
   "cell_type": "code",
   "execution_count": 2,
   "metadata": {},
   "outputs": [
    {
     "data": {
      "text/plain": [
       "<matplotlib.axes._subplots.AxesSubplot at 0x1e6fcce6688>"
      ]
     },
     "execution_count": 2,
     "metadata": {},
     "output_type": "execute_result"
    },
    {
     "data": {
      "image/png": "[encoded data removed]",
      "text/plain": [
       "<Figure size 432x288 with 1 Axes>"
      ]
     },
     "metadata": {
      "needs_background": "light"
     },
     "output_type": "display_data"
    }
   ],
   "source": [
    "portafolio = pd.DataFrame(index=df.index)\n",
    "\n",
    "portafolio['Buy&Hold'] = (df.logDR/100 + 1).cumprod()\n",
    "portafolio['Estrategia'] = (df.Estrategia/100 + 1).cumprod()\n",
    "portafolio.plot()"
   ]
  },
  {
   "cell_type": "code",
   "execution_count": 3,
   "metadata": {},
   "outputs": [
    {
     "data": {
      "text/html": [
       "<div>\n",
       "<style scoped>\n",
       "    .dataframe tbody tr th:only-of-type {\n",
       "        vertical-align: middle;\n",
       "    }\n",
       "\n",
       "    .dataframe tbody tr th {\n",
       "        vertical-align: top;\n",
       "    }\n",
       "\n",
       "    .dataframe thead th {\n",
       "        text-align: right;\n",
       "    }\n",
       "</style>\n",
       "<table border=\"1\" class=\"dataframe\">\n",
       "  <thead>\n",
       "    <tr style=\"text-align: right;\">\n",
       "      <th></th>\n",
       "      <th>Buy&amp;Hold</th>\n",
       "      <th>Estrategia</th>\n",
       "    </tr>\n",
       "    <tr>\n",
       "      <th>Date</th>\n",
       "      <th></th>\n",
       "      <th></th>\n",
       "    </tr>\n",
       "  </thead>\n",
       "  <tbody>\n",
       "    <tr>\n",
       "      <th>2017-03-15</th>\n",
       "      <td>1.003470</td>\n",
       "      <td>1.000000</td>\n",
       "    </tr>\n",
       "    <tr>\n",
       "      <th>2017-03-16</th>\n",
       "      <td>1.006673</td>\n",
       "      <td>1.000000</td>\n",
       "    </tr>\n",
       "    <tr>\n",
       "      <th>2017-03-17</th>\n",
       "      <td>1.001312</td>\n",
       "      <td>1.000000</td>\n",
       "    </tr>\n",
       "    <tr>\n",
       "      <th>2017-03-20</th>\n",
       "      <td>1.005047</td>\n",
       "      <td>1.003731</td>\n",
       "    </tr>\n",
       "    <tr>\n",
       "      <th>2017-03-21</th>\n",
       "      <td>1.012506</td>\n",
       "      <td>1.011180</td>\n",
       "    </tr>\n",
       "    <tr>\n",
       "      <th>...</th>\n",
       "      <td>...</td>\n",
       "      <td>...</td>\n",
       "    </tr>\n",
       "    <tr>\n",
       "      <th>2020-09-28</th>\n",
       "      <td>1.210359</td>\n",
       "      <td>0.921435</td>\n",
       "    </tr>\n",
       "    <tr>\n",
       "      <th>2020-09-29</th>\n",
       "      <td>1.201484</td>\n",
       "      <td>0.921435</td>\n",
       "    </tr>\n",
       "    <tr>\n",
       "      <th>2020-09-30</th>\n",
       "      <td>1.212486</td>\n",
       "      <td>0.921435</td>\n",
       "    </tr>\n",
       "    <tr>\n",
       "      <th>2020-10-01</th>\n",
       "      <td>1.207811</td>\n",
       "      <td>0.921435</td>\n",
       "    </tr>\n",
       "    <tr>\n",
       "      <th>2020-10-02</th>\n",
       "      <td>1.215889</td>\n",
       "      <td>0.921435</td>\n",
       "    </tr>\n",
       "  </tbody>\n",
       "</table>\n",
       "<p>896 rows × 2 columns</p>\n",
       "</div>"
      ],
      "text/plain": [
       "            Buy&Hold  Estrategia\n",
       "Date                            \n",
       "2017-03-15  1.003470    1.000000\n",
       "2017-03-16  1.006673    1.000000\n",
       "2017-03-17  1.001312    1.000000\n",
       "2017-03-20  1.005047    1.003731\n",
       "2017-03-21  1.012506    1.011180\n",
       "...              ...         ...\n",
       "2020-09-28  1.210359    0.921435\n",
       "2020-09-29  1.201484    0.921435\n",
       "2020-09-30  1.212486    0.921435\n",
       "2020-10-01  1.207811    0.921435\n",
       "2020-10-02  1.215889    0.921435\n",
       "\n",
       "[896 rows x 2 columns]"
      ]
     },
     "execution_count": 3,
     "metadata": {},
     "output_type": "execute_result"
    }
   ],
   "source": [
    "portafolio"
   ]
  },
  {
   "cell_type": "code",
   "execution_count": null,
   "metadata": {},
   "outputs": [],
   "source": []
  },
  {
   "cell_type": "code",
   "execution_count": null,
   "metadata": {},
   "outputs": [],
   "source": []
  },
  {
   "cell_type": "code",
   "execution_count": null,
   "metadata": {},
   "outputs": [],
   "source": []
  },
  {
   "cell_type": "code",
   "execution_count": null,
   "metadata": {},
   "outputs": [],
   "source": []
  },
  {
   "cell_type": "code",
   "execution_count": 4,
   "metadata": {},
   "outputs": [
    {
     "name": "stdout",
     "output_type": "stream",
     "text": [
      "[*********************100%***********************]  1 of 1 downloaded\n"
     ]
    },
    {
     "data": {
      "text/html": [
       "<div>\n",
       "<style scoped>\n",
       "    .dataframe tbody tr th:only-of-type {\n",
       "        vertical-align: middle;\n",
       "    }\n",
       "\n",
       "    .dataframe tbody tr th {\n",
       "        vertical-align: top;\n",
       "    }\n",
       "\n",
       "    .dataframe thead th {\n",
       "        text-align: right;\n",
       "    }\n",
       "</style>\n",
       "<table border=\"1\" class=\"dataframe\">\n",
       "  <thead>\n",
       "    <tr style=\"text-align: right;\">\n",
       "      <th></th>\n",
       "      <th>Open</th>\n",
       "      <th>High</th>\n",
       "      <th>Low</th>\n",
       "      <th>Close</th>\n",
       "      <th>Volume</th>\n",
       "      <th>logDR</th>\n",
       "      <th>Cruce_1</th>\n",
       "      <th>Estado_1</th>\n",
       "      <th>Estrategia_1</th>\n",
       "      <th>Cruce_2</th>\n",
       "      <th>Estado_2</th>\n",
       "      <th>Estrategia_2</th>\n",
       "    </tr>\n",
       "    <tr>\n",
       "      <th>Date</th>\n",
       "      <th></th>\n",
       "      <th></th>\n",
       "      <th></th>\n",
       "      <th></th>\n",
       "      <th></th>\n",
       "      <th></th>\n",
       "      <th></th>\n",
       "      <th></th>\n",
       "      <th></th>\n",
       "      <th></th>\n",
       "      <th></th>\n",
       "      <th></th>\n",
       "    </tr>\n",
       "  </thead>\n",
       "  <tbody>\n",
       "    <tr>\n",
       "      <th>2017-05-25</th>\n",
       "      <td>40.10</td>\n",
       "      <td>40.53</td>\n",
       "      <td>40.07</td>\n",
       "      <td>40.46</td>\n",
       "      <td>16704200</td>\n",
       "      <td>0.8190</td>\n",
       "      <td>1.0169</td>\n",
       "      <td>Neutral</td>\n",
       "      <td>0.0000</td>\n",
       "      <td>1.0393</td>\n",
       "      <td>Neutral</td>\n",
       "      <td>0.0000</td>\n",
       "    </tr>\n",
       "    <tr>\n",
       "      <th>2017-05-26</th>\n",
       "      <td>40.41</td>\n",
       "      <td>40.60</td>\n",
       "      <td>40.39</td>\n",
       "      <td>40.45</td>\n",
       "      <td>11341400</td>\n",
       "      <td>-0.0247</td>\n",
       "      <td>1.0211</td>\n",
       "      <td>Neutral</td>\n",
       "      <td>0.0000</td>\n",
       "      <td>1.0410</td>\n",
       "      <td>Comprado</td>\n",
       "      <td>-0.0247</td>\n",
       "    </tr>\n",
       "    <tr>\n",
       "      <th>2017-05-30</th>\n",
       "      <td>40.24</td>\n",
       "      <td>40.51</td>\n",
       "      <td>40.20</td>\n",
       "      <td>40.48</td>\n",
       "      <td>13093500</td>\n",
       "      <td>0.0741</td>\n",
       "      <td>1.0242</td>\n",
       "      <td>Comprado</td>\n",
       "      <td>0.0741</td>\n",
       "      <td>1.0426</td>\n",
       "      <td>Comprado</td>\n",
       "      <td>0.0741</td>\n",
       "    </tr>\n",
       "    <tr>\n",
       "      <th>2017-05-31</th>\n",
       "      <td>40.48</td>\n",
       "      <td>40.72</td>\n",
       "      <td>40.43</td>\n",
       "      <td>40.52</td>\n",
       "      <td>14148000</td>\n",
       "      <td>0.0988</td>\n",
       "      <td>1.0266</td>\n",
       "      <td>Comprado</td>\n",
       "      <td>0.0988</td>\n",
       "      <td>1.0441</td>\n",
       "      <td>Comprado</td>\n",
       "      <td>0.0988</td>\n",
       "    </tr>\n",
       "    <tr>\n",
       "      <th>2017-06-01</th>\n",
       "      <td>40.50</td>\n",
       "      <td>40.80</td>\n",
       "      <td>40.30</td>\n",
       "      <td>40.80</td>\n",
       "      <td>11049300</td>\n",
       "      <td>0.6886</td>\n",
       "      <td>1.0272</td>\n",
       "      <td>Comprado</td>\n",
       "      <td>0.6886</td>\n",
       "      <td>1.0459</td>\n",
       "      <td>Comprado</td>\n",
       "      <td>0.6886</td>\n",
       "    </tr>\n",
       "    <tr>\n",
       "      <th>...</th>\n",
       "      <td>...</td>\n",
       "      <td>...</td>\n",
       "      <td>...</td>\n",
       "      <td>...</td>\n",
       "      <td>...</td>\n",
       "      <td>...</td>\n",
       "      <td>...</td>\n",
       "      <td>...</td>\n",
       "      <td>...</td>\n",
       "      <td>...</td>\n",
       "      <td>...</td>\n",
       "      <td>...</td>\n",
       "    </tr>\n",
       "    <tr>\n",
       "      <th>2020-09-28</th>\n",
       "      <td>49.31</td>\n",
       "      <td>49.71</td>\n",
       "      <td>49.14</td>\n",
       "      <td>49.28</td>\n",
       "      <td>11215700</td>\n",
       "      <td>1.1429</td>\n",
       "      <td>0.9822</td>\n",
       "      <td>Neutral</td>\n",
       "      <td>0.0000</td>\n",
       "      <td>1.0633</td>\n",
       "      <td>Comprado</td>\n",
       "      <td>1.1429</td>\n",
       "    </tr>\n",
       "    <tr>\n",
       "      <th>2020-09-29</th>\n",
       "      <td>49.39</td>\n",
       "      <td>49.56</td>\n",
       "      <td>48.91</td>\n",
       "      <td>48.92</td>\n",
       "      <td>12426600</td>\n",
       "      <td>-0.7332</td>\n",
       "      <td>0.9794</td>\n",
       "      <td>Neutral</td>\n",
       "      <td>0.0000</td>\n",
       "      <td>1.0619</td>\n",
       "      <td>Comprado</td>\n",
       "      <td>-0.7332</td>\n",
       "    </tr>\n",
       "    <tr>\n",
       "      <th>2020-09-30</th>\n",
       "      <td>49.27</td>\n",
       "      <td>49.62</td>\n",
       "      <td>48.89</td>\n",
       "      <td>49.37</td>\n",
       "      <td>15755900</td>\n",
       "      <td>0.9157</td>\n",
       "      <td>0.9835</td>\n",
       "      <td>Vendido</td>\n",
       "      <td>-0.9157</td>\n",
       "      <td>1.0617</td>\n",
       "      <td>Comprado</td>\n",
       "      <td>0.9157</td>\n",
       "    </tr>\n",
       "    <tr>\n",
       "      <th>2020-10-01</th>\n",
       "      <td>49.44</td>\n",
       "      <td>49.66</td>\n",
       "      <td>48.59</td>\n",
       "      <td>49.18</td>\n",
       "      <td>17575300</td>\n",
       "      <td>-0.3856</td>\n",
       "      <td>0.9870</td>\n",
       "      <td>Neutral</td>\n",
       "      <td>0.0000</td>\n",
       "      <td>1.0590</td>\n",
       "      <td>Comprado</td>\n",
       "      <td>-0.3856</td>\n",
       "    </tr>\n",
       "    <tr>\n",
       "      <th>2020-10-02</th>\n",
       "      <td>48.76</td>\n",
       "      <td>49.57</td>\n",
       "      <td>48.56</td>\n",
       "      <td>49.51</td>\n",
       "      <td>9372559</td>\n",
       "      <td>0.6688</td>\n",
       "      <td>0.9907</td>\n",
       "      <td>Neutral</td>\n",
       "      <td>0.0000</td>\n",
       "      <td>1.0572</td>\n",
       "      <td>Comprado</td>\n",
       "      <td>0.6688</td>\n",
       "    </tr>\n",
       "  </tbody>\n",
       "</table>\n",
       "<p>846 rows × 12 columns</p>\n",
       "</div>"
      ],
      "text/plain": [
       "             Open   High    Low  Close    Volume   logDR  Cruce_1  Estado_1  \\\n",
       "Date                                                                          \n",
       "2017-05-25  40.10  40.53  40.07  40.46  16704200  0.8190   1.0169   Neutral   \n",
       "2017-05-26  40.41  40.60  40.39  40.45  11341400 -0.0247   1.0211   Neutral   \n",
       "2017-05-30  40.24  40.51  40.20  40.48  13093500  0.0741   1.0242  Comprado   \n",
       "2017-05-31  40.48  40.72  40.43  40.52  14148000  0.0988   1.0266  Comprado   \n",
       "2017-06-01  40.50  40.80  40.30  40.80  11049300  0.6886   1.0272  Comprado   \n",
       "...           ...    ...    ...    ...       ...     ...      ...       ...   \n",
       "2020-09-28  49.31  49.71  49.14  49.28  11215700  1.1429   0.9822   Neutral   \n",
       "2020-09-29  49.39  49.56  48.91  48.92  12426600 -0.7332   0.9794   Neutral   \n",
       "2020-09-30  49.27  49.62  48.89  49.37  15755900  0.9157   0.9835   Vendido   \n",
       "2020-10-01  49.44  49.66  48.59  49.18  17575300 -0.3856   0.9870   Neutral   \n",
       "2020-10-02  48.76  49.57  48.56  49.51   9372559  0.6688   0.9907   Neutral   \n",
       "\n",
       "            Estrategia_1  Cruce_2  Estado_2  Estrategia_2  \n",
       "Date                                                       \n",
       "2017-05-25        0.0000   1.0393   Neutral        0.0000  \n",
       "2017-05-26        0.0000   1.0410  Comprado       -0.0247  \n",
       "2017-05-30        0.0741   1.0426  Comprado        0.0741  \n",
       "2017-05-31        0.0988   1.0441  Comprado        0.0988  \n",
       "2017-06-01        0.6886   1.0459  Comprado        0.6886  \n",
       "...                  ...      ...       ...           ...  \n",
       "2020-09-28        0.0000   1.0633  Comprado        1.1429  \n",
       "2020-09-29        0.0000   1.0619  Comprado       -0.7332  \n",
       "2020-09-30       -0.9157   1.0617  Comprado        0.9157  \n",
       "2020-10-01        0.0000   1.0590  Comprado       -0.3856  \n",
       "2020-10-02        0.0000   1.0572  Comprado        0.6688  \n",
       "\n",
       "[846 rows x 12 columns]"
      ]
     },
     "execution_count": 4,
     "metadata": {},
     "output_type": "execute_result"
    }
   ],
   "source": [
    "df = yf.download('KO', auto_adjust=True, start='2017-01-01')\n",
    "\n",
    "fast_1, slow_1 = 5, 20\n",
    "fast_2, slow_2 = 20, 100\n",
    "\n",
    "df['logDR'] = np.log(df.Close/df.Close.shift()) * 100\n",
    "\n",
    "df['Cruce_1'] = df.Close.rolling(fast_1).mean() / df.Close.rolling(slow_1).mean() \n",
    "df['Estado_1'] = np.where(df.Cruce_1.shift() > 1.02 , 'Comprado', np.where(df.Cruce_1.shift() < 0.98, 'Vendido', 'Neutral'))\n",
    "df['Estrategia_1'] = np.where(df.Estado_1=='Comprado', df.logDR, np.where( df.Estado_1=='Vendido' , -df.logDR  , 0 ) )\n",
    "\n",
    "df['Cruce_2'] = df.Close.rolling(fast_2).mean() / df.Close.rolling(slow_2).mean() \n",
    "df['Estado_2'] = np.where(df.Cruce_2.shift() > 1.02 , 'Comprado', np.where(df.Cruce_2.shift() < 0.98, 'Vendido', 'Neutral'))\n",
    "df['Estrategia_2'] = np.where(df.Estado_2=='Comprado', df.logDR, np.where( df.Estado_2=='Vendido' , -df.logDR  , 0 ) )\n",
    "\n",
    "df = df.dropna().round(4)\n",
    "df"
   ]
  },
  {
   "cell_type": "code",
   "execution_count": 5,
   "metadata": {},
   "outputs": [
    {
     "data": {
      "text/plain": [
       "<matplotlib.axes._subplots.AxesSubplot at 0x1e6fd6c8fc8>"
      ]
     },
     "execution_count": 5,
     "metadata": {},
     "output_type": "execute_result"
    },
    {
     "data": {
      "image/png": "[encoded data removed]",
      "text/plain": [
       "<Figure size 432x288 with 1 Axes>"
      ]
     },
     "metadata": {
      "needs_background": "light"
     },
     "output_type": "display_data"
    }
   ],
   "source": [
    "portafolio = pd.DataFrame(index=df.index)\n",
    "\n",
    "portafolio['Estrategia_1'] = (df.Estrategia_1/100 + 1).cumprod()\n",
    "portafolio['Estrategia_2'] = (df.Estrategia_2/100 + 1).cumprod()\n",
    "#portafolio['Buy&Hold'] = (df.logDR/100 + 1).cumprod()\n",
    "\n",
    "portafolio.plot()"
   ]
  },
  {
   "cell_type": "code",
   "execution_count": null,
   "metadata": {},
   "outputs": [],
   "source": []
  },
  {
   "cell_type": "code",
   "execution_count": null,
   "metadata": {},
   "outputs": [],
   "source": []
  },
  {
   "cell_type": "code",
   "execution_count": null,
   "metadata": {},
   "outputs": [],
   "source": []
  },
  {
   "cell_type": "code",
   "execution_count": null,
   "metadata": {},
   "outputs": [],
   "source": []
  },
  {
   "cell_type": "code",
   "execution_count": null,
   "metadata": {},
   "outputs": [],
   "source": []
  },
  {
   "cell_type": "code",
   "execution_count": null,
   "metadata": {},
   "outputs": [],
   "source": []
  },
  {
   "cell_type": "code",
   "execution_count": null,
   "metadata": {},
   "outputs": [],
   "source": []
  },
  {
   "cell_type": "code",
   "execution_count": null,
   "metadata": {},
   "outputs": [],
   "source": []
  },
  {
   "cell_type": "markdown",
   "metadata": {},
   "source": [
    "\n",
    "# Analisis Combinatorio\n",
    "\n",
    "* Combinaciones (No importa el orden  AB es la misma combinacion que BA)\n",
    "    * Con repeticion\n",
    "    * Sin repeticion\n",
    "* Permutaciones (Importa el orden  AB es una permutacion y BA es otra permutacion )"
   ]
  },
  {
   "cell_type": "markdown",
   "metadata": {},
   "source": [
    "### Combinatoria"
   ]
  },
  {
   "cell_type": "markdown",
   "metadata": {},
   "source": [
    "Combinaciones de \"n\" elelmentos tomados de a \"i\""
   ]
  },
  {
   "cell_type": "markdown",
   "metadata": {},
   "source": [
    "$$ \\large  C \\binom{n}{i} = \\frac{n!}{i! (n-i)!} $$"
   ]
  },
  {
   "cell_type": "code",
   "execution_count": 6,
   "metadata": {},
   "outputs": [
    {
     "data": {
      "text/plain": [
       "45.0"
      ]
     },
     "execution_count": 6,
     "metadata": {},
     "output_type": "execute_result"
    }
   ],
   "source": [
    "import math\n",
    "\n",
    "# Combinaciones de 10 tomados de a 2\n",
    "c = math.factorial(10) / (math.factorial(2)*math.factorial(10-2))\n",
    "\n",
    "c"
   ]
  },
  {
   "cell_type": "code",
   "execution_count": null,
   "metadata": {},
   "outputs": [],
   "source": []
  },
  {
   "cell_type": "markdown",
   "metadata": {},
   "source": [
    "### Algos de Combinatoria"
   ]
  },
  {
   "cell_type": "code",
   "execution_count": 7,
   "metadata": {},
   "outputs": [
    {
     "name": "stdout",
     "output_type": "stream",
     "text": [
      "45 \n",
      "\n",
      " [[0, 1], [0, 2], [0, 3], [0, 4], [0, 5], [0, 6], [0, 7], [0, 8], [0, 9], [1, 2], [1, 3], [1, 4], [1, 5], [1, 6], [1, 7], [1, 8], [1, 9], [2, 3], [2, 4], [2, 5], [2, 6], [2, 7], [2, 8], [2, 9], [3, 4], [3, 5], [3, 6], [3, 7], [3, 8], [3, 9], [4, 5], [4, 6], [4, 7], [4, 8], [4, 9], [5, 6], [5, 7], [5, 8], [5, 9], [6, 7], [6, 8], [6, 9], [7, 8], [7, 9], [8, 9]]\n"
     ]
    }
   ],
   "source": [
    "numeros = [i for i in range(10)]\n",
    "\n",
    "combinaciones = []\n",
    "for i in range(len(numeros)):\n",
    "    for j in range(len(numeros)):\n",
    "        if j>i:\n",
    "            combinaciones.append([numeros[i],numeros[j]])\n",
    "\n",
    "print(len(combinaciones), '\\n\\n', combinaciones)"
   ]
  },
  {
   "cell_type": "markdown",
   "metadata": {},
   "source": [
    "### Y para que demonios voy a querer algos de combinatoria?"
   ]
  },
  {
   "cell_type": "markdown",
   "metadata": {},
   "source": [
    "Escucho ideas..."
   ]
  },
  {
   "cell_type": "markdown",
   "metadata": {},
   "source": [
    "* Screener\n",
    "* Clusterizacion\n",
    "* Parametrizaciones\n",
    "* Combinaciones de indicadores o ratios\n",
    "\n",
    "* Combinaciones de conjuntos discretizables"
   ]
  },
  {
   "cell_type": "code",
   "execution_count": null,
   "metadata": {},
   "outputs": [],
   "source": []
  },
  {
   "cell_type": "code",
   "execution_count": null,
   "metadata": {},
   "outputs": [],
   "source": []
  },
  {
   "cell_type": "code",
   "execution_count": null,
   "metadata": {},
   "outputs": [],
   "source": []
  },
  {
   "cell_type": "code",
   "execution_count": null,
   "metadata": {},
   "outputs": [],
   "source": []
  },
  {
   "cell_type": "code",
   "execution_count": null,
   "metadata": {},
   "outputs": [],
   "source": []
  },
  {
   "cell_type": "code",
   "execution_count": null,
   "metadata": {},
   "outputs": [],
   "source": []
  },
  {
   "cell_type": "code",
   "execution_count": null,
   "metadata": {},
   "outputs": [],
   "source": []
  },
  {
   "cell_type": "code",
   "execution_count": 8,
   "metadata": {},
   "outputs": [
    {
     "data": {
      "text/plain": [
       "[['GGAL', 'PAM'],\n",
       " ['GGAL', 'TGS'],\n",
       " ['GGAL', 'YPF'],\n",
       " ['GGAL', 'EDN'],\n",
       " ['PAM', 'TGS'],\n",
       " ['PAM', 'YPF'],\n",
       " ['PAM', 'EDN'],\n",
       " ['TGS', 'YPF'],\n",
       " ['TGS', 'EDN'],\n",
       " ['YPF', 'EDN']]"
      ]
     },
     "execution_count": 8,
     "metadata": {},
     "output_type": "execute_result"
    }
   ],
   "source": [
    "activos = [\"GGAL\", \"PAM\",\"TGS\",\"YPF\",\"EDN\"]\n",
    "\n",
    "combinaciones = []\n",
    "for i in range(len(activos)):\n",
    "    for j in range(len(activos)):\n",
    "        if j>i:\n",
    "            combinaciones.append([activos[i],activos[j]])\n",
    "            \n",
    "combinaciones"
   ]
  },
  {
   "cell_type": "code",
   "execution_count": 9,
   "metadata": {},
   "outputs": [
    {
     "data": {
      "text/plain": [
       "[('GGAL', 'PAM'),\n",
       " ('GGAL', 'TGS'),\n",
       " ('GGAL', 'YPF'),\n",
       " ('GGAL', 'EDN'),\n",
       " ('PAM', 'TGS'),\n",
       " ('PAM', 'YPF'),\n",
       " ('PAM', 'EDN'),\n",
       " ('TGS', 'YPF'),\n",
       " ('TGS', 'EDN'),\n",
       " ('YPF', 'EDN')]"
      ]
     },
     "execution_count": 9,
     "metadata": {},
     "output_type": "execute_result"
    }
   ],
   "source": [
    "import itertools as it\n",
    "\n",
    "list(it.combinations(activos,2))"
   ]
  },
  {
   "cell_type": "code",
   "execution_count": 10,
   "metadata": {},
   "outputs": [
    {
     "data": {
      "text/plain": [
       "[('GGAL', 'PAM'),\n",
       " ('GGAL', 'TGS'),\n",
       " ('GGAL', 'YPF'),\n",
       " ('GGAL', 'EDN'),\n",
       " ('PAM', 'TGS'),\n",
       " ('PAM', 'YPF'),\n",
       " ('PAM', 'EDN'),\n",
       " ('TGS', 'YPF'),\n",
       " ('TGS', 'EDN'),\n",
       " ('YPF', 'EDN')]"
      ]
     },
     "execution_count": 10,
     "metadata": {},
     "output_type": "execute_result"
    }
   ],
   "source": [
    "[comb for comb in it.combinations(activos,2) ]"
   ]
  },
  {
   "cell_type": "code",
   "execution_count": null,
   "metadata": {},
   "outputs": [],
   "source": []
  },
  {
   "cell_type": "markdown",
   "metadata": {},
   "source": [
    "# MPT"
   ]
  },
  {
   "cell_type": "markdown",
   "metadata": {},
   "source": [
    "## Algunas cositas previas"
   ]
  },
  {
   "cell_type": "markdown",
   "metadata": {},
   "source": [
    "### Importacion de datos "
   ]
  },
  {
   "cell_type": "code",
   "execution_count": 11,
   "metadata": {},
   "outputs": [
    {
     "name": "stdout",
     "output_type": "stream",
     "text": [
      "[*********************100%***********************]  4 of 4 downloaded\n"
     ]
    },
    {
     "data": {
      "text/html": [
       "<div>\n",
       "<style scoped>\n",
       "    .dataframe tbody tr th:only-of-type {\n",
       "        vertical-align: middle;\n",
       "    }\n",
       "\n",
       "    .dataframe tbody tr th {\n",
       "        vertical-align: top;\n",
       "    }\n",
       "\n",
       "    .dataframe thead th {\n",
       "        text-align: right;\n",
       "    }\n",
       "</style>\n",
       "<table border=\"1\" class=\"dataframe\">\n",
       "  <thead>\n",
       "    <tr style=\"text-align: right;\">\n",
       "      <th></th>\n",
       "      <th>AMZN</th>\n",
       "      <th>NFLX</th>\n",
       "      <th>SQQQ</th>\n",
       "      <th>TSLA</th>\n",
       "    </tr>\n",
       "    <tr>\n",
       "      <th>Date</th>\n",
       "      <th></th>\n",
       "      <th></th>\n",
       "      <th></th>\n",
       "      <th></th>\n",
       "    </tr>\n",
       "  </thead>\n",
       "  <tbody>\n",
       "    <tr>\n",
       "      <th>2000-01-03</th>\n",
       "      <td>89.38</td>\n",
       "      <td>NaN</td>\n",
       "      <td>NaN</td>\n",
       "      <td>NaN</td>\n",
       "    </tr>\n",
       "    <tr>\n",
       "      <th>2000-01-04</th>\n",
       "      <td>81.94</td>\n",
       "      <td>NaN</td>\n",
       "      <td>NaN</td>\n",
       "      <td>NaN</td>\n",
       "    </tr>\n",
       "    <tr>\n",
       "      <th>2000-01-05</th>\n",
       "      <td>69.75</td>\n",
       "      <td>NaN</td>\n",
       "      <td>NaN</td>\n",
       "      <td>NaN</td>\n",
       "    </tr>\n",
       "    <tr>\n",
       "      <th>2000-01-06</th>\n",
       "      <td>65.56</td>\n",
       "      <td>NaN</td>\n",
       "      <td>NaN</td>\n",
       "      <td>NaN</td>\n",
       "    </tr>\n",
       "    <tr>\n",
       "      <th>2000-01-07</th>\n",
       "      <td>69.56</td>\n",
       "      <td>NaN</td>\n",
       "      <td>NaN</td>\n",
       "      <td>NaN</td>\n",
       "    </tr>\n",
       "  </tbody>\n",
       "</table>\n",
       "</div>"
      ],
      "text/plain": [
       "             AMZN  NFLX  SQQQ  TSLA\n",
       "Date                               \n",
       "2000-01-03  89.38   NaN   NaN   NaN\n",
       "2000-01-04  81.94   NaN   NaN   NaN\n",
       "2000-01-05  69.75   NaN   NaN   NaN\n",
       "2000-01-06  65.56   NaN   NaN   NaN\n",
       "2000-01-07  69.56   NaN   NaN   NaN"
      ]
     },
     "execution_count": 11,
     "metadata": {},
     "output_type": "execute_result"
    }
   ],
   "source": [
    "import yfinance as yf\n",
    "import pandas as pd\n",
    "import numpy as np\n",
    "\n",
    "data = yf.download(['AMZN','TSLA','NFLX','SQQQ'], start='2000-01-01', end='2021-01-01')['Adj Close']\n",
    "data.head()"
   ]
  },
  {
   "cell_type": "markdown",
   "metadata": {},
   "source": [
    "### Filtrado de los ceros"
   ]
  },
  {
   "cell_type": "code",
   "execution_count": 12,
   "metadata": {},
   "outputs": [
    {
     "data": {
      "text/html": [
       "<div>\n",
       "<style scoped>\n",
       "    .dataframe tbody tr th:only-of-type {\n",
       "        vertical-align: middle;\n",
       "    }\n",
       "\n",
       "    .dataframe tbody tr th {\n",
       "        vertical-align: top;\n",
       "    }\n",
       "\n",
       "    .dataframe thead th {\n",
       "        text-align: right;\n",
       "    }\n",
       "</style>\n",
       "<table border=\"1\" class=\"dataframe\">\n",
       "  <thead>\n",
       "    <tr style=\"text-align: right;\">\n",
       "      <th></th>\n",
       "      <th>a</th>\n",
       "      <th>b</th>\n",
       "    </tr>\n",
       "  </thead>\n",
       "  <tbody>\n",
       "    <tr>\n",
       "      <th>0</th>\n",
       "      <td>0</td>\n",
       "      <td>1</td>\n",
       "    </tr>\n",
       "    <tr>\n",
       "      <th>1</th>\n",
       "      <td>12</td>\n",
       "      <td>2</td>\n",
       "    </tr>\n",
       "    <tr>\n",
       "      <th>2</th>\n",
       "      <td>13</td>\n",
       "      <td>3</td>\n",
       "    </tr>\n",
       "    <tr>\n",
       "      <th>3</th>\n",
       "      <td>14</td>\n",
       "      <td>4</td>\n",
       "    </tr>\n",
       "  </tbody>\n",
       "</table>\n",
       "</div>"
      ],
      "text/plain": [
       "    a  b\n",
       "0   0  1\n",
       "1  12  2\n",
       "2  13  3\n",
       "3  14  4"
      ]
     },
     "execution_count": 12,
     "metadata": {},
     "output_type": "execute_result"
    }
   ],
   "source": [
    "lista = [0,12,13,14]\n",
    "lista2 = [1,2,3,4]\n",
    "df = pd.DataFrame(list(zip(lista,lista2)), columns=['a','b'])\n",
    "df"
   ]
  },
  {
   "cell_type": "code",
   "execution_count": 13,
   "metadata": {},
   "outputs": [
    {
     "data": {
      "text/html": [
       "<div>\n",
       "<style scoped>\n",
       "    .dataframe tbody tr th:only-of-type {\n",
       "        vertical-align: middle;\n",
       "    }\n",
       "\n",
       "    .dataframe tbody tr th {\n",
       "        vertical-align: top;\n",
       "    }\n",
       "\n",
       "    .dataframe thead th {\n",
       "        text-align: right;\n",
       "    }\n",
       "</style>\n",
       "<table border=\"1\" class=\"dataframe\">\n",
       "  <thead>\n",
       "    <tr style=\"text-align: right;\">\n",
       "      <th></th>\n",
       "      <th>a</th>\n",
       "      <th>b</th>\n",
       "    </tr>\n",
       "  </thead>\n",
       "  <tbody>\n",
       "    <tr>\n",
       "      <th>0</th>\n",
       "      <td>0</td>\n",
       "      <td>1</td>\n",
       "    </tr>\n",
       "  </tbody>\n",
       "</table>\n",
       "</div>"
      ],
      "text/plain": [
       "   a  b\n",
       "0  0  1"
      ]
     },
     "execution_count": 13,
     "metadata": {},
     "output_type": "execute_result"
    }
   ],
   "source": [
    "df_ceros = df.loc[(df==0).any(axis=1)]\n",
    "df_ceros"
   ]
  },
  {
   "cell_type": "code",
   "execution_count": 14,
   "metadata": {
    "scrolled": true
   },
   "outputs": [
    {
     "data": {
      "text/html": [
       "<div>\n",
       "<style scoped>\n",
       "    .dataframe tbody tr th:only-of-type {\n",
       "        vertical-align: middle;\n",
       "    }\n",
       "\n",
       "    .dataframe tbody tr th {\n",
       "        vertical-align: top;\n",
       "    }\n",
       "\n",
       "    .dataframe thead th {\n",
       "        text-align: right;\n",
       "    }\n",
       "</style>\n",
       "<table border=\"1\" class=\"dataframe\">\n",
       "  <thead>\n",
       "    <tr style=\"text-align: right;\">\n",
       "      <th></th>\n",
       "      <th>a</th>\n",
       "      <th>b</th>\n",
       "    </tr>\n",
       "  </thead>\n",
       "  <tbody>\n",
       "    <tr>\n",
       "      <th>1</th>\n",
       "      <td>12</td>\n",
       "      <td>2</td>\n",
       "    </tr>\n",
       "    <tr>\n",
       "      <th>2</th>\n",
       "      <td>13</td>\n",
       "      <td>3</td>\n",
       "    </tr>\n",
       "    <tr>\n",
       "      <th>3</th>\n",
       "      <td>14</td>\n",
       "      <td>4</td>\n",
       "    </tr>\n",
       "  </tbody>\n",
       "</table>\n",
       "</div>"
      ],
      "text/plain": [
       "    a  b\n",
       "1  12  2\n",
       "2  13  3\n",
       "3  14  4"
      ]
     },
     "execution_count": 14,
     "metadata": {},
     "output_type": "execute_result"
    }
   ],
   "source": [
    "df_sin_ceros = df.loc[~(df==0).any(axis=1)]\n",
    "df_sin_ceros"
   ]
  },
  {
   "cell_type": "code",
   "execution_count": 15,
   "metadata": {},
   "outputs": [
    {
     "data": {
      "text/html": [
       "<div>\n",
       "<style scoped>\n",
       "    .dataframe tbody tr th:only-of-type {\n",
       "        vertical-align: middle;\n",
       "    }\n",
       "\n",
       "    .dataframe tbody tr th {\n",
       "        vertical-align: top;\n",
       "    }\n",
       "\n",
       "    .dataframe thead th {\n",
       "        text-align: right;\n",
       "    }\n",
       "</style>\n",
       "<table border=\"1\" class=\"dataframe\">\n",
       "  <thead>\n",
       "    <tr style=\"text-align: right;\">\n",
       "      <th></th>\n",
       "      <th>a</th>\n",
       "      <th>b</th>\n",
       "    </tr>\n",
       "  </thead>\n",
       "  <tbody>\n",
       "    <tr>\n",
       "      <th>1</th>\n",
       "      <td>12</td>\n",
       "      <td>2</td>\n",
       "    </tr>\n",
       "    <tr>\n",
       "      <th>2</th>\n",
       "      <td>13</td>\n",
       "      <td>3</td>\n",
       "    </tr>\n",
       "    <tr>\n",
       "      <th>3</th>\n",
       "      <td>14</td>\n",
       "      <td>4</td>\n",
       "    </tr>\n",
       "  </tbody>\n",
       "</table>\n",
       "</div>"
      ],
      "text/plain": [
       "    a  b\n",
       "1  12  2\n",
       "2  13  3\n",
       "3  14  4"
      ]
     },
     "execution_count": 15,
     "metadata": {},
     "output_type": "execute_result"
    }
   ],
   "source": [
    "lista = [0,12,13,14]\n",
    "lista2 = [1,2,3,4]\n",
    "df = pd.DataFrame(list(zip(lista,lista2)), columns=['a','b'])\n",
    "\n",
    "df.loc[df.a!=0]"
   ]
  },
  {
   "cell_type": "code",
   "execution_count": null,
   "metadata": {},
   "outputs": [],
   "source": []
  },
  {
   "cell_type": "code",
   "execution_count": 16,
   "metadata": {},
   "outputs": [
    {
     "data": {
      "text/html": [
       "<div>\n",
       "<style scoped>\n",
       "    .dataframe tbody tr th:only-of-type {\n",
       "        vertical-align: middle;\n",
       "    }\n",
       "\n",
       "    .dataframe tbody tr th {\n",
       "        vertical-align: top;\n",
       "    }\n",
       "\n",
       "    .dataframe thead th {\n",
       "        text-align: right;\n",
       "    }\n",
       "</style>\n",
       "<table border=\"1\" class=\"dataframe\">\n",
       "  <thead>\n",
       "    <tr style=\"text-align: right;\">\n",
       "      <th></th>\n",
       "      <th>b</th>\n",
       "    </tr>\n",
       "  </thead>\n",
       "  <tbody>\n",
       "    <tr>\n",
       "      <th>0</th>\n",
       "      <td>1</td>\n",
       "    </tr>\n",
       "    <tr>\n",
       "      <th>1</th>\n",
       "      <td>2</td>\n",
       "    </tr>\n",
       "    <tr>\n",
       "      <th>2</th>\n",
       "      <td>3</td>\n",
       "    </tr>\n",
       "    <tr>\n",
       "      <th>3</th>\n",
       "      <td>4</td>\n",
       "    </tr>\n",
       "  </tbody>\n",
       "</table>\n",
       "</div>"
      ],
      "text/plain": [
       "   b\n",
       "0  1\n",
       "1  2\n",
       "2  3\n",
       "3  4"
      ]
     },
     "execution_count": 16,
     "metadata": {},
     "output_type": "execute_result"
    }
   ],
   "source": [
    "lista = [0,12,13,14]\n",
    "lista2 = [1,2,3,4]\n",
    "df = pd.DataFrame(list(zip(lista,lista2)), columns=['a','b'])\n",
    "\n",
    "df.loc[:, (df != 0).all(axis=0)]"
   ]
  },
  {
   "cell_type": "code",
   "execution_count": null,
   "metadata": {},
   "outputs": [],
   "source": []
  },
  {
   "cell_type": "code",
   "execution_count": null,
   "metadata": {},
   "outputs": [],
   "source": []
  },
  {
   "cell_type": "code",
   "execution_count": null,
   "metadata": {},
   "outputs": [],
   "source": []
  },
  {
   "cell_type": "code",
   "execution_count": null,
   "metadata": {},
   "outputs": [],
   "source": []
  },
  {
   "cell_type": "markdown",
   "metadata": {},
   "source": [
    "### Retornos logaritmicos"
   ]
  },
  {
   "cell_type": "code",
   "execution_count": 17,
   "metadata": {},
   "outputs": [
    {
     "data": {
      "text/html": [
       "<div>\n",
       "<style scoped>\n",
       "    .dataframe tbody tr th:only-of-type {\n",
       "        vertical-align: middle;\n",
       "    }\n",
       "\n",
       "    .dataframe tbody tr th {\n",
       "        vertical-align: top;\n",
       "    }\n",
       "\n",
       "    .dataframe thead th {\n",
       "        text-align: right;\n",
       "    }\n",
       "</style>\n",
       "<table border=\"1\" class=\"dataframe\">\n",
       "  <thead>\n",
       "    <tr style=\"text-align: right;\">\n",
       "      <th></th>\n",
       "      <th>AMZN</th>\n",
       "      <th>NFLX</th>\n",
       "      <th>SQQQ</th>\n",
       "      <th>TSLA</th>\n",
       "    </tr>\n",
       "    <tr>\n",
       "      <th>Date</th>\n",
       "      <th></th>\n",
       "      <th></th>\n",
       "      <th></th>\n",
       "      <th></th>\n",
       "    </tr>\n",
       "  </thead>\n",
       "  <tbody>\n",
       "    <tr>\n",
       "      <th>2010-06-30</th>\n",
       "      <td>0.596688</td>\n",
       "      <td>-3.544675</td>\n",
       "      <td>4.790663</td>\n",
       "      <td>-0.209424</td>\n",
       "    </tr>\n",
       "    <tr>\n",
       "      <th>2010-07-01</th>\n",
       "      <td>1.543941</td>\n",
       "      <td>0.961854</td>\n",
       "      <td>0.942195</td>\n",
       "      <td>-8.301708</td>\n",
       "    </tr>\n",
       "    <tr>\n",
       "      <th>2010-07-02</th>\n",
       "      <td>-1.653831</td>\n",
       "      <td>-2.389523</td>\n",
       "      <td>0.824100</td>\n",
       "      <td>-13.385686</td>\n",
       "    </tr>\n",
       "    <tr>\n",
       "      <th>2010-07-06</th>\n",
       "      <td>0.839421</td>\n",
       "      <td>0.130634</td>\n",
       "      <td>-0.934471</td>\n",
       "      <td>-17.609101</td>\n",
       "    </tr>\n",
       "    <tr>\n",
       "      <th>2010-07-07</th>\n",
       "      <td>3.016023</td>\n",
       "      <td>9.992803</td>\n",
       "      <td>-9.934987</td>\n",
       "      <td>-1.880933</td>\n",
       "    </tr>\n",
       "  </tbody>\n",
       "</table>\n",
       "</div>"
      ],
      "text/plain": [
       "                AMZN      NFLX      SQQQ       TSLA\n",
       "Date                                               \n",
       "2010-06-30  0.596688 -3.544675  4.790663  -0.209424\n",
       "2010-07-01  1.543941  0.961854  0.942195  -8.301708\n",
       "2010-07-02 -1.653831 -2.389523  0.824100 -13.385686\n",
       "2010-07-06  0.839421  0.130634 -0.934471 -17.609101\n",
       "2010-07-07  3.016023  9.992803 -9.934987  -1.880933"
      ]
     },
     "execution_count": 17,
     "metadata": {},
     "output_type": "execute_result"
    }
   ],
   "source": [
    "retornos = np.log((data/data.shift(1)).dropna())*100\n",
    "retornos.head()"
   ]
  },
  {
   "cell_type": "code",
   "execution_count": 18,
   "metadata": {},
   "outputs": [
    {
     "data": {
      "text/html": [
       "<div>\n",
       "<style scoped>\n",
       "    .dataframe tbody tr th:only-of-type {\n",
       "        vertical-align: middle;\n",
       "    }\n",
       "\n",
       "    .dataframe tbody tr th {\n",
       "        vertical-align: top;\n",
       "    }\n",
       "\n",
       "    .dataframe thead th {\n",
       "        text-align: right;\n",
       "    }\n",
       "</style>\n",
       "<table border=\"1\" class=\"dataframe\">\n",
       "  <thead>\n",
       "    <tr style=\"text-align: right;\">\n",
       "      <th></th>\n",
       "      <th>AMZN</th>\n",
       "      <th>NFLX</th>\n",
       "      <th>SQQQ</th>\n",
       "      <th>TSLA</th>\n",
       "    </tr>\n",
       "  </thead>\n",
       "  <tbody>\n",
       "    <tr>\n",
       "      <th>AMZN</th>\n",
       "      <td>3.910990</td>\n",
       "      <td>2.592558</td>\n",
       "      <td>-4.889842</td>\n",
       "      <td>2.237344</td>\n",
       "    </tr>\n",
       "    <tr>\n",
       "      <th>NFLX</th>\n",
       "      <td>2.592558</td>\n",
       "      <td>10.421225</td>\n",
       "      <td>-4.903837</td>\n",
       "      <td>2.882903</td>\n",
       "    </tr>\n",
       "    <tr>\n",
       "      <th>SQQQ</th>\n",
       "      <td>-4.889842</td>\n",
       "      <td>-4.903837</td>\n",
       "      <td>13.257056</td>\n",
       "      <td>-5.703496</td>\n",
       "    </tr>\n",
       "    <tr>\n",
       "      <th>TSLA</th>\n",
       "      <td>2.237344</td>\n",
       "      <td>2.882903</td>\n",
       "      <td>-5.703496</td>\n",
       "      <td>12.489576</td>\n",
       "    </tr>\n",
       "  </tbody>\n",
       "</table>\n",
       "</div>"
      ],
      "text/plain": [
       "          AMZN       NFLX       SQQQ       TSLA\n",
       "AMZN  3.910990   2.592558  -4.889842   2.237344\n",
       "NFLX  2.592558  10.421225  -4.903837   2.882903\n",
       "SQQQ -4.889842  -4.903837  13.257056  -5.703496\n",
       "TSLA  2.237344   2.882903  -5.703496  12.489576"
      ]
     },
     "execution_count": 18,
     "metadata": {},
     "output_type": "execute_result"
    }
   ],
   "source": [
    "retornos.cov()"
   ]
  },
  {
   "cell_type": "code",
   "execution_count": 19,
   "metadata": {},
   "outputs": [
    {
     "data": {
      "text/html": [
       "<div>\n",
       "<style scoped>\n",
       "    .dataframe tbody tr th:only-of-type {\n",
       "        vertical-align: middle;\n",
       "    }\n",
       "\n",
       "    .dataframe tbody tr th {\n",
       "        vertical-align: top;\n",
       "    }\n",
       "\n",
       "    .dataframe thead th {\n",
       "        text-align: right;\n",
       "    }\n",
       "</style>\n",
       "<table border=\"1\" class=\"dataframe\">\n",
       "  <thead>\n",
       "    <tr style=\"text-align: right;\">\n",
       "      <th></th>\n",
       "      <th>AMZN</th>\n",
       "      <th>NFLX</th>\n",
       "      <th>SQQQ</th>\n",
       "      <th>TSLA</th>\n",
       "    </tr>\n",
       "  </thead>\n",
       "  <tbody>\n",
       "    <tr>\n",
       "      <th>AMZN</th>\n",
       "      <td>1.000000</td>\n",
       "      <td>0.406093</td>\n",
       "      <td>-0.679091</td>\n",
       "      <td>0.320122</td>\n",
       "    </tr>\n",
       "    <tr>\n",
       "      <th>NFLX</th>\n",
       "      <td>0.406093</td>\n",
       "      <td>1.000000</td>\n",
       "      <td>-0.417208</td>\n",
       "      <td>0.252695</td>\n",
       "    </tr>\n",
       "    <tr>\n",
       "      <th>SQQQ</th>\n",
       "      <td>-0.679091</td>\n",
       "      <td>-0.417208</td>\n",
       "      <td>1.000000</td>\n",
       "      <td>-0.443245</td>\n",
       "    </tr>\n",
       "    <tr>\n",
       "      <th>TSLA</th>\n",
       "      <td>0.320122</td>\n",
       "      <td>0.252695</td>\n",
       "      <td>-0.443245</td>\n",
       "      <td>1.000000</td>\n",
       "    </tr>\n",
       "  </tbody>\n",
       "</table>\n",
       "</div>"
      ],
      "text/plain": [
       "          AMZN      NFLX      SQQQ      TSLA\n",
       "AMZN  1.000000  0.406093 -0.679091  0.320122\n",
       "NFLX  0.406093  1.000000 -0.417208  0.252695\n",
       "SQQQ -0.679091 -0.417208  1.000000 -0.443245\n",
       "TSLA  0.320122  0.252695 -0.443245  1.000000"
      ]
     },
     "execution_count": 19,
     "metadata": {},
     "output_type": "execute_result"
    }
   ],
   "source": [
    "retornos.corr()"
   ]
  },
  {
   "cell_type": "code",
   "execution_count": null,
   "metadata": {},
   "outputs": [],
   "source": []
  },
  {
   "cell_type": "code",
   "execution_count": null,
   "metadata": {},
   "outputs": [],
   "source": []
  },
  {
   "cell_type": "markdown",
   "metadata": {},
   "source": [
    "### Ponderaciones al azar"
   ]
  },
  {
   "cell_type": "code",
   "execution_count": 20,
   "metadata": {},
   "outputs": [
    {
     "data": {
      "text/plain": [
       "array([0.28571429, 0.32142857, 0.17857143, 0.21428571])"
      ]
     },
     "execution_count": 20,
     "metadata": {},
     "output_type": "execute_result"
    }
   ],
   "source": [
    "p = np.array([0.8, 0.9, 0.5, 0.6])\n",
    "suma = sum(p)\n",
    "p/suma"
   ]
  },
  {
   "cell_type": "code",
   "execution_count": 21,
   "metadata": {},
   "outputs": [
    {
     "data": {
      "text/plain": [
       "array([2.89640161e-01, 5.00297106e-01, 7.94383512e-05, 2.09983296e-01])"
      ]
     },
     "execution_count": 21,
     "metadata": {},
     "output_type": "execute_result"
    }
   ],
   "source": [
    "np.random.seed(1)\n",
    "\n",
    "pond = np.array(np.random.random(len(data.columns)))\n",
    "pond = pond/np.sum(pond)\n",
    "pond"
   ]
  },
  {
   "cell_type": "markdown",
   "metadata": {},
   "source": [
    "### Explicación de MPT"
   ]
  },
  {
   "cell_type": "markdown",
   "metadata": {},
   "source": [
    "https://en.wikipedia.org/wiki/Modern_portfolio_theory"
   ]
  },
  {
   "cell_type": "markdown",
   "metadata": {},
   "source": [
    "$$ \\Large R_{p} = \\sum _{i} w_{i} R_{i}\\quad $$"
   ]
  },
  {
   "cell_type": "markdown",
   "metadata": {},
   "source": [
    "$$ \\Large \\sigma _{p}^{2}=\\sum _{i}\\sum _{j}w_{i}w_{j}\\sigma _{ij} $$"
   ]
  },
  {
   "cell_type": "markdown",
   "metadata": {},
   "source": [
    "### Cálculo de sharpe de cartera"
   ]
  },
  {
   "cell_type": "code",
   "execution_count": 22,
   "metadata": {
    "scrolled": true
   },
   "outputs": [
    {
     "data": {
      "text/plain": [
       "{'retorno': 35.44609318940535,\n",
       " 'volatilidad': 35.90456045074789,\n",
       " 'sharpe': 0.9872309462757123,\n",
       " 'ponderaciones': array([0.29, 0.5 , 0.  , 0.21])}"
      ]
     },
     "execution_count": 22,
     "metadata": {},
     "output_type": "execute_result"
    }
   ],
   "source": [
    "r={}\n",
    "\n",
    "r['retorno'] = np.sum( (retornos.mean() * pond * 252))\n",
    "\n",
    "r['volatilidad'] = np.sqrt(np.dot(pond, np.dot(retornos.cov()*252, pond)))\n",
    "\n",
    "r['sharpe'] = r['retorno'] / r['volatilidad'] \n",
    "r['ponderaciones'] = pond.round(2)\n",
    "r"
   ]
  },
  {
   "cell_type": "code",
   "execution_count": null,
   "metadata": {},
   "outputs": [],
   "source": []
  },
  {
   "cell_type": "code",
   "execution_count": null,
   "metadata": {},
   "outputs": [],
   "source": []
  },
  {
   "cell_type": "code",
   "execution_count": null,
   "metadata": {},
   "outputs": [],
   "source": []
  },
  {
   "cell_type": "code",
   "execution_count": null,
   "metadata": {},
   "outputs": [],
   "source": []
  },
  {
   "cell_type": "markdown",
   "metadata": {},
   "source": [
    "### Doble producto matricial ponderaciones por mat_covarianzas"
   ]
  },
  {
   "cell_type": "code",
   "execution_count": 64,
   "metadata": {
    "scrolled": true
   },
   "outputs": [
    {
     "data": {
      "text/plain": [
       "array([[6., 5., 1.],\n",
       "       [4., 7., 2.],\n",
       "       [6., 2., 8.]])"
      ]
     },
     "execution_count": 64,
     "metadata": {},
     "output_type": "execute_result"
    }
   ],
   "source": [
    "mat_cov = (np.random.rand(3,3)*10).round()\n",
    "mat_cov"
   ]
  },
  {
   "cell_type": "code",
   "execution_count": 24,
   "metadata": {
    "scrolled": true
   },
   "outputs": [
    {
     "data": {
      "text/plain": [
       "array([ 3., 11., 18.])"
      ]
     },
     "execution_count": 24,
     "metadata": {},
     "output_type": "execute_result"
    }
   ],
   "source": [
    "p  = [1,2,0]\n",
    "\n",
    "pm1 = np.dot(mat_cov,p)\n",
    "pm1"
   ]
  },
  {
   "cell_type": "code",
   "execution_count": 25,
   "metadata": {},
   "outputs": [
    {
     "data": {
      "text/plain": [
       "25.0"
      ]
     },
     "execution_count": 25,
     "metadata": {},
     "output_type": "execute_result"
    }
   ],
   "source": [
    "pm2 = np.dot(p,pm1)\n",
    "pm2"
   ]
  },
  {
   "cell_type": "raw",
   "metadata": {},
   "source": [
    "m*n   dot   n*k   =  m*k\n",
    "3*3   dot   3*1   =  3*1\n"
   ]
  },
  {
   "cell_type": "code",
   "execution_count": null,
   "metadata": {},
   "outputs": [],
   "source": []
  },
  {
   "cell_type": "markdown",
   "metadata": {},
   "source": [
    "# Markowitz - I"
   ]
  },
  {
   "cell_type": "code",
   "execution_count": 26,
   "metadata": {},
   "outputs": [
    {
     "name": "stdout",
     "output_type": "stream",
     "text": [
      "[*********************100%***********************]  2 of 2 downloaded\n"
     ]
    }
   ],
   "source": [
    "import yfinance as yf\n",
    "import pandas as pd\n",
    "\n",
    "df = yf.download(['PYPL','AAPL'], start='2010-01-01', end='2021-01-01')['Adj Close']\n",
    "df = df.loc[~(df==0).any(axis=1)] \n",
    "retornos = np.log((df/df.shift(1)).dropna())"
   ]
  },
  {
   "cell_type": "code",
   "execution_count": 27,
   "metadata": {},
   "outputs": [
    {
     "data": {
      "text/html": [
       "<div>\n",
       "<style scoped>\n",
       "    .dataframe tbody tr th:only-of-type {\n",
       "        vertical-align: middle;\n",
       "    }\n",
       "\n",
       "    .dataframe tbody tr th {\n",
       "        vertical-align: top;\n",
       "    }\n",
       "\n",
       "    .dataframe thead th {\n",
       "        text-align: right;\n",
       "    }\n",
       "</style>\n",
       "<table border=\"1\" class=\"dataframe\">\n",
       "  <thead>\n",
       "    <tr style=\"text-align: right;\">\n",
       "      <th></th>\n",
       "      <th>retorno</th>\n",
       "      <th>volatilidad</th>\n",
       "      <th>sharpe</th>\n",
       "    </tr>\n",
       "    <tr>\n",
       "      <th>ticker</th>\n",
       "      <th></th>\n",
       "      <th></th>\n",
       "      <th></th>\n",
       "    </tr>\n",
       "  </thead>\n",
       "  <tbody>\n",
       "    <tr>\n",
       "      <th>AAPL</th>\n",
       "      <td>0.260083</td>\n",
       "      <td>0.300078</td>\n",
       "      <td>0.866717</td>\n",
       "    </tr>\n",
       "    <tr>\n",
       "      <th>PYPL</th>\n",
       "      <td>0.315411</td>\n",
       "      <td>0.336027</td>\n",
       "      <td>0.938646</td>\n",
       "    </tr>\n",
       "  </tbody>\n",
       "</table>\n",
       "</div>"
      ],
      "text/plain": [
       "         retorno  volatilidad    sharpe\n",
       "ticker                                 \n",
       "AAPL    0.260083     0.300078  0.866717\n",
       "PYPL    0.315411     0.336027  0.938646"
      ]
     },
     "execution_count": 27,
     "metadata": {},
     "output_type": "execute_result"
    }
   ],
   "source": [
    "datosTickers = []\n",
    "for ticker in df.columns:\n",
    "    d = {}\n",
    "    d['ticker'] = ticker\n",
    "    d['retorno'] = retornos[ticker].mean() * 252\n",
    "    d['volatilidad'] = retornos[ticker].std() * (252**0.5)\n",
    "    d['sharpe'] = d['retorno'] / d['volatilidad']\n",
    "    datosTickers.append(d)\n",
    "    \n",
    "    \n",
    "datosTickers = pd.DataFrame(datosTickers).set_index('ticker')\n",
    "datosTickers"
   ]
  },
  {
   "cell_type": "code",
   "execution_count": 28,
   "metadata": {},
   "outputs": [
    {
     "data": {
      "text/html": [
       "<div>\n",
       "<style scoped>\n",
       "    .dataframe tbody tr th:only-of-type {\n",
       "        vertical-align: middle;\n",
       "    }\n",
       "\n",
       "    .dataframe tbody tr th {\n",
       "        vertical-align: top;\n",
       "    }\n",
       "\n",
       "    .dataframe thead th {\n",
       "        text-align: right;\n",
       "    }\n",
       "</style>\n",
       "<table border=\"1\" class=\"dataframe\">\n",
       "  <thead>\n",
       "    <tr style=\"text-align: right;\">\n",
       "      <th></th>\n",
       "      <th>retorno</th>\n",
       "      <th>volatilidad</th>\n",
       "      <th>sharpe</th>\n",
       "      <th>pesos</th>\n",
       "    </tr>\n",
       "  </thead>\n",
       "  <tbody>\n",
       "    <tr>\n",
       "      <th>0</th>\n",
       "      <td>0.261756</td>\n",
       "      <td>0.297164</td>\n",
       "      <td>0.880849</td>\n",
       "      <td>[0.9698, 0.0302]</td>\n",
       "    </tr>\n",
       "    <tr>\n",
       "      <th>1</th>\n",
       "      <td>0.281308</td>\n",
       "      <td>0.281444</td>\n",
       "      <td>0.999517</td>\n",
       "      <td>[0.6164, 0.3836]</td>\n",
       "    </tr>\n",
       "    <tr>\n",
       "      <th>2</th>\n",
       "      <td>0.271194</td>\n",
       "      <td>0.285185</td>\n",
       "      <td>0.950941</td>\n",
       "      <td>[0.7992, 0.2008]</td>\n",
       "    </tr>\n",
       "    <tr>\n",
       "      <th>3</th>\n",
       "      <td>0.304438</td>\n",
       "      <td>0.308535</td>\n",
       "      <td>0.986718</td>\n",
       "      <td>[0.1983, 0.8017]</td>\n",
       "    </tr>\n",
       "    <tr>\n",
       "      <th>4</th>\n",
       "      <td>0.273613</td>\n",
       "      <td>0.283406</td>\n",
       "      <td>0.965444</td>\n",
       "      <td>[0.7555, 0.2445]</td>\n",
       "    </tr>\n",
       "    <tr>\n",
       "      <th>...</th>\n",
       "      <td>...</td>\n",
       "      <td>...</td>\n",
       "      <td>...</td>\n",
       "      <td>...</td>\n",
       "    </tr>\n",
       "    <tr>\n",
       "      <th>495</th>\n",
       "      <td>0.281165</td>\n",
       "      <td>0.281429</td>\n",
       "      <td>0.999061</td>\n",
       "      <td>[0.619, 0.381]</td>\n",
       "    </tr>\n",
       "    <tr>\n",
       "      <th>496</th>\n",
       "      <td>0.269180</td>\n",
       "      <td>0.287078</td>\n",
       "      <td>0.937656</td>\n",
       "      <td>[0.8356, 0.1644]</td>\n",
       "    </tr>\n",
       "    <tr>\n",
       "      <th>497</th>\n",
       "      <td>0.265804</td>\n",
       "      <td>0.291073</td>\n",
       "      <td>0.913184</td>\n",
       "      <td>[0.8966, 0.1034]</td>\n",
       "    </tr>\n",
       "    <tr>\n",
       "      <th>498</th>\n",
       "      <td>0.287270</td>\n",
       "      <td>0.283828</td>\n",
       "      <td>1.012128</td>\n",
       "      <td>[0.5086, 0.4914]</td>\n",
       "    </tr>\n",
       "    <tr>\n",
       "      <th>499</th>\n",
       "      <td>0.295534</td>\n",
       "      <td>0.292593</td>\n",
       "      <td>1.010053</td>\n",
       "      <td>[0.3592, 0.6408]</td>\n",
       "    </tr>\n",
       "  </tbody>\n",
       "</table>\n",
       "<p>500 rows × 4 columns</p>\n",
       "</div>"
      ],
      "text/plain": [
       "      retorno  volatilidad    sharpe             pesos\n",
       "0    0.261756     0.297164  0.880849  [0.9698, 0.0302]\n",
       "1    0.281308     0.281444  0.999517  [0.6164, 0.3836]\n",
       "2    0.271194     0.285185  0.950941  [0.7992, 0.2008]\n",
       "3    0.304438     0.308535  0.986718  [0.1983, 0.8017]\n",
       "4    0.273613     0.283406  0.965444  [0.7555, 0.2445]\n",
       "..        ...          ...       ...               ...\n",
       "495  0.281165     0.281429  0.999061    [0.619, 0.381]\n",
       "496  0.269180     0.287078  0.937656  [0.8356, 0.1644]\n",
       "497  0.265804     0.291073  0.913184  [0.8966, 0.1034]\n",
       "498  0.287270     0.283828  1.012128  [0.5086, 0.4914]\n",
       "499  0.295534     0.292593  1.010053  [0.3592, 0.6408]\n",
       "\n",
       "[500 rows x 4 columns]"
      ]
     },
     "execution_count": 28,
     "metadata": {},
     "output_type": "execute_result"
    }
   ],
   "source": [
    "q = 500\n",
    "retornos = np.log((df/df.shift(1)).dropna())\n",
    "carteras = [] \n",
    "\n",
    "for i in range(q):\n",
    "    pond = np.array(np.random.random(len(df.columns)))\n",
    "    pond = pond/np.sum(pond)\n",
    "    r={}\n",
    "    r['retorno'] = np.sum( (retornos.mean() * pond * 252))\n",
    "    r['volatilidad'] = np.sqrt(np.dot(pond, np.dot(retornos.cov()*252, pond)))\n",
    "    r['sharpe'] = r['retorno'] / r['volatilidad'] \n",
    "    r['pesos'] = pond.round(4)\n",
    "    carteras.append(r)\n",
    "\n",
    "carteras = pd.DataFrame(carteras)\n",
    "carteras"
   ]
  },
  {
   "cell_type": "code",
   "execution_count": 29,
   "metadata": {},
   "outputs": [
    {
     "data": {
      "text/html": [
       "<div>\n",
       "<style scoped>\n",
       "    .dataframe tbody tr th:only-of-type {\n",
       "        vertical-align: middle;\n",
       "    }\n",
       "\n",
       "    .dataframe tbody tr th {\n",
       "        vertical-align: top;\n",
       "    }\n",
       "\n",
       "    .dataframe thead th {\n",
       "        text-align: right;\n",
       "    }\n",
       "</style>\n",
       "<table border=\"1\" class=\"dataframe\">\n",
       "  <thead>\n",
       "    <tr style=\"text-align: right;\">\n",
       "      <th></th>\n",
       "      <th>retorno</th>\n",
       "      <th>volatilidad</th>\n",
       "      <th>sharpe</th>\n",
       "      <th>ponderacion_optima</th>\n",
       "    </tr>\n",
       "    <tr>\n",
       "      <th>ticker</th>\n",
       "      <th></th>\n",
       "      <th></th>\n",
       "      <th></th>\n",
       "      <th></th>\n",
       "    </tr>\n",
       "  </thead>\n",
       "  <tbody>\n",
       "    <tr>\n",
       "      <th>AAPL</th>\n",
       "      <td>0.260083</td>\n",
       "      <td>0.300078</td>\n",
       "      <td>0.866717</td>\n",
       "      <td>0.4511</td>\n",
       "    </tr>\n",
       "    <tr>\n",
       "      <th>PYPL</th>\n",
       "      <td>0.315411</td>\n",
       "      <td>0.336027</td>\n",
       "      <td>0.938646</td>\n",
       "      <td>0.5489</td>\n",
       "    </tr>\n",
       "  </tbody>\n",
       "</table>\n",
       "</div>"
      ],
      "text/plain": [
       "         retorno  volatilidad    sharpe  ponderacion_optima\n",
       "ticker                                                     \n",
       "AAPL    0.260083     0.300078  0.866717              0.4511\n",
       "PYPL    0.315411     0.336027  0.938646              0.5489"
      ]
     },
     "execution_count": 29,
     "metadata": {},
     "output_type": "execute_result"
    }
   ],
   "source": [
    "optimo = carteras.loc[carteras.sharpe.idxmax()]\n",
    "mejor_port = carteras.iloc[carteras.sharpe.idxmax()]['pesos']\n",
    "\n",
    "datosTickers['ponderacion_optima'] = mejor_port\n",
    "datosTickers"
   ]
  },
  {
   "cell_type": "code",
   "execution_count": 30,
   "metadata": {
    "scrolled": true
   },
   "outputs": [
    {
     "data": {
      "text/plain": [
       "retorno                0.290451\n",
       "volatilidad             0.28647\n",
       "sharpe                   1.0139\n",
       "pesos          [0.4511, 0.5489]\n",
       "Name: 33, dtype: object"
      ]
     },
     "execution_count": 30,
     "metadata": {},
     "output_type": "execute_result"
    }
   ],
   "source": [
    "optimo"
   ]
  },
  {
   "cell_type": "code",
   "execution_count": 31,
   "metadata": {},
   "outputs": [
    {
     "data": {
      "text/plain": [
       "array([0.4511, 0.5489])"
      ]
     },
     "execution_count": 31,
     "metadata": {},
     "output_type": "execute_result"
    }
   ],
   "source": [
    "mejor_port"
   ]
  },
  {
   "cell_type": "code",
   "execution_count": 32,
   "metadata": {
    "scrolled": true
   },
   "outputs": [
    {
     "data": {
      "text/html": [
       "<div>\n",
       "<style scoped>\n",
       "    .dataframe tbody tr th:only-of-type {\n",
       "        vertical-align: middle;\n",
       "    }\n",
       "\n",
       "    .dataframe tbody tr th {\n",
       "        vertical-align: top;\n",
       "    }\n",
       "\n",
       "    .dataframe thead th {\n",
       "        text-align: right;\n",
       "    }\n",
       "</style>\n",
       "<table border=\"1\" class=\"dataframe\">\n",
       "  <thead>\n",
       "    <tr style=\"text-align: right;\">\n",
       "      <th></th>\n",
       "      <th>retorno</th>\n",
       "      <th>volatilidad</th>\n",
       "      <th>sharpe</th>\n",
       "      <th>ponderacion_optima</th>\n",
       "    </tr>\n",
       "    <tr>\n",
       "      <th>ticker</th>\n",
       "      <th></th>\n",
       "      <th></th>\n",
       "      <th></th>\n",
       "      <th></th>\n",
       "    </tr>\n",
       "  </thead>\n",
       "  <tbody>\n",
       "    <tr>\n",
       "      <th>AAPL</th>\n",
       "      <td>0.260083</td>\n",
       "      <td>0.300078</td>\n",
       "      <td>0.866717</td>\n",
       "      <td>0.4511</td>\n",
       "    </tr>\n",
       "    <tr>\n",
       "      <th>PYPL</th>\n",
       "      <td>0.315411</td>\n",
       "      <td>0.336027</td>\n",
       "      <td>0.938646</td>\n",
       "      <td>0.5489</td>\n",
       "    </tr>\n",
       "  </tbody>\n",
       "</table>\n",
       "</div>"
      ],
      "text/plain": [
       "         retorno  volatilidad    sharpe  ponderacion_optima\n",
       "ticker                                                     \n",
       "AAPL    0.260083     0.300078  0.866717              0.4511\n",
       "PYPL    0.315411     0.336027  0.938646              0.5489"
      ]
     },
     "execution_count": 32,
     "metadata": {},
     "output_type": "execute_result"
    }
   ],
   "source": [
    "datosTickers"
   ]
  },
  {
   "cell_type": "code",
   "execution_count": 33,
   "metadata": {},
   "outputs": [
    {
     "data": {
      "image/png": "[encoded data removed]",
      "text/plain": [
       "<Figure size 432x360 with 2 Axes>"
      ]
     },
     "metadata": {
      "needs_background": "light"
     },
     "output_type": "display_data"
    }
   ],
   "source": [
    "import matplotlib.pyplot as plt\n",
    "\n",
    "plt.figure(figsize=(6,5))\n",
    "plt.scatter(carteras.volatilidad, carteras.retorno, c=carteras.sharpe, s=1, cmap='rainbow')\n",
    "plt.colorbar(label='Sharpe Ratio', aspect=40)\n",
    "plt.xlabel('Volatilidad')\n",
    "plt.ylabel('Retorno')\n",
    "plt.scatter(optimo.volatilidad, optimo.retorno,c='tab:red', alpha=0.2, s=1500) \n",
    "plt.text(optimo.volatilidad, optimo.retorno, 'Optimo', fontsize=9, c='k', ha='center', va='center') \n",
    "\n",
    "for ticker in df.columns:\n",
    "    vol = datosTickers.loc[ticker,'volatilidad'] \n",
    "    ret = datosTickers.loc[ticker,'retorno'] \n",
    "    plt.scatter(vol, ret,  c='tab:blue', s=800) \n",
    "    plt.text(vol, ret, ticker, c='w', ha='center', va='center') "
   ]
  },
  {
   "cell_type": "code",
   "execution_count": 34,
   "metadata": {},
   "outputs": [],
   "source": [
    "import yfinance as yf, numpy as np, pandas as pd, matplotlib.pyplot as plt\n",
    "\n",
    "def markowitz(data, q=1000):\n",
    "    retornos = np.log((data/data.shift(1)).dropna())\n",
    "    carteras, datosTickers = [] , []\n",
    "    \n",
    "    for i in range(q):\n",
    "        pond = np.array(np.random.random(len(data.columns)))\n",
    "        pond = pond/np.sum(pond)\n",
    "        r={}\n",
    "        r['retorno'] = np.sum( (retornos.mean() * pond * 252))\n",
    "        r['volatilidad'] = np.sqrt(np.dot(pond, np.dot(retornos.cov()*252, pond)))\n",
    "        r['sharpe'] = r['retorno'] / r['volatilidad'] \n",
    "        r['pesos'] =  pond.round(4)\n",
    "        carteras.append(r)\n",
    "    \n",
    "    for ticker in data.columns:\n",
    "        d = {}\n",
    "        d['ticker'] = ticker\n",
    "        d['retorno'] = retornos[ticker].mean() * 252\n",
    "        d['volatilidad'] = retornos[ticker].std() * (252**0.5)\n",
    "        d['sharpe'] = d['retorno'] / d['volatilidad']\n",
    "        datosTickers.append(d)\n",
    "\n",
    "    datosTickers = pd.DataFrame(datosTickers).set_index('ticker')    \n",
    "    carteras = pd.DataFrame(carteras)\n",
    "\n",
    "    optimo = carteras.loc[carteras.sharpe.idxmax()]\n",
    "    mejor_port = carteras.iloc[carteras.sharpe.idxmax()]['pesos']\n",
    "    datosTickers['ponderacion_optima'] = mejor_port\n",
    "\n",
    "    plt.figure(figsize=(6,5))\n",
    "    plt.scatter(carteras.volatilidad, carteras.retorno, c=carteras.sharpe, s=1, cmap='rainbow')\n",
    "    plt.colorbar(label='Sharpe Ratio', aspect=40)\n",
    "    plt.xlabel('Volatilidad')\n",
    "    plt.ylabel('Retorno')\n",
    "    plt.scatter(optimo.volatilidad, optimo.retorno,c='tab:red', alpha=0.2, s=1500) \n",
    "    plt.text(optimo.volatilidad, optimo.retorno, 'Optimo', fontsize=9, c='k', ha='center', va='center') \n",
    "       \n",
    "    for ticker in data.columns:\n",
    "        vol = datosTickers.loc[ticker,'volatilidad'] \n",
    "        ret = datosTickers.loc[ticker,'retorno'] \n",
    "        plt.scatter(vol, ret,  c='tab:blue', s=800) \n",
    "        plt.text(vol, ret, ticker, c='w', ha='center', va='center') \n",
    "    \n",
    "    return(datosTickers.round(3), optimo)"
   ]
  },
  {
   "cell_type": "code",
   "execution_count": 35,
   "metadata": {},
   "outputs": [
    {
     "name": "stdout",
     "output_type": "stream",
     "text": [
      "[*********************100%***********************]  2 of 2 downloaded\n",
      "        retorno  volatilidad  sharpe  ponderacion_optima\n",
      "ticker                                                  \n",
      "AAPL      0.260        0.300   0.867                0.45\n",
      "PYPL      0.315        0.336   0.939                0.55\n",
      "\n",
      "Portafolio Optimo:\n",
      "retorno                0.290548\n",
      "volatilidad            0.286558\n",
      "sharpe                  1.01392\n",
      "pesos          [0.4495, 0.5505]\n",
      "Name: 903, dtype: object\n"
     ]
    },
    {
     "data": {
      "image/png": "[encoded data removed]",
      "text/plain": [
       "<Figure size 600x500 with 2 Axes>"
      ]
     },
     "metadata": {},
     "output_type": "display_data"
    }
   ],
   "source": [
    "plt.style.use('default')\n",
    "df = yf.download(['PYPL','AAPL'], start='2010-01-01', end='2021-01-01')['Adj Close']\n",
    "df = df.loc[~(df==0).any(axis=1)] \n",
    "pond, optimo = markowitz(df, q=1000)\n",
    "print(pond, '\\n\\nPortafolio Optimo:\\n',optimo, sep='')"
   ]
  },
  {
   "cell_type": "markdown",
   "metadata": {},
   "source": [
    "# Markowitz - Optimo varios activos"
   ]
  },
  {
   "cell_type": "markdown",
   "metadata": {},
   "source": [
    "Buscamos el portafolio optimo entre muchos portafolios posibles"
   ]
  },
  {
   "cell_type": "code",
   "execution_count": 43,
   "metadata": {},
   "outputs": [
    {
     "name": "stdout",
     "output_type": "stream",
     "text": [
      "[*********************100%***********************]  503 of 503 downloaded\n",
      "                 A    AAL     AAP  ...    ZBRA   ZION     ZTS\n",
      "Date                               ...                       \n",
      "2018-01-02   66.10  51.65  104.92  ...  103.71  47.00   70.58\n",
      "2018-01-03   67.79  51.01  105.87  ...  105.77  46.95   70.90\n",
      "2018-01-04   67.28  51.34  109.77  ...  107.86  47.14   71.32\n",
      "2018-01-05   68.35  51.32  110.94  ...  109.54  47.16   72.14\n",
      "2018-01-08   68.50  50.81  110.16  ...  110.63  46.93   73.01\n",
      "...            ...    ...     ...  ...     ...    ...     ...\n",
      "2020-09-28   99.51  12.76  153.39  ...  260.56  29.38  161.32\n",
      "2020-09-29  100.22  12.25  151.71  ...  258.92  28.97  162.48\n",
      "2020-09-30  100.94  12.29  153.50  ...  252.46  29.22  165.37\n",
      "2020-10-01  101.22  12.58  154.85  ...  258.48  29.12  164.03\n",
      "2020-10-02   99.96  13.00  155.60  ...  258.81  29.85  163.42\n",
      "\n",
      "[695 rows x 503 columns]\n"
     ]
    }
   ],
   "source": [
    "import yfinance as yf, numpy as np, pandas as pd, random, tqdm\n",
    "\n",
    "\n",
    "# Obtengo el listado de tickers del sp500\n",
    "sp500 = pd.read_html('https://en.wikipedia.org/wiki/List_of_S%26P_500_companies')[0]\n",
    "sp500_tickers = list(sp500.Symbol)\n",
    "sp500_tickers = [e for e in sp500_tickers if e not in ('BRK.B','BF.B')]\n",
    "\n",
    "\n",
    "# Obtengo todos los historicos\n",
    "data_sp500 = yf.download(sp500_tickers, start='2018-01-01', end='2021-01-01')['Adj Close']\n",
    "\n",
    "# Para evitar tickers con poco historial\n",
    "conteo = pd.DataFrame(data_sp500.count(), columns=['Q'])\n",
    "sp500_tickers = list(conteo.loc[conteo.Q>500].index)\n",
    "\n",
    "\n",
    "pd.options.display.max_columns = 6\n",
    "pd.options.display.max_rows = 10\n",
    "pd.options.display.width = 800 \n",
    "print(data_sp500)"
   ]
  },
  {
   "cell_type": "code",
   "execution_count": 44,
   "metadata": {},
   "outputs": [],
   "source": [
    "def simular(tickers, q):\n",
    "    \n",
    "    n_stocks = 3\n",
    "    datos = []\n",
    "    for i in tqdm.tqdm(range(q)):\n",
    "    \n",
    "        muestra = data_sp500[random.sample(tickers, n_stocks)]\n",
    "        \n",
    "        # Filtro sin ceros\n",
    "        muestra = muestra.loc[:, (muestra != 0).all(axis=0)]\n",
    "        retornos = np.log((muestra/muestra.shift(1)).dropna())\n",
    "        pond = np.array(np.random.random(len(muestra.columns)))\n",
    "        pond = pond/np.sum(pond)\n",
    "        \n",
    "        # If para evitar activos sin dataFeed\n",
    "        if len(retornos):    \n",
    "            r={}\n",
    "            r['activos'] = list(muestra.columns)\n",
    "            r['pesos'] = pond.round(3)\n",
    "            r['retorno'] = np.sum( (retornos.mean() * pond * 252))\n",
    "            r['volatilidad'] = np.sqrt(np.dot(pond, np.dot(retornos.cov()*252, pond)))\n",
    "            r['sharpe'] = round(r['retorno'] / r['volatilidad'],3) \n",
    "            datos.append(r)\n",
    "    \n",
    "    df = pd.DataFrame(datos).sort_values('sharpe', ascending=False)\n",
    "\n",
    "    return df"
   ]
  },
  {
   "cell_type": "code",
   "execution_count": 45,
   "metadata": {},
   "outputs": [
    {
     "name": "stderr",
     "output_type": "stream",
     "text": [
      "100%|███████████████████████████████████████████████████████████████████████████| 10000/10000 [01:13<00:00, 135.83it/s]"
     ]
    },
    {
     "name": "stdout",
     "output_type": "stream",
     "text": [
      "\n",
      "                  activos                  pesos   retorno  volatilidad  sharpe\n",
      "0       [MKTX, CMG, PHM]  [0.503, 0.485, 0.012]  0.419417     0.303446   1.382\n",
      "3526    [ANSS, WST, TGT]  [0.113, 0.568, 0.319]  0.353140     0.255812   1.380\n",
      "6954     [ROL, UAL, CMG]   [0.453, 0.027, 0.52]  0.375421     0.281430   1.334\n",
      "7732  [PAYC, TWTR, DXCM]  [0.471, 0.122, 0.407]  0.545778     0.410382   1.330\n",
      "8275    [TSCO, AMD, MKC]  [0.347, 0.206, 0.447]  0.345801     0.267689   1.292\n",
      "4337     [DE, DXCM, LYB]  [0.041, 0.856, 0.103]  0.588342     0.457395   1.286\n",
      "8306   [CTLT, HCA, DXCM]  [0.263, 0.139, 0.598]  0.499275     0.388457   1.285\n",
      "3560     [AMD, RMD, ZTS]  [0.311, 0.336, 0.353]  0.420891     0.330046   1.275\n",
      "5360    [PEP, ETR, DXCM]  [0.055, 0.398, 0.548]  0.429102     0.339411   1.264\n",
      "4663    [STX, CMG, SNPS]  [0.161, 0.437, 0.402]  0.376091     0.298716   1.259\n"
     ]
    },
    {
     "name": "stderr",
     "output_type": "stream",
     "text": [
      "\n"
     ]
    }
   ],
   "source": [
    "portfolios = simular(sp500_tickers, 10000)\n",
    "print('\\n',portfolios.head(10))"
   ]
  },
  {
   "cell_type": "code",
   "execution_count": 61,
   "metadata": {},
   "outputs": [],
   "source": [
    "import sys\n",
    "\n",
    "def simular2(tickers, q):\n",
    "    \n",
    "    n_stocks = 3\n",
    "    datos = []\n",
    "\n",
    "    with tqdm.tqdm(total=q, file=sys.stdout) as pbar:\n",
    "        for i in range(q):\n",
    "            pbar.update()\n",
    "\n",
    "            muestra = data_sp500[random.sample(tickers, n_stocks)]\n",
    "\n",
    "            # Filtro sin ceros\n",
    "            muestra = muestra.loc[:, (muestra != 0).all(axis=0)]\n",
    "            retornos = np.log((muestra/muestra.shift(1)).dropna())\n",
    "            pond = np.array(np.random.random(len(muestra.columns)))\n",
    "            pond = pond/np.sum(pond)\n",
    "\n",
    "            # If para evitar activos sin dataFeed\n",
    "            if len(retornos):    \n",
    "                r={}\n",
    "                r['activos'] = list(muestra.columns)\n",
    "                r['pesos'] = pond.round(3)\n",
    "                r['retorno'] = np.sum( (retornos.mean() * pond * 252))\n",
    "                r['volatilidad'] = np.sqrt(np.dot(pond, np.dot(retornos.cov()*252, pond)))\n",
    "                r['sharpe'] = round(r['retorno'] / r['volatilidad'],3) \n",
    "                datos.append(r)\n",
    "    \n",
    "    df = pd.DataFrame(datos).sort_values('sharpe', ascending=False)\n",
    "\n",
    "    return df"
   ]
  },
  {
   "cell_type": "code",
   "execution_count": 62,
   "metadata": {},
   "outputs": [
    {
     "name": "stdout",
     "output_type": "stream",
     "text": [
      "100%|███████████████████████████████████████████████████████████████████████████| 10000/10000 [01:10<00:00, 141.92it/s]\n",
      "\n",
      "                  activos                  pesos   retorno  volatilidad  sharpe\n",
      "9926   [HRL, DXCM, CHTR]  [0.231, 0.562, 0.207]  0.456892     0.324343   1.409\n",
      "675    [DXCM, PGR, AMGN]  [0.693, 0.245, 0.062]  0.539455     0.388475   1.389\n",
      "1615  [PYPL, DXCM, PAYC]   [0.034, 0.876, 0.09]  0.656974     0.475420   1.382\n",
      "6733   [GOOGL, TT, DXCM]  [0.113, 0.361, 0.526]  0.457213     0.334862   1.365\n",
      "4066   [DXCM, MSFT, MCD]   [0.442, 0.338, 0.22]  0.439743     0.322543   1.363\n",
      "5334    [DXCM, KEYS, VZ]  [0.409, 0.487, 0.104]  0.439275     0.326908   1.344\n",
      "1775     [AMD, WAT, CMG]   [0.37, 0.221, 0.409]  0.486093     0.363351   1.338\n",
      "8670   [DXCM, MSFT, OMC]  [0.741, 0.153, 0.106]  0.548213     0.411156   1.333\n",
      "2509   [DXCM, GOOG, APD]  [0.809, 0.138, 0.054]  0.581376     0.439008   1.324\n",
      "5752     [NOW, KMB, AMD]  [0.393, 0.175, 0.432]  0.516773     0.391479   1.320\n"
     ]
    }
   ],
   "source": [
    "portfolios = simular2(sp500_tickers, 10000)\n",
    "print('\\n',portfolios.head(10))"
   ]
  },
  {
   "cell_type": "code",
   "execution_count": null,
   "metadata": {},
   "outputs": [],
   "source": []
  },
  {
   "cell_type": "code",
   "execution_count": null,
   "metadata": {},
   "outputs": [],
   "source": []
  },
  {
   "cell_type": "code",
   "execution_count": null,
   "metadata": {},
   "outputs": [],
   "source": []
  },
  {
   "cell_type": "markdown",
   "metadata": {},
   "source": [
    "# Markowitz - Optimizcion x Optimo varios activos"
   ]
  },
  {
   "cell_type": "markdown",
   "metadata": {},
   "source": [
    "Optimmizamos las iteraciones para encontrar un optimo mas rapido"
   ]
  },
  {
   "cell_type": "code",
   "execution_count": 46,
   "metadata": {},
   "outputs": [],
   "source": [
    "def simular3(tickers, q):\n",
    "    n_stocks = 3\n",
    "    datos = []\n",
    "    for i in range(q):\n",
    "    \n",
    "        muestra = data_sp500[random.sample(tickers, n_stocks)]\n",
    "        \n",
    "        # Filtro sin ceros\n",
    "        muestra = muestra.loc[:, (muestra != 0).all(axis=0)]\n",
    "        retornos = np.log((muestra/muestra.shift(1)).dropna())\n",
    "        pond = np.array(np.random.random(len(muestra.columns)))\n",
    "        pond = pond/np.sum(pond)\n",
    "        \n",
    "        # If para evitar activos sin dataFeed\n",
    "        if len(retornos):    \n",
    "            r={}\n",
    "            r['activos'] = list(muestra.columns)\n",
    "            r['pesos'] = pond.round(3)\n",
    "            r['retorno'] = np.sum( (retornos.mean() * pond * 252))\n",
    "            r['volatilidad'] = np.sqrt(np.dot(pond, np.dot(retornos.cov()*252, pond)))\n",
    "            r['sharpe'] = round(r['retorno'] / r['volatilidad'],3) \n",
    "            datos.append(r)\n",
    "            \n",
    "    df = pd.DataFrame(datos).sort_values('sharpe', ascending=False)\n",
    "    return df"
   ]
  },
  {
   "cell_type": "code",
   "execution_count": 47,
   "metadata": {},
   "outputs": [
    {
     "name": "stderr",
     "output_type": "stream",
     "text": [
      "100%|██████████████████████████████████████████████████████████████████████████████████| 10/10 [00:28<00:00,  2.82s/it]"
     ]
    },
    {
     "name": "stdout",
     "output_type": "stream",
     "text": [
      "Mejores\n",
      "              activos                  pesos   retorno  volatilidad  sharpe\n",
      "53   [DXCM, DG, CMG]   [0.305, 0.415, 0.28]  0.479783     0.274763   1.746\n",
      "83   [DG, CMG, DXCM]  [0.465, 0.269, 0.266]  0.461961     0.264816   1.744\n",
      "251  [DXCM, CMG, DG]  [0.312, 0.331, 0.357]  0.494140     0.283325   1.744\n",
      "33   [DXCM, DG, CMG]  [0.228, 0.441, 0.332]  0.461565     0.264823   1.743\n",
      "73   [CMG, DG, DXCM]  [0.262, 0.477, 0.261]  0.458377     0.263089   1.742\n",
      "239  [DXCM, DG, CMG]     [0.22, 0.47, 0.31]  0.453696     0.260746   1.740\n",
      "75   [DG, DXCM, CMG]  [0.381, 0.237, 0.382]  0.476992     0.274414   1.738\n",
      "139  [CMG, DG, DXCM]  [0.376, 0.396, 0.228]  0.471887     0.271516   1.738\n",
      "183  [DXCM, DG, CMG]   [0.229, 0.39, 0.381]  0.473622     0.272644   1.737\n",
      "83   [DXCM, CMG, DG]   [0.307, 0.373, 0.32]  0.502169     0.289116   1.737\n",
      "Wall time: 40.4 s\n"
     ]
    },
    {
     "name": "stderr",
     "output_type": "stream",
     "text": [
      "\n"
     ]
    }
   ],
   "source": [
    "%%time\n",
    "q_inicial = 1500\n",
    "lista_tickers = sp500_tickers\n",
    "portfolios = simular3(lista_tickers, q_inicial)\n",
    "\n",
    "best = pd.DataFrame()\n",
    "for i in tqdm.tqdm(range(10)):\n",
    "    top = portfolios.iloc[ : int(200/(i+1))]\n",
    "    \n",
    "    lista_tickers = list(np.array(top.activos.apply(pd.Series).stack()))\n",
    "        \n",
    "    portfolios = simular3(lista_tickers, int(q_inicial/(i+1)))\n",
    "    \n",
    "    best = pd.concat([best,portfolios.iloc[:10]])\n",
    "\n",
    "print('Mejores\\n',best.sort_values('sharpe', ascending=False).head(10))"
   ]
  },
  {
   "cell_type": "code",
   "execution_count": null,
   "metadata": {},
   "outputs": [],
   "source": []
  },
  {
   "cell_type": "code",
   "execution_count": null,
   "metadata": {},
   "outputs": [],
   "source": []
  }
 ],
 "metadata": {
  "kernelspec": {
   "display_name": "Python 3",
   "language": "python",
   "name": "python3"
  },
  "language_info": {
   "codemirror_mode": {
    "name": "ipython",
    "version": 3
   },
   "file_extension": ".py",
   "mimetype": "text/x-python",
   "name": "python",
   "nbconvert_exporter": "python",
   "pygments_lexer": "ipython3",
   "version": "3.7.7"
  },
  "toc": {
   "base_numbering": 1,
   "nav_menu": {},
   "number_sections": true,
   "sideBar": true,
   "skip_h1_title": false,
   "title_cell": "Table of Contents",
   "title_sidebar": "Contents",
   "toc_cell": false,
   "toc_position": {},
   "toc_section_display": true,
   "toc_window_display": true
  },
  "varInspector": {
   "cols": {
    "lenName": 16,
    "lenType": 16,
    "lenVar": 40
   },
   "kernels_config": {
    "python": {
     "delete_cmd_postfix": "",
     "delete_cmd_prefix": "del ",
     "library": "var_list.py",
     "varRefreshCmd": "print(var_dic_list())"
    },
    "r": {
     "delete_cmd_postfix": ") ",
     "delete_cmd_prefix": "rm(",
     "library": "var_list.r",
     "varRefreshCmd": "cat(var_dic_list()) "
    }
   },
   "types_to_exclude": [
    "module",
    "function",
    "builtin_function_or_method",
    "instance",
    "_Feature"
   ],
   "window_display": false
  }
 },
 "nbformat": 4,
 "nbformat_minor": 4
}
