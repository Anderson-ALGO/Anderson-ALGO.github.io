{
 "cells": [
  {
   "cell_type": "code",
   "execution_count": null,
   "metadata": {},
   "outputs": [],
   "source": [
    "# Invierto los meses 1 y 2 un monto fijo de $ 5000\n",
    "\n",
    "# ppm = monto / nominales\n",
    "# nominales=  monto / ppm\n",
    "\n",
    "precios = $ 50, $ 100\n",
    "cantidades = 100 nominales, 50 nominales\n",
    "precio medio = 75 (Falso)\n",
    "\n"
   ]
  },
  {
   "cell_type": "code",
   "execution_count": 2,
   "metadata": {},
   "outputs": [],
   "source": [
    "from statistics import harmonic_mean"
   ]
  },
  {
   "cell_type": "code",
   "execution_count": 4,
   "metadata": {},
   "outputs": [
    {
     "data": {
      "text/plain": [
       "66.66666666666667"
      ]
     },
     "execution_count": 4,
     "metadata": {},
     "output_type": "execute_result"
    }
   ],
   "source": [
    "harmonic_mean([50,100])"
   ]
  },
  {
   "cell_type": "code",
   "execution_count": null,
   "metadata": {},
   "outputs": [],
   "source": [
    "Tengo una cartera con los siguientes P/B\n",
    "\n",
    "pb = [1.2, 1, 0.9, 0.8]\n"
   ]
  },
  {
   "cell_type": "markdown",
   "metadata": {},
   "source": [
    "# Bases de Datos introducción"
   ]
  },
  {
   "cell_type": "markdown",
   "metadata": {},
   "source": [
    "* claves foraneas\n",
    "* claves primarias"
   ]
  },
  {
   "cell_type": "markdown",
   "metadata": {},
   "source": [
    "<img src='imagenes/BBDD.jpeg' width='600'>"
   ]
  },
  {
   "cell_type": "markdown",
   "metadata": {},
   "source": [
    "Y así sucesivamente se pueden ir creando nuevas entidades que se van relacionando con otras\n",
    "\n",
    "En este caso vamos a agregar a nuestro modelo de subyacentes y derivados, una entidad de \"fondos\" que podrian ser FCIs y \"clientes\" que podrian ser las cuentas de un Alyc"
   ]
  },
  {
   "cell_type": "markdown",
   "metadata": {},
   "source": [
    "<img src='imagenes/BBDD2.jpeg' width='600'>"
   ]
  },
  {
   "cell_type": "markdown",
   "metadata": {},
   "source": [
    "# XAMPP"
   ]
  },
  {
   "cell_type": "markdown",
   "metadata": {},
   "source": [
    "## Configuracion Apache y puerto http"
   ]
  },
  {
   "cell_type": "markdown",
   "metadata": {},
   "source": [
    "Configuraciones Iniciales, no necesariamente pero si al darrle \"start\" al Apache aparece un conflicto de puertos, hay que configurar un puerto diferente al 80 que es el default"
   ]
  },
  {
   "cell_type": "markdown",
   "metadata": {},
   "source": [
    "<img src='imagenes/xampp_1.png' width=750>"
   ]
  },
  {
   "cell_type": "markdown",
   "metadata": {},
   "source": [
    "<img src='imagenes/xampp_2.png' width=750>"
   ]
  },
  {
   "cell_type": "markdown",
   "metadata": {},
   "source": [
    "<img src='imagenes/xampp_3.png' width=750>"
   ]
  },
  {
   "cell_type": "markdown",
   "metadata": {},
   "source": [
    "## Configuracion MySQL y puerto de BBDD"
   ]
  },
  {
   "cell_type": "markdown",
   "metadata": {},
   "source": [
    "<img src='imagenes/xampp_4.png' width=750>"
   ]
  },
  {
   "cell_type": "markdown",
   "metadata": {},
   "source": [
    "<img src='imagenes/xampp_5.png' width=750>"
   ]
  },
  {
   "cell_type": "markdown",
   "metadata": {},
   "source": [
    "## Configuracion general  XAMMP"
   ]
  },
  {
   "cell_type": "markdown",
   "metadata": {},
   "source": [
    "<img src='imagenes/xampp_6.png' width=800>"
   ]
  },
  {
   "cell_type": "markdown",
   "metadata": {},
   "source": [
    "<img src='imagenes/xampp_7.png' width='600'>"
   ]
  },
  {
   "cell_type": "markdown",
   "metadata": {},
   "source": [
    "<img src='imagenes/xampp_8.png'  width='600'>"
   ]
  },
  {
   "cell_type": "markdown",
   "metadata": {},
   "source": [
    "# Crear Base de datos"
   ]
  },
  {
   "cell_type": "markdown",
   "metadata": {},
   "source": [
    "<img src='imagenes/xampp_9.png'  width='700'>"
   ]
  },
  {
   "cell_type": "code",
   "execution_count": null,
   "metadata": {},
   "outputs": [],
   "source": []
  },
  {
   "cell_type": "markdown",
   "metadata": {},
   "source": [
    "# API FMP"
   ]
  },
  {
   "cell_type": "code",
   "execution_count": 1,
   "metadata": {},
   "outputs": [],
   "source": [
    "apikey = '66c44b016256f8b9e507838f32434ece'\n",
    "apikey = '7bcec62b64a5ccd1f35fc2036c768593'\n",
    "apikey = '2f08561fe33be29429d696aed288539e'\n",
    "apikey = '938c4b4dece598e20a115db9b9d3d5e9'\n",
    "apikey = 'f0bdfc9adbb9cad589dadedfd786d499'"
   ]
  },
  {
   "cell_type": "code",
   "execution_count": 2,
   "metadata": {},
   "outputs": [],
   "source": [
    "import requests\n",
    "import pandas as pd"
   ]
  },
  {
   "cell_type": "markdown",
   "metadata": {},
   "source": [
    "## Paneles precios RealTime"
   ]
  },
  {
   "cell_type": "code",
   "execution_count": 4,
   "metadata": {},
   "outputs": [],
   "source": [
    "paneles = ['etf','commodity','euronext','nyse','amex','nasdaq','tsx','index','mutual_fund']"
   ]
  },
  {
   "cell_type": "code",
   "execution_count": 5,
   "metadata": {},
   "outputs": [],
   "source": [
    "def getPanel(exchange):\n",
    "    url = 'https://fmpcloud.io/api/v3/quotes/'+exchange\n",
    "    p = {'apikey': apikey}\n",
    "    r = requests.get(url, params = p)\n",
    "    js = r.json()\n",
    "    df = pd.DataFrame(js)\n",
    "    df.set_index('symbol', inplace=True)\n",
    "    return df"
   ]
  },
  {
   "cell_type": "code",
   "execution_count": 6,
   "metadata": {},
   "outputs": [
    {
     "name": "stdout",
     "output_type": "stream",
     "text": [
      "etf, commodity, euronext, nyse, amex, nasdaq, tsx, index, mutual_fund, "
     ]
    }
   ],
   "source": [
    "paneles_px = {}\n",
    "for panel in paneles:\n",
    "    print(panel, end=', ')\n",
    "    paneles_px[panel] = getPanel(panel)"
   ]
  },
  {
   "cell_type": "code",
   "execution_count": 7,
   "metadata": {},
   "outputs": [
    {
     "name": "stdout",
     "output_type": "stream",
     "text": [
      "Index(['name', 'price', 'changesPercentage', 'change', 'dayLow', 'dayHigh',\n",
      "       'yearHigh', 'yearLow', 'marketCap', 'priceAvg50', 'priceAvg200',\n",
      "       'volume', 'avgVolume', 'exchange', 'open', 'previousClose', 'eps', 'pe',\n",
      "       'earningsAnnouncement', 'sharesOutstanding', 'timestamp'],\n",
      "      dtype='object') symbol\n",
      "MMDM       1.320\n",
      "MORN     184.950\n",
      "TITN      15.070\n",
      "FCNCA    391.945\n",
      "SIGA       6.848\n",
      "          ...   \n",
      "TBKCP     26.000\n",
      "PSTVZ      0.007\n",
      "NUROW      0.142\n",
      "TSLA     448.740\n",
      "SLM        9.440\n",
      "Name: price, Length: 4201, dtype: float64\n"
     ]
    }
   ],
   "source": [
    "print(paneles_px['nasdaq'].columns, paneles_px['nasdaq']['price'])"
   ]
  },
  {
   "cell_type": "code",
   "execution_count": 8,
   "metadata": {},
   "outputs": [
    {
     "data": {
      "text/plain": [
       "name                                      Apple Inc.\n",
       "price                                         120.32\n",
       "changesPercentage                              -0.32\n",
       "change                                         -0.39\n",
       "dayLow                                        119.29\n",
       "dayHigh                                       121.54\n",
       "yearHigh                                      137.98\n",
       "yearLow                                      53.1525\n",
       "marketCap                                2.05777e+12\n",
       "priceAvg50                                   116.868\n",
       "priceAvg200                                  94.9031\n",
       "volume                                   8.48191e+07\n",
       "avgVolume                                1.73038e+08\n",
       "exchange                                      NASDAQ\n",
       "open                                          121.28\n",
       "previousClose                                 120.71\n",
       "eps                                            3.296\n",
       "pe                                           36.5049\n",
       "earningsAnnouncement    2020-10-29T20:00:00.000+0000\n",
       "sharesOutstanding                        1.71025e+10\n",
       "timestamp                                 1602874949\n",
       "Name: AAPL, dtype: object"
      ]
     },
     "execution_count": 8,
     "metadata": {},
     "output_type": "execute_result"
    }
   ],
   "source": [
    "accion = paneles_px['nasdaq'].loc['AAPL']\n",
    "accion"
   ]
  },
  {
   "cell_type": "code",
   "execution_count": 9,
   "metadata": {},
   "outputs": [
    {
     "data": {
      "text/plain": [
       "<AxesSubplot:ylabel='Density'>"
      ]
     },
     "execution_count": 9,
     "metadata": {},
     "output_type": "execute_result"
    },
    {
     "data": {
      "image/png": "[encoded data removed]",
      "text/plain": [
       "<Figure size 432x288 with 1 Axes>"
      ]
     },
     "metadata": {
      "needs_background": "light"
     },
     "output_type": "display_data"
    }
   ],
   "source": [
    "nasdaq = paneles_px['nasdaq']\n",
    "nasdaq.loc[(nasdaq.pe>0) & (nasdaq.pe<100)].pe.plot(kind='kde', xlim=(0,100))"
   ]
  },
  {
   "cell_type": "markdown",
   "metadata": {},
   "source": [
    "## Screeners (ponele)"
   ]
  },
  {
   "cell_type": "code",
   "execution_count": 10,
   "metadata": {},
   "outputs": [],
   "source": [
    "def screenMktCapHigh(minMktCap= 10**10):\n",
    "    url = 'https://fmpcloud.io/api/v3/stock-screener'\n",
    "    p = {'apikey': apikey, 'marketCapMoreThan':minMktCap }\n",
    "    r = requests.get(url, params = p)\n",
    "    js = r.json()\n",
    "    df = pd.DataFrame(js)\n",
    "    return df"
   ]
  },
  {
   "cell_type": "code",
   "execution_count": 11,
   "metadata": {},
   "outputs": [
    {
     "name": "stdout",
     "output_type": "stream",
     "text": [
      "Wall time: 1.08 s\n"
     ]
    },
    {
     "data": {
      "text/html": [
       "<div>\n",
       "<style scoped>\n",
       "    .dataframe tbody tr th:only-of-type {\n",
       "        vertical-align: middle;\n",
       "    }\n",
       "\n",
       "    .dataframe tbody tr th {\n",
       "        vertical-align: top;\n",
       "    }\n",
       "\n",
       "    .dataframe thead th {\n",
       "        text-align: right;\n",
       "    }\n",
       "</style>\n",
       "<table border=\"1\" class=\"dataframe\">\n",
       "  <thead>\n",
       "    <tr style=\"text-align: right;\">\n",
       "      <th></th>\n",
       "      <th>symbol</th>\n",
       "      <th>marketCap</th>\n",
       "      <th>sector</th>\n",
       "      <th>industry</th>\n",
       "      <th>beta</th>\n",
       "      <th>price</th>\n",
       "      <th>lastAnnualDividend</th>\n",
       "      <th>volume</th>\n",
       "      <th>exchange</th>\n",
       "      <th>exchangeShortName</th>\n",
       "    </tr>\n",
       "  </thead>\n",
       "  <tbody>\n",
       "    <tr>\n",
       "      <th>0</th>\n",
       "      <td>SBER.ME</td>\n",
       "      <td>4.389696e+12</td>\n",
       "      <td>Banking</td>\n",
       "      <td>Banks</td>\n",
       "      <td>1.53469</td>\n",
       "      <td>203.35</td>\n",
       "      <td>18.7000</td>\n",
       "      <td>57146978</td>\n",
       "      <td>MCX</td>\n",
       "      <td>EURONEXT</td>\n",
       "    </tr>\n",
       "    <tr>\n",
       "      <th>1</th>\n",
       "      <td>GAZP.ME</td>\n",
       "      <td>3.948479e+12</td>\n",
       "      <td>Energy</td>\n",
       "      <td>Energy</td>\n",
       "      <td>1.32515</td>\n",
       "      <td>166.99</td>\n",
       "      <td>15.2400</td>\n",
       "      <td>38340791</td>\n",
       "      <td>MCX</td>\n",
       "      <td>EURONEXT</td>\n",
       "    </tr>\n",
       "    <tr>\n",
       "      <th>2</th>\n",
       "      <td>GMKN.ME</td>\n",
       "      <td>3.117743e+12</td>\n",
       "      <td>Metals &amp; Mining</td>\n",
       "      <td>Materials</td>\n",
       "      <td>0.70708</td>\n",
       "      <td>19702.00</td>\n",
       "      <td>1161.2900</td>\n",
       "      <td>284003</td>\n",
       "      <td>MCX</td>\n",
       "      <td>EURONEXT</td>\n",
       "    </tr>\n",
       "    <tr>\n",
       "      <th>3</th>\n",
       "      <td>LKOH.ME</td>\n",
       "      <td>2.783234e+12</td>\n",
       "      <td>Energy</td>\n",
       "      <td>Energy</td>\n",
       "      <td>1.00975</td>\n",
       "      <td>4265.50</td>\n",
       "      <td>542.0000</td>\n",
       "      <td>1069296</td>\n",
       "      <td>MCX</td>\n",
       "      <td>EURONEXT</td>\n",
       "    </tr>\n",
       "    <tr>\n",
       "      <th>4</th>\n",
       "      <td>AAPL</td>\n",
       "      <td>2.064443e+12</td>\n",
       "      <td>Technology</td>\n",
       "      <td>Consumer Electronics</td>\n",
       "      <td>1.33956</td>\n",
       "      <td>120.71</td>\n",
       "      <td>0.7825</td>\n",
       "      <td>173662673</td>\n",
       "      <td>Nasdaq Global Select</td>\n",
       "      <td>NASDAQ</td>\n",
       "    </tr>\n",
       "    <tr>\n",
       "      <th>...</th>\n",
       "      <td>...</td>\n",
       "      <td>...</td>\n",
       "      <td>...</td>\n",
       "      <td>...</td>\n",
       "      <td>...</td>\n",
       "      <td>...</td>\n",
       "      <td>...</td>\n",
       "      <td>...</td>\n",
       "      <td>...</td>\n",
       "      <td>...</td>\n",
       "    </tr>\n",
       "    <tr>\n",
       "      <th>1158</th>\n",
       "      <td>ALB</td>\n",
       "      <td>1.003807e+10</td>\n",
       "      <td>Basic Materials</td>\n",
       "      <td>Specialty Chemicals</td>\n",
       "      <td>1.34052</td>\n",
       "      <td>94.38</td>\n",
       "      <td>1.4875</td>\n",
       "      <td>1154121</td>\n",
       "      <td>New York Stock Exchange</td>\n",
       "      <td>NYSE</td>\n",
       "    </tr>\n",
       "    <tr>\n",
       "      <th>1159</th>\n",
       "      <td>DISCK</td>\n",
       "      <td>1.003131e+10</td>\n",
       "      <td>Communication Services</td>\n",
       "      <td>Entertainment</td>\n",
       "      <td>1.63575</td>\n",
       "      <td>18.92</td>\n",
       "      <td>0.0000</td>\n",
       "      <td>2476729</td>\n",
       "      <td>Nasdaq Global Select</td>\n",
       "      <td>NASDAQ</td>\n",
       "    </tr>\n",
       "    <tr>\n",
       "      <th>1160</th>\n",
       "      <td>EDEN.PA</td>\n",
       "      <td>1.002947e+10</td>\n",
       "      <td>Financial Services</td>\n",
       "      <td>Credit Services</td>\n",
       "      <td>0.74663</td>\n",
       "      <td>40.81</td>\n",
       "      <td>0.7000</td>\n",
       "      <td>400243</td>\n",
       "      <td>Paris</td>\n",
       "      <td>EURONEXT</td>\n",
       "    </tr>\n",
       "    <tr>\n",
       "      <th>1161</th>\n",
       "      <td>ILD.PA</td>\n",
       "      <td>1.001172e+10</td>\n",
       "      <td>Communication Services</td>\n",
       "      <td>Telecom Services</td>\n",
       "      <td>0.17441</td>\n",
       "      <td>170.75</td>\n",
       "      <td>2.6000</td>\n",
       "      <td>70685</td>\n",
       "      <td>Paris</td>\n",
       "      <td>EURONEXT</td>\n",
       "    </tr>\n",
       "    <tr>\n",
       "      <th>1162</th>\n",
       "      <td>FSLY</td>\n",
       "      <td>1.000653e+10</td>\n",
       "      <td>Technology</td>\n",
       "      <td>Software Application</td>\n",
       "      <td>0.00000</td>\n",
       "      <td>89.69</td>\n",
       "      <td>0.0000</td>\n",
       "      <td>9636555</td>\n",
       "      <td>NYSE</td>\n",
       "      <td>NYSE</td>\n",
       "    </tr>\n",
       "  </tbody>\n",
       "</table>\n",
       "<p>1163 rows × 10 columns</p>\n",
       "</div>"
      ],
      "text/plain": [
       "       symbol     marketCap                  sector              industry  \\\n",
       "0     SBER.ME  4.389696e+12                 Banking                 Banks   \n",
       "1     GAZP.ME  3.948479e+12                 Energy                 Energy   \n",
       "2     GMKN.ME  3.117743e+12         Metals & Mining             Materials   \n",
       "3     LKOH.ME  2.783234e+12                 Energy                 Energy   \n",
       "4        AAPL  2.064443e+12              Technology  Consumer Electronics   \n",
       "...       ...           ...                     ...                   ...   \n",
       "1158      ALB  1.003807e+10         Basic Materials   Specialty Chemicals   \n",
       "1159    DISCK  1.003131e+10  Communication Services         Entertainment   \n",
       "1160  EDEN.PA  1.002947e+10      Financial Services       Credit Services   \n",
       "1161   ILD.PA  1.001172e+10  Communication Services      Telecom Services   \n",
       "1162     FSLY  1.000653e+10              Technology  Software Application   \n",
       "\n",
       "         beta     price  lastAnnualDividend     volume  \\\n",
       "0     1.53469    203.35             18.7000   57146978   \n",
       "1     1.32515    166.99             15.2400   38340791   \n",
       "2     0.70708  19702.00           1161.2900     284003   \n",
       "3     1.00975   4265.50            542.0000    1069296   \n",
       "4     1.33956    120.71              0.7825  173662673   \n",
       "...       ...       ...                 ...        ...   \n",
       "1158  1.34052     94.38              1.4875    1154121   \n",
       "1159  1.63575     18.92              0.0000    2476729   \n",
       "1160  0.74663     40.81              0.7000     400243   \n",
       "1161  0.17441    170.75              2.6000      70685   \n",
       "1162  0.00000     89.69              0.0000    9636555   \n",
       "\n",
       "                     exchange exchangeShortName  \n",
       "0                         MCX          EURONEXT  \n",
       "1                         MCX          EURONEXT  \n",
       "2                         MCX          EURONEXT  \n",
       "3                         MCX          EURONEXT  \n",
       "4        Nasdaq Global Select            NASDAQ  \n",
       "...                       ...               ...  \n",
       "1158  New York Stock Exchange              NYSE  \n",
       "1159     Nasdaq Global Select            NASDAQ  \n",
       "1160                    Paris          EURONEXT  \n",
       "1161                    Paris          EURONEXT  \n",
       "1162                     NYSE              NYSE  \n",
       "\n",
       "[1163 rows x 10 columns]"
      ]
     },
     "execution_count": 11,
     "metadata": {},
     "output_type": "execute_result"
    }
   ],
   "source": [
    "%%time\n",
    "data = screenMktCapHigh().drop('companyName', axis=1)\n",
    "data"
   ]
  },
  {
   "cell_type": "code",
   "execution_count": null,
   "metadata": {},
   "outputs": [],
   "source": []
  },
  {
   "cell_type": "markdown",
   "metadata": {},
   "source": [
    "# Manejo de directorios (Básico)"
   ]
  },
  {
   "cell_type": "code",
   "execution_count": 12,
   "metadata": {},
   "outputs": [],
   "source": [
    "import os"
   ]
  },
  {
   "cell_type": "code",
   "execution_count": 13,
   "metadata": {},
   "outputs": [
    {
     "data": {
      "text/plain": [
       "'C:\\\\Users\\\\floda\\\\Desktop\\\\PythonTraders'"
      ]
     },
     "execution_count": 13,
     "metadata": {},
     "output_type": "execute_result"
    }
   ],
   "source": [
    "os.getcwd()"
   ]
  },
  {
   "cell_type": "code",
   "execution_count": 14,
   "metadata": {},
   "outputs": [],
   "source": [
    "#os.mkdir('Persistencia')\n",
    "os.chdir('Persistencia')"
   ]
  },
  {
   "cell_type": "code",
   "execution_count": 15,
   "metadata": {},
   "outputs": [
    {
     "name": "stdout",
     "output_type": "stream",
     "text": [
      "excels_sp500\n",
      "ujsons\n"
     ]
    }
   ],
   "source": [
    "scan = os.scandir()\n",
    "for elemento in scan:\n",
    "    if elemento.is_dir():\n",
    "        print(elemento.name)"
   ]
  },
  {
   "cell_type": "code",
   "execution_count": 16,
   "metadata": {},
   "outputs": [
    {
     "data": {
      "text/plain": [
       "'C:\\\\Users\\\\floda\\\\Desktop\\\\PythonTraders\\\\Persistencia'"
      ]
     },
     "execution_count": 16,
     "metadata": {},
     "output_type": "execute_result"
    }
   ],
   "source": [
    "os.getcwd()"
   ]
  },
  {
   "cell_type": "code",
   "execution_count": null,
   "metadata": {},
   "outputs": [],
   "source": []
  },
  {
   "cell_type": "code",
   "execution_count": 19,
   "metadata": {},
   "outputs": [
    {
     "name": "stdout",
     "output_type": "stream",
     "text": [
      "aqui_no_hay_nada_archivo_test.txt 0\n"
     ]
    }
   ],
   "source": [
    "scan = os.scandir()\n",
    "for elemento in scan:\n",
    "    if elemento.is_file():\n",
    "        print(elemento.name, elemento.stat().st_size//1024)"
   ]
  },
  {
   "cell_type": "markdown",
   "metadata": {},
   "source": [
    "# Persistencia en MySQL"
   ]
  },
  {
   "cell_type": "code",
   "execution_count": 21,
   "metadata": {},
   "outputs": [],
   "source": [
    "# !pip install PyMySQL\n",
    "from sqlalchemy import create_engine\n",
    "\n",
    "#Seteo el USER : PASS @ HOST / BBDD_NAME\n",
    "sql_engine = create_engine('mysql+pymysql://root:@localhost/test')\n",
    "sql_conn = sql_engine.connect()"
   ]
  },
  {
   "cell_type": "code",
   "execution_count": 22,
   "metadata": {},
   "outputs": [
    {
     "name": "stdout",
     "output_type": "stream",
     "text": [
      "222 ms ± 10.6 ms per loop (mean ± std. dev. of 7 runs, 1 loop each)\n"
     ]
    }
   ],
   "source": [
    "%%timeit\n",
    "data.to_sql(con=sql_conn, name='fmp', if_exists='replace')"
   ]
  },
  {
   "cell_type": "code",
   "execution_count": null,
   "metadata": {},
   "outputs": [],
   "source": []
  },
  {
   "cell_type": "markdown",
   "metadata": {},
   "source": [
    "# Persistencia en SQLite"
   ]
  },
  {
   "cell_type": "code",
   "execution_count": 23,
   "metadata": {},
   "outputs": [],
   "source": [
    "from sqlalchemy import create_engine\n",
    "sqlite_engine = create_engine('sqlite:///fmp.db', echo=False)\n",
    "sqlite_conn = sqlite_engine.connect()"
   ]
  },
  {
   "cell_type": "code",
   "execution_count": 24,
   "metadata": {},
   "outputs": [
    {
     "name": "stdout",
     "output_type": "stream",
     "text": [
      "59.5 ms ± 7.85 ms per loop (mean ± std. dev. of 7 runs, 10 loops each)\n"
     ]
    }
   ],
   "source": [
    "%%timeit\n",
    "data.to_sql(con=sqlite_conn, name='fmp', if_exists='replace')"
   ]
  },
  {
   "cell_type": "code",
   "execution_count": null,
   "metadata": {},
   "outputs": [],
   "source": []
  },
  {
   "cell_type": "code",
   "execution_count": null,
   "metadata": {},
   "outputs": [],
   "source": []
  },
  {
   "cell_type": "code",
   "execution_count": null,
   "metadata": {},
   "outputs": [],
   "source": []
  },
  {
   "cell_type": "markdown",
   "metadata": {},
   "source": [
    "# Persistencia en Archivos"
   ]
  },
  {
   "cell_type": "code",
   "execution_count": 25,
   "metadata": {},
   "outputs": [
    {
     "name": "stdout",
     "output_type": "stream",
     "text": [
      "270 ms ± 23.9 ms per loop (mean ± std. dev. of 7 runs, 1 loop each)\n"
     ]
    }
   ],
   "source": [
    "%%timeit\n",
    "data.to_excel('fmp.xlsx')"
   ]
  },
  {
   "cell_type": "code",
   "execution_count": 26,
   "metadata": {},
   "outputs": [
    {
     "name": "stdout",
     "output_type": "stream",
     "text": [
      "13.2 ms ± 345 µs per loop (mean ± std. dev. of 7 runs, 100 loops each)\n"
     ]
    }
   ],
   "source": [
    "%%timeit\n",
    "data.to_csv('fmp.csv')"
   ]
  },
  {
   "cell_type": "code",
   "execution_count": 27,
   "metadata": {},
   "outputs": [],
   "source": [
    "import json\n",
    "js = data.to_dict()"
   ]
  },
  {
   "cell_type": "code",
   "execution_count": 28,
   "metadata": {},
   "outputs": [
    {
     "name": "stdout",
     "output_type": "stream",
     "text": [
      "50.7 ms ± 4.33 ms per loop (mean ± std. dev. of 7 runs, 10 loops each)\n"
     ]
    }
   ],
   "source": [
    "%%timeit\n",
    "with open('fmp.json', 'w') as f:\n",
    "    json.dump(js, f)"
   ]
  },
  {
   "cell_type": "code",
   "execution_count": 29,
   "metadata": {},
   "outputs": [],
   "source": [
    "import ujson"
   ]
  },
  {
   "cell_type": "code",
   "execution_count": 30,
   "metadata": {},
   "outputs": [
    {
     "name": "stdout",
     "output_type": "stream",
     "text": [
      "6.01 ms ± 255 µs per loop (mean ± std. dev. of 7 runs, 100 loops each)\n"
     ]
    }
   ],
   "source": [
    "%%timeit\n",
    "with open('fmp.ujson', 'w') as f:\n",
    "    ujson.dump(js, f)"
   ]
  },
  {
   "cell_type": "code",
   "execution_count": null,
   "metadata": {},
   "outputs": [],
   "source": []
  },
  {
   "cell_type": "code",
   "execution_count": null,
   "metadata": {},
   "outputs": [],
   "source": []
  },
  {
   "cell_type": "code",
   "execution_count": null,
   "metadata": {},
   "outputs": [],
   "source": []
  },
  {
   "cell_type": "code",
   "execution_count": null,
   "metadata": {},
   "outputs": [],
   "source": []
  },
  {
   "cell_type": "markdown",
   "metadata": {},
   "source": [
    "# Persistencia con tablas \"grandes\""
   ]
  },
  {
   "cell_type": "code",
   "execution_count": 31,
   "metadata": {},
   "outputs": [],
   "source": [
    "import yfinance as yf\n",
    "import pandas as pd"
   ]
  },
  {
   "cell_type": "code",
   "execution_count": 32,
   "metadata": {},
   "outputs": [
    {
     "name": "stdout",
     "output_type": "stream",
     "text": [
      "Wall time: 2.35 s\n"
     ]
    }
   ],
   "source": [
    "%%time\n",
    "sp500_wiki = pd.read_html('https://en.wikipedia.org/wiki/List_of_S%26P_500_companies')[0]\n",
    "sp500_tickers = list(sp500_wiki.Symbol)\n",
    "sp500_tickers = [t for t in sp500_tickers if t not in ['BRK.B' ,'BF.B']]"
   ]
  },
  {
   "cell_type": "code",
   "execution_count": 33,
   "metadata": {},
   "outputs": [],
   "source": [
    "# ya que estamos\n",
    "pd.DataFrame(sp500_tickers).to_sql(con=sql_conn, name='sp500tickers', if_exists='replace')"
   ]
  },
  {
   "cell_type": "code",
   "execution_count": 34,
   "metadata": {},
   "outputs": [],
   "source": [
    "# ya que estamos\n",
    "pd.DataFrame(sp500_tickers).to_sql(con=sqlite_conn, name='sp500tickers', if_exists='replace')"
   ]
  },
  {
   "cell_type": "code",
   "execution_count": 35,
   "metadata": {},
   "outputs": [
    {
     "name": "stdout",
     "output_type": "stream",
     "text": [
      "70.6 ms ± 4.88 ms per loop (mean ± std. dev. of 7 runs, 10 loops each)\n"
     ]
    }
   ],
   "source": [
    "%%timeit\n",
    "pd.read_sql('sp500tickers', sql_conn)"
   ]
  },
  {
   "cell_type": "code",
   "execution_count": 36,
   "metadata": {},
   "outputs": [
    {
     "name": "stdout",
     "output_type": "stream",
     "text": [
      "5.37 ms ± 55.3 µs per loop (mean ± std. dev. of 7 runs, 100 loops each)\n"
     ]
    }
   ],
   "source": [
    "%%timeit\n",
    "pd.read_sql('sp500tickers', sqlite_conn)"
   ]
  },
  {
   "cell_type": "code",
   "execution_count": 38,
   "metadata": {},
   "outputs": [],
   "source": [
    "def getDataM(listado, start='2000-01-01', interval='1d', end=None):\n",
    "    data = yf.download(listado, start=start, end=end, interval=interval, auto_adjust=True)\n",
    "    return data.swaplevel(i=1, j=0, axis=1)"
   ]
  },
  {
   "cell_type": "code",
   "execution_count": 39,
   "metadata": {},
   "outputs": [
    {
     "name": "stdout",
     "output_type": "stream",
     "text": [
      "[*********************100%***********************]  503 of 503 completed\n"
     ]
    }
   ],
   "source": [
    "df_sp500 = getDataM(sp500_tickers, start='2012-01-01')"
   ]
  },
  {
   "cell_type": "markdown",
   "metadata": {},
   "source": [
    "## Preparamos la data"
   ]
  },
  {
   "cell_type": "code",
   "execution_count": 40,
   "metadata": {},
   "outputs": [],
   "source": [
    "import tqdm, sys, os"
   ]
  },
  {
   "cell_type": "code",
   "execution_count": 41,
   "metadata": {},
   "outputs": [
    {
     "name": "stdout",
     "output_type": "stream",
     "text": [
      "100%|████████████████████████████████████████████████████████████████████████████████| 503/503 [00:06<00:00, 77.33it/s]\n"
     ]
    },
    {
     "data": {
      "text/html": [
       "<div>\n",
       "<style scoped>\n",
       "    .dataframe tbody tr th:only-of-type {\n",
       "        vertical-align: middle;\n",
       "    }\n",
       "\n",
       "    .dataframe tbody tr th {\n",
       "        vertical-align: top;\n",
       "    }\n",
       "\n",
       "    .dataframe thead th {\n",
       "        text-align: right;\n",
       "    }\n",
       "</style>\n",
       "<table border=\"1\" class=\"dataframe\">\n",
       "  <thead>\n",
       "    <tr style=\"text-align: right;\">\n",
       "      <th></th>\n",
       "      <th>Close</th>\n",
       "      <th>High</th>\n",
       "      <th>Low</th>\n",
       "      <th>Open</th>\n",
       "      <th>Volume</th>\n",
       "      <th>ticker</th>\n",
       "      <th>variacion</th>\n",
       "      <th>volatilidad</th>\n",
       "      <th>vol_mln</th>\n",
       "      <th>Adj Close</th>\n",
       "    </tr>\n",
       "    <tr>\n",
       "      <th>Date</th>\n",
       "      <th></th>\n",
       "      <th></th>\n",
       "      <th></th>\n",
       "      <th></th>\n",
       "      <th></th>\n",
       "      <th></th>\n",
       "      <th></th>\n",
       "      <th></th>\n",
       "      <th></th>\n",
       "      <th></th>\n",
       "    </tr>\n",
       "  </thead>\n",
       "  <tbody>\n",
       "    <tr>\n",
       "      <th>2012-12-31</th>\n",
       "      <td>75.33</td>\n",
       "      <td>75.39</td>\n",
       "      <td>74.15</td>\n",
       "      <td>74.27</td>\n",
       "      <td>2580600.0</td>\n",
       "      <td>MMM</td>\n",
       "      <td>1.17</td>\n",
       "      <td>14.14</td>\n",
       "      <td>194.39</td>\n",
       "      <td>NaN</td>\n",
       "    </tr>\n",
       "    <tr>\n",
       "      <th>2013-01-02</th>\n",
       "      <td>76.89</td>\n",
       "      <td>76.90</td>\n",
       "      <td>76.23</td>\n",
       "      <td>76.42</td>\n",
       "      <td>3206700.0</td>\n",
       "      <td>MMM</td>\n",
       "      <td>2.08</td>\n",
       "      <td>14.26</td>\n",
       "      <td>246.58</td>\n",
       "      <td>NaN</td>\n",
       "    </tr>\n",
       "    <tr>\n",
       "      <th>2013-01-03</th>\n",
       "      <td>76.81</td>\n",
       "      <td>77.02</td>\n",
       "      <td>76.37</td>\n",
       "      <td>76.54</td>\n",
       "      <td>2704600.0</td>\n",
       "      <td>MMM</td>\n",
       "      <td>-0.12</td>\n",
       "      <td>14.25</td>\n",
       "      <td>207.73</td>\n",
       "      <td>NaN</td>\n",
       "    </tr>\n",
       "    <tr>\n",
       "      <th>2013-01-04</th>\n",
       "      <td>77.37</td>\n",
       "      <td>77.46</td>\n",
       "      <td>76.70</td>\n",
       "      <td>76.90</td>\n",
       "      <td>2704900.0</td>\n",
       "      <td>MMM</td>\n",
       "      <td>0.74</td>\n",
       "      <td>14.25</td>\n",
       "      <td>209.29</td>\n",
       "      <td>NaN</td>\n",
       "    </tr>\n",
       "    <tr>\n",
       "      <th>2013-01-07</th>\n",
       "      <td>77.47</td>\n",
       "      <td>77.67</td>\n",
       "      <td>76.88</td>\n",
       "      <td>77.09</td>\n",
       "      <td>2745800.0</td>\n",
       "      <td>MMM</td>\n",
       "      <td>0.13</td>\n",
       "      <td>14.24</td>\n",
       "      <td>212.72</td>\n",
       "      <td>NaN</td>\n",
       "    </tr>\n",
       "    <tr>\n",
       "      <th>...</th>\n",
       "      <td>...</td>\n",
       "      <td>...</td>\n",
       "      <td>...</td>\n",
       "      <td>...</td>\n",
       "      <td>...</td>\n",
       "      <td>...</td>\n",
       "      <td>...</td>\n",
       "      <td>...</td>\n",
       "      <td>...</td>\n",
       "      <td>...</td>\n",
       "    </tr>\n",
       "    <tr>\n",
       "      <th>2020-10-12</th>\n",
       "      <td>168.55</td>\n",
       "      <td>168.96</td>\n",
       "      <td>166.19</td>\n",
       "      <td>167.08</td>\n",
       "      <td>1582300.0</td>\n",
       "      <td>ZTS</td>\n",
       "      <td>1.89</td>\n",
       "      <td>38.37</td>\n",
       "      <td>266.70</td>\n",
       "      <td>NaN</td>\n",
       "    </tr>\n",
       "    <tr>\n",
       "      <th>2020-10-13</th>\n",
       "      <td>165.32</td>\n",
       "      <td>168.06</td>\n",
       "      <td>165.31</td>\n",
       "      <td>167.84</td>\n",
       "      <td>1515800.0</td>\n",
       "      <td>ZTS</td>\n",
       "      <td>-1.92</td>\n",
       "      <td>38.42</td>\n",
       "      <td>250.59</td>\n",
       "      <td>NaN</td>\n",
       "    </tr>\n",
       "    <tr>\n",
       "      <th>2020-10-14</th>\n",
       "      <td>163.66</td>\n",
       "      <td>166.70</td>\n",
       "      <td>162.79</td>\n",
       "      <td>166.54</td>\n",
       "      <td>1319500.0</td>\n",
       "      <td>ZTS</td>\n",
       "      <td>-1.00</td>\n",
       "      <td>38.44</td>\n",
       "      <td>215.95</td>\n",
       "      <td>NaN</td>\n",
       "    </tr>\n",
       "    <tr>\n",
       "      <th>2020-10-15</th>\n",
       "      <td>162.99</td>\n",
       "      <td>163.23</td>\n",
       "      <td>161.21</td>\n",
       "      <td>162.05</td>\n",
       "      <td>1363800.0</td>\n",
       "      <td>ZTS</td>\n",
       "      <td>-0.41</td>\n",
       "      <td>38.44</td>\n",
       "      <td>222.29</td>\n",
       "      <td>NaN</td>\n",
       "    </tr>\n",
       "    <tr>\n",
       "      <th>2020-10-16</th>\n",
       "      <td>163.58</td>\n",
       "      <td>165.85</td>\n",
       "      <td>163.33</td>\n",
       "      <td>163.98</td>\n",
       "      <td>897347.0</td>\n",
       "      <td>ZTS</td>\n",
       "      <td>0.36</td>\n",
       "      <td>38.42</td>\n",
       "      <td>146.79</td>\n",
       "      <td>NaN</td>\n",
       "    </tr>\n",
       "  </tbody>\n",
       "</table>\n",
       "<p>943577 rows × 10 columns</p>\n",
       "</div>"
      ],
      "text/plain": [
       "             Close    High     Low    Open     Volume ticker  variacion  \\\n",
       "Date                                                                      \n",
       "2012-12-31   75.33   75.39   74.15   74.27  2580600.0    MMM       1.17   \n",
       "2013-01-02   76.89   76.90   76.23   76.42  3206700.0    MMM       2.08   \n",
       "2013-01-03   76.81   77.02   76.37   76.54  2704600.0    MMM      -0.12   \n",
       "2013-01-04   77.37   77.46   76.70   76.90  2704900.0    MMM       0.74   \n",
       "2013-01-07   77.47   77.67   76.88   77.09  2745800.0    MMM       0.13   \n",
       "...            ...     ...     ...     ...        ...    ...        ...   \n",
       "2020-10-12  168.55  168.96  166.19  167.08  1582300.0    ZTS       1.89   \n",
       "2020-10-13  165.32  168.06  165.31  167.84  1515800.0    ZTS      -1.92   \n",
       "2020-10-14  163.66  166.70  162.79  166.54  1319500.0    ZTS      -1.00   \n",
       "2020-10-15  162.99  163.23  161.21  162.05  1363800.0    ZTS      -0.41   \n",
       "2020-10-16  163.58  165.85  163.33  163.98   897347.0    ZTS       0.36   \n",
       "\n",
       "            volatilidad  vol_mln  Adj Close  \n",
       "Date                                         \n",
       "2012-12-31        14.14   194.39        NaN  \n",
       "2013-01-02        14.26   246.58        NaN  \n",
       "2013-01-03        14.25   207.73        NaN  \n",
       "2013-01-04        14.25   209.29        NaN  \n",
       "2013-01-07        14.24   212.72        NaN  \n",
       "...                 ...      ...        ...  \n",
       "2020-10-12        38.37   266.70        NaN  \n",
       "2020-10-13        38.42   250.59        NaN  \n",
       "2020-10-14        38.44   215.95        NaN  \n",
       "2020-10-15        38.44   222.29        NaN  \n",
       "2020-10-16        38.42   146.79        NaN  \n",
       "\n",
       "[943577 rows x 10 columns]"
      ]
     },
     "execution_count": 41,
     "metadata": {},
     "output_type": "execute_result"
    }
   ],
   "source": [
    "tablas = []\n",
    "with tqdm.tqdm(total=len(sp500_tickers), file=sys.stdout) as pbar:\n",
    "    for ticker in sp500_tickers:\n",
    "        pbar.update()\n",
    "        tabla = df_sp500[ticker].copy()\n",
    "        tabla['ticker'] = ticker\n",
    "        tabla['variacion'] = tabla.Close.pct_change() *100\n",
    "        tabla['volatilidad'] = tabla.variacion.rolling(250).std() * 250**0.5\n",
    "        tabla['vol_mln'] = tabla.Volume * tabla.Close / 1000000\n",
    "        tabla = tabla.dropna().round(2)\n",
    "        tablas.append(tabla)\n",
    "\n",
    "tabla_full = pd.concat(tablas)        \n",
    "tabla_full"
   ]
  },
  {
   "cell_type": "markdown",
   "metadata": {},
   "source": [
    "## A excel de una"
   ]
  },
  {
   "cell_type": "code",
   "execution_count": 42,
   "metadata": {},
   "outputs": [
    {
     "name": "stdout",
     "output_type": "stream",
     "text": [
      "Wall time: 4min 25s\n"
     ]
    }
   ],
   "source": [
    "%%time\n",
    "tabla_full.to_excel('df_sp500.xlsx')"
   ]
  },
  {
   "cell_type": "markdown",
   "metadata": {},
   "source": [
    "## A Excel en archivitos"
   ]
  },
  {
   "cell_type": "code",
   "execution_count": 43,
   "metadata": {},
   "outputs": [],
   "source": [
    "#os.mkdir('excels_sp500')\n",
    "os.chdir('excels_sp500')"
   ]
  },
  {
   "cell_type": "code",
   "execution_count": 45,
   "metadata": {},
   "outputs": [
    {
     "data": {
      "text/plain": [
       "'C:\\\\Users\\\\floda\\\\Desktop\\\\PythonTraders\\\\Persistencia\\\\excels_sp500'"
      ]
     },
     "execution_count": 45,
     "metadata": {},
     "output_type": "execute_result"
    }
   ],
   "source": [
    "os.getcwd()"
   ]
  },
  {
   "cell_type": "code",
   "execution_count": 46,
   "metadata": {
    "scrolled": true
   },
   "outputs": [
    {
     "name": "stdout",
     "output_type": "stream",
     "text": [
      "100%|████████████████████████████████████████████████████████████████████████████████| 503/503 [04:08<00:00,  2.02it/s]\n",
      "Wall time: 4min 8s\n"
     ]
    }
   ],
   "source": [
    "%%time\n",
    "with tqdm.tqdm(total=len(sp500_tickers), file=sys.stdout) as pbar:\n",
    "    for ticker in sp500_tickers:\n",
    "        pbar.update()\n",
    "        tabla = df_sp500[ticker].copy()\n",
    "        tabla['ticker'] = ticker\n",
    "        tabla['variacion'] = tabla.Close.pct_change()\n",
    "        tabla['volatilidad'] = tabla.variacion.rolling(250).std() * 250**0.5\n",
    "        tabla['vol_mln'] = tabla.Volume * tabla.Close / 1000000\n",
    "        tabla = tabla.dropna().round(2)\n",
    "        tabla.to_excel(ticker+'.xlsx') "
   ]
  },
  {
   "cell_type": "code",
   "execution_count": 47,
   "metadata": {},
   "outputs": [
    {
     "data": {
      "text/plain": [
       "'C:\\\\Users\\\\floda\\\\Desktop\\\\PythonTraders\\\\Persistencia\\\\excels_sp500'"
      ]
     },
     "execution_count": 47,
     "metadata": {},
     "output_type": "execute_result"
    }
   ],
   "source": [
    "os.getcwd()"
   ]
  },
  {
   "cell_type": "code",
   "execution_count": 48,
   "metadata": {},
   "outputs": [],
   "source": [
    "os.chdir('..')"
   ]
  },
  {
   "cell_type": "code",
   "execution_count": 52,
   "metadata": {},
   "outputs": [
    {
     "data": {
      "text/plain": [
       "'C:\\\\Users\\\\floda\\\\Desktop\\\\PythonTraders\\\\Persistencia'"
      ]
     },
     "execution_count": 52,
     "metadata": {},
     "output_type": "execute_result"
    }
   ],
   "source": [
    "os.getcwd()"
   ]
  },
  {
   "cell_type": "markdown",
   "metadata": {},
   "source": [
    "## A SQLite por tablas"
   ]
  },
  {
   "cell_type": "code",
   "execution_count": 50,
   "metadata": {},
   "outputs": [],
   "source": [
    "sqlite_engine = create_engine('sqlite:///df_sp500.db', echo=False)\n",
    "sqlite_conn = sqlite_engine.connect()"
   ]
  },
  {
   "cell_type": "code",
   "execution_count": 51,
   "metadata": {},
   "outputs": [
    {
     "name": "stdout",
     "output_type": "stream",
     "text": [
      "100%|████████████████████████████████████████████████████████████████████████████████| 503/503 [01:12<00:00,  6.98it/s]\n"
     ]
    }
   ],
   "source": [
    "with tqdm.tqdm(total=len(sp500_tickers), file=sys.stdout) as pbar:\n",
    "    for ticker in sp500_tickers:\n",
    "        pbar.update()\n",
    "        tabla_full.loc[tabla_full.ticker == ticker].to_sql(con=sqlite_conn, name=ticker, if_exists='replace')"
   ]
  },
  {
   "cell_type": "markdown",
   "metadata": {},
   "source": [
    "## A SQLite entera"
   ]
  },
  {
   "cell_type": "code",
   "execution_count": 53,
   "metadata": {},
   "outputs": [
    {
     "name": "stdout",
     "output_type": "stream",
     "text": [
      "Wall time: 60 s\n"
     ]
    }
   ],
   "source": [
    "%%time\n",
    "tabla_full.to_sql(con=sqlite_conn, name='sp500', if_exists='replace')"
   ]
  },
  {
   "cell_type": "markdown",
   "metadata": {},
   "source": [
    "## A mySQL por tablas"
   ]
  },
  {
   "cell_type": "code",
   "execution_count": 54,
   "metadata": {},
   "outputs": [
    {
     "name": "stdout",
     "output_type": "stream",
     "text": [
      "100%|████████████████████████████████████████████████████████████████████████████████| 503/503 [03:36<00:00,  2.32it/s]\n"
     ]
    }
   ],
   "source": [
    "with tqdm.tqdm(total=len(sp500_tickers), file=sys.stdout) as pbar:\n",
    "    for ticker in sp500_tickers:\n",
    "        pbar.update()\n",
    "        tabla_full.loc[tabla_full.ticker == ticker].to_sql(con=sql_conn, name=ticker.lower(), if_exists='replace')"
   ]
  },
  {
   "cell_type": "markdown",
   "metadata": {},
   "source": [
    "## A MySQL entera"
   ]
  },
  {
   "cell_type": "code",
   "execution_count": 55,
   "metadata": {},
   "outputs": [
    {
     "name": "stdout",
     "output_type": "stream",
     "text": [
      "Wall time: 1min 40s\n"
     ]
    }
   ],
   "source": [
    "%%time\n",
    "tabla_full.to_sql(con=sql_conn, name='sp500', if_exists='replace')"
   ]
  },
  {
   "cell_type": "markdown",
   "metadata": {},
   "source": [
    "# Lectura de datos guardados"
   ]
  },
  {
   "cell_type": "markdown",
   "metadata": {},
   "source": [
    "## Lectura desde Excel o Tablas x Activo"
   ]
  },
  {
   "cell_type": "markdown",
   "metadata": {},
   "source": [
    "### Excel"
   ]
  },
  {
   "cell_type": "code",
   "execution_count": 56,
   "metadata": {},
   "outputs": [
    {
     "data": {
      "text/plain": [
       "'C:\\\\Users\\\\floda\\\\Desktop\\\\PythonTraders\\\\Persistencia'"
      ]
     },
     "execution_count": 56,
     "metadata": {},
     "output_type": "execute_result"
    }
   ],
   "source": [
    "os.getcwd()"
   ]
  },
  {
   "cell_type": "code",
   "execution_count": 57,
   "metadata": {},
   "outputs": [],
   "source": [
    "os.chdir('excels_sp500')"
   ]
  },
  {
   "cell_type": "code",
   "execution_count": 58,
   "metadata": {},
   "outputs": [
    {
     "data": {
      "text/plain": [
       "'C:\\\\Users\\\\floda\\\\Desktop\\\\PythonTraders\\\\Persistencia\\\\excels_sp500'"
      ]
     },
     "execution_count": 58,
     "metadata": {},
     "output_type": "execute_result"
    }
   ],
   "source": [
    "os.getcwd()"
   ]
  },
  {
   "cell_type": "code",
   "execution_count": 59,
   "metadata": {},
   "outputs": [
    {
     "name": "stdout",
     "output_type": "stream",
     "text": [
      "298 ms ± 43.8 ms per loop (mean ± std. dev. of 7 runs, 1 loop each)\n"
     ]
    }
   ],
   "source": [
    "%%timeit\n",
    "pd.read_excel('AAPL.xlsx')"
   ]
  },
  {
   "cell_type": "markdown",
   "metadata": {},
   "source": [
    "### SQL"
   ]
  },
  {
   "cell_type": "code",
   "execution_count": 60,
   "metadata": {},
   "outputs": [
    {
     "name": "stdout",
     "output_type": "stream",
     "text": [
      "100 ms ± 3.6 ms per loop (mean ± std. dev. of 7 runs, 10 loops each)\n"
     ]
    }
   ],
   "source": [
    "%%timeit\n",
    "pd.read_sql('aapl', con=sql_conn)"
   ]
  },
  {
   "cell_type": "markdown",
   "metadata": {},
   "source": [
    "### SQLite"
   ]
  },
  {
   "cell_type": "code",
   "execution_count": 61,
   "metadata": {},
   "outputs": [
    {
     "name": "stdout",
     "output_type": "stream",
     "text": [
      "28.5 ms ± 413 µs per loop (mean ± std. dev. of 7 runs, 10 loops each)\n"
     ]
    }
   ],
   "source": [
    "%%timeit\n",
    "pd.read_sql('AAPL', con=sqlite_conn)"
   ]
  },
  {
   "cell_type": "markdown",
   "metadata": {},
   "source": [
    "## Lectura completa desde MySQL"
   ]
  },
  {
   "cell_type": "code",
   "execution_count": 62,
   "metadata": {},
   "outputs": [
    {
     "name": "stdout",
     "output_type": "stream",
     "text": [
      "33.2 s ± 4.39 s per loop (mean ± std. dev. of 7 runs, 1 loop each)\n"
     ]
    }
   ],
   "source": [
    "%%timeit\n",
    "pd.read_sql('sp500', con=sql_conn)"
   ]
  },
  {
   "cell_type": "markdown",
   "metadata": {},
   "source": [
    "## Lectura completa desde SQLite"
   ]
  },
  {
   "cell_type": "code",
   "execution_count": 63,
   "metadata": {},
   "outputs": [
    {
     "name": "stdout",
     "output_type": "stream",
     "text": [
      "9.37 s ± 889 ms per loop (mean ± std. dev. of 7 runs, 1 loop each)\n"
     ]
    }
   ],
   "source": [
    "%%timeit\n",
    "pd.read_sql('sp500', con=sqlite_conn)"
   ]
  },
  {
   "cell_type": "markdown",
   "metadata": {},
   "source": [
    "## Lectura completa desde Excel"
   ]
  },
  {
   "cell_type": "code",
   "execution_count": 64,
   "metadata": {},
   "outputs": [
    {
     "data": {
      "text/plain": [
       "'C:\\\\Users\\\\floda\\\\Desktop\\\\PythonTraders\\\\Persistencia'"
      ]
     },
     "execution_count": 64,
     "metadata": {},
     "output_type": "execute_result"
    }
   ],
   "source": [
    "os.chdir('..')\n",
    "os.getcwd()"
   ]
  },
  {
   "cell_type": "code",
   "execution_count": 65,
   "metadata": {},
   "outputs": [
    {
     "name": "stdout",
     "output_type": "stream",
     "text": [
      "Wall time: 2min 9s\n"
     ]
    },
    {
     "data": {
      "text/html": [
       "<div>\n",
       "<style scoped>\n",
       "    .dataframe tbody tr th:only-of-type {\n",
       "        vertical-align: middle;\n",
       "    }\n",
       "\n",
       "    .dataframe tbody tr th {\n",
       "        vertical-align: top;\n",
       "    }\n",
       "\n",
       "    .dataframe thead th {\n",
       "        text-align: right;\n",
       "    }\n",
       "</style>\n",
       "<table border=\"1\" class=\"dataframe\">\n",
       "  <thead>\n",
       "    <tr style=\"text-align: right;\">\n",
       "      <th></th>\n",
       "      <th>Date</th>\n",
       "      <th>Close</th>\n",
       "      <th>High</th>\n",
       "      <th>Low</th>\n",
       "      <th>Open</th>\n",
       "      <th>Volume</th>\n",
       "      <th>ticker</th>\n",
       "      <th>variacion</th>\n",
       "      <th>volatilidad</th>\n",
       "      <th>vol_mln</th>\n",
       "      <th>Adj Close</th>\n",
       "    </tr>\n",
       "  </thead>\n",
       "  <tbody>\n",
       "    <tr>\n",
       "      <th>0</th>\n",
       "      <td>2012-12-31</td>\n",
       "      <td>75.33</td>\n",
       "      <td>75.39</td>\n",
       "      <td>74.15</td>\n",
       "      <td>74.27</td>\n",
       "      <td>2580600</td>\n",
       "      <td>MMM</td>\n",
       "      <td>1.17</td>\n",
       "      <td>14.14</td>\n",
       "      <td>194.39</td>\n",
       "      <td>NaN</td>\n",
       "    </tr>\n",
       "    <tr>\n",
       "      <th>1</th>\n",
       "      <td>2013-01-02</td>\n",
       "      <td>76.89</td>\n",
       "      <td>76.90</td>\n",
       "      <td>76.23</td>\n",
       "      <td>76.42</td>\n",
       "      <td>3206700</td>\n",
       "      <td>MMM</td>\n",
       "      <td>2.08</td>\n",
       "      <td>14.26</td>\n",
       "      <td>246.58</td>\n",
       "      <td>NaN</td>\n",
       "    </tr>\n",
       "    <tr>\n",
       "      <th>2</th>\n",
       "      <td>2013-01-03</td>\n",
       "      <td>76.81</td>\n",
       "      <td>77.02</td>\n",
       "      <td>76.37</td>\n",
       "      <td>76.54</td>\n",
       "      <td>2704600</td>\n",
       "      <td>MMM</td>\n",
       "      <td>-0.12</td>\n",
       "      <td>14.25</td>\n",
       "      <td>207.73</td>\n",
       "      <td>NaN</td>\n",
       "    </tr>\n",
       "    <tr>\n",
       "      <th>3</th>\n",
       "      <td>2013-01-04</td>\n",
       "      <td>77.37</td>\n",
       "      <td>77.46</td>\n",
       "      <td>76.70</td>\n",
       "      <td>76.90</td>\n",
       "      <td>2704900</td>\n",
       "      <td>MMM</td>\n",
       "      <td>0.74</td>\n",
       "      <td>14.25</td>\n",
       "      <td>209.29</td>\n",
       "      <td>NaN</td>\n",
       "    </tr>\n",
       "    <tr>\n",
       "      <th>4</th>\n",
       "      <td>2013-01-07</td>\n",
       "      <td>77.47</td>\n",
       "      <td>77.67</td>\n",
       "      <td>76.88</td>\n",
       "      <td>77.09</td>\n",
       "      <td>2745800</td>\n",
       "      <td>MMM</td>\n",
       "      <td>0.13</td>\n",
       "      <td>14.24</td>\n",
       "      <td>212.72</td>\n",
       "      <td>NaN</td>\n",
       "    </tr>\n",
       "    <tr>\n",
       "      <th>...</th>\n",
       "      <td>...</td>\n",
       "      <td>...</td>\n",
       "      <td>...</td>\n",
       "      <td>...</td>\n",
       "      <td>...</td>\n",
       "      <td>...</td>\n",
       "      <td>...</td>\n",
       "      <td>...</td>\n",
       "      <td>...</td>\n",
       "      <td>...</td>\n",
       "      <td>...</td>\n",
       "    </tr>\n",
       "    <tr>\n",
       "      <th>943572</th>\n",
       "      <td>2020-10-12</td>\n",
       "      <td>168.55</td>\n",
       "      <td>168.96</td>\n",
       "      <td>166.19</td>\n",
       "      <td>167.08</td>\n",
       "      <td>1582300</td>\n",
       "      <td>ZTS</td>\n",
       "      <td>1.89</td>\n",
       "      <td>38.37</td>\n",
       "      <td>266.70</td>\n",
       "      <td>NaN</td>\n",
       "    </tr>\n",
       "    <tr>\n",
       "      <th>943573</th>\n",
       "      <td>2020-10-13</td>\n",
       "      <td>165.32</td>\n",
       "      <td>168.06</td>\n",
       "      <td>165.31</td>\n",
       "      <td>167.84</td>\n",
       "      <td>1515800</td>\n",
       "      <td>ZTS</td>\n",
       "      <td>-1.92</td>\n",
       "      <td>38.42</td>\n",
       "      <td>250.59</td>\n",
       "      <td>NaN</td>\n",
       "    </tr>\n",
       "    <tr>\n",
       "      <th>943574</th>\n",
       "      <td>2020-10-14</td>\n",
       "      <td>163.66</td>\n",
       "      <td>166.70</td>\n",
       "      <td>162.79</td>\n",
       "      <td>166.54</td>\n",
       "      <td>1319500</td>\n",
       "      <td>ZTS</td>\n",
       "      <td>-1.00</td>\n",
       "      <td>38.44</td>\n",
       "      <td>215.95</td>\n",
       "      <td>NaN</td>\n",
       "    </tr>\n",
       "    <tr>\n",
       "      <th>943575</th>\n",
       "      <td>2020-10-15</td>\n",
       "      <td>162.99</td>\n",
       "      <td>163.23</td>\n",
       "      <td>161.21</td>\n",
       "      <td>162.05</td>\n",
       "      <td>1363800</td>\n",
       "      <td>ZTS</td>\n",
       "      <td>-0.41</td>\n",
       "      <td>38.44</td>\n",
       "      <td>222.29</td>\n",
       "      <td>NaN</td>\n",
       "    </tr>\n",
       "    <tr>\n",
       "      <th>943576</th>\n",
       "      <td>2020-10-16</td>\n",
       "      <td>163.58</td>\n",
       "      <td>165.85</td>\n",
       "      <td>163.33</td>\n",
       "      <td>163.98</td>\n",
       "      <td>897347</td>\n",
       "      <td>ZTS</td>\n",
       "      <td>0.36</td>\n",
       "      <td>38.42</td>\n",
       "      <td>146.79</td>\n",
       "      <td>NaN</td>\n",
       "    </tr>\n",
       "  </tbody>\n",
       "</table>\n",
       "<p>943577 rows × 11 columns</p>\n",
       "</div>"
      ],
      "text/plain": [
       "             Date   Close    High     Low    Open   Volume ticker  variacion  \\\n",
       "0      2012-12-31   75.33   75.39   74.15   74.27  2580600    MMM       1.17   \n",
       "1      2013-01-02   76.89   76.90   76.23   76.42  3206700    MMM       2.08   \n",
       "2      2013-01-03   76.81   77.02   76.37   76.54  2704600    MMM      -0.12   \n",
       "3      2013-01-04   77.37   77.46   76.70   76.90  2704900    MMM       0.74   \n",
       "4      2013-01-07   77.47   77.67   76.88   77.09  2745800    MMM       0.13   \n",
       "...           ...     ...     ...     ...     ...      ...    ...        ...   \n",
       "943572 2020-10-12  168.55  168.96  166.19  167.08  1582300    ZTS       1.89   \n",
       "943573 2020-10-13  165.32  168.06  165.31  167.84  1515800    ZTS      -1.92   \n",
       "943574 2020-10-14  163.66  166.70  162.79  166.54  1319500    ZTS      -1.00   \n",
       "943575 2020-10-15  162.99  163.23  161.21  162.05  1363800    ZTS      -0.41   \n",
       "943576 2020-10-16  163.58  165.85  163.33  163.98   897347    ZTS       0.36   \n",
       "\n",
       "        volatilidad  vol_mln  Adj Close  \n",
       "0             14.14   194.39        NaN  \n",
       "1             14.26   246.58        NaN  \n",
       "2             14.25   207.73        NaN  \n",
       "3             14.25   209.29        NaN  \n",
       "4             14.24   212.72        NaN  \n",
       "...             ...      ...        ...  \n",
       "943572        38.37   266.70        NaN  \n",
       "943573        38.42   250.59        NaN  \n",
       "943574        38.44   215.95        NaN  \n",
       "943575        38.44   222.29        NaN  \n",
       "943576        38.42   146.79        NaN  \n",
       "\n",
       "[943577 rows x 11 columns]"
      ]
     },
     "execution_count": 65,
     "metadata": {},
     "output_type": "execute_result"
    }
   ],
   "source": [
    "%%time\n",
    "pd.read_excel('df_sp500.xlsx')"
   ]
  },
  {
   "cell_type": "code",
   "execution_count": null,
   "metadata": {},
   "outputs": [],
   "source": []
  },
  {
   "cell_type": "code",
   "execution_count": null,
   "metadata": {},
   "outputs": [],
   "source": []
  }
 ],
 "metadata": {
  "kernelspec": {
   "display_name": "Python 3",
   "language": "python",
   "name": "python3"
  },
  "language_info": {
   "codemirror_mode": {
    "name": "ipython",
    "version": 3
   },
   "file_extension": ".py",
   "mimetype": "text/x-python",
   "name": "python",
   "nbconvert_exporter": "python",
   "pygments_lexer": "ipython3",
   "version": "3.8.5"
  },
  "toc": {
   "base_numbering": 1,
   "nav_menu": {},
   "number_sections": true,
   "sideBar": true,
   "skip_h1_title": false,
   "title_cell": "Table of Contents",
   "title_sidebar": "Contents",
   "toc_cell": false,
   "toc_position": {},
   "toc_section_display": true,
   "toc_window_display": true
  },
  "varInspector": {
   "cols": {
    "lenName": 16,
    "lenType": 16,
    "lenVar": 40
   },
   "kernels_config": {
    "python": {
     "delete_cmd_postfix": "",
     "delete_cmd_prefix": "del ",
     "library": "var_list.py",
     "varRefreshCmd": "print(var_dic_list())"
    },
    "r": {
     "delete_cmd_postfix": ") ",
     "delete_cmd_prefix": "rm(",
     "library": "var_list.r",
     "varRefreshCmd": "cat(var_dic_list()) "
    }
   },
   "types_to_exclude": [
    "module",
    "function",
    "builtin_function_or_method",
    "instance",
    "_Feature"
   ],
   "window_display": false
  }
 },
 "nbformat": 4,
 "nbformat_minor": 4
}
