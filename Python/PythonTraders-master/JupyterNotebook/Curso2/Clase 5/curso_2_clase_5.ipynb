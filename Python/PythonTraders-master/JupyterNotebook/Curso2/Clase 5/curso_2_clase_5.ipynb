{
 "cells": [
  {
   "cell_type": "markdown",
   "metadata": {},
   "source": [
    "# Alpaca"
   ]
  },
  {
   "cell_type": "markdown",
   "metadata": {},
   "source": [
    "Registrarse:\n",
    "\n",
    "\n",
    "https://alpaca.markets/"
   ]
  },
  {
   "cell_type": "markdown",
   "metadata": {},
   "source": [
    "Documentacion:\n",
    "\n",
    "\n",
    "https://alpaca.markets/docs/"
   ]
  },
  {
   "cell_type": "code",
   "execution_count": 1,
   "metadata": {},
   "outputs": [],
   "source": [
    "import requests"
   ]
  },
  {
   "cell_type": "code",
   "execution_count": 2,
   "metadata": {},
   "outputs": [],
   "source": [
    "from keys_alpaca import *"
   ]
  },
  {
   "cell_type": "code",
   "execution_count": 3,
   "metadata": {},
   "outputs": [],
   "source": [
    "def getAccount():    \n",
    "    \n",
    "    headers ={\"APCA-API-KEY-ID\" : api_key, \"APCA-API-SECRET-KEY\":secret_key}\n",
    "    endpoint = \"https://paper-api.alpaca.markets/v2/account\"\n",
    "    \n",
    "    r = requests.get(url = endpoint, headers = headers)\n",
    "    \n",
    "    js = r.json()\n",
    "    return js"
   ]
  },
  {
   "cell_type": "markdown",
   "metadata": {},
   "source": [
    "Veamos entonces lo que nos devuelve:"
   ]
  },
  {
   "cell_type": "code",
   "execution_count": 4,
   "metadata": {},
   "outputs": [
    {
     "data": {
      "text/plain": [
       "'100000'"
      ]
     },
     "execution_count": 4,
     "metadata": {},
     "output_type": "execute_result"
    }
   ],
   "source": [
    "cuenta  = getAccount()\n",
    "\n",
    "cuenta.get('cash')"
   ]
  },
  {
   "cell_type": "code",
   "execution_count": 5,
   "metadata": {},
   "outputs": [
    {
     "data": {
      "text/plain": [
       "dict_keys(['id', 'account_number', 'status', 'currency', 'buying_power', 'regt_buying_power', 'daytrading_buying_power', 'cash', 'portfolio_value', 'pattern_day_trader', 'trading_blocked', 'transfers_blocked', 'account_blocked', 'created_at', 'trade_suspended_by_user', 'multiplier', 'shorting_enabled', 'equity', 'last_equity', 'long_market_value', 'short_market_value', 'initial_margin', 'maintenance_margin', 'last_maintenance_margin', 'sma', 'daytrade_count'])"
      ]
     },
     "execution_count": 5,
     "metadata": {},
     "output_type": "execute_result"
    }
   ],
   "source": [
    "cuenta.keys()"
   ]
  },
  {
   "cell_type": "markdown",
   "metadata": {},
   "source": [
    "## MarketData"
   ]
  },
  {
   "cell_type": "markdown",
   "metadata": {},
   "source": [
    "Vamos a ver como pedimos marketData con esta API, empecemos por la data histórica, le vamos a tener que pasar dos parámetros a la API:\n",
    "   * TimeFrame\n",
    "       * 1Min\n",
    "       * 5Min\n",
    "       * 15Min\n",
    "       * 1D (day)\n",
    "   * Symbolo/Simbolos"
   ]
  },
  {
   "cell_type": "code",
   "execution_count": 6,
   "metadata": {},
   "outputs": [
    {
     "data": {
      "text/plain": [
       "['AAPL', 'MSFT']"
      ]
     },
     "execution_count": 6,
     "metadata": {},
     "output_type": "execute_result"
    }
   ],
   "source": [
    "tickers = 'AAPL,MSFT'\n",
    "tickers = tickers.split(\",\")\n",
    "tickers"
   ]
  },
  {
   "cell_type": "code",
   "execution_count": 7,
   "metadata": {},
   "outputs": [
    {
     "data": {
      "text/plain": [
       "'GGAL,AAPL,AMZN'"
      ]
     },
     "execution_count": 7,
     "metadata": {},
     "output_type": "execute_result"
    }
   ],
   "source": [
    "lista = ['GGAL','AAPL','AMZN']\n",
    "','.join(lista)"
   ]
  },
  {
   "cell_type": "code",
   "execution_count": 8,
   "metadata": {},
   "outputs": [],
   "source": [
    "import datetime as dt\n",
    "import pandas as pd\n",
    "\n",
    "def getHistory(symbol, start, end, timeframe='1D'):    \n",
    "    \n",
    "    start = dt.datetime.strftime(start, format='%Y-%m-%dT%T-04:00')\n",
    "    end = dt.datetime.strftime(end, format='%Y-%m-%dT%T-04:00')\n",
    "\n",
    "    headers ={\"APCA-API-KEY-ID\" : api_key, \"APCA-API-SECRET-KEY\":secret_key}\n",
    "    params =  {'symbols' : symbol, 'start':start, 'end':end}\n",
    "    endpoint = \"https://data.alpaca.markets/v1/bars/\"+timeframe\n",
    "    \n",
    "    r = requests.get(url = endpoint, headers =headers, params=params)\n",
    "    \n",
    "    js = r.json()\n",
    "    \n",
    "    tickers = symbol.split(\",\")\n",
    "    dfs = {}\n",
    "    for ticker in tickers:\n",
    "        dfs[ticker] = pd.DataFrame(js[ticker])\n",
    "        dfs[ticker].t = pd.to_datetime(dfs[ticker].t, unit='s')\n",
    "    return dfs"
   ]
  },
  {
   "cell_type": "code",
   "execution_count": 9,
   "metadata": {},
   "outputs": [
    {
     "data": {
      "text/html": [
       "<div>\n",
       "<style scoped>\n",
       "    .dataframe tbody tr th:only-of-type {\n",
       "        vertical-align: middle;\n",
       "    }\n",
       "\n",
       "    .dataframe tbody tr th {\n",
       "        vertical-align: top;\n",
       "    }\n",
       "\n",
       "    .dataframe thead th {\n",
       "        text-align: right;\n",
       "    }\n",
       "</style>\n",
       "<table border=\"1\" class=\"dataframe\">\n",
       "  <thead>\n",
       "    <tr style=\"text-align: right;\">\n",
       "      <th></th>\n",
       "      <th>t</th>\n",
       "      <th>o</th>\n",
       "      <th>h</th>\n",
       "      <th>l</th>\n",
       "      <th>c</th>\n",
       "      <th>v</th>\n",
       "    </tr>\n",
       "  </thead>\n",
       "  <tbody>\n",
       "    <tr>\n",
       "      <th>0</th>\n",
       "      <td>2020-07-01 04:00:00</td>\n",
       "      <td>365.12</td>\n",
       "      <td>367.36</td>\n",
       "      <td>363.91</td>\n",
       "      <td>364.01</td>\n",
       "      <td>25429807</td>\n",
       "    </tr>\n",
       "    <tr>\n",
       "      <th>1</th>\n",
       "      <td>2020-07-02 04:00:00</td>\n",
       "      <td>367.85</td>\n",
       "      <td>370.47</td>\n",
       "      <td>363.65</td>\n",
       "      <td>364.12</td>\n",
       "      <td>25332853</td>\n",
       "    </tr>\n",
       "    <tr>\n",
       "      <th>2</th>\n",
       "      <td>2020-07-06 04:00:00</td>\n",
       "      <td>370.00</td>\n",
       "      <td>375.78</td>\n",
       "      <td>369.87</td>\n",
       "      <td>373.81</td>\n",
       "      <td>26084791</td>\n",
       "    </tr>\n",
       "    <tr>\n",
       "      <th>3</th>\n",
       "      <td>2020-07-07 04:00:00</td>\n",
       "      <td>375.41</td>\n",
       "      <td>378.62</td>\n",
       "      <td>372.23</td>\n",
       "      <td>372.64</td>\n",
       "      <td>24610596</td>\n",
       "    </tr>\n",
       "    <tr>\n",
       "      <th>4</th>\n",
       "      <td>2020-07-08 04:00:00</td>\n",
       "      <td>376.72</td>\n",
       "      <td>381.50</td>\n",
       "      <td>376.36</td>\n",
       "      <td>381.44</td>\n",
       "      <td>26025692</td>\n",
       "    </tr>\n",
       "    <tr>\n",
       "      <th>...</th>\n",
       "      <td>...</td>\n",
       "      <td>...</td>\n",
       "      <td>...</td>\n",
       "      <td>...</td>\n",
       "      <td>...</td>\n",
       "      <td>...</td>\n",
       "    </tr>\n",
       "    <tr>\n",
       "      <th>60</th>\n",
       "      <td>2020-09-25 04:00:00</td>\n",
       "      <td>108.43</td>\n",
       "      <td>112.44</td>\n",
       "      <td>107.67</td>\n",
       "      <td>112.28</td>\n",
       "      <td>137542199</td>\n",
       "    </tr>\n",
       "    <tr>\n",
       "      <th>61</th>\n",
       "      <td>2020-09-28 04:00:00</td>\n",
       "      <td>114.98</td>\n",
       "      <td>115.32</td>\n",
       "      <td>112.78</td>\n",
       "      <td>115.00</td>\n",
       "      <td>119572328</td>\n",
       "    </tr>\n",
       "    <tr>\n",
       "      <th>62</th>\n",
       "      <td>2020-09-29 04:00:00</td>\n",
       "      <td>114.55</td>\n",
       "      <td>115.31</td>\n",
       "      <td>113.57</td>\n",
       "      <td>114.11</td>\n",
       "      <td>89125872</td>\n",
       "    </tr>\n",
       "    <tr>\n",
       "      <th>63</th>\n",
       "      <td>2020-09-30 04:00:00</td>\n",
       "      <td>113.77</td>\n",
       "      <td>117.25</td>\n",
       "      <td>113.62</td>\n",
       "      <td>115.61</td>\n",
       "      <td>115978209</td>\n",
       "    </tr>\n",
       "    <tr>\n",
       "      <th>64</th>\n",
       "      <td>2020-10-01 04:00:00</td>\n",
       "      <td>117.64</td>\n",
       "      <td>117.72</td>\n",
       "      <td>115.83</td>\n",
       "      <td>116.80</td>\n",
       "      <td>97249509</td>\n",
       "    </tr>\n",
       "  </tbody>\n",
       "</table>\n",
       "<p>65 rows × 6 columns</p>\n",
       "</div>"
      ],
      "text/plain": [
       "                     t       o       h       l       c          v\n",
       "0  2020-07-01 04:00:00  365.12  367.36  363.91  364.01   25429807\n",
       "1  2020-07-02 04:00:00  367.85  370.47  363.65  364.12   25332853\n",
       "2  2020-07-06 04:00:00  370.00  375.78  369.87  373.81   26084791\n",
       "3  2020-07-07 04:00:00  375.41  378.62  372.23  372.64   24610596\n",
       "4  2020-07-08 04:00:00  376.72  381.50  376.36  381.44   26025692\n",
       "..                 ...     ...     ...     ...     ...        ...\n",
       "60 2020-09-25 04:00:00  108.43  112.44  107.67  112.28  137542199\n",
       "61 2020-09-28 04:00:00  114.98  115.32  112.78  115.00  119572328\n",
       "62 2020-09-29 04:00:00  114.55  115.31  113.57  114.11   89125872\n",
       "63 2020-09-30 04:00:00  113.77  117.25  113.62  115.61  115978209\n",
       "64 2020-10-01 04:00:00  117.64  117.72  115.83  116.80   97249509\n",
       "\n",
       "[65 rows x 6 columns]"
      ]
     },
     "execution_count": 9,
     "metadata": {},
     "output_type": "execute_result"
    }
   ],
   "source": [
    "start = dt.datetime(2020,7,1,0,0,0)\n",
    "end = dt.datetime(2020,10,1,0,0,0)\n",
    "dfs = getHistory('AAPL,MSFT', start, end, timeframe='day')\n",
    "dfs['AAPL']"
   ]
  },
  {
   "cell_type": "code",
   "execution_count": 10,
   "metadata": {},
   "outputs": [
    {
     "data": {
      "text/html": [
       "<div>\n",
       "<style scoped>\n",
       "    .dataframe tbody tr th:only-of-type {\n",
       "        vertical-align: middle;\n",
       "    }\n",
       "\n",
       "    .dataframe tbody tr th {\n",
       "        vertical-align: top;\n",
       "    }\n",
       "\n",
       "    .dataframe thead th {\n",
       "        text-align: right;\n",
       "    }\n",
       "</style>\n",
       "<table border=\"1\" class=\"dataframe\">\n",
       "  <thead>\n",
       "    <tr style=\"text-align: right;\">\n",
       "      <th></th>\n",
       "      <th>t</th>\n",
       "      <th>o</th>\n",
       "      <th>h</th>\n",
       "      <th>l</th>\n",
       "      <th>c</th>\n",
       "      <th>v</th>\n",
       "    </tr>\n",
       "  </thead>\n",
       "  <tbody>\n",
       "    <tr>\n",
       "      <th>0</th>\n",
       "      <td>2020-07-01 04:00:00</td>\n",
       "      <td>365.12</td>\n",
       "      <td>367.36</td>\n",
       "      <td>363.91</td>\n",
       "      <td>364.01</td>\n",
       "      <td>25429807</td>\n",
       "    </tr>\n",
       "    <tr>\n",
       "      <th>1</th>\n",
       "      <td>2020-07-02 04:00:00</td>\n",
       "      <td>367.85</td>\n",
       "      <td>370.47</td>\n",
       "      <td>363.65</td>\n",
       "      <td>364.12</td>\n",
       "      <td>25332853</td>\n",
       "    </tr>\n",
       "    <tr>\n",
       "      <th>2</th>\n",
       "      <td>2020-07-06 04:00:00</td>\n",
       "      <td>370.00</td>\n",
       "      <td>375.78</td>\n",
       "      <td>369.87</td>\n",
       "      <td>373.81</td>\n",
       "      <td>26084791</td>\n",
       "    </tr>\n",
       "    <tr>\n",
       "      <th>3</th>\n",
       "      <td>2020-07-07 04:00:00</td>\n",
       "      <td>375.41</td>\n",
       "      <td>378.62</td>\n",
       "      <td>372.23</td>\n",
       "      <td>372.64</td>\n",
       "      <td>24610596</td>\n",
       "    </tr>\n",
       "    <tr>\n",
       "      <th>4</th>\n",
       "      <td>2020-07-08 04:00:00</td>\n",
       "      <td>376.72</td>\n",
       "      <td>381.50</td>\n",
       "      <td>376.36</td>\n",
       "      <td>381.44</td>\n",
       "      <td>26025692</td>\n",
       "    </tr>\n",
       "    <tr>\n",
       "      <th>...</th>\n",
       "      <td>...</td>\n",
       "      <td>...</td>\n",
       "      <td>...</td>\n",
       "      <td>...</td>\n",
       "      <td>...</td>\n",
       "      <td>...</td>\n",
       "    </tr>\n",
       "    <tr>\n",
       "      <th>60</th>\n",
       "      <td>2020-09-25 04:00:00</td>\n",
       "      <td>108.43</td>\n",
       "      <td>112.44</td>\n",
       "      <td>107.67</td>\n",
       "      <td>112.28</td>\n",
       "      <td>137542199</td>\n",
       "    </tr>\n",
       "    <tr>\n",
       "      <th>61</th>\n",
       "      <td>2020-09-28 04:00:00</td>\n",
       "      <td>114.98</td>\n",
       "      <td>115.32</td>\n",
       "      <td>112.78</td>\n",
       "      <td>115.00</td>\n",
       "      <td>119572328</td>\n",
       "    </tr>\n",
       "    <tr>\n",
       "      <th>62</th>\n",
       "      <td>2020-09-29 04:00:00</td>\n",
       "      <td>114.55</td>\n",
       "      <td>115.31</td>\n",
       "      <td>113.57</td>\n",
       "      <td>114.11</td>\n",
       "      <td>89125872</td>\n",
       "    </tr>\n",
       "    <tr>\n",
       "      <th>63</th>\n",
       "      <td>2020-09-30 04:00:00</td>\n",
       "      <td>113.77</td>\n",
       "      <td>117.25</td>\n",
       "      <td>113.62</td>\n",
       "      <td>115.61</td>\n",
       "      <td>115978209</td>\n",
       "    </tr>\n",
       "    <tr>\n",
       "      <th>64</th>\n",
       "      <td>2020-10-01 04:00:00</td>\n",
       "      <td>117.64</td>\n",
       "      <td>117.72</td>\n",
       "      <td>115.83</td>\n",
       "      <td>116.80</td>\n",
       "      <td>97249509</td>\n",
       "    </tr>\n",
       "  </tbody>\n",
       "</table>\n",
       "<p>65 rows × 6 columns</p>\n",
       "</div>"
      ],
      "text/plain": [
       "                     t       o       h       l       c          v\n",
       "0  2020-07-01 04:00:00  365.12  367.36  363.91  364.01   25429807\n",
       "1  2020-07-02 04:00:00  367.85  370.47  363.65  364.12   25332853\n",
       "2  2020-07-06 04:00:00  370.00  375.78  369.87  373.81   26084791\n",
       "3  2020-07-07 04:00:00  375.41  378.62  372.23  372.64   24610596\n",
       "4  2020-07-08 04:00:00  376.72  381.50  376.36  381.44   26025692\n",
       "..                 ...     ...     ...     ...     ...        ...\n",
       "60 2020-09-25 04:00:00  108.43  112.44  107.67  112.28  137542199\n",
       "61 2020-09-28 04:00:00  114.98  115.32  112.78  115.00  119572328\n",
       "62 2020-09-29 04:00:00  114.55  115.31  113.57  114.11   89125872\n",
       "63 2020-09-30 04:00:00  113.77  117.25  113.62  115.61  115978209\n",
       "64 2020-10-01 04:00:00  117.64  117.72  115.83  116.80   97249509\n",
       "\n",
       "[65 rows x 6 columns]"
      ]
     },
     "execution_count": 10,
     "metadata": {},
     "output_type": "execute_result"
    }
   ],
   "source": [
    "dfs['AAPL']"
   ]
  },
  {
   "cell_type": "markdown",
   "metadata": {},
   "source": [
    "## Ultimo Trade de un ticker"
   ]
  },
  {
   "cell_type": "code",
   "execution_count": 11,
   "metadata": {},
   "outputs": [
    {
     "data": {
      "text/plain": [
       "{'price': 121.5,\n",
       " 'size': 38,\n",
       " 'exchange': 15,\n",
       " 'cond1': 37,\n",
       " 'cond2': 0,\n",
       " 'cond3': 0,\n",
       " 'cond4': 0,\n",
       " 'timestamp': Timestamp('2020-10-14 19:19:10.099000')}"
      ]
     },
     "execution_count": 11,
     "metadata": {},
     "output_type": "execute_result"
    }
   ],
   "source": [
    "def lastTade(symbol):    \n",
    "    headers ={\"APCA-API-KEY-ID\" : api_key, \"APCA-API-SECRET-KEY\":secret_key}\n",
    "    endpoint = \"https://data.alpaca.markets/v1/last/stocks/\"+symbol\n",
    "    r = requests.get(url = endpoint, headers = headers)\n",
    "    js = r.json()['last']\n",
    "    \n",
    "    js['timestamp'] = pd.to_datetime(js['timestamp'])\n",
    "    return js\n",
    "    \n",
    "lastTade(\"AAPL\")"
   ]
  },
  {
   "cell_type": "markdown",
   "metadata": {},
   "source": [
    "## Ultimo dato del libro"
   ]
  },
  {
   "cell_type": "code",
   "execution_count": 12,
   "metadata": {},
   "outputs": [
    {
     "data": {
      "text/plain": [
       "{'askprice': 121.48,\n",
       " 'asksize': 4,\n",
       " 'askexchange': 15,\n",
       " 'bidprice': 121.46,\n",
       " 'bidsize': 4,\n",
       " 'bidexchange': 15,\n",
       " 'timestamp': Timestamp('2020-10-14 19:19:15.301000')}"
      ]
     },
     "execution_count": 12,
     "metadata": {},
     "output_type": "execute_result"
    }
   ],
   "source": [
    "import pandas as pd\n",
    "\n",
    "def lastQuote(symbol):    \n",
    "    headers ={\"APCA-API-KEY-ID\" : api_key, \"APCA-API-SECRET-KEY\":secret_key}\n",
    "    endpoint = \"https://data.alpaca.markets/v1/last_quote/stocks/\"+symbol\n",
    "    r = requests.get(url = endpoint, headers = headers)\n",
    "    js = r.json()['last']\n",
    "    js['timestamp'] = pd.to_datetime(js['timestamp'])\n",
    "    return js\n",
    "    \n",
    "lastQuote(\"AAPL\")"
   ]
  },
  {
   "cell_type": "markdown",
   "metadata": {},
   "source": [
    "# Ruteo de ordenes"
   ]
  },
  {
   "cell_type": "markdown",
   "metadata": {},
   "source": [
    "## Orden de Compra/Venta  (POST)"
   ]
  },
  {
   "cell_type": "code",
   "execution_count": 13,
   "metadata": {},
   "outputs": [],
   "source": [
    "def order(symbol, qty, side, tipo, time_in_force, limit_price ):    \n",
    "    headers ={\"APCA-API-KEY-ID\" : api_key, \"APCA-API-SECRET-KEY\":secret_key}\n",
    "    params = {'symbol':symbol, \n",
    "              'qty':qty, \n",
    "              'side':side, \n",
    "              'type':tipo,\n",
    "              'time_in_force':time_in_force,\n",
    "              'limit_price':limit_price, \n",
    "              'order_class':'simple'}\n",
    "    \n",
    "    r = requests.post(url = \"https://paper-api.alpaca.markets/v2/orders\", \n",
    "                      headers = headers, json = params)\n",
    "    \n",
    "    js = r.json()\n",
    "    return js"
   ]
  },
  {
   "cell_type": "code",
   "execution_count": 14,
   "metadata": {},
   "outputs": [
    {
     "data": {
      "text/plain": [
       "{'askprice': 7.49,\n",
       " 'asksize': 7,\n",
       " 'askexchange': 17,\n",
       " 'bidprice': 7.34,\n",
       " 'bidsize': 7,\n",
       " 'bidexchange': 17,\n",
       " 'timestamp': Timestamp('2020-09-28 14:08:05.574000')}"
      ]
     },
     "execution_count": 14,
     "metadata": {},
     "output_type": "execute_result"
    }
   ],
   "source": [
    "lastQuote(\"GGAL\")"
   ]
  },
  {
   "cell_type": "code",
   "execution_count": 15,
   "metadata": {},
   "outputs": [
    {
     "data": {
      "text/plain": [
       "{'price': 6.57,\n",
       " 'size': 100,\n",
       " 'exchange': 17,\n",
       " 'cond1': 0,\n",
       " 'cond2': 0,\n",
       " 'cond3': 0,\n",
       " 'cond4': 0,\n",
       " 'timestamp': Timestamp('2020-10-14 19:19:10.296000')}"
      ]
     },
     "execution_count": 15,
     "metadata": {},
     "output_type": "execute_result"
    }
   ],
   "source": [
    "lastTade(\"GGAL\")"
   ]
  },
  {
   "cell_type": "markdown",
   "metadata": {},
   "source": [
    "## Envio varias órdenes"
   ]
  },
  {
   "cell_type": "code",
   "execution_count": 16,
   "metadata": {
    "scrolled": true
   },
   "outputs": [
    {
     "name": "stdout",
     "output_type": "stream",
     "text": [
      "11.411399999999999 PAM\n",
      "2.42242 BBAR\n",
      "4.594589999999999 TGS\n",
      "3.0130099999999995 CRESY\n",
      "1238.7975599999997 MELI\n"
     ]
    }
   ],
   "source": [
    "tickers = ['PAM', 'BBAR', 'TGS', 'CRESY', 'MELI']\n",
    "monto = 10000\n",
    "\n",
    "for ticker in tickers:\n",
    "    px  = lastQuote(ticker)['bidprice'] * 1.001\n",
    "    q = monto // px\n",
    "\n",
    "    # orden = order(symbol=ticker, qty=q, side='buy', tipo='limit', time_in_force='gtc',limit_price = px )\n",
    "    print(px, ticker)"
   ]
  },
  {
   "cell_type": "code",
   "execution_count": null,
   "metadata": {},
   "outputs": [],
   "source": []
  },
  {
   "cell_type": "code",
   "execution_count": null,
   "metadata": {},
   "outputs": [],
   "source": []
  },
  {
   "cell_type": "code",
   "execution_count": null,
   "metadata": {},
   "outputs": [],
   "source": []
  },
  {
   "cell_type": "markdown",
   "metadata": {},
   "source": [
    "## Consulta de estado general"
   ]
  },
  {
   "cell_type": "code",
   "execution_count": 17,
   "metadata": {},
   "outputs": [
    {
     "data": {
      "text/html": [
       "<div>\n",
       "<style scoped>\n",
       "    .dataframe tbody tr th:only-of-type {\n",
       "        vertical-align: middle;\n",
       "    }\n",
       "\n",
       "    .dataframe tbody tr th {\n",
       "        vertical-align: top;\n",
       "    }\n",
       "\n",
       "    .dataframe thead th {\n",
       "        text-align: right;\n",
       "    }\n",
       "</style>\n",
       "<table border=\"1\" class=\"dataframe\">\n",
       "  <thead>\n",
       "    <tr style=\"text-align: right;\">\n",
       "      <th></th>\n",
       "    </tr>\n",
       "  </thead>\n",
       "  <tbody>\n",
       "  </tbody>\n",
       "</table>\n",
       "</div>"
      ],
      "text/plain": [
       "Empty DataFrame\n",
       "Columns: []\n",
       "Index: []"
      ]
     },
     "execution_count": 17,
     "metadata": {},
     "output_type": "execute_result"
    }
   ],
   "source": [
    "def orders(status=\"all\", limit=500): \n",
    "    \n",
    "    headers ={\"APCA-API-KEY-ID\" : api_key, \"APCA-API-SECRET-KEY\":secret_key}\n",
    "    params = {'status':status, \n",
    "              'limit':limit}\n",
    "    \n",
    "    r = requests.get(url = \"https://paper-api.alpaca.markets/v2/orders\", \n",
    "                      headers = headers, params = params)\n",
    "\n",
    "    js = r.json()\n",
    "    df = pd.DataFrame(js)\n",
    "    return df\n",
    "\n",
    "listaOrdenes = orders(status='open')\n",
    "listaOrdenes"
   ]
  },
  {
   "cell_type": "markdown",
   "metadata": {},
   "source": [
    "## Consulta puntual  (GET)"
   ]
  },
  {
   "cell_type": "code",
   "execution_count": 18,
   "metadata": {},
   "outputs": [],
   "source": [
    "def getOrder(orderID):    \n",
    "    headers ={\"APCA-API-KEY-ID\" : api_key, \"APCA-API-SECRET-KEY\":secret_key}\n",
    "    base = \"https://paper-api.alpaca.markets/v2/orders/\"\n",
    "    r = requests.get(url = base+orderID, headers = headers)\n",
    "    \n",
    "    js = r.json()\n",
    "    return js"
   ]
  },
  {
   "cell_type": "markdown",
   "metadata": {},
   "source": [
    "## Modificación de orden  (PATCH)"
   ]
  },
  {
   "cell_type": "code",
   "execution_count": 19,
   "metadata": {},
   "outputs": [],
   "source": [
    "def replaceOrder(order_id, qty=None, time_in_force=None, limit_price=None):    \n",
    "    headers ={\"APCA-API-KEY-ID\" : api_key, \"APCA-API-SECRET-KEY\":secret_key}\n",
    "    params = {'qty':qty, \n",
    "              'time_in_force':time_in_force,\n",
    "              'limit_price':limit_price}\n",
    "    \n",
    "    endpoint = \"https://paper-api.alpaca.markets/v2/orders/\"+order_id\n",
    "    r = requests.patch(url = endpoint, headers = headers, json = params)\n",
    "    \n",
    "    js = r.json()\n",
    "    return js"
   ]
  },
  {
   "cell_type": "markdown",
   "metadata": {},
   "source": [
    "## Eliminar orden (DELETE)"
   ]
  },
  {
   "cell_type": "code",
   "execution_count": 20,
   "metadata": {},
   "outputs": [],
   "source": [
    "def cancelOrder(order_id):    \n",
    "    headers ={\"APCA-API-KEY-ID\" : api_key, \"APCA-API-SECRET-KEY\":secret_key}\n",
    "    endpoint = \"https://paper-api.alpaca.markets/v2/orders/\"+order_id\n",
    "    r = requests.delete(url = endpoint,headers = headers)"
   ]
  },
  {
   "cell_type": "markdown",
   "metadata": {},
   "source": [
    "## Ver Posiciones Abiertas de la cuenta"
   ]
  },
  {
   "cell_type": "code",
   "execution_count": 21,
   "metadata": {
    "scrolled": true
   },
   "outputs": [
    {
     "data": {
      "text/html": [
       "<div>\n",
       "<style scoped>\n",
       "    .dataframe tbody tr th:only-of-type {\n",
       "        vertical-align: middle;\n",
       "    }\n",
       "\n",
       "    .dataframe tbody tr th {\n",
       "        vertical-align: top;\n",
       "    }\n",
       "\n",
       "    .dataframe thead th {\n",
       "        text-align: right;\n",
       "    }\n",
       "</style>\n",
       "<table border=\"1\" class=\"dataframe\">\n",
       "  <thead>\n",
       "    <tr style=\"text-align: right;\">\n",
       "      <th></th>\n",
       "    </tr>\n",
       "  </thead>\n",
       "  <tbody>\n",
       "  </tbody>\n",
       "</table>\n",
       "</div>"
      ],
      "text/plain": [
       "Empty DataFrame\n",
       "Columns: []\n",
       "Index: []"
      ]
     },
     "execution_count": 21,
     "metadata": {},
     "output_type": "execute_result"
    }
   ],
   "source": [
    "def positions():    \n",
    "    headers ={\"APCA-API-KEY-ID\" : api_key, \"APCA-API-SECRET-KEY\":secret_key}\n",
    "    endpoint = \"https://paper-api.alpaca.markets/v2/positions\"\n",
    "    r = requests.get(url = endpoint, headers = headers)\n",
    "    js = r.json()\n",
    "    \n",
    "    if len(js):\n",
    "        df = pd.DataFrame(positions())\n",
    "        df = df.loc[:,['symbol','qty','side','avg_entry_price','market_value',\n",
    "                       'cost_basis','unrealized_pl','current_price',\n",
    "                       'lastday_price']]\n",
    "    else:\n",
    "        df = pd.DataFrame()\n",
    "    return df\n",
    "    \n",
    "portf = positions()\n",
    "portf"
   ]
  },
  {
   "cell_type": "markdown",
   "metadata": {},
   "source": [
    "# Screener"
   ]
  },
  {
   "cell_type": "markdown",
   "metadata": {},
   "source": [
    "## Listado de acitivos"
   ]
  },
  {
   "cell_type": "code",
   "execution_count": 22,
   "metadata": {},
   "outputs": [],
   "source": [
    "def assets(only_shorteables=False):    \n",
    "    headers ={\"APCA-API-KEY-ID\" : api_key, \"APCA-API-SECRET-KEY\":secret_key}\n",
    "    r = requests.get(url = \"https://paper-api.alpaca.markets/v2/assets\", \n",
    "                      headers = headers)\n",
    "\n",
    "    js = r.json()\n",
    "    df = pd.DataFrame(js)\n",
    "    df = df.loc[df.status=='active'].drop(['status','class','easy_to_borrow',\n",
    "                                          'tradable','marginable'], axis=1)\n",
    "    \n",
    "    if only_shorteables:\n",
    "        df= df.loc[df.shortable==True]\n",
    "        \n",
    "    return df"
   ]
  },
  {
   "cell_type": "code",
   "execution_count": 23,
   "metadata": {},
   "outputs": [
    {
     "data": {
      "text/html": [
       "<div>\n",
       "<style scoped>\n",
       "    .dataframe tbody tr th:only-of-type {\n",
       "        vertical-align: middle;\n",
       "    }\n",
       "\n",
       "    .dataframe tbody tr th {\n",
       "        vertical-align: top;\n",
       "    }\n",
       "\n",
       "    .dataframe thead th {\n",
       "        text-align: right;\n",
       "    }\n",
       "</style>\n",
       "<table border=\"1\" class=\"dataframe\">\n",
       "  <thead>\n",
       "    <tr style=\"text-align: right;\">\n",
       "      <th></th>\n",
       "      <th>id</th>\n",
       "      <th>exchange</th>\n",
       "      <th>symbol</th>\n",
       "      <th>name</th>\n",
       "      <th>shortable</th>\n",
       "    </tr>\n",
       "  </thead>\n",
       "  <tbody>\n",
       "    <tr>\n",
       "      <th>0</th>\n",
       "      <td>b65e1cd5-0682-4eb3-844c-8901712b9cc4</td>\n",
       "      <td>NYSE</td>\n",
       "      <td>BWA</td>\n",
       "      <td>BorgWarner Inc.</td>\n",
       "      <td>True</td>\n",
       "    </tr>\n",
       "    <tr>\n",
       "      <th>1</th>\n",
       "      <td>d1d3b51c-772b-4eb8-9008-efb73b179e57</td>\n",
       "      <td>AMEX</td>\n",
       "      <td>BTN</td>\n",
       "      <td>Ballantyne Strong, Inc</td>\n",
       "      <td>True</td>\n",
       "    </tr>\n",
       "    <tr>\n",
       "      <th>2</th>\n",
       "      <td>3463981c-fe71-4351-b677-ab12f87c3f2e</td>\n",
       "      <td>AMEX</td>\n",
       "      <td>DLA</td>\n",
       "      <td>Delta Apparel Inc.</td>\n",
       "      <td>True</td>\n",
       "    </tr>\n",
       "    <tr>\n",
       "      <th>3</th>\n",
       "      <td>db432267-e34d-47d4-be28-83ac76df4751</td>\n",
       "      <td>NYSE</td>\n",
       "      <td>EPR</td>\n",
       "      <td>EPR Properties</td>\n",
       "      <td>True</td>\n",
       "    </tr>\n",
       "    <tr>\n",
       "      <th>5</th>\n",
       "      <td>d4c735dd-ab6a-4f96-ad59-fc2e2dbff6c9</td>\n",
       "      <td>NYSE</td>\n",
       "      <td>IBN</td>\n",
       "      <td>ICICI Bank Limited</td>\n",
       "      <td>True</td>\n",
       "    </tr>\n",
       "    <tr>\n",
       "      <th>...</th>\n",
       "      <td>...</td>\n",
       "      <td>...</td>\n",
       "      <td>...</td>\n",
       "      <td>...</td>\n",
       "      <td>...</td>\n",
       "    </tr>\n",
       "    <tr>\n",
       "      <th>10244</th>\n",
       "      <td>675f7911-9aca-418a-acd5-07cfacb9d32b</td>\n",
       "      <td>ARCA</td>\n",
       "      <td>GLD</td>\n",
       "      <td>SPDR Gold Trust, SPDR Gold Shares</td>\n",
       "      <td>True</td>\n",
       "    </tr>\n",
       "    <tr>\n",
       "      <th>10249</th>\n",
       "      <td>8ccae427-5dd0-45b3-b5fe-7ba5e422c766</td>\n",
       "      <td>NASDAQ</td>\n",
       "      <td>TSLA</td>\n",
       "      <td>Tesla, Inc. Common Stock</td>\n",
       "      <td>True</td>\n",
       "    </tr>\n",
       "    <tr>\n",
       "      <th>10251</th>\n",
       "      <td>fd03066c-16d8-4eff-8c72-16ce1c44e38d</td>\n",
       "      <td>NYSE</td>\n",
       "      <td>VALE</td>\n",
       "      <td>VALE S.A.</td>\n",
       "      <td>True</td>\n",
       "    </tr>\n",
       "    <tr>\n",
       "      <th>10253</th>\n",
       "      <td>b0b6dd9d-8b9b-48a9-ba46-b9d54906e415</td>\n",
       "      <td>NASDAQ</td>\n",
       "      <td>AAPL</td>\n",
       "      <td>Apple Inc. Common Stock</td>\n",
       "      <td>True</td>\n",
       "    </tr>\n",
       "    <tr>\n",
       "      <th>10254</th>\n",
       "      <td>4ac5cb04-cfdb-4670-9637-662f8d08d9f8</td>\n",
       "      <td>NYSE</td>\n",
       "      <td>BHP</td>\n",
       "      <td>BHP Group Limited American Depositary Shares (...</td>\n",
       "      <td>True</td>\n",
       "    </tr>\n",
       "  </tbody>\n",
       "</table>\n",
       "<p>4396 rows × 5 columns</p>\n",
       "</div>"
      ],
      "text/plain": [
       "                                         id exchange symbol  \\\n",
       "0      b65e1cd5-0682-4eb3-844c-8901712b9cc4     NYSE    BWA   \n",
       "1      d1d3b51c-772b-4eb8-9008-efb73b179e57     AMEX    BTN   \n",
       "2      3463981c-fe71-4351-b677-ab12f87c3f2e     AMEX    DLA   \n",
       "3      db432267-e34d-47d4-be28-83ac76df4751     NYSE    EPR   \n",
       "5      d4c735dd-ab6a-4f96-ad59-fc2e2dbff6c9     NYSE    IBN   \n",
       "...                                     ...      ...    ...   \n",
       "10244  675f7911-9aca-418a-acd5-07cfacb9d32b     ARCA    GLD   \n",
       "10249  8ccae427-5dd0-45b3-b5fe-7ba5e422c766   NASDAQ   TSLA   \n",
       "10251  fd03066c-16d8-4eff-8c72-16ce1c44e38d     NYSE   VALE   \n",
       "10253  b0b6dd9d-8b9b-48a9-ba46-b9d54906e415   NASDAQ   AAPL   \n",
       "10254  4ac5cb04-cfdb-4670-9637-662f8d08d9f8     NYSE    BHP   \n",
       "\n",
       "                                                    name  shortable  \n",
       "0                                        BorgWarner Inc.       True  \n",
       "1                                 Ballantyne Strong, Inc       True  \n",
       "2                                     Delta Apparel Inc.       True  \n",
       "3                                         EPR Properties       True  \n",
       "5                                     ICICI Bank Limited       True  \n",
       "...                                                  ...        ...  \n",
       "10244                  SPDR Gold Trust, SPDR Gold Shares       True  \n",
       "10249                           Tesla, Inc. Common Stock       True  \n",
       "10251                                          VALE S.A.       True  \n",
       "10253                            Apple Inc. Common Stock       True  \n",
       "10254  BHP Group Limited American Depositary Shares (...       True  \n",
       "\n",
       "[4396 rows x 5 columns]"
      ]
     },
     "execution_count": 23,
     "metadata": {},
     "output_type": "execute_result"
    }
   ],
   "source": [
    "activos = assets(only_shorteables=True)\n",
    "activos"
   ]
  },
  {
   "cell_type": "code",
   "execution_count": 24,
   "metadata": {},
   "outputs": [
    {
     "data": {
      "text/plain": [
       "exchange\n",
       "AMEX        76\n",
       "ARCA       443\n",
       "BATS        49\n",
       "NASDAQ    1995\n",
       "NYSE      1833\n",
       "dtype: int64"
      ]
     },
     "execution_count": 24,
     "metadata": {},
     "output_type": "execute_result"
    }
   ],
   "source": [
    "activos.groupby('exchange').size()"
   ]
  },
  {
   "cell_type": "code",
   "execution_count": 25,
   "metadata": {},
   "outputs": [
    {
     "data": {
      "text/plain": [
       "shortable\n",
       "True    4396\n",
       "dtype: int64"
      ]
     },
     "execution_count": 25,
     "metadata": {},
     "output_type": "execute_result"
    }
   ],
   "source": [
    "activos.groupby('shortable').size()"
   ]
  },
  {
   "cell_type": "code",
   "execution_count": null,
   "metadata": {},
   "outputs": [],
   "source": []
  },
  {
   "cell_type": "markdown",
   "metadata": {},
   "source": [
    "## WatchLists"
   ]
  },
  {
   "cell_type": "markdown",
   "metadata": {},
   "source": [
    "## CRUD"
   ]
  },
  {
   "cell_type": "markdown",
   "metadata": {},
   "source": [
    "### Crear listas"
   ]
  },
  {
   "cell_type": "code",
   "execution_count": 26,
   "metadata": {},
   "outputs": [],
   "source": [
    "def createWatchlist(name, symbols):    \n",
    "    headers ={\"APCA-API-KEY-ID\" : api_key, \"APCA-API-SECRET-KEY\":secret_key}\n",
    "    params = {'name':name, 'symbols':symbols}\n",
    "    r = requests.post(url = \"https://paper-api.alpaca.markets/v2/watchlists\", \n",
    "                      headers = headers, json=params)\n",
    "    \n",
    "    js = r.json()\n",
    "    df = pd.DataFrame(js['assets'])\n",
    "    df.set_index('symbol', inplace=True)\n",
    "    df = df.loc[df.status=='active'].drop(['status','class','easy_to_borrow',\n",
    "                                          'tradable','marginable'], axis=1)\n",
    "    return js['id'], df"
   ]
  },
  {
   "cell_type": "markdown",
   "metadata": {},
   "source": [
    "### Ver listas creadas"
   ]
  },
  {
   "cell_type": "code",
   "execution_count": 27,
   "metadata": {},
   "outputs": [],
   "source": [
    "def watchlist():    \n",
    "    headers ={\"APCA-API-KEY-ID\" : api_key, \"APCA-API-SECRET-KEY\":secret_key}\n",
    "    r = requests.get(url = \"https://paper-api.alpaca.markets/v2/watchlists\", \n",
    "                      headers = headers)\n",
    "\n",
    "    js = r.json()\n",
    "    df = pd.DataFrame(js)\n",
    "    try:\n",
    "        df.drop('account_id',axis=1, inplace=True)\n",
    "    except:\n",
    "        pass\n",
    "    \n",
    "    return df"
   ]
  },
  {
   "cell_type": "markdown",
   "metadata": {},
   "source": [
    "### Obtener watchList xID"
   ]
  },
  {
   "cell_type": "code",
   "execution_count": 28,
   "metadata": {},
   "outputs": [],
   "source": [
    "def getWatchlist(wID):    \n",
    "    headers ={\"APCA-API-KEY-ID\" : api_key, \"APCA-API-SECRET-KEY\":secret_key}\n",
    "    base = 'https://paper-api.alpaca.markets/v2/watchlists/'\n",
    "    r = requests.get(url = base + wID, headers = headers)\n",
    "\n",
    "    js = r.json()\n",
    "    df = pd.DataFrame(js['assets'])\n",
    "    df.set_index('symbol', inplace=True)\n",
    "    df = df.loc[df.status=='active'].drop(['status','class','easy_to_borrow',\n",
    "                                          'tradable','marginable'], axis=1)\n",
    "    \n",
    "    return df"
   ]
  },
  {
   "cell_type": "markdown",
   "metadata": {},
   "source": [
    "### Borrar watchList xID"
   ]
  },
  {
   "cell_type": "code",
   "execution_count": 29,
   "metadata": {},
   "outputs": [],
   "source": [
    "def deleteWatchlist(wID):    \n",
    "    headers ={\"APCA-API-KEY-ID\" : api_key, \"APCA-API-SECRET-KEY\":secret_key}\n",
    "    endpoint = \"https://paper-api.alpaca.markets/v2/watchlists/\"+wID\n",
    "    r = requests.delete(url = endpoint, headers = headers)\n",
    "    js = r.text\n",
    "    return js"
   ]
  },
  {
   "cell_type": "markdown",
   "metadata": {},
   "source": [
    "### Modificar watchList xID (PUT)"
   ]
  },
  {
   "cell_type": "code",
   "execution_count": 30,
   "metadata": {},
   "outputs": [],
   "source": [
    "def updateWatchlist(wID, lista):    \n",
    "    headers ={\"APCA-API-KEY-ID\" : api_key, \"APCA-API-SECRET-KEY\":secret_key}\n",
    "    params = {'symbols': lista}\n",
    "    endpoint = \"https://paper-api.alpaca.markets/v2/watchlists/\"+wID\n",
    "    r = requests.put(url = endpoint, headers = headers, json=params)\n",
    "    \n",
    "    return r"
   ]
  },
  {
   "cell_type": "markdown",
   "metadata": {},
   "source": [
    "### Agregar Ticker a una watchList existente (POST)"
   ]
  },
  {
   "cell_type": "code",
   "execution_count": 31,
   "metadata": {},
   "outputs": [],
   "source": [
    "def addTicker(wID, symbol):    \n",
    "    headers ={\"APCA-API-KEY-ID\" : api_key, \"APCA-API-SECRET-KEY\":secret_key}\n",
    "    params = {'symbol': symbol}\n",
    "    endpoint = \"https://paper-api.alpaca.markets/v2/watchlists/\"+wID\n",
    "    r = requests.post(url = endpoint, headers = headers, json=params)\n",
    "    js = r.json()\n",
    "    df = pd.DataFrame(js['assets'])\n",
    "    df.set_index('symbol', inplace=True)\n",
    "    df = df.loc[df.status=='active'].drop(['status','class','easy_to_borrow',\n",
    "                                          'tradable','marginable'], axis=1)\n",
    "    \n",
    "    return df"
   ]
  },
  {
   "cell_type": "markdown",
   "metadata": {},
   "source": [
    "# Ejercicios - Screener"
   ]
  },
  {
   "cell_type": "markdown",
   "metadata": {},
   "source": [
    "Atención, la idea es terminar los 7 ejercicios porque están pensado como un bloque, es decir que todos forman parte de una especie de mini-screener para poder hacer una intro a este tema, aprovechando la funcionalidad de las watchlists de Alpaca podemos armar nuestro primer screener de 9000 activos de USA en 2 minutos via señal de trading predefinida y guardar los resultados como si se tratara de una alerta de trading"
   ]
  },
  {
   "cell_type": "markdown",
   "metadata": {},
   "source": [
    "1- Partiendo de la función vista en clase para crear una watchList, mejorar la función para que (sin dejar de devolver el id y la lista en caso de estar todo ok), en caso de que se pase un ticker no listado devuelva al usuario el mensaje de error. Verificar su funcionamiento"
   ]
  },
  {
   "cell_type": "markdown",
   "metadata": {},
   "source": [
    "2- Vamos a empezar a pensar en un potencial screener, para ello vamos a usar la función \"assets\" para armar otra función que me devuelva todos los tickers de la API y luego de ello con esos activos vamos a armar una gran lista con listas de a 200 activos, ya que la API me  permite ver series históricas trayendo de a 200 activos, para verificar el script vamos a imprimir la última lista y su cantidad de activos que debe ser menor de 200 y la cantidad de listas de 200\n",
    "<br><br>A fines de poder usar este código mas adelante en un screener meter todo el código en una función: listasActivos()"
   ]
  },
  {
   "cell_type": "markdown",
   "metadata": {},
   "source": [
    "3- Siguiendo en la línea de ir preparando el terreno para llegar a un screener, armar una función que si le paso una lista con listas de tickers me devuelva una lista con strings de tickers separados por comas, es decir:\n",
    " * Recibe: [ ['activo1','activo2','activo3'], ['activo4','activo5','activo_nn'] ]\n",
    " * Devuelve: [ 'activo1,activo2,activo3', 'activo4,activo5,activo_nn' ]\n",
    " \n",
    " Probar la función dando como entrada la salida de la función del ejercicio anterior"
   ]
  },
  {
   "cell_type": "markdown",
   "metadata": {},
   "source": [
    "4- Agregarle lo necesario a prueba de fallos de la funcion getHistory definida en este capítulo para que acepte una lista de activos y me devuelve un diccionario cuyas claves sean las listas del ejercicio anterior y los valores unos dataFrames con el historial\n",
    "\n",
    "Verificar el funcionamiento correcto de esta función pasándole como argumento la primera lista de 200 activos del ejercicio anterior en un timeframe de 1 minuto de los ultimos 60 dias"
   ]
  },
  {
   "cell_type": "markdown",
   "metadata": {},
   "source": [
    "5- Seguimos armando el screener de a poco, paso a paso como quien no quiere la cosa los voy a ir llevando, confien en mi...\n",
    "\n",
    "crear una función que tome de entrada un dataFrame de datos y me devuelva como salida un string que indique en funcion del MACD si da señal alcista o bajista:\n",
    "   * Alcista: Si el histograma del MACD pasa de negativo a positivo\n",
    "   * Bajista: Si el histograma del MACD pasa de positivo a negativo\n",
    "   "
   ]
  },
  {
   "cell_type": "markdown",
   "metadata": {},
   "source": [
    "6- Usando las funciones necesarias de los ejercicio anteriores crear un script que tome todos los activos de la API y me cree una watchList llamada \"Shorts\" y otra llamada \"Longs\" con los activos que obviamente cumplan las condiciones enunciadas para tal configuración en el ejercicio previo"
   ]
  },
  {
   "cell_type": "markdown",
   "metadata": {},
   "source": [
    "7- Armar un script que opere una watchlist\n",
    "\n",
    "En este caso:\n",
    "\n",
    "    la watchlist \"Longs\" las va a comprar a precio de mercado\n",
    "    la watchlilst \"Shorts\" las va a vender a precio de mercado"
   ]
  },
  {
   "cell_type": "markdown",
   "metadata": {},
   "source": [
    "# Respuestas"
   ]
  },
  {
   "cell_type": "code",
   "execution_count": 32,
   "metadata": {},
   "outputs": [],
   "source": [
    "import pandas as pd"
   ]
  },
  {
   "cell_type": "code",
   "execution_count": 33,
   "metadata": {},
   "outputs": [
    {
     "data": {
      "text/plain": [
       "({'code': 40010001, 'message': 'asset not found: Y_VA_EL_TERCERO'},\n",
       " Empty DataFrame\n",
       " Columns: []\n",
       " Index: [])"
      ]
     },
     "execution_count": 33,
     "metadata": {},
     "output_type": "execute_result"
    }
   ],
   "source": [
    "#========================#\n",
    "#      Ejercicio 1       #\n",
    "#========================#\n",
    "\n",
    "\n",
    "def createWatchlist(name, symbols):    \n",
    "    headers ={\"APCA-API-KEY-ID\" : api_key, \"APCA-API-SECRET-KEY\":secret_key}\n",
    "    params = {'name':name, 'symbols':symbols}\n",
    "    r = requests.post(url = \"https://paper-api.alpaca.markets/v2/watchlists\", \n",
    "                      headers = headers, json=params)\n",
    "    \n",
    "    js = r.json()\n",
    "    try:\n",
    "        msg = js['id']\n",
    "        df = pd.DataFrame(js['assets'])\n",
    "        df.set_index('symbol', inplace=True)\n",
    "        df = df.loc[df.status=='active']\n",
    "        df =df.drop(['status','class','easy_to_borrow','tradable','marginable'],axis=1)\n",
    "    except:\n",
    "        df = pd.DataFrame()\n",
    "        msg = js\n",
    "    return msg, df\n",
    "\n",
    "tickers = ['BBAR','BMA', 'Y_VA_EL_TERCERO']\n",
    "createWatchlist('lista_test', symbols = tickers)"
   ]
  },
  {
   "cell_type": "code",
   "execution_count": 47,
   "metadata": {},
   "outputs": [
    {
     "name": "stdout",
     "output_type": "stream",
     "text": [
      "\n",
      " Ultima lista:\n",
      " ['ZTR', 'ZNGA', 'ZTO', 'ZTS', 'ZUO', 'ZYME', 'ZYXI', 'NVGS', 'ESTE', 'METC', 'CLDT', 'TALO', 'APH', 'ASIX', 'DE', 'DVN', 'EQC', 'AAN', 'ICLR', 'KBE', 'M', 'OKE', 'RACE', 'SM', 'VRS', 'ZUMZ', 'WPX', 'NUGT', 'CRK', 'NESR', 'PBR', 'WLL', 'CPE', 'SBOW', 'AINC', 'ARMK', 'AXS', 'BOX', 'CUZ', 'DOC', 'ECL', 'H', 'HUBS', 'KWR', 'AACQU', 'NPO', 'VERX', 'VVI', 'AAT', 'ASPU', 'ACIA', 'AHT', 'ALLO', 'ALNY', 'ARKK', 'ASND', 'ASPN', 'AVID', 'AVNW', 'BAP', 'ABBV', 'BHVN', 'BIO', 'BLUE', 'BMA', 'BR', 'AUY', 'BRO', 'BRX', 'BSAC', 'BSBR', 'BSCM', 'AACQ', 'AIZ', 'ALLY', 'ALLT', 'AMTI', 'ASML', 'ASRV', 'AVLR', 'AXSM', 'BGS', 'ABT', 'BRG', 'BRBR', 'BRC', 'BRKS', 'BRMK', 'BRP', 'BRZU', 'BSCK', 'BSCO', 'BRFS', 'CIT', 'CLS', 'CORE', 'CVE', 'DDOG', 'DGX', 'EIGR', 'EQT', 'EYEN', 'GLUU', 'GOGL', 'GTS', 'JELD', 'KMB', 'LGF.A', 'MAGS', 'MAR', 'MHLD', 'MOH', 'NET', 'NSA', 'NWPX', 'OGIG', 'CLCT', 'CNQ', 'CSX', 'EW', 'FLO', 'FXU', 'GENC', 'GM', 'GOL', 'HLX', 'INSP', 'IR', 'KKR', 'LFUS', 'LOMA', 'MAN', 'MDY', 'MNP', 'MNRO', 'NSCO', 'NWBI', 'ORTX', 'PEN', 'PE', 'RKT', 'SAIC', 'SCHX', 'SIVB', 'SU', 'TDS', 'UNF', 'UTL', 'WTFC', 'AAAU', 'PVH', 'REPH', 'RPLA', 'SCL', 'SKX', 'SMP', 'SYNH', 'UMH', 'UMPQ', 'VEC', 'VGR', 'VYM', 'IPHI', 'BRKL', 'ALL', 'ADBE', 'ADP', 'ALB', 'ANSS', 'ATVI', 'T', 'APD', 'CRON', 'SNAP', 'GPRO', 'ATHM', 'A', 'AA', 'CHH', 'C', 'CWI', 'DK', 'FBP', 'ENR', 'G', 'GGG', 'FE', 'AGR', 'BILI', 'BOND', 'GE', 'GLD', 'TSLA', 'VALE', 'AAPL', 'BHP']\n",
      "\n",
      " Cantidad de Ultima lista: 196\n",
      "\n",
      " Cantidad de listas de 200: 21\n"
     ]
    }
   ],
   "source": [
    "#========================#\n",
    "#      Ejercicio 2       #\n",
    "#========================#\n",
    "\n",
    "def listasActivos():    \n",
    "    activos = assets(only_shorteables=True)\n",
    "    tickers = activos.symbol.to_list()\n",
    "\n",
    "    listas = []\n",
    "    for i in range(len(tickers)//200 + 1):\n",
    "        listas.append(tickers[i*200:(i+1)*200])\n",
    "\n",
    "    return listas\n",
    "\n",
    "listas = listasActivos()\n",
    "\n",
    "print('\\n Ultima lista:\\n',listas[len(listas)-1])\n",
    "print('\\n Cantidad de Ultima lista:',len(listas[len(listas)-1]))\n",
    "print('\\n Cantidad de listas de 200:',len(listas)-1)"
   ]
  },
  {
   "cell_type": "code",
   "execution_count": null,
   "metadata": {},
   "outputs": [],
   "source": []
  },
  {
   "cell_type": "code",
   "execution_count": null,
   "metadata": {},
   "outputs": [],
   "source": []
  },
  {
   "cell_type": "code",
   "execution_count": null,
   "metadata": {},
   "outputs": [],
   "source": []
  },
  {
   "cell_type": "code",
   "execution_count": null,
   "metadata": {},
   "outputs": [],
   "source": []
  },
  {
   "cell_type": "code",
   "execution_count": 43,
   "metadata": {},
   "outputs": [
    {
     "data": {
      "text/plain": [
       "'BWA,BTN,DLA,EPR,IBN,KBH,MED,MODN,NEWR,IVZ,OLN,PLAN,PNM,PSX,RH,SMAR,SPXC,TYL,UL,VEON,AAME,AAP,AAWW,AAXN,ABB,ABCB,ABG,ABMD,AAOI,AAXJ,AB,ABC,ABEV,ABM,ABR,ABTX,AC,ACAD,ACA,ACAM,ACC,ACCO,ACET,ACHC,ACIW,ACM,ACN,ACND,ACTG,ACWI,ACWX,ADMA,ADNT,ADPT,ADS,ADSW,ADVM,ACBI,ACCD,ACEL,ACGL,ACH,ACI,ACLS,ACMR,ACNB,ACND.U,ACU,ACWV,ADC,ADES,ADI,ADM,ADSK,ADTN,ADUS,AEG,AEHR,AEL,AEE,AEGN,AEIS,AEM,AEO,AER,AES,AEYE,AFL,AG,AGCO,AGD,AGEN,AGI,AGLE,AGNC,AGNCN,AGNCP,AGRO,AGS,AEP,AERI,AEY,AFB,AFG,AFIB,AFIN,AFMD,AFYA,AGCUU,AGFS,AGG,AGGY,AGIO,AGM,AGNCM,AGO,AGQ,AGX,AGTC,AGYS,AHC,AHH,AINV,AIQ,AIRG,AIRR,AIV,AIZP,AJRD,AKUS,ALCO,ALE,ALEX,ALG,ALGT,AI,AIG,AIMC,AIN,AIR,AIRI,AIRT,AIT,AJG,AJX,AKAM,AKBA,AKR,AL,ALC,ALDX,ALEC,ALGN,ALIM,ALKS,ALOT,ALK,ALLE,ALRM,ALRS,ALSN,ALTA,ALTR,ALXN,AMAG,AMAT,AMBC,AMCX,AMED,AMG,AMH,AMHC,AMJ,AMKR,AMN,AMNB,AMOV,AMRC,AMRK,ALRN,ALSK,ALTG,ALTM,ALUS,ALV,ALX,AM,AMAL,AMBA,AMCR,AME,AMEH,AMGN,AMK,AMLP,AMOT,AMP,AMPH,AMRB,AMRN'"
      ]
     },
     "execution_count": 43,
     "metadata": {},
     "output_type": "execute_result"
    }
   ],
   "source": [
    "#========================#\n",
    "#      Ejercicio 3       #\n",
    "#========================#\n",
    "\n",
    "\n",
    "def sublist_to_string(listas):\n",
    "    for i in range(len(listas)):\n",
    "        listas[i] = ','.join(listas[i])\n",
    "    return listas\n",
    "\n",
    "listas = sublist_to_string(listasActivos())\n",
    "listas[0]"
   ]
  },
  {
   "cell_type": "code",
   "execution_count": null,
   "metadata": {},
   "outputs": [],
   "source": []
  },
  {
   "cell_type": "code",
   "execution_count": null,
   "metadata": {},
   "outputs": [],
   "source": []
  },
  {
   "cell_type": "code",
   "execution_count": null,
   "metadata": {},
   "outputs": [],
   "source": []
  },
  {
   "cell_type": "code",
   "execution_count": null,
   "metadata": {},
   "outputs": [],
   "source": []
  },
  {
   "cell_type": "code",
   "execution_count": null,
   "metadata": {},
   "outputs": [],
   "source": []
  },
  {
   "cell_type": "code",
   "execution_count": 36,
   "metadata": {
    "scrolled": false
   },
   "outputs": [],
   "source": [
    "#========================#\n",
    "#      Ejercicio 4       #\n",
    "#========================#\n",
    "\n",
    "\n",
    "def getHistory(symbol, start, end, timeframe='1D'):    \n",
    "    start = dt.datetime.strftime(start, format='%Y-%m-%dT%T-04:00')\n",
    "    end = dt.datetime.strftime(end, format='%Y-%m-%dT%T-04:00')\n",
    "\n",
    "    headers ={\"APCA-API-KEY-ID\" : api_key, \"APCA-API-SECRET-KEY\":secret_key}\n",
    "    params =  {'symbols' : symbol, 'start':start, 'end':end}\n",
    "    endpoint = \"https://data.alpaca.markets/v1/bars/\"+timeframe\n",
    "    r = requests.get(url = endpoint, headers =headers, params=params)\n",
    "    js = r.json()\n",
    "    \n",
    "    tickers = symbol.split(\",\")\n",
    "    dfs = {}\n",
    "    for ticker in tickers:\n",
    "        # Bloque por los errores cuando no hay datos\n",
    "        try:\n",
    "            dfs[ticker] = pd.DataFrame(js[ticker])\n",
    "            dfs[ticker].t = pd.to_datetime(dfs[ticker].t, unit='s')\n",
    "            dfs[ticker].set_index(dfs[ticker].t, inplace=True)\n",
    "        except:\n",
    "            pass\n",
    "    return dfs\n",
    "\n",
    "import datetime as dt\n",
    "end =  dt.date.today() + dt.timedelta(days=1)\n",
    "start = end - dt.timedelta(days=200)\n",
    "\n",
    "data = getHistory(listas[0], start, end, timeframe='1D')"
   ]
  },
  {
   "cell_type": "code",
   "execution_count": 37,
   "metadata": {},
   "outputs": [
    {
     "data": {
      "text/plain": [
       "200"
      ]
     },
     "execution_count": 37,
     "metadata": {},
     "output_type": "execute_result"
    }
   ],
   "source": [
    "len(data)"
   ]
  },
  {
   "cell_type": "code",
   "execution_count": 38,
   "metadata": {},
   "outputs": [
    {
     "data": {
      "text/plain": [
       "dict_keys(['BWA', 'BTN', 'DLA', 'EPR', 'IBN', 'KBH', 'MED', 'MODN', 'NEWR', 'IVZ', 'OLN', 'PLAN', 'PNM', 'PSX', 'RH', 'SMAR', 'SPXC', 'TYL', 'UL', 'VEON', 'AAME', 'AAP', 'AAWW', 'AAXN', 'ABB', 'ABCB', 'ABG', 'ABMD', 'AAOI', 'AAXJ', 'AB', 'ABC', 'ABEV', 'ABM', 'ABR', 'ABTX', 'AC', 'ACAD', 'ACA', 'ACAM', 'ACC', 'ACCO', 'ACET', 'ACHC', 'ACIW', 'ACM', 'ACN', 'ACND', 'ACTG', 'ACWI', 'ACWX', 'ADMA', 'ADNT', 'ADPT', 'ADS', 'ADSW', 'ADVM', 'ACBI', 'ACCD', 'ACEL', 'ACGL', 'ACH', 'ACI', 'ACLS', 'ACMR', 'ACNB', 'ACND.U', 'ACU', 'ACWV', 'ADC', 'ADES', 'ADI', 'ADM', 'ADSK', 'ADTN', 'ADUS', 'AEG', 'AEHR', 'AEL', 'AEE', 'AEGN', 'AEIS', 'AEM', 'AEO', 'AER', 'AES', 'AEYE', 'AFL', 'AG', 'AGCO', 'AGD', 'AGEN', 'AGI', 'AGLE', 'AGNC', 'AGNCN', 'AGNCP', 'AGRO', 'AGS', 'AEP', 'AERI', 'AEY', 'AFB', 'AFG', 'AFIB', 'AFIN', 'AFMD', 'AFYA', 'AGCUU', 'AGFS', 'AGG', 'AGGY', 'AGIO', 'AGM', 'AGNCM', 'AGO', 'AGQ', 'AGX', 'AGTC', 'AGYS', 'AHC', 'AHH', 'AINV', 'AIQ', 'AIRG', 'AIRR', 'AIV', 'AIZP', 'AJRD', 'AKUS', 'ALCO', 'ALE', 'ALEX', 'ALG', 'ALGT', 'AI', 'AIG', 'AIMC', 'AIN', 'AIR', 'AIRI', 'AIRT', 'AIT', 'AJG', 'AJX', 'AKAM', 'AKBA', 'AKR', 'AL', 'ALC', 'ALDX', 'ALEC', 'ALGN', 'ALIM', 'ALKS', 'ALOT', 'ALK', 'ALLE', 'ALRM', 'ALRS', 'ALSN', 'ALTA', 'ALTR', 'ALXN', 'AMAG', 'AMAT', 'AMBC', 'AMCX', 'AMED', 'AMG', 'AMH', 'AMHC', 'AMJ', 'AMKR', 'AMN', 'AMNB', 'AMOV', 'AMRC', 'AMRK', 'ALRN', 'ALSK', 'ALTG', 'ALTM', 'ALUS', 'ALV', 'ALX', 'AM', 'AMAL', 'AMBA', 'AMCR', 'AME', 'AMEH', 'AMGN', 'AMK', 'AMLP', 'AMOT', 'AMP', 'AMPH', 'AMRB', 'AMRN'])"
      ]
     },
     "execution_count": 38,
     "metadata": {},
     "output_type": "execute_result"
    }
   ],
   "source": [
    "data.keys()"
   ]
  },
  {
   "cell_type": "code",
   "execution_count": null,
   "metadata": {},
   "outputs": [],
   "source": []
  },
  {
   "cell_type": "code",
   "execution_count": null,
   "metadata": {},
   "outputs": [],
   "source": []
  },
  {
   "cell_type": "code",
   "execution_count": null,
   "metadata": {},
   "outputs": [],
   "source": []
  },
  {
   "cell_type": "code",
   "execution_count": null,
   "metadata": {},
   "outputs": [],
   "source": []
  },
  {
   "cell_type": "code",
   "execution_count": null,
   "metadata": {},
   "outputs": [],
   "source": []
  },
  {
   "cell_type": "code",
   "execution_count": 39,
   "metadata": {},
   "outputs": [],
   "source": [
    "#========================#\n",
    "#      Ejercicio 5       #\n",
    "#========================#\n",
    "\n",
    "\n",
    "def signal(df, fast=9, slow=26, suavizado=9):\n",
    "    df['ema_fast'] = df.c.ewm(span=fast).mean()\n",
    "    df['ema_slow'] = df.c.ewm(span=slow).mean()\n",
    "    df['macd'] = df.ema_fast - df.ema_slow\n",
    "    df['signal'] = df.macd.ewm(span=suavizado).mean()\n",
    "    df['histograma'] = df.macd - df.signal\n",
    "    \n",
    "    \n",
    "    alert = ''\n",
    "    if ( (float(df.iloc[-1:]['histograma']) > 0) & (float(df.iloc[-2:-1]['histograma']) < 0) ):\n",
    "        alert = 'Subiendo'\n",
    "    if ( (float(df.iloc[-1:]['histograma']) < 0) & (float(df.iloc[-2:-1]['histograma']) > 0) ):\n",
    "        alert = 'Bajando'\n",
    "        \n",
    "    return alert"
   ]
  },
  {
   "cell_type": "code",
   "execution_count": 40,
   "metadata": {},
   "outputs": [
    {
     "ename": "KeyError",
     "evalue": "'nnnnn'",
     "output_type": "error",
     "traceback": [
      "\u001b[1;31m---------------------------------------------------------------------------\u001b[0m",
      "\u001b[1;31mKeyError\u001b[0m                                  Traceback (most recent call last)",
      "\u001b[1;32m<ipython-input-40-74845ad4b79a>\u001b[0m in \u001b[0;36m<module>\u001b[1;34m\u001b[0m\n\u001b[1;32m----> 1\u001b[1;33m \u001b[0msignal\u001b[0m\u001b[1;33m(\u001b[0m\u001b[0mdata\u001b[0m\u001b[1;33m[\u001b[0m\u001b[1;34m'nnnnn'\u001b[0m\u001b[1;33m]\u001b[0m\u001b[1;33m,\u001b[0m \u001b[0mfast\u001b[0m\u001b[1;33m=\u001b[0m\u001b[1;36m9\u001b[0m\u001b[1;33m,\u001b[0m \u001b[0mslow\u001b[0m\u001b[1;33m=\u001b[0m\u001b[1;36m26\u001b[0m\u001b[1;33m,\u001b[0m \u001b[0msuavizado\u001b[0m\u001b[1;33m=\u001b[0m\u001b[1;36m9\u001b[0m\u001b[1;33m)\u001b[0m\u001b[1;33m\u001b[0m\u001b[1;33m\u001b[0m\u001b[0m\n\u001b[0m",
      "\u001b[1;31mKeyError\u001b[0m: 'nnnnn'"
     ]
    }
   ],
   "source": [
    "signal(data['nnnnn'], fast=9, slow=26, suavizado=9)"
   ]
  },
  {
   "cell_type": "code",
   "execution_count": null,
   "metadata": {},
   "outputs": [],
   "source": [
    "#========================#\n",
    "#      Ejercicio 6       #\n",
    "#========================#\n",
    "\n",
    "# Uso la funcion del ejercicio 3 y 2\n",
    "# armo las listas de a 200 activos para traer la data lista por lista\n",
    "listas = sublist_to_string(listasActivos())\n",
    "\n",
    "\n",
    "import datetime as dt\n",
    "end =  dt.date.today()  + dt.timedelta(days=1)\n",
    "start = end - dt.timedelta(days=200)\n",
    "\n",
    "subiendo = []\n",
    "bajando = []\n",
    "\n",
    "for i in range(len(listas)):\n",
    "    \n",
    "    # Para ver la evolución ya que tarda unos 2 minutos en correr\n",
    "    print(i,'..',end='')\n",
    "    \n",
    "    # Uso la función del ejercicio 4\n",
    "    data = getHistory(listas[i], start, end, timeframe='1D')\n",
    "    for ticker in data:\n",
    "        try:\n",
    "            # Uso la función del ejercicio 5\n",
    "            s = signal(data[ticker], fast=9, slow=26, suavizado=9)\n",
    "            \n",
    "            if s=='Subiendo':\n",
    "                subiendo.append(ticker)\n",
    "            if s=='Bajando':\n",
    "                bajando.append(ticker)\n",
    "        except:\n",
    "            pass"
   ]
  },
  {
   "cell_type": "code",
   "execution_count": null,
   "metadata": {},
   "outputs": [],
   "source": [
    "# Uso la función del ejercicio 1\n",
    "longs_id, longs = createWatchlist('Longs', subiendo)\n",
    "shorts_id, shorts = createWatchlist('Shorts', bajando)\n",
    "\n",
    "print('Longs ID:',longs_id,'\\nShorts ID:',shorts_id)\n",
    "print('\\n\\nLongs Cantidad:',len(longs),'\\nShorts Cantidad:',len(shorts))"
   ]
  },
  {
   "cell_type": "code",
   "execution_count": null,
   "metadata": {},
   "outputs": [],
   "source": [
    "comprar = list(getWatchlist(longs_id).index.values)\n",
    "vender = list(getWatchlist(shorts_id).index.values)\n",
    "print(f'COMRAR:\\n{comprar} \\n\\n VENDER:\\n{vender}')"
   ]
  },
  {
   "cell_type": "code",
   "execution_count": null,
   "metadata": {},
   "outputs": [],
   "source": [
    "end =  dt.date.today()  + dt.timedelta(days=1)\n",
    "start = end - dt.timedelta(days=50)\n",
    "preciosLong = getHistory(','.join(comprar), start, end, timeframe='15Min')"
   ]
  },
  {
   "cell_type": "code",
   "execution_count": null,
   "metadata": {},
   "outputs": [],
   "source": [
    "for ticker in comprar:\n",
    "    try:\n",
    "        px = preciosLong[ticker].iloc[-1].c\n",
    "        q = int(((200000)/len(comprar)) // px)\n",
    "        orden = order(symbol=ticker, qty=q, side='buy', \n",
    "                      tipo='market',time_in_force='gtc',limit_price=None)\n",
    "        \n",
    "        print('Buy', round(px,2), ticker, end=', ')\n",
    "    except:\n",
    "        print(f'\\n****Fallo en {ticker}****')"
   ]
  },
  {
   "cell_type": "code",
   "execution_count": null,
   "metadata": {},
   "outputs": [],
   "source": [
    "end =  dt.date.today()  + dt.timedelta(days=1)\n",
    "start = end - dt.timedelta(days=50)\n",
    "preciosShort = getHistory(','.join(vender), start, end, timeframe='15Min')"
   ]
  },
  {
   "cell_type": "code",
   "execution_count": null,
   "metadata": {},
   "outputs": [],
   "source": [
    "for ticker in vender:\n",
    "    try:\n",
    "        # lastQ=lastQuote(ticker)  px=(lastQ['askprice']+lastQ['bidprice'])/2 \n",
    "        px = preciosShort[ticker].iloc[-1].c\n",
    "        q = ((200000)/len(vender)) // px\n",
    "        orden = order(symbol=ticker, qty=q, side='sell', \n",
    "                      tipo='market', time_in_force='gtc', limit_price=None)\n",
    "        print('Sell', round(px,2), ticker, end=', ')\n",
    "    except:\n",
    "        print(f'****Fallo en {ticker}****')"
   ]
  },
  {
   "cell_type": "markdown",
   "metadata": {},
   "source": [
    "# Bases de Datos introducción"
   ]
  },
  {
   "cell_type": "markdown",
   "metadata": {},
   "source": [
    "* claves foraneas\n",
    "* claves primarias"
   ]
  },
  {
   "cell_type": "markdown",
   "metadata": {},
   "source": [
    "<img src='imagenes/BBDD.jpeg' width='600'>"
   ]
  },
  {
   "cell_type": "markdown",
   "metadata": {},
   "source": [
    "Y así sucesivamente se pueden ir creando nuevas entidades que se van relacionando con otras\n",
    "\n",
    "En este caso vamos a agregar a nuestro modelo de subyacentes y derivados, una entidad de \"fondos\" que podrian ser FCIs y \"clientes\" que podrian ser las cuentas de un Alyc"
   ]
  },
  {
   "cell_type": "markdown",
   "metadata": {},
   "source": [
    "<img src='imagenes/BBDD2.jpeg' width='600'>"
   ]
  },
  {
   "cell_type": "markdown",
   "metadata": {},
   "source": [
    "# XAMPP"
   ]
  },
  {
   "cell_type": "markdown",
   "metadata": {},
   "source": [
    "## Configuracion Apache y puerto http"
   ]
  },
  {
   "cell_type": "markdown",
   "metadata": {},
   "source": [
    "Configuraciones Iniciales, no necesariamente pero si al darrle \"start\" al Apache aparece un conflicto de puertos, hay que configurar un puerto diferente al 80 que es el default"
   ]
  },
  {
   "cell_type": "markdown",
   "metadata": {},
   "source": [
    "<img src='imagenes/xampp_1.png' width=750>"
   ]
  },
  {
   "cell_type": "markdown",
   "metadata": {},
   "source": [
    "<img src='imagenes/xampp_2.png' width=750>"
   ]
  },
  {
   "cell_type": "markdown",
   "metadata": {},
   "source": [
    "<img src='imagenes/xampp_3.png' width=750>"
   ]
  },
  {
   "cell_type": "markdown",
   "metadata": {},
   "source": [
    "## Configuracion MySQL y puerto de BBDD"
   ]
  },
  {
   "cell_type": "markdown",
   "metadata": {},
   "source": [
    "<img src='imagenes/xampp_4.png' width=750>"
   ]
  },
  {
   "cell_type": "markdown",
   "metadata": {},
   "source": [
    "<img src='imagenes/xampp_5.png' width=750>"
   ]
  },
  {
   "cell_type": "markdown",
   "metadata": {},
   "source": [
    "## Configuracion general  XAMMP"
   ]
  },
  {
   "cell_type": "markdown",
   "metadata": {},
   "source": [
    "<img src='imagenes/xampp_6.png' width=800>"
   ]
  },
  {
   "cell_type": "markdown",
   "metadata": {},
   "source": [
    "<img src='imagenes/xampp_7.png' width='600'>"
   ]
  },
  {
   "cell_type": "markdown",
   "metadata": {},
   "source": [
    "<img src='imagenes/xampp_8.png'  width='600'>"
   ]
  },
  {
   "cell_type": "markdown",
   "metadata": {},
   "source": [
    "# Crear Base de datos"
   ]
  },
  {
   "cell_type": "markdown",
   "metadata": {},
   "source": [
    "<img src='imagenes/xampp_9.png'  width='700'>"
   ]
  },
  {
   "cell_type": "code",
   "execution_count": null,
   "metadata": {},
   "outputs": [],
   "source": []
  },
  {
   "cell_type": "markdown",
   "metadata": {},
   "source": [
    "# Seteo Motor de BBDD"
   ]
  },
  {
   "cell_type": "code",
   "execution_count": null,
   "metadata": {},
   "outputs": [],
   "source": [
    "# from sqlalchemy import create_engine\n",
    "\n",
    "# Seteo el USER : PASS @ HOST / BBDD_NAME\n",
    "# engine = create_engine('mysql+pymysql://root:@localhost/test')"
   ]
  },
  {
   "cell_type": "code",
   "execution_count": null,
   "metadata": {},
   "outputs": [],
   "source": []
  },
  {
   "cell_type": "code",
   "execution_count": null,
   "metadata": {},
   "outputs": [],
   "source": []
  }
 ],
 "metadata": {
  "kernelspec": {
   "display_name": "Python 3",
   "language": "python",
   "name": "python3"
  },
  "language_info": {
   "codemirror_mode": {
    "name": "ipython",
    "version": 3
   },
   "file_extension": ".py",
   "mimetype": "text/x-python",
   "name": "python",
   "nbconvert_exporter": "python",
   "pygments_lexer": "ipython3",
   "version": "3.8.5"
  },
  "toc": {
   "base_numbering": 1,
   "nav_menu": {},
   "number_sections": true,
   "sideBar": true,
   "skip_h1_title": false,
   "title_cell": "Table of Contents",
   "title_sidebar": "Contents",
   "toc_cell": false,
   "toc_position": {},
   "toc_section_display": true,
   "toc_window_display": true
  },
  "varInspector": {
   "cols": {
    "lenName": 16,
    "lenType": 16,
    "lenVar": 40
   },
   "kernels_config": {
    "python": {
     "delete_cmd_postfix": "",
     "delete_cmd_prefix": "del ",
     "library": "var_list.py",
     "varRefreshCmd": "print(var_dic_list())"
    },
    "r": {
     "delete_cmd_postfix": ") ",
     "delete_cmd_prefix": "rm(",
     "library": "var_list.r",
     "varRefreshCmd": "cat(var_dic_list()) "
    }
   },
   "types_to_exclude": [
    "module",
    "function",
    "builtin_function_or_method",
    "instance",
    "_Feature"
   ],
   "window_display": false
  }
 },
 "nbformat": 4,
 "nbformat_minor": 4
}
