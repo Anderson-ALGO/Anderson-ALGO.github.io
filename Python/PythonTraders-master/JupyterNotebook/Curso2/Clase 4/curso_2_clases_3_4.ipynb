{
 "cells": [
  {
   "cell_type": "markdown",
   "metadata": {},
   "source": [
    "# Alpaca"
   ]
  },
  {
   "cell_type": "markdown",
   "metadata": {},
   "source": [
    "Registrarse:\n",
    "\n",
    "\n",
    "https://alpaca.markets/"
   ]
  },
  {
   "cell_type": "markdown",
   "metadata": {},
   "source": [
    "Documentacion:\n",
    "\n",
    "\n",
    "https://alpaca.markets/docs/"
   ]
  },
  {
   "cell_type": "code",
   "execution_count": 2,
   "metadata": {},
   "outputs": [],
   "source": [
    "import requests"
   ]
  },
  {
   "cell_type": "code",
   "execution_count": 3,
   "metadata": {},
   "outputs": [],
   "source": [
    "api_key = \"PKKY3DL15QNUTMRLYSZQ\"\n",
    "secret_key = \"eVt4cpZJ7Nx9YYGogBeoEullqj4F5wDeymGiMU2Q\""
   ]
  },
  {
   "cell_type": "code",
   "execution_count": 4,
   "metadata": {},
   "outputs": [],
   "source": [
    "def getAccount():    \n",
    "    \n",
    "    headers ={\"APCA-API-KEY-ID\" : api_key, \"APCA-API-SECRET-KEY\":secret_key}\n",
    "    endpoint = \"https://paper-api.alpaca.markets/v2/account\"\n",
    "    \n",
    "    r = requests.get(url = endpoint, headers = headers)\n",
    "    \n",
    "    js = r.json()\n",
    "    return js"
   ]
  },
  {
   "cell_type": "markdown",
   "metadata": {},
   "source": [
    "Veamos entonces lo que nos devuelve:"
   ]
  },
  {
   "cell_type": "code",
   "execution_count": 5,
   "metadata": {},
   "outputs": [
    {
     "data": {
      "text/plain": [
       "'100000'"
      ]
     },
     "execution_count": 5,
     "metadata": {},
     "output_type": "execute_result"
    }
   ],
   "source": [
    "cuenta  = getAccount()\n",
    "\n",
    "cuenta.get('cash')"
   ]
  },
  {
   "cell_type": "code",
   "execution_count": 6,
   "metadata": {},
   "outputs": [
    {
     "data": {
      "text/plain": [
       "{'id': 'e67a2dfa-e62f-4e83-ab77-52d722540ca7',\n",
       " 'account_number': 'PA2DF71ZL4MX',\n",
       " 'status': 'ACTIVE',\n",
       " 'currency': 'USD',\n",
       " 'buying_power': '400000',\n",
       " 'regt_buying_power': '200000',\n",
       " 'daytrading_buying_power': '400000',\n",
       " 'cash': '100000',\n",
       " 'portfolio_value': '100000',\n",
       " 'pattern_day_trader': False,\n",
       " 'trading_blocked': False,\n",
       " 'transfers_blocked': False,\n",
       " 'account_blocked': False,\n",
       " 'created_at': '2020-10-09T17:10:17.590294Z',\n",
       " 'trade_suspended_by_user': False,\n",
       " 'multiplier': '4',\n",
       " 'shorting_enabled': True,\n",
       " 'equity': '100000',\n",
       " 'last_equity': '100000',\n",
       " 'long_market_value': '0',\n",
       " 'short_market_value': '0',\n",
       " 'initial_margin': '0',\n",
       " 'maintenance_margin': '0',\n",
       " 'last_maintenance_margin': '0',\n",
       " 'sma': '0',\n",
       " 'daytrade_count': 0}"
      ]
     },
     "execution_count": 6,
     "metadata": {},
     "output_type": "execute_result"
    }
   ],
   "source": [
    "cuenta"
   ]
  },
  {
   "cell_type": "markdown",
   "metadata": {},
   "source": [
    "## MarketData"
   ]
  },
  {
   "cell_type": "markdown",
   "metadata": {},
   "source": [
    "Vamos a ver como pedimos marketData con esta API, empecemos por la data histórica, le vamos a tener que pasar dos parámetros a la API:\n",
    "   * TimeFrame\n",
    "       * 1Min\n",
    "       * 5Min\n",
    "       * 15Min\n",
    "       * 1D (day)\n",
    "   * Symbolo/Simbolos"
   ]
  },
  {
   "cell_type": "code",
   "execution_count": 7,
   "metadata": {
    "scrolled": true
   },
   "outputs": [
    {
     "data": {
      "text/html": [
       "<div>\n",
       "<style scoped>\n",
       "    .dataframe tbody tr th:only-of-type {\n",
       "        vertical-align: middle;\n",
       "    }\n",
       "\n",
       "    .dataframe tbody tr th {\n",
       "        vertical-align: top;\n",
       "    }\n",
       "\n",
       "    .dataframe thead th {\n",
       "        text-align: right;\n",
       "    }\n",
       "</style>\n",
       "<table border=\"1\" class=\"dataframe\">\n",
       "  <thead>\n",
       "    <tr style=\"text-align: right;\">\n",
       "      <th></th>\n",
       "      <th>t</th>\n",
       "      <th>o</th>\n",
       "      <th>h</th>\n",
       "      <th>l</th>\n",
       "      <th>c</th>\n",
       "      <th>v</th>\n",
       "    </tr>\n",
       "  </thead>\n",
       "  <tbody>\n",
       "    <tr>\n",
       "      <th>0</th>\n",
       "      <td>2020-05-20 04:00:00</td>\n",
       "      <td>316.68</td>\n",
       "      <td>319.52</td>\n",
       "      <td>316.20</td>\n",
       "      <td>319.16</td>\n",
       "      <td>49657449</td>\n",
       "    </tr>\n",
       "    <tr>\n",
       "      <th>1</th>\n",
       "      <td>2020-05-21 04:00:00</td>\n",
       "      <td>318.66</td>\n",
       "      <td>320.89</td>\n",
       "      <td>315.87</td>\n",
       "      <td>317.04</td>\n",
       "      <td>46099960</td>\n",
       "    </tr>\n",
       "    <tr>\n",
       "      <th>2</th>\n",
       "      <td>2020-05-22 04:00:00</td>\n",
       "      <td>315.77</td>\n",
       "      <td>319.23</td>\n",
       "      <td>315.35</td>\n",
       "      <td>318.89</td>\n",
       "      <td>37592751</td>\n",
       "    </tr>\n",
       "    <tr>\n",
       "      <th>3</th>\n",
       "      <td>2020-05-26 04:00:00</td>\n",
       "      <td>323.50</td>\n",
       "      <td>324.24</td>\n",
       "      <td>316.50</td>\n",
       "      <td>316.84</td>\n",
       "      <td>27609402</td>\n",
       "    </tr>\n",
       "    <tr>\n",
       "      <th>4</th>\n",
       "      <td>2020-05-27 04:00:00</td>\n",
       "      <td>316.14</td>\n",
       "      <td>318.71</td>\n",
       "      <td>313.09</td>\n",
       "      <td>318.08</td>\n",
       "      <td>24944652</td>\n",
       "    </tr>\n",
       "    <tr>\n",
       "      <th>...</th>\n",
       "      <td>...</td>\n",
       "      <td>...</td>\n",
       "      <td>...</td>\n",
       "      <td>...</td>\n",
       "      <td>...</td>\n",
       "      <td>...</td>\n",
       "    </tr>\n",
       "    <tr>\n",
       "      <th>95</th>\n",
       "      <td>2020-10-05 04:00:00</td>\n",
       "      <td>113.92</td>\n",
       "      <td>116.65</td>\n",
       "      <td>113.55</td>\n",
       "      <td>116.54</td>\n",
       "      <td>93972780</td>\n",
       "    </tr>\n",
       "    <tr>\n",
       "      <th>96</th>\n",
       "      <td>2020-10-06 04:00:00</td>\n",
       "      <td>115.70</td>\n",
       "      <td>116.12</td>\n",
       "      <td>112.25</td>\n",
       "      <td>113.16</td>\n",
       "      <td>142211773</td>\n",
       "    </tr>\n",
       "    <tr>\n",
       "      <th>97</th>\n",
       "      <td>2020-10-07 04:00:00</td>\n",
       "      <td>114.62</td>\n",
       "      <td>115.51</td>\n",
       "      <td>114.13</td>\n",
       "      <td>115.05</td>\n",
       "      <td>84487218</td>\n",
       "    </tr>\n",
       "    <tr>\n",
       "      <th>98</th>\n",
       "      <td>2020-10-08 04:00:00</td>\n",
       "      <td>116.27</td>\n",
       "      <td>116.40</td>\n",
       "      <td>114.59</td>\n",
       "      <td>114.97</td>\n",
       "      <td>74552335</td>\n",
       "    </tr>\n",
       "    <tr>\n",
       "      <th>99</th>\n",
       "      <td>2020-10-09 04:00:00</td>\n",
       "      <td>115.28</td>\n",
       "      <td>116.63</td>\n",
       "      <td>114.92</td>\n",
       "      <td>116.60</td>\n",
       "      <td>52736536</td>\n",
       "    </tr>\n",
       "  </tbody>\n",
       "</table>\n",
       "<p>100 rows × 6 columns</p>\n",
       "</div>"
      ],
      "text/plain": [
       "                     t       o       h       l       c          v\n",
       "0  2020-05-20 04:00:00  316.68  319.52  316.20  319.16   49657449\n",
       "1  2020-05-21 04:00:00  318.66  320.89  315.87  317.04   46099960\n",
       "2  2020-05-22 04:00:00  315.77  319.23  315.35  318.89   37592751\n",
       "3  2020-05-26 04:00:00  323.50  324.24  316.50  316.84   27609402\n",
       "4  2020-05-27 04:00:00  316.14  318.71  313.09  318.08   24944652\n",
       "..                 ...     ...     ...     ...     ...        ...\n",
       "95 2020-10-05 04:00:00  113.92  116.65  113.55  116.54   93972780\n",
       "96 2020-10-06 04:00:00  115.70  116.12  112.25  113.16  142211773\n",
       "97 2020-10-07 04:00:00  114.62  115.51  114.13  115.05   84487218\n",
       "98 2020-10-08 04:00:00  116.27  116.40  114.59  114.97   74552335\n",
       "99 2020-10-09 04:00:00  115.28  116.63  114.92  116.60   52736536\n",
       "\n",
       "[100 rows x 6 columns]"
      ]
     },
     "execution_count": 7,
     "metadata": {},
     "output_type": "execute_result"
    }
   ],
   "source": [
    "import pandas as pd\n",
    "\n",
    "def getHistory(symbol, timeframe='1D'): \n",
    "    \n",
    "    headers ={\"APCA-API-KEY-ID\" : api_key, \"APCA-API-SECRET-KEY\":secret_key}\n",
    "    params =  {'symbols' : symbol}\n",
    "    endpoint = \"https://data.alpaca.markets/v1/bars/\"+timeframe\n",
    "    \n",
    "    r = requests.get(url = endpoint, headers =headers, params=params)\n",
    "    js = r.json()\n",
    "    \n",
    "    df = pd.DataFrame(js[symbol])\n",
    "    df.t = pd.to_datetime(df.t, unit='s')\n",
    "    return df\n",
    "\n",
    "data = getHistory(\"AAPL\")\n",
    "data.round(2)"
   ]
  },
  {
   "cell_type": "code",
   "execution_count": 8,
   "metadata": {
    "scrolled": true
   },
   "outputs": [
    {
     "data": {
      "text/plain": [
       "datetime.datetime(2020, 6, 20, 12, 15)"
      ]
     },
     "execution_count": 8,
     "metadata": {},
     "output_type": "execute_result"
    }
   ],
   "source": [
    "import datetime as dt\n",
    "\n",
    "#definimos una fecha como el 20 de Junio de 2020, a las 12:15hs \n",
    "fecha = dt.datetime(2020,6,20,12,15,0)\n",
    "\n",
    "fecha"
   ]
  },
  {
   "cell_type": "code",
   "execution_count": 9,
   "metadata": {},
   "outputs": [
    {
     "data": {
      "text/plain": [
       "'2020-06-20T12:15:00-03:00'"
      ]
     },
     "execution_count": 9,
     "metadata": {},
     "output_type": "execute_result"
    }
   ],
   "source": [
    "fechaSRT = dt.datetime.strftime(fecha, format='%Y-%m-%dT%T-03:00')\n",
    "fechaSRT"
   ]
  },
  {
   "cell_type": "code",
   "execution_count": 10,
   "metadata": {},
   "outputs": [],
   "source": [
    "import pandas as pd\n",
    "\n",
    "def getHistory(symbol, start, end, timeframe='1D'):    \n",
    "    \n",
    "    start = dt.datetime.strftime(start, format='%Y-%m-%dT%T-04:00')\n",
    "    end = dt.datetime.strftime(end, format='%Y-%m-%dT%T-04:00')\n",
    "\n",
    "    headers ={\"APCA-API-KEY-ID\" : api_key, \"APCA-API-SECRET-KEY\":secret_key}\n",
    "    \n",
    "    params =  {'symbols' : symbol, 'start':start, 'end':end}\n",
    "    \n",
    "    endpoint =  \"https://data.alpaca.markets/v1/bars/\"+timeframe\n",
    "    r = requests.get(url = endpoint, headers =headers, params=params)\n",
    "    js = r.json()\n",
    "    df = pd.DataFrame(js[symbol])\n",
    "    df.t = pd.to_datetime(df.t, unit='s')\n",
    "    return df"
   ]
  },
  {
   "cell_type": "code",
   "execution_count": 11,
   "metadata": {},
   "outputs": [
    {
     "data": {
      "text/html": [
       "<div>\n",
       "<style scoped>\n",
       "    .dataframe tbody tr th:only-of-type {\n",
       "        vertical-align: middle;\n",
       "    }\n",
       "\n",
       "    .dataframe tbody tr th {\n",
       "        vertical-align: top;\n",
       "    }\n",
       "\n",
       "    .dataframe thead th {\n",
       "        text-align: right;\n",
       "    }\n",
       "</style>\n",
       "<table border=\"1\" class=\"dataframe\">\n",
       "  <thead>\n",
       "    <tr style=\"text-align: right;\">\n",
       "      <th></th>\n",
       "      <th>t</th>\n",
       "      <th>o</th>\n",
       "      <th>h</th>\n",
       "      <th>l</th>\n",
       "      <th>c</th>\n",
       "      <th>v</th>\n",
       "    </tr>\n",
       "  </thead>\n",
       "  <tbody>\n",
       "    <tr>\n",
       "      <th>0</th>\n",
       "      <td>2015-01-02 13:05:00</td>\n",
       "      <td>111.080</td>\n",
       "      <td>111.08</td>\n",
       "      <td>111.080</td>\n",
       "      <td>111.080</td>\n",
       "      <td>100</td>\n",
       "    </tr>\n",
       "    <tr>\n",
       "      <th>1</th>\n",
       "      <td>2015-01-02 13:45:00</td>\n",
       "      <td>111.280</td>\n",
       "      <td>111.34</td>\n",
       "      <td>111.280</td>\n",
       "      <td>111.340</td>\n",
       "      <td>200</td>\n",
       "    </tr>\n",
       "    <tr>\n",
       "      <th>2</th>\n",
       "      <td>2015-01-02 14:20:00</td>\n",
       "      <td>111.420</td>\n",
       "      <td>111.42</td>\n",
       "      <td>111.420</td>\n",
       "      <td>111.420</td>\n",
       "      <td>100</td>\n",
       "    </tr>\n",
       "    <tr>\n",
       "      <th>3</th>\n",
       "      <td>2015-01-02 14:30:00</td>\n",
       "      <td>111.400</td>\n",
       "      <td>111.40</td>\n",
       "      <td>111.040</td>\n",
       "      <td>111.050</td>\n",
       "      <td>15209</td>\n",
       "    </tr>\n",
       "    <tr>\n",
       "      <th>4</th>\n",
       "      <td>2015-01-02 14:35:00</td>\n",
       "      <td>111.090</td>\n",
       "      <td>111.34</td>\n",
       "      <td>110.780</td>\n",
       "      <td>110.790</td>\n",
       "      <td>12606</td>\n",
       "    </tr>\n",
       "    <tr>\n",
       "      <th>...</th>\n",
       "      <td>...</td>\n",
       "      <td>...</td>\n",
       "      <td>...</td>\n",
       "      <td>...</td>\n",
       "      <td>...</td>\n",
       "      <td>...</td>\n",
       "    </tr>\n",
       "    <tr>\n",
       "      <th>113644</th>\n",
       "      <td>2020-07-09 19:35:00</td>\n",
       "      <td>380.740</td>\n",
       "      <td>381.64</td>\n",
       "      <td>380.200</td>\n",
       "      <td>381.480</td>\n",
       "      <td>10176</td>\n",
       "    </tr>\n",
       "    <tr>\n",
       "      <th>113645</th>\n",
       "      <td>2020-07-09 19:40:00</td>\n",
       "      <td>381.480</td>\n",
       "      <td>381.95</td>\n",
       "      <td>381.020</td>\n",
       "      <td>381.865</td>\n",
       "      <td>6892</td>\n",
       "    </tr>\n",
       "    <tr>\n",
       "      <th>113646</th>\n",
       "      <td>2020-07-09 19:45:00</td>\n",
       "      <td>381.865</td>\n",
       "      <td>383.07</td>\n",
       "      <td>381.865</td>\n",
       "      <td>382.490</td>\n",
       "      <td>12110</td>\n",
       "    </tr>\n",
       "    <tr>\n",
       "      <th>113647</th>\n",
       "      <td>2020-07-09 19:50:00</td>\n",
       "      <td>382.400</td>\n",
       "      <td>383.24</td>\n",
       "      <td>382.195</td>\n",
       "      <td>382.950</td>\n",
       "      <td>14077</td>\n",
       "    </tr>\n",
       "    <tr>\n",
       "      <th>113648</th>\n",
       "      <td>2020-07-09 19:55:00</td>\n",
       "      <td>382.970</td>\n",
       "      <td>383.20</td>\n",
       "      <td>382.380</td>\n",
       "      <td>382.890</td>\n",
       "      <td>166295</td>\n",
       "    </tr>\n",
       "  </tbody>\n",
       "</table>\n",
       "<p>113649 rows × 6 columns</p>\n",
       "</div>"
      ],
      "text/plain": [
       "                         t        o       h        l        c       v\n",
       "0      2015-01-02 13:05:00  111.080  111.08  111.080  111.080     100\n",
       "1      2015-01-02 13:45:00  111.280  111.34  111.280  111.340     200\n",
       "2      2015-01-02 14:20:00  111.420  111.42  111.420  111.420     100\n",
       "3      2015-01-02 14:30:00  111.400  111.40  111.040  111.050   15209\n",
       "4      2015-01-02 14:35:00  111.090  111.34  110.780  110.790   12606\n",
       "...                    ...      ...     ...      ...      ...     ...\n",
       "113644 2020-07-09 19:35:00  380.740  381.64  380.200  381.480   10176\n",
       "113645 2020-07-09 19:40:00  381.480  381.95  381.020  381.865    6892\n",
       "113646 2020-07-09 19:45:00  381.865  383.07  381.865  382.490   12110\n",
       "113647 2020-07-09 19:50:00  382.400  383.24  382.195  382.950   14077\n",
       "113648 2020-07-09 19:55:00  382.970  383.20  382.380  382.890  166295\n",
       "\n",
       "[113649 rows x 6 columns]"
      ]
     },
     "execution_count": 11,
     "metadata": {},
     "output_type": "execute_result"
    }
   ],
   "source": [
    "start = dt.datetime(2012,1,1,0,0,0)\n",
    "end = dt.datetime(2020,7,10,0,0,0)\n",
    "\n",
    "getHistory('AAPL', start, end, timeframe='5Min')"
   ]
  },
  {
   "cell_type": "markdown",
   "metadata": {},
   "source": [
    "## Bacth requests  (200 tickers x request)"
   ]
  },
  {
   "cell_type": "markdown",
   "metadata": {},
   "source": [
    "### Breve repaso de funciones basicas (split, join)"
   ]
  },
  {
   "cell_type": "code",
   "execution_count": 12,
   "metadata": {},
   "outputs": [
    {
     "data": {
      "text/plain": [
       "['AAPL', 'MSFT']"
      ]
     },
     "execution_count": 12,
     "metadata": {},
     "output_type": "execute_result"
    }
   ],
   "source": [
    "tickers = 'AAPL,MSFT'\n",
    "tickers = tickers.split(\",\")\n",
    "tickers"
   ]
  },
  {
   "cell_type": "code",
   "execution_count": 13,
   "metadata": {},
   "outputs": [
    {
     "data": {
      "text/plain": [
       "'GGAL,AAPL,AMZN'"
      ]
     },
     "execution_count": 13,
     "metadata": {},
     "output_type": "execute_result"
    }
   ],
   "source": [
    "lista = ['GGAL','AAPL','AMZN']\n",
    "','.join(lista)"
   ]
  },
  {
   "cell_type": "code",
   "execution_count": 14,
   "metadata": {},
   "outputs": [],
   "source": [
    "import pandas as pd\n",
    "\n",
    "def getHistory(symbol, start, end, timeframe='1D'):    \n",
    "    \n",
    "    start = dt.datetime.strftime(start, format='%Y-%m-%dT%T-04:00')\n",
    "    end = dt.datetime.strftime(end, format='%Y-%m-%dT%T-04:00')\n",
    "\n",
    "    headers ={\"APCA-API-KEY-ID\" : api_key, \"APCA-API-SECRET-KEY\":secret_key}\n",
    "    params =  {'symbols' : symbol, 'start':start, 'end':end}\n",
    "    endpoint = \"https://data.alpaca.markets/v1/bars/\"+timeframe\n",
    "    \n",
    "    r = requests.get(url = endpoint, headers =headers, params=params)\n",
    "    \n",
    "    js = r.json()\n",
    "    \n",
    "    tickers = symbol.split(\",\")\n",
    "    dfs = {}\n",
    "    for ticker in tickers:\n",
    "        dfs[ticker] = pd.DataFrame(js[ticker])\n",
    "        dfs[ticker].t = pd.to_datetime(dfs[ticker].t, unit='s')\n",
    "    return dfs"
   ]
  },
  {
   "cell_type": "raw",
   "metadata": {},
   "source": [
    "Lo que tengo: variable que es un diccionario, se llama js\n",
    "{\n",
    "    'ticker_1' : [{dia_1},{dia_2}.... {dia_n}],\n",
    "    'ticker_2' : [{dia_1},{dia_2}.... {dia_n}],\n",
    "    ....\n",
    "    \n",
    "    'ticker_n' : [{dia_1},{dia_2}.... {dia_n}]    \n",
    "}\n",
    "\n",
    "\n",
    "Lo que necesito: un diccionario se llama dfs\n",
    "{\n",
    "    'ticker_1' : df,\n",
    "    'ticker_2' : df,\n",
    "    ....\n",
    "    \n",
    "    'ticker_n' : df   \n",
    "}\n",
    "\n"
   ]
  },
  {
   "cell_type": "code",
   "execution_count": 15,
   "metadata": {},
   "outputs": [
    {
     "data": {
      "text/html": [
       "<div>\n",
       "<style scoped>\n",
       "    .dataframe tbody tr th:only-of-type {\n",
       "        vertical-align: middle;\n",
       "    }\n",
       "\n",
       "    .dataframe tbody tr th {\n",
       "        vertical-align: top;\n",
       "    }\n",
       "\n",
       "    .dataframe thead th {\n",
       "        text-align: right;\n",
       "    }\n",
       "</style>\n",
       "<table border=\"1\" class=\"dataframe\">\n",
       "  <thead>\n",
       "    <tr style=\"text-align: right;\">\n",
       "      <th></th>\n",
       "      <th>t</th>\n",
       "      <th>o</th>\n",
       "      <th>h</th>\n",
       "      <th>l</th>\n",
       "      <th>c</th>\n",
       "      <th>v</th>\n",
       "    </tr>\n",
       "  </thead>\n",
       "  <tbody>\n",
       "    <tr>\n",
       "      <th>0</th>\n",
       "      <td>2020-07-01 04:00:00</td>\n",
       "      <td>365.12</td>\n",
       "      <td>367.36</td>\n",
       "      <td>363.91</td>\n",
       "      <td>364.01</td>\n",
       "      <td>25429807</td>\n",
       "    </tr>\n",
       "    <tr>\n",
       "      <th>1</th>\n",
       "      <td>2020-07-02 04:00:00</td>\n",
       "      <td>367.85</td>\n",
       "      <td>370.47</td>\n",
       "      <td>363.65</td>\n",
       "      <td>364.12</td>\n",
       "      <td>25332853</td>\n",
       "    </tr>\n",
       "    <tr>\n",
       "      <th>2</th>\n",
       "      <td>2020-07-06 04:00:00</td>\n",
       "      <td>370.00</td>\n",
       "      <td>375.78</td>\n",
       "      <td>369.87</td>\n",
       "      <td>373.81</td>\n",
       "      <td>26084791</td>\n",
       "    </tr>\n",
       "    <tr>\n",
       "      <th>3</th>\n",
       "      <td>2020-07-07 04:00:00</td>\n",
       "      <td>375.41</td>\n",
       "      <td>378.62</td>\n",
       "      <td>372.23</td>\n",
       "      <td>372.64</td>\n",
       "      <td>24610596</td>\n",
       "    </tr>\n",
       "    <tr>\n",
       "      <th>4</th>\n",
       "      <td>2020-07-08 04:00:00</td>\n",
       "      <td>376.72</td>\n",
       "      <td>381.50</td>\n",
       "      <td>376.36</td>\n",
       "      <td>381.44</td>\n",
       "      <td>26025692</td>\n",
       "    </tr>\n",
       "    <tr>\n",
       "      <th>...</th>\n",
       "      <td>...</td>\n",
       "      <td>...</td>\n",
       "      <td>...</td>\n",
       "      <td>...</td>\n",
       "      <td>...</td>\n",
       "      <td>...</td>\n",
       "    </tr>\n",
       "    <tr>\n",
       "      <th>60</th>\n",
       "      <td>2020-09-25 04:00:00</td>\n",
       "      <td>108.43</td>\n",
       "      <td>112.44</td>\n",
       "      <td>107.67</td>\n",
       "      <td>112.28</td>\n",
       "      <td>137542199</td>\n",
       "    </tr>\n",
       "    <tr>\n",
       "      <th>61</th>\n",
       "      <td>2020-09-28 04:00:00</td>\n",
       "      <td>114.98</td>\n",
       "      <td>115.32</td>\n",
       "      <td>112.78</td>\n",
       "      <td>115.00</td>\n",
       "      <td>119572328</td>\n",
       "    </tr>\n",
       "    <tr>\n",
       "      <th>62</th>\n",
       "      <td>2020-09-29 04:00:00</td>\n",
       "      <td>114.55</td>\n",
       "      <td>115.31</td>\n",
       "      <td>113.57</td>\n",
       "      <td>114.11</td>\n",
       "      <td>89264463</td>\n",
       "    </tr>\n",
       "    <tr>\n",
       "      <th>63</th>\n",
       "      <td>2020-09-30 04:00:00</td>\n",
       "      <td>113.77</td>\n",
       "      <td>117.25</td>\n",
       "      <td>113.62</td>\n",
       "      <td>115.61</td>\n",
       "      <td>115978209</td>\n",
       "    </tr>\n",
       "    <tr>\n",
       "      <th>64</th>\n",
       "      <td>2020-10-01 04:00:00</td>\n",
       "      <td>117.64</td>\n",
       "      <td>117.72</td>\n",
       "      <td>115.83</td>\n",
       "      <td>116.80</td>\n",
       "      <td>97603139</td>\n",
       "    </tr>\n",
       "  </tbody>\n",
       "</table>\n",
       "<p>65 rows × 6 columns</p>\n",
       "</div>"
      ],
      "text/plain": [
       "                     t       o       h       l       c          v\n",
       "0  2020-07-01 04:00:00  365.12  367.36  363.91  364.01   25429807\n",
       "1  2020-07-02 04:00:00  367.85  370.47  363.65  364.12   25332853\n",
       "2  2020-07-06 04:00:00  370.00  375.78  369.87  373.81   26084791\n",
       "3  2020-07-07 04:00:00  375.41  378.62  372.23  372.64   24610596\n",
       "4  2020-07-08 04:00:00  376.72  381.50  376.36  381.44   26025692\n",
       "..                 ...     ...     ...     ...     ...        ...\n",
       "60 2020-09-25 04:00:00  108.43  112.44  107.67  112.28  137542199\n",
       "61 2020-09-28 04:00:00  114.98  115.32  112.78  115.00  119572328\n",
       "62 2020-09-29 04:00:00  114.55  115.31  113.57  114.11   89264463\n",
       "63 2020-09-30 04:00:00  113.77  117.25  113.62  115.61  115978209\n",
       "64 2020-10-01 04:00:00  117.64  117.72  115.83  116.80   97603139\n",
       "\n",
       "[65 rows x 6 columns]"
      ]
     },
     "execution_count": 15,
     "metadata": {},
     "output_type": "execute_result"
    }
   ],
   "source": [
    "start = dt.datetime(2020,7,1,0,0,0)\n",
    "end = dt.datetime(2020,10,1,0,0,0)\n",
    "dfs = getHistory('AAPL,MSFT', start, end, timeframe='day')\n",
    "dfs['AAPL']"
   ]
  },
  {
   "cell_type": "code",
   "execution_count": 16,
   "metadata": {},
   "outputs": [
    {
     "data": {
      "text/html": [
       "<div>\n",
       "<style scoped>\n",
       "    .dataframe tbody tr th:only-of-type {\n",
       "        vertical-align: middle;\n",
       "    }\n",
       "\n",
       "    .dataframe tbody tr th {\n",
       "        vertical-align: top;\n",
       "    }\n",
       "\n",
       "    .dataframe thead th {\n",
       "        text-align: right;\n",
       "    }\n",
       "</style>\n",
       "<table border=\"1\" class=\"dataframe\">\n",
       "  <thead>\n",
       "    <tr style=\"text-align: right;\">\n",
       "      <th></th>\n",
       "      <th>t</th>\n",
       "      <th>o</th>\n",
       "      <th>h</th>\n",
       "      <th>l</th>\n",
       "      <th>c</th>\n",
       "      <th>v</th>\n",
       "    </tr>\n",
       "  </thead>\n",
       "  <tbody>\n",
       "    <tr>\n",
       "      <th>0</th>\n",
       "      <td>2020-07-01 04:00:00</td>\n",
       "      <td>365.12</td>\n",
       "      <td>367.36</td>\n",
       "      <td>363.91</td>\n",
       "      <td>364.01</td>\n",
       "      <td>25429807</td>\n",
       "    </tr>\n",
       "    <tr>\n",
       "      <th>1</th>\n",
       "      <td>2020-07-02 04:00:00</td>\n",
       "      <td>367.85</td>\n",
       "      <td>370.47</td>\n",
       "      <td>363.65</td>\n",
       "      <td>364.12</td>\n",
       "      <td>25332853</td>\n",
       "    </tr>\n",
       "    <tr>\n",
       "      <th>2</th>\n",
       "      <td>2020-07-06 04:00:00</td>\n",
       "      <td>370.00</td>\n",
       "      <td>375.78</td>\n",
       "      <td>369.87</td>\n",
       "      <td>373.81</td>\n",
       "      <td>26084791</td>\n",
       "    </tr>\n",
       "    <tr>\n",
       "      <th>3</th>\n",
       "      <td>2020-07-07 04:00:00</td>\n",
       "      <td>375.41</td>\n",
       "      <td>378.62</td>\n",
       "      <td>372.23</td>\n",
       "      <td>372.64</td>\n",
       "      <td>24610596</td>\n",
       "    </tr>\n",
       "    <tr>\n",
       "      <th>4</th>\n",
       "      <td>2020-07-08 04:00:00</td>\n",
       "      <td>376.72</td>\n",
       "      <td>381.50</td>\n",
       "      <td>376.36</td>\n",
       "      <td>381.44</td>\n",
       "      <td>26025692</td>\n",
       "    </tr>\n",
       "    <tr>\n",
       "      <th>...</th>\n",
       "      <td>...</td>\n",
       "      <td>...</td>\n",
       "      <td>...</td>\n",
       "      <td>...</td>\n",
       "      <td>...</td>\n",
       "      <td>...</td>\n",
       "    </tr>\n",
       "    <tr>\n",
       "      <th>60</th>\n",
       "      <td>2020-09-25 04:00:00</td>\n",
       "      <td>108.43</td>\n",
       "      <td>112.44</td>\n",
       "      <td>107.67</td>\n",
       "      <td>112.28</td>\n",
       "      <td>137542199</td>\n",
       "    </tr>\n",
       "    <tr>\n",
       "      <th>61</th>\n",
       "      <td>2020-09-28 04:00:00</td>\n",
       "      <td>114.98</td>\n",
       "      <td>115.32</td>\n",
       "      <td>112.78</td>\n",
       "      <td>115.00</td>\n",
       "      <td>119572328</td>\n",
       "    </tr>\n",
       "    <tr>\n",
       "      <th>62</th>\n",
       "      <td>2020-09-29 04:00:00</td>\n",
       "      <td>114.55</td>\n",
       "      <td>115.31</td>\n",
       "      <td>113.57</td>\n",
       "      <td>114.11</td>\n",
       "      <td>89264463</td>\n",
       "    </tr>\n",
       "    <tr>\n",
       "      <th>63</th>\n",
       "      <td>2020-09-30 04:00:00</td>\n",
       "      <td>113.77</td>\n",
       "      <td>117.25</td>\n",
       "      <td>113.62</td>\n",
       "      <td>115.61</td>\n",
       "      <td>115978209</td>\n",
       "    </tr>\n",
       "    <tr>\n",
       "      <th>64</th>\n",
       "      <td>2020-10-01 04:00:00</td>\n",
       "      <td>117.64</td>\n",
       "      <td>117.72</td>\n",
       "      <td>115.83</td>\n",
       "      <td>116.80</td>\n",
       "      <td>97603139</td>\n",
       "    </tr>\n",
       "  </tbody>\n",
       "</table>\n",
       "<p>65 rows × 6 columns</p>\n",
       "</div>"
      ],
      "text/plain": [
       "                     t       o       h       l       c          v\n",
       "0  2020-07-01 04:00:00  365.12  367.36  363.91  364.01   25429807\n",
       "1  2020-07-02 04:00:00  367.85  370.47  363.65  364.12   25332853\n",
       "2  2020-07-06 04:00:00  370.00  375.78  369.87  373.81   26084791\n",
       "3  2020-07-07 04:00:00  375.41  378.62  372.23  372.64   24610596\n",
       "4  2020-07-08 04:00:00  376.72  381.50  376.36  381.44   26025692\n",
       "..                 ...     ...     ...     ...     ...        ...\n",
       "60 2020-09-25 04:00:00  108.43  112.44  107.67  112.28  137542199\n",
       "61 2020-09-28 04:00:00  114.98  115.32  112.78  115.00  119572328\n",
       "62 2020-09-29 04:00:00  114.55  115.31  113.57  114.11   89264463\n",
       "63 2020-09-30 04:00:00  113.77  117.25  113.62  115.61  115978209\n",
       "64 2020-10-01 04:00:00  117.64  117.72  115.83  116.80   97603139\n",
       "\n",
       "[65 rows x 6 columns]"
      ]
     },
     "execution_count": 16,
     "metadata": {},
     "output_type": "execute_result"
    }
   ],
   "source": [
    "dfs['AAPL']"
   ]
  },
  {
   "cell_type": "code",
   "execution_count": 17,
   "metadata": {
    "scrolled": false
   },
   "outputs": [
    {
     "data": {
      "text/html": [
       "<div>\n",
       "<style scoped>\n",
       "    .dataframe tbody tr th:only-of-type {\n",
       "        vertical-align: middle;\n",
       "    }\n",
       "\n",
       "    .dataframe tbody tr th {\n",
       "        vertical-align: top;\n",
       "    }\n",
       "\n",
       "    .dataframe thead th {\n",
       "        text-align: right;\n",
       "    }\n",
       "</style>\n",
       "<table border=\"1\" class=\"dataframe\">\n",
       "  <thead>\n",
       "    <tr style=\"text-align: right;\">\n",
       "      <th></th>\n",
       "      <th>t</th>\n",
       "      <th>o</th>\n",
       "      <th>h</th>\n",
       "      <th>l</th>\n",
       "      <th>c</th>\n",
       "      <th>v</th>\n",
       "    </tr>\n",
       "  </thead>\n",
       "  <tbody>\n",
       "    <tr>\n",
       "      <th>0</th>\n",
       "      <td>2020-07-01 04:00:00</td>\n",
       "      <td>365.12</td>\n",
       "      <td>367.36</td>\n",
       "      <td>363.91</td>\n",
       "      <td>364.01</td>\n",
       "      <td>25429807</td>\n",
       "    </tr>\n",
       "    <tr>\n",
       "      <th>1</th>\n",
       "      <td>2020-07-02 04:00:00</td>\n",
       "      <td>367.85</td>\n",
       "      <td>370.47</td>\n",
       "      <td>363.65</td>\n",
       "      <td>364.12</td>\n",
       "      <td>25332853</td>\n",
       "    </tr>\n",
       "    <tr>\n",
       "      <th>2</th>\n",
       "      <td>2020-07-06 04:00:00</td>\n",
       "      <td>370.00</td>\n",
       "      <td>375.78</td>\n",
       "      <td>369.87</td>\n",
       "      <td>373.81</td>\n",
       "      <td>26084791</td>\n",
       "    </tr>\n",
       "    <tr>\n",
       "      <th>3</th>\n",
       "      <td>2020-07-07 04:00:00</td>\n",
       "      <td>375.41</td>\n",
       "      <td>378.62</td>\n",
       "      <td>372.23</td>\n",
       "      <td>372.64</td>\n",
       "      <td>24610596</td>\n",
       "    </tr>\n",
       "    <tr>\n",
       "      <th>4</th>\n",
       "      <td>2020-07-08 04:00:00</td>\n",
       "      <td>376.72</td>\n",
       "      <td>381.50</td>\n",
       "      <td>376.36</td>\n",
       "      <td>381.44</td>\n",
       "      <td>26025692</td>\n",
       "    </tr>\n",
       "    <tr>\n",
       "      <th>...</th>\n",
       "      <td>...</td>\n",
       "      <td>...</td>\n",
       "      <td>...</td>\n",
       "      <td>...</td>\n",
       "      <td>...</td>\n",
       "      <td>...</td>\n",
       "    </tr>\n",
       "    <tr>\n",
       "      <th>60</th>\n",
       "      <td>2020-09-25 04:00:00</td>\n",
       "      <td>108.43</td>\n",
       "      <td>112.44</td>\n",
       "      <td>107.67</td>\n",
       "      <td>112.28</td>\n",
       "      <td>137542199</td>\n",
       "    </tr>\n",
       "    <tr>\n",
       "      <th>61</th>\n",
       "      <td>2020-09-28 04:00:00</td>\n",
       "      <td>114.98</td>\n",
       "      <td>115.32</td>\n",
       "      <td>112.78</td>\n",
       "      <td>115.00</td>\n",
       "      <td>119572328</td>\n",
       "    </tr>\n",
       "    <tr>\n",
       "      <th>62</th>\n",
       "      <td>2020-09-29 04:00:00</td>\n",
       "      <td>114.55</td>\n",
       "      <td>115.31</td>\n",
       "      <td>113.57</td>\n",
       "      <td>114.11</td>\n",
       "      <td>89264463</td>\n",
       "    </tr>\n",
       "    <tr>\n",
       "      <th>63</th>\n",
       "      <td>2020-09-30 04:00:00</td>\n",
       "      <td>113.77</td>\n",
       "      <td>117.25</td>\n",
       "      <td>113.62</td>\n",
       "      <td>115.61</td>\n",
       "      <td>115978209</td>\n",
       "    </tr>\n",
       "    <tr>\n",
       "      <th>64</th>\n",
       "      <td>2020-10-01 04:00:00</td>\n",
       "      <td>117.64</td>\n",
       "      <td>117.72</td>\n",
       "      <td>115.83</td>\n",
       "      <td>116.80</td>\n",
       "      <td>97603139</td>\n",
       "    </tr>\n",
       "  </tbody>\n",
       "</table>\n",
       "<p>65 rows × 6 columns</p>\n",
       "</div>"
      ],
      "text/plain": [
       "                     t       o       h       l       c          v\n",
       "0  2020-07-01 04:00:00  365.12  367.36  363.91  364.01   25429807\n",
       "1  2020-07-02 04:00:00  367.85  370.47  363.65  364.12   25332853\n",
       "2  2020-07-06 04:00:00  370.00  375.78  369.87  373.81   26084791\n",
       "3  2020-07-07 04:00:00  375.41  378.62  372.23  372.64   24610596\n",
       "4  2020-07-08 04:00:00  376.72  381.50  376.36  381.44   26025692\n",
       "..                 ...     ...     ...     ...     ...        ...\n",
       "60 2020-09-25 04:00:00  108.43  112.44  107.67  112.28  137542199\n",
       "61 2020-09-28 04:00:00  114.98  115.32  112.78  115.00  119572328\n",
       "62 2020-09-29 04:00:00  114.55  115.31  113.57  114.11   89264463\n",
       "63 2020-09-30 04:00:00  113.77  117.25  113.62  115.61  115978209\n",
       "64 2020-10-01 04:00:00  117.64  117.72  115.83  116.80   97603139\n",
       "\n",
       "[65 rows x 6 columns]"
      ]
     },
     "execution_count": 17,
     "metadata": {},
     "output_type": "execute_result"
    }
   ],
   "source": [
    "dfs.get('AAPL')"
   ]
  },
  {
   "cell_type": "markdown",
   "metadata": {},
   "source": [
    "## Ultimo Trade de un ticker"
   ]
  },
  {
   "cell_type": "code",
   "execution_count": 18,
   "metadata": {},
   "outputs": [
    {
     "data": {
      "text/plain": [
       "{'price': 116.585,\n",
       " 'size': 100,\n",
       " 'exchange': 3,\n",
       " 'cond1': 0,\n",
       " 'cond2': 0,\n",
       " 'cond3': 0,\n",
       " 'cond4': 0,\n",
       " 'timestamp': Timestamp('2020-10-09 17:11:06.889000')}"
      ]
     },
     "execution_count": 18,
     "metadata": {},
     "output_type": "execute_result"
    }
   ],
   "source": [
    "def lastTade(symbol):    \n",
    "    headers ={\"APCA-API-KEY-ID\" : api_key, \"APCA-API-SECRET-KEY\":secret_key}\n",
    "    endpoint = \"https://data.alpaca.markets/v1/last/stocks/\"+symbol\n",
    "    r = requests.get(url = endpoint, headers = headers)\n",
    "    js = r.json()['last']\n",
    "    \n",
    "    js['timestamp'] = pd.to_datetime(js['timestamp'])\n",
    "    return js\n",
    "    \n",
    "lastTade(\"AAPL\")"
   ]
  },
  {
   "cell_type": "markdown",
   "metadata": {},
   "source": [
    "## Ultimo dato del libro"
   ]
  },
  {
   "cell_type": "code",
   "execution_count": 19,
   "metadata": {},
   "outputs": [
    {
     "data": {
      "text/plain": [
       "{'askprice': 116.6,\n",
       " 'asksize': 5,\n",
       " 'askexchange': 15,\n",
       " 'bidprice': 116.59,\n",
       " 'bidsize': 15,\n",
       " 'bidexchange': 15,\n",
       " 'timestamp': Timestamp('2020-10-09 17:11:13.354000')}"
      ]
     },
     "execution_count": 19,
     "metadata": {},
     "output_type": "execute_result"
    }
   ],
   "source": [
    "import pandas as pd\n",
    "\n",
    "def lastQuote(symbol):    \n",
    "    headers ={\"APCA-API-KEY-ID\" : api_key, \"APCA-API-SECRET-KEY\":secret_key}\n",
    "    endpoint = \"https://data.alpaca.markets/v1/last_quote/stocks/\"+symbol\n",
    "    r = requests.get(url = endpoint, headers = headers)\n",
    "    js = r.json()['last']\n",
    "    js['timestamp'] = pd.to_datetime(js['timestamp'])\n",
    "    return js\n",
    "    \n",
    "lastQuote(\"AAPL\")"
   ]
  },
  {
   "cell_type": "markdown",
   "metadata": {},
   "source": [
    "# Ruteo de ordenes, primeros pasos de un bot"
   ]
  },
  {
   "cell_type": "markdown",
   "metadata": {},
   "source": [
    "## Orden de Compra/Venta  (POST)"
   ]
  },
  {
   "cell_type": "code",
   "execution_count": 20,
   "metadata": {},
   "outputs": [],
   "source": [
    "def order(symbol, qty, side, tipo, time_in_force, limit_price ):    \n",
    "    headers ={\"APCA-API-KEY-ID\" : api_key, \"APCA-API-SECRET-KEY\":secret_key}\n",
    "    params = {'symbol':symbol, \n",
    "              'qty':qty, \n",
    "              'side':side, \n",
    "              'type':tipo,\n",
    "              'time_in_force':time_in_force,\n",
    "              'limit_price':limit_price, \n",
    "              'order_class':'simple'}\n",
    "    \n",
    "    r = requests.post(url = \"https://paper-api.alpaca.markets/v2/orders\", \n",
    "                      headers = headers, json = params)\n",
    "    \n",
    "    js = r.json()\n",
    "    return js"
   ]
  },
  {
   "cell_type": "code",
   "execution_count": 21,
   "metadata": {},
   "outputs": [
    {
     "data": {
      "text/plain": [
       "{'askprice': 7.49,\n",
       " 'asksize': 7,\n",
       " 'askexchange': 17,\n",
       " 'bidprice': 7.34,\n",
       " 'bidsize': 7,\n",
       " 'bidexchange': 17,\n",
       " 'timestamp': Timestamp('2020-09-28 14:08:05.574000')}"
      ]
     },
     "execution_count": 21,
     "metadata": {},
     "output_type": "execute_result"
    }
   ],
   "source": [
    "lastQuote(\"GGAL\")"
   ]
  },
  {
   "cell_type": "code",
   "execution_count": 22,
   "metadata": {},
   "outputs": [
    {
     "data": {
      "text/plain": [
       "{'price': 7.01,\n",
       " 'size': 500,\n",
       " 'exchange': 15,\n",
       " 'cond1': 0,\n",
       " 'cond2': 0,\n",
       " 'cond3': 0,\n",
       " 'cond4': 0,\n",
       " 'timestamp': Timestamp('2020-10-09 17:09:57.547000')}"
      ]
     },
     "execution_count": 22,
     "metadata": {},
     "output_type": "execute_result"
    }
   ],
   "source": [
    "lastTade(\"GGAL\")"
   ]
  },
  {
   "cell_type": "code",
   "execution_count": null,
   "metadata": {},
   "outputs": [],
   "source": [
    "px  = lastQuote(\"AAPL\")['askprice']*0.999\n",
    "\n",
    "orden = order(symbol='AAPL', qty=1, side='sell', tipo='limit', time_in_force='gtc',limit_price = px )\n",
    "orden"
   ]
  },
  {
   "cell_type": "markdown",
   "metadata": {},
   "source": [
    "¿Y si quiero mandar 50 ordenes con un par de lineas con esa lógica tapando la punta vigente?"
   ]
  },
  {
   "cell_type": "code",
   "execution_count": null,
   "metadata": {
    "scrolled": true
   },
   "outputs": [],
   "source": [
    "tickers = ['PAM', 'BBAR', 'TGS', 'CRESY', 'MELI']\n",
    "\n",
    "for ticker in tickers:\n",
    "    px  = lastQuote(ticker)['bidprice'] * 1.001\n",
    "    orden = order(symbol=ticker, qty=1, side='buy', tipo='limit', time_in_force='gtc',limit_price = px )\n",
    "    print(px, ticker)\n",
    "\n"
   ]
  },
  {
   "cell_type": "code",
   "execution_count": null,
   "metadata": {},
   "outputs": [],
   "source": []
  },
  {
   "cell_type": "code",
   "execution_count": null,
   "metadata": {},
   "outputs": [],
   "source": []
  },
  {
   "cell_type": "code",
   "execution_count": null,
   "metadata": {},
   "outputs": [],
   "source": []
  },
  {
   "cell_type": "markdown",
   "metadata": {},
   "source": [
    "## Consulta de estado general"
   ]
  },
  {
   "cell_type": "code",
   "execution_count": 23,
   "metadata": {},
   "outputs": [
    {
     "data": {
      "text/html": [
       "<div>\n",
       "<style scoped>\n",
       "    .dataframe tbody tr th:only-of-type {\n",
       "        vertical-align: middle;\n",
       "    }\n",
       "\n",
       "    .dataframe tbody tr th {\n",
       "        vertical-align: top;\n",
       "    }\n",
       "\n",
       "    .dataframe thead th {\n",
       "        text-align: right;\n",
       "    }\n",
       "</style>\n",
       "<table border=\"1\" class=\"dataframe\">\n",
       "  <thead>\n",
       "    <tr style=\"text-align: right;\">\n",
       "      <th></th>\n",
       "    </tr>\n",
       "  </thead>\n",
       "  <tbody>\n",
       "  </tbody>\n",
       "</table>\n",
       "</div>"
      ],
      "text/plain": [
       "Empty DataFrame\n",
       "Columns: []\n",
       "Index: []"
      ]
     },
     "execution_count": 23,
     "metadata": {},
     "output_type": "execute_result"
    }
   ],
   "source": [
    "def orders(status=\"all\", limit=50): \n",
    "    \n",
    "    headers ={\"APCA-API-KEY-ID\" : api_key, \"APCA-API-SECRET-KEY\":secret_key}\n",
    "    params = {'status':status, \n",
    "              'limit':limit}\n",
    "    \n",
    "    r = requests.get(url = \"https://paper-api.alpaca.markets/v2/orders\", \n",
    "                      headers = headers, json = params)\n",
    "\n",
    "    js = r.json()\n",
    "    df = pd.DataFrame(js)\n",
    "    return df\n",
    "\n",
    "listaOrdenes = orders()\n",
    "listaOrdenes"
   ]
  },
  {
   "cell_type": "markdown",
   "metadata": {},
   "source": [
    "## Consulta puntual  (GET)"
   ]
  },
  {
   "cell_type": "code",
   "execution_count": null,
   "metadata": {},
   "outputs": [],
   "source": [
    "def getOrder(orderID):    \n",
    "    headers ={\"APCA-API-KEY-ID\" : api_key, \"APCA-API-SECRET-KEY\":secret_key}\n",
    "    r = requests.get(url = \"https://paper-api.alpaca.markets/v2/orders/\"+orderID, \n",
    "                      headers = headers)\n",
    "    \n",
    "    js = r.json()\n",
    "    return js\n",
    "\n",
    "getOrder('af32ee97-d23a-4db8-aad7-df411e4b21fe')"
   ]
  },
  {
   "cell_type": "markdown",
   "metadata": {},
   "source": [
    "## Modificación de orden  (PATCH)"
   ]
  },
  {
   "cell_type": "code",
   "execution_count": null,
   "metadata": {},
   "outputs": [],
   "source": [
    "def replaceOrder(order_id, qty=None, time_in_force=None, limit_price=None):    \n",
    "    headers ={\"APCA-API-KEY-ID\" : api_key, \"APCA-API-SECRET-KEY\":secret_key}\n",
    "    params = {'qty':qty, \n",
    "              'time_in_force':time_in_force,\n",
    "              'limit_price':limit_price}\n",
    "    \n",
    "    endpoint = \"https://paper-api.alpaca.markets/v2/orders/\"+order_id\n",
    "    r = requests.patch(url = endpoint, headers = headers, json = params)\n",
    "    \n",
    "    js = r.json()\n",
    "    return js"
   ]
  },
  {
   "cell_type": "code",
   "execution_count": null,
   "metadata": {},
   "outputs": [],
   "source": [
    "replaceOrder(order_id='c3689e60-231a-4b63-9bfc-2385f98b0dfe', limit_price = 5.34)"
   ]
  },
  {
   "cell_type": "markdown",
   "metadata": {},
   "source": [
    "La salida nos devuelve la orden remplazada"
   ]
  },
  {
   "cell_type": "markdown",
   "metadata": {},
   "source": [
    "## Eliminar orden (DELETE)"
   ]
  },
  {
   "cell_type": "markdown",
   "metadata": {},
   "source": [
    "Obviamente nos faltaba poder cancelar una orden por ID, esta es la mas sencilla de todas, solo hay que pasarle el ID y el método de request que usamos es DELETE"
   ]
  },
  {
   "cell_type": "code",
   "execution_count": null,
   "metadata": {},
   "outputs": [],
   "source": [
    "def cancelOrder(order_id):    \n",
    "    headers ={\"APCA-API-KEY-ID\" : api_key, \"APCA-API-SECRET-KEY\":secret_key}\n",
    "    endpoint = \"https://paper-api.alpaca.markets/v2/orders/\"+order_id\n",
    "    r = requests.delete(url = endpoint,headers = headers)"
   ]
  },
  {
   "cell_type": "code",
   "execution_count": null,
   "metadata": {},
   "outputs": [],
   "source": [
    "cancelOrder('c3689e60-231a-4b63-9bfc-2385f98b0dfe')"
   ]
  },
  {
   "cell_type": "markdown",
   "metadata": {},
   "source": [
    "## Ver Posiciones Abiertas de la cuenta"
   ]
  },
  {
   "cell_type": "code",
   "execution_count": null,
   "metadata": {},
   "outputs": [],
   "source": [
    "def positions():    \n",
    "    headers ={\"APCA-API-KEY-ID\" : api_key, \"APCA-API-SECRET-KEY\":secret_key}\n",
    "    endpoint = \"https://paper-api.alpaca.markets/v2/positions\"\n",
    "    r = requests.get(url = endpoint, headers = headers)\n",
    "    js = r.json()\n",
    "    return js\n",
    "    \n",
    "positions()"
   ]
  },
  {
   "cell_type": "code",
   "execution_count": null,
   "metadata": {},
   "outputs": [],
   "source": [
    "df = pd.DataFrame(positions())\n",
    "\n",
    "df = df.loc[:,['symbol','qty','side','avg_entry_price','market_value',\n",
    "               'cost_basis','unrealized_pl','current_price','lastday_price']]\n",
    "df"
   ]
  },
  {
   "cell_type": "markdown",
   "metadata": {},
   "source": [
    "# Screener"
   ]
  },
  {
   "cell_type": "markdown",
   "metadata": {},
   "source": [
    "## Listado de acitivos"
   ]
  },
  {
   "cell_type": "code",
   "execution_count": 24,
   "metadata": {},
   "outputs": [],
   "source": [
    "def assets():    \n",
    "    headers ={\"APCA-API-KEY-ID\" : api_key, \"APCA-API-SECRET-KEY\":secret_key}\n",
    "    r = requests.get(url = \"https://paper-api.alpaca.markets/v2/assets\", \n",
    "                      headers = headers)\n",
    "\n",
    "    js = r.json()\n",
    "    df = pd.DataFrame(js)\n",
    "    df = df.loc[df.status=='active'].drop(['status','class','easy_to_borrow',\n",
    "                                          'tradable','marginable'], axis=1)\n",
    "    return df\n",
    "activos = assets()"
   ]
  },
  {
   "cell_type": "code",
   "execution_count": 25,
   "metadata": {},
   "outputs": [
    {
     "data": {
      "text/html": [
       "<div>\n",
       "<style scoped>\n",
       "    .dataframe tbody tr th:only-of-type {\n",
       "        vertical-align: middle;\n",
       "    }\n",
       "\n",
       "    .dataframe tbody tr th {\n",
       "        vertical-align: top;\n",
       "    }\n",
       "\n",
       "    .dataframe thead th {\n",
       "        text-align: right;\n",
       "    }\n",
       "</style>\n",
       "<table border=\"1\" class=\"dataframe\">\n",
       "  <thead>\n",
       "    <tr style=\"text-align: right;\">\n",
       "      <th></th>\n",
       "      <th>id</th>\n",
       "      <th>exchange</th>\n",
       "      <th>symbol</th>\n",
       "      <th>name</th>\n",
       "      <th>shortable</th>\n",
       "    </tr>\n",
       "  </thead>\n",
       "  <tbody>\n",
       "    <tr>\n",
       "      <th>0</th>\n",
       "      <td>210c962e-3846-4468-bb99-67905302a7dd</td>\n",
       "      <td>NYSE</td>\n",
       "      <td>MTZ</td>\n",
       "      <td>MasTec, Inc.</td>\n",
       "      <td>True</td>\n",
       "    </tr>\n",
       "    <tr>\n",
       "      <th>2</th>\n",
       "      <td>10f7d07f-0811-42bf-a780-b4d4cb53eb91</td>\n",
       "      <td>NYSE</td>\n",
       "      <td>SPGI</td>\n",
       "      <td>S&amp;P Global Inc.</td>\n",
       "      <td>True</td>\n",
       "    </tr>\n",
       "    <tr>\n",
       "      <th>5</th>\n",
       "      <td>fe3f7d4c-cb53-4767-ad24-61520d0529f1</td>\n",
       "      <td>NYSE</td>\n",
       "      <td>AN</td>\n",
       "      <td>AutoNation, Inc.</td>\n",
       "      <td>True</td>\n",
       "    </tr>\n",
       "    <tr>\n",
       "      <th>6</th>\n",
       "      <td>d01c9857-0023-4252-acb6-02dfd409159f</td>\n",
       "      <td>NYSE</td>\n",
       "      <td>ANF</td>\n",
       "      <td>Abercrombie &amp; Fitch Co.</td>\n",
       "      <td>True</td>\n",
       "    </tr>\n",
       "    <tr>\n",
       "      <th>7</th>\n",
       "      <td>96235c9d-bcd4-4ede-9817-4b5e6a1941bf</td>\n",
       "      <td>NASDAQ</td>\n",
       "      <td>AGFS</td>\n",
       "      <td>AgroFresh Solutions, Inc. Common Stock</td>\n",
       "      <td>True</td>\n",
       "    </tr>\n",
       "    <tr>\n",
       "      <th>...</th>\n",
       "      <td>...</td>\n",
       "      <td>...</td>\n",
       "      <td>...</td>\n",
       "      <td>...</td>\n",
       "      <td>...</td>\n",
       "    </tr>\n",
       "    <tr>\n",
       "      <th>10244</th>\n",
       "      <td>3783e13c-cb7b-4618-9869-d0fb60b0c0fc</td>\n",
       "      <td>AMEX</td>\n",
       "      <td>UUU</td>\n",
       "      <td>Universal Security Instruments, Inc.</td>\n",
       "      <td>False</td>\n",
       "    </tr>\n",
       "    <tr>\n",
       "      <th>10245</th>\n",
       "      <td>fd03066c-16d8-4eff-8c72-16ce1c44e38d</td>\n",
       "      <td>NYSE</td>\n",
       "      <td>VALE</td>\n",
       "      <td>VALE S.A.</td>\n",
       "      <td>True</td>\n",
       "    </tr>\n",
       "    <tr>\n",
       "      <th>10246</th>\n",
       "      <td>41b54729-8470-4593-be38-b3a681871f81</td>\n",
       "      <td>NASDAQ</td>\n",
       "      <td>AAL</td>\n",
       "      <td>American Airlines Group Inc. Common Stock</td>\n",
       "      <td>False</td>\n",
       "    </tr>\n",
       "    <tr>\n",
       "      <th>10247</th>\n",
       "      <td>b0b6dd9d-8b9b-48a9-ba46-b9d54906e415</td>\n",
       "      <td>NASDAQ</td>\n",
       "      <td>AAPL</td>\n",
       "      <td>Apple Inc. Common Stock</td>\n",
       "      <td>True</td>\n",
       "    </tr>\n",
       "    <tr>\n",
       "      <th>10248</th>\n",
       "      <td>4ac5cb04-cfdb-4670-9637-662f8d08d9f8</td>\n",
       "      <td>NYSE</td>\n",
       "      <td>BHP</td>\n",
       "      <td>BHP Group Limited American Depositary Shares (...</td>\n",
       "      <td>True</td>\n",
       "    </tr>\n",
       "  </tbody>\n",
       "</table>\n",
       "<p>8923 rows × 5 columns</p>\n",
       "</div>"
      ],
      "text/plain": [
       "                                         id exchange symbol  \\\n",
       "0      210c962e-3846-4468-bb99-67905302a7dd     NYSE    MTZ   \n",
       "2      10f7d07f-0811-42bf-a780-b4d4cb53eb91     NYSE   SPGI   \n",
       "5      fe3f7d4c-cb53-4767-ad24-61520d0529f1     NYSE     AN   \n",
       "6      d01c9857-0023-4252-acb6-02dfd409159f     NYSE    ANF   \n",
       "7      96235c9d-bcd4-4ede-9817-4b5e6a1941bf   NASDAQ   AGFS   \n",
       "...                                     ...      ...    ...   \n",
       "10244  3783e13c-cb7b-4618-9869-d0fb60b0c0fc     AMEX    UUU   \n",
       "10245  fd03066c-16d8-4eff-8c72-16ce1c44e38d     NYSE   VALE   \n",
       "10246  41b54729-8470-4593-be38-b3a681871f81   NASDAQ    AAL   \n",
       "10247  b0b6dd9d-8b9b-48a9-ba46-b9d54906e415   NASDAQ   AAPL   \n",
       "10248  4ac5cb04-cfdb-4670-9637-662f8d08d9f8     NYSE    BHP   \n",
       "\n",
       "                                                    name  shortable  \n",
       "0                                           MasTec, Inc.       True  \n",
       "2                                        S&P Global Inc.       True  \n",
       "5                                       AutoNation, Inc.       True  \n",
       "6                                Abercrombie & Fitch Co.       True  \n",
       "7                 AgroFresh Solutions, Inc. Common Stock       True  \n",
       "...                                                  ...        ...  \n",
       "10244               Universal Security Instruments, Inc.      False  \n",
       "10245                                          VALE S.A.       True  \n",
       "10246          American Airlines Group Inc. Common Stock      False  \n",
       "10247                            Apple Inc. Common Stock       True  \n",
       "10248  BHP Group Limited American Depositary Shares (...       True  \n",
       "\n",
       "[8923 rows x 5 columns]"
      ]
     },
     "execution_count": 25,
     "metadata": {},
     "output_type": "execute_result"
    }
   ],
   "source": [
    "activos"
   ]
  },
  {
   "cell_type": "code",
   "execution_count": null,
   "metadata": {},
   "outputs": [],
   "source": [
    "activos.groupby('exchange').size()"
   ]
  },
  {
   "cell_type": "code",
   "execution_count": null,
   "metadata": {},
   "outputs": [],
   "source": [
    "activos.groupby('shortable').size()"
   ]
  },
  {
   "cell_type": "markdown",
   "metadata": {},
   "source": [
    "## WatchLists"
   ]
  },
  {
   "cell_type": "markdown",
   "metadata": {},
   "source": [
    "## CRUD"
   ]
  },
  {
   "cell_type": "markdown",
   "metadata": {},
   "source": [
    "### Crear listas"
   ]
  },
  {
   "cell_type": "code",
   "execution_count": 27,
   "metadata": {},
   "outputs": [],
   "source": [
    "def createWatchlist(name, symbols):    \n",
    "    headers ={\"APCA-API-KEY-ID\" : api_key, \"APCA-API-SECRET-KEY\":secret_key}\n",
    "    params = {'name':name, 'symbols':symbols}\n",
    "    r = requests.post(url = \"https://paper-api.alpaca.markets/v2/watchlists\", \n",
    "                      headers = headers, json=params)\n",
    "    \n",
    "    js = r.json()\n",
    "    df = pd.DataFrame(js['assets'])\n",
    "    df.set_index('symbol', inplace=True)\n",
    "    df = df.loc[df.status=='active'].drop(['status','class','easy_to_borrow',\n",
    "                                          'tradable','marginable'], axis=1)\n",
    "    return js['id'], df\n",
    "\n",
    "bancos=['BBAR','BMA','SUPV']\n",
    "listaID, lista = createWatchlist('bancos_arg', symbols=bancos)"
   ]
  },
  {
   "cell_type": "code",
   "execution_count": 28,
   "metadata": {},
   "outputs": [
    {
     "data": {
      "text/plain": [
       "'2d267591-0424-41ce-9478-23d4c4eb14d5'"
      ]
     },
     "execution_count": 28,
     "metadata": {},
     "output_type": "execute_result"
    }
   ],
   "source": [
    "listaID"
   ]
  },
  {
   "cell_type": "code",
   "execution_count": 29,
   "metadata": {},
   "outputs": [
    {
     "data": {
      "text/html": [
       "<div>\n",
       "<style scoped>\n",
       "    .dataframe tbody tr th:only-of-type {\n",
       "        vertical-align: middle;\n",
       "    }\n",
       "\n",
       "    .dataframe tbody tr th {\n",
       "        vertical-align: top;\n",
       "    }\n",
       "\n",
       "    .dataframe thead th {\n",
       "        text-align: right;\n",
       "    }\n",
       "</style>\n",
       "<table border=\"1\" class=\"dataframe\">\n",
       "  <thead>\n",
       "    <tr style=\"text-align: right;\">\n",
       "      <th></th>\n",
       "      <th>id</th>\n",
       "      <th>exchange</th>\n",
       "      <th>name</th>\n",
       "      <th>shortable</th>\n",
       "    </tr>\n",
       "    <tr>\n",
       "      <th>symbol</th>\n",
       "      <th></th>\n",
       "      <th></th>\n",
       "      <th></th>\n",
       "      <th></th>\n",
       "    </tr>\n",
       "  </thead>\n",
       "  <tbody>\n",
       "    <tr>\n",
       "      <th>BBAR</th>\n",
       "      <td>1094117a-0453-42fa-8bfa-21eedcb6747d</td>\n",
       "      <td>NYSE</td>\n",
       "      <td>Banco BBVA Argentina S.A.</td>\n",
       "      <td>True</td>\n",
       "    </tr>\n",
       "    <tr>\n",
       "      <th>BMA</th>\n",
       "      <td>328dd39b-e571-4f85-bc93-387a58c5b61c</td>\n",
       "      <td>NYSE</td>\n",
       "      <td>Banco Macro S.A.</td>\n",
       "      <td>True</td>\n",
       "    </tr>\n",
       "    <tr>\n",
       "      <th>SUPV</th>\n",
       "      <td>e01d5a5b-983e-4d66-90b7-407854799f1d</td>\n",
       "      <td>NYSE</td>\n",
       "      <td>Grupo Supervielle S.A.</td>\n",
       "      <td>True</td>\n",
       "    </tr>\n",
       "  </tbody>\n",
       "</table>\n",
       "</div>"
      ],
      "text/plain": [
       "                                          id exchange  \\\n",
       "symbol                                                  \n",
       "BBAR    1094117a-0453-42fa-8bfa-21eedcb6747d     NYSE   \n",
       "BMA     328dd39b-e571-4f85-bc93-387a58c5b61c     NYSE   \n",
       "SUPV    e01d5a5b-983e-4d66-90b7-407854799f1d     NYSE   \n",
       "\n",
       "                             name  shortable  \n",
       "symbol                                        \n",
       "BBAR    Banco BBVA Argentina S.A.       True  \n",
       "BMA              Banco Macro S.A.       True  \n",
       "SUPV       Grupo Supervielle S.A.       True  "
      ]
     },
     "execution_count": 29,
     "metadata": {},
     "output_type": "execute_result"
    }
   ],
   "source": [
    "lista"
   ]
  },
  {
   "cell_type": "markdown",
   "metadata": {},
   "source": [
    "### Ver listas creadas"
   ]
  },
  {
   "cell_type": "code",
   "execution_count": 30,
   "metadata": {},
   "outputs": [
    {
     "data": {
      "text/html": [
       "<div>\n",
       "<style scoped>\n",
       "    .dataframe tbody tr th:only-of-type {\n",
       "        vertical-align: middle;\n",
       "    }\n",
       "\n",
       "    .dataframe tbody tr th {\n",
       "        vertical-align: top;\n",
       "    }\n",
       "\n",
       "    .dataframe thead th {\n",
       "        text-align: right;\n",
       "    }\n",
       "</style>\n",
       "<table border=\"1\" class=\"dataframe\">\n",
       "  <thead>\n",
       "    <tr style=\"text-align: right;\">\n",
       "      <th></th>\n",
       "      <th>id</th>\n",
       "      <th>created_at</th>\n",
       "      <th>updated_at</th>\n",
       "      <th>name</th>\n",
       "    </tr>\n",
       "  </thead>\n",
       "  <tbody>\n",
       "    <tr>\n",
       "      <th>0</th>\n",
       "      <td>2d267591-0424-41ce-9478-23d4c4eb14d5</td>\n",
       "      <td>2020-10-09T17:12:12.196454Z</td>\n",
       "      <td>2020-10-09T17:12:12.196454Z</td>\n",
       "      <td>bancos_arg</td>\n",
       "    </tr>\n",
       "  </tbody>\n",
       "</table>\n",
       "</div>"
      ],
      "text/plain": [
       "                                     id                   created_at  \\\n",
       "0  2d267591-0424-41ce-9478-23d4c4eb14d5  2020-10-09T17:12:12.196454Z   \n",
       "\n",
       "                    updated_at        name  \n",
       "0  2020-10-09T17:12:12.196454Z  bancos_arg  "
      ]
     },
     "execution_count": 30,
     "metadata": {},
     "output_type": "execute_result"
    }
   ],
   "source": [
    "def watchlist():    \n",
    "    headers ={\"APCA-API-KEY-ID\" : api_key, \"APCA-API-SECRET-KEY\":secret_key}\n",
    "    r = requests.get(url = \"https://paper-api.alpaca.markets/v2/watchlists\", \n",
    "                      headers = headers)\n",
    "\n",
    "    js = r.json()\n",
    "    df = pd.DataFrame(js)\n",
    "    df.drop('account_id',axis=1, inplace=True)\n",
    "    return df\n",
    "\n",
    "watchlist()"
   ]
  },
  {
   "cell_type": "code",
   "execution_count": null,
   "metadata": {},
   "outputs": [],
   "source": [
    "techs=['AAPL','NFLX','MSFT','FB','GOOGL']\n",
    "createWatchlist('techs', symbols=techs)"
   ]
  },
  {
   "cell_type": "code",
   "execution_count": null,
   "metadata": {},
   "outputs": [],
   "source": [
    "watchlist()"
   ]
  },
  {
   "cell_type": "markdown",
   "metadata": {},
   "source": [
    "### Obtener watchList xID"
   ]
  },
  {
   "cell_type": "code",
   "execution_count": 32,
   "metadata": {},
   "outputs": [
    {
     "data": {
      "text/html": [
       "<div>\n",
       "<style scoped>\n",
       "    .dataframe tbody tr th:only-of-type {\n",
       "        vertical-align: middle;\n",
       "    }\n",
       "\n",
       "    .dataframe tbody tr th {\n",
       "        vertical-align: top;\n",
       "    }\n",
       "\n",
       "    .dataframe thead th {\n",
       "        text-align: right;\n",
       "    }\n",
       "</style>\n",
       "<table border=\"1\" class=\"dataframe\">\n",
       "  <thead>\n",
       "    <tr style=\"text-align: right;\">\n",
       "      <th></th>\n",
       "      <th>id</th>\n",
       "      <th>exchange</th>\n",
       "      <th>name</th>\n",
       "      <th>shortable</th>\n",
       "    </tr>\n",
       "    <tr>\n",
       "      <th>symbol</th>\n",
       "      <th></th>\n",
       "      <th></th>\n",
       "      <th></th>\n",
       "      <th></th>\n",
       "    </tr>\n",
       "  </thead>\n",
       "  <tbody>\n",
       "    <tr>\n",
       "      <th>BBAR</th>\n",
       "      <td>1094117a-0453-42fa-8bfa-21eedcb6747d</td>\n",
       "      <td>NYSE</td>\n",
       "      <td>Banco BBVA Argentina S.A.</td>\n",
       "      <td>True</td>\n",
       "    </tr>\n",
       "    <tr>\n",
       "      <th>BMA</th>\n",
       "      <td>328dd39b-e571-4f85-bc93-387a58c5b61c</td>\n",
       "      <td>NYSE</td>\n",
       "      <td>Banco Macro S.A.</td>\n",
       "      <td>True</td>\n",
       "    </tr>\n",
       "    <tr>\n",
       "      <th>SUPV</th>\n",
       "      <td>e01d5a5b-983e-4d66-90b7-407854799f1d</td>\n",
       "      <td>NYSE</td>\n",
       "      <td>Grupo Supervielle S.A.</td>\n",
       "      <td>True</td>\n",
       "    </tr>\n",
       "  </tbody>\n",
       "</table>\n",
       "</div>"
      ],
      "text/plain": [
       "                                          id exchange  \\\n",
       "symbol                                                  \n",
       "BBAR    1094117a-0453-42fa-8bfa-21eedcb6747d     NYSE   \n",
       "BMA     328dd39b-e571-4f85-bc93-387a58c5b61c     NYSE   \n",
       "SUPV    e01d5a5b-983e-4d66-90b7-407854799f1d     NYSE   \n",
       "\n",
       "                             name  shortable  \n",
       "symbol                                        \n",
       "BBAR    Banco BBVA Argentina S.A.       True  \n",
       "BMA              Banco Macro S.A.       True  \n",
       "SUPV       Grupo Supervielle S.A.       True  "
      ]
     },
     "execution_count": 32,
     "metadata": {},
     "output_type": "execute_result"
    }
   ],
   "source": [
    "def getWatchlist(wID):    \n",
    "    headers ={\"APCA-API-KEY-ID\" : api_key, \"APCA-API-SECRET-KEY\":secret_key}\n",
    "    r = requests.get(url = \"https://paper-api.alpaca.markets/v2/watchlists/\"+wID, \n",
    "                      headers = headers)\n",
    "\n",
    "    js = r.json()\n",
    "    df = pd.DataFrame(js['assets'])\n",
    "    df.set_index('symbol', inplace=True)\n",
    "    df = df.loc[df.status=='active'].drop(['status','class','easy_to_borrow',\n",
    "                                          'tradable','marginable'], axis=1)\n",
    "    \n",
    "    return df\n",
    "\n",
    "getWatchlist('2d267591-0424-41ce-9478-23d4c4eb14d5')"
   ]
  },
  {
   "cell_type": "markdown",
   "metadata": {},
   "source": [
    "### Borrar watchList xID"
   ]
  },
  {
   "cell_type": "code",
   "execution_count": 45,
   "metadata": {},
   "outputs": [],
   "source": [
    "def deleteWatchlist(wID):    \n",
    "    headers ={\"APCA-API-KEY-ID\" : api_key, \"APCA-API-SECRET-KEY\":secret_key}\n",
    "    endpoint = \"https://paper-api.alpaca.markets/v2/watchlists/\"+wID\n",
    "    r = requests.delete(url = endpoint, headers = headers)\n",
    "    js = r.text\n",
    "    return js"
   ]
  },
  {
   "cell_type": "code",
   "execution_count": null,
   "metadata": {},
   "outputs": [],
   "source": [
    "watchlist()"
   ]
  },
  {
   "cell_type": "code",
   "execution_count": null,
   "metadata": {},
   "outputs": [],
   "source": [
    "deleteWatchlist('ddfeb844-2bce-4a63-b66d-c620fd2a664b')"
   ]
  },
  {
   "cell_type": "code",
   "execution_count": null,
   "metadata": {},
   "outputs": [],
   "source": [
    "watchlist()"
   ]
  },
  {
   "cell_type": "markdown",
   "metadata": {},
   "source": [
    "### Modificar watchList xID (PUT)"
   ]
  },
  {
   "cell_type": "code",
   "execution_count": null,
   "metadata": {},
   "outputs": [],
   "source": [
    "def updateWatchlist(wID, lista):    \n",
    "    headers ={\"APCA-API-KEY-ID\" : api_key, \"APCA-API-SECRET-KEY\":secret_key}\n",
    "    params = {'symbols': lista}\n",
    "    endpoint = \"https://paper-api.alpaca.markets/v2/watchlists/\"+wID\n",
    "    r = requests.put(url = endpoint, headers = headers, json=params)\n",
    "    \n",
    "    return r"
   ]
  },
  {
   "cell_type": "code",
   "execution_count": null,
   "metadata": {},
   "outputs": [],
   "source": [
    "getWatchlist('6078ff70-75a7-4d59-8d9e-62cd6cbc666d')"
   ]
  },
  {
   "cell_type": "code",
   "execution_count": null,
   "metadata": {},
   "outputs": [],
   "source": [
    "bancosNuevos = ['SUPV', 'GGAL']\n",
    "updateWatchlist('6078ff70-75a7-4d59-8d9e-62cd6cbc666d', bancosNuevos)"
   ]
  },
  {
   "cell_type": "code",
   "execution_count": null,
   "metadata": {},
   "outputs": [],
   "source": [
    "getWatchlist('6078ff70-75a7-4d59-8d9e-62cd6cbc666d')"
   ]
  },
  {
   "cell_type": "code",
   "execution_count": null,
   "metadata": {},
   "outputs": [],
   "source": []
  },
  {
   "cell_type": "markdown",
   "metadata": {},
   "source": [
    "### Agregar Ticker a una watchList existente (POST)"
   ]
  },
  {
   "cell_type": "code",
   "execution_count": null,
   "metadata": {},
   "outputs": [],
   "source": [
    "def addTicker(wID, symbol):    \n",
    "    headers ={\"APCA-API-KEY-ID\" : api_key, \"APCA-API-SECRET-KEY\":secret_key}\n",
    "    params = {'symbol': symbol}\n",
    "    endpoint = \"https://paper-api.alpaca.markets/v2/watchlists/\"+wID\n",
    "    r = requests.post(url = endpoint, headers = headers, json=params)\n",
    "    js = r.json()\n",
    "    df = pd.DataFrame(js['assets'])\n",
    "    df.set_index('symbol', inplace=True)\n",
    "    df = df.loc[df.status=='active'].drop(['status','class','easy_to_borrow',\n",
    "                                          'tradable','marginable'], axis=1)\n",
    "    \n",
    "    return df"
   ]
  },
  {
   "cell_type": "code",
   "execution_count": null,
   "metadata": {},
   "outputs": [],
   "source": []
  },
  {
   "cell_type": "code",
   "execution_count": null,
   "metadata": {},
   "outputs": [],
   "source": [
    "watchlist()"
   ]
  },
  {
   "cell_type": "code",
   "execution_count": null,
   "metadata": {},
   "outputs": [],
   "source": [
    "getWatchlist('6078ff70-75a7-4d59-8d9e-62cd6cbc666d')"
   ]
  },
  {
   "cell_type": "code",
   "execution_count": null,
   "metadata": {},
   "outputs": [],
   "source": [
    "addTicker('6078ff70-75a7-4d59-8d9e-62cd6cbc666d','AAPL')"
   ]
  },
  {
   "cell_type": "code",
   "execution_count": null,
   "metadata": {},
   "outputs": [],
   "source": []
  },
  {
   "cell_type": "code",
   "execution_count": null,
   "metadata": {},
   "outputs": [],
   "source": []
  },
  {
   "cell_type": "code",
   "execution_count": null,
   "metadata": {},
   "outputs": [],
   "source": []
  },
  {
   "cell_type": "markdown",
   "metadata": {},
   "source": [
    "# Ejercicios - Screener"
   ]
  },
  {
   "cell_type": "markdown",
   "metadata": {},
   "source": [
    "Atención, la idea es terminar los 7 ejercicios porque están pensado como un bloque, es decir que todos forman parte de una especie de mini-screener para poder hacer una intro a este tema, aprovechando la funcionalidad de las watchlists de Alpaca podemos armar nuestro primer screener de 9000 activos de USA en 2 minutos via señal de trading predefinida y guardar los resultados como si se tratara de una alerta de trading"
   ]
  },
  {
   "cell_type": "markdown",
   "metadata": {},
   "source": [
    "1- Partiendo de la función vista en clase para crear una watchList, mejorar la función para que (sin dejar de devolver el id y la lista en caso de estar todo ok), en caso de que se pase un ticker no listado devuelva al usuario el mensaje de error. Verificar su funcionamiento"
   ]
  },
  {
   "cell_type": "markdown",
   "metadata": {},
   "source": [
    "2- Vamos a empezar a pensar en un potencial screener, para ello vamos a usar el endpoint \"assets\" para armar una función que me devuelva todos los tickers de la API y luego de ello con esos activos vamos a armar una gran lista con listas de a 200 activos, ya que la API me  permite ver series históricas trayendo de a 200 activos, para verificar el script vamos a imprimir la última lista y su cantidad de activos que debe ser menor de 200 y la cantidad de listas de 200\n",
    "<br><br>A fines de poder usar este código mas adelante en un screener meter todo el código en una función: listasActivos()"
   ]
  },
  {
   "cell_type": "markdown",
   "metadata": {},
   "source": [
    "3- Siguiendo en la línea de ir preparando el terreno para llegar a un screener, armar una función que si le paso una lista con listas de tickers me devuelva una lista con strings de tickers separados por comas, es decir:\n",
    " * Recibe: [ ['activo1','activo2','activo3'], ['activo4','activo5','activo_nn'] ]\n",
    " * Devuelve: [ 'activo1,activo2,activo3', 'activo4,activo5,activo_nn' ]\n",
    " \n",
    " Probar la función dando como entrada la salida de la función del ejercicio anterior"
   ]
  },
  {
   "cell_type": "markdown",
   "metadata": {},
   "source": [
    "4- Agregarle lo necesario a prueba de fallos de la funcion getHistory definida en este capítulo para que acepte una lista de activos y me devuelve un diccionario cuyas claves sean las listas del ejercicio anterior y los valores unos dataFrames con el historial\n",
    "\n",
    "Verificar el funcionamiento correcto de esta función pasándole como argumento la primera lista de 200 activos del ejercicio anterior en un timeframe de 1 minuto de los ultimos 60 dias"
   ]
  },
  {
   "cell_type": "markdown",
   "metadata": {},
   "source": [
    "5- Seguimos armando el screener de a poco, paso a paso como quien no quiere la cosa los voy a ir llevando, confien en mi...\n",
    "\n",
    "crear una función que tome de entrada un dataFrame de datos y me devuelva como salida un string que indique sobreCompra o SobreVenta en función de la siguiente lógica:\n",
    "   * SobreCompra: Si  la media movil rapida (default 50) es + de un x% superior (default 3%) a la media lenta (default 200)\n",
    "   * SobreVenta: Si  la media movil rapida (default 50) es + de un x% inferior (default 3%) a la media lenta (default 200)\n",
    "   "
   ]
  },
  {
   "cell_type": "markdown",
   "metadata": {},
   "source": [
    "6- Usando las funciones necesarias de los ejercicio anteriores crear un script que tome todos los activos de la API y me cree una watchList llamada \"sobreCompra\" y otra llamada \"SobreVenta\" con los activos que obviamente cumplan las condiciones enunciadas para tal configuración en el ejercicio previo"
   ]
  },
  {
   "cell_type": "markdown",
   "metadata": {},
   "source": [
    "7- Usando las funciones vistas hasta acá armar un script que levante en una variable el ID de la watchList primaria (que es la que queda guardada en el FrontEnd de Alpaca del paper trading) y que agregue uno por uno los activos de la lista de sobrecompra definida en el ejercicio anterior simplemente para ver reflejado el resultado en la pantalla de https://app.alpaca.markets/paper/dashboard/overview el resultado del screener\n",
    "\n",
    "Para ello los activos o lista de activos de sobrecompra deben ser levantados de la watchlist creada anteriormente llamada con ese nombre"
   ]
  },
  {
   "cell_type": "markdown",
   "metadata": {},
   "source": [
    "8- Finalmente usando todas las funciones que vios hasta acá definir una función <b>screener_sobreCompra()</b> que simplemente tome como parámetros -fast -slow y -p que son los parámetros de ruedas de las medias móviles y el porcentaje por encima del cruce para disparar señal de sobrecompra, y que me actualice la watchList primaria con los activos que están en el filtro dado\n",
    "\n",
    "Probar configurando en un 5% el screener con medias de 50 y 200 para testearlo y que den unas pocas acciones de las 9000 listadas e"
   ]
  },
  {
   "cell_type": "markdown",
   "metadata": {},
   "source": [
    "# Respuestas"
   ]
  },
  {
   "cell_type": "code",
   "execution_count": 33,
   "metadata": {},
   "outputs": [],
   "source": [
    "import pandas as pd"
   ]
  },
  {
   "cell_type": "code",
   "execution_count": 34,
   "metadata": {},
   "outputs": [
    {
     "data": {
      "text/plain": [
       "({'code': 40010001, 'message': 'asset not found: TICKER_LOCO'},\n",
       " Empty DataFrame\n",
       " Columns: []\n",
       " Index: [])"
      ]
     },
     "execution_count": 34,
     "metadata": {},
     "output_type": "execute_result"
    }
   ],
   "source": [
    "#========================#\n",
    "#      Ejercicio 1       #\n",
    "#========================#\n",
    "\n",
    "\n",
    "def createWatchlist(name, symbols):    \n",
    "    headers ={\"APCA-API-KEY-ID\" : api_key, \"APCA-API-SECRET-KEY\":secret_key}\n",
    "    params = {'name':name, 'symbols':symbols}\n",
    "    r = requests.post(url = \"https://paper-api.alpaca.markets/v2/watchlists\", \n",
    "                      headers = headers, json=params)\n",
    "    \n",
    "    js = r.json()\n",
    "    try:\n",
    "        msg = js['id']\n",
    "        df = pd.DataFrame(js['assets'])\n",
    "        df.set_index('symbol', inplace=True)\n",
    "        df = df.loc[df.status=='active']\n",
    "        df =df.drop(['status','class','easy_to_borrow','tradable','marginable'],axis=1)\n",
    "    except:\n",
    "        df = pd.DataFrame()\n",
    "        msg = js\n",
    "    return msg, df\n",
    "\n",
    "tickers = ['BBAR','BMA','TICKER_LOCO']\n",
    "createWatchlist('lista_test', symbols = tickers)"
   ]
  },
  {
   "cell_type": "code",
   "execution_count": 35,
   "metadata": {},
   "outputs": [
    {
     "name": "stdout",
     "output_type": "stream",
     "text": [
      "\n",
      " Ultima lista:\n",
      " ['MNP', 'NVR', 'PGTI', 'PRLD', 'OTRAU', 'ABG', 'AIC', 'AVNT', 'BDXB', 'CODA', 'DPW', 'ESGU', 'FL', 'GAN', 'GHYB', 'HZNP', 'JW.A', 'LOGC', 'MED', 'NMIH', 'ORAN', 'PNR', 'QID', 'REK', 'SCHD', 'SOVB', 'SPYV', 'SR', 'THC', 'UA', 'UST', 'VVV', 'REGI', 'RING', 'SMIT', 'SPBO', 'SQEW', 'SYKE', 'TRX', 'USRT', 'VNQ', 'W', 'YEXT', 'PAICU', 'STPK', 'EMXF', 'NGA', 'AMD', 'FSLY', 'IBIO', 'MCD', 'DAL', 'DXC', 'HON', 'NOC', 'REGN', 'ROK', 'SNOW', 'SQQQ', 'UAL', 'SGEN', 'IH', 'KRON', 'MPLN', 'IPOE.U', 'PSA-N', 'BFT', 'PXSAP', 'LCYAU', 'AONE', 'BTAQ', 'HYBB', 'FUBO', 'ESTC', 'GDRX', 'KCAC', 'COST', 'DRV', 'FB', 'LUV', 'QQQ', 'RGNX', 'SDOW', 'SPXU', 'TMO', 'VNT', 'SPRB', 'INTZ', 'DCRBU', 'MACUU', 'STTK', 'IPOD.U', 'IPOF.U', 'CLA', 'ADT', 'ATHM', 'A', 'AA', 'CHH', 'C', 'CWI', 'DK', 'FBP', 'ENR', 'EXPR', 'G', 'GGG', 'FE', 'AGR', 'IVZ', 'BOND', 'GE', 'GLD', 'IDEX', 'KODK', 'OGEN', 'SPAQ', 'TSLA', 'UUU', 'VALE', 'AAL', 'AAPL', 'BHP']\n",
      "\n",
      " Cantidad de Ultima lista: 123\n",
      "\n",
      " Cantidad de listas de 200: 44\n"
     ]
    }
   ],
   "source": [
    "#========================#\n",
    "#      Ejercicio 2       #\n",
    "#========================#\n",
    "\n",
    "\n",
    "def listasActivos():    \n",
    "    headers ={\"APCA-API-KEY-ID\" : api_key, \"APCA-API-SECRET-KEY\":secret_key}\n",
    "    endpoint = \"https://paper-api.alpaca.markets/v2/assets\"\n",
    "    r = requests.get(url = endpoint, headers = headers)\n",
    "\n",
    "    js = r.json()\n",
    "    \n",
    "    tickers = [row['symbol'] for row in js if row['status']=='active']\n",
    "    listas = []\n",
    "    for i in range(len(tickers)//200 + 1):\n",
    "        listas.append(tickers[i*200:(i+1)*200])\n",
    "\n",
    "    return listas\n",
    "\n",
    "listas = listasActivos()\n",
    "\n",
    "print('\\n Ultima lista:\\n',listas[len(listas)-1])\n",
    "print('\\n Cantidad de Ultima lista:',len(listas[len(listas)-1]))\n",
    "print('\\n Cantidad de listas de 200:',len(listas)-1)"
   ]
  },
  {
   "cell_type": "code",
   "execution_count": 36,
   "metadata": {},
   "outputs": [
    {
     "data": {
      "text/plain": [
       "'MTZ,SPGI,AN,ANF,AGFS,AIR,ALLY,BDN,BIDU,BSX,BWXT,COTY,CVE,DNN,DWLD,EMN,FMC,FSTR,FUD,FXI,GEF,GHC,GRC,HAS,HPP,IT,LARK,LII,LUB,LUMO,MCO,MET,MGM,MIN,MOG.A,MTC,ORSNU,PHG,QNST,RACE,SCL,STRS,TCO,TDSB,VOYA,VTR,WEX,AACG,AACQ,AADR,AAME,AAOI,AAP,AACQU,AAMC,AAN,AAON,AAT,AAXJ,AB,ABC,ABEO,ABEV,ABM,ABR,ABR-B,ABT,ABUS,ACA,ACAM,ACB,ACC,ACCO,ACER,ACET,ACEVU,ACGLO,ACH,ACHV,ACIA,ACIU,ACLS,ACMR,ACNB,ACND.U,ACP,ACRS,ACSG,ACST,ACTCU,ACU,ACWF,ACWV,ACY,ADBE,AAU,AAWW,AAXN,ABBV,ABCB,ABEQ,ABIO,ABMD,ABR-A,ABR-C,ABTX,AC,ACAD,ACAMU,ACBI,ACCD,ACEL,ACES,ACEV,ACGL,ACGLP,ACHC,ACI,ACIO,ACIW,ACM,ACN,ACND,ACOR,ACRE,ACRX,ACSI,ACT,ACTG,ACV,ACWI,ACWX,ADAP,ADC,ADES,ADI,ADM,ADME,ADMS,ADCT,ADFI,ADIL,ADMA,ADMP,ADNT,ADP,ADRE,ADSK,ADTN,ADUS,ADX,ADXS,AEB,AEF,AEG,AEHR,AEL,AEL-B,AEMD,AEP,AEPPZ,AERI,AESE,AEY,AEZS,AFC,AFGB,AFGD,AFGH,AFI,AFIF,AFINP,AFL,AFMC,AFSM,AFTY,AG,AGBAR,AGCO,AGD,ADPT,ADS,ADSW,ADTX,ADVM,ADXN,AE,AEE,AEFC,AEGN,AEIS,AEL-A,AEM,AEO,AEPPL,AER,AES,AESR,AEYE,AFB'"
      ]
     },
     "execution_count": 36,
     "metadata": {},
     "output_type": "execute_result"
    }
   ],
   "source": [
    "#========================#\n",
    "#      Ejercicio 3       #\n",
    "#========================#\n",
    "\n",
    "\n",
    "def sublist_to_string(listas):\n",
    "    for i in range(len(listas)):\n",
    "        listas[i] = ','.join(listas[i])\n",
    "    return listas\n",
    "\n",
    "listas = sublist_to_string(listasActivos())\n",
    "listas[0]"
   ]
  },
  {
   "cell_type": "code",
   "execution_count": 37,
   "metadata": {
    "scrolled": false
   },
   "outputs": [],
   "source": [
    "#========================#\n",
    "#      Ejercicio 4       #\n",
    "#========================#\n",
    "\n",
    "\n",
    "def getHistory(symbol, start, end, timeframe='1D'):    \n",
    "    start = dt.datetime.strftime(start, format='%Y-%m-%dT%T-04:00')\n",
    "    end = dt.datetime.strftime(end, format='%Y-%m-%dT%T-04:00')\n",
    "\n",
    "    headers ={\"APCA-API-KEY-ID\" : api_key, \"APCA-API-SECRET-KEY\":secret_key}\n",
    "    params =  {'symbols' : symbol, 'start':start, 'end':end}\n",
    "    endpoint = \"https://data.alpaca.markets/v1/bars/\"+timeframe\n",
    "    r = requests.get(url = endpoint, headers =headers, params=params)\n",
    "    js = r.json()\n",
    "    \n",
    "    tickers = symbol.split(\",\")\n",
    "    dfs = {}\n",
    "    for ticker in tickers:\n",
    "        # Bloque por los errores cuando no hay datos\n",
    "        try:\n",
    "            dfs[ticker] = pd.DataFrame(js[ticker])\n",
    "            dfs[ticker].t = pd.to_datetime(dfs[ticker].t, unit='s')\n",
    "            dfs[ticker].set_index(dfs[ticker].t, inplace=True)\n",
    "        except:\n",
    "            pass\n",
    "    return dfs\n",
    "\n",
    "import datetime as dt\n",
    "end =  dt.date.today() + dt.timedelta(days=1)\n",
    "start = end - dt.timedelta(days=6)\n",
    "\n",
    "data = getHistory(listas[0], start, end, timeframe='1Min')"
   ]
  },
  {
   "cell_type": "code",
   "execution_count": 38,
   "metadata": {},
   "outputs": [
    {
     "data": {
      "text/plain": [
       "200"
      ]
     },
     "execution_count": 38,
     "metadata": {},
     "output_type": "execute_result"
    }
   ],
   "source": [
    "len(data)"
   ]
  },
  {
   "cell_type": "code",
   "execution_count": 39,
   "metadata": {},
   "outputs": [
    {
     "data": {
      "text/plain": [
       "dict_keys(['MTZ', 'SPGI', 'AN', 'ANF', 'AGFS', 'AIR', 'ALLY', 'BDN', 'BIDU', 'BSX', 'BWXT', 'COTY', 'CVE', 'DNN', 'DWLD', 'EMN', 'FMC', 'FSTR', 'FUD', 'FXI', 'GEF', 'GHC', 'GRC', 'HAS', 'HPP', 'IT', 'LARK', 'LII', 'LUB', 'LUMO', 'MCO', 'MET', 'MGM', 'MIN', 'MOG.A', 'MTC', 'ORSNU', 'PHG', 'QNST', 'RACE', 'SCL', 'STRS', 'TCO', 'TDSB', 'VOYA', 'VTR', 'WEX', 'AACG', 'AACQ', 'AADR', 'AAME', 'AAOI', 'AAP', 'AACQU', 'AAMC', 'AAN', 'AAON', 'AAT', 'AAXJ', 'AB', 'ABC', 'ABEO', 'ABEV', 'ABM', 'ABR', 'ABR-B', 'ABT', 'ABUS', 'ACA', 'ACAM', 'ACB', 'ACC', 'ACCO', 'ACER', 'ACET', 'ACEVU', 'ACGLO', 'ACH', 'ACHV', 'ACIA', 'ACIU', 'ACLS', 'ACMR', 'ACNB', 'ACND.U', 'ACP', 'ACRS', 'ACSG', 'ACST', 'ACTCU', 'ACU', 'ACWF', 'ACWV', 'ACY', 'ADBE', 'AAU', 'AAWW', 'AAXN', 'ABBV', 'ABCB', 'ABEQ', 'ABIO', 'ABMD', 'ABR-A', 'ABR-C', 'ABTX', 'AC', 'ACAD', 'ACAMU', 'ACBI', 'ACCD', 'ACEL', 'ACES', 'ACEV', 'ACGL', 'ACGLP', 'ACHC', 'ACI', 'ACIO', 'ACIW', 'ACM', 'ACN', 'ACND', 'ACOR', 'ACRE', 'ACRX', 'ACSI', 'ACT', 'ACTG', 'ACV', 'ACWI', 'ACWX', 'ADAP', 'ADC', 'ADES', 'ADI', 'ADM', 'ADME', 'ADMS', 'ADCT', 'ADFI', 'ADIL', 'ADMA', 'ADMP', 'ADNT', 'ADP', 'ADRE', 'ADSK', 'ADTN', 'ADUS', 'ADX', 'ADXS', 'AEB', 'AEF', 'AEG', 'AEHR', 'AEL', 'AEL-B', 'AEMD', 'AEP', 'AEPPZ', 'AERI', 'AESE', 'AEY', 'AEZS', 'AFC', 'AFGB', 'AFGD', 'AFGH', 'AFI', 'AFIF', 'AFINP', 'AFL', 'AFMC', 'AFSM', 'AFTY', 'AG', 'AGBAR', 'AGCO', 'AGD', 'ADPT', 'ADS', 'ADSW', 'ADTX', 'ADVM', 'ADXN', 'AE', 'AEE', 'AEFC', 'AEGN', 'AEIS', 'AEL-A', 'AEM', 'AEO', 'AEPPL', 'AER', 'AES', 'AESR', 'AEYE', 'AFB'])"
      ]
     },
     "execution_count": 39,
     "metadata": {},
     "output_type": "execute_result"
    }
   ],
   "source": [
    "data.keys()"
   ]
  },
  {
   "cell_type": "code",
   "execution_count": 40,
   "metadata": {},
   "outputs": [
    {
     "data": {
      "text/html": [
       "<div>\n",
       "<style scoped>\n",
       "    .dataframe tbody tr th:only-of-type {\n",
       "        vertical-align: middle;\n",
       "    }\n",
       "\n",
       "    .dataframe tbody tr th {\n",
       "        vertical-align: top;\n",
       "    }\n",
       "\n",
       "    .dataframe thead th {\n",
       "        text-align: right;\n",
       "    }\n",
       "</style>\n",
       "<table border=\"1\" class=\"dataframe\">\n",
       "  <thead>\n",
       "    <tr style=\"text-align: right;\">\n",
       "      <th></th>\n",
       "      <th>t</th>\n",
       "      <th>o</th>\n",
       "      <th>h</th>\n",
       "      <th>l</th>\n",
       "      <th>c</th>\n",
       "      <th>v</th>\n",
       "    </tr>\n",
       "    <tr>\n",
       "      <th>t</th>\n",
       "      <th></th>\n",
       "      <th></th>\n",
       "      <th></th>\n",
       "      <th></th>\n",
       "      <th></th>\n",
       "      <th></th>\n",
       "    </tr>\n",
       "  </thead>\n",
       "  <tbody>\n",
       "    <tr>\n",
       "      <th>2020-10-05 14:35:00</th>\n",
       "      <td>2020-10-05 14:35:00</td>\n",
       "      <td>2.440</td>\n",
       "      <td>2.440</td>\n",
       "      <td>2.440</td>\n",
       "      <td>2.440</td>\n",
       "      <td>100</td>\n",
       "    </tr>\n",
       "    <tr>\n",
       "      <th>2020-10-05 15:02:00</th>\n",
       "      <td>2020-10-05 15:02:00</td>\n",
       "      <td>2.445</td>\n",
       "      <td>2.445</td>\n",
       "      <td>2.445</td>\n",
       "      <td>2.445</td>\n",
       "      <td>100</td>\n",
       "    </tr>\n",
       "    <tr>\n",
       "      <th>2020-10-05 15:04:00</th>\n",
       "      <td>2020-10-05 15:04:00</td>\n",
       "      <td>2.455</td>\n",
       "      <td>2.455</td>\n",
       "      <td>2.455</td>\n",
       "      <td>2.455</td>\n",
       "      <td>100</td>\n",
       "    </tr>\n",
       "    <tr>\n",
       "      <th>2020-10-05 15:27:00</th>\n",
       "      <td>2020-10-05 15:27:00</td>\n",
       "      <td>2.440</td>\n",
       "      <td>2.440</td>\n",
       "      <td>2.440</td>\n",
       "      <td>2.440</td>\n",
       "      <td>100</td>\n",
       "    </tr>\n",
       "    <tr>\n",
       "      <th>2020-10-05 15:43:00</th>\n",
       "      <td>2020-10-05 15:43:00</td>\n",
       "      <td>2.440</td>\n",
       "      <td>2.440</td>\n",
       "      <td>2.440</td>\n",
       "      <td>2.440</td>\n",
       "      <td>100</td>\n",
       "    </tr>\n",
       "  </tbody>\n",
       "</table>\n",
       "</div>"
      ],
      "text/plain": [
       "                                      t      o      h      l      c    v\n",
       "t                                                                       \n",
       "2020-10-05 14:35:00 2020-10-05 14:35:00  2.440  2.440  2.440  2.440  100\n",
       "2020-10-05 15:02:00 2020-10-05 15:02:00  2.445  2.445  2.445  2.445  100\n",
       "2020-10-05 15:04:00 2020-10-05 15:04:00  2.455  2.455  2.455  2.455  100\n",
       "2020-10-05 15:27:00 2020-10-05 15:27:00  2.440  2.440  2.440  2.440  100\n",
       "2020-10-05 15:43:00 2020-10-05 15:43:00  2.440  2.440  2.440  2.440  100"
      ]
     },
     "execution_count": 40,
     "metadata": {},
     "output_type": "execute_result"
    }
   ],
   "source": [
    "data['AGFS'].head()"
   ]
  },
  {
   "cell_type": "code",
   "execution_count": 41,
   "metadata": {},
   "outputs": [],
   "source": [
    "#========================#\n",
    "#      Ejercicio 5       #\n",
    "#========================#\n",
    "\n",
    "\n",
    "def signal(df, fast=50, slow=200, pi_long=3, ps_long=7, pi_short=-7, ps_short=-3):\n",
    "    df['sma_f'] = df.c.rolling(fast).mean()\n",
    "    df['sma_s'] = df.c.rolling(slow).mean()\n",
    "    df['cruce'] = (df['sma_f']/df['sma_s']-1)*100\n",
    "    \n",
    "    alert = ''\n",
    "    if ( (float(df.iloc[-1:]['cruce']) > pi_short) & (float(df.iloc[-1:]['cruce']) < ps_short) ):\n",
    "        alert = 'Bajando'\n",
    "    if (  (float(df.iloc[-1:]['cruce']) > pi_long) & (float(df.iloc[-1:]['cruce']) < ps_long) ):\n",
    "        alert = 'Subiendo'\n",
    "        \n",
    "    return alert"
   ]
  },
  {
   "cell_type": "code",
   "execution_count": 42,
   "metadata": {},
   "outputs": [
    {
     "data": {
      "text/plain": [
       "''"
      ]
     },
     "execution_count": 42,
     "metadata": {},
     "output_type": "execute_result"
    }
   ],
   "source": [
    "signal(data['AGFS'], fast=50, slow=200, pi_long=3, ps_long=7, pi_short=-7, ps_short=-3)"
   ]
  },
  {
   "cell_type": "code",
   "execution_count": 49,
   "metadata": {},
   "outputs": [
    {
     "name": "stdout",
     "output_type": "stream",
     "text": [
      "0 ..1 ..2 ..3 ..4 ..5 ..6 ..7 ..8 ..9 ..10 ..11 ..12 ..13 ..14 ..15 ..16 ..17 ..18 ..19 ..20 ..21 ..22 ..23 ..24 ..25 ..26 ..27 ..28 ..29 ..30 ..31 ..32 ..33 ..34 ..35 ..36 ..37 ..38 ..39 ..40 ..41 ..42 ..43 ..44 ..\n",
      "\n",
      "Longs ID: e0abfd7c-439c-462f-a1cc-fe29cd82b448 Longs ID: 8c6139f8-4b4f-4c10-a357-e74238d78da0\n",
      "\n",
      "\n",
      "Longs Cantidad: 82 Shorts Cantidad: 36\n"
     ]
    }
   ],
   "source": [
    "#========================#\n",
    "#      Ejercicio 6       #\n",
    "#========================#\n",
    "\n",
    "# Uso la funcion del ejercicio 3 y 2\n",
    "# armo las listas de a 200 activos para traer la data lista por lista\n",
    "listas = sublist_to_string(listasActivos())\n",
    "\n",
    "\n",
    "import datetime as dt\n",
    "end =  dt.date.today()  + dt.timedelta(days=1)\n",
    "start = end - dt.timedelta(days=6)\n",
    "\n",
    "subiendo = []\n",
    "bajando = []\n",
    "\n",
    "for i in range(len(listas)):\n",
    "    \n",
    "    # Para ver la evolución ya que tarda unos 2 minutos en correr\n",
    "    print(i,'..',end='')\n",
    "    \n",
    "    # Uso la función del ejercicio 4\n",
    "    data = getHistory(listas[i], start, end, timeframe='1Min')\n",
    "    for ticker in data:\n",
    "        try:\n",
    "            # Uso la función del ejercicio 5\n",
    "            s = signal(data[ticker], fast=10, slow=200, pi_long=4, ps_long=6, pi_short=-7, ps_short=-4)\n",
    "            \n",
    "            if s=='Subiendo':\n",
    "                subiendo.append(ticker)\n",
    "            if s=='Bajando':\n",
    "                bajando.append(ticker)\n",
    "        except:\n",
    "            pass\n",
    "\n",
    "# Uso la función del ejercicio 1\n",
    "subiendoL = createWatchlist('Longs', subiendo)\n",
    "bajandoL = createWatchlist('Shorts', bajando)\n",
    "\n",
    "print('\\n\\nLongs ID:',subiendoL[0],'Longs ID:',bajandoL[0])\n",
    "print('\\n\\nLongs Cantidad:',len(subiendo),'Shorts Cantidad:',len(bajando))"
   ]
  },
  {
   "cell_type": "code",
   "execution_count": 50,
   "metadata": {},
   "outputs": [
    {
     "data": {
      "text/html": [
       "<div>\n",
       "<style scoped>\n",
       "    .dataframe tbody tr th:only-of-type {\n",
       "        vertical-align: middle;\n",
       "    }\n",
       "\n",
       "    .dataframe tbody tr th {\n",
       "        vertical-align: top;\n",
       "    }\n",
       "\n",
       "    .dataframe thead th {\n",
       "        text-align: right;\n",
       "    }\n",
       "</style>\n",
       "<table border=\"1\" class=\"dataframe\">\n",
       "  <thead>\n",
       "    <tr style=\"text-align: right;\">\n",
       "      <th></th>\n",
       "      <th>id</th>\n",
       "      <th>created_at</th>\n",
       "      <th>updated_at</th>\n",
       "      <th>name</th>\n",
       "    </tr>\n",
       "  </thead>\n",
       "  <tbody>\n",
       "    <tr>\n",
       "      <th>0</th>\n",
       "      <td>e0abfd7c-439c-462f-a1cc-fe29cd82b448</td>\n",
       "      <td>2020-10-09T17:22:42.856183Z</td>\n",
       "      <td>2020-10-09T17:22:42.856183Z</td>\n",
       "      <td>Longs</td>\n",
       "    </tr>\n",
       "    <tr>\n",
       "      <th>1</th>\n",
       "      <td>8c6139f8-4b4f-4c10-a357-e74238d78da0</td>\n",
       "      <td>2020-10-09T17:22:43.594782Z</td>\n",
       "      <td>2020-10-09T17:22:43.594782Z</td>\n",
       "      <td>Shorts</td>\n",
       "    </tr>\n",
       "    <tr>\n",
       "      <th>2</th>\n",
       "      <td>2d267591-0424-41ce-9478-23d4c4eb14d5</td>\n",
       "      <td>2020-10-09T17:12:12.196454Z</td>\n",
       "      <td>2020-10-09T17:12:12.196454Z</td>\n",
       "      <td>bancos_arg</td>\n",
       "    </tr>\n",
       "  </tbody>\n",
       "</table>\n",
       "</div>"
      ],
      "text/plain": [
       "                                     id                   created_at  \\\n",
       "0  e0abfd7c-439c-462f-a1cc-fe29cd82b448  2020-10-09T17:22:42.856183Z   \n",
       "1  8c6139f8-4b4f-4c10-a357-e74238d78da0  2020-10-09T17:22:43.594782Z   \n",
       "2  2d267591-0424-41ce-9478-23d4c4eb14d5  2020-10-09T17:12:12.196454Z   \n",
       "\n",
       "                    updated_at        name  \n",
       "0  2020-10-09T17:22:42.856183Z       Longs  \n",
       "1  2020-10-09T17:22:43.594782Z      Shorts  \n",
       "2  2020-10-09T17:12:12.196454Z  bancos_arg  "
      ]
     },
     "execution_count": 50,
     "metadata": {},
     "output_type": "execute_result"
    }
   ],
   "source": [
    "watchlist()"
   ]
  },
  {
   "cell_type": "code",
   "execution_count": 47,
   "metadata": {},
   "outputs": [
    {
     "data": {
      "text/plain": [
       "''"
      ]
     },
     "execution_count": 47,
     "metadata": {},
     "output_type": "execute_result"
    }
   ],
   "source": [
    "deleteWatchlist('')"
   ]
  },
  {
   "cell_type": "code",
   "execution_count": 51,
   "metadata": {},
   "outputs": [],
   "source": [
    "comprar = list(getWatchlist('e0abfd7c-439c-462f-a1cc-fe29cd82b448').index.values)\n",
    "vender = list(getWatchlist('8c6139f8-4b4f-4c10-a357-e74238d78da0').index.values)"
   ]
  },
  {
   "cell_type": "code",
   "execution_count": 52,
   "metadata": {},
   "outputs": [
    {
     "name": "stdout",
     "output_type": "stream",
     "text": [
      "Buy: 44.58 MTLS -- Buy: 8.04 KIRK -- Buy: 21.85 CHUY -- Buy: 0.21 ENSV -- Buy: 6.89 FOSL -- Buy: 0.47 NCTY -- Buy: 25.47 WKHS -- Buy: 11.85 MTEM -- Buy: 26.88 JOE -- Buy: 7.53 NBSE -- Buy: 2.29 UAVS -- Buy: 4.46 GSS -- Buy: 29.5 AFIB -- Buy: 2.19 PIRS -- Buy: 3.08 TWI -- Buy: 22.17 SPTN -- Buy: 11.61 NS -- Buy: 3.82 ACRS -- Buy: 2.46 OPGN -- Buy: 110.68 ROG -- Buy: 18.02 TBPH -- Buy: 9.44 ELMD -- Buy: 21.21 AMPH -- Buy: 53.45 CDNA -- Buy: 17.88 MAG -- Buy: 2.05 NBEV -- Buy: 0.78 EXPR -- Buy: 14.65 FEAC -- Buy: 12.82 AXGN -- Buy: 26.98 STEP -- Buy: 2.91 HMHC -- Buy: 18.5 NIU -- Buy: 0.25 GTE -- Buy: 14.91 BPYU -- Buy: 1.49 MCF -- Buy: 33.83 AUDC -- Buy: 23.04 ITOS -- Buy: 1.46 WTER -- Buy: 105.75 SLAB -- Buy: 27.39 LL -- Buy: 4.13 EXTR -- Buy: 58.58 EXPI -- Buy: 39.68 VITL -- Buy: 10.66 CLSK -- Buy: 3.83 UBX -- Buy: 7.62 SVM -- Buy: 1.86 ONDK -- Buy: 24.17 FORM -- Buy: 46.58 EGRX -- Buy: 117.53 IBP -- Buy: 18.9 GRBK -- Buy: 14.48 BZH -- Buy: 3.54 SOL -- Buy: 10.23 KODK -- Buy: 8.38 ATRO -- Buy: 5.3 HLIT -- Buy: 4.4 SIEN -- Buy: 36.09 KFRC -- Buy: 19.34 HEAR -- Buy: 36.1 IMVT -- Buy: 13.72 DLTH -- Buy: 13.03 HEP -- Buy: 11.76 AMJ -- Buy: 4.51 CASA -- Buy: 10.71 CNTG -- Buy: 12.64 EQX -- Buy: 23.01 SRI -- Buy: 118.62 XLRN -- Buy: 32.78 EDIT -- Buy: 315.49 MPWR -- Buy: 17.04 HNGR -- Buy: 40.89 VCYT -- Buy: 2.66 AXU -- Buy: 14.48 MAXN -- Buy: 22.38 TSEM -- Buy: 18.06 CMTL -- Buy: 63.49 JKS -- Buy: 4.12 STSA -- Buy: 13.48 SPRO -- Buy: 7.94 CENX -- Buy: 21.73 CELH -- Buy: 13.09 EGAN -- "
     ]
    }
   ],
   "source": [
    "for ticker in comprar:\n",
    "    try:\n",
    "        px  = (lastQuote(ticker)['askprice'] + lastQuote(ticker)['bidprice'] ) / 2\n",
    "        q = ((200000)/len(comprar)) // px\n",
    "        orden = order(symbol=ticker, qty=q, side='buy', tipo='limit', time_in_force='gtc',limit_price = px )\n",
    "        print('Buy:', round(px,2), ticker, end=' -- ')\n",
    "    except:\n",
    "        print(f'\\n\\nNo se pudo conseguir precio de {ticker}\\n\\n')"
   ]
  },
  {
   "cell_type": "code",
   "execution_count": 53,
   "metadata": {},
   "outputs": [
    {
     "name": "stdout",
     "output_type": "stream",
     "text": [
      "Sell: 0.21 LONE -- Sell: 46.69 KIDS -- Sell: 34.47 KOLD -- Sell: 5.69 CARV -- Sell: 10.29 JMIA -- Sell: 0.39 USWS -- Sell: 5.52 MXC -- Sell: 0.33 CHFS -- Sell: 43.74 LUNG -- Sell: 5.72 OVID -- Sell: 31.45 NKTX -- Sell: 9.78 BLNK -- Sell: 4.22 FBIO -- Sell: 7.56 SPI -- Sell: 16.95 AKUS -- Sell: 6.54 NBLX -- Sell: 46.28 LABD -- Sell: 61.39 DRIP -- Sell: 31.16 GBIO -- Sell: 0.98 QEP -- Sell: 44.75 ARCH -- Sell: 7.7 YTEN -- Sell: 26.63 RNA -- Sell: 1.5 WWR -- Sell: 53.27 DCPH -- Sell: 2.45 MVIS -- Sell: 16.09 EDZ -- Sell: 34.5 TCMD -- Sell: 1.84 MDGS -- Sell: 2.8 CVV -- Sell: 0.29 TAT -- Sell: 5.01 QLGN -- Sell: 5.83 NTP -- Sell: 63.04 OTRK -- Sell: 12.77 HGEN -- Sell: 33.94 AMWL -- "
     ]
    }
   ],
   "source": [
    "for ticker in vender:\n",
    "    try:\n",
    "        px  = (lastQuote(ticker)['askprice'] + lastQuote(ticker)['bidprice'] ) / 2\n",
    "        q = ((300000)/len(vender)) // px\n",
    "        orden = order(symbol=ticker, qty=q, side='sell', tipo='limit', time_in_force='gtc',limit_price = px )\n",
    "        print('Sell:', round(px,2), ticker, end=' -- ')\n",
    "    except:\n",
    "        print(f'No se pudo conseguir precio de {ticker}')"
   ]
  },
  {
   "cell_type": "markdown",
   "metadata": {},
   "source": [
    "# Bases de Datos introducción"
   ]
  },
  {
   "cell_type": "markdown",
   "metadata": {},
   "source": [
    "* claves foraneas\n",
    "* claves primarias"
   ]
  },
  {
   "cell_type": "markdown",
   "metadata": {},
   "source": [
    "<img src='imagenes/BBDD.jpeg' width='600'>"
   ]
  },
  {
   "cell_type": "markdown",
   "metadata": {},
   "source": [
    "Y así sucesivamente se pueden ir creando nuevas entidades que se van relacionando con otras\n",
    "\n",
    "En este caso vamos a agregar a nuestro modelo de subyacentes y derivados, una entidad de \"fondos\" que podrian ser FCIs y \"clientes\" que podrian ser las cuentas de un Alyc"
   ]
  },
  {
   "cell_type": "markdown",
   "metadata": {},
   "source": [
    "<img src='imagenes/BBDD2.jpeg' width='600'>"
   ]
  },
  {
   "cell_type": "markdown",
   "metadata": {},
   "source": [
    "# XAMPP"
   ]
  },
  {
   "cell_type": "markdown",
   "metadata": {},
   "source": [
    "## Configuracion Apache y puerto http"
   ]
  },
  {
   "cell_type": "markdown",
   "metadata": {},
   "source": [
    "Configuraciones Iniciales, no necesariamente pero si al darrle \"start\" al Apache aparece un conflicto de puertos, hay que configurar un puerto diferente al 80 que es el default"
   ]
  },
  {
   "cell_type": "markdown",
   "metadata": {},
   "source": [
    "<img src='imagenes/xampp_1.png' width=750>"
   ]
  },
  {
   "cell_type": "markdown",
   "metadata": {},
   "source": [
    "<img src='imagenes/xampp_2.png' width=750>"
   ]
  },
  {
   "cell_type": "markdown",
   "metadata": {},
   "source": [
    "<img src='imagenes/xampp_3.png' width=750>"
   ]
  },
  {
   "cell_type": "markdown",
   "metadata": {},
   "source": [
    "## Configuracion MySQL y puerto de BBDD"
   ]
  },
  {
   "cell_type": "markdown",
   "metadata": {},
   "source": [
    "<img src='imagenes/xampp_4.png' width=750>"
   ]
  },
  {
   "cell_type": "markdown",
   "metadata": {},
   "source": [
    "<img src='imagenes/xampp_5.png' width=750>"
   ]
  },
  {
   "cell_type": "markdown",
   "metadata": {},
   "source": [
    "## Configuracion general  XAMMP"
   ]
  },
  {
   "cell_type": "markdown",
   "metadata": {},
   "source": [
    "<img src='imagenes/xampp_6.png' width=800>"
   ]
  },
  {
   "cell_type": "markdown",
   "metadata": {},
   "source": [
    "<img src='imagenes/xampp_7.png' width='600'>"
   ]
  },
  {
   "cell_type": "markdown",
   "metadata": {},
   "source": [
    "<img src='imagenes/xampp_8.png'  width='600'>"
   ]
  },
  {
   "cell_type": "markdown",
   "metadata": {},
   "source": [
    "# Crear Base de datos"
   ]
  },
  {
   "cell_type": "markdown",
   "metadata": {},
   "source": [
    "<img src='imagenes/xampp_9.png'  width='700'>"
   ]
  },
  {
   "cell_type": "code",
   "execution_count": null,
   "metadata": {},
   "outputs": [],
   "source": []
  },
  {
   "cell_type": "markdown",
   "metadata": {},
   "source": [
    "# Seteo Motor de BBDD"
   ]
  },
  {
   "cell_type": "code",
   "execution_count": null,
   "metadata": {},
   "outputs": [],
   "source": [
    "from sqlalchemy import create_engine\n",
    "\n",
    "# Seteo el USER : PASS @ HOST / BBDD_NAME\n",
    "engine = create_engine('mysql+pymysql://root:@localhost/test')"
   ]
  },
  {
   "cell_type": "code",
   "execution_count": null,
   "metadata": {},
   "outputs": [],
   "source": []
  }
 ],
 "metadata": {
  "kernelspec": {
   "display_name": "Python 3",
   "language": "python",
   "name": "python3"
  },
  "language_info": {
   "codemirror_mode": {
    "name": "ipython",
    "version": 3
   },
   "file_extension": ".py",
   "mimetype": "text/x-python",
   "name": "python",
   "nbconvert_exporter": "python",
   "pygments_lexer": "ipython3",
   "version": "3.8.5"
  },
  "toc": {
   "base_numbering": 1,
   "nav_menu": {},
   "number_sections": true,
   "sideBar": true,
   "skip_h1_title": false,
   "title_cell": "Table of Contents",
   "title_sidebar": "Contents",
   "toc_cell": false,
   "toc_position": {},
   "toc_section_display": true,
   "toc_window_display": true
  },
  "varInspector": {
   "cols": {
    "lenName": 16,
    "lenType": 16,
    "lenVar": 40
   },
   "kernels_config": {
    "python": {
     "delete_cmd_postfix": "",
     "delete_cmd_prefix": "del ",
     "library": "var_list.py",
     "varRefreshCmd": "print(var_dic_list())"
    },
    "r": {
     "delete_cmd_postfix": ") ",
     "delete_cmd_prefix": "rm(",
     "library": "var_list.r",
     "varRefreshCmd": "cat(var_dic_list()) "
    }
   },
   "types_to_exclude": [
    "module",
    "function",
    "builtin_function_or_method",
    "instance",
    "_Feature"
   ],
   "window_display": false
  }
 },
 "nbformat": 4,
 "nbformat_minor": 4
}
