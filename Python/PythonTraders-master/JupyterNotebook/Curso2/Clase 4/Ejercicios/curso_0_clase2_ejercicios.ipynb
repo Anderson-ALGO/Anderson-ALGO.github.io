{
 "cells": [
  {
   "cell_type": "markdown",
   "metadata": {},
   "source": [
    "### Operaciones sobre datetime, imprimiendo con formato especifico"
   ]
  },
  {
   "cell_type": "code",
   "execution_count": 17,
   "metadata": {},
   "outputs": [
    {
     "name": "stdout",
     "output_type": "stream",
     "text": [
      "Son las: 19:09:37\n",
      "instanteFormatoMMDDYYYY: 07/12/2020, 19:17:37\n",
      "instanteFormatoDDMMYYYYTiempo: 12/07/2020, 19:17:37\n"
     ]
    }
   ],
   "source": [
    "\n",
    "from datetime import datetime as dt\n",
    "\n",
    "# la fecha y hora actual osea el instante actual\n",
    "ahora = dt.now()\n",
    "\n",
    "tiempo = now.strftime(\"%H:%M:%S\")\n",
    "print(\"Son las:\", tiempo)\n",
    "\n",
    "instante_formato_MMDDYYYY_tiempo = ahora.strftime(\"%m/%d/%Y, %H:%M:%S\")\n",
    "# mm/dd/YY H:M:S format\n",
    "print(\"instanteFormatoMMDDYYYY:\",  instante_formato_MMDDYYYY_tiempo)\n",
    "\n",
    "instante_formato_DDMMYYYY_tiempo = ahora.strftime(\"%d/%m/%Y, %H:%M:%S\")\n",
    "# dd/mm/YY H:M:S format\n",
    "print(\"instanteFormatoDDMMYYYYTiempo:\", instante_formato_DDMMYYYY_tiempo)"
   ]
  },
  {
   "cell_type": "markdown",
   "metadata": {},
   "source": [
    "### Ejercicio 1 \n",
    "Se requiere obtener el instante actual y con el uso de la funcion strftime imprimir cada parte del \n",
    "mismo en lineas separadas, esto seria, dia, mes, año, hora, minutos, segundos, dia de la semana, el dia del mes y el dia del año\n",
    "por ej print(\"hoy es el dia %d\", ahora.strf...)\n"
   ]
  },
  {
   "cell_type": "code",
   "execution_count": null,
   "metadata": {},
   "outputs": [],
   "source": []
  },
  {
   "cell_type": "code",
   "execution_count": null,
   "metadata": {},
   "outputs": [],
   "source": []
  },
  {
   "cell_type": "markdown",
   "metadata": {},
   "source": [
    "### Convirtiendo un String a un datetime\n",
    "Dado un string necesitamos convertirlo a datetime para luego poder utilizar las aritmeticas que este modulo ofrece"
   ]
  },
  {
   "cell_type": "code",
   "execution_count": 41,
   "metadata": {},
   "outputs": [
    {
     "name": "stdout",
     "output_type": "stream",
     "text": [
      "2020-07-20 00:00:00\n",
      "2020-07-06 15:23:01\n"
     ]
    }
   ],
   "source": [
    "from datetime import datetime\n",
    "# Convertimos un string con formato <día>/<mes>/<año> en datetime\n",
    "una_fecha = '20/07/2020'\n",
    "fecha_como_datetime = datetime.strptime(una_fecha, '%d/%m/%Y')\n",
    "# noten que hay una relacion entre el formato del string y lo que se le pasa a strptime\n",
    "print(fecha_como_datetime)\n",
    "\n",
    "instate_como_string = \"06/07/2020 15:23:01\"\n",
    "instate_como_datetime = datetime.strptime(instate_como_string, '%d/%m/%Y %H:%M:%S')\n",
    "print(instate_como_datetime)"
   ]
  },
  {
   "cell_type": "code",
   "execution_count": null,
   "metadata": {},
   "outputs": [],
   "source": []
  },
  {
   "cell_type": "code",
   "execution_count": null,
   "metadata": {},
   "outputs": [],
   "source": []
  },
  {
   "cell_type": "markdown",
   "metadata": {},
   "source": [
    "### Ejercicio 2\n",
    "En el instante \"2020-03-20T14:28:23.382748\" representa un instante en el que se coloco por medio de un bot una orden compra de 100000 nominales del ticker TSLA se solicita transformar dicho string a un datetime."
   ]
  },
  {
   "cell_type": "code",
   "execution_count": null,
   "metadata": {},
   "outputs": [],
   "source": []
  },
  {
   "cell_type": "code",
   "execution_count": null,
   "metadata": {},
   "outputs": [],
   "source": []
  },
  {
   "cell_type": "markdown",
   "metadata": {},
   "source": [
    "### Ejercicio 3\n",
    "Se requiere determinar cuantas dias faltan desde el instante actual y la proxima clase 15 de julio a las 18:00:00."
   ]
  },
  {
   "cell_type": "code",
   "execution_count": null,
   "metadata": {},
   "outputs": [],
   "source": []
  },
  {
   "cell_type": "code",
   "execution_count": null,
   "metadata": {},
   "outputs": [],
   "source": []
  },
  {
   "cell_type": "markdown",
   "metadata": {},
   "source": [
    "### Ejercicio 4\n",
    "Del ejercicio anterior determinar la cantidad de horas que faltan y luego hacer lo mismo con minutos."
   ]
  },
  {
   "cell_type": "code",
   "execution_count": null,
   "metadata": {},
   "outputs": [],
   "source": []
  },
  {
   "cell_type": "code",
   "execution_count": null,
   "metadata": {},
   "outputs": [],
   "source": []
  },
  {
   "cell_type": "markdown",
   "metadata": {},
   "source": [
    "### Trabajando con zonas horarias\n",
    "\n",
    "from datetime import datetime\n",
    "from pytz import timezone\n",
    "\n",
    "fmt = \"%Y-%m-%d %H:%M:%S %Z%z\"\n",
    "\n",
    "##### Current time in UTC\n",
    "now_utc = datetime.now(timezone('UTC'))\n",
    "print now_utc.strftime(fmt)\n",
    "\n",
    "##### Convert to US/Pacific time zone\n",
    "now_pacific = now_utc.astimezone(timezone('US/Pacific'))\n",
    "print now_pacific.strftime(fmt)\n",
    "\n",
    "##### Convert to Europe/Berlin time zone\n",
    "now_berlin = now_pacific.astimezone(timezone('Europe/Berlin'))\n",
    "print now_berlin.strftime(fmt)"
   ]
  },
  {
   "cell_type": "markdown",
   "metadata": {},
   "source": [
    "### Ejercicio 5\n",
    "Se le solicita que cree el instante del dia viernes 10 de Julio del 2020 a las 12:01:00 del mediodia o pm como prefieran\n",
    "Se debera transformar dicho instante a a otros con diferentes zonas horarias e imprimirlos, tales como Rusia/moscu España/Madrid, Mexico, Colombia y Argentina\n",
    " Si en el grupo contamos con alguna persona de otro pais, por favor aclarlo y agregar dicho timezone"
   ]
  },
  {
   "cell_type": "code",
   "execution_count": null,
   "metadata": {},
   "outputs": [],
   "source": []
  },
  {
   "cell_type": "code",
   "execution_count": null,
   "metadata": {},
   "outputs": [],
   "source": []
  }
 ],
 "metadata": {
  "kernelspec": {
   "display_name": "p36workshop",
   "language": "python",
   "name": "p36workshop"
  },
  "language_info": {
   "codemirror_mode": {
    "name": "ipython",
    "version": 3
   },
   "file_extension": ".py",
   "mimetype": "text/x-python",
   "name": "python",
   "nbconvert_exporter": "python",
   "pygments_lexer": "ipython3",
   "version": "3.6.10"
  }
 },
 "nbformat": 4,
 "nbformat_minor": 2
}
