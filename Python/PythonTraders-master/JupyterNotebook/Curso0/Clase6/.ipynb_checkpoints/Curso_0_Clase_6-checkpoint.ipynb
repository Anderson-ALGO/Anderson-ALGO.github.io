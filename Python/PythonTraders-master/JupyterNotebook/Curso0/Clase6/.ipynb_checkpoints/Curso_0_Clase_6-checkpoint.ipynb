{
 "cells": [
  {
   "cell_type": "markdown",
   "metadata": {},
   "source": [
    "# Ejercicios"
   ]
  },
  {
   "cell_type": "markdown",
   "metadata": {},
   "source": [
    "Dadas las siguientes listas:"
   ]
  },
  {
   "cell_type": "code",
   "execution_count": 37,
   "metadata": {},
   "outputs": [],
   "source": [
    "guiones = ['price_earnings','dividend_yield','price_to_book_value','enterprise_value_ebitda']"
   ]
  },
  {
   "cell_type": "code",
   "execution_count": 38,
   "metadata": {},
   "outputs": [],
   "source": [
    "camelCase = ['priceEarnings','dividendYield','priceToBookValue','enterpriseValueEbitda']"
   ]
  },
  {
   "cell_type": "markdown",
   "metadata": {},
   "source": [
    "1 - Se pide armar un script que transforme los strings con guiones en strings con espacios, es decir que separe las palabras\n",
    "\n",
    "1b- modificarlo para que la primera letra de cada palabra quede en mayúscula (disclaimer: ya se que no lo mostré pero googleen, stackoverfloween)"
   ]
  },
  {
   "cell_type": "markdown",
   "metadata": {},
   "source": [
    "2 - Se pide armar un script que transforme los camelCase en strings con espacios, es decir que separe las palabras"
   ]
  },
  {
   "cell_type": "markdown",
   "metadata": {},
   "source": [
    "3- Armar un script que le pida al usuario una cantidad de ciclos, y para esa cantidad ingresada por el usuario me imprima en pantalla la hora actual cada un segundo, es decir que si el usuario ingresa 8, el programa debera impprimir cada un segundo la hora 8 veces y terminar allí.. Validarlo con un try/except para que si el usuario ingresa algo que no sea un numero entero le devuelva un mensaje personalizado al usuario y no tire error el intérprete cortando el flujo"
   ]
  },
  {
   "cell_type": "code",
   "execution_count": null,
   "metadata": {},
   "outputs": [],
   "source": []
  },
  {
   "cell_type": "code",
   "execution_count": null,
   "metadata": {},
   "outputs": [],
   "source": []
  },
  {
   "cell_type": "code",
   "execution_count": 39,
   "metadata": {},
   "outputs": [
    {
     "name": "stdout",
     "output_type": "stream",
     "text": [
      "['price earnings', 'dividend yield', 'price to book value', 'enterprise value ebitda']\n"
     ]
    }
   ],
   "source": [
    "# Respuesta 1\n",
    "\n",
    "rta = []\n",
    "for palabra in guiones:\n",
    "    rta.append(palabra.replace('_', ' '))\n",
    "print(rta)"
   ]
  },
  {
   "cell_type": "code",
   "execution_count": 40,
   "metadata": {},
   "outputs": [
    {
     "name": "stdout",
     "output_type": "stream",
     "text": [
      "['Price Earnings', 'Dividend Yield', 'Price To Book Value', 'Enterprise Value Ebitda']\n"
     ]
    }
   ],
   "source": [
    "# Respuesta 1b\n",
    "\n",
    "rta = []\n",
    "for palabra in guiones:\n",
    "    rta.append(palabra.replace('_', ' ').title())\n",
    "print(rta)"
   ]
  },
  {
   "cell_type": "code",
   "execution_count": 1,
   "metadata": {},
   "outputs": [
    {
     "name": "stdout",
     "output_type": "stream",
     "text": [
      "['Price Earnings', 'Dividend Yield', 'Price To Book Value', 'Enterprise Value Ebitda']\n"
     ]
    }
   ],
   "source": [
    "# Respuesta 2\n",
    "camelCase = [\"priceEarnings\",'dividendYield','priceToBookValue','enterpriseValueEbitda']\n",
    "letras = 'ABCDEFGHIJKLMNOPQRSTUVWXYZ'\n",
    "\n",
    "rta = []\n",
    "for palabra in camelCase:\n",
    "    nuevaPalabra = palabra\n",
    "    for letra in letras:\n",
    "        nuevaPalabra = nuevaPalabra.replace(letra, ' '+letra)\n",
    "    rta.append(nuevaPalabra.title())\n",
    "print(rta)"
   ]
  },
  {
   "cell_type": "code",
   "execution_count": 166,
   "metadata": {},
   "outputs": [
    {
     "name": "stdout",
     "output_type": "stream",
     "text": [
      "Ingresa la cantidad de ciclos: 5\n",
      "15:45:36\n",
      "15:45:37\n",
      "15:45:38\n",
      "15:45:39\n",
      "15:45:40\n"
     ]
    }
   ],
   "source": [
    "# Respuesta 3\n",
    "\n",
    "import time\n",
    "import datetime as dt\n",
    "\n",
    "ciclos = input('Ingresa la cantidad de ciclos: ')\n",
    "\n",
    "try:\n",
    "    ciclos = int(ciclos)\n",
    "    for i in range(ciclos):\n",
    "        print(dt.datetime.now().strftime('%H:%M:%S'))\n",
    "        time.sleep(1)\n",
    "except:\n",
    "    print('Me da qe pierdo.. me tenes que ingresar un número entero')"
   ]
  },
  {
   "cell_type": "code",
   "execution_count": null,
   "metadata": {},
   "outputs": [],
   "source": []
  },
  {
   "cell_type": "code",
   "execution_count": null,
   "metadata": {},
   "outputs": [],
   "source": []
  },
  {
   "cell_type": "markdown",
   "metadata": {},
   "source": [
    "**Gran desafío**: dado el siguiente listado de precios, hacer un script para reorganizarlo en una lista de sublistas de 3 elementos, el script debe funcionar correctamente (sin cambiarle nada) si se le agregan mas elementos a la lista de precios y además el \"3\" debe estar en una variable que se pueda modificar por ejemplo por \"5\" y el script siga funcionando (esta vez subdividiendo en sublistas de a 5 elementos obviamente)"
   ]
  },
  {
   "cell_type": "code",
   "execution_count": 249,
   "metadata": {},
   "outputs": [],
   "source": [
    "precios = [107.1, 107.1, 107.1, 106.95, 106.8, 106.8, 106.25, 106.25, 106.25, 106.1, 106.1, 106.0, 106.1, 106.5, \n",
    "           106.1, 106.3, 106.3, 106.3, 106.3, 106.3, 106.4, 106.4]"
   ]
  },
  {
   "cell_type": "markdown",
   "metadata": {},
   "source": [
    "TIP: Hay decenas de formas de resolverlo, y hay mil formas de interpretar cual es la mejor, por ejemplo\n",
    "    * La mejor es la que primero te sale\n",
    "    * La mejor es la mas performante (la que se ejecuta mas rapido)\n",
    "    * La mejor es la mas mantenible (facil de entender, modificar, etc)\n",
    "    * La mejor es la mas robusta/segura (mas a prueba de fallos)\n",
    "    * La que menos líneas ocupa de código \n",
    "    * Con la que te llevas mas enseñanzas\n",
    "    \n",
    "    \n",
    "Son ejemplos por decir algo, la que me gusta a mi se resuelve en una baldoza con una funcion de numpy que no les mostré así que los invito a googlear libremente, vale todo, copiar codigo de donde sea etc.. El 50% (o mas) de lo que les enseño a ustedes en algun momento lo googlié así que no se limiten a solo lo que se les ocurre"
   ]
  },
  {
   "cell_type": "code",
   "execution_count": null,
   "metadata": {},
   "outputs": [],
   "source": []
  },
  {
   "cell_type": "code",
   "execution_count": null,
   "metadata": {},
   "outputs": [],
   "source": [
    "# De que parto?\n",
    "lista_original = precios\n",
    "\n",
    "# necesito una lista grande, con sublistas..\n",
    "lista_grande = []\n",
    "sublistas = []\n",
    "\n",
    "for i in .....que tengo que recorrer?\n",
    "\n",
    "    # Primero debo llenar las sublistas\n",
    "    \n",
    "    # Pregunta ¿si mi sublista se lleno?\n",
    "    \n",
    "        # Si se lleno llenar lista grande con sublistas\n",
    "        # si no se lleno... seguir llenando\n",
    "        \n"
   ]
  },
  {
   "cell_type": "code",
   "execution_count": null,
   "metadata": {},
   "outputs": [],
   "source": [
    "[[1,2], [3,4], [5,6], [7]]"
   ]
  },
  {
   "cell_type": "code",
   "execution_count": null,
   "metadata": {},
   "outputs": [],
   "source": [
    "[ [1,2]      ]\n",
    "\n",
    "[ [1,2], [3,4]     ]"
   ]
  },
  {
   "cell_type": "code",
   "execution_count": null,
   "metadata": {},
   "outputs": [],
   "source": []
  },
  {
   "cell_type": "markdown",
   "metadata": {},
   "source": [
    "### imprimir el 4 numero multiplo de 3 mayor a un numero dado (num) siempre que no sea multiplo de 5, caso que lo sea imprimir el 3er multiplo de 3 mayor a ese dado"
   ]
  },
  {
   "cell_type": "code",
   "execution_count": 258,
   "metadata": {},
   "outputs": [
    {
     "name": "stdout",
     "output_type": "stream",
     "text": [
      "36\n"
     ]
    }
   ],
   "source": [
    "num = 25\n",
    "multiplos = []\n",
    "\n",
    "for i in range(num, num+4*3):\n",
    "    if i % 3 == 0:\n",
    "        multiplos.append(i)\n",
    "\n",
    "ultimo = multiplos[-1]\n",
    "anteultimo = multiplos[-2]\n",
    "\n",
    "if ultimo%5==0:\n",
    "    print(anteultimo)\n",
    "else:\n",
    "    print(ultimo)\n",
    "\n",
    "    "
   ]
  },
  {
   "cell_type": "code",
   "execution_count": null,
   "metadata": {},
   "outputs": [],
   "source": [
    "\n",
    "# que tengo que hacer?\n",
    "    # encontrar multiplos de 3\n",
    "    \n",
    "    # cuales multiplos de 3?\n",
    "        # los mayores a la variable inicial num\n",
    "        \n",
    "        # y cuantos multiplos de 3?\n",
    "            # 4\n",
    "            \n",
    "            "
   ]
  },
  {
   "cell_type": "code",
   "execution_count": 262,
   "metadata": {
    "scrolled": true
   },
   "outputs": [
    {
     "data": {
      "text/plain": [
       "[21,\n",
       " 24,\n",
       " 27,\n",
       " 30,\n",
       " 33,\n",
       " 36,\n",
       " 39,\n",
       " 42,\n",
       " 45,\n",
       " 48,\n",
       " 51,\n",
       " 54,\n",
       " 57,\n",
       " 60,\n",
       " 63,\n",
       " 66,\n",
       " 69,\n",
       " 72,\n",
       " 75,\n",
       " 78,\n",
       " 81,\n",
       " 84,\n",
       " 87,\n",
       " 90,\n",
       " 93,\n",
       " 96,\n",
       " 99]"
      ]
     },
     "execution_count": 262,
     "metadata": {},
     "output_type": "execute_result"
    }
   ],
   "source": [
    "num = 20\n",
    "\n",
    "inicio = 21\n",
    "list(range(inicio,100,3))"
   ]
  },
  {
   "cell_type": "code",
   "execution_count": null,
   "metadata": {},
   "outputs": [],
   "source": []
  },
  {
   "cell_type": "code",
   "execution_count": null,
   "metadata": {},
   "outputs": [],
   "source": []
  },
  {
   "cell_type": "code",
   "execution_count": null,
   "metadata": {},
   "outputs": [],
   "source": []
  },
  {
   "cell_type": "code",
   "execution_count": null,
   "metadata": {},
   "outputs": [],
   "source": []
  },
  {
   "cell_type": "code",
   "execution_count": 168,
   "metadata": {},
   "outputs": [
    {
     "name": "stdout",
     "output_type": "stream",
     "text": [
      "[[107.1, 107.1, 107.1, 106.95, 106.8], [106.8, 106.25, 106.25, 106.25, 106.1], [106.1, 106.0, 106.1, 106.5, 106.1], [106.3, 106.3, 106.3, 106.3, 106.3], [106.4, 106.4]]\n"
     ]
    }
   ],
   "source": [
    "# Solucion de Joaquin\n",
    "\n",
    "elementos=5\n",
    "sublistas=[]\n",
    "while len(precios) > elementos:\n",
    "    aux=precios[:elementos]\n",
    "    sublistas.append(aux)\n",
    "    precios=precios[elementos:]\n",
    "sublistas.append(precios) \n",
    "print(sublistas)\n"
   ]
  },
  {
   "cell_type": "code",
   "execution_count": null,
   "metadata": {},
   "outputs": [],
   "source": []
  },
  {
   "cell_type": "code",
   "execution_count": 172,
   "metadata": {},
   "outputs": [],
   "source": [
    "precios = [107.1, 107.1, 107.1, 106.95, 106.8, 106.8, 106.25, 106.25, 106.25, 106.1, 106.1, 106.0, 106.1, 106.5, \n",
    "           106.1, 106.3, 106.3, 106.3, 106.3, 106.3, 106.4, 106.4]"
   ]
  },
  {
   "cell_type": "code",
   "execution_count": 173,
   "metadata": {},
   "outputs": [
    {
     "name": "stdout",
     "output_type": "stream",
     "text": [
      "[[107.1, 107.1, 107.1], [106.95, 106.8, 106.8], [106.25, 106.25, 106.25], [106.1, 106.1, 106.0], [106.1, 106.5, 106.1], [106.3, 106.3, 106.3], [106.3, 106.3, 106.4], [106.4]]\n"
     ]
    }
   ],
   "source": [
    "a = 3 # Numero de grupo\n",
    "\n",
    "grupos = []\n",
    "\n",
    "for i in range(0, len(precios), a):\n",
    "    posicion = precios [i:i + a]\n",
    "    grupos.append(posicion) \n",
    "print(grupos)"
   ]
  },
  {
   "cell_type": "code",
   "execution_count": null,
   "metadata": {},
   "outputs": [],
   "source": []
  },
  {
   "cell_type": "code",
   "execution_count": null,
   "metadata": {},
   "outputs": [],
   "source": []
  },
  {
   "cell_type": "code",
   "execution_count": null,
   "metadata": {},
   "outputs": [],
   "source": []
  },
  {
   "cell_type": "code",
   "execution_count": 176,
   "metadata": {},
   "outputs": [
    {
     "name": "stdout",
     "output_type": "stream",
     "text": [
      "11\n",
      "Ya termine\n"
     ]
    }
   ],
   "source": [
    "a = 10\n",
    "b = 15\n",
    "\n",
    "if a < b:\n",
    "    a += 1\n",
    "    print(a)\n",
    "    \n",
    "print('Ya termine')"
   ]
  },
  {
   "cell_type": "code",
   "execution_count": 179,
   "metadata": {},
   "outputs": [
    {
     "name": "stdout",
     "output_type": "stream",
     "text": [
      "11\n",
      "12\n",
      "13\n",
      "14\n",
      "15\n",
      "Ya termine\n"
     ]
    }
   ],
   "source": [
    "a = 10\n",
    "b = 15\n",
    "\n",
    "while a < b:\n",
    "    a += 1\n",
    "    print(a)\n",
    "    \n",
    "print('Ya termine')"
   ]
  },
  {
   "cell_type": "code",
   "execution_count": null,
   "metadata": {},
   "outputs": [],
   "source": []
  },
  {
   "cell_type": "code",
   "execution_count": 184,
   "metadata": {},
   "outputs": [
    {
     "name": "stdout",
     "output_type": "stream",
     "text": [
      "Pasame tu  edadJuan\n",
      "termine lo anterior, sigo...\n"
     ]
    }
   ],
   "source": [
    "edad = input('Pasame tu  edad')\n",
    "\n",
    "try:\n",
    "    edad = int(edad)\n",
    "    print('La edad es', edad)\n",
    "except:\n",
    "    pass\n",
    "\n",
    "\n",
    "print('termine lo anterior, sigo...')"
   ]
  },
  {
   "cell_type": "code",
   "execution_count": null,
   "metadata": {},
   "outputs": [],
   "source": []
  },
  {
   "cell_type": "code",
   "execution_count": 186,
   "metadata": {
    "scrolled": true
   },
   "outputs": [
    {
     "name": "stdout",
     "output_type": "stream",
     "text": [
      "Pasame tu  edadJuan\n",
      "Ojo que me pasaste algo que o puedo convertir a entero\n",
      "La edad es Juan\n",
      "termine lo anterior, sigo...\n"
     ]
    }
   ],
   "source": [
    "edad = input('Pasame tu  edad')\n",
    "\n",
    "try:\n",
    "    edad = int(edad)\n",
    "except:\n",
    "    print('Ojo que me pasaste algo que o puedo convertir a entero')\n",
    "\n",
    "print('La edad es', edad)\n",
    "print('termine lo anterior, sigo...')"
   ]
  },
  {
   "cell_type": "code",
   "execution_count": null,
   "metadata": {},
   "outputs": [],
   "source": []
  },
  {
   "cell_type": "code",
   "execution_count": 187,
   "metadata": {
    "scrolled": true
   },
   "outputs": [
    {
     "name": "stdout",
     "output_type": "stream",
     "text": [
      "Pasame tu  edad43\n",
      "La edad el año que viene 44\n",
      "termine lo anterior, sigo...\n"
     ]
    }
   ],
   "source": [
    "edad = input('Pasame tu  edad')\n",
    "\n",
    "try:\n",
    "    edad = int(edad)\n",
    "    edad += 1\n",
    "except:\n",
    "    print('Ojo que me pasaste algo que o puedo convertir a entero')\n",
    "\n",
    "    \n",
    "print('La edad el año que viene', edad)\n",
    "print('termine lo anterior, sigo...')"
   ]
  },
  {
   "cell_type": "code",
   "execution_count": null,
   "metadata": {},
   "outputs": [],
   "source": []
  },
  {
   "cell_type": "code",
   "execution_count": 205,
   "metadata": {},
   "outputs": [
    {
     "name": "stdout",
     "output_type": "stream",
     "text": [
      "Ingresa el dato 120\n",
      "Te pasaste de rango..\n"
     ]
    }
   ],
   "source": [
    "topes = {'Bajo': 10, 'Medio':20, 'Alto':50, 'Muy Alto': 100}\n",
    "\n",
    "keys = list(topes.keys())\n",
    "values = list(topes.values())\n",
    "\n",
    "dato = int(input('Ingresa el dato '))\n",
    "\n",
    "\n",
    "if dato <= values[0]:\n",
    "    print('El rango es ', keys[0])\n",
    "    \n",
    "if dato <= values[1] and dato > values[0] :\n",
    "    print('El rango es ', keys[1])\n",
    "    \n",
    "if dato <= values[2] and dato > values[1] :\n",
    "    print('El rango es ', keys[2])\n",
    "    \n",
    "if dato <= values[3] and dato > values[2] :\n",
    "    print('El rango es ', keys[3])\n",
    "\n",
    "if dato > values[3]:\n",
    "    print('Te pasaste de rango..')\n"
   ]
  },
  {
   "cell_type": "code",
   "execution_count": 209,
   "metadata": {},
   "outputs": [
    {
     "name": "stdout",
     "output_type": "stream",
     "text": [
      "Ingresa el dato 3\n",
      "El rango es  Bajo\n"
     ]
    }
   ],
   "source": [
    "topes = {'Bajo': 10, 'Medio':20, 'Alto':50, 'Muy Alto': 100}\n",
    "\n",
    "keys = list(topes.keys())\n",
    "values = list(topes.values())\n",
    "\n",
    "dato = int(input('Ingresa el dato '))\n",
    "\n",
    "\n",
    "if dato <= values[0]:\n",
    "    print('El rango es ', keys[0])\n",
    "elif dato <= values[1]:\n",
    "    print('El rango es ', keys[1])\n",
    "elif dato <= values[2]:\n",
    "    print('El rango es ', keys[2])\n",
    "elif dato <= values[3]:\n",
    "    print('El rango es ', keys[3])\n",
    "else:\n",
    "    print('Te pasaste de rango..')\n"
   ]
  },
  {
   "cell_type": "code",
   "execution_count": null,
   "metadata": {},
   "outputs": [],
   "source": []
  },
  {
   "cell_type": "code",
   "execution_count": null,
   "metadata": {},
   "outputs": [],
   "source": []
  },
  {
   "cell_type": "code",
   "execution_count": 224,
   "metadata": {},
   "outputs": [
    {
     "name": "stdout",
     "output_type": "stream",
     "text": [
      "[('AAPL', 'BMA'), ('C', 'SPY'), ('AMZN', 'GOOGL')]\n"
     ]
    }
   ],
   "source": [
    "lista = [\"AAPL\",\"BMA\",\"C\",\"SPY\",\"AMZN\",\"GOOGL\"]\n",
    "\n",
    "#  0       1      2     3\n",
    "#  0,1    2,3    4,5   6,7\n",
    "\n",
    "lista1 = []\n",
    "\n",
    "for i in range(3):\n",
    "    lista1.append((lista[2*i],lista[2*i+1]))\n",
    "    \n",
    "print(lista1)"
   ]
  },
  {
   "cell_type": "code",
   "execution_count": null,
   "metadata": {},
   "outputs": [],
   "source": []
  },
  {
   "cell_type": "code",
   "execution_count": null,
   "metadata": {},
   "outputs": [],
   "source": [
    "parentesis: se usa para funciones, argumentos\n",
    "corchetes:Cse usa para ubicaciones dentro de listas y para...\n",
    "\n",
    "dos puntos: se usan siempre despues de los IF y de los FOR y los WHILE y try ... bloques\n",
    "dos puntos: para separar clave valor de un diccionario\n",
    "    \n",
    "punto: se usan para concatenar funciones de un objeto\n",
    "coma: se usa ara separar elementos de una lista"
   ]
  },
  {
   "cell_type": "code",
   "execution_count": null,
   "metadata": {},
   "outputs": [],
   "source": []
  },
  {
   "cell_type": "code",
   "execution_count": 245,
   "metadata": {},
   "outputs": [
    {
     "name": "stdout",
     "output_type": "stream",
     "text": [
      "Ingresa el dato 5\n",
      "0\n",
      "1\n",
      "2\n",
      "3\n",
      "El rango es  Bajo\n"
     ]
    }
   ],
   "source": [
    "topes = {'Bajo': 10, 'Medio':20, 'Alto':50, 'Muy Alto': 100}\n",
    "\n",
    "keys = list(topes.keys())\n",
    "values = list(topes.values())\n",
    "\n",
    "dato = int(input('Ingresa el dato '))\n",
    "\n",
    "for i in range(1,len(values)):\n",
    "    if dato <= values[i] and dato > values[i-1]:\n",
    "        print('El rango es ', keys[i])\n",
    "    \n",
    "\n",
    "if dato < values[0]:\n",
    "    print('El rango es ', keys[0])\n",
    "\n",
    "if dato > values[len(values)-1]:\n",
    "    print('Te pasaste de rango..')\n",
    "\n"
   ]
  },
  {
   "cell_type": "code",
   "execution_count": 226,
   "metadata": {},
   "outputs": [
    {
     "data": {
      "text/plain": [
       "100"
      ]
     },
     "execution_count": 226,
     "metadata": {},
     "output_type": "execute_result"
    }
   ],
   "source": [
    "values[3]"
   ]
  },
  {
   "cell_type": "code",
   "execution_count": 232,
   "metadata": {},
   "outputs": [
    {
     "data": {
      "text/plain": [
       "5"
      ]
     },
     "execution_count": 232,
     "metadata": {},
     "output_type": "execute_result"
    }
   ],
   "source": [
    "lista = [0,1,2,3,4,5]\n",
    "\n",
    "lista[-1]"
   ]
  },
  {
   "cell_type": "code",
   "execution_count": null,
   "metadata": {},
   "outputs": [],
   "source": []
  },
  {
   "cell_type": "code",
   "execution_count": null,
   "metadata": {},
   "outputs": [],
   "source": []
  }
 ],
 "metadata": {
  "kernelspec": {
   "display_name": "Python 3",
   "language": "python",
   "name": "python3"
  },
  "language_info": {
   "codemirror_mode": {
    "name": "ipython",
    "version": 3
   },
   "file_extension": ".py",
   "mimetype": "text/x-python",
   "name": "python",
   "nbconvert_exporter": "python",
   "pygments_lexer": "ipython3",
   "version": "3.7.4"
  },
  "varInspector": {
   "cols": {
    "lenName": 16,
    "lenType": 16,
    "lenVar": 40
   },
   "kernels_config": {
    "python": {
     "delete_cmd_postfix": "",
     "delete_cmd_prefix": "del ",
     "library": "var_list.py",
     "varRefreshCmd": "print(var_dic_list())"
    },
    "r": {
     "delete_cmd_postfix": ") ",
     "delete_cmd_prefix": "rm(",
     "library": "var_list.r",
     "varRefreshCmd": "cat(var_dic_list()) "
    }
   },
   "types_to_exclude": [
    "module",
    "function",
    "builtin_function_or_method",
    "instance",
    "_Feature"
   ],
   "window_display": false
  }
 },
 "nbformat": 4,
 "nbformat_minor": 4
}
