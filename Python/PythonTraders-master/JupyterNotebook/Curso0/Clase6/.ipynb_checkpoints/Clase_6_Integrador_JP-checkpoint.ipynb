{
 "cells": [
  {
   "cell_type": "markdown",
   "metadata": {},
   "source": [
    "# Ejercicio Integrador clase 6"
   ]
  },
  {
   "cell_type": "markdown",
   "metadata": {},
   "source": [
    "Dado el siguiente panel de precios, y la lista de inversores, armar un script que me genere una cartera de 3 acciones aletoriamente elegidas para cada inversor y calcular finalmente el rendimiento de cada inversor el día que se dieron las variaciones mostradas en el panel según las acciones de su cartera, suponiendo una ponderación flat, es decir 33.33% cada accion componente"
   ]
  },
  {
   "cell_type": "code",
   "execution_count": 20,
   "metadata": {},
   "outputs": [],
   "source": [
    "inversores = ['Dario','Lucas','Juanfer','Gonzalo']\n",
    "\n",
    "panel = {'ALUA': 1.57, 'BBAR': -1.86, 'BMA': 0.31, 'BYMA': -3.7, 'CEPU': 0, 'COME': 1.1, 'CRES': 1.23,\n",
    " 'CVH':  -0.97 , 'EDN': 1.23, 'GGAL': 1.83, 'MIRG': 3.95, 'PAMP': 2.76, 'SUPV': 0.89, 'TECO2': -0.46,\n",
    " 'TGNO4': -1.37, 'TGSU2': 4.08, 'TRAN': 0.36, 'TXAR': 1.1, 'VALO': -0.77, 'YPFD': -2.08}"
   ]
  },
  {
   "cell_type": "code",
   "execution_count": 18,
   "metadata": {},
   "outputs": [
    {
     "data": {
      "text/plain": [
       "['CVH', 'BYMA', 'CEPU']"
      ]
     },
     "execution_count": 18,
     "metadata": {},
     "output_type": "execute_result"
    }
   ],
   "source": [
    "import random\n",
    "cartera=[]\n",
    "panel = {'ALUA': 1.57, 'BBAR': -1.86, 'BMA': 0.31, 'BYMA': -3.7, 'CEPU': 0, 'COME': 1.1, 'CRES': 1.23,\n",
    " 'CVH':  -0.97 , 'EDN': 1.23, 'GGAL': 1.83, 'MIRG': 3.95, 'PAMP': 2.76, 'SUPV': 0.89, 'TECO2': -0.46,\n",
    " 'TGNO4': -1.37, 'TGSU2': 4.08, 'TRAN': 0.36, 'TXAR': 1.1, 'VALO': -0.77, 'YPFD': -2.08}\n",
    "for i in range(3):\n",
    "    cartera.append(random.choice(list(panel.keys())))\n",
    "cartera"
   ]
  },
  {
   "cell_type": "code",
   "execution_count": null,
   "metadata": {},
   "outputs": [],
   "source": []
  },
  {
   "cell_type": "markdown",
   "metadata": {},
   "source": [
    "### Ayudin\n",
    "\n",
    "\n",
    "* El resultado final es algo con la forma: \n",
    "          {'Dario': x.xx, 'Lucas': x.xx, 'Juanfer': x.xx, 'Gonzalo': x.xx}\n",
    "   \n",
    "* por lo tanto podria comenzar por algo como resultados = {}\n",
    "  \n",
    "* Y luego reccorrerse un FOR que itere a los inversores y por cada uno vaya agregando un resultado\n",
    "  \n",
    "* Para probar, que a todos los inversores le asignen resultado = 0 que les devuelva algo asi\n",
    "          {'Dario': 0 'Lucas': 0, 'Juanfer': 0, 'Gonzalo': 0}\n",
    "  \n",
    "* Si logran eso, ya tienen \"el esqueleto\" luego dentro de ese FOR habria que pensar como calcular ese rendimiento\n"
   ]
  },
  {
   "cell_type": "markdown",
   "metadata": {},
   "source": [
    "### Ayudin II"
   ]
  },
  {
   "cell_type": "markdown",
   "metadata": {},
   "source": [
    "Adentro de ese FOR.. punto 1, vayan probando metodos para elegir las 3 acciones al azar, solo eso, metanla en la variable acc_elegidas y tiren en la siguiente linea:\n",
    "    \n",
    "    print(acc_elegidas)\n",
    "    break"
   ]
  },
  {
   "cell_type": "markdown",
   "metadata": {},
   "source": [
    "Si ya llegaron hasta ahí, lo que sigue es obvio, hay que ir a buscar el rendimiento del día de cada una de esas acciones al panel y calcular el resultado como la suma de 1/3 del rendimiento de cada accion (ya que en ppio suponemos un portafolio flat)"
   ]
  },
  {
   "cell_type": "code",
   "execution_count": null,
   "metadata": {},
   "outputs": [],
   "source": []
  },
  {
   "cell_type": "code",
   "execution_count": null,
   "metadata": {},
   "outputs": [],
   "source": []
  },
  {
   "cell_type": "code",
   "execution_count": null,
   "metadata": {},
   "outputs": [],
   "source": []
  },
  {
   "cell_type": "code",
   "execution_count": 31,
   "metadata": {},
   "outputs": [
    {
     "name": "stdout",
     "output_type": "stream",
     "text": [
      "<class 'dict_keys'>\n",
      "<class 'dict'>\n"
     ]
    },
    {
     "data": {
      "text/plain": [
       "{'Dario': -0.61, 'Lucas': 0.29, 'Juanfer': 0.08, 'Gonzalo': -0.53}"
      ]
     },
     "execution_count": 31,
     "metadata": {},
     "output_type": "execute_result"
    }
   ],
   "source": [
    "#========================================#\n",
    "#      Respuesta portafolios flat        #\n",
    "#========================================#\n",
    "\n",
    "\n",
    "import random\n",
    "inversores = ['Dario','Lucas','Juanfer','Gonzalo']\n",
    "\n",
    "panel = {'ALUA': 1.57, 'BBAR': -1.86, 'BMA': 0.31, 'BYMA': -3.7, 'CEPU': 0, 'COME': 1.1, 'CRES': 1.23,\n",
    " 'CVH':  -0.97 , 'EDN': 1.23, 'GGAL': 1.83, 'MIRG': 3.95, 'PAMP': 2.76, 'SUPV': 0.89, 'TECO2': -0.46,\n",
    " 'TGNO4': -1.37, 'TGSU2': 4.08, 'TRAN': 0.36, 'TXAR': 1.1, 'VALO': -0.77, 'YPFD': -2.08}\n",
    "\n",
    "acciones = panel.keys()\n",
    "variaciones = panel.values()\n",
    "print(type(acciones))\n",
    "resultados = {}\n",
    "print(type(resultados))\n",
    "for i in range(len(inversores)):\n",
    "    acc_elegidas = random.sample(acciones,3)\n",
    "    \n",
    "    r = 0\n",
    "    for accion in acc_elegidas:\n",
    "        r=r+(panel[accion] / 3) #no me gusta el sugar coating,explico un poco: como accion\n",
    "        #va a ser algún key del diccionario panel, puede entrar con ese key a \"panel\" \n",
    "        #y buscar su value\n",
    "    resultados[inversores[i]] = round(r,2)\n",
    "\n",
    "resultados"
   ]
  },
  {
   "cell_type": "code",
   "execution_count": null,
   "metadata": {},
   "outputs": [],
   "source": []
  },
  {
   "cell_type": "code",
   "execution_count": null,
   "metadata": {},
   "outputs": [],
   "source": []
  },
  {
   "cell_type": "code",
   "execution_count": null,
   "metadata": {},
   "outputs": [],
   "source": []
  },
  {
   "cell_type": "markdown",
   "metadata": {},
   "source": [
    "# Una mas y no jodemos mas"
   ]
  },
  {
   "cell_type": "markdown",
   "metadata": {},
   "source": [
    ".... y si, la gracia es complicarla un poco\n",
    "\n",
    "Agregarle al ejercicio la lógica necesaria para que ademas de elegir 3 acciones al azar, se generen tambien ponderaciones al azar dentro de cada cartera, es decir que de las 3 acciones en lugar de pesar todas un 33.33% pesen por ejemplo 15%, 35%, 50% (siempre entre las 3 deben sumar 1 o 100% obviamente)"
   ]
  },
  {
   "cell_type": "code",
   "execution_count": null,
   "metadata": {},
   "outputs": [],
   "source": []
  },
  {
   "cell_type": "code",
   "execution_count": null,
   "metadata": {},
   "outputs": [],
   "source": []
  },
  {
   "cell_type": "code",
   "execution_count": null,
   "metadata": {},
   "outputs": [],
   "source": []
  },
  {
   "cell_type": "code",
   "execution_count": null,
   "metadata": {},
   "outputs": [],
   "source": []
  },
  {
   "cell_type": "code",
   "execution_count": null,
   "metadata": {},
   "outputs": [],
   "source": []
  },
  {
   "cell_type": "code",
   "execution_count": null,
   "metadata": {},
   "outputs": [],
   "source": []
  },
  {
   "cell_type": "markdown",
   "metadata": {},
   "source": [
    "### Ayudin"
   ]
  },
  {
   "cell_type": "markdown",
   "metadata": {},
   "source": [
    "Antes de romperse el bocho con esto de las ponderaciones ahi adentro de la logica anterior.. pensemos un poco\n",
    "\n",
    "Yo diria de pensarlo primero un ejericio aparte que simplemente consista en generar una lista de 3 numeros que sumen 1 o 100, una vez que tengan ese ejercicio resuelto, ahi volvemos a meter eso en la logica del ejercicio anterior"
   ]
  },
  {
   "cell_type": "code",
   "execution_count": null,
   "metadata": {},
   "outputs": [],
   "source": []
  },
  {
   "cell_type": "code",
   "execution_count": null,
   "metadata": {},
   "outputs": [],
   "source": []
  },
  {
   "cell_type": "code",
   "execution_count": null,
   "metadata": {},
   "outputs": [],
   "source": []
  },
  {
   "cell_type": "code",
   "execution_count": null,
   "metadata": {},
   "outputs": [],
   "source": []
  },
  {
   "cell_type": "code",
   "execution_count": null,
   "metadata": {},
   "outputs": [],
   "source": []
  },
  {
   "cell_type": "code",
   "execution_count": null,
   "metadata": {},
   "outputs": [],
   "source": []
  },
  {
   "cell_type": "code",
   "execution_count": 3,
   "metadata": {},
   "outputs": [
    {
     "data": {
      "text/plain": [
       "{'Dario': -0.6, 'Lucas': 1.7, 'Juanfer': 0.26, 'Gonzalo': 2.02}"
      ]
     },
     "execution_count": 3,
     "metadata": {},
     "output_type": "execute_result"
    }
   ],
   "source": [
    "import random, numpy as np\n",
    "\n",
    "acciones = panel.keys()\n",
    "variaciones = panel.values()\n",
    "\n",
    "resultados = {}\n",
    "for i in range(len(inversores)):\n",
    "    acc_elegdas = random.sample(acciones,3)\n",
    "    \n",
    "    pond = [random.random(),random.random(),random.random()]\n",
    "    pond = np.array(pond)/sum(pond)\n",
    "    r = 0\n",
    "    for nro_acc in range(len(acc_elegdas)):\n",
    "        r += panel[acc_elegdas[nro_acc]] * pond[nro_acc]\n",
    "\n",
    "    resultados[inversores[i]] = round(r,2)\n",
    "\n",
    "resultados"
   ]
  },
  {
   "cell_type": "code",
   "execution_count": null,
   "metadata": {},
   "outputs": [],
   "source": []
  },
  {
   "cell_type": "code",
   "execution_count": null,
   "metadata": {},
   "outputs": [],
   "source": []
  },
  {
   "cell_type": "code",
   "execution_count": null,
   "metadata": {},
   "outputs": [],
   "source": []
  },
  {
   "cell_type": "code",
   "execution_count": null,
   "metadata": {},
   "outputs": [],
   "source": []
  },
  {
   "cell_type": "code",
   "execution_count": null,
   "metadata": {},
   "outputs": [],
   "source": []
  },
  {
   "cell_type": "markdown",
   "metadata": {},
   "source": [
    "### Para los mas curiosos que quieran chusmear mejores maneras de resolver lo mismo"
   ]
  },
  {
   "cell_type": "code",
   "execution_count": 4,
   "metadata": {},
   "outputs": [
    {
     "data": {
      "text/plain": [
       "{'Dario': 0.66, 'Lucas': 1.68, 'Juanfer': 0.21, 'Gonzalo': -0.47}"
      ]
     },
     "execution_count": 4,
     "metadata": {},
     "output_type": "execute_result"
    }
   ],
   "source": [
    "import random, numpy as np\n",
    "\n",
    "resultados = {}\n",
    "for i in range(len(inversores)):\n",
    "    acc_elegdas = np.array(random.sample(list(panel.values()),3))    \n",
    "    pond = np.random.dirichlet(np.ones(3))\n",
    "    r = np.dot(acc_elegdas, pond)\n",
    "    resultados[inversores[i]] = round(r,2)\n",
    "\n",
    "resultados"
   ]
  },
  {
   "cell_type": "code",
   "execution_count": null,
   "metadata": {},
   "outputs": [],
   "source": []
  },
  {
   "cell_type": "code",
   "execution_count": null,
   "metadata": {},
   "outputs": [],
   "source": []
  },
  {
   "cell_type": "code",
   "execution_count": null,
   "metadata": {},
   "outputs": [],
   "source": []
  },
  {
   "cell_type": "code",
   "execution_count": null,
   "metadata": {},
   "outputs": [],
   "source": []
  }
 ],
 "metadata": {
  "kernelspec": {
   "display_name": "Python 3",
   "language": "python",
   "name": "python3"
  },
  "language_info": {
   "codemirror_mode": {
    "name": "ipython",
    "version": 3
   },
   "file_extension": ".py",
   "mimetype": "text/x-python",
   "name": "python",
   "nbconvert_exporter": "python",
   "pygments_lexer": "ipython3",
   "version": "3.7.4"
  },
  "varInspector": {
   "cols": {
    "lenName": 16,
    "lenType": 16,
    "lenVar": 40
   },
   "kernels_config": {
    "python": {
     "delete_cmd_postfix": "",
     "delete_cmd_prefix": "del ",
     "library": "var_list.py",
     "varRefreshCmd": "print(var_dic_list())"
    },
    "r": {
     "delete_cmd_postfix": ") ",
     "delete_cmd_prefix": "rm(",
     "library": "var_list.r",
     "varRefreshCmd": "cat(var_dic_list()) "
    }
   },
   "types_to_exclude": [
    "module",
    "function",
    "builtin_function_or_method",
    "instance",
    "_Feature"
   ],
   "window_display": false
  }
 },
 "nbformat": 4,
 "nbformat_minor": 4
}
