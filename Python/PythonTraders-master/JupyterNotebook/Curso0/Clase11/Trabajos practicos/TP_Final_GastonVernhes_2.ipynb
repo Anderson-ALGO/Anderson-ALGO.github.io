{
 "cells": [
  {
   "cell_type": "markdown",
   "metadata": {},
   "source": [
    "# TP Final - Gastón Vernhes"
   ]
  },
  {
   "cell_type": "markdown",
   "metadata": {},
   "source": [
    "### IDEA DE TRADING\n",
    "\n",
    "ESTRATEGIA CON CRUCE DE MEDIAS\n",
    "    \n",
    "    PASO 1: ver si hay alguna relacion del cruce de medias con los retornos\n",
    "    PASO 2: ver si el MACD y el RSI mejoran la estrategia"
   ]
  },
  {
   "cell_type": "markdown",
   "metadata": {},
   "source": [
    "### Indicadores a Utilizar\n",
    "\n",
    "    PASO 1\n",
    "    - Medias de 4, 8, 21, 42 periodos\n",
    "    - Los cruces de las EMA de 4, 8 y 21 nos van a dar los puntos de entrada y salida\n",
    "    - La EMA de 42 nos va a informar la tendencia actual más próxima\n",
    "    \n",
    "    PASO 2\n",
    "    - MACD\n",
    "    - RSI\n",
    " "
   ]
  },
  {
   "cell_type": "markdown",
   "metadata": {},
   "source": [
    "### Codigo en una Linea"
   ]
  },
  {
   "cell_type": "code",
   "execution_count": null,
   "metadata": {},
   "outputs": [],
   "source": [
    "# Eleccion del ticker \n",
    "import yfinance as yf\n",
    "import pandas as pd\n",
    "\n",
    "ticker = input('Ingrese el ticker: ')\n",
    "\n",
    "datos = yf.download (ticker)['Adj Close']\n",
    "\n",
    "# ---------------------------------------------------------------\n",
    "\n",
    "# Calculo las medias a utilizar para la estrategia\n",
    "adj_close = yf.download (ticker)['Adj Close']\n",
    "ema4 = yf.download (ticker)['Adj Close'].rolling(4).mean()\n",
    "ema8 = yf.download (ticker)['Adj Close'].rolling(8).mean()\n",
    "ema21 = yf.download (ticker)['Adj Close'].rolling(21).mean()\n",
    "ema42 = yf.download (ticker)['Adj Close'].rolling(42).mean()\n",
    "\n",
    "# ---------------------------------------------------------------\n",
    "\n",
    "# Pongo las medias dentro de un DataFrame y nombro las columnas\n",
    "medias = pd.concat([adj_close, ema4, ema8, ema21, ema42], join = 'outer', axis = 1)\n",
    "medias.columns = ('Adj Close','ema4', 'ema8', 'ema21', 'ema42')\n",
    "medias.reset_index (inplace = True)   #reseteo el indice para que quede numerado desde el 0 hasta la ultima fila\n",
    "\n",
    "\n",
    "# Condiciones de los Cruces de Medias: cuándo la media está por encima de la otra\n",
    "\n",
    "medias ['ema4_ema8'] = medias['ema4'] > medias['ema8']     #CONDICION 1: es igual a True si ema4 > ema 8, sino False\n",
    "medias ['ema8_ema21'] = medias['ema8'] > medias['ema21']    #CONDICION 2: es igual a True si ema8 > ema 21, sino False\n",
    "medias ['ema21_ema42'] = medias['ema21'] > medias['ema42']   #CONDICION 3: es igual a True si ema21 > ema 42, sino False\n",
    "\n",
    "# ---------------------------------------------------------------\n",
    "\n",
    "# Armo la columna \"ACCION\", que va a indicar qué hacer con el activo a cada fecha (comprar, mantener, vender, quedarse afuera)\n",
    "\n",
    "for i in range(1, len(medias)):   #se pone desde 1 xq se busca el elemento i-1, entonces con i=0 nos quedamos fuera del rango\n",
    "    \n",
    "    #Condicion para compra: ema8 cruce al alza a ema21, ema4 > ema 8, ema21 > ema42\n",
    "    if (medias.loc[i,'ema8_ema21'] == True) and (medias.loc[i-1,'ema8_ema21'] == False) and (medias.loc[i,'ema4_ema8'] == True) and (medias.loc[i,'ema21_ema42'] == True):\n",
    "        \n",
    "        medias.loc[i,'accion'] = \"Comprar\"\n",
    "        \n",
    "    #Condicion para mantener el \"long\": ema8 se mantiene arriba de ema21, ema4 > ema 8, ema21 > ema42        \n",
    "    elif (medias.loc[i,'ema8_ema21'] == True) and (medias.loc[i-1,'ema8_ema21'] == True) and (medias.loc[i,'ema4_ema8'] == True) and (medias.loc[i,'ema21_ema42'] == True):\n",
    "        \n",
    "        medias.loc[i,'accion'] = \"Mantener\"\n",
    "\n",
    "    #Condicion para  vender: ema4 cruce a la baja a ema8, ema8 > ema 21, ema21 > ema42        \n",
    "    elif (medias.loc[i,'ema4_ema8'] == False) and (medias.loc[i-1,'ema4_ema8'] == True) and (medias.loc[i,'ema8_ema21'] == True) and (medias.loc[i,'ema21_ema42'] == True):\n",
    "        \n",
    "        medias.loc[i,'accion'] = \"Vender\"\n",
    "        \n",
    "    else: \n",
    "        medias.loc[i,'accion'] = \"No operar\"\n",
    "\n",
    "# ---------------------------------------------------------------\n",
    "\n",
    "# Cuenta la cantidad de (comprar, vender, mantener, quedarse afuera) que se dieron\n",
    "print (' ')\n",
    "print ('La cantidad de dias con las siguientes acciones son:')\n",
    "print(medias['accion'].value_counts())\n",
    "print (' ')\n",
    "\n",
    "# ---------------------------------------------------------------\n",
    "\n",
    "# Calculo el RSI\n",
    "import numpy as np\n",
    "\n",
    "ruedas = 14\n",
    "\n",
    "medias['dif'] = medias['Adj Close'].diff()\n",
    "medias['win'] = np.where(medias['dif'] > 0, medias['dif'], 0)\n",
    "medias['loss'] = np.where(medias['dif'] < 0, abs(medias['dif']), 0)\n",
    "medias['ema_win'] = medias.win.ewm(alpha=1/ruedas).mean()\n",
    "medias['ema_loss'] = medias.loss.ewm(alpha=1/ruedas).mean()\n",
    "medias['rs'] = medias.ema_win / medias.ema_loss\n",
    "medias['rsi'] = 100 - (100 / (1+medias.rs))\n",
    "medias #= medias.reset_index().dropna().round(2)\n",
    "\n",
    "# ---------------------------------------------------------------\n",
    "\n",
    "# Calculo el MACD\n",
    "slow = 26\n",
    "fast = 12\n",
    "suavizado = 9\n",
    "\n",
    "medias['ema_fast'] = medias['Adj Close'].ewm(span=fast).mean()\n",
    "medias['ema_slow'] = medias['Adj Close'].ewm(span=slow).mean()\n",
    "medias['macd'] = medias.ema_fast - medias.ema_slow\n",
    "medias['signal'] = medias.macd.ewm(span=suavizado).mean()\n",
    "medias['histograma'] = medias.macd - medias.signal\n",
    "\n",
    "pd.options.display.max_columns = None\n",
    "medias #= medias.dropna().round(2)\n",
    "\n",
    "# ---------------------------------------------------------------\n",
    "\n",
    "# Tomo del DataFrame solo las filas con los dias de Compra y los de Venta\n",
    "\n",
    "medias_cv = medias[(medias.accion == 'Vender') | (medias.accion == 'Comprar')]  # el simbolo \"|\" significo \"o\"\n",
    "medias_cv.reset_index(inplace = True)\n",
    "\n",
    "\n",
    "# ---------------------------------------------------------------\n",
    "\n",
    "# Calculo la variacion entre las filas \"Vender\" que tiene como fila anterior a \"Comprar\"\n",
    "#         Aclaracion: la compra es cuando ema8 > ema 21, pero la venta es cuando ema4 < ema8, por eso hay varias filas indicando vender pero hay menos filas indicando comprar\n",
    "\n",
    "for i in range(1, len(medias_cv)):\n",
    "\n",
    "    if (medias_cv.loc[i,'accion'] == 'Vender') and (medias_cv.loc[i-1,'accion'] == 'Comprar'):\n",
    "        \n",
    "        medias_cv.loc[i,'variacion'] = (medias_cv.loc[i,'Adj Close'] / medias_cv.loc[i-1,'Adj Close'] - 1) * 100\n",
    "        \n",
    "\n",
    "\n",
    "# ---------------------------------------------------------------\n",
    "\n",
    "#Nos quedamos solo con las filas que tiene calculada la \"variacion porcentual\"\n",
    "\n",
    "pd.options.display.max_rows = 20\n",
    "\n",
    "medias_cv_parcial = medias_cv.dropna()\n",
    "\n",
    "\n",
    "# ---------------------------------------------------------------\n",
    "\n",
    "# Imprimimos el promedio, la mediana, el minimo y el maximo de los retornos\n",
    "\n",
    "print ('Los datos de los retornos son: ')\n",
    "print('El promedio es: ', round(medias_cv_parcial.variacion.mean(),2))\n",
    "print('La mediana es: ', round(medias_cv_parcial.variacion.median(),2))\n",
    "print('El mínimo es: ', round(medias_cv_parcial.variacion.min(),2))\n",
    "print('El maximo es: ', round(medias_cv_parcial.variacion.max(),2))\n",
    "print('*Los datos están en porcentaje')\n",
    "print (' ')\n",
    "\n",
    "# ---------------------------------------------------------------\n",
    "\n",
    "#Hacemos un histograma de la variacion para ver como son las variaciones\n",
    "\n",
    "print ('Grafico 1: Histograma - Retornos ')\n",
    "\n",
    "medias_cv_parcial.variacion.plot(kind='hist', bins=100)\n",
    "\n",
    "# ---------------------------------------------------------------\n",
    "\n",
    "\n",
    "# Graficamos los Retornos con el RSI, para ver si hay alguna relacion\n",
    "\n",
    "print ('Grafico 2: Relacion entre la variacion de los retornos y el RSI')\n",
    "\n",
    "var_rsi= pd.concat([medias_cv_parcial['variacion'],medias_cv_parcial['rsi']], axis=1)\n",
    "\n",
    "var_rsi.plot('variacion', 'rsi', s=1, kind='scatter')\n",
    "\n",
    "\n",
    "# ---------------------------------------------------------------\n",
    "\n",
    "# Graficamos los Retornos con el MACD, para ver si hay alguna relacion\n",
    "\n",
    "print ('Grafico 3: Relacion entre la variacion de los retornos y el MACD')\n",
    "\n",
    "var_macd= pd.concat([medias_cv_parcial['variacion'],medias_cv_parcial['histograma']], axis=1)\n",
    "\n",
    "var_macd.plot('variacion', 'histograma', s=1, kind='scatter')\n",
    "\n",
    "print (' ')\n",
    "\n",
    "# ---------------------------------------------------------------\n"
   ]
  },
  {
   "cell_type": "markdown",
   "metadata": {},
   "source": [
    "### ------------------------------------------------------------------------------------------------------"
   ]
  },
  {
   "cell_type": "markdown",
   "metadata": {},
   "source": [
    "### Codigo separado en diferentes lineas"
   ]
  },
  {
   "cell_type": "code",
   "execution_count": null,
   "metadata": {},
   "outputs": [],
   "source": [
    "import yfinance as yf\n",
    "import pandas as pd\n",
    "\n",
    "ticker = input('Ingrese el ticker: ')\n",
    "\n",
    "datos = yf.download (ticker)['Adj Close']"
   ]
  },
  {
   "cell_type": "code",
   "execution_count": null,
   "metadata": {},
   "outputs": [],
   "source": [
    "#Calculo las medias a utilizar para la estrategia\n",
    "adj_close = yf.download (ticker)['Adj Close']\n",
    "ema4 = yf.download (ticker)['Adj Close'].rolling(4).mean()\n",
    "ema8 = yf.download (ticker)['Adj Close'].rolling(8).mean()\n",
    "ema21 = yf.download (ticker)['Adj Close'].rolling(21).mean()\n",
    "ema42 = yf.download (ticker)['Adj Close'].rolling(42).mean()\n"
   ]
  },
  {
   "cell_type": "code",
   "execution_count": null,
   "metadata": {},
   "outputs": [],
   "source": [
    "#pongo las medias dentro de un DataFrame y nombro las columnas\n",
    "medias = pd.concat([adj_close, ema4, ema8, ema21, ema42], join = 'outer', axis = 1)\n",
    "medias.columns = ('Adj Close','ema4', 'ema8', 'ema21', 'ema42')\n",
    "medias.reset_index (inplace = True)   #reseteo el indice para que quede numerado desde el 0 hasta la ultima fila\n",
    "\n",
    "\n",
    "#Condiciones de los Cruces de Medias: cuándo la media está por encima de la otra\n",
    "\n",
    "medias ['ema4_ema8'] = medias['ema4'] > medias['ema8']     #CONDICION 1: es igual a True si ema4 > ema 8, sino False\n",
    "medias ['ema8_ema21'] = medias['ema8'] > medias['ema21']    #CONDICION 2: es igual a True si ema8 > ema 21, sino False\n",
    "medias ['ema21_ema42'] = medias['ema21'] > medias['ema42']   #CONDICION 3: es igual a True si ema21 > ema 42, sino False\n",
    "\n",
    "\n",
    "medias"
   ]
  },
  {
   "cell_type": "code",
   "execution_count": null,
   "metadata": {},
   "outputs": [],
   "source": [
    "#Armo la columna \"ACCION\", que va a indicar qué hacer con el activo a cada fecha (comprar, mantener, vender, quedarse afuera)\n",
    "\n",
    "for i in range(1, len(medias)):   #se pone desde 1 xq se busca el elemento i-1, entonces con i=0 nos quedamos fuera del rango\n",
    "    \n",
    "    #Condicion para compra: ema8 cruce al alza a ema21, ema4 > ema 8, ema21 > ema42\n",
    "    if (medias.loc[i,'ema8_ema21'] == True) and (medias.loc[i-1,'ema8_ema21'] == False) and (medias.loc[i,'ema4_ema8'] == True) and (medias.loc[i,'ema21_ema42'] == True):\n",
    "        \n",
    "        medias.loc[i,'accion'] = \"Comprar\"\n",
    "        \n",
    "    #Condicion para mantener el \"long\": ema8 se mantiene arriba de ema21, ema4 > ema 8, ema21 > ema42        \n",
    "    elif (medias.loc[i,'ema8_ema21'] == True) and (medias.loc[i-1,'ema8_ema21'] == True) and (medias.loc[i,'ema4_ema8'] == True) and (medias.loc[i,'ema21_ema42'] == True):\n",
    "        \n",
    "        medias.loc[i,'accion'] = \"Mantener\"\n",
    "\n",
    "    #Condicion para  vender: ema4 cruce a la baja a ema8, ema8 > ema 21, ema21 > ema42        \n",
    "    elif (medias.loc[i,'ema4_ema8'] == False) and (medias.loc[i-1,'ema4_ema8'] == True) and (medias.loc[i,'ema8_ema21'] == True) and (medias.loc[i,'ema21_ema42'] == True):\n",
    "        \n",
    "        medias.loc[i,'accion'] = \"Vender\"\n",
    "        \n",
    "    else: \n",
    "        medias.loc[i,'accion'] = \"Quedarse Afuera\"\n",
    "\n",
    "        \n",
    "medias"
   ]
  },
  {
   "cell_type": "code",
   "execution_count": null,
   "metadata": {},
   "outputs": [],
   "source": [
    "#Cantidad de Oportunidades de compra \n",
    "\n",
    "print(medias['accion'].value_counts())"
   ]
  },
  {
   "cell_type": "markdown",
   "metadata": {},
   "source": [
    "### Calculo el RSI"
   ]
  },
  {
   "cell_type": "code",
   "execution_count": null,
   "metadata": {},
   "outputs": [],
   "source": [
    "#RSI\n",
    "import numpy as np\n",
    "\n",
    "ruedas = 14\n",
    "\n",
    "medias['dif'] = medias['Adj Close'].diff()\n",
    "medias['win'] = np.where(medias['dif'] > 0, medias['dif'], 0)\n",
    "medias['loss'] = np.where(medias['dif'] < 0, abs(medias['dif']), 0)\n",
    "medias['ema_win'] = medias.win.ewm(alpha=1/ruedas).mean()\n",
    "medias['ema_loss'] = medias.loss.ewm(alpha=1/ruedas).mean()\n",
    "medias['rs'] = medias.ema_win / medias.ema_loss\n",
    "medias['rsi'] = 100 - (100 / (1+medias.rs))\n",
    "medias #= medias.reset_index().dropna().round(2)\n",
    "\n",
    "medias"
   ]
  },
  {
   "cell_type": "markdown",
   "metadata": {},
   "source": [
    "### Calculo el MACD"
   ]
  },
  {
   "cell_type": "code",
   "execution_count": null,
   "metadata": {},
   "outputs": [],
   "source": [
    "    \n",
    "slow = 26\n",
    "fast = 12\n",
    "suavizado = 9\n",
    "\n",
    "medias['ema_fast'] = medias['Adj Close'].ewm(span=fast).mean()\n",
    "medias['ema_slow'] = medias['Adj Close'].ewm(span=slow).mean()\n",
    "medias['macd'] = medias.ema_fast - medias.ema_slow\n",
    "medias['signal'] = medias.macd.ewm(span=suavizado).mean()\n",
    "medias['histograma'] = medias.macd - medias.signal\n",
    "\n",
    "pd.options.display.max_columns = None\n",
    "medias #= medias.dropna().round(2)"
   ]
  },
  {
   "cell_type": "markdown",
   "metadata": {},
   "source": [
    "#### Me quedo con las filas de la tabla que tengan en la columna \"Accion\" las palabras \"Comprar\" y \"Vender\""
   ]
  },
  {
   "cell_type": "code",
   "execution_count": null,
   "metadata": {},
   "outputs": [],
   "source": [
    "#imprimir el DataFrame solo con los dias de Compra y los de Venta\n",
    "\n",
    "medias_cv = medias[(medias.accion == 'Vender') | (medias.accion == 'Comprar')]  # el simbolo \"|\" significo \"o\"\n",
    "medias_cv.reset_index(inplace = True)\n",
    "medias_cv"
   ]
  },
  {
   "cell_type": "code",
   "execution_count": null,
   "metadata": {},
   "outputs": [],
   "source": [
    "#calculo la variacion entre las filas \"Vender\" que tiene como fila anterior a \"Comprar\"\n",
    "\n",
    "for i in range(1, len(medias_cv)):\n",
    "\n",
    "    if (medias_cv.loc[i,'accion'] == 'Vender') and (medias_cv.loc[i-1,'accion'] == 'Comprar'):\n",
    "        \n",
    "        medias_cv.loc[i,'variacion'] = (medias_cv.loc[i,'Adj Close'] / medias_cv.loc[i-1,'Adj Close'] - 1) * 100\n",
    "        \n",
    "medias_cv"
   ]
  },
  {
   "cell_type": "code",
   "execution_count": null,
   "metadata": {},
   "outputs": [],
   "source": [
    "#desplegamos toda la tabla para ver si está bien calculado\n",
    "\n",
    "pd.options.display.max_columns = None\n",
    "pd.options.display.max_rows = None\n",
    "medias_cv"
   ]
  },
  {
   "cell_type": "code",
   "execution_count": null,
   "metadata": {},
   "outputs": [],
   "source": [
    "#Nos quedamos solo con las filas que tiene calculada la \"variacion porcentual\"\n",
    "\n",
    "pd.options.display.max_rows = 20\n",
    "\n",
    "medias_cv_parcial = medias_cv.dropna()\n",
    "medias_cv_parcial"
   ]
  },
  {
   "cell_type": "code",
   "execution_count": null,
   "metadata": {
    "scrolled": true
   },
   "outputs": [],
   "source": [
    "#Hacemos un histograma de la variacion para ver como son las variaciones\n",
    "\n",
    "medias_cv_parcial.variacion.plot(kind='hist', bins=100)"
   ]
  },
  {
   "cell_type": "code",
   "execution_count": null,
   "metadata": {},
   "outputs": [],
   "source": [
    "print('El promedio es: ', round(medias_cv_parcial.variacion.mean(),2))\n",
    "print('La mediana es: ', round(medias_cv_parcial.variacion.median(),2))\n",
    "print('El mínimo es: ', round(medias_cv_parcial.variacion.min(),2))\n",
    "print('El maximo es: ', round(medias_cv_parcial.variacion.max(),2))\n",
    "print('*Los datos están en porcentaje')"
   ]
  },
  {
   "cell_type": "code",
   "execution_count": null,
   "metadata": {},
   "outputs": [],
   "source": [
    "#Junto los Retornos con el RSI\n",
    "\n",
    "var_rsi= pd.concat([medias_cv_parcial['variacion'],medias_cv_parcial['rsi']], axis=1)\n",
    "\n",
    "var_rsi.plot('variacion', 'rsi', s=1, kind='scatter')"
   ]
  },
  {
   "cell_type": "code",
   "execution_count": null,
   "metadata": {},
   "outputs": [],
   "source": [
    "#Junto los Retornos con el MACD\n",
    "\n",
    "var_macd= pd.concat([medias_cv_parcial['variacion'],medias_cv_parcial['histograma']], axis=1)\n",
    "\n",
    "var_macd.plot('variacion', 'histograma', s=1, kind='scatter')"
   ]
  }
 ],
 "metadata": {
  "kernelspec": {
   "display_name": "Python 3",
   "language": "python",
   "name": "python3"
  },
  "language_info": {
   "codemirror_mode": {
    "name": "ipython",
    "version": 3
   },
   "file_extension": ".py",
   "mimetype": "text/x-python",
   "name": "python",
   "nbconvert_exporter": "python",
   "pygments_lexer": "ipython3",
   "version": "3.7.6"
  }
 },
 "nbformat": 4,
 "nbformat_minor": 4
}
