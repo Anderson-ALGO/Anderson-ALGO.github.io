{
 "cells": [
  {
   "cell_type": "code",
   "execution_count": 1,
   "metadata": {},
   "outputs": [
    {
     "name": "stdout",
     "output_type": "stream",
     "text": [
      "[*********************100%***********************]  1 of 1 completed\n",
      "                 Open       High         Low       Close   Adj Close    Volume\n",
      "Date                                                                          \n",
      "2012-10-03  1050.0000  1400.0000  1050.00000  1400.00000  1400.00000         2\n",
      "2012-10-04  1400.0000  1400.0000  1400.00000  1400.00000  1400.00000         0\n",
      "2012-10-05  1400.0000  1400.0000  1400.00000  1400.00000  1400.00000         0\n",
      "2012-10-08  1400.0000  1400.0000  1400.00000  1400.00000  1400.00000         0\n",
      "2012-10-09  1400.0000  1400.0000  1400.00000  1400.00000  1400.00000         0\n",
      "...               ...        ...         ...         ...         ...       ...\n",
      "2020-08-31     0.0004     0.0004     0.00020     0.00020     0.00020  33474603\n",
      "2020-09-01     0.0002     0.0003     0.00020     0.00030     0.00030  12789849\n",
      "2020-09-02     0.0002     0.0003     0.00020     0.00020     0.00020  48154999\n",
      "2020-09-03     0.0002     0.0003     0.00020     0.00025     0.00025  63075808\n",
      "2020-09-04     0.0003     0.0003     0.00025     0.00030     0.00030    730056\n",
      "\n",
      "[1994 rows x 6 columns]\n"
     ]
    }
   ],
   "source": [
    "import yfinance\n",
    "\n",
    "data=yfinance.download(\"MFST\")\n",
    "print(data)"
   ]
  }
 ],
 "metadata": {
  "kernelspec": {
   "display_name": "Python 3",
   "language": "python",
   "name": "python3"
  },
  "language_info": {
   "codemirror_mode": {
    "name": "ipython",
    "version": 3
   },
   "file_extension": ".py",
   "mimetype": "text/x-python",
   "name": "python",
   "nbconvert_exporter": "python",
   "pygments_lexer": "ipython3",
   "version": "3.7.4"
  }
 },
 "nbformat": 4,
 "nbformat_minor": 2
}
