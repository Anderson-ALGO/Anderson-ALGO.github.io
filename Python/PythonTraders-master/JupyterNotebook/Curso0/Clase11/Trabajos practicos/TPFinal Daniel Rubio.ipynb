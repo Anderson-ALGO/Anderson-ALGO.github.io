{
 "cells": [
  {
   "cell_type": "code",
   "execution_count": 1,
   "metadata": {},
   "outputs": [],
   "source": [
    "# Los TIPS (Treasury Inflation-Protected Securities), son bonos ligados a la inflación, emitidos y garantizados por el Gobierno de Estados Unidos (u otro estado).\n",
    "# Los Bonos ligados a la inflación, son activos de renta fija de mínimo riesgo. País emisor. Están diseñados para proteger a los inversores de pérdidas por subidas en la inflación.\n",
    "# Rentabilidad:\n",
    "# •\tUn interés fijo. (más la tasa de riesgo del país emisor).\n",
    "# •\tEl ajuste del nominal a la tasa de inflación real: Bienes y servicios.\n",
    "\n",
    "# ¿Cómo reacciona un bono frente a la aumento o baja de la tasa de interés?\n",
    "# Si la FED baja la tasa los bonos suben su valor. Pasa lo contrario si la mantiene.\n",
    "\n",
    "# Tasa de interés e inflación están relacionados directamente, normalmente ante un aumento de inflación la  FED debería aumentar la tasa para sacar liquidez.\n",
    "\n",
    "# ¿Cómo operar tácticamente a través de los Bonos ligados a la inflación?\n",
    " \n",
    "# A través de los bonos ligados a la inflación podemos obtener la expectativa de inflación para el próximo año. Por ejemplo:\n",
    "# Si el bono del Tesoro de US a 10 años tiene un rendimiento a vencimiento del 5% y un TIPS similar tiene un precio con una TIR del 2,5%, la expectativa de inflación implícita que asigna el mercado es del 2,5%.\n",
    "\n",
    "# “Por lo tanto, si intuimos que la inflación va a ser mayor al 2,5% compraremos TIPS, si por el contrario pensamos que va a ser menor, esperaremos a que bajen, o compraremos bonos del tesoro.”\n",
    "\n",
    "# “La tasa de interés e inflación guardan relación. Normalmente ante un aumento de inflación sobre un nivel preestablecido la FED aumentar los tipos para absorber liquidez”\n"
   ]
  },
  {
   "cell_type": "code",
   "execution_count": 2,
   "metadata": {},
   "outputs": [],
   "source": [
    "import yfinance as yf\n",
    "import pandas as pd\n",
    "\n",
    "path_file_ponderacion=\"Ponderacion_Fangs.csv\"\n",
    "intervalo_activo=\"1d\"\n",
    "lista_Techs=[\"FB\",\"AAPL\",\"AMZN\",\"GOOGL\"]\n",
    "\n",
    "\n",
    "dic_rangos={}\n",
    "dic_rangos[\"largo\"]={\"inicio\":\"2018-06-28\",\"final\":\"2020-08-12\"}\n",
    "\n",
    "\n",
    "def descarga_acond(lista, intervalo, un_rango):\n",
    "    comienzo=un_rango[\"inicio\"]\n",
    "    final=un_rango[\"final\"]\n",
    "    df=yf.download(tickers=lista,interval=intervalo,start=comienzo,end=final)\n",
    "    df.drop([\"Close\",\"High\",\"Low\",\"Open\",\"Volume\"], axis=1, inplace=True)\n",
    "    df=df.round(2)\n",
    "    df=df.loc[:,\"Adj Close\"]\n",
    "    return df\n",
    "\n",
    "def lectura_ponderacion_Fangs(path_file):\n",
    "    df=pd.read_csv(path_file, sep=\";\")\n",
    "    df.set_index(\"ticker\", inplace=True)\n",
    "    mayor_ponderacion =df.loc[:,\"weight\"].max()\n",
    "    df[\"norm_pond\"]=df[\"weight\"]/(mayor_ponderacion)\n",
    "    df.round(2)\n",
    "    return df"
   ]
  },
  {
   "cell_type": "code",
   "execution_count": 3,
   "metadata": {},
   "outputs": [
    {
     "name": "stdout",
     "output_type": "stream",
     "text": [
      "[*********************100%***********************]  4 of 4 completed\n",
      "[*********************100%***********************]  1 of 1 completed\n"
     ]
    }
   ],
   "source": [
    "data=descarga_acond(lista_Techs,intervalo_activo, dic_rangos[\"largo\"])\n",
    "data_tip=descarga_acond(['TIP'],intervalo_activo, dic_rangos[\"largo\"])\n",
    "df_ponderacion= lectura_ponderacion_Fangs(path_file_ponderacion)\n"
   ]
  },
  {
   "cell_type": "code",
   "execution_count": 4,
   "metadata": {},
   "outputs": [
    {
     "data": {
      "text/html": [
       "<div>\n",
       "<style scoped>\n",
       "    .dataframe tbody tr th:only-of-type {\n",
       "        vertical-align: middle;\n",
       "    }\n",
       "\n",
       "    .dataframe tbody tr th {\n",
       "        vertical-align: top;\n",
       "    }\n",
       "\n",
       "    .dataframe thead th {\n",
       "        text-align: right;\n",
       "    }\n",
       "</style>\n",
       "<table border=\"1\" class=\"dataframe\">\n",
       "  <thead>\n",
       "    <tr style=\"text-align: right;\">\n",
       "      <th></th>\n",
       "      <th>FB</th>\n",
       "      <th>AAPL</th>\n",
       "      <th>AMZN</th>\n",
       "      <th>GOOGL</th>\n",
       "    </tr>\n",
       "    <tr>\n",
       "      <th>Date</th>\n",
       "      <th></th>\n",
       "      <th></th>\n",
       "      <th></th>\n",
       "      <th></th>\n",
       "    </tr>\n",
       "  </thead>\n",
       "  <tbody>\n",
       "    <tr>\n",
       "      <th>2018-06-28</th>\n",
       "      <td>66.0</td>\n",
       "      <td>180.0</td>\n",
       "      <td>1202.0</td>\n",
       "      <td>274.0</td>\n",
       "    </tr>\n",
       "    <tr>\n",
       "      <th>2018-06-29</th>\n",
       "      <td>65.0</td>\n",
       "      <td>180.0</td>\n",
       "      <td>1201.0</td>\n",
       "      <td>274.0</td>\n",
       "    </tr>\n",
       "    <tr>\n",
       "      <th>2018-07-02</th>\n",
       "      <td>66.0</td>\n",
       "      <td>182.0</td>\n",
       "      <td>1211.0</td>\n",
       "      <td>278.0</td>\n",
       "    </tr>\n",
       "    <tr>\n",
       "      <th>2018-07-03</th>\n",
       "      <td>65.0</td>\n",
       "      <td>179.0</td>\n",
       "      <td>1197.0</td>\n",
       "      <td>271.0</td>\n",
       "    </tr>\n",
       "    <tr>\n",
       "      <th>2018-07-05</th>\n",
       "      <td>67.0</td>\n",
       "      <td>180.0</td>\n",
       "      <td>1201.0</td>\n",
       "      <td>277.0</td>\n",
       "    </tr>\n",
       "    <tr>\n",
       "      <th>...</th>\n",
       "      <td>...</td>\n",
       "      <td>...</td>\n",
       "      <td>...</td>\n",
       "      <td>...</td>\n",
       "    </tr>\n",
       "    <tr>\n",
       "      <th>2020-08-05</th>\n",
       "      <td>84.0</td>\n",
       "      <td>439.0</td>\n",
       "      <td>2265.0</td>\n",
       "      <td>359.0</td>\n",
       "    </tr>\n",
       "    <tr>\n",
       "      <th>2020-08-06</th>\n",
       "      <td>89.0</td>\n",
       "      <td>455.0</td>\n",
       "      <td>2279.0</td>\n",
       "      <td>366.0</td>\n",
       "    </tr>\n",
       "    <tr>\n",
       "      <th>2020-08-07</th>\n",
       "      <td>90.0</td>\n",
       "      <td>444.0</td>\n",
       "      <td>2238.0</td>\n",
       "      <td>364.0</td>\n",
       "    </tr>\n",
       "    <tr>\n",
       "      <th>2020-08-10</th>\n",
       "      <td>88.0</td>\n",
       "      <td>451.0</td>\n",
       "      <td>2224.0</td>\n",
       "      <td>364.0</td>\n",
       "    </tr>\n",
       "    <tr>\n",
       "      <th>2020-08-11</th>\n",
       "      <td>86.0</td>\n",
       "      <td>438.0</td>\n",
       "      <td>2177.0</td>\n",
       "      <td>360.0</td>\n",
       "    </tr>\n",
       "  </tbody>\n",
       "</table>\n",
       "<p>534 rows × 4 columns</p>\n",
       "</div>"
      ],
      "text/plain": [
       "              FB   AAPL    AMZN  GOOGL\n",
       "Date                                  \n",
       "2018-06-28  66.0  180.0  1202.0  274.0\n",
       "2018-06-29  65.0  180.0  1201.0  274.0\n",
       "2018-07-02  66.0  182.0  1211.0  278.0\n",
       "2018-07-03  65.0  179.0  1197.0  271.0\n",
       "2018-07-05  67.0  180.0  1201.0  277.0\n",
       "...          ...    ...     ...    ...\n",
       "2020-08-05  84.0  439.0  2265.0  359.0\n",
       "2020-08-06  89.0  455.0  2279.0  366.0\n",
       "2020-08-07  90.0  444.0  2238.0  364.0\n",
       "2020-08-10  88.0  451.0  2224.0  364.0\n",
       "2020-08-11  86.0  438.0  2177.0  360.0\n",
       "\n",
       "[534 rows x 4 columns]"
      ]
     },
     "execution_count": 4,
     "metadata": {},
     "output_type": "execute_result"
    }
   ],
   "source": [
    "# Calculo de normalizacion segun factor de ponderacion\n",
    "for tck in lista_Techs:\n",
    "    data[tck+str(tck)] = data[tck]*df_ponderacion.loc[tck,'norm_pond']\n",
    "\n",
    "data_normalizada=data.loc[:,'FBFB':'GOOGLGOOGL']\n",
    "data_normalizada.columns=lista_Techs\n",
    "data_normalizada.round(0)"
   ]
  },
  {
   "cell_type": "code",
   "execution_count": 5,
   "metadata": {},
   "outputs": [],
   "source": [
    "# Sacamos la sumatoria\n",
    "data_normalizada['suma']=data_normalizada[\"AAPL\"]+data_normalizada[\"FB\"]+data_normalizada[\"AMZN\"]+data_normalizada[\"GOOGL\"]\n"
   ]
  },
  {
   "cell_type": "code",
   "execution_count": 6,
   "metadata": {},
   "outputs": [
    {
     "data": {
      "text/html": [
       "<div>\n",
       "<style scoped>\n",
       "    .dataframe tbody tr th:only-of-type {\n",
       "        vertical-align: middle;\n",
       "    }\n",
       "\n",
       "    .dataframe tbody tr th {\n",
       "        vertical-align: top;\n",
       "    }\n",
       "\n",
       "    .dataframe thead th {\n",
       "        text-align: right;\n",
       "    }\n",
       "</style>\n",
       "<table border=\"1\" class=\"dataframe\">\n",
       "  <thead>\n",
       "    <tr style=\"text-align: right;\">\n",
       "      <th></th>\n",
       "      <th>F_ind</th>\n",
       "    </tr>\n",
       "    <tr>\n",
       "      <th>Date</th>\n",
       "      <th></th>\n",
       "    </tr>\n",
       "  </thead>\n",
       "  <tbody>\n",
       "    <tr>\n",
       "      <th>2018-06-28</th>\n",
       "      <td>1722.06</td>\n",
       "    </tr>\n",
       "    <tr>\n",
       "      <th>2018-06-29</th>\n",
       "      <td>1720.46</td>\n",
       "    </tr>\n",
       "    <tr>\n",
       "      <th>2018-07-02</th>\n",
       "      <td>1736.51</td>\n",
       "    </tr>\n",
       "    <tr>\n",
       "      <th>2018-07-03</th>\n",
       "      <td>1711.50</td>\n",
       "    </tr>\n",
       "    <tr>\n",
       "      <th>2018-07-05</th>\n",
       "      <td>1725.01</td>\n",
       "    </tr>\n",
       "    <tr>\n",
       "      <th>...</th>\n",
       "      <td>...</td>\n",
       "    </tr>\n",
       "    <tr>\n",
       "      <th>2020-08-05</th>\n",
       "      <td>3147.04</td>\n",
       "    </tr>\n",
       "    <tr>\n",
       "      <th>2020-08-06</th>\n",
       "      <td>3188.18</td>\n",
       "    </tr>\n",
       "    <tr>\n",
       "      <th>2020-08-07</th>\n",
       "      <td>3136.64</td>\n",
       "    </tr>\n",
       "    <tr>\n",
       "      <th>2020-08-10</th>\n",
       "      <td>3127.26</td>\n",
       "    </tr>\n",
       "    <tr>\n",
       "      <th>2020-08-11</th>\n",
       "      <td>3059.91</td>\n",
       "    </tr>\n",
       "  </tbody>\n",
       "</table>\n",
       "<p>534 rows × 1 columns</p>\n",
       "</div>"
      ],
      "text/plain": [
       "              F_ind\n",
       "Date               \n",
       "2018-06-28  1722.06\n",
       "2018-06-29  1720.46\n",
       "2018-07-02  1736.51\n",
       "2018-07-03  1711.50\n",
       "2018-07-05  1725.01\n",
       "...             ...\n",
       "2020-08-05  3147.04\n",
       "2020-08-06  3188.18\n",
       "2020-08-07  3136.64\n",
       "2020-08-10  3127.26\n",
       "2020-08-11  3059.91\n",
       "\n",
       "[534 rows x 1 columns]"
      ]
     },
     "execution_count": 6,
     "metadata": {},
     "output_type": "execute_result"
    }
   ],
   "source": [
    "# Extraemos el indice\n",
    "FangIndex=data_normalizada[['suma']]\n",
    "FangIndex.columns=[\"F_ind\"]\n",
    "FangIndex.round(2)"
   ]
  },
  {
   "cell_type": "code",
   "execution_count": 7,
   "metadata": {},
   "outputs": [
    {
     "data": {
      "text/plain": [
       "<matplotlib.axes._subplots.AxesSubplot at 0x1b40e215d88>"
      ]
     },
     "execution_count": 7,
     "metadata": {},
     "output_type": "execute_result"
    },
    {
     "data": {
      "image/png": "[encoded data removed]",
      "text/plain": [
       "<Figure size 432x288 with 1 Axes>"
      ]
     },
     "metadata": {
      "needs_background": "light"
     },
     "output_type": "display_data"
    }
   ],
   "source": [
    "\n",
    "df_analisis = pd.concat([FangIndex,data_tip],join='inner', axis=1)\n",
    "df_analisis.columns=['Fang_index', 'Tip']\n",
    "coef=df_analisis.Fang_index.corr(df_analisis.Tip)\n",
    "cadena= \"Coef de corr: \" + str(coef)\n",
    "df_analisis.plot(kind='scatter', x='Fang_index', y='Tip', color='b', title=cadena)"
   ]
  },
  {
   "cell_type": "code",
   "execution_count": null,
   "metadata": {},
   "outputs": [],
   "source": [
    "# Mencionar estudios pendientes,\n",
    "# Intervalos de tiempo en tendnecia. SMA 50\n",
    "por Rango de VIX\n"
   ]
  },
  {
   "cell_type": "code",
   "execution_count": null,
   "metadata": {},
   "outputs": [],
   "source": []
  }
 ],
 "metadata": {
  "kernelspec": {
   "display_name": "Python 3",
   "language": "python",
   "name": "python3"
  },
  "language_info": {
   "codemirror_mode": {
    "name": "ipython",
    "version": 3
   },
   "file_extension": ".py",
   "mimetype": "text/x-python",
   "name": "python",
   "nbconvert_exporter": "python",
   "pygments_lexer": "ipython3",
   "version": "3.7.4"
  }
 },
 "nbformat": 4,
 "nbformat_minor": 4
}
