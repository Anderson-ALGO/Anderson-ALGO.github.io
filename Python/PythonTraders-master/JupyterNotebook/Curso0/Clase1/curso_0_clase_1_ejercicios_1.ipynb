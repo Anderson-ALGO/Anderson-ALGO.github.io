{
 "cells": [
  {
   "cell_type": "markdown",
   "metadata": {
    "ExecuteTime": {
     "end_time": "2020-05-13T16:42:04.426949Z",
     "start_time": "2020-05-13T16:42:04.414981Z"
    }
   },
   "source": [
    "### Les dejo una cositas tipica nueva para que practiquen aprender desde un jupyter notebook:\n",
    "    * funcion round()"
   ]
  },
  {
   "cell_type": "markdown",
   "metadata": {
    "ExecuteTime": {
     "end_time": "2020-05-13T16:43:02.157327Z",
     "start_time": "2020-05-13T16:43:02.147357Z"
    }
   },
   "source": [
    "### Función round()\n",
    "\n",
    "Redondea, es nativa de python, no hace falta importar libreria para usarla, usa dos argumentos/parámetros\n",
    "* El número a redondear\n",
    "* La cantidad de decimales\n",
    "\n",
    "ejemplo:"
   ]
  },
  {
   "cell_type": "code",
   "execution_count": 2,
   "metadata": {
    "ExecuteTime": {
     "end_time": "2020-05-13T18:42:59.178646Z",
     "start_time": "2020-05-13T18:42:59.168670Z"
    }
   },
   "outputs": [
    {
     "name": "stdout",
     "output_type": "stream",
     "text": [
      "1.3333333333333333\n"
     ]
    }
   ],
   "source": [
    "flotante = 4/3\n",
    "print(flotante)"
   ]
  },
  {
   "cell_type": "code",
   "execution_count": 12,
   "metadata": {
    "ExecuteTime": {
     "end_time": "2020-05-13T18:43:00.242019Z",
     "start_time": "2020-05-13T18:43:00.237033Z"
    }
   },
   "outputs": [
    {
     "name": "stdout",
     "output_type": "stream",
     "text": [
      "1.33\n"
     ]
    }
   ],
   "source": [
    "flotanteRedondeado = round(flotante,2)\n",
    "print(flotanteRedondeado)"
   ]
  },
  {
   "cell_type": "markdown",
   "metadata": {},
   "source": [
    "Ejercicio: Declarar la variable \"precio\" como un valor cualquiera por ejemplo 123 y luego calcular la variable \"precio_aumentado\" que sea igual a un 7% mas del valor original de la variable \"precio\" e imprimir en pantalla el mensaje \"El precio ingresado +7% es igual a .....\" y que complete los .... con el valor de precio aumentado, que devuelva ese valor redondeado con 2 decimales usando la funcion round() que les puse arriba.. "
   ]
  },
  {
   "cell_type": "code",
   "execution_count": 2,
   "metadata": {},
   "outputs": [
    {
     "name": "stdout",
     "output_type": "stream",
     "text": [
      "131.61\n"
     ]
    }
   ],
   "source": [
    "precio=123\n",
    "precio_aumentado=precio+precio*0.07\n",
    "print(precio_aumentado)"
   ]
  },
  {
   "cell_type": "code",
   "execution_count": null,
   "metadata": {},
   "outputs": [],
   "source": []
  },
  {
   "cell_type": "code",
   "execution_count": null,
   "metadata": {},
   "outputs": [],
   "source": []
  },
  {
   "cell_type": "code",
   "execution_count": null,
   "metadata": {},
   "outputs": [],
   "source": []
  },
  {
   "cell_type": "code",
   "execution_count": 3,
   "metadata": {},
   "outputs": [
    {
     "name": "stdout",
     "output_type": "stream",
     "text": [
      "El precio ingresado +7% es igual a  131.61\n"
     ]
    }
   ],
   "source": [
    "# Resolucion\n",
    "\n",
    "precio = 123\n",
    "precio_aumentado = precio * 1.07\n",
    "print(\"El precio ingresado +7% es igual a \",precio_aumentado)"
   ]
  },
  {
   "cell_type": "code",
   "execution_count": null,
   "metadata": {},
   "outputs": [],
   "source": []
  },
  {
   "cell_type": "code",
   "execution_count": null,
   "metadata": {},
   "outputs": [],
   "source": []
  },
  {
   "cell_type": "code",
   "execution_count": null,
   "metadata": {},
   "outputs": [],
   "source": []
  },
  {
   "cell_type": "code",
   "execution_count": null,
   "metadata": {},
   "outputs": [],
   "source": []
  },
  {
   "cell_type": "code",
   "execution_count": null,
   "metadata": {},
   "outputs": [],
   "source": []
  },
  {
   "cell_type": "code",
   "execution_count": null,
   "metadata": {},
   "outputs": [],
   "source": []
  },
  {
   "cell_type": "code",
   "execution_count": null,
   "metadata": {},
   "outputs": [],
   "source": []
  },
  {
   "cell_type": "markdown",
   "metadata": {},
   "source": [
    "Ejercicio Desafio 1\n",
    "\n",
    "Usando la funcion randrange(desde, hasta, paso) vista en clase, y sabiendo que el argumento del paso admite solo numeros enteros, buscar algun forma de usar esa funcion (y luego usando en pasos posteriores alguna variable auxiliar) para que me devuelva un precio aleatorio de GGAL entre 110 y 130 \n",
    "\n",
    "Nota: GGAL cotiza en el mercado de Bueno Aires y puede tomar precios de a 5ctvs, es decir 110.05, 110.10, 110.15 etc.. no admite precios con exactitud de 0.01 sino de 0.05"
   ]
  },
  {
   "cell_type": "code",
   "execution_count": 7,
   "metadata": {},
   "outputs": [
    {
     "name": "stdout",
     "output_type": "stream",
     "text": [
      "111.95\n"
     ]
    }
   ],
   "source": [
    "import random\n",
    "a=random.randrange(110,130,1)\n",
    "GGAL=a-0.05\n",
    "print(GGAL)"
   ]
  },
  {
   "cell_type": "code",
   "execution_count": null,
   "metadata": {},
   "outputs": [],
   "source": []
  },
  {
   "cell_type": "code",
   "execution_count": null,
   "metadata": {},
   "outputs": [],
   "source": []
  },
  {
   "cell_type": "code",
   "execution_count": null,
   "metadata": {},
   "outputs": [],
   "source": []
  },
  {
   "cell_type": "code",
   "execution_count": null,
   "metadata": {},
   "outputs": [],
   "source": []
  },
  {
   "cell_type": "markdown",
   "metadata": {},
   "source": [
    "Ejercicio Desafio 2\n",
    "\n",
    "\n",
    "Si salio ese desafío, hacer el codigo para que los valores esos de 110 y 130 no sean fijos sino que el programa se los pregunte al usuario para que con un input() el usuario los tenga que ingresar por teclado\n",
    "\n",
    "ojo, acuerdense que los valores ingresados por teclado son del tipo string, asi que para poner esas variables como argumentos en randrange() primero debo convertirlas a entero..\n",
    "\n",
    "\n",
    "Nota, lo mas probable del mundo es que este ejercicio no les salga, no pasa nada, yo les dejo la resolucion para que despues de intentarlo ustedes vayan a chusmear como lo hice yo, pero la idea es que se rompan la cabeza (un lindo rato) pensando como hacerlo, ya que van a aprender mas de el hecho de que no les salga que de otro modo.. fuera de joda, confien en mi, entender luego por que no salio es mas jugoso que ver de una como lo hizo otro"
   ]
  },
  {
   "cell_type": "code",
   "execution_count": 9,
   "metadata": {},
   "outputs": [
    {
     "name": "stdout",
     "output_type": "stream",
     "text": [
      "Ingrese un salto para los decimales:\n",
      "0.03\n"
     ]
    },
    {
     "ename": "ValueError",
     "evalue": "invalid literal for int() with base 10: '0.03'",
     "output_type": "error",
     "traceback": [
      "\u001b[0;31m---------------------------------------------------------------------------\u001b[0m",
      "\u001b[0;31mValueError\u001b[0m                                Traceback (most recent call last)",
      "\u001b[0;32m<ipython-input-9-6918768c6cc3>\u001b[0m in \u001b[0;36m<module>\u001b[0;34m\u001b[0m\n\u001b[1;32m      1\u001b[0m \u001b[0;32mimport\u001b[0m \u001b[0mrandom\u001b[0m\u001b[0;34m\u001b[0m\u001b[0;34m\u001b[0m\u001b[0m\n\u001b[1;32m      2\u001b[0m \u001b[0mprint\u001b[0m\u001b[0;34m(\u001b[0m\u001b[0;34m\"Ingrese un salto para los decimales:\"\u001b[0m\u001b[0;34m)\u001b[0m\u001b[0;34m\u001b[0m\u001b[0;34m\u001b[0m\u001b[0m\n\u001b[0;32m----> 3\u001b[0;31m \u001b[0msalto\u001b[0m\u001b[0;34m=\u001b[0m\u001b[0mint\u001b[0m\u001b[0;34m(\u001b[0m\u001b[0minput\u001b[0m\u001b[0;34m(\u001b[0m\u001b[0;34m)\u001b[0m\u001b[0;34m)\u001b[0m\u001b[0;34m\u001b[0m\u001b[0;34m\u001b[0m\u001b[0m\n\u001b[0m\u001b[1;32m      4\u001b[0m \u001b[0mGGAL\u001b[0m\u001b[0;34m=\u001b[0m\u001b[0mrandom\u001b[0m\u001b[0;34m.\u001b[0m\u001b[0mrandrange\u001b[0m\u001b[0;34m(\u001b[0m\u001b[0;36m110\u001b[0m\u001b[0;34m,\u001b[0m\u001b[0;36m130\u001b[0m\u001b[0;34m,\u001b[0m\u001b[0;36m1\u001b[0m\u001b[0;34m)\u001b[0m\u001b[0;34m\u001b[0m\u001b[0;34m\u001b[0m\u001b[0m\n\u001b[1;32m      5\u001b[0m \u001b[0mprint\u001b[0m\u001b[0;34m(\u001b[0m\u001b[0mGGAL\u001b[0m\u001b[0;34m-\u001b[0m\u001b[0msalto\u001b[0m\u001b[0;34m)\u001b[0m\u001b[0;34m\u001b[0m\u001b[0;34m\u001b[0m\u001b[0m\n",
      "\u001b[0;31mValueError\u001b[0m: invalid literal for int() with base 10: '0.03'"
     ]
    }
   ],
   "source": [
    "import random\n",
    "print(\"Ingrese un salto para los decimales:\")\n",
    "salto=int(input())\n",
    "GGAL=random.randrange(110,130,1)\n",
    "print(GGAL-salto)\n"
   ]
  },
  {
   "cell_type": "code",
   "execution_count": null,
   "metadata": {},
   "outputs": [],
   "source": []
  },
  {
   "cell_type": "code",
   "execution_count": null,
   "metadata": {},
   "outputs": [],
   "source": []
  },
  {
   "cell_type": "code",
   "execution_count": null,
   "metadata": {},
   "outputs": [],
   "source": []
  },
  {
   "cell_type": "code",
   "execution_count": null,
   "metadata": {},
   "outputs": [],
   "source": []
  },
  {
   "cell_type": "code",
   "execution_count": null,
   "metadata": {},
   "outputs": [],
   "source": []
  },
  {
   "cell_type": "markdown",
   "metadata": {},
   "source": [
    "Antes de ver las respuestas, insito que sigan pensando un poco y reviendo el video buscando la solucion, posta que es la mejor manera de tratar de entender como funciona esto, si les tira error traten de entender el error primero y buno, si no sale no pasa nada como les dije, si en su vida vieron nada de esto es mas probable que no salga a que si, ya va a salir"
   ]
  },
  {
   "cell_type": "code",
   "execution_count": null,
   "metadata": {},
   "outputs": [],
   "source": []
  },
  {
   "cell_type": "code",
   "execution_count": null,
   "metadata": {},
   "outputs": [],
   "source": []
  },
  {
   "cell_type": "code",
   "execution_count": null,
   "metadata": {},
   "outputs": [],
   "source": []
  },
  {
   "cell_type": "code",
   "execution_count": 11,
   "metadata": {},
   "outputs": [
    {
     "name": "stdout",
     "output_type": "stream",
     "text": [
      "El precio generado es 121.55\n"
     ]
    }
   ],
   "source": [
    "# Resolucion primer desafio:\n",
    "\n",
    "\n",
    "centavos = random.randrange(0, 100, 5)\n",
    "entero = random.randrange(110, 130, 1)\n",
    "\n",
    "precio = entero + centavos/100\n",
    "\n",
    "print('El precio generado es', precio)"
   ]
  },
  {
   "cell_type": "code",
   "execution_count": 8,
   "metadata": {},
   "outputs": [
    {
     "name": "stdout",
     "output_type": "stream",
     "text": [
      "Ingresa el valor inferior para GGAL (numero entero): 110\n",
      "Ingresa el valor superior para GGAL (numero entero): 130\n",
      "El precio generado es 111.75\n"
     ]
    }
   ],
   "source": [
    "# Resolucion segundo desafio:\n",
    "\n",
    "import random\n",
    "    \n",
    "valor_inferior = input('Ingresa el valor inferior para GGAL (numero entero): ')\n",
    "valor_superior = input('Ingresa el valor superior para GGAL (numero entero): ')\n",
    "\n",
    "valor_inferior = int(valor_inferior)\n",
    "valor_superior = int(valor_superior)\n",
    "\n",
    "centavos = random.randrange(0, 100, 5)\n",
    "entero = random.randrange(valor_inferior, valor_superior, 1)\n",
    "\n",
    "precio = entero + centavos/100\n",
    "\n",
    "print('El precio generado es', precio)"
   ]
  },
  {
   "cell_type": "code",
   "execution_count": null,
   "metadata": {},
   "outputs": [],
   "source": []
  },
  {
   "cell_type": "code",
   "execution_count": null,
   "metadata": {},
   "outputs": [],
   "source": []
  },
  {
   "cell_type": "code",
   "execution_count": null,
   "metadata": {},
   "outputs": [],
   "source": []
  }
 ],
 "metadata": {
  "kernelspec": {
   "display_name": "Python 3",
   "language": "python",
   "name": "python3"
  },
  "language_info": {
   "codemirror_mode": {
    "name": "ipython",
    "version": 3
   },
   "file_extension": ".py",
   "mimetype": "text/x-python",
   "name": "python",
   "nbconvert_exporter": "python",
   "pygments_lexer": "ipython3",
   "version": "3.7.4"
  },
  "varInspector": {
   "cols": {
    "lenName": 16,
    "lenType": 16,
    "lenVar": 40
   },
   "kernels_config": {
    "python": {
     "delete_cmd_postfix": "",
     "delete_cmd_prefix": "del ",
     "library": "var_list.py",
     "varRefreshCmd": "print(var_dic_list())"
    },
    "r": {
     "delete_cmd_postfix": ") ",
     "delete_cmd_prefix": "rm(",
     "library": "var_list.r",
     "varRefreshCmd": "cat(var_dic_list()) "
    }
   },
   "types_to_exclude": [
    "module",
    "function",
    "builtin_function_or_method",
    "instance",
    "_Feature"
   ],
   "window_display": false
  }
 },
 "nbformat": 4,
 "nbformat_minor": 4
}
