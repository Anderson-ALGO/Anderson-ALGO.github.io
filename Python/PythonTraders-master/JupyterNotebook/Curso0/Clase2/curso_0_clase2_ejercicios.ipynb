{
 "cells": [
  {
   "cell_type": "markdown",
   "metadata": {},
   "source": [
    "### Operaciones sobre datetime, imprimiendo con formato especifico"
   ]
  },
  {
   "cell_type": "code",
   "execution_count": 17,
   "metadata": {},
   "outputs": [
    {
     "name": "stdout",
     "output_type": "stream",
     "text": [
      "Son las: 19:09:37\n",
      "instanteFormatoMMDDYYYY: 07/12/2020, 19:17:37\n",
      "instanteFormatoDDMMYYYYTiempo: 12/07/2020, 19:17:37\n"
     ]
    }
   ],
   "source": [
    "\n",
    "from datetime import datetime as dt\n",
    "\n",
    "# la fecha y hora actual osea el instante actual\n",
    "ahora = dt.now()\n",
    "\n",
    "tiempo = now.strftime(\"%H:%M:%S\")\n",
    "print(\"Son las:\", tiempo)\n",
    "\n",
    "instante_formato_MMDDYYYY_tiempo = ahora.strftime(\"%m/%d/%Y, %H:%M:%S\")\n",
    "# mm/dd/YY H:M:S format\n",
    "print(\"instanteFormatoMMDDYYYY:\",  instante_formato_MMDDYYYY_tiempo)\n",
    "\n",
    "instante_formato_DDMMYYYY_tiempo = ahora.strftime(\"%d/%m/%Y, %H:%M:%S\")\n",
    "# dd/mm/YY H:M:S format\n",
    "print(\"instanteFormatoDDMMYYYYTiempo:\", instante_formato_DDMMYYYY_tiempo)"
   ]
  },
  {
   "cell_type": "markdown",
   "metadata": {},
   "source": [
    "### Ejercicio 1 \n",
    "Se requiere obtener el instante actual y con el uso de la funcion strftime imprimir cada parte del \n",
    "mismo en lineas separadas, esto seria, dia, mes, año, hora, minutos, segundos, dia de la semana, el dia del mes y el dia del año\n",
    "por ej print(\"hoy es el dia %d\", ahora.strf...)\n"
   ]
  },
  {
   "cell_type": "code",
   "execution_count": 5,
   "metadata": {},
   "outputs": [
    {
     "name": "stdout",
     "output_type": "stream",
     "text": [
      "Momento actual: dia 20 mes 07 año 2020 hora 10 minutos 59 segundos 13\n"
     ]
    }
   ],
   "source": [
    "from datetime import datetime\n",
    "instante_actual=datetime.now()#acá cree un objeto del tipo <<datetime>> ¿es así?\n",
    "print(\"Momento actual: dia\",instante_actual.strftime(\"%d\"),\"mes\",instante_actual.strftime(\"%m\"),\"año\",instante_actual.strftime(\"%Y\"),\"hora\",instante_actual.strftime(\"%H\"),\"minutos\",instante_actual.strftime(\"%M\"),\"segundos\",instante_actual.strftime(\"%S\"))\n",
    "\n"
   ]
  },
  {
   "cell_type": "code",
   "execution_count": null,
   "metadata": {},
   "outputs": [],
   "source": []
  },
  {
   "cell_type": "markdown",
   "metadata": {},
   "source": [
    "### Convirtiendo un String a un datetime\n",
    "Dado un string necesitamos convertirlo a datetime para luego poder utilizar las aritmeticas que este modulo ofrece"
   ]
  },
  {
   "cell_type": "code",
   "execution_count": 5,
   "metadata": {},
   "outputs": [
    {
     "name": "stdout",
     "output_type": "stream",
     "text": [
      "2020-07-20 00:00:00\n",
      "2020-07-06 15:23:01\n"
     ]
    }
   ],
   "source": [
    "from datetime import datetime\n",
    "# Convertimos un string con formato <día>/<mes>/<año> en datetime\n",
    "una_fecha = '20/07/2020'\n",
    "fecha_como_datetime = datetime.strptime(una_fecha, '%d/%m/%Y')\n",
    "# noten que hay una relacion entre el formato del string y lo que se le pasa a strptime\n",
    "print(fecha_como_datetime)\n",
    "\n",
    "instate_como_string = \"06/07/2020 15:23:01\"\n",
    "instate_como_datetime = datetime.strptime(instate_como_string,\"%d/%m/%Y %H:%M:%S\")\n",
    "print(instate_como_datetime)"
   ]
  },
  {
   "cell_type": "code",
   "execution_count": null,
   "metadata": {},
   "outputs": [],
   "source": []
  },
  {
   "cell_type": "code",
   "execution_count": null,
   "metadata": {},
   "outputs": [],
   "source": []
  },
  {
   "cell_type": "markdown",
   "metadata": {},
   "source": [
    "### Ejercicio 2\n",
    "En el instante \"2020-03-20T14:28:23.382748\" representa un instante en el que se coloco por medio de un bot una orden compra de 100000 nominales del ticker TSLA se solicita transformar dicho string a un datetime."
   ]
  },
  {
   "cell_type": "code",
   "execution_count": 9,
   "metadata": {},
   "outputs": [
    {
     "name": "stdout",
     "output_type": "stream",
     "text": [
      "2020-03-20 14:28:23.382748\n"
     ]
    }
   ],
   "source": [
    "from datetime import datetime\n",
    "un_instante= \"2020-03-20T14:28:23.382748\"\n",
    "un_instante_en_datetime=datetime.strptime(un_instante,\"%Y-%m-%dT%H:%M:%S.%f\")\n",
    "print(un_instante_en_datetime)\n"
   ]
  },
  {
   "cell_type": "code",
   "execution_count": null,
   "metadata": {},
   "outputs": [],
   "source": []
  },
  {
   "cell_type": "markdown",
   "metadata": {},
   "source": [
    "### Ejercicio 3\n",
    "Se requiere determinar cuantas dias faltan desde el instante actual y la proxima clase 15 de julio a las 18:00:00."
   ]
  },
  {
   "cell_type": "code",
   "execution_count": 4,
   "metadata": {},
   "outputs": [
    {
     "name": "stdout",
     "output_type": "stream",
     "text": [
      "4\n"
     ]
    }
   ],
   "source": [
    "from datetime import datetime\n",
    "instante_actual=datetime.now() #acá creé un objeto(instancia) de la clase \"datetime\"\n",
    "proxima_clase_string= \"27/07/2020 18:00:00\"\n",
    "proxima_clase=datetime.strptime(proxima_clase_string,\"%d/%m/%Y %H:%M:%S\")#acá utilicé un método de la clase \"datetime\"\n",
    "horas_faltantes=proxima_clase-instante_actual#resto dos objetos de la misma clase, por ende me queda un objeto de la clase \"datetime\"??\n",
    "#type(horas_faltantes)#es tipo \"timedelta\"\n",
    "print(horas_faltantes.days)"
   ]
  },
  {
   "cell_type": "code",
   "execution_count": null,
   "metadata": {},
   "outputs": [],
   "source": []
  },
  {
   "cell_type": "markdown",
   "metadata": {},
   "source": [
    "### Ejercicio 4\n",
    "Del ejercicio anterior determinar la cantidad de horas que faltan y luego hacer lo mismo con minutos."
   ]
  },
  {
   "cell_type": "code",
   "execution_count": 13,
   "metadata": {},
   "outputs": [
    {
     "name": "stdout",
     "output_type": "stream",
     "text": [
      "354.45\n"
     ]
    }
   ],
   "source": [
    "from datetime import datetime\n",
    "instante_actual=datetime.now()\n",
    "proxima_clase_string= \"27/07/2020 18:00:00\"\n",
    "proxima_clase=datetime.strptime(proxima_clase_string,\"%d/%m/%Y %H:%M:%S\")\n",
    "dif=proxima_clase-instante_actual\n",
    "#type(horas_faltantes)#es tipo \"timedelta\"\n",
    "print(dif.seconds/60)"
   ]
  },
  {
   "cell_type": "code",
   "execution_count": 14,
   "metadata": {},
   "outputs": [
    {
     "name": "stdout",
     "output_type": "stream",
     "text": [
      "4\n"
     ]
    }
   ],
   "source": [
    "from datetime import datetime\n",
    "instante_actual=datetime.now()\n",
    "proxima_clase_string= \"27/07/2020 18:00:00\"\n",
    "proxima_clase=datetime.strptime(proxima_clase_string,\"%d/%m/%Y %H:%M:%S\")\n",
    "horas_faltantes=proxima_clase-instante_actual\n",
    "#type(horas_faltantes)#es tipo \"timedelta\"\n",
    "print(horas_faltantes.days)"
   ]
  },
  {
   "cell_type": "markdown",
   "metadata": {},
   "source": [
    "### Trabajando con zonas horarias\n",
    "\n",
    "from datetime import datetime\n",
    "from pytz import timezone\n",
    "\n",
    "fmt = \"%Y-%m-%d %H:%M:%S %Z%z\"\n",
    "\n",
    "##### Current time in UTC\n",
    "now_utc = datetime.now(timezone('UTC'))\n",
    "print now_utc.strftime(fmt)\n",
    "\n",
    "##### Convert to US/Pacific time zone\n",
    "now_pacific = now_utc.astimezone(timezone('US/Pacific'))\n",
    "print now_pacific.strftime(fmt)\n",
    "\n",
    "##### Convert to Europe/Berlin time zone\n",
    "now_berlin = now_pacific.astimezone(timezone('Europe/Berlin'))\n",
    "print now_berlin.strftime(fmt)"
   ]
  },
  {
   "cell_type": "markdown",
   "metadata": {},
   "source": [
    "### Ejercicio 5\n",
    "Se le solicita que cree el instante del dia viernes 10 de Julio del 2020 a las 12:01:00 del mediodia o pm como prefieran\n",
    "Se debera transformar dicho instante a a otros con diferentes zonas horarias e imprimirlos, tales como Rusia/moscu España/Madrid, Mexico, Colombia y Argentina\n",
    " Si en el grupo contamos con alguna persona de otro pais, por favor aclarlo y agregar dicho timezone"
   ]
  },
  {
   "cell_type": "code",
   "execution_count": null,
   "metadata": {},
   "outputs": [],
   "source": []
  },
  {
   "cell_type": "code",
   "execution_count": null,
   "metadata": {},
   "outputs": [],
   "source": []
  }
 ],
 "metadata": {
  "kernelspec": {
   "display_name": "Python 3",
   "language": "python",
   "name": "python3"
  },
  "language_info": {
   "codemirror_mode": {
    "name": "ipython",
    "version": 3
   },
   "file_extension": ".py",
   "mimetype": "text/x-python",
   "name": "python",
   "nbconvert_exporter": "python",
   "pygments_lexer": "ipython3",
   "version": "3.7.4"
  }
 },
 "nbformat": 4,
 "nbformat_minor": 2
}
