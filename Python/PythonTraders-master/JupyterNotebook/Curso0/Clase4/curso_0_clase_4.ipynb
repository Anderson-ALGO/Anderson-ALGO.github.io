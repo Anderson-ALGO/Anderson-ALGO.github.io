{
 "cells": [
  {
   "cell_type": "code",
   "execution_count": 3,
   "metadata": {},
   "outputs": [],
   "source": [
    "import random"
   ]
  },
  {
   "cell_type": "code",
   "execution_count": 8,
   "metadata": {},
   "outputs": [],
   "source": [
    "diccionario = {\"ALUA\":29.35 , \"BBAR\":120.85 , \"BMA\":265.2 , \"BYMA\":[290,299]}\n"
   ]
  },
  {
   "cell_type": "code",
   "execution_count": 4,
   "metadata": {},
   "outputs": [
    {
     "data": {
      "text/plain": [
       "'GGAL'"
      ]
     },
     "execution_count": 4,
     "metadata": {},
     "output_type": "execute_result"
    }
   ],
   "source": [
    "listado = [\"GGAL\",\"PAMP\",\"YPFD\",\"CEPU\",\"EDN\",\"LOMA\",\"CRES\"]\n",
    "\n",
    "random.choice(listado)"
   ]
  },
  {
   "cell_type": "code",
   "execution_count": 7,
   "metadata": {},
   "outputs": [],
   "source": [
    "random.shuffle(listado)"
   ]
  },
  {
   "cell_type": "code",
   "execution_count": 8,
   "metadata": {},
   "outputs": [
    {
     "data": {
      "text/plain": [
       "['CRES', 'CEPU', 'GGAL']"
      ]
     },
     "execution_count": 8,
     "metadata": {},
     "output_type": "execute_result"
    }
   ],
   "source": [
    "random.sample(listado,3)\n"
   ]
  },
  {
   "cell_type": "code",
   "execution_count": null,
   "metadata": {},
   "outputs": [],
   "source": []
  },
  {
   "cell_type": "markdown",
   "metadata": {},
   "source": [
    "### Eligiendo valores al azar de un diccionario"
   ]
  },
  {
   "cell_type": "markdown",
   "metadata": {},
   "source": [
    "Como las funciones de elegir de un listado funciona con listas, necesitamos pasar el diccionario a listas para poder hacer esto, para ellos podemos pasar a listas dos elementos de un diccionario:\n",
    "    * Las keys\n",
    "    * Los values"
   ]
  },
  {
   "cell_type": "code",
   "execution_count": 9,
   "metadata": {},
   "outputs": [
    {
     "data": {
      "text/plain": [
       "dict_keys(['ALUA', 'BBAR', 'BMA', 'BYMA'])"
      ]
     },
     "execution_count": 9,
     "metadata": {},
     "output_type": "execute_result"
    }
   ],
   "source": [
    "diccionario.keys()"
   ]
  },
  {
   "cell_type": "code",
   "execution_count": 10,
   "metadata": {},
   "outputs": [
    {
     "data": {
      "text/plain": [
       "['ALUA', 'BBAR', 'BMA', 'BYMA']"
      ]
     },
     "execution_count": 10,
     "metadata": {},
     "output_type": "execute_result"
    }
   ],
   "source": [
    "list(diccionario.keys())"
   ]
  },
  {
   "cell_type": "code",
   "execution_count": 12,
   "metadata": {},
   "outputs": [
    {
     "data": {
      "text/plain": [
       "dict_items([('ALUA', 29.35), ('BBAR', 120.85), ('BMA', 265.2), ('BYMA', 290), ('CEPU', 29), ('COME', 3), ('CRES', 40.7)])"
      ]
     },
     "execution_count": 12,
     "metadata": {},
     "output_type": "execute_result"
    }
   ],
   "source": [
    "diccionario.items()"
   ]
  },
  {
   "cell_type": "code",
   "execution_count": 13,
   "metadata": {},
   "outputs": [
    {
     "data": {
      "text/plain": [
       "[('ALUA', 29.35),\n",
       " ('BBAR', 120.85),\n",
       " ('BMA', 265.2),\n",
       " ('BYMA', 290),\n",
       " ('CEPU', 29),\n",
       " ('COME', 3),\n",
       " ('CRES', 40.7)]"
      ]
     },
     "execution_count": 13,
     "metadata": {},
     "output_type": "execute_result"
    }
   ],
   "source": [
    "list(diccionario.items())"
   ]
  },
  {
   "cell_type": "code",
   "execution_count": 14,
   "metadata": {},
   "outputs": [
    {
     "data": {
      "text/plain": [
       "(('ALUA', 29.35),\n",
       " ('BBAR', 120.85),\n",
       " ('BMA', 265.2),\n",
       " ('BYMA', 290),\n",
       " ('CEPU', 29),\n",
       " ('COME', 3),\n",
       " ('CRES', 40.7))"
      ]
     },
     "execution_count": 14,
     "metadata": {},
     "output_type": "execute_result"
    }
   ],
   "source": [
    "tuple(diccionario.items())"
   ]
  },
  {
   "cell_type": "code",
   "execution_count": null,
   "metadata": {},
   "outputs": [],
   "source": []
  },
  {
   "cell_type": "code",
   "execution_count": null,
   "metadata": {},
   "outputs": [],
   "source": []
  },
  {
   "cell_type": "code",
   "execution_count": 9,
   "metadata": {},
   "outputs": [
    {
     "data": {
      "text/plain": [
       "'BYMA'"
      ]
     },
     "execution_count": 9,
     "metadata": {},
     "output_type": "execute_result"
    }
   ],
   "source": [
    "diccionario = {'ALUA': 29.35, 'BBAR': 120.85, 'BMA': 265.2, 'BYMA': 290, 'CEPU': 29, 'COME': 3, 'CRES': 40.7}\n",
    "random.choice(list(diccionario.keys()))"
   ]
  },
  {
   "cell_type": "code",
   "execution_count": 6,
   "metadata": {
    "scrolled": true
   },
   "outputs": [
    {
     "data": {
      "text/plain": [
       "40.7"
      ]
     },
     "execution_count": 6,
     "metadata": {},
     "output_type": "execute_result"
    }
   ],
   "source": [
    "diccionario = {'ALUA': 29.35, 'BBAR': 120.85, 'BMA': 265.2, 'BYMA': 290, 'CEPU': 29, 'COME': 3, 'CRES': 40.7}\n",
    "random.choice(list(diccionario.values()))"
   ]
  },
  {
   "cell_type": "code",
   "execution_count": 12,
   "metadata": {},
   "outputs": [
    {
     "data": {
      "text/plain": [
       "('CEPU', 29)"
      ]
     },
     "execution_count": 12,
     "metadata": {},
     "output_type": "execute_result"
    }
   ],
   "source": [
    "tickerAzar = random.choice(list(diccionario.keys()))\n",
    "tickerAzar, diccionario[tickerAzar]"
   ]
  },
  {
   "cell_type": "code",
   "execution_count": 16,
   "metadata": {},
   "outputs": [
    {
     "data": {
      "text/plain": [
       "'BBAR'"
      ]
     },
     "execution_count": 16,
     "metadata": {},
     "output_type": "execute_result"
    }
   ],
   "source": [
    "random.choice(list(diccionario.keys()))"
   ]
  },
  {
   "cell_type": "code",
   "execution_count": 24,
   "metadata": {},
   "outputs": [
    {
     "name": "stdout",
     "output_type": "stream",
     "text": [
      "['BYMA', 'CRES', 'BBAR', 'CEPU', 'COME', 'ALUA', 'BMA']\n"
     ]
    }
   ],
   "source": [
    "tickers = list(diccionario.keys())\n",
    "random.shuffle(tickers)\n",
    "print(tickers)"
   ]
  },
  {
   "cell_type": "markdown",
   "metadata": {},
   "source": [
    "### Lo mismo con \"sample\""
   ]
  },
  {
   "cell_type": "code",
   "execution_count": 26,
   "metadata": {
    "scrolled": true
   },
   "outputs": [
    {
     "data": {
      "text/plain": [
       "['BMA', 'COME']"
      ]
     },
     "execution_count": 26,
     "metadata": {},
     "output_type": "execute_result"
    }
   ],
   "source": [
    "random.sample(list(diccionario.keys()),2)"
   ]
  },
  {
   "cell_type": "code",
   "execution_count": null,
   "metadata": {},
   "outputs": [],
   "source": []
  },
  {
   "cell_type": "code",
   "execution_count": null,
   "metadata": {},
   "outputs": [],
   "source": []
  },
  {
   "cell_type": "markdown",
   "metadata": {},
   "source": [
    "### Funcion zip"
   ]
  },
  {
   "cell_type": "code",
   "execution_count": 15,
   "metadata": {},
   "outputs": [],
   "source": [
    "panel = {'ALUA': 31.5, 'BBAR': 136.2, 'BMA': 221.7, 'BYMA': 391.0, 'CEPU': 35.4, 'COME': 2.59, 'CRES': 41.7,\n",
    " 'CVH': 388.0, 'EDN': 20.2, 'GGAL': 101.95, 'MIRG': 770.0, 'PAMP': 53.8, 'SUPV': 49.0, 'TECO2': 185.7,\n",
    " 'TGNO4': 31.1, 'TGSU2': 125.7, 'TRAN': 29.45, 'TXAR': 30.45, 'VALO': 21.35, 'YPFD': 522.2}"
   ]
  },
  {
   "cell_type": "code",
   "execution_count": 16,
   "metadata": {},
   "outputs": [],
   "source": [
    "tickers = panel.keys()\n",
    "precios = panel.values()"
   ]
  },
  {
   "cell_type": "code",
   "execution_count": 17,
   "metadata": {},
   "outputs": [
    {
     "data": {
      "text/plain": [
       "['ALUA',\n",
       " 'BBAR',\n",
       " 'BMA',\n",
       " 'BYMA',\n",
       " 'CEPU',\n",
       " 'COME',\n",
       " 'CRES',\n",
       " 'CVH',\n",
       " 'EDN',\n",
       " 'GGAL',\n",
       " 'MIRG',\n",
       " 'PAMP',\n",
       " 'SUPV',\n",
       " 'TECO2',\n",
       " 'TGNO4',\n",
       " 'TGSU2',\n",
       " 'TRAN',\n",
       " 'TXAR',\n",
       " 'VALO',\n",
       " 'YPFD']"
      ]
     },
     "execution_count": 17,
     "metadata": {},
     "output_type": "execute_result"
    }
   ],
   "source": [
    "listaTickers = list(tickers)\n",
    "listaPrecios = list(precios)\n",
    "listaTickers"
   ]
  },
  {
   "cell_type": "code",
   "execution_count": 18,
   "metadata": {},
   "outputs": [
    {
     "data": {
      "text/plain": [
       "[31.5,\n",
       " 136.2,\n",
       " 221.7,\n",
       " 391.0,\n",
       " 35.4,\n",
       " 2.59,\n",
       " 41.7,\n",
       " 388.0,\n",
       " 20.2,\n",
       " 101.95,\n",
       " 770.0,\n",
       " 53.8,\n",
       " 49.0,\n",
       " 185.7,\n",
       " 31.1,\n",
       " 125.7,\n",
       " 29.45,\n",
       " 30.45,\n",
       " 21.35,\n",
       " 522.2]"
      ]
     },
     "execution_count": 18,
     "metadata": {},
     "output_type": "execute_result"
    }
   ],
   "source": [
    "listaPrecios"
   ]
  },
  {
   "cell_type": "code",
   "execution_count": 19,
   "metadata": {},
   "outputs": [],
   "source": [
    "import numpy as np"
   ]
  },
  {
   "cell_type": "code",
   "execution_count": 21,
   "metadata": {},
   "outputs": [
    {
     "data": {
      "text/plain": [
       "array([ 32.13  , 138.924 , 226.134 , 398.82  ,  36.108 ,   2.6418,\n",
       "        42.534 , 395.76  ,  20.604 , 103.989 , 785.4   ,  54.876 ,\n",
       "        49.98  , 189.414 ,  31.722 , 128.214 ,  30.039 ,  31.059 ,\n",
       "        21.777 , 532.644 ])"
      ]
     },
     "execution_count": 21,
     "metadata": {},
     "output_type": "execute_result"
    }
   ],
   "source": [
    "precios2 = np.array(listaPrecios)*1.02\n",
    "precios2"
   ]
  },
  {
   "cell_type": "code",
   "execution_count": 28,
   "metadata": {},
   "outputs": [
    {
     "data": {
      "text/plain": [
       "[('ALUA', 32.13),\n",
       " ('BBAR', 138.924),\n",
       " ('BMA', 226.134),\n",
       " ('BYMA', 398.82),\n",
       " ('CEPU', 36.108),\n",
       " ('COME', 2.642),\n",
       " ('CRES', 42.534),\n",
       " ('CVH', 395.76),\n",
       " ('EDN', 20.604),\n",
       " ('GGAL', 103.989),\n",
       " ('MIRG', 785.4),\n",
       " ('PAMP', 54.876),\n",
       " ('SUPV', 49.98),\n",
       " ('TECO2', 189.414),\n",
       " ('TGNO4', 31.722),\n",
       " ('TGSU2', 128.214),\n",
       " ('TRAN', 30.039),\n",
       " ('TXAR', 31.059),\n",
       " ('VALO', 21.777),\n",
       " ('YPFD', 532.644)]"
      ]
     },
     "execution_count": 28,
     "metadata": {},
     "output_type": "execute_result"
    }
   ],
   "source": [
    "panelNuevo = list(zip(listaTickers, precios2.round(3)))\n",
    "panelNuevo"
   ]
  },
  {
   "cell_type": "code",
   "execution_count": 23,
   "metadata": {},
   "outputs": [
    {
     "data": {
      "text/plain": [
       "['ALUA',\n",
       " 'BBAR',\n",
       " 'BMA',\n",
       " 'BYMA',\n",
       " 'CEPU',\n",
       " 'COME',\n",
       " 'CRES',\n",
       " 'CVH',\n",
       " 'EDN',\n",
       " 'GGAL',\n",
       " 'MIRG',\n",
       " 'PAMP',\n",
       " 'SUPV',\n",
       " 'TECO2',\n",
       " 'TGNO4',\n",
       " 'TGSU2',\n",
       " 'TRAN',\n",
       " 'TXAR',\n",
       " 'VALO',\n",
       " 'YPFD',\n",
       " 'TickerNuevo']"
      ]
     },
     "execution_count": 23,
     "metadata": {},
     "output_type": "execute_result"
    }
   ],
   "source": [
    "listaTickers.append('TickerNuevo')\n",
    "listaTickers"
   ]
  },
  {
   "cell_type": "code",
   "execution_count": 24,
   "metadata": {
    "scrolled": true
   },
   "outputs": [
    {
     "data": {
      "text/plain": [
       "[('ALUA', 32.13),\n",
       " ('BBAR', 138.92399999999998),\n",
       " ('BMA', 226.134),\n",
       " ('BYMA', 398.82),\n",
       " ('CEPU', 36.108),\n",
       " ('COME', 2.6418),\n",
       " ('CRES', 42.534000000000006),\n",
       " ('CVH', 395.76),\n",
       " ('EDN', 20.604),\n",
       " ('GGAL', 103.989),\n",
       " ('MIRG', 785.4),\n",
       " ('PAMP', 54.876),\n",
       " ('SUPV', 49.980000000000004),\n",
       " ('TECO2', 189.414),\n",
       " ('TGNO4', 31.722),\n",
       " ('TGSU2', 128.214),\n",
       " ('TRAN', 30.039),\n",
       " ('TXAR', 31.059),\n",
       " ('VALO', 21.777),\n",
       " ('YPFD', 532.644)]"
      ]
     },
     "execution_count": 24,
     "metadata": {},
     "output_type": "execute_result"
    }
   ],
   "source": [
    "panelNuevo = list(zip(listaTickers, precios2))\n",
    "panelNuevo"
   ]
  },
  {
   "cell_type": "code",
   "execution_count": null,
   "metadata": {},
   "outputs": [],
   "source": []
  },
  {
   "cell_type": "markdown",
   "metadata": {},
   "source": [
    "# Excepciones"
   ]
  },
  {
   "cell_type": "code",
   "execution_count": 30,
   "metadata": {},
   "outputs": [
    {
     "name": "stdout",
     "output_type": "stream",
     "text": [
      "0.5\n"
     ]
    }
   ],
   "source": [
    "a = 10\n",
    "b = 20\n",
    "\n",
    "c = a / b\n",
    "\n",
    "\n",
    "\n",
    "print(c)\n"
   ]
  },
  {
   "cell_type": "code",
   "execution_count": 31,
   "metadata": {},
   "outputs": [
    {
     "ename": "ZeroDivisionError",
     "evalue": "division by zero",
     "output_type": "error",
     "traceback": [
      "\u001b[1;31m---------------------------------------------------------------------------\u001b[0m",
      "\u001b[1;31mZeroDivisionError\u001b[0m                         Traceback (most recent call last)",
      "\u001b[1;32m<ipython-input-31-34cd6145caa3>\u001b[0m in \u001b[0;36m<module>\u001b[1;34m\u001b[0m\n\u001b[0;32m      2\u001b[0m \u001b[0mb\u001b[0m \u001b[1;33m=\u001b[0m \u001b[1;36m0\u001b[0m\u001b[1;33m\u001b[0m\u001b[1;33m\u001b[0m\u001b[0m\n\u001b[0;32m      3\u001b[0m \u001b[1;33m\u001b[0m\u001b[0m\n\u001b[1;32m----> 4\u001b[1;33m \u001b[0mc\u001b[0m \u001b[1;33m=\u001b[0m \u001b[0ma\u001b[0m \u001b[1;33m/\u001b[0m \u001b[0mb\u001b[0m\u001b[1;33m\u001b[0m\u001b[1;33m\u001b[0m\u001b[0m\n\u001b[0m\u001b[0;32m      5\u001b[0m \u001b[1;33m\u001b[0m\u001b[0m\n\u001b[0;32m      6\u001b[0m \u001b[1;33m\u001b[0m\u001b[0m\n",
      "\u001b[1;31mZeroDivisionError\u001b[0m: division by zero"
     ]
    }
   ],
   "source": [
    "a = 10\n",
    "b = 0\n",
    "\n",
    "c = a / b\n",
    "\n",
    "\n",
    "\n",
    "print(c)\n"
   ]
  },
  {
   "cell_type": "code",
   "execution_count": null,
   "metadata": {},
   "outputs": [],
   "source": []
  },
  {
   "cell_type": "code",
   "execution_count": null,
   "metadata": {},
   "outputs": [],
   "source": []
  },
  {
   "cell_type": "code",
   "execution_count": 37,
   "metadata": {},
   "outputs": [
    {
     "name": "stdout",
     "output_type": "stream",
     "text": [
      "No se puede dividir por cero\n"
     ]
    }
   ],
   "source": [
    "a = 10\n",
    "b = 0\n",
    "\n",
    "try:\n",
    "    c = a / b\n",
    "except:\n",
    "    c = 'No se puede dividir por cero'\n",
    "finally:\n",
    "    pass\n",
    "\n",
    "\n",
    "print(c)"
   ]
  },
  {
   "cell_type": "code",
   "execution_count": null,
   "metadata": {},
   "outputs": [],
   "source": []
  },
  {
   "cell_type": "code",
   "execution_count": null,
   "metadata": {},
   "outputs": [],
   "source": []
  },
  {
   "cell_type": "code",
   "execution_count": 36,
   "metadata": {},
   "outputs": [
    {
     "name": "stdout",
     "output_type": "stream",
     "text": [
      "None\n"
     ]
    }
   ],
   "source": [
    "a = 10\n",
    "b = 0\n",
    "c = None\n",
    "\n",
    "\n",
    "try:\n",
    "    c = a / b\n",
    "except:\n",
    "    pass\n",
    "\n",
    "\n",
    "print(c)"
   ]
  },
  {
   "cell_type": "code",
   "execution_count": null,
   "metadata": {},
   "outputs": [],
   "source": []
  },
  {
   "cell_type": "code",
   "execution_count": 39,
   "metadata": {},
   "outputs": [
    {
     "name": "stdout",
     "output_type": "stream",
     "text": [
      "Por aca pasa siempre\n",
      "5.0\n"
     ]
    }
   ],
   "source": [
    "a = 10\n",
    "b = 2\n",
    "c = None\n",
    "\n",
    "try:\n",
    "    c = a / b\n",
    "except:\n",
    "    c = 'No se puede dividir por cero'\n",
    "finally:\n",
    "    print('Por aca pasa siempre')\n",
    "\n",
    "\n",
    "print(c)"
   ]
  },
  {
   "cell_type": "markdown",
   "metadata": {},
   "source": [
    "# Indentacion"
   ]
  },
  {
   "cell_type": "code",
   "execution_count": 44,
   "metadata": {},
   "outputs": [
    {
     "name": "stdout",
     "output_type": "stream",
     "text": [
      "Estoy intentando\n",
      "Por aca pasa siempre\n",
      "5.0\n",
      "Sigo con otra cosa\n"
     ]
    }
   ],
   "source": [
    "a = 10\n",
    "b = 2\n",
    "c = None\n",
    "\n",
    "try:\n",
    "    c = a / b\n",
    "    print('Estoy intentando')\n",
    "    \n",
    "except:\n",
    "    c = 'No se puede dividir por cero'\n",
    "    print('Estoy adentro  de una excepcion')\n",
    "    \n",
    "finally:\n",
    "    print('Por aca pasa siempre')\n",
    "    print(c)\n",
    "    \n",
    "    \n",
    "print('Sigo con otra cosa')"
   ]
  },
  {
   "cell_type": "code",
   "execution_count": null,
   "metadata": {},
   "outputs": [],
   "source": []
  },
  {
   "cell_type": "code",
   "execution_count": 45,
   "metadata": {},
   "outputs": [
    {
     "name": "stdout",
     "output_type": "stream",
     "text": [
      "Ingrese el EPS de la empresa:23\n",
      "Venimos bien\n",
      "El precio actual es $ 10 \n",
      "El EPS ingresado $ 23.0 \n",
      "El ratio P/E es 0.43478260869565216\n"
     ]
    }
   ],
   "source": [
    "precioAccion = 10\n",
    "eps = float(input('Ingrese el EPS de la empresa:'))\n",
    "\n",
    "try:\n",
    "    per = precioAccion / eps\n",
    "    print('Venimos bien')\n",
    "except:\n",
    "    per = 'No se pudo calcular'\n",
    "finally:\n",
    "    print(\"El precio actual es $\", precioAccion,\"\\nEl EPS ingresado $\",eps,\"\\nEl ratio P/E es\",per)"
   ]
  },
  {
   "cell_type": "code",
   "execution_count": null,
   "metadata": {},
   "outputs": [],
   "source": []
  },
  {
   "cell_type": "code",
   "execution_count": null,
   "metadata": {},
   "outputs": [],
   "source": []
  },
  {
   "cell_type": "code",
   "execution_count": 2,
   "metadata": {},
   "outputs": [
    {
     "name": "stdout",
     "output_type": "stream",
     "text": [
      "Ingrese el EPS de la empresa:0\n",
      "El precio actual es $ 10 \n",
      "El EPS ingresado $ 0.0 \n",
      "El ratio P/E es No se pudo calcular\n"
     ]
    }
   ],
   "source": [
    "precioAccion = 10\n",
    "eps = float(input('Ingrese el EPS de la empresa:'))\n",
    "\n",
    "try:\n",
    "    per = precioAccion / eps\n",
    "    print('Venimos bien')\n",
    "except:\n",
    "    per = 'No se pudo calcular'\n",
    "finally:\n",
    "    print(\"El precio actual es $\", precioAccion,\"\\nEl EPS ingresado $\",eps,\"\\nEl ratio P/E es\",per)"
   ]
  },
  {
   "cell_type": "code",
   "execution_count": null,
   "metadata": {},
   "outputs": [],
   "source": []
  },
  {
   "cell_type": "code",
   "execution_count": 3,
   "metadata": {},
   "outputs": [
    {
     "name": "stdout",
     "output_type": "stream",
     "text": [
      "Ingrese el EPS de la empresa:Juan\n"
     ]
    },
    {
     "ename": "ValueError",
     "evalue": "could not convert string to float: 'Juan'",
     "output_type": "error",
     "traceback": [
      "\u001b[1;31m---------------------------------------------------------------------------\u001b[0m",
      "\u001b[1;31mValueError\u001b[0m                                Traceback (most recent call last)",
      "\u001b[1;32m<ipython-input-3-bd6045e38e2f>\u001b[0m in \u001b[0;36m<module>\u001b[1;34m\u001b[0m\n\u001b[0;32m      1\u001b[0m \u001b[0mprecioAccion\u001b[0m \u001b[1;33m=\u001b[0m \u001b[1;36m10\u001b[0m\u001b[1;33m\u001b[0m\u001b[1;33m\u001b[0m\u001b[0m\n\u001b[1;32m----> 2\u001b[1;33m \u001b[0meps\u001b[0m \u001b[1;33m=\u001b[0m \u001b[0mfloat\u001b[0m\u001b[1;33m(\u001b[0m\u001b[0minput\u001b[0m\u001b[1;33m(\u001b[0m\u001b[1;34m'Ingrese el EPS de la empresa:'\u001b[0m\u001b[1;33m)\u001b[0m\u001b[1;33m)\u001b[0m\u001b[1;33m\u001b[0m\u001b[1;33m\u001b[0m\u001b[0m\n\u001b[0m\u001b[0;32m      3\u001b[0m \u001b[1;33m\u001b[0m\u001b[0m\n\u001b[0;32m      4\u001b[0m \u001b[1;32mtry\u001b[0m\u001b[1;33m:\u001b[0m\u001b[1;33m\u001b[0m\u001b[1;33m\u001b[0m\u001b[0m\n\u001b[0;32m      5\u001b[0m     \u001b[0mper\u001b[0m \u001b[1;33m=\u001b[0m \u001b[0mprecioAccion\u001b[0m \u001b[1;33m/\u001b[0m \u001b[0meps\u001b[0m\u001b[1;33m\u001b[0m\u001b[1;33m\u001b[0m\u001b[0m\n",
      "\u001b[1;31mValueError\u001b[0m: could not convert string to float: 'Juan'"
     ]
    }
   ],
   "source": [
    "precioAccion = 10\n",
    "eps = float(input('Ingrese el EPS de la empresa:'))\n",
    "\n",
    "try:\n",
    "    per = precioAccion / eps\n",
    "    print('Venimos bien')\n",
    "except:\n",
    "    per = 'No se pudo calcular'\n",
    "finally:\n",
    "    print(\"El precio actual es $\", precioAccion,\"\\nEl EPS ingresado $\",eps,\"\\nEl ratio P/E es\",per)"
   ]
  },
  {
   "cell_type": "code",
   "execution_count": 4,
   "metadata": {},
   "outputs": [],
   "source": [
    "import sys"
   ]
  },
  {
   "cell_type": "code",
   "execution_count": 9,
   "metadata": {},
   "outputs": [
    {
     "name": "stdout",
     "output_type": "stream",
     "text": [
      "Ingrese el EPS de la empresa:0\n",
      "<class 'ZeroDivisionError'>\n",
      "El precio actual es $ 10 \n",
      "El EPS ingresado $ 0.0 \n",
      "El ratio P/E es No se pudo calcular por error de division por cero\n"
     ]
    }
   ],
   "source": [
    "precioAccion = 10\n",
    "eps = float(input('Ingrese el EPS de la empresa:'))\n",
    "\n",
    "try:\n",
    "    per = precioAccion / eps\n",
    "except (ZeroDivisionError):\n",
    "    per = 'No se pudo calcular por error de division por cero'\n",
    "    tipoError = sys.exc_info()\n",
    "    print(tipoError[0])\n",
    "except (KeyError):\n",
    "    per = 'No se pudo calcular por error de clave'\n",
    "    tipoError = sys.exc_info()\n",
    "    print(tipoError[0])\n",
    "finally:\n",
    "    print(\"El precio actual es $\", precioAccion,\"\\nEl EPS ingresado $\",eps,\"\\nEl ratio P/E es\",per)"
   ]
  },
  {
   "cell_type": "raw",
   "metadata": {},
   "source": [
    "AssertionError\tRaised when an assert statement fails.\n",
    "AttributeError\tRaised when attribute assignment or reference fails.\n",
    "EOFError\tRaised when the input() function hits end-of-file condition.\n",
    "FloatingPointError\tRaised when a floating point operation fails.\n",
    "GeneratorExit\tRaise when a generator's close() method is called.\n",
    "ImportError\tRaised when the imported module is not found.\n",
    "IndexError\tRaised when the index of a sequence is out of range.\n",
    "KeyError\tRaised when a key is not found in a dictionary.\n",
    "KeyboardInterrupt\tRaised when the user hits the interrupt key (Ctrl+C or Delete).\n",
    "MemoryError\tRaised when an operation runs out of memory.\n",
    "NameError\tRaised when a variable is not found in local or global scope.\n",
    "NotImplementedError\tRaised by abstract methods.\n",
    "OSError\tRaised when system operation causes system related error.\n",
    "OverflowError\tRaised when the result of an arithmetic operation is too large to be represented.\n",
    "ReferenceError\tRaised when a weak reference proxy is used to access a garbage collected referent.\n",
    "RuntimeError\tRaised when an error does not fall under any other category.\n",
    "StopIteration\tRaised by next() function to indicate that there is no further item to be returned by iterator.\n",
    "SyntaxError\tRaised by parser when syntax error is encountered.\n",
    "IndentationError\tRaised when there is incorrect indentation.\n",
    "TabError\tRaised when indentation consists of inconsistent tabs and spaces.\n",
    "SystemError\tRaised when interpreter detects internal error.\n",
    "SystemExit\tRaised by sys.exit() function.\n",
    "TypeError\tRaised when a function or operation is applied to an object of incorrect type.\n",
    "UnboundLocalError\tRaised when a reference is made to a local variable in a function or method\n",
    "UnicodeError\tRaised when a Unicode-related encoding or decoding error occurs.\n",
    "UnicodeEncodeError\tRaised when a Unicode-related error occurs during encoding.\n",
    "UnicodeDecodeError\tRaised when a Unicode-related error occurs during decoding.\n",
    "UnicodeTranslateError\tRaised when a Unicode-related error occurs during translating.\n",
    "ValueError\tRaised when a function gets an argument of correct type but improper value.\n",
    "ZeroDivisionError\tRaised when the second operand of division or modulo operation is zero."
   ]
  },
  {
   "cell_type": "code",
   "execution_count": null,
   "metadata": {},
   "outputs": [],
   "source": []
  },
  {
   "cell_type": "code",
   "execution_count": null,
   "metadata": {},
   "outputs": [],
   "source": []
  },
  {
   "cell_type": "markdown",
   "metadata": {},
   "source": [
    "## Sentencia IF"
   ]
  },
  {
   "cell_type": "markdown",
   "metadata": {},
   "source": [
    "Antes de la sentencia IF veamos las condiciones por separado"
   ]
  },
  {
   "cell_type": "markdown",
   "metadata": {},
   "source": [
    "Una condicion escrita devuelve un return, es decir que pueda darle salida a una condicion y meterle ese return a una variable"
   ]
  },
  {
   "cell_type": "code",
   "execution_count": 10,
   "metadata": {},
   "outputs": [
    {
     "data": {
      "text/plain": [
       "False"
      ]
     },
     "execution_count": 10,
     "metadata": {},
     "output_type": "execute_result"
    }
   ],
   "source": [
    "COME = 2.75\n",
    "\n",
    "COME > 3"
   ]
  },
  {
   "cell_type": "code",
   "execution_count": 11,
   "metadata": {
    "scrolled": true
   },
   "outputs": [
    {
     "name": "stdout",
     "output_type": "stream",
     "text": [
      "False\n"
     ]
    }
   ],
   "source": [
    "pregunta = COME > 3\n",
    "print(pregunta)"
   ]
  },
  {
   "cell_type": "code",
   "execution_count": 98,
   "metadata": {
    "scrolled": true
   },
   "outputs": [
    {
     "name": "stdout",
     "output_type": "stream",
     "text": [
      "False False True\n"
     ]
    }
   ],
   "source": [
    "print(COME>3, COME==3, COME<3)"
   ]
  },
  {
   "cell_type": "code",
   "execution_count": 12,
   "metadata": {},
   "outputs": [],
   "source": [
    "come_menor_3 = COME < 3"
   ]
  },
  {
   "cell_type": "code",
   "execution_count": 13,
   "metadata": {},
   "outputs": [
    {
     "data": {
      "text/plain": [
       "True"
      ]
     },
     "execution_count": 13,
     "metadata": {},
     "output_type": "execute_result"
    }
   ],
   "source": [
    "come_menor_3"
   ]
  },
  {
   "cell_type": "code",
   "execution_count": null,
   "metadata": {},
   "outputs": [],
   "source": []
  },
  {
   "cell_type": "code",
   "execution_count": 99,
   "metadata": {},
   "outputs": [
    {
     "data": {
      "text/plain": [
       "False"
      ]
     },
     "execution_count": 99,
     "metadata": {},
     "output_type": "execute_result"
    }
   ],
   "source": [
    "COME == 3"
   ]
  },
  {
   "cell_type": "code",
   "execution_count": 14,
   "metadata": {},
   "outputs": [],
   "source": [
    "come_igual_3 = COME ==3"
   ]
  },
  {
   "cell_type": "code",
   "execution_count": null,
   "metadata": {},
   "outputs": [],
   "source": []
  },
  {
   "cell_type": "code",
   "execution_count": 15,
   "metadata": {},
   "outputs": [
    {
     "data": {
      "text/plain": [
       "False"
      ]
     },
     "execution_count": 15,
     "metadata": {},
     "output_type": "execute_result"
    }
   ],
   "source": [
    "come_igual_3"
   ]
  },
  {
   "cell_type": "markdown",
   "metadata": {},
   "source": [
    "Comparadores:\n",
    "    \n",
    "    * ==\n",
    "    * !=\n",
    "    * > \n",
    "    * >=\n",
    "    * <\n",
    "    * <=\n",
    "    \n",
    "    * is\n",
    "    * is not\n",
    "    * in\n",
    "    * not in"
   ]
  },
  {
   "cell_type": "code",
   "execution_count": 18,
   "metadata": {},
   "outputs": [
    {
     "data": {
      "text/plain": [
       "['GGAL', 'PAMP', 'YPFD', 'CEPU', 'EDN', 'LOMA', 'CRES']"
      ]
     },
     "execution_count": 18,
     "metadata": {},
     "output_type": "execute_result"
    }
   ],
   "source": [
    "listado = [\"GGAL\",\"PAMP\",\"YPFD\",\"CEPU\",\"EDN\",\"LOMA\",\"CRES\"]\n",
    "listado"
   ]
  },
  {
   "cell_type": "code",
   "execution_count": 23,
   "metadata": {},
   "outputs": [
    {
     "data": {
      "text/plain": [
       "False"
      ]
     },
     "execution_count": 23,
     "metadata": {},
     "output_type": "execute_result"
    }
   ],
   "source": [
    "ticker = \"GGAL\"\n",
    "\n",
    "ticker not in listado"
   ]
  },
  {
   "cell_type": "code",
   "execution_count": null,
   "metadata": {},
   "outputs": [],
   "source": []
  },
  {
   "cell_type": "code",
   "execution_count": null,
   "metadata": {},
   "outputs": [],
   "source": []
  },
  {
   "cell_type": "code",
   "execution_count": null,
   "metadata": {},
   "outputs": [],
   "source": []
  },
  {
   "cell_type": "markdown",
   "metadata": {},
   "source": [
    "### Un signo igual solo es una asignacion\n",
    "### Dos signos igual es una pregunta"
   ]
  },
  {
   "cell_type": "code",
   "execution_count": 100,
   "metadata": {},
   "outputs": [
    {
     "data": {
      "text/plain": [
       "True"
      ]
     },
     "execution_count": 100,
     "metadata": {},
     "output_type": "execute_result"
    }
   ],
   "source": [
    "COME != 3"
   ]
  },
  {
   "cell_type": "code",
   "execution_count": null,
   "metadata": {},
   "outputs": [],
   "source": []
  },
  {
   "cell_type": "markdown",
   "metadata": {},
   "source": [
    "Los condicionales son los que definen \"ramas\" del flujo, véanlas como \"bifurcaciones\""
   ]
  },
  {
   "cell_type": "markdown",
   "metadata": {},
   "source": [
    "Obviamente la sentencia IF lo que hace es preguntar si se cumple o no una condicion, en caso afirmativo ejecuta la línea que sigue despues de los DOS PUNTOS, caso negativo termina ahí si no hay else, pero si hubiera un else, ejecuta la línea o líneas que siguen despues de os DOS PUNTOS del else"
   ]
  },
  {
   "cell_type": "raw",
   "metadata": {},
   "source": [
    "Estrctura del IF\n",
    "\n",
    "if (condicion):\n",
    "    1° linea de codigo\n",
    "    2° línea de codigo\n",
    "    --------\n",
    "    n° linea de codigo\n",
    "else:\n",
    "    1° linea de codigo\n",
    "    2° línea de codigo\n",
    "    --------\n",
    "    n° linea de codigo"
   ]
  },
  {
   "cell_type": "markdown",
   "metadata": {},
   "source": [
    "### Concepto de la indentación"
   ]
  },
  {
   "cell_type": "markdown",
   "metadata": {},
   "source": [
    "Llamamos indentación a esa especie de sangría o espacio a la izquierda del texto que en programación nos sirve para dar jerarquía al orden en que el programa debe leer cada línea, es importante cuando se definen \"bloques de lineas\" que se ejecutan en forma asincrona pero respetando cierto orden o jerarquia ya que al no tener ni llaves ni ningun otro caracter para \"atrapar\" los bloques, la manera que tiene python de entender esto es con la indentacion, por eso es que a partir de ahora vamos a prestar atención no solo a los comandos sino en que nivel de indentacion se encuentran"
   ]
  },
  {
   "cell_type": "code",
   "execution_count": 29,
   "metadata": {},
   "outputs": [
    {
     "name": "stdout",
     "output_type": "stream",
     "text": [
      "seguimos\n"
     ]
    }
   ],
   "source": [
    "COME = 30\n",
    "if COME < 4:\n",
    "    print(\"Evalua Verdadero\")\n",
    "print('seguimos')"
   ]
  },
  {
   "cell_type": "markdown",
   "metadata": {},
   "source": [
    "Igualdades, OJO"
   ]
  },
  {
   "cell_type": "code",
   "execution_count": 111,
   "metadata": {},
   "outputs": [
    {
     "name": "stdout",
     "output_type": "stream",
     "text": [
      "Evalua Falso\n"
     ]
    }
   ],
   "source": [
    "COME = 3\n",
    "if (COME == 4):\n",
    "    print(\"Evalua Verdadero\")\n",
    "else:\n",
    "    print(\"Evalua Falso\")"
   ]
  },
  {
   "cell_type": "markdown",
   "metadata": {},
   "source": [
    "#### Varias maneras de preguntar si una posicion Long sale por stop Loss"
   ]
  },
  {
   "cell_type": "code",
   "execution_count": 112,
   "metadata": {},
   "outputs": [
    {
     "name": "stdout",
     "output_type": "stream",
     "text": [
      "Sigo Adentro\n"
     ]
    }
   ],
   "source": [
    "GGAL = 12\n",
    "if (GGAL < 11) :    # Mala practica dejar un parametro (stopLoss como constante)\n",
    "    print(\"Vender ya\")\n",
    "else:\n",
    "    print(\"Sigo Adentro\")"
   ]
  },
  {
   "cell_type": "code",
   "execution_count": 30,
   "metadata": {},
   "outputs": [
    {
     "name": "stdout",
     "output_type": "stream",
     "text": [
      "Sigo Adentro\n"
     ]
    }
   ],
   "source": [
    "GGAL = 12\n",
    "stopLoss = 11\n",
    "\n",
    "if (GGAL < stopLoss) :\n",
    "    print(\"Vender ya\")\n",
    "else:\n",
    "    print(\"Sigo Adentro\")"
   ]
  },
  {
   "cell_type": "code",
   "execution_count": null,
   "metadata": {},
   "outputs": [],
   "source": [
    "valor_critico = 1000\n",
    "\n",
    "saldo_liq_critico = saldo_liq > valor_critico "
   ]
  },
  {
   "cell_type": "code",
   "execution_count": null,
   "metadata": {},
   "outputs": [],
   "source": []
  },
  {
   "cell_type": "code",
   "execution_count": null,
   "metadata": {},
   "outputs": [],
   "source": []
  },
  {
   "cell_type": "markdown",
   "metadata": {},
   "source": [
    "Otra forma de preguntar, quiza mas prolija, ocupa mas espacio pero es mas prolijo"
   ]
  },
  {
   "cell_type": "code",
   "execution_count": 32,
   "metadata": {},
   "outputs": [
    {
     "data": {
      "text/plain": [
       "True"
      ]
     },
     "execution_count": 32,
     "metadata": {},
     "output_type": "execute_result"
    }
   ],
   "source": [
    "GGAL = 10\n",
    "stopLoss = 11\n",
    "\n",
    "salida_stop_loss = GGAL < stopLoss\n",
    "salida_stop_loss"
   ]
  },
  {
   "cell_type": "code",
   "execution_count": null,
   "metadata": {},
   "outputs": [],
   "source": []
  },
  {
   "cell_type": "code",
   "execution_count": null,
   "metadata": {},
   "outputs": [],
   "source": []
  },
  {
   "cell_type": "code",
   "execution_count": null,
   "metadata": {},
   "outputs": [],
   "source": []
  },
  {
   "cell_type": "code",
   "execution_count": 27,
   "metadata": {},
   "outputs": [
    {
     "name": "stdout",
     "output_type": "stream",
     "text": [
      "Sigo Adentro\n"
     ]
    }
   ],
   "source": [
    "GGAL = 12\n",
    "stopLoss = 11\n",
    "salida_stop_loss = GGAL < stopLoss\n",
    "\n",
    "if (salida_stop_loss) :\n",
    "    print(\"Vender ya\")\n",
    "else:\n",
    "    print(\"Sigo Adentro\")"
   ]
  },
  {
   "cell_type": "markdown",
   "metadata": {},
   "source": [
    "### Otros operadores útiles"
   ]
  },
  {
   "cell_type": "markdown",
   "metadata": {},
   "source": [
    "Un operador muy util para clarificar el código es el operador <b>is not</b> que significa obviamente \"no es\""
   ]
  },
  {
   "cell_type": "code",
   "execution_count": 116,
   "metadata": {},
   "outputs": [
    {
     "name": "stdout",
     "output_type": "stream",
     "text": [
      "Es GGAL\n"
     ]
    }
   ],
   "source": [
    "accion = \"GGAL\"\n",
    "\n",
    "if accion is not \"GGAL\":\n",
    "    print(\"No es GGAL\")\n",
    "else:\n",
    "    print(\"Es GGAL\")"
   ]
  },
  {
   "cell_type": "markdown",
   "metadata": {},
   "source": [
    "Otro operador extremadamente util es el operador <b>in</b> que me va a servir para saber si un valor está o no dentro de una lista"
   ]
  },
  {
   "cell_type": "code",
   "execution_count": 35,
   "metadata": {},
   "outputs": [
    {
     "name": "stdout",
     "output_type": "stream",
     "text": [
      "AAPL está en la cartera\n"
     ]
    }
   ],
   "source": [
    "accion = \"AAPL\"\n",
    "cartera = [\"AAPL\",\"AMZN\",\"FB\"]\n",
    "\n",
    "if accion in cartera:\n",
    "    print(f\"{accion} está en la cartera\")\n",
    "else:\n",
    "    print(F\"{accion} NO está en la cartera\")"
   ]
  },
  {
   "cell_type": "markdown",
   "metadata": {},
   "source": [
    "También se puede usar el operador con el <b>not</b> adelante como cualquier otro operador"
   ]
  },
  {
   "cell_type": "code",
   "execution_count": 124,
   "metadata": {},
   "outputs": [
    {
     "name": "stdout",
     "output_type": "stream",
     "text": [
      "Ojo que GGAL NO está en la cartera\n"
     ]
    }
   ],
   "source": [
    "accion = \"GGAL\"\n",
    "cartera = [\"AAPL\",\"AMZN\",\"FB\"]\n",
    "if accion not in cartera:\n",
    "    print(F\"Ojo que {accion} NO está en la cartera\")\n",
    "else:\n",
    "    pass\n",
    "    # ojo poner aca tal cosa\n",
    "\n",
    "\n"
   ]
  },
  {
   "cell_type": "markdown",
   "metadata": {},
   "source": [
    "# Concatenados / Anidados"
   ]
  },
  {
   "cell_type": "markdown",
   "metadata": {},
   "source": [
    "<img src=\"imagenes/decisiones.png\" style=\"width:150%;float:left;margin-left:-50px;margin-top:-20px;\">"
   ]
  },
  {
   "cell_type": "code",
   "execution_count": null,
   "metadata": {},
   "outputs": [],
   "source": []
  },
  {
   "cell_type": "markdown",
   "metadata": {},
   "source": [
    "<img src=\"imagenes/if_consecutivos.png\" style=\"float:left;width:90%\">"
   ]
  },
  {
   "cell_type": "markdown",
   "metadata": {},
   "source": [
    "Esto es muy util para saber dentro de que rango está algo"
   ]
  },
  {
   "cell_type": "code",
   "execution_count": 37,
   "metadata": {},
   "outputs": [
    {
     "name": "stdout",
     "output_type": "stream",
     "text": [
      "Ingresar el precio: 5\n",
      "Resistencia a vencer:  7\n"
     ]
    }
   ],
   "source": [
    "resistencias = [7,10,15,20]\n",
    "precio = float(input(\"Ingresar el precio: \"))\n",
    "\n",
    "if precio < resistencias[0]:\n",
    "    print(\"Resistencia a vencer: \", resistencias[0])\n",
    "    \n",
    "elif precio < resistencias[1]:\n",
    "    print(\"Resistencia a vencer: \", resistencias[1])\n",
    "    \n",
    "elif precio < resistencias[2]:\n",
    "    print(\"Resistencia a vencer: \", resistencias[2])\n",
    "    \n",
    "elif precio < resistencias[3]:\n",
    "    print(\"Resistencia a vencer: \", resistencias[3])  \n",
    "    \n",
    "else:\n",
    "    print(\"Estamos en máximos históricos\")\n",
    "    \n"
   ]
  },
  {
   "cell_type": "code",
   "execution_count": null,
   "metadata": {},
   "outputs": [],
   "source": [
    "<img src=\"imagenes/if_consecutivos.png\" style=\"float:left;width:90%\">\n",
    "\n",
    "Esto es muy util para saber dentro de que rango está algo\n",
    "\n",
    "resistencias = [7,10,15,20]\n",
    "precio = float(input(\"Ingresar el precio: \"))\n",
    "\n",
    "if precio < resistencias[0]:\n",
    "    print(\"Resistencia a vencer: \", resistencias[0])\n",
    "elif precio < resistencias[1]:\n",
    "    print(\"Resistencia a vencer: \", resistencias[1])\n",
    "elif precio < resistencias[2]:\n",
    "    print(\"Resistencia a vencer: \", resistencias[2])\n",
    "elif precio < resistencias[3]:\n",
    "    print(\"Resistencia a vencer: \", resistencias[3])    \n",
    "else:\n",
    "    print(\"Estamos en máximos históricos\")\n",
    "    \n"
   ]
  },
  {
   "cell_type": "code",
   "execution_count": null,
   "metadata": {},
   "outputs": [],
   "source": []
  },
  {
   "cell_type": "code",
   "execution_count": 40,
   "metadata": {},
   "outputs": [
    {
     "name": "stdout",
     "output_type": "stream",
     "text": [
      "Ingresar precio actual: 111\n",
      "Salida por take Profit\n"
     ]
    }
   ],
   "source": [
    "precio = float(input(\"Ingresar precio actual: \"))\n",
    "stopLoss = 95\n",
    "takeProfit = 110\n",
    "\n",
    "if precio > stopLoss:\n",
    "    if precio < takeProfit:\n",
    "        print(\"Hold\")\n",
    "    else:\n",
    "        print(\"Salida por take Profit\")\n",
    "else:\n",
    "    print(\"Salida por Stop Loss\")"
   ]
  },
  {
   "cell_type": "code",
   "execution_count": null,
   "metadata": {},
   "outputs": [],
   "source": []
  },
  {
   "cell_type": "code",
   "execution_count": null,
   "metadata": {},
   "outputs": [],
   "source": []
  },
  {
   "cell_type": "code",
   "execution_count": null,
   "metadata": {},
   "outputs": [],
   "source": []
  },
  {
   "cell_type": "code",
   "execution_count": null,
   "metadata": {},
   "outputs": [],
   "source": []
  }
 ],
 "metadata": {
  "kernelspec": {
   "display_name": "Python 3",
   "language": "python",
   "name": "python3"
  },
  "language_info": {
   "codemirror_mode": {
    "name": "ipython",
    "version": 3
   },
   "file_extension": ".py",
   "mimetype": "text/x-python",
   "name": "python",
   "nbconvert_exporter": "python",
   "pygments_lexer": "ipython3",
   "version": "3.7.4"
  },
  "varInspector": {
   "cols": {
    "lenName": 16,
    "lenType": 16,
    "lenVar": 40
   },
   "kernels_config": {
    "python": {
     "delete_cmd_postfix": "",
     "delete_cmd_prefix": "del ",
     "library": "var_list.py",
     "varRefreshCmd": "print(var_dic_list())"
    },
    "r": {
     "delete_cmd_postfix": ") ",
     "delete_cmd_prefix": "rm(",
     "library": "var_list.r",
     "varRefreshCmd": "cat(var_dic_list()) "
    }
   },
   "types_to_exclude": [
    "module",
    "function",
    "builtin_function_or_method",
    "instance",
    "_Feature"
   ],
   "window_display": false
  }
 },
 "nbformat": 4,
 "nbformat_minor": 4
}
