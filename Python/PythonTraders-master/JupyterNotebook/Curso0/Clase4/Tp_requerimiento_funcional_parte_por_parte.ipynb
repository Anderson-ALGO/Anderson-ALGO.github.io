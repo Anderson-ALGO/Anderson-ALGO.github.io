{
 "cells": [
  {
   "cell_type": "markdown",
   "metadata": {},
   "source": [
    "## TP - requerimiento funcional - desarmando el requerimiento \n",
    "\n",
    "Se requiere un algoritmo tal que dado un precio de entrada determinado por una orden de compra operada de un activo x determine momento de venta y exprese el resultado obtenido, sea para un take profit o para un stop loss.\n",
    "Consideraciones a tener en cuenta\n",
    "Take profit se ubica un 3% por encima de dicho precio \n",
    "Stop loss que se ubica 2% por debajo de ese precio\n",
    " \n",
    "Según como se mueva el precio determine si se activa el stop loss o el take profit \n",
    "\n",
    "Por otro lado hay otro tipo de distorsiones en los mercados dadas por los sentimientos de las redes sociales y otros medios de comunicación, para este ejercicio, se tomará en cuenta si un famoso twittero habla (publicá por las redes y para simplificar asumimos que es sobre el activo que tenemos en cartera), deberemos vender inmediatamente, sin importar los otros indicadores.\n",
    "\n",
    "Tanto la venta por perdida como por ganancia se simulará en esta ocasión con un print y con la actualización del saldo_liquido en el el diccionario y agregando la nueva tupla a la lista de órdenes ahora en venta, más adelante será además con ruteo de órdenes a mercado. \n",
    "\n",
    "Pre-condiciones \n",
    "Se deberá contar con una cartera simplificada en un diccionario denominado cartera y un saldo en cuenta corrientes en dinero. (del tipo que prefieran)\n",
    "\n",
    "Las comisiones serán del 0,3% por orden (compra o venta) \n",
    "Se comienza con un saldo de 100.000$ que se utilizara para la compra el precio del activo, y se necesitará imprimir al final el saldo resultante del trade.\n",
    "\n",
    "La cartera se asignará a un diccionario y dentro de las operaciones se encontrará la tupla que representa la orden de compra original con el precio de compra operado, comision, cantidad de nominales,  el saldo en la cuenta corriente disminuido .\n",
    "\n",
    "La simulación se hará tomando tanto precios en los límites, fuera de los límites  y dentro del rango en el que no ingresa al algoritmo.\n",
    "\n",
    "cartera ={\"saldo_liquido\": 100000, \"ordenes\" : [(\"compra\", \"GGAL\", 100, 132.15, \"ByMA\", \"48Hs\")]}\n"
   ]
  },
  {
   "cell_type": "code",
   "execution_count": null,
   "metadata": {},
   "outputs": [],
   "source": []
  },
  {
   "cell_type": "code",
   "execution_count": null,
   "metadata": {},
   "outputs": [],
   "source": []
  },
  {
   "cell_type": "code",
   "execution_count": null,
   "metadata": {},
   "outputs": [],
   "source": []
  },
  {
   "cell_type": "code",
   "execution_count": null,
   "metadata": {},
   "outputs": [],
   "source": []
  },
  {
   "cell_type": "markdown",
   "metadata": {},
   "source": [
    "Se requiere un algoritmo tal que dado un precio de entrada determinado por una orden de compra operada de un activo x determine momento de venta y exprese el resultado obtenido, sea para un take profit o para un stop loss.\n",
    "Consideraciones a tener en cuenta\n",
    "Take profit se ubica un 3% por encima de dicho precio \n",
    "Stop loss que se ubica 2% por debajo de ese precio\n",
    "\n"
   ]
  },
  {
   "cell_type": "markdown",
   "metadata": {},
   "source": [
    "#### Parte 1)\n",
    "    -Crear una variable precio_compra y ponerle un valor real sobre un activo que prefiera\n",
    "    -crear una variable take_profit a la que se le debe asignar un valor igual al precio + (el 3% del precio_compra)\n",
    "    -Crear una variable stop loss a la que se le debe asignar un valor resultado del precio - (el 2% del precio_compra)"
   ]
  },
  {
   "cell_type": "code",
   "execution_count": null,
   "metadata": {},
   "outputs": [],
   "source": []
  },
  {
   "cell_type": "code",
   "execution_count": null,
   "metadata": {},
   "outputs": [],
   "source": []
  },
  {
   "cell_type": "code",
   "execution_count": null,
   "metadata": {},
   "outputs": [],
   "source": []
  },
  {
   "cell_type": "code",
   "execution_count": null,
   "metadata": {},
   "outputs": [],
   "source": []
  },
  {
   "cell_type": "code",
   "execution_count": null,
   "metadata": {},
   "outputs": [],
   "source": []
  },
  {
   "cell_type": "markdown",
   "metadata": {},
   "source": [
    "#### Parte 2)\n",
    "Según como se mueva el precio determine si se activa el stop loss o el take profit \n",
    "\n",
    "    -Crear una variable precio_mercado y asignarle un valor de precio. en este momento no importa cual, sirve solo para el modelado del flujo.\n",
    "    \n",
    "    -Hacer una condicion simple que pregunte si el precio es mayor que el take_profit o menor que el stop_loss, imprimir vender. if( or ) "
   ]
  },
  {
   "cell_type": "code",
   "execution_count": null,
   "metadata": {},
   "outputs": [],
   "source": []
  },
  {
   "cell_type": "code",
   "execution_count": null,
   "metadata": {},
   "outputs": [],
   "source": []
  },
  {
   "cell_type": "code",
   "execution_count": null,
   "metadata": {},
   "outputs": [],
   "source": []
  },
  {
   "cell_type": "code",
   "execution_count": null,
   "metadata": {},
   "outputs": [],
   "source": []
  },
  {
   "cell_type": "code",
   "execution_count": null,
   "metadata": {},
   "outputs": [],
   "source": []
  },
  {
   "cell_type": "markdown",
   "metadata": {},
   "source": []
  },
  {
   "cell_type": "markdown",
   "metadata": {},
   "source": [
    "#### Parte 3)\n",
    "Por otro lado hay otro tipo de distorsiones en los mercados dadas por los sentimientos de las redes sociales y \n",
    "otros medios de comunicación, para este ejercicio, \n",
    "se tomará en cuenta si un famoso twittero habla (publicá por las redes y para simplificar asumimos que es sobre el\n",
    "activo que tenemos en cartera), deberemos vender inmediatamente, sin importar los otros indicadores.\n",
    "\n",
    "    -Crear una variable la_recomienda_influencer asignarle arbitrariamente un valor de verdad en False"
   ]
  },
  {
   "cell_type": "code",
   "execution_count": null,
   "metadata": {},
   "outputs": [],
   "source": []
  },
  {
   "cell_type": "code",
   "execution_count": null,
   "metadata": {},
   "outputs": [],
   "source": []
  },
  {
   "cell_type": "code",
   "execution_count": null,
   "metadata": {},
   "outputs": [],
   "source": []
  },
  {
   "cell_type": "markdown",
   "metadata": {},
   "source": [
    "#### Parte 4)\n",
    "Tanto la venta por perdida como por ganancia se simulará en esta ocasión con un print y con la actualización del saldo_liquido en el el diccionario y agregando la nueva tupla a la lista de órdenes ahora en venta, más adelante será además con ruteo de órdenes a mercado. \n",
    "    - Para no repetir codigo se necesita una variable debeVender que se inicializa en falso, en la parte del if se debera actualizar a verdadero segun el precio y corresponda segun lo requerido, imprimir el motivo por el que se debe vender.\n",
    "    - Crear una nueva condición en la que se ingresa si debe vender es Verdadero\n",
    "    - En la parte de adentro del if (cuando corresponde vender) actualizar los precios y crear la nueva orden (tupla) de venta, agregarla a la lista de ordenes y actualizar el saldo, con el importe al que se vendio "
   ]
  },
  {
   "cell_type": "code",
   "execution_count": null,
   "metadata": {},
   "outputs": [],
   "source": []
  },
  {
   "cell_type": "code",
   "execution_count": null,
   "metadata": {},
   "outputs": [],
   "source": []
  },
  {
   "cell_type": "code",
   "execution_count": null,
   "metadata": {},
   "outputs": [],
   "source": []
  },
  {
   "cell_type": "code",
   "execution_count": null,
   "metadata": {},
   "outputs": [],
   "source": []
  },
  {
   "cell_type": "markdown",
   "metadata": {},
   "source": [
    "#### Parte 5)\n",
    "    -En este paso se solicita unificar todos los fragmentos de codigo de las celdas anteriores en una unica celda. (en una nueva celda)\n",
    "    -se debera ejecutar diversas pruebas con diferentes set de datos, cada prueba es una ejecucion aparte.\n",
    "        - precio debajo del stop loss, debera vender y el saldo debera disminuir\n",
    "        - precio sobre el take profit, debera vender y el saldo debera aumentar.\n",
    "        - precio dentro del rango de no vender pero el tuitero habla, debera vender y el saldo debera verse disminuido\n",
    "        - precio dentro del rango de no vender y no habla el tuitero (osea en False) no debe pasar nada"
   ]
  },
  {
   "cell_type": "code",
   "execution_count": null,
   "metadata": {},
   "outputs": [],
   "source": []
  },
  {
   "cell_type": "code",
   "execution_count": null,
   "metadata": {},
   "outputs": [],
   "source": []
  },
  {
   "cell_type": "code",
   "execution_count": null,
   "metadata": {},
   "outputs": [],
   "source": []
  }
 ],
 "metadata": {
  "kernelspec": {
   "display_name": "Python 3",
   "language": "python",
   "name": "python3"
  },
  "language_info": {
   "codemirror_mode": {
    "name": "ipython",
    "version": 3
   },
   "file_extension": ".py",
   "mimetype": "text/x-python",
   "name": "python",
   "nbconvert_exporter": "python",
   "pygments_lexer": "ipython3",
   "version": "3.7.4"
  }
 },
 "nbformat": 4,
 "nbformat_minor": 2
}
