{
 "cells": [
  {
   "cell_type": "markdown",
   "metadata": {},
   "source": [
    "### Guia ejercicios funciones"
   ]
  },
  {
   "cell_type": "markdown",
   "metadata": {},
   "source": [
    "#### Ejercicio \n",
    "Definir una función con la siguiente firma: \n",
    "get_ticker_data(ticker, start, period, interval):\n",
    "\n",
    "Recibe un ticker valido y una fecha en formato yyyy-mm-dd esta indicara la fecha desde cuando traer los datos, un periodo y un intervalo \n",
    "Utilizar el sdk de yfinance, y para los distintos posibles valores de los parametros de la funcion revisar la documentacion de la funcion help(yf.download)\n",
    "Debe retornar el dataframe con el historico de dicho ticker.\n",
    "\n",
    "Se debera por una parte definir la función y en otro momento usarla (invocarla) \n",
    "\n",
    "Sugerencia de uso: get_ticker_data(\"GGAL.BA\", \"2000-10-04\", \"1m\",\"1d\")"
   ]
  },
  {
   "cell_type": "code",
   "execution_count": null,
   "metadata": {},
   "outputs": [],
   "source": []
  },
  {
   "cell_type": "code",
   "execution_count": null,
   "metadata": {},
   "outputs": [],
   "source": []
  },
  {
   "cell_type": "markdown",
   "metadata": {},
   "source": [
    "#### Ejercicio\n",
    "Se requiere definir una funcion calculadora(operacion,a,b) que sepa dado dos numeros (es precondicion que sean numeros, en el caso de que se pruebe con otra cosa el comportamiento no debe estar definido):\n",
    "    -sumarlos\n",
    "    -restarlos\n",
    "    -multiplicarlos\n",
    "    -generar la potencia del primero elevado al segundo\n",
    "\n",
    "Se requeriere hacerlo de dos formas diferentes, la primera todo dentro de la funcion calculadora por medio de if elif y else, la segunda utilizando sin ellos por medio de pasar funciones por parametros\n",
    "\n",
    "Evaluar ambas y escribir una breve conclusion de que forma prefiere y por que es la segunda."
   ]
  },
  {
   "cell_type": "code",
   "execution_count": null,
   "metadata": {},
   "outputs": [],
   "source": []
  },
  {
   "cell_type": "code",
   "execution_count": null,
   "metadata": {},
   "outputs": [],
   "source": []
  },
  {
   "cell_type": "markdown",
   "metadata": {},
   "source": [
    "#### Ejercicio \n",
    "se requiere definir una funcion de firma debo_vender(precio_compra, precio_actual, take_profit, stop_loss)\n",
    "\n",
    "La misma debe dado un precio de compra calcularel take profit y el stop que estan expresado como numeros flotantes en porcentaje, y evaluar si el precio actual es mayor al take profit o menor al stop loss \n",
    "El resultado de la funcion es un booleano que indica si debe o no vender dado esos precios y esos porcentajes operativos."
   ]
  },
  {
   "cell_type": "code",
   "execution_count": null,
   "metadata": {},
   "outputs": [],
   "source": []
  },
  {
   "cell_type": "code",
   "execution_count": null,
   "metadata": {},
   "outputs": [],
   "source": []
  },
  {
   "cell_type": "code",
   "execution_count": null,
   "metadata": {},
   "outputs": [],
   "source": []
  },
  {
   "cell_type": "code",
   "execution_count": null,
   "metadata": {},
   "outputs": [],
   "source": []
  },
  {
   "cell_type": "code",
   "execution_count": null,
   "metadata": {},
   "outputs": [],
   "source": []
  },
  {
   "cell_type": "code",
   "execution_count": null,
   "metadata": {},
   "outputs": [],
   "source": []
  },
  {
   "cell_type": "markdown",
   "metadata": {},
   "source": [
    "### Resueltos"
   ]
  },
  {
   "cell_type": "code",
   "execution_count": null,
   "metadata": {},
   "outputs": [],
   "source": [
    "\"\"\" \n",
    "def get_ticker_data(ticker, start, period, interval):\n",
    "    import yfinance as yf\n",
    "    return yf.download(ticker, start = start, period = period, interval = interval)\n",
    "\n",
    "\n",
    "get_ticker_data(\"GGAL.BA\", \"2000-10-04\", \"1m\",\"1d\")\n",
    "\"\"\""
   ]
  },
  {
   "cell_type": "code",
   "execution_count": null,
   "metadata": {},
   "outputs": [],
   "source": [
    "\"\"\"\n",
    "def calculadora(operacion, a,b):\n",
    "    resultado = 0\n",
    "    if(operacion==\"suma\"):\n",
    "        resultado = a + b\n",
    "    elif (operacion == \"resta\"):\n",
    "        resultado = a - b\n",
    "    elif(operacion == \"multiplicacion\"):\n",
    "        resultado = a * b\n",
    "    elif (operacion == \"potencia\"):\n",
    "        resultado == a ** b\n",
    "    else:\n",
    "        raise Exception(\"Operador invalido\")\n",
    "    return resultado\n",
    "\n",
    "print(calculadora(\"suma\", 1,2))\n",
    "print(calculadora(\"resta\", 1,2))\n",
    "print(calculadora(\"p\", 1,2))\n",
    "print(calculadora(\"resta\", 1,2))\n",
    "\n",
    "\"\"\""
   ]
  },
  {
   "cell_type": "code",
   "execution_count": 20,
   "metadata": {},
   "outputs": [
    {
     "data": {
      "text/plain": [
       "3"
      ]
     },
     "execution_count": 20,
     "metadata": {},
     "output_type": "execute_result"
    }
   ],
   "source": [
    "\"\"\"\n",
    "def calculadora(operacion, a,b):\n",
    "    return operacion(a,b)\n",
    "    \n",
    "def suma(a,b):\n",
    "    return a + b\n",
    "\n",
    "def resta(a,b):\n",
    "    return a + b\n",
    "\n",
    "def multiplicacion(a,b):\n",
    "    return a * b\n",
    "\n",
    "def potencia(a,b):\n",
    "    return a ** b\n",
    "\n",
    "calculadora(suma, 1,2)\n",
    "\n",
    "\"\"\""
   ]
  },
  {
   "cell_type": "code",
   "execution_count": 31,
   "metadata": {},
   "outputs": [],
   "source": [
    "\"\"\"\n",
    "def debo_vender(precio_compra, precio_actual, take_profit, stop_loss):\n",
    "    precio_perdida = precio_compra * (1 -  stop_loss)\n",
    "    precio_ganancia = precio_compra * (1 + take_profit)\n",
    "    return  precio_actual <= precio_perdida or precio_actual >= precio_ganancia\n",
    "debo_vender(100, 102, 0.03, 0.02)\n",
    "debo_vender(100, 102, 0.02, 0.02)\n",
    "\n",
    "\"\"\""
   ]
  },
  {
   "cell_type": "code",
   "execution_count": null,
   "metadata": {},
   "outputs": [],
   "source": []
  },
  {
   "cell_type": "code",
   "execution_count": null,
   "metadata": {},
   "outputs": [],
   "source": []
  },
  {
   "cell_type": "code",
   "execution_count": null,
   "metadata": {},
   "outputs": [],
   "source": []
  }
 ],
 "metadata": {
  "kernelspec": {
   "display_name": "Python3",
   "language": "python",
   "name": "python3"
  },
  "language_info": {
   "codemirror_mode": {
    "name": "ipython",
    "version": 2
   },
   "file_extension": ".py",
   "mimetype": "text/x-python",
   "name": "python",
   "nbconvert_exporter": "python",
   "pygments_lexer": "ipython2",
   "version": "2.7.16"
  }
 },
 "nbformat": 4,
 "nbformat_minor": 2
}
