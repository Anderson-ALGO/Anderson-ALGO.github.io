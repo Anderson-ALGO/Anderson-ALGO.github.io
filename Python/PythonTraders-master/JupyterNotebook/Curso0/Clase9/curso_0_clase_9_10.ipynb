{
 "cells": [
  {
   "cell_type": "code",
   "execution_count": 2,
   "metadata": {},
   "outputs": [
    {
     "name": "stdout",
     "output_type": "stream",
     "text": [
      "[*********************100%***********************]  1 of 1 downloaded\n"
     ]
    }
   ],
   "source": [
    "import yfinance as yf\n",
    "\n",
    "data = yf.download('GGAL')\n",
    "data['sma_21'] = data['Adj Close'].rolling(21).mean()\n",
    "data['sma_42'] = data['Adj Close'].rolling(42).mean()\n",
    "data['sma_200'] = data['Adj Close'].rolling(200).mean()\n",
    "data[\"Indicador\"] = (data[\"sma_21\"]>data[\"sma_42\"]) & (data[\"sma_21\"]>data[\"sma_200\"])"
   ]
  },
  {
   "cell_type": "code",
   "execution_count": 10,
   "metadata": {
    "scrolled": false
   },
   "outputs": [
    {
     "data": {
      "text/html": [
       "<div>\n",
       "<style scoped>\n",
       "    .dataframe tbody tr th:only-of-type {\n",
       "        vertical-align: middle;\n",
       "    }\n",
       "\n",
       "    .dataframe tbody tr th {\n",
       "        vertical-align: top;\n",
       "    }\n",
       "\n",
       "    .dataframe thead th {\n",
       "        text-align: right;\n",
       "    }\n",
       "</style>\n",
       "<table border=\"1\" class=\"dataframe\">\n",
       "  <thead>\n",
       "    <tr style=\"text-align: right;\">\n",
       "      <th></th>\n",
       "      <th>Open</th>\n",
       "      <th>High</th>\n",
       "      <th>Low</th>\n",
       "      <th>Close</th>\n",
       "      <th>Adj Close</th>\n",
       "      <th>Volume</th>\n",
       "      <th>sma_21</th>\n",
       "      <th>sma_42</th>\n",
       "      <th>sma_200</th>\n",
       "      <th>Indicador</th>\n",
       "      <th>volume_anterior</th>\n",
       "      <th>vol_medio</th>\n",
       "      <th>salto_volumen</th>\n",
       "    </tr>\n",
       "    <tr>\n",
       "      <th>Date</th>\n",
       "      <th></th>\n",
       "      <th></th>\n",
       "      <th></th>\n",
       "      <th></th>\n",
       "      <th></th>\n",
       "      <th></th>\n",
       "      <th></th>\n",
       "      <th></th>\n",
       "      <th></th>\n",
       "      <th></th>\n",
       "      <th></th>\n",
       "      <th></th>\n",
       "      <th></th>\n",
       "    </tr>\n",
       "  </thead>\n",
       "  <tbody>\n",
       "    <tr>\n",
       "      <th>2002-08-22</th>\n",
       "      <td>0.70</td>\n",
       "      <td>0.73</td>\n",
       "      <td>0.67</td>\n",
       "      <td>0.72</td>\n",
       "      <td>0.69</td>\n",
       "      <td>2948100</td>\n",
       "      <td>0.619524</td>\n",
       "      <td>0.585476</td>\n",
       "      <td>1.73285</td>\n",
       "      <td>False</td>\n",
       "      <td>76200.0</td>\n",
       "      <td>223280.0</td>\n",
       "      <td>12.203601</td>\n",
       "    </tr>\n",
       "    <tr>\n",
       "      <th>2019-08-12</th>\n",
       "      <td>19.31</td>\n",
       "      <td>19.36</td>\n",
       "      <td>15.17</td>\n",
       "      <td>16.75</td>\n",
       "      <td>16.75</td>\n",
       "      <td>30223700</td>\n",
       "      <td>34.646667</td>\n",
       "      <td>34.965952</td>\n",
       "      <td>29.02030</td>\n",
       "      <td>False</td>\n",
       "      <td>1130600.0</td>\n",
       "      <td>2467360.0</td>\n",
       "      <td>11.249408</td>\n",
       "    </tr>\n",
       "    <tr>\n",
       "      <th>2010-07-15</th>\n",
       "      <td>6.10</td>\n",
       "      <td>6.30</td>\n",
       "      <td>6.00</td>\n",
       "      <td>6.17</td>\n",
       "      <td>5.91</td>\n",
       "      <td>1576200</td>\n",
       "      <td>5.811905</td>\n",
       "      <td>5.566429</td>\n",
       "      <td>5.37515</td>\n",
       "      <td>True</td>\n",
       "      <td>119000.0</td>\n",
       "      <td>186280.0</td>\n",
       "      <td>7.461456</td>\n",
       "    </tr>\n",
       "    <tr>\n",
       "      <th>2010-08-02</th>\n",
       "      <td>6.44</td>\n",
       "      <td>6.81</td>\n",
       "      <td>6.27</td>\n",
       "      <td>6.66</td>\n",
       "      <td>6.38</td>\n",
       "      <td>5301400</td>\n",
       "      <td>5.953810</td>\n",
       "      <td>5.816190</td>\n",
       "      <td>5.44740</td>\n",
       "      <td>True</td>\n",
       "      <td>1179700.0</td>\n",
       "      <td>636270.0</td>\n",
       "      <td>7.331997</td>\n",
       "    </tr>\n",
       "    <tr>\n",
       "      <th>2019-05-28</th>\n",
       "      <td>26.60</td>\n",
       "      <td>27.01</td>\n",
       "      <td>25.16</td>\n",
       "      <td>25.76</td>\n",
       "      <td>25.76</td>\n",
       "      <td>15804000</td>\n",
       "      <td>24.270952</td>\n",
       "      <td>24.235952</td>\n",
       "      <td>26.82495</td>\n",
       "      <td>False</td>\n",
       "      <td>1125100.0</td>\n",
       "      <td>1982040.0</td>\n",
       "      <td>6.973603</td>\n",
       "    </tr>\n",
       "    <tr>\n",
       "      <th>2017-09-27</th>\n",
       "      <td>51.00</td>\n",
       "      <td>51.05</td>\n",
       "      <td>49.00</td>\n",
       "      <td>49.35</td>\n",
       "      <td>48.38</td>\n",
       "      <td>4079600</td>\n",
       "      <td>45.956190</td>\n",
       "      <td>42.707857</td>\n",
       "      <td>37.46610</td>\n",
       "      <td>True</td>\n",
       "      <td>514400.0</td>\n",
       "      <td>542115.0</td>\n",
       "      <td>6.525341</td>\n",
       "    </tr>\n",
       "    <tr>\n",
       "      <th>2009-04-09</th>\n",
       "      <td>1.99</td>\n",
       "      <td>2.00</td>\n",
       "      <td>1.97</td>\n",
       "      <td>1.98</td>\n",
       "      <td>1.90</td>\n",
       "      <td>887100</td>\n",
       "      <td>1.711905</td>\n",
       "      <td>1.729286</td>\n",
       "      <td>2.85680</td>\n",
       "      <td>False</td>\n",
       "      <td>1100.0</td>\n",
       "      <td>136695.0</td>\n",
       "      <td>5.489630</td>\n",
       "    </tr>\n",
       "    <tr>\n",
       "      <th>2010-10-19</th>\n",
       "      <td>9.92</td>\n",
       "      <td>10.32</td>\n",
       "      <td>9.92</td>\n",
       "      <td>10.31</td>\n",
       "      <td>9.88</td>\n",
       "      <td>2787600</td>\n",
       "      <td>9.531429</td>\n",
       "      <td>8.825952</td>\n",
       "      <td>6.29070</td>\n",
       "      <td>True</td>\n",
       "      <td>121500.0</td>\n",
       "      <td>435780.0</td>\n",
       "      <td>5.396806</td>\n",
       "    </tr>\n",
       "    <tr>\n",
       "      <th>2010-10-27</th>\n",
       "      <td>12.17</td>\n",
       "      <td>15.09</td>\n",
       "      <td>12.17</td>\n",
       "      <td>13.01</td>\n",
       "      <td>12.47</td>\n",
       "      <td>4680400</td>\n",
       "      <td>10.133333</td>\n",
       "      <td>9.349524</td>\n",
       "      <td>6.46810</td>\n",
       "      <td>True</td>\n",
       "      <td>1189400.0</td>\n",
       "      <td>770355.0</td>\n",
       "      <td>5.075640</td>\n",
       "    </tr>\n",
       "    <tr>\n",
       "      <th>2005-09-15</th>\n",
       "      <td>8.07</td>\n",
       "      <td>8.45</td>\n",
       "      <td>8.05</td>\n",
       "      <td>8.28</td>\n",
       "      <td>7.93</td>\n",
       "      <td>1805400</td>\n",
       "      <td>7.892381</td>\n",
       "      <td>8.075000</td>\n",
       "      <td>7.90740</td>\n",
       "      <td>False</td>\n",
       "      <td>357800.0</td>\n",
       "      <td>306355.0</td>\n",
       "      <td>4.893163</td>\n",
       "    </tr>\n",
       "  </tbody>\n",
       "</table>\n",
       "</div>"
      ],
      "text/plain": [
       "             Open   High    Low  Close  Adj Close    Volume     sma_21  \\\n",
       "Date                                                                     \n",
       "2002-08-22   0.70   0.73   0.67   0.72       0.69   2948100   0.619524   \n",
       "2019-08-12  19.31  19.36  15.17  16.75      16.75  30223700  34.646667   \n",
       "2010-07-15   6.10   6.30   6.00   6.17       5.91   1576200   5.811905   \n",
       "2010-08-02   6.44   6.81   6.27   6.66       6.38   5301400   5.953810   \n",
       "2019-05-28  26.60  27.01  25.16  25.76      25.76  15804000  24.270952   \n",
       "2017-09-27  51.00  51.05  49.00  49.35      48.38   4079600  45.956190   \n",
       "2009-04-09   1.99   2.00   1.97   1.98       1.90    887100   1.711905   \n",
       "2010-10-19   9.92  10.32   9.92  10.31       9.88   2787600   9.531429   \n",
       "2010-10-27  12.17  15.09  12.17  13.01      12.47   4680400  10.133333   \n",
       "2005-09-15   8.07   8.45   8.05   8.28       7.93   1805400   7.892381   \n",
       "\n",
       "               sma_42   sma_200  Indicador  volume_anterior  vol_medio  \\\n",
       "Date                                                                     \n",
       "2002-08-22   0.585476   1.73285      False          76200.0   223280.0   \n",
       "2019-08-12  34.965952  29.02030      False        1130600.0  2467360.0   \n",
       "2010-07-15   5.566429   5.37515       True         119000.0   186280.0   \n",
       "2010-08-02   5.816190   5.44740       True        1179700.0   636270.0   \n",
       "2019-05-28  24.235952  26.82495      False        1125100.0  1982040.0   \n",
       "2017-09-27  42.707857  37.46610       True         514400.0   542115.0   \n",
       "2009-04-09   1.729286   2.85680      False           1100.0   136695.0   \n",
       "2010-10-19   8.825952   6.29070       True         121500.0   435780.0   \n",
       "2010-10-27   9.349524   6.46810       True        1189400.0   770355.0   \n",
       "2005-09-15   8.075000   7.90740      False         357800.0   306355.0   \n",
       "\n",
       "            salto_volumen  \n",
       "Date                       \n",
       "2002-08-22      12.203601  \n",
       "2019-08-12      11.249408  \n",
       "2010-07-15       7.461456  \n",
       "2010-08-02       7.331997  \n",
       "2019-05-28       6.973603  \n",
       "2017-09-27       6.525341  \n",
       "2009-04-09       5.489630  \n",
       "2010-10-19       5.396806  \n",
       "2010-10-27       5.075640  \n",
       "2005-09-15       4.893163  "
      ]
     },
     "execution_count": 10,
     "metadata": {},
     "output_type": "execute_result"
    }
   ],
   "source": [
    "data['vol_medio'] = data['Volume'].rolling(20).mean()\n",
    "data['salto_volumen'] = data['Volume'] / data['vol_medio'] - 1\n",
    "data = data.dropna().copy()\n",
    "data.sort_values('salto_volumen', ascending=False).head(10)"
   ]
  },
  {
   "cell_type": "code",
   "execution_count": null,
   "metadata": {},
   "outputs": [],
   "source": []
  },
  {
   "cell_type": "code",
   "execution_count": null,
   "metadata": {},
   "outputs": [],
   "source": []
  },
  {
   "cell_type": "code",
   "execution_count": null,
   "metadata": {},
   "outputs": [],
   "source": []
  },
  {
   "cell_type": "code",
   "execution_count": null,
   "metadata": {},
   "outputs": [],
   "source": []
  },
  {
   "cell_type": "code",
   "execution_count": null,
   "metadata": {},
   "outputs": [],
   "source": []
  },
  {
   "cell_type": "markdown",
   "metadata": {},
   "source": [
    "# Funciones"
   ]
  },
  {
   "cell_type": "markdown",
   "metadata": {},
   "source": [
    "## Funciones sin return, solo que ejecuten una accion"
   ]
  },
  {
   "cell_type": "code",
   "execution_count": 63,
   "metadata": {},
   "outputs": [
    {
     "name": "stdout",
     "output_type": "stream",
     "text": [
      "El reglamento de este broker es que el usuario....\n",
      "Listo termina la funcion\n"
     ]
    }
   ],
   "source": [
    "def mandar_reglamento():\n",
    "    print(\"El reglamento de este broker es que el usuario....\")\n",
    "    print('Listo termina la funcion')\n",
    "    \n",
    "mandar_reglamento()"
   ]
  },
  {
   "cell_type": "code",
   "execution_count": 65,
   "metadata": {
    "scrolled": true
   },
   "outputs": [
    {
     "name": "stdout",
     "output_type": "stream",
     "text": [
      "El reglamento de este broker es que el usuario....\n",
      "Listo termina la funcion\n"
     ]
    }
   ],
   "source": [
    "mandar_reglamento()"
   ]
  },
  {
   "cell_type": "code",
   "execution_count": null,
   "metadata": {},
   "outputs": [],
   "source": []
  },
  {
   "cell_type": "code",
   "execution_count": 66,
   "metadata": {},
   "outputs": [
    {
     "name": "stdout",
     "output_type": "stream",
     "text": [
      "Hola que tal\n"
     ]
    }
   ],
   "source": [
    "def saludar():\n",
    "    print(\"Hola que tal\")\n",
    "    \n",
    "saludar()"
   ]
  },
  {
   "cell_type": "code",
   "execution_count": 67,
   "metadata": {},
   "outputs": [
    {
     "name": "stdout",
     "output_type": "stream",
     "text": [
      "Hola que tal\n"
     ]
    }
   ],
   "source": [
    "a = saludar()"
   ]
  },
  {
   "cell_type": "code",
   "execution_count": 69,
   "metadata": {},
   "outputs": [
    {
     "name": "stdout",
     "output_type": "stream",
     "text": [
      "None\n"
     ]
    }
   ],
   "source": [
    "print(a)"
   ]
  },
  {
   "cell_type": "code",
   "execution_count": null,
   "metadata": {},
   "outputs": [],
   "source": []
  },
  {
   "cell_type": "code",
   "execution_count": null,
   "metadata": {},
   "outputs": [],
   "source": []
  },
  {
   "cell_type": "markdown",
   "metadata": {},
   "source": [
    "## Funciones sin return con variables internas"
   ]
  },
  {
   "cell_type": "markdown",
   "metadata": {},
   "source": [
    "* Estadistica descriptiva\n",
    "* inferencial\n",
    "* kurtosis\n",
    "* skew\n",
    "* calculo matricial\n",
    "* calculo diferencial"
   ]
  },
  {
   "cell_type": "code",
   "execution_count": null,
   "metadata": {},
   "outputs": [],
   "source": [
    "y = a x^2 + b x + c"
   ]
  },
  {
   "cell_type": "code",
   "execution_count": 72,
   "metadata": {},
   "outputs": [
    {
     "name": "stdout",
     "output_type": "stream",
     "text": [
      "Ingresa a: 1\n",
      "Ingresa b: 2\n",
      "Ingresa c: 3\n",
      "Las raices son:  (-0.9999999999999999+1.4142135623730951j) (-1-1.4142135623730951j)\n"
     ]
    }
   ],
   "source": [
    "def cuadratica():\n",
    "    try:\n",
    "        a = float(input(\"Ingresa a: \"))\n",
    "        b = float(input(\"Ingresa b: \"))\n",
    "        c = float(input(\"Ingresa c: \"))\n",
    "        c1 = (-b + (b**2 - 4 * a * c)**0.5) / 2 * a\n",
    "        c2 = (-b - (b**2 - 4 * a * c)**0.5) / 2 * a\n",
    "    except:\n",
    "        c1 = \"No se puede calcular\"\n",
    "        c2 = \"No se puede calcular\"\n",
    "    print('Las raices son: ', c1, c2)\n",
    "    \n",
    "\n",
    "raices = cuadratica()"
   ]
  },
  {
   "cell_type": "code",
   "execution_count": 74,
   "metadata": {},
   "outputs": [
    {
     "name": "stdout",
     "output_type": "stream",
     "text": [
      "None\n"
     ]
    }
   ],
   "source": [
    "print(raices)"
   ]
  },
  {
   "cell_type": "code",
   "execution_count": 76,
   "metadata": {},
   "outputs": [
    {
     "ename": "NameError",
     "evalue": "name 'c1' is not defined",
     "output_type": "error",
     "traceback": [
      "\u001b[1;31m---------------------------------------------------------------------------\u001b[0m",
      "\u001b[1;31mNameError\u001b[0m                                 Traceback (most recent call last)",
      "\u001b[1;32m<ipython-input-76-aa87f5f66abb>\u001b[0m in \u001b[0;36m<module>\u001b[1;34m\u001b[0m\n\u001b[1;32m----> 1\u001b[1;33m \u001b[0mprint\u001b[0m\u001b[1;33m(\u001b[0m\u001b[0mc1\u001b[0m\u001b[1;33m)\u001b[0m\u001b[1;33m\u001b[0m\u001b[1;33m\u001b[0m\u001b[0m\n\u001b[0m",
      "\u001b[1;31mNameError\u001b[0m: name 'c1' is not defined"
     ]
    }
   ],
   "source": [
    "print(c1)"
   ]
  },
  {
   "cell_type": "code",
   "execution_count": null,
   "metadata": {},
   "outputs": [],
   "source": []
  },
  {
   "cell_type": "markdown",
   "metadata": {},
   "source": [
    "--- OJO TEMA SCOPE ---"
   ]
  },
  {
   "cell_type": "code",
   "execution_count": null,
   "metadata": {},
   "outputs": [],
   "source": []
  },
  {
   "cell_type": "code",
   "execution_count": null,
   "metadata": {},
   "outputs": [],
   "source": []
  },
  {
   "cell_type": "markdown",
   "metadata": {},
   "source": [
    "## Funciones con return, que devuelvan uno o mas valor/es"
   ]
  },
  {
   "cell_type": "code",
   "execution_count": 77,
   "metadata": {},
   "outputs": [
    {
     "name": "stdout",
     "output_type": "stream",
     "text": [
      "Hola que tal\n"
     ]
    }
   ],
   "source": [
    "def saludarConReturn():\n",
    "    print(\"Hola que tal\")\n",
    "    return 5\n",
    "\n",
    "a = saludarConReturn()"
   ]
  },
  {
   "cell_type": "code",
   "execution_count": 78,
   "metadata": {},
   "outputs": [
    {
     "data": {
      "text/plain": [
       "5"
      ]
     },
     "execution_count": 78,
     "metadata": {},
     "output_type": "execute_result"
    }
   ],
   "source": [
    "a"
   ]
  },
  {
   "cell_type": "code",
   "execution_count": null,
   "metadata": {},
   "outputs": [],
   "source": []
  },
  {
   "cell_type": "code",
   "execution_count": null,
   "metadata": {},
   "outputs": [],
   "source": []
  },
  {
   "cell_type": "code",
   "execution_count": 79,
   "metadata": {},
   "outputs": [
    {
     "name": "stdout",
     "output_type": "stream",
     "text": [
      "Ingresa a: 1\n",
      "Ingresa b: 2\n",
      "Ingresa c: -3\n"
     ]
    }
   ],
   "source": [
    "def cuadratica():\n",
    "    try:\n",
    "        a = float(input(\"Ingresa a: \"))\n",
    "        b = float(input(\"Ingresa b: \"))\n",
    "        c = float(input(\"Ingresa c: \"))\n",
    "        c1 = (-b + (b**2 - 4 * a * c)**0.5) / 2 * a\n",
    "        c2 = (-b - (b**2 - 4 * a * c)**0.5) / 2 * a\n",
    "    except:\n",
    "        c1 = \"No se puede calcular\"\n",
    "        c2 = \"No se puede calcular\"\n",
    "\n",
    "    return c1, c2\n",
    "\n",
    "\n",
    "raiz1, raiz2 = cuadratica()"
   ]
  },
  {
   "cell_type": "code",
   "execution_count": 80,
   "metadata": {},
   "outputs": [
    {
     "data": {
      "text/plain": [
       "(1.0, -3.0)"
      ]
     },
     "execution_count": 80,
     "metadata": {},
     "output_type": "execute_result"
    }
   ],
   "source": [
    "raiz1, raiz2"
   ]
  },
  {
   "cell_type": "code",
   "execution_count": 83,
   "metadata": {},
   "outputs": [
    {
     "name": "stdout",
     "output_type": "stream",
     "text": [
      "Ingresa a: 1\n",
      "Ingresa b: 2\n",
      "Ingresa c: -3\n"
     ]
    }
   ],
   "source": [
    "def cuadratica():\n",
    "    try:\n",
    "        a = float(input(\"Ingresa a: \"))\n",
    "        b = float(input(\"Ingresa b: \"))\n",
    "        c = float(input(\"Ingresa c: \"))\n",
    "        c1 = (-b + (b**2 - 4 * a * c)**0.5) / 2 * a\n",
    "        c2 = (-b - (b**2 - 4 * a * c)**0.5) / 2 * a\n",
    "    except:\n",
    "        c1 = \"No se puede calcular\"\n",
    "        c2 = \"No se puede calcular\"\n",
    "\n",
    "    return {'raiz 1':c1, 'raiz 2':c2}\n",
    "\n",
    "\n",
    "res = cuadratica()"
   ]
  },
  {
   "cell_type": "code",
   "execution_count": 84,
   "metadata": {},
   "outputs": [
    {
     "data": {
      "text/plain": [
       "{'raiz 1': 1.0, 'raiz 2': -3.0}"
      ]
     },
     "execution_count": 84,
     "metadata": {},
     "output_type": "execute_result"
    }
   ],
   "source": [
    "res"
   ]
  },
  {
   "cell_type": "code",
   "execution_count": null,
   "metadata": {},
   "outputs": [],
   "source": []
  },
  {
   "cell_type": "code",
   "execution_count": 85,
   "metadata": {},
   "outputs": [],
   "source": [
    "l = [9,6,4,3,1]\n",
    "\n",
    "ordenada = l.sort()\n",
    "ordenada"
   ]
  },
  {
   "cell_type": "code",
   "execution_count": 86,
   "metadata": {},
   "outputs": [
    {
     "name": "stdout",
     "output_type": "stream",
     "text": [
      "None\n"
     ]
    }
   ],
   "source": [
    "print(ordenada)"
   ]
  },
  {
   "cell_type": "code",
   "execution_count": 87,
   "metadata": {},
   "outputs": [
    {
     "data": {
      "text/plain": [
       "[1, 3, 4, 6, 9]"
      ]
     },
     "execution_count": 87,
     "metadata": {},
     "output_type": "execute_result"
    }
   ],
   "source": [
    "l"
   ]
  },
  {
   "cell_type": "code",
   "execution_count": null,
   "metadata": {},
   "outputs": [],
   "source": []
  },
  {
   "cell_type": "code",
   "execution_count": 91,
   "metadata": {},
   "outputs": [
    {
     "data": {
      "image/png": "[encoded data removed]",
      "text/plain": [
       "<Figure size 432x288 with 1 Axes>"
      ]
     },
     "metadata": {
      "needs_background": "light"
     },
     "output_type": "display_data"
    },
    {
     "data": {
      "text/plain": [
       "<sympy.plotting.plot.Plot at 0x1ddf2d3c348>"
      ]
     },
     "execution_count": 91,
     "metadata": {},
     "output_type": "execute_result"
    }
   ],
   "source": [
    "from sympy import *\n",
    "\n",
    "x,y = symbols('x,y')\n",
    "plot(x**2 + 2*x -3, (x,-5,5))\n"
   ]
  },
  {
   "cell_type": "code",
   "execution_count": null,
   "metadata": {},
   "outputs": [],
   "source": []
  },
  {
   "cell_type": "code",
   "execution_count": null,
   "metadata": {},
   "outputs": [],
   "source": []
  },
  {
   "cell_type": "markdown",
   "metadata": {},
   "source": [
    "## Funciones que acepten Argumentos"
   ]
  },
  {
   "cell_type": "code",
   "execution_count": 103,
   "metadata": {},
   "outputs": [
    {
     "data": {
      "text/plain": [
       "(142.5, 157.5)"
      ]
     },
     "execution_count": 103,
     "metadata": {},
     "output_type": "execute_result"
    }
   ],
   "source": [
    "def banda_porcentual(precio, porcentaje):\n",
    "    inf = round(precio * (1 - (porcentaje / 100)),4)\n",
    "    sup = round(precio * (1 + (porcentaje / 100)),4)\n",
    "    return inf, sup\n",
    "\n",
    "\n",
    "banda_porcentual(precio=150, porcentaje=5)"
   ]
  },
  {
   "cell_type": "code",
   "execution_count": null,
   "metadata": {},
   "outputs": [],
   "source": []
  },
  {
   "cell_type": "code",
   "execution_count": 104,
   "metadata": {},
   "outputs": [
    {
     "data": {
      "text/plain": [
       "(2.7, 3.3)"
      ]
     },
     "execution_count": 104,
     "metadata": {},
     "output_type": "execute_result"
    }
   ],
   "source": [
    "precios = [3,4,5]\n",
    "p = precios[0]\n",
    "\n",
    "banda_porcentual(precio=p, porcentaje=10)"
   ]
  },
  {
   "cell_type": "code",
   "execution_count": 93,
   "metadata": {
    "scrolled": true
   },
   "outputs": [
    {
     "data": {
      "text/plain": [
       "(3.069, 3.1310000000000002)"
      ]
     },
     "execution_count": 93,
     "metadata": {},
     "output_type": "execute_result"
    }
   ],
   "source": [
    "banda_porcentual(precio=3.1, porcentaje=1)"
   ]
  },
  {
   "cell_type": "code",
   "execution_count": 94,
   "metadata": {},
   "outputs": [
    {
     "data": {
      "text/plain": [
       "(784.0, 816.0)"
      ]
     },
     "execution_count": 94,
     "metadata": {},
     "output_type": "execute_result"
    }
   ],
   "source": [
    "banda_porcentual(precio=800, porcentaje=2)"
   ]
  },
  {
   "cell_type": "code",
   "execution_count": 95,
   "metadata": {},
   "outputs": [
    {
     "data": {
      "text/plain": [
       "(784.0, 816.0)"
      ]
     },
     "execution_count": 95,
     "metadata": {},
     "output_type": "execute_result"
    }
   ],
   "source": [
    "banda_porcentual(800, 2)"
   ]
  },
  {
   "cell_type": "code",
   "execution_count": 96,
   "metadata": {
    "scrolled": true
   },
   "outputs": [
    {
     "ename": "TypeError",
     "evalue": "banda_porcentual() missing 1 required positional argument: 'porcentaje'",
     "output_type": "error",
     "traceback": [
      "\u001b[1;31m---------------------------------------------------------------------------\u001b[0m",
      "\u001b[1;31mTypeError\u001b[0m                                 Traceback (most recent call last)",
      "\u001b[1;32m<ipython-input-96-94259325cfda>\u001b[0m in \u001b[0;36m<module>\u001b[1;34m\u001b[0m\n\u001b[1;32m----> 1\u001b[1;33m \u001b[0mbanda_porcentual\u001b[0m\u001b[1;33m(\u001b[0m\u001b[1;36m800\u001b[0m\u001b[1;33m)\u001b[0m\u001b[1;33m\u001b[0m\u001b[1;33m\u001b[0m\u001b[0m\n\u001b[0m",
      "\u001b[1;31mTypeError\u001b[0m: banda_porcentual() missing 1 required positional argument: 'porcentaje'"
     ]
    }
   ],
   "source": [
    "banda_porcentual(800)"
   ]
  },
  {
   "cell_type": "code",
   "execution_count": null,
   "metadata": {},
   "outputs": [],
   "source": []
  },
  {
   "cell_type": "markdown",
   "metadata": {},
   "source": [
    "### El orden de los argumentos importa (a menos que los nombre uno por uno)"
   ]
  },
  {
   "cell_type": "code",
   "execution_count": 97,
   "metadata": {},
   "outputs": [
    {
     "data": {
      "text/plain": [
       "(784.0, 816.0)"
      ]
     },
     "execution_count": 97,
     "metadata": {},
     "output_type": "execute_result"
    }
   ],
   "source": [
    "banda_porcentual(800, 2)"
   ]
  },
  {
   "cell_type": "code",
   "execution_count": 98,
   "metadata": {},
   "outputs": [
    {
     "data": {
      "text/plain": [
       "(-14.0, 18.0)"
      ]
     },
     "execution_count": 98,
     "metadata": {},
     "output_type": "execute_result"
    }
   ],
   "source": [
    "banda_porcentual(2,800)"
   ]
  },
  {
   "cell_type": "code",
   "execution_count": 99,
   "metadata": {},
   "outputs": [
    {
     "data": {
      "text/plain": [
       "(784.0, 816.0)"
      ]
     },
     "execution_count": 99,
     "metadata": {},
     "output_type": "execute_result"
    }
   ],
   "source": [
    "banda_porcentual(precio=800, porcentaje=2)"
   ]
  },
  {
   "cell_type": "code",
   "execution_count": 100,
   "metadata": {},
   "outputs": [
    {
     "data": {
      "text/plain": [
       "(784.0, 816.0)"
      ]
     },
     "execution_count": 100,
     "metadata": {},
     "output_type": "execute_result"
    }
   ],
   "source": [
    "banda_porcentual(porcentaje=2, precio=800)"
   ]
  },
  {
   "cell_type": "code",
   "execution_count": null,
   "metadata": {},
   "outputs": [],
   "source": []
  },
  {
   "cell_type": "code",
   "execution_count": null,
   "metadata": {},
   "outputs": [],
   "source": []
  },
  {
   "cell_type": "code",
   "execution_count": null,
   "metadata": {},
   "outputs": [],
   "source": []
  },
  {
   "cell_type": "code",
   "execution_count": null,
   "metadata": {},
   "outputs": [],
   "source": []
  },
  {
   "cell_type": "code",
   "execution_count": null,
   "metadata": {},
   "outputs": [],
   "source": []
  },
  {
   "cell_type": "markdown",
   "metadata": {},
   "source": [
    "## Argumentos posicionales (obligatorios) y valores por default"
   ]
  },
  {
   "cell_type": "code",
   "execution_count": 110,
   "metadata": {},
   "outputs": [
    {
     "data": {
      "text/plain": [
       "(127.6106, 141.6954)"
      ]
     },
     "execution_count": 110,
     "metadata": {},
     "output_type": "execute_result"
    }
   ],
   "source": [
    "def banda_porcentual_2(precio, porcentaje, redondeo=4):\n",
    "    inf = round(precio * (1 - (porcentaje / 100)),redondeo)\n",
    "    sup = round(precio * (1 + (porcentaje / 100)),redondeo)\n",
    "    return inf, sup\n",
    "\n",
    "\n",
    "banda_porcentual_2(precio=134.653, porcentaje=5.23)"
   ]
  },
  {
   "cell_type": "code",
   "execution_count": 109,
   "metadata": {},
   "outputs": [
    {
     "data": {
      "text/plain": [
       "(127.61, 141.7)"
      ]
     },
     "execution_count": 109,
     "metadata": {},
     "output_type": "execute_result"
    }
   ],
   "source": [
    "banda_porcentual_2(precio=134.653, porcentaje=5.23, redondeo=2)"
   ]
  },
  {
   "cell_type": "code",
   "execution_count": 115,
   "metadata": {
    "scrolled": true
   },
   "outputs": [
    {
     "data": {
      "text/plain": [
       "(127.61, 141.7)"
      ]
     },
     "execution_count": 115,
     "metadata": {},
     "output_type": "execute_result"
    }
   ],
   "source": [
    "banda_porcentual_2(redondeo=2, porcentaje=5.23, precio=134.653)"
   ]
  },
  {
   "cell_type": "code",
   "execution_count": null,
   "metadata": {},
   "outputs": [],
   "source": []
  },
  {
   "cell_type": "code",
   "execution_count": null,
   "metadata": {},
   "outputs": [],
   "source": []
  },
  {
   "cell_type": "code",
   "execution_count": 111,
   "metadata": {},
   "outputs": [
    {
     "data": {
      "text/plain": [
       "(127.61, 141.7)"
      ]
     },
     "execution_count": 111,
     "metadata": {},
     "output_type": "execute_result"
    }
   ],
   "source": [
    "banda_porcentual_2(134.653, 5.23, redondeo=2)"
   ]
  },
  {
   "cell_type": "code",
   "execution_count": 116,
   "metadata": {},
   "outputs": [
    {
     "name": "stdout",
     "output_type": "stream",
     "text": [
      "Help on function banda_porcentual_2 in module __main__:\n",
      "\n",
      "banda_porcentual_2(precio, porcentaje, redondeo=4)\n",
      "\n"
     ]
    }
   ],
   "source": [
    "help(banda_porcentual_2)"
   ]
  },
  {
   "cell_type": "code",
   "execution_count": 113,
   "metadata": {},
   "outputs": [
    {
     "data": {
      "text/plain": [
       "(127.611, 141.695)"
      ]
     },
     "execution_count": 113,
     "metadata": {},
     "output_type": "execute_result"
    }
   ],
   "source": [
    "banda_porcentual_2(134.653, 5.23, 3)"
   ]
  },
  {
   "cell_type": "code",
   "execution_count": 114,
   "metadata": {},
   "outputs": [
    {
     "ename": "SyntaxError",
     "evalue": "positional argument follows keyword argument (<ipython-input-114-50d08b3aa787>, line 1)",
     "output_type": "error",
     "traceback": [
      "\u001b[1;36m  File \u001b[1;32m\"<ipython-input-114-50d08b3aa787>\"\u001b[1;36m, line \u001b[1;32m1\u001b[0m\n\u001b[1;33m    banda_porcentual_2(precio=134.653, 5.23, 3)\u001b[0m\n\u001b[1;37m                                      ^\u001b[0m\n\u001b[1;31mSyntaxError\u001b[0m\u001b[1;31m:\u001b[0m positional argument follows keyword argument\n"
     ]
    }
   ],
   "source": [
    "banda_porcentual_2(precio=134.653, 5.23, 3)"
   ]
  },
  {
   "cell_type": "code",
   "execution_count": 121,
   "metadata": {},
   "outputs": [
    {
     "name": "stdout",
     "output_type": "stream",
     "text": [
      "Help on function download in module yfinance:\n",
      "\n",
      "download(tickers, start=None, end=None, actions=False, threads=True, group_by='column', auto_adjust=False, progress=True, period='max', interval='1d', prepost=False, proxy=None, **kwargs)\n",
      "    Download yahoo tickers\n",
      "    :Parameters:\n",
      "        tickers : str, list\n",
      "            List of tickers to download\n",
      "        period : str\n",
      "            Valid periods: 1d,5d,1mo,3mo,6mo,1y,2y,5y,10y,ytd,max\n",
      "            Either Use period parameter or use start and end\n",
      "        interval : str\n",
      "            Valid intervals: 1m,2m,5m,15m,30m,60m,90m,1h,1d,5d,1wk,1mo,3mo\n",
      "            Intraday data cannot extend last 60 days\n",
      "        start: str\n",
      "            Download start date string (YYYY-MM-DD) or _datetime.\n",
      "            Default is 1900-01-01\n",
      "        end: str\n",
      "            Download end date string (YYYY-MM-DD) or _datetime.\n",
      "            Default is now\n",
      "        group_by : str\n",
      "            Group by 'ticker' or 'column' (default)\n",
      "        prepost : bool\n",
      "            Include Pre and Post market data in results?\n",
      "            Default is False\n",
      "        auto_adjust: bool\n",
      "            Adjust all OHLC automatically? Default is False\n",
      "        actions: bool\n",
      "            Download dividend + stock splits data. Default is False\n",
      "        threads: bool / int\n",
      "            How many threads to use for mass downloading. Default is True\n",
      "        proxy: str\n",
      "            Optional. Proxy server URL scheme. Default is None\n",
      "\n"
     ]
    }
   ],
   "source": [
    "help(yf.download)"
   ]
  },
  {
   "cell_type": "code",
   "execution_count": 125,
   "metadata": {},
   "outputs": [
    {
     "name": "stdout",
     "output_type": "stream",
     "text": [
      "[*********************100%***********************]  1 of 1 downloaded\n"
     ]
    },
    {
     "data": {
      "text/html": [
       "<div>\n",
       "<style scoped>\n",
       "    .dataframe tbody tr th:only-of-type {\n",
       "        vertical-align: middle;\n",
       "    }\n",
       "\n",
       "    .dataframe tbody tr th {\n",
       "        vertical-align: top;\n",
       "    }\n",
       "\n",
       "    .dataframe thead th {\n",
       "        text-align: right;\n",
       "    }\n",
       "</style>\n",
       "<table border=\"1\" class=\"dataframe\">\n",
       "  <thead>\n",
       "    <tr style=\"text-align: right;\">\n",
       "      <th></th>\n",
       "      <th>Open</th>\n",
       "      <th>High</th>\n",
       "      <th>Low</th>\n",
       "      <th>Close</th>\n",
       "      <th>Adj Close</th>\n",
       "      <th>Volume</th>\n",
       "      <th>variacion</th>\n",
       "      <th>sma_50</th>\n",
       "    </tr>\n",
       "    <tr>\n",
       "      <th>Date</th>\n",
       "      <th></th>\n",
       "      <th></th>\n",
       "      <th></th>\n",
       "      <th></th>\n",
       "      <th></th>\n",
       "      <th></th>\n",
       "      <th></th>\n",
       "      <th></th>\n",
       "    </tr>\n",
       "  </thead>\n",
       "  <tbody>\n",
       "    <tr>\n",
       "      <th>2019-03-14</th>\n",
       "      <td>27.36</td>\n",
       "      <td>27.69</td>\n",
       "      <td>26.86</td>\n",
       "      <td>27.27</td>\n",
       "      <td>26.92</td>\n",
       "      <td>601900</td>\n",
       "      <td>-0.012835</td>\n",
       "      <td>31.8782</td>\n",
       "    </tr>\n",
       "    <tr>\n",
       "      <th>2019-03-15</th>\n",
       "      <td>27.58</td>\n",
       "      <td>28.96</td>\n",
       "      <td>27.41</td>\n",
       "      <td>28.32</td>\n",
       "      <td>27.96</td>\n",
       "      <td>1031500</td>\n",
       "      <td>0.038633</td>\n",
       "      <td>31.8752</td>\n",
       "    </tr>\n",
       "    <tr>\n",
       "      <th>2019-03-18</th>\n",
       "      <td>28.55</td>\n",
       "      <td>29.59</td>\n",
       "      <td>28.40</td>\n",
       "      <td>29.39</td>\n",
       "      <td>29.01</td>\n",
       "      <td>694700</td>\n",
       "      <td>0.037554</td>\n",
       "      <td>31.8892</td>\n",
       "    </tr>\n",
       "    <tr>\n",
       "      <th>2019-03-19</th>\n",
       "      <td>29.20</td>\n",
       "      <td>30.46</td>\n",
       "      <td>28.69</td>\n",
       "      <td>28.89</td>\n",
       "      <td>28.52</td>\n",
       "      <td>1227500</td>\n",
       "      <td>-0.016891</td>\n",
       "      <td>31.8534</td>\n",
       "    </tr>\n",
       "    <tr>\n",
       "      <th>2019-03-20</th>\n",
       "      <td>28.90</td>\n",
       "      <td>29.32</td>\n",
       "      <td>28.06</td>\n",
       "      <td>28.93</td>\n",
       "      <td>28.56</td>\n",
       "      <td>807600</td>\n",
       "      <td>0.001403</td>\n",
       "      <td>31.8078</td>\n",
       "    </tr>\n",
       "    <tr>\n",
       "      <th>...</th>\n",
       "      <td>...</td>\n",
       "      <td>...</td>\n",
       "      <td>...</td>\n",
       "      <td>...</td>\n",
       "      <td>...</td>\n",
       "      <td>...</td>\n",
       "      <td>...</td>\n",
       "      <td>...</td>\n",
       "    </tr>\n",
       "    <tr>\n",
       "      <th>2020-07-30</th>\n",
       "      <td>12.00</td>\n",
       "      <td>12.19</td>\n",
       "      <td>11.58</td>\n",
       "      <td>12.12</td>\n",
       "      <td>12.12</td>\n",
       "      <td>1206200</td>\n",
       "      <td>-0.016234</td>\n",
       "      <td>10.5542</td>\n",
       "    </tr>\n",
       "    <tr>\n",
       "      <th>2020-07-31</th>\n",
       "      <td>12.14</td>\n",
       "      <td>12.26</td>\n",
       "      <td>11.85</td>\n",
       "      <td>12.00</td>\n",
       "      <td>12.00</td>\n",
       "      <td>745500</td>\n",
       "      <td>-0.009901</td>\n",
       "      <td>10.6190</td>\n",
       "    </tr>\n",
       "    <tr>\n",
       "      <th>2020-08-03</th>\n",
       "      <td>11.55</td>\n",
       "      <td>13.76</td>\n",
       "      <td>11.40</td>\n",
       "      <td>13.27</td>\n",
       "      <td>13.27</td>\n",
       "      <td>3159700</td>\n",
       "      <td>0.105833</td>\n",
       "      <td>10.6968</td>\n",
       "    </tr>\n",
       "    <tr>\n",
       "      <th>2020-08-04</th>\n",
       "      <td>14.75</td>\n",
       "      <td>14.94</td>\n",
       "      <td>12.83</td>\n",
       "      <td>13.05</td>\n",
       "      <td>13.05</td>\n",
       "      <td>5391800</td>\n",
       "      <td>-0.016579</td>\n",
       "      <td>10.7676</td>\n",
       "    </tr>\n",
       "    <tr>\n",
       "      <th>2020-08-05</th>\n",
       "      <td>13.28</td>\n",
       "      <td>13.76</td>\n",
       "      <td>12.57</td>\n",
       "      <td>12.65</td>\n",
       "      <td>12.65</td>\n",
       "      <td>1826233</td>\n",
       "      <td>-0.030651</td>\n",
       "      <td>10.8300</td>\n",
       "    </tr>\n",
       "  </tbody>\n",
       "</table>\n",
       "<p>353 rows × 8 columns</p>\n",
       "</div>"
      ],
      "text/plain": [
       "             Open   High    Low  Close  Adj Close   Volume  variacion   sma_50\n",
       "Date                                                                          \n",
       "2019-03-14  27.36  27.69  26.86  27.27      26.92   601900  -0.012835  31.8782\n",
       "2019-03-15  27.58  28.96  27.41  28.32      27.96  1031500   0.038633  31.8752\n",
       "2019-03-18  28.55  29.59  28.40  29.39      29.01   694700   0.037554  31.8892\n",
       "2019-03-19  29.20  30.46  28.69  28.89      28.52  1227500  -0.016891  31.8534\n",
       "2019-03-20  28.90  29.32  28.06  28.93      28.56   807600   0.001403  31.8078\n",
       "...           ...    ...    ...    ...        ...      ...        ...      ...\n",
       "2020-07-30  12.00  12.19  11.58  12.12      12.12  1206200  -0.016234  10.5542\n",
       "2020-07-31  12.14  12.26  11.85  12.00      12.00   745500  -0.009901  10.6190\n",
       "2020-08-03  11.55  13.76  11.40  13.27      13.27  3159700   0.105833  10.6968\n",
       "2020-08-04  14.75  14.94  12.83  13.05      13.05  5391800  -0.016579  10.7676\n",
       "2020-08-05  13.28  13.76  12.57  12.65      12.65  1826233  -0.030651  10.8300\n",
       "\n",
       "[353 rows x 8 columns]"
      ]
     },
     "execution_count": 125,
     "metadata": {},
     "output_type": "execute_result"
    }
   ],
   "source": [
    "def bajarDatos(ticker, desde='2011-01-01', media_movil=200):\n",
    "    import yfinance as yf\n",
    "    data = yf.download(ticker, start=desde)\n",
    "    data['variacion'] = data['Adj Close'].pct_change()\n",
    "\n",
    "    clave = 'sma_'+str(media_movil)\n",
    "    data[clave] = data['Adj Close'].rolling(media_movil).mean()\n",
    "    \n",
    "    return data.dropna()\n",
    "\n",
    "bajarDatos('GGAL',desde='2019-01-01', media_movil=50)"
   ]
  },
  {
   "cell_type": "code",
   "execution_count": null,
   "metadata": {},
   "outputs": [],
   "source": []
  },
  {
   "cell_type": "markdown",
   "metadata": {},
   "source": [
    "## Funciones que aceptan otras funciones como argumentos"
   ]
  },
  {
   "cell_type": "code",
   "execution_count": 126,
   "metadata": {},
   "outputs": [],
   "source": [
    "def calculadora(operacion, arg1, arg2):\n",
    "    resultado = operacion(arg1, arg2)\n",
    "    return resultado\n",
    "\n",
    "\n",
    "def sumar(a,b):\n",
    "    return a+b\n",
    "\n",
    "def multiplicar(a,b):\n",
    "    return a*b\n",
    "\n",
    "def raiz(a,b):\n",
    "    return(a**(1/b))"
   ]
  },
  {
   "cell_type": "code",
   "execution_count": 129,
   "metadata": {
    "scrolled": false
   },
   "outputs": [
    {
     "data": {
      "text/plain": [
       "2.0"
      ]
     },
     "execution_count": 129,
     "metadata": {},
     "output_type": "execute_result"
    }
   ],
   "source": [
    "calculadora(raiz,8,3)"
   ]
  },
  {
   "cell_type": "code",
   "execution_count": null,
   "metadata": {},
   "outputs": [],
   "source": []
  },
  {
   "cell_type": "code",
   "execution_count": null,
   "metadata": {},
   "outputs": [],
   "source": []
  },
  {
   "cell_type": "code",
   "execution_count": null,
   "metadata": {},
   "outputs": [],
   "source": []
  },
  {
   "cell_type": "markdown",
   "metadata": {},
   "source": [
    "## Funciones que modifican el argumento"
   ]
  },
  {
   "cell_type": "code",
   "execution_count": 142,
   "metadata": {},
   "outputs": [],
   "source": [
    "def prepararTrade(t):\n",
    "    import datetime as dt\n",
    "    resultado = False\n",
    "    try:\n",
    "        t['stopLoss'] = t['Precio'] * 0.97\n",
    "        t['takeProfit'] = t['Precio'] * 1.1\n",
    "        t['fecha'] = dt.datetime.now().ctime()\n",
    "        resultado = True\n",
    "    except:\n",
    "        print('Me mandaste algo que no es un diccionario')\n",
    "        \n",
    "    return resultado"
   ]
  },
  {
   "cell_type": "code",
   "execution_count": 143,
   "metadata": {},
   "outputs": [
    {
     "data": {
      "text/plain": [
       "{'Ticker': 'GGAL',\n",
       " 'Side': 'Buy',\n",
       " 'Precio': 150,\n",
       " 'stopLoss': 145.5,\n",
       " 'takeProfit': 165.0,\n",
       " 'fecha': 'Wed Aug  5 19:39:51 2020'}"
      ]
     },
     "execution_count": 143,
     "metadata": {},
     "output_type": "execute_result"
    }
   ],
   "source": [
    "trade = {'Ticker':'GGAL', 'Side':'Buy', 'Precio':150}\n",
    "r = prepararTrade(trade)\n",
    "trade"
   ]
  },
  {
   "cell_type": "code",
   "execution_count": 144,
   "metadata": {},
   "outputs": [
    {
     "name": "stdout",
     "output_type": "stream",
     "text": [
      "Me mandaste algo que no es un diccionario\n"
     ]
    },
    {
     "data": {
      "text/plain": [
       "[1, 2, 3, 4]"
      ]
     },
     "execution_count": 144,
     "metadata": {},
     "output_type": "execute_result"
    }
   ],
   "source": [
    "trade = [1,2,3,4]\n",
    "prepararTrade(trade)\n",
    "trade"
   ]
  },
  {
   "cell_type": "code",
   "execution_count": 146,
   "metadata": {},
   "outputs": [
    {
     "name": "stdout",
     "output_type": "stream",
     "text": [
      "Me mandaste algo que no es un diccionario\n",
      "Abortar operacion que algo salio mal\n"
     ]
    }
   ],
   "source": [
    "trade = [1,2,3,4]\n",
    "r = prepararTrade(trade)\n",
    "\n",
    "\n",
    "if r:\n",
    "    print('Ok, esta el trade preparado para salir a la cancha')\n",
    "else:\n",
    "    print('Abortar operacion que algo salio mal')"
   ]
  },
  {
   "cell_type": "code",
   "execution_count": null,
   "metadata": {},
   "outputs": [],
   "source": []
  },
  {
   "cell_type": "code",
   "execution_count": null,
   "metadata": {},
   "outputs": [],
   "source": []
  },
  {
   "cell_type": "code",
   "execution_count": null,
   "metadata": {},
   "outputs": [],
   "source": []
  },
  {
   "cell_type": "markdown",
   "metadata": {},
   "source": [
    "---- Ojo pueden o no tener el return del argumento modificado que lo modifica igual ----"
   ]
  },
  {
   "cell_type": "code",
   "execution_count": null,
   "metadata": {},
   "outputs": [],
   "source": []
  },
  {
   "cell_type": "code",
   "execution_count": null,
   "metadata": {},
   "outputs": [],
   "source": []
  },
  {
   "cell_type": "code",
   "execution_count": null,
   "metadata": {},
   "outputs": [],
   "source": []
  },
  {
   "cell_type": "markdown",
   "metadata": {},
   "source": [
    "# Importar nuestras propias funciones"
   ]
  },
  {
   "cell_type": "code",
   "execution_count": 1,
   "metadata": {},
   "outputs": [
    {
     "name": "stdout",
     "output_type": "stream",
     "text": [
      "EL_TACO_NO\n"
     ]
    }
   ],
   "source": [
    "from funciones import *\n",
    "\n",
    "print(CLAVE_BROOKER)"
   ]
  },
  {
   "cell_type": "code",
   "execution_count": 1,
   "metadata": {},
   "outputs": [],
   "source": [
    "import funciones as f"
   ]
  },
  {
   "cell_type": "code",
   "execution_count": 2,
   "metadata": {
    "scrolled": false
   },
   "outputs": [
    {
     "data": {
      "text/plain": [
       "{'Ticker': 'GGAL',\n",
       " 'Precio': 150,\n",
       " 'Side': 'Buy',\n",
       " 'fecha': 'Wed Aug  5 19:53:55 2020',\n",
       " 'stopLoss': 142.5,\n",
       " 'takeProfit': 165.0}"
      ]
     },
     "execution_count": 2,
     "metadata": {},
     "output_type": "execute_result"
    }
   ],
   "source": [
    "f.prepararTrade({'Ticker':'GGAL', 'Precio':150, 'Side':'Buy'})"
   ]
  },
  {
   "cell_type": "code",
   "execution_count": 4,
   "metadata": {
    "scrolled": false
   },
   "outputs": [
    {
     "name": "stdout",
     "output_type": "stream",
     "text": [
      "Help on function prepararTrade in module funciones:\n",
      "\n",
      "prepararTrade(t)\n",
      "    Parameters\n",
      "    ----------\n",
      "    t : TYPE: Diccionario\n",
      "        Debe contener al menos la clave Precio \n",
      "    \n",
      "    Returns\n",
      "    -------\n",
      "    t : TYPE\n",
      "        Devuelve el mismo diccionario modificado ya que agrega las claves:\n",
      "            stopLoss\n",
      "            takeProfit\n",
      "        Ambas variables están en función del la clave Precio que supone el precio de entrada al trade\n",
      "\n"
     ]
    }
   ],
   "source": [
    "help(f.prepararTrade)"
   ]
  },
  {
   "cell_type": "code",
   "execution_count": 3,
   "metadata": {},
   "outputs": [
    {
     "name": "stdout",
     "output_type": "stream",
     "text": [
      "[*********************100%***********************]  1 of 1 downloaded\n"
     ]
    },
    {
     "data": {
      "text/html": [
       "<div>\n",
       "<style scoped>\n",
       "    .dataframe tbody tr th:only-of-type {\n",
       "        vertical-align: middle;\n",
       "    }\n",
       "\n",
       "    .dataframe tbody tr th {\n",
       "        vertical-align: top;\n",
       "    }\n",
       "\n",
       "    .dataframe thead th {\n",
       "        text-align: right;\n",
       "    }\n",
       "</style>\n",
       "<table border=\"1\" class=\"dataframe\">\n",
       "  <thead>\n",
       "    <tr style=\"text-align: right;\">\n",
       "      <th></th>\n",
       "      <th>Open</th>\n",
       "      <th>High</th>\n",
       "      <th>Low</th>\n",
       "      <th>Close</th>\n",
       "      <th>Adj Close</th>\n",
       "      <th>Volume</th>\n",
       "    </tr>\n",
       "    <tr>\n",
       "      <th>Date</th>\n",
       "      <th></th>\n",
       "      <th></th>\n",
       "      <th></th>\n",
       "      <th></th>\n",
       "      <th></th>\n",
       "      <th></th>\n",
       "    </tr>\n",
       "  </thead>\n",
       "  <tbody>\n",
       "    <tr>\n",
       "      <th>1993-06-29</th>\n",
       "      <td>21.25</td>\n",
       "      <td>22.12</td>\n",
       "      <td>21.12</td>\n",
       "      <td>21.88</td>\n",
       "      <td>5.18</td>\n",
       "      <td>34346800</td>\n",
       "    </tr>\n",
       "    <tr>\n",
       "      <th>1993-06-30</th>\n",
       "      <td>22.00</td>\n",
       "      <td>23.00</td>\n",
       "      <td>21.62</td>\n",
       "      <td>21.75</td>\n",
       "      <td>5.15</td>\n",
       "      <td>9060600</td>\n",
       "    </tr>\n",
       "    <tr>\n",
       "      <th>1993-07-01</th>\n",
       "      <td>21.38</td>\n",
       "      <td>21.62</td>\n",
       "      <td>21.00</td>\n",
       "      <td>21.25</td>\n",
       "      <td>5.03</td>\n",
       "      <td>4273100</td>\n",
       "    </tr>\n",
       "    <tr>\n",
       "      <th>1993-07-02</th>\n",
       "      <td>21.12</td>\n",
       "      <td>21.25</td>\n",
       "      <td>20.75</td>\n",
       "      <td>21.12</td>\n",
       "      <td>5.00</td>\n",
       "      <td>2504500</td>\n",
       "    </tr>\n",
       "    <tr>\n",
       "      <th>1993-07-06</th>\n",
       "      <td>20.88</td>\n",
       "      <td>21.00</td>\n",
       "      <td>20.62</td>\n",
       "      <td>20.75</td>\n",
       "      <td>4.92</td>\n",
       "      <td>2030400</td>\n",
       "    </tr>\n",
       "    <tr>\n",
       "      <th>...</th>\n",
       "      <td>...</td>\n",
       "      <td>...</td>\n",
       "      <td>...</td>\n",
       "      <td>...</td>\n",
       "      <td>...</td>\n",
       "      <td>...</td>\n",
       "    </tr>\n",
       "    <tr>\n",
       "      <th>2020-07-30</th>\n",
       "      <td>6.35</td>\n",
       "      <td>6.42</td>\n",
       "      <td>6.12</td>\n",
       "      <td>6.33</td>\n",
       "      <td>6.33</td>\n",
       "      <td>1187100</td>\n",
       "    </tr>\n",
       "    <tr>\n",
       "      <th>2020-07-31</th>\n",
       "      <td>6.33</td>\n",
       "      <td>6.39</td>\n",
       "      <td>6.14</td>\n",
       "      <td>6.23</td>\n",
       "      <td>6.23</td>\n",
       "      <td>1050200</td>\n",
       "    </tr>\n",
       "    <tr>\n",
       "      <th>2020-08-03</th>\n",
       "      <td>6.17</td>\n",
       "      <td>6.87</td>\n",
       "      <td>6.10</td>\n",
       "      <td>6.66</td>\n",
       "      <td>6.66</td>\n",
       "      <td>3369300</td>\n",
       "    </tr>\n",
       "    <tr>\n",
       "      <th>2020-08-04</th>\n",
       "      <td>6.98</td>\n",
       "      <td>7.30</td>\n",
       "      <td>6.59</td>\n",
       "      <td>6.81</td>\n",
       "      <td>6.81</td>\n",
       "      <td>3858200</td>\n",
       "    </tr>\n",
       "    <tr>\n",
       "      <th>2020-08-05</th>\n",
       "      <td>6.94</td>\n",
       "      <td>7.07</td>\n",
       "      <td>6.71</td>\n",
       "      <td>6.72</td>\n",
       "      <td>6.72</td>\n",
       "      <td>1431605</td>\n",
       "    </tr>\n",
       "  </tbody>\n",
       "</table>\n",
       "<p>6826 rows × 6 columns</p>\n",
       "</div>"
      ],
      "text/plain": [
       "             Open   High    Low  Close  Adj Close    Volume\n",
       "Date                                                       \n",
       "1993-06-29  21.25  22.12  21.12  21.88       5.18  34346800\n",
       "1993-06-30  22.00  23.00  21.62  21.75       5.15   9060600\n",
       "1993-07-01  21.38  21.62  21.00  21.25       5.03   4273100\n",
       "1993-07-02  21.12  21.25  20.75  21.12       5.00   2504500\n",
       "1993-07-06  20.88  21.00  20.62  20.75       4.92   2030400\n",
       "...           ...    ...    ...    ...        ...       ...\n",
       "2020-07-30   6.35   6.42   6.12   6.33       6.33   1187100\n",
       "2020-07-31   6.33   6.39   6.14   6.23       6.23   1050200\n",
       "2020-08-03   6.17   6.87   6.10   6.66       6.66   3369300\n",
       "2020-08-04   6.98   7.30   6.59   6.81       6.81   3858200\n",
       "2020-08-05   6.94   7.07   6.71   6.72       6.72   1431605\n",
       "\n",
       "[6826 rows x 6 columns]"
      ]
     },
     "execution_count": 3,
     "metadata": {},
     "output_type": "execute_result"
    }
   ],
   "source": [
    "f.bajarYPF()"
   ]
  },
  {
   "cell_type": "code",
   "execution_count": 17,
   "metadata": {},
   "outputs": [
    {
     "name": "stdout",
     "output_type": "stream",
     "text": [
      "El trade debe ser un diccionario\n"
     ]
    },
    {
     "data": {
      "text/plain": [
       "'Comprar GGAL a 150'"
      ]
     },
     "execution_count": 17,
     "metadata": {},
     "output_type": "execute_result"
    }
   ],
   "source": [
    "f.prepararTrade('Comprar GGAL a 150')"
   ]
  },
  {
   "cell_type": "code",
   "execution_count": 18,
   "metadata": {},
   "outputs": [
    {
     "name": "stdout",
     "output_type": "stream",
     "text": [
      "El trade debe contener la clave \"Precio\"\n"
     ]
    },
    {
     "data": {
      "text/plain": [
       "{'Ticker': 'GGAL',\n",
       " 'PrecioEntrada': 150,\n",
       " 'Side': 'Buy',\n",
       " 'fecha': 'Wed Aug  5 17:44:14 2020'}"
      ]
     },
     "execution_count": 18,
     "metadata": {},
     "output_type": "execute_result"
    }
   ],
   "source": [
    "f.prepararTrade({'Ticker':'GGAL', 'PrecioEntrada':150, 'Side':'Buy'})"
   ]
  },
  {
   "cell_type": "code",
   "execution_count": null,
   "metadata": {},
   "outputs": [],
   "source": []
  },
  {
   "cell_type": "markdown",
   "metadata": {},
   "source": [
    "## Ojo con la caché.."
   ]
  },
  {
   "cell_type": "markdown",
   "metadata": {},
   "source": [
    "Si modifican el archivo .py que importan, deben reiniciar el kernel\n",
    "\n",
    "Caso contrario queda en memoria el modulo importado originalmente antes de modificarlo"
   ]
  },
  {
   "cell_type": "code",
   "execution_count": null,
   "metadata": {},
   "outputs": [],
   "source": []
  },
  {
   "cell_type": "markdown",
   "metadata": {},
   "source": [
    "# Funciones mas interesantes"
   ]
  },
  {
   "cell_type": "markdown",
   "metadata": {},
   "source": [
    "## Bandas de Bollinger"
   ]
  },
  {
   "cell_type": "code",
   "execution_count": 19,
   "metadata": {},
   "outputs": [
    {
     "name": "stdout",
     "output_type": "stream",
     "text": [
      "[*********************100%***********************]  1 of 1 downloaded\n"
     ]
    },
    {
     "data": {
      "text/html": [
       "<div>\n",
       "<style scoped>\n",
       "    .dataframe tbody tr th:only-of-type {\n",
       "        vertical-align: middle;\n",
       "    }\n",
       "\n",
       "    .dataframe tbody tr th {\n",
       "        vertical-align: top;\n",
       "    }\n",
       "\n",
       "    .dataframe thead th {\n",
       "        text-align: right;\n",
       "    }\n",
       "</style>\n",
       "<table border=\"1\" class=\"dataframe\">\n",
       "  <thead>\n",
       "    <tr style=\"text-align: right;\">\n",
       "      <th></th>\n",
       "      <th>Open</th>\n",
       "      <th>High</th>\n",
       "      <th>Low</th>\n",
       "      <th>Close</th>\n",
       "      <th>Adj Close</th>\n",
       "      <th>Volume</th>\n",
       "      <th>sma_20</th>\n",
       "      <th>volatilidad</th>\n",
       "      <th>boll_sup</th>\n",
       "      <th>boll_inf</th>\n",
       "    </tr>\n",
       "    <tr>\n",
       "      <th>Date</th>\n",
       "      <th></th>\n",
       "      <th></th>\n",
       "      <th></th>\n",
       "      <th></th>\n",
       "      <th></th>\n",
       "      <th></th>\n",
       "      <th></th>\n",
       "      <th></th>\n",
       "      <th></th>\n",
       "      <th></th>\n",
       "    </tr>\n",
       "  </thead>\n",
       "  <tbody>\n",
       "    <tr>\n",
       "      <th>2000-08-21</th>\n",
       "      <td>15.25</td>\n",
       "      <td>15.25</td>\n",
       "      <td>15.00</td>\n",
       "      <td>15.00</td>\n",
       "      <td>14.01</td>\n",
       "      <td>11600</td>\n",
       "      <td>15.52</td>\n",
       "      <td>1.00</td>\n",
       "      <td>17.51</td>\n",
       "      <td>13.52</td>\n",
       "    </tr>\n",
       "    <tr>\n",
       "      <th>2000-08-22</th>\n",
       "      <td>15.00</td>\n",
       "      <td>15.81</td>\n",
       "      <td>14.94</td>\n",
       "      <td>15.69</td>\n",
       "      <td>14.66</td>\n",
       "      <td>129700</td>\n",
       "      <td>15.43</td>\n",
       "      <td>1.00</td>\n",
       "      <td>17.42</td>\n",
       "      <td>13.44</td>\n",
       "    </tr>\n",
       "    <tr>\n",
       "      <th>2000-08-23</th>\n",
       "      <td>15.56</td>\n",
       "      <td>16.25</td>\n",
       "      <td>15.25</td>\n",
       "      <td>16.00</td>\n",
       "      <td>14.95</td>\n",
       "      <td>319200</td>\n",
       "      <td>15.36</td>\n",
       "      <td>0.98</td>\n",
       "      <td>17.32</td>\n",
       "      <td>13.41</td>\n",
       "    </tr>\n",
       "    <tr>\n",
       "      <th>2000-08-24</th>\n",
       "      <td>15.94</td>\n",
       "      <td>16.38</td>\n",
       "      <td>15.81</td>\n",
       "      <td>16.38</td>\n",
       "      <td>15.30</td>\n",
       "      <td>214800</td>\n",
       "      <td>15.31</td>\n",
       "      <td>0.95</td>\n",
       "      <td>17.21</td>\n",
       "      <td>13.41</td>\n",
       "    </tr>\n",
       "    <tr>\n",
       "      <th>2000-08-25</th>\n",
       "      <td>16.38</td>\n",
       "      <td>16.56</td>\n",
       "      <td>16.25</td>\n",
       "      <td>16.50</td>\n",
       "      <td>15.41</td>\n",
       "      <td>99700</td>\n",
       "      <td>15.27</td>\n",
       "      <td>0.92</td>\n",
       "      <td>17.12</td>\n",
       "      <td>13.42</td>\n",
       "    </tr>\n",
       "    <tr>\n",
       "      <th>...</th>\n",
       "      <td>...</td>\n",
       "      <td>...</td>\n",
       "      <td>...</td>\n",
       "      <td>...</td>\n",
       "      <td>...</td>\n",
       "      <td>...</td>\n",
       "      <td>...</td>\n",
       "      <td>...</td>\n",
       "      <td>...</td>\n",
       "      <td>...</td>\n",
       "    </tr>\n",
       "    <tr>\n",
       "      <th>2020-07-30</th>\n",
       "      <td>12.00</td>\n",
       "      <td>12.19</td>\n",
       "      <td>11.58</td>\n",
       "      <td>12.12</td>\n",
       "      <td>12.12</td>\n",
       "      <td>1206200</td>\n",
       "      <td>11.51</td>\n",
       "      <td>0.83</td>\n",
       "      <td>13.17</td>\n",
       "      <td>9.86</td>\n",
       "    </tr>\n",
       "    <tr>\n",
       "      <th>2020-07-31</th>\n",
       "      <td>12.14</td>\n",
       "      <td>12.26</td>\n",
       "      <td>11.85</td>\n",
       "      <td>12.00</td>\n",
       "      <td>12.00</td>\n",
       "      <td>745500</td>\n",
       "      <td>11.65</td>\n",
       "      <td>0.64</td>\n",
       "      <td>12.92</td>\n",
       "      <td>10.38</td>\n",
       "    </tr>\n",
       "    <tr>\n",
       "      <th>2020-08-03</th>\n",
       "      <td>11.55</td>\n",
       "      <td>13.76</td>\n",
       "      <td>11.40</td>\n",
       "      <td>13.27</td>\n",
       "      <td>13.27</td>\n",
       "      <td>3159700</td>\n",
       "      <td>11.75</td>\n",
       "      <td>0.72</td>\n",
       "      <td>13.20</td>\n",
       "      <td>10.30</td>\n",
       "    </tr>\n",
       "    <tr>\n",
       "      <th>2020-08-04</th>\n",
       "      <td>14.75</td>\n",
       "      <td>14.94</td>\n",
       "      <td>12.83</td>\n",
       "      <td>13.05</td>\n",
       "      <td>13.05</td>\n",
       "      <td>5391800</td>\n",
       "      <td>11.86</td>\n",
       "      <td>0.75</td>\n",
       "      <td>13.36</td>\n",
       "      <td>10.36</td>\n",
       "    </tr>\n",
       "    <tr>\n",
       "      <th>2020-08-05</th>\n",
       "      <td>13.28</td>\n",
       "      <td>13.76</td>\n",
       "      <td>12.57</td>\n",
       "      <td>12.65</td>\n",
       "      <td>12.65</td>\n",
       "      <td>1826233</td>\n",
       "      <td>11.94</td>\n",
       "      <td>0.74</td>\n",
       "      <td>13.43</td>\n",
       "      <td>10.45</td>\n",
       "    </tr>\n",
       "  </tbody>\n",
       "</table>\n",
       "<p>5021 rows × 10 columns</p>\n",
       "</div>"
      ],
      "text/plain": [
       "             Open   High    Low  Close  Adj Close   Volume  sma_20  \\\n",
       "Date                                                                 \n",
       "2000-08-21  15.25  15.25  15.00  15.00      14.01    11600   15.52   \n",
       "2000-08-22  15.00  15.81  14.94  15.69      14.66   129700   15.43   \n",
       "2000-08-23  15.56  16.25  15.25  16.00      14.95   319200   15.36   \n",
       "2000-08-24  15.94  16.38  15.81  16.38      15.30   214800   15.31   \n",
       "2000-08-25  16.38  16.56  16.25  16.50      15.41    99700   15.27   \n",
       "...           ...    ...    ...    ...        ...      ...     ...   \n",
       "2020-07-30  12.00  12.19  11.58  12.12      12.12  1206200   11.51   \n",
       "2020-07-31  12.14  12.26  11.85  12.00      12.00   745500   11.65   \n",
       "2020-08-03  11.55  13.76  11.40  13.27      13.27  3159700   11.75   \n",
       "2020-08-04  14.75  14.94  12.83  13.05      13.05  5391800   11.86   \n",
       "2020-08-05  13.28  13.76  12.57  12.65      12.65  1826233   11.94   \n",
       "\n",
       "            volatilidad  boll_sup  boll_inf  \n",
       "Date                                         \n",
       "2000-08-21         1.00     17.51     13.52  \n",
       "2000-08-22         1.00     17.42     13.44  \n",
       "2000-08-23         0.98     17.32     13.41  \n",
       "2000-08-24         0.95     17.21     13.41  \n",
       "2000-08-25         0.92     17.12     13.42  \n",
       "...                 ...       ...       ...  \n",
       "2020-07-30         0.83     13.17      9.86  \n",
       "2020-07-31         0.64     12.92     10.38  \n",
       "2020-08-03         0.72     13.20     10.30  \n",
       "2020-08-04         0.75     13.36     10.36  \n",
       "2020-08-05         0.74     13.43     10.45  \n",
       "\n",
       "[5021 rows x 10 columns]"
      ]
     },
     "execution_count": 19,
     "metadata": {},
     "output_type": "execute_result"
    }
   ],
   "source": [
    "import yfinance as yf\n",
    "\n",
    "data = yf.download('GGAL')\n",
    "data['sma_20'] = data['Adj Close'].rolling(20).mean()\n",
    "data['volatilidad'] = data['Adj Close'].rolling(20).std()\n",
    "data['boll_sup'] = data.sma_20 + 2*data.volatilidad\n",
    "data['boll_inf'] = data.sma_20 - 2*data.volatilidad\n",
    "data.dropna().round(2)"
   ]
  },
  {
   "cell_type": "code",
   "execution_count": 20,
   "metadata": {},
   "outputs": [
    {
     "name": "stdout",
     "output_type": "stream",
     "text": [
      "[*********************100%***********************]  1 of 1 downloaded\n"
     ]
    },
    {
     "data": {
      "text/html": [
       "<div>\n",
       "<style scoped>\n",
       "    .dataframe tbody tr th:only-of-type {\n",
       "        vertical-align: middle;\n",
       "    }\n",
       "\n",
       "    .dataframe tbody tr th {\n",
       "        vertical-align: top;\n",
       "    }\n",
       "\n",
       "    .dataframe thead th {\n",
       "        text-align: right;\n",
       "    }\n",
       "</style>\n",
       "<table border=\"1\" class=\"dataframe\">\n",
       "  <thead>\n",
       "    <tr style=\"text-align: right;\">\n",
       "      <th></th>\n",
       "      <th>Open</th>\n",
       "      <th>High</th>\n",
       "      <th>Low</th>\n",
       "      <th>Close</th>\n",
       "      <th>Adj Close</th>\n",
       "      <th>Volume</th>\n",
       "      <th>sma_20</th>\n",
       "      <th>boll_sup</th>\n",
       "      <th>boll_inf</th>\n",
       "    </tr>\n",
       "    <tr>\n",
       "      <th>Date</th>\n",
       "      <th></th>\n",
       "      <th></th>\n",
       "      <th></th>\n",
       "      <th></th>\n",
       "      <th></th>\n",
       "      <th></th>\n",
       "      <th></th>\n",
       "      <th></th>\n",
       "      <th></th>\n",
       "    </tr>\n",
       "  </thead>\n",
       "  <tbody>\n",
       "    <tr>\n",
       "      <th>1997-06-12</th>\n",
       "      <td>1.58</td>\n",
       "      <td>1.65</td>\n",
       "      <td>1.55</td>\n",
       "      <td>1.60</td>\n",
       "      <td>1.60</td>\n",
       "      <td>1632000</td>\n",
       "      <td>1.58</td>\n",
       "      <td>1.84</td>\n",
       "      <td>1.31</td>\n",
       "    </tr>\n",
       "    <tr>\n",
       "      <th>1997-06-13</th>\n",
       "      <td>1.62</td>\n",
       "      <td>1.62</td>\n",
       "      <td>1.58</td>\n",
       "      <td>1.58</td>\n",
       "      <td>1.58</td>\n",
       "      <td>693600</td>\n",
       "      <td>1.56</td>\n",
       "      <td>1.75</td>\n",
       "      <td>1.37</td>\n",
       "    </tr>\n",
       "    <tr>\n",
       "      <th>1997-06-16</th>\n",
       "      <td>1.60</td>\n",
       "      <td>1.60</td>\n",
       "      <td>1.56</td>\n",
       "      <td>1.57</td>\n",
       "      <td>1.57</td>\n",
       "      <td>913200</td>\n",
       "      <td>1.55</td>\n",
       "      <td>1.72</td>\n",
       "      <td>1.38</td>\n",
       "    </tr>\n",
       "    <tr>\n",
       "      <th>1997-06-17</th>\n",
       "      <td>1.60</td>\n",
       "      <td>1.60</td>\n",
       "      <td>1.49</td>\n",
       "      <td>1.51</td>\n",
       "      <td>1.51</td>\n",
       "      <td>4706400</td>\n",
       "      <td>1.54</td>\n",
       "      <td>1.69</td>\n",
       "      <td>1.39</td>\n",
       "    </tr>\n",
       "    <tr>\n",
       "      <th>1997-06-18</th>\n",
       "      <td>1.52</td>\n",
       "      <td>1.54</td>\n",
       "      <td>1.50</td>\n",
       "      <td>1.51</td>\n",
       "      <td>1.51</td>\n",
       "      <td>2464800</td>\n",
       "      <td>1.53</td>\n",
       "      <td>1.68</td>\n",
       "      <td>1.39</td>\n",
       "    </tr>\n",
       "    <tr>\n",
       "      <th>...</th>\n",
       "      <td>...</td>\n",
       "      <td>...</td>\n",
       "      <td>...</td>\n",
       "      <td>...</td>\n",
       "      <td>...</td>\n",
       "      <td>...</td>\n",
       "      <td>...</td>\n",
       "      <td>...</td>\n",
       "      <td>...</td>\n",
       "    </tr>\n",
       "    <tr>\n",
       "      <th>2020-07-30</th>\n",
       "      <td>3014.00</td>\n",
       "      <td>3092.00</td>\n",
       "      <td>3005.00</td>\n",
       "      <td>3051.88</td>\n",
       "      <td>3051.88</td>\n",
       "      <td>6128300</td>\n",
       "      <td>3057.07</td>\n",
       "      <td>3218.94</td>\n",
       "      <td>2895.20</td>\n",
       "    </tr>\n",
       "    <tr>\n",
       "      <th>2020-07-31</th>\n",
       "      <td>3244.00</td>\n",
       "      <td>3246.82</td>\n",
       "      <td>3151.00</td>\n",
       "      <td>3164.68</td>\n",
       "      <td>3164.68</td>\n",
       "      <td>8085500</td>\n",
       "      <td>3070.79</td>\n",
       "      <td>3219.08</td>\n",
       "      <td>2922.49</td>\n",
       "    </tr>\n",
       "    <tr>\n",
       "      <th>2020-08-03</th>\n",
       "      <td>3180.51</td>\n",
       "      <td>3184.00</td>\n",
       "      <td>3104.00</td>\n",
       "      <td>3111.89</td>\n",
       "      <td>3111.89</td>\n",
       "      <td>5074700</td>\n",
       "      <td>3073.53</td>\n",
       "      <td>3222.78</td>\n",
       "      <td>2924.28</td>\n",
       "    </tr>\n",
       "    <tr>\n",
       "      <th>2020-08-04</th>\n",
       "      <td>3101.21</td>\n",
       "      <td>3167.24</td>\n",
       "      <td>3101.21</td>\n",
       "      <td>3138.83</td>\n",
       "      <td>3138.83</td>\n",
       "      <td>4687400</td>\n",
       "      <td>3080.47</td>\n",
       "      <td>3228.24</td>\n",
       "      <td>2932.70</td>\n",
       "    </tr>\n",
       "    <tr>\n",
       "      <th>2020-08-05</th>\n",
       "      <td>3143.77</td>\n",
       "      <td>3213.52</td>\n",
       "      <td>3127.82</td>\n",
       "      <td>3205.03</td>\n",
       "      <td>3205.03</td>\n",
       "      <td>3819466</td>\n",
       "      <td>3086.66</td>\n",
       "      <td>3244.59</td>\n",
       "      <td>2928.74</td>\n",
       "    </tr>\n",
       "  </tbody>\n",
       "</table>\n",
       "<p>5826 rows × 9 columns</p>\n",
       "</div>"
      ],
      "text/plain": [
       "               Open     High      Low    Close  Adj Close   Volume   sma_20  \\\n",
       "Date                                                                          \n",
       "1997-06-12     1.58     1.65     1.55     1.60       1.60  1632000     1.58   \n",
       "1997-06-13     1.62     1.62     1.58     1.58       1.58   693600     1.56   \n",
       "1997-06-16     1.60     1.60     1.56     1.57       1.57   913200     1.55   \n",
       "1997-06-17     1.60     1.60     1.49     1.51       1.51  4706400     1.54   \n",
       "1997-06-18     1.52     1.54     1.50     1.51       1.51  2464800     1.53   \n",
       "...             ...      ...      ...      ...        ...      ...      ...   \n",
       "2020-07-30  3014.00  3092.00  3005.00  3051.88    3051.88  6128300  3057.07   \n",
       "2020-07-31  3244.00  3246.82  3151.00  3164.68    3164.68  8085500  3070.79   \n",
       "2020-08-03  3180.51  3184.00  3104.00  3111.89    3111.89  5074700  3073.53   \n",
       "2020-08-04  3101.21  3167.24  3101.21  3138.83    3138.83  4687400  3080.47   \n",
       "2020-08-05  3143.77  3213.52  3127.82  3205.03    3205.03  3819466  3086.66   \n",
       "\n",
       "            boll_sup  boll_inf  \n",
       "Date                            \n",
       "1997-06-12      1.84      1.31  \n",
       "1997-06-13      1.75      1.37  \n",
       "1997-06-16      1.72      1.38  \n",
       "1997-06-17      1.69      1.39  \n",
       "1997-06-18      1.68      1.39  \n",
       "...              ...       ...  \n",
       "2020-07-30   3218.94   2895.20  \n",
       "2020-07-31   3219.08   2922.49  \n",
       "2020-08-03   3222.78   2924.28  \n",
       "2020-08-04   3228.24   2932.70  \n",
       "2020-08-05   3244.59   2928.74  \n",
       "\n",
       "[5826 rows x 9 columns]"
      ]
     },
     "execution_count": 20,
     "metadata": {},
     "output_type": "execute_result"
    }
   ],
   "source": [
    "def bollinger(ticker):\n",
    "    import yfinance as yf\n",
    "    data = yf.download(ticker)\n",
    "    data['sma_20'] = data['Adj Close'].rolling(20).mean()\n",
    "    desvio = data['Adj Close'].rolling(20).std()\n",
    "    data['boll_sup'] = data.sma_20 + 2*desvio\n",
    "    data['boll_inf'] = data.sma_20 - 2*desvio\n",
    "    return data.dropna().round(2)\n",
    "\n",
    "bollinger('AMZN')"
   ]
  },
  {
   "cell_type": "code",
   "execution_count": null,
   "metadata": {},
   "outputs": [],
   "source": []
  },
  {
   "cell_type": "code",
   "execution_count": null,
   "metadata": {},
   "outputs": [],
   "source": []
  },
  {
   "cell_type": "markdown",
   "metadata": {},
   "source": [
    "## RSI"
   ]
  },
  {
   "cell_type": "code",
   "execution_count": 21,
   "metadata": {},
   "outputs": [
    {
     "name": "stdout",
     "output_type": "stream",
     "text": [
      "[*********************100%***********************]  1 of 1 downloaded\n"
     ]
    },
    {
     "data": {
      "text/html": [
       "<div>\n",
       "<style scoped>\n",
       "    .dataframe tbody tr th:only-of-type {\n",
       "        vertical-align: middle;\n",
       "    }\n",
       "\n",
       "    .dataframe tbody tr th {\n",
       "        vertical-align: top;\n",
       "    }\n",
       "\n",
       "    .dataframe thead th {\n",
       "        text-align: right;\n",
       "    }\n",
       "</style>\n",
       "<table border=\"1\" class=\"dataframe\">\n",
       "  <thead>\n",
       "    <tr style=\"text-align: right;\">\n",
       "      <th></th>\n",
       "      <th>Date</th>\n",
       "      <th>Open</th>\n",
       "      <th>High</th>\n",
       "      <th>Low</th>\n",
       "      <th>Close</th>\n",
       "      <th>Adj Close</th>\n",
       "      <th>Volume</th>\n",
       "      <th>dif</th>\n",
       "      <th>win</th>\n",
       "      <th>loss</th>\n",
       "      <th>ema_win</th>\n",
       "      <th>ema_loss</th>\n",
       "      <th>rs</th>\n",
       "      <th>rsi</th>\n",
       "    </tr>\n",
       "  </thead>\n",
       "  <tbody>\n",
       "    <tr>\n",
       "      <th>1</th>\n",
       "      <td>1993-06-30</td>\n",
       "      <td>22.00</td>\n",
       "      <td>23.00</td>\n",
       "      <td>21.62</td>\n",
       "      <td>21.75</td>\n",
       "      <td>5.15</td>\n",
       "      <td>9060600</td>\n",
       "      <td>-0.03</td>\n",
       "      <td>0.00</td>\n",
       "      <td>0.03</td>\n",
       "      <td>0.00</td>\n",
       "      <td>0.02</td>\n",
       "      <td>0.00</td>\n",
       "      <td>0.00</td>\n",
       "    </tr>\n",
       "    <tr>\n",
       "      <th>2</th>\n",
       "      <td>1993-07-01</td>\n",
       "      <td>21.38</td>\n",
       "      <td>21.62</td>\n",
       "      <td>21.00</td>\n",
       "      <td>21.25</td>\n",
       "      <td>5.03</td>\n",
       "      <td>4273100</td>\n",
       "      <td>-0.12</td>\n",
       "      <td>0.00</td>\n",
       "      <td>0.12</td>\n",
       "      <td>0.00</td>\n",
       "      <td>0.05</td>\n",
       "      <td>0.00</td>\n",
       "      <td>0.00</td>\n",
       "    </tr>\n",
       "    <tr>\n",
       "      <th>3</th>\n",
       "      <td>1993-07-02</td>\n",
       "      <td>21.12</td>\n",
       "      <td>21.25</td>\n",
       "      <td>20.75</td>\n",
       "      <td>21.12</td>\n",
       "      <td>5.00</td>\n",
       "      <td>2504500</td>\n",
       "      <td>-0.03</td>\n",
       "      <td>0.00</td>\n",
       "      <td>0.03</td>\n",
       "      <td>0.00</td>\n",
       "      <td>0.05</td>\n",
       "      <td>0.00</td>\n",
       "      <td>0.00</td>\n",
       "    </tr>\n",
       "    <tr>\n",
       "      <th>4</th>\n",
       "      <td>1993-07-06</td>\n",
       "      <td>20.88</td>\n",
       "      <td>21.00</td>\n",
       "      <td>20.62</td>\n",
       "      <td>20.75</td>\n",
       "      <td>4.92</td>\n",
       "      <td>2030400</td>\n",
       "      <td>-0.08</td>\n",
       "      <td>0.00</td>\n",
       "      <td>0.08</td>\n",
       "      <td>0.00</td>\n",
       "      <td>0.05</td>\n",
       "      <td>0.00</td>\n",
       "      <td>0.00</td>\n",
       "    </tr>\n",
       "    <tr>\n",
       "      <th>5</th>\n",
       "      <td>1993-07-07</td>\n",
       "      <td>20.88</td>\n",
       "      <td>21.00</td>\n",
       "      <td>20.62</td>\n",
       "      <td>20.88</td>\n",
       "      <td>4.95</td>\n",
       "      <td>2447800</td>\n",
       "      <td>0.03</td>\n",
       "      <td>0.03</td>\n",
       "      <td>0.00</td>\n",
       "      <td>0.01</td>\n",
       "      <td>0.04</td>\n",
       "      <td>0.14</td>\n",
       "      <td>12.07</td>\n",
       "    </tr>\n",
       "    <tr>\n",
       "      <th>...</th>\n",
       "      <td>...</td>\n",
       "      <td>...</td>\n",
       "      <td>...</td>\n",
       "      <td>...</td>\n",
       "      <td>...</td>\n",
       "      <td>...</td>\n",
       "      <td>...</td>\n",
       "      <td>...</td>\n",
       "      <td>...</td>\n",
       "      <td>...</td>\n",
       "      <td>...</td>\n",
       "      <td>...</td>\n",
       "      <td>...</td>\n",
       "      <td>...</td>\n",
       "    </tr>\n",
       "    <tr>\n",
       "      <th>6735</th>\n",
       "      <td>2020-03-27</td>\n",
       "      <td>3.95</td>\n",
       "      <td>4.02</td>\n",
       "      <td>3.67</td>\n",
       "      <td>3.85</td>\n",
       "      <td>3.85</td>\n",
       "      <td>2019800</td>\n",
       "      <td>-0.28</td>\n",
       "      <td>0.00</td>\n",
       "      <td>0.28</td>\n",
       "      <td>0.13</td>\n",
       "      <td>0.27</td>\n",
       "      <td>0.49</td>\n",
       "      <td>32.99</td>\n",
       "    </tr>\n",
       "    <tr>\n",
       "      <th>6736</th>\n",
       "      <td>2020-03-30</td>\n",
       "      <td>3.72</td>\n",
       "      <td>4.10</td>\n",
       "      <td>3.67</td>\n",
       "      <td>4.04</td>\n",
       "      <td>4.04</td>\n",
       "      <td>1407600</td>\n",
       "      <td>0.19</td>\n",
       "      <td>0.19</td>\n",
       "      <td>0.00</td>\n",
       "      <td>0.14</td>\n",
       "      <td>0.25</td>\n",
       "      <td>0.55</td>\n",
       "      <td>35.38</td>\n",
       "    </tr>\n",
       "    <tr>\n",
       "      <th>6737</th>\n",
       "      <td>2020-03-31</td>\n",
       "      <td>4.00</td>\n",
       "      <td>4.40</td>\n",
       "      <td>4.00</td>\n",
       "      <td>4.17</td>\n",
       "      <td>4.17</td>\n",
       "      <td>1419700</td>\n",
       "      <td>0.13</td>\n",
       "      <td>0.13</td>\n",
       "      <td>0.00</td>\n",
       "      <td>0.13</td>\n",
       "      <td>0.23</td>\n",
       "      <td>0.59</td>\n",
       "      <td>37.03</td>\n",
       "    </tr>\n",
       "    <tr>\n",
       "      <th>6738</th>\n",
       "      <td>2020-04-01</td>\n",
       "      <td>4.06</td>\n",
       "      <td>4.16</td>\n",
       "      <td>3.86</td>\n",
       "      <td>4.07</td>\n",
       "      <td>4.07</td>\n",
       "      <td>1298800</td>\n",
       "      <td>-0.10</td>\n",
       "      <td>0.00</td>\n",
       "      <td>0.10</td>\n",
       "      <td>0.13</td>\n",
       "      <td>0.22</td>\n",
       "      <td>0.57</td>\n",
       "      <td>36.26</td>\n",
       "    </tr>\n",
       "    <tr>\n",
       "      <th>6739</th>\n",
       "      <td>2020-04-02</td>\n",
       "      <td>4.25</td>\n",
       "      <td>4.52</td>\n",
       "      <td>3.98</td>\n",
       "      <td>4.36</td>\n",
       "      <td>4.36</td>\n",
       "      <td>2506900</td>\n",
       "      <td>0.29</td>\n",
       "      <td>0.29</td>\n",
       "      <td>0.00</td>\n",
       "      <td>0.14</td>\n",
       "      <td>0.20</td>\n",
       "      <td>0.67</td>\n",
       "      <td>40.13</td>\n",
       "    </tr>\n",
       "  </tbody>\n",
       "</table>\n",
       "<p>6739 rows × 14 columns</p>\n",
       "</div>"
      ],
      "text/plain": [
       "           Date   Open   High    Low  Close  Adj Close   Volume   dif   win  \\\n",
       "1    1993-06-30  22.00  23.00  21.62  21.75       5.15  9060600 -0.03  0.00   \n",
       "2    1993-07-01  21.38  21.62  21.00  21.25       5.03  4273100 -0.12  0.00   \n",
       "3    1993-07-02  21.12  21.25  20.75  21.12       5.00  2504500 -0.03  0.00   \n",
       "4    1993-07-06  20.88  21.00  20.62  20.75       4.92  2030400 -0.08  0.00   \n",
       "5    1993-07-07  20.88  21.00  20.62  20.88       4.95  2447800  0.03  0.03   \n",
       "...         ...    ...    ...    ...    ...        ...      ...   ...   ...   \n",
       "6735 2020-03-27   3.95   4.02   3.67   3.85       3.85  2019800 -0.28  0.00   \n",
       "6736 2020-03-30   3.72   4.10   3.67   4.04       4.04  1407600  0.19  0.19   \n",
       "6737 2020-03-31   4.00   4.40   4.00   4.17       4.17  1419700  0.13  0.13   \n",
       "6738 2020-04-01   4.06   4.16   3.86   4.07       4.07  1298800 -0.10  0.00   \n",
       "6739 2020-04-02   4.25   4.52   3.98   4.36       4.36  2506900  0.29  0.29   \n",
       "\n",
       "      loss  ema_win  ema_loss    rs    rsi  \n",
       "1     0.03     0.00      0.02  0.00   0.00  \n",
       "2     0.12     0.00      0.05  0.00   0.00  \n",
       "3     0.03     0.00      0.05  0.00   0.00  \n",
       "4     0.08     0.00      0.05  0.00   0.00  \n",
       "5     0.00     0.01      0.04  0.14  12.07  \n",
       "...    ...      ...       ...   ...    ...  \n",
       "6735  0.28     0.13      0.27  0.49  32.99  \n",
       "6736  0.00     0.14      0.25  0.55  35.38  \n",
       "6737  0.00     0.13      0.23  0.59  37.03  \n",
       "6738  0.10     0.13      0.22  0.57  36.26  \n",
       "6739  0.00     0.14      0.20  0.67  40.13  \n",
       "\n",
       "[6739 rows x 14 columns]"
      ]
     },
     "execution_count": 21,
     "metadata": {},
     "output_type": "execute_result"
    }
   ],
   "source": [
    "import yfinance as yf\n",
    "data = yf.download('YPF', end='2020-04-03')\n",
    "\n",
    "ruedas = 14\n",
    "\n",
    "data['dif'] = data['Adj Close'].diff()\n",
    "data['win'] = np.where(data['dif'] > 0, data['dif'], 0)\n",
    "data['loss'] = np.where(data['dif'] < 0, abs(data['dif']), 0)\n",
    "data['ema_win'] = data.win.ewm(alpha=1/ruedas).mean()\n",
    "data['ema_loss'] = data.loss.ewm(alpha=1/ruedas).mean()\n",
    "data['rs'] = data.ema_win / data.ema_loss\n",
    "data['rsi'] = 100 - (100 / (1+data.rs))\n",
    "data = data.reset_index().dropna().round(2)\n",
    "data"
   ]
  },
  {
   "cell_type": "code",
   "execution_count": 22,
   "metadata": {},
   "outputs": [
    {
     "data": {
      "text/html": [
       "<div>\n",
       "<style scoped>\n",
       "    .dataframe tbody tr th:only-of-type {\n",
       "        vertical-align: middle;\n",
       "    }\n",
       "\n",
       "    .dataframe tbody tr th {\n",
       "        vertical-align: top;\n",
       "    }\n",
       "\n",
       "    .dataframe thead th {\n",
       "        text-align: right;\n",
       "    }\n",
       "</style>\n",
       "<table border=\"1\" class=\"dataframe\">\n",
       "  <thead>\n",
       "    <tr style=\"text-align: right;\">\n",
       "      <th></th>\n",
       "      <th>timestamp</th>\n",
       "      <th>open</th>\n",
       "      <th>high</th>\n",
       "      <th>low</th>\n",
       "      <th>close</th>\n",
       "      <th>adjusted_close</th>\n",
       "      <th>volume</th>\n",
       "      <th>dif</th>\n",
       "      <th>win</th>\n",
       "      <th>loss</th>\n",
       "      <th>ema_win</th>\n",
       "      <th>ema_loss</th>\n",
       "      <th>rs</th>\n",
       "      <th>rsi</th>\n",
       "    </tr>\n",
       "  </thead>\n",
       "  <tbody>\n",
       "    <tr>\n",
       "      <th>1</th>\n",
       "      <td>2000-04-04</td>\n",
       "      <td>35.25</td>\n",
       "      <td>35.25</td>\n",
       "      <td>34.44</td>\n",
       "      <td>34.69</td>\n",
       "      <td>10.28</td>\n",
       "      <td>25700</td>\n",
       "      <td>-0.17</td>\n",
       "      <td>0.00</td>\n",
       "      <td>0.17</td>\n",
       "      <td>0.00</td>\n",
       "      <td>0.09</td>\n",
       "      <td>0.00</td>\n",
       "      <td>0.00</td>\n",
       "    </tr>\n",
       "    <tr>\n",
       "      <th>2</th>\n",
       "      <td>2000-04-05</td>\n",
       "      <td>34.75</td>\n",
       "      <td>34.75</td>\n",
       "      <td>34.06</td>\n",
       "      <td>34.13</td>\n",
       "      <td>10.11</td>\n",
       "      <td>8000</td>\n",
       "      <td>-0.17</td>\n",
       "      <td>0.00</td>\n",
       "      <td>0.17</td>\n",
       "      <td>0.00</td>\n",
       "      <td>0.11</td>\n",
       "      <td>0.00</td>\n",
       "      <td>0.00</td>\n",
       "    </tr>\n",
       "    <tr>\n",
       "      <th>3</th>\n",
       "      <td>2000-04-06</td>\n",
       "      <td>34.25</td>\n",
       "      <td>35.13</td>\n",
       "      <td>34.25</td>\n",
       "      <td>34.75</td>\n",
       "      <td>10.30</td>\n",
       "      <td>31200</td>\n",
       "      <td>0.18</td>\n",
       "      <td>0.18</td>\n",
       "      <td>0.00</td>\n",
       "      <td>0.05</td>\n",
       "      <td>0.08</td>\n",
       "      <td>0.62</td>\n",
       "      <td>38.21</td>\n",
       "    </tr>\n",
       "    <tr>\n",
       "      <th>4</th>\n",
       "      <td>2000-04-07</td>\n",
       "      <td>34.50</td>\n",
       "      <td>35.00</td>\n",
       "      <td>34.50</td>\n",
       "      <td>34.88</td>\n",
       "      <td>10.33</td>\n",
       "      <td>9400</td>\n",
       "      <td>0.04</td>\n",
       "      <td>0.04</td>\n",
       "      <td>0.00</td>\n",
       "      <td>0.05</td>\n",
       "      <td>0.06</td>\n",
       "      <td>0.76</td>\n",
       "      <td>43.11</td>\n",
       "    </tr>\n",
       "    <tr>\n",
       "      <th>5</th>\n",
       "      <td>2000-04-10</td>\n",
       "      <td>34.56</td>\n",
       "      <td>35.00</td>\n",
       "      <td>34.50</td>\n",
       "      <td>34.50</td>\n",
       "      <td>10.22</td>\n",
       "      <td>14000</td>\n",
       "      <td>-0.11</td>\n",
       "      <td>0.00</td>\n",
       "      <td>0.11</td>\n",
       "      <td>0.04</td>\n",
       "      <td>0.07</td>\n",
       "      <td>0.53</td>\n",
       "      <td>34.49</td>\n",
       "    </tr>\n",
       "    <tr>\n",
       "      <th>...</th>\n",
       "      <td>...</td>\n",
       "      <td>...</td>\n",
       "      <td>...</td>\n",
       "      <td>...</td>\n",
       "      <td>...</td>\n",
       "      <td>...</td>\n",
       "      <td>...</td>\n",
       "      <td>...</td>\n",
       "      <td>...</td>\n",
       "      <td>...</td>\n",
       "      <td>...</td>\n",
       "      <td>...</td>\n",
       "      <td>...</td>\n",
       "      <td>...</td>\n",
       "    </tr>\n",
       "    <tr>\n",
       "      <th>5028</th>\n",
       "      <td>2020-03-30</td>\n",
       "      <td>3.72</td>\n",
       "      <td>4.10</td>\n",
       "      <td>3.67</td>\n",
       "      <td>4.04</td>\n",
       "      <td>4.04</td>\n",
       "      <td>1407649</td>\n",
       "      <td>0.19</td>\n",
       "      <td>0.19</td>\n",
       "      <td>0.00</td>\n",
       "      <td>0.14</td>\n",
       "      <td>0.25</td>\n",
       "      <td>0.55</td>\n",
       "      <td>35.38</td>\n",
       "    </tr>\n",
       "    <tr>\n",
       "      <th>5029</th>\n",
       "      <td>2020-03-31</td>\n",
       "      <td>4.00</td>\n",
       "      <td>4.40</td>\n",
       "      <td>4.00</td>\n",
       "      <td>4.17</td>\n",
       "      <td>4.17</td>\n",
       "      <td>1419680</td>\n",
       "      <td>0.13</td>\n",
       "      <td>0.13</td>\n",
       "      <td>0.00</td>\n",
       "      <td>0.13</td>\n",
       "      <td>0.23</td>\n",
       "      <td>0.59</td>\n",
       "      <td>37.03</td>\n",
       "    </tr>\n",
       "    <tr>\n",
       "      <th>5030</th>\n",
       "      <td>2020-04-01</td>\n",
       "      <td>4.06</td>\n",
       "      <td>4.16</td>\n",
       "      <td>3.86</td>\n",
       "      <td>4.07</td>\n",
       "      <td>4.07</td>\n",
       "      <td>1298840</td>\n",
       "      <td>-0.10</td>\n",
       "      <td>0.00</td>\n",
       "      <td>0.10</td>\n",
       "      <td>0.13</td>\n",
       "      <td>0.22</td>\n",
       "      <td>0.57</td>\n",
       "      <td>36.26</td>\n",
       "    </tr>\n",
       "    <tr>\n",
       "      <th>5031</th>\n",
       "      <td>2020-04-02</td>\n",
       "      <td>4.25</td>\n",
       "      <td>4.52</td>\n",
       "      <td>3.98</td>\n",
       "      <td>4.36</td>\n",
       "      <td>4.36</td>\n",
       "      <td>2504579</td>\n",
       "      <td>0.29</td>\n",
       "      <td>0.29</td>\n",
       "      <td>0.00</td>\n",
       "      <td>0.14</td>\n",
       "      <td>0.20</td>\n",
       "      <td>0.67</td>\n",
       "      <td>40.13</td>\n",
       "    </tr>\n",
       "    <tr>\n",
       "      <th>5032</th>\n",
       "      <td>2020-04-03</td>\n",
       "      <td>4.56</td>\n",
       "      <td>4.60</td>\n",
       "      <td>4.15</td>\n",
       "      <td>4.36</td>\n",
       "      <td>4.36</td>\n",
       "      <td>1236928</td>\n",
       "      <td>0.00</td>\n",
       "      <td>0.00</td>\n",
       "      <td>0.00</td>\n",
       "      <td>0.13</td>\n",
       "      <td>0.19</td>\n",
       "      <td>0.67</td>\n",
       "      <td>40.13</td>\n",
       "    </tr>\n",
       "  </tbody>\n",
       "</table>\n",
       "<p>5032 rows × 14 columns</p>\n",
       "</div>"
      ],
      "text/plain": [
       "      timestamp   open   high    low  close  adjusted_close   volume   dif  \\\n",
       "1    2000-04-04  35.25  35.25  34.44  34.69           10.28    25700 -0.17   \n",
       "2    2000-04-05  34.75  34.75  34.06  34.13           10.11     8000 -0.17   \n",
       "3    2000-04-06  34.25  35.13  34.25  34.75           10.30    31200  0.18   \n",
       "4    2000-04-07  34.50  35.00  34.50  34.88           10.33     9400  0.04   \n",
       "5    2000-04-10  34.56  35.00  34.50  34.50           10.22    14000 -0.11   \n",
       "...         ...    ...    ...    ...    ...             ...      ...   ...   \n",
       "5028 2020-03-30   3.72   4.10   3.67   4.04            4.04  1407649  0.19   \n",
       "5029 2020-03-31   4.00   4.40   4.00   4.17            4.17  1419680  0.13   \n",
       "5030 2020-04-01   4.06   4.16   3.86   4.07            4.07  1298840 -0.10   \n",
       "5031 2020-04-02   4.25   4.52   3.98   4.36            4.36  2504579  0.29   \n",
       "5032 2020-04-03   4.56   4.60   4.15   4.36            4.36  1236928  0.00   \n",
       "\n",
       "       win  loss  ema_win  ema_loss    rs    rsi  \n",
       "1     0.00  0.17     0.00      0.09  0.00   0.00  \n",
       "2     0.00  0.17     0.00      0.11  0.00   0.00  \n",
       "3     0.18  0.00     0.05      0.08  0.62  38.21  \n",
       "4     0.04  0.00     0.05      0.06  0.76  43.11  \n",
       "5     0.00  0.11     0.04      0.07  0.53  34.49  \n",
       "...    ...   ...      ...       ...   ...    ...  \n",
       "5028  0.19  0.00     0.14      0.25  0.55  35.38  \n",
       "5029  0.13  0.00     0.13      0.23  0.59  37.03  \n",
       "5030  0.00  0.10     0.13      0.22  0.57  36.26  \n",
       "5031  0.29  0.00     0.14      0.20  0.67  40.13  \n",
       "5032  0.00  0.00     0.13      0.19  0.67  40.13  \n",
       "\n",
       "[5032 rows x 14 columns]"
      ]
     },
     "execution_count": 22,
     "metadata": {},
     "output_type": "execute_result"
    }
   ],
   "source": [
    "import pandas as pd\n",
    "data = pd.read_excel('excels_csvs/ADRs/YPF.xlsx').set_index('timestamp').sort_index()\n",
    "\n",
    "ruedas = 14\n",
    "\n",
    "data['dif'] = data.adjusted_close.diff()\n",
    "data['win'] = np.where(data['dif'] > 0, data['dif'], 0)\n",
    "data['loss'] = np.where(data['dif'] < 0, abs(data['dif']), 0)\n",
    "data['ema_win'] = data.win.ewm(alpha=1/ruedas).mean()\n",
    "data['ema_loss'] = data.loss.ewm(alpha=1/ruedas).mean()\n",
    "data['rs'] = data.ema_win / data.ema_loss\n",
    "data['rsi'] = 100 - (100 / (1+data.rs))\n",
    "data = data.reset_index().dropna().round(2)\n",
    "data"
   ]
  },
  {
   "cell_type": "markdown",
   "metadata": {},
   "source": [
    "### Armamos funcion que vaya a buscar el excel"
   ]
  },
  {
   "cell_type": "code",
   "execution_count": 23,
   "metadata": {},
   "outputs": [
    {
     "data": {
      "text/html": [
       "<div>\n",
       "<style scoped>\n",
       "    .dataframe tbody tr th:only-of-type {\n",
       "        vertical-align: middle;\n",
       "    }\n",
       "\n",
       "    .dataframe tbody tr th {\n",
       "        vertical-align: top;\n",
       "    }\n",
       "\n",
       "    .dataframe thead th {\n",
       "        text-align: right;\n",
       "    }\n",
       "</style>\n",
       "<table border=\"1\" class=\"dataframe\">\n",
       "  <thead>\n",
       "    <tr style=\"text-align: right;\">\n",
       "      <th></th>\n",
       "      <th>open</th>\n",
       "      <th>high</th>\n",
       "      <th>low</th>\n",
       "      <th>close</th>\n",
       "      <th>adjusted_close</th>\n",
       "      <th>volume</th>\n",
       "      <th>dif</th>\n",
       "      <th>win</th>\n",
       "      <th>loss</th>\n",
       "      <th>ema_win</th>\n",
       "      <th>ema_loss</th>\n",
       "      <th>rs</th>\n",
       "      <th>rsi</th>\n",
       "    </tr>\n",
       "    <tr>\n",
       "      <th>timestamp</th>\n",
       "      <th></th>\n",
       "      <th></th>\n",
       "      <th></th>\n",
       "      <th></th>\n",
       "      <th></th>\n",
       "      <th></th>\n",
       "      <th></th>\n",
       "      <th></th>\n",
       "      <th></th>\n",
       "      <th></th>\n",
       "      <th></th>\n",
       "      <th></th>\n",
       "      <th></th>\n",
       "    </tr>\n",
       "  </thead>\n",
       "  <tbody>\n",
       "    <tr>\n",
       "      <th>2000-04-04</th>\n",
       "      <td>35.25</td>\n",
       "      <td>35.25</td>\n",
       "      <td>34.44</td>\n",
       "      <td>34.69</td>\n",
       "      <td>10.28</td>\n",
       "      <td>25700</td>\n",
       "      <td>-0.17</td>\n",
       "      <td>0.00</td>\n",
       "      <td>0.17</td>\n",
       "      <td>0.00</td>\n",
       "      <td>0.09</td>\n",
       "      <td>0.00</td>\n",
       "      <td>0.00</td>\n",
       "    </tr>\n",
       "    <tr>\n",
       "      <th>2000-04-05</th>\n",
       "      <td>34.75</td>\n",
       "      <td>34.75</td>\n",
       "      <td>34.06</td>\n",
       "      <td>34.13</td>\n",
       "      <td>10.11</td>\n",
       "      <td>8000</td>\n",
       "      <td>-0.17</td>\n",
       "      <td>0.00</td>\n",
       "      <td>0.17</td>\n",
       "      <td>0.00</td>\n",
       "      <td>0.11</td>\n",
       "      <td>0.00</td>\n",
       "      <td>0.00</td>\n",
       "    </tr>\n",
       "    <tr>\n",
       "      <th>2000-04-06</th>\n",
       "      <td>34.25</td>\n",
       "      <td>35.13</td>\n",
       "      <td>34.25</td>\n",
       "      <td>34.75</td>\n",
       "      <td>10.30</td>\n",
       "      <td>31200</td>\n",
       "      <td>0.18</td>\n",
       "      <td>0.18</td>\n",
       "      <td>0.00</td>\n",
       "      <td>0.05</td>\n",
       "      <td>0.08</td>\n",
       "      <td>0.62</td>\n",
       "      <td>38.21</td>\n",
       "    </tr>\n",
       "    <tr>\n",
       "      <th>2000-04-07</th>\n",
       "      <td>34.50</td>\n",
       "      <td>35.00</td>\n",
       "      <td>34.50</td>\n",
       "      <td>34.88</td>\n",
       "      <td>10.33</td>\n",
       "      <td>9400</td>\n",
       "      <td>0.04</td>\n",
       "      <td>0.04</td>\n",
       "      <td>0.00</td>\n",
       "      <td>0.05</td>\n",
       "      <td>0.06</td>\n",
       "      <td>0.76</td>\n",
       "      <td>43.11</td>\n",
       "    </tr>\n",
       "    <tr>\n",
       "      <th>2000-04-10</th>\n",
       "      <td>34.56</td>\n",
       "      <td>35.00</td>\n",
       "      <td>34.50</td>\n",
       "      <td>34.50</td>\n",
       "      <td>10.22</td>\n",
       "      <td>14000</td>\n",
       "      <td>-0.11</td>\n",
       "      <td>0.00</td>\n",
       "      <td>0.11</td>\n",
       "      <td>0.04</td>\n",
       "      <td>0.07</td>\n",
       "      <td>0.53</td>\n",
       "      <td>34.49</td>\n",
       "    </tr>\n",
       "    <tr>\n",
       "      <th>...</th>\n",
       "      <td>...</td>\n",
       "      <td>...</td>\n",
       "      <td>...</td>\n",
       "      <td>...</td>\n",
       "      <td>...</td>\n",
       "      <td>...</td>\n",
       "      <td>...</td>\n",
       "      <td>...</td>\n",
       "      <td>...</td>\n",
       "      <td>...</td>\n",
       "      <td>...</td>\n",
       "      <td>...</td>\n",
       "      <td>...</td>\n",
       "    </tr>\n",
       "    <tr>\n",
       "      <th>2020-03-30</th>\n",
       "      <td>3.72</td>\n",
       "      <td>4.10</td>\n",
       "      <td>3.67</td>\n",
       "      <td>4.04</td>\n",
       "      <td>4.04</td>\n",
       "      <td>1407649</td>\n",
       "      <td>0.19</td>\n",
       "      <td>0.19</td>\n",
       "      <td>0.00</td>\n",
       "      <td>0.14</td>\n",
       "      <td>0.25</td>\n",
       "      <td>0.55</td>\n",
       "      <td>35.38</td>\n",
       "    </tr>\n",
       "    <tr>\n",
       "      <th>2020-03-31</th>\n",
       "      <td>4.00</td>\n",
       "      <td>4.40</td>\n",
       "      <td>4.00</td>\n",
       "      <td>4.17</td>\n",
       "      <td>4.17</td>\n",
       "      <td>1419680</td>\n",
       "      <td>0.13</td>\n",
       "      <td>0.13</td>\n",
       "      <td>0.00</td>\n",
       "      <td>0.13</td>\n",
       "      <td>0.23</td>\n",
       "      <td>0.59</td>\n",
       "      <td>37.03</td>\n",
       "    </tr>\n",
       "    <tr>\n",
       "      <th>2020-04-01</th>\n",
       "      <td>4.06</td>\n",
       "      <td>4.16</td>\n",
       "      <td>3.86</td>\n",
       "      <td>4.07</td>\n",
       "      <td>4.07</td>\n",
       "      <td>1298840</td>\n",
       "      <td>-0.10</td>\n",
       "      <td>0.00</td>\n",
       "      <td>0.10</td>\n",
       "      <td>0.13</td>\n",
       "      <td>0.22</td>\n",
       "      <td>0.57</td>\n",
       "      <td>36.26</td>\n",
       "    </tr>\n",
       "    <tr>\n",
       "      <th>2020-04-02</th>\n",
       "      <td>4.25</td>\n",
       "      <td>4.52</td>\n",
       "      <td>3.98</td>\n",
       "      <td>4.36</td>\n",
       "      <td>4.36</td>\n",
       "      <td>2504579</td>\n",
       "      <td>0.29</td>\n",
       "      <td>0.29</td>\n",
       "      <td>0.00</td>\n",
       "      <td>0.14</td>\n",
       "      <td>0.20</td>\n",
       "      <td>0.67</td>\n",
       "      <td>40.13</td>\n",
       "    </tr>\n",
       "    <tr>\n",
       "      <th>2020-04-03</th>\n",
       "      <td>4.56</td>\n",
       "      <td>4.60</td>\n",
       "      <td>4.15</td>\n",
       "      <td>4.36</td>\n",
       "      <td>4.36</td>\n",
       "      <td>1236928</td>\n",
       "      <td>0.00</td>\n",
       "      <td>0.00</td>\n",
       "      <td>0.00</td>\n",
       "      <td>0.13</td>\n",
       "      <td>0.19</td>\n",
       "      <td>0.67</td>\n",
       "      <td>40.13</td>\n",
       "    </tr>\n",
       "  </tbody>\n",
       "</table>\n",
       "<p>5032 rows × 13 columns</p>\n",
       "</div>"
      ],
      "text/plain": [
       "             open   high    low  close  adjusted_close   volume   dif   win  \\\n",
       "timestamp                                                                     \n",
       "2000-04-04  35.25  35.25  34.44  34.69           10.28    25700 -0.17  0.00   \n",
       "2000-04-05  34.75  34.75  34.06  34.13           10.11     8000 -0.17  0.00   \n",
       "2000-04-06  34.25  35.13  34.25  34.75           10.30    31200  0.18  0.18   \n",
       "2000-04-07  34.50  35.00  34.50  34.88           10.33     9400  0.04  0.04   \n",
       "2000-04-10  34.56  35.00  34.50  34.50           10.22    14000 -0.11  0.00   \n",
       "...           ...    ...    ...    ...             ...      ...   ...   ...   \n",
       "2020-03-30   3.72   4.10   3.67   4.04            4.04  1407649  0.19  0.19   \n",
       "2020-03-31   4.00   4.40   4.00   4.17            4.17  1419680  0.13  0.13   \n",
       "2020-04-01   4.06   4.16   3.86   4.07            4.07  1298840 -0.10  0.00   \n",
       "2020-04-02   4.25   4.52   3.98   4.36            4.36  2504579  0.29  0.29   \n",
       "2020-04-03   4.56   4.60   4.15   4.36            4.36  1236928  0.00  0.00   \n",
       "\n",
       "            loss  ema_win  ema_loss    rs    rsi  \n",
       "timestamp                                         \n",
       "2000-04-04  0.17     0.00      0.09  0.00   0.00  \n",
       "2000-04-05  0.17     0.00      0.11  0.00   0.00  \n",
       "2000-04-06  0.00     0.05      0.08  0.62  38.21  \n",
       "2000-04-07  0.00     0.05      0.06  0.76  43.11  \n",
       "2000-04-10  0.11     0.04      0.07  0.53  34.49  \n",
       "...          ...      ...       ...   ...    ...  \n",
       "2020-03-30  0.00     0.14      0.25  0.55  35.38  \n",
       "2020-03-31  0.00     0.13      0.23  0.59  37.03  \n",
       "2020-04-01  0.10     0.13      0.22  0.57  36.26  \n",
       "2020-04-02  0.00     0.14      0.20  0.67  40.13  \n",
       "2020-04-03  0.00     0.13      0.19  0.67  40.13  \n",
       "\n",
       "[5032 rows x 13 columns]"
      ]
     },
     "execution_count": 23,
     "metadata": {},
     "output_type": "execute_result"
    }
   ],
   "source": [
    "def rsi_excel(ticker, ruedas=14):\n",
    "    import pandas as pd\n",
    "\n",
    "    data = pd.read_excel('excels_csvs/ADRs/'+ticker+'.xlsx').set_index('timestamp').sort_index()\n",
    "    data['dif'] = data.adjusted_close.diff()\n",
    "    data['win'] = np.where(data['dif'] > 0, data['dif'], 0)\n",
    "    data['loss'] = np.where(data['dif'] < 0, abs(data['dif']), 0)\n",
    "    data['ema_win'] = data.win.ewm(alpha=1/ruedas).mean()\n",
    "    data['ema_loss'] = data.loss.ewm(alpha=1/ruedas).mean()\n",
    "    data['rs'] = data.ema_win / data.ema_loss\n",
    "    data['rsi'] = 100 - (100 / (1+data.rs))\n",
    "    data = data.dropna().round(2)\n",
    "\n",
    "    return data\n",
    "\n",
    "rsi_excel('YPF')"
   ]
  },
  {
   "cell_type": "markdown",
   "metadata": {},
   "source": [
    "### Armamos función que traiga de yfinance"
   ]
  },
  {
   "cell_type": "code",
   "execution_count": 26,
   "metadata": {},
   "outputs": [
    {
     "name": "stdout",
     "output_type": "stream",
     "text": [
      "[*********************100%***********************]  1 of 1 downloaded\n"
     ]
    },
    {
     "data": {
      "text/html": [
       "<div>\n",
       "<style scoped>\n",
       "    .dataframe tbody tr th:only-of-type {\n",
       "        vertical-align: middle;\n",
       "    }\n",
       "\n",
       "    .dataframe tbody tr th {\n",
       "        vertical-align: top;\n",
       "    }\n",
       "\n",
       "    .dataframe thead th {\n",
       "        text-align: right;\n",
       "    }\n",
       "</style>\n",
       "<table border=\"1\" class=\"dataframe\">\n",
       "  <thead>\n",
       "    <tr style=\"text-align: right;\">\n",
       "      <th></th>\n",
       "      <th>Date</th>\n",
       "      <th>Open</th>\n",
       "      <th>High</th>\n",
       "      <th>Low</th>\n",
       "      <th>Close</th>\n",
       "      <th>Adj Close</th>\n",
       "      <th>Volume</th>\n",
       "      <th>dif</th>\n",
       "      <th>win</th>\n",
       "      <th>loss</th>\n",
       "      <th>ema_win</th>\n",
       "      <th>ema_loss</th>\n",
       "      <th>rs</th>\n",
       "      <th>rsi</th>\n",
       "    </tr>\n",
       "  </thead>\n",
       "  <tbody>\n",
       "    <tr>\n",
       "      <th>3</th>\n",
       "      <td>2000-07-28</td>\n",
       "      <td>17.56</td>\n",
       "      <td>17.56</td>\n",
       "      <td>17.12</td>\n",
       "      <td>17.38</td>\n",
       "      <td>16.23</td>\n",
       "      <td>146100</td>\n",
       "      <td>-0.12</td>\n",
       "      <td>0.00</td>\n",
       "      <td>0.12</td>\n",
       "      <td>0.00</td>\n",
       "      <td>0.03</td>\n",
       "      <td>0.00</td>\n",
       "      <td>0.00</td>\n",
       "    </tr>\n",
       "    <tr>\n",
       "      <th>4</th>\n",
       "      <td>2000-07-31</td>\n",
       "      <td>17.50</td>\n",
       "      <td>17.69</td>\n",
       "      <td>16.88</td>\n",
       "      <td>17.69</td>\n",
       "      <td>16.52</td>\n",
       "      <td>178400</td>\n",
       "      <td>0.29</td>\n",
       "      <td>0.29</td>\n",
       "      <td>0.00</td>\n",
       "      <td>0.07</td>\n",
       "      <td>0.03</td>\n",
       "      <td>2.60</td>\n",
       "      <td>72.24</td>\n",
       "    </tr>\n",
       "    <tr>\n",
       "      <th>5</th>\n",
       "      <td>2000-08-01</td>\n",
       "      <td>17.56</td>\n",
       "      <td>18.44</td>\n",
       "      <td>17.25</td>\n",
       "      <td>17.50</td>\n",
       "      <td>16.35</td>\n",
       "      <td>87400</td>\n",
       "      <td>-0.17</td>\n",
       "      <td>0.00</td>\n",
       "      <td>0.17</td>\n",
       "      <td>0.05</td>\n",
       "      <td>0.05</td>\n",
       "      <td>0.98</td>\n",
       "      <td>49.61</td>\n",
       "    </tr>\n",
       "    <tr>\n",
       "      <th>6</th>\n",
       "      <td>2000-08-02</td>\n",
       "      <td>17.75</td>\n",
       "      <td>18.00</td>\n",
       "      <td>17.69</td>\n",
       "      <td>17.69</td>\n",
       "      <td>16.52</td>\n",
       "      <td>34800</td>\n",
       "      <td>0.17</td>\n",
       "      <td>0.17</td>\n",
       "      <td>0.00</td>\n",
       "      <td>0.07</td>\n",
       "      <td>0.04</td>\n",
       "      <td>1.65</td>\n",
       "      <td>62.32</td>\n",
       "    </tr>\n",
       "    <tr>\n",
       "      <th>7</th>\n",
       "      <td>2000-08-03</td>\n",
       "      <td>17.62</td>\n",
       "      <td>17.67</td>\n",
       "      <td>17.25</td>\n",
       "      <td>17.38</td>\n",
       "      <td>16.23</td>\n",
       "      <td>60800</td>\n",
       "      <td>-0.29</td>\n",
       "      <td>0.00</td>\n",
       "      <td>0.29</td>\n",
       "      <td>0.06</td>\n",
       "      <td>0.08</td>\n",
       "      <td>0.74</td>\n",
       "      <td>42.59</td>\n",
       "    </tr>\n",
       "    <tr>\n",
       "      <th>...</th>\n",
       "      <td>...</td>\n",
       "      <td>...</td>\n",
       "      <td>...</td>\n",
       "      <td>...</td>\n",
       "      <td>...</td>\n",
       "      <td>...</td>\n",
       "      <td>...</td>\n",
       "      <td>...</td>\n",
       "      <td>...</td>\n",
       "      <td>...</td>\n",
       "      <td>...</td>\n",
       "      <td>...</td>\n",
       "      <td>...</td>\n",
       "      <td>...</td>\n",
       "    </tr>\n",
       "    <tr>\n",
       "      <th>5035</th>\n",
       "      <td>2020-07-30</td>\n",
       "      <td>12.00</td>\n",
       "      <td>12.19</td>\n",
       "      <td>11.58</td>\n",
       "      <td>12.12</td>\n",
       "      <td>12.12</td>\n",
       "      <td>1206200</td>\n",
       "      <td>-0.20</td>\n",
       "      <td>0.00</td>\n",
       "      <td>0.20</td>\n",
       "      <td>0.22</td>\n",
       "      <td>0.16</td>\n",
       "      <td>1.38</td>\n",
       "      <td>57.92</td>\n",
       "    </tr>\n",
       "    <tr>\n",
       "      <th>5036</th>\n",
       "      <td>2020-07-31</td>\n",
       "      <td>12.14</td>\n",
       "      <td>12.26</td>\n",
       "      <td>11.85</td>\n",
       "      <td>12.00</td>\n",
       "      <td>12.00</td>\n",
       "      <td>745500</td>\n",
       "      <td>-0.12</td>\n",
       "      <td>0.00</td>\n",
       "      <td>0.12</td>\n",
       "      <td>0.21</td>\n",
       "      <td>0.16</td>\n",
       "      <td>1.30</td>\n",
       "      <td>56.56</td>\n",
       "    </tr>\n",
       "    <tr>\n",
       "      <th>5037</th>\n",
       "      <td>2020-08-03</td>\n",
       "      <td>11.55</td>\n",
       "      <td>13.76</td>\n",
       "      <td>11.40</td>\n",
       "      <td>13.27</td>\n",
       "      <td>13.27</td>\n",
       "      <td>3159700</td>\n",
       "      <td>1.27</td>\n",
       "      <td>1.27</td>\n",
       "      <td>0.00</td>\n",
       "      <td>0.28</td>\n",
       "      <td>0.15</td>\n",
       "      <td>1.92</td>\n",
       "      <td>65.76</td>\n",
       "    </tr>\n",
       "    <tr>\n",
       "      <th>5038</th>\n",
       "      <td>2020-08-04</td>\n",
       "      <td>14.75</td>\n",
       "      <td>14.94</td>\n",
       "      <td>12.83</td>\n",
       "      <td>13.05</td>\n",
       "      <td>13.05</td>\n",
       "      <td>5391800</td>\n",
       "      <td>-0.22</td>\n",
       "      <td>0.00</td>\n",
       "      <td>0.22</td>\n",
       "      <td>0.26</td>\n",
       "      <td>0.15</td>\n",
       "      <td>1.72</td>\n",
       "      <td>63.26</td>\n",
       "    </tr>\n",
       "    <tr>\n",
       "      <th>5039</th>\n",
       "      <td>2020-08-05</td>\n",
       "      <td>13.28</td>\n",
       "      <td>13.76</td>\n",
       "      <td>12.57</td>\n",
       "      <td>12.65</td>\n",
       "      <td>12.65</td>\n",
       "      <td>1826233</td>\n",
       "      <td>-0.40</td>\n",
       "      <td>0.00</td>\n",
       "      <td>0.40</td>\n",
       "      <td>0.24</td>\n",
       "      <td>0.17</td>\n",
       "      <td>1.43</td>\n",
       "      <td>58.88</td>\n",
       "    </tr>\n",
       "  </tbody>\n",
       "</table>\n",
       "<p>5037 rows × 14 columns</p>\n",
       "</div>"
      ],
      "text/plain": [
       "           Date   Open   High    Low  Close  Adj Close   Volume   dif   win  \\\n",
       "3    2000-07-28  17.56  17.56  17.12  17.38      16.23   146100 -0.12  0.00   \n",
       "4    2000-07-31  17.50  17.69  16.88  17.69      16.52   178400  0.29  0.29   \n",
       "5    2000-08-01  17.56  18.44  17.25  17.50      16.35    87400 -0.17  0.00   \n",
       "6    2000-08-02  17.75  18.00  17.69  17.69      16.52    34800  0.17  0.17   \n",
       "7    2000-08-03  17.62  17.67  17.25  17.38      16.23    60800 -0.29  0.00   \n",
       "...         ...    ...    ...    ...    ...        ...      ...   ...   ...   \n",
       "5035 2020-07-30  12.00  12.19  11.58  12.12      12.12  1206200 -0.20  0.00   \n",
       "5036 2020-07-31  12.14  12.26  11.85  12.00      12.00   745500 -0.12  0.00   \n",
       "5037 2020-08-03  11.55  13.76  11.40  13.27      13.27  3159700  1.27  1.27   \n",
       "5038 2020-08-04  14.75  14.94  12.83  13.05      13.05  5391800 -0.22  0.00   \n",
       "5039 2020-08-05  13.28  13.76  12.57  12.65      12.65  1826233 -0.40  0.00   \n",
       "\n",
       "      loss  ema_win  ema_loss    rs    rsi  \n",
       "3     0.12     0.00      0.03  0.00   0.00  \n",
       "4     0.00     0.07      0.03  2.60  72.24  \n",
       "5     0.17     0.05      0.05  0.98  49.61  \n",
       "6     0.00     0.07      0.04  1.65  62.32  \n",
       "7     0.29     0.06      0.08  0.74  42.59  \n",
       "...    ...      ...       ...   ...    ...  \n",
       "5035  0.20     0.22      0.16  1.38  57.92  \n",
       "5036  0.12     0.21      0.16  1.30  56.56  \n",
       "5037  0.00     0.28      0.15  1.92  65.76  \n",
       "5038  0.22     0.26      0.15  1.72  63.26  \n",
       "5039  0.40     0.24      0.17  1.43  58.88  \n",
       "\n",
       "[5037 rows x 14 columns]"
      ]
     },
     "execution_count": 26,
     "metadata": {},
     "output_type": "execute_result"
    }
   ],
   "source": [
    "def rsi_yahoo(ticker, ruedas=14):\n",
    "\n",
    "    import yfinance as yf\n",
    "    data = yf.download(ticker)\n",
    "\n",
    "    data['dif'] = data['Adj Close'].diff()\n",
    "    data['win'] = np.where(data['dif'] > 0, data['dif'], 0)\n",
    "    data['loss'] = np.where(data['dif'] < 0, abs(data['dif']), 0)\n",
    "    data['ema_win'] = data.win.ewm(alpha=1/ruedas).mean()\n",
    "    data['ema_loss'] = data.loss.ewm(alpha=1/ruedas).mean()\n",
    "    data['rs'] = data.ema_win / data.ema_loss\n",
    "    data['rsi'] = 100 - (100 / (1+data.rs))\n",
    "    return data.reset_index().dropna().round(2)\n",
    "\n",
    "rsi_yahoo('GGAL')"
   ]
  },
  {
   "cell_type": "markdown",
   "metadata": {},
   "source": [
    "### Armamos una función que traiga de donde yo le diga"
   ]
  },
  {
   "cell_type": "code",
   "execution_count": 27,
   "metadata": {},
   "outputs": [
    {
     "name": "stdout",
     "output_type": "stream",
     "text": [
      "[*********************100%***********************]  1 of 1 downloaded\n"
     ]
    },
    {
     "data": {
      "text/html": [
       "<div>\n",
       "<style scoped>\n",
       "    .dataframe tbody tr th:only-of-type {\n",
       "        vertical-align: middle;\n",
       "    }\n",
       "\n",
       "    .dataframe tbody tr th {\n",
       "        vertical-align: top;\n",
       "    }\n",
       "\n",
       "    .dataframe thead th {\n",
       "        text-align: right;\n",
       "    }\n",
       "</style>\n",
       "<table border=\"1\" class=\"dataframe\">\n",
       "  <thead>\n",
       "    <tr style=\"text-align: right;\">\n",
       "      <th></th>\n",
       "      <th>Date</th>\n",
       "      <th>Open</th>\n",
       "      <th>High</th>\n",
       "      <th>Low</th>\n",
       "      <th>Close</th>\n",
       "      <th>Adj Close</th>\n",
       "      <th>Volume</th>\n",
       "      <th>dif</th>\n",
       "      <th>win</th>\n",
       "      <th>loss</th>\n",
       "      <th>ema_win</th>\n",
       "      <th>ema_loss</th>\n",
       "      <th>rs</th>\n",
       "      <th>rsi</th>\n",
       "    </tr>\n",
       "  </thead>\n",
       "  <tbody>\n",
       "    <tr>\n",
       "      <th>3</th>\n",
       "      <td>2000-07-28</td>\n",
       "      <td>17.56</td>\n",
       "      <td>17.56</td>\n",
       "      <td>17.12</td>\n",
       "      <td>17.38</td>\n",
       "      <td>16.23</td>\n",
       "      <td>146100</td>\n",
       "      <td>-0.12</td>\n",
       "      <td>0.00</td>\n",
       "      <td>0.12</td>\n",
       "      <td>0.00</td>\n",
       "      <td>0.03</td>\n",
       "      <td>0.00</td>\n",
       "      <td>0.00</td>\n",
       "    </tr>\n",
       "    <tr>\n",
       "      <th>4</th>\n",
       "      <td>2000-07-31</td>\n",
       "      <td>17.50</td>\n",
       "      <td>17.69</td>\n",
       "      <td>16.88</td>\n",
       "      <td>17.69</td>\n",
       "      <td>16.52</td>\n",
       "      <td>178400</td>\n",
       "      <td>0.29</td>\n",
       "      <td>0.29</td>\n",
       "      <td>0.00</td>\n",
       "      <td>0.07</td>\n",
       "      <td>0.03</td>\n",
       "      <td>2.60</td>\n",
       "      <td>72.24</td>\n",
       "    </tr>\n",
       "    <tr>\n",
       "      <th>5</th>\n",
       "      <td>2000-08-01</td>\n",
       "      <td>17.56</td>\n",
       "      <td>18.44</td>\n",
       "      <td>17.25</td>\n",
       "      <td>17.50</td>\n",
       "      <td>16.35</td>\n",
       "      <td>87400</td>\n",
       "      <td>-0.17</td>\n",
       "      <td>0.00</td>\n",
       "      <td>0.17</td>\n",
       "      <td>0.05</td>\n",
       "      <td>0.05</td>\n",
       "      <td>0.98</td>\n",
       "      <td>49.61</td>\n",
       "    </tr>\n",
       "    <tr>\n",
       "      <th>6</th>\n",
       "      <td>2000-08-02</td>\n",
       "      <td>17.75</td>\n",
       "      <td>18.00</td>\n",
       "      <td>17.69</td>\n",
       "      <td>17.69</td>\n",
       "      <td>16.52</td>\n",
       "      <td>34800</td>\n",
       "      <td>0.17</td>\n",
       "      <td>0.17</td>\n",
       "      <td>0.00</td>\n",
       "      <td>0.07</td>\n",
       "      <td>0.04</td>\n",
       "      <td>1.65</td>\n",
       "      <td>62.32</td>\n",
       "    </tr>\n",
       "    <tr>\n",
       "      <th>7</th>\n",
       "      <td>2000-08-03</td>\n",
       "      <td>17.62</td>\n",
       "      <td>17.67</td>\n",
       "      <td>17.25</td>\n",
       "      <td>17.38</td>\n",
       "      <td>16.23</td>\n",
       "      <td>60800</td>\n",
       "      <td>-0.29</td>\n",
       "      <td>0.00</td>\n",
       "      <td>0.29</td>\n",
       "      <td>0.06</td>\n",
       "      <td>0.08</td>\n",
       "      <td>0.74</td>\n",
       "      <td>42.59</td>\n",
       "    </tr>\n",
       "    <tr>\n",
       "      <th>...</th>\n",
       "      <td>...</td>\n",
       "      <td>...</td>\n",
       "      <td>...</td>\n",
       "      <td>...</td>\n",
       "      <td>...</td>\n",
       "      <td>...</td>\n",
       "      <td>...</td>\n",
       "      <td>...</td>\n",
       "      <td>...</td>\n",
       "      <td>...</td>\n",
       "      <td>...</td>\n",
       "      <td>...</td>\n",
       "      <td>...</td>\n",
       "      <td>...</td>\n",
       "    </tr>\n",
       "    <tr>\n",
       "      <th>5035</th>\n",
       "      <td>2020-07-30</td>\n",
       "      <td>12.00</td>\n",
       "      <td>12.19</td>\n",
       "      <td>11.58</td>\n",
       "      <td>12.12</td>\n",
       "      <td>12.12</td>\n",
       "      <td>1206200</td>\n",
       "      <td>-0.20</td>\n",
       "      <td>0.00</td>\n",
       "      <td>0.20</td>\n",
       "      <td>0.22</td>\n",
       "      <td>0.16</td>\n",
       "      <td>1.38</td>\n",
       "      <td>57.92</td>\n",
       "    </tr>\n",
       "    <tr>\n",
       "      <th>5036</th>\n",
       "      <td>2020-07-31</td>\n",
       "      <td>12.14</td>\n",
       "      <td>12.26</td>\n",
       "      <td>11.85</td>\n",
       "      <td>12.00</td>\n",
       "      <td>12.00</td>\n",
       "      <td>745500</td>\n",
       "      <td>-0.12</td>\n",
       "      <td>0.00</td>\n",
       "      <td>0.12</td>\n",
       "      <td>0.21</td>\n",
       "      <td>0.16</td>\n",
       "      <td>1.30</td>\n",
       "      <td>56.56</td>\n",
       "    </tr>\n",
       "    <tr>\n",
       "      <th>5037</th>\n",
       "      <td>2020-08-03</td>\n",
       "      <td>11.55</td>\n",
       "      <td>13.76</td>\n",
       "      <td>11.40</td>\n",
       "      <td>13.27</td>\n",
       "      <td>13.27</td>\n",
       "      <td>3159700</td>\n",
       "      <td>1.27</td>\n",
       "      <td>1.27</td>\n",
       "      <td>0.00</td>\n",
       "      <td>0.28</td>\n",
       "      <td>0.15</td>\n",
       "      <td>1.92</td>\n",
       "      <td>65.76</td>\n",
       "    </tr>\n",
       "    <tr>\n",
       "      <th>5038</th>\n",
       "      <td>2020-08-04</td>\n",
       "      <td>14.75</td>\n",
       "      <td>14.94</td>\n",
       "      <td>12.83</td>\n",
       "      <td>13.05</td>\n",
       "      <td>13.05</td>\n",
       "      <td>5391800</td>\n",
       "      <td>-0.22</td>\n",
       "      <td>0.00</td>\n",
       "      <td>0.22</td>\n",
       "      <td>0.26</td>\n",
       "      <td>0.15</td>\n",
       "      <td>1.72</td>\n",
       "      <td>63.26</td>\n",
       "    </tr>\n",
       "    <tr>\n",
       "      <th>5039</th>\n",
       "      <td>2020-08-05</td>\n",
       "      <td>13.28</td>\n",
       "      <td>13.76</td>\n",
       "      <td>12.57</td>\n",
       "      <td>12.65</td>\n",
       "      <td>12.65</td>\n",
       "      <td>1826233</td>\n",
       "      <td>-0.40</td>\n",
       "      <td>0.00</td>\n",
       "      <td>0.40</td>\n",
       "      <td>0.24</td>\n",
       "      <td>0.17</td>\n",
       "      <td>1.43</td>\n",
       "      <td>58.88</td>\n",
       "    </tr>\n",
       "  </tbody>\n",
       "</table>\n",
       "<p>5037 rows × 14 columns</p>\n",
       "</div>"
      ],
      "text/plain": [
       "           Date   Open   High    Low  Close  Adj Close   Volume   dif   win  \\\n",
       "3    2000-07-28  17.56  17.56  17.12  17.38      16.23   146100 -0.12  0.00   \n",
       "4    2000-07-31  17.50  17.69  16.88  17.69      16.52   178400  0.29  0.29   \n",
       "5    2000-08-01  17.56  18.44  17.25  17.50      16.35    87400 -0.17  0.00   \n",
       "6    2000-08-02  17.75  18.00  17.69  17.69      16.52    34800  0.17  0.17   \n",
       "7    2000-08-03  17.62  17.67  17.25  17.38      16.23    60800 -0.29  0.00   \n",
       "...         ...    ...    ...    ...    ...        ...      ...   ...   ...   \n",
       "5035 2020-07-30  12.00  12.19  11.58  12.12      12.12  1206200 -0.20  0.00   \n",
       "5036 2020-07-31  12.14  12.26  11.85  12.00      12.00   745500 -0.12  0.00   \n",
       "5037 2020-08-03  11.55  13.76  11.40  13.27      13.27  3159700  1.27  1.27   \n",
       "5038 2020-08-04  14.75  14.94  12.83  13.05      13.05  5391800 -0.22  0.00   \n",
       "5039 2020-08-05  13.28  13.76  12.57  12.65      12.65  1826233 -0.40  0.00   \n",
       "\n",
       "      loss  ema_win  ema_loss    rs    rsi  \n",
       "3     0.12     0.00      0.03  0.00   0.00  \n",
       "4     0.00     0.07      0.03  2.60  72.24  \n",
       "5     0.17     0.05      0.05  0.98  49.61  \n",
       "6     0.00     0.07      0.04  1.65  62.32  \n",
       "7     0.29     0.06      0.08  0.74  42.59  \n",
       "...    ...      ...       ...   ...    ...  \n",
       "5035  0.20     0.22      0.16  1.38  57.92  \n",
       "5036  0.12     0.21      0.16  1.30  56.56  \n",
       "5037  0.00     0.28      0.15  1.92  65.76  \n",
       "5038  0.22     0.26      0.15  1.72  63.26  \n",
       "5039  0.40     0.24      0.17  1.43  58.88  \n",
       "\n",
       "[5037 rows x 14 columns]"
      ]
     },
     "execution_count": 27,
     "metadata": {},
     "output_type": "execute_result"
    }
   ],
   "source": [
    "def at(ticker, funcion):\n",
    "    return(funcion(ticker))\n",
    "\n",
    "at('GGAL',rsi_yahoo)"
   ]
  },
  {
   "cell_type": "code",
   "execution_count": null,
   "metadata": {},
   "outputs": [],
   "source": []
  },
  {
   "cell_type": "code",
   "execution_count": null,
   "metadata": {},
   "outputs": [],
   "source": []
  },
  {
   "cell_type": "code",
   "execution_count": null,
   "metadata": {},
   "outputs": [],
   "source": []
  },
  {
   "cell_type": "code",
   "execution_count": null,
   "metadata": {},
   "outputs": [],
   "source": []
  },
  {
   "cell_type": "code",
   "execution_count": null,
   "metadata": {},
   "outputs": [],
   "source": []
  },
  {
   "cell_type": "markdown",
   "metadata": {},
   "source": [
    "## MACD"
   ]
  },
  {
   "cell_type": "code",
   "execution_count": 28,
   "metadata": {},
   "outputs": [
    {
     "data": {
      "text/html": [
       "<div>\n",
       "<style scoped>\n",
       "    .dataframe tbody tr th:only-of-type {\n",
       "        vertical-align: middle;\n",
       "    }\n",
       "\n",
       "    .dataframe tbody tr th {\n",
       "        vertical-align: top;\n",
       "    }\n",
       "\n",
       "    .dataframe thead th {\n",
       "        text-align: right;\n",
       "    }\n",
       "</style>\n",
       "<table border=\"1\" class=\"dataframe\">\n",
       "  <thead>\n",
       "    <tr style=\"text-align: right;\">\n",
       "      <th></th>\n",
       "      <th>open</th>\n",
       "      <th>high</th>\n",
       "      <th>low</th>\n",
       "      <th>close</th>\n",
       "      <th>adjusted_close</th>\n",
       "      <th>volume</th>\n",
       "      <th>ema_fast</th>\n",
       "      <th>ema_slow</th>\n",
       "      <th>macd</th>\n",
       "      <th>signal</th>\n",
       "      <th>histograma</th>\n",
       "    </tr>\n",
       "    <tr>\n",
       "      <th>timestamp</th>\n",
       "      <th></th>\n",
       "      <th></th>\n",
       "      <th></th>\n",
       "      <th></th>\n",
       "      <th></th>\n",
       "      <th></th>\n",
       "      <th></th>\n",
       "      <th></th>\n",
       "      <th></th>\n",
       "      <th></th>\n",
       "      <th></th>\n",
       "    </tr>\n",
       "  </thead>\n",
       "  <tbody>\n",
       "    <tr>\n",
       "      <th>2000-04-03</th>\n",
       "      <td>35.25</td>\n",
       "      <td>35.44</td>\n",
       "      <td>34.94</td>\n",
       "      <td>35.25</td>\n",
       "      <td>10.44</td>\n",
       "      <td>17800</td>\n",
       "      <td>10.44</td>\n",
       "      <td>10.44</td>\n",
       "      <td>0.00</td>\n",
       "      <td>0.00</td>\n",
       "      <td>0.00</td>\n",
       "    </tr>\n",
       "    <tr>\n",
       "      <th>2000-04-04</th>\n",
       "      <td>35.25</td>\n",
       "      <td>35.25</td>\n",
       "      <td>34.44</td>\n",
       "      <td>34.69</td>\n",
       "      <td>10.28</td>\n",
       "      <td>25700</td>\n",
       "      <td>10.35</td>\n",
       "      <td>10.36</td>\n",
       "      <td>-0.00</td>\n",
       "      <td>-0.00</td>\n",
       "      <td>-0.00</td>\n",
       "    </tr>\n",
       "    <tr>\n",
       "      <th>2000-04-05</th>\n",
       "      <td>34.75</td>\n",
       "      <td>34.75</td>\n",
       "      <td>34.06</td>\n",
       "      <td>34.13</td>\n",
       "      <td>10.11</td>\n",
       "      <td>8000</td>\n",
       "      <td>10.26</td>\n",
       "      <td>10.27</td>\n",
       "      <td>-0.01</td>\n",
       "      <td>-0.01</td>\n",
       "      <td>-0.00</td>\n",
       "    </tr>\n",
       "    <tr>\n",
       "      <th>2000-04-06</th>\n",
       "      <td>34.25</td>\n",
       "      <td>35.13</td>\n",
       "      <td>34.25</td>\n",
       "      <td>34.75</td>\n",
       "      <td>10.30</td>\n",
       "      <td>31200</td>\n",
       "      <td>10.27</td>\n",
       "      <td>10.28</td>\n",
       "      <td>-0.01</td>\n",
       "      <td>-0.01</td>\n",
       "      <td>-0.00</td>\n",
       "    </tr>\n",
       "    <tr>\n",
       "      <th>2000-04-07</th>\n",
       "      <td>34.50</td>\n",
       "      <td>35.00</td>\n",
       "      <td>34.50</td>\n",
       "      <td>34.88</td>\n",
       "      <td>10.33</td>\n",
       "      <td>9400</td>\n",
       "      <td>10.29</td>\n",
       "      <td>10.29</td>\n",
       "      <td>-0.00</td>\n",
       "      <td>-0.00</td>\n",
       "      <td>0.00</td>\n",
       "    </tr>\n",
       "    <tr>\n",
       "      <th>...</th>\n",
       "      <td>...</td>\n",
       "      <td>...</td>\n",
       "      <td>...</td>\n",
       "      <td>...</td>\n",
       "      <td>...</td>\n",
       "      <td>...</td>\n",
       "      <td>...</td>\n",
       "      <td>...</td>\n",
       "      <td>...</td>\n",
       "      <td>...</td>\n",
       "      <td>...</td>\n",
       "    </tr>\n",
       "    <tr>\n",
       "      <th>2020-03-30</th>\n",
       "      <td>3.72</td>\n",
       "      <td>4.10</td>\n",
       "      <td>3.67</td>\n",
       "      <td>4.04</td>\n",
       "      <td>4.04</td>\n",
       "      <td>1407649</td>\n",
       "      <td>4.22</td>\n",
       "      <td>5.41</td>\n",
       "      <td>-1.20</td>\n",
       "      <td>-1.33</td>\n",
       "      <td>0.14</td>\n",
       "    </tr>\n",
       "    <tr>\n",
       "      <th>2020-03-31</th>\n",
       "      <td>4.00</td>\n",
       "      <td>4.40</td>\n",
       "      <td>4.00</td>\n",
       "      <td>4.17</td>\n",
       "      <td>4.17</td>\n",
       "      <td>1419680</td>\n",
       "      <td>4.21</td>\n",
       "      <td>5.32</td>\n",
       "      <td>-1.11</td>\n",
       "      <td>-1.29</td>\n",
       "      <td>0.18</td>\n",
       "    </tr>\n",
       "    <tr>\n",
       "      <th>2020-04-01</th>\n",
       "      <td>4.06</td>\n",
       "      <td>4.16</td>\n",
       "      <td>3.86</td>\n",
       "      <td>4.07</td>\n",
       "      <td>4.07</td>\n",
       "      <td>1298840</td>\n",
       "      <td>4.19</td>\n",
       "      <td>5.23</td>\n",
       "      <td>-1.04</td>\n",
       "      <td>-1.24</td>\n",
       "      <td>0.20</td>\n",
       "    </tr>\n",
       "    <tr>\n",
       "      <th>2020-04-02</th>\n",
       "      <td>4.25</td>\n",
       "      <td>4.52</td>\n",
       "      <td>3.98</td>\n",
       "      <td>4.36</td>\n",
       "      <td>4.36</td>\n",
       "      <td>2504579</td>\n",
       "      <td>4.21</td>\n",
       "      <td>5.16</td>\n",
       "      <td>-0.95</td>\n",
       "      <td>-1.18</td>\n",
       "      <td>0.23</td>\n",
       "    </tr>\n",
       "    <tr>\n",
       "      <th>2020-04-03</th>\n",
       "      <td>4.56</td>\n",
       "      <td>4.60</td>\n",
       "      <td>4.15</td>\n",
       "      <td>4.36</td>\n",
       "      <td>4.36</td>\n",
       "      <td>1236928</td>\n",
       "      <td>4.24</td>\n",
       "      <td>5.10</td>\n",
       "      <td>-0.87</td>\n",
       "      <td>-1.12</td>\n",
       "      <td>0.25</td>\n",
       "    </tr>\n",
       "  </tbody>\n",
       "</table>\n",
       "<p>5033 rows × 11 columns</p>\n",
       "</div>"
      ],
      "text/plain": [
       "             open   high    low  close  adjusted_close   volume  ema_fast  \\\n",
       "timestamp                                                                   \n",
       "2000-04-03  35.25  35.44  34.94  35.25           10.44    17800     10.44   \n",
       "2000-04-04  35.25  35.25  34.44  34.69           10.28    25700     10.35   \n",
       "2000-04-05  34.75  34.75  34.06  34.13           10.11     8000     10.26   \n",
       "2000-04-06  34.25  35.13  34.25  34.75           10.30    31200     10.27   \n",
       "2000-04-07  34.50  35.00  34.50  34.88           10.33     9400     10.29   \n",
       "...           ...    ...    ...    ...             ...      ...       ...   \n",
       "2020-03-30   3.72   4.10   3.67   4.04            4.04  1407649      4.22   \n",
       "2020-03-31   4.00   4.40   4.00   4.17            4.17  1419680      4.21   \n",
       "2020-04-01   4.06   4.16   3.86   4.07            4.07  1298840      4.19   \n",
       "2020-04-02   4.25   4.52   3.98   4.36            4.36  2504579      4.21   \n",
       "2020-04-03   4.56   4.60   4.15   4.36            4.36  1236928      4.24   \n",
       "\n",
       "            ema_slow  macd  signal  histograma  \n",
       "timestamp                                       \n",
       "2000-04-03     10.44  0.00    0.00        0.00  \n",
       "2000-04-04     10.36 -0.00   -0.00       -0.00  \n",
       "2000-04-05     10.27 -0.01   -0.01       -0.00  \n",
       "2000-04-06     10.28 -0.01   -0.01       -0.00  \n",
       "2000-04-07     10.29 -0.00   -0.00        0.00  \n",
       "...              ...   ...     ...         ...  \n",
       "2020-03-30      5.41 -1.20   -1.33        0.14  \n",
       "2020-03-31      5.32 -1.11   -1.29        0.18  \n",
       "2020-04-01      5.23 -1.04   -1.24        0.20  \n",
       "2020-04-02      5.16 -0.95   -1.18        0.23  \n",
       "2020-04-03      5.10 -0.87   -1.12        0.25  \n",
       "\n",
       "[5033 rows x 11 columns]"
      ]
     },
     "execution_count": 28,
     "metadata": {},
     "output_type": "execute_result"
    }
   ],
   "source": [
    "import pandas as pd\n",
    "data = pd.read_excel('excels_csvs/ADRs/YPF.xlsx').set_index('timestamp').sort_index()\n",
    "\n",
    "slow = 26\n",
    "fast = 12\n",
    "suavizado = 9\n",
    "\n",
    "data['ema_fast'] = data.adjusted_close.ewm(span=fast).mean()\n",
    "data['ema_slow'] = data.adjusted_close.ewm(span=slow).mean()\n",
    "data['macd'] = data.ema_fast - data.ema_slow\n",
    "data['signal'] = data.macd.ewm(span=suavizado).mean()\n",
    "data['histograma'] = data.macd - data.signal\n",
    "data = data.dropna().round(2)\n",
    "data"
   ]
  },
  {
   "cell_type": "markdown",
   "metadata": {},
   "source": [
    "parametros:\n",
    "    * ticker\n",
    "    * media rapida\n",
    "    * media lenta\n",
    "    * suavizado\n",
    "    "
   ]
  },
  {
   "cell_type": "code",
   "execution_count": null,
   "metadata": {},
   "outputs": [],
   "source": []
  },
  {
   "cell_type": "code",
   "execution_count": 29,
   "metadata": {},
   "outputs": [],
   "source": [
    "def macd(ticker, slow, fast, suavizado):\n",
    "    import pandas as pd\n",
    "    data = pd.read_excel('excels_csvs/ADRs/'+ticker+'.xlsx').set_index('timestamp').sort_index()\n",
    "    data['ema_fast'] = data.adjusted_close.ewm(span=fast).mean()\n",
    "    data['ema_slow'] = data.adjusted_close.ewm(span=slow).mean()\n",
    "    data['macd'] = data.ema_fast - data.ema_slow\n",
    "    data['signal'] = data.macd.ewm(span=suavizado).mean()\n",
    "    data['histograma'] = data.macd - data.signal\n",
    "    data = data.dropna().round(2)\n",
    "    return data"
   ]
  },
  {
   "cell_type": "code",
   "execution_count": null,
   "metadata": {},
   "outputs": [],
   "source": []
  },
  {
   "cell_type": "code",
   "execution_count": 30,
   "metadata": {},
   "outputs": [
    {
     "data": {
      "text/html": [
       "<div>\n",
       "<style scoped>\n",
       "    .dataframe tbody tr th:only-of-type {\n",
       "        vertical-align: middle;\n",
       "    }\n",
       "\n",
       "    .dataframe tbody tr th {\n",
       "        vertical-align: top;\n",
       "    }\n",
       "\n",
       "    .dataframe thead th {\n",
       "        text-align: right;\n",
       "    }\n",
       "</style>\n",
       "<table border=\"1\" class=\"dataframe\">\n",
       "  <thead>\n",
       "    <tr style=\"text-align: right;\">\n",
       "      <th></th>\n",
       "      <th>open</th>\n",
       "      <th>high</th>\n",
       "      <th>low</th>\n",
       "      <th>close</th>\n",
       "      <th>adjusted_close</th>\n",
       "      <th>volume</th>\n",
       "      <th>ema_fast</th>\n",
       "      <th>ema_slow</th>\n",
       "      <th>macd</th>\n",
       "      <th>signal</th>\n",
       "      <th>histograma</th>\n",
       "    </tr>\n",
       "    <tr>\n",
       "      <th>timestamp</th>\n",
       "      <th></th>\n",
       "      <th></th>\n",
       "      <th></th>\n",
       "      <th></th>\n",
       "      <th></th>\n",
       "      <th></th>\n",
       "      <th></th>\n",
       "      <th></th>\n",
       "      <th></th>\n",
       "      <th></th>\n",
       "      <th></th>\n",
       "    </tr>\n",
       "  </thead>\n",
       "  <tbody>\n",
       "    <tr>\n",
       "      <th>2000-04-03</th>\n",
       "      <td>35.25</td>\n",
       "      <td>35.44</td>\n",
       "      <td>34.94</td>\n",
       "      <td>35.25</td>\n",
       "      <td>10.44</td>\n",
       "      <td>17800</td>\n",
       "      <td>10.44</td>\n",
       "      <td>10.44</td>\n",
       "      <td>0.00</td>\n",
       "      <td>0.00</td>\n",
       "      <td>0.00</td>\n",
       "    </tr>\n",
       "    <tr>\n",
       "      <th>2000-04-04</th>\n",
       "      <td>35.25</td>\n",
       "      <td>35.25</td>\n",
       "      <td>34.44</td>\n",
       "      <td>34.69</td>\n",
       "      <td>10.28</td>\n",
       "      <td>25700</td>\n",
       "      <td>10.35</td>\n",
       "      <td>10.36</td>\n",
       "      <td>-0.00</td>\n",
       "      <td>-0.00</td>\n",
       "      <td>-0.00</td>\n",
       "    </tr>\n",
       "    <tr>\n",
       "      <th>2000-04-05</th>\n",
       "      <td>34.75</td>\n",
       "      <td>34.75</td>\n",
       "      <td>34.06</td>\n",
       "      <td>34.13</td>\n",
       "      <td>10.11</td>\n",
       "      <td>8000</td>\n",
       "      <td>10.26</td>\n",
       "      <td>10.27</td>\n",
       "      <td>-0.01</td>\n",
       "      <td>-0.01</td>\n",
       "      <td>-0.00</td>\n",
       "    </tr>\n",
       "    <tr>\n",
       "      <th>2000-04-06</th>\n",
       "      <td>34.25</td>\n",
       "      <td>35.13</td>\n",
       "      <td>34.25</td>\n",
       "      <td>34.75</td>\n",
       "      <td>10.30</td>\n",
       "      <td>31200</td>\n",
       "      <td>10.27</td>\n",
       "      <td>10.28</td>\n",
       "      <td>-0.01</td>\n",
       "      <td>-0.01</td>\n",
       "      <td>-0.00</td>\n",
       "    </tr>\n",
       "    <tr>\n",
       "      <th>2000-04-07</th>\n",
       "      <td>34.50</td>\n",
       "      <td>35.00</td>\n",
       "      <td>34.50</td>\n",
       "      <td>34.88</td>\n",
       "      <td>10.33</td>\n",
       "      <td>9400</td>\n",
       "      <td>10.29</td>\n",
       "      <td>10.29</td>\n",
       "      <td>-0.00</td>\n",
       "      <td>-0.00</td>\n",
       "      <td>0.00</td>\n",
       "    </tr>\n",
       "    <tr>\n",
       "      <th>...</th>\n",
       "      <td>...</td>\n",
       "      <td>...</td>\n",
       "      <td>...</td>\n",
       "      <td>...</td>\n",
       "      <td>...</td>\n",
       "      <td>...</td>\n",
       "      <td>...</td>\n",
       "      <td>...</td>\n",
       "      <td>...</td>\n",
       "      <td>...</td>\n",
       "      <td>...</td>\n",
       "    </tr>\n",
       "    <tr>\n",
       "      <th>2020-03-30</th>\n",
       "      <td>3.72</td>\n",
       "      <td>4.10</td>\n",
       "      <td>3.67</td>\n",
       "      <td>4.04</td>\n",
       "      <td>4.04</td>\n",
       "      <td>1407649</td>\n",
       "      <td>4.22</td>\n",
       "      <td>5.41</td>\n",
       "      <td>-1.20</td>\n",
       "      <td>-1.33</td>\n",
       "      <td>0.14</td>\n",
       "    </tr>\n",
       "    <tr>\n",
       "      <th>2020-03-31</th>\n",
       "      <td>4.00</td>\n",
       "      <td>4.40</td>\n",
       "      <td>4.00</td>\n",
       "      <td>4.17</td>\n",
       "      <td>4.17</td>\n",
       "      <td>1419680</td>\n",
       "      <td>4.21</td>\n",
       "      <td>5.32</td>\n",
       "      <td>-1.11</td>\n",
       "      <td>-1.29</td>\n",
       "      <td>0.18</td>\n",
       "    </tr>\n",
       "    <tr>\n",
       "      <th>2020-04-01</th>\n",
       "      <td>4.06</td>\n",
       "      <td>4.16</td>\n",
       "      <td>3.86</td>\n",
       "      <td>4.07</td>\n",
       "      <td>4.07</td>\n",
       "      <td>1298840</td>\n",
       "      <td>4.19</td>\n",
       "      <td>5.23</td>\n",
       "      <td>-1.04</td>\n",
       "      <td>-1.24</td>\n",
       "      <td>0.20</td>\n",
       "    </tr>\n",
       "    <tr>\n",
       "      <th>2020-04-02</th>\n",
       "      <td>4.25</td>\n",
       "      <td>4.52</td>\n",
       "      <td>3.98</td>\n",
       "      <td>4.36</td>\n",
       "      <td>4.36</td>\n",
       "      <td>2504579</td>\n",
       "      <td>4.21</td>\n",
       "      <td>5.16</td>\n",
       "      <td>-0.95</td>\n",
       "      <td>-1.18</td>\n",
       "      <td>0.23</td>\n",
       "    </tr>\n",
       "    <tr>\n",
       "      <th>2020-04-03</th>\n",
       "      <td>4.56</td>\n",
       "      <td>4.60</td>\n",
       "      <td>4.15</td>\n",
       "      <td>4.36</td>\n",
       "      <td>4.36</td>\n",
       "      <td>1236928</td>\n",
       "      <td>4.24</td>\n",
       "      <td>5.10</td>\n",
       "      <td>-0.87</td>\n",
       "      <td>-1.12</td>\n",
       "      <td>0.25</td>\n",
       "    </tr>\n",
       "  </tbody>\n",
       "</table>\n",
       "<p>5033 rows × 11 columns</p>\n",
       "</div>"
      ],
      "text/plain": [
       "             open   high    low  close  adjusted_close   volume  ema_fast  \\\n",
       "timestamp                                                                   \n",
       "2000-04-03  35.25  35.44  34.94  35.25           10.44    17800     10.44   \n",
       "2000-04-04  35.25  35.25  34.44  34.69           10.28    25700     10.35   \n",
       "2000-04-05  34.75  34.75  34.06  34.13           10.11     8000     10.26   \n",
       "2000-04-06  34.25  35.13  34.25  34.75           10.30    31200     10.27   \n",
       "2000-04-07  34.50  35.00  34.50  34.88           10.33     9400     10.29   \n",
       "...           ...    ...    ...    ...             ...      ...       ...   \n",
       "2020-03-30   3.72   4.10   3.67   4.04            4.04  1407649      4.22   \n",
       "2020-03-31   4.00   4.40   4.00   4.17            4.17  1419680      4.21   \n",
       "2020-04-01   4.06   4.16   3.86   4.07            4.07  1298840      4.19   \n",
       "2020-04-02   4.25   4.52   3.98   4.36            4.36  2504579      4.21   \n",
       "2020-04-03   4.56   4.60   4.15   4.36            4.36  1236928      4.24   \n",
       "\n",
       "            ema_slow  macd  signal  histograma  \n",
       "timestamp                                       \n",
       "2000-04-03     10.44  0.00    0.00        0.00  \n",
       "2000-04-04     10.36 -0.00   -0.00       -0.00  \n",
       "2000-04-05     10.27 -0.01   -0.01       -0.00  \n",
       "2000-04-06     10.28 -0.01   -0.01       -0.00  \n",
       "2000-04-07     10.29 -0.00   -0.00        0.00  \n",
       "...              ...   ...     ...         ...  \n",
       "2020-03-30      5.41 -1.20   -1.33        0.14  \n",
       "2020-03-31      5.32 -1.11   -1.29        0.18  \n",
       "2020-04-01      5.23 -1.04   -1.24        0.20  \n",
       "2020-04-02      5.16 -0.95   -1.18        0.23  \n",
       "2020-04-03      5.10 -0.87   -1.12        0.25  \n",
       "\n",
       "[5033 rows x 11 columns]"
      ]
     },
     "execution_count": 30,
     "metadata": {},
     "output_type": "execute_result"
    }
   ],
   "source": [
    "macd(suavizado=9, fast=12, ticker='YPF', slow=26)"
   ]
  },
  {
   "cell_type": "markdown",
   "metadata": {},
   "source": [
    "## Cruces"
   ]
  },
  {
   "cell_type": "code",
   "execution_count": 31,
   "metadata": {},
   "outputs": [],
   "source": [
    "def cruce_yahoo(ticker, fast=21, slow=42):\n",
    "\n",
    "    import yfinance as yf\n",
    "    data = yf.download(ticker)\n",
    "\n",
    "    data['fast'] = data['Adj Close'].rolling(fast).mean()\n",
    "    data['slow'] = data['Adj Close'].rolling(slow).mean()\n",
    "    data['cruce'] = data['fast'] / data['slow'] - 1\n",
    "    return data.dropna().round(2)"
   ]
  },
  {
   "cell_type": "code",
   "execution_count": 32,
   "metadata": {},
   "outputs": [
    {
     "name": "stdout",
     "output_type": "stream",
     "text": [
      "[*********************100%***********************]  1 of 1 downloaded\n"
     ]
    },
    {
     "data": {
      "text/html": [
       "<div>\n",
       "<style scoped>\n",
       "    .dataframe tbody tr th:only-of-type {\n",
       "        vertical-align: middle;\n",
       "    }\n",
       "\n",
       "    .dataframe tbody tr th {\n",
       "        vertical-align: top;\n",
       "    }\n",
       "\n",
       "    .dataframe thead th {\n",
       "        text-align: right;\n",
       "    }\n",
       "</style>\n",
       "<table border=\"1\" class=\"dataframe\">\n",
       "  <thead>\n",
       "    <tr style=\"text-align: right;\">\n",
       "      <th></th>\n",
       "      <th>Open</th>\n",
       "      <th>High</th>\n",
       "      <th>Low</th>\n",
       "      <th>Close</th>\n",
       "      <th>Adj Close</th>\n",
       "      <th>Volume</th>\n",
       "      <th>fast</th>\n",
       "      <th>slow</th>\n",
       "      <th>cruce</th>\n",
       "    </tr>\n",
       "    <tr>\n",
       "      <th>Date</th>\n",
       "      <th></th>\n",
       "      <th></th>\n",
       "      <th></th>\n",
       "      <th></th>\n",
       "      <th></th>\n",
       "      <th></th>\n",
       "      <th></th>\n",
       "      <th></th>\n",
       "      <th></th>\n",
       "    </tr>\n",
       "  </thead>\n",
       "  <tbody>\n",
       "    <tr>\n",
       "      <th>1994-04-12</th>\n",
       "      <td>25.62</td>\n",
       "      <td>25.75</td>\n",
       "      <td>25.00</td>\n",
       "      <td>25.38</td>\n",
       "      <td>6.10</td>\n",
       "      <td>920000</td>\n",
       "      <td>6.28</td>\n",
       "      <td>5.91</td>\n",
       "      <td>0.06</td>\n",
       "    </tr>\n",
       "    <tr>\n",
       "      <th>1994-04-13</th>\n",
       "      <td>25.50</td>\n",
       "      <td>25.62</td>\n",
       "      <td>24.25</td>\n",
       "      <td>24.50</td>\n",
       "      <td>5.89</td>\n",
       "      <td>524300</td>\n",
       "      <td>6.25</td>\n",
       "      <td>5.92</td>\n",
       "      <td>0.06</td>\n",
       "    </tr>\n",
       "    <tr>\n",
       "      <th>1994-04-14</th>\n",
       "      <td>24.12</td>\n",
       "      <td>24.62</td>\n",
       "      <td>23.88</td>\n",
       "      <td>24.38</td>\n",
       "      <td>5.86</td>\n",
       "      <td>580100</td>\n",
       "      <td>6.23</td>\n",
       "      <td>5.92</td>\n",
       "      <td>0.05</td>\n",
       "    </tr>\n",
       "    <tr>\n",
       "      <th>1994-04-15</th>\n",
       "      <td>24.38</td>\n",
       "      <td>24.75</td>\n",
       "      <td>24.25</td>\n",
       "      <td>24.25</td>\n",
       "      <td>5.83</td>\n",
       "      <td>783000</td>\n",
       "      <td>6.21</td>\n",
       "      <td>5.92</td>\n",
       "      <td>0.05</td>\n",
       "    </tr>\n",
       "    <tr>\n",
       "      <th>1994-04-18</th>\n",
       "      <td>24.75</td>\n",
       "      <td>25.00</td>\n",
       "      <td>24.25</td>\n",
       "      <td>24.25</td>\n",
       "      <td>5.83</td>\n",
       "      <td>908300</td>\n",
       "      <td>6.19</td>\n",
       "      <td>5.93</td>\n",
       "      <td>0.04</td>\n",
       "    </tr>\n",
       "    <tr>\n",
       "      <th>...</th>\n",
       "      <td>...</td>\n",
       "      <td>...</td>\n",
       "      <td>...</td>\n",
       "      <td>...</td>\n",
       "      <td>...</td>\n",
       "      <td>...</td>\n",
       "      <td>...</td>\n",
       "      <td>...</td>\n",
       "      <td>...</td>\n",
       "    </tr>\n",
       "    <tr>\n",
       "      <th>2020-07-30</th>\n",
       "      <td>6.35</td>\n",
       "      <td>6.42</td>\n",
       "      <td>6.12</td>\n",
       "      <td>6.33</td>\n",
       "      <td>6.33</td>\n",
       "      <td>1187100</td>\n",
       "      <td>5.88</td>\n",
       "      <td>7.29</td>\n",
       "      <td>-0.19</td>\n",
       "    </tr>\n",
       "    <tr>\n",
       "      <th>2020-07-31</th>\n",
       "      <td>6.33</td>\n",
       "      <td>6.39</td>\n",
       "      <td>6.14</td>\n",
       "      <td>6.23</td>\n",
       "      <td>6.23</td>\n",
       "      <td>1050200</td>\n",
       "      <td>5.91</td>\n",
       "      <td>7.27</td>\n",
       "      <td>-0.19</td>\n",
       "    </tr>\n",
       "    <tr>\n",
       "      <th>2020-08-03</th>\n",
       "      <td>6.17</td>\n",
       "      <td>6.87</td>\n",
       "      <td>6.10</td>\n",
       "      <td>6.66</td>\n",
       "      <td>6.66</td>\n",
       "      <td>3369300</td>\n",
       "      <td>5.96</td>\n",
       "      <td>7.26</td>\n",
       "      <td>-0.18</td>\n",
       "    </tr>\n",
       "    <tr>\n",
       "      <th>2020-08-04</th>\n",
       "      <td>6.98</td>\n",
       "      <td>7.30</td>\n",
       "      <td>6.59</td>\n",
       "      <td>6.81</td>\n",
       "      <td>6.81</td>\n",
       "      <td>3858200</td>\n",
       "      <td>6.00</td>\n",
       "      <td>7.25</td>\n",
       "      <td>-0.17</td>\n",
       "    </tr>\n",
       "    <tr>\n",
       "      <th>2020-08-05</th>\n",
       "      <td>6.94</td>\n",
       "      <td>7.07</td>\n",
       "      <td>6.71</td>\n",
       "      <td>6.72</td>\n",
       "      <td>6.72</td>\n",
       "      <td>1431605</td>\n",
       "      <td>6.03</td>\n",
       "      <td>7.23</td>\n",
       "      <td>-0.17</td>\n",
       "    </tr>\n",
       "  </tbody>\n",
       "</table>\n",
       "<p>6627 rows × 9 columns</p>\n",
       "</div>"
      ],
      "text/plain": [
       "             Open   High    Low  Close  Adj Close   Volume  fast  slow  cruce\n",
       "Date                                                                         \n",
       "1994-04-12  25.62  25.75  25.00  25.38       6.10   920000  6.28  5.91   0.06\n",
       "1994-04-13  25.50  25.62  24.25  24.50       5.89   524300  6.25  5.92   0.06\n",
       "1994-04-14  24.12  24.62  23.88  24.38       5.86   580100  6.23  5.92   0.05\n",
       "1994-04-15  24.38  24.75  24.25  24.25       5.83   783000  6.21  5.92   0.05\n",
       "1994-04-18  24.75  25.00  24.25  24.25       5.83   908300  6.19  5.93   0.04\n",
       "...           ...    ...    ...    ...        ...      ...   ...   ...    ...\n",
       "2020-07-30   6.35   6.42   6.12   6.33       6.33  1187100  5.88  7.29  -0.19\n",
       "2020-07-31   6.33   6.39   6.14   6.23       6.23  1050200  5.91  7.27  -0.19\n",
       "2020-08-03   6.17   6.87   6.10   6.66       6.66  3369300  5.96  7.26  -0.18\n",
       "2020-08-04   6.98   7.30   6.59   6.81       6.81  3858200  6.00  7.25  -0.17\n",
       "2020-08-05   6.94   7.07   6.71   6.72       6.72  1431605  6.03  7.23  -0.17\n",
       "\n",
       "[6627 rows x 9 columns]"
      ]
     },
     "execution_count": 32,
     "metadata": {},
     "output_type": "execute_result"
    }
   ],
   "source": [
    "cruce_yahoo('YPF',50,200)"
   ]
  },
  {
   "cell_type": "code",
   "execution_count": null,
   "metadata": {},
   "outputs": [],
   "source": []
  },
  {
   "cell_type": "code",
   "execution_count": 33,
   "metadata": {},
   "outputs": [
    {
     "name": "stdout",
     "output_type": "stream",
     "text": [
      "[*********************100%***********************]  1 of 1 downloaded\n",
      "[*********************100%***********************]  1 of 1 downloaded\n"
     ]
    },
    {
     "data": {
      "text/html": [
       "<div>\n",
       "<style scoped>\n",
       "    .dataframe tbody tr th:only-of-type {\n",
       "        vertical-align: middle;\n",
       "    }\n",
       "\n",
       "    .dataframe tbody tr th {\n",
       "        vertical-align: top;\n",
       "    }\n",
       "\n",
       "    .dataframe thead th {\n",
       "        text-align: right;\n",
       "    }\n",
       "</style>\n",
       "<table border=\"1\" class=\"dataframe\">\n",
       "  <thead>\n",
       "    <tr style=\"text-align: right;\">\n",
       "      <th></th>\n",
       "      <th>Open</th>\n",
       "      <th>High</th>\n",
       "      <th>Low</th>\n",
       "      <th>Close</th>\n",
       "      <th>Adj Close</th>\n",
       "      <th>Volume</th>\n",
       "      <th>fast</th>\n",
       "      <th>slow</th>\n",
       "      <th>cruce</th>\n",
       "    </tr>\n",
       "    <tr>\n",
       "      <th>Date</th>\n",
       "      <th></th>\n",
       "      <th></th>\n",
       "      <th></th>\n",
       "      <th></th>\n",
       "      <th></th>\n",
       "      <th></th>\n",
       "      <th></th>\n",
       "      <th></th>\n",
       "      <th></th>\n",
       "    </tr>\n",
       "  </thead>\n",
       "  <tbody>\n",
       "    <tr>\n",
       "      <th>1993-08-26</th>\n",
       "      <td>23.38</td>\n",
       "      <td>24.00</td>\n",
       "      <td>23.25</td>\n",
       "      <td>24.00</td>\n",
       "      <td>5.69</td>\n",
       "      <td>1243500</td>\n",
       "      <td>5.08</td>\n",
       "      <td>4.95</td>\n",
       "      <td>0.03</td>\n",
       "    </tr>\n",
       "    <tr>\n",
       "      <th>1993-08-27</th>\n",
       "      <td>23.88</td>\n",
       "      <td>24.00</td>\n",
       "      <td>23.38</td>\n",
       "      <td>23.62</td>\n",
       "      <td>5.60</td>\n",
       "      <td>675900</td>\n",
       "      <td>5.12</td>\n",
       "      <td>4.96</td>\n",
       "      <td>0.03</td>\n",
       "    </tr>\n",
       "    <tr>\n",
       "      <th>1993-08-30</th>\n",
       "      <td>23.25</td>\n",
       "      <td>23.88</td>\n",
       "      <td>23.25</td>\n",
       "      <td>23.88</td>\n",
       "      <td>5.66</td>\n",
       "      <td>714300</td>\n",
       "      <td>5.16</td>\n",
       "      <td>4.98</td>\n",
       "      <td>0.04</td>\n",
       "    </tr>\n",
       "    <tr>\n",
       "      <th>1993-08-31</th>\n",
       "      <td>23.88</td>\n",
       "      <td>24.12</td>\n",
       "      <td>23.75</td>\n",
       "      <td>23.88</td>\n",
       "      <td>5.66</td>\n",
       "      <td>1217300</td>\n",
       "      <td>5.20</td>\n",
       "      <td>4.99</td>\n",
       "      <td>0.04</td>\n",
       "    </tr>\n",
       "    <tr>\n",
       "      <th>1993-09-01</th>\n",
       "      <td>23.88</td>\n",
       "      <td>24.12</td>\n",
       "      <td>23.75</td>\n",
       "      <td>24.12</td>\n",
       "      <td>5.72</td>\n",
       "      <td>927600</td>\n",
       "      <td>5.24</td>\n",
       "      <td>5.01</td>\n",
       "      <td>0.05</td>\n",
       "    </tr>\n",
       "    <tr>\n",
       "      <th>...</th>\n",
       "      <td>...</td>\n",
       "      <td>...</td>\n",
       "      <td>...</td>\n",
       "      <td>...</td>\n",
       "      <td>...</td>\n",
       "      <td>...</td>\n",
       "      <td>...</td>\n",
       "      <td>...</td>\n",
       "      <td>...</td>\n",
       "    </tr>\n",
       "    <tr>\n",
       "      <th>2020-07-30</th>\n",
       "      <td>6.35</td>\n",
       "      <td>6.42</td>\n",
       "      <td>6.12</td>\n",
       "      <td>6.33</td>\n",
       "      <td>6.33</td>\n",
       "      <td>1187100</td>\n",
       "      <td>6.36</td>\n",
       "      <td>6.07</td>\n",
       "      <td>0.05</td>\n",
       "    </tr>\n",
       "    <tr>\n",
       "      <th>2020-07-31</th>\n",
       "      <td>6.33</td>\n",
       "      <td>6.39</td>\n",
       "      <td>6.14</td>\n",
       "      <td>6.23</td>\n",
       "      <td>6.23</td>\n",
       "      <td>1050200</td>\n",
       "      <td>6.38</td>\n",
       "      <td>6.09</td>\n",
       "      <td>0.05</td>\n",
       "    </tr>\n",
       "    <tr>\n",
       "      <th>2020-08-03</th>\n",
       "      <td>6.17</td>\n",
       "      <td>6.87</td>\n",
       "      <td>6.10</td>\n",
       "      <td>6.66</td>\n",
       "      <td>6.66</td>\n",
       "      <td>3369300</td>\n",
       "      <td>6.42</td>\n",
       "      <td>6.11</td>\n",
       "      <td>0.05</td>\n",
       "    </tr>\n",
       "    <tr>\n",
       "      <th>2020-08-04</th>\n",
       "      <td>6.98</td>\n",
       "      <td>7.30</td>\n",
       "      <td>6.59</td>\n",
       "      <td>6.81</td>\n",
       "      <td>6.81</td>\n",
       "      <td>3858200</td>\n",
       "      <td>6.44</td>\n",
       "      <td>6.13</td>\n",
       "      <td>0.05</td>\n",
       "    </tr>\n",
       "    <tr>\n",
       "      <th>2020-08-05</th>\n",
       "      <td>6.94</td>\n",
       "      <td>7.07</td>\n",
       "      <td>6.71</td>\n",
       "      <td>6.72</td>\n",
       "      <td>6.72</td>\n",
       "      <td>1431605</td>\n",
       "      <td>6.48</td>\n",
       "      <td>6.16</td>\n",
       "      <td>0.05</td>\n",
       "    </tr>\n",
       "  </tbody>\n",
       "</table>\n",
       "<p>6785 rows × 9 columns</p>\n",
       "</div>"
      ],
      "text/plain": [
       "             Open   High    Low  Close  Adj Close   Volume  fast  slow  cruce\n",
       "Date                                                                         \n",
       "1993-08-26  23.38  24.00  23.25  24.00       5.69  1243500  5.08  4.95   0.03\n",
       "1993-08-27  23.88  24.00  23.38  23.62       5.60   675900  5.12  4.96   0.03\n",
       "1993-08-30  23.25  23.88  23.25  23.88       5.66   714300  5.16  4.98   0.04\n",
       "1993-08-31  23.88  24.12  23.75  23.88       5.66  1217300  5.20  4.99   0.04\n",
       "1993-09-01  23.88  24.12  23.75  24.12       5.72   927600  5.24  5.01   0.05\n",
       "...           ...    ...    ...    ...        ...      ...   ...   ...    ...\n",
       "2020-07-30   6.35   6.42   6.12   6.33       6.33  1187100  6.36  6.07   0.05\n",
       "2020-07-31   6.33   6.39   6.14   6.23       6.23  1050200  6.38  6.09   0.05\n",
       "2020-08-03   6.17   6.87   6.10   6.66       6.66  3369300  6.42  6.11   0.05\n",
       "2020-08-04   6.98   7.30   6.59   6.81       6.81  3858200  6.44  6.13   0.05\n",
       "2020-08-05   6.94   7.07   6.71   6.72       6.72  1431605  6.48  6.16   0.05\n",
       "\n",
       "[6785 rows x 9 columns]"
      ]
     },
     "execution_count": 33,
     "metadata": {},
     "output_type": "execute_result"
    }
   ],
   "source": [
    "cruce_21_42 = cruce_yahoo('YPF',21,42)\n",
    "cruce_golden = cruce_yahoo('YPF',50,200)\n",
    "cruce_21_42"
   ]
  },
  {
   "cell_type": "code",
   "execution_count": null,
   "metadata": {},
   "outputs": [],
   "source": []
  },
  {
   "cell_type": "markdown",
   "metadata": {
    "collapsed": true
   },
   "source": [
    "# Gráficas rápidas"
   ]
  },
  {
   "cell_type": "code",
   "execution_count": 34,
   "metadata": {},
   "outputs": [
    {
     "data": {
      "text/plain": [
       "<matplotlib.axes._subplots.AxesSubplot at 0x1ddee1159c8>"
      ]
     },
     "execution_count": 34,
     "metadata": {},
     "output_type": "execute_result"
    },
    {
     "data": {
      "image/png": "[encoded data removed]",
      "text/plain": [
       "<Figure size 432x288 with 1 Axes>"
      ]
     },
     "metadata": {
      "needs_background": "light"
     },
     "output_type": "display_data"
    }
   ],
   "source": [
    "import datetime as dt\n",
    "\n",
    "data = macd('YPF',12,9,26)\n",
    "data = data.loc[data.index > dt.datetime(2019,1,1)]\n",
    "data['histograma'].plot()"
   ]
  },
  {
   "cell_type": "code",
   "execution_count": 35,
   "metadata": {},
   "outputs": [
    {
     "data": {
      "text/html": [
       "<div>\n",
       "<style scoped>\n",
       "    .dataframe tbody tr th:only-of-type {\n",
       "        vertical-align: middle;\n",
       "    }\n",
       "\n",
       "    .dataframe tbody tr th {\n",
       "        vertical-align: top;\n",
       "    }\n",
       "\n",
       "    .dataframe thead th {\n",
       "        text-align: right;\n",
       "    }\n",
       "</style>\n",
       "<table border=\"1\" class=\"dataframe\">\n",
       "  <thead>\n",
       "    <tr style=\"text-align: right;\">\n",
       "      <th></th>\n",
       "      <th>histograma</th>\n",
       "      <th>rsi</th>\n",
       "    </tr>\n",
       "    <tr>\n",
       "      <th>timestamp</th>\n",
       "      <th></th>\n",
       "      <th></th>\n",
       "    </tr>\n",
       "  </thead>\n",
       "  <tbody>\n",
       "    <tr>\n",
       "      <th>2000-04-03</th>\n",
       "      <td>0.00</td>\n",
       "      <td>NaN</td>\n",
       "    </tr>\n",
       "    <tr>\n",
       "      <th>2000-04-04</th>\n",
       "      <td>-0.00</td>\n",
       "      <td>0.00</td>\n",
       "    </tr>\n",
       "    <tr>\n",
       "      <th>2000-04-05</th>\n",
       "      <td>-0.00</td>\n",
       "      <td>0.00</td>\n",
       "    </tr>\n",
       "    <tr>\n",
       "      <th>2000-04-06</th>\n",
       "      <td>-0.00</td>\n",
       "      <td>38.21</td>\n",
       "    </tr>\n",
       "    <tr>\n",
       "      <th>2000-04-07</th>\n",
       "      <td>0.00</td>\n",
       "      <td>43.11</td>\n",
       "    </tr>\n",
       "    <tr>\n",
       "      <th>...</th>\n",
       "      <td>...</td>\n",
       "      <td>...</td>\n",
       "    </tr>\n",
       "    <tr>\n",
       "      <th>2020-03-30</th>\n",
       "      <td>0.09</td>\n",
       "      <td>35.38</td>\n",
       "    </tr>\n",
       "    <tr>\n",
       "      <th>2020-03-31</th>\n",
       "      <td>0.12</td>\n",
       "      <td>37.03</td>\n",
       "    </tr>\n",
       "    <tr>\n",
       "      <th>2020-04-01</th>\n",
       "      <td>0.13</td>\n",
       "      <td>36.26</td>\n",
       "    </tr>\n",
       "    <tr>\n",
       "      <th>2020-04-02</th>\n",
       "      <td>0.16</td>\n",
       "      <td>40.13</td>\n",
       "    </tr>\n",
       "    <tr>\n",
       "      <th>2020-04-03</th>\n",
       "      <td>0.17</td>\n",
       "      <td>40.13</td>\n",
       "    </tr>\n",
       "  </tbody>\n",
       "</table>\n",
       "<p>5033 rows × 2 columns</p>\n",
       "</div>"
      ],
      "text/plain": [
       "            histograma    rsi\n",
       "timestamp                    \n",
       "2000-04-03        0.00    NaN\n",
       "2000-04-04       -0.00   0.00\n",
       "2000-04-05       -0.00   0.00\n",
       "2000-04-06       -0.00  38.21\n",
       "2000-04-07        0.00  43.11\n",
       "...                ...    ...\n",
       "2020-03-30        0.09  35.38\n",
       "2020-03-31        0.12  37.03\n",
       "2020-04-01        0.13  36.26\n",
       "2020-04-02        0.16  40.13\n",
       "2020-04-03        0.17  40.13\n",
       "\n",
       "[5033 rows x 2 columns]"
      ]
     },
     "execution_count": 35,
     "metadata": {},
     "output_type": "execute_result"
    }
   ],
   "source": [
    "data_macd = macd('YPF',12,9,26)\n",
    "data_rsi = rsi_excel('YPF')\n",
    "\n",
    "data= pd.concat([data_macd['histograma'],data_rsi['rsi']], axis=1)\n",
    "data"
   ]
  },
  {
   "cell_type": "code",
   "execution_count": 36,
   "metadata": {},
   "outputs": [
    {
     "data": {
      "text/plain": [
       "<matplotlib.axes._subplots.AxesSubplot at 0x1ddf04ae188>"
      ]
     },
     "execution_count": 36,
     "metadata": {},
     "output_type": "execute_result"
    },
    {
     "data": {
      "image/png": "[encoded data removed]",
      "text/plain": [
       "<Figure size 432x288 with 1 Axes>"
      ]
     },
     "metadata": {
      "needs_background": "light"
     },
     "output_type": "display_data"
    }
   ],
   "source": [
    "data.histograma.rolling(250).corr(data.rsi).plot()"
   ]
  },
  {
   "cell_type": "code",
   "execution_count": null,
   "metadata": {},
   "outputs": [],
   "source": []
  },
  {
   "cell_type": "code",
   "execution_count": 37,
   "metadata": {},
   "outputs": [
    {
     "name": "stdout",
     "output_type": "stream",
     "text": [
      "[*********************100%***********************]  1 of 1 downloaded\n"
     ]
    },
    {
     "data": {
      "text/plain": [
       "<matplotlib.axes._subplots.AxesSubplot at 0x1ddf0478a88>"
      ]
     },
     "execution_count": 37,
     "metadata": {},
     "output_type": "execute_result"
    },
    {
     "data": {
      "image/png": "[encoded data removed]",
      "text/plain": [
       "<Figure size 432x288 with 1 Axes>"
      ]
     },
     "metadata": {
      "needs_background": "light"
     },
     "output_type": "display_data"
    }
   ],
   "source": [
    "import yfinance as yf\n",
    "df = yf.download('KO', start='2010-01-01', end='2019-12-31')\n",
    "df['variacion'] = df['Adj Close'].pct_change()\n",
    "df['desvio'] = df.variacion.rolling(250).std() *250**0.5\n",
    "df.desvio.plot()"
   ]
  },
  {
   "cell_type": "code",
   "execution_count": 38,
   "metadata": {},
   "outputs": [
    {
     "name": "stdout",
     "output_type": "stream",
     "text": [
      "[*********************100%***********************]  1 of 1 downloaded\n"
     ]
    },
    {
     "data": {
      "text/plain": [
       "<matplotlib.axes._subplots.AxesSubplot at 0x1ddf052d748>"
      ]
     },
     "execution_count": 38,
     "metadata": {},
     "output_type": "execute_result"
    },
    {
     "data": {
      "image/png": "[encoded data removed]",
      "text/plain": [
       "<Figure size 432x288 with 1 Axes>"
      ]
     },
     "metadata": {
      "needs_background": "light"
     },
     "output_type": "display_data"
    }
   ],
   "source": [
    "df2 = yf.download('GGAL', start='2010-01-01', end='2019-12-31')\n",
    "df2['variacion'] = df2['Adj Close'].pct_change()\n",
    "df2['desvio'] = df2.variacion.rolling(250).std() *250**0.5\n",
    "df2.desvio.plot()"
   ]
  },
  {
   "cell_type": "code",
   "execution_count": 39,
   "metadata": {},
   "outputs": [
    {
     "data": {
      "text/plain": [
       "<matplotlib.axes._subplots.AxesSubplot at 0x1ddf057a508>"
      ]
     },
     "execution_count": 39,
     "metadata": {},
     "output_type": "execute_result"
    },
    {
     "data": {
      "image/png": "[encoded data removed]",
      "text/plain": [
       "<Figure size 432x288 with 1 Axes>"
      ]
     },
     "metadata": {
      "needs_background": "light"
     },
     "output_type": "display_data"
    }
   ],
   "source": [
    "df2.desvio.rolling(100).corr(df.desvio).plot()"
   ]
  },
  {
   "cell_type": "code",
   "execution_count": null,
   "metadata": {},
   "outputs": [],
   "source": []
  },
  {
   "cell_type": "code",
   "execution_count": null,
   "metadata": {},
   "outputs": [],
   "source": []
  }
 ],
 "metadata": {
  "kernelspec": {
   "display_name": "Python 3",
   "language": "python",
   "name": "python3"
  },
  "language_info": {
   "codemirror_mode": {
    "name": "ipython",
    "version": 3
   },
   "file_extension": ".py",
   "mimetype": "text/x-python",
   "name": "python",
   "nbconvert_exporter": "python",
   "pygments_lexer": "ipython3",
   "version": "3.7.4"
  },
  "toc": {
   "base_numbering": 1,
   "nav_menu": {},
   "number_sections": true,
   "sideBar": true,
   "skip_h1_title": false,
   "title_cell": "Table of Contents",
   "title_sidebar": "Contents",
   "toc_cell": false,
   "toc_position": {},
   "toc_section_display": true,
   "toc_window_display": true
  },
  "varInspector": {
   "cols": {
    "lenName": 16,
    "lenType": 16,
    "lenVar": 40
   },
   "kernels_config": {
    "python": {
     "delete_cmd_postfix": "",
     "delete_cmd_prefix": "del ",
     "library": "var_list.py",
     "varRefreshCmd": "print(var_dic_list())"
    },
    "r": {
     "delete_cmd_postfix": ") ",
     "delete_cmd_prefix": "rm(",
     "library": "var_list.r",
     "varRefreshCmd": "cat(var_dic_list()) "
    }
   },
   "types_to_exclude": [
    "module",
    "function",
    "builtin_function_or_method",
    "instance",
    "_Feature"
   ],
   "window_display": false
  }
 },
 "nbformat": 4,
 "nbformat_minor": 4
}
