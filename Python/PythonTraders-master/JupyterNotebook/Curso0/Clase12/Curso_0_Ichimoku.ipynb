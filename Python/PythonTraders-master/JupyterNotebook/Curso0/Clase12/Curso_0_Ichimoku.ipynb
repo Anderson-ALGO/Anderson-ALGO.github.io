{
 "cells": [
  {
   "cell_type": "markdown",
   "metadata": {},
   "source": [
    "# Ichimoku"
   ]
  },
  {
   "cell_type": "code",
   "execution_count": 1,
   "metadata": {},
   "outputs": [],
   "source": [
    "lista = ['Lindor Martin', 'Taboada Luis', 'Sebastian de la Fuente', 'Leo Sliwinsky', 'Bruno Malito', 'Tamer Saleh', 'mauri', 'Seba Waisgold', 'Daniel Rubio', 'Pedro Arsenio', 'Gaston Vernhes', 'Pablo Milesi',\n",
    "'Renzo Bergese' ,'Javier', 'Martin Onorato','Oscar Pinzetta', 'Guillermo Brooks', 'Pablo Garcia', 'Beto Naftaly', 'Andrés', 'Anibal Fel', 'Joaquin', 'Daniel Rubio']"
   ]
  },
  {
   "cell_type": "code",
   "execution_count": 2,
   "metadata": {},
   "outputs": [
    {
     "data": {
      "text/plain": [
       "23"
      ]
     },
     "execution_count": 2,
     "metadata": {},
     "output_type": "execute_result"
    }
   ],
   "source": [
    "len(lista)"
   ]
  },
  {
   "cell_type": "code",
   "execution_count": 3,
   "metadata": {},
   "outputs": [
    {
     "data": {
      "text/plain": [
       "['Guillermo Brooks', 'Lindor Martin', 'Daniel Rubio']"
      ]
     },
     "execution_count": 3,
     "metadata": {},
     "output_type": "execute_result"
    }
   ],
   "source": [
    "import random\n",
    "\n",
    "random.sample(lista,3)"
   ]
  },
  {
   "cell_type": "code",
   "execution_count": null,
   "metadata": {},
   "outputs": [],
   "source": []
  },
  {
   "cell_type": "code",
   "execution_count": null,
   "metadata": {},
   "outputs": [],
   "source": []
  },
  {
   "cell_type": "code",
   "execution_count": 6,
   "metadata": {
    "scrolled": false
   },
   "outputs": [
    {
     "name": "stdout",
     "output_type": "stream",
     "text": [
      "[*********************100%***********************]  1 of 1 downloaded\n"
     ]
    },
    {
     "data": {
      "text/html": [
       "<div>\n",
       "<style scoped>\n",
       "    .dataframe tbody tr th:only-of-type {\n",
       "        vertical-align: middle;\n",
       "    }\n",
       "\n",
       "    .dataframe tbody tr th {\n",
       "        vertical-align: top;\n",
       "    }\n",
       "\n",
       "    .dataframe thead th {\n",
       "        text-align: right;\n",
       "    }\n",
       "</style>\n",
       "<table border=\"1\" class=\"dataframe\">\n",
       "  <thead>\n",
       "    <tr style=\"text-align: right;\">\n",
       "      <th></th>\n",
       "      <th>Open</th>\n",
       "      <th>High</th>\n",
       "      <th>Low</th>\n",
       "      <th>Close</th>\n",
       "      <th>Volume</th>\n",
       "      <th>Tenkan</th>\n",
       "      <th>Kijun</th>\n",
       "      <th>Senkou_Span_A</th>\n",
       "      <th>Senkou_Span_B</th>\n",
       "      <th>Tendencia</th>\n",
       "      <th>Señal</th>\n",
       "    </tr>\n",
       "    <tr>\n",
       "      <th>Date</th>\n",
       "      <th></th>\n",
       "      <th></th>\n",
       "      <th></th>\n",
       "      <th></th>\n",
       "      <th></th>\n",
       "      <th></th>\n",
       "      <th></th>\n",
       "      <th></th>\n",
       "      <th></th>\n",
       "      <th></th>\n",
       "      <th></th>\n",
       "    </tr>\n",
       "  </thead>\n",
       "  <tbody>\n",
       "    <tr>\n",
       "      <th>2000-07-25</th>\n",
       "      <td>16.33</td>\n",
       "      <td>16.58</td>\n",
       "      <td>15.65</td>\n",
       "      <td>16.35</td>\n",
       "      <td>126200</td>\n",
       "      <td>NaN</td>\n",
       "      <td>NaN</td>\n",
       "      <td>NaN</td>\n",
       "      <td>NaN</td>\n",
       "      <td>Neutra</td>\n",
       "      <td>Venta</td>\n",
       "    </tr>\n",
       "    <tr>\n",
       "      <th>2000-07-26</th>\n",
       "      <td>16.11</td>\n",
       "      <td>16.41</td>\n",
       "      <td>16.06</td>\n",
       "      <td>16.35</td>\n",
       "      <td>28900</td>\n",
       "      <td>NaN</td>\n",
       "      <td>NaN</td>\n",
       "      <td>NaN</td>\n",
       "      <td>NaN</td>\n",
       "      <td>Neutra</td>\n",
       "      <td>Sin Señal</td>\n",
       "    </tr>\n",
       "    <tr>\n",
       "      <th>2000-07-27</th>\n",
       "      <td>16.35</td>\n",
       "      <td>16.47</td>\n",
       "      <td>16.23</td>\n",
       "      <td>16.35</td>\n",
       "      <td>61200</td>\n",
       "      <td>NaN</td>\n",
       "      <td>NaN</td>\n",
       "      <td>NaN</td>\n",
       "      <td>NaN</td>\n",
       "      <td>Neutra</td>\n",
       "      <td>Sin Señal</td>\n",
       "    </tr>\n",
       "    <tr>\n",
       "      <th>2000-07-28</th>\n",
       "      <td>16.41</td>\n",
       "      <td>16.41</td>\n",
       "      <td>16.00</td>\n",
       "      <td>16.23</td>\n",
       "      <td>146100</td>\n",
       "      <td>NaN</td>\n",
       "      <td>NaN</td>\n",
       "      <td>NaN</td>\n",
       "      <td>NaN</td>\n",
       "      <td>Neutra</td>\n",
       "      <td>Sin Señal</td>\n",
       "    </tr>\n",
       "    <tr>\n",
       "      <th>2000-07-31</th>\n",
       "      <td>16.35</td>\n",
       "      <td>16.52</td>\n",
       "      <td>15.76</td>\n",
       "      <td>16.52</td>\n",
       "      <td>178400</td>\n",
       "      <td>NaN</td>\n",
       "      <td>NaN</td>\n",
       "      <td>NaN</td>\n",
       "      <td>NaN</td>\n",
       "      <td>Neutra</td>\n",
       "      <td>Sin Señal</td>\n",
       "    </tr>\n",
       "    <tr>\n",
       "      <th>...</th>\n",
       "      <td>...</td>\n",
       "      <td>...</td>\n",
       "      <td>...</td>\n",
       "      <td>...</td>\n",
       "      <td>...</td>\n",
       "      <td>...</td>\n",
       "      <td>...</td>\n",
       "      <td>...</td>\n",
       "      <td>...</td>\n",
       "      <td>...</td>\n",
       "      <td>...</td>\n",
       "    </tr>\n",
       "    <tr>\n",
       "      <th>2020-08-10</th>\n",
       "      <td>12.61</td>\n",
       "      <td>13.22</td>\n",
       "      <td>12.37</td>\n",
       "      <td>12.44</td>\n",
       "      <td>814800</td>\n",
       "      <td>13.17</td>\n",
       "      <td>12.35</td>\n",
       "      <td>10.0350</td>\n",
       "      <td>8.64</td>\n",
       "      <td>Alcista</td>\n",
       "      <td>Sin Señal</td>\n",
       "    </tr>\n",
       "    <tr>\n",
       "      <th>2020-08-11</th>\n",
       "      <td>12.60</td>\n",
       "      <td>12.68</td>\n",
       "      <td>11.82</td>\n",
       "      <td>11.86</td>\n",
       "      <td>1350100</td>\n",
       "      <td>13.17</td>\n",
       "      <td>12.71</td>\n",
       "      <td>10.1225</td>\n",
       "      <td>8.64</td>\n",
       "      <td>Alcista</td>\n",
       "      <td>Sin Señal</td>\n",
       "    </tr>\n",
       "    <tr>\n",
       "      <th>2020-08-12</th>\n",
       "      <td>12.15</td>\n",
       "      <td>12.24</td>\n",
       "      <td>11.22</td>\n",
       "      <td>11.46</td>\n",
       "      <td>1762700</td>\n",
       "      <td>13.08</td>\n",
       "      <td>12.71</td>\n",
       "      <td>10.2100</td>\n",
       "      <td>8.64</td>\n",
       "      <td>Alcista</td>\n",
       "      <td>Sin Señal</td>\n",
       "    </tr>\n",
       "    <tr>\n",
       "      <th>2020-08-13</th>\n",
       "      <td>11.33</td>\n",
       "      <td>11.97</td>\n",
       "      <td>11.29</td>\n",
       "      <td>11.53</td>\n",
       "      <td>918300</td>\n",
       "      <td>13.08</td>\n",
       "      <td>12.71</td>\n",
       "      <td>10.3675</td>\n",
       "      <td>8.64</td>\n",
       "      <td>Alcista</td>\n",
       "      <td>Sin Señal</td>\n",
       "    </tr>\n",
       "    <tr>\n",
       "      <th>2020-08-14</th>\n",
       "      <td>11.63</td>\n",
       "      <td>11.63</td>\n",
       "      <td>11.25</td>\n",
       "      <td>11.37</td>\n",
       "      <td>611699</td>\n",
       "      <td>13.08</td>\n",
       "      <td>12.72</td>\n",
       "      <td>10.3875</td>\n",
       "      <td>8.81</td>\n",
       "      <td>Alcista</td>\n",
       "      <td>Sin Señal</td>\n",
       "    </tr>\n",
       "  </tbody>\n",
       "</table>\n",
       "<p>5047 rows × 11 columns</p>\n",
       "</div>"
      ],
      "text/plain": [
       "             Open   High    Low  Close   Volume  Tenkan  Kijun  Senkou_Span_A  \\\n",
       "Date                                                                            \n",
       "2000-07-25  16.33  16.58  15.65  16.35   126200     NaN    NaN            NaN   \n",
       "2000-07-26  16.11  16.41  16.06  16.35    28900     NaN    NaN            NaN   \n",
       "2000-07-27  16.35  16.47  16.23  16.35    61200     NaN    NaN            NaN   \n",
       "2000-07-28  16.41  16.41  16.00  16.23   146100     NaN    NaN            NaN   \n",
       "2000-07-31  16.35  16.52  15.76  16.52   178400     NaN    NaN            NaN   \n",
       "...           ...    ...    ...    ...      ...     ...    ...            ...   \n",
       "2020-08-10  12.61  13.22  12.37  12.44   814800   13.17  12.35        10.0350   \n",
       "2020-08-11  12.60  12.68  11.82  11.86  1350100   13.17  12.71        10.1225   \n",
       "2020-08-12  12.15  12.24  11.22  11.46  1762700   13.08  12.71        10.2100   \n",
       "2020-08-13  11.33  11.97  11.29  11.53   918300   13.08  12.71        10.3675   \n",
       "2020-08-14  11.63  11.63  11.25  11.37   611699   13.08  12.72        10.3875   \n",
       "\n",
       "            Senkou_Span_B Tendencia      Señal  \n",
       "Date                                            \n",
       "2000-07-25            NaN    Neutra      Venta  \n",
       "2000-07-26            NaN    Neutra  Sin Señal  \n",
       "2000-07-27            NaN    Neutra  Sin Señal  \n",
       "2000-07-28            NaN    Neutra  Sin Señal  \n",
       "2000-07-31            NaN    Neutra  Sin Señal  \n",
       "...                   ...       ...        ...  \n",
       "2020-08-10           8.64   Alcista  Sin Señal  \n",
       "2020-08-11           8.64   Alcista  Sin Señal  \n",
       "2020-08-12           8.64   Alcista  Sin Señal  \n",
       "2020-08-13           8.64   Alcista  Sin Señal  \n",
       "2020-08-14           8.81   Alcista  Sin Señal  \n",
       "\n",
       "[5047 rows x 11 columns]"
      ]
     },
     "execution_count": 6,
     "metadata": {},
     "output_type": "execute_result"
    }
   ],
   "source": [
    "import pandas as pd\n",
    "import numpy as np\n",
    "import yfinance as yf\n",
    "\n",
    "data = yf.download('GGAL', start='2000-01-01', auto_adjust=True)\n",
    "\n",
    "data['Tenkan'] = (data.rolling(9).High.max() + data.rolling(9).Low.min())/2\n",
    "data['Kijun'] = (data.rolling(26).High.max() + data.rolling(26).Low.min())/2\n",
    "data['Senkou_Span_A'] = ((data['Tenkan'] + data['Kijun'])/2).shift(25)\n",
    "data['Senkou_Span_B'] =  ((data.rolling(52).High.max() + data.rolling(52).Low.min())/2).shift(25)\n",
    "\n",
    "tendencia_alza = (data['Close'] > data['Senkou_Span_A']) & (data['Close'] > data['Senkou_Span_B'])\n",
    "tendencia_baja = (data['Close'] < data['Senkou_Span_A']) & (data['Close'] < data['Senkou_Span_B'])\n",
    "data.loc[:, 'Tendencia'] = 'Neutra'\n",
    "data.loc[tendencia_alza, 'Tendencia'] = 'Alcista'\n",
    "data.loc[tendencia_baja, 'Tendencia'] = 'Bajista'\n",
    "\n",
    "data['Señal'] = np.where(data.Tenkan > data.Kijun,'Compra','Venta')\n",
    "data['Señal'] = np.where(data.Señal != data.Señal.shift(), data.Señal,'Sin Señal')\n",
    "data"
   ]
  },
  {
   "cell_type": "code",
   "execution_count": 7,
   "metadata": {},
   "outputs": [
    {
     "data": {
      "text/plain": [
       "Señal\n",
       "Compra        108\n",
       "Sin Señal    4831\n",
       "Venta         108\n",
       "dtype: int64"
      ]
     },
     "execution_count": 7,
     "metadata": {},
     "output_type": "execute_result"
    }
   ],
   "source": [
    "data.groupby('Señal').size()"
   ]
  },
  {
   "cell_type": "code",
   "execution_count": 8,
   "metadata": {},
   "outputs": [
    {
     "data": {
      "text/plain": [
       "Tendencia\n",
       "Alcista    2311\n",
       "Bajista    2033\n",
       "Neutra      703\n",
       "dtype: int64"
      ]
     },
     "execution_count": 8,
     "metadata": {},
     "output_type": "execute_result"
    }
   ],
   "source": [
    "data.groupby('Tendencia').size()"
   ]
  },
  {
   "cell_type": "markdown",
   "metadata": {},
   "source": [
    "## Grafico correlaciones"
   ]
  },
  {
   "cell_type": "code",
   "execution_count": 9,
   "metadata": {},
   "outputs": [
    {
     "name": "stdout",
     "output_type": "stream",
     "text": [
      "Corr Trend: 0.051818491314155904\n",
      "Corr Signal: 0.0002931390767653382\n"
     ]
    },
    {
     "data": {
      "image/png": "[encoded data removed]",
      "text/plain": [
       "<Figure size 864x504 with 1 Axes>"
      ]
     },
     "metadata": {
      "needs_background": "light"
     },
     "output_type": "display_data"
    }
   ],
   "source": [
    "data['Trend'] = data.Close / data.Senkou_Span_A + data.Close / data.Senkou_Span_B\n",
    "data['Sig'] = data.Tenkan / data.Kijun\n",
    "data['Fw'] = (data.Close.shift(-5)/data.Close-1)*100\n",
    "\n",
    "data.Trend.rolling(250).corr(data.Fw).plot(color='green', figsize=(12,7))\n",
    "print('Corr Trend:',data.Trend.corr(data.Fw))\n",
    "\n",
    "\n",
    "data.Sig.rolling(250).corr(data.Fw).plot(color='red')\n",
    "print('Corr Signal:',data.Sig.corr(data.Fw))"
   ]
  },
  {
   "cell_type": "markdown",
   "metadata": {},
   "source": [
    "## Tabla de Trades"
   ]
  },
  {
   "cell_type": "code",
   "execution_count": 11,
   "metadata": {},
   "outputs": [
    {
     "data": {
      "text/html": [
       "<div>\n",
       "<style scoped>\n",
       "    .dataframe tbody tr th:only-of-type {\n",
       "        vertical-align: middle;\n",
       "    }\n",
       "\n",
       "    .dataframe tbody tr th {\n",
       "        vertical-align: top;\n",
       "    }\n",
       "\n",
       "    .dataframe thead th {\n",
       "        text-align: right;\n",
       "    }\n",
       "</style>\n",
       "<table border=\"1\" class=\"dataframe\">\n",
       "  <thead>\n",
       "    <tr style=\"text-align: right;\">\n",
       "      <th></th>\n",
       "      <th>Close</th>\n",
       "      <th>Señal</th>\n",
       "    </tr>\n",
       "    <tr>\n",
       "      <th>Date</th>\n",
       "      <th></th>\n",
       "      <th></th>\n",
       "    </tr>\n",
       "  </thead>\n",
       "  <tbody>\n",
       "    <tr>\n",
       "      <th>2000-07-25</th>\n",
       "      <td>16.35</td>\n",
       "      <td>Venta</td>\n",
       "    </tr>\n",
       "    <tr>\n",
       "      <th>2000-08-31</th>\n",
       "      <td>16.47</td>\n",
       "      <td>Compra</td>\n",
       "    </tr>\n",
       "    <tr>\n",
       "      <th>2000-09-22</th>\n",
       "      <td>14.07</td>\n",
       "      <td>Venta</td>\n",
       "    </tr>\n",
       "    <tr>\n",
       "      <th>2000-11-07</th>\n",
       "      <td>13.08</td>\n",
       "      <td>Compra</td>\n",
       "    </tr>\n",
       "    <tr>\n",
       "      <th>2000-12-05</th>\n",
       "      <td>13.20</td>\n",
       "      <td>Venta</td>\n",
       "    </tr>\n",
       "    <tr>\n",
       "      <th>...</th>\n",
       "      <td>...</td>\n",
       "      <td>...</td>\n",
       "    </tr>\n",
       "    <tr>\n",
       "      <th>2020-04-22</th>\n",
       "      <td>6.67</td>\n",
       "      <td>Compra</td>\n",
       "    </tr>\n",
       "    <tr>\n",
       "      <th>2020-04-23</th>\n",
       "      <td>6.30</td>\n",
       "      <td>Venta</td>\n",
       "    </tr>\n",
       "    <tr>\n",
       "      <th>2020-05-08</th>\n",
       "      <td>8.10</td>\n",
       "      <td>Compra</td>\n",
       "    </tr>\n",
       "    <tr>\n",
       "      <th>2020-07-09</th>\n",
       "      <td>10.52</td>\n",
       "      <td>Venta</td>\n",
       "    </tr>\n",
       "    <tr>\n",
       "      <th>2020-07-16</th>\n",
       "      <td>11.51</td>\n",
       "      <td>Compra</td>\n",
       "    </tr>\n",
       "  </tbody>\n",
       "</table>\n",
       "<p>216 rows × 2 columns</p>\n",
       "</div>"
      ],
      "text/plain": [
       "            Close   Señal\n",
       "Date                     \n",
       "2000-07-25  16.35   Venta\n",
       "2000-08-31  16.47  Compra\n",
       "2000-09-22  14.07   Venta\n",
       "2000-11-07  13.08  Compra\n",
       "2000-12-05  13.20   Venta\n",
       "...           ...     ...\n",
       "2020-04-22   6.67  Compra\n",
       "2020-04-23   6.30   Venta\n",
       "2020-05-08   8.10  Compra\n",
       "2020-07-09  10.52   Venta\n",
       "2020-07-16  11.51  Compra\n",
       "\n",
       "[216 rows x 2 columns]"
      ]
     },
     "execution_count": 11,
     "metadata": {},
     "output_type": "execute_result"
    }
   ],
   "source": [
    "compras = data.loc[data.Señal == 'Compra']\n",
    "ventas = data.loc[data.Señal == 'Venta']\n",
    "trades = pd.concat([compras, ventas]).sort_index()\n",
    "trades = trades.loc[:,['Close','Señal']]\n",
    "trades"
   ]
  },
  {
   "cell_type": "markdown",
   "metadata": {},
   "source": [
    "### Elimino el primero vendido y el ultimo comprado (hipotesis de estrategia long)"
   ]
  },
  {
   "cell_type": "code",
   "execution_count": 214,
   "metadata": {
    "scrolled": false
   },
   "outputs": [
    {
     "data": {
      "text/html": [
       "<div>\n",
       "<style scoped>\n",
       "    .dataframe tbody tr th:only-of-type {\n",
       "        vertical-align: middle;\n",
       "    }\n",
       "\n",
       "    .dataframe tbody tr th {\n",
       "        vertical-align: top;\n",
       "    }\n",
       "\n",
       "    .dataframe thead th {\n",
       "        text-align: right;\n",
       "    }\n",
       "</style>\n",
       "<table border=\"1\" class=\"dataframe\">\n",
       "  <thead>\n",
       "    <tr style=\"text-align: right;\">\n",
       "      <th></th>\n",
       "      <th>Close</th>\n",
       "      <th>Señal</th>\n",
       "    </tr>\n",
       "    <tr>\n",
       "      <th>Date</th>\n",
       "      <th></th>\n",
       "      <th></th>\n",
       "    </tr>\n",
       "  </thead>\n",
       "  <tbody>\n",
       "    <tr>\n",
       "      <th>2000-08-31</th>\n",
       "      <td>16.47</td>\n",
       "      <td>Compra</td>\n",
       "    </tr>\n",
       "    <tr>\n",
       "      <th>2000-09-22</th>\n",
       "      <td>14.07</td>\n",
       "      <td>Venta</td>\n",
       "    </tr>\n",
       "    <tr>\n",
       "      <th>2000-11-07</th>\n",
       "      <td>13.08</td>\n",
       "      <td>Compra</td>\n",
       "    </tr>\n",
       "    <tr>\n",
       "      <th>2000-12-05</th>\n",
       "      <td>13.20</td>\n",
       "      <td>Venta</td>\n",
       "    </tr>\n",
       "    <tr>\n",
       "      <th>2000-12-15</th>\n",
       "      <td>13.20</td>\n",
       "      <td>Compra</td>\n",
       "    </tr>\n",
       "    <tr>\n",
       "      <th>...</th>\n",
       "      <td>...</td>\n",
       "      <td>...</td>\n",
       "    </tr>\n",
       "    <tr>\n",
       "      <th>2020-01-22</th>\n",
       "      <td>14.97</td>\n",
       "      <td>Venta</td>\n",
       "    </tr>\n",
       "    <tr>\n",
       "      <th>2020-04-22</th>\n",
       "      <td>6.67</td>\n",
       "      <td>Compra</td>\n",
       "    </tr>\n",
       "    <tr>\n",
       "      <th>2020-04-23</th>\n",
       "      <td>6.30</td>\n",
       "      <td>Venta</td>\n",
       "    </tr>\n",
       "    <tr>\n",
       "      <th>2020-05-08</th>\n",
       "      <td>8.10</td>\n",
       "      <td>Compra</td>\n",
       "    </tr>\n",
       "    <tr>\n",
       "      <th>2020-07-09</th>\n",
       "      <td>10.52</td>\n",
       "      <td>Venta</td>\n",
       "    </tr>\n",
       "  </tbody>\n",
       "</table>\n",
       "<p>214 rows × 2 columns</p>\n",
       "</div>"
      ],
      "text/plain": [
       "            Close   Señal\n",
       "Date                     \n",
       "2000-08-31  16.47  Compra\n",
       "2000-09-22  14.07   Venta\n",
       "2000-11-07  13.08  Compra\n",
       "2000-12-05  13.20   Venta\n",
       "2000-12-15  13.20  Compra\n",
       "...           ...     ...\n",
       "2020-01-22  14.97   Venta\n",
       "2020-04-22   6.67  Compra\n",
       "2020-04-23   6.30   Venta\n",
       "2020-05-08   8.10  Compra\n",
       "2020-07-09  10.52   Venta\n",
       "\n",
       "[214 rows x 2 columns]"
      ]
     },
     "execution_count": 214,
     "metadata": {},
     "output_type": "execute_result"
    }
   ],
   "source": [
    "if trades.iloc[0,1]=='Venta':\n",
    "    trades = trades.iloc[1:]\n",
    "\n",
    "\n",
    "if trades.iloc[0,1]=='Compra':\n",
    "    trades = trades.iloc[:-1]\n",
    "\n",
    "trades"
   ]
  },
  {
   "cell_type": "code",
   "execution_count": 215,
   "metadata": {},
   "outputs": [
    {
     "data": {
      "text/plain": [
       "0     -0.145719\n",
       "1      0.009174\n",
       "2      0.344697\n",
       "3     -0.099872\n",
       "4      0.006817\n",
       "         ...   \n",
       "102    0.345757\n",
       "103   -0.140899\n",
       "104    0.175039\n",
       "105   -0.055472\n",
       "106    0.298765\n",
       "Name: Close, Length: 107, dtype: float64"
      ]
     },
     "execution_count": 215,
     "metadata": {},
     "output_type": "execute_result"
    }
   ],
   "source": [
    "precios_compra = trades.Close.iloc[::2].reset_index().Close\n",
    "precios_venta = trades.Close.iloc[1::2].reset_index().Close\n",
    "yields = precios_venta/precios_compra-1\n",
    "yields"
   ]
  },
  {
   "cell_type": "code",
   "execution_count": 216,
   "metadata": {},
   "outputs": [
    {
     "data": {
      "text/plain": [
       "<matplotlib.axes._subplots.AxesSubplot at 0x1a13e404148>"
      ]
     },
     "execution_count": 216,
     "metadata": {},
     "output_type": "execute_result"
    },
    {
     "data": {
      "image/png": "[encoded data removed]",
      "text/plain": [
       "<Figure size 864x432 with 1 Axes>"
      ]
     },
     "metadata": {
      "needs_background": "light"
     },
     "output_type": "display_data"
    }
   ],
   "source": [
    "yields.plot(kind='bar', figsize=(12,6))"
   ]
  },
  {
   "cell_type": "code",
   "execution_count": 217,
   "metadata": {},
   "outputs": [
    {
     "data": {
      "text/plain": [
       "<matplotlib.axes._subplots.AxesSubplot at 0x1a13fb57488>"
      ]
     },
     "execution_count": 217,
     "metadata": {},
     "output_type": "execute_result"
    },
    {
     "data": {
      "image/png": "[encoded data removed]",
      "text/plain": [
       "<Figure size 864x432 with 1 Axes>"
      ]
     },
     "metadata": {
      "needs_background": "light"
     },
     "output_type": "display_data"
    }
   ],
   "source": [
    "yields.plot(kind='hist', bins=100, width=0.005, figsize=(12,6))"
   ]
  },
  {
   "cell_type": "code",
   "execution_count": 218,
   "metadata": {
    "scrolled": true
   },
   "outputs": [
    {
     "data": {
      "text/plain": [
       "count    107.000000\n",
       "mean       0.042113\n",
       "std        0.242025\n",
       "min       -0.621212\n",
       "25%       -0.068375\n",
       "50%       -0.013943\n",
       "75%        0.087758\n",
       "max        1.423759\n",
       "Name: Close, dtype: float64"
      ]
     },
     "execution_count": 218,
     "metadata": {},
     "output_type": "execute_result"
    }
   ],
   "source": [
    "yields.describe()"
   ]
  },
  {
   "cell_type": "code",
   "execution_count": 219,
   "metadata": {},
   "outputs": [
    {
     "data": {
      "text/plain": [
       "0      0.854281\n",
       "1      0.862118\n",
       "2      1.159287\n",
       "3      1.043507\n",
       "4      1.050620\n",
       "         ...   \n",
       "102    5.777190\n",
       "103    4.963191\n",
       "104    5.831945\n",
       "105    5.508434\n",
       "106    7.154163\n",
       "Name: Close, Length: 107, dtype: float64"
      ]
     },
     "execution_count": 219,
     "metadata": {},
     "output_type": "execute_result"
    }
   ],
   "source": [
    "(yields+1).cumprod()"
   ]
  },
  {
   "cell_type": "code",
   "execution_count": 220,
   "metadata": {},
   "outputs": [
    {
     "data": {
      "text/plain": [
       "<matplotlib.axes._subplots.AxesSubplot at 0x1a13f987b88>"
      ]
     },
     "execution_count": 220,
     "metadata": {},
     "output_type": "execute_result"
    },
    {
     "data": {
      "image/png": "[encoded data removed]",
      "text/plain": [
       "<Figure size 432x288 with 1 Axes>"
      ]
     },
     "metadata": {
      "needs_background": "light"
     },
     "output_type": "display_data"
    }
   ],
   "source": [
    "(yields+1).cumprod().plot()"
   ]
  },
  {
   "cell_type": "code",
   "execution_count": 235,
   "metadata": {},
   "outputs": [],
   "source": [
    "import matplotlib.pyplot as plt"
   ]
  },
  {
   "cell_type": "markdown",
   "metadata": {},
   "source": [
    "## Encapsulado en función"
   ]
  },
  {
   "cell_type": "code",
   "execution_count": 238,
   "metadata": {},
   "outputs": [],
   "source": [
    "def ichi(ticker):\n",
    "    \n",
    "    data = yf.download(ticker, start='2000-01-01', auto_adjust=True)\n",
    "    data['Tenkan'] = (data.rolling(9).High.max() + data.rolling(9).Low.min())/2\n",
    "    data['Kijun'] = (data.rolling(26).High.max() + data.rolling(26).Low.min())/2\n",
    "    data['Senkou_Span_A'] = ((data['Tenkan'] + data['Kijun'])/2).shift(25)\n",
    "    data['Senkou_Span_B'] =  ((data.rolling(52).High.max() + data.rolling(52).Low.min())/2).shift(25)\n",
    "\n",
    "    tendencia_alza = (data['Close'] > data['Senkou_Span_A']) & (data['Close'] > data['Senkou_Span_B'])\n",
    "    tendencia_baja = (data['Close'] < data['Senkou_Span_A']) & (data['Close'] < data['Senkou_Span_B'])\n",
    "    data.loc[:, 'Tendencia'] = 'Neutra'\n",
    "    data.loc[tendencia_alza, 'Tendencia'] = 'Alcista'\n",
    "    data.loc[tendencia_baja, 'Tendencia'] = 'Bajista'\n",
    "\n",
    "    data['Señal'] = np.where(data.Tenkan > data.Kijun,'Compra','Venta')\n",
    "    data['Señal'] = np.where(data.Señal != data.Señal.shift(), data.Señal,'Sin Señal')\n",
    "\n",
    "    compras = data.loc[data.Señal == 'Compra']\n",
    "    ventas = data.loc[data.Señal == 'Venta']\n",
    "    trades = pd.concat([compras, ventas]).sort_index()\n",
    "    trades = trades.loc[:,['Close','Señal']]\n",
    "    \n",
    "    if trades.iloc[0,1]=='Venta':\n",
    "        trades = trades.iloc[1:]\n",
    "        \n",
    "    if trades.iloc[0,1]=='Compra':\n",
    "        trades = trades.iloc[:-1]\n",
    "\n",
    "    precios_compra = trades.Close.iloc[::2].reset_index().Close\n",
    "    precios_venta = trades.Close.iloc[1::2].reset_index().Close\n",
    "    yields = precios_venta/precios_compra-1\n",
    "\n",
    "    print('Estadistica descriptiva de rendimientos \\n',yields.describe())\n",
    "    (yields+1).cumprod().plot()\n",
    "\n",
    "    data['Trend'] = data.Close / data.Senkou_Span_A + data.Close / data.Senkou_Span_B\n",
    "    data['Sig'] = data.Tenkan / data.Kijun\n",
    "    data['Fw'] = (data.Close.shift(-5)/data.Close-1)*100\n",
    "    print('\\nCorr Trend:',data.Trend.corr(data.Fw))\n",
    "    print('Corr Signal:',data.Sig.corr(data.Fw))    "
   ]
  },
  {
   "cell_type": "code",
   "execution_count": 241,
   "metadata": {},
   "outputs": [
    {
     "name": "stdout",
     "output_type": "stream",
     "text": [
      "[*********************100%***********************]  1 of 1 downloaded\n",
      "Estadistica descriptiva de rendimientos \n",
      " count    110.000000\n",
      "mean       0.033757\n",
      "std        0.152061\n",
      "min       -0.153846\n",
      "25%       -0.043246\n",
      "50%       -0.008078\n",
      "75%        0.044007\n",
      "max        1.001656\n",
      "Name: Close, dtype: float64\n",
      "\n",
      "Corr Trend: 0.021518140386982448\n",
      "Corr Signal: 0.009513074415512236\n"
     ]
    },
    {
     "data": {
      "image/png": "[encoded data removed]",
      "text/plain": [
       "<Figure size 432x288 with 1 Axes>"
      ]
     },
     "metadata": {
      "needs_background": "light"
     },
     "output_type": "display_data"
    }
   ],
   "source": [
    "ichi('YPF')"
   ]
  },
  {
   "cell_type": "code",
   "execution_count": null,
   "metadata": {},
   "outputs": [],
   "source": []
  }
 ],
 "metadata": {
  "kernelspec": {
   "display_name": "Python 3",
   "language": "python",
   "name": "python3"
  },
  "language_info": {
   "codemirror_mode": {
    "name": "ipython",
    "version": 3
   },
   "file_extension": ".py",
   "mimetype": "text/x-python",
   "name": "python",
   "nbconvert_exporter": "python",
   "pygments_lexer": "ipython3",
   "version": "3.7.4"
  },
  "toc": {
   "base_numbering": 1,
   "nav_menu": {},
   "number_sections": true,
   "sideBar": true,
   "skip_h1_title": false,
   "title_cell": "Table of Contents",
   "title_sidebar": "Contents",
   "toc_cell": false,
   "toc_position": {},
   "toc_section_display": true,
   "toc_window_display": false
  },
  "varInspector": {
   "cols": {
    "lenName": 16,
    "lenType": 16,
    "lenVar": 40
   },
   "kernels_config": {
    "python": {
     "delete_cmd_postfix": "",
     "delete_cmd_prefix": "del ",
     "library": "var_list.py",
     "varRefreshCmd": "print(var_dic_list())"
    },
    "r": {
     "delete_cmd_postfix": ") ",
     "delete_cmd_prefix": "rm(",
     "library": "var_list.r",
     "varRefreshCmd": "cat(var_dic_list()) "
    }
   },
   "types_to_exclude": [
    "module",
    "function",
    "builtin_function_or_method",
    "instance",
    "_Feature"
   ],
   "window_display": false
  }
 },
 "nbformat": 4,
 "nbformat_minor": 4
}
