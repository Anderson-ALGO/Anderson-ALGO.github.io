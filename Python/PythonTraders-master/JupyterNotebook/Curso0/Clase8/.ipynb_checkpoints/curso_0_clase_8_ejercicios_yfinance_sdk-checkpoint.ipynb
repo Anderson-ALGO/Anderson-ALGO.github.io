{
 "cells": [
  {
   "cell_type": "markdown",
   "metadata": {},
   "source": [
    "### Guia de ejercicios de yfinance"
   ]
  },
  {
   "cell_type": "markdown",
   "metadata": {},
   "source": [
    "##### disclaimer recuerden lo hablado en clase que no es un sdk oficial, sino uno hecho y mantenido por la comunidad."
   ]
  },
  {
   "cell_type": "markdown",
   "metadata": {},
   "source": [
    "#### Ejercicio \n",
    "importar la sdk (programa al que le vamos a pedir cosas que se va a conectar con otro programa determinado) de yfinance y solicitar informacion del ticker Amazon"
   ]
  },
  {
   "cell_type": "code",
   "execution_count": null,
   "metadata": {},
   "outputs": [],
   "source": []
  },
  {
   "cell_type": "code",
   "execution_count": null,
   "metadata": {},
   "outputs": [],
   "source": []
  },
  {
   "cell_type": "markdown",
   "metadata": {},
   "source": [
    "#### Ejercicio\n",
    "Acceder a la informacion disponible de yahoo finance por medio del help(yf)\n",
    "Escribir las funciones que estan disponible"
   ]
  },
  {
   "cell_type": "code",
   "execution_count": null,
   "metadata": {},
   "outputs": [],
   "source": []
  },
  {
   "cell_type": "code",
   "execution_count": null,
   "metadata": {},
   "outputs": [],
   "source": []
  },
  {
   "cell_type": "code",
   "execution_count": null,
   "metadata": {},
   "outputs": [],
   "source": []
  },
  {
   "cell_type": "code",
   "execution_count": null,
   "metadata": {},
   "outputs": [],
   "source": []
  },
  {
   "cell_type": "code",
   "execution_count": null,
   "metadata": {},
   "outputs": [],
   "source": []
  },
  {
   "cell_type": "code",
   "execution_count": null,
   "metadata": {},
   "outputs": [],
   "source": []
  },
  {
   "cell_type": "markdown",
   "metadata": {},
   "source": [
    "#### Ejercicio\n",
    "Listar información de un ticker cualquiera, hacerlo ademas con periodo 1 dia y los diferentes intervalos disponibles \n"
   ]
  },
  {
   "cell_type": "code",
   "execution_count": null,
   "metadata": {},
   "outputs": [],
   "source": []
  },
  {
   "cell_type": "code",
   "execution_count": null,
   "metadata": {},
   "outputs": [],
   "source": []
  },
  {
   "cell_type": "code",
   "execution_count": null,
   "metadata": {},
   "outputs": [],
   "source": []
  },
  {
   "cell_type": "code",
   "execution_count": null,
   "metadata": {},
   "outputs": [],
   "source": []
  },
  {
   "cell_type": "code",
   "execution_count": null,
   "metadata": {},
   "outputs": [],
   "source": []
  },
  {
   "cell_type": "markdown",
   "metadata": {},
   "source": [
    "#### Ejercicio \n",
    "    -Mismo que el anterior pero agregar dos tickers mas de otros mercados (tienen que ser como mínimo 3 tickers y de distintos mercados entre si)\n",
    "    -Utilizar dropna() para quitar aquellas row que tengan NaN\n",
    "\n",
    "Sufijos de diferentes mercados"
   ]
  },
  {
   "cell_type": "markdown",
   "metadata": {},
   "source": [
    "|<sub>Sufix</sub>|<sub>Country</sub>|<sub>City</sub>|<sub>Sufix</sub>|<sub>Country</sub>|<sub>City</sub>|\n",
    "| :------------- | :------------- | :------------- | :------------- | :------------- | :------------- |\n",
    "|<sub>.BA</sub>|<sub>Argentina</sub>|<sub>Buenos Aires (BYMA)</sub>|<sub>.NS</sub>|<sub>India</sub>|<sub>National of India</sub>|\n",
    "|<sub>.VI</sub>|<sub>Austria</sub>|<sub>Vienna</sub>|<sub>.JK</sub>|<sub>Indonesia</sub>|<sub>Indonesia (IDX)</sub>|\n",
    "|<sub>.AX</sub>|<sub>Australia</sub>|<sub>Australian (ASX)</sub>|<sub>.IR</sub>|<sub>Ireland</sub>|<sub>Euronext Dublin</sub>|\n",
    "|<sub>.BR</sub>|<sub>Belgium</sub>|<sub>Euronext Brussels</sub>|<sub>.TA</sub>|<sub>Israel</sub>|<sub>Tel Aviv</sub>|\n",
    "|<sub>.SA</sub>|<sub>Brazil</sub>|<sub>Sao Paolo (BOVESPA)</sub>|<sub>.TI</sub>|<sub>Italy</sub>|<sub>EuroTLX</sub>|\n",
    "|<sub>.CN</sub>|<sub>Canada</sub>|<sub>Canadian Securities</sub>|<sub>.MI</sub>|<sub>Italy</sub>|<sub>Italian</sub>|\n",
    "|<sub>.NE</sub>|<sub>Canada</sub>|<sub>NEO Exchange</sub>|<sub>.T</sub>|<sub>Japan</sub>|<sub>Tokyo</sub>|\n",
    "|<sub>.TO</sub>|<sub>Canada</sub>|<sub>Toronto (TSX)</sub>|<sub>.RG</sub>|<sub>Latvia</sub>|<sub>Nasdaq OMX Riga</sub>|\n",
    "|<sub>.V</sub>|<sub>Canada</sub>|<sub>TSX Venture Exchange (TSXV)</sub>|<sub>.VS</sub>|<sub>Lithuania</sub>|<sub>Nasdaq OMX Vilnius</sub>|\n",
    "|<sub>.SN</sub>|<sub>Chile</sub>|<sub>Santiago</sub>|<sub>.KL</sub>|<sub>Malaysia</sub>|<sub>Malaysian</sub>|\n",
    "|<sub>.SS</sub>|<sub>China</sub>|<sub>Shanghai</sub>|<sub>.MX</sub>|<sub>Mexico</sub>|<sub>Mexico (BMV)</sub>|\n",
    "|<sub>.SZ</sub>|<sub>China</sub>|<sub>Shenzhen</sub>|<sub>.AS</sub>|<sub>Netherlands</sub>|<sub>Euronext Amsterdam</sub>|\n",
    "|<sub>.PR</sub>|<sub>Czech Republic</sub>|<sub>Prague Index</sub>|<sub>.NZ</sub>|<sub>New Zealand</sub>|<sub>New Zealand (NZX)</sub>|\n",
    "|<sub>.CO</sub>|<sub>Denmark</sub>|<sub>Nasdaq OMX Copenhagen</sub>|<sub>.OL</sub>|<sub>Norway</sub>|<sub>Oslo</sub>|\n",
    "|<sub>.CA</sub>|<sub>Egypt</sub>|<sub>Egyptian Index (EGID)</sub>|<sub>.LS</sub>|<sub>Portugal</sub>|<sub>Euronext Lisbon</sub>|\n",
    "|<sub>.TL</sub>|<sub>Estonia</sub>|<sub>Nasdaq OMX Tallinn</sub>|<sub>.QA</sub>|<sub>Qatar</sub>|<sub>Qatar</sub>|\n",
    "|<sub>.HE</sub>|<sub>Finland</sub>|<sub>Nasdaq OMX Helsinki</sub>|<sub>.ME</sub>|<sub>Russia</sub>|<sub>Moscow Exchange (MOEX)</sub>|\n",
    "|<sub>.NX</sub>|<sub>France</sub>|<sub>Euronext</sub>|<sub>.SI</sub>|<sub>Singapore</sub>|<sub>Singapore (SGX)</sub>|\n",
    "|<sub>.PA</sub>|<sub>France</sub>|<sub>Euronext Paris</sub>|<sub>.JO</sub>|<sub>South Africa</sub>|<sub>Johannesburg</sub>|\n",
    "|<sub>.BE</sub>|<sub>Germany</sub>|<sub>Berlin</sub>|<sub>.KS</sub>|<sub>South Korea</sub>|<sub>Korea</sub>|\n",
    "|<sub>.BM</sub>|<sub>Germany</sub>|<sub>Bremen</sub>|<sub>.KQ</sub>|<sub>South Korea</sub>|<sub>KOSDAQ</sub>|\n",
    "|<sub>.DU</sub>|<sub>Germany</sub>|<sub>Dusseldorf</sub>|<sub>.MC</sub>|<sub>Spain</sub>|<sub>Madrid SE C.A.T.S.</sub>|\n",
    "|<sub>.F</sub>|<sub>Germany</sub>|<sub>Frankfurt</sub>|<sub>.SAU</sub>|<sub>Saudi Arabia</sub>|<sub>Saudi (Tadawul)</sub>|\n",
    "|<sub>.HM</sub>|<sub>Germany</sub>|<sub>Hamburg</sub>|<sub>.ST</sub>|<sub>Sweden</sub>|<sub>Nasdaq OMX Stockholm</sub>|\n",
    "|<sub>.HA</sub>|<sub>Germany</sub>|<sub>Hanover</sub>|<sub>.SW</sub>|<sub>Switzerland</sub>|<sub>Swiss Exchange (SIX)</sub>|\n",
    "|<sub>.MU</sub>|<sub>Germany</sub>|<sub>Munich</sub>|<sub>.TWO</sub>|<sub>Taiwan</sub>|<sub>Taiwan OTC Exchange</sub>|\n",
    "|<sub>.SG</sub>|<sub>Germany</sub>|<sub>Stuttgart</sub>|<sub>.TW</sub>|<sub>Taiwan</sub>|<sub>Taiwan (TWSE)</sub>|\n",
    "|<sub>.DE</sub>|<sub>Germany</sub>|<sub>Deutsche Boerse XETRA</sub>|<sub>.BK</sub>|<sub>Thailand (SET)</sub>|\n",
    "|<sub>.AT</sub>|<sub>Greece</sub>|<sub>Athens (ATHEX)</sub>|<sub>.IS</sub>|<sub>Turkey</sub>|<sub>Borsa İstanbul</sub>|\n",
    "|<sub>.HK</sub>|<sub>Hong Kong</sub>|<sub>Hong Kong (HKEX)</sub>|<sub>.L</sub>|<sub>United Kingdom</sub>|<sub>London</sub>|\n",
    "|<sub>.BD</sub>|<sub>Hungary</sub>|<sub>Budapest</sub>|<sub>.IL</sub>|<sub>United Kingdom</sub>|<sub>London</sub>|\n",
    "|<sub>.IC</sub>|<sub>Iceland</sub>|<sub>Nasdaq OMX Iceland</sub>|<sub>.CR</sub>|<sub>Venezuela</sub>|<sub>Caracas</sub>|\n",
    "|<sub>.BO</sub>|<sub>India</sub>|<sub>Bombay|"
   ]
  },
  {
   "cell_type": "code",
   "execution_count": null,
   "metadata": {},
   "outputs": [],
   "source": []
  },
  {
   "cell_type": "code",
   "execution_count": null,
   "metadata": {},
   "outputs": [],
   "source": []
  },
  {
   "cell_type": "code",
   "execution_count": null,
   "metadata": {},
   "outputs": [],
   "source": []
  },
  {
   "cell_type": "code",
   "execution_count": null,
   "metadata": {},
   "outputs": [],
   "source": []
  },
  {
   "cell_type": "code",
   "execution_count": null,
   "metadata": {},
   "outputs": [],
   "source": []
  },
  {
   "cell_type": "markdown",
   "metadata": {},
   "source": [
    "#### Ejercicio \n",
    "Por medio del objeto \n",
    "data = yf.Ticker(\"msft\")\n",
    "\n",
    "evaluar data.info "
   ]
  },
  {
   "cell_type": "code",
   "execution_count": null,
   "metadata": {},
   "outputs": [],
   "source": []
  },
  {
   "cell_type": "code",
   "execution_count": null,
   "metadata": {},
   "outputs": [],
   "source": []
  },
  {
   "cell_type": "markdown",
   "metadata": {},
   "source": [
    "#### Ejercicio\n",
    "Ver que funciones tiene Ticker\n",
    "    - Por ej data.get_isin() es una funcion, \n",
    "    - Probar las demas funciones, en principio dejar sin pasarle valores (argumentos) entre los parentesis\n"
   ]
  },
  {
   "cell_type": "code",
   "execution_count": null,
   "metadata": {},
   "outputs": [],
   "source": []
  },
  {
   "cell_type": "code",
   "execution_count": 41,
   "metadata": {},
   "outputs": [],
   "source": [
    "# data = yf.Ticker(\"msft\")\n",
    "# help(data)"
   ]
  },
  {
   "cell_type": "markdown",
   "metadata": {},
   "source": [
    "#### Ejercicio \n",
    "    - De un Ticker que prefiera obtener información de los accionistas mayoritarios.\n",
    "    - Del mismo modo ver quienes son los institucionales."
   ]
  },
  {
   "cell_type": "code",
   "execution_count": null,
   "metadata": {},
   "outputs": [],
   "source": []
  },
  {
   "cell_type": "code",
   "execution_count": null,
   "metadata": {},
   "outputs": [],
   "source": []
  },
  {
   "cell_type": "markdown",
   "metadata": {},
   "source": [
    "#### Ejercicio\n",
    "A la primer llamada del ejercicio anterior pasarle el parametro as_dict= True"
   ]
  },
  {
   "cell_type": "code",
   "execution_count": null,
   "metadata": {},
   "outputs": [],
   "source": []
  },
  {
   "cell_type": "code",
   "execution_count": null,
   "metadata": {},
   "outputs": [],
   "source": []
  },
  {
   "cell_type": "code",
   "execution_count": null,
   "metadata": {},
   "outputs": [],
   "source": []
  },
  {
   "cell_type": "markdown",
   "metadata": {},
   "source": [
    "#### Ejercicio\n",
    "Crear un jupyter notebook en google colab, importar yfinance y pedir informacion de 2 tickers co"
   ]
  },
  {
   "cell_type": "code",
   "execution_count": null,
   "metadata": {},
   "outputs": [],
   "source": []
  },
  {
   "cell_type": "code",
   "execution_count": null,
   "metadata": {},
   "outputs": [],
   "source": []
  },
  {
   "cell_type": "code",
   "execution_count": null,
   "metadata": {},
   "outputs": [],
   "source": []
  },
  {
   "cell_type": "code",
   "execution_count": null,
   "metadata": {},
   "outputs": [],
   "source": []
  },
  {
   "cell_type": "code",
   "execution_count": null,
   "metadata": {},
   "outputs": [],
   "source": []
  },
  {
   "cell_type": "code",
   "execution_count": null,
   "metadata": {},
   "outputs": [],
   "source": []
  },
  {
   "cell_type": "code",
   "execution_count": null,
   "metadata": {},
   "outputs": [],
   "source": []
  },
  {
   "cell_type": "code",
   "execution_count": null,
   "metadata": {},
   "outputs": [],
   "source": []
  },
  {
   "cell_type": "code",
   "execution_count": null,
   "metadata": {},
   "outputs": [],
   "source": []
  },
  {
   "cell_type": "code",
   "execution_count": null,
   "metadata": {},
   "outputs": [],
   "source": []
  },
  {
   "cell_type": "code",
   "execution_count": null,
   "metadata": {},
   "outputs": [],
   "source": []
  },
  {
   "cell_type": "code",
   "execution_count": null,
   "metadata": {},
   "outputs": [],
   "source": []
  },
  {
   "cell_type": "code",
   "execution_count": null,
   "metadata": {},
   "outputs": [],
   "source": []
  },
  {
   "cell_type": "code",
   "execution_count": null,
   "metadata": {},
   "outputs": [],
   "source": []
  },
  {
   "cell_type": "code",
   "execution_count": null,
   "metadata": {},
   "outputs": [],
   "source": []
  },
  {
   "cell_type": "code",
   "execution_count": null,
   "metadata": {},
   "outputs": [],
   "source": []
  },
  {
   "cell_type": "code",
   "execution_count": null,
   "metadata": {},
   "outputs": [],
   "source": []
  },
  {
   "cell_type": "code",
   "execution_count": null,
   "metadata": {},
   "outputs": [],
   "source": []
  },
  {
   "cell_type": "code",
   "execution_count": null,
   "metadata": {},
   "outputs": [],
   "source": []
  },
  {
   "cell_type": "code",
   "execution_count": null,
   "metadata": {},
   "outputs": [],
   "source": []
  },
  {
   "cell_type": "code",
   "execution_count": null,
   "metadata": {},
   "outputs": [],
   "source": []
  },
  {
   "cell_type": "code",
   "execution_count": null,
   "metadata": {},
   "outputs": [],
   "source": []
  },
  {
   "cell_type": "code",
   "execution_count": null,
   "metadata": {},
   "outputs": [],
   "source": []
  },
  {
   "cell_type": "code",
   "execution_count": null,
   "metadata": {},
   "outputs": [],
   "source": []
  },
  {
   "cell_type": "code",
   "execution_count": null,
   "metadata": {},
   "outputs": [],
   "source": []
  },
  {
   "cell_type": "code",
   "execution_count": null,
   "metadata": {},
   "outputs": [],
   "source": []
  },
  {
   "cell_type": "markdown",
   "metadata": {},
   "source": [
    "### Algunas Respuestas"
   ]
  },
  {
   "cell_type": "code",
   "execution_count": null,
   "metadata": {},
   "outputs": [],
   "source": []
  },
  {
   "cell_type": "code",
   "execution_count": 31,
   "metadata": {},
   "outputs": [],
   "source": [
    "#import yfinance as yf"
   ]
  },
  {
   "cell_type": "code",
   "execution_count": null,
   "metadata": {},
   "outputs": [],
   "source": []
  },
  {
   "cell_type": "code",
   "execution_count": 30,
   "metadata": {},
   "outputs": [],
   "source": [
    "# yf.download(\"MSFT\", interval=\"1m\", period=\"1d\")"
   ]
  },
  {
   "cell_type": "code",
   "execution_count": null,
   "metadata": {},
   "outputs": [],
   "source": []
  },
  {
   "cell_type": "code",
   "execution_count": 15,
   "metadata": {},
   "outputs": [],
   "source": [
    "\n",
    "#yf.download(\"AMZN \")"
   ]
  },
  {
   "cell_type": "code",
   "execution_count": null,
   "metadata": {},
   "outputs": [],
   "source": []
  },
  {
   "cell_type": "code",
   "execution_count": 14,
   "metadata": {},
   "outputs": [],
   "source": [
    "#import yfinance as yf\n",
    "\n",
    "#yf.download(\"AMZN COME.BA GGAL\")"
   ]
  },
  {
   "cell_type": "code",
   "execution_count": null,
   "metadata": {},
   "outputs": [],
   "source": []
  },
  {
   "cell_type": "code",
   "execution_count": null,
   "metadata": {},
   "outputs": [],
   "source": []
  },
  {
   "cell_type": "code",
   "execution_count": 40,
   "metadata": {},
   "outputs": [],
   "source": [
    "# data.get_major_holders()"
   ]
  },
  {
   "cell_type": "code",
   "execution_count": null,
   "metadata": {},
   "outputs": [],
   "source": []
  },
  {
   "cell_type": "code",
   "execution_count": null,
   "metadata": {},
   "outputs": [],
   "source": []
  },
  {
   "cell_type": "code",
   "execution_count": null,
   "metadata": {},
   "outputs": [],
   "source": []
  },
  {
   "cell_type": "code",
   "execution_count": 39,
   "metadata": {},
   "outputs": [],
   "source": [
    "# data.get_major_holders( as_dict= True)"
   ]
  },
  {
   "cell_type": "code",
   "execution_count": null,
   "metadata": {},
   "outputs": [],
   "source": []
  },
  {
   "cell_type": "code",
   "execution_count": null,
   "metadata": {},
   "outputs": [],
   "source": []
  },
  {
   "cell_type": "code",
   "execution_count": null,
   "metadata": {},
   "outputs": [],
   "source": []
  },
  {
   "cell_type": "code",
   "execution_count": null,
   "metadata": {},
   "outputs": [],
   "source": []
  },
  {
   "cell_type": "code",
   "execution_count": null,
   "metadata": {},
   "outputs": [],
   "source": []
  },
  {
   "cell_type": "code",
   "execution_count": 13,
   "metadata": {},
   "outputs": [],
   "source": [
    " # help(yf)"
   ]
  },
  {
   "cell_type": "code",
   "execution_count": null,
   "metadata": {},
   "outputs": [],
   "source": []
  },
  {
   "cell_type": "code",
   "execution_count": null,
   "metadata": {},
   "outputs": [],
   "source": []
  },
  {
   "cell_type": "code",
   "execution_count": null,
   "metadata": {},
   "outputs": [],
   "source": []
  },
  {
   "cell_type": "code",
   "execution_count": null,
   "metadata": {},
   "outputs": [],
   "source": []
  },
  {
   "cell_type": "code",
   "execution_count": null,
   "metadata": {},
   "outputs": [],
   "source": []
  }
 ],
 "metadata": {
  "kernelspec": {
   "display_name": "Python 3",
   "language": "python",
   "name": "python3"
  },
  "language_info": {
   "codemirror_mode": {
    "name": "ipython",
    "version": 3
   },
   "file_extension": ".py",
   "mimetype": "text/x-python",
   "name": "python",
   "nbconvert_exporter": "python",
   "pygments_lexer": "ipython3",
   "version": "3.7.4"
  }
 },
 "nbformat": 4,
 "nbformat_minor": 2
}
