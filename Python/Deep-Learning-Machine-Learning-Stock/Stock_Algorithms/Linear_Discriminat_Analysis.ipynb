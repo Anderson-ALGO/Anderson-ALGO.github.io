{
  "cells": [
    {
      "cell_type": "markdown",
      "source": [
        "# Linear Discriminant Analysis"
      ],
      "metadata": {}
    },
    {
      "cell_type": "code",
      "source": [
        "import numpy as np\n",
        "import matplotlib.pyplot as plt\n",
        "import pandas as pd\n",
        "\n",
        "import warnings\n",
        "warnings.filterwarnings(\"ignore\")\n",
        "\n",
        "import yfinance as yf\n",
        "yf.pdr_override()"
      ],
      "outputs": [],
      "execution_count": 1,
      "metadata": {
        "collapsed": false,
        "outputHidden": false,
        "inputHidden": false,
        "execution": {
          "iopub.status.busy": "2020-05-25T05:14:40.511Z",
          "iopub.execute_input": "2020-05-25T05:14:40.517Z",
          "iopub.status.idle": "2020-05-25T05:14:41.439Z",
          "shell.execute_reply": "2020-05-25T05:14:41.461Z"
        }
      }
    },
    {
      "cell_type": "code",
      "source": [
        "# input\n",
        "symbol = 'AMD'\n",
        "start = '2014-01-01'\n",
        "end = '2018-08-27'\n",
        "\n",
        "# Read data \n",
        "dataset = yf.download(symbol,start,end)\n",
        "\n",
        "# View Columns\n",
        "dataset.head()"
      ],
      "outputs": [
        {
          "output_type": "stream",
          "name": "stdout",
          "text": [
            "[*********************100%***********************]  1 of 1 completed\n"
          ]
        },
        {
          "output_type": "execute_result",
          "execution_count": 2,
          "data": {
            "text/plain": [
              "            Adj Close  Close  High   Low  Open    Volume\n",
              "Date                                                    \n",
              "2014-01-02       3.95   3.95  3.98  3.84  3.85  20548400\n",
              "2014-01-03       4.00   4.00  4.00  3.88  3.98  22887200\n",
              "2014-01-06       4.13   4.13  4.18  3.99  4.01  42398300\n",
              "2014-01-07       4.18   4.18  4.25  4.11  4.19  42932100\n",
              "2014-01-08       4.18   4.18  4.26  4.14  4.23  30678700"
            ],
            "text/html": [
              "<div>\n",
              "<style scoped>\n",
              "    .dataframe tbody tr th:only-of-type {\n",
              "        vertical-align: middle;\n",
              "    }\n",
              "\n",
              "    .dataframe tbody tr th {\n",
              "        vertical-align: top;\n",
              "    }\n",
              "\n",
              "    .dataframe thead th {\n",
              "        text-align: right;\n",
              "    }\n",
              "</style>\n",
              "<table border=\"1\" class=\"dataframe\">\n",
              "  <thead>\n",
              "    <tr style=\"text-align: right;\">\n",
              "      <th></th>\n",
              "      <th>Adj Close</th>\n",
              "      <th>Close</th>\n",
              "      <th>High</th>\n",
              "      <th>Low</th>\n",
              "      <th>Open</th>\n",
              "      <th>Volume</th>\n",
              "    </tr>\n",
              "    <tr>\n",
              "      <th>Date</th>\n",
              "      <th></th>\n",
              "      <th></th>\n",
              "      <th></th>\n",
              "      <th></th>\n",
              "      <th></th>\n",
              "      <th></th>\n",
              "    </tr>\n",
              "  </thead>\n",
              "  <tbody>\n",
              "    <tr>\n",
              "      <th>2014-01-02</th>\n",
              "      <td>3.95</td>\n",
              "      <td>3.95</td>\n",
              "      <td>3.98</td>\n",
              "      <td>3.84</td>\n",
              "      <td>3.85</td>\n",
              "      <td>20548400</td>\n",
              "    </tr>\n",
              "    <tr>\n",
              "      <th>2014-01-03</th>\n",
              "      <td>4.00</td>\n",
              "      <td>4.00</td>\n",
              "      <td>4.00</td>\n",
              "      <td>3.88</td>\n",
              "      <td>3.98</td>\n",
              "      <td>22887200</td>\n",
              "    </tr>\n",
              "    <tr>\n",
              "      <th>2014-01-06</th>\n",
              "      <td>4.13</td>\n",
              "      <td>4.13</td>\n",
              "      <td>4.18</td>\n",
              "      <td>3.99</td>\n",
              "      <td>4.01</td>\n",
              "      <td>42398300</td>\n",
              "    </tr>\n",
              "    <tr>\n",
              "      <th>2014-01-07</th>\n",
              "      <td>4.18</td>\n",
              "      <td>4.18</td>\n",
              "      <td>4.25</td>\n",
              "      <td>4.11</td>\n",
              "      <td>4.19</td>\n",
              "      <td>42932100</td>\n",
              "    </tr>\n",
              "    <tr>\n",
              "      <th>2014-01-08</th>\n",
              "      <td>4.18</td>\n",
              "      <td>4.18</td>\n",
              "      <td>4.26</td>\n",
              "      <td>4.14</td>\n",
              "      <td>4.23</td>\n",
              "      <td>30678700</td>\n",
              "    </tr>\n",
              "  </tbody>\n",
              "</table>\n",
              "</div>"
            ]
          },
          "metadata": {}
        }
      ],
      "execution_count": 2,
      "metadata": {
        "collapsed": false,
        "outputHidden": false,
        "inputHidden": false,
        "execution": {
          "iopub.status.busy": "2020-05-25T05:14:41.446Z",
          "iopub.execute_input": "2020-05-25T05:14:41.452Z",
          "iopub.status.idle": "2020-05-25T05:14:42.715Z",
          "shell.execute_reply": "2020-05-25T05:14:42.865Z"
        }
      }
    },
    {
      "cell_type": "code",
      "source": [
        "dataset['Increase_Decrease'] = np.where(dataset['Volume'].shift(-1) > dataset['Volume'],1,0)\n",
        "dataset['Buy_Sell_on_Open'] = np.where(dataset['Open'].shift(-1) > dataset['Open'],1,0)\n",
        "dataset['Buy_Sell'] = np.where(dataset['Adj Close'].shift(-1) > dataset['Adj Close'],1,0)\n",
        "dataset['Returns'] = dataset['Adj Close'].pct_change()\n",
        "dataset = dataset.dropna()"
      ],
      "outputs": [],
      "execution_count": 3,
      "metadata": {
        "collapsed": true,
        "outputExpanded": false,
        "jupyter": {
          "source_hidden": false,
          "outputs_hidden": false
        },
        "nteract": {
          "transient": {
            "deleting": false
          }
        },
        "execution": {
          "iopub.status.busy": "2020-05-25T05:14:42.723Z",
          "iopub.execute_input": "2020-05-25T05:14:42.731Z",
          "iopub.status.idle": "2020-05-25T05:14:42.740Z",
          "shell.execute_reply": "2020-05-25T05:14:42.869Z"
        }
      }
    },
    {
      "cell_type": "code",
      "source": [
        "# Define X\n",
        "X = np.array(dataset[['Open', 'High', 'Low', 'Adj Close', 'Volume']])\n",
        "X[0:5]"
      ],
      "outputs": [
        {
          "output_type": "execute_result",
          "execution_count": 4,
          "data": {
            "text/plain": [
              "array([[3.98000002e+00, 4.00000000e+00, 3.88000011e+00, 4.00000000e+00,\n",
              "        2.28872000e+07],\n",
              "       [4.01000023e+00, 4.17999983e+00, 3.99000001e+00, 4.13000011e+00,\n",
              "        4.23983000e+07],\n",
              "       [4.19000006e+00, 4.25000000e+00, 4.11000013e+00, 4.17999983e+00,\n",
              "        4.29321000e+07],\n",
              "       [4.23000002e+00, 4.26000023e+00, 4.13999987e+00, 4.17999983e+00,\n",
              "        3.06787000e+07],\n",
              "       [4.19999981e+00, 4.23000002e+00, 4.05000019e+00, 4.09000015e+00,\n",
              "        3.06676000e+07]])"
            ]
          },
          "metadata": {}
        }
      ],
      "execution_count": 4,
      "metadata": {
        "collapsed": true,
        "outputExpanded": false,
        "jupyter": {
          "source_hidden": false,
          "outputs_hidden": false
        },
        "nteract": {
          "transient": {
            "deleting": false
          }
        },
        "execution": {
          "iopub.status.busy": "2020-05-25T05:14:42.749Z",
          "iopub.execute_input": "2020-05-25T05:14:42.753Z",
          "iopub.status.idle": "2020-05-25T05:14:42.765Z",
          "shell.execute_reply": "2020-05-25T05:14:43.325Z"
        }
      }
    },
    {
      "cell_type": "code",
      "source": [
        "# Define y\n",
        "y = np.array(dataset['Buy_Sell'])\n",
        "y[0:5]"
      ],
      "outputs": [
        {
          "output_type": "execute_result",
          "execution_count": 5,
          "data": {
            "text/plain": [
              "array([1, 1, 0, 0, 1])"
            ]
          },
          "metadata": {}
        }
      ],
      "execution_count": 5,
      "metadata": {
        "collapsed": true,
        "outputExpanded": false,
        "jupyter": {
          "source_hidden": false,
          "outputs_hidden": false
        },
        "nteract": {
          "transient": {
            "deleting": false
          }
        },
        "execution": {
          "iopub.status.busy": "2020-05-25T05:14:42.771Z",
          "iopub.execute_input": "2020-05-25T05:14:42.776Z",
          "iopub.status.idle": "2020-05-25T05:14:42.785Z",
          "shell.execute_reply": "2020-05-25T05:14:43.329Z"
        }
      }
    },
    {
      "cell_type": "code",
      "source": [
        "from sklearn import preprocessing\n",
        "X = preprocessing.StandardScaler().fit(X).transform(X)\n",
        "X[0:5]"
      ],
      "outputs": [
        {
          "output_type": "execute_result",
          "execution_count": 6,
          "data": {
            "text/plain": [
              "array([[-0.62250216, -0.63550706, -0.62613809, -0.61792054, -0.43967264],\n",
              "       [-0.61632107, -0.59915373, -0.60299004, -0.59116896,  0.14205802],\n",
              "       [-0.5792348 , -0.58501628, -0.57773758, -0.58087996,  0.15797346],\n",
              "       [-0.57099341, -0.58299661, -0.57142453, -0.58087996, -0.20736619],\n",
              "       [-0.5771745 , -0.58905554, -0.59036379, -0.5994002 , -0.20769714]])"
            ]
          },
          "metadata": {}
        }
      ],
      "execution_count": 6,
      "metadata": {
        "collapsed": true,
        "outputExpanded": false,
        "jupyter": {
          "source_hidden": false,
          "outputs_hidden": false
        },
        "nteract": {
          "transient": {
            "deleting": false
          }
        },
        "execution": {
          "iopub.status.busy": "2020-05-25T05:14:42.798Z",
          "iopub.execute_input": "2020-05-25T05:14:42.804Z",
          "iopub.status.idle": "2020-05-25T05:14:43.265Z",
          "shell.execute_reply": "2020-05-25T05:14:43.332Z"
        }
      }
    },
    {
      "cell_type": "code",
      "source": [
        "# Splitting the dataset into the Training set and Test set\n",
        "from sklearn.model_selection import train_test_split\n",
        "X_train, X_test, y_train, y_test = train_test_split(X, y, test_size = 0.25, random_state = 0)\n",
        "print ('Train set:', X_train.shape,  y_train.shape)\n",
        "print ('Test set:', X_test.shape,  y_test.shape)"
      ],
      "outputs": [
        {
          "output_type": "stream",
          "name": "stdout",
          "text": [
            "Train set: (877, 5) (877,)\n",
            "Test set: (293, 5) (293,)\n"
          ]
        }
      ],
      "execution_count": 7,
      "metadata": {
        "collapsed": true,
        "outputExpanded": false,
        "jupyter": {
          "source_hidden": false,
          "outputs_hidden": false
        },
        "nteract": {
          "transient": {
            "deleting": false
          }
        },
        "execution": {
          "iopub.status.busy": "2020-05-25T05:14:43.272Z",
          "iopub.execute_input": "2020-05-25T05:14:43.277Z",
          "iopub.status.idle": "2020-05-25T05:14:43.300Z",
          "shell.execute_reply": "2020-05-25T05:14:43.336Z"
        }
      }
    },
    {
      "cell_type": "code",
      "source": [
        "from sklearn.discriminant_analysis import LinearDiscriminantAnalysis"
      ],
      "outputs": [],
      "execution_count": 8,
      "metadata": {
        "collapsed": true,
        "outputExpanded": false,
        "jupyter": {
          "source_hidden": false,
          "outputs_hidden": false
        },
        "nteract": {
          "transient": {
            "deleting": false
          }
        },
        "execution": {
          "iopub.status.busy": "2020-05-25T05:14:43.307Z",
          "iopub.execute_input": "2020-05-25T05:14:43.315Z",
          "iopub.status.idle": "2020-05-25T05:14:43.401Z",
          "shell.execute_reply": "2020-05-25T05:14:43.418Z"
        }
      }
    },
    {
      "cell_type": "code",
      "source": [
        "LDA = LinearDiscriminantAnalysis()\n",
        "LDA.fit(X_train, y_train)"
      ],
      "outputs": [
        {
          "output_type": "execute_result",
          "execution_count": 9,
          "data": {
            "text/plain": [
              "LinearDiscriminantAnalysis(n_components=None, priors=None, shrinkage=None,\n",
              "              solver='svd', store_covariance=False, tol=0.0001)"
            ]
          },
          "metadata": {}
        }
      ],
      "execution_count": 9,
      "metadata": {
        "collapsed": true,
        "outputExpanded": false,
        "jupyter": {
          "source_hidden": false,
          "outputs_hidden": false
        },
        "nteract": {
          "transient": {
            "deleting": false
          }
        },
        "execution": {
          "iopub.status.busy": "2020-05-25T05:14:43.407Z",
          "iopub.execute_input": "2020-05-25T05:14:43.411Z",
          "iopub.status.idle": "2020-05-25T05:14:43.441Z",
          "shell.execute_reply": "2020-05-25T05:14:43.542Z"
        }
      }
    },
    {
      "cell_type": "code",
      "source": [
        "LDA.coef_"
      ],
      "outputs": [
        {
          "output_type": "execute_result",
          "execution_count": 10,
          "data": {
            "text/plain": [
              "array([[ 3.91181596, -0.81842302, -1.67178807, -1.27620095, -0.06718894]])"
            ]
          },
          "metadata": {}
        }
      ],
      "execution_count": 10,
      "metadata": {
        "collapsed": true,
        "outputExpanded": false,
        "jupyter": {
          "source_hidden": false,
          "outputs_hidden": false
        },
        "nteract": {
          "transient": {
            "deleting": false
          }
        },
        "execution": {
          "iopub.status.busy": "2020-05-25T05:14:43.450Z",
          "iopub.execute_input": "2020-05-25T05:14:43.457Z",
          "iopub.status.idle": "2020-05-25T05:14:43.470Z",
          "shell.execute_reply": "2020-05-25T05:14:43.548Z"
        }
      }
    },
    {
      "cell_type": "code",
      "source": [
        "y_pred = LDA.predict(X_test)"
      ],
      "outputs": [],
      "execution_count": 11,
      "metadata": {
        "collapsed": true,
        "outputExpanded": false,
        "jupyter": {
          "source_hidden": false,
          "outputs_hidden": false
        },
        "nteract": {
          "transient": {
            "deleting": false
          }
        },
        "execution": {
          "iopub.status.busy": "2020-05-25T05:14:43.476Z",
          "iopub.execute_input": "2020-05-25T05:14:43.481Z",
          "iopub.status.idle": "2020-05-25T05:14:43.487Z",
          "shell.execute_reply": "2020-05-25T05:14:43.551Z"
        }
      }
    },
    {
      "cell_type": "code",
      "source": [
        "from sklearn.metrics import mean_squared_error\n",
        "print('The rmse of prediction is:', mean_squared_error(y_test, y_pred) ** 0.5)"
      ],
      "outputs": [
        {
          "output_type": "stream",
          "name": "stdout",
          "text": [
            "The rmse of prediction is: 0.6961620775546855\n"
          ]
        }
      ],
      "execution_count": 12,
      "metadata": {
        "collapsed": true,
        "outputExpanded": false,
        "jupyter": {
          "source_hidden": false,
          "outputs_hidden": false
        },
        "nteract": {
          "transient": {
            "deleting": false
          }
        },
        "execution": {
          "iopub.status.busy": "2020-05-25T05:14:43.495Z",
          "iopub.execute_input": "2020-05-25T05:14:43.499Z",
          "iopub.status.idle": "2020-05-25T05:14:43.510Z",
          "shell.execute_reply": "2020-05-25T05:14:43.554Z"
        }
      }
    },
    {
      "cell_type": "code",
      "source": [
        "LDA.score(X_test, y_test)"
      ],
      "outputs": [
        {
          "output_type": "execute_result",
          "execution_count": 13,
          "data": {
            "text/plain": [
              "0.515358361774744"
            ]
          },
          "metadata": {}
        }
      ],
      "execution_count": 13,
      "metadata": {
        "collapsed": true,
        "outputExpanded": false,
        "jupyter": {
          "source_hidden": false,
          "outputs_hidden": false
        },
        "nteract": {
          "transient": {
            "deleting": false
          }
        },
        "execution": {
          "iopub.status.busy": "2020-05-25T05:14:43.518Z",
          "iopub.execute_input": "2020-05-25T05:14:43.522Z",
          "iopub.status.idle": "2020-05-25T05:14:43.531Z",
          "shell.execute_reply": "2020-05-25T05:14:43.556Z"
        }
      }
    }
  ],
  "metadata": {
    "kernel_info": {
      "name": "python3"
    },
    "language_info": {
      "name": "python",
      "nbconvert_exporter": "python",
      "mimetype": "text/x-python",
      "codemirror_mode": {
        "name": "ipython",
        "version": 3
      },
      "file_extension": ".py",
      "version": "3.5.5",
      "pygments_lexer": "ipython3"
    },
    "kernelspec": {
      "name": "python3",
      "language": "python",
      "display_name": "Python 3"
    },
    "nteract": {
      "version": "0.23.1"
    }
  },
  "nbformat": 4,
  "nbformat_minor": 4
}