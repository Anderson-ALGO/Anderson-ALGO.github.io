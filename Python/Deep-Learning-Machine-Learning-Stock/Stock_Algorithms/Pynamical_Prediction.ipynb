{
  "cells": [
    {
      "cell_type": "markdown",
      "source": [
        "# Pynamical Stock Predictions"
      ],
      "metadata": {
        "nteract": {
          "transient": {
            "deleting": false
          }
        }
      }
    },
    {
      "cell_type": "code",
      "source": [
        "# Libraries\n",
        "import pandas as pd\n",
        "import numpy as np\n",
        "import math\n",
        "%matplotlib inline\n",
        "\n",
        "import warnings\n",
        "warnings.filterwarnings(\"ignore\")\n",
        "\n",
        "import yfinance as yf\n",
        "yf.pdr_override()"
      ],
      "outputs": [],
      "execution_count": 1,
      "metadata": {
        "collapsed": true,
        "jupyter": {
          "source_hidden": false,
          "outputs_hidden": false
        },
        "nteract": {
          "transient": {
            "deleting": false
          }
        },
        "execution": {
          "iopub.status.busy": "2020-06-07T02:29:54.944Z",
          "iopub.execute_input": "2020-06-07T02:29:54.948Z",
          "iopub.status.idle": "2020-06-07T02:29:56.052Z",
          "shell.execute_reply": "2020-06-07T02:29:56.058Z"
        }
      }
    },
    {
      "cell_type": "code",
      "source": [
        "stock = 'AAPL'\n",
        "start = '2015-01-01' \n",
        "end = '2020-01-01'\n",
        "df = yf.download(stock, start, end)"
      ],
      "outputs": [
        {
          "output_type": "stream",
          "name": "stdout",
          "text": [
            "[*********************100%***********************]  1 of 1 completed\n"
          ]
        }
      ],
      "execution_count": 2,
      "metadata": {
        "collapsed": true,
        "jupyter": {
          "source_hidden": false,
          "outputs_hidden": false
        },
        "nteract": {
          "transient": {
            "deleting": false
          }
        },
        "execution": {
          "iopub.status.busy": "2020-06-07T02:30:10.263Z",
          "iopub.execute_input": "2020-06-07T02:30:10.272Z",
          "iopub.status.idle": "2020-06-07T02:30:11.730Z",
          "shell.execute_reply": "2020-06-07T02:30:11.741Z"
        }
      }
    },
    {
      "cell_type": "code",
      "source": [
        "df.head()"
      ],
      "outputs": [
        {
          "output_type": "execute_result",
          "execution_count": 3,
          "data": {
            "text/html": [
              "<div>\n",
              "<style scoped>\n",
              "    .dataframe tbody tr th:only-of-type {\n",
              "        vertical-align: middle;\n",
              "    }\n",
              "\n",
              "    .dataframe tbody tr th {\n",
              "        vertical-align: top;\n",
              "    }\n",
              "\n",
              "    .dataframe thead th {\n",
              "        text-align: right;\n",
              "    }\n",
              "</style>\n",
              "<table border=\"1\" class=\"dataframe\">\n",
              "  <thead>\n",
              "    <tr style=\"text-align: right;\">\n",
              "      <th></th>\n",
              "      <th>Adj Close</th>\n",
              "      <th>Close</th>\n",
              "      <th>High</th>\n",
              "      <th>Low</th>\n",
              "      <th>Open</th>\n",
              "      <th>Volume</th>\n",
              "    </tr>\n",
              "    <tr>\n",
              "      <th>Date</th>\n",
              "      <th></th>\n",
              "      <th></th>\n",
              "      <th></th>\n",
              "      <th></th>\n",
              "      <th></th>\n",
              "      <th></th>\n",
              "    </tr>\n",
              "  </thead>\n",
              "  <tbody>\n",
              "    <tr>\n",
              "      <th>2015-01-02</th>\n",
              "      <td>99.945885</td>\n",
              "      <td>109.330002</td>\n",
              "      <td>111.440002</td>\n",
              "      <td>107.349998</td>\n",
              "      <td>111.389999</td>\n",
              "      <td>53204600</td>\n",
              "    </tr>\n",
              "    <tr>\n",
              "      <th>2015-01-05</th>\n",
              "      <td>97.130241</td>\n",
              "      <td>106.250000</td>\n",
              "      <td>108.650002</td>\n",
              "      <td>105.410004</td>\n",
              "      <td>108.290001</td>\n",
              "      <td>64285500</td>\n",
              "    </tr>\n",
              "    <tr>\n",
              "      <th>2015-01-06</th>\n",
              "      <td>97.139420</td>\n",
              "      <td>106.260002</td>\n",
              "      <td>107.430000</td>\n",
              "      <td>104.629997</td>\n",
              "      <td>106.540001</td>\n",
              "      <td>65797100</td>\n",
              "    </tr>\n",
              "    <tr>\n",
              "      <th>2015-01-07</th>\n",
              "      <td>98.501518</td>\n",
              "      <td>107.750000</td>\n",
              "      <td>108.199997</td>\n",
              "      <td>106.699997</td>\n",
              "      <td>107.199997</td>\n",
              "      <td>40105900</td>\n",
              "    </tr>\n",
              "    <tr>\n",
              "      <th>2015-01-08</th>\n",
              "      <td>102.286186</td>\n",
              "      <td>111.889999</td>\n",
              "      <td>112.150002</td>\n",
              "      <td>108.699997</td>\n",
              "      <td>109.230003</td>\n",
              "      <td>59364500</td>\n",
              "    </tr>\n",
              "  </tbody>\n",
              "</table>\n",
              "</div>"
            ],
            "text/plain": [
              "             Adj Close       Close        High         Low        Open  \\\n",
              "Date                                                                     \n",
              "2015-01-02   99.945885  109.330002  111.440002  107.349998  111.389999   \n",
              "2015-01-05   97.130241  106.250000  108.650002  105.410004  108.290001   \n",
              "2015-01-06   97.139420  106.260002  107.430000  104.629997  106.540001   \n",
              "2015-01-07   98.501518  107.750000  108.199997  106.699997  107.199997   \n",
              "2015-01-08  102.286186  111.889999  112.150002  108.699997  109.230003   \n",
              "\n",
              "              Volume  \n",
              "Date                  \n",
              "2015-01-02  53204600  \n",
              "2015-01-05  64285500  \n",
              "2015-01-06  65797100  \n",
              "2015-01-07  40105900  \n",
              "2015-01-08  59364500  "
            ]
          },
          "metadata": {}
        }
      ],
      "execution_count": 3,
      "metadata": {
        "collapsed": true,
        "jupyter": {
          "source_hidden": false,
          "outputs_hidden": false
        },
        "nteract": {
          "transient": {
            "deleting": false
          }
        },
        "execution": {
          "iopub.status.busy": "2020-06-07T02:30:30.589Z",
          "iopub.execute_input": "2020-06-07T02:30:30.593Z",
          "iopub.status.idle": "2020-06-07T02:30:30.626Z",
          "shell.execute_reply": "2020-06-07T02:30:30.675Z"
        }
      }
    },
    {
      "cell_type": "code",
      "source": [
        "df.tail()"
      ],
      "outputs": [
        {
          "output_type": "execute_result",
          "execution_count": 4,
          "data": {
            "text/html": [
              "<div>\n",
              "<style scoped>\n",
              "    .dataframe tbody tr th:only-of-type {\n",
              "        vertical-align: middle;\n",
              "    }\n",
              "\n",
              "    .dataframe tbody tr th {\n",
              "        vertical-align: top;\n",
              "    }\n",
              "\n",
              "    .dataframe thead th {\n",
              "        text-align: right;\n",
              "    }\n",
              "</style>\n",
              "<table border=\"1\" class=\"dataframe\">\n",
              "  <thead>\n",
              "    <tr style=\"text-align: right;\">\n",
              "      <th></th>\n",
              "      <th>Adj Close</th>\n",
              "      <th>Close</th>\n",
              "      <th>High</th>\n",
              "      <th>Low</th>\n",
              "      <th>Open</th>\n",
              "      <th>Volume</th>\n",
              "    </tr>\n",
              "    <tr>\n",
              "      <th>Date</th>\n",
              "      <th></th>\n",
              "      <th></th>\n",
              "      <th></th>\n",
              "      <th></th>\n",
              "      <th></th>\n",
              "      <th></th>\n",
              "    </tr>\n",
              "  </thead>\n",
              "  <tbody>\n",
              "    <tr>\n",
              "      <th>2019-12-24</th>\n",
              "      <td>282.831299</td>\n",
              "      <td>284.269989</td>\n",
              "      <td>284.890015</td>\n",
              "      <td>282.920013</td>\n",
              "      <td>284.690002</td>\n",
              "      <td>12119700</td>\n",
              "    </tr>\n",
              "    <tr>\n",
              "      <th>2019-12-26</th>\n",
              "      <td>288.442780</td>\n",
              "      <td>289.910004</td>\n",
              "      <td>289.980011</td>\n",
              "      <td>284.700012</td>\n",
              "      <td>284.820007</td>\n",
              "      <td>23280300</td>\n",
              "    </tr>\n",
              "    <tr>\n",
              "      <th>2019-12-27</th>\n",
              "      <td>288.333313</td>\n",
              "      <td>289.799988</td>\n",
              "      <td>293.970001</td>\n",
              "      <td>288.119995</td>\n",
              "      <td>291.119995</td>\n",
              "      <td>36566500</td>\n",
              "    </tr>\n",
              "    <tr>\n",
              "      <th>2019-12-30</th>\n",
              "      <td>290.044617</td>\n",
              "      <td>291.519989</td>\n",
              "      <td>292.690002</td>\n",
              "      <td>285.220001</td>\n",
              "      <td>289.459991</td>\n",
              "      <td>36028600</td>\n",
              "    </tr>\n",
              "    <tr>\n",
              "      <th>2019-12-31</th>\n",
              "      <td>292.163818</td>\n",
              "      <td>293.649994</td>\n",
              "      <td>293.679993</td>\n",
              "      <td>289.519989</td>\n",
              "      <td>289.929993</td>\n",
              "      <td>25201400</td>\n",
              "    </tr>\n",
              "  </tbody>\n",
              "</table>\n",
              "</div>"
            ],
            "text/plain": [
              "             Adj Close       Close        High         Low        Open  \\\n",
              "Date                                                                     \n",
              "2019-12-24  282.831299  284.269989  284.890015  282.920013  284.690002   \n",
              "2019-12-26  288.442780  289.910004  289.980011  284.700012  284.820007   \n",
              "2019-12-27  288.333313  289.799988  293.970001  288.119995  291.119995   \n",
              "2019-12-30  290.044617  291.519989  292.690002  285.220001  289.459991   \n",
              "2019-12-31  292.163818  293.649994  293.679993  289.519989  289.929993   \n",
              "\n",
              "              Volume  \n",
              "Date                  \n",
              "2019-12-24  12119700  \n",
              "2019-12-26  23280300  \n",
              "2019-12-27  36566500  \n",
              "2019-12-30  36028600  \n",
              "2019-12-31  25201400  "
            ]
          },
          "metadata": {}
        }
      ],
      "execution_count": 4,
      "metadata": {
        "collapsed": true,
        "jupyter": {
          "source_hidden": false,
          "outputs_hidden": false
        },
        "nteract": {
          "transient": {
            "deleting": false
          }
        },
        "execution": {
          "iopub.status.busy": "2020-06-07T02:30:33.082Z",
          "iopub.execute_input": "2020-06-07T02:30:33.087Z",
          "iopub.status.idle": "2020-06-07T02:30:33.098Z",
          "shell.execute_reply": "2020-06-07T02:30:33.102Z"
        }
      }
    },
    {
      "cell_type": "code",
      "source": [
        "x = df['Adj Close']"
      ],
      "outputs": [],
      "execution_count": 11,
      "metadata": {
        "collapsed": true,
        "jupyter": {
          "source_hidden": false,
          "outputs_hidden": false
        },
        "nteract": {
          "transient": {
            "deleting": false
          }
        },
        "execution": {
          "iopub.status.busy": "2020-06-07T02:45:00.749Z",
          "iopub.execute_input": "2020-06-07T02:45:00.754Z",
          "iopub.status.idle": "2020-06-07T02:45:00.762Z",
          "shell.execute_reply": "2020-06-07T02:45:00.765Z"
        }
      }
    },
    {
      "cell_type": "code",
      "source": [
        "def f(x):\n",
        "    return  np.log(x / x.shift(1))"
      ],
      "outputs": [],
      "execution_count": 13,
      "metadata": {
        "collapsed": true,
        "jupyter": {
          "source_hidden": false,
          "outputs_hidden": false
        },
        "nteract": {
          "transient": {
            "deleting": false
          }
        },
        "execution": {
          "iopub.status.busy": "2020-06-07T02:45:18.179Z",
          "iopub.execute_input": "2020-06-07T02:45:18.183Z",
          "iopub.status.idle": "2020-06-07T02:45:18.190Z",
          "shell.execute_reply": "2020-06-07T02:45:18.193Z"
        }
      }
    },
    {
      "cell_type": "code",
      "source": [
        "rets = df['Adj Close'].pct_change().dropna()"
      ],
      "outputs": [],
      "execution_count": 15,
      "metadata": {
        "collapsed": true,
        "jupyter": {
          "source_hidden": false,
          "outputs_hidden": false
        },
        "nteract": {
          "transient": {
            "deleting": false
          }
        },
        "execution": {
          "iopub.status.busy": "2020-06-07T02:46:13.940Z",
          "iopub.execute_input": "2020-06-07T02:46:13.945Z",
          "iopub.status.idle": "2020-06-07T02:46:13.953Z",
          "shell.execute_reply": "2020-06-07T02:46:13.961Z"
        }
      }
    },
    {
      "cell_type": "code",
      "source": [
        "x = (rets + 1).cumprod()"
      ],
      "outputs": [],
      "execution_count": 19,
      "metadata": {
        "collapsed": true,
        "jupyter": {
          "source_hidden": false,
          "outputs_hidden": false
        },
        "nteract": {
          "transient": {
            "deleting": false
          }
        },
        "execution": {
          "iopub.status.busy": "2020-06-07T02:49:15.228Z",
          "iopub.execute_input": "2020-06-07T02:49:15.234Z",
          "iopub.status.idle": "2020-06-07T02:49:15.241Z",
          "shell.execute_reply": "2020-06-07T02:49:15.249Z"
        }
      }
    },
    {
      "cell_type": "code",
      "source": [
        "x.values"
      ],
      "outputs": [
        {
          "output_type": "execute_result",
          "execution_count": 32,
          "data": {
            "text/plain": [
              "array([0.97182832, 0.97192015, 0.98554851, ..., 2.8848943 , 2.9020166 ,\n",
              "       2.92322009])"
            ]
          },
          "metadata": {}
        }
      ],
      "execution_count": 32,
      "metadata": {
        "collapsed": true,
        "jupyter": {
          "source_hidden": false,
          "outputs_hidden": false
        },
        "nteract": {
          "transient": {
            "deleting": false
          }
        },
        "execution": {
          "iopub.status.busy": "2020-06-07T03:15:20.055Z",
          "iopub.execute_input": "2020-06-07T03:15:20.060Z",
          "iopub.status.idle": "2020-06-07T03:15:20.069Z",
          "shell.execute_reply": "2020-06-07T03:15:20.074Z"
        }
      }
    },
    {
      "cell_type": "code",
      "source": [
        "x.min()"
      ],
      "outputs": [
        {
          "output_type": "execute_result",
          "execution_count": 46,
          "data": {
            "text/plain": [
              "0.8500891633938563"
            ]
          },
          "metadata": {}
        }
      ],
      "execution_count": 46,
      "metadata": {
        "collapsed": true,
        "jupyter": {
          "source_hidden": false,
          "outputs_hidden": false
        },
        "nteract": {
          "transient": {
            "deleting": false
          }
        },
        "execution": {
          "iopub.status.busy": "2020-06-07T03:20:58.522Z",
          "iopub.execute_input": "2020-06-07T03:20:58.527Z",
          "iopub.status.idle": "2020-06-07T03:20:58.542Z",
          "shell.execute_reply": "2020-06-07T03:20:58.546Z"
        }
      }
    },
    {
      "cell_type": "code",
      "source": [
        "x.max()"
      ],
      "outputs": [
        {
          "output_type": "execute_result",
          "execution_count": 47,
          "data": {
            "text/plain": [
              "2.923220092782452"
            ]
          },
          "metadata": {}
        }
      ],
      "execution_count": 47,
      "metadata": {
        "collapsed": true,
        "jupyter": {
          "source_hidden": false,
          "outputs_hidden": false
        },
        "nteract": {
          "transient": {
            "deleting": false
          }
        },
        "execution": {
          "iopub.status.busy": "2020-06-07T03:21:00.483Z",
          "iopub.execute_input": "2020-06-07T03:21:00.487Z",
          "iopub.status.idle": "2020-06-07T03:21:00.497Z",
          "shell.execute_reply": "2020-06-07T03:21:00.500Z"
        }
      }
    },
    {
      "cell_type": "code",
      "source": [
        "pops = simulate(num_gens=100, rate_min=x.min(), rate_max=3, num_rates=1000)"
      ],
      "outputs": [],
      "execution_count": 48,
      "metadata": {
        "collapsed": true,
        "jupyter": {
          "source_hidden": false,
          "outputs_hidden": false
        },
        "nteract": {
          "transient": {
            "deleting": false
          }
        },
        "execution": {
          "iopub.status.busy": "2020-06-07T03:21:07.473Z",
          "iopub.execute_input": "2020-06-07T03:21:07.480Z",
          "iopub.status.idle": "2020-06-07T03:21:07.792Z",
          "shell.execute_reply": "2020-06-07T03:21:07.801Z"
        }
      }
    },
    {
      "cell_type": "code",
      "source": [
        "from pynamical import logistic_map, simulate, bifurcation_plot\n",
        "bifurcation_plot(pops,xlabel=\"Time\", ylabel=\"Stock Growth\")"
      ],
      "outputs": [
        {
          "output_type": "display_data",
          "data": {
            "image/png": "[encoded data removed]",
            "text/plain": [
              "<Figure size 720x432 with 1 Axes>"
            ]
          },
          "metadata": {
            "needs_background": "light"
          }
        }
      ],
      "execution_count": 49,
      "metadata": {
        "collapsed": true,
        "jupyter": {
          "source_hidden": false,
          "outputs_hidden": false
        },
        "nteract": {
          "transient": {
            "deleting": false
          }
        },
        "execution": {
          "iopub.status.busy": "2020-06-07T03:21:11.327Z",
          "iopub.execute_input": "2020-06-07T03:21:11.331Z",
          "iopub.status.idle": "2020-06-07T03:21:17.028Z",
          "shell.execute_reply": "2020-06-07T03:21:17.041Z"
        }
      }
    }
  ],
  "metadata": {
    "kernel_info": {
      "name": "python3"
    },
    "language_info": {
      "name": "python",
      "version": "3.5.5",
      "nbconvert_exporter": "python",
      "mimetype": "text/x-python",
      "codemirror_mode": {
        "name": "ipython",
        "version": 3
      },
      "pygments_lexer": "ipython3",
      "file_extension": ".py"
    },
    "kernelspec": {
      "argv": [
        "C:\\Users\\Tin Hang\\Anaconda3\\envs\\py35\\python.exe",
        "-m",
        "ipykernel_launcher",
        "-f",
        "{connection_file}"
      ],
      "display_name": "Python 3",
      "language": "python",
      "name": "python3"
    },
    "nteract": {
      "version": "0.23.3"
    }
  },
  "nbformat": 4,
  "nbformat_minor": 0
}