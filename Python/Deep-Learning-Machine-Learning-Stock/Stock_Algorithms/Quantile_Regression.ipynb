{
  "cells": [
    {
      "cell_type": "markdown",
      "source": [
        "# Quantile Regression"
      ],
      "metadata": {}
    },
    {
      "cell_type": "markdown",
      "source": [
        "Quantile Regression is estimating either the condintional median or other quantiles of the response variable. This regression is used for when outliers, high skeweness and heteroscedasticity exist in the data. However, quantile regression predicts a quantile (or percentile) for a given indpedent variables.\n",
        "\n",
        "\n",
        "    1. Quite beneficial when heteroscedasticity is present in the data.\n",
        "    2. Robust to outliers\n",
        "    3. Distribution of dependent variable can be described via various quantiles.\n",
        "    5. It is more useful than linear regression when the data is skewed.\n"
      ],
      "metadata": {}
    },
    {
      "cell_type": "code",
      "source": [
        "import numpy as np\n",
        "import matplotlib.pyplot as plt\n",
        "import pandas as pd\n",
        "\n",
        "import warnings\n",
        "warnings.filterwarnings(\"ignore\")\n",
        "\n",
        "# fix_yahoo_finance is used to fetch data \n",
        "import fix_yahoo_finance as yf\n",
        "yf.pdr_override()"
      ],
      "outputs": [],
      "execution_count": 1,
      "metadata": {
        "collapsed": false,
        "outputHidden": false,
        "inputHidden": false
      }
    },
    {
      "cell_type": "code",
      "source": [
        "# input\n",
        "symbol = 'AMD'\n",
        "start = '2014-01-01'\n",
        "end = '2018-08-27'\n",
        "\n",
        "# Read data \n",
        "dataset = yf.download(symbol,start,end)\n",
        "\n",
        "# View Columns\n",
        "dataset.head()"
      ],
      "outputs": [
        {
          "output_type": "stream",
          "name": "stdout",
          "text": [
            "[*********************100%***********************]  1 of 1 downloaded\n"
          ]
        },
        {
          "output_type": "execute_result",
          "execution_count": 2,
          "data": {
            "text/html": [
              "<div>\n",
              "<style scoped>\n",
              "    .dataframe tbody tr th:only-of-type {\n",
              "        vertical-align: middle;\n",
              "    }\n",
              "\n",
              "    .dataframe tbody tr th {\n",
              "        vertical-align: top;\n",
              "    }\n",
              "\n",
              "    .dataframe thead th {\n",
              "        text-align: right;\n",
              "    }\n",
              "</style>\n",
              "<table border=\"1\" class=\"dataframe\">\n",
              "  <thead>\n",
              "    <tr style=\"text-align: right;\">\n",
              "      <th></th>\n",
              "      <th>Open</th>\n",
              "      <th>High</th>\n",
              "      <th>Low</th>\n",
              "      <th>Close</th>\n",
              "      <th>Adj Close</th>\n",
              "      <th>Volume</th>\n",
              "    </tr>\n",
              "    <tr>\n",
              "      <th>Date</th>\n",
              "      <th></th>\n",
              "      <th></th>\n",
              "      <th></th>\n",
              "      <th></th>\n",
              "      <th></th>\n",
              "      <th></th>\n",
              "    </tr>\n",
              "  </thead>\n",
              "  <tbody>\n",
              "    <tr>\n",
              "      <th>2014-01-02</th>\n",
              "      <td>3.85</td>\n",
              "      <td>3.98</td>\n",
              "      <td>3.84</td>\n",
              "      <td>3.95</td>\n",
              "      <td>3.95</td>\n",
              "      <td>20548400</td>\n",
              "    </tr>\n",
              "    <tr>\n",
              "      <th>2014-01-03</th>\n",
              "      <td>3.98</td>\n",
              "      <td>4.00</td>\n",
              "      <td>3.88</td>\n",
              "      <td>4.00</td>\n",
              "      <td>4.00</td>\n",
              "      <td>22887200</td>\n",
              "    </tr>\n",
              "    <tr>\n",
              "      <th>2014-01-06</th>\n",
              "      <td>4.01</td>\n",
              "      <td>4.18</td>\n",
              "      <td>3.99</td>\n",
              "      <td>4.13</td>\n",
              "      <td>4.13</td>\n",
              "      <td>42398300</td>\n",
              "    </tr>\n",
              "    <tr>\n",
              "      <th>2014-01-07</th>\n",
              "      <td>4.19</td>\n",
              "      <td>4.25</td>\n",
              "      <td>4.11</td>\n",
              "      <td>4.18</td>\n",
              "      <td>4.18</td>\n",
              "      <td>42932100</td>\n",
              "    </tr>\n",
              "    <tr>\n",
              "      <th>2014-01-08</th>\n",
              "      <td>4.23</td>\n",
              "      <td>4.26</td>\n",
              "      <td>4.14</td>\n",
              "      <td>4.18</td>\n",
              "      <td>4.18</td>\n",
              "      <td>30678700</td>\n",
              "    </tr>\n",
              "  </tbody>\n",
              "</table>\n",
              "</div>"
            ],
            "text/plain": [
              "            Open  High   Low  Close  Adj Close    Volume\n",
              "Date                                                    \n",
              "2014-01-02  3.85  3.98  3.84   3.95       3.95  20548400\n",
              "2014-01-03  3.98  4.00  3.88   4.00       4.00  22887200\n",
              "2014-01-06  4.01  4.18  3.99   4.13       4.13  42398300\n",
              "2014-01-07  4.19  4.25  4.11   4.18       4.18  42932100\n",
              "2014-01-08  4.23  4.26  4.14   4.18       4.18  30678700"
            ]
          },
          "metadata": {}
        }
      ],
      "execution_count": 2,
      "metadata": {
        "collapsed": false,
        "outputHidden": false,
        "inputHidden": false
      }
    },
    {
      "cell_type": "code",
      "source": [
        "X = dataset['Open']\n",
        "Y = dataset['Adj Close']"
      ],
      "outputs": [],
      "execution_count": 21,
      "metadata": {
        "collapsed": false,
        "outputHidden": false,
        "inputHidden": false
      }
    },
    {
      "cell_type": "code",
      "source": [
        "from statsmodels.regression.quantile_regression import QuantReg\n",
        "import statsmodels.formula.api as smf"
      ],
      "outputs": [],
      "execution_count": 4,
      "metadata": {
        "collapsed": false,
        "outputHidden": false,
        "inputHidden": false
      }
    },
    {
      "cell_type": "code",
      "source": [
        "quant = QuantReg(X, Y)"
      ],
      "outputs": [],
      "execution_count": 22,
      "metadata": {
        "collapsed": false,
        "outputHidden": false,
        "inputHidden": false
      }
    },
    {
      "cell_type": "code",
      "source": [
        "for q in np.linspace(0.05, 0.95, 10):\n",
        "    print(q)\n",
        "    print(quant.fit(q=q).summary())\n",
        "    print()\n",
        "    print()"
      ],
      "outputs": [
        {
          "output_type": "stream",
          "name": "stdout",
          "text": [
            "0.05\n",
            "                         QuantReg Regression Results                          \n",
            "==============================================================================\n",
            "Dep. Variable:                   Open   Pseudo R-squared:               0.9125\n",
            "Model:                       QuantReg   Bandwidth:                      0.1199\n",
            "Method:                 Least Squares   Sparsity:                        1.224\n",
            "Date:                Tue, 16 Oct 2018   No. Observations:                 1172\n",
            "Time:                        16:14:01   Df Residuals:                     1171\n",
            "                                        Df Model:                            1\n",
            "==============================================================================\n",
            "                 coef    std err          t      P>|t|      [0.025      0.975]\n",
            "------------------------------------------------------------------------------\n",
            "Adj Close      0.9521      0.001   1012.933      0.000       0.950       0.954\n",
            "==============================================================================\n",
            "\n",
            "\n",
            "0.15\n",
            "                         QuantReg Regression Results                          \n",
            "==============================================================================\n",
            "Dep. Variable:                   Open   Pseudo R-squared:               0.9387\n",
            "Model:                       QuantReg   Bandwidth:                     0.06405\n",
            "Method:                 Least Squares   Sparsity:                       0.4956\n",
            "Date:                Tue, 16 Oct 2018   No. Observations:                 1172\n",
            "Time:                        16:14:01   Df Residuals:                     1171\n",
            "                                        Df Model:                            1\n",
            "==============================================================================\n",
            "                 coef    std err          t      P>|t|      [0.025      0.975]\n",
            "------------------------------------------------------------------------------\n",
            "Adj Close      0.9749      0.001   1550.720      0.000       0.974       0.976\n",
            "==============================================================================\n",
            "\n",
            "\n",
            "0.25\n",
            "                         QuantReg Regression Results                          \n",
            "==============================================================================\n",
            "Dep. Variable:                   Open   Pseudo R-squared:               0.9497\n",
            "Model:                       QuantReg   Bandwidth:                     0.05545\n",
            "Method:                 Least Squares   Sparsity:                       0.3530\n",
            "Date:                Tue, 16 Oct 2018   No. Observations:                 1172\n",
            "Time:                        16:14:01   Df Residuals:                     1171\n",
            "                                        Df Model:                            1\n",
            "==============================================================================\n",
            "                 coef    std err          t      P>|t|      [0.025      0.975]\n",
            "------------------------------------------------------------------------------\n",
            "Adj Close      0.9847      0.001   1861.431      0.000       0.984       0.986\n",
            "==============================================================================\n",
            "\n",
            "\n",
            "0.35\n",
            "                         QuantReg Regression Results                          \n",
            "==============================================================================\n",
            "Dep. Variable:                   Open   Pseudo R-squared:               0.9572\n",
            "Model:                       QuantReg   Bandwidth:                     0.05242\n",
            "Method:                 Least Squares   Sparsity:                       0.2852\n",
            "Date:                Tue, 16 Oct 2018   No. Observations:                 1172\n",
            "Time:                        16:14:01   Df Residuals:                     1171\n",
            "                                        Df Model:                            1\n",
            "==============================================================================\n",
            "                 coef    std err          t      P>|t|      [0.025      0.975]\n",
            "------------------------------------------------------------------------------\n",
            "Adj Close      0.9911      0.000   2110.901      0.000       0.990       0.992\n",
            "==============================================================================\n",
            "\n",
            "\n",
            "0.44999999999999996\n",
            "                         QuantReg Regression Results                          \n",
            "==============================================================================\n",
            "Dep. Variable:                   Open   Pseudo R-squared:               0.9621\n",
            "Model:                       QuantReg   Bandwidth:                     0.05269\n",
            "Method:                 Least Squares   Sparsity:                       0.2726\n",
            "Date:                Tue, 16 Oct 2018   No. Observations:                 1172\n",
            "Time:                        16:14:01   Df Residuals:                     1171\n",
            "                                        Df Model:                            1\n",
            "==============================================================================\n",
            "                 coef    std err          t      P>|t|      [0.025      0.975]\n",
            "------------------------------------------------------------------------------\n",
            "Adj Close      0.9973      0.000   2146.381      0.000       0.996       0.998\n",
            "==============================================================================\n",
            "\n",
            "\n",
            "0.5499999999999999\n",
            "                         QuantReg Regression Results                          \n",
            "==============================================================================\n",
            "Dep. Variable:                   Open   Pseudo R-squared:               0.9666\n",
            "Model:                       QuantReg   Bandwidth:                     0.05593\n",
            "Method:                 Least Squares   Sparsity:                       0.2650\n",
            "Date:                Tue, 16 Oct 2018   No. Observations:                 1172\n",
            "Time:                        16:14:01   Df Residuals:                     1171\n",
            "                                        Df Model:                            1\n",
            "==============================================================================\n",
            "                 coef    std err          t      P>|t|      [0.025      0.975]\n",
            "------------------------------------------------------------------------------\n",
            "Adj Close      1.0024      0.000   2235.209      0.000       1.002       1.003\n",
            "==============================================================================\n",
            "\n",
            "\n",
            "0.65\n",
            "                         QuantReg Regression Results                          \n",
            "==============================================================================\n",
            "Dep. Variable:                   Open   Pseudo R-squared:               0.9676\n",
            "Model:                       QuantReg   Bandwidth:                     0.05568\n",
            "Method:                 Least Squares   Sparsity:                       0.2804\n",
            "Date:                Tue, 16 Oct 2018   No. Observations:                 1172\n",
            "Time:                        16:14:01   Df Residuals:                     1171\n",
            "                                        Df Model:                            1\n",
            "==============================================================================\n",
            "                 coef    std err          t      P>|t|      [0.025      0.975]\n",
            "------------------------------------------------------------------------------\n",
            "Adj Close      1.0083      0.000   2232.166      0.000       1.007       1.009\n",
            "==============================================================================\n",
            "\n",
            "\n",
            "0.75\n",
            "                         QuantReg Regression Results                          \n",
            "==============================================================================\n",
            "Dep. Variable:                   Open   Pseudo R-squared:               0.9652\n",
            "Model:                       QuantReg   Bandwidth:                     0.05725\n",
            "Method:                 Least Squares   Sparsity:                       0.3430\n",
            "Date:                Tue, 16 Oct 2018   No. Observations:                 1172\n",
            "Time:                        16:14:01   Df Residuals:                     1171\n",
            "                                        Df Model:                            1\n",
            "==============================================================================\n",
            "                 coef    std err          t      P>|t|      [0.025      0.975]\n",
            "------------------------------------------------------------------------------\n",
            "Adj Close      1.0156      0.001   2018.731      0.000       1.015       1.017\n",
            "==============================================================================\n",
            "\n",
            "\n",
            "0.85\n",
            "                         QuantReg Regression Results                          \n",
            "==============================================================================\n",
            "Dep. Variable:                   Open   Pseudo R-squared:               0.9624\n",
            "Model:                       QuantReg   Bandwidth:                     0.06966\n",
            "Method:                 Least Squares   Sparsity:                       0.4854\n",
            "Date:                Tue, 16 Oct 2018   No. Observations:                 1172\n",
            "Time:                        16:14:01   Df Residuals:                     1171\n",
            "                                        Df Model:                            1\n",
            "==============================================================================\n",
            "                 coef    std err          t      P>|t|      [0.025      0.975]\n",
            "------------------------------------------------------------------------------\n",
            "Adj Close      1.0263      0.001   1747.975      0.000       1.025       1.027\n",
            "==============================================================================\n",
            "\n",
            "\n",
            "0.95\n",
            "                         QuantReg Regression Results                          \n",
            "==============================================================================\n",
            "Dep. Variable:                   Open   Pseudo R-squared:               0.9594\n",
            "Model:                       QuantReg   Bandwidth:                      0.1083\n",
            "Method:                 Least Squares   Sparsity:                       0.9807\n",
            "Date:                Tue, 16 Oct 2018   No. Observations:                 1172\n",
            "Time:                        16:14:01   Df Residuals:                     1171\n",
            "                                        Df Model:                            1\n",
            "==============================================================================\n",
            "                 coef    std err          t      P>|t|      [0.025      0.975]\n",
            "------------------------------------------------------------------------------\n",
            "Adj Close      1.0440      0.001   1418.327      0.000       1.043       1.045\n",
            "==============================================================================\n",
            "\n",
            "\n"
          ]
        }
      ],
      "execution_count": 6,
      "metadata": {
        "collapsed": false,
        "outputHidden": false,
        "inputHidden": false
      }
    },
    {
      "cell_type": "code",
      "source": [
        "mod = smf.quantreg('Close ~ Open + High + Low', dataset)\n",
        "res = mod.fit(q=.5)\n",
        "res.summary()"
      ],
      "outputs": [
        {
          "output_type": "execute_result",
          "execution_count": 11,
          "data": {
            "text/html": [
              "<table class=\"simpletable\">\n",
              "<caption>QuantReg Regression Results</caption>\n",
              "<tr>\n",
              "  <th>Dep. Variable:</th>       <td>Close</td>      <th>  Pseudo R-squared:  </th> <td>  0.9846</td>\n",
              "</tr>\n",
              "<tr>\n",
              "  <th>Model:</th>             <td>QuantReg</td>     <th>  Bandwidth:         </th> <td> 0.02332</td>\n",
              "</tr>\n",
              "<tr>\n",
              "  <th>Method:</th>          <td>Least Squares</td>  <th>  Sparsity:          </th> <td>  0.1217</td>\n",
              "</tr>\n",
              "<tr>\n",
              "  <th>Date:</th>          <td>Tue, 16 Oct 2018</td> <th>  No. Observations:  </th>  <td>  1172</td> \n",
              "</tr>\n",
              "<tr>\n",
              "  <th>Time:</th>              <td>16:14:44</td>     <th>  Df Residuals:      </th>  <td>  1168</td> \n",
              "</tr>\n",
              "<tr>\n",
              "  <th> </th>                      <td> </td>        <th>  Df Model:          </th>  <td>     3</td> \n",
              "</tr>\n",
              "</table>\n",
              "<table class=\"simpletable\">\n",
              "<tr>\n",
              "      <td></td>         <th>coef</th>     <th>std err</th>      <th>t</th>      <th>P>|t|</th>  <th>[0.025</th>    <th>0.975]</th>  \n",
              "</tr>\n",
              "<tr>\n",
              "  <th>Intercept</th> <td>   -0.0061</td> <td>    0.003</td> <td>   -1.950</td> <td> 0.051</td> <td>   -0.012</td> <td>  3.8e-05</td>\n",
              "</tr>\n",
              "<tr>\n",
              "  <th>Open</th>      <td>   -0.6172</td> <td>    0.013</td> <td>  -47.655</td> <td> 0.000</td> <td>   -0.643</td> <td>   -0.592</td>\n",
              "</tr>\n",
              "<tr>\n",
              "  <th>High</th>      <td>    0.8462</td> <td>    0.012</td> <td>   72.067</td> <td> 0.000</td> <td>    0.823</td> <td>    0.869</td>\n",
              "</tr>\n",
              "<tr>\n",
              "  <th>Low</th>       <td>    0.7706</td> <td>    0.012</td> <td>   62.130</td> <td> 0.000</td> <td>    0.746</td> <td>    0.795</td>\n",
              "</tr>\n",
              "</table>"
            ],
            "text/plain": [
              "<class 'statsmodels.iolib.summary.Summary'>\n",
              "\"\"\"\n",
              "                         QuantReg Regression Results                          \n",
              "==============================================================================\n",
              "Dep. Variable:                  Close   Pseudo R-squared:               0.9846\n",
              "Model:                       QuantReg   Bandwidth:                     0.02332\n",
              "Method:                 Least Squares   Sparsity:                       0.1217\n",
              "Date:                Tue, 16 Oct 2018   No. Observations:                 1172\n",
              "Time:                        16:14:44   Df Residuals:                     1168\n",
              "                                        Df Model:                            3\n",
              "==============================================================================\n",
              "                 coef    std err          t      P>|t|      [0.025      0.975]\n",
              "------------------------------------------------------------------------------\n",
              "Intercept     -0.0061      0.003     -1.950      0.051      -0.012     3.8e-05\n",
              "Open          -0.6172      0.013    -47.655      0.000      -0.643      -0.592\n",
              "High           0.8462      0.012     72.067      0.000       0.823       0.869\n",
              "Low            0.7706      0.012     62.130      0.000       0.746       0.795\n",
              "==============================================================================\n",
              "\"\"\""
            ]
          },
          "metadata": {}
        }
      ],
      "execution_count": 11,
      "metadata": {
        "collapsed": false,
        "outputHidden": false,
        "inputHidden": false
      }
    },
    {
      "cell_type": "code",
      "source": [
        "X = np.array(dataset['Open'], dtype=np.float64)\n",
        "Y = np.array(dataset['Adj Close'], dtype=np.float64)"
      ],
      "outputs": [],
      "execution_count": 28,
      "metadata": {
        "collapsed": false,
        "outputHidden": false,
        "inputHidden": false
      }
    },
    {
      "cell_type": "code",
      "source": [
        "res = QuantReg(Y, X).fit(0.5, bandwidth='chamberlain')\n",
        "res.summary()"
      ],
      "outputs": [
        {
          "output_type": "execute_result",
          "execution_count": 29,
          "data": {
            "text/html": [
              "<table class=\"simpletable\">\n",
              "<caption>QuantReg Regression Results</caption>\n",
              "<tr>\n",
              "  <th>Dep. Variable:</th>         <td>y</td>        <th>  Pseudo R-squared:  </th> <td>  0.9646</td>\n",
              "</tr>\n",
              "<tr>\n",
              "  <th>Model:</th>             <td>QuantReg</td>     <th>  Bandwidth:         </th> <td> 0.01715</td>\n",
              "</tr>\n",
              "<tr>\n",
              "  <th>Method:</th>          <td>Least Squares</td>  <th>  Sparsity:          </th> <td>  0.2686</td>\n",
              "</tr>\n",
              "<tr>\n",
              "  <th>Date:</th>          <td>Tue, 16 Oct 2018</td> <th>  No. Observations:  </th>  <td>  1172</td> \n",
              "</tr>\n",
              "<tr>\n",
              "  <th>Time:</th>              <td>16:42:46</td>     <th>  Df Residuals:      </th>  <td>  1171</td> \n",
              "</tr>\n",
              "<tr>\n",
              "  <th> </th>                      <td> </td>        <th>  Df Model:          </th>  <td>     1</td> \n",
              "</tr>\n",
              "</table>\n",
              "<table class=\"simpletable\">\n",
              "<tr>\n",
              "   <td></td>     <th>coef</th>     <th>std err</th>      <th>t</th>      <th>P>|t|</th>  <th>[0.025</th>    <th>0.975]</th>  \n",
              "</tr>\n",
              "<tr>\n",
              "  <th>x1</th> <td>    1.0000</td> <td>    0.000</td> <td> 2177.970</td> <td> 0.000</td> <td>    0.999</td> <td>    1.001</td>\n",
              "</tr>\n",
              "</table>"
            ],
            "text/plain": [
              "<class 'statsmodels.iolib.summary.Summary'>\n",
              "\"\"\"\n",
              "                         QuantReg Regression Results                          \n",
              "==============================================================================\n",
              "Dep. Variable:                      y   Pseudo R-squared:               0.9646\n",
              "Model:                       QuantReg   Bandwidth:                     0.01715\n",
              "Method:                 Least Squares   Sparsity:                       0.2686\n",
              "Date:                Tue, 16 Oct 2018   No. Observations:                 1172\n",
              "Time:                        16:42:46   Df Residuals:                     1171\n",
              "                                        Df Model:                            1\n",
              "==============================================================================\n",
              "                 coef    std err          t      P>|t|      [0.025      0.975]\n",
              "------------------------------------------------------------------------------\n",
              "x1             1.0000      0.000   2177.970      0.000       0.999       1.001\n",
              "==============================================================================\n",
              "\"\"\""
            ]
          },
          "metadata": {}
        }
      ],
      "execution_count": 29,
      "metadata": {
        "collapsed": false,
        "outputHidden": false,
        "inputHidden": false
      }
    },
    {
      "cell_type": "code",
      "source": [
        "print(\"estimated coefficients: \", res.params) "
      ],
      "outputs": [
        {
          "output_type": "stream",
          "name": "stdout",
          "text": [
            "estimated coefficients:  [0.99999905]\n"
          ]
        }
      ],
      "execution_count": 56,
      "metadata": {
        "collapsed": false,
        "outputHidden": false,
        "inputHidden": false
      }
    },
    {
      "cell_type": "code",
      "source": [
        "predictions = res.predict(Y)\n",
        "predictions"
      ],
      "outputs": [
        {
          "output_type": "execute_result",
          "execution_count": 57,
          "data": {
            "text/plain": [
              "array([ 3.94999625,  3.99999621,  4.12999608, ..., 22.28997986,\n",
              "       23.97997725, 25.25997604])"
            ]
          },
          "metadata": {}
        }
      ],
      "execution_count": 57,
      "metadata": {
        "collapsed": false,
        "outputHidden": false,
        "inputHidden": false
      }
    },
    {
      "cell_type": "code",
      "source": [
        "plt.scatter(X,Y)\n",
        "plt.plot(predictions)"
      ],
      "outputs": [
        {
          "output_type": "execute_result",
          "execution_count": 58,
          "data": {
            "text/plain": [
              "[<matplotlib.lines.Line2D at 0x186775ffd30>]"
            ]
          },
          "metadata": {}
        },
        {
          "output_type": "display_data",
          "data": {
            "text/plain": [
              "<Figure size 432x288 with 1 Axes>"
            ],
            "image/png": "[encoded data removed]"
          },
          "metadata": {}
        }
      ],
      "execution_count": 58,
      "metadata": {
        "collapsed": false,
        "outputHidden": false,
        "inputHidden": false
      }
    },
    {
      "cell_type": "code",
      "source": [
        "plt.plot(X, predictions, color='g')"
      ],
      "outputs": [
        {
          "output_type": "execute_result",
          "execution_count": 59,
          "data": {
            "text/plain": [
              "[<matplotlib.lines.Line2D at 0x1867760f7f0>]"
            ]
          },
          "metadata": {}
        },
        {
          "output_type": "display_data",
          "data": {
            "text/plain": [
              "<Figure size 432x288 with 1 Axes>"
            ],
            "image/png": "[encoded data removed]"
          },
          "metadata": {}
        }
      ],
      "execution_count": 59,
      "metadata": {
        "collapsed": false,
        "outputHidden": false,
        "inputHidden": false
      }
    },
    {
      "cell_type": "code",
      "source": [
        "mod = smf.quantreg('Close ~ Open', dataset)\n",
        "res = mod.fit(q=.5)\n",
        "res.summary()\n",
        "\n",
        "quantiles = np.arange(.05, .96, .1)\n",
        "def fit_model(q):\n",
        "    res = mod.fit(q=q)\n",
        "    return [q, res.params['Intercept'], res.params['Open']] + \\\n",
        "            res.conf_int().loc['Open'].tolist()\n",
        "    \n",
        "models = [fit_model(x) for x in quantiles]\n",
        "models = pd.DataFrame(models, columns=['q', 'a', 'b','lb','ub'])\n",
        "\n",
        "ols = smf.ols('Close ~ Open', dataset).fit()\n",
        "ols_ci = ols.conf_int().loc['Open'].tolist()\n",
        "ols = dict(a = ols.params['Intercept'],\n",
        "           b = ols.params['Open'],\n",
        "           lb = ols_ci[0],\n",
        "           ub = ols_ci[1])\n",
        "\n",
        "print(models)\n",
        "print(ols)"
      ],
      "outputs": [
        {
          "output_type": "stream",
          "name": "stdout",
          "text": [
            "      q         a         b        lb        ub\n",
            "0  0.05  0.001422  0.956459  0.953780  0.959138\n",
            "1  0.15  0.002624  0.973185  0.971156  0.975214\n",
            "2  0.25 -0.001128  0.983687  0.981911  0.985463\n",
            "3  0.35 -0.000974  0.991150  0.989577  0.992724\n",
            "4  0.45 -0.005219  0.997903  0.996358  0.999449\n",
            "5  0.55  0.001193  1.002294  1.000702  1.003885\n",
            "6  0.65 -0.002310  1.008613  1.007020  1.010207\n",
            "7  0.75  0.004935  1.013916  1.012101  1.015731\n",
            "8  0.85 -0.002257  1.025515  1.023353  1.027678\n",
            "9  0.95  0.017680  1.045930  1.041683  1.050177\n",
            "{'a': 4.270073805337504e-05, 'b': 1.0002530247743395, 'lb': 0.9974880736735984, 'ub': 1.0030179758750808}\n"
          ]
        }
      ],
      "execution_count": 66,
      "metadata": {
        "collapsed": false,
        "outputHidden": false,
        "inputHidden": false
      }
    },
    {
      "cell_type": "code",
      "source": [
        "x = np.arange(dataset.Open.min(), dataset.Open.max(), 20)\n",
        "get_y = lambda a, b: a + b * x\n",
        "\n",
        "fig, ax = plt.subplots(figsize=(8, 6))\n",
        "\n",
        "for i in range(models.shape[0]):\n",
        "    y = get_y(models.a[i], models.b[i])\n",
        "    ax.plot(x, y, linestyle='dotted', color='grey')\n",
        "    \n",
        "y = get_y(ols['a'], ols['b'])\n",
        "\n",
        "ax.plot(x, y, color='red', label='OLS')\n",
        "ax.scatter(dataset.Open, dataset.Close, alpha=.2)\n",
        "ax.set_xlim((1, 24))\n",
        "ax.set_ylim((1, 24))\n",
        "legend = ax.legend()\n",
        "ax.set_xlabel('Open', fontsize=16)\n",
        "ax.set_ylabel('Close', fontsize=16);"
      ],
      "outputs": [
        {
          "output_type": "display_data",
          "data": {
            "text/plain": [
              "<Figure size 576x432 with 1 Axes>"
            ],
            "image/png": "[encoded data removed]"
          },
          "metadata": {}
        }
      ],
      "execution_count": 77,
      "metadata": {
        "collapsed": false,
        "outputHidden": false,
        "inputHidden": false
      }
    },
    {
      "cell_type": "code",
      "source": [
        "n = models.shape[0]\n",
        "p1 = plt.plot(models.q, models.b, color='black', label='Quantile Reg.')\n",
        "p2 = plt.plot(models.q, models.ub, linestyle='dotted', color='black')\n",
        "p3 = plt.plot(models.q, models.lb, linestyle='dotted', color='black')\n",
        "p4 = plt.plot(models.q, [ols['b']] * n, color='red', label='OLS')\n",
        "p5 = plt.plot(models.q, [ols['lb']] * n, linestyle='dotted', color='red')\n",
        "p6 = plt.plot(models.q, [ols['ub']] * n, linestyle='dotted', color='red')\n",
        "plt.ylabel(r'$\\beta_{Open}$')\n",
        "plt.xlabel('Quantiles of the conditional Close distribution')\n",
        "plt.legend()\n",
        "plt.show()"
      ],
      "outputs": [
        {
          "output_type": "display_data",
          "data": {
            "text/plain": [
              "<Figure size 432x288 with 1 Axes>"
            ],
            "image/png": "[encoded data removed]"
          },
          "metadata": {}
        }
      ],
      "execution_count": 78,
      "metadata": {
        "collapsed": false,
        "outputHidden": false,
        "inputHidden": false
      }
    }
  ],
  "metadata": {
    "kernel_info": {
      "name": "python3"
    },
    "language_info": {
      "mimetype": "text/x-python",
      "name": "python",
      "file_extension": ".py",
      "version": "3.5.5",
      "codemirror_mode": {
        "name": "ipython",
        "version": 3
      },
      "nbconvert_exporter": "python",
      "pygments_lexer": "ipython3"
    },
    "kernelspec": {
      "name": "python3",
      "language": "python",
      "display_name": "Python 3"
    },
    "nteract": {
      "version": "0.23.1"
    }
  },
  "nbformat": 4,
  "nbformat_minor": 4
}