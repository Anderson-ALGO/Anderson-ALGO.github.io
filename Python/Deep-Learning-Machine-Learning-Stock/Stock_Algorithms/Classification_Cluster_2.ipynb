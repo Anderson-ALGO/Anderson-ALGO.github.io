{
  "cells": [
    {
      "cell_type": "markdown",
      "source": [
        "# Classification Cluster Part 2"
      ],
      "metadata": {}
    },
    {
      "cell_type": "code",
      "source": [
        "import numpy as np\n",
        "import matplotlib.pyplot as plt\n",
        "import pandas as pd\n",
        "\n",
        "import warnings\n",
        "warnings.filterwarnings(\"ignore\")\n",
        "\n",
        "# fix_yahoo_finance is used to fetch data \n",
        "import fix_yahoo_finance as yf\n",
        "yf.pdr_override()"
      ],
      "outputs": [],
      "execution_count": 1,
      "metadata": {
        "collapsed": false,
        "outputHidden": false,
        "inputHidden": false
      }
    },
    {
      "cell_type": "code",
      "source": [
        "stocks_dict = {\n",
        "    'Advanced Micro Devices':'AMD',\n",
        "    'Amazon': 'AMZN',\n",
        "    'Apple': 'AAPL',\n",
        "    'Walgreen': 'WBA',\n",
        "    'Northrop Grumman': 'NOC',\n",
        "    'Boeing': 'BA',\n",
        "    'Lockheed Martin': 'LMT',\n",
        "    'McDonalds':  'MCD',\n",
        "    'Intel': 'INTC',\n",
        "    'Navistar': 'NAV',\n",
        "    'IBM': 'IBM',\n",
        "    'Texas Instruments': 'TXN',\n",
        "    'MasterCard': 'MA',\n",
        "    'Microsoft': 'MSFT',\n",
        "    'General Electrics': 'GE',\n",
        "    'Symantec': 'SYMC',\n",
        "    'American Express': 'AXP',\n",
        "    'Pepsi': 'PEP',\n",
        "    'Coca Cola': 'KO',\n",
        "    'Johnson & Johnson': 'JNJ',\n",
        "    'Toyota': 'TM',\n",
        "    'Honda': 'HMC',\n",
        "    'Mistubishi': 'MSBHY',\n",
        "    'Sony': 'SNE',\n",
        "    'Exxon': 'XOM',\n",
        "    'Chevron': 'CVX',\n",
        "    'Valero Energy': 'VLO',\n",
        "    'Ford': 'F',\n",
        "    'Bank of America': 'BAC', \n",
        "    'Petrobras': 'PBR',\n",
        "    'Vale': 'VALE'}"
      ],
      "outputs": [],
      "execution_count": 2,
      "metadata": {
        "collapsed": false,
        "outputHidden": false,
        "inputHidden": false
      }
    },
    {
      "cell_type": "code",
      "source": [
        "# Split dict into list of companies and symbols\n",
        "names, symbols = np.array(list(stocks_dict.items())).T"
      ],
      "outputs": [],
      "execution_count": 3,
      "metadata": {
        "collapsed": false,
        "outputHidden": false,
        "inputHidden": false
      }
    },
    {
      "cell_type": "code",
      "source": [
        "start = '2017-01-01'\n",
        "end = '2017-12-31'\n",
        "\n",
        "print(\"Downloading values for period %s to %s:\" % (start, end))\n",
        "dataset = [yf.download(symbol,start,end) for symbol in symbols]\n",
        "print(\"Done!\")"
      ],
      "outputs": [
        {
          "output_type": "stream",
          "name": "stdout",
          "text": [
            "Downloading values for period 2017-01-01 to 2017-12-31:\n",
            "[*********************100%***********************]  1 of 1 downloaded\n",
            "[*********************100%***********************]  1 of 1 downloaded\n",
            "[*********************100%***********************]  1 of 1 downloaded\n",
            "[*********************100%***********************]  1 of 1 downloaded\n",
            "[*********************100%***********************]  1 of 1 downloaded\n",
            "[*********************100%***********************]  1 of 1 downloaded\n",
            "[*********************100%***********************]  1 of 1 downloaded\n",
            "[*********************100%***********************]  1 of 1 downloaded\n",
            "[*********************100%***********************]  1 of 1 downloaded\n",
            "[*********************100%***********************]  1 of 1 downloaded\n",
            "[*********************100%***********************]  1 of 1 downloaded\n",
            "[*********************100%***********************]  1 of 1 downloaded\n",
            "[*********************100%***********************]  1 of 1 downloaded\n",
            "[*********************100%***********************]  1 of 1 downloaded\n",
            "[*********************100%***********************]  1 of 1 downloaded\n",
            "[*********************100%***********************]  1 of 1 downloaded\n",
            "[*********************100%***********************]  1 of 1 downloaded\n",
            "[*********************100%***********************]  1 of 1 downloaded\n",
            "[*********************100%***********************]  1 of 1 downloaded\n",
            "[*********************100%***********************]  1 of 1 downloaded\n",
            "[*********************100%***********************]  1 of 1 downloaded\n",
            "[*********************100%***********************]  1 of 1 downloaded\n",
            "[*********************100%***********************]  1 of 1 downloaded\n",
            "[*********************100%***********************]  1 of 1 downloaded\n",
            "[*********************100%***********************]  1 of 1 downloaded\n",
            "[*********************100%***********************]  1 of 1 downloaded\n",
            "[*********************100%***********************]  1 of 1 downloaded\n",
            "[*********************100%***********************]  1 of 1 downloaded\n",
            "[*********************100%***********************]  1 of 1 downloaded\n",
            "[*********************100%***********************]  1 of 1 downloaded\n",
            "[*********************100%***********************]  1 of 1 downloaded\n",
            "Done!\n"
          ]
        }
      ],
      "execution_count": 5,
      "metadata": {
        "collapsed": false,
        "outputHidden": false,
        "inputHidden": false
      }
    },
    {
      "cell_type": "code",
      "source": [
        "# Get opening price\n",
        "open_price = np.array([p[\"Open\"] for p in dataset]).astype(np.float)\n",
        "\n",
        "# Get closing price\n",
        "close_price = np.array([p[\"Adj Close\"] for p in dataset]).astype(np.float)"
      ],
      "outputs": [],
      "execution_count": 7,
      "metadata": {
        "collapsed": false,
        "outputHidden": false,
        "inputHidden": false
      }
    },
    {
      "cell_type": "code",
      "source": [
        "# Calculate percent change\n",
        "X = (close_price - open_price) / open_price"
      ],
      "outputs": [],
      "execution_count": 8,
      "metadata": {
        "collapsed": false,
        "outputHidden": false,
        "inputHidden": false
      }
    },
    {
      "cell_type": "code",
      "source": [
        "from sklearn.cluster import KMeans\n",
        "\n",
        "# Define the number of clusters in a variable 'n_clusters'\n",
        "n_clusters = 12\n",
        "\n",
        "# Cluster the data\n",
        "kmeans = KMeans(n_clusters)\n",
        "kmeans.fit(X)"
      ],
      "outputs": [
        {
          "output_type": "execute_result",
          "execution_count": 10,
          "data": {
            "text/plain": [
              "KMeans(algorithm='auto', copy_x=True, init='k-means++', max_iter=300,\n",
              "    n_clusters=12, n_init=10, n_jobs=1, precompute_distances='auto',\n",
              "    random_state=None, tol=0.0001, verbose=0)"
            ]
          },
          "metadata": {}
        }
      ],
      "execution_count": 10,
      "metadata": {
        "collapsed": false,
        "outputHidden": false,
        "inputHidden": false
      }
    },
    {
      "cell_type": "code",
      "source": [
        "# Print results\n",
        "labels = kmeans.labels_\n",
        "for i in range(n_clusters):\n",
        "    print('Cluster %i: %s' % ((i + 1), ', '.join(names[labels == i])))"
      ],
      "outputs": [
        {
          "output_type": "stream",
          "name": "stdout",
          "text": [
            "Cluster 1: Honda, Lockheed Martin, Intel, McDonalds, Toyota, Johnson & Johnson, Texas Instruments\n",
            "Cluster 2: Navistar\n",
            "Cluster 3: General Electrics\n",
            "Cluster 4: MasterCard, Sony, Amazon\n",
            "Cluster 5: Microsoft, Northrop Grumman, Boeing, Bank of America, Symantec, American Express, Apple\n",
            "Cluster 6: Advanced Micro Devices\n",
            "Cluster 7: Vale\n",
            "Cluster 8: Exxon, Chevron, IBM\n",
            "Cluster 9: Pepsi, Coca Cola, Mistubishi, Valero Energy\n",
            "Cluster 10: Walgreen\n",
            "Cluster 11: Petrobras\n",
            "Cluster 12: Ford\n"
          ]
        }
      ],
      "execution_count": 11,
      "metadata": {
        "collapsed": false,
        "outputHidden": false,
        "inputHidden": false
      }
    },
    {
      "cell_type": "code",
      "source": [
        "min_clusters = 1\n",
        "max_clusters = 20\n",
        "distortions = []\n",
        "for i in range(min_clusters, max_clusters+1):\n",
        "    km = KMeans(n_clusters=i,\n",
        "                init='k-means++',\n",
        "                n_init=10,\n",
        "                max_iter=300,\n",
        "                random_state=0)\n",
        "    km.fit(X)\n",
        "    distortions.append(km.inertia_)\n",
        "    \n",
        "# Plot\n",
        "plt.plot(range(min_clusters, max_clusters+1), distortions, marker='o')\n",
        "plt.xlabel(\"Number of clusters\")\n",
        "plt.ylabel(\"Distortion\")\n",
        "plt.show()"
      ],
      "outputs": [
        {
          "output_type": "display_data",
          "data": {
            "image/png": "[encoded data removed]",
            "text/plain": [
              "<Figure size 432x288 with 1 Axes>"
            ]
          },
          "metadata": {}
        }
      ],
      "execution_count": 12,
      "metadata": {
        "collapsed": false,
        "outputHidden": false,
        "inputHidden": false
      }
    },
    {
      "cell_type": "code",
      "source": [
        "from sklearn.pipeline import make_pipeline\n",
        "from sklearn.cluster import KMeans\n",
        "from sklearn.preprocessing import Normalizer\n",
        "\n",
        "\n",
        "normalizer = Normalizer()\n",
        "\n",
        "# Create a KMeans model - 10 clusters\n",
        "kmeans = KMeans(n_clusters=10, max_iter = 1000)\n",
        "\n",
        "# Make a pipeline chaining normalizer and kmeans\n",
        "pipeline = make_pipeline(normalizer, kmeans)"
      ],
      "outputs": [],
      "execution_count": 13,
      "metadata": {
        "collapsed": false,
        "outputHidden": false,
        "inputHidden": false
      }
    },
    {
      "cell_type": "code",
      "source": [
        "pipeline.fit(X)"
      ],
      "outputs": [
        {
          "output_type": "execute_result",
          "execution_count": 14,
          "data": {
            "text/plain": [
              "Pipeline(memory=None,\n",
              "     steps=[('normalizer', Normalizer(copy=True, norm='l2')), ('kmeans', KMeans(algorithm='auto', copy_x=True, init='k-means++', max_iter=1000,\n",
              "    n_clusters=10, n_init=10, n_jobs=1, precompute_distances='auto',\n",
              "    random_state=None, tol=0.0001, verbose=0))])"
            ]
          },
          "metadata": {}
        }
      ],
      "execution_count": 14,
      "metadata": {
        "collapsed": false,
        "outputHidden": false,
        "inputHidden": false
      }
    },
    {
      "cell_type": "code",
      "source": [
        "print(kmeans.inertia_)"
      ],
      "outputs": [
        {
          "output_type": "stream",
          "name": "stdout",
          "text": [
            "1.0479387315234514\n"
          ]
        }
      ],
      "execution_count": 16,
      "metadata": {
        "collapsed": false,
        "outputHidden": false,
        "inputHidden": false
      }
    },
    {
      "cell_type": "code",
      "source": [
        "labels = pipeline.predict(X)\n",
        "\n",
        "df = pd.DataFrame({'labels':labels,'companies':names})\n",
        "\n",
        "print(df.sort_values('labels'))"
      ],
      "outputs": [
        {
          "output_type": "stream",
          "name": "stdout",
          "text": [
            "                 companies  labels\n",
            "0                Microsoft       0\n",
            "25                    Vale       0\n",
            "24           Valero Energy       0\n",
            "22       General Electrics       0\n",
            "20              Mistubishi       0\n",
            "19                     IBM       0\n",
            "18                Walgreen       0\n",
            "29       Johnson & Johnson       0\n",
            "12                  Boeing       0\n",
            "11               Coca Cola       0\n",
            "15                  Toyota       0\n",
            "9                McDonalds       0\n",
            "2                    Honda       0\n",
            "3          Lockheed Martin       0\n",
            "10                   Pepsi       0\n",
            "5         Northrop Grumman       0\n",
            "6                    Exxon       0\n",
            "4                     Ford       0\n",
            "7                    Intel       0\n",
            "8                  Chevron       0\n",
            "30       Texas Instruments       0\n",
            "27                  Amazon       1\n",
            "17                Navistar       2\n",
            "1                Petrobras       3\n",
            "26                    Sony       4\n",
            "21  Advanced Micro Devices       5\n",
            "14              MasterCard       6\n",
            "28                   Apple       7\n",
            "16                Symantec       8\n",
            "13         Bank of America       9\n",
            "23        American Express       9\n"
          ]
        }
      ],
      "execution_count": 18,
      "metadata": {
        "collapsed": false,
        "outputHidden": false,
        "inputHidden": false
      }
    },
    {
      "cell_type": "code",
      "source": [
        "from sklearn.preprocessing import Normalizer\n",
        "\n",
        "normalizer = Normalizer()\n",
        "new_X = normalizer.fit_transform(X)\n",
        "\n",
        "print(new_X.max())\n",
        "print(new_X.min())\n",
        "print(new_X.mean())"
      ],
      "outputs": [
        {
          "output_type": "stream",
          "name": "stdout",
          "text": [
            "0.290510178654611\n",
            "-0.28571025102742664\n",
            "-0.05092923629722951\n"
          ]
        }
      ],
      "execution_count": 21,
      "metadata": {
        "collapsed": false,
        "outputHidden": false,
        "inputHidden": false
      }
    },
    {
      "cell_type": "code",
      "source": [
        "from sklearn.decomposition import PCA\n",
        "\n",
        "#visualize the results on PCA-reduced data\n",
        "reduced_data = PCA(n_components = 2).fit_transform(new_X)\n",
        "\n",
        "#run kmeans on the reduced data\n",
        "kmeans = KMeans(n_clusters =10)\n",
        "kmeans.fit(reduced_data)\n",
        "labels = kmeans.predict(reduced_data)\n",
        "\n",
        "print(kmeans.inertia_)\n",
        "\n",
        "#Create a dataframe\n",
        "\n",
        "df = pd.DataFrame({'labels':labels,'companies':names})\n",
        "\n",
        "#sorted by cluster labels\n",
        "print(df.sort_values('labels'))"
      ],
      "outputs": [
        {
          "output_type": "stream",
          "name": "stdout",
          "text": [
            "0.021621993804491726\n",
            "                 companies  labels\n",
            "24           Valero Energy       0\n",
            "4                     Ford       0\n",
            "22       General Electrics       0\n",
            "6                    Exxon       0\n",
            "8                  Chevron       0\n",
            "19                     IBM       0\n",
            "21  Advanced Micro Devices       1\n",
            "1                Petrobras       2\n",
            "28                   Apple       3\n",
            "16                Symantec       3\n",
            "17                Navistar       4\n",
            "0                Microsoft       5\n",
            "30       Texas Instruments       5\n",
            "5         Northrop Grumman       5\n",
            "14              MasterCard       6\n",
            "26                    Sony       6\n",
            "27                  Amazon       7\n",
            "13         Bank of America       8\n",
            "25                    Vale       8\n",
            "2                    Honda       9\n",
            "3          Lockheed Martin       9\n",
            "23        American Express       9\n",
            "7                    Intel       9\n",
            "20              Mistubishi       9\n",
            "9                McDonalds       9\n",
            "18                Walgreen       9\n",
            "10                   Pepsi       9\n",
            "11               Coca Cola       9\n",
            "29       Johnson & Johnson       9\n",
            "12                  Boeing       9\n",
            "15                  Toyota       9\n"
          ]
        }
      ],
      "execution_count": 22,
      "metadata": {
        "collapsed": false,
        "outputHidden": false,
        "inputHidden": false
      }
    },
    {
      "cell_type": "code",
      "source": [
        "\n",
        "\n",
        "#step size of mesh\n",
        "h = 0.01\n",
        "\n",
        "#plot decision boundary\n",
        "x_min =  reduced_data[:,0].min() -1\n",
        "x_max = reduced_data[:,0].max() +1\n",
        "\n",
        "y_min = reduced_data[:,1].min()-1\n",
        "y_max = reduced_data[:,1].max()+1\n",
        "\n",
        "xx, yy = np.meshgrid(np.arange(x_min,x_max,h), np.arange(y_min,y_max,h))\n",
        "\n",
        "#obtain labels for each point in the mesh\n",
        "\n",
        "Z = kmeans.predict(np.c_[xx.ravel(),yy.ravel()])\n",
        "\n",
        "#result into a color plot\n",
        "\n",
        "Z = Z.reshape(xx.shape)\n",
        "\n",
        "#define color plot\n",
        "cmap = plt.cm.Paired\n",
        "\n",
        "#plotting figure\n",
        "plt.clf()\n",
        "plt.figure(figsize=(10,10))\n",
        "plt.imshow(Z,interpolation='nearest',\n",
        "          extent = (xx.min(),xx.max(),yy.min(),yy.max()),cmap = cmap,\n",
        "                    aspect = 'auto', origin = 'lower')\n",
        "plt.plot(reduced_data[:,0],reduced_data[:,1],'k.',markersize=5)\n",
        "\n",
        "#plot the centroid of each cluster\n",
        "centroids = kmeans.cluster_centers_\n",
        "plt.scatter(centroids[:,0],centroids[:,1],\n",
        "           marker='x',s=169, linewidths =3, color ='w',zorder =10)\n",
        "plt.title('K-Means Clustering on Stock Market Movements(PCA-Reduced Data)')\n",
        "plt.xlim(x_min,x_max)\n",
        "plt.ylim(y_min,y_max)\n",
        "plt.show()"
      ],
      "outputs": [
        {
          "output_type": "display_data",
          "data": {
            "text/plain": [
              "<Figure size 432x288 with 0 Axes>"
            ]
          },
          "metadata": {}
        },
        {
          "output_type": "display_data",
          "data": {
            "image/png": "[encoded data removed]",
            "text/plain": [
              "<Figure size 720x720 with 1 Axes>"
            ]
          },
          "metadata": {}
        }
      ],
      "execution_count": 23,
      "metadata": {
        "collapsed": false,
        "outputHidden": false,
        "inputHidden": false
      }
    }
  ],
  "metadata": {
    "kernel_info": {
      "name": "python3"
    },
    "language_info": {
      "codemirror_mode": {
        "name": "ipython",
        "version": 3
      },
      "file_extension": ".py",
      "nbconvert_exporter": "python",
      "name": "python",
      "version": "3.5.5",
      "pygments_lexer": "ipython3",
      "mimetype": "text/x-python"
    },
    "kernelspec": {
      "name": "python3",
      "language": "python",
      "display_name": "Python 3"
    },
    "nteract": {
      "version": "0.15.0"
    }
  },
  "nbformat": 4,
  "nbformat_minor": 4
}