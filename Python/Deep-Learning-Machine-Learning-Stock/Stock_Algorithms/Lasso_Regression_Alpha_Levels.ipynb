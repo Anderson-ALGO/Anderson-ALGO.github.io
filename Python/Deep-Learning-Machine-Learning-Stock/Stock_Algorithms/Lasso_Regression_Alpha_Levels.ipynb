{
  "cells": [
    {
      "cell_type": "markdown",
      "source": [
        "# Lasso Regression on Alpha Levels"
      ],
      "metadata": {
        "nteract": {
          "transient": {
            "deleting": false
          }
        }
      }
    },
    {
      "cell_type": "code",
      "source": [
        "import numpy as np\n",
        "import matplotlib.pyplot as plt\n",
        "import pandas as pd\n",
        "\n",
        "import warnings\n",
        "warnings.filterwarnings(\"ignore\")\n",
        "\n",
        "import yfinance as yf\n",
        "yf.pdr_override()"
      ],
      "outputs": [],
      "execution_count": 1,
      "metadata": {
        "collapsed": true,
        "jupyter": {
          "source_hidden": false,
          "outputs_hidden": false
        },
        "nteract": {
          "transient": {
            "deleting": false
          }
        },
        "execution": {
          "iopub.status.busy": "2020-07-25T22:20:31.699Z",
          "iopub.execute_input": "2020-07-25T22:20:31.703Z",
          "iopub.status.idle": "2020-07-25T22:20:32.641Z",
          "shell.execute_reply": "2020-07-25T22:20:32.663Z"
        }
      }
    },
    {
      "cell_type": "code",
      "source": [
        "# input\n",
        "symbol = 'AMD'\n",
        "start = '2014-01-01'\n",
        "end = '2018-08-27'\n",
        "\n",
        "# Read data \n",
        "dataset = yf.download(symbol,start,end)\n",
        "\n",
        "# View Columns\n",
        "dataset.head()"
      ],
      "outputs": [
        {
          "output_type": "stream",
          "name": "stdout",
          "text": [
            "[*********************100%***********************]  1 of 1 completed\n"
          ]
        },
        {
          "output_type": "execute_result",
          "execution_count": 2,
          "data": {
            "text/plain": "            Adj Close  Close  High   Low  Open    Volume\nDate                                                    \n2014-01-02       3.95   3.95  3.98  3.84  3.85  20548400\n2014-01-03       4.00   4.00  4.00  3.88  3.98  22887200\n2014-01-06       4.13   4.13  4.18  3.99  4.01  42398300\n2014-01-07       4.18   4.18  4.25  4.11  4.19  42932100\n2014-01-08       4.18   4.18  4.26  4.14  4.23  30678700",
            "text/html": "<div>\n<style scoped>\n    .dataframe tbody tr th:only-of-type {\n        vertical-align: middle;\n    }\n\n    .dataframe tbody tr th {\n        vertical-align: top;\n    }\n\n    .dataframe thead th {\n        text-align: right;\n    }\n</style>\n<table border=\"1\" class=\"dataframe\">\n  <thead>\n    <tr style=\"text-align: right;\">\n      <th></th>\n      <th>Adj Close</th>\n      <th>Close</th>\n      <th>High</th>\n      <th>Low</th>\n      <th>Open</th>\n      <th>Volume</th>\n    </tr>\n    <tr>\n      <th>Date</th>\n      <th></th>\n      <th></th>\n      <th></th>\n      <th></th>\n      <th></th>\n      <th></th>\n    </tr>\n  </thead>\n  <tbody>\n    <tr>\n      <th>2014-01-02</th>\n      <td>3.95</td>\n      <td>3.95</td>\n      <td>3.98</td>\n      <td>3.84</td>\n      <td>3.85</td>\n      <td>20548400</td>\n    </tr>\n    <tr>\n      <th>2014-01-03</th>\n      <td>4.00</td>\n      <td>4.00</td>\n      <td>4.00</td>\n      <td>3.88</td>\n      <td>3.98</td>\n      <td>22887200</td>\n    </tr>\n    <tr>\n      <th>2014-01-06</th>\n      <td>4.13</td>\n      <td>4.13</td>\n      <td>4.18</td>\n      <td>3.99</td>\n      <td>4.01</td>\n      <td>42398300</td>\n    </tr>\n    <tr>\n      <th>2014-01-07</th>\n      <td>4.18</td>\n      <td>4.18</td>\n      <td>4.25</td>\n      <td>4.11</td>\n      <td>4.19</td>\n      <td>42932100</td>\n    </tr>\n    <tr>\n      <th>2014-01-08</th>\n      <td>4.18</td>\n      <td>4.18</td>\n      <td>4.26</td>\n      <td>4.14</td>\n      <td>4.23</td>\n      <td>30678700</td>\n    </tr>\n  </tbody>\n</table>\n</div>"
          },
          "metadata": {}
        }
      ],
      "execution_count": 2,
      "metadata": {
        "collapsed": true,
        "jupyter": {
          "source_hidden": false,
          "outputs_hidden": false
        },
        "nteract": {
          "transient": {
            "deleting": false
          }
        },
        "execution": {
          "iopub.status.busy": "2020-07-25T22:20:32.648Z",
          "iopub.execute_input": "2020-07-25T22:20:32.653Z",
          "iopub.status.idle": "2020-07-25T22:20:33.840Z",
          "shell.execute_reply": "2020-07-25T22:20:33.971Z"
        }
      }
    },
    {
      "cell_type": "code",
      "source": [
        "dataset['Increase_Decrease'] = np.where(dataset['Volume'].shift(-1) > dataset['Volume'],1,0)\n",
        "dataset['Buy_Sell_on_Open'] = np.where(dataset['Open'].shift(-1) > dataset['Open'],1,0)\n",
        "dataset['Buy_Sell'] = np.where(dataset['Adj Close'].shift(-1) > dataset['Adj Close'],1,0)\n",
        "dataset['Returns'] = dataset['Adj Close'].pct_change()\n",
        "dataset = dataset.dropna()"
      ],
      "outputs": [],
      "execution_count": 3,
      "metadata": {
        "collapsed": true,
        "jupyter": {
          "source_hidden": false,
          "outputs_hidden": false
        },
        "nteract": {
          "transient": {
            "deleting": false
          }
        },
        "execution": {
          "iopub.status.busy": "2020-07-25T22:20:33.850Z",
          "iopub.execute_input": "2020-07-25T22:20:33.855Z",
          "iopub.status.idle": "2020-07-25T22:20:33.863Z",
          "shell.execute_reply": "2020-07-25T22:20:33.975Z"
        }
      }
    },
    {
      "cell_type": "code",
      "source": [
        "dataset.head()"
      ],
      "outputs": [
        {
          "output_type": "execute_result",
          "execution_count": 4,
          "data": {
            "text/plain": "            Adj Close  Close  High   Low  Open    Volume  Increase_Decrease  \\\nDate                                                                          \n2014-01-03       4.00   4.00  4.00  3.88  3.98  22887200                  1   \n2014-01-06       4.13   4.13  4.18  3.99  4.01  42398300                  1   \n2014-01-07       4.18   4.18  4.25  4.11  4.19  42932100                  0   \n2014-01-08       4.18   4.18  4.26  4.14  4.23  30678700                  0   \n2014-01-09       4.09   4.09  4.23  4.05  4.20  30667600                  0   \n\n            Buy_Sell_on_Open  Buy_Sell   Returns  \nDate                                              \n2014-01-03                 1         1  0.012658  \n2014-01-06                 1         1  0.032500  \n2014-01-07                 1         0  0.012106  \n2014-01-08                 0         0  0.000000  \n2014-01-09                 0         1 -0.021531  ",
            "text/html": "<div>\n<style scoped>\n    .dataframe tbody tr th:only-of-type {\n        vertical-align: middle;\n    }\n\n    .dataframe tbody tr th {\n        vertical-align: top;\n    }\n\n    .dataframe thead th {\n        text-align: right;\n    }\n</style>\n<table border=\"1\" class=\"dataframe\">\n  <thead>\n    <tr style=\"text-align: right;\">\n      <th></th>\n      <th>Adj Close</th>\n      <th>Close</th>\n      <th>High</th>\n      <th>Low</th>\n      <th>Open</th>\n      <th>Volume</th>\n      <th>Increase_Decrease</th>\n      <th>Buy_Sell_on_Open</th>\n      <th>Buy_Sell</th>\n      <th>Returns</th>\n    </tr>\n    <tr>\n      <th>Date</th>\n      <th></th>\n      <th></th>\n      <th></th>\n      <th></th>\n      <th></th>\n      <th></th>\n      <th></th>\n      <th></th>\n      <th></th>\n      <th></th>\n    </tr>\n  </thead>\n  <tbody>\n    <tr>\n      <th>2014-01-03</th>\n      <td>4.00</td>\n      <td>4.00</td>\n      <td>4.00</td>\n      <td>3.88</td>\n      <td>3.98</td>\n      <td>22887200</td>\n      <td>1</td>\n      <td>1</td>\n      <td>1</td>\n      <td>0.012658</td>\n    </tr>\n    <tr>\n      <th>2014-01-06</th>\n      <td>4.13</td>\n      <td>4.13</td>\n      <td>4.18</td>\n      <td>3.99</td>\n      <td>4.01</td>\n      <td>42398300</td>\n      <td>1</td>\n      <td>1</td>\n      <td>1</td>\n      <td>0.032500</td>\n    </tr>\n    <tr>\n      <th>2014-01-07</th>\n      <td>4.18</td>\n      <td>4.18</td>\n      <td>4.25</td>\n      <td>4.11</td>\n      <td>4.19</td>\n      <td>42932100</td>\n      <td>0</td>\n      <td>1</td>\n      <td>0</td>\n      <td>0.012106</td>\n    </tr>\n    <tr>\n      <th>2014-01-08</th>\n      <td>4.18</td>\n      <td>4.18</td>\n      <td>4.26</td>\n      <td>4.14</td>\n      <td>4.23</td>\n      <td>30678700</td>\n      <td>0</td>\n      <td>0</td>\n      <td>0</td>\n      <td>0.000000</td>\n    </tr>\n    <tr>\n      <th>2014-01-09</th>\n      <td>4.09</td>\n      <td>4.09</td>\n      <td>4.23</td>\n      <td>4.05</td>\n      <td>4.20</td>\n      <td>30667600</td>\n      <td>0</td>\n      <td>0</td>\n      <td>1</td>\n      <td>-0.021531</td>\n    </tr>\n  </tbody>\n</table>\n</div>"
          },
          "metadata": {}
        }
      ],
      "execution_count": 4,
      "metadata": {
        "collapsed": true,
        "jupyter": {
          "source_hidden": false,
          "outputs_hidden": false
        },
        "nteract": {
          "transient": {
            "deleting": false
          }
        },
        "execution": {
          "iopub.status.busy": "2020-07-25T22:20:33.876Z",
          "iopub.execute_input": "2020-07-25T22:20:33.882Z",
          "iopub.status.idle": "2020-07-25T22:20:33.897Z",
          "shell.execute_reply": "2020-07-25T22:20:34.519Z"
        }
      }
    },
    {
      "cell_type": "code",
      "source": [
        "dataset.tail()"
      ],
      "outputs": [
        {
          "output_type": "execute_result",
          "execution_count": 5,
          "data": {
            "text/plain": "            Adj Close      Close   High        Low       Open     Volume  \\\nDate                                                                       \n2018-08-20  19.980000  19.980000  20.08  19.350000  19.790001   62983200   \n2018-08-21  20.400000  20.400000  20.42  19.860001  19.980000   55629000   \n2018-08-22  20.900000  20.900000  20.92  20.209999  20.280001   62002700   \n2018-08-23  22.290001  22.290001  22.32  21.139999  21.190001  113444100   \n2018-08-24  23.980000  23.980000  24.00  22.670000  22.910000  164328200   \n\n            Increase_Decrease  Buy_Sell_on_Open  Buy_Sell   Returns  \nDate                                                                 \n2018-08-20                  0                 1         1  0.010622  \n2018-08-21                  1                 1         1  0.021021  \n2018-08-22                  1                 1         1  0.024510  \n2018-08-23                  1                 1         1  0.066507  \n2018-08-24                  0                 0         0  0.075819  ",
            "text/html": "<div>\n<style scoped>\n    .dataframe tbody tr th:only-of-type {\n        vertical-align: middle;\n    }\n\n    .dataframe tbody tr th {\n        vertical-align: top;\n    }\n\n    .dataframe thead th {\n        text-align: right;\n    }\n</style>\n<table border=\"1\" class=\"dataframe\">\n  <thead>\n    <tr style=\"text-align: right;\">\n      <th></th>\n      <th>Adj Close</th>\n      <th>Close</th>\n      <th>High</th>\n      <th>Low</th>\n      <th>Open</th>\n      <th>Volume</th>\n      <th>Increase_Decrease</th>\n      <th>Buy_Sell_on_Open</th>\n      <th>Buy_Sell</th>\n      <th>Returns</th>\n    </tr>\n    <tr>\n      <th>Date</th>\n      <th></th>\n      <th></th>\n      <th></th>\n      <th></th>\n      <th></th>\n      <th></th>\n      <th></th>\n      <th></th>\n      <th></th>\n      <th></th>\n    </tr>\n  </thead>\n  <tbody>\n    <tr>\n      <th>2018-08-20</th>\n      <td>19.980000</td>\n      <td>19.980000</td>\n      <td>20.08</td>\n      <td>19.350000</td>\n      <td>19.790001</td>\n      <td>62983200</td>\n      <td>0</td>\n      <td>1</td>\n      <td>1</td>\n      <td>0.010622</td>\n    </tr>\n    <tr>\n      <th>2018-08-21</th>\n      <td>20.400000</td>\n      <td>20.400000</td>\n      <td>20.42</td>\n      <td>19.860001</td>\n      <td>19.980000</td>\n      <td>55629000</td>\n      <td>1</td>\n      <td>1</td>\n      <td>1</td>\n      <td>0.021021</td>\n    </tr>\n    <tr>\n      <th>2018-08-22</th>\n      <td>20.900000</td>\n      <td>20.900000</td>\n      <td>20.92</td>\n      <td>20.209999</td>\n      <td>20.280001</td>\n      <td>62002700</td>\n      <td>1</td>\n      <td>1</td>\n      <td>1</td>\n      <td>0.024510</td>\n    </tr>\n    <tr>\n      <th>2018-08-23</th>\n      <td>22.290001</td>\n      <td>22.290001</td>\n      <td>22.32</td>\n      <td>21.139999</td>\n      <td>21.190001</td>\n      <td>113444100</td>\n      <td>1</td>\n      <td>1</td>\n      <td>1</td>\n      <td>0.066507</td>\n    </tr>\n    <tr>\n      <th>2018-08-24</th>\n      <td>23.980000</td>\n      <td>23.980000</td>\n      <td>24.00</td>\n      <td>22.670000</td>\n      <td>22.910000</td>\n      <td>164328200</td>\n      <td>0</td>\n      <td>0</td>\n      <td>0</td>\n      <td>0.075819</td>\n    </tr>\n  </tbody>\n</table>\n</div>"
          },
          "metadata": {}
        }
      ],
      "execution_count": 5,
      "metadata": {
        "collapsed": true,
        "jupyter": {
          "source_hidden": false,
          "outputs_hidden": false
        },
        "nteract": {
          "transient": {
            "deleting": false
          }
        },
        "execution": {
          "iopub.status.busy": "2020-07-25T22:20:33.905Z",
          "iopub.execute_input": "2020-07-25T22:20:33.915Z",
          "iopub.status.idle": "2020-07-25T22:20:33.927Z",
          "shell.execute_reply": "2020-07-25T22:20:34.522Z"
        }
      }
    },
    {
      "cell_type": "code",
      "source": [
        "from sklearn.linear_model import Lasso\n",
        "from sklearn.preprocessing import StandardScaler"
      ],
      "outputs": [],
      "execution_count": 6,
      "metadata": {
        "collapsed": true,
        "jupyter": {
          "source_hidden": false,
          "outputs_hidden": false
        },
        "nteract": {
          "transient": {
            "deleting": false
          }
        },
        "execution": {
          "iopub.status.busy": "2020-07-25T22:20:33.934Z",
          "iopub.execute_input": "2020-07-25T22:20:33.944Z",
          "iopub.status.idle": "2020-07-25T22:20:34.443Z",
          "shell.execute_reply": "2020-07-25T22:20:34.524Z"
        }
      }
    },
    {
      "cell_type": "code",
      "source": [
        "scaler = StandardScaler()\n",
        "X = scaler.fit_transform(dataset)\n",
        "y = dataset[\"Adj Close\"]"
      ],
      "outputs": [],
      "execution_count": 7,
      "metadata": {
        "collapsed": true,
        "jupyter": {
          "source_hidden": false,
          "outputs_hidden": false
        },
        "nteract": {
          "transient": {
            "deleting": false
          }
        },
        "execution": {
          "iopub.status.busy": "2020-07-25T22:20:34.451Z",
          "iopub.execute_input": "2020-07-25T22:20:34.456Z",
          "iopub.status.idle": "2020-07-25T22:20:34.464Z",
          "shell.execute_reply": "2020-07-25T22:20:34.526Z"
        }
      }
    },
    {
      "cell_type": "code",
      "source": [
        "# Function create by Chris Albon\n",
        "\n",
        "# Create a function called lasso,\n",
        "def lasso(alphas):\n",
        "    '''\n",
        "    Takes in a list of alphas. Outputs a dataframe containing the coefficients of lasso regressions from each alpha.\n",
        "    '''\n",
        "    # Create an empty data frame\n",
        "    df = pd.DataFrame()\n",
        "    \n",
        "    # Create a column of feature names\n",
        "    df['Feature Name'] = dataset.columns\n",
        "    \n",
        "    # For each alpha value in the list of alpha values,\n",
        "    for alpha in alphas:\n",
        "        # Create a lasso regression with that alpha value,\n",
        "        lasso = Lasso(alpha=alpha)\n",
        "        \n",
        "        # Fit the lasso regression\n",
        "        lasso.fit(X, y)\n",
        "        \n",
        "        # Create a column name for that alpha value\n",
        "        column_name = 'Alpha = %f' % alpha\n",
        "\n",
        "        # Create a column of coefficient values\n",
        "        df[column_name] = lasso.coef_\n",
        "        \n",
        "    # Return the datafram    \n",
        "    return df"
      ],
      "outputs": [],
      "execution_count": 8,
      "metadata": {
        "collapsed": true,
        "jupyter": {
          "source_hidden": false,
          "outputs_hidden": false
        },
        "nteract": {
          "transient": {
            "deleting": false
          }
        },
        "execution": {
          "iopub.status.busy": "2020-07-25T22:20:34.474Z",
          "iopub.execute_input": "2020-07-25T22:20:34.479Z",
          "iopub.status.idle": "2020-07-25T22:20:34.486Z",
          "shell.execute_reply": "2020-07-25T22:20:34.529Z"
        }
      }
    },
    {
      "cell_type": "code",
      "source": [
        "# Run the function called, Lasso\n",
        "lasso([.0001, .01, .1, .5, 1, 10])"
      ],
      "outputs": [
        {
          "output_type": "execute_result",
          "execution_count": 9,
          "data": {
            "text/plain": "        Feature Name  Alpha = 0.000100  Alpha = 0.010000  Alpha = 0.100000  \\\n0          Adj Close      4.859430e+00      4.849530e+00      4.759530e+00   \n1              Close      5.358605e-16      5.754182e-16      3.157968e-16   \n2               High      0.000000e+00      0.000000e+00      0.000000e+00   \n3                Low      0.000000e+00      0.000000e+00      0.000000e+00   \n4               Open      0.000000e+00      0.000000e+00      0.000000e+00   \n5             Volume      0.000000e+00      0.000000e+00      0.000000e+00   \n6  Increase_Decrease      0.000000e+00      0.000000e+00      0.000000e+00   \n7   Buy_Sell_on_Open      0.000000e+00      0.000000e+00      0.000000e+00   \n8           Buy_Sell      0.000000e+00      0.000000e+00      0.000000e+00   \n9            Returns      0.000000e+00      0.000000e+00      0.000000e+00   \n\n   Alpha = 0.500000  Alpha = 1.000000  Alpha = 10.000000  \n0      4.359530e+00      3.859530e+00                0.0  \n1      9.716824e-16      5.830094e-16                0.0  \n2      0.000000e+00      0.000000e+00                0.0  \n3      0.000000e+00      0.000000e+00                0.0  \n4      0.000000e+00      0.000000e+00                0.0  \n5      0.000000e+00      0.000000e+00                0.0  \n6      0.000000e+00      0.000000e+00                0.0  \n7      0.000000e+00      0.000000e+00                0.0  \n8      0.000000e+00      0.000000e+00                0.0  \n9      0.000000e+00      0.000000e+00                0.0  ",
            "text/html": "<div>\n<style scoped>\n    .dataframe tbody tr th:only-of-type {\n        vertical-align: middle;\n    }\n\n    .dataframe tbody tr th {\n        vertical-align: top;\n    }\n\n    .dataframe thead th {\n        text-align: right;\n    }\n</style>\n<table border=\"1\" class=\"dataframe\">\n  <thead>\n    <tr style=\"text-align: right;\">\n      <th></th>\n      <th>Feature Name</th>\n      <th>Alpha = 0.000100</th>\n      <th>Alpha = 0.010000</th>\n      <th>Alpha = 0.100000</th>\n      <th>Alpha = 0.500000</th>\n      <th>Alpha = 1.000000</th>\n      <th>Alpha = 10.000000</th>\n    </tr>\n  </thead>\n  <tbody>\n    <tr>\n      <th>0</th>\n      <td>Adj Close</td>\n      <td>4.859430e+00</td>\n      <td>4.849530e+00</td>\n      <td>4.759530e+00</td>\n      <td>4.359530e+00</td>\n      <td>3.859530e+00</td>\n      <td>0.0</td>\n    </tr>\n    <tr>\n      <th>1</th>\n      <td>Close</td>\n      <td>5.358605e-16</td>\n      <td>5.754182e-16</td>\n      <td>3.157968e-16</td>\n      <td>9.716824e-16</td>\n      <td>5.830094e-16</td>\n      <td>0.0</td>\n    </tr>\n    <tr>\n      <th>2</th>\n      <td>High</td>\n      <td>0.000000e+00</td>\n      <td>0.000000e+00</td>\n      <td>0.000000e+00</td>\n      <td>0.000000e+00</td>\n      <td>0.000000e+00</td>\n      <td>0.0</td>\n    </tr>\n    <tr>\n      <th>3</th>\n      <td>Low</td>\n      <td>0.000000e+00</td>\n      <td>0.000000e+00</td>\n      <td>0.000000e+00</td>\n      <td>0.000000e+00</td>\n      <td>0.000000e+00</td>\n      <td>0.0</td>\n    </tr>\n    <tr>\n      <th>4</th>\n      <td>Open</td>\n      <td>0.000000e+00</td>\n      <td>0.000000e+00</td>\n      <td>0.000000e+00</td>\n      <td>0.000000e+00</td>\n      <td>0.000000e+00</td>\n      <td>0.0</td>\n    </tr>\n    <tr>\n      <th>5</th>\n      <td>Volume</td>\n      <td>0.000000e+00</td>\n      <td>0.000000e+00</td>\n      <td>0.000000e+00</td>\n      <td>0.000000e+00</td>\n      <td>0.000000e+00</td>\n      <td>0.0</td>\n    </tr>\n    <tr>\n      <th>6</th>\n      <td>Increase_Decrease</td>\n      <td>0.000000e+00</td>\n      <td>0.000000e+00</td>\n      <td>0.000000e+00</td>\n      <td>0.000000e+00</td>\n      <td>0.000000e+00</td>\n      <td>0.0</td>\n    </tr>\n    <tr>\n      <th>7</th>\n      <td>Buy_Sell_on_Open</td>\n      <td>0.000000e+00</td>\n      <td>0.000000e+00</td>\n      <td>0.000000e+00</td>\n      <td>0.000000e+00</td>\n      <td>0.000000e+00</td>\n      <td>0.0</td>\n    </tr>\n    <tr>\n      <th>8</th>\n      <td>Buy_Sell</td>\n      <td>0.000000e+00</td>\n      <td>0.000000e+00</td>\n      <td>0.000000e+00</td>\n      <td>0.000000e+00</td>\n      <td>0.000000e+00</td>\n      <td>0.0</td>\n    </tr>\n    <tr>\n      <th>9</th>\n      <td>Returns</td>\n      <td>0.000000e+00</td>\n      <td>0.000000e+00</td>\n      <td>0.000000e+00</td>\n      <td>0.000000e+00</td>\n      <td>0.000000e+00</td>\n      <td>0.0</td>\n    </tr>\n  </tbody>\n</table>\n</div>"
          },
          "metadata": {}
        }
      ],
      "execution_count": 9,
      "metadata": {
        "collapsed": true,
        "jupyter": {
          "source_hidden": false,
          "outputs_hidden": false
        },
        "nteract": {
          "transient": {
            "deleting": false
          }
        },
        "execution": {
          "iopub.status.busy": "2020-07-25T22:20:34.495Z",
          "iopub.execute_input": "2020-07-25T22:20:34.504Z",
          "iopub.status.idle": "2020-07-25T22:20:34.539Z",
          "shell.execute_reply": "2020-07-25T22:20:34.531Z"
        }
      }
    }
  ],
  "metadata": {
    "kernel_info": {
      "name": "python3"
    },
    "language_info": {
      "codemirror_mode": {
        "name": "ipython",
        "version": 3
      },
      "file_extension": ".py",
      "mimetype": "text/x-python",
      "pygments_lexer": "ipython3",
      "nbconvert_exporter": "python",
      "name": "python",
      "version": "3.5.5"
    },
    "kernelspec": {
      "argv": [
        "C:\\Users\\Tin Hang\\Anaconda3\\envs\\py35\\python.exe",
        "-m",
        "ipykernel_launcher",
        "-f",
        "{connection_file}"
      ],
      "display_name": "Python 3",
      "language": "python",
      "name": "python3"
    },
    "nteract": {
      "version": "0.24.0"
    }
  },
  "nbformat": 4,
  "nbformat_minor": 0
}