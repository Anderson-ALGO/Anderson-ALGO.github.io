{
  "cells": [
    {
      "cell_type": "markdown",
      "source": [
        "# Classification Cluster"
      ],
      "metadata": {}
    },
    {
      "cell_type": "code",
      "source": [
        "import numpy as np\n",
        "import matplotlib.pyplot as plt\n",
        "import pandas as pd\n",
        "\n",
        "import warnings\n",
        "warnings.filterwarnings(\"ignore\")\n",
        "\n",
        "# fix_yahoo_finance is used to fetch data \n",
        "import fix_yahoo_finance as yf\n",
        "yf.pdr_override()"
      ],
      "outputs": [],
      "execution_count": 1,
      "metadata": {
        "collapsed": false,
        "outputHidden": false,
        "inputHidden": false
      }
    },
    {
      "cell_type": "code",
      "source": [
        "# Get S&P500 stock symbols, sectors, and subsectors from wikipedia\n",
        "wiki_table = pd.read_html('https://en.wikipedia.org/wiki/List_of_S%26P_500_companies',header=0)[0]\n",
        "symbols = list(wiki_table['Ticker symbol'])"
      ],
      "outputs": [],
      "execution_count": 2,
      "metadata": {
        "collapsed": false,
        "outputHidden": false,
        "inputHidden": false
      }
    },
    {
      "cell_type": "code",
      "source": [
        "print(symbols)\n",
        "print(\"\\nTotal number of companies are:\")\n",
        "len(symbols)"
      ],
      "outputs": [
        {
          "output_type": "stream",
          "name": "stdout",
          "text": [
            "['MMM', 'ABT', 'ABBV', 'ABMD', 'ACN', 'ATVI', 'ADBE', 'AMD', 'AAP', 'AES', 'AET', 'AMG', 'AFL', 'A', 'APD', 'AKAM', 'ALK', 'ALB', 'ARE', 'ALXN', 'ALGN', 'ALLE', 'AGN', 'ADS', 'LNT', 'ALL', 'GOOGL', 'GOOG', 'MO', 'AMZN', 'AEE', 'AAL', 'AEP', 'AXP', 'AIG', 'AMT', 'AWK', 'AMP', 'ABC', 'AME', 'AMGN', 'APH', 'APC', 'ADI', 'ANSS', 'ANTM', 'AON', 'AOS', 'APA', 'AIV', 'AAPL', 'AMAT', 'APTV', 'ADM', 'ARNC', 'ANET', 'AJG', 'AIZ', 'T', 'ADSK', 'ADP', 'AZO', 'AVB', 'AVY', 'BHGE', 'BLL', 'BAC', 'BK', 'BAX', 'BBT', 'BDX', 'BRK.B', 'BBY', 'BIIB', 'BLK', 'HRB', 'BA', 'BKNG', 'BWA', 'BXP', 'BSX', 'BHF', 'BMY', 'AVGO', 'BR', 'BF.B', 'CHRW', 'CA', 'COG', 'CDNS', 'CPB', 'COF', 'CAH', 'KMX', 'CCL', 'CAT', 'CBOE', 'CBRE', 'CBS', 'CELG', 'CNC', 'CNP', 'CTL', 'CERN', 'CF', 'SCHW', 'CHTR', 'CVX', 'CMG', 'CB', 'CHD', 'CI', 'XEC', 'CINF', 'CTAS', 'CSCO', 'C', 'CFG', 'CTXS', 'CLX', 'CME', 'CMS', 'KO', 'CTSH', 'CL', 'CMCSA', 'CMA', 'CAG', 'CXO', 'COP', 'ED', 'STZ', 'COO', 'CPRT', 'GLW', 'COST', 'COTY', 'CCI', 'CSX', 'CMI', 'CVS', 'DHI', 'DHR', 'DRI', 'DVA', 'DE', 'DAL', 'XRAY', 'DVN', 'DLR', 'DFS', 'DISCA', 'DISCK', 'DISH', 'DG', 'DLTR', 'D', 'DOV', 'DWDP', 'DTE', 'DRE', 'DUK', 'DXC', 'ETFC', 'EMN', 'ETN', 'EBAY', 'ECL', 'EIX', 'EW', 'EA', 'EMR', 'ETR', 'EOG', 'EQT', 'EFX', 'EQIX', 'EQR', 'ESS', 'EL', 'EVRG', 'ES', 'RE', 'EXC', 'EXPE', 'EXPD', 'ESRX', 'EXR', 'XOM', 'FFIV', 'FB', 'FAST', 'FRT', 'FDX', 'FIS', 'FITB', 'FE', 'FISV', 'FLT', 'FLIR', 'FLS', 'FLR', 'FMC', 'FL', 'F', 'FTNT', 'FTV', 'FBHS', 'BEN', 'FCX', 'GPS', 'GRMN', 'IT', 'GD', 'GE', 'GIS', 'GM', 'GPC', 'GILD', 'GPN', 'GS', 'GT', 'GWW', 'HAL', 'HBI', 'HOG', 'HRS', 'HIG', 'HAS', 'HCA', 'HCP', 'HP', 'HSIC', 'HSY', 'HES', 'HPE', 'HLT', 'HFC', 'HOLX', 'HD', 'HON', 'HRL', 'HST', 'HPQ', 'HUM', 'HBAN', 'HII', 'IDXX', 'INFO', 'ITW', 'ILMN', 'IR', 'INTC', 'ICE', 'IBM', 'INCY', 'IP', 'IPG', 'IFF', 'INTU', 'ISRG', 'IVZ', 'IPGP', 'IQV', 'IRM', 'JEC', 'JBHT', 'JEF', 'SJM', 'JNJ', 'JCI', 'JPM', 'JNPR', 'KSU', 'K', 'KEY', 'KMB', 'KIM', 'KMI', 'KLAC', 'KSS', 'KHC', 'KR', 'LB', 'LLL', 'LH', 'LRCX', 'LEG', 'LEN', 'LLY', 'LNC', 'LKQ', 'LMT', 'L', 'LOW', 'LYB', 'MTB', 'MAC', 'M', 'MRO', 'MPC', 'MAR', 'MMC', 'MLM', 'MAS', 'MA', 'MAT', 'MKC', 'MCD', 'MCK', 'MDT', 'MRK', 'MET', 'MTD', 'MGM', 'KORS', 'MCHP', 'MU', 'MSFT', 'MAA', 'MHK', 'TAP', 'MDLZ', 'MNST', 'MCO', 'MS', 'MOS', 'MSI', 'MSCI', 'MYL', 'NDAQ', 'NOV', 'NKTR', 'NTAP', 'NFLX', 'NWL', 'NFX', 'NEM', 'NWSA', 'NWS', 'NEE', 'NLSN', 'NKE', 'NI', 'NBL', 'JWN', 'NSC', 'NTRS', 'NOC', 'NCLH', 'NRG', 'NUE', 'NVDA', 'ORLY', 'OXY', 'OMC', 'OKE', 'ORCL', 'PCAR', 'PKG', 'PH', 'PAYX', 'PYPL', 'PNR', 'PBCT', 'PEP', 'PKI', 'PRGO', 'PFE', 'PCG', 'PM', 'PSX', 'PNW', 'PXD', 'PNC', 'RL', 'PPG', 'PPL', 'PX', 'PFG', 'PG', 'PGR', 'PLD', 'PRU', 'PEG', 'PSA', 'PHM', 'PVH', 'QRVO', 'PWR', 'QCOM', 'DGX', 'RJF', 'RTN', 'O', 'RHT', 'REG', 'REGN', 'RF', 'RSG', 'RMD', 'RHI', 'ROK', 'COL', 'ROL', 'ROP', 'ROST', 'RCL', 'CRM', 'SBAC', 'SCG', 'SLB', 'STX', 'SEE', 'SRE', 'SHW', 'SPG', 'SWKS', 'SLG', 'SNA', 'SO', 'LUV', 'SPGI', 'SWK', 'SBUX', 'STT', 'SRCL', 'SYK', 'STI', 'SIVB', 'SYMC', 'SYF', 'SNPS', 'SYY', 'TROW', 'TTWO', 'TPR', 'TGT', 'TEL', 'FTI', 'TXN', 'TXT', 'TMO', 'TIF', 'TWTR', 'TJX', 'TMK', 'TSS', 'TSCO', 'TDG', 'TRV', 'TRIP', 'FOXA', 'FOX', 'TSN', 'UDR', 'ULTA', 'USB', 'UAA', 'UA', 'UNP', 'UAL', 'UNH', 'UPS', 'URI', 'UTX', 'UHS', 'UNM', 'VFC', 'VLO', 'VAR', 'VTR', 'VRSN', 'VRSK', 'VZ', 'VRTX', 'VIAB', 'V', 'VNO', 'VMC', 'WMT', 'WBA', 'DIS', 'WM', 'WAT', 'WEC', 'WCG', 'WFC', 'WELL', 'WDC', 'WU', 'WRK', 'WY', 'WHR', 'WMB', 'WLTW', 'WYNN', 'XEL', 'XRX', 'XLNX', 'XYL', 'YUM', 'ZBH', 'ZION', 'ZTS']\n",
            "\n",
            "Total number of companies are:\n"
          ]
        },
        {
          "output_type": "execute_result",
          "execution_count": 10,
          "data": {
            "text/plain": [
              "505"
            ]
          },
          "metadata": {}
        }
      ],
      "execution_count": 10,
      "metadata": {
        "collapsed": false,
        "outputHidden": false,
        "inputHidden": false
      }
    },
    {
      "cell_type": "code",
      "source": [
        "# Fetch the list of stocks for our symbols from Yahoo Finance History Prices \n",
        "start = '2017-01-01'\n",
        "end = '2017-12-31'\n",
        "\n",
        "print(\"Downloading values for period %s to %s\" % (start, end))\n",
        "dataset = yf.download(symbols,start,end)['Adj Close']\n",
        "print(\"Done!\")"
      ],
      "outputs": [
        {
          "output_type": "stream",
          "name": "stdout",
          "text": [
            "Downloading values for period 2017-01-01 to 2017-12-31\n",
            "[*********************100%***********************]  505 of 505 downloaded\n",
            "Done!\n"
          ]
        }
      ],
      "execution_count": 11,
      "metadata": {
        "collapsed": false,
        "outputHidden": false,
        "inputHidden": false
      }
    },
    {
      "cell_type": "code",
      "source": [
        "dataset.head()"
      ],
      "outputs": [
        {
          "output_type": "execute_result",
          "execution_count": 12,
          "data": {
            "text/plain": [
              "                    A        AAL         AAP        AAPL       ABBV  \\\n",
              "Date                                                                  \n",
              "2017-01-03  45.764454  45.590179  170.015747  113.013916  57.952969   \n",
              "2017-01-04  46.364933  45.984047  171.410950  112.887413  58.770123   \n",
              "2017-01-05  45.813671  45.186462  171.291336  113.461502  59.215847   \n",
              "2017-01-06  47.241043  45.501560  169.049072  114.726402  59.234417   \n",
              "2017-01-09  47.388699  46.358227  168.949417  115.777237  59.624420   \n",
              "\n",
              "                  ABC        ABMD        ABT         ACN        ADBE  \\\n",
              "Date                                                                   \n",
              "2017-01-03  80.150398  112.360001  37.477722  113.159943  103.480003   \n",
              "2017-01-04  82.139374  115.739998  37.775249  113.432007  104.139999   \n",
              "2017-01-05  81.188530  114.809998  38.101559  111.731606  105.910004   \n",
              "2017-01-06  82.275185  115.419998  39.138073  113.004478  108.300003   \n",
              "2017-01-09  82.934944  117.110001  39.099686  111.741318  108.570000   \n",
              "\n",
              "              ...            XEL       XLNX        XOM       XRAY        XRX  \\\n",
              "Date          ...                                                              \n",
              "2017-01-03    ...      38.389378  56.932369  84.925102  57.858753  25.919497   \n",
              "2017-01-04    ...      38.559494  56.517933  83.990730  58.332508  26.897594   \n",
              "2017-01-05    ...      38.559494  55.833622  82.738670  57.572517  26.784735   \n",
              "2017-01-06    ...      38.672909  56.913094  82.691956  57.533035  26.370926   \n",
              "2017-01-09    ...      38.086956  56.922737  81.327774  57.710697  26.220448   \n",
              "\n",
              "                  XYL        YUM         ZBH       ZION        ZTS  \n",
              "Date                                                                \n",
              "2017-01-03  48.598770  61.319050  101.874840  42.171959  52.963348  \n",
              "2017-01-04  49.323105  61.542175  102.811455  42.777485  53.477272  \n",
              "2017-01-05  48.872841  61.745895  103.472023  42.084061  53.299377  \n",
              "2017-01-06  48.530254  62.492851  103.481880  42.357521  53.467388  \n",
              "2017-01-09  48.324699  62.667465  105.493156  41.898495  53.319145  \n",
              "\n[5 rows x 499 columns]"
            ],
            "text/html": [
              "<div>\n",
              "<style scoped>\n",
              "    .dataframe tbody tr th:only-of-type {\n",
              "        vertical-align: middle;\n",
              "    }\n",
              "\n",
              "    .dataframe tbody tr th {\n",
              "        vertical-align: top;\n",
              "    }\n",
              "\n",
              "    .dataframe thead th {\n",
              "        text-align: right;\n",
              "    }\n",
              "</style>\n",
              "<table border=\"1\" class=\"dataframe\">\n",
              "  <thead>\n",
              "    <tr style=\"text-align: right;\">\n",
              "      <th></th>\n",
              "      <th>A</th>\n",
              "      <th>AAL</th>\n",
              "      <th>AAP</th>\n",
              "      <th>AAPL</th>\n",
              "      <th>ABBV</th>\n",
              "      <th>ABC</th>\n",
              "      <th>ABMD</th>\n",
              "      <th>ABT</th>\n",
              "      <th>ACN</th>\n",
              "      <th>ADBE</th>\n",
              "      <th>...</th>\n",
              "      <th>XEL</th>\n",
              "      <th>XLNX</th>\n",
              "      <th>XOM</th>\n",
              "      <th>XRAY</th>\n",
              "      <th>XRX</th>\n",
              "      <th>XYL</th>\n",
              "      <th>YUM</th>\n",
              "      <th>ZBH</th>\n",
              "      <th>ZION</th>\n",
              "      <th>ZTS</th>\n",
              "    </tr>\n",
              "    <tr>\n",
              "      <th>Date</th>\n",
              "      <th></th>\n",
              "      <th></th>\n",
              "      <th></th>\n",
              "      <th></th>\n",
              "      <th></th>\n",
              "      <th></th>\n",
              "      <th></th>\n",
              "      <th></th>\n",
              "      <th></th>\n",
              "      <th></th>\n",
              "      <th></th>\n",
              "      <th></th>\n",
              "      <th></th>\n",
              "      <th></th>\n",
              "      <th></th>\n",
              "      <th></th>\n",
              "      <th></th>\n",
              "      <th></th>\n",
              "      <th></th>\n",
              "      <th></th>\n",
              "      <th></th>\n",
              "    </tr>\n",
              "  </thead>\n",
              "  <tbody>\n",
              "    <tr>\n",
              "      <th>2017-01-03</th>\n",
              "      <td>45.764454</td>\n",
              "      <td>45.590179</td>\n",
              "      <td>170.015747</td>\n",
              "      <td>113.013916</td>\n",
              "      <td>57.952969</td>\n",
              "      <td>80.150398</td>\n",
              "      <td>112.360001</td>\n",
              "      <td>37.477722</td>\n",
              "      <td>113.159943</td>\n",
              "      <td>103.480003</td>\n",
              "      <td>...</td>\n",
              "      <td>38.389378</td>\n",
              "      <td>56.932369</td>\n",
              "      <td>84.925102</td>\n",
              "      <td>57.858753</td>\n",
              "      <td>25.919497</td>\n",
              "      <td>48.598770</td>\n",
              "      <td>61.319050</td>\n",
              "      <td>101.874840</td>\n",
              "      <td>42.171959</td>\n",
              "      <td>52.963348</td>\n",
              "    </tr>\n",
              "    <tr>\n",
              "      <th>2017-01-04</th>\n",
              "      <td>46.364933</td>\n",
              "      <td>45.984047</td>\n",
              "      <td>171.410950</td>\n",
              "      <td>112.887413</td>\n",
              "      <td>58.770123</td>\n",
              "      <td>82.139374</td>\n",
              "      <td>115.739998</td>\n",
              "      <td>37.775249</td>\n",
              "      <td>113.432007</td>\n",
              "      <td>104.139999</td>\n",
              "      <td>...</td>\n",
              "      <td>38.559494</td>\n",
              "      <td>56.517933</td>\n",
              "      <td>83.990730</td>\n",
              "      <td>58.332508</td>\n",
              "      <td>26.897594</td>\n",
              "      <td>49.323105</td>\n",
              "      <td>61.542175</td>\n",
              "      <td>102.811455</td>\n",
              "      <td>42.777485</td>\n",
              "      <td>53.477272</td>\n",
              "    </tr>\n",
              "    <tr>\n",
              "      <th>2017-01-05</th>\n",
              "      <td>45.813671</td>\n",
              "      <td>45.186462</td>\n",
              "      <td>171.291336</td>\n",
              "      <td>113.461502</td>\n",
              "      <td>59.215847</td>\n",
              "      <td>81.188530</td>\n",
              "      <td>114.809998</td>\n",
              "      <td>38.101559</td>\n",
              "      <td>111.731606</td>\n",
              "      <td>105.910004</td>\n",
              "      <td>...</td>\n",
              "      <td>38.559494</td>\n",
              "      <td>55.833622</td>\n",
              "      <td>82.738670</td>\n",
              "      <td>57.572517</td>\n",
              "      <td>26.784735</td>\n",
              "      <td>48.872841</td>\n",
              "      <td>61.745895</td>\n",
              "      <td>103.472023</td>\n",
              "      <td>42.084061</td>\n",
              "      <td>53.299377</td>\n",
              "    </tr>\n",
              "    <tr>\n",
              "      <th>2017-01-06</th>\n",
              "      <td>47.241043</td>\n",
              "      <td>45.501560</td>\n",
              "      <td>169.049072</td>\n",
              "      <td>114.726402</td>\n",
              "      <td>59.234417</td>\n",
              "      <td>82.275185</td>\n",
              "      <td>115.419998</td>\n",
              "      <td>39.138073</td>\n",
              "      <td>113.004478</td>\n",
              "      <td>108.300003</td>\n",
              "      <td>...</td>\n",
              "      <td>38.672909</td>\n",
              "      <td>56.913094</td>\n",
              "      <td>82.691956</td>\n",
              "      <td>57.533035</td>\n",
              "      <td>26.370926</td>\n",
              "      <td>48.530254</td>\n",
              "      <td>62.492851</td>\n",
              "      <td>103.481880</td>\n",
              "      <td>42.357521</td>\n",
              "      <td>53.467388</td>\n",
              "    </tr>\n",
              "    <tr>\n",
              "      <th>2017-01-09</th>\n",
              "      <td>47.388699</td>\n",
              "      <td>46.358227</td>\n",
              "      <td>168.949417</td>\n",
              "      <td>115.777237</td>\n",
              "      <td>59.624420</td>\n",
              "      <td>82.934944</td>\n",
              "      <td>117.110001</td>\n",
              "      <td>39.099686</td>\n",
              "      <td>111.741318</td>\n",
              "      <td>108.570000</td>\n",
              "      <td>...</td>\n",
              "      <td>38.086956</td>\n",
              "      <td>56.922737</td>\n",
              "      <td>81.327774</td>\n",
              "      <td>57.710697</td>\n",
              "      <td>26.220448</td>\n",
              "      <td>48.324699</td>\n",
              "      <td>62.667465</td>\n",
              "      <td>105.493156</td>\n",
              "      <td>41.898495</td>\n",
              "      <td>53.319145</td>\n",
              "    </tr>\n",
              "  </tbody>\n",
              "</table>\n",
              "<p>5 rows × 499 columns</p>\n",
              "</div>"
            ]
          },
          "metadata": {}
        }
      ],
      "execution_count": 12,
      "metadata": {
        "collapsed": false,
        "outputHidden": false,
        "inputHidden": false
      }
    },
    {
      "cell_type": "code",
      "source": [
        "import math\n",
        "#Calculate average annual percentage return and volatilities over a theoretical one year period\n",
        "returns = dataset.pct_change().mean() * 252\n",
        "returns = pd.DataFrame(returns)\n",
        "#print(returns)\n",
        "returns.columns = ['Returns']\n",
        "returns['Volatility'] = dataset.pct_change().std() * math.sqrt(252)\n",
        "#print(returns['Volatility'])\n",
        "#format the data as a numpy array to feed into the K-Means algorithm\n",
        "data = np.asarray([np.asarray(returns['Returns']),np.asarray(returns['Volatility'])]).T\n",
        "#removing NaN values, replacing them by 0\n",
        "cleaned_data = np.where(np.isnan(data), 0, data)\n",
        "#cleaned_data"
      ],
      "outputs": [],
      "execution_count": 14,
      "metadata": {
        "collapsed": false,
        "outputHidden": false,
        "inputHidden": false
      }
    },
    {
      "cell_type": "code",
      "source": [
        "X = cleaned_data"
      ],
      "outputs": [],
      "execution_count": 16,
      "metadata": {
        "collapsed": false,
        "outputHidden": false,
        "inputHidden": false
      }
    },
    {
      "cell_type": "code",
      "source": [
        "from sklearn.cluster import KMeans\n",
        "from sklearn.preprocessing import StandardScaler\n",
        "\n",
        "# Define the number of clusters in a variable 'n_clusters'\n",
        "n_clusters = 12\n",
        "\n",
        "# Cluster the data\n",
        "kmeans = KMeans(n_clusters)\n",
        "kmeans.fit(X)"
      ],
      "outputs": [
        {
          "output_type": "execute_result",
          "execution_count": 17,
          "data": {
            "text/plain": [
              "KMeans(algorithm='auto', copy_x=True, init='k-means++', max_iter=300,\n",
              "    n_clusters=12, n_init=10, n_jobs=1, precompute_distances='auto',\n",
              "    random_state=None, tol=0.0001, verbose=0)"
            ]
          },
          "metadata": {}
        }
      ],
      "execution_count": 17,
      "metadata": {
        "collapsed": false,
        "outputHidden": false,
        "inputHidden": false
      }
    },
    {
      "cell_type": "code",
      "source": [
        "from sklearn.cluster import KMeans\n",
        "\n",
        "min_clusters = 1\n",
        "max_clusters = 20\n",
        "distortions = []\n",
        "for i in range(min_clusters, max_clusters+1):\n",
        "    km = KMeans(n_clusters=i,\n",
        "                init='k-means++',\n",
        "                n_init=10,\n",
        "                max_iter=300,\n",
        "                random_state=0)\n",
        "    km.fit(X)\n",
        "    distortions.append(km.inertia_)\n",
        "    \n",
        "# Plot\n",
        "plt.plot(range(min_clusters, max_clusters+1), distortions, marker='o')\n",
        "plt.xlabel(\"Number of clusters\")\n",
        "plt.ylabel(\"Distortion\")\n",
        "plt.show()"
      ],
      "outputs": [
        {
          "output_type": "display_data",
          "data": {
            "text/plain": [
              "<Figure size 432x288 with 1 Axes>"
            ],
            "image/png": "[encoded data removed]"
          },
          "metadata": {}
        }
      ],
      "execution_count": 20,
      "metadata": {
        "collapsed": false,
        "outputHidden": false,
        "inputHidden": false
      }
    },
    {
      "cell_type": "code",
      "source": [
        "wcss = []\n",
        "for k in range(2, 20):\n",
        "    k_means = KMeans(n_clusters=k)\n",
        "    k_means.fit(X)\n",
        "    wcss.append(k_means.inertia_)\n",
        "\n",
        "fig = plt.figure(figsize=(15, 5))\n",
        "plt.plot(range(2, 20), wcss)\n",
        "plt.grid(True)\n",
        "plt.title('Elbow curve')\n",
        "plt.show()"
      ],
      "outputs": [
        {
          "output_type": "display_data",
          "data": {
            "text/plain": [
              "<Figure size 1080x360 with 1 Axes>"
            ],
            "image/png": "[encoded data removed]"
          },
          "metadata": {}
        }
      ],
      "execution_count": 22,
      "metadata": {
        "collapsed": false,
        "outputHidden": false,
        "inputHidden": false
      }
    },
    {
      "cell_type": "code",
      "source": [
        "from scipy.cluster.vq import kmeans,vq\n",
        "# computing K-Means with K = 5 (5 clusters)\n",
        "centroids,_ = kmeans(cleaned_data,5)\n",
        "# assign each sample to a cluster\n",
        "idx,_ = vq(cleaned_data,centroids)\n",
        " \n",
        "data = cleaned_data"
      ],
      "outputs": [],
      "execution_count": 25,
      "metadata": {
        "collapsed": false,
        "outputHidden": false,
        "inputHidden": false
      }
    },
    {
      "cell_type": "code",
      "source": [
        "# Plot Scatter\n",
        "plt.scatter(X[idx==0,0],X[idx==0,1],s=100,c='red',label='Cluster1',alpha=0.65)\n",
        "plt.scatter(X[idx==1,0],X[idx==1,1],s=100,c='blue',label='Cluster2',alpha=0.65)\n",
        "plt.scatter(X[idx==2,0],X[idx==2,1],s=100,c='green',label='Cluster3',alpha=0.65)\n",
        "plt.scatter(X[idx==3,0],X[idx==3,1],s=100,c='cyan',label='Cluster4',alpha=0.65)\n",
        "plt.scatter(X[idx==4,0],X[idx==4,1],s=100,c='black',label='Cluster5',alpha=0.65)\n",
        "#plt.scatter(k_means.cluster_centers_[:,0],k_means.cluster_centers_[:,1],s=300,c='yellow')\n",
        "plt.scatter(centroids[:,0],centroids[:,1],s=200, c='yellow', alpha = 0.8)\n",
        "plt.legend()\n",
        "plt.show()"
      ],
      "outputs": [
        {
          "output_type": "display_data",
          "data": {
            "text/plain": [
              "<Figure size 432x288 with 1 Axes>"
            ],
            "image/png": "[encoded data removed]"
          },
          "metadata": {}
        }
      ],
      "execution_count": 26,
      "metadata": {
        "collapsed": false,
        "outputHidden": false,
        "inputHidden": false
      }
    },
    {
      "cell_type": "code",
      "source": [
        "details = [(name,cluster) for name, cluster in zip(returns.index,idx)]"
      ],
      "outputs": [],
      "execution_count": 27,
      "metadata": {
        "collapsed": false,
        "outputHidden": false,
        "inputHidden": false
      }
    },
    {
      "cell_type": "code",
      "source": [
        "labels =['Stock Symbol', 'Cluster']\n",
        "df = pd.DataFrame.from_records(details, columns=labels)\n",
        "df.head(n=10)"
      ],
      "outputs": [
        {
          "output_type": "execute_result",
          "execution_count": 28,
          "data": {
            "text/plain": [
              "  Stock Symbol  Cluster\n",
              "0            A        4\n",
              "1          AAL        3\n",
              "2          AAP        0\n",
              "3         AAPL        4\n",
              "4         ABBV        1\n",
              "5          ABC        3\n",
              "6         ABMD        1\n",
              "7          ABT        4\n",
              "8          ACN        4\n",
              "9         ADBE        1"
            ],
            "text/html": [
              "<div>\n",
              "<style scoped>\n",
              "    .dataframe tbody tr th:only-of-type {\n",
              "        vertical-align: middle;\n",
              "    }\n",
              "\n",
              "    .dataframe tbody tr th {\n",
              "        vertical-align: top;\n",
              "    }\n",
              "\n",
              "    .dataframe thead th {\n",
              "        text-align: right;\n",
              "    }\n",
              "</style>\n",
              "<table border=\"1\" class=\"dataframe\">\n",
              "  <thead>\n",
              "    <tr style=\"text-align: right;\">\n",
              "      <th></th>\n",
              "      <th>Stock Symbol</th>\n",
              "      <th>Cluster</th>\n",
              "    </tr>\n",
              "  </thead>\n",
              "  <tbody>\n",
              "    <tr>\n",
              "      <th>0</th>\n",
              "      <td>A</td>\n",
              "      <td>4</td>\n",
              "    </tr>\n",
              "    <tr>\n",
              "      <th>1</th>\n",
              "      <td>AAL</td>\n",
              "      <td>3</td>\n",
              "    </tr>\n",
              "    <tr>\n",
              "      <th>2</th>\n",
              "      <td>AAP</td>\n",
              "      <td>0</td>\n",
              "    </tr>\n",
              "    <tr>\n",
              "      <th>3</th>\n",
              "      <td>AAPL</td>\n",
              "      <td>4</td>\n",
              "    </tr>\n",
              "    <tr>\n",
              "      <th>4</th>\n",
              "      <td>ABBV</td>\n",
              "      <td>1</td>\n",
              "    </tr>\n",
              "    <tr>\n",
              "      <th>5</th>\n",
              "      <td>ABC</td>\n",
              "      <td>3</td>\n",
              "    </tr>\n",
              "    <tr>\n",
              "      <th>6</th>\n",
              "      <td>ABMD</td>\n",
              "      <td>1</td>\n",
              "    </tr>\n",
              "    <tr>\n",
              "      <th>7</th>\n",
              "      <td>ABT</td>\n",
              "      <td>4</td>\n",
              "    </tr>\n",
              "    <tr>\n",
              "      <th>8</th>\n",
              "      <td>ACN</td>\n",
              "      <td>4</td>\n",
              "    </tr>\n",
              "    <tr>\n",
              "      <th>9</th>\n",
              "      <td>ADBE</td>\n",
              "      <td>1</td>\n",
              "    </tr>\n",
              "  </tbody>\n",
              "</table>\n",
              "</div>"
            ]
          },
          "metadata": {}
        }
      ],
      "execution_count": 28,
      "metadata": {
        "collapsed": false,
        "outputHidden": false,
        "inputHidden": false
      }
    }
  ],
  "metadata": {
    "kernel_info": {
      "name": "python3"
    },
    "language_info": {
      "codemirror_mode": {
        "name": "ipython",
        "version": 3
      },
      "name": "python",
      "mimetype": "text/x-python",
      "nbconvert_exporter": "python",
      "file_extension": ".py",
      "version": "3.5.5",
      "pygments_lexer": "ipython3"
    },
    "kernelspec": {
      "name": "python3",
      "language": "python",
      "display_name": "Python 3"
    },
    "nteract": {
      "version": "0.11.9"
    }
  },
  "nbformat": 4,
  "nbformat_minor": 4
}